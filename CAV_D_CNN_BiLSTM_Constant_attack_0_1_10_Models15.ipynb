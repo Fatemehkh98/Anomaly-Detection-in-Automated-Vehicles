{
  "nbformat": 4,
  "nbformat_minor": 0,
  "metadata": {
    "colab": {
      "provenance": []
    },
    "kernelspec": {
      "name": "python3",
      "display_name": "Python 3"
    },
    "language_info": {
      "name": "python"
    },
    "accelerator": "GPU"
  },
  "cells": [
    {
      "cell_type": "code",
      "metadata": {
        "id": "LgYJJYwg3LAr"
      },
      "source": [
        "from google.colab import drive\n",
        "drive.mount('/content/drive')"
      ],
      "execution_count": null,
      "outputs": []
    },
    {
      "cell_type": "code",
      "metadata": {
        "id": "lVVmj0b1245Q",
        "colab": {
          "base_uri": "https://localhost:8080/"
        },
        "outputId": "163b276d-b2a2-4c2d-dff7-74c086a5628e"
      },
      "source": [
        "pip install h5py==2.10.0"
      ],
      "execution_count": null,
      "outputs": [
        {
          "output_type": "stream",
          "name": "stdout",
          "text": [
            "Looking in indexes: https://pypi.org/simple, https://us-python.pkg.dev/colab-wheels/public/simple/\n",
            "Collecting h5py==2.10.0\n",
            "  Downloading h5py-2.10.0-cp38-cp38-manylinux1_x86_64.whl (2.9 MB)\n",
            "\u001b[K     |████████████████████████████████| 2.9 MB 15.3 MB/s \n",
            "\u001b[?25hRequirement already satisfied: numpy>=1.7 in /usr/local/lib/python3.8/dist-packages (from h5py==2.10.0) (1.21.6)\n",
            "Requirement already satisfied: six in /usr/local/lib/python3.8/dist-packages (from h5py==2.10.0) (1.15.0)\n",
            "Installing collected packages: h5py\n",
            "  Attempting uninstall: h5py\n",
            "    Found existing installation: h5py 3.1.0\n",
            "    Uninstalling h5py-3.1.0:\n",
            "      Successfully uninstalled h5py-3.1.0\n",
            "Successfully installed h5py-2.10.0\n"
          ]
        }
      ]
    },
    {
      "cell_type": "code",
      "metadata": {
        "colab": {
          "base_uri": "https://localhost:8080/",
          "height": 35
        },
        "id": "iJ10IyJ53K1u",
        "outputId": "6f9b5e90-fef5-429d-cf28-588732ae2ce6"
      },
      "source": [
        "#%tensorflow_version 1.x\n",
        "import tensorflow as tf\n",
        "tf.__version__"
      ],
      "execution_count": null,
      "outputs": [
        {
          "output_type": "execute_result",
          "data": {
            "text/plain": [
              "'2.9.2'"
            ],
            "application/vnd.google.colaboratory.intrinsic+json": {
              "type": "string"
            }
          },
          "metadata": {},
          "execution_count": 3
        }
      ]
    },
    {
      "cell_type": "code",
      "source": [
        "import tensorflow as tf\n",
        "print(\"tensorflow version :{}\".format(tf.__version__))\n",
        "device_name = tf.test.gpu_device_name()\n",
        "if device_name != '/device:GPU:0':\n",
        "  raise SystemError('GPU device not found')\n",
        "print('Found GPU at: {}'.format(device_name))"
      ],
      "metadata": {
        "colab": {
          "base_uri": "https://localhost:8080/"
        },
        "id": "uM3Wl3wAl-c0",
        "outputId": "cc437990-fb90-4300-f091-ca717fca6854"
      },
      "execution_count": null,
      "outputs": [
        {
          "output_type": "stream",
          "name": "stdout",
          "text": [
            "tensorflow version :2.9.2\n",
            "Found GPU at: /device:GPU:0\n"
          ]
        }
      ]
    },
    {
      "cell_type": "code",
      "source": [
        "from tensorflow.python.client import device_lib\n",
        "device_lib.list_local_devices()"
      ],
      "metadata": {
        "colab": {
          "base_uri": "https://localhost:8080/"
        },
        "id": "hNAuPkUbmEW7",
        "outputId": "ff2f501a-96a6-48f8-d5b2-d165c66c0286"
      },
      "execution_count": null,
      "outputs": [
        {
          "output_type": "execute_result",
          "data": {
            "text/plain": [
              "[name: \"/device:CPU:0\"\n",
              " device_type: \"CPU\"\n",
              " memory_limit: 268435456\n",
              " locality {\n",
              " }\n",
              " incarnation: 3722547535937165625\n",
              " xla_global_id: -1, name: \"/device:GPU:0\"\n",
              " device_type: \"GPU\"\n",
              " memory_limit: 14415560704\n",
              " locality {\n",
              "   bus_id: 1\n",
              "   links {\n",
              "   }\n",
              " }\n",
              " incarnation: 13770333906835770107\n",
              " physical_device_desc: \"device: 0, name: Tesla T4, pci bus id: 0000:00:04.0, compute capability: 7.5\"\n",
              " xla_global_id: 416903419]"
            ]
          },
          "metadata": {},
          "execution_count": 5
        }
      ]
    },
    {
      "cell_type": "code",
      "metadata": {
        "id": "L26DBK1W3K27"
      },
      "source": [
        "import pandas as pd\n",
        "import numpy as np\n",
        "import matplotlib.pyplot as plt\n",
        "from sklearn.model_selection import train_test_split\n",
        "from sklearn.preprocessing import MinMaxScaler, StandardScaler\n",
        "from sklearn.utils import class_weight"
      ],
      "execution_count": null,
      "outputs": []
    },
    {
      "cell_type": "code",
      "metadata": {
        "id": "eQGDzSII3K7L"
      },
      "source": [
        "from keras.layers import Conv1D, Dense, Dropout, GlobalMaxPool1D\n",
        "from keras.layers import TimeDistributed, LSTM, Bidirectional\n",
        "from keras.models import Sequential, load_model\n",
        "from keras.callbacks import ModelCheckpoint, Callback, EarlyStopping\n",
        "from tensorflow.keras.utils import plot_model, to_categorical\n",
        "from keras.losses import binary_crossentropy\n",
        "from keras.optimizers import Adam\n",
        "from sklearn.metrics import recall_score, precision_score, f1_score, accuracy_score\n",
        "from sklearn.metrics import confusion_matrix\n",
        "from keras.regularizers import l2\n",
        "from tensorflow.keras.callbacks import LearningRateScheduler"
      ],
      "execution_count": null,
      "outputs": []
    },
    {
      "cell_type": "code",
      "metadata": {
        "id": "n_80JgqF3K8G"
      },
      "source": [
        "data_path = '/content/drive/MyDrive/CAV/data/Constant attack/0_1_dur_10/'"
      ],
      "execution_count": null,
      "outputs": []
    },
    {
      "cell_type": "code",
      "metadata": {
        "id": "p236ibA63LBj",
        "colab": {
          "base_uri": "https://localhost:8080/",
          "height": 206
        },
        "outputId": "abab3747-ea93-4ad0-fe16-239a9b0b4fee"
      },
      "source": [
        "sensor1_data = pd.read_csv(data_path + \"Sensor1_values_constant_0_1.csv\", index_col= 'Unnamed: 0')\n",
        "sensor1_data.head()"
      ],
      "execution_count": null,
      "outputs": [
        {
          "output_type": "execute_result",
          "data": {
            "text/plain": [
              "   InVehicle_Longitudinal_Speed  GPS_Speed  InVehicle_Longitudinal_Accel\n",
              "0                     11.375000  11.307097                     -0.103000\n",
              "1                     11.366708  11.255964                     -0.353946\n",
              "2                     11.362331  11.249115                     -0.090962\n",
              "3                     11.358665  11.263280                     -0.043470\n",
              "4                     11.356745  11.270361                     -0.037579"
            ],
            "text/html": [
              "\n",
              "  <div id=\"df-a175e8ed-2a18-4565-9b57-3584e12237d8\">\n",
              "    <div class=\"colab-df-container\">\n",
              "      <div>\n",
              "<style scoped>\n",
              "    .dataframe tbody tr th:only-of-type {\n",
              "        vertical-align: middle;\n",
              "    }\n",
              "\n",
              "    .dataframe tbody tr th {\n",
              "        vertical-align: top;\n",
              "    }\n",
              "\n",
              "    .dataframe thead th {\n",
              "        text-align: right;\n",
              "    }\n",
              "</style>\n",
              "<table border=\"1\" class=\"dataframe\">\n",
              "  <thead>\n",
              "    <tr style=\"text-align: right;\">\n",
              "      <th></th>\n",
              "      <th>InVehicle_Longitudinal_Speed</th>\n",
              "      <th>GPS_Speed</th>\n",
              "      <th>InVehicle_Longitudinal_Accel</th>\n",
              "    </tr>\n",
              "  </thead>\n",
              "  <tbody>\n",
              "    <tr>\n",
              "      <th>0</th>\n",
              "      <td>11.375000</td>\n",
              "      <td>11.307097</td>\n",
              "      <td>-0.103000</td>\n",
              "    </tr>\n",
              "    <tr>\n",
              "      <th>1</th>\n",
              "      <td>11.366708</td>\n",
              "      <td>11.255964</td>\n",
              "      <td>-0.353946</td>\n",
              "    </tr>\n",
              "    <tr>\n",
              "      <th>2</th>\n",
              "      <td>11.362331</td>\n",
              "      <td>11.249115</td>\n",
              "      <td>-0.090962</td>\n",
              "    </tr>\n",
              "    <tr>\n",
              "      <th>3</th>\n",
              "      <td>11.358665</td>\n",
              "      <td>11.263280</td>\n",
              "      <td>-0.043470</td>\n",
              "    </tr>\n",
              "    <tr>\n",
              "      <th>4</th>\n",
              "      <td>11.356745</td>\n",
              "      <td>11.270361</td>\n",
              "      <td>-0.037579</td>\n",
              "    </tr>\n",
              "  </tbody>\n",
              "</table>\n",
              "</div>\n",
              "      <button class=\"colab-df-convert\" onclick=\"convertToInteractive('df-a175e8ed-2a18-4565-9b57-3584e12237d8')\"\n",
              "              title=\"Convert this dataframe to an interactive table.\"\n",
              "              style=\"display:none;\">\n",
              "        \n",
              "  <svg xmlns=\"http://www.w3.org/2000/svg\" height=\"24px\"viewBox=\"0 0 24 24\"\n",
              "       width=\"24px\">\n",
              "    <path d=\"M0 0h24v24H0V0z\" fill=\"none\"/>\n",
              "    <path d=\"M18.56 5.44l.94 2.06.94-2.06 2.06-.94-2.06-.94-.94-2.06-.94 2.06-2.06.94zm-11 1L8.5 8.5l.94-2.06 2.06-.94-2.06-.94L8.5 2.5l-.94 2.06-2.06.94zm10 10l.94 2.06.94-2.06 2.06-.94-2.06-.94-.94-2.06-.94 2.06-2.06.94z\"/><path d=\"M17.41 7.96l-1.37-1.37c-.4-.4-.92-.59-1.43-.59-.52 0-1.04.2-1.43.59L10.3 9.45l-7.72 7.72c-.78.78-.78 2.05 0 2.83L4 21.41c.39.39.9.59 1.41.59.51 0 1.02-.2 1.41-.59l7.78-7.78 2.81-2.81c.8-.78.8-2.07 0-2.86zM5.41 20L4 18.59l7.72-7.72 1.47 1.35L5.41 20z\"/>\n",
              "  </svg>\n",
              "      </button>\n",
              "      \n",
              "  <style>\n",
              "    .colab-df-container {\n",
              "      display:flex;\n",
              "      flex-wrap:wrap;\n",
              "      gap: 12px;\n",
              "    }\n",
              "\n",
              "    .colab-df-convert {\n",
              "      background-color: #E8F0FE;\n",
              "      border: none;\n",
              "      border-radius: 50%;\n",
              "      cursor: pointer;\n",
              "      display: none;\n",
              "      fill: #1967D2;\n",
              "      height: 32px;\n",
              "      padding: 0 0 0 0;\n",
              "      width: 32px;\n",
              "    }\n",
              "\n",
              "    .colab-df-convert:hover {\n",
              "      background-color: #E2EBFA;\n",
              "      box-shadow: 0px 1px 2px rgba(60, 64, 67, 0.3), 0px 1px 3px 1px rgba(60, 64, 67, 0.15);\n",
              "      fill: #174EA6;\n",
              "    }\n",
              "\n",
              "    [theme=dark] .colab-df-convert {\n",
              "      background-color: #3B4455;\n",
              "      fill: #D2E3FC;\n",
              "    }\n",
              "\n",
              "    [theme=dark] .colab-df-convert:hover {\n",
              "      background-color: #434B5C;\n",
              "      box-shadow: 0px 1px 3px 1px rgba(0, 0, 0, 0.15);\n",
              "      filter: drop-shadow(0px 1px 2px rgba(0, 0, 0, 0.3));\n",
              "      fill: #FFFFFF;\n",
              "    }\n",
              "  </style>\n",
              "\n",
              "      <script>\n",
              "        const buttonEl =\n",
              "          document.querySelector('#df-a175e8ed-2a18-4565-9b57-3584e12237d8 button.colab-df-convert');\n",
              "        buttonEl.style.display =\n",
              "          google.colab.kernel.accessAllowed ? 'block' : 'none';\n",
              "\n",
              "        async function convertToInteractive(key) {\n",
              "          const element = document.querySelector('#df-a175e8ed-2a18-4565-9b57-3584e12237d8');\n",
              "          const dataTable =\n",
              "            await google.colab.kernel.invokeFunction('convertToInteractive',\n",
              "                                                     [key], {});\n",
              "          if (!dataTable) return;\n",
              "\n",
              "          const docLinkHtml = 'Like what you see? Visit the ' +\n",
              "            '<a target=\"_blank\" href=https://colab.research.google.com/notebooks/data_table.ipynb>data table notebook</a>'\n",
              "            + ' to learn more about interactive tables.';\n",
              "          element.innerHTML = '';\n",
              "          dataTable['output_type'] = 'display_data';\n",
              "          await google.colab.output.renderOutput(dataTable, element);\n",
              "          const docLink = document.createElement('div');\n",
              "          docLink.innerHTML = docLinkHtml;\n",
              "          element.appendChild(docLink);\n",
              "        }\n",
              "      </script>\n",
              "    </div>\n",
              "  </div>\n",
              "  "
            ]
          },
          "metadata": {},
          "execution_count": 9
        }
      ]
    },
    {
      "cell_type": "code",
      "metadata": {
        "id": "lg6ZxBOJ3LF_",
        "colab": {
          "base_uri": "https://localhost:8080/",
          "height": 206
        },
        "outputId": "dc361a6f-9309-46ae-82e7-3e15112912af"
      },
      "source": [
        "sensor1_label = pd.read_csv(data_path+\"Ground_truth_constant_0_1_dur_10_sensor1.csv\", names=['Class'])\n",
        "sensor1_label.head()"
      ],
      "execution_count": null,
      "outputs": [
        {
          "output_type": "execute_result",
          "data": {
            "text/plain": [
              "   Class\n",
              "0    0.0\n",
              "1    0.0\n",
              "2    0.0\n",
              "3    0.0\n",
              "4    0.0"
            ],
            "text/html": [
              "\n",
              "  <div id=\"df-9c5cb1cb-12db-493b-9798-9379a2789a39\">\n",
              "    <div class=\"colab-df-container\">\n",
              "      <div>\n",
              "<style scoped>\n",
              "    .dataframe tbody tr th:only-of-type {\n",
              "        vertical-align: middle;\n",
              "    }\n",
              "\n",
              "    .dataframe tbody tr th {\n",
              "        vertical-align: top;\n",
              "    }\n",
              "\n",
              "    .dataframe thead th {\n",
              "        text-align: right;\n",
              "    }\n",
              "</style>\n",
              "<table border=\"1\" class=\"dataframe\">\n",
              "  <thead>\n",
              "    <tr style=\"text-align: right;\">\n",
              "      <th></th>\n",
              "      <th>Class</th>\n",
              "    </tr>\n",
              "  </thead>\n",
              "  <tbody>\n",
              "    <tr>\n",
              "      <th>0</th>\n",
              "      <td>0.0</td>\n",
              "    </tr>\n",
              "    <tr>\n",
              "      <th>1</th>\n",
              "      <td>0.0</td>\n",
              "    </tr>\n",
              "    <tr>\n",
              "      <th>2</th>\n",
              "      <td>0.0</td>\n",
              "    </tr>\n",
              "    <tr>\n",
              "      <th>3</th>\n",
              "      <td>0.0</td>\n",
              "    </tr>\n",
              "    <tr>\n",
              "      <th>4</th>\n",
              "      <td>0.0</td>\n",
              "    </tr>\n",
              "  </tbody>\n",
              "</table>\n",
              "</div>\n",
              "      <button class=\"colab-df-convert\" onclick=\"convertToInteractive('df-9c5cb1cb-12db-493b-9798-9379a2789a39')\"\n",
              "              title=\"Convert this dataframe to an interactive table.\"\n",
              "              style=\"display:none;\">\n",
              "        \n",
              "  <svg xmlns=\"http://www.w3.org/2000/svg\" height=\"24px\"viewBox=\"0 0 24 24\"\n",
              "       width=\"24px\">\n",
              "    <path d=\"M0 0h24v24H0V0z\" fill=\"none\"/>\n",
              "    <path d=\"M18.56 5.44l.94 2.06.94-2.06 2.06-.94-2.06-.94-.94-2.06-.94 2.06-2.06.94zm-11 1L8.5 8.5l.94-2.06 2.06-.94-2.06-.94L8.5 2.5l-.94 2.06-2.06.94zm10 10l.94 2.06.94-2.06 2.06-.94-2.06-.94-.94-2.06-.94 2.06-2.06.94z\"/><path d=\"M17.41 7.96l-1.37-1.37c-.4-.4-.92-.59-1.43-.59-.52 0-1.04.2-1.43.59L10.3 9.45l-7.72 7.72c-.78.78-.78 2.05 0 2.83L4 21.41c.39.39.9.59 1.41.59.51 0 1.02-.2 1.41-.59l7.78-7.78 2.81-2.81c.8-.78.8-2.07 0-2.86zM5.41 20L4 18.59l7.72-7.72 1.47 1.35L5.41 20z\"/>\n",
              "  </svg>\n",
              "      </button>\n",
              "      \n",
              "  <style>\n",
              "    .colab-df-container {\n",
              "      display:flex;\n",
              "      flex-wrap:wrap;\n",
              "      gap: 12px;\n",
              "    }\n",
              "\n",
              "    .colab-df-convert {\n",
              "      background-color: #E8F0FE;\n",
              "      border: none;\n",
              "      border-radius: 50%;\n",
              "      cursor: pointer;\n",
              "      display: none;\n",
              "      fill: #1967D2;\n",
              "      height: 32px;\n",
              "      padding: 0 0 0 0;\n",
              "      width: 32px;\n",
              "    }\n",
              "\n",
              "    .colab-df-convert:hover {\n",
              "      background-color: #E2EBFA;\n",
              "      box-shadow: 0px 1px 2px rgba(60, 64, 67, 0.3), 0px 1px 3px 1px rgba(60, 64, 67, 0.15);\n",
              "      fill: #174EA6;\n",
              "    }\n",
              "\n",
              "    [theme=dark] .colab-df-convert {\n",
              "      background-color: #3B4455;\n",
              "      fill: #D2E3FC;\n",
              "    }\n",
              "\n",
              "    [theme=dark] .colab-df-convert:hover {\n",
              "      background-color: #434B5C;\n",
              "      box-shadow: 0px 1px 3px 1px rgba(0, 0, 0, 0.15);\n",
              "      filter: drop-shadow(0px 1px 2px rgba(0, 0, 0, 0.3));\n",
              "      fill: #FFFFFF;\n",
              "    }\n",
              "  </style>\n",
              "\n",
              "      <script>\n",
              "        const buttonEl =\n",
              "          document.querySelector('#df-9c5cb1cb-12db-493b-9798-9379a2789a39 button.colab-df-convert');\n",
              "        buttonEl.style.display =\n",
              "          google.colab.kernel.accessAllowed ? 'block' : 'none';\n",
              "\n",
              "        async function convertToInteractive(key) {\n",
              "          const element = document.querySelector('#df-9c5cb1cb-12db-493b-9798-9379a2789a39');\n",
              "          const dataTable =\n",
              "            await google.colab.kernel.invokeFunction('convertToInteractive',\n",
              "                                                     [key], {});\n",
              "          if (!dataTable) return;\n",
              "\n",
              "          const docLinkHtml = 'Like what you see? Visit the ' +\n",
              "            '<a target=\"_blank\" href=https://colab.research.google.com/notebooks/data_table.ipynb>data table notebook</a>'\n",
              "            + ' to learn more about interactive tables.';\n",
              "          element.innerHTML = '';\n",
              "          dataTable['output_type'] = 'display_data';\n",
              "          await google.colab.output.renderOutput(dataTable, element);\n",
              "          const docLink = document.createElement('div');\n",
              "          docLink.innerHTML = docLinkHtml;\n",
              "          element.appendChild(docLink);\n",
              "        }\n",
              "      </script>\n",
              "    </div>\n",
              "  </div>\n",
              "  "
            ]
          },
          "metadata": {},
          "execution_count": 10
        }
      ]
    },
    {
      "cell_type": "code",
      "metadata": {
        "id": "XjE_KFRH3LGy",
        "colab": {
          "base_uri": "https://localhost:8080/",
          "height": 206
        },
        "outputId": "bd98f55f-8add-400c-f253-d6956a81a4f1"
      },
      "source": [
        "sensor2_data = pd.read_csv(data_path + \"Sensor2_values_constant_0_1.csv\", index_col = \"Unnamed: 0\")\n",
        "sensor2_data.head()"
      ],
      "execution_count": null,
      "outputs": [
        {
          "output_type": "execute_result",
          "data": {
            "text/plain": [
              "   InVehicle_Longitudinal_Speed  GPS_Speed  InVehicle_Longitudinal_Accel\n",
              "0                     11.375000  11.307097                     -0.103000\n",
              "1                     11.366708  11.255964                     -0.353946\n",
              "2                     11.362331  11.249115                     -0.090962\n",
              "3                     11.358665  11.263280                     -0.043470\n",
              "4                     11.356745  11.270361                     -0.037579"
            ],
            "text/html": [
              "\n",
              "  <div id=\"df-802beb29-5ce8-4636-bafa-bddcab2ea7ca\">\n",
              "    <div class=\"colab-df-container\">\n",
              "      <div>\n",
              "<style scoped>\n",
              "    .dataframe tbody tr th:only-of-type {\n",
              "        vertical-align: middle;\n",
              "    }\n",
              "\n",
              "    .dataframe tbody tr th {\n",
              "        vertical-align: top;\n",
              "    }\n",
              "\n",
              "    .dataframe thead th {\n",
              "        text-align: right;\n",
              "    }\n",
              "</style>\n",
              "<table border=\"1\" class=\"dataframe\">\n",
              "  <thead>\n",
              "    <tr style=\"text-align: right;\">\n",
              "      <th></th>\n",
              "      <th>InVehicle_Longitudinal_Speed</th>\n",
              "      <th>GPS_Speed</th>\n",
              "      <th>InVehicle_Longitudinal_Accel</th>\n",
              "    </tr>\n",
              "  </thead>\n",
              "  <tbody>\n",
              "    <tr>\n",
              "      <th>0</th>\n",
              "      <td>11.375000</td>\n",
              "      <td>11.307097</td>\n",
              "      <td>-0.103000</td>\n",
              "    </tr>\n",
              "    <tr>\n",
              "      <th>1</th>\n",
              "      <td>11.366708</td>\n",
              "      <td>11.255964</td>\n",
              "      <td>-0.353946</td>\n",
              "    </tr>\n",
              "    <tr>\n",
              "      <th>2</th>\n",
              "      <td>11.362331</td>\n",
              "      <td>11.249115</td>\n",
              "      <td>-0.090962</td>\n",
              "    </tr>\n",
              "    <tr>\n",
              "      <th>3</th>\n",
              "      <td>11.358665</td>\n",
              "      <td>11.263280</td>\n",
              "      <td>-0.043470</td>\n",
              "    </tr>\n",
              "    <tr>\n",
              "      <th>4</th>\n",
              "      <td>11.356745</td>\n",
              "      <td>11.270361</td>\n",
              "      <td>-0.037579</td>\n",
              "    </tr>\n",
              "  </tbody>\n",
              "</table>\n",
              "</div>\n",
              "      <button class=\"colab-df-convert\" onclick=\"convertToInteractive('df-802beb29-5ce8-4636-bafa-bddcab2ea7ca')\"\n",
              "              title=\"Convert this dataframe to an interactive table.\"\n",
              "              style=\"display:none;\">\n",
              "        \n",
              "  <svg xmlns=\"http://www.w3.org/2000/svg\" height=\"24px\"viewBox=\"0 0 24 24\"\n",
              "       width=\"24px\">\n",
              "    <path d=\"M0 0h24v24H0V0z\" fill=\"none\"/>\n",
              "    <path d=\"M18.56 5.44l.94 2.06.94-2.06 2.06-.94-2.06-.94-.94-2.06-.94 2.06-2.06.94zm-11 1L8.5 8.5l.94-2.06 2.06-.94-2.06-.94L8.5 2.5l-.94 2.06-2.06.94zm10 10l.94 2.06.94-2.06 2.06-.94-2.06-.94-.94-2.06-.94 2.06-2.06.94z\"/><path d=\"M17.41 7.96l-1.37-1.37c-.4-.4-.92-.59-1.43-.59-.52 0-1.04.2-1.43.59L10.3 9.45l-7.72 7.72c-.78.78-.78 2.05 0 2.83L4 21.41c.39.39.9.59 1.41.59.51 0 1.02-.2 1.41-.59l7.78-7.78 2.81-2.81c.8-.78.8-2.07 0-2.86zM5.41 20L4 18.59l7.72-7.72 1.47 1.35L5.41 20z\"/>\n",
              "  </svg>\n",
              "      </button>\n",
              "      \n",
              "  <style>\n",
              "    .colab-df-container {\n",
              "      display:flex;\n",
              "      flex-wrap:wrap;\n",
              "      gap: 12px;\n",
              "    }\n",
              "\n",
              "    .colab-df-convert {\n",
              "      background-color: #E8F0FE;\n",
              "      border: none;\n",
              "      border-radius: 50%;\n",
              "      cursor: pointer;\n",
              "      display: none;\n",
              "      fill: #1967D2;\n",
              "      height: 32px;\n",
              "      padding: 0 0 0 0;\n",
              "      width: 32px;\n",
              "    }\n",
              "\n",
              "    .colab-df-convert:hover {\n",
              "      background-color: #E2EBFA;\n",
              "      box-shadow: 0px 1px 2px rgba(60, 64, 67, 0.3), 0px 1px 3px 1px rgba(60, 64, 67, 0.15);\n",
              "      fill: #174EA6;\n",
              "    }\n",
              "\n",
              "    [theme=dark] .colab-df-convert {\n",
              "      background-color: #3B4455;\n",
              "      fill: #D2E3FC;\n",
              "    }\n",
              "\n",
              "    [theme=dark] .colab-df-convert:hover {\n",
              "      background-color: #434B5C;\n",
              "      box-shadow: 0px 1px 3px 1px rgba(0, 0, 0, 0.15);\n",
              "      filter: drop-shadow(0px 1px 2px rgba(0, 0, 0, 0.3));\n",
              "      fill: #FFFFFF;\n",
              "    }\n",
              "  </style>\n",
              "\n",
              "      <script>\n",
              "        const buttonEl =\n",
              "          document.querySelector('#df-802beb29-5ce8-4636-bafa-bddcab2ea7ca button.colab-df-convert');\n",
              "        buttonEl.style.display =\n",
              "          google.colab.kernel.accessAllowed ? 'block' : 'none';\n",
              "\n",
              "        async function convertToInteractive(key) {\n",
              "          const element = document.querySelector('#df-802beb29-5ce8-4636-bafa-bddcab2ea7ca');\n",
              "          const dataTable =\n",
              "            await google.colab.kernel.invokeFunction('convertToInteractive',\n",
              "                                                     [key], {});\n",
              "          if (!dataTable) return;\n",
              "\n",
              "          const docLinkHtml = 'Like what you see? Visit the ' +\n",
              "            '<a target=\"_blank\" href=https://colab.research.google.com/notebooks/data_table.ipynb>data table notebook</a>'\n",
              "            + ' to learn more about interactive tables.';\n",
              "          element.innerHTML = '';\n",
              "          dataTable['output_type'] = 'display_data';\n",
              "          await google.colab.output.renderOutput(dataTable, element);\n",
              "          const docLink = document.createElement('div');\n",
              "          docLink.innerHTML = docLinkHtml;\n",
              "          element.appendChild(docLink);\n",
              "        }\n",
              "      </script>\n",
              "    </div>\n",
              "  </div>\n",
              "  "
            ]
          },
          "metadata": {},
          "execution_count": 11
        }
      ]
    },
    {
      "cell_type": "code",
      "metadata": {
        "id": "LgecLBmR3LMS",
        "colab": {
          "base_uri": "https://localhost:8080/",
          "height": 206
        },
        "outputId": "ecda19dc-4af2-44d9-c586-14e46b0aa3f7"
      },
      "source": [
        "sensor2_label = pd.read_csv(data_path + \"Ground_truth_constant_0_1_dur_10_sensor2.csv\",names=['Class'])\n",
        "sensor2_label.head()"
      ],
      "execution_count": null,
      "outputs": [
        {
          "output_type": "execute_result",
          "data": {
            "text/plain": [
              "   Class\n",
              "0    0.0\n",
              "1    0.0\n",
              "2    0.0\n",
              "3    0.0\n",
              "4    0.0"
            ],
            "text/html": [
              "\n",
              "  <div id=\"df-9ef942e3-714a-43af-93d1-e2c542088506\">\n",
              "    <div class=\"colab-df-container\">\n",
              "      <div>\n",
              "<style scoped>\n",
              "    .dataframe tbody tr th:only-of-type {\n",
              "        vertical-align: middle;\n",
              "    }\n",
              "\n",
              "    .dataframe tbody tr th {\n",
              "        vertical-align: top;\n",
              "    }\n",
              "\n",
              "    .dataframe thead th {\n",
              "        text-align: right;\n",
              "    }\n",
              "</style>\n",
              "<table border=\"1\" class=\"dataframe\">\n",
              "  <thead>\n",
              "    <tr style=\"text-align: right;\">\n",
              "      <th></th>\n",
              "      <th>Class</th>\n",
              "    </tr>\n",
              "  </thead>\n",
              "  <tbody>\n",
              "    <tr>\n",
              "      <th>0</th>\n",
              "      <td>0.0</td>\n",
              "    </tr>\n",
              "    <tr>\n",
              "      <th>1</th>\n",
              "      <td>0.0</td>\n",
              "    </tr>\n",
              "    <tr>\n",
              "      <th>2</th>\n",
              "      <td>0.0</td>\n",
              "    </tr>\n",
              "    <tr>\n",
              "      <th>3</th>\n",
              "      <td>0.0</td>\n",
              "    </tr>\n",
              "    <tr>\n",
              "      <th>4</th>\n",
              "      <td>0.0</td>\n",
              "    </tr>\n",
              "  </tbody>\n",
              "</table>\n",
              "</div>\n",
              "      <button class=\"colab-df-convert\" onclick=\"convertToInteractive('df-9ef942e3-714a-43af-93d1-e2c542088506')\"\n",
              "              title=\"Convert this dataframe to an interactive table.\"\n",
              "              style=\"display:none;\">\n",
              "        \n",
              "  <svg xmlns=\"http://www.w3.org/2000/svg\" height=\"24px\"viewBox=\"0 0 24 24\"\n",
              "       width=\"24px\">\n",
              "    <path d=\"M0 0h24v24H0V0z\" fill=\"none\"/>\n",
              "    <path d=\"M18.56 5.44l.94 2.06.94-2.06 2.06-.94-2.06-.94-.94-2.06-.94 2.06-2.06.94zm-11 1L8.5 8.5l.94-2.06 2.06-.94-2.06-.94L8.5 2.5l-.94 2.06-2.06.94zm10 10l.94 2.06.94-2.06 2.06-.94-2.06-.94-.94-2.06-.94 2.06-2.06.94z\"/><path d=\"M17.41 7.96l-1.37-1.37c-.4-.4-.92-.59-1.43-.59-.52 0-1.04.2-1.43.59L10.3 9.45l-7.72 7.72c-.78.78-.78 2.05 0 2.83L4 21.41c.39.39.9.59 1.41.59.51 0 1.02-.2 1.41-.59l7.78-7.78 2.81-2.81c.8-.78.8-2.07 0-2.86zM5.41 20L4 18.59l7.72-7.72 1.47 1.35L5.41 20z\"/>\n",
              "  </svg>\n",
              "      </button>\n",
              "      \n",
              "  <style>\n",
              "    .colab-df-container {\n",
              "      display:flex;\n",
              "      flex-wrap:wrap;\n",
              "      gap: 12px;\n",
              "    }\n",
              "\n",
              "    .colab-df-convert {\n",
              "      background-color: #E8F0FE;\n",
              "      border: none;\n",
              "      border-radius: 50%;\n",
              "      cursor: pointer;\n",
              "      display: none;\n",
              "      fill: #1967D2;\n",
              "      height: 32px;\n",
              "      padding: 0 0 0 0;\n",
              "      width: 32px;\n",
              "    }\n",
              "\n",
              "    .colab-df-convert:hover {\n",
              "      background-color: #E2EBFA;\n",
              "      box-shadow: 0px 1px 2px rgba(60, 64, 67, 0.3), 0px 1px 3px 1px rgba(60, 64, 67, 0.15);\n",
              "      fill: #174EA6;\n",
              "    }\n",
              "\n",
              "    [theme=dark] .colab-df-convert {\n",
              "      background-color: #3B4455;\n",
              "      fill: #D2E3FC;\n",
              "    }\n",
              "\n",
              "    [theme=dark] .colab-df-convert:hover {\n",
              "      background-color: #434B5C;\n",
              "      box-shadow: 0px 1px 3px 1px rgba(0, 0, 0, 0.15);\n",
              "      filter: drop-shadow(0px 1px 2px rgba(0, 0, 0, 0.3));\n",
              "      fill: #FFFFFF;\n",
              "    }\n",
              "  </style>\n",
              "\n",
              "      <script>\n",
              "        const buttonEl =\n",
              "          document.querySelector('#df-9ef942e3-714a-43af-93d1-e2c542088506 button.colab-df-convert');\n",
              "        buttonEl.style.display =\n",
              "          google.colab.kernel.accessAllowed ? 'block' : 'none';\n",
              "\n",
              "        async function convertToInteractive(key) {\n",
              "          const element = document.querySelector('#df-9ef942e3-714a-43af-93d1-e2c542088506');\n",
              "          const dataTable =\n",
              "            await google.colab.kernel.invokeFunction('convertToInteractive',\n",
              "                                                     [key], {});\n",
              "          if (!dataTable) return;\n",
              "\n",
              "          const docLinkHtml = 'Like what you see? Visit the ' +\n",
              "            '<a target=\"_blank\" href=https://colab.research.google.com/notebooks/data_table.ipynb>data table notebook</a>'\n",
              "            + ' to learn more about interactive tables.';\n",
              "          element.innerHTML = '';\n",
              "          dataTable['output_type'] = 'display_data';\n",
              "          await google.colab.output.renderOutput(dataTable, element);\n",
              "          const docLink = document.createElement('div');\n",
              "          docLink.innerHTML = docLinkHtml;\n",
              "          element.appendChild(docLink);\n",
              "        }\n",
              "      </script>\n",
              "    </div>\n",
              "  </div>\n",
              "  "
            ]
          },
          "metadata": {},
          "execution_count": 12
        }
      ]
    },
    {
      "cell_type": "code",
      "metadata": {
        "id": "28sk1No63LNO",
        "colab": {
          "base_uri": "https://localhost:8080/",
          "height": 206
        },
        "outputId": "73edbe13-b7eb-4b9e-eb41-15f88d7d64cd"
      },
      "source": [
        "sensor3_data = pd.read_csv(data_path + \"Sensor3_values_constant_0_1.csv\", index_col = \"Unnamed: 0\")\n",
        "sensor3_data.head()"
      ],
      "execution_count": null,
      "outputs": [
        {
          "output_type": "execute_result",
          "data": {
            "text/plain": [
              "   InVehicle_Longitudinal_Speed  GPS_Speed  InVehicle_Longitudinal_Accel\n",
              "0                     11.375000  11.307097                     -0.103000\n",
              "1                     11.366708  11.255964                     -0.353946\n",
              "2                     11.362331  11.249115                     -0.090962\n",
              "3                     11.358665  11.263280                     -0.043470\n",
              "4                     11.356745  11.270361                     -0.037579"
            ],
            "text/html": [
              "\n",
              "  <div id=\"df-4f11edc3-d8a6-4cca-a46c-573669566536\">\n",
              "    <div class=\"colab-df-container\">\n",
              "      <div>\n",
              "<style scoped>\n",
              "    .dataframe tbody tr th:only-of-type {\n",
              "        vertical-align: middle;\n",
              "    }\n",
              "\n",
              "    .dataframe tbody tr th {\n",
              "        vertical-align: top;\n",
              "    }\n",
              "\n",
              "    .dataframe thead th {\n",
              "        text-align: right;\n",
              "    }\n",
              "</style>\n",
              "<table border=\"1\" class=\"dataframe\">\n",
              "  <thead>\n",
              "    <tr style=\"text-align: right;\">\n",
              "      <th></th>\n",
              "      <th>InVehicle_Longitudinal_Speed</th>\n",
              "      <th>GPS_Speed</th>\n",
              "      <th>InVehicle_Longitudinal_Accel</th>\n",
              "    </tr>\n",
              "  </thead>\n",
              "  <tbody>\n",
              "    <tr>\n",
              "      <th>0</th>\n",
              "      <td>11.375000</td>\n",
              "      <td>11.307097</td>\n",
              "      <td>-0.103000</td>\n",
              "    </tr>\n",
              "    <tr>\n",
              "      <th>1</th>\n",
              "      <td>11.366708</td>\n",
              "      <td>11.255964</td>\n",
              "      <td>-0.353946</td>\n",
              "    </tr>\n",
              "    <tr>\n",
              "      <th>2</th>\n",
              "      <td>11.362331</td>\n",
              "      <td>11.249115</td>\n",
              "      <td>-0.090962</td>\n",
              "    </tr>\n",
              "    <tr>\n",
              "      <th>3</th>\n",
              "      <td>11.358665</td>\n",
              "      <td>11.263280</td>\n",
              "      <td>-0.043470</td>\n",
              "    </tr>\n",
              "    <tr>\n",
              "      <th>4</th>\n",
              "      <td>11.356745</td>\n",
              "      <td>11.270361</td>\n",
              "      <td>-0.037579</td>\n",
              "    </tr>\n",
              "  </tbody>\n",
              "</table>\n",
              "</div>\n",
              "      <button class=\"colab-df-convert\" onclick=\"convertToInteractive('df-4f11edc3-d8a6-4cca-a46c-573669566536')\"\n",
              "              title=\"Convert this dataframe to an interactive table.\"\n",
              "              style=\"display:none;\">\n",
              "        \n",
              "  <svg xmlns=\"http://www.w3.org/2000/svg\" height=\"24px\"viewBox=\"0 0 24 24\"\n",
              "       width=\"24px\">\n",
              "    <path d=\"M0 0h24v24H0V0z\" fill=\"none\"/>\n",
              "    <path d=\"M18.56 5.44l.94 2.06.94-2.06 2.06-.94-2.06-.94-.94-2.06-.94 2.06-2.06.94zm-11 1L8.5 8.5l.94-2.06 2.06-.94-2.06-.94L8.5 2.5l-.94 2.06-2.06.94zm10 10l.94 2.06.94-2.06 2.06-.94-2.06-.94-.94-2.06-.94 2.06-2.06.94z\"/><path d=\"M17.41 7.96l-1.37-1.37c-.4-.4-.92-.59-1.43-.59-.52 0-1.04.2-1.43.59L10.3 9.45l-7.72 7.72c-.78.78-.78 2.05 0 2.83L4 21.41c.39.39.9.59 1.41.59.51 0 1.02-.2 1.41-.59l7.78-7.78 2.81-2.81c.8-.78.8-2.07 0-2.86zM5.41 20L4 18.59l7.72-7.72 1.47 1.35L5.41 20z\"/>\n",
              "  </svg>\n",
              "      </button>\n",
              "      \n",
              "  <style>\n",
              "    .colab-df-container {\n",
              "      display:flex;\n",
              "      flex-wrap:wrap;\n",
              "      gap: 12px;\n",
              "    }\n",
              "\n",
              "    .colab-df-convert {\n",
              "      background-color: #E8F0FE;\n",
              "      border: none;\n",
              "      border-radius: 50%;\n",
              "      cursor: pointer;\n",
              "      display: none;\n",
              "      fill: #1967D2;\n",
              "      height: 32px;\n",
              "      padding: 0 0 0 0;\n",
              "      width: 32px;\n",
              "    }\n",
              "\n",
              "    .colab-df-convert:hover {\n",
              "      background-color: #E2EBFA;\n",
              "      box-shadow: 0px 1px 2px rgba(60, 64, 67, 0.3), 0px 1px 3px 1px rgba(60, 64, 67, 0.15);\n",
              "      fill: #174EA6;\n",
              "    }\n",
              "\n",
              "    [theme=dark] .colab-df-convert {\n",
              "      background-color: #3B4455;\n",
              "      fill: #D2E3FC;\n",
              "    }\n",
              "\n",
              "    [theme=dark] .colab-df-convert:hover {\n",
              "      background-color: #434B5C;\n",
              "      box-shadow: 0px 1px 3px 1px rgba(0, 0, 0, 0.15);\n",
              "      filter: drop-shadow(0px 1px 2px rgba(0, 0, 0, 0.3));\n",
              "      fill: #FFFFFF;\n",
              "    }\n",
              "  </style>\n",
              "\n",
              "      <script>\n",
              "        const buttonEl =\n",
              "          document.querySelector('#df-4f11edc3-d8a6-4cca-a46c-573669566536 button.colab-df-convert');\n",
              "        buttonEl.style.display =\n",
              "          google.colab.kernel.accessAllowed ? 'block' : 'none';\n",
              "\n",
              "        async function convertToInteractive(key) {\n",
              "          const element = document.querySelector('#df-4f11edc3-d8a6-4cca-a46c-573669566536');\n",
              "          const dataTable =\n",
              "            await google.colab.kernel.invokeFunction('convertToInteractive',\n",
              "                                                     [key], {});\n",
              "          if (!dataTable) return;\n",
              "\n",
              "          const docLinkHtml = 'Like what you see? Visit the ' +\n",
              "            '<a target=\"_blank\" href=https://colab.research.google.com/notebooks/data_table.ipynb>data table notebook</a>'\n",
              "            + ' to learn more about interactive tables.';\n",
              "          element.innerHTML = '';\n",
              "          dataTable['output_type'] = 'display_data';\n",
              "          await google.colab.output.renderOutput(dataTable, element);\n",
              "          const docLink = document.createElement('div');\n",
              "          docLink.innerHTML = docLinkHtml;\n",
              "          element.appendChild(docLink);\n",
              "        }\n",
              "      </script>\n",
              "    </div>\n",
              "  </div>\n",
              "  "
            ]
          },
          "metadata": {},
          "execution_count": 13
        }
      ]
    },
    {
      "cell_type": "code",
      "metadata": {
        "id": "7JA__lkd3LUj",
        "colab": {
          "base_uri": "https://localhost:8080/",
          "height": 206
        },
        "outputId": "172882a4-fddb-4737-f214-02cb09e6fef6"
      },
      "source": [
        "sensor3_label = pd.read_csv(data_path + \"Ground_truth_constant_0_1_dur_10_sensor3.csv\", names=['Class'])\n",
        "sensor3_label.head()"
      ],
      "execution_count": null,
      "outputs": [
        {
          "output_type": "execute_result",
          "data": {
            "text/plain": [
              "   Class\n",
              "0    0.0\n",
              "1    0.0\n",
              "2    0.0\n",
              "3    0.0\n",
              "4    0.0"
            ],
            "text/html": [
              "\n",
              "  <div id=\"df-355d950a-030f-4b3f-b0be-12ba72ef1429\">\n",
              "    <div class=\"colab-df-container\">\n",
              "      <div>\n",
              "<style scoped>\n",
              "    .dataframe tbody tr th:only-of-type {\n",
              "        vertical-align: middle;\n",
              "    }\n",
              "\n",
              "    .dataframe tbody tr th {\n",
              "        vertical-align: top;\n",
              "    }\n",
              "\n",
              "    .dataframe thead th {\n",
              "        text-align: right;\n",
              "    }\n",
              "</style>\n",
              "<table border=\"1\" class=\"dataframe\">\n",
              "  <thead>\n",
              "    <tr style=\"text-align: right;\">\n",
              "      <th></th>\n",
              "      <th>Class</th>\n",
              "    </tr>\n",
              "  </thead>\n",
              "  <tbody>\n",
              "    <tr>\n",
              "      <th>0</th>\n",
              "      <td>0.0</td>\n",
              "    </tr>\n",
              "    <tr>\n",
              "      <th>1</th>\n",
              "      <td>0.0</td>\n",
              "    </tr>\n",
              "    <tr>\n",
              "      <th>2</th>\n",
              "      <td>0.0</td>\n",
              "    </tr>\n",
              "    <tr>\n",
              "      <th>3</th>\n",
              "      <td>0.0</td>\n",
              "    </tr>\n",
              "    <tr>\n",
              "      <th>4</th>\n",
              "      <td>0.0</td>\n",
              "    </tr>\n",
              "  </tbody>\n",
              "</table>\n",
              "</div>\n",
              "      <button class=\"colab-df-convert\" onclick=\"convertToInteractive('df-355d950a-030f-4b3f-b0be-12ba72ef1429')\"\n",
              "              title=\"Convert this dataframe to an interactive table.\"\n",
              "              style=\"display:none;\">\n",
              "        \n",
              "  <svg xmlns=\"http://www.w3.org/2000/svg\" height=\"24px\"viewBox=\"0 0 24 24\"\n",
              "       width=\"24px\">\n",
              "    <path d=\"M0 0h24v24H0V0z\" fill=\"none\"/>\n",
              "    <path d=\"M18.56 5.44l.94 2.06.94-2.06 2.06-.94-2.06-.94-.94-2.06-.94 2.06-2.06.94zm-11 1L8.5 8.5l.94-2.06 2.06-.94-2.06-.94L8.5 2.5l-.94 2.06-2.06.94zm10 10l.94 2.06.94-2.06 2.06-.94-2.06-.94-.94-2.06-.94 2.06-2.06.94z\"/><path d=\"M17.41 7.96l-1.37-1.37c-.4-.4-.92-.59-1.43-.59-.52 0-1.04.2-1.43.59L10.3 9.45l-7.72 7.72c-.78.78-.78 2.05 0 2.83L4 21.41c.39.39.9.59 1.41.59.51 0 1.02-.2 1.41-.59l7.78-7.78 2.81-2.81c.8-.78.8-2.07 0-2.86zM5.41 20L4 18.59l7.72-7.72 1.47 1.35L5.41 20z\"/>\n",
              "  </svg>\n",
              "      </button>\n",
              "      \n",
              "  <style>\n",
              "    .colab-df-container {\n",
              "      display:flex;\n",
              "      flex-wrap:wrap;\n",
              "      gap: 12px;\n",
              "    }\n",
              "\n",
              "    .colab-df-convert {\n",
              "      background-color: #E8F0FE;\n",
              "      border: none;\n",
              "      border-radius: 50%;\n",
              "      cursor: pointer;\n",
              "      display: none;\n",
              "      fill: #1967D2;\n",
              "      height: 32px;\n",
              "      padding: 0 0 0 0;\n",
              "      width: 32px;\n",
              "    }\n",
              "\n",
              "    .colab-df-convert:hover {\n",
              "      background-color: #E2EBFA;\n",
              "      box-shadow: 0px 1px 2px rgba(60, 64, 67, 0.3), 0px 1px 3px 1px rgba(60, 64, 67, 0.15);\n",
              "      fill: #174EA6;\n",
              "    }\n",
              "\n",
              "    [theme=dark] .colab-df-convert {\n",
              "      background-color: #3B4455;\n",
              "      fill: #D2E3FC;\n",
              "    }\n",
              "\n",
              "    [theme=dark] .colab-df-convert:hover {\n",
              "      background-color: #434B5C;\n",
              "      box-shadow: 0px 1px 3px 1px rgba(0, 0, 0, 0.15);\n",
              "      filter: drop-shadow(0px 1px 2px rgba(0, 0, 0, 0.3));\n",
              "      fill: #FFFFFF;\n",
              "    }\n",
              "  </style>\n",
              "\n",
              "      <script>\n",
              "        const buttonEl =\n",
              "          document.querySelector('#df-355d950a-030f-4b3f-b0be-12ba72ef1429 button.colab-df-convert');\n",
              "        buttonEl.style.display =\n",
              "          google.colab.kernel.accessAllowed ? 'block' : 'none';\n",
              "\n",
              "        async function convertToInteractive(key) {\n",
              "          const element = document.querySelector('#df-355d950a-030f-4b3f-b0be-12ba72ef1429');\n",
              "          const dataTable =\n",
              "            await google.colab.kernel.invokeFunction('convertToInteractive',\n",
              "                                                     [key], {});\n",
              "          if (!dataTable) return;\n",
              "\n",
              "          const docLinkHtml = 'Like what you see? Visit the ' +\n",
              "            '<a target=\"_blank\" href=https://colab.research.google.com/notebooks/data_table.ipynb>data table notebook</a>'\n",
              "            + ' to learn more about interactive tables.';\n",
              "          element.innerHTML = '';\n",
              "          dataTable['output_type'] = 'display_data';\n",
              "          await google.colab.output.renderOutput(dataTable, element);\n",
              "          const docLink = document.createElement('div');\n",
              "          docLink.innerHTML = docLinkHtml;\n",
              "          element.appendChild(docLink);\n",
              "        }\n",
              "      </script>\n",
              "    </div>\n",
              "  </div>\n",
              "  "
            ]
          },
          "metadata": {},
          "execution_count": 14
        }
      ]
    },
    {
      "cell_type": "code",
      "metadata": {
        "id": "kOz4P8AExpb3"
      },
      "source": [
        "sensor1_data['minus_speed'] = sensor1_data['InVehicle_Longitudinal_Speed']-sensor1_data['InVehicle_Longitudinal_Speed'].shift(1)\n",
        "sensor1_data['minus_acc'] = sensor1_data['InVehicle_Longitudinal_Accel']-sensor1_data['InVehicle_Longitudinal_Accel'].shift(1)\n",
        "sensor1_data['minus_Gps'] = sensor1_data['GPS_Speed']-sensor1_data['GPS_Speed'].shift(1)\n"
      ],
      "execution_count": null,
      "outputs": []
    },
    {
      "cell_type": "code",
      "metadata": {
        "id": "rLM_-XKr8dLE"
      },
      "source": [
        "sensor2_data['minus_speed'] = sensor2_data['InVehicle_Longitudinal_Speed']-sensor2_data['InVehicle_Longitudinal_Speed'].shift(1)\n",
        "sensor2_data['minus_acc'] = sensor2_data['InVehicle_Longitudinal_Accel']-sensor2_data['InVehicle_Longitudinal_Accel'].shift(1)\n",
        "sensor2_data['minus_Gps'] = sensor2_data['GPS_Speed']-sensor2_data['GPS_Speed'].shift(1)\n"
      ],
      "execution_count": null,
      "outputs": []
    },
    {
      "cell_type": "code",
      "metadata": {
        "id": "PbRoEWZW8iXT"
      },
      "source": [
        "sensor3_data['minus_speed'] = sensor3_data['InVehicle_Longitudinal_Speed']-sensor3_data['InVehicle_Longitudinal_Speed'].shift(1)\n",
        "sensor3_data['minus_acc'] = sensor3_data['InVehicle_Longitudinal_Accel']-sensor3_data['InVehicle_Longitudinal_Accel'].shift(1)\n",
        "sensor3_data['minus_Gps'] = sensor3_data['GPS_Speed']-sensor3_data['GPS_Speed'].shift(1)\n"
      ],
      "execution_count": null,
      "outputs": []
    },
    {
      "cell_type": "code",
      "metadata": {
        "id": "HY383a_mEsYv"
      },
      "source": [
        "sensor1_data.dropna(inplace= True)\n",
        "sensor2_data.dropna(inplace= True)\n",
        "sensor3_data.dropna(inplace= True)\n"
      ],
      "execution_count": null,
      "outputs": []
    },
    {
      "cell_type": "code",
      "metadata": {
        "colab": {
          "base_uri": "https://localhost:8080/",
          "height": 317
        },
        "id": "gm31zHocx5JH",
        "outputId": "3a2c8335-fee4-4456-f600-6bc0f3878f5f"
      },
      "source": [
        "sensor1_data[['InVehicle_Longitudinal_Speed','minus_speed']].plot(subplots=True)"
      ],
      "execution_count": null,
      "outputs": [
        {
          "output_type": "execute_result",
          "data": {
            "text/plain": [
              "array([<matplotlib.axes._subplots.AxesSubplot object at 0x7f569d261430>,\n",
              "       <matplotlib.axes._subplots.AxesSubplot object at 0x7f569d23b880>],\n",
              "      dtype=object)"
            ]
          },
          "metadata": {},
          "execution_count": 19
        },
        {
          "output_type": "display_data",
          "data": {
            "text/plain": [
              "<Figure size 432x288 with 2 Axes>"
            ],
            "image/png": "[encoded data removed]"
          },
          "metadata": {
            "needs_background": "light"
          }
        }
      ]
    },
    {
      "cell_type": "code",
      "metadata": {
        "colab": {
          "base_uri": "https://localhost:8080/",
          "height": 317
        },
        "id": "hYAG0PMFylT6",
        "outputId": "4c293ee0-e591-4988-ce01-8ffac4af3c3b"
      },
      "source": [
        "sensor1_data[['GPS_Speed','minus_Gps']].plot(subplots=True)"
      ],
      "execution_count": null,
      "outputs": [
        {
          "output_type": "execute_result",
          "data": {
            "text/plain": [
              "array([<matplotlib.axes._subplots.AxesSubplot object at 0x7f569d27c820>,\n",
              "       <matplotlib.axes._subplots.AxesSubplot object at 0x7f569ccd7640>],\n",
              "      dtype=object)"
            ]
          },
          "metadata": {},
          "execution_count": 20
        },
        {
          "output_type": "display_data",
          "data": {
            "text/plain": [
              "<Figure size 432x288 with 2 Axes>"
            ],
            "image/png": "[encoded data removed]"
          },
          "metadata": {
            "needs_background": "light"
          }
        }
      ]
    },
    {
      "cell_type": "code",
      "metadata": {
        "colab": {
          "base_uri": "https://localhost:8080/",
          "height": 317
        },
        "id": "Jgs8RGvTymFp",
        "outputId": "a84ce175-940c-476a-f95d-85203363f8e6"
      },
      "source": [
        "sensor1_data[['InVehicle_Longitudinal_Accel','minus_acc']].plot(subplots=True)"
      ],
      "execution_count": null,
      "outputs": [
        {
          "output_type": "execute_result",
          "data": {
            "text/plain": [
              "array([<matplotlib.axes._subplots.AxesSubplot object at 0x7f569cc0bd00>,\n",
              "       <matplotlib.axes._subplots.AxesSubplot object at 0x7f569cc34550>],\n",
              "      dtype=object)"
            ]
          },
          "metadata": {},
          "execution_count": 21
        },
        {
          "output_type": "display_data",
          "data": {
            "text/plain": [
              "<Figure size 432x288 with 2 Axes>"
            ],
            "image/png": "[encoded data removed]"
          },
          "metadata": {
            "needs_background": "light"
          }
        }
      ]
    },
    {
      "cell_type": "code",
      "metadata": {
        "colab": {
          "base_uri": "https://localhost:8080/"
        },
        "id": "jxN3sysYzyOT",
        "outputId": "f077a885-9fe5-42ab-efb3-3e2fdc1494b5"
      },
      "source": [
        "from statsmodels.tsa.stattools import adfuller\n",
        "stationary_speed = adfuller(sensor1_data['InVehicle_Longitudinal_Speed'])\n",
        "stationary_gps = adfuller(sensor1_data['GPS_Speed'])\n",
        "stationary_acc = adfuller(sensor1_data['InVehicle_Longitudinal_Accel'])\n",
        "print(\"stationary_speed : {}\\n stationary_gps :{}\\nstationary_acc :{}\\n\".format(stationary_speed[1],stationary_gps[1], stationary_acc[1]))"
      ],
      "execution_count": null,
      "outputs": [
        {
          "output_type": "stream",
          "name": "stdout",
          "text": [
            "stationary_speed : 5.246853788321974e-13\n",
            " stationary_gps :1.1696527951235956e-13\n",
            "stationary_acc :3.198582146523032e-29\n",
            "\n"
          ]
        }
      ]
    },
    {
      "cell_type": "code",
      "metadata": {
        "colab": {
          "base_uri": "https://localhost:8080/"
        },
        "id": "7GWYJ0FN007a",
        "outputId": "5cdbd649-66fe-4eb5-f504-72deebe264a4"
      },
      "source": [
        "stationary_speed = adfuller(sensor1_data['minus_speed'].dropna())\n",
        "stationary_gps = adfuller(sensor1_data['minus_Gps'].dropna())\n",
        "stationary_acc = adfuller(sensor1_data['minus_acc'].dropna())\n",
        "print(\"stationary_speed : {}\\nstationary_gps :{}\\nstationary_acc :{}\\n\".format(stationary_speed[1],stationary_gps[1], stationary_acc[1]))"
      ],
      "execution_count": null,
      "outputs": [
        {
          "output_type": "stream",
          "name": "stdout",
          "text": [
            "stationary_speed : 2.4098539038035627e-30\n",
            "stationary_gps :1.8480210233291323e-28\n",
            "stationary_acc :0.0\n",
            "\n"
          ]
        }
      ]
    },
    {
      "cell_type": "code",
      "source": [
        "sensor2_data[['InVehicle_Longitudinal_Speed','minus_speed']].plot(subplots=True)"
      ],
      "metadata": {
        "id": "aw18Ih23kttN",
        "colab": {
          "base_uri": "https://localhost:8080/",
          "height": 317
        },
        "outputId": "8e96c750-9d14-4cbe-f898-56df379ed1b6"
      },
      "execution_count": null,
      "outputs": [
        {
          "output_type": "execute_result",
          "data": {
            "text/plain": [
              "array([<matplotlib.axes._subplots.AxesSubplot object at 0x7f569d2dc280>,\n",
              "       <matplotlib.axes._subplots.AxesSubplot object at 0x7f569998d9a0>],\n",
              "      dtype=object)"
            ]
          },
          "metadata": {},
          "execution_count": 24
        },
        {
          "output_type": "display_data",
          "data": {
            "text/plain": [
              "<Figure size 432x288 with 2 Axes>"
            ],
            "image/png": "[encoded data removed]"
          },
          "metadata": {
            "needs_background": "light"
          }
        }
      ]
    },
    {
      "cell_type": "code",
      "source": [
        "sensor2_data[['GPS_Speed','minus_Gps']].plot(subplots=True)"
      ],
      "metadata": {
        "id": "vayrgTXSkt3O",
        "colab": {
          "base_uri": "https://localhost:8080/",
          "height": 317
        },
        "outputId": "4de4c8c7-e921-4377-b4c4-baa83ebe8587"
      },
      "execution_count": null,
      "outputs": [
        {
          "output_type": "execute_result",
          "data": {
            "text/plain": [
              "array([<matplotlib.axes._subplots.AxesSubplot object at 0x7f5699915760>,\n",
              "       <matplotlib.axes._subplots.AxesSubplot object at 0x7f569993e250>],\n",
              "      dtype=object)"
            ]
          },
          "metadata": {},
          "execution_count": 25
        },
        {
          "output_type": "display_data",
          "data": {
            "text/plain": [
              "<Figure size 432x288 with 2 Axes>"
            ],
            "image/png": "[encoded data removed]"
          },
          "metadata": {
            "needs_background": "light"
          }
        }
      ]
    },
    {
      "cell_type": "code",
      "source": [
        "sensor2_data[['InVehicle_Longitudinal_Accel','minus_acc']].plot(subplots=True)"
      ],
      "metadata": {
        "id": "KJ_nt-uLkuA1",
        "colab": {
          "base_uri": "https://localhost:8080/",
          "height": 317
        },
        "outputId": "9b71cda7-f4e4-4fc8-faa6-cd4f6f4f4072"
      },
      "execution_count": null,
      "outputs": [
        {
          "output_type": "execute_result",
          "data": {
            "text/plain": [
              "array([<matplotlib.axes._subplots.AxesSubplot object at 0x7f5699898c10>,\n",
              "       <matplotlib.axes._subplots.AxesSubplot object at 0x7f5699869be0>],\n",
              "      dtype=object)"
            ]
          },
          "metadata": {},
          "execution_count": 26
        },
        {
          "output_type": "display_data",
          "data": {
            "text/plain": [
              "<Figure size 432x288 with 2 Axes>"
            ],
            "image/png": "[encoded data removed]"
          },
          "metadata": {
            "needs_background": "light"
          }
        }
      ]
    },
    {
      "cell_type": "code",
      "source": [
        "stationary_speed = adfuller(sensor2_data['InVehicle_Longitudinal_Speed'])\n",
        "stationary_gps = adfuller(sensor2_data['GPS_Speed'])\n",
        "stationary_acc = adfuller(sensor2_data['InVehicle_Longitudinal_Accel'])\n",
        "print(\"stationary_speed : {}\\n stationary_gps :{}\\nstationary_acc :{}\\n\".format(stationary_speed[1],stationary_gps[1], stationary_acc[1]))"
      ],
      "metadata": {
        "id": "f7snc5PakuMT",
        "colab": {
          "base_uri": "https://localhost:8080/"
        },
        "outputId": "dcb7c20f-d14a-4445-d012-34b83e253c22"
      },
      "execution_count": null,
      "outputs": [
        {
          "output_type": "stream",
          "name": "stdout",
          "text": [
            "stationary_speed : 5.246853788321974e-13\n",
            " stationary_gps :1.1696527951235956e-13\n",
            "stationary_acc :3.198582146523032e-29\n",
            "\n"
          ]
        }
      ]
    },
    {
      "cell_type": "code",
      "source": [
        "stationary_speed = adfuller(sensor2_data['minus_speed'].dropna())\n",
        "stationary_gps = adfuller(sensor2_data['minus_Gps'].dropna())\n",
        "stationary_acc = adfuller(sensor2_data['minus_acc'].dropna())\n",
        "print(\"stationary_speed : {}\\nstationary_gps :{}\\nstationary_acc :{}\\n\".format(stationary_speed[1],stationary_gps[1], stationary_acc[1]))"
      ],
      "metadata": {
        "id": "PmGuunZUkuWn",
        "colab": {
          "base_uri": "https://localhost:8080/"
        },
        "outputId": "53b62120-a106-4bad-fce2-34c56c7c451a"
      },
      "execution_count": null,
      "outputs": [
        {
          "output_type": "stream",
          "name": "stdout",
          "text": [
            "stationary_speed : 2.4098539038035627e-30\n",
            "stationary_gps :1.8480210233291323e-28\n",
            "stationary_acc :0.0\n",
            "\n"
          ]
        }
      ]
    },
    {
      "cell_type": "code",
      "source": [
        "sensor3_data[['InVehicle_Longitudinal_Speed','minus_speed']].plot(subplots=True)"
      ],
      "metadata": {
        "id": "qZxaaAvzkumk",
        "colab": {
          "base_uri": "https://localhost:8080/",
          "height": 317
        },
        "outputId": "1e756c33-7cf4-4aec-a288-2965ac959df2"
      },
      "execution_count": null,
      "outputs": [
        {
          "output_type": "execute_result",
          "data": {
            "text/plain": [
              "array([<matplotlib.axes._subplots.AxesSubplot object at 0x7f56997f2100>,\n",
              "       <matplotlib.axes._subplots.AxesSubplot object at 0x7f56997a12b0>],\n",
              "      dtype=object)"
            ]
          },
          "metadata": {},
          "execution_count": 29
        },
        {
          "output_type": "display_data",
          "data": {
            "text/plain": [
              "<Figure size 432x288 with 2 Axes>"
            ],
            "image/png": "[encoded data removed]"
          },
          "metadata": {
            "needs_background": "light"
          }
        }
      ]
    },
    {
      "cell_type": "code",
      "source": [
        "sensor3_data[['GPS_Speed','minus_Gps']].plot(subplots=True)"
      ],
      "metadata": {
        "id": "-2zzGJIbkux9",
        "colab": {
          "base_uri": "https://localhost:8080/",
          "height": 317
        },
        "outputId": "4256bc8e-764e-418c-c2ff-bf828c2ef6a5"
      },
      "execution_count": null,
      "outputs": [
        {
          "output_type": "execute_result",
          "data": {
            "text/plain": [
              "array([<matplotlib.axes._subplots.AxesSubplot object at 0x7f5699722940>,\n",
              "       <matplotlib.axes._subplots.AxesSubplot object at 0x7f569973ca90>],\n",
              "      dtype=object)"
            ]
          },
          "metadata": {},
          "execution_count": 30
        },
        {
          "output_type": "display_data",
          "data": {
            "text/plain": [
              "<Figure size 432x288 with 2 Axes>"
            ],
            "image/png": "[encoded data removed]"
          },
          "metadata": {
            "needs_background": "light"
          }
        }
      ]
    },
    {
      "cell_type": "code",
      "source": [
        "sensor3_data[['InVehicle_Longitudinal_Accel','minus_acc']].plot(subplots=True)"
      ],
      "metadata": {
        "id": "Z3zUIF6Oku-R",
        "colab": {
          "base_uri": "https://localhost:8080/",
          "height": 317
        },
        "outputId": "20bdf10c-f1de-4719-97c8-e24e9b5a74cf"
      },
      "execution_count": null,
      "outputs": [
        {
          "output_type": "execute_result",
          "data": {
            "text/plain": [
              "array([<matplotlib.axes._subplots.AxesSubplot object at 0x7f5699656850>,\n",
              "       <matplotlib.axes._subplots.AxesSubplot object at 0x7f5699671310>],\n",
              "      dtype=object)"
            ]
          },
          "metadata": {},
          "execution_count": 31
        },
        {
          "output_type": "display_data",
          "data": {
            "text/plain": [
              "<Figure size 432x288 with 2 Axes>"
            ],
            "image/png": "[encoded data removed]"
          },
          "metadata": {
            "needs_background": "light"
          }
        }
      ]
    },
    {
      "cell_type": "code",
      "source": [
        "stationary_speed = adfuller(sensor3_data['InVehicle_Longitudinal_Speed'])\n",
        "stationary_gps = adfuller(sensor3_data['GPS_Speed'])\n",
        "stationary_acc = adfuller(sensor3_data['InVehicle_Longitudinal_Accel'])\n",
        "print(\"stationary_speed : {}\\n stationary_gps :{}\\nstationary_acc :{}\\n\".format(stationary_speed[1],stationary_gps[1], stationary_acc[1]))"
      ],
      "metadata": {
        "id": "VgUdKrbMkvJm",
        "colab": {
          "base_uri": "https://localhost:8080/"
        },
        "outputId": "f8499b48-f1cb-4a0e-8daa-310269125644"
      },
      "execution_count": null,
      "outputs": [
        {
          "output_type": "stream",
          "name": "stdout",
          "text": [
            "stationary_speed : 5.246853788321974e-13\n",
            " stationary_gps :1.1696527951235956e-13\n",
            "stationary_acc :3.198582146523032e-29\n",
            "\n"
          ]
        }
      ]
    },
    {
      "cell_type": "code",
      "source": [
        "stationary_speed = adfuller(sensor3_data['minus_speed'].dropna())\n",
        "stationary_gps = adfuller(sensor3_data['minus_Gps'].dropna())\n",
        "stationary_acc = adfuller(sensor3_data['minus_acc'].dropna())\n",
        "print(\"stationary_speed : {}\\nstationary_gps :{}\\nstationary_acc :{}\\n\".format(stationary_speed[1],stationary_gps[1], stationary_acc[1]))"
      ],
      "metadata": {
        "id": "K4mhHfwCkvVM",
        "colab": {
          "base_uri": "https://localhost:8080/"
        },
        "outputId": "e735cefd-8ab5-46a8-c590-4d1e13cc5b6d"
      },
      "execution_count": null,
      "outputs": [
        {
          "output_type": "stream",
          "name": "stdout",
          "text": [
            "stationary_speed : 2.4098539038035627e-30\n",
            "stationary_gps :1.8480210233291323e-28\n",
            "stationary_acc :0.0\n",
            "\n"
          ]
        }
      ]
    },
    {
      "cell_type": "code",
      "metadata": {
        "id": "i8mZeMYS4eZp",
        "colab": {
          "base_uri": "https://localhost:8080/"
        },
        "outputId": "8c894b53-c10e-43a1-e9b5-3ce4a55cd839"
      },
      "source": [
        "scaler  = StandardScaler()\n",
        "scaler.fit(sensor1_data[['minus_speed','minus_Gps','minus_acc']])\n",
        "sensor1_data_normal = scaler.transform(sensor1_data[['minus_speed','minus_Gps','minus_acc']]) \n",
        "sensor1_data_normal[:5]"
      ],
      "execution_count": null,
      "outputs": [
        {
          "output_type": "execute_result",
          "data": {
            "text/plain": [
              "array([[-0.05070828, -0.32305109, -1.58644656],\n",
              "       [-0.02786589, -0.04536014,  1.66249181],\n",
              "       [-0.02371787,  0.08640399,  0.30020362],\n",
              "       [-0.01352507,  0.04198683,  0.03721539],\n",
              "       [-0.00924143, -0.09532848, -0.01366623]])"
            ]
          },
          "metadata": {},
          "execution_count": 34
        }
      ]
    },
    {
      "cell_type": "code",
      "metadata": {
        "id": "y05jBj5Q4ebC",
        "colab": {
          "base_uri": "https://localhost:8080/"
        },
        "outputId": "505ba540-57a5-4bf0-8db9-b3bfb4821795"
      },
      "source": [
        "scaler  = StandardScaler()\n",
        "scaler.fit(sensor2_data[['minus_speed','minus_Gps','minus_acc']])\n",
        "sensor2_data_normal = scaler.transform(sensor2_data[['minus_speed','minus_Gps','minus_acc']]) \n",
        "sensor2_data_normal[:5]"
      ],
      "execution_count": null,
      "outputs": [
        {
          "output_type": "execute_result",
          "data": {
            "text/plain": [
              "array([[-0.05070828, -0.32305109, -1.58644656],\n",
              "       [-0.02786589, -0.04536014,  1.66249181],\n",
              "       [-0.02371787,  0.08640399,  0.30020362],\n",
              "       [-0.01352507,  0.04198683,  0.03721539],\n",
              "       [-0.00924143, -0.09532848, -0.01366623]])"
            ]
          },
          "metadata": {},
          "execution_count": 35
        }
      ]
    },
    {
      "cell_type": "code",
      "metadata": {
        "id": "1CYbcK354ef3",
        "colab": {
          "base_uri": "https://localhost:8080/"
        },
        "outputId": "6afe8f6e-6618-4374-cb01-6b80f9f5f67d"
      },
      "source": [
        "scaler  = StandardScaler()\n",
        "scaler.fit(sensor3_data[['minus_speed','minus_Gps','minus_acc']])\n",
        "sensor3_data_normal = scaler.transform(sensor3_data[['minus_speed','minus_Gps','minus_acc']]) \n",
        "sensor3_data_normal[:5]"
      ],
      "execution_count": null,
      "outputs": [
        {
          "output_type": "execute_result",
          "data": {
            "text/plain": [
              "array([[-0.05070828, -0.32305109, -1.58644656],\n",
              "       [-0.02786589, -0.04536014,  1.66249181],\n",
              "       [-0.02371787,  0.08640399,  0.30020362],\n",
              "       [-0.01352507,  0.04198683,  0.03721539],\n",
              "       [-0.00924143, -0.09532848, -0.01366623]])"
            ]
          },
          "metadata": {},
          "execution_count": 36
        }
      ]
    },
    {
      "cell_type": "code",
      "metadata": {
        "id": "9_1IxEBK4egt"
      },
      "source": [
        "window_size = 10\n",
        "\n",
        "# create windows with overlap\n",
        "def convertToFrames(X_data,y_data, step):\n",
        "    #data = np.append(data,np.repeat(data[-1,],step))\n",
        "    X, Y =[], []\n",
        "    \n",
        "    for i in range(len(X_data)-step):\n",
        "        y_or = 0\n",
        "        d=i+step  \n",
        "        X.append(X_data[i:d,])\n",
        "        for y in y_data.iloc[i:d].values:\n",
        "           y_or = y_or or y\n",
        "        \n",
        "        Y.append(y_or)\n",
        "    return np.array(X), np.array(Y)"
      ],
      "execution_count": null,
      "outputs": []
    },
    {
      "cell_type": "code",
      "metadata": {
        "colab": {
          "base_uri": "https://localhost:8080/"
        },
        "id": "oGtDF0GW3LVV",
        "outputId": "6478eaa7-dea0-4487-c730-9c16ab026c6e"
      },
      "source": [
        "X_sensor1, y_sensor1 = convertToFrames(sensor1_data_normal, sensor1_label, window_size)\n",
        "X_sensor1.shape, y_sensor1.shape"
      ],
      "execution_count": null,
      "outputs": [
        {
          "output_type": "execute_result",
          "data": {
            "text/plain": [
              "((29789, 10, 3), (29789, 1))"
            ]
          },
          "metadata": {},
          "execution_count": 38
        }
      ]
    },
    {
      "cell_type": "code",
      "metadata": {
        "colab": {
          "base_uri": "https://localhost:8080/"
        },
        "id": "4GKQhSxb45JX",
        "outputId": "2e2faace-70e0-41d6-d897-ec417cb47cf8"
      },
      "source": [
        "X_sensor2, y_sensor2 = convertToFrames(sensor2_data_normal, sensor2_label, window_size)\n",
        "X_sensor2.shape, y_sensor2.shape"
      ],
      "execution_count": null,
      "outputs": [
        {
          "output_type": "execute_result",
          "data": {
            "text/plain": [
              "((29789, 10, 3), (29789, 1))"
            ]
          },
          "metadata": {},
          "execution_count": 39
        }
      ]
    },
    {
      "cell_type": "code",
      "metadata": {
        "id": "c-jc0Oo745OI",
        "colab": {
          "base_uri": "https://localhost:8080/"
        },
        "outputId": "cc5c92d4-65d3-43e7-bf16-c0f790bdc631"
      },
      "source": [
        "X_sensor3, y_sensor3 = convertToFrames(sensor3_data_normal, sensor3_label, window_size)\n",
        "X_sensor3.shape, y_sensor3.shape"
      ],
      "execution_count": null,
      "outputs": [
        {
          "output_type": "execute_result",
          "data": {
            "text/plain": [
              "((29789, 10, 3), (29789, 1))"
            ]
          },
          "metadata": {},
          "execution_count": 40
        }
      ]
    },
    {
      "cell_type": "code",
      "metadata": {
        "colab": {
          "base_uri": "https://localhost:8080/"
        },
        "id": "IFUAef8l45O-",
        "outputId": "efb780ac-246e-44e8-e5c0-135287b50a31"
      },
      "source": [
        "y_sensor1 = to_categorical(y_sensor1, num_classes= 2, dtype='float32')\n",
        "X_train_sensor1,X_test_sensor1, y_train_sensor1, y_test_sensor1 = train_test_split(X_sensor1,y_sensor1,random_state = 1400, test_size= 0.2)\n",
        "X_train_sensor1 = np.reshape(X_train_sensor1, (X_train_sensor1.shape[0],  X_train_sensor1.shape[1],X_train_sensor1.shape[2], 1))\n",
        "X_test_sensor1 = np.reshape(X_test_sensor1, (X_test_sensor1.shape[0],X_test_sensor1.shape[1],X_test_sensor1.shape[2], 1))\n",
        "y_train_sensor1, y_test_sensor1 = y_train_sensor1.squeeze(), y_test_sensor1.squeeze()\n",
        "X_train_sensor1.shape, X_test_sensor1.shape,y_train_sensor1.shape, y_test_sensor1.shape"
      ],
      "execution_count": null,
      "outputs": [
        {
          "output_type": "execute_result",
          "data": {
            "text/plain": [
              "((23831, 10, 3, 1), (5958, 10, 3, 1), (23831, 2), (5958, 2))"
            ]
          },
          "metadata": {},
          "execution_count": 41
        }
      ]
    },
    {
      "cell_type": "code",
      "metadata": {
        "colab": {
          "base_uri": "https://localhost:8080/"
        },
        "id": "ndjSJxwF45Ts",
        "outputId": "e512808e-ebd2-4ac4-a119-1f09560401ef"
      },
      "source": [
        "y_sensor2 = to_categorical(y_sensor2, num_classes= 2, dtype='float32')\n",
        "X_train_sensor2,X_test_sensor2, y_train_sensor2, y_test_sensor2 = train_test_split(X_sensor2,y_sensor2,random_state = 1400, test_size= 0.2)\n",
        "X_train_sensor2 = np.reshape(X_train_sensor2, (X_train_sensor2.shape[0],  X_train_sensor2.shape[1],X_train_sensor2.shape[2], 1))\n",
        "X_test_sensor2 = np.reshape(X_test_sensor2, (X_test_sensor2.shape[0],X_test_sensor2.shape[1],X_test_sensor2.shape[2], 1))\n",
        "y_train_sensor2, y_test_sensor2 = y_train_sensor2.squeeze(), y_test_sensor2.squeeze()\n",
        "X_train_sensor2.shape, X_test_sensor2.shape,y_train_sensor2.shape, y_test_sensor2.shape"
      ],
      "execution_count": null,
      "outputs": [
        {
          "output_type": "execute_result",
          "data": {
            "text/plain": [
              "((23831, 10, 3, 1), (5958, 10, 3, 1), (23831, 2), (5958, 2))"
            ]
          },
          "metadata": {},
          "execution_count": 42
        }
      ]
    },
    {
      "cell_type": "code",
      "metadata": {
        "colab": {
          "base_uri": "https://localhost:8080/"
        },
        "id": "OmlTxB6A45Uk",
        "outputId": "3af83db4-fa91-4f10-a335-47193b601d63"
      },
      "source": [
        "y_sensor3 = to_categorical(y_sensor3, num_classes= 2, dtype='float32')\n",
        "X_train_sensor3,X_test_sensor3, y_train_sensor3, y_test_sensor3 = train_test_split(X_sensor3,y_sensor3,random_state = 1400, test_size= 0.2)\n",
        "X_train_sensor3 = np.reshape(X_train_sensor3, (X_train_sensor3.shape[0],  X_train_sensor3.shape[1],X_train_sensor3.shape[2], 1))\n",
        "X_test_sensor3 = np.reshape(X_test_sensor3, (X_test_sensor3.shape[0],X_test_sensor3.shape[1],X_test_sensor3.shape[2], 1))\n",
        "y_train_sensor3, y_test_sensor3 = y_train_sensor3.squeeze(), y_test_sensor3.squeeze()\n",
        "X_train_sensor3.shape, X_test_sensor3.shape,y_train_sensor3.shape, y_test_sensor3.shape"
      ],
      "execution_count": null,
      "outputs": [
        {
          "output_type": "execute_result",
          "data": {
            "text/plain": [
              "((23831, 10, 3, 1), (5958, 10, 3, 1), (23831, 2), (5958, 2))"
            ]
          },
          "metadata": {},
          "execution_count": 43
        }
      ]
    },
    {
      "cell_type": "code",
      "metadata": {
        "id": "HizxFE6545Zc"
      },
      "source": [
        "# _tags = np.unique(sensor1_label['Class'])\n",
        "# class_weights = class_weight.compute_class_weight('balanced', _tags, sensor1_label.Class)\n",
        "# print(_tags)\n",
        "# print(class_weights)"
      ],
      "execution_count": null,
      "outputs": []
    },
    {
      "cell_type": "code",
      "metadata": {
        "id": "5aax7DqV5XVs"
      },
      "source": [
        "def creatModel():\n",
        "  model = Sequential()\n",
        "  ## CNN \n",
        "  model.add(TimeDistributed( Conv1D(kernel_size=3, filters= 40, activation= 'relu', padding='same',\n",
        "                   input_shape=(X_train_sensor1.shape[0], X_train_sensor1.shape[1],))))\n",
        "  model.add(TimeDistributed(Dropout(0.2)))\n",
        "  model.add(TimeDistributed( Conv1D(kernel_size=3, filters= 60, activation= 'relu', padding='same')))\n",
        "  model.add(TimeDistributed(Dropout(0.2)))\n",
        "  model.add(TimeDistributed(Conv1D(kernel_size=3, filters= 60, activation= 'relu', padding='same')))\n",
        "  # model.add(MaxPooling1D((2,)))\n",
        "  model.add(TimeDistributed(GlobalMaxPool1D()))\n",
        "  model.add(TimeDistributed(Dropout(0.2)))\n",
        "  ##BiLSTM\n",
        "  model.add(Bidirectional(LSTM(60)))\n",
        "  model.add(Dense(units= 30))\n",
        "  model.add(Dropout(0.2))\n",
        "\n",
        "  model.add(Dense(2, activation='sigmoid'))#, kernel_regularizer=l2()\n",
        "\n",
        "  model.compile(optimizer = Adam(), loss= 'binary_crossentropy',  metrics=['accuracy'])\n",
        "  return model"
      ],
      "execution_count": null,
      "outputs": []
    },
    {
      "cell_type": "code",
      "metadata": {
        "id": "GUACR7UL5XXG"
      },
      "source": [
        "model_path = '/content/drive/MyDrive/CAV/data/Constant attack/0_1_dur_10/Models/Models15/'\n",
        "\n",
        "class Model_save(Callback):\n",
        "  def on_epoch_end(self, epoch, logs={}):\n",
        "    self.model.save(model_path + \"MultiCNN-BiLSTM-CAV-StandarNormal-Constant-0_1_dur_10-PerEpochs_{}.h5\".format(sensor))"
      ],
      "execution_count": null,
      "outputs": []
    },
    {
      "cell_type": "code",
      "metadata": {
        "id": "A7f_jAD05Xar"
      },
      "source": [
        "def settCallbacks(sensor):\n",
        "\n",
        "  best_model_path = model_path + 'Best_MultiCNN-BiLSTM-CAV-standardNormal-Constant-0_1_dur_10_{}.h5'.format(sensor)\n",
        "  checkpoint = ModelCheckpoint(best_model_path, monitor='val_loss', save_best_only=True, mode='min')\n",
        "\n",
        "  history_cb = tf.keras.callbacks.CSVLogger(model_path + 'historyLOG_{}.csv'.format(sensor), separator=\",\", append=True)\n",
        "\n",
        "  model_save = Model_save()\n",
        "\n",
        "  Estop = EarlyStopping(monitor='val_accuracy', patience= 200)\n",
        "  \n",
        "  return model_save, checkpoint, history_cb, Estop"
      ],
      "execution_count": null,
      "outputs": []
    },
    {
      "cell_type": "code",
      "source": [
        "import time\n",
        "\n",
        "class TimeHistory(Callback):\n",
        "  \n",
        "    def on_epoch_begin(self, batch, logs={}):\n",
        "        self.epoch_time_start = time.time()\n",
        "\n",
        "    def on_epoch_end(self, batch, logs={}):\n",
        "        epoch_time = time.time() - self.epoch_time_start\n",
        "        logs['epoch_time'] = epoch_time"
      ],
      "metadata": {
        "id": "Wl5OKc4SmzZ4"
      },
      "execution_count": null,
      "outputs": []
    },
    {
      "cell_type": "code",
      "metadata": {
        "id": "tvNp2iKh5Xbg",
        "colab": {
          "base_uri": "https://localhost:8080/"
        },
        "outputId": "fc995f56-c4bb-405f-e94a-b1319f4a37e6"
      },
      "source": [
        "sensor = \"sensor1\"\n",
        "time_callback = TimeHistory()\n",
        "model_sensor1 = creatModel()\n",
        "model_save, checkpoint, history_cb, Estop = settCallbacks(\"sensor1\")\n",
        "history_sensor1 = model_sensor1.fit(X_train_sensor1, y_train_sensor1,\n",
        "                                    batch_size = 64, epochs = 300,\n",
        "                                    validation_split = 0.2,\n",
        "                                    verbose = 1,\n",
        "                                    callbacks = [time_callback, model_save, checkpoint, history_cb, Estop])\n",
        "                                    # class_weight= class_weights)"
      ],
      "execution_count": null,
      "outputs": [
        {
          "output_type": "stream",
          "name": "stdout",
          "text": [
            "Epoch 1/300\n",
            "298/298 [==============================] - 16s 13ms/step - loss: 0.3353 - accuracy: 0.8719 - val_loss: 0.1939 - val_accuracy: 0.9318 - epoch_time: 15.5751\n",
            "Epoch 2/300\n",
            "298/298 [==============================] - 3s 9ms/step - loss: 0.1340 - accuracy: 0.9589 - val_loss: 0.0834 - val_accuracy: 0.9742 - epoch_time: 2.6459\n",
            "Epoch 3/300\n",
            "298/298 [==============================] - 3s 10ms/step - loss: 0.0731 - accuracy: 0.9784 - val_loss: 0.0607 - val_accuracy: 0.9797 - epoch_time: 2.7436\n",
            "Epoch 4/300\n",
            "298/298 [==============================] - 4s 13ms/step - loss: 0.0533 - accuracy: 0.9843 - val_loss: 0.0442 - val_accuracy: 0.9864 - epoch_time: 3.7896\n",
            "Epoch 5/300\n",
            "298/298 [==============================] - 3s 11ms/step - loss: 0.0424 - accuracy: 0.9869 - val_loss: 0.0295 - val_accuracy: 0.9910 - epoch_time: 3.1761\n",
            "Epoch 6/300\n",
            "298/298 [==============================] - 3s 10ms/step - loss: 0.0380 - accuracy: 0.9895 - val_loss: 0.0359 - val_accuracy: 0.9891 - epoch_time: 2.7829\n",
            "Epoch 7/300\n",
            "298/298 [==============================] - 3s 10ms/step - loss: 0.0314 - accuracy: 0.9906 - val_loss: 0.0270 - val_accuracy: 0.9920 - epoch_time: 2.7880\n",
            "Epoch 8/300\n",
            "298/298 [==============================] - 3s 10ms/step - loss: 0.0291 - accuracy: 0.9912 - val_loss: 0.0265 - val_accuracy: 0.9916 - epoch_time: 2.7257\n",
            "Epoch 9/300\n",
            "298/298 [==============================] - 3s 10ms/step - loss: 0.0267 - accuracy: 0.9927 - val_loss: 0.0241 - val_accuracy: 0.9929 - epoch_time: 2.7151\n",
            "Epoch 10/300\n",
            "298/298 [==============================] - 3s 9ms/step - loss: 0.0259 - accuracy: 0.9919 - val_loss: 0.0274 - val_accuracy: 0.9922 - epoch_time: 2.7512\n",
            "Epoch 11/300\n",
            "298/298 [==============================] - 3s 10ms/step - loss: 0.0232 - accuracy: 0.9922 - val_loss: 0.0214 - val_accuracy: 0.9945 - epoch_time: 2.7880\n",
            "Epoch 12/300\n",
            "298/298 [==============================] - 3s 9ms/step - loss: 0.0236 - accuracy: 0.9932 - val_loss: 0.0257 - val_accuracy: 0.9920 - epoch_time: 2.7460\n",
            "Epoch 13/300\n",
            "298/298 [==============================] - 3s 10ms/step - loss: 0.0190 - accuracy: 0.9941 - val_loss: 0.0225 - val_accuracy: 0.9952 - epoch_time: 2.7926\n",
            "Epoch 14/300\n",
            "298/298 [==============================] - 3s 9ms/step - loss: 0.0192 - accuracy: 0.9941 - val_loss: 0.0386 - val_accuracy: 0.9897 - epoch_time: 2.6998\n",
            "Epoch 15/300\n",
            "298/298 [==============================] - 3s 9ms/step - loss: 0.0189 - accuracy: 0.9943 - val_loss: 0.0236 - val_accuracy: 0.9927 - epoch_time: 2.7389\n",
            "Epoch 16/300\n",
            "298/298 [==============================] - 3s 11ms/step - loss: 0.0181 - accuracy: 0.9944 - val_loss: 0.0174 - val_accuracy: 0.9956 - epoch_time: 2.7283\n",
            "Epoch 17/300\n",
            "298/298 [==============================] - 3s 10ms/step - loss: 0.0170 - accuracy: 0.9951 - val_loss: 0.0180 - val_accuracy: 0.9956 - epoch_time: 2.8033\n",
            "Epoch 18/300\n",
            "298/298 [==============================] - 3s 10ms/step - loss: 0.0146 - accuracy: 0.9959 - val_loss: 0.0169 - val_accuracy: 0.9956 - epoch_time: 2.7467\n",
            "Epoch 19/300\n",
            "298/298 [==============================] - 3s 10ms/step - loss: 0.0142 - accuracy: 0.9955 - val_loss: 0.0150 - val_accuracy: 0.9958 - epoch_time: 2.7731\n",
            "Epoch 20/300\n",
            "298/298 [==============================] - 3s 9ms/step - loss: 0.0118 - accuracy: 0.9965 - val_loss: 0.0171 - val_accuracy: 0.9960 - epoch_time: 2.7652\n",
            "Epoch 21/300\n",
            "298/298 [==============================] - 3s 9ms/step - loss: 0.0130 - accuracy: 0.9963 - val_loss: 0.0216 - val_accuracy: 0.9939 - epoch_time: 2.7585\n",
            "Epoch 22/300\n",
            "298/298 [==============================] - 3s 11ms/step - loss: 0.0135 - accuracy: 0.9961 - val_loss: 0.0148 - val_accuracy: 0.9960 - epoch_time: 2.7732\n",
            "Epoch 23/300\n",
            "298/298 [==============================] - 3s 10ms/step - loss: 0.0121 - accuracy: 0.9964 - val_loss: 0.0133 - val_accuracy: 0.9966 - epoch_time: 2.7547\n",
            "Epoch 24/300\n",
            "298/298 [==============================] - 3s 9ms/step - loss: 0.0120 - accuracy: 0.9967 - val_loss: 0.0145 - val_accuracy: 0.9966 - epoch_time: 2.7676\n",
            "Epoch 25/300\n",
            "298/298 [==============================] - 3s 9ms/step - loss: 0.0108 - accuracy: 0.9972 - val_loss: 0.0162 - val_accuracy: 0.9954 - epoch_time: 2.7202\n",
            "Epoch 26/300\n",
            "298/298 [==============================] - 3s 9ms/step - loss: 0.0100 - accuracy: 0.9974 - val_loss: 0.0137 - val_accuracy: 0.9966 - epoch_time: 2.7413\n",
            "Epoch 27/300\n",
            "298/298 [==============================] - 3s 9ms/step - loss: 0.0099 - accuracy: 0.9971 - val_loss: 0.0180 - val_accuracy: 0.9956 - epoch_time: 2.7431\n",
            "Epoch 28/300\n",
            "298/298 [==============================] - 3s 9ms/step - loss: 0.0084 - accuracy: 0.9977 - val_loss: 0.0148 - val_accuracy: 0.9969 - epoch_time: 2.7573\n",
            "Epoch 29/300\n",
            "298/298 [==============================] - 3s 9ms/step - loss: 0.0086 - accuracy: 0.9976 - val_loss: 0.0196 - val_accuracy: 0.9952 - epoch_time: 2.7293\n",
            "Epoch 30/300\n",
            "298/298 [==============================] - 3s 9ms/step - loss: 0.0101 - accuracy: 0.9972 - val_loss: 0.0183 - val_accuracy: 0.9962 - epoch_time: 2.7661\n",
            "Epoch 31/300\n",
            "298/298 [==============================] - 3s 9ms/step - loss: 0.0094 - accuracy: 0.9974 - val_loss: 0.0186 - val_accuracy: 0.9952 - epoch_time: 2.7171\n",
            "Epoch 32/300\n",
            "298/298 [==============================] - 3s 10ms/step - loss: 0.0110 - accuracy: 0.9969 - val_loss: 0.0156 - val_accuracy: 0.9966 - epoch_time: 2.7953\n",
            "Epoch 33/300\n",
            "298/298 [==============================] - 3s 9ms/step - loss: 0.0074 - accuracy: 0.9981 - val_loss: 0.0175 - val_accuracy: 0.9960 - epoch_time: 2.7114\n",
            "Epoch 34/300\n",
            "298/298 [==============================] - 3s 9ms/step - loss: 0.0085 - accuracy: 0.9976 - val_loss: 0.0145 - val_accuracy: 0.9956 - epoch_time: 2.7703\n",
            "Epoch 35/300\n",
            "298/298 [==============================] - 3s 9ms/step - loss: 0.0068 - accuracy: 0.9983 - val_loss: 0.0175 - val_accuracy: 0.9960 - epoch_time: 2.6609\n",
            "Epoch 36/300\n",
            "298/298 [==============================] - 3s 9ms/step - loss: 0.0089 - accuracy: 0.9975 - val_loss: 0.0166 - val_accuracy: 0.9962 - epoch_time: 2.7357\n",
            "Epoch 37/300\n",
            "298/298 [==============================] - 3s 9ms/step - loss: 0.0067 - accuracy: 0.9980 - val_loss: 0.0158 - val_accuracy: 0.9966 - epoch_time: 2.7226\n",
            "Epoch 38/300\n",
            "298/298 [==============================] - 3s 9ms/step - loss: 0.0081 - accuracy: 0.9976 - val_loss: 0.0190 - val_accuracy: 0.9964 - epoch_time: 2.7392\n",
            "Epoch 39/300\n",
            "298/298 [==============================] - 3s 10ms/step - loss: 0.0101 - accuracy: 0.9973 - val_loss: 0.0167 - val_accuracy: 0.9964 - epoch_time: 2.7624\n",
            "Epoch 40/300\n",
            "298/298 [==============================] - 3s 9ms/step - loss: 0.0084 - accuracy: 0.9977 - val_loss: 0.0141 - val_accuracy: 0.9966 - epoch_time: 2.7525\n",
            "Epoch 41/300\n",
            "298/298 [==============================] - 3s 9ms/step - loss: 0.0065 - accuracy: 0.9980 - val_loss: 0.0162 - val_accuracy: 0.9960 - epoch_time: 2.7557\n",
            "Epoch 42/300\n",
            "298/298 [==============================] - 3s 10ms/step - loss: 0.0063 - accuracy: 0.9985 - val_loss: 0.0146 - val_accuracy: 0.9966 - epoch_time: 2.7688\n",
            "Epoch 43/300\n",
            "298/298 [==============================] - 3s 10ms/step - loss: 0.0057 - accuracy: 0.9986 - val_loss: 0.0186 - val_accuracy: 0.9958 - epoch_time: 2.8067\n",
            "Epoch 44/300\n",
            "298/298 [==============================] - 3s 9ms/step - loss: 0.0107 - accuracy: 0.9969 - val_loss: 0.0168 - val_accuracy: 0.9954 - epoch_time: 2.7356\n",
            "Epoch 45/300\n",
            "298/298 [==============================] - 3s 10ms/step - loss: 0.0069 - accuracy: 0.9981 - val_loss: 0.0165 - val_accuracy: 0.9958 - epoch_time: 2.7805\n",
            "Epoch 46/300\n",
            "298/298 [==============================] - 3s 10ms/step - loss: 0.0053 - accuracy: 0.9985 - val_loss: 0.0149 - val_accuracy: 0.9964 - epoch_time: 2.7887\n",
            "Epoch 47/300\n",
            "298/298 [==============================] - 3s 9ms/step - loss: 0.0072 - accuracy: 0.9980 - val_loss: 0.0143 - val_accuracy: 0.9971 - epoch_time: 2.7568\n",
            "Epoch 48/300\n",
            "298/298 [==============================] - 3s 9ms/step - loss: 0.0055 - accuracy: 0.9985 - val_loss: 0.0135 - val_accuracy: 0.9973 - epoch_time: 2.7259\n",
            "Epoch 49/300\n",
            "298/298 [==============================] - 3s 10ms/step - loss: 0.0063 - accuracy: 0.9981 - val_loss: 0.0188 - val_accuracy: 0.9960 - epoch_time: 2.7858\n",
            "Epoch 50/300\n",
            "298/298 [==============================] - 3s 9ms/step - loss: 0.0046 - accuracy: 0.9988 - val_loss: 0.0195 - val_accuracy: 0.9962 - epoch_time: 2.7321\n",
            "Epoch 51/300\n",
            "298/298 [==============================] - 3s 9ms/step - loss: 0.0049 - accuracy: 0.9989 - val_loss: 0.0159 - val_accuracy: 0.9966 - epoch_time: 2.7604\n",
            "Epoch 52/300\n",
            "298/298 [==============================] - 3s 12ms/step - loss: 0.0072 - accuracy: 0.9978 - val_loss: 0.0167 - val_accuracy: 0.9960 - epoch_time: 3.3606\n",
            "Epoch 53/300\n",
            "298/298 [==============================] - 4s 15ms/step - loss: 0.0045 - accuracy: 0.9986 - val_loss: 0.0169 - val_accuracy: 0.9969 - epoch_time: 4.3176\n",
            "Epoch 54/300\n",
            "298/298 [==============================] - 3s 10ms/step - loss: 0.0046 - accuracy: 0.9986 - val_loss: 0.0190 - val_accuracy: 0.9958 - epoch_time: 2.9302\n",
            "Epoch 55/300\n",
            "298/298 [==============================] - 3s 9ms/step - loss: 0.0051 - accuracy: 0.9986 - val_loss: 0.0157 - val_accuracy: 0.9966 - epoch_time: 2.7216\n",
            "Epoch 56/300\n",
            "298/298 [==============================] - 3s 10ms/step - loss: 0.0045 - accuracy: 0.9986 - val_loss: 0.0285 - val_accuracy: 0.9939 - epoch_time: 2.8543\n",
            "Epoch 57/300\n",
            "298/298 [==============================] - 3s 10ms/step - loss: 0.0084 - accuracy: 0.9977 - val_loss: 0.0167 - val_accuracy: 0.9954 - epoch_time: 2.7706\n",
            "Epoch 58/300\n",
            "298/298 [==============================] - 3s 9ms/step - loss: 0.0047 - accuracy: 0.9987 - val_loss: 0.0197 - val_accuracy: 0.9962 - epoch_time: 2.7534\n",
            "Epoch 59/300\n",
            "298/298 [==============================] - 3s 9ms/step - loss: 0.0037 - accuracy: 0.9992 - val_loss: 0.0218 - val_accuracy: 0.9971 - epoch_time: 2.7222\n",
            "Epoch 60/300\n",
            "298/298 [==============================] - 3s 10ms/step - loss: 0.0039 - accuracy: 0.9992 - val_loss: 0.0178 - val_accuracy: 0.9969 - epoch_time: 2.7905\n",
            "Epoch 61/300\n",
            "298/298 [==============================] - 3s 9ms/step - loss: 0.0055 - accuracy: 0.9986 - val_loss: 0.0178 - val_accuracy: 0.9958 - epoch_time: 2.7669\n",
            "Epoch 62/300\n",
            "298/298 [==============================] - 3s 9ms/step - loss: 0.0054 - accuracy: 0.9984 - val_loss: 0.0158 - val_accuracy: 0.9975 - epoch_time: 2.7419\n",
            "Epoch 63/300\n",
            "298/298 [==============================] - 3s 10ms/step - loss: 0.0043 - accuracy: 0.9986 - val_loss: 0.0143 - val_accuracy: 0.9964 - epoch_time: 2.7899\n",
            "Epoch 64/300\n",
            "298/298 [==============================] - 3s 9ms/step - loss: 0.0038 - accuracy: 0.9993 - val_loss: 0.0156 - val_accuracy: 0.9964 - epoch_time: 2.6982\n",
            "Epoch 65/300\n",
            "298/298 [==============================] - 3s 9ms/step - loss: 0.0049 - accuracy: 0.9983 - val_loss: 0.0197 - val_accuracy: 0.9966 - epoch_time: 2.7499\n",
            "Epoch 66/300\n",
            "298/298 [==============================] - 3s 9ms/step - loss: 0.0036 - accuracy: 0.9990 - val_loss: 0.0181 - val_accuracy: 0.9969 - epoch_time: 2.7097\n",
            "Epoch 67/300\n",
            "298/298 [==============================] - 3s 9ms/step - loss: 0.0032 - accuracy: 0.9995 - val_loss: 0.0195 - val_accuracy: 0.9969 - epoch_time: 2.7268\n",
            "Epoch 68/300\n",
            "298/298 [==============================] - 3s 9ms/step - loss: 0.0064 - accuracy: 0.9982 - val_loss: 0.0179 - val_accuracy: 0.9966 - epoch_time: 2.7636\n",
            "Epoch 69/300\n",
            "298/298 [==============================] - 3s 9ms/step - loss: 0.0046 - accuracy: 0.9987 - val_loss: 0.0192 - val_accuracy: 0.9964 - epoch_time: 2.7542\n",
            "Epoch 70/300\n",
            "298/298 [==============================] - 3s 9ms/step - loss: 0.0038 - accuracy: 0.9988 - val_loss: 0.0177 - val_accuracy: 0.9964 - epoch_time: 2.7509\n",
            "Epoch 71/300\n",
            "298/298 [==============================] - 3s 9ms/step - loss: 0.0034 - accuracy: 0.9990 - val_loss: 0.0144 - val_accuracy: 0.9973 - epoch_time: 2.7120\n",
            "Epoch 72/300\n",
            "298/298 [==============================] - 3s 10ms/step - loss: 0.0056 - accuracy: 0.9986 - val_loss: 0.0178 - val_accuracy: 0.9964 - epoch_time: 2.8313\n",
            "Epoch 73/300\n",
            "298/298 [==============================] - 3s 10ms/step - loss: 0.0068 - accuracy: 0.9982 - val_loss: 0.0168 - val_accuracy: 0.9962 - epoch_time: 2.8359\n",
            "Epoch 74/300\n",
            "298/298 [==============================] - 3s 10ms/step - loss: 0.0036 - accuracy: 0.9988 - val_loss: 0.0191 - val_accuracy: 0.9966 - epoch_time: 2.8275\n",
            "Epoch 75/300\n",
            "298/298 [==============================] - 3s 10ms/step - loss: 0.0028 - accuracy: 0.9991 - val_loss: 0.0150 - val_accuracy: 0.9973 - epoch_time: 2.7836\n",
            "Epoch 76/300\n",
            "298/298 [==============================] - 3s 9ms/step - loss: 0.0043 - accuracy: 0.9988 - val_loss: 0.0187 - val_accuracy: 0.9962 - epoch_time: 2.7637\n",
            "Epoch 77/300\n",
            "298/298 [==============================] - 3s 9ms/step - loss: 0.0030 - accuracy: 0.9987 - val_loss: 0.0190 - val_accuracy: 0.9958 - epoch_time: 2.7631\n",
            "Epoch 78/300\n",
            "298/298 [==============================] - 3s 9ms/step - loss: 0.0042 - accuracy: 0.9990 - val_loss: 0.0181 - val_accuracy: 0.9964 - epoch_time: 2.7522\n",
            "Epoch 79/300\n",
            "298/298 [==============================] - 3s 9ms/step - loss: 0.0049 - accuracy: 0.9988 - val_loss: 0.0154 - val_accuracy: 0.9975 - epoch_time: 2.7467\n",
            "Epoch 80/300\n",
            "298/298 [==============================] - 3s 10ms/step - loss: 0.0040 - accuracy: 0.9987 - val_loss: 0.0152 - val_accuracy: 0.9975 - epoch_time: 2.7809\n",
            "Epoch 81/300\n",
            "298/298 [==============================] - 3s 9ms/step - loss: 0.0042 - accuracy: 0.9987 - val_loss: 0.0150 - val_accuracy: 0.9966 - epoch_time: 2.7713\n",
            "Epoch 82/300\n",
            "298/298 [==============================] - 3s 10ms/step - loss: 0.0041 - accuracy: 0.9986 - val_loss: 0.0166 - val_accuracy: 0.9962 - epoch_time: 2.8035\n",
            "Epoch 83/300\n",
            "298/298 [==============================] - 3s 9ms/step - loss: 0.0030 - accuracy: 0.9993 - val_loss: 0.0147 - val_accuracy: 0.9969 - epoch_time: 2.7550\n",
            "Epoch 84/300\n",
            "298/298 [==============================] - 3s 10ms/step - loss: 0.0022 - accuracy: 0.9995 - val_loss: 0.0158 - val_accuracy: 0.9973 - epoch_time: 2.7605\n",
            "Epoch 85/300\n",
            "298/298 [==============================] - 3s 10ms/step - loss: 0.0033 - accuracy: 0.9990 - val_loss: 0.0154 - val_accuracy: 0.9975 - epoch_time: 2.8277\n",
            "Epoch 86/300\n",
            "298/298 [==============================] - 3s 10ms/step - loss: 0.0054 - accuracy: 0.9987 - val_loss: 0.0190 - val_accuracy: 0.9966 - epoch_time: 2.7751\n",
            "Epoch 87/300\n",
            "298/298 [==============================] - 3s 9ms/step - loss: 0.0034 - accuracy: 0.9991 - val_loss: 0.0150 - val_accuracy: 0.9966 - epoch_time: 2.7411\n",
            "Epoch 88/300\n",
            "298/298 [==============================] - 3s 10ms/step - loss: 0.0021 - accuracy: 0.9994 - val_loss: 0.0166 - val_accuracy: 0.9966 - epoch_time: 2.8063\n",
            "Epoch 89/300\n",
            "298/298 [==============================] - 3s 9ms/step - loss: 0.0024 - accuracy: 0.9994 - val_loss: 0.0222 - val_accuracy: 0.9964 - epoch_time: 2.7475\n",
            "Epoch 90/300\n",
            "298/298 [==============================] - 3s 9ms/step - loss: 0.0028 - accuracy: 0.9991 - val_loss: 0.0192 - val_accuracy: 0.9969 - epoch_time: 2.7325\n",
            "Epoch 91/300\n",
            "298/298 [==============================] - 3s 10ms/step - loss: 0.0032 - accuracy: 0.9990 - val_loss: 0.0202 - val_accuracy: 0.9962 - epoch_time: 2.7845\n",
            "Epoch 92/300\n",
            "298/298 [==============================] - 3s 10ms/step - loss: 0.0052 - accuracy: 0.9988 - val_loss: 0.0241 - val_accuracy: 0.9958 - epoch_time: 2.8418\n",
            "Epoch 93/300\n",
            "298/298 [==============================] - 3s 10ms/step - loss: 0.0061 - accuracy: 0.9983 - val_loss: 0.0166 - val_accuracy: 0.9975 - epoch_time: 2.8616\n",
            "Epoch 94/300\n",
            "298/298 [==============================] - 3s 10ms/step - loss: 0.0022 - accuracy: 0.9993 - val_loss: 0.0175 - val_accuracy: 0.9973 - epoch_time: 2.8543\n",
            "Epoch 95/300\n",
            "298/298 [==============================] - 3s 10ms/step - loss: 0.0032 - accuracy: 0.9991 - val_loss: 0.0212 - val_accuracy: 0.9948 - epoch_time: 2.8817\n",
            "Epoch 96/300\n",
            "298/298 [==============================] - 3s 10ms/step - loss: 0.0036 - accuracy: 0.9988 - val_loss: 0.0213 - val_accuracy: 0.9956 - epoch_time: 2.8880\n",
            "Epoch 97/300\n",
            "298/298 [==============================] - 3s 10ms/step - loss: 0.0023 - accuracy: 0.9992 - val_loss: 0.0181 - val_accuracy: 0.9964 - epoch_time: 2.8015\n",
            "Epoch 98/300\n",
            "298/298 [==============================] - 3s 10ms/step - loss: 0.0029 - accuracy: 0.9994 - val_loss: 0.0208 - val_accuracy: 0.9960 - epoch_time: 2.8278\n",
            "Epoch 99/300\n",
            "298/298 [==============================] - 3s 10ms/step - loss: 0.0049 - accuracy: 0.9987 - val_loss: 0.0231 - val_accuracy: 0.9952 - epoch_time: 2.7908\n",
            "Epoch 100/300\n",
            "298/298 [==============================] - 3s 9ms/step - loss: 0.0032 - accuracy: 0.9990 - val_loss: 0.0194 - val_accuracy: 0.9964 - epoch_time: 2.7634\n",
            "Epoch 101/300\n",
            "298/298 [==============================] - 3s 10ms/step - loss: 0.0033 - accuracy: 0.9990 - val_loss: 0.0166 - val_accuracy: 0.9964 - epoch_time: 2.7736\n",
            "Epoch 102/300\n",
            "298/298 [==============================] - 3s 10ms/step - loss: 0.0030 - accuracy: 0.9994 - val_loss: 0.0192 - val_accuracy: 0.9964 - epoch_time: 2.8041\n",
            "Epoch 103/300\n",
            "298/298 [==============================] - 3s 10ms/step - loss: 0.0025 - accuracy: 0.9993 - val_loss: 0.0186 - val_accuracy: 0.9966 - epoch_time: 2.8946\n",
            "Epoch 104/300\n",
            "298/298 [==============================] - 3s 9ms/step - loss: 0.0050 - accuracy: 0.9985 - val_loss: 0.0240 - val_accuracy: 0.9952 - epoch_time: 2.7593\n",
            "Epoch 105/300\n",
            "298/298 [==============================] - 3s 10ms/step - loss: 0.0028 - accuracy: 0.9993 - val_loss: 0.0188 - val_accuracy: 0.9971 - epoch_time: 2.8128\n",
            "Epoch 106/300\n",
            "298/298 [==============================] - 3s 10ms/step - loss: 0.0041 - accuracy: 0.9990 - val_loss: 0.0216 - val_accuracy: 0.9954 - epoch_time: 2.8063\n",
            "Epoch 107/300\n",
            "298/298 [==============================] - 3s 10ms/step - loss: 0.0026 - accuracy: 0.9993 - val_loss: 0.0185 - val_accuracy: 0.9962 - epoch_time: 2.8561\n",
            "Epoch 108/300\n",
            "298/298 [==============================] - 3s 10ms/step - loss: 0.0011 - accuracy: 0.9997 - val_loss: 0.0217 - val_accuracy: 0.9966 - epoch_time: 2.8327\n",
            "Epoch 109/300\n",
            "298/298 [==============================] - 3s 9ms/step - loss: 0.0017 - accuracy: 0.9994 - val_loss: 0.0179 - val_accuracy: 0.9962 - epoch_time: 2.7611\n",
            "Epoch 110/300\n",
            "298/298 [==============================] - 3s 10ms/step - loss: 0.0021 - accuracy: 0.9992 - val_loss: 0.0184 - val_accuracy: 0.9969 - epoch_time: 2.8062\n",
            "Epoch 111/300\n",
            "298/298 [==============================] - 3s 9ms/step - loss: 0.0029 - accuracy: 0.9994 - val_loss: 0.0194 - val_accuracy: 0.9966 - epoch_time: 2.7626\n",
            "Epoch 112/300\n",
            "298/298 [==============================] - 3s 10ms/step - loss: 0.0035 - accuracy: 0.9993 - val_loss: 0.0206 - val_accuracy: 0.9962 - epoch_time: 2.7844\n",
            "Epoch 113/300\n",
            "298/298 [==============================] - 3s 9ms/step - loss: 0.0028 - accuracy: 0.9990 - val_loss: 0.0205 - val_accuracy: 0.9973 - epoch_time: 2.7128\n",
            "Epoch 114/300\n",
            "298/298 [==============================] - 3s 10ms/step - loss: 0.0033 - accuracy: 0.9988 - val_loss: 0.0199 - val_accuracy: 0.9964 - epoch_time: 2.7842\n",
            "Epoch 115/300\n",
            "298/298 [==============================] - 3s 10ms/step - loss: 0.0039 - accuracy: 0.9990 - val_loss: 0.0205 - val_accuracy: 0.9964 - epoch_time: 2.7761\n",
            "Epoch 116/300\n",
            "298/298 [==============================] - 3s 9ms/step - loss: 0.0020 - accuracy: 0.9993 - val_loss: 0.0223 - val_accuracy: 0.9962 - epoch_time: 2.7311\n",
            "Epoch 117/300\n",
            "298/298 [==============================] - 3s 10ms/step - loss: 0.0025 - accuracy: 0.9994 - val_loss: 0.0220 - val_accuracy: 0.9958 - epoch_time: 2.8237\n",
            "Epoch 118/300\n",
            "298/298 [==============================] - 3s 10ms/step - loss: 9.7910e-04 - accuracy: 0.9997 - val_loss: 0.0177 - val_accuracy: 0.9977 - epoch_time: 2.7946\n",
            "Epoch 119/300\n",
            "298/298 [==============================] - 3s 9ms/step - loss: 0.0040 - accuracy: 0.9990 - val_loss: 0.0176 - val_accuracy: 0.9969 - epoch_time: 2.7514\n",
            "Epoch 120/300\n",
            "298/298 [==============================] - 3s 9ms/step - loss: 0.0025 - accuracy: 0.9992 - val_loss: 0.0172 - val_accuracy: 0.9960 - epoch_time: 2.7655\n",
            "Epoch 121/300\n",
            "298/298 [==============================] - 3s 11ms/step - loss: 0.0026 - accuracy: 0.9993 - val_loss: 0.0144 - val_accuracy: 0.9966 - epoch_time: 3.2179\n",
            "Epoch 122/300\n",
            "298/298 [==============================] - 4s 14ms/step - loss: 0.0019 - accuracy: 0.9995 - val_loss: 0.0169 - val_accuracy: 0.9973 - epoch_time: 4.1847\n",
            "Epoch 123/300\n",
            "298/298 [==============================] - 3s 10ms/step - loss: 0.0022 - accuracy: 0.9992 - val_loss: 0.0184 - val_accuracy: 0.9969 - epoch_time: 2.9506\n",
            "Epoch 124/300\n",
            "298/298 [==============================] - 3s 9ms/step - loss: 0.0030 - accuracy: 0.9993 - val_loss: 0.0211 - val_accuracy: 0.9971 - epoch_time: 2.6716\n",
            "Epoch 125/300\n",
            "298/298 [==============================] - 3s 9ms/step - loss: 0.0025 - accuracy: 0.9995 - val_loss: 0.0193 - val_accuracy: 0.9964 - epoch_time: 2.6408\n",
            "Epoch 126/300\n",
            "298/298 [==============================] - 3s 9ms/step - loss: 0.0016 - accuracy: 0.9995 - val_loss: 0.0220 - val_accuracy: 0.9954 - epoch_time: 2.7003\n",
            "Epoch 127/300\n",
            "298/298 [==============================] - 3s 9ms/step - loss: 0.0027 - accuracy: 0.9991 - val_loss: 0.0222 - val_accuracy: 0.9971 - epoch_time: 2.6870\n",
            "Epoch 128/300\n",
            "298/298 [==============================] - 3s 9ms/step - loss: 0.0024 - accuracy: 0.9995 - val_loss: 0.0186 - val_accuracy: 0.9969 - epoch_time: 2.7449\n",
            "Epoch 129/300\n",
            "298/298 [==============================] - 3s 9ms/step - loss: 0.0027 - accuracy: 0.9993 - val_loss: 0.0186 - val_accuracy: 0.9971 - epoch_time: 2.7255\n",
            "Epoch 130/300\n",
            "298/298 [==============================] - 3s 9ms/step - loss: 0.0033 - accuracy: 0.9991 - val_loss: 0.0205 - val_accuracy: 0.9964 - epoch_time: 2.6979\n",
            "Epoch 131/300\n",
            "298/298 [==============================] - 3s 9ms/step - loss: 0.0029 - accuracy: 0.9990 - val_loss: 0.0209 - val_accuracy: 0.9956 - epoch_time: 2.7618\n",
            "Epoch 132/300\n",
            "298/298 [==============================] - 3s 9ms/step - loss: 8.7746e-04 - accuracy: 0.9997 - val_loss: 0.0198 - val_accuracy: 0.9969 - epoch_time: 2.6925\n",
            "Epoch 133/300\n",
            "298/298 [==============================] - 3s 9ms/step - loss: 0.0037 - accuracy: 0.9987 - val_loss: 0.0247 - val_accuracy: 0.9954 - epoch_time: 2.7209\n",
            "Epoch 134/300\n",
            "298/298 [==============================] - 3s 9ms/step - loss: 0.0029 - accuracy: 0.9992 - val_loss: 0.0198 - val_accuracy: 0.9971 - epoch_time: 2.7410\n",
            "Epoch 135/300\n",
            "298/298 [==============================] - 3s 10ms/step - loss: 0.0029 - accuracy: 0.9991 - val_loss: 0.0217 - val_accuracy: 0.9973 - epoch_time: 2.8099\n",
            "Epoch 136/300\n",
            "298/298 [==============================] - 3s 10ms/step - loss: 0.0023 - accuracy: 0.9993 - val_loss: 0.0204 - val_accuracy: 0.9960 - epoch_time: 2.7534\n",
            "Epoch 137/300\n",
            "298/298 [==============================] - 3s 9ms/step - loss: 0.0016 - accuracy: 0.9996 - val_loss: 0.0204 - val_accuracy: 0.9971 - epoch_time: 2.7227\n",
            "Epoch 138/300\n",
            "298/298 [==============================] - 3s 9ms/step - loss: 0.0013 - accuracy: 0.9997 - val_loss: 0.0215 - val_accuracy: 0.9964 - epoch_time: 2.7626\n",
            "Epoch 139/300\n",
            "298/298 [==============================] - 3s 9ms/step - loss: 0.0015 - accuracy: 0.9995 - val_loss: 0.0210 - val_accuracy: 0.9969 - epoch_time: 2.6778\n",
            "Epoch 140/300\n",
            "298/298 [==============================] - 3s 9ms/step - loss: 0.0016 - accuracy: 0.9996 - val_loss: 0.0256 - val_accuracy: 0.9958 - epoch_time: 2.6989\n",
            "Epoch 141/300\n",
            "298/298 [==============================] - 3s 9ms/step - loss: 0.0033 - accuracy: 0.9991 - val_loss: 0.0211 - val_accuracy: 0.9966 - epoch_time: 2.7569\n",
            "Epoch 142/300\n",
            "298/298 [==============================] - 3s 9ms/step - loss: 0.0025 - accuracy: 0.9993 - val_loss: 0.0186 - val_accuracy: 0.9973 - epoch_time: 2.7065\n",
            "Epoch 143/300\n",
            "298/298 [==============================] - 3s 9ms/step - loss: 0.0037 - accuracy: 0.9988 - val_loss: 0.0183 - val_accuracy: 0.9966 - epoch_time: 2.6918\n",
            "Epoch 144/300\n",
            "298/298 [==============================] - 3s 9ms/step - loss: 0.0020 - accuracy: 0.9995 - val_loss: 0.0207 - val_accuracy: 0.9962 - epoch_time: 2.6596\n",
            "Epoch 145/300\n",
            "298/298 [==============================] - 3s 9ms/step - loss: 0.0032 - accuracy: 0.9993 - val_loss: 0.0168 - val_accuracy: 0.9977 - epoch_time: 2.6943\n",
            "Epoch 146/300\n",
            "298/298 [==============================] - 3s 9ms/step - loss: 0.0016 - accuracy: 0.9993 - val_loss: 0.0166 - val_accuracy: 0.9975 - epoch_time: 2.7169\n",
            "Epoch 147/300\n",
            "298/298 [==============================] - 3s 9ms/step - loss: 0.0031 - accuracy: 0.9988 - val_loss: 0.0197 - val_accuracy: 0.9964 - epoch_time: 2.7748\n",
            "Epoch 148/300\n",
            "298/298 [==============================] - 3s 9ms/step - loss: 0.0034 - accuracy: 0.9990 - val_loss: 0.0207 - val_accuracy: 0.9960 - epoch_time: 2.7401\n",
            "Epoch 149/300\n",
            "298/298 [==============================] - 3s 10ms/step - loss: 0.0022 - accuracy: 0.9995 - val_loss: 0.0161 - val_accuracy: 0.9977 - epoch_time: 2.7812\n",
            "Epoch 150/300\n",
            "298/298 [==============================] - 3s 9ms/step - loss: 0.0041 - accuracy: 0.9989 - val_loss: 0.0159 - val_accuracy: 0.9962 - epoch_time: 2.7295\n",
            "Epoch 151/300\n",
            "298/298 [==============================] - 3s 9ms/step - loss: 0.0019 - accuracy: 0.9994 - val_loss: 0.0160 - val_accuracy: 0.9969 - epoch_time: 2.7252\n",
            "Epoch 152/300\n",
            "298/298 [==============================] - 3s 9ms/step - loss: 0.0012 - accuracy: 0.9998 - val_loss: 0.0161 - val_accuracy: 0.9973 - epoch_time: 2.6691\n",
            "Epoch 153/300\n",
            "298/298 [==============================] - 3s 9ms/step - loss: 8.9802e-04 - accuracy: 0.9997 - val_loss: 0.0186 - val_accuracy: 0.9975 - epoch_time: 2.6844\n",
            "Epoch 154/300\n",
            "298/298 [==============================] - 3s 9ms/step - loss: 0.0033 - accuracy: 0.9991 - val_loss: 0.0183 - val_accuracy: 0.9969 - epoch_time: 2.6992\n",
            "Epoch 155/300\n",
            "298/298 [==============================] - 3s 9ms/step - loss: 0.0021 - accuracy: 0.9996 - val_loss: 0.0173 - val_accuracy: 0.9973 - epoch_time: 2.6575\n",
            "Epoch 156/300\n",
            "298/298 [==============================] - 3s 9ms/step - loss: 0.0017 - accuracy: 0.9995 - val_loss: 0.0246 - val_accuracy: 0.9958 - epoch_time: 2.7585\n",
            "Epoch 157/300\n",
            "298/298 [==============================] - 3s 9ms/step - loss: 0.0019 - accuracy: 0.9995 - val_loss: 0.0185 - val_accuracy: 0.9969 - epoch_time: 2.7549\n",
            "Epoch 158/300\n",
            "298/298 [==============================] - 3s 10ms/step - loss: 7.2061e-04 - accuracy: 0.9997 - val_loss: 0.0230 - val_accuracy: 0.9962 - epoch_time: 2.8137\n",
            "Epoch 159/300\n",
            "298/298 [==============================] - 3s 9ms/step - loss: 0.0012 - accuracy: 0.9997 - val_loss: 0.0215 - val_accuracy: 0.9966 - epoch_time: 2.7664\n",
            "Epoch 160/300\n",
            "298/298 [==============================] - 3s 10ms/step - loss: 0.0019 - accuracy: 0.9995 - val_loss: 0.0199 - val_accuracy: 0.9966 - epoch_time: 2.8255\n",
            "Epoch 161/300\n",
            "298/298 [==============================] - 3s 9ms/step - loss: 0.0017 - accuracy: 0.9993 - val_loss: 0.0218 - val_accuracy: 0.9960 - epoch_time: 2.7584\n",
            "Epoch 162/300\n",
            "298/298 [==============================] - 3s 10ms/step - loss: 0.0034 - accuracy: 0.9987 - val_loss: 0.0259 - val_accuracy: 0.9956 - epoch_time: 2.7878\n",
            "Epoch 163/300\n",
            "298/298 [==============================] - 3s 9ms/step - loss: 0.0037 - accuracy: 0.9988 - val_loss: 0.0184 - val_accuracy: 0.9969 - epoch_time: 2.7533\n",
            "Epoch 164/300\n",
            "298/298 [==============================] - 3s 9ms/step - loss: 0.0019 - accuracy: 0.9991 - val_loss: 0.0196 - val_accuracy: 0.9977 - epoch_time: 2.6870\n",
            "Epoch 165/300\n",
            "298/298 [==============================] - 3s 9ms/step - loss: 0.0011 - accuracy: 0.9996 - val_loss: 0.0212 - val_accuracy: 0.9971 - epoch_time: 2.7699\n",
            "Epoch 166/300\n",
            "298/298 [==============================] - 3s 9ms/step - loss: 0.0019 - accuracy: 0.9995 - val_loss: 0.0198 - val_accuracy: 0.9958 - epoch_time: 2.7730\n",
            "Epoch 167/300\n",
            "298/298 [==============================] - 3s 9ms/step - loss: 0.0024 - accuracy: 0.9993 - val_loss: 0.0183 - val_accuracy: 0.9971 - epoch_time: 2.7093\n",
            "Epoch 168/300\n",
            "298/298 [==============================] - 3s 9ms/step - loss: 0.0013 - accuracy: 0.9995 - val_loss: 0.0178 - val_accuracy: 0.9973 - epoch_time: 2.7664\n",
            "Epoch 169/300\n",
            "298/298 [==============================] - 3s 9ms/step - loss: 0.0027 - accuracy: 0.9993 - val_loss: 0.0194 - val_accuracy: 0.9975 - epoch_time: 2.7560\n",
            "Epoch 170/300\n",
            "298/298 [==============================] - 3s 9ms/step - loss: 0.0028 - accuracy: 0.9993 - val_loss: 0.0155 - val_accuracy: 0.9975 - epoch_time: 2.7186\n",
            "Epoch 171/300\n",
            "298/298 [==============================] - 3s 10ms/step - loss: 0.0022 - accuracy: 0.9994 - val_loss: 0.0179 - val_accuracy: 0.9971 - epoch_time: 2.8021\n",
            "Epoch 172/300\n",
            "298/298 [==============================] - 3s 9ms/step - loss: 0.0011 - accuracy: 0.9996 - val_loss: 0.0182 - val_accuracy: 0.9973 - epoch_time: 2.6789\n",
            "Epoch 173/300\n",
            "298/298 [==============================] - 3s 9ms/step - loss: 9.0404e-04 - accuracy: 0.9997 - val_loss: 0.0191 - val_accuracy: 0.9973 - epoch_time: 2.7444\n",
            "Epoch 174/300\n",
            "298/298 [==============================] - 3s 10ms/step - loss: 0.0016 - accuracy: 0.9995 - val_loss: 0.0198 - val_accuracy: 0.9977 - epoch_time: 2.8149\n",
            "Epoch 175/300\n",
            "298/298 [==============================] - 3s 9ms/step - loss: 0.0024 - accuracy: 0.9993 - val_loss: 0.0232 - val_accuracy: 0.9964 - epoch_time: 2.7272\n",
            "Epoch 176/300\n",
            "298/298 [==============================] - 3s 9ms/step - loss: 0.0026 - accuracy: 0.9993 - val_loss: 0.0205 - val_accuracy: 0.9966 - epoch_time: 2.7146\n",
            "Epoch 177/300\n",
            "298/298 [==============================] - 3s 9ms/step - loss: 6.9118e-04 - accuracy: 0.9998 - val_loss: 0.0194 - val_accuracy: 0.9975 - epoch_time: 2.7635\n",
            "Epoch 178/300\n",
            "298/298 [==============================] - 3s 9ms/step - loss: 0.0011 - accuracy: 0.9997 - val_loss: 0.0218 - val_accuracy: 0.9973 - epoch_time: 2.7319\n",
            "Epoch 179/300\n",
            "298/298 [==============================] - 3s 9ms/step - loss: 0.0035 - accuracy: 0.9988 - val_loss: 0.0225 - val_accuracy: 0.9960 - epoch_time: 2.7138\n",
            "Epoch 180/300\n",
            "298/298 [==============================] - 3s 9ms/step - loss: 0.0016 - accuracy: 0.9996 - val_loss: 0.0235 - val_accuracy: 0.9971 - epoch_time: 2.7432\n",
            "Epoch 181/300\n",
            "298/298 [==============================] - 3s 10ms/step - loss: 7.8495e-04 - accuracy: 0.9997 - val_loss: 0.0256 - val_accuracy: 0.9966 - epoch_time: 2.8745\n",
            "Epoch 182/300\n",
            "298/298 [==============================] - 3s 9ms/step - loss: 0.0018 - accuracy: 0.9993 - val_loss: 0.0237 - val_accuracy: 0.9973 - epoch_time: 2.7535\n",
            "Epoch 183/300\n",
            "298/298 [==============================] - 3s 9ms/step - loss: 0.0026 - accuracy: 0.9995 - val_loss: 0.0201 - val_accuracy: 0.9964 - epoch_time: 2.7324\n",
            "Epoch 184/300\n",
            "298/298 [==============================] - 3s 10ms/step - loss: 5.4127e-04 - accuracy: 0.9999 - val_loss: 0.0284 - val_accuracy: 0.9966 - epoch_time: 2.8079\n",
            "Epoch 185/300\n",
            "298/298 [==============================] - 3s 9ms/step - loss: 0.0041 - accuracy: 0.9988 - val_loss: 0.0187 - val_accuracy: 0.9969 - epoch_time: 2.7301\n",
            "Epoch 186/300\n",
            "298/298 [==============================] - 3s 9ms/step - loss: 0.0035 - accuracy: 0.9990 - val_loss: 0.0219 - val_accuracy: 0.9958 - epoch_time: 2.6890\n",
            "Epoch 187/300\n",
            "298/298 [==============================] - 3s 9ms/step - loss: 0.0017 - accuracy: 0.9995 - val_loss: 0.0213 - val_accuracy: 0.9969 - epoch_time: 2.7381\n",
            "Epoch 188/300\n",
            "298/298 [==============================] - 3s 9ms/step - loss: 8.1353e-04 - accuracy: 0.9997 - val_loss: 0.0231 - val_accuracy: 0.9966 - epoch_time: 2.7688\n",
            "Epoch 189/300\n",
            "298/298 [==============================] - 3s 9ms/step - loss: 0.0017 - accuracy: 0.9994 - val_loss: 0.0221 - val_accuracy: 0.9969 - epoch_time: 2.7245\n",
            "Epoch 190/300\n",
            "298/298 [==============================] - 3s 9ms/step - loss: 0.0010 - accuracy: 0.9997 - val_loss: 0.0217 - val_accuracy: 0.9973 - epoch_time: 2.7468\n",
            "Epoch 191/300\n",
            "298/298 [==============================] - 3s 10ms/step - loss: 0.0023 - accuracy: 0.9993 - val_loss: 0.0198 - val_accuracy: 0.9964 - epoch_time: 2.7815\n",
            "Epoch 192/300\n",
            "298/298 [==============================] - 4s 13ms/step - loss: 0.0023 - accuracy: 0.9991 - val_loss: 0.0219 - val_accuracy: 0.9964 - epoch_time: 3.8478\n",
            "Epoch 193/300\n",
            "298/298 [==============================] - 4s 14ms/step - loss: 0.0028 - accuracy: 0.9990 - val_loss: 0.0218 - val_accuracy: 0.9962 - epoch_time: 4.1285\n",
            "Epoch 194/300\n",
            "298/298 [==============================] - 3s 10ms/step - loss: 0.0017 - accuracy: 0.9995 - val_loss: 0.0236 - val_accuracy: 0.9969 - epoch_time: 2.8747\n",
            "Epoch 195/300\n",
            "298/298 [==============================] - 3s 9ms/step - loss: 0.0012 - accuracy: 0.9996 - val_loss: 0.0261 - val_accuracy: 0.9962 - epoch_time: 2.7295\n",
            "Epoch 196/300\n",
            "298/298 [==============================] - 3s 9ms/step - loss: 0.0014 - accuracy: 0.9995 - val_loss: 0.0293 - val_accuracy: 0.9964 - epoch_time: 2.7627\n",
            "Epoch 197/300\n",
            "298/298 [==============================] - 3s 9ms/step - loss: 0.0019 - accuracy: 0.9995 - val_loss: 0.0248 - val_accuracy: 0.9964 - epoch_time: 2.7565\n",
            "Epoch 198/300\n",
            "298/298 [==============================] - 3s 10ms/step - loss: 0.0012 - accuracy: 0.9997 - val_loss: 0.0208 - val_accuracy: 0.9966 - epoch_time: 2.7726\n",
            "Epoch 199/300\n",
            "298/298 [==============================] - 3s 10ms/step - loss: 5.5613e-04 - accuracy: 0.9998 - val_loss: 0.0209 - val_accuracy: 0.9971 - epoch_time: 2.8745\n",
            "Epoch 200/300\n",
            "298/298 [==============================] - 3s 10ms/step - loss: 0.0012 - accuracy: 0.9997 - val_loss: 0.0204 - val_accuracy: 0.9975 - epoch_time: 2.7852\n",
            "Epoch 201/300\n",
            "298/298 [==============================] - 3s 10ms/step - loss: 6.1153e-04 - accuracy: 0.9999 - val_loss: 0.0249 - val_accuracy: 0.9975 - epoch_time: 2.8810\n",
            "Epoch 202/300\n",
            "298/298 [==============================] - 3s 10ms/step - loss: 5.7417e-04 - accuracy: 0.9998 - val_loss: 0.0229 - val_accuracy: 0.9975 - epoch_time: 2.8956\n",
            "Epoch 203/300\n",
            "298/298 [==============================] - 3s 10ms/step - loss: 0.0014 - accuracy: 0.9996 - val_loss: 0.0223 - val_accuracy: 0.9977 - epoch_time: 2.9091\n",
            "Epoch 204/300\n",
            "298/298 [==============================] - 3s 10ms/step - loss: 0.0016 - accuracy: 0.9994 - val_loss: 0.0253 - val_accuracy: 0.9962 - epoch_time: 2.9110\n",
            "Epoch 205/300\n",
            "298/298 [==============================] - 3s 10ms/step - loss: 0.0038 - accuracy: 0.9990 - val_loss: 0.0198 - val_accuracy: 0.9973 - epoch_time: 2.8208\n",
            "Epoch 206/300\n",
            "298/298 [==============================] - 3s 10ms/step - loss: 0.0026 - accuracy: 0.9993 - val_loss: 0.0195 - val_accuracy: 0.9966 - epoch_time: 2.8061\n",
            "Epoch 207/300\n",
            "298/298 [==============================] - 3s 10ms/step - loss: 0.0017 - accuracy: 0.9994 - val_loss: 0.0225 - val_accuracy: 0.9969 - epoch_time: 2.7779\n",
            "Epoch 208/300\n",
            "298/298 [==============================] - 3s 10ms/step - loss: 0.0031 - accuracy: 0.9991 - val_loss: 0.0174 - val_accuracy: 0.9969 - epoch_time: 2.7763\n",
            "Epoch 209/300\n",
            "298/298 [==============================] - 3s 9ms/step - loss: 0.0027 - accuracy: 0.9993 - val_loss: 0.0203 - val_accuracy: 0.9969 - epoch_time: 2.7225\n",
            "Epoch 210/300\n",
            "298/298 [==============================] - 3s 10ms/step - loss: 6.9613e-04 - accuracy: 0.9998 - val_loss: 0.0223 - val_accuracy: 0.9975 - epoch_time: 2.7793\n",
            "Epoch 211/300\n",
            "298/298 [==============================] - 3s 10ms/step - loss: 9.7719e-04 - accuracy: 0.9997 - val_loss: 0.0256 - val_accuracy: 0.9964 - epoch_time: 2.8078\n",
            "Epoch 212/300\n",
            "298/298 [==============================] - 3s 10ms/step - loss: 0.0013 - accuracy: 0.9995 - val_loss: 0.0307 - val_accuracy: 0.9962 - epoch_time: 2.8242\n",
            "Epoch 213/300\n",
            "298/298 [==============================] - 3s 10ms/step - loss: 7.0452e-04 - accuracy: 0.9997 - val_loss: 0.0314 - val_accuracy: 0.9954 - epoch_time: 2.8572\n",
            "Epoch 214/300\n",
            "298/298 [==============================] - 3s 10ms/step - loss: 0.0029 - accuracy: 0.9990 - val_loss: 0.0228 - val_accuracy: 0.9956 - epoch_time: 2.8776\n",
            "Epoch 215/300\n",
            "298/298 [==============================] - 3s 10ms/step - loss: 0.0032 - accuracy: 0.9992 - val_loss: 0.0235 - val_accuracy: 0.9964 - epoch_time: 2.8151\n",
            "Epoch 216/300\n",
            "298/298 [==============================] - 3s 9ms/step - loss: 0.0018 - accuracy: 0.9993 - val_loss: 0.0208 - val_accuracy: 0.9975 - epoch_time: 2.7387\n",
            "Epoch 217/300\n",
            "298/298 [==============================] - 3s 9ms/step - loss: 0.0016 - accuracy: 0.9995 - val_loss: 0.0214 - val_accuracy: 0.9966 - epoch_time: 2.7375\n",
            "Epoch 218/300\n",
            "298/298 [==============================] - 3s 10ms/step - loss: 8.0449e-04 - accuracy: 0.9997 - val_loss: 0.0297 - val_accuracy: 0.9962 - epoch_time: 2.7932\n",
            "Epoch 219/300\n",
            "298/298 [==============================] - 3s 10ms/step - loss: 0.0016 - accuracy: 0.9997 - val_loss: 0.0229 - val_accuracy: 0.9960 - epoch_time: 2.8231\n",
            "Epoch 220/300\n",
            "298/298 [==============================] - 3s 10ms/step - loss: 0.0021 - accuracy: 0.9992 - val_loss: 0.0234 - val_accuracy: 0.9964 - epoch_time: 2.8245\n",
            "Epoch 221/300\n",
            "298/298 [==============================] - 3s 10ms/step - loss: 0.0013 - accuracy: 0.9995 - val_loss: 0.0239 - val_accuracy: 0.9966 - epoch_time: 2.8953\n",
            "Epoch 222/300\n",
            "298/298 [==============================] - 3s 10ms/step - loss: 0.0022 - accuracy: 0.9995 - val_loss: 0.0188 - val_accuracy: 0.9971 - epoch_time: 2.8598\n",
            "Epoch 223/300\n",
            "298/298 [==============================] - 3s 10ms/step - loss: 3.6212e-04 - accuracy: 0.9999 - val_loss: 0.0165 - val_accuracy: 0.9971 - epoch_time: 2.9251\n",
            "Epoch 224/300\n",
            "298/298 [==============================] - 3s 10ms/step - loss: 0.0031 - accuracy: 0.9992 - val_loss: 0.0173 - val_accuracy: 0.9964 - epoch_time: 2.8017\n",
            "Epoch 225/300\n",
            "298/298 [==============================] - 3s 10ms/step - loss: 0.0013 - accuracy: 0.9996 - val_loss: 0.0206 - val_accuracy: 0.9975 - epoch_time: 2.9082\n",
            "Epoch 226/300\n",
            "298/298 [==============================] - 3s 10ms/step - loss: 0.0015 - accuracy: 0.9996 - val_loss: 0.0209 - val_accuracy: 0.9960 - epoch_time: 2.8984\n",
            "Epoch 227/300\n",
            "298/298 [==============================] - 3s 10ms/step - loss: 0.0012 - accuracy: 0.9995 - val_loss: 0.0175 - val_accuracy: 0.9975 - epoch_time: 2.8469\n",
            "Epoch 228/300\n",
            "298/298 [==============================] - 3s 10ms/step - loss: 0.0023 - accuracy: 0.9992 - val_loss: 0.0211 - val_accuracy: 0.9960 - epoch_time: 2.8925\n",
            "Epoch 229/300\n",
            "298/298 [==============================] - 3s 10ms/step - loss: 0.0025 - accuracy: 0.9994 - val_loss: 0.0201 - val_accuracy: 0.9966 - epoch_time: 2.8931\n",
            "Epoch 230/300\n",
            "298/298 [==============================] - 3s 10ms/step - loss: 7.5068e-04 - accuracy: 0.9997 - val_loss: 0.0238 - val_accuracy: 0.9962 - epoch_time: 2.8564\n",
            "Epoch 231/300\n",
            "298/298 [==============================] - 3s 10ms/step - loss: 0.0012 - accuracy: 0.9994 - val_loss: 0.0270 - val_accuracy: 0.9969 - epoch_time: 2.8537\n",
            "Epoch 232/300\n",
            "298/298 [==============================] - 3s 10ms/step - loss: 0.0013 - accuracy: 0.9995 - val_loss: 0.0212 - val_accuracy: 0.9969 - epoch_time: 2.8237\n",
            "Epoch 233/300\n",
            "298/298 [==============================] - 3s 10ms/step - loss: 0.0011 - accuracy: 0.9997 - val_loss: 0.0218 - val_accuracy: 0.9973 - epoch_time: 2.9109\n",
            "Epoch 234/300\n",
            "298/298 [==============================] - 3s 10ms/step - loss: 0.0017 - accuracy: 0.9994 - val_loss: 0.0186 - val_accuracy: 0.9971 - epoch_time: 2.8713\n",
            "Epoch 235/300\n",
            "298/298 [==============================] - 3s 10ms/step - loss: 0.0013 - accuracy: 0.9995 - val_loss: 0.0230 - val_accuracy: 0.9966 - epoch_time: 2.9005\n",
            "Epoch 236/300\n",
            "298/298 [==============================] - 3s 10ms/step - loss: 0.0025 - accuracy: 0.9995 - val_loss: 0.0183 - val_accuracy: 0.9966 - epoch_time: 2.8790\n",
            "Epoch 237/300\n",
            "298/298 [==============================] - 3s 10ms/step - loss: 0.0031 - accuracy: 0.9992 - val_loss: 0.0184 - val_accuracy: 0.9971 - epoch_time: 2.8484\n",
            "Epoch 238/300\n",
            "298/298 [==============================] - 3s 10ms/step - loss: 0.0018 - accuracy: 0.9995 - val_loss: 0.0154 - val_accuracy: 0.9973 - epoch_time: 2.8863\n",
            "Epoch 239/300\n",
            "298/298 [==============================] - 3s 10ms/step - loss: 0.0015 - accuracy: 0.9996 - val_loss: 0.0217 - val_accuracy: 0.9971 - epoch_time: 2.8713\n",
            "Epoch 240/300\n",
            "298/298 [==============================] - 3s 10ms/step - loss: 0.0024 - accuracy: 0.9994 - val_loss: 0.0204 - val_accuracy: 0.9966 - epoch_time: 2.9478\n",
            "Epoch 241/300\n",
            "298/298 [==============================] - 3s 10ms/step - loss: 0.0013 - accuracy: 0.9995 - val_loss: 0.0192 - val_accuracy: 0.9971 - epoch_time: 2.8545\n",
            "Epoch 242/300\n",
            "298/298 [==============================] - 3s 10ms/step - loss: 7.8096e-04 - accuracy: 0.9998 - val_loss: 0.0205 - val_accuracy: 0.9973 - epoch_time: 3.0045\n",
            "Epoch 243/300\n",
            "298/298 [==============================] - 3s 10ms/step - loss: 0.0012 - accuracy: 0.9995 - val_loss: 0.0196 - val_accuracy: 0.9962 - epoch_time: 2.9122\n",
            "Epoch 244/300\n",
            "298/298 [==============================] - 3s 10ms/step - loss: 0.0011 - accuracy: 0.9996 - val_loss: 0.0199 - val_accuracy: 0.9966 - epoch_time: 2.8803\n",
            "Epoch 245/300\n",
            "298/298 [==============================] - 3s 10ms/step - loss: 0.0019 - accuracy: 0.9993 - val_loss: 0.0197 - val_accuracy: 0.9964 - epoch_time: 2.8555\n",
            "Epoch 246/300\n",
            "298/298 [==============================] - 3s 10ms/step - loss: 0.0021 - accuracy: 0.9995 - val_loss: 0.0190 - val_accuracy: 0.9971 - epoch_time: 2.8590\n",
            "Epoch 247/300\n",
            "298/298 [==============================] - 3s 10ms/step - loss: 0.0019 - accuracy: 0.9995 - val_loss: 0.0201 - val_accuracy: 0.9969 - epoch_time: 2.9258\n",
            "Epoch 248/300\n",
            "298/298 [==============================] - 3s 10ms/step - loss: 0.0022 - accuracy: 0.9994 - val_loss: 0.0209 - val_accuracy: 0.9966 - epoch_time: 2.9680\n",
            "Epoch 249/300\n",
            "298/298 [==============================] - 3s 10ms/step - loss: 0.0016 - accuracy: 0.9994 - val_loss: 0.0209 - val_accuracy: 0.9966 - epoch_time: 2.9574\n",
            "Epoch 250/300\n",
            "298/298 [==============================] - 3s 10ms/step - loss: 0.0012 - accuracy: 0.9997 - val_loss: 0.0175 - val_accuracy: 0.9971 - epoch_time: 2.9610\n",
            "Epoch 251/300\n",
            "298/298 [==============================] - 3s 10ms/step - loss: 3.6536e-04 - accuracy: 0.9999 - val_loss: 0.0228 - val_accuracy: 0.9971 - epoch_time: 2.9341\n",
            "Epoch 252/300\n",
            "298/298 [==============================] - 3s 10ms/step - loss: 4.2952e-04 - accuracy: 0.9998 - val_loss: 0.0235 - val_accuracy: 0.9973 - epoch_time: 2.9644\n",
            "Epoch 253/300\n",
            "298/298 [==============================] - 3s 10ms/step - loss: 0.0033 - accuracy: 0.9989 - val_loss: 0.0184 - val_accuracy: 0.9971 - epoch_time: 2.9096\n",
            "Epoch 254/300\n",
            "298/298 [==============================] - 3s 10ms/step - loss: 0.0010 - accuracy: 0.9997 - val_loss: 0.0177 - val_accuracy: 0.9969 - epoch_time: 2.9321\n",
            "Epoch 255/300\n",
            "298/298 [==============================] - 3s 10ms/step - loss: 5.5766e-04 - accuracy: 0.9998 - val_loss: 0.0191 - val_accuracy: 0.9979 - epoch_time: 2.9087\n",
            "Epoch 256/300\n",
            "298/298 [==============================] - 3s 10ms/step - loss: 0.0031 - accuracy: 0.9992 - val_loss: 0.0160 - val_accuracy: 0.9973 - epoch_time: 2.8579\n",
            "Epoch 257/300\n",
            "298/298 [==============================] - 3s 10ms/step - loss: 8.2713e-04 - accuracy: 0.9998 - val_loss: 0.0183 - val_accuracy: 0.9975 - epoch_time: 2.8712\n",
            "Epoch 258/300\n",
            "298/298 [==============================] - 3s 10ms/step - loss: 0.0016 - accuracy: 0.9994 - val_loss: 0.0212 - val_accuracy: 0.9971 - epoch_time: 2.8456\n",
            "Epoch 259/300\n",
            "298/298 [==============================] - 4s 13ms/step - loss: 0.0011 - accuracy: 0.9996 - val_loss: 0.0226 - val_accuracy: 0.9969 - epoch_time: 3.6437\n",
            "Epoch 260/300\n",
            "298/298 [==============================] - 4s 14ms/step - loss: 5.0210e-04 - accuracy: 0.9999 - val_loss: 0.0241 - val_accuracy: 0.9973 - epoch_time: 3.9919\n",
            "Epoch 261/300\n",
            "298/298 [==============================] - 3s 10ms/step - loss: 0.0010 - accuracy: 0.9997 - val_loss: 0.0255 - val_accuracy: 0.9966 - epoch_time: 2.9034\n",
            "Epoch 262/300\n",
            "298/298 [==============================] - 3s 10ms/step - loss: 0.0023 - accuracy: 0.9994 - val_loss: 0.0167 - val_accuracy: 0.9971 - epoch_time: 2.9255\n",
            "Epoch 263/300\n",
            "298/298 [==============================] - 3s 10ms/step - loss: 0.0012 - accuracy: 0.9996 - val_loss: 0.0180 - val_accuracy: 0.9971 - epoch_time: 2.9251\n",
            "Epoch 264/300\n",
            "298/298 [==============================] - 3s 10ms/step - loss: 0.0015 - accuracy: 0.9997 - val_loss: 0.0181 - val_accuracy: 0.9966 - epoch_time: 2.8610\n",
            "Epoch 265/300\n",
            "298/298 [==============================] - 3s 10ms/step - loss: 6.9059e-04 - accuracy: 0.9998 - val_loss: 0.0227 - val_accuracy: 0.9971 - epoch_time: 2.8570\n",
            "Epoch 266/300\n",
            "298/298 [==============================] - 3s 10ms/step - loss: 1.8088e-04 - accuracy: 1.0000 - val_loss: 0.0203 - val_accuracy: 0.9971 - epoch_time: 2.8854\n",
            "Epoch 267/300\n",
            "298/298 [==============================] - 3s 10ms/step - loss: 0.0025 - accuracy: 0.9995 - val_loss: 0.0146 - val_accuracy: 0.9971 - epoch_time: 2.8691\n",
            "Epoch 268/300\n",
            "298/298 [==============================] - 3s 10ms/step - loss: 0.0014 - accuracy: 0.9995 - val_loss: 0.0167 - val_accuracy: 0.9977 - epoch_time: 2.8881\n",
            "Epoch 269/300\n",
            "298/298 [==============================] - 3s 10ms/step - loss: 9.9958e-04 - accuracy: 0.9998 - val_loss: 0.0220 - val_accuracy: 0.9969 - epoch_time: 2.8759\n",
            "Epoch 270/300\n",
            "298/298 [==============================] - 3s 10ms/step - loss: 0.0012 - accuracy: 0.9995 - val_loss: 0.0225 - val_accuracy: 0.9973 - epoch_time: 2.9181\n",
            "Epoch 271/300\n",
            "298/298 [==============================] - 3s 10ms/step - loss: 0.0045 - accuracy: 0.9986 - val_loss: 0.0157 - val_accuracy: 0.9975 - epoch_time: 2.8902\n",
            "Epoch 272/300\n",
            "298/298 [==============================] - 3s 10ms/step - loss: 0.0012 - accuracy: 0.9997 - val_loss: 0.0183 - val_accuracy: 0.9975 - epoch_time: 2.9713\n",
            "Epoch 273/300\n",
            "298/298 [==============================] - 3s 10ms/step - loss: 0.0015 - accuracy: 0.9996 - val_loss: 0.0181 - val_accuracy: 0.9973 - epoch_time: 2.9144\n",
            "Epoch 274/300\n",
            "298/298 [==============================] - 3s 10ms/step - loss: 0.0011 - accuracy: 0.9996 - val_loss: 0.0173 - val_accuracy: 0.9977 - epoch_time: 2.9377\n",
            "Epoch 275/300\n",
            "298/298 [==============================] - 3s 10ms/step - loss: 0.0015 - accuracy: 0.9995 - val_loss: 0.0189 - val_accuracy: 0.9973 - epoch_time: 2.9743\n",
            "Epoch 276/300\n",
            "298/298 [==============================] - 3s 10ms/step - loss: 0.0010 - accuracy: 0.9997 - val_loss: 0.0161 - val_accuracy: 0.9973 - epoch_time: 2.9042\n",
            "Epoch 277/300\n",
            "298/298 [==============================] - 3s 10ms/step - loss: 0.0012 - accuracy: 0.9997 - val_loss: 0.0182 - val_accuracy: 0.9971 - epoch_time: 2.9294\n",
            "Epoch 278/300\n",
            "298/298 [==============================] - 3s 10ms/step - loss: 0.0036 - accuracy: 0.9991 - val_loss: 0.0147 - val_accuracy: 0.9975 - epoch_time: 2.8809\n",
            "Epoch 279/300\n",
            "298/298 [==============================] - 3s 10ms/step - loss: 0.0017 - accuracy: 0.9994 - val_loss: 0.0147 - val_accuracy: 0.9979 - epoch_time: 2.8933\n",
            "Epoch 280/300\n",
            "298/298 [==============================] - 3s 10ms/step - loss: 0.0016 - accuracy: 0.9996 - val_loss: 0.0164 - val_accuracy: 0.9979 - epoch_time: 3.0288\n",
            "Epoch 281/300\n",
            "298/298 [==============================] - 3s 10ms/step - loss: 0.0013 - accuracy: 0.9997 - val_loss: 0.0175 - val_accuracy: 0.9979 - epoch_time: 2.9056\n",
            "Epoch 282/300\n",
            "298/298 [==============================] - 3s 10ms/step - loss: 0.0015 - accuracy: 0.9995 - val_loss: 0.0195 - val_accuracy: 0.9977 - epoch_time: 2.9250\n",
            "Epoch 283/300\n",
            "298/298 [==============================] - 3s 10ms/step - loss: 0.0023 - accuracy: 0.9991 - val_loss: 0.0167 - val_accuracy: 0.9971 - epoch_time: 2.9401\n",
            "Epoch 284/300\n",
            "298/298 [==============================] - 3s 10ms/step - loss: 0.0015 - accuracy: 0.9995 - val_loss: 0.0188 - val_accuracy: 0.9975 - epoch_time: 2.9116\n",
            "Epoch 285/300\n",
            "298/298 [==============================] - 3s 10ms/step - loss: 6.6017e-04 - accuracy: 0.9998 - val_loss: 0.0192 - val_accuracy: 0.9977 - epoch_time: 2.8833\n",
            "Epoch 286/300\n",
            "298/298 [==============================] - 3s 10ms/step - loss: 5.7778e-04 - accuracy: 0.9997 - val_loss: 0.0206 - val_accuracy: 0.9973 - epoch_time: 2.8708\n",
            "Epoch 287/300\n",
            "298/298 [==============================] - 3s 10ms/step - loss: 1.6107e-04 - accuracy: 1.0000 - val_loss: 0.0200 - val_accuracy: 0.9973 - epoch_time: 2.9455\n",
            "Epoch 288/300\n",
            "298/298 [==============================] - 3s 10ms/step - loss: 0.0040 - accuracy: 0.9986 - val_loss: 0.0155 - val_accuracy: 0.9969 - epoch_time: 2.8787\n",
            "Epoch 289/300\n",
            "298/298 [==============================] - 3s 10ms/step - loss: 0.0027 - accuracy: 0.9992 - val_loss: 0.0166 - val_accuracy: 0.9973 - epoch_time: 2.8978\n",
            "Epoch 290/300\n",
            "298/298 [==============================] - 3s 10ms/step - loss: 6.8787e-04 - accuracy: 0.9998 - val_loss: 0.0175 - val_accuracy: 0.9979 - epoch_time: 2.8461\n",
            "Epoch 291/300\n",
            "298/298 [==============================] - 3s 10ms/step - loss: 0.0022 - accuracy: 0.9992 - val_loss: 0.0171 - val_accuracy: 0.9969 - epoch_time: 2.9717\n",
            "Epoch 292/300\n",
            "298/298 [==============================] - 3s 10ms/step - loss: 4.5099e-04 - accuracy: 0.9999 - val_loss: 0.0195 - val_accuracy: 0.9969 - epoch_time: 2.9130\n",
            "Epoch 293/300\n",
            "298/298 [==============================] - 3s 10ms/step - loss: 2.0700e-04 - accuracy: 0.9999 - val_loss: 0.0227 - val_accuracy: 0.9973 - epoch_time: 2.8963\n",
            "Epoch 294/300\n",
            "298/298 [==============================] - 3s 10ms/step - loss: 6.5559e-04 - accuracy: 0.9996 - val_loss: 0.0231 - val_accuracy: 0.9971 - epoch_time: 2.9592\n",
            "Epoch 295/300\n",
            "298/298 [==============================] - 3s 10ms/step - loss: 0.0026 - accuracy: 0.9994 - val_loss: 0.0204 - val_accuracy: 0.9971 - epoch_time: 2.9123\n",
            "Epoch 296/300\n",
            "298/298 [==============================] - 3s 10ms/step - loss: 5.6768e-04 - accuracy: 0.9998 - val_loss: 0.0243 - val_accuracy: 0.9969 - epoch_time: 2.9881\n",
            "Epoch 297/300\n",
            "298/298 [==============================] - 3s 10ms/step - loss: 8.3012e-04 - accuracy: 0.9997 - val_loss: 0.0227 - val_accuracy: 0.9971 - epoch_time: 2.9050\n",
            "Epoch 298/300\n",
            "298/298 [==============================] - 3s 10ms/step - loss: 0.0021 - accuracy: 0.9994 - val_loss: 0.0203 - val_accuracy: 0.9966 - epoch_time: 2.8871\n",
            "Epoch 299/300\n",
            "298/298 [==============================] - 3s 10ms/step - loss: 0.0017 - accuracy: 0.9995 - val_loss: 0.0233 - val_accuracy: 0.9962 - epoch_time: 2.9354\n",
            "Epoch 300/300\n",
            "298/298 [==============================] - 3s 10ms/step - loss: 0.0011 - accuracy: 0.9997 - val_loss: 0.0195 - val_accuracy: 0.9969 - epoch_time: 2.9340\n"
          ]
        }
      ]
    },
    {
      "cell_type": "code",
      "metadata": {
        "id": "Vf-p8GLJ6KaI",
        "colab": {
          "base_uri": "https://localhost:8080/"
        },
        "outputId": "64f81fa3-4d13-4e4a-99fd-f21b7d1b36c5"
      },
      "source": [
        "model_sensor1.summary()"
      ],
      "execution_count": null,
      "outputs": [
        {
          "output_type": "stream",
          "name": "stdout",
          "text": [
            "Model: \"sequential\"\n",
            "_________________________________________________________________\n",
            " Layer (type)                Output Shape              Param #   \n",
            "=================================================================\n",
            " time_distributed (TimeDistr  (None, 10, 3, 40)        160       \n",
            " ibuted)                                                         \n",
            "                                                                 \n",
            " time_distributed_1 (TimeDis  (None, 10, 3, 40)        0         \n",
            " tributed)                                                       \n",
            "                                                                 \n",
            " time_distributed_2 (TimeDis  (None, 10, 3, 60)        7260      \n",
            " tributed)                                                       \n",
            "                                                                 \n",
            " time_distributed_3 (TimeDis  (None, 10, 3, 60)        0         \n",
            " tributed)                                                       \n",
            "                                                                 \n",
            " time_distributed_4 (TimeDis  (None, 10, 3, 60)        10860     \n",
            " tributed)                                                       \n",
            "                                                                 \n",
            " time_distributed_5 (TimeDis  (None, 10, 60)           0         \n",
            " tributed)                                                       \n",
            "                                                                 \n",
            " time_distributed_6 (TimeDis  (None, 10, 60)           0         \n",
            " tributed)                                                       \n",
            "                                                                 \n",
            " bidirectional (Bidirectiona  (None, 120)              58080     \n",
            " l)                                                              \n",
            "                                                                 \n",
            " dense (Dense)               (None, 30)                3630      \n",
            "                                                                 \n",
            " dropout_3 (Dropout)         (None, 30)                0         \n",
            "                                                                 \n",
            " dense_1 (Dense)             (None, 2)                 62        \n",
            "                                                                 \n",
            "=================================================================\n",
            "Total params: 80,052\n",
            "Trainable params: 80,052\n",
            "Non-trainable params: 0\n",
            "_________________________________________________________________\n"
          ]
        }
      ]
    },
    {
      "cell_type": "code",
      "metadata": {
        "id": "746oP9In6KbQ",
        "colab": {
          "base_uri": "https://localhost:8080/",
          "height": 689
        },
        "outputId": "9cfe2aca-bf9a-4b92-d674-d815b29bc9be"
      },
      "source": [
        "plot_model(model= model_sensor1, show_shapes= True, dpi=50)"
      ],
      "execution_count": null,
      "outputs": [
        {
          "output_type": "execute_result",
          "data": {
            "image/png": "[encoded data removed]",
            "text/plain": [
              "<IPython.core.display.Image object>"
            ]
          },
          "metadata": {},
          "execution_count": 51
        }
      ]
    },
    {
      "cell_type": "code",
      "metadata": {
        "id": "M0LiWfCH6KgA",
        "colab": {
          "base_uri": "https://localhost:8080/"
        },
        "outputId": "b7c5acbf-e13d-4aec-fba9-d96e3a9bc84f"
      },
      "source": [
        "sensor = \"sensor2\"\n",
        "time_callback = TimeHistory()\n",
        "model_sensor2 = creatModel()\n",
        "model_save, checkpoint, history_cb, Estop = settCallbacks(\"sensor2\")\n",
        "history_sensor2 = model_sensor2.fit(X_train_sensor2, y_train_sensor2,\n",
        "                                    batch_size = 64, epochs = 300,\n",
        "                                    validation_split = 0.2,\n",
        "                                    verbose = 1,\n",
        "                                    callbacks = [time_callback,model_save, checkpoint, history_cb, Estop])\n",
        "                                    # class_weight= class_weights)"
      ],
      "execution_count": null,
      "outputs": [
        {
          "output_type": "stream",
          "name": "stdout",
          "text": [
            "Epoch 1/300\n",
            "298/298 [==============================] - 7s 12ms/step - loss: 0.2829 - accuracy: 0.8873 - val_loss: 0.0892 - val_accuracy: 0.9759 - epoch_time: 7.1202\n",
            "Epoch 2/300\n",
            "298/298 [==============================] - 3s 9ms/step - loss: 0.0862 - accuracy: 0.9763 - val_loss: 0.0618 - val_accuracy: 0.9838 - epoch_time: 2.6362\n",
            "Epoch 3/300\n",
            "298/298 [==============================] - 3s 9ms/step - loss: 0.0634 - accuracy: 0.9829 - val_loss: 0.0627 - val_accuracy: 0.9853 - epoch_time: 2.6569\n",
            "Epoch 4/300\n",
            "298/298 [==============================] - 3s 9ms/step - loss: 0.0513 - accuracy: 0.9861 - val_loss: 0.0498 - val_accuracy: 0.9868 - epoch_time: 2.6420\n",
            "Epoch 5/300\n",
            "298/298 [==============================] - 3s 9ms/step - loss: 0.0461 - accuracy: 0.9867 - val_loss: 0.0366 - val_accuracy: 0.9893 - epoch_time: 2.6547\n",
            "Epoch 6/300\n",
            "298/298 [==============================] - 3s 9ms/step - loss: 0.0362 - accuracy: 0.9901 - val_loss: 0.0298 - val_accuracy: 0.9922 - epoch_time: 2.6353\n",
            "Epoch 7/300\n",
            "298/298 [==============================] - 3s 9ms/step - loss: 0.0317 - accuracy: 0.9910 - val_loss: 0.0410 - val_accuracy: 0.9880 - epoch_time: 2.6629\n",
            "Epoch 8/300\n",
            "298/298 [==============================] - 3s 9ms/step - loss: 0.0288 - accuracy: 0.9923 - val_loss: 0.0210 - val_accuracy: 0.9937 - epoch_time: 2.6795\n",
            "Epoch 9/300\n",
            "298/298 [==============================] - 3s 11ms/step - loss: 0.0223 - accuracy: 0.9937 - val_loss: 0.0233 - val_accuracy: 0.9941 - epoch_time: 3.2852\n",
            "Epoch 10/300\n",
            "298/298 [==============================] - 5s 16ms/step - loss: 0.0208 - accuracy: 0.9940 - val_loss: 0.0169 - val_accuracy: 0.9956 - epoch_time: 4.3779\n",
            "Epoch 11/300\n",
            "298/298 [==============================] - 3s 9ms/step - loss: 0.0209 - accuracy: 0.9936 - val_loss: 0.0178 - val_accuracy: 0.9945 - epoch_time: 2.7383\n",
            "Epoch 12/300\n",
            "298/298 [==============================] - 3s 9ms/step - loss: 0.0193 - accuracy: 0.9944 - val_loss: 0.0181 - val_accuracy: 0.9948 - epoch_time: 2.6686\n",
            "Epoch 13/300\n",
            "298/298 [==============================] - 3s 10ms/step - loss: 0.0171 - accuracy: 0.9950 - val_loss: 0.0136 - val_accuracy: 0.9964 - epoch_time: 2.7397\n",
            "Epoch 14/300\n",
            "298/298 [==============================] - 3s 10ms/step - loss: 0.0150 - accuracy: 0.9962 - val_loss: 0.0119 - val_accuracy: 0.9964 - epoch_time: 2.7078\n",
            "Epoch 15/300\n",
            "298/298 [==============================] - 3s 9ms/step - loss: 0.0136 - accuracy: 0.9956 - val_loss: 0.0154 - val_accuracy: 0.9962 - epoch_time: 2.6736\n",
            "Epoch 16/300\n",
            "298/298 [==============================] - 3s 9ms/step - loss: 0.0158 - accuracy: 0.9958 - val_loss: 0.0211 - val_accuracy: 0.9943 - epoch_time: 2.6494\n",
            "Epoch 17/300\n",
            "298/298 [==============================] - 3s 9ms/step - loss: 0.0133 - accuracy: 0.9963 - val_loss: 0.0161 - val_accuracy: 0.9960 - epoch_time: 2.6977\n",
            "Epoch 18/300\n",
            "298/298 [==============================] - 3s 9ms/step - loss: 0.0108 - accuracy: 0.9966 - val_loss: 0.0150 - val_accuracy: 0.9966 - epoch_time: 2.6942\n",
            "Epoch 19/300\n",
            "298/298 [==============================] - 3s 10ms/step - loss: 0.0118 - accuracy: 0.9965 - val_loss: 0.0153 - val_accuracy: 0.9964 - epoch_time: 2.7872\n",
            "Epoch 20/300\n",
            "298/298 [==============================] - 3s 9ms/step - loss: 0.0111 - accuracy: 0.9966 - val_loss: 0.0128 - val_accuracy: 0.9975 - epoch_time: 2.7387\n",
            "Epoch 21/300\n",
            "298/298 [==============================] - 3s 10ms/step - loss: 0.0095 - accuracy: 0.9971 - val_loss: 0.0131 - val_accuracy: 0.9969 - epoch_time: 2.7989\n",
            "Epoch 22/300\n",
            "298/298 [==============================] - 3s 9ms/step - loss: 0.0095 - accuracy: 0.9972 - val_loss: 0.0153 - val_accuracy: 0.9960 - epoch_time: 2.6960\n",
            "Epoch 23/300\n",
            "298/298 [==============================] - 3s 9ms/step - loss: 0.0114 - accuracy: 0.9968 - val_loss: 0.0133 - val_accuracy: 0.9969 - epoch_time: 2.6910\n",
            "Epoch 24/300\n",
            "298/298 [==============================] - 3s 11ms/step - loss: 0.0103 - accuracy: 0.9972 - val_loss: 0.0093 - val_accuracy: 0.9979 - epoch_time: 2.6972\n",
            "Epoch 25/300\n",
            "298/298 [==============================] - 3s 9ms/step - loss: 0.0096 - accuracy: 0.9968 - val_loss: 0.0116 - val_accuracy: 0.9975 - epoch_time: 2.6999\n",
            "Epoch 26/300\n",
            "298/298 [==============================] - 3s 9ms/step - loss: 0.0068 - accuracy: 0.9982 - val_loss: 0.0097 - val_accuracy: 0.9981 - epoch_time: 2.7312\n",
            "Epoch 27/300\n",
            "298/298 [==============================] - 3s 9ms/step - loss: 0.0084 - accuracy: 0.9975 - val_loss: 0.0123 - val_accuracy: 0.9975 - epoch_time: 2.6644\n",
            "Epoch 28/300\n",
            "298/298 [==============================] - 3s 9ms/step - loss: 0.0080 - accuracy: 0.9973 - val_loss: 0.0097 - val_accuracy: 0.9973 - epoch_time: 2.6879\n",
            "Epoch 29/300\n",
            "298/298 [==============================] - 3s 9ms/step - loss: 0.0064 - accuracy: 0.9980 - val_loss: 0.0113 - val_accuracy: 0.9973 - epoch_time: 2.6406\n",
            "Epoch 30/300\n",
            "298/298 [==============================] - 3s 9ms/step - loss: 0.0069 - accuracy: 0.9976 - val_loss: 0.0158 - val_accuracy: 0.9956 - epoch_time: 2.7237\n",
            "Epoch 31/300\n",
            "298/298 [==============================] - 3s 9ms/step - loss: 0.0085 - accuracy: 0.9974 - val_loss: 0.0129 - val_accuracy: 0.9969 - epoch_time: 2.7061\n",
            "Epoch 32/300\n",
            "298/298 [==============================] - 3s 9ms/step - loss: 0.0058 - accuracy: 0.9981 - val_loss: 0.0146 - val_accuracy: 0.9966 - epoch_time: 2.7304\n",
            "Epoch 33/300\n",
            "298/298 [==============================] - 3s 9ms/step - loss: 0.0061 - accuracy: 0.9983 - val_loss: 0.0117 - val_accuracy: 0.9977 - epoch_time: 2.6589\n",
            "Epoch 34/300\n",
            "298/298 [==============================] - 3s 9ms/step - loss: 0.0054 - accuracy: 0.9983 - val_loss: 0.0123 - val_accuracy: 0.9977 - epoch_time: 2.6928\n",
            "Epoch 35/300\n",
            "298/298 [==============================] - 3s 9ms/step - loss: 0.0081 - accuracy: 0.9977 - val_loss: 0.0121 - val_accuracy: 0.9975 - epoch_time: 2.7152\n",
            "Epoch 36/300\n",
            "298/298 [==============================] - 3s 9ms/step - loss: 0.0081 - accuracy: 0.9978 - val_loss: 0.0217 - val_accuracy: 0.9950 - epoch_time: 2.7656\n",
            "Epoch 37/300\n",
            "298/298 [==============================] - 3s 9ms/step - loss: 0.0078 - accuracy: 0.9972 - val_loss: 0.0107 - val_accuracy: 0.9971 - epoch_time: 2.6442\n",
            "Epoch 38/300\n",
            "298/298 [==============================] - 3s 9ms/step - loss: 0.0058 - accuracy: 0.9982 - val_loss: 0.0145 - val_accuracy: 0.9964 - epoch_time: 2.6928\n",
            "Epoch 39/300\n",
            "298/298 [==============================] - 3s 9ms/step - loss: 0.0045 - accuracy: 0.9988 - val_loss: 0.0116 - val_accuracy: 0.9971 - epoch_time: 2.7469\n",
            "Epoch 40/300\n",
            "298/298 [==============================] - 3s 9ms/step - loss: 0.0039 - accuracy: 0.9990 - val_loss: 0.0144 - val_accuracy: 0.9975 - epoch_time: 2.7369\n",
            "Epoch 41/300\n",
            "298/298 [==============================] - 3s 9ms/step - loss: 0.0067 - accuracy: 0.9983 - val_loss: 0.0141 - val_accuracy: 0.9973 - epoch_time: 2.7277\n",
            "Epoch 42/300\n",
            "298/298 [==============================] - 3s 10ms/step - loss: 0.0065 - accuracy: 0.9982 - val_loss: 0.0154 - val_accuracy: 0.9956 - epoch_time: 2.8154\n",
            "Epoch 43/300\n",
            "298/298 [==============================] - 3s 9ms/step - loss: 0.0038 - accuracy: 0.9988 - val_loss: 0.0138 - val_accuracy: 0.9971 - epoch_time: 2.7694\n",
            "Epoch 44/300\n",
            "298/298 [==============================] - 3s 10ms/step - loss: 0.0056 - accuracy: 0.9982 - val_loss: 0.0114 - val_accuracy: 0.9975 - epoch_time: 2.8279\n",
            "Epoch 45/300\n",
            "298/298 [==============================] - 3s 9ms/step - loss: 0.0030 - accuracy: 0.9988 - val_loss: 0.0123 - val_accuracy: 0.9975 - epoch_time: 2.7111\n",
            "Epoch 46/300\n",
            "298/298 [==============================] - 3s 9ms/step - loss: 0.0027 - accuracy: 0.9991 - val_loss: 0.0118 - val_accuracy: 0.9975 - epoch_time: 2.6803\n",
            "Epoch 47/300\n",
            "298/298 [==============================] - 3s 9ms/step - loss: 0.0040 - accuracy: 0.9987 - val_loss: 0.0105 - val_accuracy: 0.9979 - epoch_time: 2.7009\n",
            "Epoch 48/300\n",
            "298/298 [==============================] - 3s 9ms/step - loss: 0.0041 - accuracy: 0.9987 - val_loss: 0.0129 - val_accuracy: 0.9975 - epoch_time: 2.7074\n",
            "Epoch 49/300\n",
            "298/298 [==============================] - 3s 9ms/step - loss: 0.0046 - accuracy: 0.9984 - val_loss: 0.0181 - val_accuracy: 0.9960 - epoch_time: 2.7608\n",
            "Epoch 50/300\n",
            "298/298 [==============================] - 3s 9ms/step - loss: 0.0041 - accuracy: 0.9984 - val_loss: 0.0152 - val_accuracy: 0.9971 - epoch_time: 2.7108\n",
            "Epoch 51/300\n",
            "298/298 [==============================] - 3s 9ms/step - loss: 0.0044 - accuracy: 0.9988 - val_loss: 0.0127 - val_accuracy: 0.9973 - epoch_time: 2.7221\n",
            "Epoch 52/300\n",
            "298/298 [==============================] - 3s 9ms/step - loss: 0.0034 - accuracy: 0.9987 - val_loss: 0.0141 - val_accuracy: 0.9971 - epoch_time: 2.7060\n",
            "Epoch 53/300\n",
            "298/298 [==============================] - 3s 10ms/step - loss: 0.0022 - accuracy: 0.9993 - val_loss: 0.0141 - val_accuracy: 0.9983 - epoch_time: 2.7808\n",
            "Epoch 54/300\n",
            "298/298 [==============================] - 3s 9ms/step - loss: 0.0037 - accuracy: 0.9992 - val_loss: 0.0149 - val_accuracy: 0.9975 - epoch_time: 2.7270\n",
            "Epoch 55/300\n",
            "298/298 [==============================] - 3s 9ms/step - loss: 0.0029 - accuracy: 0.9990 - val_loss: 0.0129 - val_accuracy: 0.9975 - epoch_time: 2.7485\n",
            "Epoch 56/300\n",
            "298/298 [==============================] - 3s 9ms/step - loss: 0.0031 - accuracy: 0.9988 - val_loss: 0.0168 - val_accuracy: 0.9975 - epoch_time: 2.7531\n",
            "Epoch 57/300\n",
            "298/298 [==============================] - 3s 9ms/step - loss: 0.0038 - accuracy: 0.9989 - val_loss: 0.0138 - val_accuracy: 0.9966 - epoch_time: 2.7310\n",
            "Epoch 58/300\n",
            "298/298 [==============================] - 3s 9ms/step - loss: 0.0028 - accuracy: 0.9992 - val_loss: 0.0156 - val_accuracy: 0.9973 - epoch_time: 2.7194\n",
            "Epoch 59/300\n",
            "298/298 [==============================] - 3s 9ms/step - loss: 0.0028 - accuracy: 0.9992 - val_loss: 0.0126 - val_accuracy: 0.9977 - epoch_time: 2.6844\n",
            "Epoch 60/300\n",
            "298/298 [==============================] - 3s 9ms/step - loss: 0.0010 - accuracy: 0.9996 - val_loss: 0.0160 - val_accuracy: 0.9977 - epoch_time: 2.7284\n",
            "Epoch 61/300\n",
            "298/298 [==============================] - 3s 9ms/step - loss: 0.0041 - accuracy: 0.9985 - val_loss: 0.0115 - val_accuracy: 0.9977 - epoch_time: 2.7553\n",
            "Epoch 62/300\n",
            "298/298 [==============================] - 3s 9ms/step - loss: 0.0048 - accuracy: 0.9985 - val_loss: 0.0106 - val_accuracy: 0.9973 - epoch_time: 2.7139\n",
            "Epoch 63/300\n",
            "298/298 [==============================] - 3s 11ms/step - loss: 0.0041 - accuracy: 0.9989 - val_loss: 0.0092 - val_accuracy: 0.9983 - epoch_time: 2.7120\n",
            "Epoch 64/300\n",
            "298/298 [==============================] - 3s 9ms/step - loss: 0.0037 - accuracy: 0.9987 - val_loss: 0.0113 - val_accuracy: 0.9979 - epoch_time: 2.7550\n",
            "Epoch 65/300\n",
            "298/298 [==============================] - 3s 9ms/step - loss: 0.0032 - accuracy: 0.9990 - val_loss: 0.0115 - val_accuracy: 0.9975 - epoch_time: 2.7438\n",
            "Epoch 66/300\n",
            "298/298 [==============================] - 3s 9ms/step - loss: 0.0027 - accuracy: 0.9990 - val_loss: 0.0104 - val_accuracy: 0.9979 - epoch_time: 2.6805\n",
            "Epoch 67/300\n",
            "298/298 [==============================] - 3s 9ms/step - loss: 0.0049 - accuracy: 0.9987 - val_loss: 0.0124 - val_accuracy: 0.9971 - epoch_time: 2.7414\n",
            "Epoch 68/300\n",
            "298/298 [==============================] - 3s 9ms/step - loss: 0.0020 - accuracy: 0.9995 - val_loss: 0.0133 - val_accuracy: 0.9979 - epoch_time: 2.7313\n",
            "Epoch 69/300\n",
            "298/298 [==============================] - 3s 9ms/step - loss: 0.0019 - accuracy: 0.9994 - val_loss: 0.0137 - val_accuracy: 0.9975 - epoch_time: 2.7420\n",
            "Epoch 70/300\n",
            "298/298 [==============================] - 3s 9ms/step - loss: 6.7308e-04 - accuracy: 0.9998 - val_loss: 0.0129 - val_accuracy: 0.9973 - epoch_time: 2.7316\n",
            "Epoch 71/300\n",
            "298/298 [==============================] - 3s 10ms/step - loss: 9.6848e-04 - accuracy: 0.9997 - val_loss: 0.0134 - val_accuracy: 0.9981 - epoch_time: 2.8113\n",
            "Epoch 72/300\n",
            "298/298 [==============================] - 3s 10ms/step - loss: 0.0050 - accuracy: 0.9984 - val_loss: 0.0181 - val_accuracy: 0.9971 - epoch_time: 2.7800\n",
            "Epoch 73/300\n",
            "298/298 [==============================] - 3s 10ms/step - loss: 0.0038 - accuracy: 0.9989 - val_loss: 0.0107 - val_accuracy: 0.9977 - epoch_time: 2.7955\n",
            "Epoch 74/300\n",
            "298/298 [==============================] - 3s 9ms/step - loss: 0.0019 - accuracy: 0.9993 - val_loss: 0.0097 - val_accuracy: 0.9985 - epoch_time: 2.7651\n",
            "Epoch 75/300\n",
            "298/298 [==============================] - 3s 10ms/step - loss: 0.0015 - accuracy: 0.9996 - val_loss: 0.0108 - val_accuracy: 0.9985 - epoch_time: 2.8554\n",
            "Epoch 76/300\n",
            "298/298 [==============================] - 3s 9ms/step - loss: 0.0046 - accuracy: 0.9986 - val_loss: 0.0113 - val_accuracy: 0.9979 - epoch_time: 2.7324\n",
            "Epoch 77/300\n",
            "298/298 [==============================] - 3s 9ms/step - loss: 0.0020 - accuracy: 0.9993 - val_loss: 0.0117 - val_accuracy: 0.9977 - epoch_time: 2.7259\n",
            "Epoch 78/300\n",
            "298/298 [==============================] - 3s 12ms/step - loss: 0.0031 - accuracy: 0.9990 - val_loss: 0.0162 - val_accuracy: 0.9979 - epoch_time: 3.4004\n",
            "Epoch 79/300\n",
            "298/298 [==============================] - 4s 14ms/step - loss: 0.0032 - accuracy: 0.9992 - val_loss: 0.0131 - val_accuracy: 0.9981 - epoch_time: 4.2411\n",
            "Epoch 80/300\n",
            "298/298 [==============================] - 3s 10ms/step - loss: 0.0029 - accuracy: 0.9989 - val_loss: 0.0160 - val_accuracy: 0.9969 - epoch_time: 2.8089\n",
            "Epoch 81/300\n",
            "298/298 [==============================] - 3s 9ms/step - loss: 0.0016 - accuracy: 0.9995 - val_loss: 0.0184 - val_accuracy: 0.9969 - epoch_time: 2.7410\n",
            "Epoch 82/300\n",
            "298/298 [==============================] - 3s 9ms/step - loss: 0.0034 - accuracy: 0.9989 - val_loss: 0.0145 - val_accuracy: 0.9975 - epoch_time: 2.7535\n",
            "Epoch 83/300\n",
            "298/298 [==============================] - 3s 10ms/step - loss: 7.3817e-04 - accuracy: 0.9998 - val_loss: 0.0141 - val_accuracy: 0.9977 - epoch_time: 2.7701\n",
            "Epoch 84/300\n",
            "298/298 [==============================] - 3s 10ms/step - loss: 0.0012 - accuracy: 0.9996 - val_loss: 0.0194 - val_accuracy: 0.9973 - epoch_time: 2.7797\n",
            "Epoch 85/300\n",
            "298/298 [==============================] - 3s 9ms/step - loss: 0.0026 - accuracy: 0.9991 - val_loss: 0.0162 - val_accuracy: 0.9973 - epoch_time: 2.7168\n",
            "Epoch 86/300\n",
            "298/298 [==============================] - 3s 9ms/step - loss: 0.0023 - accuracy: 0.9992 - val_loss: 0.0167 - val_accuracy: 0.9971 - epoch_time: 2.7544\n",
            "Epoch 87/300\n",
            "298/298 [==============================] - 3s 9ms/step - loss: 0.0023 - accuracy: 0.9992 - val_loss: 0.0281 - val_accuracy: 0.9962 - epoch_time: 2.7312\n",
            "Epoch 88/300\n",
            "298/298 [==============================] - 3s 9ms/step - loss: 0.0043 - accuracy: 0.9990 - val_loss: 0.0135 - val_accuracy: 0.9973 - epoch_time: 2.7150\n",
            "Epoch 89/300\n",
            "298/298 [==============================] - 3s 9ms/step - loss: 9.8859e-04 - accuracy: 0.9997 - val_loss: 0.0147 - val_accuracy: 0.9979 - epoch_time: 2.7211\n",
            "Epoch 90/300\n",
            "298/298 [==============================] - 3s 9ms/step - loss: 0.0052 - accuracy: 0.9987 - val_loss: 0.0095 - val_accuracy: 0.9981 - epoch_time: 2.6669\n",
            "Epoch 91/300\n",
            "298/298 [==============================] - 3s 10ms/step - loss: 0.0014 - accuracy: 0.9997 - val_loss: 0.0101 - val_accuracy: 0.9983 - epoch_time: 2.7971\n",
            "Epoch 92/300\n",
            "298/298 [==============================] - 3s 9ms/step - loss: 8.1401e-04 - accuracy: 0.9997 - val_loss: 0.0131 - val_accuracy: 0.9981 - epoch_time: 2.7006\n",
            "Epoch 93/300\n",
            "298/298 [==============================] - 3s 10ms/step - loss: 0.0011 - accuracy: 0.9996 - val_loss: 0.0099 - val_accuracy: 0.9985 - epoch_time: 2.8353\n",
            "Epoch 94/300\n",
            "298/298 [==============================] - 3s 9ms/step - loss: 0.0054 - accuracy: 0.9980 - val_loss: 0.0110 - val_accuracy: 0.9983 - epoch_time: 2.7575\n",
            "Epoch 95/300\n",
            "298/298 [==============================] - 3s 10ms/step - loss: 0.0030 - accuracy: 0.9991 - val_loss: 0.0111 - val_accuracy: 0.9983 - epoch_time: 2.8490\n",
            "Epoch 96/300\n",
            "298/298 [==============================] - 3s 10ms/step - loss: 0.0014 - accuracy: 0.9995 - val_loss: 0.0098 - val_accuracy: 0.9983 - epoch_time: 2.8509\n",
            "Epoch 97/300\n",
            "298/298 [==============================] - 3s 10ms/step - loss: 0.0013 - accuracy: 0.9995 - val_loss: 0.0130 - val_accuracy: 0.9979 - epoch_time: 2.7841\n",
            "Epoch 98/300\n",
            "298/298 [==============================] - 3s 10ms/step - loss: 0.0013 - accuracy: 0.9996 - val_loss: 0.0127 - val_accuracy: 0.9983 - epoch_time: 2.9289\n",
            "Epoch 99/300\n",
            "298/298 [==============================] - 3s 10ms/step - loss: 0.0036 - accuracy: 0.9990 - val_loss: 0.0121 - val_accuracy: 0.9969 - epoch_time: 2.8141\n",
            "Epoch 100/300\n",
            "298/298 [==============================] - 3s 10ms/step - loss: 0.0030 - accuracy: 0.9992 - val_loss: 0.0162 - val_accuracy: 0.9973 - epoch_time: 2.8247\n",
            "Epoch 101/300\n",
            "298/298 [==============================] - 3s 10ms/step - loss: 0.0018 - accuracy: 0.9994 - val_loss: 0.0103 - val_accuracy: 0.9983 - epoch_time: 2.8046\n",
            "Epoch 102/300\n",
            "298/298 [==============================] - 3s 10ms/step - loss: 9.2714e-04 - accuracy: 0.9997 - val_loss: 0.0133 - val_accuracy: 0.9973 - epoch_time: 2.7891\n",
            "Epoch 103/300\n",
            "298/298 [==============================] - 3s 10ms/step - loss: 0.0027 - accuracy: 0.9992 - val_loss: 0.0129 - val_accuracy: 0.9973 - epoch_time: 2.8657\n",
            "Epoch 104/300\n",
            "298/298 [==============================] - 3s 10ms/step - loss: 0.0021 - accuracy: 0.9993 - val_loss: 0.0115 - val_accuracy: 0.9979 - epoch_time: 2.7892\n",
            "Epoch 105/300\n",
            "298/298 [==============================] - 3s 10ms/step - loss: 0.0012 - accuracy: 0.9996 - val_loss: 0.0157 - val_accuracy: 0.9971 - epoch_time: 2.8195\n",
            "Epoch 106/300\n",
            "298/298 [==============================] - 3s 10ms/step - loss: 0.0020 - accuracy: 0.9995 - val_loss: 0.0122 - val_accuracy: 0.9979 - epoch_time: 2.7899\n",
            "Epoch 107/300\n",
            "298/298 [==============================] - 3s 9ms/step - loss: 0.0011 - accuracy: 0.9995 - val_loss: 0.0144 - val_accuracy: 0.9981 - epoch_time: 2.7169\n",
            "Epoch 108/300\n",
            "298/298 [==============================] - 3s 10ms/step - loss: 0.0031 - accuracy: 0.9993 - val_loss: 0.0155 - val_accuracy: 0.9975 - epoch_time: 2.7804\n",
            "Epoch 109/300\n",
            "298/298 [==============================] - 3s 9ms/step - loss: 0.0023 - accuracy: 0.9993 - val_loss: 0.0106 - val_accuracy: 0.9977 - epoch_time: 2.7424\n",
            "Epoch 110/300\n",
            "298/298 [==============================] - 3s 9ms/step - loss: 0.0034 - accuracy: 0.9991 - val_loss: 0.0331 - val_accuracy: 0.9935 - epoch_time: 2.7405\n",
            "Epoch 111/300\n",
            "298/298 [==============================] - 3s 9ms/step - loss: 0.0046 - accuracy: 0.9987 - val_loss: 0.0127 - val_accuracy: 0.9973 - epoch_time: 2.7454\n",
            "Epoch 112/300\n",
            "298/298 [==============================] - 3s 9ms/step - loss: 0.0011 - accuracy: 0.9997 - val_loss: 0.0123 - val_accuracy: 0.9977 - epoch_time: 2.7579\n",
            "Epoch 113/300\n",
            "298/298 [==============================] - 3s 10ms/step - loss: 0.0011 - accuracy: 0.9997 - val_loss: 0.0143 - val_accuracy: 0.9977 - epoch_time: 2.8126\n",
            "Epoch 114/300\n",
            "298/298 [==============================] - 3s 10ms/step - loss: 0.0020 - accuracy: 0.9993 - val_loss: 0.0255 - val_accuracy: 0.9958 - epoch_time: 2.7953\n",
            "Epoch 115/300\n",
            "298/298 [==============================] - 3s 9ms/step - loss: 5.0638e-04 - accuracy: 0.9998 - val_loss: 0.0143 - val_accuracy: 0.9981 - epoch_time: 2.7374\n",
            "Epoch 116/300\n",
            "298/298 [==============================] - 3s 10ms/step - loss: 9.0260e-04 - accuracy: 0.9998 - val_loss: 0.0150 - val_accuracy: 0.9975 - epoch_time: 2.8182\n",
            "Epoch 117/300\n",
            "298/298 [==============================] - 3s 10ms/step - loss: 2.9613e-04 - accuracy: 0.9999 - val_loss: 0.0154 - val_accuracy: 0.9983 - epoch_time: 2.8182\n",
            "Epoch 118/300\n",
            "298/298 [==============================] - 3s 9ms/step - loss: 0.0023 - accuracy: 0.9991 - val_loss: 0.0154 - val_accuracy: 0.9975 - epoch_time: 2.7438\n",
            "Epoch 119/300\n",
            "298/298 [==============================] - 3s 10ms/step - loss: 0.0018 - accuracy: 0.9993 - val_loss: 0.0145 - val_accuracy: 0.9979 - epoch_time: 2.8107\n",
            "Epoch 120/300\n",
            "298/298 [==============================] - 3s 9ms/step - loss: 0.0023 - accuracy: 0.9993 - val_loss: 0.0156 - val_accuracy: 0.9973 - epoch_time: 2.7596\n",
            "Epoch 121/300\n",
            "298/298 [==============================] - 3s 10ms/step - loss: 0.0036 - accuracy: 0.9990 - val_loss: 0.0190 - val_accuracy: 0.9945 - epoch_time: 2.8892\n",
            "Epoch 122/300\n",
            "298/298 [==============================] - 3s 9ms/step - loss: 0.0024 - accuracy: 0.9992 - val_loss: 0.0111 - val_accuracy: 0.9981 - epoch_time: 2.7638\n",
            "Epoch 123/300\n",
            "298/298 [==============================] - 3s 9ms/step - loss: 0.0016 - accuracy: 0.9996 - val_loss: 0.0120 - val_accuracy: 0.9979 - epoch_time: 2.7502\n",
            "Epoch 124/300\n",
            "298/298 [==============================] - 3s 10ms/step - loss: 0.0015 - accuracy: 0.9993 - val_loss: 0.0134 - val_accuracy: 0.9983 - epoch_time: 2.8187\n",
            "Epoch 125/300\n",
            "298/298 [==============================] - 3s 10ms/step - loss: 0.0010 - accuracy: 0.9997 - val_loss: 0.0122 - val_accuracy: 0.9983 - epoch_time: 2.7800\n",
            "Epoch 126/300\n",
            "298/298 [==============================] - 3s 10ms/step - loss: 0.0045 - accuracy: 0.9990 - val_loss: 0.0099 - val_accuracy: 0.9981 - epoch_time: 2.8393\n",
            "Epoch 127/300\n",
            "298/298 [==============================] - 3s 10ms/step - loss: 0.0022 - accuracy: 0.9996 - val_loss: 0.0112 - val_accuracy: 0.9981 - epoch_time: 2.8112\n",
            "Epoch 128/300\n",
            "298/298 [==============================] - 3s 10ms/step - loss: 0.0017 - accuracy: 0.9994 - val_loss: 0.0111 - val_accuracy: 0.9979 - epoch_time: 2.7886\n",
            "Epoch 129/300\n",
            "298/298 [==============================] - 3s 9ms/step - loss: 0.0016 - accuracy: 0.9995 - val_loss: 0.0117 - val_accuracy: 0.9981 - epoch_time: 2.7645\n",
            "Epoch 130/300\n",
            "298/298 [==============================] - 3s 10ms/step - loss: 9.4961e-04 - accuracy: 0.9997 - val_loss: 0.0124 - val_accuracy: 0.9983 - epoch_time: 2.7878\n",
            "Epoch 131/300\n",
            "298/298 [==============================] - 3s 9ms/step - loss: 5.1344e-04 - accuracy: 0.9999 - val_loss: 0.0132 - val_accuracy: 0.9981 - epoch_time: 2.7507\n",
            "Epoch 132/300\n",
            "298/298 [==============================] - 3s 10ms/step - loss: 0.0012 - accuracy: 0.9997 - val_loss: 0.0118 - val_accuracy: 0.9979 - epoch_time: 2.7888\n",
            "Epoch 133/300\n",
            "298/298 [==============================] - 3s 9ms/step - loss: 0.0014 - accuracy: 0.9994 - val_loss: 0.0147 - val_accuracy: 0.9971 - epoch_time: 2.7457\n",
            "Epoch 134/300\n",
            "298/298 [==============================] - 3s 10ms/step - loss: 0.0025 - accuracy: 0.9991 - val_loss: 0.0153 - val_accuracy: 0.9977 - epoch_time: 2.7891\n",
            "Epoch 135/300\n",
            "298/298 [==============================] - 3s 10ms/step - loss: 0.0012 - accuracy: 0.9995 - val_loss: 0.0146 - val_accuracy: 0.9979 - epoch_time: 2.8073\n",
            "Epoch 136/300\n",
            "298/298 [==============================] - 3s 10ms/step - loss: 0.0024 - accuracy: 0.9992 - val_loss: 0.0130 - val_accuracy: 0.9977 - epoch_time: 2.8142\n",
            "Epoch 137/300\n",
            "298/298 [==============================] - 3s 10ms/step - loss: 0.0037 - accuracy: 0.9990 - val_loss: 0.0123 - val_accuracy: 0.9981 - epoch_time: 2.8220\n",
            "Epoch 138/300\n",
            "298/298 [==============================] - 3s 10ms/step - loss: 0.0020 - accuracy: 0.9994 - val_loss: 0.0129 - val_accuracy: 0.9981 - epoch_time: 2.8785\n",
            "Epoch 139/300\n",
            "298/298 [==============================] - 3s 10ms/step - loss: 7.0297e-04 - accuracy: 0.9999 - val_loss: 0.0128 - val_accuracy: 0.9981 - epoch_time: 2.8032\n",
            "Epoch 140/300\n",
            "298/298 [==============================] - 3s 10ms/step - loss: 0.0017 - accuracy: 0.9996 - val_loss: 0.0153 - val_accuracy: 0.9973 - epoch_time: 2.8097\n",
            "Epoch 141/300\n",
            "298/298 [==============================] - 3s 9ms/step - loss: 0.0013 - accuracy: 0.9998 - val_loss: 0.0152 - val_accuracy: 0.9977 - epoch_time: 2.7585\n",
            "Epoch 142/300\n",
            "298/298 [==============================] - 3s 9ms/step - loss: 0.0020 - accuracy: 0.9995 - val_loss: 0.0137 - val_accuracy: 0.9977 - epoch_time: 2.7726\n",
            "Epoch 143/300\n",
            "298/298 [==============================] - 3s 10ms/step - loss: 0.0021 - accuracy: 0.9995 - val_loss: 0.0157 - val_accuracy: 0.9971 - epoch_time: 2.7815\n",
            "Epoch 144/300\n",
            "298/298 [==============================] - 3s 10ms/step - loss: 0.0017 - accuracy: 0.9995 - val_loss: 0.0157 - val_accuracy: 0.9971 - epoch_time: 2.7709\n",
            "Epoch 145/300\n",
            "298/298 [==============================] - 3s 10ms/step - loss: 0.0012 - accuracy: 0.9996 - val_loss: 0.0100 - val_accuracy: 0.9983 - epoch_time: 2.8937\n",
            "Epoch 146/300\n",
            "298/298 [==============================] - 3s 10ms/step - loss: 0.0020 - accuracy: 0.9993 - val_loss: 0.0130 - val_accuracy: 0.9981 - epoch_time: 2.8260\n",
            "Epoch 147/300\n",
            "298/298 [==============================] - 3s 10ms/step - loss: 0.0022 - accuracy: 0.9993 - val_loss: 0.0109 - val_accuracy: 0.9979 - epoch_time: 2.8406\n",
            "Epoch 148/300\n",
            "298/298 [==============================] - 4s 15ms/step - loss: 0.0017 - accuracy: 0.9996 - val_loss: 0.0137 - val_accuracy: 0.9977 - epoch_time: 4.2164\n",
            "Epoch 149/300\n",
            "298/298 [==============================] - 4s 14ms/step - loss: 0.0010 - accuracy: 0.9997 - val_loss: 0.0176 - val_accuracy: 0.9975 - epoch_time: 4.0058\n",
            "Epoch 150/300\n",
            "298/298 [==============================] - 3s 10ms/step - loss: 0.0013 - accuracy: 0.9997 - val_loss: 0.0130 - val_accuracy: 0.9981 - epoch_time: 2.8948\n",
            "Epoch 151/300\n",
            "298/298 [==============================] - 3s 10ms/step - loss: 0.0012 - accuracy: 0.9997 - val_loss: 0.0134 - val_accuracy: 0.9981 - epoch_time: 2.8780\n",
            "Epoch 152/300\n",
            "298/298 [==============================] - 3s 10ms/step - loss: 0.0055 - accuracy: 0.9985 - val_loss: 0.0113 - val_accuracy: 0.9979 - epoch_time: 2.8600\n",
            "Epoch 153/300\n",
            "298/298 [==============================] - 3s 10ms/step - loss: 0.0011 - accuracy: 0.9996 - val_loss: 0.0140 - val_accuracy: 0.9979 - epoch_time: 2.9162\n",
            "Epoch 154/300\n",
            "298/298 [==============================] - 3s 10ms/step - loss: 0.0014 - accuracy: 0.9995 - val_loss: 0.0121 - val_accuracy: 0.9977 - epoch_time: 2.9018\n",
            "Epoch 155/300\n",
            "298/298 [==============================] - 3s 10ms/step - loss: 8.5314e-04 - accuracy: 0.9997 - val_loss: 0.0177 - val_accuracy: 0.9971 - epoch_time: 2.9117\n",
            "Epoch 156/300\n",
            "298/298 [==============================] - 3s 10ms/step - loss: 4.6598e-04 - accuracy: 0.9999 - val_loss: 0.0152 - val_accuracy: 0.9977 - epoch_time: 2.8474\n",
            "Epoch 157/300\n",
            "298/298 [==============================] - 3s 10ms/step - loss: 1.2241e-04 - accuracy: 1.0000 - val_loss: 0.0160 - val_accuracy: 0.9979 - epoch_time: 2.8658\n",
            "Epoch 158/300\n",
            "298/298 [==============================] - 3s 10ms/step - loss: 0.0017 - accuracy: 0.9995 - val_loss: 0.0177 - val_accuracy: 0.9975 - epoch_time: 2.9505\n",
            "Epoch 159/300\n",
            "298/298 [==============================] - 3s 9ms/step - loss: 0.0035 - accuracy: 0.9990 - val_loss: 0.0146 - val_accuracy: 0.9973 - epoch_time: 2.7495\n",
            "Epoch 160/300\n",
            "298/298 [==============================] - 3s 10ms/step - loss: 7.1279e-04 - accuracy: 0.9998 - val_loss: 0.0137 - val_accuracy: 0.9979 - epoch_time: 2.8341\n",
            "Epoch 161/300\n",
            "298/298 [==============================] - 3s 10ms/step - loss: 0.0011 - accuracy: 0.9996 - val_loss: 0.0183 - val_accuracy: 0.9973 - epoch_time: 2.8127\n",
            "Epoch 162/300\n",
            "298/298 [==============================] - 3s 9ms/step - loss: 0.0010 - accuracy: 0.9997 - val_loss: 0.0138 - val_accuracy: 0.9977 - epoch_time: 2.7050\n",
            "Epoch 163/300\n",
            "298/298 [==============================] - 3s 9ms/step - loss: 0.0028 - accuracy: 0.9992 - val_loss: 0.0208 - val_accuracy: 0.9960 - epoch_time: 2.7540\n",
            "Epoch 164/300\n",
            "298/298 [==============================] - 3s 10ms/step - loss: 0.0017 - accuracy: 0.9994 - val_loss: 0.0128 - val_accuracy: 0.9977 - epoch_time: 2.7743\n",
            "Epoch 165/300\n",
            "298/298 [==============================] - 3s 9ms/step - loss: 7.5037e-04 - accuracy: 0.9999 - val_loss: 0.0124 - val_accuracy: 0.9979 - epoch_time: 2.7675\n",
            "Epoch 166/300\n",
            "298/298 [==============================] - 3s 9ms/step - loss: 5.5453e-04 - accuracy: 0.9998 - val_loss: 0.0109 - val_accuracy: 0.9979 - epoch_time: 2.6924\n",
            "Epoch 167/300\n",
            "298/298 [==============================] - 3s 9ms/step - loss: 0.0020 - accuracy: 0.9994 - val_loss: 0.0144 - val_accuracy: 0.9973 - epoch_time: 2.7103\n",
            "Epoch 168/300\n",
            "298/298 [==============================] - 3s 10ms/step - loss: 0.0014 - accuracy: 0.9993 - val_loss: 0.0142 - val_accuracy: 0.9979 - epoch_time: 2.8297\n",
            "Epoch 169/300\n",
            "298/298 [==============================] - 3s 9ms/step - loss: 0.0010 - accuracy: 0.9997 - val_loss: 0.0138 - val_accuracy: 0.9975 - epoch_time: 2.7541\n",
            "Epoch 170/300\n",
            "298/298 [==============================] - 3s 9ms/step - loss: 0.0012 - accuracy: 0.9996 - val_loss: 0.0134 - val_accuracy: 0.9977 - epoch_time: 2.7490\n",
            "Epoch 171/300\n",
            "298/298 [==============================] - 3s 10ms/step - loss: 0.0010 - accuracy: 0.9997 - val_loss: 0.0138 - val_accuracy: 0.9975 - epoch_time: 2.8096\n",
            "Epoch 172/300\n",
            "298/298 [==============================] - 3s 9ms/step - loss: 3.8729e-04 - accuracy: 0.9999 - val_loss: 0.0142 - val_accuracy: 0.9975 - epoch_time: 2.7685\n",
            "Epoch 173/300\n",
            "298/298 [==============================] - 3s 9ms/step - loss: 0.0027 - accuracy: 0.9992 - val_loss: 0.0156 - val_accuracy: 0.9969 - epoch_time: 2.7181\n",
            "Epoch 174/300\n",
            "298/298 [==============================] - 3s 10ms/step - loss: 0.0012 - accuracy: 0.9996 - val_loss: 0.0178 - val_accuracy: 0.9975 - epoch_time: 2.7833\n",
            "Epoch 175/300\n",
            "298/298 [==============================] - 3s 10ms/step - loss: 9.0171e-04 - accuracy: 0.9996 - val_loss: 0.0163 - val_accuracy: 0.9977 - epoch_time: 2.8044\n",
            "Epoch 176/300\n",
            "298/298 [==============================] - 3s 10ms/step - loss: 0.0016 - accuracy: 0.9996 - val_loss: 0.0149 - val_accuracy: 0.9977 - epoch_time: 2.8358\n",
            "Epoch 177/300\n",
            "298/298 [==============================] - 3s 9ms/step - loss: 4.8674e-04 - accuracy: 0.9998 - val_loss: 0.0157 - val_accuracy: 0.9979 - epoch_time: 2.7538\n",
            "Epoch 178/300\n",
            "298/298 [==============================] - 3s 9ms/step - loss: 0.0025 - accuracy: 0.9993 - val_loss: 0.0131 - val_accuracy: 0.9979 - epoch_time: 2.7296\n",
            "Epoch 179/300\n",
            "298/298 [==============================] - 3s 10ms/step - loss: 0.0021 - accuracy: 0.9994 - val_loss: 0.0151 - val_accuracy: 0.9973 - epoch_time: 2.8399\n",
            "Epoch 180/300\n",
            "298/298 [==============================] - 3s 9ms/step - loss: 7.1200e-04 - accuracy: 0.9997 - val_loss: 0.0195 - val_accuracy: 0.9975 - epoch_time: 2.7259\n",
            "Epoch 181/300\n",
            "298/298 [==============================] - 3s 10ms/step - loss: 4.9645e-04 - accuracy: 0.9998 - val_loss: 0.0171 - val_accuracy: 0.9977 - epoch_time: 2.8178\n",
            "Epoch 182/300\n",
            "298/298 [==============================] - 3s 10ms/step - loss: 0.0011 - accuracy: 0.9996 - val_loss: 0.0267 - val_accuracy: 0.9964 - epoch_time: 2.8321\n",
            "Epoch 183/300\n",
            "298/298 [==============================] - 3s 10ms/step - loss: 0.0018 - accuracy: 0.9994 - val_loss: 0.0143 - val_accuracy: 0.9971 - epoch_time: 2.8120\n",
            "Epoch 184/300\n",
            "298/298 [==============================] - 3s 10ms/step - loss: 6.0316e-04 - accuracy: 0.9999 - val_loss: 0.0163 - val_accuracy: 0.9971 - epoch_time: 2.8088\n",
            "Epoch 185/300\n",
            "298/298 [==============================] - 3s 9ms/step - loss: 6.8074e-04 - accuracy: 0.9998 - val_loss: 0.0140 - val_accuracy: 0.9979 - epoch_time: 2.7082\n",
            "Epoch 186/300\n",
            "298/298 [==============================] - 3s 10ms/step - loss: 0.0030 - accuracy: 0.9991 - val_loss: 0.0136 - val_accuracy: 0.9979 - epoch_time: 2.8249\n",
            "Epoch 187/300\n",
            "298/298 [==============================] - 3s 10ms/step - loss: 0.0013 - accuracy: 0.9995 - val_loss: 0.0129 - val_accuracy: 0.9981 - epoch_time: 2.8214\n",
            "Epoch 188/300\n",
            "298/298 [==============================] - 3s 9ms/step - loss: 0.0012 - accuracy: 0.9995 - val_loss: 0.0151 - val_accuracy: 0.9977 - epoch_time: 2.7719\n",
            "Epoch 189/300\n",
            "298/298 [==============================] - 3s 10ms/step - loss: 8.2980e-04 - accuracy: 0.9998 - val_loss: 0.0164 - val_accuracy: 0.9975 - epoch_time: 2.8050\n",
            "Epoch 190/300\n",
            "298/298 [==============================] - 3s 10ms/step - loss: 0.0016 - accuracy: 0.9995 - val_loss: 0.0162 - val_accuracy: 0.9975 - epoch_time: 2.7793\n",
            "Epoch 191/300\n",
            "298/298 [==============================] - 3s 9ms/step - loss: 0.0028 - accuracy: 0.9992 - val_loss: 0.0118 - val_accuracy: 0.9979 - epoch_time: 2.7719\n",
            "Epoch 192/300\n",
            "298/298 [==============================] - 3s 9ms/step - loss: 0.0013 - accuracy: 0.9994 - val_loss: 0.0172 - val_accuracy: 0.9973 - epoch_time: 2.7337\n",
            "Epoch 193/300\n",
            "298/298 [==============================] - 3s 10ms/step - loss: 0.0012 - accuracy: 0.9996 - val_loss: 0.0144 - val_accuracy: 0.9983 - epoch_time: 2.8132\n",
            "Epoch 194/300\n",
            "298/298 [==============================] - 3s 9ms/step - loss: 0.0016 - accuracy: 0.9995 - val_loss: 0.0098 - val_accuracy: 0.9975 - epoch_time: 2.7403\n",
            "Epoch 195/300\n",
            "298/298 [==============================] - 3s 10ms/step - loss: 7.1899e-04 - accuracy: 0.9997 - val_loss: 0.0126 - val_accuracy: 0.9977 - epoch_time: 2.8013\n",
            "Epoch 196/300\n",
            "298/298 [==============================] - 3s 10ms/step - loss: 8.7913e-04 - accuracy: 0.9997 - val_loss: 0.0106 - val_accuracy: 0.9981 - epoch_time: 2.8202\n",
            "Epoch 197/300\n",
            "298/298 [==============================] - 3s 10ms/step - loss: 0.0013 - accuracy: 0.9997 - val_loss: 0.0107 - val_accuracy: 0.9981 - epoch_time: 2.8861\n",
            "Epoch 198/300\n",
            "298/298 [==============================] - 3s 10ms/step - loss: 7.8979e-04 - accuracy: 0.9998 - val_loss: 0.0134 - val_accuracy: 0.9979 - epoch_time: 2.8482\n",
            "Epoch 199/300\n",
            "298/298 [==============================] - 3s 10ms/step - loss: 4.4711e-04 - accuracy: 0.9997 - val_loss: 0.0114 - val_accuracy: 0.9983 - epoch_time: 2.8226\n",
            "Epoch 200/300\n",
            "298/298 [==============================] - 3s 10ms/step - loss: 0.0015 - accuracy: 0.9996 - val_loss: 0.0139 - val_accuracy: 0.9975 - epoch_time: 2.8498\n",
            "Epoch 201/300\n",
            "298/298 [==============================] - 3s 10ms/step - loss: 0.0014 - accuracy: 0.9995 - val_loss: 0.0125 - val_accuracy: 0.9977 - epoch_time: 2.8328\n",
            "Epoch 202/300\n",
            "298/298 [==============================] - 3s 10ms/step - loss: 0.0013 - accuracy: 0.9996 - val_loss: 0.0143 - val_accuracy: 0.9975 - epoch_time: 2.8204\n",
            "Epoch 203/300\n",
            "298/298 [==============================] - 3s 10ms/step - loss: 0.0030 - accuracy: 0.9991 - val_loss: 0.0137 - val_accuracy: 0.9975 - epoch_time: 2.8024\n",
            "Epoch 204/300\n",
            "298/298 [==============================] - 3s 9ms/step - loss: 0.0011 - accuracy: 0.9997 - val_loss: 0.0185 - val_accuracy: 0.9979 - epoch_time: 2.7702\n",
            "Epoch 205/300\n",
            "298/298 [==============================] - 3s 10ms/step - loss: 0.0022 - accuracy: 0.9994 - val_loss: 0.0131 - val_accuracy: 0.9981 - epoch_time: 2.9382\n",
            "Epoch 206/300\n",
            "298/298 [==============================] - 3s 10ms/step - loss: 0.0013 - accuracy: 0.9997 - val_loss: 0.0128 - val_accuracy: 0.9979 - epoch_time: 2.8408\n",
            "Epoch 207/300\n",
            "298/298 [==============================] - 3s 10ms/step - loss: 7.1404e-04 - accuracy: 0.9998 - val_loss: 0.0109 - val_accuracy: 0.9981 - epoch_time: 2.9114\n",
            "Epoch 208/300\n",
            "298/298 [==============================] - 3s 10ms/step - loss: 5.1333e-04 - accuracy: 0.9998 - val_loss: 0.0132 - val_accuracy: 0.9975 - epoch_time: 2.9484\n",
            "Epoch 209/300\n",
            "298/298 [==============================] - 3s 10ms/step - loss: 4.6705e-04 - accuracy: 0.9998 - val_loss: 0.0142 - val_accuracy: 0.9985 - epoch_time: 2.9441\n",
            "Epoch 210/300\n",
            "298/298 [==============================] - 3s 10ms/step - loss: 0.0017 - accuracy: 0.9996 - val_loss: 0.0185 - val_accuracy: 0.9966 - epoch_time: 2.8708\n",
            "Epoch 211/300\n",
            "298/298 [==============================] - 3s 10ms/step - loss: 0.0014 - accuracy: 0.9995 - val_loss: 0.0140 - val_accuracy: 0.9979 - epoch_time: 2.8757\n",
            "Epoch 212/300\n",
            "298/298 [==============================] - 3s 10ms/step - loss: 0.0023 - accuracy: 0.9994 - val_loss: 0.0136 - val_accuracy: 0.9979 - epoch_time: 2.8305\n",
            "Epoch 213/300\n",
            "298/298 [==============================] - 3s 10ms/step - loss: 0.0011 - accuracy: 0.9997 - val_loss: 0.0146 - val_accuracy: 0.9977 - epoch_time: 2.8322\n",
            "Epoch 214/300\n",
            "298/298 [==============================] - 3s 10ms/step - loss: 7.0106e-04 - accuracy: 0.9998 - val_loss: 0.0117 - val_accuracy: 0.9981 - epoch_time: 2.8879\n",
            "Epoch 215/300\n",
            "298/298 [==============================] - 3s 10ms/step - loss: 0.0013 - accuracy: 0.9995 - val_loss: 0.0135 - val_accuracy: 0.9973 - epoch_time: 2.8134\n",
            "Epoch 216/300\n",
            "298/298 [==============================] - 3s 10ms/step - loss: 0.0017 - accuracy: 0.9994 - val_loss: 0.0113 - val_accuracy: 0.9975 - epoch_time: 2.9057\n",
            "Epoch 217/300\n",
            "298/298 [==============================] - 4s 13ms/step - loss: 0.0024 - accuracy: 0.9994 - val_loss: 0.0123 - val_accuracy: 0.9975 - epoch_time: 3.8086\n",
            "Epoch 218/300\n",
            "298/298 [==============================] - 4s 14ms/step - loss: 0.0024 - accuracy: 0.9992 - val_loss: 0.0127 - val_accuracy: 0.9979 - epoch_time: 4.1834\n",
            "Epoch 219/300\n",
            "298/298 [==============================] - 3s 10ms/step - loss: 0.0015 - accuracy: 0.9996 - val_loss: 0.0174 - val_accuracy: 0.9969 - epoch_time: 2.8250\n",
            "Epoch 220/300\n",
            "298/298 [==============================] - 3s 10ms/step - loss: 6.9137e-04 - accuracy: 0.9997 - val_loss: 0.0157 - val_accuracy: 0.9979 - epoch_time: 2.8781\n",
            "Epoch 221/300\n",
            "298/298 [==============================] - 3s 10ms/step - loss: 5.8702e-04 - accuracy: 0.9998 - val_loss: 0.0130 - val_accuracy: 0.9981 - epoch_time: 2.8816\n",
            "Epoch 222/300\n",
            "298/298 [==============================] - 3s 10ms/step - loss: 0.0012 - accuracy: 0.9995 - val_loss: 0.0126 - val_accuracy: 0.9979 - epoch_time: 2.8073\n",
            "Epoch 223/300\n",
            "298/298 [==============================] - 3s 10ms/step - loss: 0.0025 - accuracy: 0.9994 - val_loss: 0.0137 - val_accuracy: 0.9977 - epoch_time: 2.8662\n",
            "Epoch 224/300\n",
            "298/298 [==============================] - 3s 10ms/step - loss: 8.1761e-04 - accuracy: 0.9997 - val_loss: 0.0141 - val_accuracy: 0.9983 - epoch_time: 2.8538\n",
            "Epoch 225/300\n",
            "298/298 [==============================] - 3s 10ms/step - loss: 0.0010 - accuracy: 0.9996 - val_loss: 0.0200 - val_accuracy: 0.9975 - epoch_time: 2.8541\n",
            "Epoch 226/300\n",
            "298/298 [==============================] - 3s 10ms/step - loss: 7.4042e-04 - accuracy: 0.9996 - val_loss: 0.0129 - val_accuracy: 0.9979 - epoch_time: 2.8847\n",
            "Epoch 227/300\n",
            "298/298 [==============================] - 3s 10ms/step - loss: 0.0014 - accuracy: 0.9996 - val_loss: 0.0155 - val_accuracy: 0.9977 - epoch_time: 2.9291\n",
            "Epoch 228/300\n",
            "298/298 [==============================] - 3s 10ms/step - loss: 0.0014 - accuracy: 0.9996 - val_loss: 0.0128 - val_accuracy: 0.9977 - epoch_time: 2.9016\n",
            "Epoch 229/300\n",
            "298/298 [==============================] - 3s 10ms/step - loss: 9.7634e-04 - accuracy: 0.9997 - val_loss: 0.0111 - val_accuracy: 0.9983 - epoch_time: 2.9043\n",
            "Epoch 230/300\n",
            "298/298 [==============================] - 3s 10ms/step - loss: 5.4157e-04 - accuracy: 0.9998 - val_loss: 0.0139 - val_accuracy: 0.9975 - epoch_time: 2.9233\n",
            "Epoch 231/300\n",
            "298/298 [==============================] - 3s 10ms/step - loss: 5.7997e-04 - accuracy: 0.9998 - val_loss: 0.0104 - val_accuracy: 0.9985 - epoch_time: 2.9243\n",
            "Epoch 232/300\n",
            "298/298 [==============================] - 3s 10ms/step - loss: 6.7928e-04 - accuracy: 0.9997 - val_loss: 0.0120 - val_accuracy: 0.9981 - epoch_time: 2.8829\n",
            "Epoch 233/300\n",
            "298/298 [==============================] - 3s 10ms/step - loss: 6.1194e-04 - accuracy: 0.9998 - val_loss: 0.0132 - val_accuracy: 0.9979 - epoch_time: 2.8943\n",
            "Epoch 234/300\n",
            "298/298 [==============================] - 3s 10ms/step - loss: 0.0028 - accuracy: 0.9991 - val_loss: 0.0142 - val_accuracy: 0.9973 - epoch_time: 2.9144\n",
            "Epoch 235/300\n",
            "298/298 [==============================] - 3s 10ms/step - loss: 0.0026 - accuracy: 0.9994 - val_loss: 0.0110 - val_accuracy: 0.9977 - epoch_time: 3.0356\n",
            "Epoch 236/300\n",
            "298/298 [==============================] - 3s 10ms/step - loss: 6.7576e-04 - accuracy: 0.9998 - val_loss: 0.0129 - val_accuracy: 0.9977 - epoch_time: 2.9451\n",
            "Epoch 237/300\n",
            "298/298 [==============================] - 3s 10ms/step - loss: 0.0020 - accuracy: 0.9994 - val_loss: 0.0110 - val_accuracy: 0.9975 - epoch_time: 2.9262\n",
            "Epoch 238/300\n",
            "298/298 [==============================] - 3s 10ms/step - loss: 3.9312e-04 - accuracy: 0.9998 - val_loss: 0.0106 - val_accuracy: 0.9977 - epoch_time: 2.9510\n",
            "Epoch 239/300\n",
            "298/298 [==============================] - 3s 10ms/step - loss: 3.0946e-04 - accuracy: 0.9998 - val_loss: 0.0112 - val_accuracy: 0.9981 - epoch_time: 2.8493\n",
            "Epoch 240/300\n",
            "298/298 [==============================] - 3s 10ms/step - loss: 0.0013 - accuracy: 0.9996 - val_loss: 0.0149 - val_accuracy: 0.9975 - epoch_time: 2.8874\n",
            "Epoch 241/300\n",
            "298/298 [==============================] - 3s 10ms/step - loss: 0.0015 - accuracy: 0.9996 - val_loss: 0.0137 - val_accuracy: 0.9977 - epoch_time: 2.9909\n",
            "Epoch 242/300\n",
            "298/298 [==============================] - 3s 11ms/step - loss: 0.0018 - accuracy: 0.9996 - val_loss: 0.0081 - val_accuracy: 0.9983 - epoch_time: 2.9142\n",
            "Epoch 243/300\n",
            "298/298 [==============================] - 3s 10ms/step - loss: 9.5458e-04 - accuracy: 0.9996 - val_loss: 0.0094 - val_accuracy: 0.9983 - epoch_time: 2.9284\n",
            "Epoch 244/300\n",
            "298/298 [==============================] - 3s 10ms/step - loss: 0.0012 - accuracy: 0.9996 - val_loss: 0.0106 - val_accuracy: 0.9981 - epoch_time: 2.9052\n",
            "Epoch 245/300\n",
            "298/298 [==============================] - 3s 10ms/step - loss: 8.2076e-04 - accuracy: 0.9998 - val_loss: 0.0107 - val_accuracy: 0.9985 - epoch_time: 2.8831\n",
            "Epoch 246/300\n",
            "298/298 [==============================] - 3s 10ms/step - loss: 6.1259e-04 - accuracy: 0.9999 - val_loss: 0.0129 - val_accuracy: 0.9977 - epoch_time: 2.8800\n",
            "Epoch 247/300\n",
            "298/298 [==============================] - 3s 10ms/step - loss: 0.0018 - accuracy: 0.9996 - val_loss: 0.0119 - val_accuracy: 0.9979 - epoch_time: 2.9787\n",
            "Epoch 248/300\n",
            "298/298 [==============================] - 3s 10ms/step - loss: 8.3015e-04 - accuracy: 0.9996 - val_loss: 0.0107 - val_accuracy: 0.9977 - epoch_time: 3.0563\n",
            "Epoch 249/300\n",
            "298/298 [==============================] - 3s 10ms/step - loss: 2.8557e-04 - accuracy: 0.9999 - val_loss: 0.0119 - val_accuracy: 0.9977 - epoch_time: 2.8856\n",
            "Epoch 250/300\n",
            "298/298 [==============================] - 3s 10ms/step - loss: 9.7594e-04 - accuracy: 0.9998 - val_loss: 0.0110 - val_accuracy: 0.9979 - epoch_time: 2.8801\n",
            "Epoch 251/300\n",
            "298/298 [==============================] - 3s 10ms/step - loss: 4.7706e-04 - accuracy: 0.9999 - val_loss: 0.0103 - val_accuracy: 0.9983 - epoch_time: 2.9738\n",
            "Epoch 252/300\n",
            "298/298 [==============================] - 3s 10ms/step - loss: 2.5293e-04 - accuracy: 1.0000 - val_loss: 0.0118 - val_accuracy: 0.9981 - epoch_time: 2.9002\n",
            "Epoch 253/300\n",
            "298/298 [==============================] - 3s 10ms/step - loss: 0.0043 - accuracy: 0.9987 - val_loss: 0.0108 - val_accuracy: 0.9977 - epoch_time: 2.9141\n",
            "Epoch 254/300\n",
            "298/298 [==============================] - 3s 10ms/step - loss: 0.0011 - accuracy: 0.9996 - val_loss: 0.0085 - val_accuracy: 0.9990 - epoch_time: 2.9381\n",
            "Epoch 255/300\n",
            "298/298 [==============================] - 3s 10ms/step - loss: 0.0014 - accuracy: 0.9996 - val_loss: 0.0129 - val_accuracy: 0.9979 - epoch_time: 2.9185\n",
            "Epoch 256/300\n",
            "298/298 [==============================] - 3s 10ms/step - loss: 0.0010 - accuracy: 0.9996 - val_loss: 0.0108 - val_accuracy: 0.9985 - epoch_time: 2.8928\n",
            "Epoch 257/300\n",
            "298/298 [==============================] - 3s 10ms/step - loss: 7.4941e-04 - accuracy: 0.9997 - val_loss: 0.0126 - val_accuracy: 0.9985 - epoch_time: 2.9213\n",
            "Epoch 258/300\n",
            "298/298 [==============================] - 3s 10ms/step - loss: 3.4770e-04 - accuracy: 0.9999 - val_loss: 0.0127 - val_accuracy: 0.9985 - epoch_time: 2.9734\n",
            "Epoch 259/300\n",
            "298/298 [==============================] - 3s 10ms/step - loss: 0.0010 - accuracy: 0.9996 - val_loss: 0.0139 - val_accuracy: 0.9985 - epoch_time: 2.8793\n",
            "Epoch 260/300\n",
            "298/298 [==============================] - 3s 10ms/step - loss: 3.2359e-04 - accuracy: 0.9999 - val_loss: 0.0120 - val_accuracy: 0.9990 - epoch_time: 2.9396\n",
            "Epoch 261/300\n",
            "298/298 [==============================] - 3s 10ms/step - loss: 0.0024 - accuracy: 0.9995 - val_loss: 0.0118 - val_accuracy: 0.9979 - epoch_time: 2.9253\n",
            "Epoch 262/300\n",
            "298/298 [==============================] - 3s 10ms/step - loss: 8.2981e-04 - accuracy: 0.9996 - val_loss: 0.0128 - val_accuracy: 0.9983 - epoch_time: 2.9700\n",
            "Epoch 263/300\n",
            "298/298 [==============================] - 3s 10ms/step - loss: 4.3939e-04 - accuracy: 0.9999 - val_loss: 0.0135 - val_accuracy: 0.9987 - epoch_time: 2.9928\n",
            "Epoch 264/300\n",
            "298/298 [==============================] - 3s 10ms/step - loss: 0.0011 - accuracy: 0.9996 - val_loss: 0.0149 - val_accuracy: 0.9981 - epoch_time: 2.9063\n",
            "Epoch 265/300\n",
            "298/298 [==============================] - 3s 10ms/step - loss: 0.0016 - accuracy: 0.9996 - val_loss: 0.0119 - val_accuracy: 0.9981 - epoch_time: 3.0524\n",
            "Epoch 266/300\n",
            "298/298 [==============================] - 3s 10ms/step - loss: 0.0011 - accuracy: 0.9996 - val_loss: 0.0109 - val_accuracy: 0.9985 - epoch_time: 2.9766\n",
            "Epoch 267/300\n",
            "298/298 [==============================] - 3s 10ms/step - loss: 0.0017 - accuracy: 0.9996 - val_loss: 0.0123 - val_accuracy: 0.9979 - epoch_time: 2.9212\n",
            "Epoch 268/300\n",
            "298/298 [==============================] - 3s 10ms/step - loss: 0.0025 - accuracy: 0.9992 - val_loss: 0.0118 - val_accuracy: 0.9977 - epoch_time: 2.9084\n",
            "Epoch 269/300\n",
            "298/298 [==============================] - 3s 10ms/step - loss: 8.4924e-04 - accuracy: 0.9997 - val_loss: 0.0143 - val_accuracy: 0.9977 - epoch_time: 2.9256\n",
            "Epoch 270/300\n",
            "298/298 [==============================] - 3s 10ms/step - loss: 0.0012 - accuracy: 0.9996 - val_loss: 0.0125 - val_accuracy: 0.9981 - epoch_time: 2.9303\n",
            "Epoch 271/300\n",
            "298/298 [==============================] - 3s 10ms/step - loss: 4.5410e-04 - accuracy: 0.9998 - val_loss: 0.0124 - val_accuracy: 0.9983 - epoch_time: 2.9228\n",
            "Epoch 272/300\n",
            "298/298 [==============================] - 3s 10ms/step - loss: 6.9630e-04 - accuracy: 0.9998 - val_loss: 0.0113 - val_accuracy: 0.9983 - epoch_time: 2.9747\n",
            "Epoch 273/300\n",
            "298/298 [==============================] - 3s 10ms/step - loss: 0.0011 - accuracy: 0.9996 - val_loss: 0.0096 - val_accuracy: 0.9981 - epoch_time: 2.9165\n",
            "Epoch 274/300\n",
            "298/298 [==============================] - 3s 10ms/step - loss: 3.0684e-04 - accuracy: 0.9999 - val_loss: 0.0179 - val_accuracy: 0.9975 - epoch_time: 2.9587\n",
            "Epoch 275/300\n",
            "298/298 [==============================] - 3s 10ms/step - loss: 0.0026 - accuracy: 0.9993 - val_loss: 0.0091 - val_accuracy: 0.9985 - epoch_time: 2.9415\n",
            "Epoch 276/300\n",
            "298/298 [==============================] - 3s 10ms/step - loss: 0.0020 - accuracy: 0.9994 - val_loss: 0.0115 - val_accuracy: 0.9983 - epoch_time: 2.9271\n",
            "Epoch 277/300\n",
            "298/298 [==============================] - 3s 10ms/step - loss: 8.0121e-04 - accuracy: 0.9998 - val_loss: 0.0114 - val_accuracy: 0.9983 - epoch_time: 2.9381\n",
            "Epoch 278/300\n",
            "298/298 [==============================] - 3s 10ms/step - loss: 3.2592e-04 - accuracy: 0.9998 - val_loss: 0.0113 - val_accuracy: 0.9981 - epoch_time: 2.9766\n",
            "Epoch 279/300\n",
            "298/298 [==============================] - 3s 10ms/step - loss: 8.4834e-04 - accuracy: 0.9998 - val_loss: 0.0102 - val_accuracy: 0.9983 - epoch_time: 2.9144\n",
            "Epoch 280/300\n",
            "298/298 [==============================] - 3s 10ms/step - loss: 1.2790e-04 - accuracy: 1.0000 - val_loss: 0.0114 - val_accuracy: 0.9983 - epoch_time: 2.9458\n",
            "Epoch 281/300\n",
            "298/298 [==============================] - 3s 10ms/step - loss: 7.1829e-04 - accuracy: 0.9999 - val_loss: 0.0098 - val_accuracy: 0.9987 - epoch_time: 2.9281\n",
            "Epoch 282/300\n",
            "298/298 [==============================] - 3s 10ms/step - loss: 1.4681e-04 - accuracy: 1.0000 - val_loss: 0.0128 - val_accuracy: 0.9983 - epoch_time: 2.9853\n",
            "Epoch 283/300\n",
            "298/298 [==============================] - 3s 10ms/step - loss: 4.9424e-05 - accuracy: 1.0000 - val_loss: 0.0131 - val_accuracy: 0.9985 - epoch_time: 2.9802\n",
            "Epoch 284/300\n",
            "298/298 [==============================] - 4s 13ms/step - loss: 4.2245e-05 - accuracy: 1.0000 - val_loss: 0.0133 - val_accuracy: 0.9983 - epoch_time: 3.6776\n",
            "Epoch 285/300\n",
            "298/298 [==============================] - 4s 15ms/step - loss: 0.0044 - accuracy: 0.9985 - val_loss: 0.0110 - val_accuracy: 0.9981 - epoch_time: 4.2670\n",
            "Epoch 286/300\n",
            "298/298 [==============================] - 3s 11ms/step - loss: 0.0015 - accuracy: 0.9993 - val_loss: 0.0124 - val_accuracy: 0.9975 - epoch_time: 3.1905\n",
            "Epoch 287/300\n",
            "298/298 [==============================] - 3s 10ms/step - loss: 5.2052e-04 - accuracy: 0.9998 - val_loss: 0.0137 - val_accuracy: 0.9981 - epoch_time: 2.9219\n",
            "Epoch 288/300\n",
            "298/298 [==============================] - 3s 10ms/step - loss: 6.5442e-04 - accuracy: 0.9997 - val_loss: 0.0101 - val_accuracy: 0.9983 - epoch_time: 3.0183\n",
            "Epoch 289/300\n",
            "298/298 [==============================] - 3s 10ms/step - loss: 8.6811e-04 - accuracy: 0.9996 - val_loss: 0.0153 - val_accuracy: 0.9977 - epoch_time: 2.9840\n",
            "Epoch 290/300\n",
            "298/298 [==============================] - 3s 10ms/step - loss: 0.0032 - accuracy: 0.9989 - val_loss: 0.0129 - val_accuracy: 0.9979 - epoch_time: 3.0062\n",
            "Epoch 291/300\n",
            "298/298 [==============================] - 3s 10ms/step - loss: 0.0017 - accuracy: 0.9995 - val_loss: 0.0160 - val_accuracy: 0.9977 - epoch_time: 2.9794\n",
            "Epoch 292/300\n",
            "298/298 [==============================] - 3s 10ms/step - loss: 0.0018 - accuracy: 0.9996 - val_loss: 0.0160 - val_accuracy: 0.9977 - epoch_time: 3.0066\n",
            "Epoch 293/300\n",
            "298/298 [==============================] - 3s 10ms/step - loss: 6.3347e-04 - accuracy: 0.9998 - val_loss: 0.0162 - val_accuracy: 0.9979 - epoch_time: 2.9153\n",
            "Epoch 294/300\n",
            "298/298 [==============================] - 3s 10ms/step - loss: 0.0011 - accuracy: 0.9996 - val_loss: 0.0144 - val_accuracy: 0.9981 - epoch_time: 2.9950\n",
            "Epoch 295/300\n",
            "298/298 [==============================] - 3s 10ms/step - loss: 5.6525e-04 - accuracy: 0.9998 - val_loss: 0.0155 - val_accuracy: 0.9979 - epoch_time: 3.0140\n",
            "Epoch 296/300\n",
            "298/298 [==============================] - 3s 10ms/step - loss: 7.0317e-04 - accuracy: 0.9999 - val_loss: 0.0169 - val_accuracy: 0.9975 - epoch_time: 3.0395\n",
            "Epoch 297/300\n",
            "298/298 [==============================] - 3s 10ms/step - loss: 0.0020 - accuracy: 0.9995 - val_loss: 0.0149 - val_accuracy: 0.9979 - epoch_time: 2.9492\n",
            "Epoch 298/300\n",
            "298/298 [==============================] - 3s 10ms/step - loss: 0.0014 - accuracy: 0.9996 - val_loss: 0.0127 - val_accuracy: 0.9973 - epoch_time: 2.9602\n",
            "Epoch 299/300\n",
            "298/298 [==============================] - 3s 10ms/step - loss: 0.0013 - accuracy: 0.9996 - val_loss: 0.0136 - val_accuracy: 0.9975 - epoch_time: 2.9301\n",
            "Epoch 300/300\n",
            "298/298 [==============================] - 3s 10ms/step - loss: 0.0016 - accuracy: 0.9994 - val_loss: 0.0145 - val_accuracy: 0.9975 - epoch_time: 2.9670\n"
          ]
        }
      ]
    },
    {
      "cell_type": "code",
      "metadata": {
        "id": "kykY4LLa6KhB",
        "colab": {
          "base_uri": "https://localhost:8080/"
        },
        "outputId": "014d30f9-d489-404b-8171-82afd77da679"
      },
      "source": [
        "sensor = \"sensor3\"\n",
        "time_callback = TimeHistory()\n",
        "model_sensor3 = creatModel()\n",
        "model_save, checkpoint, history_cb, Estop = settCallbacks(\"sensor3\")\n",
        "history_sensor3 = model_sensor3.fit(X_train_sensor3, y_train_sensor3,\n",
        "                                    batch_size = 64, epochs = 300,\n",
        "                                    validation_split = 0.2,\n",
        "                                    verbose = 1,\n",
        "                                    callbacks = [time_callback,model_save, checkpoint, history_cb, Estop])\n",
        "                                    # class_weight= class_weights)"
      ],
      "execution_count": null,
      "outputs": [
        {
          "output_type": "stream",
          "name": "stdout",
          "text": [
            "Epoch 1/300\n",
            "298/298 [==============================] - 7s 12ms/step - loss: 0.3336 - accuracy: 0.8569 - val_loss: 0.1370 - val_accuracy: 0.9578 - epoch_time: 6.8260\n",
            "Epoch 2/300\n",
            "298/298 [==============================] - 3s 10ms/step - loss: 0.1043 - accuracy: 0.9653 - val_loss: 0.0908 - val_accuracy: 0.9679 - epoch_time: 2.7613\n",
            "Epoch 3/300\n",
            "298/298 [==============================] - 3s 9ms/step - loss: 0.0805 - accuracy: 0.9729 - val_loss: 0.0823 - val_accuracy: 0.9694 - epoch_time: 2.6374\n",
            "Epoch 4/300\n",
            "298/298 [==============================] - 3s 9ms/step - loss: 0.0708 - accuracy: 0.9767 - val_loss: 0.0752 - val_accuracy: 0.9738 - epoch_time: 2.6396\n",
            "Epoch 5/300\n",
            "298/298 [==============================] - 3s 9ms/step - loss: 0.0673 - accuracy: 0.9782 - val_loss: 0.0765 - val_accuracy: 0.9750 - epoch_time: 2.6860\n",
            "Epoch 6/300\n",
            "298/298 [==============================] - 3s 10ms/step - loss: 0.0649 - accuracy: 0.9787 - val_loss: 0.0645 - val_accuracy: 0.9784 - epoch_time: 2.7710\n",
            "Epoch 7/300\n",
            "298/298 [==============================] - 3s 10ms/step - loss: 0.0578 - accuracy: 0.9819 - val_loss: 0.0573 - val_accuracy: 0.9811 - epoch_time: 2.7071\n",
            "Epoch 8/300\n",
            "298/298 [==============================] - 3s 9ms/step - loss: 0.0578 - accuracy: 0.9812 - val_loss: 0.0592 - val_accuracy: 0.9813 - epoch_time: 2.6840\n",
            "Epoch 9/300\n",
            "298/298 [==============================] - 3s 9ms/step - loss: 0.0507 - accuracy: 0.9840 - val_loss: 0.0559 - val_accuracy: 0.9790 - epoch_time: 2.6592\n",
            "Epoch 10/300\n",
            "298/298 [==============================] - 3s 9ms/step - loss: 0.0557 - accuracy: 0.9835 - val_loss: 0.0615 - val_accuracy: 0.9805 - epoch_time: 2.6868\n",
            "Epoch 11/300\n",
            "298/298 [==============================] - 3s 9ms/step - loss: 0.0499 - accuracy: 0.9852 - val_loss: 0.0547 - val_accuracy: 0.9813 - epoch_time: 2.6574\n",
            "Epoch 12/300\n",
            "298/298 [==============================] - 3s 9ms/step - loss: 0.0480 - accuracy: 0.9845 - val_loss: 0.0584 - val_accuracy: 0.9824 - epoch_time: 2.6387\n",
            "Epoch 13/300\n",
            "298/298 [==============================] - 3s 9ms/step - loss: 0.0452 - accuracy: 0.9863 - val_loss: 0.0543 - val_accuracy: 0.9824 - epoch_time: 2.6402\n",
            "Epoch 14/300\n",
            "298/298 [==============================] - 3s 9ms/step - loss: 0.0484 - accuracy: 0.9848 - val_loss: 0.0538 - val_accuracy: 0.9817 - epoch_time: 2.6719\n",
            "Epoch 15/300\n",
            "298/298 [==============================] - 3s 9ms/step - loss: 0.0444 - accuracy: 0.9870 - val_loss: 0.0543 - val_accuracy: 0.9820 - epoch_time: 2.6634\n",
            "Epoch 16/300\n",
            "298/298 [==============================] - 3s 9ms/step - loss: 0.0428 - accuracy: 0.9867 - val_loss: 0.0607 - val_accuracy: 0.9807 - epoch_time: 2.6188\n",
            "Epoch 17/300\n",
            "298/298 [==============================] - 3s 9ms/step - loss: 0.0454 - accuracy: 0.9858 - val_loss: 0.0608 - val_accuracy: 0.9807 - epoch_time: 2.7059\n",
            "Epoch 18/300\n",
            "298/298 [==============================] - 3s 9ms/step - loss: 0.0391 - accuracy: 0.9871 - val_loss: 0.0595 - val_accuracy: 0.9805 - epoch_time: 2.7025\n",
            "Epoch 19/300\n",
            "298/298 [==============================] - 3s 9ms/step - loss: 0.0380 - accuracy: 0.9889 - val_loss: 0.0558 - val_accuracy: 0.9836 - epoch_time: 2.6726\n",
            "Epoch 20/300\n",
            "298/298 [==============================] - 3s 11ms/step - loss: 0.0376 - accuracy: 0.9878 - val_loss: 0.0478 - val_accuracy: 0.9830 - epoch_time: 2.7188\n",
            "Epoch 21/300\n",
            "298/298 [==============================] - 3s 9ms/step - loss: 0.0392 - accuracy: 0.9878 - val_loss: 0.0492 - val_accuracy: 0.9851 - epoch_time: 2.7344\n",
            "Epoch 22/300\n",
            "298/298 [==============================] - 3s 9ms/step - loss: 0.0359 - accuracy: 0.9897 - val_loss: 0.0572 - val_accuracy: 0.9836 - epoch_time: 2.6892\n",
            "Epoch 23/300\n",
            "298/298 [==============================] - 3s 9ms/step - loss: 0.0360 - accuracy: 0.9895 - val_loss: 0.0546 - val_accuracy: 0.9841 - epoch_time: 2.6649\n",
            "Epoch 24/300\n",
            "298/298 [==============================] - 3s 9ms/step - loss: 0.0376 - accuracy: 0.9879 - val_loss: 0.0624 - val_accuracy: 0.9822 - epoch_time: 2.7099\n",
            "Epoch 25/300\n",
            "298/298 [==============================] - 3s 9ms/step - loss: 0.0345 - accuracy: 0.9888 - val_loss: 0.0546 - val_accuracy: 0.9826 - epoch_time: 2.7096\n",
            "Epoch 26/300\n",
            "298/298 [==============================] - 3s 9ms/step - loss: 0.0328 - accuracy: 0.9898 - val_loss: 0.0552 - val_accuracy: 0.9836 - epoch_time: 2.6845\n",
            "Epoch 27/300\n",
            "298/298 [==============================] - 3s 9ms/step - loss: 0.0335 - accuracy: 0.9892 - val_loss: 0.0494 - val_accuracy: 0.9841 - epoch_time: 2.7591\n",
            "Epoch 28/300\n",
            "298/298 [==============================] - 3s 10ms/step - loss: 0.0325 - accuracy: 0.9897 - val_loss: 0.0513 - val_accuracy: 0.9843 - epoch_time: 2.8782\n",
            "Epoch 29/300\n",
            "298/298 [==============================] - 3s 9ms/step - loss: 0.0323 - accuracy: 0.9901 - val_loss: 0.0520 - val_accuracy: 0.9845 - epoch_time: 2.7662\n",
            "Epoch 30/300\n",
            "298/298 [==============================] - 3s 10ms/step - loss: 0.0321 - accuracy: 0.9900 - val_loss: 0.0551 - val_accuracy: 0.9809 - epoch_time: 2.7673\n",
            "Epoch 31/300\n",
            "298/298 [==============================] - 3s 9ms/step - loss: 0.0298 - accuracy: 0.9909 - val_loss: 0.0573 - val_accuracy: 0.9834 - epoch_time: 2.7353\n",
            "Epoch 32/300\n",
            "298/298 [==============================] - 3s 10ms/step - loss: 0.0282 - accuracy: 0.9920 - val_loss: 0.0546 - val_accuracy: 0.9832 - epoch_time: 2.7825\n",
            "Epoch 33/300\n",
            "298/298 [==============================] - 3s 9ms/step - loss: 0.0280 - accuracy: 0.9912 - val_loss: 0.0557 - val_accuracy: 0.9824 - epoch_time: 2.7163\n",
            "Epoch 34/300\n",
            "298/298 [==============================] - 3s 9ms/step - loss: 0.0276 - accuracy: 0.9917 - val_loss: 0.0550 - val_accuracy: 0.9828 - epoch_time: 2.6465\n",
            "Epoch 35/300\n",
            "298/298 [==============================] - 3s 9ms/step - loss: 0.0283 - accuracy: 0.9910 - val_loss: 0.0589 - val_accuracy: 0.9828 - epoch_time: 2.6509\n",
            "Epoch 36/300\n",
            "298/298 [==============================] - 3s 9ms/step - loss: 0.0261 - accuracy: 0.9918 - val_loss: 0.0545 - val_accuracy: 0.9822 - epoch_time: 2.6783\n",
            "Epoch 37/300\n",
            "298/298 [==============================] - 3s 9ms/step - loss: 0.0242 - accuracy: 0.9930 - val_loss: 0.0636 - val_accuracy: 0.9820 - epoch_time: 2.7016\n",
            "Epoch 38/300\n",
            "298/298 [==============================] - 3s 9ms/step - loss: 0.0264 - accuracy: 0.9919 - val_loss: 0.0598 - val_accuracy: 0.9824 - epoch_time: 2.6611\n",
            "Epoch 39/300\n",
            "298/298 [==============================] - 4s 13ms/step - loss: 0.0231 - accuracy: 0.9927 - val_loss: 0.0579 - val_accuracy: 0.9834 - epoch_time: 3.7987\n",
            "Epoch 40/300\n",
            "298/298 [==============================] - 4s 13ms/step - loss: 0.0241 - accuracy: 0.9933 - val_loss: 0.0720 - val_accuracy: 0.9805 - epoch_time: 3.9715\n",
            "Epoch 41/300\n",
            "298/298 [==============================] - 3s 9ms/step - loss: 0.0253 - accuracy: 0.9920 - val_loss: 0.0622 - val_accuracy: 0.9826 - epoch_time: 2.6411\n",
            "Epoch 42/300\n",
            "298/298 [==============================] - 3s 9ms/step - loss: 0.0213 - accuracy: 0.9935 - val_loss: 0.0621 - val_accuracy: 0.9832 - epoch_time: 2.6552\n",
            "Epoch 43/300\n",
            "298/298 [==============================] - 3s 9ms/step - loss: 0.0195 - accuracy: 0.9939 - val_loss: 0.0641 - val_accuracy: 0.9826 - epoch_time: 2.6437\n",
            "Epoch 44/300\n",
            "298/298 [==============================] - 3s 9ms/step - loss: 0.0245 - accuracy: 0.9928 - val_loss: 0.0855 - val_accuracy: 0.9782 - epoch_time: 2.6262\n",
            "Epoch 45/300\n",
            "298/298 [==============================] - 3s 9ms/step - loss: 0.0226 - accuracy: 0.9929 - val_loss: 0.0617 - val_accuracy: 0.9836 - epoch_time: 2.6049\n",
            "Epoch 46/300\n",
            "298/298 [==============================] - 3s 9ms/step - loss: 0.0198 - accuracy: 0.9940 - val_loss: 0.0574 - val_accuracy: 0.9841 - epoch_time: 2.6328\n",
            "Epoch 47/300\n",
            "298/298 [==============================] - 3s 9ms/step - loss: 0.0189 - accuracy: 0.9943 - val_loss: 0.0709 - val_accuracy: 0.9820 - epoch_time: 2.6397\n",
            "Epoch 48/300\n",
            "298/298 [==============================] - 3s 9ms/step - loss: 0.0199 - accuracy: 0.9942 - val_loss: 0.0696 - val_accuracy: 0.9813 - epoch_time: 2.6509\n",
            "Epoch 49/300\n",
            "298/298 [==============================] - 3s 9ms/step - loss: 0.0199 - accuracy: 0.9935 - val_loss: 0.0582 - val_accuracy: 0.9843 - epoch_time: 2.7424\n",
            "Epoch 50/300\n",
            "298/298 [==============================] - 3s 9ms/step - loss: 0.0185 - accuracy: 0.9939 - val_loss: 0.0643 - val_accuracy: 0.9822 - epoch_time: 2.6678\n",
            "Epoch 51/300\n",
            "298/298 [==============================] - 3s 9ms/step - loss: 0.0224 - accuracy: 0.9934 - val_loss: 0.0678 - val_accuracy: 0.9801 - epoch_time: 2.6576\n",
            "Epoch 52/300\n",
            "298/298 [==============================] - 3s 9ms/step - loss: 0.0206 - accuracy: 0.9931 - val_loss: 0.0654 - val_accuracy: 0.9824 - epoch_time: 2.6387\n",
            "Epoch 53/300\n",
            "298/298 [==============================] - 3s 9ms/step - loss: 0.0178 - accuracy: 0.9947 - val_loss: 0.0683 - val_accuracy: 0.9809 - epoch_time: 2.7477\n",
            "Epoch 54/300\n",
            "298/298 [==============================] - 3s 9ms/step - loss: 0.0150 - accuracy: 0.9956 - val_loss: 0.0635 - val_accuracy: 0.9836 - epoch_time: 2.6325\n",
            "Epoch 55/300\n",
            "298/298 [==============================] - 3s 9ms/step - loss: 0.0143 - accuracy: 0.9954 - val_loss: 0.0725 - val_accuracy: 0.9828 - epoch_time: 2.6703\n",
            "Epoch 56/300\n",
            "298/298 [==============================] - 3s 9ms/step - loss: 0.0166 - accuracy: 0.9948 - val_loss: 0.0683 - val_accuracy: 0.9832 - epoch_time: 2.6059\n",
            "Epoch 57/300\n",
            "298/298 [==============================] - 3s 9ms/step - loss: 0.0151 - accuracy: 0.9953 - val_loss: 0.0730 - val_accuracy: 0.9809 - epoch_time: 2.6909\n",
            "Epoch 58/300\n",
            "298/298 [==============================] - 3s 9ms/step - loss: 0.0153 - accuracy: 0.9951 - val_loss: 0.0701 - val_accuracy: 0.9836 - epoch_time: 2.6795\n",
            "Epoch 59/300\n",
            "298/298 [==============================] - 3s 9ms/step - loss: 0.0133 - accuracy: 0.9958 - val_loss: 0.0797 - val_accuracy: 0.9826 - epoch_time: 2.6821\n",
            "Epoch 60/300\n",
            "298/298 [==============================] - 3s 9ms/step - loss: 0.0128 - accuracy: 0.9959 - val_loss: 0.0706 - val_accuracy: 0.9836 - epoch_time: 2.6817\n",
            "Epoch 61/300\n",
            "298/298 [==============================] - 3s 9ms/step - loss: 0.0113 - accuracy: 0.9962 - val_loss: 0.0809 - val_accuracy: 0.9824 - epoch_time: 2.6395\n",
            "Epoch 62/300\n",
            "298/298 [==============================] - 3s 9ms/step - loss: 0.0132 - accuracy: 0.9956 - val_loss: 0.0691 - val_accuracy: 0.9826 - epoch_time: 2.6925\n",
            "Epoch 63/300\n",
            "298/298 [==============================] - 3s 9ms/step - loss: 0.0113 - accuracy: 0.9966 - val_loss: 0.0748 - val_accuracy: 0.9815 - epoch_time: 2.6310\n",
            "Epoch 64/300\n",
            "298/298 [==============================] - 3s 9ms/step - loss: 0.0112 - accuracy: 0.9963 - val_loss: 0.0727 - val_accuracy: 0.9843 - epoch_time: 2.6704\n",
            "Epoch 65/300\n",
            "298/298 [==============================] - 3s 9ms/step - loss: 0.0102 - accuracy: 0.9966 - val_loss: 0.0756 - val_accuracy: 0.9826 - epoch_time: 2.6392\n",
            "Epoch 66/300\n",
            "298/298 [==============================] - 3s 9ms/step - loss: 0.0152 - accuracy: 0.9953 - val_loss: 0.0814 - val_accuracy: 0.9815 - epoch_time: 2.6723\n",
            "Epoch 67/300\n",
            "298/298 [==============================] - 3s 9ms/step - loss: 0.0128 - accuracy: 0.9962 - val_loss: 0.0751 - val_accuracy: 0.9820 - epoch_time: 2.6360\n",
            "Epoch 68/300\n",
            "298/298 [==============================] - 3s 9ms/step - loss: 0.0097 - accuracy: 0.9966 - val_loss: 0.0760 - val_accuracy: 0.9815 - epoch_time: 2.6292\n",
            "Epoch 69/300\n",
            "298/298 [==============================] - 3s 9ms/step - loss: 0.0099 - accuracy: 0.9966 - val_loss: 0.0785 - val_accuracy: 0.9834 - epoch_time: 2.6435\n",
            "Epoch 70/300\n",
            "298/298 [==============================] - 3s 9ms/step - loss: 0.0080 - accuracy: 0.9972 - val_loss: 0.0823 - val_accuracy: 0.9820 - epoch_time: 2.6766\n",
            "Epoch 71/300\n",
            "298/298 [==============================] - 3s 9ms/step - loss: 0.0140 - accuracy: 0.9955 - val_loss: 0.0838 - val_accuracy: 0.9828 - epoch_time: 2.6969\n",
            "Epoch 72/300\n",
            "298/298 [==============================] - 3s 9ms/step - loss: 0.0153 - accuracy: 0.9953 - val_loss: 0.0856 - val_accuracy: 0.9813 - epoch_time: 2.7092\n",
            "Epoch 73/300\n",
            "298/298 [==============================] - 3s 9ms/step - loss: 0.0125 - accuracy: 0.9963 - val_loss: 0.0676 - val_accuracy: 0.9830 - epoch_time: 2.6800\n",
            "Epoch 74/300\n",
            "298/298 [==============================] - 3s 9ms/step - loss: 0.0072 - accuracy: 0.9976 - val_loss: 0.0762 - val_accuracy: 0.9822 - epoch_time: 2.6464\n",
            "Epoch 75/300\n",
            "298/298 [==============================] - 3s 9ms/step - loss: 0.0073 - accuracy: 0.9974 - val_loss: 0.0815 - val_accuracy: 0.9843 - epoch_time: 2.7410\n",
            "Epoch 76/300\n",
            "298/298 [==============================] - 3s 9ms/step - loss: 0.0070 - accuracy: 0.9976 - val_loss: 0.0969 - val_accuracy: 0.9832 - epoch_time: 2.6632\n",
            "Epoch 77/300\n",
            "298/298 [==============================] - 3s 9ms/step - loss: 0.0123 - accuracy: 0.9960 - val_loss: 0.0834 - val_accuracy: 0.9824 - epoch_time: 2.6724\n",
            "Epoch 78/300\n",
            "298/298 [==============================] - 3s 9ms/step - loss: 0.0086 - accuracy: 0.9973 - val_loss: 0.0813 - val_accuracy: 0.9834 - epoch_time: 2.5929\n",
            "Epoch 79/300\n",
            "298/298 [==============================] - 3s 9ms/step - loss: 0.0090 - accuracy: 0.9971 - val_loss: 0.0808 - val_accuracy: 0.9820 - epoch_time: 2.6621\n",
            "Epoch 80/300\n",
            "298/298 [==============================] - 3s 9ms/step - loss: 0.0099 - accuracy: 0.9966 - val_loss: 0.0852 - val_accuracy: 0.9813 - epoch_time: 2.6795\n",
            "Epoch 81/300\n",
            "298/298 [==============================] - 3s 9ms/step - loss: 0.0069 - accuracy: 0.9977 - val_loss: 0.0846 - val_accuracy: 0.9830 - epoch_time: 2.6503\n",
            "Epoch 82/300\n",
            "298/298 [==============================] - 3s 10ms/step - loss: 0.0063 - accuracy: 0.9974 - val_loss: 0.0857 - val_accuracy: 0.9817 - epoch_time: 2.8026\n",
            "Epoch 83/300\n",
            "298/298 [==============================] - 3s 9ms/step - loss: 0.0067 - accuracy: 0.9978 - val_loss: 0.0998 - val_accuracy: 0.9828 - epoch_time: 2.6462\n",
            "Epoch 84/300\n",
            "298/298 [==============================] - 3s 9ms/step - loss: 0.0056 - accuracy: 0.9979 - val_loss: 0.0831 - val_accuracy: 0.9838 - epoch_time: 2.6663\n",
            "Epoch 85/300\n",
            "298/298 [==============================] - 3s 9ms/step - loss: 0.0062 - accuracy: 0.9977 - val_loss: 0.0965 - val_accuracy: 0.9830 - epoch_time: 2.6911\n",
            "Epoch 86/300\n",
            "298/298 [==============================] - 3s 9ms/step - loss: 0.0101 - accuracy: 0.9973 - val_loss: 0.1114 - val_accuracy: 0.9767 - epoch_time: 2.6835\n",
            "Epoch 87/300\n",
            "298/298 [==============================] - 3s 9ms/step - loss: 0.0100 - accuracy: 0.9964 - val_loss: 0.0895 - val_accuracy: 0.9811 - epoch_time: 2.6921\n",
            "Epoch 88/300\n",
            "298/298 [==============================] - 3s 9ms/step - loss: 0.0069 - accuracy: 0.9977 - val_loss: 0.0844 - val_accuracy: 0.9836 - epoch_time: 2.7124\n",
            "Epoch 89/300\n",
            "298/298 [==============================] - 3s 9ms/step - loss: 0.0092 - accuracy: 0.9966 - val_loss: 0.0893 - val_accuracy: 0.9836 - epoch_time: 2.6654\n",
            "Epoch 90/300\n",
            "298/298 [==============================] - 3s 9ms/step - loss: 0.0052 - accuracy: 0.9980 - val_loss: 0.0906 - val_accuracy: 0.9836 - epoch_time: 2.7053\n",
            "Epoch 91/300\n",
            "298/298 [==============================] - 3s 9ms/step - loss: 0.0049 - accuracy: 0.9985 - val_loss: 0.1035 - val_accuracy: 0.9832 - epoch_time: 2.6803\n",
            "Epoch 92/300\n",
            "298/298 [==============================] - 3s 9ms/step - loss: 0.0088 - accuracy: 0.9974 - val_loss: 0.0875 - val_accuracy: 0.9830 - epoch_time: 2.6391\n",
            "Epoch 93/300\n",
            "298/298 [==============================] - 3s 9ms/step - loss: 0.0091 - accuracy: 0.9968 - val_loss: 0.0933 - val_accuracy: 0.9822 - epoch_time: 2.7093\n",
            "Epoch 94/300\n",
            "298/298 [==============================] - 3s 9ms/step - loss: 0.0059 - accuracy: 0.9981 - val_loss: 0.0873 - val_accuracy: 0.9820 - epoch_time: 2.7310\n",
            "Epoch 95/300\n",
            "298/298 [==============================] - 3s 9ms/step - loss: 0.0060 - accuracy: 0.9978 - val_loss: 0.0907 - val_accuracy: 0.9815 - epoch_time: 2.6770\n",
            "Epoch 96/300\n",
            "298/298 [==============================] - 3s 9ms/step - loss: 0.0089 - accuracy: 0.9969 - val_loss: 0.0892 - val_accuracy: 0.9822 - epoch_time: 2.6658\n",
            "Epoch 97/300\n",
            "298/298 [==============================] - 3s 9ms/step - loss: 0.0069 - accuracy: 0.9982 - val_loss: 0.0878 - val_accuracy: 0.9813 - epoch_time: 2.7032\n",
            "Epoch 98/300\n",
            "298/298 [==============================] - 3s 9ms/step - loss: 0.0055 - accuracy: 0.9977 - val_loss: 0.0946 - val_accuracy: 0.9822 - epoch_time: 2.6696\n",
            "Epoch 99/300\n",
            "298/298 [==============================] - 3s 9ms/step - loss: 0.0055 - accuracy: 0.9982 - val_loss: 0.0886 - val_accuracy: 0.9828 - epoch_time: 2.7005\n",
            "Epoch 100/300\n",
            "298/298 [==============================] - 3s 9ms/step - loss: 0.0038 - accuracy: 0.9989 - val_loss: 0.1121 - val_accuracy: 0.9820 - epoch_time: 2.6343\n",
            "Epoch 101/300\n",
            "298/298 [==============================] - 3s 9ms/step - loss: 0.0051 - accuracy: 0.9985 - val_loss: 0.1127 - val_accuracy: 0.9828 - epoch_time: 2.6765\n",
            "Epoch 102/300\n",
            "298/298 [==============================] - 3s 9ms/step - loss: 0.0034 - accuracy: 0.9987 - val_loss: 0.0943 - val_accuracy: 0.9834 - epoch_time: 2.6690\n",
            "Epoch 103/300\n",
            "298/298 [==============================] - 3s 9ms/step - loss: 0.0114 - accuracy: 0.9965 - val_loss: 0.0835 - val_accuracy: 0.9826 - epoch_time: 2.7351\n",
            "Epoch 104/300\n",
            "298/298 [==============================] - 3s 9ms/step - loss: 0.0084 - accuracy: 0.9972 - val_loss: 0.0883 - val_accuracy: 0.9824 - epoch_time: 2.6995\n",
            "Epoch 105/300\n",
            "298/298 [==============================] - 3s 10ms/step - loss: 0.0063 - accuracy: 0.9981 - val_loss: 0.0824 - val_accuracy: 0.9843 - epoch_time: 2.7807\n",
            "Epoch 106/300\n",
            "298/298 [==============================] - 3s 10ms/step - loss: 0.0074 - accuracy: 0.9977 - val_loss: 0.0815 - val_accuracy: 0.9834 - epoch_time: 2.8133\n",
            "Epoch 107/300\n",
            "298/298 [==============================] - 3s 9ms/step - loss: 0.0053 - accuracy: 0.9983 - val_loss: 0.0901 - val_accuracy: 0.9826 - epoch_time: 2.7124\n",
            "Epoch 108/300\n",
            "298/298 [==============================] - 3s 10ms/step - loss: 0.0046 - accuracy: 0.9985 - val_loss: 0.1005 - val_accuracy: 0.9815 - epoch_time: 2.7812\n",
            "Epoch 109/300\n",
            "298/298 [==============================] - 3s 9ms/step - loss: 0.0069 - accuracy: 0.9975 - val_loss: 0.0919 - val_accuracy: 0.9805 - epoch_time: 2.6574\n",
            "Epoch 110/300\n",
            "298/298 [==============================] - 3s 9ms/step - loss: 0.0094 - accuracy: 0.9975 - val_loss: 0.0883 - val_accuracy: 0.9822 - epoch_time: 2.7033\n",
            "Epoch 111/300\n",
            "298/298 [==============================] - 3s 9ms/step - loss: 0.0048 - accuracy: 0.9983 - val_loss: 0.0941 - val_accuracy: 0.9834 - epoch_time: 2.6490\n",
            "Epoch 112/300\n",
            "298/298 [==============================] - 3s 9ms/step - loss: 0.0041 - accuracy: 0.9986 - val_loss: 0.0998 - val_accuracy: 0.9822 - epoch_time: 2.7107\n",
            "Epoch 113/300\n",
            "298/298 [==============================] - 4s 13ms/step - loss: 0.0037 - accuracy: 0.9988 - val_loss: 0.1071 - val_accuracy: 0.9830 - epoch_time: 3.7057\n",
            "Epoch 114/300\n",
            "298/298 [==============================] - 4s 14ms/step - loss: 0.0048 - accuracy: 0.9983 - val_loss: 0.0970 - val_accuracy: 0.9832 - epoch_time: 4.0813\n",
            "Epoch 115/300\n",
            "298/298 [==============================] - 3s 10ms/step - loss: 0.0056 - accuracy: 0.9982 - val_loss: 0.0992 - val_accuracy: 0.9822 - epoch_time: 2.8644\n",
            "Epoch 116/300\n",
            "298/298 [==============================] - 3s 10ms/step - loss: 0.0057 - accuracy: 0.9984 - val_loss: 0.0927 - val_accuracy: 0.9820 - epoch_time: 2.7863\n",
            "Epoch 117/300\n",
            "298/298 [==============================] - 3s 9ms/step - loss: 0.0040 - accuracy: 0.9987 - val_loss: 0.0923 - val_accuracy: 0.9822 - epoch_time: 2.7282\n",
            "Epoch 118/300\n",
            "298/298 [==============================] - 3s 10ms/step - loss: 0.0054 - accuracy: 0.9982 - val_loss: 0.1068 - val_accuracy: 0.9807 - epoch_time: 2.8259\n",
            "Epoch 119/300\n",
            "298/298 [==============================] - 3s 9ms/step - loss: 0.0063 - accuracy: 0.9982 - val_loss: 0.1032 - val_accuracy: 0.9822 - epoch_time: 2.7538\n",
            "Epoch 120/300\n",
            "298/298 [==============================] - 3s 9ms/step - loss: 0.0033 - accuracy: 0.9992 - val_loss: 0.1050 - val_accuracy: 0.9828 - epoch_time: 2.7502\n",
            "Epoch 121/300\n",
            "298/298 [==============================] - 3s 10ms/step - loss: 0.0054 - accuracy: 0.9978 - val_loss: 0.0988 - val_accuracy: 0.9817 - epoch_time: 2.8238\n",
            "Epoch 122/300\n",
            "298/298 [==============================] - 3s 10ms/step - loss: 0.0061 - accuracy: 0.9982 - val_loss: 0.1113 - val_accuracy: 0.9822 - epoch_time: 2.7950\n",
            "Epoch 123/300\n",
            "298/298 [==============================] - 3s 9ms/step - loss: 0.0046 - accuracy: 0.9987 - val_loss: 0.1042 - val_accuracy: 0.9836 - epoch_time: 2.7313\n",
            "Epoch 124/300\n",
            "298/298 [==============================] - 3s 9ms/step - loss: 0.0040 - accuracy: 0.9986 - val_loss: 0.1042 - val_accuracy: 0.9834 - epoch_time: 2.7454\n",
            "Epoch 125/300\n",
            "298/298 [==============================] - 3s 9ms/step - loss: 0.0052 - accuracy: 0.9987 - val_loss: 0.0975 - val_accuracy: 0.9838 - epoch_time: 2.7740\n",
            "Epoch 126/300\n",
            "298/298 [==============================] - 3s 10ms/step - loss: 0.0027 - accuracy: 0.9990 - val_loss: 0.1089 - val_accuracy: 0.9834 - epoch_time: 2.8074\n",
            "Epoch 127/300\n",
            "298/298 [==============================] - 3s 10ms/step - loss: 0.0029 - accuracy: 0.9991 - val_loss: 0.0981 - val_accuracy: 0.9834 - epoch_time: 2.8153\n",
            "Epoch 128/300\n",
            "298/298 [==============================] - 3s 10ms/step - loss: 0.0075 - accuracy: 0.9978 - val_loss: 0.1052 - val_accuracy: 0.9832 - epoch_time: 2.8228\n",
            "Epoch 129/300\n",
            "298/298 [==============================] - 3s 10ms/step - loss: 0.0070 - accuracy: 0.9980 - val_loss: 0.0898 - val_accuracy: 0.9838 - epoch_time: 2.8052\n",
            "Epoch 130/300\n",
            "298/298 [==============================] - 3s 9ms/step - loss: 0.0027 - accuracy: 0.9991 - val_loss: 0.0871 - val_accuracy: 0.9836 - epoch_time: 2.7345\n",
            "Epoch 131/300\n",
            "298/298 [==============================] - 3s 9ms/step - loss: 0.0073 - accuracy: 0.9982 - val_loss: 0.0990 - val_accuracy: 0.9809 - epoch_time: 2.7570\n",
            "Epoch 132/300\n",
            "298/298 [==============================] - 3s 9ms/step - loss: 0.0027 - accuracy: 0.9992 - val_loss: 0.1021 - val_accuracy: 0.9830 - epoch_time: 2.7720\n",
            "Epoch 133/300\n",
            "298/298 [==============================] - 3s 10ms/step - loss: 0.0020 - accuracy: 0.9993 - val_loss: 0.1140 - val_accuracy: 0.9830 - epoch_time: 2.7969\n",
            "Epoch 134/300\n",
            "298/298 [==============================] - 3s 9ms/step - loss: 0.0026 - accuracy: 0.9990 - val_loss: 0.1056 - val_accuracy: 0.9820 - epoch_time: 2.7685\n",
            "Epoch 135/300\n",
            "298/298 [==============================] - 3s 9ms/step - loss: 0.0065 - accuracy: 0.9984 - val_loss: 0.1059 - val_accuracy: 0.9822 - epoch_time: 2.7440\n",
            "Epoch 136/300\n",
            "298/298 [==============================] - 3s 9ms/step - loss: 0.0046 - accuracy: 0.9986 - val_loss: 0.1003 - val_accuracy: 0.9832 - epoch_time: 2.7312\n",
            "Epoch 137/300\n",
            "298/298 [==============================] - 3s 10ms/step - loss: 0.0056 - accuracy: 0.9984 - val_loss: 0.0899 - val_accuracy: 0.9820 - epoch_time: 2.8102\n",
            "Epoch 138/300\n",
            "298/298 [==============================] - 3s 9ms/step - loss: 0.0026 - accuracy: 0.9992 - val_loss: 0.0870 - val_accuracy: 0.9841 - epoch_time: 2.7248\n",
            "Epoch 139/300\n",
            "298/298 [==============================] - 3s 9ms/step - loss: 0.0040 - accuracy: 0.9988 - val_loss: 0.1027 - val_accuracy: 0.9809 - epoch_time: 2.7458\n",
            "Epoch 140/300\n",
            "298/298 [==============================] - 3s 10ms/step - loss: 0.0048 - accuracy: 0.9981 - val_loss: 0.1028 - val_accuracy: 0.9815 - epoch_time: 2.8112\n",
            "Epoch 141/300\n",
            "298/298 [==============================] - 3s 9ms/step - loss: 0.0045 - accuracy: 0.9988 - val_loss: 0.1029 - val_accuracy: 0.9824 - epoch_time: 2.7223\n",
            "Epoch 142/300\n",
            "298/298 [==============================] - 3s 9ms/step - loss: 0.0033 - accuracy: 0.9990 - val_loss: 0.1079 - val_accuracy: 0.9807 - epoch_time: 2.7457\n",
            "Epoch 143/300\n",
            "298/298 [==============================] - 3s 9ms/step - loss: 0.0089 - accuracy: 0.9973 - val_loss: 0.0987 - val_accuracy: 0.9809 - epoch_time: 2.7469\n",
            "Epoch 144/300\n",
            "298/298 [==============================] - 3s 10ms/step - loss: 0.0033 - accuracy: 0.9987 - val_loss: 0.1229 - val_accuracy: 0.9811 - epoch_time: 2.7854\n",
            "Epoch 145/300\n",
            "298/298 [==============================] - 3s 9ms/step - loss: 0.0049 - accuracy: 0.9983 - val_loss: 0.1040 - val_accuracy: 0.9817 - epoch_time: 2.7566\n",
            "Epoch 146/300\n",
            "298/298 [==============================] - 3s 10ms/step - loss: 0.0053 - accuracy: 0.9987 - val_loss: 0.1026 - val_accuracy: 0.9820 - epoch_time: 2.7908\n",
            "Epoch 147/300\n",
            "298/298 [==============================] - 3s 10ms/step - loss: 0.0050 - accuracy: 0.9982 - val_loss: 0.1063 - val_accuracy: 0.9815 - epoch_time: 2.8404\n",
            "Epoch 148/300\n",
            "298/298 [==============================] - 3s 10ms/step - loss: 0.0021 - accuracy: 0.9994 - val_loss: 0.1182 - val_accuracy: 0.9826 - epoch_time: 2.8227\n",
            "Epoch 149/300\n",
            "298/298 [==============================] - 3s 9ms/step - loss: 0.0041 - accuracy: 0.9988 - val_loss: 0.1206 - val_accuracy: 0.9824 - epoch_time: 2.7476\n",
            "Epoch 150/300\n",
            "298/298 [==============================] - 3s 9ms/step - loss: 0.0042 - accuracy: 0.9986 - val_loss: 0.1062 - val_accuracy: 0.9813 - epoch_time: 2.6975\n",
            "Epoch 151/300\n",
            "298/298 [==============================] - 3s 9ms/step - loss: 0.0036 - accuracy: 0.9990 - val_loss: 0.1020 - val_accuracy: 0.9826 - epoch_time: 2.7451\n",
            "Epoch 152/300\n",
            "298/298 [==============================] - 3s 9ms/step - loss: 0.0050 - accuracy: 0.9985 - val_loss: 0.0973 - val_accuracy: 0.9832 - epoch_time: 2.6513\n",
            "Epoch 153/300\n",
            "298/298 [==============================] - 3s 9ms/step - loss: 0.0055 - accuracy: 0.9981 - val_loss: 0.0863 - val_accuracy: 0.9817 - epoch_time: 2.7026\n",
            "Epoch 154/300\n",
            "298/298 [==============================] - 3s 9ms/step - loss: 0.0031 - accuracy: 0.9990 - val_loss: 0.0993 - val_accuracy: 0.9828 - epoch_time: 2.7345\n",
            "Epoch 155/300\n",
            "298/298 [==============================] - 3s 10ms/step - loss: 0.0026 - accuracy: 0.9992 - val_loss: 0.1195 - val_accuracy: 0.9834 - epoch_time: 2.8030\n",
            "Epoch 156/300\n",
            "298/298 [==============================] - 3s 9ms/step - loss: 0.0033 - accuracy: 0.9990 - val_loss: 0.1112 - val_accuracy: 0.9828 - epoch_time: 2.7595\n",
            "Epoch 157/300\n",
            "298/298 [==============================] - 3s 9ms/step - loss: 0.0034 - accuracy: 0.9992 - val_loss: 0.1139 - val_accuracy: 0.9824 - epoch_time: 2.7180\n",
            "Epoch 158/300\n",
            "298/298 [==============================] - 3s 10ms/step - loss: 0.0029 - accuracy: 0.9994 - val_loss: 0.1218 - val_accuracy: 0.9830 - epoch_time: 2.8417\n",
            "Epoch 159/300\n",
            "298/298 [==============================] - 3s 10ms/step - loss: 0.0044 - accuracy: 0.9984 - val_loss: 0.1276 - val_accuracy: 0.9813 - epoch_time: 2.8222\n",
            "Epoch 160/300\n",
            "298/298 [==============================] - 3s 10ms/step - loss: 0.0071 - accuracy: 0.9981 - val_loss: 0.1102 - val_accuracy: 0.9807 - epoch_time: 2.8173\n",
            "Epoch 161/300\n",
            "298/298 [==============================] - 3s 9ms/step - loss: 0.0055 - accuracy: 0.9982 - val_loss: 0.0916 - val_accuracy: 0.9820 - epoch_time: 2.7457\n",
            "Epoch 162/300\n",
            "298/298 [==============================] - 3s 9ms/step - loss: 0.0034 - accuracy: 0.9988 - val_loss: 0.1038 - val_accuracy: 0.9832 - epoch_time: 2.7478\n",
            "Epoch 163/300\n",
            "298/298 [==============================] - 3s 9ms/step - loss: 0.0029 - accuracy: 0.9992 - val_loss: 0.1037 - val_accuracy: 0.9828 - epoch_time: 2.7156\n",
            "Epoch 164/300\n",
            "298/298 [==============================] - 3s 9ms/step - loss: 0.0049 - accuracy: 0.9986 - val_loss: 0.1093 - val_accuracy: 0.9782 - epoch_time: 2.7247\n",
            "Epoch 165/300\n",
            "298/298 [==============================] - 3s 9ms/step - loss: 0.0062 - accuracy: 0.9980 - val_loss: 0.0928 - val_accuracy: 0.9813 - epoch_time: 2.7367\n",
            "Epoch 166/300\n",
            "298/298 [==============================] - 3s 9ms/step - loss: 0.0026 - accuracy: 0.9989 - val_loss: 0.1051 - val_accuracy: 0.9824 - epoch_time: 2.7721\n",
            "Epoch 167/300\n",
            "298/298 [==============================] - 3s 9ms/step - loss: 0.0050 - accuracy: 0.9987 - val_loss: 0.1047 - val_accuracy: 0.9820 - epoch_time: 2.7593\n",
            "Epoch 168/300\n",
            "298/298 [==============================] - 3s 10ms/step - loss: 0.0038 - accuracy: 0.9987 - val_loss: 0.1016 - val_accuracy: 0.9820 - epoch_time: 2.9535\n",
            "Epoch 169/300\n",
            "298/298 [==============================] - 3s 10ms/step - loss: 0.0018 - accuracy: 0.9996 - val_loss: 0.1052 - val_accuracy: 0.9826 - epoch_time: 2.8776\n",
            "Epoch 170/300\n",
            "298/298 [==============================] - 3s 9ms/step - loss: 0.0059 - accuracy: 0.9984 - val_loss: 0.0987 - val_accuracy: 0.9843 - epoch_time: 2.7508\n",
            "Epoch 171/300\n",
            "298/298 [==============================] - 3s 10ms/step - loss: 0.0030 - accuracy: 0.9988 - val_loss: 0.0967 - val_accuracy: 0.9830 - epoch_time: 2.7794\n",
            "Epoch 172/300\n",
            "298/298 [==============================] - 3s 10ms/step - loss: 0.0045 - accuracy: 0.9990 - val_loss: 0.0943 - val_accuracy: 0.9830 - epoch_time: 2.8566\n",
            "Epoch 173/300\n",
            "298/298 [==============================] - 3s 10ms/step - loss: 0.0057 - accuracy: 0.9983 - val_loss: 0.0843 - val_accuracy: 0.9834 - epoch_time: 2.8134\n",
            "Epoch 174/300\n",
            "298/298 [==============================] - 3s 10ms/step - loss: 0.0024 - accuracy: 0.9992 - val_loss: 0.1030 - val_accuracy: 0.9830 - epoch_time: 2.7795\n",
            "Epoch 175/300\n",
            "298/298 [==============================] - 3s 9ms/step - loss: 0.0032 - accuracy: 0.9992 - val_loss: 0.1062 - val_accuracy: 0.9820 - epoch_time: 2.7677\n",
            "Epoch 176/300\n",
            "298/298 [==============================] - 3s 10ms/step - loss: 0.0026 - accuracy: 0.9991 - val_loss: 0.1157 - val_accuracy: 0.9828 - epoch_time: 2.8846\n",
            "Epoch 177/300\n",
            "298/298 [==============================] - 3s 9ms/step - loss: 0.0031 - accuracy: 0.9991 - val_loss: 0.1162 - val_accuracy: 0.9817 - epoch_time: 2.7677\n",
            "Epoch 178/300\n",
            "298/298 [==============================] - 3s 9ms/step - loss: 0.0039 - accuracy: 0.9990 - val_loss: 0.1201 - val_accuracy: 0.9830 - epoch_time: 2.7419\n",
            "Epoch 179/300\n",
            "298/298 [==============================] - 3s 10ms/step - loss: 0.0039 - accuracy: 0.9988 - val_loss: 0.1004 - val_accuracy: 0.9828 - epoch_time: 2.7889\n",
            "Epoch 180/300\n",
            "298/298 [==============================] - 3s 10ms/step - loss: 0.0022 - accuracy: 0.9992 - val_loss: 0.1112 - val_accuracy: 0.9834 - epoch_time: 2.9564\n",
            "Epoch 181/300\n",
            "298/298 [==============================] - 3s 10ms/step - loss: 0.0044 - accuracy: 0.9986 - val_loss: 0.1133 - val_accuracy: 0.9813 - epoch_time: 2.7903\n",
            "Epoch 182/300\n",
            "298/298 [==============================] - 3s 9ms/step - loss: 0.0042 - accuracy: 0.9987 - val_loss: 0.1289 - val_accuracy: 0.9820 - epoch_time: 2.7372\n",
            "Epoch 183/300\n",
            "298/298 [==============================] - 3s 9ms/step - loss: 0.0029 - accuracy: 0.9990 - val_loss: 0.1193 - val_accuracy: 0.9820 - epoch_time: 2.7248\n",
            "Epoch 184/300\n",
            "298/298 [==============================] - 4s 12ms/step - loss: 0.0027 - accuracy: 0.9990 - val_loss: 0.1106 - val_accuracy: 0.9822 - epoch_time: 3.4380\n",
            "Epoch 185/300\n",
            "298/298 [==============================] - 4s 14ms/step - loss: 0.0056 - accuracy: 0.9987 - val_loss: 0.0997 - val_accuracy: 0.9824 - epoch_time: 4.1398\n",
            "Epoch 186/300\n",
            "298/298 [==============================] - 3s 10ms/step - loss: 0.0031 - accuracy: 0.9989 - val_loss: 0.0996 - val_accuracy: 0.9813 - epoch_time: 2.9212\n",
            "Epoch 187/300\n",
            "298/298 [==============================] - 3s 10ms/step - loss: 0.0028 - accuracy: 0.9991 - val_loss: 0.1237 - val_accuracy: 0.9807 - epoch_time: 2.8541\n",
            "Epoch 188/300\n",
            "298/298 [==============================] - 3s 10ms/step - loss: 0.0025 - accuracy: 0.9991 - val_loss: 0.0996 - val_accuracy: 0.9824 - epoch_time: 2.7957\n",
            "Epoch 189/300\n",
            "298/298 [==============================] - 3s 10ms/step - loss: 0.0021 - accuracy: 0.9994 - val_loss: 0.1181 - val_accuracy: 0.9828 - epoch_time: 2.8353\n",
            "Epoch 190/300\n",
            "298/298 [==============================] - 3s 10ms/step - loss: 0.0033 - accuracy: 0.9991 - val_loss: 0.1100 - val_accuracy: 0.9834 - epoch_time: 2.8476\n",
            "Epoch 191/300\n",
            "298/298 [==============================] - 3s 10ms/step - loss: 0.0028 - accuracy: 0.9992 - val_loss: 0.1281 - val_accuracy: 0.9830 - epoch_time: 2.8246\n",
            "Epoch 192/300\n",
            "298/298 [==============================] - 3s 10ms/step - loss: 0.0039 - accuracy: 0.9991 - val_loss: 0.1302 - val_accuracy: 0.9822 - epoch_time: 2.8427\n",
            "Epoch 193/300\n",
            "298/298 [==============================] - 3s 10ms/step - loss: 0.0029 - accuracy: 0.9989 - val_loss: 0.1111 - val_accuracy: 0.9809 - epoch_time: 2.7987\n",
            "Epoch 194/300\n",
            "298/298 [==============================] - 3s 10ms/step - loss: 0.0034 - accuracy: 0.9991 - val_loss: 0.1083 - val_accuracy: 0.9820 - epoch_time: 2.7674\n",
            "Epoch 195/300\n",
            "298/298 [==============================] - 3s 9ms/step - loss: 0.0037 - accuracy: 0.9987 - val_loss: 0.1158 - val_accuracy: 0.9824 - epoch_time: 2.7399\n",
            "Epoch 196/300\n",
            "298/298 [==============================] - 3s 10ms/step - loss: 0.0053 - accuracy: 0.9984 - val_loss: 0.1063 - val_accuracy: 0.9817 - epoch_time: 2.8656\n",
            "Epoch 197/300\n",
            "298/298 [==============================] - 3s 10ms/step - loss: 0.0062 - accuracy: 0.9981 - val_loss: 0.1050 - val_accuracy: 0.9805 - epoch_time: 2.8560\n",
            "Epoch 198/300\n",
            "298/298 [==============================] - 3s 10ms/step - loss: 0.0029 - accuracy: 0.9992 - val_loss: 0.1110 - val_accuracy: 0.9805 - epoch_time: 2.8434\n",
            "Epoch 199/300\n",
            "298/298 [==============================] - 3s 10ms/step - loss: 0.0036 - accuracy: 0.9988 - val_loss: 0.0957 - val_accuracy: 0.9830 - epoch_time: 2.8901\n",
            "Epoch 200/300\n",
            "298/298 [==============================] - 3s 10ms/step - loss: 0.0049 - accuracy: 0.9987 - val_loss: 0.0904 - val_accuracy: 0.9813 - epoch_time: 2.8544\n",
            "Epoch 201/300\n",
            "298/298 [==============================] - 3s 10ms/step - loss: 0.0034 - accuracy: 0.9991 - val_loss: 0.1012 - val_accuracy: 0.9836 - epoch_time: 2.9001\n",
            "Epoch 202/300\n",
            "298/298 [==============================] - 3s 10ms/step - loss: 0.0021 - accuracy: 0.9992 - val_loss: 0.1058 - val_accuracy: 0.9828 - epoch_time: 2.8635\n",
            "Epoch 203/300\n",
            "298/298 [==============================] - 3s 10ms/step - loss: 0.0011 - accuracy: 0.9996 - val_loss: 0.1186 - val_accuracy: 0.9836 - epoch_time: 2.8475\n",
            "Epoch 204/300\n",
            "298/298 [==============================] - 3s 10ms/step - loss: 0.0049 - accuracy: 0.9984 - val_loss: 0.1151 - val_accuracy: 0.9824 - epoch_time: 2.8462\n",
            "Epoch 205/300\n",
            "298/298 [==============================] - 3s 10ms/step - loss: 0.0044 - accuracy: 0.9987 - val_loss: 0.1052 - val_accuracy: 0.9817 - epoch_time: 2.7820\n",
            "Epoch 206/300\n",
            "298/298 [==============================] - 3s 10ms/step - loss: 0.0041 - accuracy: 0.9989 - val_loss: 0.0995 - val_accuracy: 0.9824 - epoch_time: 2.7977\n",
            "Epoch 207/300\n",
            "298/298 [==============================] - 3s 10ms/step - loss: 0.0019 - accuracy: 0.9993 - val_loss: 0.1061 - val_accuracy: 0.9830 - epoch_time: 2.8462\n",
            "Epoch 208/300\n",
            "298/298 [==============================] - 3s 10ms/step - loss: 0.0017 - accuracy: 0.9994 - val_loss: 0.1022 - val_accuracy: 0.9830 - epoch_time: 2.8903\n",
            "Epoch 209/300\n",
            "298/298 [==============================] - 3s 10ms/step - loss: 0.0024 - accuracy: 0.9994 - val_loss: 0.1058 - val_accuracy: 0.9828 - epoch_time: 2.8547\n",
            "Epoch 210/300\n",
            "298/298 [==============================] - 3s 10ms/step - loss: 0.0019 - accuracy: 0.9992 - val_loss: 0.1032 - val_accuracy: 0.9834 - epoch_time: 2.9759\n",
            "Epoch 211/300\n",
            "298/298 [==============================] - 3s 10ms/step - loss: 0.0013 - accuracy: 0.9995 - val_loss: 0.1205 - val_accuracy: 0.9826 - epoch_time: 2.9199\n",
            "Epoch 212/300\n",
            "298/298 [==============================] - 3s 10ms/step - loss: 0.0017 - accuracy: 0.9995 - val_loss: 0.1191 - val_accuracy: 0.9838 - epoch_time: 2.8979\n",
            "Epoch 213/300\n",
            "298/298 [==============================] - 3s 10ms/step - loss: 0.0045 - accuracy: 0.9986 - val_loss: 0.1124 - val_accuracy: 0.9822 - epoch_time: 2.9253\n",
            "Epoch 214/300\n",
            "298/298 [==============================] - 3s 10ms/step - loss: 0.0033 - accuracy: 0.9988 - val_loss: 0.1125 - val_accuracy: 0.9820 - epoch_time: 2.9381\n",
            "Epoch 215/300\n",
            "298/298 [==============================] - 3s 10ms/step - loss: 0.0031 - accuracy: 0.9991 - val_loss: 0.1165 - val_accuracy: 0.9809 - epoch_time: 2.8425\n",
            "Epoch 216/300\n",
            "298/298 [==============================] - 3s 10ms/step - loss: 0.0031 - accuracy: 0.9990 - val_loss: 0.1017 - val_accuracy: 0.9820 - epoch_time: 2.8731\n",
            "Epoch 217/300\n",
            "298/298 [==============================] - 3s 10ms/step - loss: 0.0039 - accuracy: 0.9985 - val_loss: 0.1167 - val_accuracy: 0.9830 - epoch_time: 2.8854\n",
            "Epoch 218/300\n",
            "298/298 [==============================] - 3s 10ms/step - loss: 0.0014 - accuracy: 0.9997 - val_loss: 0.1384 - val_accuracy: 0.9824 - epoch_time: 2.8443\n",
            "Epoch 219/300\n",
            "298/298 [==============================] - 3s 10ms/step - loss: 0.0031 - accuracy: 0.9993 - val_loss: 0.1244 - val_accuracy: 0.9807 - epoch_time: 2.8347\n",
            "Epoch 220/300\n",
            "298/298 [==============================] - 3s 10ms/step - loss: 0.0022 - accuracy: 0.9993 - val_loss: 0.1100 - val_accuracy: 0.9838 - epoch_time: 2.9313\n",
            "Epoch 221/300\n",
            "298/298 [==============================] - 3s 10ms/step - loss: 0.0027 - accuracy: 0.9990 - val_loss: 0.0999 - val_accuracy: 0.9822 - epoch_time: 2.8631\n"
          ]
        }
      ]
    },
    {
      "cell_type": "code",
      "metadata": {
        "colab": {
          "base_uri": "https://localhost:8080/"
        },
        "id": "VHdW6wSd6Kl2",
        "outputId": "484c33f8-8536-45ca-9040-964a26c8d474"
      },
      "source": [
        "#plot history of model_sensor1\n",
        "history_sensor1 = pd.read_csv(model_path+\"historyLOG_sensor1.csv\", index_col='epoch')\n",
        "history_sensor1.reset_index(drop= True, inplace= True)\n",
        "history_sensor1.head()\n",
        "print('Average Exe_time for sensor1: {} sec.'.format(round(np.mean(history_sensor1['epoch_time'].values),3)))"
      ],
      "execution_count": null,
      "outputs": [
        {
          "output_type": "stream",
          "name": "stdout",
          "text": [
            "Average Exe_time for sensor1: 2.878 sec.\n"
          ]
        }
      ]
    },
    {
      "cell_type": "code",
      "metadata": {
        "colab": {
          "base_uri": "https://localhost:8080/",
          "height": 281
        },
        "id": "GjYvfiOc6KnL",
        "outputId": "c7e9df8a-3960-4c5e-cde4-d57c9846b954"
      },
      "source": [
        "plt.plot( history_sensor1['loss'], 'b',label = 'loss')\n",
        "plt.plot( history_sensor1['val_loss'], 'g', label = 'val_loss')\n",
        "plt.legend()\n",
        "plt.grid()\n",
        "plt.title('loss_model_sensor1')\n",
        "plt.show()"
      ],
      "execution_count": null,
      "outputs": [
        {
          "output_type": "display_data",
          "data": {
            "text/plain": [
              "<Figure size 432x288 with 1 Axes>"
            ],
            "image/png": "[encoded data removed]"
          },
          "metadata": {
            "needs_background": "light"
          }
        }
      ]
    },
    {
      "cell_type": "code",
      "metadata": {
        "colab": {
          "base_uri": "https://localhost:8080/",
          "height": 281
        },
        "id": "aYgeJHSG6Kqg",
        "outputId": "928a5fa2-9903-4d13-c406-1bf1f8c65b02"
      },
      "source": [
        "plt.plot(history_sensor1['accuracy']* 100,'b',label = 'acc')\n",
        "plt.plot(history_sensor1['val_accuracy'] * 100,'g', label = 'val_acc')\n",
        "plt.legend()\n",
        "plt.grid()\n",
        "plt.title('accuracy_model_sensor1')\n",
        "plt.show()"
      ],
      "execution_count": null,
      "outputs": [
        {
          "output_type": "display_data",
          "data": {
            "text/plain": [
              "<Figure size 432x288 with 1 Axes>"
            ],
            "image/png": "[encoded data removed]"
          },
          "metadata": {
            "needs_background": "light"
          }
        }
      ]
    },
    {
      "cell_type": "code",
      "metadata": {
        "colab": {
          "base_uri": "https://localhost:8080/"
        },
        "id": "9zV9wshG6ljU",
        "outputId": "81dd0bd9-086a-404e-ff25-f3da135bcb5f"
      },
      "source": [
        "#plot history of model_sensor2\n",
        "history_sensor2 = pd.read_csv(model_path+\"historyLOG_sensor2.csv\", index_col='epoch')\n",
        "history_sensor2.head()\n",
        "print('Average Exe_time for sensor2: {} sec.'.format(round(np.mean(history_sensor2['epoch_time'].values),3)))"
      ],
      "execution_count": null,
      "outputs": [
        {
          "output_type": "stream",
          "name": "stdout",
          "text": [
            "Average Exe_time for sensor2: 2.871 sec.\n"
          ]
        }
      ]
    },
    {
      "cell_type": "code",
      "metadata": {
        "colab": {
          "base_uri": "https://localhost:8080/",
          "height": 281
        },
        "id": "S1V4Wfr96llG",
        "outputId": "2e73fdd7-2a15-4f4f-9461-d6b1da2770e0"
      },
      "source": [
        "plt.plot( history_sensor2['loss'], 'b',label = 'loss')\n",
        "plt.plot( history_sensor2['val_loss'], 'g', label = 'val_loss')\n",
        "plt.legend()\n",
        "plt.grid()\n",
        "plt.title('loss_model_sensor2')\n",
        "plt.show()"
      ],
      "execution_count": null,
      "outputs": [
        {
          "output_type": "display_data",
          "data": {
            "text/plain": [
              "<Figure size 432x288 with 1 Axes>"
            ],
            "image/png": "[encoded data removed]"
          },
          "metadata": {
            "needs_background": "light"
          }
        }
      ]
    },
    {
      "cell_type": "code",
      "metadata": {
        "colab": {
          "base_uri": "https://localhost:8080/",
          "height": 281
        },
        "id": "1GnTWfsX6lns",
        "outputId": "f8ac47df-ac5f-4467-bb90-f75e6d6fdd06"
      },
      "source": [
        "plt.plot(history_sensor2['accuracy']* 100,'b',label = 'acc')\n",
        "plt.plot(history_sensor2['val_accuracy'] * 100,'g', label = 'val_acc')\n",
        "plt.legend()\n",
        "plt.grid()\n",
        "plt.title('accuracy_model_sensor2')\n",
        "plt.show()"
      ],
      "execution_count": null,
      "outputs": [
        {
          "output_type": "display_data",
          "data": {
            "text/plain": [
              "<Figure size 432x288 with 1 Axes>"
            ],
            "image/png": "[encoded data removed]"
          },
          "metadata": {
            "needs_background": "light"
          }
        }
      ]
    },
    {
      "cell_type": "code",
      "metadata": {
        "colab": {
          "base_uri": "https://localhost:8080/"
        },
        "id": "0g6uCU2x6lo5",
        "outputId": "b320002d-493f-438c-91ff-60dee8796618"
      },
      "source": [
        "#plot history of model_sensor3\n",
        "history_sensor3 = pd.read_csv(model_path+\"historyLOG_sensor3.csv\", index_col='epoch')\n",
        "history_sensor3.head()\n",
        "print('Average Exe_time for sensor3: {} sec.'.format(round(np.mean(history_sensor3['epoch_time'].values),3)))"
      ],
      "execution_count": null,
      "outputs": [
        {
          "output_type": "stream",
          "name": "stdout",
          "text": [
            "Average Exe_time for sensor3: 2.792 sec.\n"
          ]
        }
      ]
    },
    {
      "cell_type": "code",
      "metadata": {
        "colab": {
          "base_uri": "https://localhost:8080/",
          "height": 281
        },
        "id": "8QSWphyI6ltD",
        "outputId": "6989ec8d-954a-4f4a-ff54-892305ecb3e0"
      },
      "source": [
        "plt.plot( history_sensor3['loss'], 'b',label = 'loss')\n",
        "plt.plot( history_sensor3['val_loss'], 'g', label = 'val_loss')\n",
        "plt.legend()\n",
        "plt.grid()\n",
        "plt.title('loss_model_sensor3')\n",
        "plt.show()"
      ],
      "execution_count": null,
      "outputs": [
        {
          "output_type": "display_data",
          "data": {
            "text/plain": [
              "<Figure size 432x288 with 1 Axes>"
            ],
            "image/png": "[encoded data removed]"
          },
          "metadata": {
            "needs_background": "light"
          }
        }
      ]
    },
    {
      "cell_type": "code",
      "metadata": {
        "colab": {
          "base_uri": "https://localhost:8080/",
          "height": 281
        },
        "id": "KwOyz1uz6luG",
        "outputId": "e05312cb-5da7-4daf-a048-587268222b88"
      },
      "source": [
        "plt.plot(history_sensor3['accuracy']* 100,'b',label = 'acc')\n",
        "plt.plot(history_sensor3['val_accuracy'] * 100,'g', label = 'val_acc')\n",
        "plt.legend()\n",
        "plt.grid()\n",
        "plt.title('accuracy_model_sensor3')\n",
        "plt.show()"
      ],
      "execution_count": null,
      "outputs": [
        {
          "output_type": "display_data",
          "data": {
            "text/plain": [
              "<Figure size 432x288 with 1 Axes>"
            ],
            "image/png": "[encoded data removed]"
          },
          "metadata": {
            "needs_background": "light"
          }
        }
      ]
    },
    {
      "cell_type": "code",
      "metadata": {
        "colab": {
          "base_uri": "https://localhost:8080/"
        },
        "id": "9YoVTP2M6lyj",
        "outputId": "47c67fb4-e32f-478e-ebb2-b71aa7f7737f"
      },
      "source": [
        "#last model_sensor1 evaluation\n",
        "test_loss, test_acc = model_sensor1.evaluate( X_test_sensor1, y_test_sensor1, verbose= 1)\n",
        "print('test accuracy :{:.1%} \\n test loss :{:.3}'.format(test_acc, test_loss))"
      ],
      "execution_count": null,
      "outputs": [
        {
          "output_type": "stream",
          "name": "stdout",
          "text": [
            "187/187 [==============================] - 1s 4ms/step - loss: 0.0202 - accuracy: 0.9975\n",
            "test accuracy :99.7% \n",
            " test loss :0.0202\n"
          ]
        }
      ]
    },
    {
      "cell_type": "code",
      "metadata": {
        "colab": {
          "base_uri": "https://localhost:8080/"
        },
        "id": "WPHCJN7i6_1F",
        "outputId": "11c9aad2-a092-46a9-f0e7-b96914a6758f"
      },
      "source": [
        "#last model_sensor2 evaluation\n",
        "test_loss, test_acc = model_sensor2.evaluate( X_test_sensor2, y_test_sensor2, verbose= 1)\n",
        "print('test accuracy :{:.1%} \\n test loss :{:.3}'.format(test_acc, test_loss))"
      ],
      "execution_count": null,
      "outputs": [
        {
          "output_type": "stream",
          "name": "stdout",
          "text": [
            "187/187 [==============================] - 1s 4ms/step - loss: 0.0147 - accuracy: 0.9977\n",
            "test accuracy :99.8% \n",
            " test loss :0.0147\n"
          ]
        }
      ]
    },
    {
      "cell_type": "code",
      "metadata": {
        "colab": {
          "base_uri": "https://localhost:8080/"
        },
        "id": "1nrdNqrY6_2N",
        "outputId": "6a4b9f79-7753-4c82-cdc3-2d3da04e555a"
      },
      "source": [
        "#last model_sensor3 evaluation\n",
        "test_loss, test_acc = model_sensor3.evaluate( X_test_sensor3, y_test_sensor3, verbose= 1)\n",
        "print('test accuracy :{:.1%} \\n test loss :{:.3}'.format(test_acc, test_loss))"
      ],
      "execution_count": null,
      "outputs": [
        {
          "output_type": "stream",
          "name": "stdout",
          "text": [
            "187/187 [==============================] - 1s 4ms/step - loss: 0.0821 - accuracy: 0.9869\n",
            "test accuracy :98.7% \n",
            " test loss :0.0821\n"
          ]
        }
      ]
    },
    {
      "cell_type": "code",
      "metadata": {
        "colab": {
          "base_uri": "https://localhost:8080/"
        },
        "id": "PrWkE4Bk6_7N",
        "outputId": "aa899fc7-12ae-4fc5-fead-75324f23baa6"
      },
      "source": [
        "y_pred_sensor1 = model_sensor1.predict( X_test_sensor1, verbose= 1)\n",
        "y_pred_sensor2 = model_sensor2.predict( X_test_sensor2, verbose= 1)\n",
        "y_pred_sensor3 = model_sensor3.predict( X_test_sensor3, verbose= 1)"
      ],
      "execution_count": null,
      "outputs": [
        {
          "output_type": "stream",
          "name": "stdout",
          "text": [
            "187/187 [==============================] - 1s 3ms/step\n",
            "187/187 [==============================] - 1s 3ms/step\n",
            "187/187 [==============================] - 1s 3ms/step\n"
          ]
        }
      ]
    },
    {
      "cell_type": "code",
      "metadata": {
        "colab": {
          "base_uri": "https://localhost:8080/"
        },
        "id": "V8z5a7_L6_8P",
        "outputId": "58c8eceb-08e6-480f-d36c-b92c7de3ef06"
      },
      "source": [
        "y_pred_sensor1[0]"
      ],
      "execution_count": null,
      "outputs": [
        {
          "output_type": "execute_result",
          "data": {
            "text/plain": [
              "array([7.286851e-05, 9.999211e-01], dtype=float32)"
            ]
          },
          "metadata": {},
          "execution_count": 67
        }
      ]
    },
    {
      "cell_type": "code",
      "metadata": {
        "id": "na-kVKkJ6lzh"
      },
      "source": [
        "y_pred_sensor1 = [np.argmax(i) for i in y_pred_sensor1]\n",
        "y_pred_sensor2 = [np.argmax(i) for i in y_pred_sensor2]\n",
        "y_pred_sensor3 = [np.argmax(i) for i in y_pred_sensor3]"
      ],
      "execution_count": null,
      "outputs": []
    },
    {
      "cell_type": "code",
      "metadata": {
        "id": "OYZfSvqz7SDD"
      },
      "source": [
        "y_pred_total = []\n",
        "for i in range(len(y_pred_sensor1)):\n",
        "  y_pred_total.append( y_pred_sensor1[i] or y_pred_sensor2[i] or y_pred_sensor3[i])"
      ],
      "execution_count": null,
      "outputs": []
    },
    {
      "cell_type": "code",
      "metadata": {
        "id": "PEkCoW5M7SEI"
      },
      "source": [
        "assert(len(y_pred_total) == len(y_pred_sensor1))"
      ],
      "execution_count": null,
      "outputs": []
    },
    {
      "cell_type": "code",
      "metadata": {
        "id": "VbDFn0Ep4R0c"
      },
      "source": [
        "y_test_sensor1 = [np.argmax(i) for i in y_test_sensor1]\n",
        "y_test_sensor2 = [np.argmax(i) for i in y_test_sensor2]\n",
        "y_test_sensor3 = [np.argmax(i) for i in y_test_sensor3]"
      ],
      "execution_count": null,
      "outputs": []
    },
    {
      "cell_type": "code",
      "metadata": {
        "id": "3MfM6WlZ7SJY"
      },
      "source": [
        "y_test_total = []\n",
        "for i in range(len(y_test_sensor1)):\n",
        "  y_test_total.append(y_test_sensor1[i] or y_test_sensor2[i] or y_test_sensor3[i])"
      ],
      "execution_count": null,
      "outputs": []
    },
    {
      "cell_type": "code",
      "metadata": {
        "colab": {
          "base_uri": "https://localhost:8080/"
        },
        "id": "gJOubR2B7SKe",
        "outputId": "48ec2da9-7a8d-4661-a506-de484a18d19b"
      },
      "source": [
        "print(\"Sensor 1 performanace:\")\n",
        "recall = recall_score(y_test_sensor1, y_pred_sensor1, average='macro')\n",
        "print('recall score : {:.2%}\\n'.format(recall ))\n",
        "\n",
        "precision = precision_score(y_test_sensor1, y_pred_sensor1, average='macro')\n",
        "print('precision score: {:.2%}\\n'.format(precision ))\n",
        "\n",
        "f1 = f1_score(y_test_sensor1, y_pred_sensor1, average='macro')\n",
        "print(\"F1 score: {:.2%}\\n\".format(f1 ))\n",
        "\n",
        "accuracy = accuracy_score(y_test_sensor1, y_pred_sensor1)\n",
        "print(\"accuracy score: {:.2%}\\n\".format(accuracy))"
      ],
      "execution_count": null,
      "outputs": [
        {
          "output_type": "stream",
          "name": "stdout",
          "text": [
            "Sensor 1 performanace:\n",
            "recall score : 99.63%\n",
            "\n",
            "precision score: 99.75%\n",
            "\n",
            "F1 score: 99.69%\n",
            "\n",
            "accuracy score: 99.75%\n",
            "\n"
          ]
        }
      ]
    },
    {
      "cell_type": "code",
      "metadata": {
        "colab": {
          "base_uri": "https://localhost:8080/"
        },
        "id": "BVQS1Gyd7tnZ",
        "outputId": "f23d084e-b7d4-40f6-e0f5-366365e1f2d7"
      },
      "source": [
        "print(\"Sensor 2 performanace:\")\n",
        "recall = recall_score(y_test_sensor2, y_pred_sensor2, average='macro')\n",
        "print('recall score : {:.2%}\\n'.format(recall ))\n",
        "\n",
        "precision = precision_score(y_test_sensor2, y_pred_sensor2, average='macro')\n",
        "print('precision score: {:.2%}\\n'.format(precision ))\n",
        "\n",
        "f1 = f1_score(y_test_sensor2, y_pred_sensor2, average='macro')\n",
        "print(\"F1 score: {:.2%}\\n\".format(f1 ))\n",
        "\n",
        "accuracy = accuracy_score(y_test_sensor2, y_pred_sensor2)\n",
        "print(\"accuracy score: {:.2%}\\n\".format(accuracy))"
      ],
      "execution_count": null,
      "outputs": [
        {
          "output_type": "stream",
          "name": "stdout",
          "text": [
            "Sensor 2 performanace:\n",
            "recall score : 99.63%\n",
            "\n",
            "precision score: 99.78%\n",
            "\n",
            "F1 score: 99.71%\n",
            "\n",
            "accuracy score: 99.77%\n",
            "\n"
          ]
        }
      ]
    },
    {
      "cell_type": "code",
      "metadata": {
        "colab": {
          "base_uri": "https://localhost:8080/"
        },
        "id": "4C-wi5b37toq",
        "outputId": "047448e6-c1a8-40e9-8288-0071e5015a3a"
      },
      "source": [
        "print(\"Sensor 3 performanace:\")\n",
        "recall = recall_score(y_test_sensor3, y_pred_sensor3, average='macro')\n",
        "print('recall score : {:.2%}\\n'.format(recall ))\n",
        "\n",
        "precision = precision_score(y_test_sensor3, y_pred_sensor3, average='macro')\n",
        "print('precision score: {:.2%}\\n'.format(precision ))\n",
        "\n",
        "f1 = f1_score(y_test_sensor3, y_pred_sensor3, average='macro')\n",
        "print(\"F1 score: {:.2%}\\n\".format(f1 ))\n",
        "\n",
        "accuracy = accuracy_score(y_test_sensor3, y_pred_sensor3)\n",
        "print(\"accuracy score: {:.2%}\\n\".format(accuracy))"
      ],
      "execution_count": null,
      "outputs": [
        {
          "output_type": "stream",
          "name": "stdout",
          "text": [
            "Sensor 3 performanace:\n",
            "recall score : 98.33%\n",
            "\n",
            "precision score: 98.37%\n",
            "\n",
            "F1 score: 98.35%\n",
            "\n",
            "accuracy score: 98.69%\n",
            "\n"
          ]
        }
      ]
    },
    {
      "cell_type": "code",
      "metadata": {
        "colab": {
          "base_uri": "https://localhost:8080/"
        },
        "id": "0IPbJwdRUud5",
        "outputId": "b2112126-d4ca-4094-c4af-64a0fa437b19"
      },
      "source": [
        "print(\"All Sensors performanace:\\n\")\n",
        "\n",
        "recall = recall_score(y_test_total, y_pred_total, average='micro')\n",
        "print('recall score : {:.2%}\\n'.format(recall ))\n",
        "\n",
        "precision = precision_score(y_test_total, y_pred_total, average='micro')\n",
        "print('precision score: {:.2%}\\n'.format(precision ))\n",
        "\n",
        "f1 = f1_score(y_test_total, y_pred_total, average='micro')\n",
        "print(\"F1 score: {:.2%}\\n\".format(f1 ))\n",
        "\n",
        "accuracy = accuracy_score(y_test_total, y_pred_total)\n",
        "print(\"accuracy score: {:.2%}\\n\".format(accuracy))"
      ],
      "execution_count": null,
      "outputs": [
        {
          "output_type": "stream",
          "name": "stdout",
          "text": [
            "All Sensors performanace:\n",
            "\n",
            "recall score : 99.09%\n",
            "\n",
            "precision score: 99.09%\n",
            "\n",
            "F1 score: 99.09%\n",
            "\n",
            "accuracy score: 99.09%\n",
            "\n"
          ]
        }
      ]
    },
    {
      "cell_type": "code",
      "metadata": {
        "id": "tuszG-cm7tss",
        "colab": {
          "base_uri": "https://localhost:8080/"
        },
        "outputId": "62585ed4-9d04-4f25-8c16-b6f09bc9e694"
      },
      "source": [
        "print(\"All Sensors performanace:\\n\")\n",
        "\n",
        "recall = recall_score(y_test_total, y_pred_total, average='macro')\n",
        "print('recall score : {:.2%}\\n'.format(recall ))\n",
        "\n",
        "precision = precision_score(y_test_total, y_pred_total, average='macro')\n",
        "print('precision score: {:.2%}\\n'.format(precision ))\n",
        "\n",
        "f1 = f1_score(y_test_total, y_pred_total, average='macro')\n",
        "print(\"F1 score: {:.2%}\\n\".format(f1 ))\n",
        "\n",
        "accuracy = accuracy_score(y_test_total, y_pred_total)\n",
        "print(\"accuracy score: {:.2%}\\n\".format(accuracy))"
      ],
      "execution_count": null,
      "outputs": [
        {
          "output_type": "stream",
          "name": "stdout",
          "text": [
            "All Sensors performanace:\n",
            "\n",
            "recall score : 99.07%\n",
            "\n",
            "precision score: 98.98%\n",
            "\n",
            "F1 score: 99.02%\n",
            "\n",
            "accuracy score: 99.09%\n",
            "\n"
          ]
        }
      ]
    },
    {
      "cell_type": "code",
      "metadata": {
        "colab": {
          "base_uri": "https://localhost:8080/",
          "height": 112
        },
        "id": "FNwvz_657tuE",
        "outputId": "4b040437-c05f-44e2-fa88-968fba6b1e3a"
      },
      "source": [
        "conf = confusion_matrix(y_test_total, y_pred_total, labels=[1,0])\n",
        "conf_df = pd.DataFrame(conf, columns= [1,0], index= [1,0])\n",
        "conf_df"
      ],
      "execution_count": null,
      "outputs": [
        {
          "output_type": "execute_result",
          "data": {
            "text/plain": [
              "      1     0\n",
              "1  3755    32\n",
              "0    22  2149"
            ],
            "text/html": [
              "\n",
              "  <div id=\"df-10e8446e-fa2b-4d83-bd3f-244747b02d46\">\n",
              "    <div class=\"colab-df-container\">\n",
              "      <div>\n",
              "<style scoped>\n",
              "    .dataframe tbody tr th:only-of-type {\n",
              "        vertical-align: middle;\n",
              "    }\n",
              "\n",
              "    .dataframe tbody tr th {\n",
              "        vertical-align: top;\n",
              "    }\n",
              "\n",
              "    .dataframe thead th {\n",
              "        text-align: right;\n",
              "    }\n",
              "</style>\n",
              "<table border=\"1\" class=\"dataframe\">\n",
              "  <thead>\n",
              "    <tr style=\"text-align: right;\">\n",
              "      <th></th>\n",
              "      <th>1</th>\n",
              "      <th>0</th>\n",
              "    </tr>\n",
              "  </thead>\n",
              "  <tbody>\n",
              "    <tr>\n",
              "      <th>1</th>\n",
              "      <td>3755</td>\n",
              "      <td>32</td>\n",
              "    </tr>\n",
              "    <tr>\n",
              "      <th>0</th>\n",
              "      <td>22</td>\n",
              "      <td>2149</td>\n",
              "    </tr>\n",
              "  </tbody>\n",
              "</table>\n",
              "</div>\n",
              "      <button class=\"colab-df-convert\" onclick=\"convertToInteractive('df-10e8446e-fa2b-4d83-bd3f-244747b02d46')\"\n",
              "              title=\"Convert this dataframe to an interactive table.\"\n",
              "              style=\"display:none;\">\n",
              "        \n",
              "  <svg xmlns=\"http://www.w3.org/2000/svg\" height=\"24px\"viewBox=\"0 0 24 24\"\n",
              "       width=\"24px\">\n",
              "    <path d=\"M0 0h24v24H0V0z\" fill=\"none\"/>\n",
              "    <path d=\"M18.56 5.44l.94 2.06.94-2.06 2.06-.94-2.06-.94-.94-2.06-.94 2.06-2.06.94zm-11 1L8.5 8.5l.94-2.06 2.06-.94-2.06-.94L8.5 2.5l-.94 2.06-2.06.94zm10 10l.94 2.06.94-2.06 2.06-.94-2.06-.94-.94-2.06-.94 2.06-2.06.94z\"/><path d=\"M17.41 7.96l-1.37-1.37c-.4-.4-.92-.59-1.43-.59-.52 0-1.04.2-1.43.59L10.3 9.45l-7.72 7.72c-.78.78-.78 2.05 0 2.83L4 21.41c.39.39.9.59 1.41.59.51 0 1.02-.2 1.41-.59l7.78-7.78 2.81-2.81c.8-.78.8-2.07 0-2.86zM5.41 20L4 18.59l7.72-7.72 1.47 1.35L5.41 20z\"/>\n",
              "  </svg>\n",
              "      </button>\n",
              "      \n",
              "  <style>\n",
              "    .colab-df-container {\n",
              "      display:flex;\n",
              "      flex-wrap:wrap;\n",
              "      gap: 12px;\n",
              "    }\n",
              "\n",
              "    .colab-df-convert {\n",
              "      background-color: #E8F0FE;\n",
              "      border: none;\n",
              "      border-radius: 50%;\n",
              "      cursor: pointer;\n",
              "      display: none;\n",
              "      fill: #1967D2;\n",
              "      height: 32px;\n",
              "      padding: 0 0 0 0;\n",
              "      width: 32px;\n",
              "    }\n",
              "\n",
              "    .colab-df-convert:hover {\n",
              "      background-color: #E2EBFA;\n",
              "      box-shadow: 0px 1px 2px rgba(60, 64, 67, 0.3), 0px 1px 3px 1px rgba(60, 64, 67, 0.15);\n",
              "      fill: #174EA6;\n",
              "    }\n",
              "\n",
              "    [theme=dark] .colab-df-convert {\n",
              "      background-color: #3B4455;\n",
              "      fill: #D2E3FC;\n",
              "    }\n",
              "\n",
              "    [theme=dark] .colab-df-convert:hover {\n",
              "      background-color: #434B5C;\n",
              "      box-shadow: 0px 1px 3px 1px rgba(0, 0, 0, 0.15);\n",
              "      filter: drop-shadow(0px 1px 2px rgba(0, 0, 0, 0.3));\n",
              "      fill: #FFFFFF;\n",
              "    }\n",
              "  </style>\n",
              "\n",
              "      <script>\n",
              "        const buttonEl =\n",
              "          document.querySelector('#df-10e8446e-fa2b-4d83-bd3f-244747b02d46 button.colab-df-convert');\n",
              "        buttonEl.style.display =\n",
              "          google.colab.kernel.accessAllowed ? 'block' : 'none';\n",
              "\n",
              "        async function convertToInteractive(key) {\n",
              "          const element = document.querySelector('#df-10e8446e-fa2b-4d83-bd3f-244747b02d46');\n",
              "          const dataTable =\n",
              "            await google.colab.kernel.invokeFunction('convertToInteractive',\n",
              "                                                     [key], {});\n",
              "          if (!dataTable) return;\n",
              "\n",
              "          const docLinkHtml = 'Like what you see? Visit the ' +\n",
              "            '<a target=\"_blank\" href=https://colab.research.google.com/notebooks/data_table.ipynb>data table notebook</a>'\n",
              "            + ' to learn more about interactive tables.';\n",
              "          element.innerHTML = '';\n",
              "          dataTable['output_type'] = 'display_data';\n",
              "          await google.colab.output.renderOutput(dataTable, element);\n",
              "          const docLink = document.createElement('div');\n",
              "          docLink.innerHTML = docLinkHtml;\n",
              "          element.appendChild(docLink);\n",
              "        }\n",
              "      </script>\n",
              "    </div>\n",
              "  </div>\n",
              "  "
            ]
          },
          "metadata": {},
          "execution_count": 78
        }
      ]
    },
    {
      "cell_type": "code",
      "metadata": {
        "id": "BIyM0U2C5bxO"
      },
      "source": [],
      "execution_count": null,
      "outputs": []
    }
  ]
}