{
  "nbformat": 4,
  "nbformat_minor": 0,
  "metadata": {
    "colab": {
      "provenance": []
    },
    "kernelspec": {
      "name": "python3",
      "display_name": "Python 3"
    },
    "language_info": {
      "name": "python"
    },
    "accelerator": "GPU"
  },
  "cells": [
    {
      "cell_type": "code",
      "metadata": {
        "id": "INNY7MoLZn0x",
        "colab": {
          "base_uri": "https://localhost:8080/"
        },
        "outputId": "1eab94a6-6a74-4335-9d91-7121ba6ee306"
      },
      "source": [
        "from google.colab import drive\n",
        "drive.mount('/content/drive')"
      ],
      "execution_count": null,
      "outputs": [
        {
          "output_type": "stream",
          "name": "stdout",
          "text": [
            "Mounted at /content/drive\n"
          ]
        }
      ]
    },
    {
      "cell_type": "code",
      "metadata": {
        "id": "bQ3m-WaucgZw",
        "colab": {
          "base_uri": "https://localhost:8080/"
        },
        "outputId": "56acce89-30d3-4198-9c51-8fbd5cf4c65b"
      },
      "source": [
        "pip install h5py==2.10.0"
      ],
      "execution_count": null,
      "outputs": [
        {
          "output_type": "stream",
          "name": "stdout",
          "text": [
            "Looking in indexes: https://pypi.org/simple, https://us-python.pkg.dev/colab-wheels/public/simple/\n",
            "Collecting h5py==2.10.0\n",
            "  Downloading h5py-2.10.0-cp38-cp38-manylinux1_x86_64.whl (2.9 MB)\n",
            "\u001b[2K     \u001b[90m━━━━━━━━━━━━━━━━━━━━━━━━━━━━━━━━━━━━━━━━\u001b[0m \u001b[32m2.9/2.9 MB\u001b[0m \u001b[31m76.6 MB/s\u001b[0m eta \u001b[36m0:00:00\u001b[0m\n",
            "\u001b[?25hRequirement already satisfied: numpy>=1.7 in /usr/local/lib/python3.8/dist-packages (from h5py==2.10.0) (1.21.6)\n",
            "Requirement already satisfied: six in /usr/local/lib/python3.8/dist-packages (from h5py==2.10.0) (1.15.0)\n",
            "Installing collected packages: h5py\n",
            "  Attempting uninstall: h5py\n",
            "    Found existing installation: h5py 3.1.0\n",
            "    Uninstalling h5py-3.1.0:\n",
            "      Successfully uninstalled h5py-3.1.0\n",
            "Successfully installed h5py-2.10.0\n"
          ]
        }
      ]
    },
    {
      "cell_type": "code",
      "metadata": {
        "colab": {
          "base_uri": "https://localhost:8080/"
        },
        "id": "8QiS7haVwwyX",
        "outputId": "13355360-198d-42d3-c23e-bf2e75092244"
      },
      "source": [
        "\n",
        "import tensorflow as tf\n",
        "print(\"tensorflow version :{}\".format(tf.__version__))\n",
        "device_name = tf.test.gpu_device_name()\n",
        "if device_name != '/device:GPU:0':\n",
        "  raise SystemError('GPU device not found')\n",
        "print('Found GPU at: {}'.format(device_name))"
      ],
      "execution_count": null,
      "outputs": [
        {
          "output_type": "stream",
          "name": "stdout",
          "text": [
            "tensorflow version :2.9.2\n",
            "Found GPU at: /device:GPU:0\n"
          ]
        }
      ]
    },
    {
      "cell_type": "code",
      "metadata": {
        "colab": {
          "base_uri": "https://localhost:8080/"
        },
        "id": "GcgHainaexAf",
        "outputId": "adc328ce-a337-40db-9b56-21af225c3412"
      },
      "source": [
        "from tensorflow.python.client import device_lib\n",
        "device_lib.list_local_devices()"
      ],
      "execution_count": null,
      "outputs": [
        {
          "output_type": "execute_result",
          "data": {
            "text/plain": [
              "[name: \"/device:CPU:0\"\n",
              " device_type: \"CPU\"\n",
              " memory_limit: 268435456\n",
              " locality {\n",
              " }\n",
              " incarnation: 8006112166988518019\n",
              " xla_global_id: -1, name: \"/device:GPU:0\"\n",
              " device_type: \"GPU\"\n",
              " memory_limit: 14417788928\n",
              " locality {\n",
              "   bus_id: 1\n",
              "   links {\n",
              "   }\n",
              " }\n",
              " incarnation: 3876188251012816607\n",
              " physical_device_desc: \"device: 0, name: Tesla T4, pci bus id: 0000:00:04.0, compute capability: 7.5\"\n",
              " xla_global_id: 416903419]"
            ]
          },
          "metadata": {},
          "execution_count": 4
        }
      ]
    },
    {
      "cell_type": "code",
      "metadata": {
        "id": "wXNT7HPDVvnG"
      },
      "source": [
        "#### physical_device_desc: \"device: 0, name: Tesla T4, pci bus id: 0000:00:04.0, compute capability: 7.5\"]"
      ],
      "execution_count": null,
      "outputs": []
    },
    {
      "cell_type": "code",
      "metadata": {
        "id": "VtduHlsdzllv"
      },
      "source": [
        "import pandas as pd\n",
        "import numpy as np\n",
        "import matplotlib.pyplot as plt\n",
        "from sklearn.model_selection import train_test_split\n",
        "from sklearn.preprocessing import MinMaxScaler, StandardScaler\n",
        "from sklearn.utils import class_weight"
      ],
      "execution_count": null,
      "outputs": []
    },
    {
      "cell_type": "code",
      "metadata": {
        "id": "wmDBFUYG5UTm"
      },
      "source": [
        "\n",
        "from keras.layers import Conv1D, Dense, Dropout, GlobalMaxPool1D, MaxPool1D\n",
        "from keras.layers import TimeDistributed, LSTM, Bidirectional, Input, concatenate,RepeatVector\n",
        "from keras import regularizers\n",
        "# from keras.layers.normalization import BatchNormalization\n",
        "from keras.models import Sequential, load_model, Model\n",
        "from keras.callbacks import ModelCheckpoint, Callback, EarlyStopping\n",
        "from tensorflow.keras.utils import plot_model, to_categorical\n",
        "from keras.losses import binary_crossentropy\n",
        "from keras.optimizers import Adam\n",
        "from sklearn.metrics import recall_score, precision_score, f1_score, accuracy_score\n",
        "from sklearn.metrics import confusion_matrix\n",
        "from keras.regularizers import l1,l2\n"
      ],
      "execution_count": null,
      "outputs": []
    },
    {
      "cell_type": "code",
      "metadata": {
        "id": "knBwY4MXdknx"
      },
      "source": [
        "data_path = '/content/drive/MyDrive/CAV/data/Drift attack/Mag_0_2_dur_10/'"
      ],
      "execution_count": null,
      "outputs": []
    },
    {
      "cell_type": "code",
      "metadata": {
        "colab": {
          "base_uri": "https://localhost:8080/",
          "height": 206
        },
        "id": "uPy3-An4ynUz",
        "outputId": "9d85bb46-acb0-4019-f9cc-5798884822d0"
      },
      "source": [
        "sensor1_data = pd.read_csv(data_path + \"Sensor1_values_drift_0_2_dur10.csv\",index_col = \"Unnamed: 0\")\n",
        "sensor1_data.head()"
      ],
      "execution_count": null,
      "outputs": [
        {
          "output_type": "execute_result",
          "data": {
            "text/plain": [
              "   InVehicle_Longitudinal_Speed  GPS_Speed  InVehicle_Longitudinal_Accel\n",
              "0                     11.375000  11.307097                     -0.103000\n",
              "1                     11.366708  11.255964                     -0.353946\n",
              "2                     11.362331  11.249115                     -0.090962\n",
              "3                     11.358665  11.263280                     -0.043470\n",
              "4                     11.356745  11.270361                     -0.037579"
            ],
            "text/html": [
              "\n",
              "  <div id=\"df-542be6a3-a31b-4b05-b047-2d5462a517b1\">\n",
              "    <div class=\"colab-df-container\">\n",
              "      <div>\n",
              "<style scoped>\n",
              "    .dataframe tbody tr th:only-of-type {\n",
              "        vertical-align: middle;\n",
              "    }\n",
              "\n",
              "    .dataframe tbody tr th {\n",
              "        vertical-align: top;\n",
              "    }\n",
              "\n",
              "    .dataframe thead th {\n",
              "        text-align: right;\n",
              "    }\n",
              "</style>\n",
              "<table border=\"1\" class=\"dataframe\">\n",
              "  <thead>\n",
              "    <tr style=\"text-align: right;\">\n",
              "      <th></th>\n",
              "      <th>InVehicle_Longitudinal_Speed</th>\n",
              "      <th>GPS_Speed</th>\n",
              "      <th>InVehicle_Longitudinal_Accel</th>\n",
              "    </tr>\n",
              "  </thead>\n",
              "  <tbody>\n",
              "    <tr>\n",
              "      <th>0</th>\n",
              "      <td>11.375000</td>\n",
              "      <td>11.307097</td>\n",
              "      <td>-0.103000</td>\n",
              "    </tr>\n",
              "    <tr>\n",
              "      <th>1</th>\n",
              "      <td>11.366708</td>\n",
              "      <td>11.255964</td>\n",
              "      <td>-0.353946</td>\n",
              "    </tr>\n",
              "    <tr>\n",
              "      <th>2</th>\n",
              "      <td>11.362331</td>\n",
              "      <td>11.249115</td>\n",
              "      <td>-0.090962</td>\n",
              "    </tr>\n",
              "    <tr>\n",
              "      <th>3</th>\n",
              "      <td>11.358665</td>\n",
              "      <td>11.263280</td>\n",
              "      <td>-0.043470</td>\n",
              "    </tr>\n",
              "    <tr>\n",
              "      <th>4</th>\n",
              "      <td>11.356745</td>\n",
              "      <td>11.270361</td>\n",
              "      <td>-0.037579</td>\n",
              "    </tr>\n",
              "  </tbody>\n",
              "</table>\n",
              "</div>\n",
              "      <button class=\"colab-df-convert\" onclick=\"convertToInteractive('df-542be6a3-a31b-4b05-b047-2d5462a517b1')\"\n",
              "              title=\"Convert this dataframe to an interactive table.\"\n",
              "              style=\"display:none;\">\n",
              "        \n",
              "  <svg xmlns=\"http://www.w3.org/2000/svg\" height=\"24px\"viewBox=\"0 0 24 24\"\n",
              "       width=\"24px\">\n",
              "    <path d=\"M0 0h24v24H0V0z\" fill=\"none\"/>\n",
              "    <path d=\"M18.56 5.44l.94 2.06.94-2.06 2.06-.94-2.06-.94-.94-2.06-.94 2.06-2.06.94zm-11 1L8.5 8.5l.94-2.06 2.06-.94-2.06-.94L8.5 2.5l-.94 2.06-2.06.94zm10 10l.94 2.06.94-2.06 2.06-.94-2.06-.94-.94-2.06-.94 2.06-2.06.94z\"/><path d=\"M17.41 7.96l-1.37-1.37c-.4-.4-.92-.59-1.43-.59-.52 0-1.04.2-1.43.59L10.3 9.45l-7.72 7.72c-.78.78-.78 2.05 0 2.83L4 21.41c.39.39.9.59 1.41.59.51 0 1.02-.2 1.41-.59l7.78-7.78 2.81-2.81c.8-.78.8-2.07 0-2.86zM5.41 20L4 18.59l7.72-7.72 1.47 1.35L5.41 20z\"/>\n",
              "  </svg>\n",
              "      </button>\n",
              "      \n",
              "  <style>\n",
              "    .colab-df-container {\n",
              "      display:flex;\n",
              "      flex-wrap:wrap;\n",
              "      gap: 12px;\n",
              "    }\n",
              "\n",
              "    .colab-df-convert {\n",
              "      background-color: #E8F0FE;\n",
              "      border: none;\n",
              "      border-radius: 50%;\n",
              "      cursor: pointer;\n",
              "      display: none;\n",
              "      fill: #1967D2;\n",
              "      height: 32px;\n",
              "      padding: 0 0 0 0;\n",
              "      width: 32px;\n",
              "    }\n",
              "\n",
              "    .colab-df-convert:hover {\n",
              "      background-color: #E2EBFA;\n",
              "      box-shadow: 0px 1px 2px rgba(60, 64, 67, 0.3), 0px 1px 3px 1px rgba(60, 64, 67, 0.15);\n",
              "      fill: #174EA6;\n",
              "    }\n",
              "\n",
              "    [theme=dark] .colab-df-convert {\n",
              "      background-color: #3B4455;\n",
              "      fill: #D2E3FC;\n",
              "    }\n",
              "\n",
              "    [theme=dark] .colab-df-convert:hover {\n",
              "      background-color: #434B5C;\n",
              "      box-shadow: 0px 1px 3px 1px rgba(0, 0, 0, 0.15);\n",
              "      filter: drop-shadow(0px 1px 2px rgba(0, 0, 0, 0.3));\n",
              "      fill: #FFFFFF;\n",
              "    }\n",
              "  </style>\n",
              "\n",
              "      <script>\n",
              "        const buttonEl =\n",
              "          document.querySelector('#df-542be6a3-a31b-4b05-b047-2d5462a517b1 button.colab-df-convert');\n",
              "        buttonEl.style.display =\n",
              "          google.colab.kernel.accessAllowed ? 'block' : 'none';\n",
              "\n",
              "        async function convertToInteractive(key) {\n",
              "          const element = document.querySelector('#df-542be6a3-a31b-4b05-b047-2d5462a517b1');\n",
              "          const dataTable =\n",
              "            await google.colab.kernel.invokeFunction('convertToInteractive',\n",
              "                                                     [key], {});\n",
              "          if (!dataTable) return;\n",
              "\n",
              "          const docLinkHtml = 'Like what you see? Visit the ' +\n",
              "            '<a target=\"_blank\" href=https://colab.research.google.com/notebooks/data_table.ipynb>data table notebook</a>'\n",
              "            + ' to learn more about interactive tables.';\n",
              "          element.innerHTML = '';\n",
              "          dataTable['output_type'] = 'display_data';\n",
              "          await google.colab.output.renderOutput(dataTable, element);\n",
              "          const docLink = document.createElement('div');\n",
              "          docLink.innerHTML = docLinkHtml;\n",
              "          element.appendChild(docLink);\n",
              "        }\n",
              "      </script>\n",
              "    </div>\n",
              "  </div>\n",
              "  "
            ]
          },
          "metadata": {},
          "execution_count": 9
        }
      ]
    },
    {
      "cell_type": "code",
      "metadata": {
        "colab": {
          "base_uri": "https://localhost:8080/"
        },
        "id": "NkKyrb2sQCni",
        "outputId": "9690b86b-a60b-42c0-97ee-4ffa54fb433a"
      },
      "source": [
        "len(sensor1_data)"
      ],
      "execution_count": null,
      "outputs": [
        {
          "output_type": "execute_result",
          "data": {
            "text/plain": [
              "29800"
            ]
          },
          "metadata": {},
          "execution_count": 10
        }
      ]
    },
    {
      "cell_type": "code",
      "metadata": {
        "colab": {
          "base_uri": "https://localhost:8080/",
          "height": 206
        },
        "id": "OYhwlWY8z4N6",
        "outputId": "bbc8aeee-fb8e-4d2a-f254-657150749122"
      },
      "source": [
        "sensor1_label = pd.read_csv(data_path + \"Ground_truth_drift_0_2_dur_10_sensor1.csv\", names=['Class'] )\n",
        "sensor1_label.head()"
      ],
      "execution_count": null,
      "outputs": [
        {
          "output_type": "execute_result",
          "data": {
            "text/plain": [
              "   Class\n",
              "0    0.0\n",
              "1    0.0\n",
              "2    0.0\n",
              "3    0.0\n",
              "4    0.0"
            ],
            "text/html": [
              "\n",
              "  <div id=\"df-c8c414c2-c1d1-4229-96e6-60a5ad7562fe\">\n",
              "    <div class=\"colab-df-container\">\n",
              "      <div>\n",
              "<style scoped>\n",
              "    .dataframe tbody tr th:only-of-type {\n",
              "        vertical-align: middle;\n",
              "    }\n",
              "\n",
              "    .dataframe tbody tr th {\n",
              "        vertical-align: top;\n",
              "    }\n",
              "\n",
              "    .dataframe thead th {\n",
              "        text-align: right;\n",
              "    }\n",
              "</style>\n",
              "<table border=\"1\" class=\"dataframe\">\n",
              "  <thead>\n",
              "    <tr style=\"text-align: right;\">\n",
              "      <th></th>\n",
              "      <th>Class</th>\n",
              "    </tr>\n",
              "  </thead>\n",
              "  <tbody>\n",
              "    <tr>\n",
              "      <th>0</th>\n",
              "      <td>0.0</td>\n",
              "    </tr>\n",
              "    <tr>\n",
              "      <th>1</th>\n",
              "      <td>0.0</td>\n",
              "    </tr>\n",
              "    <tr>\n",
              "      <th>2</th>\n",
              "      <td>0.0</td>\n",
              "    </tr>\n",
              "    <tr>\n",
              "      <th>3</th>\n",
              "      <td>0.0</td>\n",
              "    </tr>\n",
              "    <tr>\n",
              "      <th>4</th>\n",
              "      <td>0.0</td>\n",
              "    </tr>\n",
              "  </tbody>\n",
              "</table>\n",
              "</div>\n",
              "      <button class=\"colab-df-convert\" onclick=\"convertToInteractive('df-c8c414c2-c1d1-4229-96e6-60a5ad7562fe')\"\n",
              "              title=\"Convert this dataframe to an interactive table.\"\n",
              "              style=\"display:none;\">\n",
              "        \n",
              "  <svg xmlns=\"http://www.w3.org/2000/svg\" height=\"24px\"viewBox=\"0 0 24 24\"\n",
              "       width=\"24px\">\n",
              "    <path d=\"M0 0h24v24H0V0z\" fill=\"none\"/>\n",
              "    <path d=\"M18.56 5.44l.94 2.06.94-2.06 2.06-.94-2.06-.94-.94-2.06-.94 2.06-2.06.94zm-11 1L8.5 8.5l.94-2.06 2.06-.94-2.06-.94L8.5 2.5l-.94 2.06-2.06.94zm10 10l.94 2.06.94-2.06 2.06-.94-2.06-.94-.94-2.06-.94 2.06-2.06.94z\"/><path d=\"M17.41 7.96l-1.37-1.37c-.4-.4-.92-.59-1.43-.59-.52 0-1.04.2-1.43.59L10.3 9.45l-7.72 7.72c-.78.78-.78 2.05 0 2.83L4 21.41c.39.39.9.59 1.41.59.51 0 1.02-.2 1.41-.59l7.78-7.78 2.81-2.81c.8-.78.8-2.07 0-2.86zM5.41 20L4 18.59l7.72-7.72 1.47 1.35L5.41 20z\"/>\n",
              "  </svg>\n",
              "      </button>\n",
              "      \n",
              "  <style>\n",
              "    .colab-df-container {\n",
              "      display:flex;\n",
              "      flex-wrap:wrap;\n",
              "      gap: 12px;\n",
              "    }\n",
              "\n",
              "    .colab-df-convert {\n",
              "      background-color: #E8F0FE;\n",
              "      border: none;\n",
              "      border-radius: 50%;\n",
              "      cursor: pointer;\n",
              "      display: none;\n",
              "      fill: #1967D2;\n",
              "      height: 32px;\n",
              "      padding: 0 0 0 0;\n",
              "      width: 32px;\n",
              "    }\n",
              "\n",
              "    .colab-df-convert:hover {\n",
              "      background-color: #E2EBFA;\n",
              "      box-shadow: 0px 1px 2px rgba(60, 64, 67, 0.3), 0px 1px 3px 1px rgba(60, 64, 67, 0.15);\n",
              "      fill: #174EA6;\n",
              "    }\n",
              "\n",
              "    [theme=dark] .colab-df-convert {\n",
              "      background-color: #3B4455;\n",
              "      fill: #D2E3FC;\n",
              "    }\n",
              "\n",
              "    [theme=dark] .colab-df-convert:hover {\n",
              "      background-color: #434B5C;\n",
              "      box-shadow: 0px 1px 3px 1px rgba(0, 0, 0, 0.15);\n",
              "      filter: drop-shadow(0px 1px 2px rgba(0, 0, 0, 0.3));\n",
              "      fill: #FFFFFF;\n",
              "    }\n",
              "  </style>\n",
              "\n",
              "      <script>\n",
              "        const buttonEl =\n",
              "          document.querySelector('#df-c8c414c2-c1d1-4229-96e6-60a5ad7562fe button.colab-df-convert');\n",
              "        buttonEl.style.display =\n",
              "          google.colab.kernel.accessAllowed ? 'block' : 'none';\n",
              "\n",
              "        async function convertToInteractive(key) {\n",
              "          const element = document.querySelector('#df-c8c414c2-c1d1-4229-96e6-60a5ad7562fe');\n",
              "          const dataTable =\n",
              "            await google.colab.kernel.invokeFunction('convertToInteractive',\n",
              "                                                     [key], {});\n",
              "          if (!dataTable) return;\n",
              "\n",
              "          const docLinkHtml = 'Like what you see? Visit the ' +\n",
              "            '<a target=\"_blank\" href=https://colab.research.google.com/notebooks/data_table.ipynb>data table notebook</a>'\n",
              "            + ' to learn more about interactive tables.';\n",
              "          element.innerHTML = '';\n",
              "          dataTable['output_type'] = 'display_data';\n",
              "          await google.colab.output.renderOutput(dataTable, element);\n",
              "          const docLink = document.createElement('div');\n",
              "          docLink.innerHTML = docLinkHtml;\n",
              "          element.appendChild(docLink);\n",
              "        }\n",
              "      </script>\n",
              "    </div>\n",
              "  </div>\n",
              "  "
            ]
          },
          "metadata": {},
          "execution_count": 11
        }
      ]
    },
    {
      "cell_type": "code",
      "metadata": {
        "colab": {
          "base_uri": "https://localhost:8080/"
        },
        "id": "2mxdhpBpQMjZ",
        "outputId": "f1321034-72cf-4cc4-e142-533d224bff72"
      },
      "source": [
        "len(sensor1_label)"
      ],
      "execution_count": null,
      "outputs": [
        {
          "output_type": "execute_result",
          "data": {
            "text/plain": [
              "29800"
            ]
          },
          "metadata": {},
          "execution_count": 12
        }
      ]
    },
    {
      "cell_type": "code",
      "metadata": {
        "id": "hV_gOXr70BKL",
        "colab": {
          "base_uri": "https://localhost:8080/",
          "height": 206
        },
        "outputId": "dacb21bf-05bb-400b-b01b-a28c35d8e11d"
      },
      "source": [
        "sensor2_data = pd.read_csv(data_path + \"Sensor2_values_drift_0_2_dur_10.csv\", index_col = \"Unnamed: 0\")\n",
        "sensor2_data.head()"
      ],
      "execution_count": null,
      "outputs": [
        {
          "output_type": "execute_result",
          "data": {
            "text/plain": [
              "   InVehicle_Longitudinal_Speed  GPS_Speed  InVehicle_Longitudinal_Accel\n",
              "0                     11.375000  11.307097                     -0.103000\n",
              "1                     11.366708  11.255964                     -0.353946\n",
              "2                     11.362331  11.249115                     -0.090962\n",
              "3                     11.358665  11.263280                     -0.043470\n",
              "4                     11.356745  11.270361                     -0.037579"
            ],
            "text/html": [
              "\n",
              "  <div id=\"df-0369baa0-f509-4b5f-9368-3fc9422e7002\">\n",
              "    <div class=\"colab-df-container\">\n",
              "      <div>\n",
              "<style scoped>\n",
              "    .dataframe tbody tr th:only-of-type {\n",
              "        vertical-align: middle;\n",
              "    }\n",
              "\n",
              "    .dataframe tbody tr th {\n",
              "        vertical-align: top;\n",
              "    }\n",
              "\n",
              "    .dataframe thead th {\n",
              "        text-align: right;\n",
              "    }\n",
              "</style>\n",
              "<table border=\"1\" class=\"dataframe\">\n",
              "  <thead>\n",
              "    <tr style=\"text-align: right;\">\n",
              "      <th></th>\n",
              "      <th>InVehicle_Longitudinal_Speed</th>\n",
              "      <th>GPS_Speed</th>\n",
              "      <th>InVehicle_Longitudinal_Accel</th>\n",
              "    </tr>\n",
              "  </thead>\n",
              "  <tbody>\n",
              "    <tr>\n",
              "      <th>0</th>\n",
              "      <td>11.375000</td>\n",
              "      <td>11.307097</td>\n",
              "      <td>-0.103000</td>\n",
              "    </tr>\n",
              "    <tr>\n",
              "      <th>1</th>\n",
              "      <td>11.366708</td>\n",
              "      <td>11.255964</td>\n",
              "      <td>-0.353946</td>\n",
              "    </tr>\n",
              "    <tr>\n",
              "      <th>2</th>\n",
              "      <td>11.362331</td>\n",
              "      <td>11.249115</td>\n",
              "      <td>-0.090962</td>\n",
              "    </tr>\n",
              "    <tr>\n",
              "      <th>3</th>\n",
              "      <td>11.358665</td>\n",
              "      <td>11.263280</td>\n",
              "      <td>-0.043470</td>\n",
              "    </tr>\n",
              "    <tr>\n",
              "      <th>4</th>\n",
              "      <td>11.356745</td>\n",
              "      <td>11.270361</td>\n",
              "      <td>-0.037579</td>\n",
              "    </tr>\n",
              "  </tbody>\n",
              "</table>\n",
              "</div>\n",
              "      <button class=\"colab-df-convert\" onclick=\"convertToInteractive('df-0369baa0-f509-4b5f-9368-3fc9422e7002')\"\n",
              "              title=\"Convert this dataframe to an interactive table.\"\n",
              "              style=\"display:none;\">\n",
              "        \n",
              "  <svg xmlns=\"http://www.w3.org/2000/svg\" height=\"24px\"viewBox=\"0 0 24 24\"\n",
              "       width=\"24px\">\n",
              "    <path d=\"M0 0h24v24H0V0z\" fill=\"none\"/>\n",
              "    <path d=\"M18.56 5.44l.94 2.06.94-2.06 2.06-.94-2.06-.94-.94-2.06-.94 2.06-2.06.94zm-11 1L8.5 8.5l.94-2.06 2.06-.94-2.06-.94L8.5 2.5l-.94 2.06-2.06.94zm10 10l.94 2.06.94-2.06 2.06-.94-2.06-.94-.94-2.06-.94 2.06-2.06.94z\"/><path d=\"M17.41 7.96l-1.37-1.37c-.4-.4-.92-.59-1.43-.59-.52 0-1.04.2-1.43.59L10.3 9.45l-7.72 7.72c-.78.78-.78 2.05 0 2.83L4 21.41c.39.39.9.59 1.41.59.51 0 1.02-.2 1.41-.59l7.78-7.78 2.81-2.81c.8-.78.8-2.07 0-2.86zM5.41 20L4 18.59l7.72-7.72 1.47 1.35L5.41 20z\"/>\n",
              "  </svg>\n",
              "      </button>\n",
              "      \n",
              "  <style>\n",
              "    .colab-df-container {\n",
              "      display:flex;\n",
              "      flex-wrap:wrap;\n",
              "      gap: 12px;\n",
              "    }\n",
              "\n",
              "    .colab-df-convert {\n",
              "      background-color: #E8F0FE;\n",
              "      border: none;\n",
              "      border-radius: 50%;\n",
              "      cursor: pointer;\n",
              "      display: none;\n",
              "      fill: #1967D2;\n",
              "      height: 32px;\n",
              "      padding: 0 0 0 0;\n",
              "      width: 32px;\n",
              "    }\n",
              "\n",
              "    .colab-df-convert:hover {\n",
              "      background-color: #E2EBFA;\n",
              "      box-shadow: 0px 1px 2px rgba(60, 64, 67, 0.3), 0px 1px 3px 1px rgba(60, 64, 67, 0.15);\n",
              "      fill: #174EA6;\n",
              "    }\n",
              "\n",
              "    [theme=dark] .colab-df-convert {\n",
              "      background-color: #3B4455;\n",
              "      fill: #D2E3FC;\n",
              "    }\n",
              "\n",
              "    [theme=dark] .colab-df-convert:hover {\n",
              "      background-color: #434B5C;\n",
              "      box-shadow: 0px 1px 3px 1px rgba(0, 0, 0, 0.15);\n",
              "      filter: drop-shadow(0px 1px 2px rgba(0, 0, 0, 0.3));\n",
              "      fill: #FFFFFF;\n",
              "    }\n",
              "  </style>\n",
              "\n",
              "      <script>\n",
              "        const buttonEl =\n",
              "          document.querySelector('#df-0369baa0-f509-4b5f-9368-3fc9422e7002 button.colab-df-convert');\n",
              "        buttonEl.style.display =\n",
              "          google.colab.kernel.accessAllowed ? 'block' : 'none';\n",
              "\n",
              "        async function convertToInteractive(key) {\n",
              "          const element = document.querySelector('#df-0369baa0-f509-4b5f-9368-3fc9422e7002');\n",
              "          const dataTable =\n",
              "            await google.colab.kernel.invokeFunction('convertToInteractive',\n",
              "                                                     [key], {});\n",
              "          if (!dataTable) return;\n",
              "\n",
              "          const docLinkHtml = 'Like what you see? Visit the ' +\n",
              "            '<a target=\"_blank\" href=https://colab.research.google.com/notebooks/data_table.ipynb>data table notebook</a>'\n",
              "            + ' to learn more about interactive tables.';\n",
              "          element.innerHTML = '';\n",
              "          dataTable['output_type'] = 'display_data';\n",
              "          await google.colab.output.renderOutput(dataTable, element);\n",
              "          const docLink = document.createElement('div');\n",
              "          docLink.innerHTML = docLinkHtml;\n",
              "          element.appendChild(docLink);\n",
              "        }\n",
              "      </script>\n",
              "    </div>\n",
              "  </div>\n",
              "  "
            ]
          },
          "metadata": {},
          "execution_count": 13
        }
      ]
    },
    {
      "cell_type": "code",
      "metadata": {
        "id": "8PtBb1m00oRX",
        "colab": {
          "base_uri": "https://localhost:8080/",
          "height": 206
        },
        "outputId": "ff23e7ee-83cd-4265-f52e-537b8a2c495f"
      },
      "source": [
        "sensor2_label = pd.read_csv(data_path + \"Ground_truth_drift_0_2_dur_10_sensor2.csv\", names=['Class'] )\n",
        "sensor2_label.head()"
      ],
      "execution_count": null,
      "outputs": [
        {
          "output_type": "execute_result",
          "data": {
            "text/plain": [
              "   Class\n",
              "0    0.0\n",
              "1    0.0\n",
              "2    0.0\n",
              "3    0.0\n",
              "4    0.0"
            ],
            "text/html": [
              "\n",
              "  <div id=\"df-968659da-c051-4ed6-a34f-09308a6e2cfa\">\n",
              "    <div class=\"colab-df-container\">\n",
              "      <div>\n",
              "<style scoped>\n",
              "    .dataframe tbody tr th:only-of-type {\n",
              "        vertical-align: middle;\n",
              "    }\n",
              "\n",
              "    .dataframe tbody tr th {\n",
              "        vertical-align: top;\n",
              "    }\n",
              "\n",
              "    .dataframe thead th {\n",
              "        text-align: right;\n",
              "    }\n",
              "</style>\n",
              "<table border=\"1\" class=\"dataframe\">\n",
              "  <thead>\n",
              "    <tr style=\"text-align: right;\">\n",
              "      <th></th>\n",
              "      <th>Class</th>\n",
              "    </tr>\n",
              "  </thead>\n",
              "  <tbody>\n",
              "    <tr>\n",
              "      <th>0</th>\n",
              "      <td>0.0</td>\n",
              "    </tr>\n",
              "    <tr>\n",
              "      <th>1</th>\n",
              "      <td>0.0</td>\n",
              "    </tr>\n",
              "    <tr>\n",
              "      <th>2</th>\n",
              "      <td>0.0</td>\n",
              "    </tr>\n",
              "    <tr>\n",
              "      <th>3</th>\n",
              "      <td>0.0</td>\n",
              "    </tr>\n",
              "    <tr>\n",
              "      <th>4</th>\n",
              "      <td>0.0</td>\n",
              "    </tr>\n",
              "  </tbody>\n",
              "</table>\n",
              "</div>\n",
              "      <button class=\"colab-df-convert\" onclick=\"convertToInteractive('df-968659da-c051-4ed6-a34f-09308a6e2cfa')\"\n",
              "              title=\"Convert this dataframe to an interactive table.\"\n",
              "              style=\"display:none;\">\n",
              "        \n",
              "  <svg xmlns=\"http://www.w3.org/2000/svg\" height=\"24px\"viewBox=\"0 0 24 24\"\n",
              "       width=\"24px\">\n",
              "    <path d=\"M0 0h24v24H0V0z\" fill=\"none\"/>\n",
              "    <path d=\"M18.56 5.44l.94 2.06.94-2.06 2.06-.94-2.06-.94-.94-2.06-.94 2.06-2.06.94zm-11 1L8.5 8.5l.94-2.06 2.06-.94-2.06-.94L8.5 2.5l-.94 2.06-2.06.94zm10 10l.94 2.06.94-2.06 2.06-.94-2.06-.94-.94-2.06-.94 2.06-2.06.94z\"/><path d=\"M17.41 7.96l-1.37-1.37c-.4-.4-.92-.59-1.43-.59-.52 0-1.04.2-1.43.59L10.3 9.45l-7.72 7.72c-.78.78-.78 2.05 0 2.83L4 21.41c.39.39.9.59 1.41.59.51 0 1.02-.2 1.41-.59l7.78-7.78 2.81-2.81c.8-.78.8-2.07 0-2.86zM5.41 20L4 18.59l7.72-7.72 1.47 1.35L5.41 20z\"/>\n",
              "  </svg>\n",
              "      </button>\n",
              "      \n",
              "  <style>\n",
              "    .colab-df-container {\n",
              "      display:flex;\n",
              "      flex-wrap:wrap;\n",
              "      gap: 12px;\n",
              "    }\n",
              "\n",
              "    .colab-df-convert {\n",
              "      background-color: #E8F0FE;\n",
              "      border: none;\n",
              "      border-radius: 50%;\n",
              "      cursor: pointer;\n",
              "      display: none;\n",
              "      fill: #1967D2;\n",
              "      height: 32px;\n",
              "      padding: 0 0 0 0;\n",
              "      width: 32px;\n",
              "    }\n",
              "\n",
              "    .colab-df-convert:hover {\n",
              "      background-color: #E2EBFA;\n",
              "      box-shadow: 0px 1px 2px rgba(60, 64, 67, 0.3), 0px 1px 3px 1px rgba(60, 64, 67, 0.15);\n",
              "      fill: #174EA6;\n",
              "    }\n",
              "\n",
              "    [theme=dark] .colab-df-convert {\n",
              "      background-color: #3B4455;\n",
              "      fill: #D2E3FC;\n",
              "    }\n",
              "\n",
              "    [theme=dark] .colab-df-convert:hover {\n",
              "      background-color: #434B5C;\n",
              "      box-shadow: 0px 1px 3px 1px rgba(0, 0, 0, 0.15);\n",
              "      filter: drop-shadow(0px 1px 2px rgba(0, 0, 0, 0.3));\n",
              "      fill: #FFFFFF;\n",
              "    }\n",
              "  </style>\n",
              "\n",
              "      <script>\n",
              "        const buttonEl =\n",
              "          document.querySelector('#df-968659da-c051-4ed6-a34f-09308a6e2cfa button.colab-df-convert');\n",
              "        buttonEl.style.display =\n",
              "          google.colab.kernel.accessAllowed ? 'block' : 'none';\n",
              "\n",
              "        async function convertToInteractive(key) {\n",
              "          const element = document.querySelector('#df-968659da-c051-4ed6-a34f-09308a6e2cfa');\n",
              "          const dataTable =\n",
              "            await google.colab.kernel.invokeFunction('convertToInteractive',\n",
              "                                                     [key], {});\n",
              "          if (!dataTable) return;\n",
              "\n",
              "          const docLinkHtml = 'Like what you see? Visit the ' +\n",
              "            '<a target=\"_blank\" href=https://colab.research.google.com/notebooks/data_table.ipynb>data table notebook</a>'\n",
              "            + ' to learn more about interactive tables.';\n",
              "          element.innerHTML = '';\n",
              "          dataTable['output_type'] = 'display_data';\n",
              "          await google.colab.output.renderOutput(dataTable, element);\n",
              "          const docLink = document.createElement('div');\n",
              "          docLink.innerHTML = docLinkHtml;\n",
              "          element.appendChild(docLink);\n",
              "        }\n",
              "      </script>\n",
              "    </div>\n",
              "  </div>\n",
              "  "
            ]
          },
          "metadata": {},
          "execution_count": 14
        }
      ]
    },
    {
      "cell_type": "code",
      "metadata": {
        "id": "mCLgKYTJ0f7t",
        "colab": {
          "base_uri": "https://localhost:8080/",
          "height": 206
        },
        "outputId": "b35b3614-eee8-4286-8999-f771406d39e5"
      },
      "source": [
        "sensor3_data = pd.read_csv(data_path + \"Sensor3_values_drift_0_2_dur_10.csv\", index_col = \"Unnamed: 0\")\n",
        "sensor3_data.head()"
      ],
      "execution_count": null,
      "outputs": [
        {
          "output_type": "execute_result",
          "data": {
            "text/plain": [
              "   InVehicle_Longitudinal_Speed  GPS_Speed  InVehicle_Longitudinal_Accel\n",
              "0                     11.375000  11.307097                     -0.103000\n",
              "1                     11.366708  11.255964                     -0.353946\n",
              "2                     11.362331  11.249115                     -0.090962\n",
              "3                     11.358665  11.263280                     -0.043470\n",
              "4                     11.356745  11.270361                     -0.037579"
            ],
            "text/html": [
              "\n",
              "  <div id=\"df-2676c4a5-9938-436d-9936-46e16f57d72c\">\n",
              "    <div class=\"colab-df-container\">\n",
              "      <div>\n",
              "<style scoped>\n",
              "    .dataframe tbody tr th:only-of-type {\n",
              "        vertical-align: middle;\n",
              "    }\n",
              "\n",
              "    .dataframe tbody tr th {\n",
              "        vertical-align: top;\n",
              "    }\n",
              "\n",
              "    .dataframe thead th {\n",
              "        text-align: right;\n",
              "    }\n",
              "</style>\n",
              "<table border=\"1\" class=\"dataframe\">\n",
              "  <thead>\n",
              "    <tr style=\"text-align: right;\">\n",
              "      <th></th>\n",
              "      <th>InVehicle_Longitudinal_Speed</th>\n",
              "      <th>GPS_Speed</th>\n",
              "      <th>InVehicle_Longitudinal_Accel</th>\n",
              "    </tr>\n",
              "  </thead>\n",
              "  <tbody>\n",
              "    <tr>\n",
              "      <th>0</th>\n",
              "      <td>11.375000</td>\n",
              "      <td>11.307097</td>\n",
              "      <td>-0.103000</td>\n",
              "    </tr>\n",
              "    <tr>\n",
              "      <th>1</th>\n",
              "      <td>11.366708</td>\n",
              "      <td>11.255964</td>\n",
              "      <td>-0.353946</td>\n",
              "    </tr>\n",
              "    <tr>\n",
              "      <th>2</th>\n",
              "      <td>11.362331</td>\n",
              "      <td>11.249115</td>\n",
              "      <td>-0.090962</td>\n",
              "    </tr>\n",
              "    <tr>\n",
              "      <th>3</th>\n",
              "      <td>11.358665</td>\n",
              "      <td>11.263280</td>\n",
              "      <td>-0.043470</td>\n",
              "    </tr>\n",
              "    <tr>\n",
              "      <th>4</th>\n",
              "      <td>11.356745</td>\n",
              "      <td>11.270361</td>\n",
              "      <td>-0.037579</td>\n",
              "    </tr>\n",
              "  </tbody>\n",
              "</table>\n",
              "</div>\n",
              "      <button class=\"colab-df-convert\" onclick=\"convertToInteractive('df-2676c4a5-9938-436d-9936-46e16f57d72c')\"\n",
              "              title=\"Convert this dataframe to an interactive table.\"\n",
              "              style=\"display:none;\">\n",
              "        \n",
              "  <svg xmlns=\"http://www.w3.org/2000/svg\" height=\"24px\"viewBox=\"0 0 24 24\"\n",
              "       width=\"24px\">\n",
              "    <path d=\"M0 0h24v24H0V0z\" fill=\"none\"/>\n",
              "    <path d=\"M18.56 5.44l.94 2.06.94-2.06 2.06-.94-2.06-.94-.94-2.06-.94 2.06-2.06.94zm-11 1L8.5 8.5l.94-2.06 2.06-.94-2.06-.94L8.5 2.5l-.94 2.06-2.06.94zm10 10l.94 2.06.94-2.06 2.06-.94-2.06-.94-.94-2.06-.94 2.06-2.06.94z\"/><path d=\"M17.41 7.96l-1.37-1.37c-.4-.4-.92-.59-1.43-.59-.52 0-1.04.2-1.43.59L10.3 9.45l-7.72 7.72c-.78.78-.78 2.05 0 2.83L4 21.41c.39.39.9.59 1.41.59.51 0 1.02-.2 1.41-.59l7.78-7.78 2.81-2.81c.8-.78.8-2.07 0-2.86zM5.41 20L4 18.59l7.72-7.72 1.47 1.35L5.41 20z\"/>\n",
              "  </svg>\n",
              "      </button>\n",
              "      \n",
              "  <style>\n",
              "    .colab-df-container {\n",
              "      display:flex;\n",
              "      flex-wrap:wrap;\n",
              "      gap: 12px;\n",
              "    }\n",
              "\n",
              "    .colab-df-convert {\n",
              "      background-color: #E8F0FE;\n",
              "      border: none;\n",
              "      border-radius: 50%;\n",
              "      cursor: pointer;\n",
              "      display: none;\n",
              "      fill: #1967D2;\n",
              "      height: 32px;\n",
              "      padding: 0 0 0 0;\n",
              "      width: 32px;\n",
              "    }\n",
              "\n",
              "    .colab-df-convert:hover {\n",
              "      background-color: #E2EBFA;\n",
              "      box-shadow: 0px 1px 2px rgba(60, 64, 67, 0.3), 0px 1px 3px 1px rgba(60, 64, 67, 0.15);\n",
              "      fill: #174EA6;\n",
              "    }\n",
              "\n",
              "    [theme=dark] .colab-df-convert {\n",
              "      background-color: #3B4455;\n",
              "      fill: #D2E3FC;\n",
              "    }\n",
              "\n",
              "    [theme=dark] .colab-df-convert:hover {\n",
              "      background-color: #434B5C;\n",
              "      box-shadow: 0px 1px 3px 1px rgba(0, 0, 0, 0.15);\n",
              "      filter: drop-shadow(0px 1px 2px rgba(0, 0, 0, 0.3));\n",
              "      fill: #FFFFFF;\n",
              "    }\n",
              "  </style>\n",
              "\n",
              "      <script>\n",
              "        const buttonEl =\n",
              "          document.querySelector('#df-2676c4a5-9938-436d-9936-46e16f57d72c button.colab-df-convert');\n",
              "        buttonEl.style.display =\n",
              "          google.colab.kernel.accessAllowed ? 'block' : 'none';\n",
              "\n",
              "        async function convertToInteractive(key) {\n",
              "          const element = document.querySelector('#df-2676c4a5-9938-436d-9936-46e16f57d72c');\n",
              "          const dataTable =\n",
              "            await google.colab.kernel.invokeFunction('convertToInteractive',\n",
              "                                                     [key], {});\n",
              "          if (!dataTable) return;\n",
              "\n",
              "          const docLinkHtml = 'Like what you see? Visit the ' +\n",
              "            '<a target=\"_blank\" href=https://colab.research.google.com/notebooks/data_table.ipynb>data table notebook</a>'\n",
              "            + ' to learn more about interactive tables.';\n",
              "          element.innerHTML = '';\n",
              "          dataTable['output_type'] = 'display_data';\n",
              "          await google.colab.output.renderOutput(dataTable, element);\n",
              "          const docLink = document.createElement('div');\n",
              "          docLink.innerHTML = docLinkHtml;\n",
              "          element.appendChild(docLink);\n",
              "        }\n",
              "      </script>\n",
              "    </div>\n",
              "  </div>\n",
              "  "
            ]
          },
          "metadata": {},
          "execution_count": 15
        }
      ]
    },
    {
      "cell_type": "code",
      "metadata": {
        "id": "7bkpmS8x0lfa",
        "colab": {
          "base_uri": "https://localhost:8080/",
          "height": 206
        },
        "outputId": "b85eaba4-fb03-4d71-8bb3-779db1a0078a"
      },
      "source": [
        "sensor3_label = pd.read_csv(data_path + \"Ground_truth_drift_0_2_dur_10_sensor3.csv\", names=['Class'] )\n",
        "sensor3_label.head()"
      ],
      "execution_count": null,
      "outputs": [
        {
          "output_type": "execute_result",
          "data": {
            "text/plain": [
              "   Class\n",
              "0    0.0\n",
              "1    0.0\n",
              "2    0.0\n",
              "3    0.0\n",
              "4    0.0"
            ],
            "text/html": [
              "\n",
              "  <div id=\"df-60a0064f-7a0c-4c31-ad88-16d34e1df852\">\n",
              "    <div class=\"colab-df-container\">\n",
              "      <div>\n",
              "<style scoped>\n",
              "    .dataframe tbody tr th:only-of-type {\n",
              "        vertical-align: middle;\n",
              "    }\n",
              "\n",
              "    .dataframe tbody tr th {\n",
              "        vertical-align: top;\n",
              "    }\n",
              "\n",
              "    .dataframe thead th {\n",
              "        text-align: right;\n",
              "    }\n",
              "</style>\n",
              "<table border=\"1\" class=\"dataframe\">\n",
              "  <thead>\n",
              "    <tr style=\"text-align: right;\">\n",
              "      <th></th>\n",
              "      <th>Class</th>\n",
              "    </tr>\n",
              "  </thead>\n",
              "  <tbody>\n",
              "    <tr>\n",
              "      <th>0</th>\n",
              "      <td>0.0</td>\n",
              "    </tr>\n",
              "    <tr>\n",
              "      <th>1</th>\n",
              "      <td>0.0</td>\n",
              "    </tr>\n",
              "    <tr>\n",
              "      <th>2</th>\n",
              "      <td>0.0</td>\n",
              "    </tr>\n",
              "    <tr>\n",
              "      <th>3</th>\n",
              "      <td>0.0</td>\n",
              "    </tr>\n",
              "    <tr>\n",
              "      <th>4</th>\n",
              "      <td>0.0</td>\n",
              "    </tr>\n",
              "  </tbody>\n",
              "</table>\n",
              "</div>\n",
              "      <button class=\"colab-df-convert\" onclick=\"convertToInteractive('df-60a0064f-7a0c-4c31-ad88-16d34e1df852')\"\n",
              "              title=\"Convert this dataframe to an interactive table.\"\n",
              "              style=\"display:none;\">\n",
              "        \n",
              "  <svg xmlns=\"http://www.w3.org/2000/svg\" height=\"24px\"viewBox=\"0 0 24 24\"\n",
              "       width=\"24px\">\n",
              "    <path d=\"M0 0h24v24H0V0z\" fill=\"none\"/>\n",
              "    <path d=\"M18.56 5.44l.94 2.06.94-2.06 2.06-.94-2.06-.94-.94-2.06-.94 2.06-2.06.94zm-11 1L8.5 8.5l.94-2.06 2.06-.94-2.06-.94L8.5 2.5l-.94 2.06-2.06.94zm10 10l.94 2.06.94-2.06 2.06-.94-2.06-.94-.94-2.06-.94 2.06-2.06.94z\"/><path d=\"M17.41 7.96l-1.37-1.37c-.4-.4-.92-.59-1.43-.59-.52 0-1.04.2-1.43.59L10.3 9.45l-7.72 7.72c-.78.78-.78 2.05 0 2.83L4 21.41c.39.39.9.59 1.41.59.51 0 1.02-.2 1.41-.59l7.78-7.78 2.81-2.81c.8-.78.8-2.07 0-2.86zM5.41 20L4 18.59l7.72-7.72 1.47 1.35L5.41 20z\"/>\n",
              "  </svg>\n",
              "      </button>\n",
              "      \n",
              "  <style>\n",
              "    .colab-df-container {\n",
              "      display:flex;\n",
              "      flex-wrap:wrap;\n",
              "      gap: 12px;\n",
              "    }\n",
              "\n",
              "    .colab-df-convert {\n",
              "      background-color: #E8F0FE;\n",
              "      border: none;\n",
              "      border-radius: 50%;\n",
              "      cursor: pointer;\n",
              "      display: none;\n",
              "      fill: #1967D2;\n",
              "      height: 32px;\n",
              "      padding: 0 0 0 0;\n",
              "      width: 32px;\n",
              "    }\n",
              "\n",
              "    .colab-df-convert:hover {\n",
              "      background-color: #E2EBFA;\n",
              "      box-shadow: 0px 1px 2px rgba(60, 64, 67, 0.3), 0px 1px 3px 1px rgba(60, 64, 67, 0.15);\n",
              "      fill: #174EA6;\n",
              "    }\n",
              "\n",
              "    [theme=dark] .colab-df-convert {\n",
              "      background-color: #3B4455;\n",
              "      fill: #D2E3FC;\n",
              "    }\n",
              "\n",
              "    [theme=dark] .colab-df-convert:hover {\n",
              "      background-color: #434B5C;\n",
              "      box-shadow: 0px 1px 3px 1px rgba(0, 0, 0, 0.15);\n",
              "      filter: drop-shadow(0px 1px 2px rgba(0, 0, 0, 0.3));\n",
              "      fill: #FFFFFF;\n",
              "    }\n",
              "  </style>\n",
              "\n",
              "      <script>\n",
              "        const buttonEl =\n",
              "          document.querySelector('#df-60a0064f-7a0c-4c31-ad88-16d34e1df852 button.colab-df-convert');\n",
              "        buttonEl.style.display =\n",
              "          google.colab.kernel.accessAllowed ? 'block' : 'none';\n",
              "\n",
              "        async function convertToInteractive(key) {\n",
              "          const element = document.querySelector('#df-60a0064f-7a0c-4c31-ad88-16d34e1df852');\n",
              "          const dataTable =\n",
              "            await google.colab.kernel.invokeFunction('convertToInteractive',\n",
              "                                                     [key], {});\n",
              "          if (!dataTable) return;\n",
              "\n",
              "          const docLinkHtml = 'Like what you see? Visit the ' +\n",
              "            '<a target=\"_blank\" href=https://colab.research.google.com/notebooks/data_table.ipynb>data table notebook</a>'\n",
              "            + ' to learn more about interactive tables.';\n",
              "          element.innerHTML = '';\n",
              "          dataTable['output_type'] = 'display_data';\n",
              "          await google.colab.output.renderOutput(dataTable, element);\n",
              "          const docLink = document.createElement('div');\n",
              "          docLink.innerHTML = docLinkHtml;\n",
              "          element.appendChild(docLink);\n",
              "        }\n",
              "      </script>\n",
              "    </div>\n",
              "  </div>\n",
              "  "
            ]
          },
          "metadata": {},
          "execution_count": 16
        }
      ]
    },
    {
      "cell_type": "code",
      "source": [
        "sensor1_data['std_speed_5'] = sensor1_data['InVehicle_Longitudinal_Speed'].rolling(5, min_periods= 1, center= True).std()\n",
        "sensor1_data['std_acc_5'] = sensor1_data['InVehicle_Longitudinal_Accel'].rolling(5, min_periods= 1, center= True).std()\n",
        "sensor1_data['std_GPS_5'] = sensor1_data['GPS_Speed'].rolling(5, min_periods= 1, center= True).std()"
      ],
      "metadata": {
        "id": "NQeQ-hldOtu0"
      },
      "execution_count": null,
      "outputs": []
    },
    {
      "cell_type": "code",
      "source": [
        "sensor1_data.columns"
      ],
      "metadata": {
        "id": "BbTQsvAiOt5Q",
        "colab": {
          "base_uri": "https://localhost:8080/"
        },
        "outputId": "8a9de480-4d10-483b-ffc4-1c6804ca8f59"
      },
      "execution_count": null,
      "outputs": [
        {
          "output_type": "execute_result",
          "data": {
            "text/plain": [
              "Index(['InVehicle_Longitudinal_Speed', 'GPS_Speed',\n",
              "       'InVehicle_Longitudinal_Accel', 'std_speed_5', 'std_acc_5',\n",
              "       'std_GPS_5'],\n",
              "      dtype='object')"
            ]
          },
          "metadata": {},
          "execution_count": 18
        }
      ]
    },
    {
      "cell_type": "code",
      "source": [
        "sensor1_data[['InVehicle_Longitudinal_Speed','std_speed_5']].plot(color=['red', 'green'] )"
      ],
      "metadata": {
        "id": "8v7YqyIlOt6n",
        "colab": {
          "base_uri": "https://localhost:8080/",
          "height": 282
        },
        "outputId": "85211cc4-54e9-49ff-fc35-f9708c2b3e57"
      },
      "execution_count": null,
      "outputs": [
        {
          "output_type": "execute_result",
          "data": {
            "text/plain": [
              "<matplotlib.axes._subplots.AxesSubplot at 0x7f4dc683f670>"
            ]
          },
          "metadata": {},
          "execution_count": 19
        },
        {
          "output_type": "display_data",
          "data": {
            "text/plain": [
              "<Figure size 432x288 with 1 Axes>"
            ],
            "image/png": "[encoded data removed]"
          },
          "metadata": {
            "needs_background": "light"
          }
        }
      ]
    },
    {
      "cell_type": "code",
      "source": [
        "sensor1_data[['InVehicle_Longitudinal_Accel','std_acc_5']].plot(color=['red', 'blue'] )"
      ],
      "metadata": {
        "id": "nl6PePQGO2SD",
        "colab": {
          "base_uri": "https://localhost:8080/",
          "height": 282
        },
        "outputId": "b9a000c2-e776-4b11-a53c-6bcdbdc0a984"
      },
      "execution_count": null,
      "outputs": [
        {
          "output_type": "execute_result",
          "data": {
            "text/plain": [
              "<matplotlib.axes._subplots.AxesSubplot at 0x7f4dc6737640>"
            ]
          },
          "metadata": {},
          "execution_count": 20
        },
        {
          "output_type": "display_data",
          "data": {
            "text/plain": [
              "<Figure size 432x288 with 1 Axes>"
            ],
            "image/png": "[encoded data removed]"
          },
          "metadata": {
            "needs_background": "light"
          }
        }
      ]
    },
    {
      "cell_type": "code",
      "source": [
        "sensor1_data[['GPS_Speed','std_GPS_5']].plot(color=['red', 'yellow'] )"
      ],
      "metadata": {
        "id": "cSfuaPUDO2aO",
        "colab": {
          "base_uri": "https://localhost:8080/",
          "height": 282
        },
        "outputId": "d37f9e86-c759-4079-fd61-d4678acf4484"
      },
      "execution_count": null,
      "outputs": [
        {
          "output_type": "execute_result",
          "data": {
            "text/plain": [
              "<matplotlib.axes._subplots.AxesSubplot at 0x7f4dc6259a30>"
            ]
          },
          "metadata": {},
          "execution_count": 21
        },
        {
          "output_type": "display_data",
          "data": {
            "text/plain": [
              "<Figure size 432x288 with 1 Axes>"
            ],
            "image/png": "[encoded data removed]"
          },
          "metadata": {
            "needs_background": "light"
          }
        }
      ]
    },
    {
      "cell_type": "code",
      "source": [
        "sensor2_data['std_speed_5'] = sensor2_data['InVehicle_Longitudinal_Speed'].rolling(5, min_periods= 1, center= True).std()\n",
        "sensor2_data['std_acc_5'] = sensor2_data['InVehicle_Longitudinal_Accel'].rolling(5, min_periods= 1, center= True).std()\n",
        "sensor2_data['std_GPS_5'] = sensor2_data['GPS_Speed'].rolling(5, min_periods= 1, center= True).std()"
      ],
      "metadata": {
        "id": "3luhzgAAO2m2"
      },
      "execution_count": null,
      "outputs": []
    },
    {
      "cell_type": "code",
      "source": [
        "sensor2_data.columns"
      ],
      "metadata": {
        "id": "wUDTW5AwPD24",
        "colab": {
          "base_uri": "https://localhost:8080/"
        },
        "outputId": "c8480284-4e3d-4597-d89a-687007ffc919"
      },
      "execution_count": null,
      "outputs": [
        {
          "output_type": "execute_result",
          "data": {
            "text/plain": [
              "Index(['InVehicle_Longitudinal_Speed', 'GPS_Speed',\n",
              "       'InVehicle_Longitudinal_Accel', 'std_speed_5', 'std_acc_5',\n",
              "       'std_GPS_5'],\n",
              "      dtype='object')"
            ]
          },
          "metadata": {},
          "execution_count": 23
        }
      ]
    },
    {
      "cell_type": "code",
      "source": [
        "sensor2_data[['InVehicle_Longitudinal_Speed','std_speed_5']].plot(color=['red', 'green'] )"
      ],
      "metadata": {
        "id": "Na7V5lYDPEAj",
        "colab": {
          "base_uri": "https://localhost:8080/",
          "height": 282
        },
        "outputId": "a468b598-38e6-432a-c7c9-07a0599003cb"
      },
      "execution_count": null,
      "outputs": [
        {
          "output_type": "execute_result",
          "data": {
            "text/plain": [
              "<matplotlib.axes._subplots.AxesSubplot at 0x7f4dc68c8580>"
            ]
          },
          "metadata": {},
          "execution_count": 24
        },
        {
          "output_type": "display_data",
          "data": {
            "text/plain": [
              "<Figure size 432x288 with 1 Axes>"
            ],
            "image/png": "[encoded data removed]"
          },
          "metadata": {
            "needs_background": "light"
          }
        }
      ]
    },
    {
      "cell_type": "code",
      "source": [
        "sensor2_data[['InVehicle_Longitudinal_Accel','std_acc_5']].plot(color=['red', 'blue'] )"
      ],
      "metadata": {
        "id": "2xR6VPohPJx_",
        "colab": {
          "base_uri": "https://localhost:8080/",
          "height": 282
        },
        "outputId": "3430a30d-14ad-4454-cf89-0e81cca9dd09"
      },
      "execution_count": null,
      "outputs": [
        {
          "output_type": "execute_result",
          "data": {
            "text/plain": [
              "<matplotlib.axes._subplots.AxesSubplot at 0x7f4dc61b8370>"
            ]
          },
          "metadata": {},
          "execution_count": 25
        },
        {
          "output_type": "display_data",
          "data": {
            "text/plain": [
              "<Figure size 432x288 with 1 Axes>"
            ],
            "image/png": "[encoded data removed]"
          },
          "metadata": {
            "needs_background": "light"
          }
        }
      ]
    },
    {
      "cell_type": "code",
      "source": [
        "sensor2_data[['GPS_Speed','std_GPS_5']].plot(color=['red', 'yellow'] )"
      ],
      "metadata": {
        "id": "HhmkEnZCPJ7j",
        "colab": {
          "base_uri": "https://localhost:8080/",
          "height": 282
        },
        "outputId": "9c4857f2-27aa-4e57-fecc-008503012515"
      },
      "execution_count": null,
      "outputs": [
        {
          "output_type": "execute_result",
          "data": {
            "text/plain": [
              "<matplotlib.axes._subplots.AxesSubplot at 0x7f4dc6120e20>"
            ]
          },
          "metadata": {},
          "execution_count": 26
        },
        {
          "output_type": "display_data",
          "data": {
            "text/plain": [
              "<Figure size 432x288 with 1 Axes>"
            ],
            "image/png": "[encoded data removed]"
          },
          "metadata": {
            "needs_background": "light"
          }
        }
      ]
    },
    {
      "cell_type": "code",
      "source": [
        "sensor3_data['std_speed_5'] = sensor3_data['InVehicle_Longitudinal_Speed'].rolling(5, min_periods= 1, center= True).std()\n",
        "sensor3_data['std_acc_5'] = sensor3_data['InVehicle_Longitudinal_Accel'].rolling(5, min_periods= 1, center= True).std()\n",
        "sensor3_data['std_GPS_5'] = sensor3_data['GPS_Speed'].rolling(5, min_periods= 1, center= True).std()"
      ],
      "metadata": {
        "id": "ePphqhYYPPsK"
      },
      "execution_count": null,
      "outputs": []
    },
    {
      "cell_type": "code",
      "source": [
        "sensor3_data.columns"
      ],
      "metadata": {
        "id": "S0G6ZIPdPP05",
        "colab": {
          "base_uri": "https://localhost:8080/"
        },
        "outputId": "1e1fb310-1a2e-4ebd-cc96-a4ea51b01e82"
      },
      "execution_count": null,
      "outputs": [
        {
          "output_type": "execute_result",
          "data": {
            "text/plain": [
              "Index(['InVehicle_Longitudinal_Speed', 'GPS_Speed',\n",
              "       'InVehicle_Longitudinal_Accel', 'std_speed_5', 'std_acc_5',\n",
              "       'std_GPS_5'],\n",
              "      dtype='object')"
            ]
          },
          "metadata": {},
          "execution_count": 28
        }
      ]
    },
    {
      "cell_type": "code",
      "source": [
        "sensor3_data[['InVehicle_Longitudinal_Speed','std_speed_5']].plot(color=['red', 'green'] )"
      ],
      "metadata": {
        "id": "51RufcGdPQMi",
        "colab": {
          "base_uri": "https://localhost:8080/",
          "height": 282
        },
        "outputId": "06f1d98a-d2ff-4fce-d2e3-45bf3500bb96"
      },
      "execution_count": null,
      "outputs": [
        {
          "output_type": "execute_result",
          "data": {
            "text/plain": [
              "<matplotlib.axes._subplots.AxesSubplot at 0x7f4dc6107160>"
            ]
          },
          "metadata": {},
          "execution_count": 29
        },
        {
          "output_type": "display_data",
          "data": {
            "text/plain": [
              "<Figure size 432x288 with 1 Axes>"
            ],
            "image/png": "[encoded data removed]"
          },
          "metadata": {
            "needs_background": "light"
          }
        }
      ]
    },
    {
      "cell_type": "code",
      "source": [
        "sensor3_data[['InVehicle_Longitudinal_Accel','std_acc_5']].plot(color=['red', 'blue'] )"
      ],
      "metadata": {
        "id": "rhw4EaqxPZa-",
        "colab": {
          "base_uri": "https://localhost:8080/",
          "height": 282
        },
        "outputId": "010c0c1f-b9ee-47ed-9ac1-08b8a68037db"
      },
      "execution_count": null,
      "outputs": [
        {
          "output_type": "execute_result",
          "data": {
            "text/plain": [
              "<matplotlib.axes._subplots.AxesSubplot at 0x7f4dc607d220>"
            ]
          },
          "metadata": {},
          "execution_count": 30
        },
        {
          "output_type": "display_data",
          "data": {
            "text/plain": [
              "<Figure size 432x288 with 1 Axes>"
            ],
            "image/png": "[encoded data removed]"
          },
          "metadata": {
            "needs_background": "light"
          }
        }
      ]
    },
    {
      "cell_type": "code",
      "source": [
        "sensor3_data[['GPS_Speed','std_GPS_5']].plot(color=['red', 'yellow'] )"
      ],
      "metadata": {
        "id": "y7OvX28iPZjE",
        "colab": {
          "base_uri": "https://localhost:8080/",
          "height": 282
        },
        "outputId": "7ccff50f-7de9-4a0d-b8eb-461c70fca35b"
      },
      "execution_count": null,
      "outputs": [
        {
          "output_type": "execute_result",
          "data": {
            "text/plain": [
              "<matplotlib.axes._subplots.AxesSubplot at 0x7f4dc5fdd9d0>"
            ]
          },
          "metadata": {},
          "execution_count": 31
        },
        {
          "output_type": "display_data",
          "data": {
            "text/plain": [
              "<Figure size 432x288 with 1 Axes>"
            ],
            "image/png": "[encoded data removed]"
          },
          "metadata": {
            "needs_background": "light"
          }
        }
      ]
    },
    {
      "cell_type": "code",
      "metadata": {
        "id": "VaUYxUSMvH14",
        "colab": {
          "base_uri": "https://localhost:8080/"
        },
        "outputId": "216f92f4-9462-4fab-fa68-d209fd5c9e78"
      },
      "source": [
        "scaler  = StandardScaler()\n",
        "scaler.fit(sensor1_data[['std_speed_5','std_GPS_5','std_acc_5']])\n",
        "sensor1_data_normal = scaler.transform(sensor1_data[['std_speed_5','std_GPS_5','std_acc_5']]) \n",
        "sensor1_data_normal[:5]"
      ],
      "execution_count": null,
      "outputs": [
        {
          "output_type": "execute_result",
          "data": {
            "text/plain": [
              "array([[-0.537352  , -0.45716818, -0.08531392],\n",
              "       [-0.53525279, -0.4777413 , -0.12019585],\n",
              "       [-0.53437182, -0.49069004, -0.15656958],\n",
              "       [-0.54399862, -0.5444161 , -0.13372653],\n",
              "       [-0.54699046, -0.54296177, -0.58438923]])"
            ]
          },
          "metadata": {},
          "execution_count": 32
        }
      ]
    },
    {
      "cell_type": "code",
      "metadata": {
        "id": "DssP_ns3oPeE",
        "colab": {
          "base_uri": "https://localhost:8080/"
        },
        "outputId": "396d4093-1370-48bb-9db5-255bb912ee84"
      },
      "source": [
        "scaler  = StandardScaler()\n",
        "scaler.fit(sensor2_data[['std_speed_5','std_GPS_5','std_acc_5']])\n",
        "sensor2_data_normal = scaler.transform(sensor2_data[['std_speed_5','std_GPS_5','std_acc_5']]) \n",
        "sensor2_data_normal[:5]"
      ],
      "execution_count": null,
      "outputs": [
        {
          "output_type": "execute_result",
          "data": {
            "text/plain": [
              "array([[-0.537352  , -0.45716818, -0.08531392],\n",
              "       [-0.53525279, -0.4777413 , -0.12019585],\n",
              "       [-0.53437182, -0.49069004, -0.15656958],\n",
              "       [-0.54399862, -0.5444161 , -0.13372653],\n",
              "       [-0.54699046, -0.54296177, -0.58438923]])"
            ]
          },
          "metadata": {},
          "execution_count": 33
        }
      ]
    },
    {
      "cell_type": "code",
      "metadata": {
        "id": "ShuycYtJoPQ2",
        "colab": {
          "base_uri": "https://localhost:8080/"
        },
        "outputId": "9043bca7-8f6c-4f25-9cca-55c86335c11c"
      },
      "source": [
        "scaler  = StandardScaler()\n",
        "scaler.fit(sensor3_data[['std_speed_5','std_GPS_5','std_acc_5']])\n",
        "sensor3_data_normal = scaler.transform(sensor3_data[['std_speed_5','std_GPS_5','std_acc_5']]) \n",
        "sensor3_data_normal[:5]"
      ],
      "execution_count": null,
      "outputs": [
        {
          "output_type": "execute_result",
          "data": {
            "text/plain": [
              "array([[-0.537352  , -0.45716818, -0.08531392],\n",
              "       [-0.53525279, -0.4777413 , -0.12019585],\n",
              "       [-0.53437182, -0.49069004, -0.15656958],\n",
              "       [-0.54399862, -0.5444161 , -0.13372653],\n",
              "       [-0.54699046, -0.54296177, -0.58438923]])"
            ]
          },
          "metadata": {},
          "execution_count": 34
        }
      ]
    },
    {
      "cell_type": "code",
      "metadata": {
        "id": "NPEKmySy2O0W"
      },
      "source": [
        "window_size = 10\n",
        "\n",
        "# create windows with overlap\n",
        "def convertToFrames(X_data,y_data, step):\n",
        "    X, Y =[], []    \n",
        "    for i in range(len(X_data)-step):\n",
        "        y_or = 0\n",
        "        d=i+step  \n",
        "        X.append(X_data[i:d,])\n",
        "        for y in y_data.iloc[i:d].values:\n",
        "           y_or = y_or or y\n",
        "        \n",
        "        Y.append(y_or)\n",
        "    return np.array(X), np.array(Y)"
      ],
      "execution_count": null,
      "outputs": []
    },
    {
      "cell_type": "code",
      "metadata": {
        "colab": {
          "base_uri": "https://localhost:8080/"
        },
        "id": "1U7mLgOZaZsN",
        "outputId": "1cc9319a-974b-4eaa-c1a6-e75e80f7cb9c"
      },
      "source": [
        "X_sensor1, y_sensor1 = convertToFrames(sensor1_data_normal, sensor1_label, window_size)\n",
        "X_sensor1.shape, y_sensor1.shape\n",
        "# print(X_sensor1[0])\n",
        "# print(X_sensor1[1])"
      ],
      "execution_count": null,
      "outputs": [
        {
          "output_type": "execute_result",
          "data": {
            "text/plain": [
              "((29790, 10, 3), (29790, 1))"
            ]
          },
          "metadata": {},
          "execution_count": 36
        }
      ]
    },
    {
      "cell_type": "code",
      "metadata": {
        "colab": {
          "base_uri": "https://localhost:8080/"
        },
        "id": "LlbmzS3Hagp1",
        "outputId": "ce31ceb7-41a0-4347-b357-38f7c7d3c881"
      },
      "source": [
        "X_sensor2, y_sensor2 = convertToFrames(sensor2_data_normal, sensor2_label, window_size)\n",
        "X_sensor2.shape, y_sensor2.shape"
      ],
      "execution_count": null,
      "outputs": [
        {
          "output_type": "execute_result",
          "data": {
            "text/plain": [
              "((29790, 10, 3), (29790, 1))"
            ]
          },
          "metadata": {},
          "execution_count": 37
        }
      ]
    },
    {
      "cell_type": "code",
      "metadata": {
        "colab": {
          "base_uri": "https://localhost:8080/"
        },
        "id": "0QyV7kwragiE",
        "outputId": "7c12c3b7-89e3-475b-ce1a-bc3bcbfae082"
      },
      "source": [
        "X_sensor3, y_sensor3 = convertToFrames(sensor3_data_normal, sensor3_label, window_size)\n",
        "X_sensor3.shape, y_sensor3.shape"
      ],
      "execution_count": null,
      "outputs": [
        {
          "output_type": "execute_result",
          "data": {
            "text/plain": [
              "((29790, 10, 3), (29790, 1))"
            ]
          },
          "metadata": {},
          "execution_count": 38
        }
      ]
    },
    {
      "cell_type": "code",
      "metadata": {
        "colab": {
          "base_uri": "https://localhost:8080/"
        },
        "id": "l4fSg45cplIB",
        "outputId": "5ce78fe9-8fcd-4611-c72c-18df41a8bf2e"
      },
      "source": [
        "y_sensor1 = to_categorical(y_sensor1, num_classes= 2, dtype='float32')\n",
        "X_train_sensor1,X_test_sensor1, y_train_sensor1, y_test_sensor1 = train_test_split(X_sensor1,y_sensor1,random_state = 1400, test_size= 0.15)\n",
        "y_train_sensor1, y_test_sensor1 = y_train_sensor1.squeeze(), y_test_sensor1.squeeze()\n",
        "X_train_sensor1.shape, X_test_sensor1.shape,y_train_sensor1.shape, y_test_sensor1.shape"
      ],
      "execution_count": null,
      "outputs": [
        {
          "output_type": "execute_result",
          "data": {
            "text/plain": [
              "((25321, 10, 3), (4469, 10, 3), (25321, 2), (4469, 2))"
            ]
          },
          "metadata": {},
          "execution_count": 39
        }
      ]
    },
    {
      "cell_type": "code",
      "metadata": {
        "colab": {
          "base_uri": "https://localhost:8080/"
        },
        "id": "M-6JhdmNplC4",
        "outputId": "ff556c0a-68f8-4aa0-b798-0e1c470b2ebd"
      },
      "source": [
        "y_sensor2 = to_categorical(y_sensor2, num_classes= 2, dtype='float32')\n",
        "X_train_sensor2,X_test_sensor2, y_train_sensor2, y_test_sensor2 = train_test_split(X_sensor2,y_sensor2,random_state = 1400, test_size= 0.15)\n",
        "y_train_sensor2, y_test_sensor2 = y_train_sensor2.squeeze(), y_test_sensor2.squeeze()\n",
        "X_train_sensor2.shape, X_test_sensor2.shape,y_train_sensor2.shape, y_test_sensor2.shape"
      ],
      "execution_count": null,
      "outputs": [
        {
          "output_type": "execute_result",
          "data": {
            "text/plain": [
              "((25321, 10, 3), (4469, 10, 3), (25321, 2), (4469, 2))"
            ]
          },
          "metadata": {},
          "execution_count": 40
        }
      ]
    },
    {
      "cell_type": "code",
      "metadata": {
        "colab": {
          "base_uri": "https://localhost:8080/"
        },
        "id": "CZmk_MFjpk_S",
        "outputId": "8616876c-c74b-43d9-9e55-6cdf7a159ece"
      },
      "source": [
        "y_sensor3 = to_categorical(y_sensor3, num_classes= 2, dtype='float32')\n",
        "X_train_sensor3,X_test_sensor3, y_train_sensor3, y_test_sensor3 = train_test_split(X_sensor3,y_sensor3,random_state = 1400, test_size= 0.15)\n",
        "y_train_sensor3, y_test_sensor3 = y_train_sensor3.squeeze(), y_test_sensor3.squeeze()\n",
        "X_train_sensor3.shape, X_test_sensor3.shape,y_train_sensor3.shape, y_test_sensor3.shape"
      ],
      "execution_count": null,
      "outputs": [
        {
          "output_type": "execute_result",
          "data": {
            "text/plain": [
              "((25321, 10, 3), (4469, 10, 3), (25321, 2), (4469, 2))"
            ]
          },
          "metadata": {},
          "execution_count": 41
        }
      ]
    },
    {
      "cell_type": "code",
      "metadata": {
        "id": "DFlQxMk8PgWx"
      },
      "source": [
        "\n",
        "def creatModel():\n",
        "  \n",
        "    model = Sequential()\n",
        "    model.add(Conv1D(kernel_size=3, filters= 40, activation= 'relu', padding='same'))\n",
        "    model.add(Dropout(0.1))\n",
        "    model.add( Conv1D(kernel_size=3, filters= 60, activation= 'relu', padding='same'))\n",
        "    model.add(Dropout(0.1))\n",
        "    model.add(Conv1D(kernel_size=3, filters= 60, activation= 'relu', padding='same'))\n",
        "    model.add(Dropout(0.1))\n",
        "    model.add(GlobalMaxPool1D())\n",
        "    model.add(RepeatVector(X_train_sensor1.shape[1]))\n",
        "    model.add(LSTM(256, return_sequences=True))\n",
        "    model.add(Dropout(rate=0.2))\n",
        "    model.add(LSTM(128, return_sequences=True))\n",
        "    model.add(Dropout(rate=0.2))\n",
        "    model.add(LSTM(64, return_sequences=False))\n",
        "    model.add(Dropout(rate=0.2))\n",
        "    model.add((Dense(32)))\n",
        "    model.add((Dense(16)))\n",
        "    model.add(Dense(2, activation='sigmoid', kernel_regularizer=l2()))\n",
        "    model.compile(optimizer='adam', loss='binary_crossentropy',metrics=['accuracy'])\n",
        "\n",
        "    return model\n"
      ],
      "execution_count": null,
      "outputs": []
    },
    {
      "cell_type": "code",
      "metadata": {
        "id": "VrTO2TLekYa-"
      },
      "source": [
        "import time\n",
        "\n",
        "class TimeHistory(Callback):\n",
        "  \n",
        "    def on_epoch_begin(self, batch, logs={}):\n",
        "        self.epoch_time_start = time.time()\n",
        "\n",
        "    def on_epoch_end(self, batch, logs={}):\n",
        "        epoch_time = time.time() - self.epoch_time_start\n",
        "        logs['epoch_time'] = epoch_time\n"
      ],
      "execution_count": null,
      "outputs": []
    },
    {
      "cell_type": "code",
      "source": [
        "model_path = '/content/drive/MyDrive/CAV/data/Drift attack/Mag_0_2_dur_10/Models/Models28-1/'\n",
        "\n",
        "class Model_save(Callback):\n",
        "  def on_epoch_end(self, epoch, logs={}):\n",
        "    self.model.save(model_path + \"CNN-LSTM-autoEncoder-Drift-0_2_10-CAV-perEpoch_{}.h5\".format(sensor))\n",
        "    "
      ],
      "metadata": {
        "id": "M79Mq50tlTe6"
      },
      "execution_count": null,
      "outputs": []
    },
    {
      "cell_type": "code",
      "source": [
        "def setCallbacks(sensor):\n",
        "\n",
        "  best_model_path = model_path + 'Best_CNN-LSTM-autoEncoder-Drift-0_2_10-CAV_{}.h5'.format(sensor)\n",
        "  checkpoint = ModelCheckpoint(best_model_path, monitor='val_loss', save_best_only=True, mode='min')\n",
        "\n",
        "  history_cb = tf.keras.callbacks.CSVLogger(model_path + 'historyLOG_Drift-0_2_10_{}.csv'.format(sensor), separator=\",\", append=True)\n",
        "\n",
        "  model_save = Model_save()\n",
        "\n",
        "  Estop = EarlyStopping(monitor='val_accuracy', patience= 100)\n",
        "  \n",
        "  return model_save, checkpoint, history_cb, Estop"
      ],
      "metadata": {
        "id": "nWddQ3LPlY5M"
      },
      "execution_count": null,
      "outputs": []
    },
    {
      "cell_type": "code",
      "metadata": {
        "colab": {
          "base_uri": "https://localhost:8080/"
        },
        "id": "t7odu-Z4_BLe",
        "outputId": "64e7478f-812e-4e02-ba8d-5aa973b8b401"
      },
      "source": [
        "sensor = \"sensor1\"\n",
        "time_callback = TimeHistory()\n",
        "model_sensor1 = creatModel()\n",
        "model_save, checkpoint, history_cb, Estop = setCallbacks(\"sensor1\")\n",
        "history_sensor1 = model_sensor1.fit(X_train_sensor1, y_train_sensor1,\n",
        "                                    batch_size = 128, epochs = 500,\n",
        "                                    validation_split = 0.1,\n",
        "                                    verbose = 1,\n",
        "                                    callbacks = [time_callback, model_save, checkpoint, history_cb, Estop])\n",
        "                                    # class_weight= class_weights)#\n"
      ],
      "execution_count": null,
      "outputs": [
        {
          "output_type": "stream",
          "name": "stdout",
          "text": [
            "Epoch 1/500\n",
            "179/179 [==============================] - 21s 21ms/step - loss: 0.1992 - accuracy: 0.9378 - val_loss: 0.0967 - val_accuracy: 0.9751 - epoch_time: 20.7872\n",
            "Epoch 2/500\n",
            "179/179 [==============================] - 2s 12ms/step - loss: 0.0887 - accuracy: 0.9747 - val_loss: 0.0732 - val_accuracy: 0.9795 - epoch_time: 2.0340\n",
            "Epoch 3/500\n",
            "179/179 [==============================] - 2s 12ms/step - loss: 0.0682 - accuracy: 0.9787 - val_loss: 0.0630 - val_accuracy: 0.9795 - epoch_time: 2.0216\n",
            "Epoch 4/500\n",
            "179/179 [==============================] - 2s 12ms/step - loss: 0.0554 - accuracy: 0.9816 - val_loss: 0.0562 - val_accuracy: 0.9818 - epoch_time: 2.0487\n",
            "Epoch 5/500\n",
            "179/179 [==============================] - 3s 14ms/step - loss: 0.0455 - accuracy: 0.9847 - val_loss: 0.0481 - val_accuracy: 0.9846 - epoch_time: 2.3650\n",
            "Epoch 6/500\n",
            "179/179 [==============================] - 3s 16ms/step - loss: 0.0420 - accuracy: 0.9852 - val_loss: 0.0543 - val_accuracy: 0.9818 - epoch_time: 2.7579\n",
            "Epoch 7/500\n",
            "179/179 [==============================] - 2s 12ms/step - loss: 0.0381 - accuracy: 0.9864 - val_loss: 0.0553 - val_accuracy: 0.9834 - epoch_time: 2.0084\n",
            "Epoch 8/500\n",
            "179/179 [==============================] - 2s 12ms/step - loss: 0.0337 - accuracy: 0.9880 - val_loss: 0.0380 - val_accuracy: 0.9886 - epoch_time: 2.0191\n",
            "Epoch 9/500\n",
            "179/179 [==============================] - 2s 13ms/step - loss: 0.0348 - accuracy: 0.9875 - val_loss: 0.0343 - val_accuracy: 0.9886 - epoch_time: 2.0292\n",
            "Epoch 10/500\n",
            "179/179 [==============================] - 2s 12ms/step - loss: 0.0302 - accuracy: 0.9887 - val_loss: 0.0424 - val_accuracy: 0.9850 - epoch_time: 2.0507\n",
            "Epoch 11/500\n",
            "179/179 [==============================] - 3s 14ms/step - loss: 0.0293 - accuracy: 0.9890 - val_loss: 0.0315 - val_accuracy: 0.9870 - epoch_time: 2.3073\n",
            "Epoch 12/500\n",
            "179/179 [==============================] - 3s 15ms/step - loss: 0.0269 - accuracy: 0.9900 - val_loss: 0.0371 - val_accuracy: 0.9866 - epoch_time: 2.6272\n",
            "Epoch 13/500\n",
            "179/179 [==============================] - 2s 12ms/step - loss: 0.0246 - accuracy: 0.9911 - val_loss: 0.0349 - val_accuracy: 0.9866 - epoch_time: 2.0076\n",
            "Epoch 14/500\n",
            "179/179 [==============================] - 2s 12ms/step - loss: 0.0243 - accuracy: 0.9910 - val_loss: 0.0280 - val_accuracy: 0.9897 - epoch_time: 2.0591\n",
            "Epoch 15/500\n",
            "179/179 [==============================] - 2s 12ms/step - loss: 0.0238 - accuracy: 0.9912 - val_loss: 0.0415 - val_accuracy: 0.9874 - epoch_time: 2.0451\n",
            "Epoch 16/500\n",
            "179/179 [==============================] - 2s 12ms/step - loss: 0.0230 - accuracy: 0.9924 - val_loss: 0.0237 - val_accuracy: 0.9909 - epoch_time: 1.9730\n",
            "Epoch 17/500\n",
            "179/179 [==============================] - 3s 14ms/step - loss: 0.0209 - accuracy: 0.9921 - val_loss: 0.0298 - val_accuracy: 0.9905 - epoch_time: 2.3889\n",
            "Epoch 18/500\n",
            "179/179 [==============================] - 3s 16ms/step - loss: 0.0193 - accuracy: 0.9927 - val_loss: 0.0279 - val_accuracy: 0.9882 - epoch_time: 2.6857\n",
            "Epoch 19/500\n",
            "179/179 [==============================] - 3s 17ms/step - loss: 0.0207 - accuracy: 0.9925 - val_loss: 0.0218 - val_accuracy: 0.9913 - epoch_time: 2.0255\n",
            "Epoch 20/500\n",
            "179/179 [==============================] - 2s 12ms/step - loss: 0.0173 - accuracy: 0.9935 - val_loss: 0.0284 - val_accuracy: 0.9878 - epoch_time: 2.0571\n",
            "Epoch 21/500\n",
            "179/179 [==============================] - 2s 12ms/step - loss: 0.0191 - accuracy: 0.9933 - val_loss: 0.0215 - val_accuracy: 0.9897 - epoch_time: 2.0019\n",
            "Epoch 22/500\n",
            "179/179 [==============================] - 2s 12ms/step - loss: 0.0172 - accuracy: 0.9935 - val_loss: 0.0222 - val_accuracy: 0.9921 - epoch_time: 2.1016\n",
            "Epoch 23/500\n",
            "179/179 [==============================] - 3s 17ms/step - loss: 0.0160 - accuracy: 0.9938 - val_loss: 0.0212 - val_accuracy: 0.9909 - epoch_time: 2.7737\n",
            "Epoch 24/500\n",
            "179/179 [==============================] - 2s 13ms/step - loss: 0.0173 - accuracy: 0.9931 - val_loss: 0.0239 - val_accuracy: 0.9909 - epoch_time: 2.2274\n",
            "Epoch 25/500\n",
            "179/179 [==============================] - 2s 12ms/step - loss: 0.0156 - accuracy: 0.9943 - val_loss: 0.0172 - val_accuracy: 0.9937 - epoch_time: 2.0178\n",
            "Epoch 26/500\n",
            "179/179 [==============================] - 2s 12ms/step - loss: 0.0144 - accuracy: 0.9949 - val_loss: 0.0200 - val_accuracy: 0.9917 - epoch_time: 2.0092\n",
            "Epoch 27/500\n",
            "179/179 [==============================] - 2s 12ms/step - loss: 0.0145 - accuracy: 0.9950 - val_loss: 0.0160 - val_accuracy: 0.9933 - epoch_time: 2.0273\n",
            "Epoch 28/500\n",
            "179/179 [==============================] - 2s 13ms/step - loss: 0.0148 - accuracy: 0.9943 - val_loss: 0.0171 - val_accuracy: 0.9925 - epoch_time: 2.1675\n",
            "Epoch 29/500\n",
            "179/179 [==============================] - 3s 16ms/step - loss: 0.0137 - accuracy: 0.9956 - val_loss: 0.0185 - val_accuracy: 0.9921 - epoch_time: 2.7802\n",
            "Epoch 30/500\n",
            "179/179 [==============================] - 2s 13ms/step - loss: 0.0127 - accuracy: 0.9957 - val_loss: 0.0117 - val_accuracy: 0.9953 - epoch_time: 2.1346\n",
            "Epoch 31/500\n",
            "179/179 [==============================] - 2s 12ms/step - loss: 0.0131 - accuracy: 0.9958 - val_loss: 0.0150 - val_accuracy: 0.9929 - epoch_time: 2.0964\n",
            "Epoch 32/500\n",
            "179/179 [==============================] - 2s 12ms/step - loss: 0.0116 - accuracy: 0.9959 - val_loss: 0.0213 - val_accuracy: 0.9909 - epoch_time: 2.0987\n",
            "Epoch 33/500\n",
            "179/179 [==============================] - 2s 13ms/step - loss: 0.0125 - accuracy: 0.9953 - val_loss: 0.0153 - val_accuracy: 0.9921 - epoch_time: 2.1721\n",
            "Epoch 34/500\n",
            "179/179 [==============================] - 2s 14ms/step - loss: 0.0135 - accuracy: 0.9946 - val_loss: 0.0124 - val_accuracy: 0.9957 - epoch_time: 2.3876\n",
            "Epoch 35/500\n",
            "179/179 [==============================] - 3s 17ms/step - loss: 0.0131 - accuracy: 0.9953 - val_loss: 0.0207 - val_accuracy: 0.9925 - epoch_time: 2.9187\n",
            "Epoch 36/500\n",
            "179/179 [==============================] - 3s 18ms/step - loss: 0.0106 - accuracy: 0.9964 - val_loss: 0.0146 - val_accuracy: 0.9941 - epoch_time: 3.1425\n",
            "Epoch 37/500\n",
            "179/179 [==============================] - 3s 15ms/step - loss: 0.0105 - accuracy: 0.9962 - val_loss: 0.0136 - val_accuracy: 0.9941 - epoch_time: 2.5398\n",
            "Epoch 38/500\n",
            "179/179 [==============================] - 2s 12ms/step - loss: 0.0102 - accuracy: 0.9967 - val_loss: 0.0123 - val_accuracy: 0.9941 - epoch_time: 2.0873\n",
            "Epoch 39/500\n",
            "179/179 [==============================] - 2s 13ms/step - loss: 0.0097 - accuracy: 0.9964 - val_loss: 0.0156 - val_accuracy: 0.9945 - epoch_time: 2.1940\n",
            "Epoch 40/500\n",
            "179/179 [==============================] - 3s 16ms/step - loss: 0.0119 - accuracy: 0.9955 - val_loss: 0.0172 - val_accuracy: 0.9937 - epoch_time: 2.7588\n",
            "Epoch 41/500\n",
            "179/179 [==============================] - 2s 12ms/step - loss: 0.0109 - accuracy: 0.9960 - val_loss: 0.0138 - val_accuracy: 0.9945 - epoch_time: 2.1499\n",
            "Epoch 42/500\n",
            "179/179 [==============================] - 2s 12ms/step - loss: 0.0108 - accuracy: 0.9966 - val_loss: 0.0147 - val_accuracy: 0.9949 - epoch_time: 2.0709\n",
            "Epoch 43/500\n",
            "179/179 [==============================] - 2s 12ms/step - loss: 0.0104 - accuracy: 0.9967 - val_loss: 0.0168 - val_accuracy: 0.9937 - epoch_time: 2.1039\n",
            "Epoch 44/500\n",
            "179/179 [==============================] - 2s 12ms/step - loss: 0.0087 - accuracy: 0.9972 - val_loss: 0.0149 - val_accuracy: 0.9941 - epoch_time: 2.0184\n",
            "Epoch 45/500\n",
            "179/179 [==============================] - 2s 13ms/step - loss: 0.0092 - accuracy: 0.9964 - val_loss: 0.0221 - val_accuracy: 0.9917 - epoch_time: 2.2367\n",
            "Epoch 46/500\n",
            "179/179 [==============================] - 4s 20ms/step - loss: 0.0092 - accuracy: 0.9968 - val_loss: 0.0105 - val_accuracy: 0.9961 - epoch_time: 2.7969\n",
            "Epoch 47/500\n",
            "179/179 [==============================] - 2s 12ms/step - loss: 0.0092 - accuracy: 0.9965 - val_loss: 0.0102 - val_accuracy: 0.9953 - epoch_time: 2.0549\n",
            "Epoch 48/500\n",
            "179/179 [==============================] - 2s 12ms/step - loss: 0.0082 - accuracy: 0.9971 - val_loss: 0.0230 - val_accuracy: 0.9929 - epoch_time: 2.0511\n",
            "Epoch 49/500\n",
            "179/179 [==============================] - 2s 12ms/step - loss: 0.0114 - accuracy: 0.9960 - val_loss: 0.0172 - val_accuracy: 0.9937 - epoch_time: 2.0508\n",
            "Epoch 50/500\n",
            "179/179 [==============================] - 2s 12ms/step - loss: 0.0095 - accuracy: 0.9964 - val_loss: 0.0090 - val_accuracy: 0.9957 - epoch_time: 1.9940\n",
            "Epoch 51/500\n",
            "179/179 [==============================] - 3s 15ms/step - loss: 0.0069 - accuracy: 0.9975 - val_loss: 0.0111 - val_accuracy: 0.9953 - epoch_time: 2.6297\n",
            "Epoch 52/500\n",
            "179/179 [==============================] - 3s 14ms/step - loss: 0.0102 - accuracy: 0.9961 - val_loss: 0.0120 - val_accuracy: 0.9953 - epoch_time: 2.4324\n",
            "Epoch 53/500\n",
            "179/179 [==============================] - 2s 12ms/step - loss: 0.0068 - accuracy: 0.9980 - val_loss: 0.0150 - val_accuracy: 0.9949 - epoch_time: 2.0667\n",
            "Epoch 54/500\n",
            "179/179 [==============================] - 2s 12ms/step - loss: 0.0078 - accuracy: 0.9967 - val_loss: 0.0110 - val_accuracy: 0.9949 - epoch_time: 2.0101\n",
            "Epoch 55/500\n",
            "179/179 [==============================] - 2s 12ms/step - loss: 0.0081 - accuracy: 0.9972 - val_loss: 0.0133 - val_accuracy: 0.9968 - epoch_time: 1.9981\n",
            "Epoch 56/500\n",
            "179/179 [==============================] - 2s 12ms/step - loss: 0.0069 - accuracy: 0.9975 - val_loss: 0.0094 - val_accuracy: 0.9961 - epoch_time: 2.0939\n",
            "Epoch 57/500\n",
            "179/179 [==============================] - 3s 19ms/step - loss: 0.0079 - accuracy: 0.9973 - val_loss: 0.0079 - val_accuracy: 0.9972 - epoch_time: 2.6049\n",
            "Epoch 58/500\n",
            "179/179 [==============================] - 2s 13ms/step - loss: 0.0063 - accuracy: 0.9981 - val_loss: 0.0123 - val_accuracy: 0.9953 - epoch_time: 2.1644\n",
            "Epoch 59/500\n",
            "179/179 [==============================] - 2s 12ms/step - loss: 0.0062 - accuracy: 0.9975 - val_loss: 0.0113 - val_accuracy: 0.9964 - epoch_time: 2.0950\n",
            "Epoch 60/500\n",
            "179/179 [==============================] - 2s 12ms/step - loss: 0.0074 - accuracy: 0.9975 - val_loss: 0.0118 - val_accuracy: 0.9953 - epoch_time: 2.0484\n",
            "Epoch 61/500\n",
            "179/179 [==============================] - 2s 12ms/step - loss: 0.0088 - accuracy: 0.9970 - val_loss: 0.0086 - val_accuracy: 0.9953 - epoch_time: 2.0756\n",
            "Epoch 62/500\n",
            "179/179 [==============================] - 2s 13ms/step - loss: 0.0068 - accuracy: 0.9980 - val_loss: 0.0094 - val_accuracy: 0.9945 - epoch_time: 2.2041\n",
            "Epoch 63/500\n",
            "179/179 [==============================] - 3s 16ms/step - loss: 0.0068 - accuracy: 0.9974 - val_loss: 0.0098 - val_accuracy: 0.9961 - epoch_time: 2.7612\n",
            "Epoch 64/500\n",
            "179/179 [==============================] - 2s 13ms/step - loss: 0.0062 - accuracy: 0.9978 - val_loss: 0.0092 - val_accuracy: 0.9961 - epoch_time: 2.1674\n",
            "Epoch 65/500\n",
            "179/179 [==============================] - 2s 12ms/step - loss: 0.0068 - accuracy: 0.9978 - val_loss: 0.0110 - val_accuracy: 0.9972 - epoch_time: 2.0254\n",
            "Epoch 66/500\n",
            "179/179 [==============================] - 2s 12ms/step - loss: 0.0067 - accuracy: 0.9973 - val_loss: 0.0090 - val_accuracy: 0.9976 - epoch_time: 2.0569\n",
            "Epoch 67/500\n",
            "179/179 [==============================] - 3s 16ms/step - loss: 0.0072 - accuracy: 0.9975 - val_loss: 0.0078 - val_accuracy: 0.9964 - epoch_time: 2.0385\n",
            "Epoch 68/500\n",
            "179/179 [==============================] - 3s 15ms/step - loss: 0.0063 - accuracy: 0.9976 - val_loss: 0.0087 - val_accuracy: 0.9968 - epoch_time: 2.4958\n",
            "Epoch 69/500\n",
            "179/179 [==============================] - 3s 16ms/step - loss: 0.0057 - accuracy: 0.9978 - val_loss: 0.0064 - val_accuracy: 0.9980 - epoch_time: 2.6938\n",
            "Epoch 70/500\n",
            "179/179 [==============================] - 2s 12ms/step - loss: 0.0073 - accuracy: 0.9969 - val_loss: 0.0093 - val_accuracy: 0.9949 - epoch_time: 2.1295\n",
            "Epoch 71/500\n",
            "179/179 [==============================] - 2s 12ms/step - loss: 0.0070 - accuracy: 0.9977 - val_loss: 0.0058 - val_accuracy: 0.9980 - epoch_time: 2.0537\n",
            "Epoch 72/500\n",
            "179/179 [==============================] - 2s 12ms/step - loss: 0.0068 - accuracy: 0.9975 - val_loss: 0.0093 - val_accuracy: 0.9964 - epoch_time: 2.0602\n",
            "Epoch 73/500\n",
            "179/179 [==============================] - 2s 13ms/step - loss: 0.0068 - accuracy: 0.9974 - val_loss: 0.0088 - val_accuracy: 0.9976 - epoch_time: 2.1810\n",
            "Epoch 74/500\n",
            "179/179 [==============================] - 3s 16ms/step - loss: 0.0058 - accuracy: 0.9975 - val_loss: 0.0112 - val_accuracy: 0.9957 - epoch_time: 2.6933\n",
            "Epoch 75/500\n",
            "179/179 [==============================] - 3s 15ms/step - loss: 0.0059 - accuracy: 0.9979 - val_loss: 0.0110 - val_accuracy: 0.9957 - epoch_time: 2.6046\n",
            "Epoch 76/500\n",
            "179/179 [==============================] - 2s 12ms/step - loss: 0.0044 - accuracy: 0.9985 - val_loss: 0.0097 - val_accuracy: 0.9968 - epoch_time: 2.0671\n",
            "Epoch 77/500\n",
            "179/179 [==============================] - 2s 12ms/step - loss: 0.0061 - accuracy: 0.9978 - val_loss: 0.0070 - val_accuracy: 0.9976 - epoch_time: 2.0385\n",
            "Epoch 78/500\n",
            "179/179 [==============================] - 2s 12ms/step - loss: 0.0064 - accuracy: 0.9979 - val_loss: 0.0060 - val_accuracy: 0.9976 - epoch_time: 2.0801\n",
            "Epoch 79/500\n",
            "179/179 [==============================] - 2s 12ms/step - loss: 0.0063 - accuracy: 0.9979 - val_loss: 0.0110 - val_accuracy: 0.9968 - epoch_time: 2.0682\n",
            "Epoch 80/500\n",
            "179/179 [==============================] - 3s 16ms/step - loss: 0.0062 - accuracy: 0.9979 - val_loss: 0.0094 - val_accuracy: 0.9976 - epoch_time: 2.7743\n",
            "Epoch 81/500\n",
            "179/179 [==============================] - 3s 14ms/step - loss: 0.0073 - accuracy: 0.9970 - val_loss: 0.0093 - val_accuracy: 0.9976 - epoch_time: 2.4434\n",
            "Epoch 82/500\n",
            "179/179 [==============================] - 2s 12ms/step - loss: 0.0062 - accuracy: 0.9980 - val_loss: 0.0106 - val_accuracy: 0.9976 - epoch_time: 2.0423\n",
            "Epoch 83/500\n",
            "179/179 [==============================] - 2s 12ms/step - loss: 0.0055 - accuracy: 0.9982 - val_loss: 0.0089 - val_accuracy: 0.9976 - epoch_time: 2.0755\n",
            "Epoch 84/500\n",
            "179/179 [==============================] - 2s 12ms/step - loss: 0.0057 - accuracy: 0.9981 - val_loss: 0.0098 - val_accuracy: 0.9972 - epoch_time: 2.1069\n",
            "Epoch 85/500\n",
            "179/179 [==============================] - 2s 12ms/step - loss: 0.0049 - accuracy: 0.9978 - val_loss: 0.0107 - val_accuracy: 0.9972 - epoch_time: 2.1212\n",
            "Epoch 86/500\n",
            "179/179 [==============================] - 3s 17ms/step - loss: 0.0043 - accuracy: 0.9987 - val_loss: 0.0093 - val_accuracy: 0.9980 - epoch_time: 2.9267\n",
            "Epoch 87/500\n",
            "179/179 [==============================] - 2s 14ms/step - loss: 0.0041 - accuracy: 0.9987 - val_loss: 0.0113 - val_accuracy: 0.9945 - epoch_time: 2.4034\n",
            "Epoch 88/500\n",
            "179/179 [==============================] - 2s 12ms/step - loss: 0.0060 - accuracy: 0.9979 - val_loss: 0.0085 - val_accuracy: 0.9976 - epoch_time: 2.1262\n",
            "Epoch 89/500\n",
            "179/179 [==============================] - 2s 12ms/step - loss: 0.0057 - accuracy: 0.9982 - val_loss: 0.0073 - val_accuracy: 0.9972 - epoch_time: 2.1269\n",
            "Epoch 90/500\n",
            "179/179 [==============================] - 2s 12ms/step - loss: 0.0045 - accuracy: 0.9986 - val_loss: 0.0069 - val_accuracy: 0.9976 - epoch_time: 2.1283\n",
            "Epoch 91/500\n",
            "179/179 [==============================] - 2s 13ms/step - loss: 0.0044 - accuracy: 0.9986 - val_loss: 0.0063 - val_accuracy: 0.9976 - epoch_time: 2.2748\n",
            "Epoch 92/500\n",
            "179/179 [==============================] - 3s 17ms/step - loss: 0.0042 - accuracy: 0.9985 - val_loss: 0.0083 - val_accuracy: 0.9968 - epoch_time: 2.8609\n",
            "Epoch 93/500\n",
            "179/179 [==============================] - 2s 13ms/step - loss: 0.0059 - accuracy: 0.9980 - val_loss: 0.0063 - val_accuracy: 0.9980 - epoch_time: 2.2004\n",
            "Epoch 94/500\n",
            "179/179 [==============================] - 2s 12ms/step - loss: 0.0063 - accuracy: 0.9979 - val_loss: 0.0091 - val_accuracy: 0.9976 - epoch_time: 2.1164\n",
            "Epoch 95/500\n",
            "179/179 [==============================] - 2s 12ms/step - loss: 0.0052 - accuracy: 0.9984 - val_loss: 0.0074 - val_accuracy: 0.9968 - epoch_time: 2.1037\n",
            "Epoch 96/500\n",
            "179/179 [==============================] - 2s 12ms/step - loss: 0.0046 - accuracy: 0.9982 - val_loss: 0.0075 - val_accuracy: 0.9961 - epoch_time: 2.0870\n",
            "Epoch 97/500\n",
            "179/179 [==============================] - 3s 14ms/step - loss: 0.0070 - accuracy: 0.9978 - val_loss: 0.0099 - val_accuracy: 0.9964 - epoch_time: 2.4411\n",
            "Epoch 98/500\n",
            "179/179 [==============================] - 3s 16ms/step - loss: 0.0042 - accuracy: 0.9986 - val_loss: 0.0118 - val_accuracy: 0.9957 - epoch_time: 2.8033\n",
            "Epoch 99/500\n",
            "179/179 [==============================] - 2s 13ms/step - loss: 0.0045 - accuracy: 0.9986 - val_loss: 0.0134 - val_accuracy: 0.9945 - epoch_time: 2.1463\n",
            "Epoch 100/500\n",
            "179/179 [==============================] - 2s 12ms/step - loss: 0.0040 - accuracy: 0.9988 - val_loss: 0.0080 - val_accuracy: 0.9968 - epoch_time: 2.0973\n",
            "Epoch 101/500\n",
            "179/179 [==============================] - 2s 12ms/step - loss: 0.0057 - accuracy: 0.9980 - val_loss: 0.0071 - val_accuracy: 0.9972 - epoch_time: 2.0811\n",
            "Epoch 102/500\n",
            "179/179 [==============================] - 2s 13ms/step - loss: 0.0063 - accuracy: 0.9978 - val_loss: 0.0065 - val_accuracy: 0.9976 - epoch_time: 2.1608\n",
            "Epoch 103/500\n",
            "179/179 [==============================] - 3s 15ms/step - loss: 0.0051 - accuracy: 0.9982 - val_loss: 0.0113 - val_accuracy: 0.9957 - epoch_time: 2.5307\n",
            "Epoch 104/500\n",
            "179/179 [==============================] - 3s 15ms/step - loss: 0.0043 - accuracy: 0.9986 - val_loss: 0.0064 - val_accuracy: 0.9972 - epoch_time: 2.6756\n",
            "Epoch 105/500\n",
            "179/179 [==============================] - 2s 12ms/step - loss: 0.0047 - accuracy: 0.9984 - val_loss: 0.0075 - val_accuracy: 0.9976 - epoch_time: 2.1032\n",
            "Epoch 106/500\n",
            "179/179 [==============================] - 2s 13ms/step - loss: 0.0039 - accuracy: 0.9987 - val_loss: 0.0059 - val_accuracy: 0.9980 - epoch_time: 2.1754\n",
            "Epoch 107/500\n",
            "179/179 [==============================] - 4s 20ms/step - loss: 0.0033 - accuracy: 0.9988 - val_loss: 0.0051 - val_accuracy: 0.9984 - epoch_time: 2.1413\n",
            "Epoch 108/500\n",
            "179/179 [==============================] - 3s 14ms/step - loss: 0.0052 - accuracy: 0.9981 - val_loss: 0.0091 - val_accuracy: 0.9964 - epoch_time: 2.4258\n",
            "Epoch 109/500\n",
            "179/179 [==============================] - 3s 17ms/step - loss: 0.0028 - accuracy: 0.9990 - val_loss: 0.0213 - val_accuracy: 0.9941 - epoch_time: 2.8772\n",
            "Epoch 110/500\n",
            "179/179 [==============================] - 2s 13ms/step - loss: 0.0061 - accuracy: 0.9978 - val_loss: 0.0084 - val_accuracy: 0.9968 - epoch_time: 2.1520\n",
            "Epoch 111/500\n",
            "179/179 [==============================] - 2s 12ms/step - loss: 0.0048 - accuracy: 0.9985 - val_loss: 0.0091 - val_accuracy: 0.9961 - epoch_time: 2.1226\n",
            "Epoch 112/500\n",
            "179/179 [==============================] - 2s 12ms/step - loss: 0.0048 - accuracy: 0.9986 - val_loss: 0.0063 - val_accuracy: 0.9972 - epoch_time: 2.1114\n",
            "Epoch 113/500\n",
            "179/179 [==============================] - 2s 12ms/step - loss: 0.0024 - accuracy: 0.9993 - val_loss: 0.0123 - val_accuracy: 0.9980 - epoch_time: 2.1371\n",
            "Epoch 114/500\n",
            "179/179 [==============================] - 3s 15ms/step - loss: 0.0037 - accuracy: 0.9989 - val_loss: 0.0091 - val_accuracy: 0.9957 - epoch_time: 2.5611\n",
            "Epoch 115/500\n",
            "179/179 [==============================] - 3s 16ms/step - loss: 0.0047 - accuracy: 0.9986 - val_loss: 0.0074 - val_accuracy: 0.9972 - epoch_time: 2.7321\n",
            "Epoch 116/500\n",
            "179/179 [==============================] - 2s 12ms/step - loss: 0.0052 - accuracy: 0.9984 - val_loss: 0.0059 - val_accuracy: 0.9972 - epoch_time: 2.0969\n",
            "Epoch 117/500\n",
            "179/179 [==============================] - 2s 13ms/step - loss: 0.0053 - accuracy: 0.9984 - val_loss: 0.0064 - val_accuracy: 0.9976 - epoch_time: 2.1695\n",
            "Epoch 118/500\n",
            "179/179 [==============================] - 2s 13ms/step - loss: 0.0027 - accuracy: 0.9989 - val_loss: 0.0115 - val_accuracy: 0.9968 - epoch_time: 2.1873\n",
            "Epoch 119/500\n",
            "179/179 [==============================] - 2s 13ms/step - loss: 0.0042 - accuracy: 0.9987 - val_loss: 0.0055 - val_accuracy: 0.9980 - epoch_time: 2.1764\n",
            "Epoch 120/500\n",
            "179/179 [==============================] - 3s 16ms/step - loss: 0.0059 - accuracy: 0.9984 - val_loss: 0.0099 - val_accuracy: 0.9961 - epoch_time: 2.7426\n",
            "Epoch 121/500\n",
            "179/179 [==============================] - 3s 15ms/step - loss: 0.0030 - accuracy: 0.9990 - val_loss: 0.0080 - val_accuracy: 0.9980 - epoch_time: 2.6152\n",
            "Epoch 122/500\n",
            "179/179 [==============================] - 2s 13ms/step - loss: 0.0032 - accuracy: 0.9989 - val_loss: 0.0089 - val_accuracy: 0.9972 - epoch_time: 2.1669\n",
            "Epoch 123/500\n",
            "179/179 [==============================] - 3s 18ms/step - loss: 0.0037 - accuracy: 0.9988 - val_loss: 0.0045 - val_accuracy: 0.9972 - epoch_time: 2.1831\n",
            "Epoch 124/500\n",
            "179/179 [==============================] - 2s 13ms/step - loss: 0.0037 - accuracy: 0.9989 - val_loss: 0.0049 - val_accuracy: 0.9980 - epoch_time: 2.1647\n",
            "Epoch 125/500\n",
            "179/179 [==============================] - 3s 15ms/step - loss: 0.0021 - accuracy: 0.9992 - val_loss: 0.0076 - val_accuracy: 0.9961 - epoch_time: 2.6240\n",
            "Epoch 126/500\n",
            "179/179 [==============================] - 3s 16ms/step - loss: 0.0040 - accuracy: 0.9986 - val_loss: 0.0053 - val_accuracy: 0.9980 - epoch_time: 2.8486\n",
            "Epoch 127/500\n",
            "179/179 [==============================] - 2s 13ms/step - loss: 0.0036 - accuracy: 0.9987 - val_loss: 0.0059 - val_accuracy: 0.9980 - epoch_time: 2.2145\n",
            "Epoch 128/500\n",
            "179/179 [==============================] - 2s 13ms/step - loss: 0.0035 - accuracy: 0.9988 - val_loss: 0.0088 - val_accuracy: 0.9968 - epoch_time: 2.1733\n",
            "Epoch 129/500\n",
            "179/179 [==============================] - 2s 13ms/step - loss: 0.0030 - accuracy: 0.9990 - val_loss: 0.0072 - val_accuracy: 0.9976 - epoch_time: 2.2578\n",
            "Epoch 130/500\n",
            "179/179 [==============================] - 2s 13ms/step - loss: 0.0028 - accuracy: 0.9988 - val_loss: 0.0121 - val_accuracy: 0.9961 - epoch_time: 2.2550\n",
            "Epoch 131/500\n",
            "179/179 [==============================] - 3s 17ms/step - loss: 0.0058 - accuracy: 0.9985 - val_loss: 0.0075 - val_accuracy: 0.9964 - epoch_time: 2.9478\n",
            "Epoch 132/500\n",
            "179/179 [==============================] - 3s 14ms/step - loss: 0.0035 - accuracy: 0.9990 - val_loss: 0.0063 - val_accuracy: 0.9976 - epoch_time: 2.4895\n",
            "Epoch 133/500\n",
            "179/179 [==============================] - 2s 13ms/step - loss: 0.0028 - accuracy: 0.9992 - val_loss: 0.0076 - val_accuracy: 0.9972 - epoch_time: 2.2454\n",
            "Epoch 134/500\n",
            "179/179 [==============================] - 2s 13ms/step - loss: 0.0032 - accuracy: 0.9990 - val_loss: 0.0065 - val_accuracy: 0.9984 - epoch_time: 2.2069\n",
            "Epoch 135/500\n",
            "179/179 [==============================] - 2s 12ms/step - loss: 0.0047 - accuracy: 0.9982 - val_loss: 0.0067 - val_accuracy: 0.9976 - epoch_time: 2.1473\n",
            "Epoch 136/500\n",
            "179/179 [==============================] - 3s 14ms/step - loss: 0.0024 - accuracy: 0.9989 - val_loss: 0.0073 - val_accuracy: 0.9972 - epoch_time: 2.4551\n",
            "Epoch 137/500\n",
            "179/179 [==============================] - 3s 17ms/step - loss: 0.0032 - accuracy: 0.9991 - val_loss: 0.0058 - val_accuracy: 0.9984 - epoch_time: 2.9479\n",
            "Epoch 138/500\n",
            "179/179 [==============================] - 2s 13ms/step - loss: 0.0035 - accuracy: 0.9989 - val_loss: 0.0073 - val_accuracy: 0.9976 - epoch_time: 2.2658\n",
            "Epoch 139/500\n",
            "179/179 [==============================] - 2s 13ms/step - loss: 0.0032 - accuracy: 0.9992 - val_loss: 0.0089 - val_accuracy: 0.9961 - epoch_time: 2.2037\n",
            "Epoch 140/500\n",
            "179/179 [==============================] - 2s 12ms/step - loss: 0.0049 - accuracy: 0.9985 - val_loss: 0.0045 - val_accuracy: 0.9984 - epoch_time: 2.1260\n",
            "Epoch 141/500\n",
            "179/179 [==============================] - 3s 17ms/step - loss: 0.0031 - accuracy: 0.9991 - val_loss: 0.0033 - val_accuracy: 0.9988 - epoch_time: 2.1697\n",
            "Epoch 142/500\n",
            "179/179 [==============================] - 3s 17ms/step - loss: 0.0041 - accuracy: 0.9989 - val_loss: 0.0088 - val_accuracy: 0.9972 - epoch_time: 2.9497\n",
            "Epoch 143/500\n",
            "179/179 [==============================] - 3s 15ms/step - loss: 0.0032 - accuracy: 0.9991 - val_loss: 0.0057 - val_accuracy: 0.9976 - epoch_time: 2.5774\n",
            "Epoch 144/500\n",
            "179/179 [==============================] - 2s 14ms/step - loss: 0.0037 - accuracy: 0.9989 - val_loss: 0.0046 - val_accuracy: 0.9980 - epoch_time: 2.4031\n",
            "Epoch 145/500\n",
            "179/179 [==============================] - 3s 14ms/step - loss: 0.0028 - accuracy: 0.9990 - val_loss: 0.0039 - val_accuracy: 0.9980 - epoch_time: 2.4521\n",
            "Epoch 146/500\n",
            "179/179 [==============================] - 2s 14ms/step - loss: 0.0032 - accuracy: 0.9989 - val_loss: 0.0064 - val_accuracy: 0.9976 - epoch_time: 2.3858\n",
            "Epoch 147/500\n",
            "179/179 [==============================] - 3s 16ms/step - loss: 0.0038 - accuracy: 0.9984 - val_loss: 0.0093 - val_accuracy: 0.9976 - epoch_time: 2.8158\n",
            "Epoch 148/500\n",
            "179/179 [==============================] - 3s 17ms/step - loss: 0.0028 - accuracy: 0.9993 - val_loss: 0.0064 - val_accuracy: 0.9976 - epoch_time: 2.9057\n",
            "Epoch 149/500\n",
            "179/179 [==============================] - 2s 13ms/step - loss: 0.0020 - accuracy: 0.9996 - val_loss: 0.0083 - val_accuracy: 0.9972 - epoch_time: 2.3127\n",
            "Epoch 150/500\n",
            "179/179 [==============================] - 2s 13ms/step - loss: 0.0035 - accuracy: 0.9987 - val_loss: 0.0102 - val_accuracy: 0.9957 - epoch_time: 2.2324\n",
            "Epoch 151/500\n",
            "179/179 [==============================] - 2s 13ms/step - loss: 0.0031 - accuracy: 0.9990 - val_loss: 0.0121 - val_accuracy: 0.9968 - epoch_time: 2.2148\n",
            "Epoch 152/500\n",
            "179/179 [==============================] - 2s 14ms/step - loss: 0.0029 - accuracy: 0.9989 - val_loss: 0.0052 - val_accuracy: 0.9976 - epoch_time: 2.3279\n",
            "Epoch 153/500\n",
            "179/179 [==============================] - 3s 18ms/step - loss: 0.0083 - accuracy: 0.9977 - val_loss: 0.0040 - val_accuracy: 0.9980 - epoch_time: 3.1074\n",
            "Epoch 154/500\n",
            "179/179 [==============================] - 3s 14ms/step - loss: 0.0025 - accuracy: 0.9991 - val_loss: 0.0047 - val_accuracy: 0.9984 - epoch_time: 2.4851\n",
            "Epoch 155/500\n",
            "179/179 [==============================] - 2s 13ms/step - loss: 0.0033 - accuracy: 0.9992 - val_loss: 0.0065 - val_accuracy: 0.9976 - epoch_time: 2.3152\n",
            "Epoch 156/500\n",
            "179/179 [==============================] - 2s 13ms/step - loss: 0.0030 - accuracy: 0.9988 - val_loss: 0.0072 - val_accuracy: 0.9972 - epoch_time: 2.3085\n",
            "Epoch 157/500\n",
            "179/179 [==============================] - 2s 13ms/step - loss: 0.0041 - accuracy: 0.9990 - val_loss: 0.0064 - val_accuracy: 0.9976 - epoch_time: 2.2899\n",
            "Epoch 158/500\n",
            "179/179 [==============================] - 3s 17ms/step - loss: 0.0045 - accuracy: 0.9986 - val_loss: 0.0072 - val_accuracy: 0.9980 - epoch_time: 2.8619\n",
            "Epoch 159/500\n",
            "179/179 [==============================] - 3s 16ms/step - loss: 0.0019 - accuracy: 0.9993 - val_loss: 0.0079 - val_accuracy: 0.9980 - epoch_time: 2.7649\n",
            "Epoch 160/500\n",
            "179/179 [==============================] - 2s 13ms/step - loss: 0.0048 - accuracy: 0.9984 - val_loss: 0.0059 - val_accuracy: 0.9976 - epoch_time: 2.1986\n",
            "Epoch 161/500\n",
            "179/179 [==============================] - 2s 13ms/step - loss: 0.0036 - accuracy: 0.9990 - val_loss: 0.0064 - val_accuracy: 0.9968 - epoch_time: 2.1919\n",
            "Epoch 162/500\n",
            "179/179 [==============================] - 2s 13ms/step - loss: 0.0045 - accuracy: 0.9986 - val_loss: 0.0091 - val_accuracy: 0.9972 - epoch_time: 2.2180\n",
            "Epoch 163/500\n",
            "179/179 [==============================] - 2s 14ms/step - loss: 0.0022 - accuracy: 0.9991 - val_loss: 0.0092 - val_accuracy: 0.9961 - epoch_time: 2.3472\n",
            "Epoch 164/500\n",
            "179/179 [==============================] - 3s 18ms/step - loss: 0.0033 - accuracy: 0.9989 - val_loss: 0.0054 - val_accuracy: 0.9980 - epoch_time: 3.0246\n",
            "Epoch 165/500\n",
            "179/179 [==============================] - 3s 14ms/step - loss: 0.0028 - accuracy: 0.9991 - val_loss: 0.0122 - val_accuracy: 0.9976 - epoch_time: 2.4175\n",
            "Epoch 166/500\n",
            "179/179 [==============================] - 2s 13ms/step - loss: 0.0017 - accuracy: 0.9996 - val_loss: 0.0058 - val_accuracy: 0.9976 - epoch_time: 2.3009\n",
            "Epoch 167/500\n",
            "179/179 [==============================] - 2s 13ms/step - loss: 0.0033 - accuracy: 0.9991 - val_loss: 0.0048 - val_accuracy: 0.9980 - epoch_time: 2.2394\n",
            "Epoch 168/500\n",
            "179/179 [==============================] - 2s 13ms/step - loss: 0.0038 - accuracy: 0.9987 - val_loss: 0.0080 - val_accuracy: 0.9980 - epoch_time: 2.2085\n",
            "Epoch 169/500\n",
            "179/179 [==============================] - 3s 16ms/step - loss: 0.0026 - accuracy: 0.9992 - val_loss: 0.0090 - val_accuracy: 0.9972 - epoch_time: 2.6700\n",
            "Epoch 170/500\n",
            "179/179 [==============================] - 3s 16ms/step - loss: 0.0022 - accuracy: 0.9991 - val_loss: 0.0100 - val_accuracy: 0.9976 - epoch_time: 2.7724\n",
            "Epoch 171/500\n",
            "179/179 [==============================] - 2s 13ms/step - loss: 0.0032 - accuracy: 0.9992 - val_loss: 0.0125 - val_accuracy: 0.9976 - epoch_time: 2.1708\n",
            "Epoch 172/500\n",
            "179/179 [==============================] - 2s 13ms/step - loss: 0.0025 - accuracy: 0.9994 - val_loss: 0.0123 - val_accuracy: 0.9972 - epoch_time: 2.2283\n",
            "Epoch 173/500\n",
            "179/179 [==============================] - 2s 13ms/step - loss: 0.0024 - accuracy: 0.9994 - val_loss: 0.0071 - val_accuracy: 0.9976 - epoch_time: 2.2582\n",
            "Epoch 174/500\n",
            "179/179 [==============================] - 2s 13ms/step - loss: 0.0020 - accuracy: 0.9993 - val_loss: 0.0048 - val_accuracy: 0.9980 - epoch_time: 2.2138\n",
            "Epoch 175/500\n",
            "179/179 [==============================] - 3s 17ms/step - loss: 0.0033 - accuracy: 0.9988 - val_loss: 0.0091 - val_accuracy: 0.9972 - epoch_time: 2.9390\n",
            "Epoch 176/500\n",
            "179/179 [==============================] - 3s 14ms/step - loss: 0.0022 - accuracy: 0.9993 - val_loss: 0.0073 - val_accuracy: 0.9976 - epoch_time: 2.4992\n",
            "Epoch 177/500\n",
            "179/179 [==============================] - 2s 13ms/step - loss: 0.0023 - accuracy: 0.9993 - val_loss: 0.0115 - val_accuracy: 0.9968 - epoch_time: 2.2115\n",
            "Epoch 178/500\n",
            "179/179 [==============================] - 2s 13ms/step - loss: 0.0022 - accuracy: 0.9992 - val_loss: 0.0089 - val_accuracy: 0.9988 - epoch_time: 2.2684\n",
            "Epoch 179/500\n",
            "179/179 [==============================] - 2s 13ms/step - loss: 0.0019 - accuracy: 0.9995 - val_loss: 0.0077 - val_accuracy: 0.9992 - epoch_time: 2.2373\n",
            "Epoch 180/500\n",
            "179/179 [==============================] - 3s 15ms/step - loss: 0.0043 - accuracy: 0.9987 - val_loss: 0.0034 - val_accuracy: 0.9988 - epoch_time: 2.5125\n",
            "Epoch 181/500\n",
            "179/179 [==============================] - 3s 17ms/step - loss: 0.0046 - accuracy: 0.9986 - val_loss: 0.0106 - val_accuracy: 0.9964 - epoch_time: 2.9994\n",
            "Epoch 182/500\n",
            "179/179 [==============================] - 2s 13ms/step - loss: 0.0041 - accuracy: 0.9988 - val_loss: 0.0036 - val_accuracy: 0.9984 - epoch_time: 2.2550\n",
            "Epoch 183/500\n",
            "179/179 [==============================] - 2s 13ms/step - loss: 0.0032 - accuracy: 0.9991 - val_loss: 0.0060 - val_accuracy: 0.9984 - epoch_time: 2.2574\n",
            "Epoch 184/500\n",
            "179/179 [==============================] - 2s 13ms/step - loss: 0.0024 - accuracy: 0.9993 - val_loss: 0.0076 - val_accuracy: 0.9980 - epoch_time: 2.2316\n",
            "Epoch 185/500\n",
            "179/179 [==============================] - 2s 13ms/step - loss: 0.0044 - accuracy: 0.9986 - val_loss: 0.0085 - val_accuracy: 0.9980 - epoch_time: 2.2371\n",
            "Epoch 186/500\n",
            "179/179 [==============================] - 3s 17ms/step - loss: 0.0025 - accuracy: 0.9993 - val_loss: 0.0081 - val_accuracy: 0.9984 - epoch_time: 2.9048\n",
            "Epoch 187/500\n",
            "179/179 [==============================] - 3s 15ms/step - loss: 0.0025 - accuracy: 0.9991 - val_loss: 0.0094 - val_accuracy: 0.9980 - epoch_time: 2.5621\n",
            "Epoch 188/500\n",
            "179/179 [==============================] - 2s 13ms/step - loss: 0.0033 - accuracy: 0.9991 - val_loss: 0.0118 - val_accuracy: 0.9968 - epoch_time: 2.2801\n",
            "Epoch 189/500\n",
            "179/179 [==============================] - 2s 13ms/step - loss: 0.0028 - accuracy: 0.9991 - val_loss: 0.0086 - val_accuracy: 0.9976 - epoch_time: 2.2249\n",
            "Epoch 190/500\n",
            "179/179 [==============================] - 2s 13ms/step - loss: 0.0032 - accuracy: 0.9989 - val_loss: 0.0050 - val_accuracy: 0.9976 - epoch_time: 2.2282\n",
            "Epoch 191/500\n",
            "179/179 [==============================] - 2s 14ms/step - loss: 0.0012 - accuracy: 0.9995 - val_loss: 0.0056 - val_accuracy: 0.9976 - epoch_time: 2.3408\n",
            "Epoch 192/500\n",
            "179/179 [==============================] - 3s 18ms/step - loss: 0.0036 - accuracy: 0.9990 - val_loss: 0.0047 - val_accuracy: 0.9976 - epoch_time: 3.0221\n",
            "Epoch 193/500\n",
            "179/179 [==============================] - 2s 14ms/step - loss: 0.0027 - accuracy: 0.9994 - val_loss: 0.0046 - val_accuracy: 0.9984 - epoch_time: 2.3639\n",
            "Epoch 194/500\n",
            "179/179 [==============================] - 2s 13ms/step - loss: 0.0034 - accuracy: 0.9990 - val_loss: 0.0046 - val_accuracy: 0.9980 - epoch_time: 2.2369\n",
            "Epoch 195/500\n",
            "179/179 [==============================] - 2s 13ms/step - loss: 0.0033 - accuracy: 0.9988 - val_loss: 0.0049 - val_accuracy: 0.9968 - epoch_time: 2.1775\n",
            "Epoch 196/500\n",
            "179/179 [==============================] - 2s 13ms/step - loss: 0.0034 - accuracy: 0.9991 - val_loss: 0.0116 - val_accuracy: 0.9968 - epoch_time: 2.2524\n",
            "Epoch 197/500\n",
            "179/179 [==============================] - 3s 16ms/step - loss: 0.0031 - accuracy: 0.9991 - val_loss: 0.0074 - val_accuracy: 0.9972 - epoch_time: 2.7749\n",
            "Epoch 198/500\n",
            "179/179 [==============================] - 3s 16ms/step - loss: 0.0027 - accuracy: 0.9994 - val_loss: 0.0059 - val_accuracy: 0.9980 - epoch_time: 2.7283\n",
            "Epoch 199/500\n",
            "179/179 [==============================] - 2s 13ms/step - loss: 0.0033 - accuracy: 0.9990 - val_loss: 0.0083 - val_accuracy: 0.9976 - epoch_time: 2.2710\n",
            "Epoch 200/500\n",
            "179/179 [==============================] - 2s 13ms/step - loss: 0.0029 - accuracy: 0.9988 - val_loss: 0.0077 - val_accuracy: 0.9968 - epoch_time: 2.2875\n",
            "Epoch 201/500\n",
            "179/179 [==============================] - 2s 14ms/step - loss: 0.0018 - accuracy: 0.9995 - val_loss: 0.0051 - val_accuracy: 0.9980 - epoch_time: 2.3462\n",
            "Epoch 202/500\n",
            "179/179 [==============================] - 3s 14ms/step - loss: 0.0015 - accuracy: 0.9995 - val_loss: 0.0033 - val_accuracy: 0.9984 - epoch_time: 2.4714\n",
            "Epoch 203/500\n",
            "179/179 [==============================] - 3s 18ms/step - loss: 0.0026 - accuracy: 0.9990 - val_loss: 0.0043 - val_accuracy: 0.9984 - epoch_time: 3.1448\n",
            "Epoch 204/500\n",
            "179/179 [==============================] - 2s 14ms/step - loss: 0.0026 - accuracy: 0.9994 - val_loss: 0.0058 - val_accuracy: 0.9980 - epoch_time: 2.3327\n",
            "Epoch 205/500\n",
            "179/179 [==============================] - 3s 14ms/step - loss: 0.0030 - accuracy: 0.9991 - val_loss: 0.0042 - val_accuracy: 0.9980 - epoch_time: 2.4285\n",
            "Epoch 206/500\n",
            "179/179 [==============================] - 3s 18ms/step - loss: 0.0035 - accuracy: 0.9988 - val_loss: 0.0032 - val_accuracy: 0.9980 - epoch_time: 2.4110\n",
            "Epoch 207/500\n",
            "179/179 [==============================] - 3s 15ms/step - loss: 0.0020 - accuracy: 0.9994 - val_loss: 0.0046 - val_accuracy: 0.9984 - epoch_time: 2.4915\n",
            "Epoch 208/500\n",
            "179/179 [==============================] - 3s 19ms/step - loss: 0.0023 - accuracy: 0.9990 - val_loss: 0.0026 - val_accuracy: 0.9988 - epoch_time: 3.1607\n",
            "Epoch 209/500\n",
            "179/179 [==============================] - 2s 13ms/step - loss: 0.0015 - accuracy: 0.9993 - val_loss: 0.0068 - val_accuracy: 0.9980 - epoch_time: 2.2668\n",
            "Epoch 210/500\n",
            "179/179 [==============================] - 2s 13ms/step - loss: 0.0018 - accuracy: 0.9993 - val_loss: 0.0047 - val_accuracy: 0.9980 - epoch_time: 2.2887\n",
            "Epoch 211/500\n",
            "179/179 [==============================] - 2s 13ms/step - loss: 0.0023 - accuracy: 0.9994 - val_loss: 0.0050 - val_accuracy: 0.9984 - epoch_time: 2.2843\n",
            "Epoch 212/500\n",
            "179/179 [==============================] - 2s 13ms/step - loss: 0.0021 - accuracy: 0.9993 - val_loss: 0.0042 - val_accuracy: 0.9984 - epoch_time: 2.2782\n",
            "Epoch 213/500\n",
            "179/179 [==============================] - 3s 18ms/step - loss: 0.0023 - accuracy: 0.9993 - val_loss: 0.0077 - val_accuracy: 0.9976 - epoch_time: 3.0709\n",
            "Epoch 214/500\n",
            "179/179 [==============================] - 3s 15ms/step - loss: 0.0041 - accuracy: 0.9988 - val_loss: 0.0052 - val_accuracy: 0.9980 - epoch_time: 2.6277\n",
            "Epoch 215/500\n",
            "179/179 [==============================] - 2s 13ms/step - loss: 0.0038 - accuracy: 0.9994 - val_loss: 0.0108 - val_accuracy: 0.9968 - epoch_time: 2.3041\n",
            "Epoch 216/500\n",
            "179/179 [==============================] - 2s 14ms/step - loss: 0.0024 - accuracy: 0.9993 - val_loss: 0.0080 - val_accuracy: 0.9980 - epoch_time: 2.3461\n",
            "Epoch 217/500\n",
            "179/179 [==============================] - 2s 13ms/step - loss: 0.0021 - accuracy: 0.9991 - val_loss: 0.0061 - val_accuracy: 0.9976 - epoch_time: 2.3047\n",
            "Epoch 218/500\n",
            "179/179 [==============================] - 3s 15ms/step - loss: 0.0028 - accuracy: 0.9991 - val_loss: 0.0080 - val_accuracy: 0.9976 - epoch_time: 2.6333\n",
            "Epoch 219/500\n",
            "179/179 [==============================] - 3s 17ms/step - loss: 0.0040 - accuracy: 0.9988 - val_loss: 0.0130 - val_accuracy: 0.9957 - epoch_time: 2.9127\n",
            "Epoch 220/500\n",
            "179/179 [==============================] - 2s 13ms/step - loss: 0.0028 - accuracy: 0.9991 - val_loss: 0.0089 - val_accuracy: 0.9964 - epoch_time: 2.2481\n",
            "Epoch 221/500\n",
            "179/179 [==============================] - 2s 13ms/step - loss: 0.0033 - accuracy: 0.9991 - val_loss: 0.0065 - val_accuracy: 0.9972 - epoch_time: 2.2344\n",
            "Epoch 222/500\n",
            "179/179 [==============================] - 2s 13ms/step - loss: 0.0017 - accuracy: 0.9995 - val_loss: 0.0073 - val_accuracy: 0.9988 - epoch_time: 2.2177\n",
            "Epoch 223/500\n",
            "179/179 [==============================] - 2s 13ms/step - loss: 0.0018 - accuracy: 0.9995 - val_loss: 0.0069 - val_accuracy: 0.9980 - epoch_time: 2.2834\n",
            "Epoch 224/500\n",
            "179/179 [==============================] - 3s 17ms/step - loss: 0.0017 - accuracy: 0.9994 - val_loss: 0.0080 - val_accuracy: 0.9976 - epoch_time: 2.8675\n",
            "Epoch 225/500\n",
            "179/179 [==============================] - 3s 15ms/step - loss: 0.0027 - accuracy: 0.9993 - val_loss: 0.0057 - val_accuracy: 0.9988 - epoch_time: 2.6457\n",
            "Epoch 226/500\n",
            "179/179 [==============================] - 3s 19ms/step - loss: 0.0029 - accuracy: 0.9992 - val_loss: 0.0026 - val_accuracy: 0.9976 - epoch_time: 2.2186\n",
            "Epoch 227/500\n",
            "179/179 [==============================] - 2s 13ms/step - loss: 0.0019 - accuracy: 0.9993 - val_loss: 0.0090 - val_accuracy: 0.9976 - epoch_time: 2.2084\n",
            "Epoch 228/500\n",
            "179/179 [==============================] - 2s 13ms/step - loss: 0.0044 - accuracy: 0.9985 - val_loss: 0.0063 - val_accuracy: 0.9976 - epoch_time: 2.2062\n",
            "Epoch 229/500\n",
            "179/179 [==============================] - 3s 16ms/step - loss: 0.0015 - accuracy: 0.9995 - val_loss: 0.0054 - val_accuracy: 0.9988 - epoch_time: 2.7147\n",
            "Epoch 230/500\n",
            "179/179 [==============================] - 3s 16ms/step - loss: 0.0022 - accuracy: 0.9996 - val_loss: 0.0064 - val_accuracy: 0.9980 - epoch_time: 2.6892\n",
            "Epoch 231/500\n",
            "179/179 [==============================] - 2s 13ms/step - loss: 0.0041 - accuracy: 0.9987 - val_loss: 0.0062 - val_accuracy: 0.9972 - epoch_time: 2.2054\n",
            "Epoch 232/500\n",
            "179/179 [==============================] - 2s 13ms/step - loss: 0.0028 - accuracy: 0.9992 - val_loss: 0.0090 - val_accuracy: 0.9968 - epoch_time: 2.1989\n",
            "Epoch 233/500\n",
            "179/179 [==============================] - 2s 13ms/step - loss: 0.0026 - accuracy: 0.9990 - val_loss: 0.0074 - val_accuracy: 0.9980 - epoch_time: 2.1830\n",
            "Epoch 234/500\n",
            "179/179 [==============================] - 2s 13ms/step - loss: 0.0029 - accuracy: 0.9988 - val_loss: 0.0061 - val_accuracy: 0.9976 - epoch_time: 2.2030\n",
            "Epoch 235/500\n",
            "179/179 [==============================] - 3s 17ms/step - loss: 0.0016 - accuracy: 0.9995 - val_loss: 0.0087 - val_accuracy: 0.9972 - epoch_time: 2.9231\n",
            "Epoch 236/500\n",
            "179/179 [==============================] - 3s 15ms/step - loss: 0.0035 - accuracy: 0.9991 - val_loss: 0.0064 - val_accuracy: 0.9980 - epoch_time: 2.5201\n",
            "Epoch 237/500\n",
            "179/179 [==============================] - 2s 13ms/step - loss: 0.0023 - accuracy: 0.9993 - val_loss: 0.0147 - val_accuracy: 0.9968 - epoch_time: 2.2274\n",
            "Epoch 238/500\n",
            "179/179 [==============================] - 2s 14ms/step - loss: 0.0040 - accuracy: 0.9988 - val_loss: 0.0087 - val_accuracy: 0.9972 - epoch_time: 2.3507\n",
            "Epoch 239/500\n",
            "179/179 [==============================] - 2s 13ms/step - loss: 0.0023 - accuracy: 0.9992 - val_loss: 0.0071 - val_accuracy: 0.9976 - epoch_time: 2.2836\n",
            "Epoch 240/500\n",
            "179/179 [==============================] - 3s 15ms/step - loss: 0.0017 - accuracy: 0.9992 - val_loss: 0.0059 - val_accuracy: 0.9984 - epoch_time: 2.5710\n",
            "Epoch 241/500\n",
            "179/179 [==============================] - 3s 16ms/step - loss: 0.0030 - accuracy: 0.9993 - val_loss: 0.0103 - val_accuracy: 0.9972 - epoch_time: 2.8304\n",
            "Epoch 242/500\n",
            "179/179 [==============================] - 2s 13ms/step - loss: 0.0044 - accuracy: 0.9987 - val_loss: 0.0084 - val_accuracy: 0.9976 - epoch_time: 2.2256\n",
            "Epoch 243/500\n",
            "179/179 [==============================] - 2s 13ms/step - loss: 0.0019 - accuracy: 0.9993 - val_loss: 0.0058 - val_accuracy: 0.9984 - epoch_time: 2.2297\n",
            "Epoch 244/500\n",
            "179/179 [==============================] - 2s 13ms/step - loss: 0.0038 - accuracy: 0.9989 - val_loss: 0.0080 - val_accuracy: 0.9980 - epoch_time: 2.2215\n",
            "Epoch 245/500\n",
            "179/179 [==============================] - 2s 13ms/step - loss: 0.0018 - accuracy: 0.9993 - val_loss: 0.0122 - val_accuracy: 0.9976 - epoch_time: 2.1711\n",
            "Epoch 246/500\n",
            "179/179 [==============================] - 3s 16ms/step - loss: 0.0019 - accuracy: 0.9996 - val_loss: 0.0124 - val_accuracy: 0.9976 - epoch_time: 2.7874\n",
            "Epoch 247/500\n",
            "179/179 [==============================] - 3s 17ms/step - loss: 0.0024 - accuracy: 0.9995 - val_loss: 0.0096 - val_accuracy: 0.9980 - epoch_time: 2.8851\n",
            "Epoch 248/500\n",
            "179/179 [==============================] - 2s 14ms/step - loss: 0.0018 - accuracy: 0.9994 - val_loss: 0.0213 - val_accuracy: 0.9968 - epoch_time: 2.3666\n",
            "Epoch 249/500\n",
            "179/179 [==============================] - 2s 13ms/step - loss: 0.0048 - accuracy: 0.9983 - val_loss: 0.0106 - val_accuracy: 0.9980 - epoch_time: 2.3049\n",
            "Epoch 250/500\n",
            "179/179 [==============================] - 3s 14ms/step - loss: 0.0024 - accuracy: 0.9993 - val_loss: 0.0133 - val_accuracy: 0.9980 - epoch_time: 2.4146\n",
            "Epoch 251/500\n",
            "179/179 [==============================] - 3s 15ms/step - loss: 0.0029 - accuracy: 0.9990 - val_loss: 0.0116 - val_accuracy: 0.9972 - epoch_time: 2.5081\n",
            "Epoch 252/500\n",
            "179/179 [==============================] - 3s 17ms/step - loss: 7.5489e-04 - accuracy: 0.9998 - val_loss: 0.0161 - val_accuracy: 0.9972 - epoch_time: 2.9598\n",
            "Epoch 253/500\n",
            "179/179 [==============================] - 3s 14ms/step - loss: 0.0030 - accuracy: 0.9992 - val_loss: 0.0116 - val_accuracy: 0.9968 - epoch_time: 2.4210\n",
            "Epoch 254/500\n",
            "179/179 [==============================] - 2s 13ms/step - loss: 0.0030 - accuracy: 0.9993 - val_loss: 0.0137 - val_accuracy: 0.9968 - epoch_time: 2.2719\n",
            "Epoch 255/500\n",
            "179/179 [==============================] - 2s 13ms/step - loss: 0.0024 - accuracy: 0.9992 - val_loss: 0.0101 - val_accuracy: 0.9968 - epoch_time: 2.2889\n",
            "Epoch 256/500\n",
            "179/179 [==============================] - 2s 14ms/step - loss: 0.0021 - accuracy: 0.9992 - val_loss: 0.0081 - val_accuracy: 0.9984 - epoch_time: 2.3333\n",
            "Epoch 257/500\n",
            "179/179 [==============================] - 3s 16ms/step - loss: 0.0034 - accuracy: 0.9993 - val_loss: 0.0122 - val_accuracy: 0.9968 - epoch_time: 2.8142\n",
            "Epoch 258/500\n",
            "179/179 [==============================] - 3s 17ms/step - loss: 0.0019 - accuracy: 0.9994 - val_loss: 0.0108 - val_accuracy: 0.9976 - epoch_time: 3.0030\n",
            "Epoch 259/500\n",
            "179/179 [==============================] - 3s 14ms/step - loss: 0.0016 - accuracy: 0.9994 - val_loss: 0.0065 - val_accuracy: 0.9980 - epoch_time: 2.4155\n",
            "Epoch 260/500\n",
            "179/179 [==============================] - 3s 14ms/step - loss: 0.0028 - accuracy: 0.9991 - val_loss: 0.0036 - val_accuracy: 0.9976 - epoch_time: 2.4096\n",
            "Epoch 261/500\n",
            "179/179 [==============================] - 3s 14ms/step - loss: 0.0031 - accuracy: 0.9993 - val_loss: 0.0026 - val_accuracy: 0.9988 - epoch_time: 2.4778\n",
            "Epoch 262/500\n",
            "179/179 [==============================] - 3s 16ms/step - loss: 0.0018 - accuracy: 0.9994 - val_loss: 0.0076 - val_accuracy: 0.9980 - epoch_time: 2.7424\n",
            "Epoch 263/500\n",
            "179/179 [==============================] - 3s 18ms/step - loss: 0.0013 - accuracy: 0.9995 - val_loss: 0.0046 - val_accuracy: 0.9988 - epoch_time: 3.1089\n",
            "Epoch 264/500\n",
            "179/179 [==============================] - 2s 14ms/step - loss: 0.0016 - accuracy: 0.9995 - val_loss: 0.0130 - val_accuracy: 0.9968 - epoch_time: 2.3472\n",
            "Epoch 265/500\n",
            "179/179 [==============================] - 2s 14ms/step - loss: 0.0027 - accuracy: 0.9991 - val_loss: 0.0079 - val_accuracy: 0.9976 - epoch_time: 2.3765\n",
            "Epoch 266/500\n",
            "179/179 [==============================] - 3s 14ms/step - loss: 0.0029 - accuracy: 0.9989 - val_loss: 0.0141 - val_accuracy: 0.9980 - epoch_time: 2.4020\n",
            "Epoch 267/500\n",
            "179/179 [==============================] - 2s 14ms/step - loss: 0.0031 - accuracy: 0.9993 - val_loss: 0.0085 - val_accuracy: 0.9984 - epoch_time: 2.3731\n",
            "Epoch 268/500\n",
            "179/179 [==============================] - 3s 18ms/step - loss: 0.0024 - accuracy: 0.9989 - val_loss: 0.0097 - val_accuracy: 0.9984 - epoch_time: 3.0947\n",
            "Epoch 269/500\n",
            "179/179 [==============================] - 3s 16ms/step - loss: 0.0027 - accuracy: 0.9991 - val_loss: 0.0080 - val_accuracy: 0.9980 - epoch_time: 2.7701\n",
            "Epoch 270/500\n",
            "179/179 [==============================] - 3s 14ms/step - loss: 0.0015 - accuracy: 0.9995 - val_loss: 0.0053 - val_accuracy: 0.9992 - epoch_time: 2.4205\n",
            "Epoch 271/500\n",
            "179/179 [==============================] - 2s 14ms/step - loss: 0.0026 - accuracy: 0.9992 - val_loss: 0.0067 - val_accuracy: 0.9984 - epoch_time: 2.3356\n",
            "Epoch 272/500\n",
            "179/179 [==============================] - 2s 14ms/step - loss: 0.0046 - accuracy: 0.9989 - val_loss: 0.0028 - val_accuracy: 0.9988 - epoch_time: 2.3961\n",
            "Epoch 273/500\n",
            "179/179 [==============================] - 3s 17ms/step - loss: 0.0019 - accuracy: 0.9994 - val_loss: 0.0044 - val_accuracy: 0.9984 - epoch_time: 3.0122\n",
            "Epoch 274/500\n",
            "179/179 [==============================] - 3s 17ms/step - loss: 0.0017 - accuracy: 0.9995 - val_loss: 0.0048 - val_accuracy: 0.9984 - epoch_time: 2.8615\n",
            "Epoch 275/500\n",
            "179/179 [==============================] - 3s 14ms/step - loss: 0.0017 - accuracy: 0.9996 - val_loss: 0.0070 - val_accuracy: 0.9988 - epoch_time: 2.4028\n",
            "Epoch 276/500\n",
            "179/179 [==============================] - 3s 14ms/step - loss: 0.0046 - accuracy: 0.9989 - val_loss: 0.0058 - val_accuracy: 0.9980 - epoch_time: 2.4421\n",
            "Epoch 277/500\n",
            "179/179 [==============================] - 2s 14ms/step - loss: 0.0035 - accuracy: 0.9988 - val_loss: 0.0054 - val_accuracy: 0.9980 - epoch_time: 2.4048\n",
            "Epoch 278/500\n",
            "179/179 [==============================] - 3s 16ms/step - loss: 0.0020 - accuracy: 0.9994 - val_loss: 0.0053 - val_accuracy: 0.9984 - epoch_time: 2.7353\n",
            "Epoch 279/500\n",
            "179/179 [==============================] - 3s 18ms/step - loss: 0.0022 - accuracy: 0.9994 - val_loss: 0.0043 - val_accuracy: 0.9980 - epoch_time: 3.1105\n"
          ]
        }
      ]
    },
    {
      "cell_type": "code",
      "source": [
        "print(model_sensor1.summary())"
      ],
      "metadata": {
        "colab": {
          "base_uri": "https://localhost:8080/"
        },
        "id": "sgiNWkr6oVcq",
        "outputId": "f77c6383-788a-4e83-c155-ce1e6d7a998a"
      },
      "execution_count": null,
      "outputs": [
        {
          "output_type": "stream",
          "name": "stdout",
          "text": [
            "Model: \"sequential\"\n",
            "_________________________________________________________________\n",
            " Layer (type)                Output Shape              Param #   \n",
            "=================================================================\n",
            " conv1d (Conv1D)             (None, 10, 40)            400       \n",
            "                                                                 \n",
            " dropout (Dropout)           (None, 10, 40)            0         \n",
            "                                                                 \n",
            " conv1d_1 (Conv1D)           (None, 10, 60)            7260      \n",
            "                                                                 \n",
            " dropout_1 (Dropout)         (None, 10, 60)            0         \n",
            "                                                                 \n",
            " conv1d_2 (Conv1D)           (None, 10, 60)            10860     \n",
            "                                                                 \n",
            " dropout_2 (Dropout)         (None, 10, 60)            0         \n",
            "                                                                 \n",
            " global_max_pooling1d (Globa  (None, 60)               0         \n",
            " lMaxPooling1D)                                                  \n",
            "                                                                 \n",
            " repeat_vector (RepeatVector  (None, 10, 60)           0         \n",
            " )                                                               \n",
            "                                                                 \n",
            " lstm (LSTM)                 (None, 10, 256)           324608    \n",
            "                                                                 \n",
            " dropout_3 (Dropout)         (None, 10, 256)           0         \n",
            "                                                                 \n",
            " lstm_1 (LSTM)               (None, 10, 128)           197120    \n",
            "                                                                 \n",
            " dropout_4 (Dropout)         (None, 10, 128)           0         \n",
            "                                                                 \n",
            " lstm_2 (LSTM)               (None, 64)                49408     \n",
            "                                                                 \n",
            " dropout_5 (Dropout)         (None, 64)                0         \n",
            "                                                                 \n",
            " dense (Dense)               (None, 32)                2080      \n",
            "                                                                 \n",
            " dense_1 (Dense)             (None, 16)                528       \n",
            "                                                                 \n",
            " dense_2 (Dense)             (None, 2)                 34        \n",
            "                                                                 \n",
            "=================================================================\n",
            "Total params: 592,298\n",
            "Trainable params: 592,298\n",
            "Non-trainable params: 0\n",
            "_________________________________________________________________\n",
            "None\n"
          ]
        }
      ]
    },
    {
      "cell_type": "code",
      "source": [
        "plot_model(model= model_sensor1, show_shapes= True, dpi=50)"
      ],
      "metadata": {
        "colab": {
          "base_uri": "https://localhost:8080/",
          "height": 1000
        },
        "id": "rWZpn8SyoZo6",
        "outputId": "0bc00701-7dcb-4352-995e-5594257baaf7"
      },
      "execution_count": null,
      "outputs": [
        {
          "output_type": "execute_result",
          "data": {
            "image/png": "[encoded data removed]",
            "text/plain": [
              "<IPython.core.display.Image object>"
            ]
          },
          "metadata": {},
          "execution_count": 48
        }
      ]
    },
    {
      "cell_type": "code",
      "metadata": {
        "colab": {
          "base_uri": "https://localhost:8080/"
        },
        "id": "8f2f6m1IAR7A",
        "outputId": "0f51bab5-9e5d-40c6-c321-ea39ba522606"
      },
      "source": [
        "sensor = \"sensor2\"\n",
        "time_callback = TimeHistory()\n",
        "model_sensor2 = creatModel()\n",
        "model_save, checkpoint, history_cb, Estop = setCallbacks(\"sensor2\")\n",
        "history_sensor2 = model_sensor2.fit(X_train_sensor2, y_train_sensor2,\n",
        "                                    batch_size = 128, epochs = 500,\n",
        "                                    validation_split = 0.1,\n",
        "                                    verbose = 1,\n",
        "                                    callbacks = [time_callback, model_save, checkpoint, history_cb, Estop])\n",
        "                                    # class_weight= class_weights)#"
      ],
      "execution_count": null,
      "outputs": [
        {
          "output_type": "stream",
          "name": "stdout",
          "text": [
            "Epoch 1/500\n",
            "179/179 [==============================] - 9s 23ms/step - loss: 0.2099 - accuracy: 0.9255 - val_loss: 0.1175 - val_accuracy: 0.9578 - epoch_time: 9.3213\n",
            "Epoch 2/500\n",
            "179/179 [==============================] - 2s 13ms/step - loss: 0.0900 - accuracy: 0.9727 - val_loss: 0.0732 - val_accuracy: 0.9791 - epoch_time: 2.2051\n",
            "Epoch 3/500\n",
            "179/179 [==============================] - 2s 14ms/step - loss: 0.0773 - accuracy: 0.9748 - val_loss: 0.0679 - val_accuracy: 0.9739 - epoch_time: 2.2690\n",
            "Epoch 4/500\n",
            "179/179 [==============================] - 2s 13ms/step - loss: 0.0625 - accuracy: 0.9795 - val_loss: 0.0558 - val_accuracy: 0.9842 - epoch_time: 2.1639\n",
            "Epoch 5/500\n",
            "179/179 [==============================] - 3s 15ms/step - loss: 0.0532 - accuracy: 0.9824 - val_loss: 0.0497 - val_accuracy: 0.9838 - epoch_time: 2.5449\n",
            "Epoch 6/500\n",
            "179/179 [==============================] - 3s 17ms/step - loss: 0.0483 - accuracy: 0.9830 - val_loss: 0.0482 - val_accuracy: 0.9858 - epoch_time: 2.9168\n",
            "Epoch 7/500\n",
            "179/179 [==============================] - 2s 13ms/step - loss: 0.0422 - accuracy: 0.9866 - val_loss: 0.0466 - val_accuracy: 0.9842 - epoch_time: 2.1928\n",
            "Epoch 8/500\n",
            "179/179 [==============================] - 2s 13ms/step - loss: 0.0417 - accuracy: 0.9862 - val_loss: 0.0526 - val_accuracy: 0.9811 - epoch_time: 2.1961\n",
            "Epoch 9/500\n",
            "179/179 [==============================] - 2s 14ms/step - loss: 0.0392 - accuracy: 0.9858 - val_loss: 0.0424 - val_accuracy: 0.9882 - epoch_time: 2.2491\n",
            "Epoch 10/500\n",
            "179/179 [==============================] - 2s 13ms/step - loss: 0.0356 - accuracy: 0.9883 - val_loss: 0.0365 - val_accuracy: 0.9874 - epoch_time: 2.1497\n",
            "Epoch 11/500\n",
            "179/179 [==============================] - 3s 18ms/step - loss: 0.0348 - accuracy: 0.9884 - val_loss: 0.0412 - val_accuracy: 0.9850 - epoch_time: 3.0768\n",
            "Epoch 12/500\n",
            "179/179 [==============================] - 3s 14ms/step - loss: 0.0336 - accuracy: 0.9884 - val_loss: 0.0294 - val_accuracy: 0.9893 - epoch_time: 2.3965\n",
            "Epoch 13/500\n",
            "179/179 [==============================] - 2s 13ms/step - loss: 0.0307 - accuracy: 0.9890 - val_loss: 0.0270 - val_accuracy: 0.9897 - epoch_time: 2.2103\n",
            "Epoch 14/500\n",
            "179/179 [==============================] - 2s 13ms/step - loss: 0.0296 - accuracy: 0.9890 - val_loss: 0.0234 - val_accuracy: 0.9921 - epoch_time: 2.2204\n",
            "Epoch 15/500\n",
            "179/179 [==============================] - 2s 13ms/step - loss: 0.0278 - accuracy: 0.9896 - val_loss: 0.0266 - val_accuracy: 0.9905 - epoch_time: 2.2279\n",
            "Epoch 16/500\n",
            "179/179 [==============================] - 3s 17ms/step - loss: 0.0265 - accuracy: 0.9911 - val_loss: 0.0286 - val_accuracy: 0.9905 - epoch_time: 2.9199\n",
            "Epoch 17/500\n",
            "179/179 [==============================] - 3s 16ms/step - loss: 0.0277 - accuracy: 0.9906 - val_loss: 0.0301 - val_accuracy: 0.9893 - epoch_time: 2.6930\n",
            "Epoch 18/500\n",
            "179/179 [==============================] - 3s 18ms/step - loss: 0.0233 - accuracy: 0.9913 - val_loss: 0.0211 - val_accuracy: 0.9941 - epoch_time: 2.1941\n",
            "Epoch 19/500\n",
            "179/179 [==============================] - 2s 14ms/step - loss: 0.0223 - accuracy: 0.9925 - val_loss: 0.0193 - val_accuracy: 0.9933 - epoch_time: 2.2308\n",
            "Epoch 20/500\n",
            "179/179 [==============================] - 2s 13ms/step - loss: 0.0225 - accuracy: 0.9920 - val_loss: 0.0215 - val_accuracy: 0.9917 - epoch_time: 2.2120\n",
            "Epoch 21/500\n",
            "179/179 [==============================] - 3s 17ms/step - loss: 0.0217 - accuracy: 0.9921 - val_loss: 0.0202 - val_accuracy: 0.9929 - epoch_time: 2.8882\n",
            "Epoch 22/500\n",
            "179/179 [==============================] - 3s 16ms/step - loss: 0.0208 - accuracy: 0.9930 - val_loss: 0.0177 - val_accuracy: 0.9941 - epoch_time: 2.6841\n",
            "Epoch 23/500\n",
            "179/179 [==============================] - 2s 13ms/step - loss: 0.0228 - accuracy: 0.9915 - val_loss: 0.0210 - val_accuracy: 0.9897 - epoch_time: 2.2466\n",
            "Epoch 24/500\n",
            "179/179 [==============================] - 2s 13ms/step - loss: 0.0198 - accuracy: 0.9931 - val_loss: 0.0213 - val_accuracy: 0.9941 - epoch_time: 2.1892\n",
            "Epoch 25/500\n",
            "179/179 [==============================] - 2s 13ms/step - loss: 0.0185 - accuracy: 0.9940 - val_loss: 0.0210 - val_accuracy: 0.9913 - epoch_time: 2.2594\n",
            "Epoch 26/500\n",
            "179/179 [==============================] - 3s 15ms/step - loss: 0.0191 - accuracy: 0.9929 - val_loss: 0.0184 - val_accuracy: 0.9945 - epoch_time: 2.5587\n",
            "Epoch 27/500\n",
            "179/179 [==============================] - 4s 23ms/step - loss: 0.0173 - accuracy: 0.9937 - val_loss: 0.0155 - val_accuracy: 0.9937 - epoch_time: 3.1013\n",
            "Epoch 28/500\n",
            "179/179 [==============================] - 2s 13ms/step - loss: 0.0166 - accuracy: 0.9938 - val_loss: 0.0178 - val_accuracy: 0.9941 - epoch_time: 2.2507\n",
            "Epoch 29/500\n",
            "179/179 [==============================] - 2s 14ms/step - loss: 0.0185 - accuracy: 0.9929 - val_loss: 0.0133 - val_accuracy: 0.9968 - epoch_time: 2.2634\n",
            "Epoch 30/500\n",
            "179/179 [==============================] - 2s 14ms/step - loss: 0.0151 - accuracy: 0.9951 - val_loss: 0.0123 - val_accuracy: 0.9964 - epoch_time: 2.3024\n",
            "Epoch 31/500\n",
            "179/179 [==============================] - 3s 15ms/step - loss: 0.0194 - accuracy: 0.9932 - val_loss: 0.0136 - val_accuracy: 0.9941 - epoch_time: 2.6397\n",
            "Epoch 32/500\n",
            "179/179 [==============================] - 3s 17ms/step - loss: 0.0144 - accuracy: 0.9947 - val_loss: 0.0188 - val_accuracy: 0.9925 - epoch_time: 2.9615\n",
            "Epoch 33/500\n",
            "179/179 [==============================] - 2s 13ms/step - loss: 0.0146 - accuracy: 0.9943 - val_loss: 0.0142 - val_accuracy: 0.9937 - epoch_time: 2.2315\n",
            "Epoch 34/500\n",
            "179/179 [==============================] - 3s 18ms/step - loss: 0.0145 - accuracy: 0.9947 - val_loss: 0.0122 - val_accuracy: 0.9957 - epoch_time: 2.3000\n",
            "Epoch 35/500\n",
            "179/179 [==============================] - 2s 14ms/step - loss: 0.0138 - accuracy: 0.9944 - val_loss: 0.0117 - val_accuracy: 0.9964 - epoch_time: 2.2513\n",
            "Epoch 36/500\n",
            "179/179 [==============================] - 3s 15ms/step - loss: 0.0202 - accuracy: 0.9932 - val_loss: 0.0147 - val_accuracy: 0.9953 - epoch_time: 2.6468\n",
            "Epoch 37/500\n",
            "179/179 [==============================] - 3s 18ms/step - loss: 0.0161 - accuracy: 0.9944 - val_loss: 0.0109 - val_accuracy: 0.9957 - epoch_time: 3.0517\n",
            "Epoch 38/500\n",
            "179/179 [==============================] - 2s 13ms/step - loss: 0.0136 - accuracy: 0.9952 - val_loss: 0.0121 - val_accuracy: 0.9949 - epoch_time: 2.2161\n",
            "Epoch 39/500\n",
            "179/179 [==============================] - 2s 13ms/step - loss: 0.0114 - accuracy: 0.9955 - val_loss: 0.0166 - val_accuracy: 0.9937 - epoch_time: 2.3150\n",
            "Epoch 40/500\n",
            "179/179 [==============================] - 2s 13ms/step - loss: 0.0119 - accuracy: 0.9956 - val_loss: 0.0142 - val_accuracy: 0.9953 - epoch_time: 2.3068\n",
            "Epoch 41/500\n",
            "179/179 [==============================] - 3s 14ms/step - loss: 0.0115 - accuracy: 0.9959 - val_loss: 0.0131 - val_accuracy: 0.9964 - epoch_time: 2.4105\n",
            "Epoch 42/500\n",
            "179/179 [==============================] - 3s 18ms/step - loss: 0.0140 - accuracy: 0.9948 - val_loss: 0.0124 - val_accuracy: 0.9941 - epoch_time: 3.0936\n",
            "Epoch 43/500\n",
            "179/179 [==============================] - 3s 18ms/step - loss: 0.0114 - accuracy: 0.9961 - val_loss: 0.0107 - val_accuracy: 0.9968 - epoch_time: 2.2792\n",
            "Epoch 44/500\n",
            "179/179 [==============================] - 2s 14ms/step - loss: 0.0114 - accuracy: 0.9953 - val_loss: 0.0101 - val_accuracy: 0.9964 - epoch_time: 2.2812\n",
            "Epoch 45/500\n",
            "179/179 [==============================] - 2s 14ms/step - loss: 0.0127 - accuracy: 0.9955 - val_loss: 0.0082 - val_accuracy: 0.9976 - epoch_time: 2.2394\n",
            "Epoch 46/500\n",
            "179/179 [==============================] - 2s 14ms/step - loss: 0.0105 - accuracy: 0.9964 - val_loss: 0.0169 - val_accuracy: 0.9933 - epoch_time: 2.3900\n",
            "Epoch 47/500\n",
            "179/179 [==============================] - 3s 18ms/step - loss: 0.0092 - accuracy: 0.9967 - val_loss: 0.0105 - val_accuracy: 0.9961 - epoch_time: 3.1442\n",
            "Epoch 48/500\n",
            "179/179 [==============================] - 2s 14ms/step - loss: 0.0102 - accuracy: 0.9963 - val_loss: 0.0119 - val_accuracy: 0.9964 - epoch_time: 2.3551\n",
            "Epoch 49/500\n",
            "179/179 [==============================] - 2s 13ms/step - loss: 0.0103 - accuracy: 0.9965 - val_loss: 0.0134 - val_accuracy: 0.9968 - epoch_time: 2.3059\n",
            "Epoch 50/500\n",
            "179/179 [==============================] - 2s 13ms/step - loss: 0.0100 - accuracy: 0.9961 - val_loss: 0.0141 - val_accuracy: 0.9949 - epoch_time: 2.2462\n",
            "Epoch 51/500\n",
            "179/179 [==============================] - 2s 13ms/step - loss: 0.0095 - accuracy: 0.9968 - val_loss: 0.0099 - val_accuracy: 0.9961 - epoch_time: 2.2809\n",
            "Epoch 52/500\n",
            "179/179 [==============================] - 3s 17ms/step - loss: 0.0128 - accuracy: 0.9953 - val_loss: 0.0147 - val_accuracy: 0.9949 - epoch_time: 2.9929\n",
            "Epoch 53/500\n",
            "179/179 [==============================] - 3s 15ms/step - loss: 0.0109 - accuracy: 0.9962 - val_loss: 0.0161 - val_accuracy: 0.9945 - epoch_time: 2.6047\n",
            "Epoch 54/500\n",
            "179/179 [==============================] - 2s 13ms/step - loss: 0.0110 - accuracy: 0.9964 - val_loss: 0.0082 - val_accuracy: 0.9968 - epoch_time: 2.2784\n",
            "Epoch 55/500\n",
            "179/179 [==============================] - 2s 13ms/step - loss: 0.0086 - accuracy: 0.9968 - val_loss: 0.0107 - val_accuracy: 0.9953 - epoch_time: 2.2768\n",
            "Epoch 56/500\n",
            "179/179 [==============================] - 2s 13ms/step - loss: 0.0086 - accuracy: 0.9965 - val_loss: 0.0101 - val_accuracy: 0.9957 - epoch_time: 2.3193\n",
            "Epoch 57/500\n",
            "179/179 [==============================] - 3s 15ms/step - loss: 0.0101 - accuracy: 0.9964 - val_loss: 0.0120 - val_accuracy: 0.9964 - epoch_time: 2.6240\n",
            "Epoch 58/500\n",
            "179/179 [==============================] - 3s 18ms/step - loss: 0.0099 - accuracy: 0.9964 - val_loss: 0.0096 - val_accuracy: 0.9961 - epoch_time: 3.0442\n",
            "Epoch 59/500\n",
            "179/179 [==============================] - 2s 13ms/step - loss: 0.0085 - accuracy: 0.9970 - val_loss: 0.0106 - val_accuracy: 0.9957 - epoch_time: 2.2775\n",
            "Epoch 60/500\n",
            "179/179 [==============================] - 2s 14ms/step - loss: 0.0096 - accuracy: 0.9967 - val_loss: 0.0094 - val_accuracy: 0.9957 - epoch_time: 2.3578\n",
            "Epoch 61/500\n",
            "179/179 [==============================] - 2s 13ms/step - loss: 0.0088 - accuracy: 0.9970 - val_loss: 0.0118 - val_accuracy: 0.9961 - epoch_time: 2.2826\n",
            "Epoch 62/500\n",
            "179/179 [==============================] - 2s 13ms/step - loss: 0.0076 - accuracy: 0.9975 - val_loss: 0.0119 - val_accuracy: 0.9961 - epoch_time: 2.2763\n",
            "Epoch 63/500\n",
            "179/179 [==============================] - 3s 18ms/step - loss: 0.0088 - accuracy: 0.9968 - val_loss: 0.0115 - val_accuracy: 0.9968 - epoch_time: 3.1844\n",
            "Epoch 64/500\n",
            "179/179 [==============================] - 3s 18ms/step - loss: 0.0072 - accuracy: 0.9974 - val_loss: 0.0075 - val_accuracy: 0.9976 - epoch_time: 2.3551\n",
            "Epoch 65/500\n",
            "179/179 [==============================] - 2s 13ms/step - loss: 0.0104 - accuracy: 0.9967 - val_loss: 0.0075 - val_accuracy: 0.9964 - epoch_time: 2.2839\n",
            "Epoch 66/500\n",
            "179/179 [==============================] - 2s 13ms/step - loss: 0.0082 - accuracy: 0.9971 - val_loss: 0.0083 - val_accuracy: 0.9980 - epoch_time: 2.2439\n",
            "Epoch 67/500\n",
            "179/179 [==============================] - 2s 13ms/step - loss: 0.0081 - accuracy: 0.9975 - val_loss: 0.0093 - val_accuracy: 0.9961 - epoch_time: 2.2404\n",
            "Epoch 68/500\n",
            "179/179 [==============================] - 4s 24ms/step - loss: 0.0083 - accuracy: 0.9969 - val_loss: 0.0059 - val_accuracy: 0.9976 - epoch_time: 3.2149\n",
            "Epoch 69/500\n",
            "179/179 [==============================] - 2s 14ms/step - loss: 0.0065 - accuracy: 0.9976 - val_loss: 0.0088 - val_accuracy: 0.9968 - epoch_time: 2.3817\n",
            "Epoch 70/500\n",
            "179/179 [==============================] - 2s 14ms/step - loss: 0.0089 - accuracy: 0.9970 - val_loss: 0.0111 - val_accuracy: 0.9961 - epoch_time: 2.3316\n",
            "Epoch 71/500\n",
            "179/179 [==============================] - 2s 13ms/step - loss: 0.0073 - accuracy: 0.9975 - val_loss: 0.0115 - val_accuracy: 0.9964 - epoch_time: 2.2748\n",
            "Epoch 72/500\n",
            "179/179 [==============================] - 2s 14ms/step - loss: 0.0081 - accuracy: 0.9970 - val_loss: 0.0088 - val_accuracy: 0.9972 - epoch_time: 2.3417\n",
            "Epoch 73/500\n",
            "179/179 [==============================] - 3s 17ms/step - loss: 0.0068 - accuracy: 0.9977 - val_loss: 0.0081 - val_accuracy: 0.9976 - epoch_time: 3.0077\n",
            "Epoch 74/500\n",
            "179/179 [==============================] - 2s 13ms/step - loss: 0.0095 - accuracy: 0.9968 - val_loss: 0.0077 - val_accuracy: 0.9968 - epoch_time: 2.2853\n",
            "Epoch 75/500\n",
            "179/179 [==============================] - 2s 13ms/step - loss: 0.0074 - accuracy: 0.9976 - val_loss: 0.0077 - val_accuracy: 0.9976 - epoch_time: 2.1796\n",
            "Epoch 76/500\n",
            "179/179 [==============================] - 2s 13ms/step - loss: 0.0070 - accuracy: 0.9977 - val_loss: 0.0141 - val_accuracy: 0.9945 - epoch_time: 2.1523\n",
            "Epoch 77/500\n",
            "179/179 [==============================] - 2s 12ms/step - loss: 0.0082 - accuracy: 0.9970 - val_loss: 0.0081 - val_accuracy: 0.9968 - epoch_time: 2.1436\n",
            "Epoch 78/500\n",
            "179/179 [==============================] - 3s 14ms/step - loss: 0.0071 - accuracy: 0.9977 - val_loss: 0.0076 - val_accuracy: 0.9972 - epoch_time: 2.4737\n",
            "Epoch 79/500\n",
            "179/179 [==============================] - 3s 16ms/step - loss: 0.0069 - accuracy: 0.9975 - val_loss: 0.0073 - val_accuracy: 0.9961 - epoch_time: 2.8073\n",
            "Epoch 80/500\n",
            "179/179 [==============================] - 2s 12ms/step - loss: 0.0065 - accuracy: 0.9977 - val_loss: 0.0079 - val_accuracy: 0.9968 - epoch_time: 2.1412\n",
            "Epoch 81/500\n",
            "179/179 [==============================] - 2s 13ms/step - loss: 0.0065 - accuracy: 0.9978 - val_loss: 0.0098 - val_accuracy: 0.9976 - epoch_time: 2.1768\n",
            "Epoch 82/500\n",
            "179/179 [==============================] - 2s 12ms/step - loss: 0.0075 - accuracy: 0.9974 - val_loss: 0.0083 - val_accuracy: 0.9976 - epoch_time: 2.1103\n",
            "Epoch 83/500\n",
            "179/179 [==============================] - 2s 13ms/step - loss: 0.0057 - accuracy: 0.9980 - val_loss: 0.0073 - val_accuracy: 0.9972 - epoch_time: 2.2289\n",
            "Epoch 84/500\n",
            "179/179 [==============================] - 3s 16ms/step - loss: 0.0072 - accuracy: 0.9973 - val_loss: 0.0063 - val_accuracy: 0.9976 - epoch_time: 2.7907\n",
            "Epoch 85/500\n",
            "179/179 [==============================] - 3s 15ms/step - loss: 0.0061 - accuracy: 0.9977 - val_loss: 0.0084 - val_accuracy: 0.9972 - epoch_time: 2.6254\n",
            "Epoch 86/500\n",
            "179/179 [==============================] - 2s 12ms/step - loss: 0.0065 - accuracy: 0.9978 - val_loss: 0.0120 - val_accuracy: 0.9949 - epoch_time: 2.1467\n",
            "Epoch 87/500\n",
            "179/179 [==============================] - 2s 12ms/step - loss: 0.0064 - accuracy: 0.9975 - val_loss: 0.0065 - val_accuracy: 0.9988 - epoch_time: 2.1055\n",
            "Epoch 88/500\n",
            "179/179 [==============================] - 2s 12ms/step - loss: 0.0051 - accuracy: 0.9981 - val_loss: 0.0111 - val_accuracy: 0.9957 - epoch_time: 2.1031\n",
            "Epoch 89/500\n",
            "179/179 [==============================] - 2s 12ms/step - loss: 0.0062 - accuracy: 0.9982 - val_loss: 0.0091 - val_accuracy: 0.9961 - epoch_time: 2.1216\n",
            "Epoch 90/500\n",
            "179/179 [==============================] - 3s 17ms/step - loss: 0.0049 - accuracy: 0.9980 - val_loss: 0.0116 - val_accuracy: 0.9972 - epoch_time: 2.8770\n",
            "Epoch 91/500\n",
            "179/179 [==============================] - 3s 14ms/step - loss: 0.0064 - accuracy: 0.9977 - val_loss: 0.0082 - val_accuracy: 0.9984 - epoch_time: 2.4723\n",
            "Epoch 92/500\n",
            "179/179 [==============================] - 2s 12ms/step - loss: 0.0078 - accuracy: 0.9979 - val_loss: 0.0094 - val_accuracy: 0.9972 - epoch_time: 2.1315\n",
            "Epoch 93/500\n",
            "179/179 [==============================] - 2s 13ms/step - loss: 0.0056 - accuracy: 0.9983 - val_loss: 0.0086 - val_accuracy: 0.9964 - epoch_time: 2.1587\n",
            "Epoch 94/500\n",
            "179/179 [==============================] - 2s 12ms/step - loss: 0.0076 - accuracy: 0.9978 - val_loss: 0.0062 - val_accuracy: 0.9984 - epoch_time: 2.1270\n",
            "Epoch 95/500\n",
            "179/179 [==============================] - 2s 14ms/step - loss: 0.0051 - accuracy: 0.9983 - val_loss: 0.0091 - val_accuracy: 0.9972 - epoch_time: 2.3058\n",
            "Epoch 96/500\n",
            "179/179 [==============================] - 3s 17ms/step - loss: 0.0055 - accuracy: 0.9982 - val_loss: 0.0059 - val_accuracy: 0.9980 - epoch_time: 2.9698\n",
            "Epoch 97/500\n",
            "179/179 [==============================] - 3s 17ms/step - loss: 0.0058 - accuracy: 0.9978 - val_loss: 0.0052 - val_accuracy: 0.9976 - epoch_time: 2.2159\n",
            "Epoch 98/500\n",
            "179/179 [==============================] - 2s 13ms/step - loss: 0.0048 - accuracy: 0.9983 - val_loss: 0.0116 - val_accuracy: 0.9968 - epoch_time: 2.1784\n",
            "Epoch 99/500\n",
            "179/179 [==============================] - 2s 13ms/step - loss: 0.0051 - accuracy: 0.9978 - val_loss: 0.0099 - val_accuracy: 0.9968 - epoch_time: 2.1444\n",
            "Epoch 100/500\n",
            "179/179 [==============================] - 2s 12ms/step - loss: 0.0069 - accuracy: 0.9973 - val_loss: 0.0079 - val_accuracy: 0.9984 - epoch_time: 2.1430\n",
            "Epoch 101/500\n",
            "179/179 [==============================] - 3s 16ms/step - loss: 0.0058 - accuracy: 0.9982 - val_loss: 0.0083 - val_accuracy: 0.9976 - epoch_time: 2.7841\n",
            "Epoch 102/500\n",
            "179/179 [==============================] - 3s 15ms/step - loss: 0.0054 - accuracy: 0.9983 - val_loss: 0.0078 - val_accuracy: 0.9968 - epoch_time: 2.5674\n",
            "Epoch 103/500\n",
            "179/179 [==============================] - 2s 13ms/step - loss: 0.0051 - accuracy: 0.9981 - val_loss: 0.0111 - val_accuracy: 0.9968 - epoch_time: 2.1655\n",
            "Epoch 104/500\n",
            "179/179 [==============================] - 2s 13ms/step - loss: 0.0073 - accuracy: 0.9982 - val_loss: 0.0073 - val_accuracy: 0.9980 - epoch_time: 2.1718\n",
            "Epoch 105/500\n",
            "179/179 [==============================] - 2s 13ms/step - loss: 0.0066 - accuracy: 0.9975 - val_loss: 0.0104 - val_accuracy: 0.9976 - epoch_time: 2.1893\n",
            "Epoch 106/500\n",
            "179/179 [==============================] - 2s 13ms/step - loss: 0.0046 - accuracy: 0.9987 - val_loss: 0.0076 - val_accuracy: 0.9972 - epoch_time: 2.2144\n",
            "Epoch 107/500\n",
            "179/179 [==============================] - 3s 17ms/step - loss: 0.0054 - accuracy: 0.9985 - val_loss: 0.0088 - val_accuracy: 0.9968 - epoch_time: 2.9710\n",
            "Epoch 108/500\n",
            "179/179 [==============================] - 3s 18ms/step - loss: 0.0047 - accuracy: 0.9984 - val_loss: 0.0051 - val_accuracy: 0.9980 - epoch_time: 2.3068\n",
            "Epoch 109/500\n",
            "179/179 [==============================] - 2s 12ms/step - loss: 0.0040 - accuracy: 0.9989 - val_loss: 0.0051 - val_accuracy: 0.9980 - epoch_time: 2.1263\n",
            "Epoch 110/500\n",
            "179/179 [==============================] - 2s 13ms/step - loss: 0.0060 - accuracy: 0.9980 - val_loss: 0.0066 - val_accuracy: 0.9988 - epoch_time: 2.1747\n",
            "Epoch 111/500\n",
            "179/179 [==============================] - 2s 12ms/step - loss: 0.0081 - accuracy: 0.9971 - val_loss: 0.0059 - val_accuracy: 0.9976 - epoch_time: 2.0860\n",
            "Epoch 112/500\n",
            "179/179 [==============================] - 3s 15ms/step - loss: 0.0058 - accuracy: 0.9979 - val_loss: 0.0086 - val_accuracy: 0.9968 - epoch_time: 2.6706\n",
            "Epoch 113/500\n",
            "179/179 [==============================] - 3s 15ms/step - loss: 0.0060 - accuracy: 0.9977 - val_loss: 0.0126 - val_accuracy: 0.9949 - epoch_time: 2.6283\n",
            "Epoch 114/500\n",
            "179/179 [==============================] - 2s 12ms/step - loss: 0.0056 - accuracy: 0.9980 - val_loss: 0.0091 - val_accuracy: 0.9988 - epoch_time: 2.1338\n",
            "Epoch 115/500\n",
            "179/179 [==============================] - 2s 13ms/step - loss: 0.0041 - accuracy: 0.9987 - val_loss: 0.0076 - val_accuracy: 0.9980 - epoch_time: 2.1625\n",
            "Epoch 116/500\n",
            "179/179 [==============================] - 2s 12ms/step - loss: 0.0049 - accuracy: 0.9982 - val_loss: 0.0056 - val_accuracy: 0.9988 - epoch_time: 2.1451\n",
            "Epoch 117/500\n",
            "179/179 [==============================] - 2s 13ms/step - loss: 0.0034 - accuracy: 0.9991 - val_loss: 0.0064 - val_accuracy: 0.9976 - epoch_time: 2.1490\n",
            "Epoch 118/500\n",
            "179/179 [==============================] - 3s 17ms/step - loss: 0.0056 - accuracy: 0.9977 - val_loss: 0.0072 - val_accuracy: 0.9980 - epoch_time: 2.9046\n",
            "Epoch 119/500\n",
            "179/179 [==============================] - 2s 14ms/step - loss: 0.0046 - accuracy: 0.9985 - val_loss: 0.0092 - val_accuracy: 0.9980 - epoch_time: 2.3788\n",
            "Epoch 120/500\n",
            "179/179 [==============================] - 2s 12ms/step - loss: 0.0074 - accuracy: 0.9977 - val_loss: 0.0086 - val_accuracy: 0.9976 - epoch_time: 2.1427\n",
            "Epoch 121/500\n",
            "179/179 [==============================] - 2s 13ms/step - loss: 0.0061 - accuracy: 0.9985 - val_loss: 0.0074 - val_accuracy: 0.9976 - epoch_time: 2.1582\n",
            "Epoch 122/500\n",
            "179/179 [==============================] - 2s 13ms/step - loss: 0.0042 - accuracy: 0.9986 - val_loss: 0.0082 - val_accuracy: 0.9976 - epoch_time: 2.1703\n",
            "Epoch 123/500\n",
            "179/179 [==============================] - 3s 14ms/step - loss: 0.0041 - accuracy: 0.9986 - val_loss: 0.0056 - val_accuracy: 0.9984 - epoch_time: 2.3869\n",
            "Epoch 124/500\n",
            "179/179 [==============================] - 3s 17ms/step - loss: 0.0046 - accuracy: 0.9987 - val_loss: 0.0083 - val_accuracy: 0.9964 - epoch_time: 2.9510\n",
            "Epoch 125/500\n",
            "179/179 [==============================] - 2s 13ms/step - loss: 0.0063 - accuracy: 0.9978 - val_loss: 0.0108 - val_accuracy: 0.9968 - epoch_time: 2.1738\n",
            "Epoch 126/500\n",
            "179/179 [==============================] - 2s 13ms/step - loss: 0.0052 - accuracy: 0.9982 - val_loss: 0.0077 - val_accuracy: 0.9976 - epoch_time: 2.2041\n",
            "Epoch 127/500\n",
            "179/179 [==============================] - 2s 13ms/step - loss: 0.0044 - accuracy: 0.9987 - val_loss: 0.0065 - val_accuracy: 0.9988 - epoch_time: 2.1626\n",
            "Epoch 128/500\n",
            "179/179 [==============================] - 2s 12ms/step - loss: 0.0052 - accuracy: 0.9981 - val_loss: 0.0061 - val_accuracy: 0.9984 - epoch_time: 2.1434\n",
            "Epoch 129/500\n",
            "179/179 [==============================] - 4s 21ms/step - loss: 0.0050 - accuracy: 0.9985 - val_loss: 0.0044 - val_accuracy: 0.9984 - epoch_time: 2.7256\n",
            "Epoch 130/500\n",
            "179/179 [==============================] - 3s 14ms/step - loss: 0.0047 - accuracy: 0.9984 - val_loss: 0.0054 - val_accuracy: 0.9988 - epoch_time: 2.4223\n",
            "Epoch 131/500\n",
            "179/179 [==============================] - 2s 13ms/step - loss: 0.0041 - accuracy: 0.9986 - val_loss: 0.0087 - val_accuracy: 0.9968 - epoch_time: 2.1584\n",
            "Epoch 132/500\n",
            "179/179 [==============================] - 2s 13ms/step - loss: 0.0040 - accuracy: 0.9985 - val_loss: 0.0103 - val_accuracy: 0.9972 - epoch_time: 2.2323\n",
            "Epoch 133/500\n",
            "179/179 [==============================] - 2s 13ms/step - loss: 0.0030 - accuracy: 0.9989 - val_loss: 0.0090 - val_accuracy: 0.9976 - epoch_time: 2.1747\n",
            "Epoch 134/500\n",
            "179/179 [==============================] - 3s 16ms/step - loss: 0.0027 - accuracy: 0.9992 - val_loss: 0.0062 - val_accuracy: 0.9984 - epoch_time: 2.6717\n",
            "Epoch 135/500\n",
            "179/179 [==============================] - 3s 17ms/step - loss: 0.0047 - accuracy: 0.9988 - val_loss: 0.0079 - val_accuracy: 0.9972 - epoch_time: 2.8713\n",
            "Epoch 136/500\n",
            "179/179 [==============================] - 3s 18ms/step - loss: 0.0040 - accuracy: 0.9989 - val_loss: 0.0042 - val_accuracy: 0.9988 - epoch_time: 2.1820\n",
            "Epoch 137/500\n",
            "179/179 [==============================] - 2s 13ms/step - loss: 0.0044 - accuracy: 0.9986 - val_loss: 0.0095 - val_accuracy: 0.9976 - epoch_time: 2.1884\n",
            "Epoch 138/500\n",
            "179/179 [==============================] - 2s 13ms/step - loss: 0.0036 - accuracy: 0.9988 - val_loss: 0.0124 - val_accuracy: 0.9976 - epoch_time: 2.2062\n",
            "Epoch 139/500\n",
            "179/179 [==============================] - 3s 14ms/step - loss: 0.0041 - accuracy: 0.9989 - val_loss: 0.0097 - val_accuracy: 0.9980 - epoch_time: 2.4489\n",
            "Epoch 140/500\n",
            "179/179 [==============================] - 3s 17ms/step - loss: 0.0057 - accuracy: 0.9981 - val_loss: 0.0081 - val_accuracy: 0.9988 - epoch_time: 2.9624\n",
            "Epoch 141/500\n",
            "179/179 [==============================] - 2s 13ms/step - loss: 0.0056 - accuracy: 0.9983 - val_loss: 0.0078 - val_accuracy: 0.9972 - epoch_time: 2.2579\n",
            "Epoch 142/500\n",
            "179/179 [==============================] - 2s 12ms/step - loss: 0.0046 - accuracy: 0.9986 - val_loss: 0.0097 - val_accuracy: 0.9976 - epoch_time: 2.1234\n",
            "Epoch 143/500\n",
            "179/179 [==============================] - 2s 13ms/step - loss: 0.0048 - accuracy: 0.9982 - val_loss: 0.0064 - val_accuracy: 0.9980 - epoch_time: 2.2312\n",
            "Epoch 144/500\n",
            "179/179 [==============================] - 2s 13ms/step - loss: 0.0036 - accuracy: 0.9988 - val_loss: 0.0068 - val_accuracy: 0.9976 - epoch_time: 2.2649\n",
            "Epoch 145/500\n",
            "179/179 [==============================] - 3s 16ms/step - loss: 0.0028 - accuracy: 0.9991 - val_loss: 0.0079 - val_accuracy: 0.9984 - epoch_time: 2.7633\n",
            "Epoch 146/500\n",
            "179/179 [==============================] - 3s 16ms/step - loss: 0.0040 - accuracy: 0.9986 - val_loss: 0.0054 - val_accuracy: 0.9984 - epoch_time: 2.7870\n",
            "Epoch 147/500\n",
            "179/179 [==============================] - 2s 13ms/step - loss: 0.0047 - accuracy: 0.9987 - val_loss: 0.0075 - val_accuracy: 0.9980 - epoch_time: 2.1775\n",
            "Epoch 148/500\n",
            "179/179 [==============================] - 2s 13ms/step - loss: 0.0047 - accuracy: 0.9982 - val_loss: 0.0068 - val_accuracy: 0.9976 - epoch_time: 2.2057\n",
            "Epoch 149/500\n",
            "179/179 [==============================] - 2s 13ms/step - loss: 0.0046 - accuracy: 0.9982 - val_loss: 0.0070 - val_accuracy: 0.9968 - epoch_time: 2.2153\n",
            "Epoch 150/500\n",
            "179/179 [==============================] - 2s 13ms/step - loss: 0.0029 - accuracy: 0.9990 - val_loss: 0.0060 - val_accuracy: 0.9980 - epoch_time: 2.2529\n",
            "Epoch 151/500\n",
            "179/179 [==============================] - 3s 17ms/step - loss: 0.0056 - accuracy: 0.9977 - val_loss: 0.0073 - val_accuracy: 0.9980 - epoch_time: 2.9883\n",
            "Epoch 152/500\n",
            "179/179 [==============================] - 3s 14ms/step - loss: 0.0035 - accuracy: 0.9989 - val_loss: 0.0083 - val_accuracy: 0.9976 - epoch_time: 2.4355\n",
            "Epoch 153/500\n",
            "179/179 [==============================] - 2s 13ms/step - loss: 0.0031 - accuracy: 0.9991 - val_loss: 0.0119 - val_accuracy: 0.9968 - epoch_time: 2.2145\n",
            "Epoch 154/500\n",
            "179/179 [==============================] - 2s 13ms/step - loss: 0.0039 - accuracy: 0.9987 - val_loss: 0.0084 - val_accuracy: 0.9980 - epoch_time: 2.2028\n",
            "Epoch 155/500\n",
            "179/179 [==============================] - 2s 13ms/step - loss: 0.0034 - accuracy: 0.9989 - val_loss: 0.0048 - val_accuracy: 0.9984 - epoch_time: 2.2067\n",
            "Epoch 156/500\n",
            "179/179 [==============================] - 3s 15ms/step - loss: 0.0049 - accuracy: 0.9986 - val_loss: 0.0067 - val_accuracy: 0.9972 - epoch_time: 2.5467\n",
            "Epoch 157/500\n",
            "179/179 [==============================] - 3s 17ms/step - loss: 0.0041 - accuracy: 0.9988 - val_loss: 0.0070 - val_accuracy: 0.9972 - epoch_time: 2.9052\n",
            "Epoch 158/500\n",
            "179/179 [==============================] - 2s 13ms/step - loss: 0.0031 - accuracy: 0.9989 - val_loss: 0.0043 - val_accuracy: 0.9976 - epoch_time: 2.1548\n",
            "Epoch 159/500\n",
            "179/179 [==============================] - 2s 13ms/step - loss: 0.0062 - accuracy: 0.9974 - val_loss: 0.0081 - val_accuracy: 0.9972 - epoch_time: 2.2133\n",
            "Epoch 160/500\n",
            "179/179 [==============================] - 2s 13ms/step - loss: 0.0040 - accuracy: 0.9983 - val_loss: 0.0069 - val_accuracy: 0.9984 - epoch_time: 2.2032\n",
            "Epoch 161/500\n",
            "179/179 [==============================] - 2s 13ms/step - loss: 0.0039 - accuracy: 0.9986 - val_loss: 0.0099 - val_accuracy: 0.9972 - epoch_time: 2.1821\n",
            "Epoch 162/500\n",
            "179/179 [==============================] - 3s 15ms/step - loss: 0.0037 - accuracy: 0.9988 - val_loss: 0.0065 - val_accuracy: 0.9988 - epoch_time: 2.6650\n",
            "Epoch 163/500\n",
            "179/179 [==============================] - 3s 15ms/step - loss: 0.0026 - accuracy: 0.9992 - val_loss: 0.0100 - val_accuracy: 0.9972 - epoch_time: 2.6882\n",
            "Epoch 164/500\n",
            "179/179 [==============================] - 2s 13ms/step - loss: 0.0027 - accuracy: 0.9990 - val_loss: 0.0069 - val_accuracy: 0.9988 - epoch_time: 2.1953\n",
            "Epoch 165/500\n",
            "179/179 [==============================] - 2s 13ms/step - loss: 0.0043 - accuracy: 0.9986 - val_loss: 0.0103 - val_accuracy: 0.9964 - epoch_time: 2.2170\n",
            "Epoch 166/500\n",
            "179/179 [==============================] - 2s 13ms/step - loss: 0.0029 - accuracy: 0.9991 - val_loss: 0.0089 - val_accuracy: 0.9976 - epoch_time: 2.1924\n",
            "Epoch 167/500\n",
            "179/179 [==============================] - 2s 13ms/step - loss: 0.0022 - accuracy: 0.9992 - val_loss: 0.0077 - val_accuracy: 0.9988 - epoch_time: 2.2586\n",
            "Epoch 168/500\n",
            "179/179 [==============================] - 3s 17ms/step - loss: 0.0036 - accuracy: 0.9989 - val_loss: 0.0076 - val_accuracy: 0.9980 - epoch_time: 3.0256\n",
            "Epoch 169/500\n",
            "179/179 [==============================] - 2s 14ms/step - loss: 0.0044 - accuracy: 0.9987 - val_loss: 0.0074 - val_accuracy: 0.9964 - epoch_time: 2.3489\n",
            "Epoch 170/500\n",
            "179/179 [==============================] - 2s 13ms/step - loss: 0.0032 - accuracy: 0.9988 - val_loss: 0.0159 - val_accuracy: 0.9945 - epoch_time: 2.2232\n",
            "Epoch 171/500\n",
            "179/179 [==============================] - 2s 13ms/step - loss: 0.0036 - accuracy: 0.9989 - val_loss: 0.0126 - val_accuracy: 0.9968 - epoch_time: 2.2086\n",
            "Epoch 172/500\n",
            "179/179 [==============================] - 2s 13ms/step - loss: 0.0043 - accuracy: 0.9984 - val_loss: 0.0057 - val_accuracy: 0.9976 - epoch_time: 2.2180\n",
            "Epoch 173/500\n",
            "179/179 [==============================] - 3s 15ms/step - loss: 0.0036 - accuracy: 0.9989 - val_loss: 0.0059 - val_accuracy: 0.9976 - epoch_time: 2.6085\n",
            "Epoch 174/500\n",
            "179/179 [==============================] - 3s 17ms/step - loss: 0.0038 - accuracy: 0.9990 - val_loss: 0.0067 - val_accuracy: 0.9980 - epoch_time: 2.8827\n",
            "Epoch 175/500\n",
            "179/179 [==============================] - 2s 13ms/step - loss: 0.0046 - accuracy: 0.9987 - val_loss: 0.0059 - val_accuracy: 0.9980 - epoch_time: 2.2582\n",
            "Epoch 176/500\n",
            "179/179 [==============================] - 2s 13ms/step - loss: 0.0030 - accuracy: 0.9991 - val_loss: 0.0070 - val_accuracy: 0.9984 - epoch_time: 2.2280\n",
            "Epoch 177/500\n",
            "179/179 [==============================] - 2s 13ms/step - loss: 0.0039 - accuracy: 0.9991 - val_loss: 0.0086 - val_accuracy: 0.9968 - epoch_time: 2.2047\n",
            "Epoch 178/500\n",
            "179/179 [==============================] - 2s 13ms/step - loss: 0.0053 - accuracy: 0.9983 - val_loss: 0.0080 - val_accuracy: 0.9968 - epoch_time: 2.1864\n",
            "Epoch 179/500\n",
            "179/179 [==============================] - 3s 18ms/step - loss: 0.0032 - accuracy: 0.9988 - val_loss: 0.0071 - val_accuracy: 0.9988 - epoch_time: 3.0167\n",
            "Epoch 180/500\n",
            "179/179 [==============================] - 3s 15ms/step - loss: 0.0027 - accuracy: 0.9992 - val_loss: 0.0066 - val_accuracy: 0.9984 - epoch_time: 2.5135\n",
            "Epoch 181/500\n",
            "179/179 [==============================] - 2s 13ms/step - loss: 0.0029 - accuracy: 0.9989 - val_loss: 0.0074 - val_accuracy: 0.9968 - epoch_time: 2.2223\n",
            "Epoch 182/500\n",
            "179/179 [==============================] - 2s 13ms/step - loss: 0.0023 - accuracy: 0.9992 - val_loss: 0.0087 - val_accuracy: 0.9984 - epoch_time: 2.2368\n",
            "Epoch 183/500\n",
            "179/179 [==============================] - 2s 13ms/step - loss: 0.0026 - accuracy: 0.9993 - val_loss: 0.0079 - val_accuracy: 0.9984 - epoch_time: 2.2036\n",
            "Epoch 184/500\n",
            "179/179 [==============================] - 3s 14ms/step - loss: 0.0029 - accuracy: 0.9990 - val_loss: 0.0068 - val_accuracy: 0.9988 - epoch_time: 2.4446\n",
            "Epoch 185/500\n",
            "179/179 [==============================] - 3s 17ms/step - loss: 0.0028 - accuracy: 0.9990 - val_loss: 0.0071 - val_accuracy: 0.9980 - epoch_time: 2.9550\n",
            "Epoch 186/500\n",
            "179/179 [==============================] - 2s 13ms/step - loss: 0.0028 - accuracy: 0.9992 - val_loss: 0.0069 - val_accuracy: 0.9972 - epoch_time: 2.2430\n",
            "Epoch 187/500\n",
            "179/179 [==============================] - 2s 13ms/step - loss: 0.0037 - accuracy: 0.9988 - val_loss: 0.0116 - val_accuracy: 0.9968 - epoch_time: 2.1945\n"
          ]
        }
      ]
    },
    {
      "cell_type": "code",
      "metadata": {
        "id": "ylJKm4n7ppeJ",
        "colab": {
          "base_uri": "https://localhost:8080/"
        },
        "outputId": "28bb5822-67a8-45e1-a5a5-4437f0ecf6f3"
      },
      "source": [
        "sensor = \"sensor3\"\n",
        "time_callback = TimeHistory()\n",
        "model_sensor3 = creatModel()\n",
        "model_save, checkpoint, history_cb, Estop = setCallbacks(\"sensor3\")\n",
        "history_sensor3 = model_sensor3.fit(X_train_sensor3, y_train_sensor3,\n",
        "                                    batch_size = 128, epochs = 500,\n",
        "                                    validation_split = 0.1,\n",
        "                                    verbose = 1,\n",
        "                                    callbacks = [time_callback, model_save, checkpoint, history_cb, Estop])\n",
        "                                    # class_weight= class_weights)#"
      ],
      "execution_count": null,
      "outputs": [
        {
          "output_type": "stream",
          "name": "stdout",
          "text": [
            "Epoch 1/500\n",
            "179/179 [==============================] - 8s 19ms/step - loss: 0.2275 - accuracy: 0.9287 - val_loss: 0.1306 - val_accuracy: 0.9664 - epoch_time: 7.9438\n",
            "Epoch 2/500\n",
            "179/179 [==============================] - 3s 18ms/step - loss: 0.1244 - accuracy: 0.9603 - val_loss: 0.0880 - val_accuracy: 0.9704 - epoch_time: 2.9144\n",
            "Epoch 3/500\n",
            "179/179 [==============================] - 3s 15ms/step - loss: 0.0986 - accuracy: 0.9655 - val_loss: 0.0778 - val_accuracy: 0.9724 - epoch_time: 2.5857\n",
            "Epoch 4/500\n",
            "179/179 [==============================] - 2s 13ms/step - loss: 0.0745 - accuracy: 0.9737 - val_loss: 0.0639 - val_accuracy: 0.9759 - epoch_time: 2.1669\n",
            "Epoch 5/500\n",
            "179/179 [==============================] - 2s 13ms/step - loss: 0.0932 - accuracy: 0.9656 - val_loss: 0.0551 - val_accuracy: 0.9818 - epoch_time: 2.2217\n",
            "Epoch 6/500\n",
            "179/179 [==============================] - 2s 13ms/step - loss: 0.0653 - accuracy: 0.9771 - val_loss: 0.0495 - val_accuracy: 0.9834 - epoch_time: 2.1718\n",
            "Epoch 7/500\n",
            "179/179 [==============================] - 3s 16ms/step - loss: 0.0605 - accuracy: 0.9792 - val_loss: 0.0451 - val_accuracy: 0.9826 - epoch_time: 2.5806\n",
            "Epoch 8/500\n",
            "179/179 [==============================] - 3s 17ms/step - loss: 0.0550 - accuracy: 0.9799 - val_loss: 0.0607 - val_accuracy: 0.9834 - epoch_time: 2.9136\n",
            "Epoch 9/500\n",
            "179/179 [==============================] - 2s 13ms/step - loss: 0.0550 - accuracy: 0.9798 - val_loss: 0.0380 - val_accuracy: 0.9854 - epoch_time: 2.1247\n",
            "Epoch 10/500\n",
            "179/179 [==============================] - 2s 13ms/step - loss: 0.0485 - accuracy: 0.9818 - val_loss: 0.0377 - val_accuracy: 0.9886 - epoch_time: 2.1231\n",
            "Epoch 11/500\n",
            "179/179 [==============================] - 2s 12ms/step - loss: 0.0453 - accuracy: 0.9821 - val_loss: 0.0447 - val_accuracy: 0.9803 - epoch_time: 2.1205\n",
            "Epoch 12/500\n",
            "179/179 [==============================] - 2s 13ms/step - loss: 0.0434 - accuracy: 0.9835 - val_loss: 0.0356 - val_accuracy: 0.9858 - epoch_time: 2.1240\n",
            "Epoch 13/500\n",
            "179/179 [==============================] - 3s 16ms/step - loss: 0.0431 - accuracy: 0.9839 - val_loss: 0.0363 - val_accuracy: 0.9874 - epoch_time: 2.8337\n",
            "Epoch 14/500\n",
            "179/179 [==============================] - 3s 15ms/step - loss: 0.0426 - accuracy: 0.9843 - val_loss: 0.0307 - val_accuracy: 0.9889 - epoch_time: 2.4289\n",
            "Epoch 15/500\n",
            "179/179 [==============================] - 2s 12ms/step - loss: 0.0371 - accuracy: 0.9859 - val_loss: 0.0334 - val_accuracy: 0.9866 - epoch_time: 2.0922\n",
            "Epoch 16/500\n",
            "179/179 [==============================] - 2s 12ms/step - loss: 0.0379 - accuracy: 0.9853 - val_loss: 0.0382 - val_accuracy: 0.9826 - epoch_time: 2.1369\n",
            "Epoch 17/500\n",
            "179/179 [==============================] - 2s 13ms/step - loss: 0.0365 - accuracy: 0.9867 - val_loss: 0.0321 - val_accuracy: 0.9854 - epoch_time: 2.1840\n",
            "Epoch 18/500\n",
            "179/179 [==============================] - 2s 14ms/step - loss: 0.0361 - accuracy: 0.9864 - val_loss: 0.0325 - val_accuracy: 0.9878 - epoch_time: 2.3152\n",
            "Epoch 19/500\n",
            "179/179 [==============================] - 4s 22ms/step - loss: 0.0355 - accuracy: 0.9867 - val_loss: 0.0274 - val_accuracy: 0.9897 - epoch_time: 2.9292\n",
            "Epoch 20/500\n",
            "179/179 [==============================] - 2s 13ms/step - loss: 0.0350 - accuracy: 0.9864 - val_loss: 0.0337 - val_accuracy: 0.9874 - epoch_time: 2.1730\n",
            "Epoch 21/500\n",
            "179/179 [==============================] - 2s 12ms/step - loss: 0.0354 - accuracy: 0.9874 - val_loss: 0.0321 - val_accuracy: 0.9889 - epoch_time: 2.1030\n",
            "Epoch 22/500\n",
            "179/179 [==============================] - 2s 13ms/step - loss: 0.0335 - accuracy: 0.9877 - val_loss: 0.0293 - val_accuracy: 0.9886 - epoch_time: 2.2661\n",
            "Epoch 23/500\n",
            "179/179 [==============================] - 2s 13ms/step - loss: 0.0345 - accuracy: 0.9868 - val_loss: 0.0289 - val_accuracy: 0.9886 - epoch_time: 2.2875\n",
            "Epoch 24/500\n",
            "179/179 [==============================] - 3s 18ms/step - loss: 0.0312 - accuracy: 0.9881 - val_loss: 0.0307 - val_accuracy: 0.9893 - epoch_time: 3.1220\n",
            "Epoch 25/500\n",
            "179/179 [==============================] - 3s 19ms/step - loss: 0.0320 - accuracy: 0.9884 - val_loss: 0.0271 - val_accuracy: 0.9905 - epoch_time: 2.4648\n",
            "Epoch 26/500\n",
            "179/179 [==============================] - 2s 13ms/step - loss: 0.0295 - accuracy: 0.9885 - val_loss: 0.0304 - val_accuracy: 0.9889 - epoch_time: 2.1914\n",
            "Epoch 27/500\n",
            "179/179 [==============================] - 2s 13ms/step - loss: 0.0305 - accuracy: 0.9885 - val_loss: 0.0275 - val_accuracy: 0.9874 - epoch_time: 2.2173\n",
            "Epoch 28/500\n",
            "179/179 [==============================] - 2s 13ms/step - loss: 0.0311 - accuracy: 0.9881 - val_loss: 0.0253 - val_accuracy: 0.9905 - epoch_time: 2.2308\n",
            "Epoch 29/500\n",
            "179/179 [==============================] - 3s 18ms/step - loss: 0.0286 - accuracy: 0.9893 - val_loss: 0.0266 - val_accuracy: 0.9893 - epoch_time: 3.0543\n",
            "Epoch 30/500\n",
            "179/179 [==============================] - 3s 14ms/step - loss: 0.0275 - accuracy: 0.9890 - val_loss: 0.0345 - val_accuracy: 0.9866 - epoch_time: 2.4903\n",
            "Epoch 31/500\n",
            "179/179 [==============================] - 3s 18ms/step - loss: 0.0271 - accuracy: 0.9895 - val_loss: 0.0252 - val_accuracy: 0.9909 - epoch_time: 2.2852\n",
            "Epoch 32/500\n",
            "179/179 [==============================] - 2s 14ms/step - loss: 0.0258 - accuracy: 0.9893 - val_loss: 0.0246 - val_accuracy: 0.9893 - epoch_time: 2.2434\n",
            "Epoch 33/500\n",
            "179/179 [==============================] - 2s 13ms/step - loss: 0.0256 - accuracy: 0.9897 - val_loss: 0.0266 - val_accuracy: 0.9889 - epoch_time: 2.2600\n",
            "Epoch 34/500\n",
            "179/179 [==============================] - 3s 18ms/step - loss: 0.0269 - accuracy: 0.9893 - val_loss: 0.0241 - val_accuracy: 0.9901 - epoch_time: 3.0271\n",
            "Epoch 35/500\n",
            "179/179 [==============================] - 2s 14ms/step - loss: 0.0248 - accuracy: 0.9905 - val_loss: 0.0261 - val_accuracy: 0.9893 - epoch_time: 2.3915\n",
            "Epoch 36/500\n",
            "179/179 [==============================] - 2s 13ms/step - loss: 0.0236 - accuracy: 0.9908 - val_loss: 0.0276 - val_accuracy: 0.9886 - epoch_time: 2.2529\n",
            "Epoch 37/500\n",
            "179/179 [==============================] - 2s 14ms/step - loss: 0.0243 - accuracy: 0.9908 - val_loss: 0.0232 - val_accuracy: 0.9889 - epoch_time: 2.2714\n",
            "Epoch 38/500\n",
            "179/179 [==============================] - 2s 13ms/step - loss: 0.0240 - accuracy: 0.9906 - val_loss: 0.0235 - val_accuracy: 0.9905 - epoch_time: 2.2353\n",
            "Epoch 39/500\n",
            "179/179 [==============================] - 3s 16ms/step - loss: 0.0229 - accuracy: 0.9913 - val_loss: 0.0268 - val_accuracy: 0.9889 - epoch_time: 2.7415\n",
            "Epoch 40/500\n",
            "179/179 [==============================] - 3s 16ms/step - loss: 0.0232 - accuracy: 0.9909 - val_loss: 0.0296 - val_accuracy: 0.9870 - epoch_time: 2.8013\n",
            "Epoch 41/500\n",
            "179/179 [==============================] - 2s 13ms/step - loss: 0.0231 - accuracy: 0.9911 - val_loss: 0.0248 - val_accuracy: 0.9889 - epoch_time: 2.1963\n",
            "Epoch 42/500\n",
            "179/179 [==============================] - 2s 13ms/step - loss: 0.0214 - accuracy: 0.9916 - val_loss: 0.0251 - val_accuracy: 0.9897 - epoch_time: 2.2275\n",
            "Epoch 43/500\n",
            "179/179 [==============================] - 2s 13ms/step - loss: 0.0207 - accuracy: 0.9918 - val_loss: 0.0279 - val_accuracy: 0.9901 - epoch_time: 2.2866\n",
            "Epoch 44/500\n",
            "179/179 [==============================] - 2s 14ms/step - loss: 0.0220 - accuracy: 0.9919 - val_loss: 0.0312 - val_accuracy: 0.9874 - epoch_time: 2.3256\n",
            "Epoch 45/500\n",
            "179/179 [==============================] - 3s 17ms/step - loss: 0.0214 - accuracy: 0.9915 - val_loss: 0.0409 - val_accuracy: 0.9838 - epoch_time: 2.9981\n",
            "Epoch 46/500\n",
            "179/179 [==============================] - 2s 13ms/step - loss: 0.0258 - accuracy: 0.9901 - val_loss: 0.0300 - val_accuracy: 0.9882 - epoch_time: 2.3094\n",
            "Epoch 47/500\n",
            "179/179 [==============================] - 2s 13ms/step - loss: 0.0205 - accuracy: 0.9919 - val_loss: 0.0258 - val_accuracy: 0.9893 - epoch_time: 2.2400\n",
            "Epoch 48/500\n",
            "179/179 [==============================] - 2s 13ms/step - loss: 0.0211 - accuracy: 0.9915 - val_loss: 0.0282 - val_accuracy: 0.9874 - epoch_time: 2.2490\n",
            "Epoch 49/500\n",
            "179/179 [==============================] - 2s 13ms/step - loss: 0.0218 - accuracy: 0.9921 - val_loss: 0.0253 - val_accuracy: 0.9909 - epoch_time: 2.2404\n",
            "Epoch 50/500\n",
            "179/179 [==============================] - 3s 16ms/step - loss: 0.0186 - accuracy: 0.9926 - val_loss: 0.0286 - val_accuracy: 0.9917 - epoch_time: 2.7194\n",
            "Epoch 51/500\n",
            "179/179 [==============================] - 3s 16ms/step - loss: 0.0208 - accuracy: 0.9920 - val_loss: 0.0248 - val_accuracy: 0.9909 - epoch_time: 2.8055\n",
            "Epoch 52/500\n",
            "179/179 [==============================] - 2s 14ms/step - loss: 0.0199 - accuracy: 0.9922 - val_loss: 0.0268 - val_accuracy: 0.9905 - epoch_time: 2.3217\n",
            "Epoch 53/500\n",
            "179/179 [==============================] - 2s 13ms/step - loss: 0.0275 - accuracy: 0.9904 - val_loss: 0.0238 - val_accuracy: 0.9909 - epoch_time: 2.2197\n",
            "Epoch 54/500\n",
            "179/179 [==============================] - 3s 17ms/step - loss: 0.0199 - accuracy: 0.9923 - val_loss: 0.0222 - val_accuracy: 0.9901 - epoch_time: 2.2494\n",
            "Epoch 55/500\n",
            "179/179 [==============================] - 3s 16ms/step - loss: 0.0189 - accuracy: 0.9928 - val_loss: 0.0269 - val_accuracy: 0.9878 - epoch_time: 2.7450\n",
            "Epoch 56/500\n",
            "179/179 [==============================] - 3s 16ms/step - loss: 0.0203 - accuracy: 0.9916 - val_loss: 0.0242 - val_accuracy: 0.9893 - epoch_time: 2.7781\n",
            "Epoch 57/500\n",
            "179/179 [==============================] - 2s 13ms/step - loss: 0.0189 - accuracy: 0.9925 - val_loss: 0.0236 - val_accuracy: 0.9909 - epoch_time: 2.2885\n",
            "Epoch 58/500\n",
            "179/179 [==============================] - 2s 13ms/step - loss: 0.0193 - accuracy: 0.9925 - val_loss: 0.0237 - val_accuracy: 0.9901 - epoch_time: 2.2357\n",
            "Epoch 59/500\n",
            "179/179 [==============================] - 2s 13ms/step - loss: 0.0177 - accuracy: 0.9931 - val_loss: 0.0254 - val_accuracy: 0.9870 - epoch_time: 2.2862\n",
            "Epoch 60/500\n",
            "179/179 [==============================] - 3s 14ms/step - loss: 0.0183 - accuracy: 0.9934 - val_loss: 0.0245 - val_accuracy: 0.9889 - epoch_time: 2.3946\n",
            "Epoch 61/500\n",
            "179/179 [==============================] - 3s 18ms/step - loss: 0.0190 - accuracy: 0.9932 - val_loss: 0.0294 - val_accuracy: 0.9897 - epoch_time: 3.0515\n",
            "Epoch 62/500\n",
            "179/179 [==============================] - 2s 14ms/step - loss: 0.0172 - accuracy: 0.9933 - val_loss: 0.0285 - val_accuracy: 0.9889 - epoch_time: 2.3417\n",
            "Epoch 63/500\n",
            "179/179 [==============================] - 2s 13ms/step - loss: 0.0179 - accuracy: 0.9930 - val_loss: 0.0290 - val_accuracy: 0.9905 - epoch_time: 2.2437\n",
            "Epoch 64/500\n",
            "179/179 [==============================] - 2s 13ms/step - loss: 0.0188 - accuracy: 0.9931 - val_loss: 0.0241 - val_accuracy: 0.9905 - epoch_time: 2.2621\n",
            "Epoch 65/500\n",
            "179/179 [==============================] - 2s 13ms/step - loss: 0.0177 - accuracy: 0.9936 - val_loss: 0.0335 - val_accuracy: 0.9905 - epoch_time: 2.2980\n",
            "Epoch 66/500\n",
            "179/179 [==============================] - 3s 17ms/step - loss: 0.0166 - accuracy: 0.9933 - val_loss: 0.0274 - val_accuracy: 0.9878 - epoch_time: 3.0131\n",
            "Epoch 67/500\n",
            "179/179 [==============================] - 3s 16ms/step - loss: 0.0178 - accuracy: 0.9930 - val_loss: 0.0234 - val_accuracy: 0.9901 - epoch_time: 2.7062\n",
            "Epoch 68/500\n",
            "179/179 [==============================] - 2s 13ms/step - loss: 0.0162 - accuracy: 0.9934 - val_loss: 0.0263 - val_accuracy: 0.9905 - epoch_time: 2.2758\n",
            "Epoch 69/500\n",
            "179/179 [==============================] - 2s 13ms/step - loss: 0.0173 - accuracy: 0.9934 - val_loss: 0.0238 - val_accuracy: 0.9901 - epoch_time: 2.2971\n",
            "Epoch 70/500\n",
            "179/179 [==============================] - 2s 13ms/step - loss: 0.0167 - accuracy: 0.9934 - val_loss: 0.0270 - val_accuracy: 0.9893 - epoch_time: 2.3283\n",
            "Epoch 71/500\n",
            "179/179 [==============================] - 3s 15ms/step - loss: 0.0162 - accuracy: 0.9931 - val_loss: 0.0267 - val_accuracy: 0.9905 - epoch_time: 2.6268\n",
            "Epoch 72/500\n",
            "179/179 [==============================] - 3s 17ms/step - loss: 0.0162 - accuracy: 0.9932 - val_loss: 0.0236 - val_accuracy: 0.9909 - epoch_time: 2.9672\n",
            "Epoch 73/500\n",
            "179/179 [==============================] - 2s 13ms/step - loss: 0.0161 - accuracy: 0.9934 - val_loss: 0.0229 - val_accuracy: 0.9921 - epoch_time: 2.2291\n",
            "Epoch 74/500\n",
            "179/179 [==============================] - 2s 13ms/step - loss: 0.0164 - accuracy: 0.9938 - val_loss: 0.0271 - val_accuracy: 0.9901 - epoch_time: 2.1855\n",
            "Epoch 75/500\n",
            "179/179 [==============================] - 2s 13ms/step - loss: 0.0153 - accuracy: 0.9938 - val_loss: 0.0232 - val_accuracy: 0.9905 - epoch_time: 2.1940\n",
            "Epoch 76/500\n",
            "179/179 [==============================] - 2s 12ms/step - loss: 0.0162 - accuracy: 0.9936 - val_loss: 0.0236 - val_accuracy: 0.9905 - epoch_time: 2.0386\n",
            "Epoch 77/500\n",
            "179/179 [==============================] - 3s 16ms/step - loss: 0.0159 - accuracy: 0.9935 - val_loss: 0.0262 - val_accuracy: 0.9921 - epoch_time: 2.7624\n",
            "Epoch 78/500\n",
            "179/179 [==============================] - 3s 14ms/step - loss: 0.0155 - accuracy: 0.9945 - val_loss: 0.0232 - val_accuracy: 0.9917 - epoch_time: 2.4943\n",
            "Epoch 79/500\n",
            "179/179 [==============================] - 2s 12ms/step - loss: 0.0159 - accuracy: 0.9942 - val_loss: 0.0274 - val_accuracy: 0.9901 - epoch_time: 2.1234\n",
            "Epoch 80/500\n",
            "179/179 [==============================] - 2s 12ms/step - loss: 0.0159 - accuracy: 0.9939 - val_loss: 0.0246 - val_accuracy: 0.9913 - epoch_time: 2.1252\n",
            "Epoch 81/500\n",
            "179/179 [==============================] - 3s 17ms/step - loss: 0.0136 - accuracy: 0.9947 - val_loss: 0.0211 - val_accuracy: 0.9929 - epoch_time: 2.1117\n",
            "Epoch 82/500\n",
            "179/179 [==============================] - 3s 14ms/step - loss: 0.0168 - accuracy: 0.9932 - val_loss: 0.0257 - val_accuracy: 0.9909 - epoch_time: 2.3821\n",
            "Epoch 83/500\n",
            "179/179 [==============================] - 3s 16ms/step - loss: 0.0151 - accuracy: 0.9945 - val_loss: 0.0222 - val_accuracy: 0.9929 - epoch_time: 2.8560\n",
            "Epoch 84/500\n",
            "179/179 [==============================] - 2s 12ms/step - loss: 0.0144 - accuracy: 0.9947 - val_loss: 0.0363 - val_accuracy: 0.9866 - epoch_time: 2.0823\n",
            "Epoch 85/500\n",
            "179/179 [==============================] - 2s 13ms/step - loss: 0.0152 - accuracy: 0.9943 - val_loss: 0.0268 - val_accuracy: 0.9897 - epoch_time: 2.1625\n",
            "Epoch 86/500\n",
            "179/179 [==============================] - 2s 12ms/step - loss: 0.0162 - accuracy: 0.9937 - val_loss: 0.0351 - val_accuracy: 0.9909 - epoch_time: 2.0550\n",
            "Epoch 87/500\n",
            "179/179 [==============================] - 2s 12ms/step - loss: 0.0163 - accuracy: 0.9945 - val_loss: 0.0237 - val_accuracy: 0.9897 - epoch_time: 2.1021\n",
            "Epoch 88/500\n",
            "179/179 [==============================] - 3s 15ms/step - loss: 0.0155 - accuracy: 0.9942 - val_loss: 0.0242 - val_accuracy: 0.9929 - epoch_time: 2.5594\n",
            "Epoch 89/500\n",
            "179/179 [==============================] - 3s 15ms/step - loss: 0.0152 - accuracy: 0.9938 - val_loss: 0.0235 - val_accuracy: 0.9913 - epoch_time: 2.6569\n",
            "Epoch 90/500\n",
            "179/179 [==============================] - 2s 12ms/step - loss: 0.0141 - accuracy: 0.9943 - val_loss: 0.0277 - val_accuracy: 0.9913 - epoch_time: 2.1482\n",
            "Epoch 91/500\n",
            "179/179 [==============================] - 2s 13ms/step - loss: 0.0149 - accuracy: 0.9944 - val_loss: 0.0229 - val_accuracy: 0.9917 - epoch_time: 2.1809\n",
            "Epoch 92/500\n",
            "179/179 [==============================] - 3s 16ms/step - loss: 0.0127 - accuracy: 0.9954 - val_loss: 0.0199 - val_accuracy: 0.9921 - epoch_time: 2.1039\n",
            "Epoch 93/500\n",
            "179/179 [==============================] - 2s 13ms/step - loss: 0.0142 - accuracy: 0.9945 - val_loss: 0.0236 - val_accuracy: 0.9901 - epoch_time: 2.2055\n",
            "Epoch 94/500\n",
            "179/179 [==============================] - 3s 16ms/step - loss: 0.0139 - accuracy: 0.9946 - val_loss: 0.0267 - val_accuracy: 0.9917 - epoch_time: 2.8071\n",
            "Epoch 95/500\n",
            "179/179 [==============================] - 2s 13ms/step - loss: 0.0126 - accuracy: 0.9955 - val_loss: 0.0227 - val_accuracy: 0.9933 - epoch_time: 2.3309\n",
            "Epoch 96/500\n",
            "179/179 [==============================] - 2s 13ms/step - loss: 0.0149 - accuracy: 0.9939 - val_loss: 0.0232 - val_accuracy: 0.9917 - epoch_time: 2.1478\n",
            "Epoch 97/500\n",
            "179/179 [==============================] - 2s 12ms/step - loss: 0.0130 - accuracy: 0.9956 - val_loss: 0.0217 - val_accuracy: 0.9917 - epoch_time: 2.1446\n",
            "Epoch 98/500\n",
            "179/179 [==============================] - 2s 12ms/step - loss: 0.0141 - accuracy: 0.9947 - val_loss: 0.0228 - val_accuracy: 0.9925 - epoch_time: 2.0946\n",
            "Epoch 99/500\n",
            "179/179 [==============================] - 3s 14ms/step - loss: 0.0133 - accuracy: 0.9948 - val_loss: 0.0270 - val_accuracy: 0.9913 - epoch_time: 2.4807\n",
            "Epoch 100/500\n",
            "179/179 [==============================] - 3s 17ms/step - loss: 0.0145 - accuracy: 0.9949 - val_loss: 0.0265 - val_accuracy: 0.9901 - epoch_time: 2.8838\n",
            "Epoch 101/500\n",
            "179/179 [==============================] - 2s 12ms/step - loss: 0.0130 - accuracy: 0.9952 - val_loss: 0.0227 - val_accuracy: 0.9921 - epoch_time: 2.0960\n",
            "Epoch 102/500\n",
            "179/179 [==============================] - 2s 12ms/step - loss: 0.0120 - accuracy: 0.9954 - val_loss: 0.0274 - val_accuracy: 0.9905 - epoch_time: 2.1342\n",
            "Epoch 103/500\n",
            "179/179 [==============================] - 2s 13ms/step - loss: 0.0134 - accuracy: 0.9948 - val_loss: 0.0268 - val_accuracy: 0.9893 - epoch_time: 2.1728\n",
            "Epoch 104/500\n",
            "179/179 [==============================] - 2s 13ms/step - loss: 0.0138 - accuracy: 0.9951 - val_loss: 0.0263 - val_accuracy: 0.9913 - epoch_time: 2.1903\n",
            "Epoch 105/500\n",
            "179/179 [==============================] - 3s 15ms/step - loss: 0.0125 - accuracy: 0.9954 - val_loss: 0.0250 - val_accuracy: 0.9893 - epoch_time: 2.5797\n",
            "Epoch 106/500\n",
            "179/179 [==============================] - 3s 15ms/step - loss: 0.0129 - accuracy: 0.9954 - val_loss: 0.0235 - val_accuracy: 0.9909 - epoch_time: 2.6690\n",
            "Epoch 107/500\n",
            "179/179 [==============================] - 2s 12ms/step - loss: 0.0136 - accuracy: 0.9948 - val_loss: 0.0256 - val_accuracy: 0.9901 - epoch_time: 2.1391\n",
            "Epoch 108/500\n",
            "179/179 [==============================] - 2s 12ms/step - loss: 0.0106 - accuracy: 0.9958 - val_loss: 0.0211 - val_accuracy: 0.9913 - epoch_time: 2.1303\n",
            "Epoch 109/500\n",
            "179/179 [==============================] - 2s 13ms/step - loss: 0.0130 - accuracy: 0.9950 - val_loss: 0.0231 - val_accuracy: 0.9913 - epoch_time: 2.1742\n",
            "Epoch 110/500\n",
            "179/179 [==============================] - 2s 12ms/step - loss: 0.0131 - accuracy: 0.9949 - val_loss: 0.0232 - val_accuracy: 0.9913 - epoch_time: 2.0925\n",
            "Epoch 111/500\n",
            "179/179 [==============================] - 3s 17ms/step - loss: 0.0130 - accuracy: 0.9948 - val_loss: 0.0259 - val_accuracy: 0.9905 - epoch_time: 2.8459\n",
            "Epoch 112/500\n",
            "179/179 [==============================] - 3s 14ms/step - loss: 0.0111 - accuracy: 0.9951 - val_loss: 0.0259 - val_accuracy: 0.9925 - epoch_time: 2.4594\n",
            "Epoch 113/500\n",
            "179/179 [==============================] - 2s 12ms/step - loss: 0.0119 - accuracy: 0.9950 - val_loss: 0.0230 - val_accuracy: 0.9913 - epoch_time: 2.1434\n",
            "Epoch 114/500\n",
            "179/179 [==============================] - 2s 13ms/step - loss: 0.0122 - accuracy: 0.9958 - val_loss: 0.0237 - val_accuracy: 0.9929 - epoch_time: 2.1853\n",
            "Epoch 115/500\n",
            "179/179 [==============================] - 2s 13ms/step - loss: 0.0117 - accuracy: 0.9955 - val_loss: 0.0264 - val_accuracy: 0.9905 - epoch_time: 2.1676\n",
            "Epoch 116/500\n",
            "179/179 [==============================] - 2s 14ms/step - loss: 0.0115 - accuracy: 0.9955 - val_loss: 0.0257 - val_accuracy: 0.9901 - epoch_time: 2.3391\n",
            "Epoch 117/500\n",
            "179/179 [==============================] - 3s 17ms/step - loss: 0.0122 - accuracy: 0.9957 - val_loss: 0.0258 - val_accuracy: 0.9905 - epoch_time: 2.8954\n",
            "Epoch 118/500\n",
            "179/179 [==============================] - 2s 13ms/step - loss: 0.0137 - accuracy: 0.9947 - val_loss: 0.0298 - val_accuracy: 0.9893 - epoch_time: 2.2732\n",
            "Epoch 119/500\n",
            "179/179 [==============================] - 2s 12ms/step - loss: 0.0133 - accuracy: 0.9948 - val_loss: 0.0222 - val_accuracy: 0.9917 - epoch_time: 2.1448\n",
            "Epoch 120/500\n",
            "179/179 [==============================] - 2s 13ms/step - loss: 0.0110 - accuracy: 0.9959 - val_loss: 0.0330 - val_accuracy: 0.9913 - epoch_time: 2.2195\n",
            "Epoch 121/500\n",
            "179/179 [==============================] - 2s 13ms/step - loss: 0.0123 - accuracy: 0.9953 - val_loss: 0.0319 - val_accuracy: 0.9905 - epoch_time: 2.1895\n",
            "Epoch 122/500\n",
            "179/179 [==============================] - 3s 16ms/step - loss: 0.0122 - accuracy: 0.9951 - val_loss: 0.0258 - val_accuracy: 0.9897 - epoch_time: 2.6842\n",
            "Epoch 123/500\n",
            "179/179 [==============================] - 3s 17ms/step - loss: 0.0134 - accuracy: 0.9947 - val_loss: 0.0227 - val_accuracy: 0.9901 - epoch_time: 2.8830\n",
            "Epoch 124/500\n",
            "179/179 [==============================] - 2s 13ms/step - loss: 0.0111 - accuracy: 0.9954 - val_loss: 0.0304 - val_accuracy: 0.9917 - epoch_time: 2.2444\n",
            "Epoch 125/500\n",
            "179/179 [==============================] - 2s 13ms/step - loss: 0.0114 - accuracy: 0.9954 - val_loss: 0.0281 - val_accuracy: 0.9897 - epoch_time: 2.1494\n",
            "Epoch 126/500\n",
            "179/179 [==============================] - 2s 12ms/step - loss: 0.0115 - accuracy: 0.9954 - val_loss: 0.0256 - val_accuracy: 0.9901 - epoch_time: 2.1481\n",
            "Epoch 127/500\n",
            "179/179 [==============================] - 2s 13ms/step - loss: 0.0098 - accuracy: 0.9960 - val_loss: 0.0245 - val_accuracy: 0.9917 - epoch_time: 2.2559\n",
            "Epoch 128/500\n",
            "179/179 [==============================] - 3s 17ms/step - loss: 0.0109 - accuracy: 0.9957 - val_loss: 0.0257 - val_accuracy: 0.9913 - epoch_time: 2.9927\n",
            "Epoch 129/500\n",
            "179/179 [==============================] - 3s 14ms/step - loss: 0.0121 - accuracy: 0.9957 - val_loss: 0.0230 - val_accuracy: 0.9901 - epoch_time: 2.4385\n",
            "Epoch 130/500\n",
            "179/179 [==============================] - 2s 12ms/step - loss: 0.0115 - accuracy: 0.9961 - val_loss: 0.0285 - val_accuracy: 0.9913 - epoch_time: 2.1374\n",
            "Epoch 131/500\n",
            "179/179 [==============================] - 2s 12ms/step - loss: 0.0126 - accuracy: 0.9952 - val_loss: 0.0270 - val_accuracy: 0.9909 - epoch_time: 2.1201\n",
            "Epoch 132/500\n",
            "179/179 [==============================] - 2s 13ms/step - loss: 0.0092 - accuracy: 0.9964 - val_loss: 0.0228 - val_accuracy: 0.9913 - epoch_time: 2.1655\n",
            "Epoch 133/500\n",
            "179/179 [==============================] - 2s 14ms/step - loss: 0.0113 - accuracy: 0.9957 - val_loss: 0.0214 - val_accuracy: 0.9925 - epoch_time: 2.3188\n",
            "Epoch 134/500\n",
            "179/179 [==============================] - 3s 17ms/step - loss: 0.0101 - accuracy: 0.9962 - val_loss: 0.0258 - val_accuracy: 0.9901 - epoch_time: 2.9797\n",
            "Epoch 135/500\n",
            "179/179 [==============================] - 2s 13ms/step - loss: 0.0101 - accuracy: 0.9961 - val_loss: 0.0262 - val_accuracy: 0.9909 - epoch_time: 2.2953\n",
            "Epoch 136/500\n",
            "179/179 [==============================] - 2s 13ms/step - loss: 0.0114 - accuracy: 0.9957 - val_loss: 0.0269 - val_accuracy: 0.9905 - epoch_time: 2.1592\n",
            "Epoch 137/500\n",
            "179/179 [==============================] - 2s 13ms/step - loss: 0.0091 - accuracy: 0.9967 - val_loss: 0.0238 - val_accuracy: 0.9929 - epoch_time: 2.1839\n",
            "Epoch 138/500\n",
            "179/179 [==============================] - 2s 12ms/step - loss: 0.0110 - accuracy: 0.9958 - val_loss: 0.0238 - val_accuracy: 0.9917 - epoch_time: 2.1359\n",
            "Epoch 139/500\n",
            "179/179 [==============================] - 3s 15ms/step - loss: 0.0097 - accuracy: 0.9964 - val_loss: 0.0230 - val_accuracy: 0.9929 - epoch_time: 2.5038\n",
            "Epoch 140/500\n",
            "179/179 [==============================] - 3s 16ms/step - loss: 0.0102 - accuracy: 0.9962 - val_loss: 0.0252 - val_accuracy: 0.9913 - epoch_time: 2.7797\n",
            "Epoch 141/500\n",
            "179/179 [==============================] - 2s 13ms/step - loss: 0.0083 - accuracy: 0.9968 - val_loss: 0.0322 - val_accuracy: 0.9913 - epoch_time: 2.1556\n",
            "Epoch 142/500\n",
            "179/179 [==============================] - 2s 13ms/step - loss: 0.0100 - accuracy: 0.9960 - val_loss: 0.0306 - val_accuracy: 0.9905 - epoch_time: 2.2224\n",
            "Epoch 143/500\n",
            "179/179 [==============================] - 2s 13ms/step - loss: 0.0113 - accuracy: 0.9958 - val_loss: 0.0248 - val_accuracy: 0.9917 - epoch_time: 2.2559\n",
            "Epoch 144/500\n",
            "179/179 [==============================] - 2s 13ms/step - loss: 0.0115 - accuracy: 0.9959 - val_loss: 0.0317 - val_accuracy: 0.9901 - epoch_time: 2.2013\n",
            "Epoch 145/500\n",
            "179/179 [==============================] - 3s 16ms/step - loss: 0.0096 - accuracy: 0.9962 - val_loss: 0.0244 - val_accuracy: 0.9905 - epoch_time: 2.8155\n",
            "Epoch 146/500\n",
            "179/179 [==============================] - 3s 15ms/step - loss: 0.0088 - accuracy: 0.9966 - val_loss: 0.0283 - val_accuracy: 0.9917 - epoch_time: 2.6172\n",
            "Epoch 147/500\n",
            "179/179 [==============================] - 2s 13ms/step - loss: 0.0097 - accuracy: 0.9964 - val_loss: 0.0212 - val_accuracy: 0.9917 - epoch_time: 2.2117\n",
            "Epoch 148/500\n",
            "179/179 [==============================] - 2s 13ms/step - loss: 0.0097 - accuracy: 0.9961 - val_loss: 0.0204 - val_accuracy: 0.9921 - epoch_time: 2.1813\n",
            "Epoch 149/500\n",
            "179/179 [==============================] - 2s 13ms/step - loss: 0.0113 - accuracy: 0.9963 - val_loss: 0.0246 - val_accuracy: 0.9913 - epoch_time: 2.2186\n",
            "Epoch 150/500\n",
            "179/179 [==============================] - 2s 14ms/step - loss: 0.0104 - accuracy: 0.9966 - val_loss: 0.0241 - val_accuracy: 0.9913 - epoch_time: 2.2968\n",
            "Epoch 151/500\n",
            "179/179 [==============================] - 3s 17ms/step - loss: 0.0085 - accuracy: 0.9966 - val_loss: 0.0353 - val_accuracy: 0.9917 - epoch_time: 2.9613\n",
            "Epoch 152/500\n",
            "179/179 [==============================] - 2s 14ms/step - loss: 0.0112 - accuracy: 0.9960 - val_loss: 0.0228 - val_accuracy: 0.9909 - epoch_time: 2.3392\n",
            "Epoch 153/500\n",
            "179/179 [==============================] - 2s 13ms/step - loss: 0.0104 - accuracy: 0.9966 - val_loss: 0.0256 - val_accuracy: 0.9913 - epoch_time: 2.2252\n",
            "Epoch 154/500\n",
            "179/179 [==============================] - 2s 13ms/step - loss: 0.0092 - accuracy: 0.9965 - val_loss: 0.0278 - val_accuracy: 0.9921 - epoch_time: 2.1972\n",
            "Epoch 155/500\n",
            "179/179 [==============================] - 2s 13ms/step - loss: 0.0094 - accuracy: 0.9966 - val_loss: 0.0284 - val_accuracy: 0.9909 - epoch_time: 2.1729\n",
            "Epoch 156/500\n",
            "179/179 [==============================] - 3s 15ms/step - loss: 0.0091 - accuracy: 0.9967 - val_loss: 0.0333 - val_accuracy: 0.9901 - epoch_time: 2.5317\n",
            "Epoch 157/500\n",
            "179/179 [==============================] - 3s 17ms/step - loss: 0.0083 - accuracy: 0.9968 - val_loss: 0.0240 - val_accuracy: 0.9925 - epoch_time: 2.8920\n",
            "Epoch 158/500\n",
            "179/179 [==============================] - 2s 13ms/step - loss: 0.0092 - accuracy: 0.9962 - val_loss: 0.0296 - val_accuracy: 0.9901 - epoch_time: 2.2650\n",
            "Epoch 159/500\n",
            "179/179 [==============================] - 2s 13ms/step - loss: 0.0090 - accuracy: 0.9971 - val_loss: 0.0308 - val_accuracy: 0.9897 - epoch_time: 2.1942\n",
            "Epoch 160/500\n",
            "179/179 [==============================] - 2s 13ms/step - loss: 0.0094 - accuracy: 0.9966 - val_loss: 0.0237 - val_accuracy: 0.9905 - epoch_time: 2.1968\n",
            "Epoch 161/500\n",
            "179/179 [==============================] - 2s 13ms/step - loss: 0.0086 - accuracy: 0.9972 - val_loss: 0.0267 - val_accuracy: 0.9921 - epoch_time: 2.2062\n",
            "Epoch 162/500\n",
            "179/179 [==============================] - 3s 18ms/step - loss: 0.0077 - accuracy: 0.9969 - val_loss: 0.0401 - val_accuracy: 0.9917 - epoch_time: 3.0460\n",
            "Epoch 163/500\n",
            "179/179 [==============================] - 3s 15ms/step - loss: 0.0086 - accuracy: 0.9970 - val_loss: 0.0334 - val_accuracy: 0.9925 - epoch_time: 2.5514\n",
            "Epoch 164/500\n",
            "179/179 [==============================] - 3s 17ms/step - loss: 0.0101 - accuracy: 0.9959 - val_loss: 0.0188 - val_accuracy: 0.9921 - epoch_time: 2.1977\n",
            "Epoch 165/500\n",
            "179/179 [==============================] - 2s 13ms/step - loss: 0.0098 - accuracy: 0.9964 - val_loss: 0.0305 - val_accuracy: 0.9913 - epoch_time: 2.2537\n",
            "Epoch 166/500\n",
            "179/179 [==============================] - 2s 13ms/step - loss: 0.0099 - accuracy: 0.9964 - val_loss: 0.0232 - val_accuracy: 0.9897 - epoch_time: 2.2656\n",
            "Epoch 167/500\n",
            "179/179 [==============================] - 3s 16ms/step - loss: 0.0079 - accuracy: 0.9969 - val_loss: 0.0309 - val_accuracy: 0.9913 - epoch_time: 2.7572\n",
            "Epoch 168/500\n",
            "179/179 [==============================] - 3s 16ms/step - loss: 0.0093 - accuracy: 0.9968 - val_loss: 0.0217 - val_accuracy: 0.9913 - epoch_time: 2.8141\n",
            "Epoch 169/500\n",
            "179/179 [==============================] - 2s 13ms/step - loss: 0.0086 - accuracy: 0.9965 - val_loss: 0.0246 - val_accuracy: 0.9901 - epoch_time: 2.2240\n",
            "Epoch 170/500\n",
            "179/179 [==============================] - 2s 13ms/step - loss: 0.0087 - accuracy: 0.9969 - val_loss: 0.0246 - val_accuracy: 0.9917 - epoch_time: 2.2278\n",
            "Epoch 171/500\n",
            "179/179 [==============================] - 2s 13ms/step - loss: 0.0078 - accuracy: 0.9970 - val_loss: 0.0231 - val_accuracy: 0.9925 - epoch_time: 2.1589\n",
            "Epoch 172/500\n",
            "179/179 [==============================] - 2s 14ms/step - loss: 0.0085 - accuracy: 0.9970 - val_loss: 0.0304 - val_accuracy: 0.9917 - epoch_time: 2.3246\n",
            "Epoch 173/500\n",
            "179/179 [==============================] - 3s 18ms/step - loss: 0.0082 - accuracy: 0.9971 - val_loss: 0.0264 - val_accuracy: 0.9917 - epoch_time: 3.0786\n",
            "Epoch 174/500\n",
            "179/179 [==============================] - 2s 14ms/step - loss: 0.0103 - accuracy: 0.9964 - val_loss: 0.0263 - val_accuracy: 0.9933 - epoch_time: 2.3785\n",
            "Epoch 175/500\n",
            "179/179 [==============================] - 2s 13ms/step - loss: 0.0081 - accuracy: 0.9969 - val_loss: 0.0334 - val_accuracy: 0.9905 - epoch_time: 2.1893\n",
            "Epoch 176/500\n",
            "179/179 [==============================] - 2s 13ms/step - loss: 0.0085 - accuracy: 0.9968 - val_loss: 0.0238 - val_accuracy: 0.9921 - epoch_time: 2.1933\n",
            "Epoch 177/500\n",
            "179/179 [==============================] - 2s 13ms/step - loss: 0.0084 - accuracy: 0.9967 - val_loss: 0.0227 - val_accuracy: 0.9921 - epoch_time: 2.2656\n",
            "Epoch 178/500\n",
            "179/179 [==============================] - 3s 16ms/step - loss: 0.0064 - accuracy: 0.9975 - val_loss: 0.0274 - val_accuracy: 0.9909 - epoch_time: 2.6871\n",
            "Epoch 179/500\n",
            "179/179 [==============================] - 3s 16ms/step - loss: 0.0079 - accuracy: 0.9971 - val_loss: 0.0276 - val_accuracy: 0.9909 - epoch_time: 2.8456\n",
            "Epoch 180/500\n",
            "179/179 [==============================] - 2s 13ms/step - loss: 0.0084 - accuracy: 0.9969 - val_loss: 0.0291 - val_accuracy: 0.9913 - epoch_time: 2.2098\n",
            "Epoch 181/500\n",
            "179/179 [==============================] - 2s 13ms/step - loss: 0.0085 - accuracy: 0.9971 - val_loss: 0.0303 - val_accuracy: 0.9901 - epoch_time: 2.2124\n",
            "Epoch 182/500\n",
            "179/179 [==============================] - 2s 13ms/step - loss: 0.0094 - accuracy: 0.9970 - val_loss: 0.0253 - val_accuracy: 0.9913 - epoch_time: 2.2222\n",
            "Epoch 183/500\n",
            "179/179 [==============================] - 2s 13ms/step - loss: 0.0076 - accuracy: 0.9971 - val_loss: 0.0246 - val_accuracy: 0.9925 - epoch_time: 2.2278\n",
            "Epoch 184/500\n",
            "179/179 [==============================] - 3s 18ms/step - loss: 0.0095 - accuracy: 0.9966 - val_loss: 0.0258 - val_accuracy: 0.9925 - epoch_time: 3.0252\n",
            "Epoch 185/500\n",
            "179/179 [==============================] - 3s 15ms/step - loss: 0.0083 - accuracy: 0.9966 - val_loss: 0.0292 - val_accuracy: 0.9909 - epoch_time: 2.5343\n",
            "Epoch 186/500\n",
            "179/179 [==============================] - 2s 13ms/step - loss: 0.0097 - accuracy: 0.9970 - val_loss: 0.0261 - val_accuracy: 0.9925 - epoch_time: 2.1679\n",
            "Epoch 187/500\n",
            "179/179 [==============================] - 2s 13ms/step - loss: 0.0085 - accuracy: 0.9968 - val_loss: 0.0250 - val_accuracy: 0.9913 - epoch_time: 2.2911\n",
            "Epoch 188/500\n",
            "179/179 [==============================] - 2s 14ms/step - loss: 0.0080 - accuracy: 0.9973 - val_loss: 0.0278 - val_accuracy: 0.9929 - epoch_time: 2.3381\n",
            "Epoch 189/500\n",
            "179/179 [==============================] - 3s 15ms/step - loss: 0.0071 - accuracy: 0.9974 - val_loss: 0.0303 - val_accuracy: 0.9929 - epoch_time: 2.6649\n",
            "Epoch 190/500\n",
            "179/179 [==============================] - 3s 17ms/step - loss: 0.0061 - accuracy: 0.9978 - val_loss: 0.0301 - val_accuracy: 0.9929 - epoch_time: 2.9381\n",
            "Epoch 191/500\n",
            "179/179 [==============================] - 2s 13ms/step - loss: 0.0079 - accuracy: 0.9972 - val_loss: 0.0227 - val_accuracy: 0.9913 - epoch_time: 2.2681\n",
            "Epoch 192/500\n",
            "179/179 [==============================] - 2s 13ms/step - loss: 0.0077 - accuracy: 0.9969 - val_loss: 0.0239 - val_accuracy: 0.9917 - epoch_time: 2.2961\n",
            "Epoch 193/500\n",
            "179/179 [==============================] - 2s 14ms/step - loss: 0.0077 - accuracy: 0.9972 - val_loss: 0.0218 - val_accuracy: 0.9917 - epoch_time: 2.3378\n",
            "Epoch 194/500\n",
            "179/179 [==============================] - 2s 13ms/step - loss: 0.0089 - accuracy: 0.9968 - val_loss: 0.0238 - val_accuracy: 0.9909 - epoch_time: 2.2771\n",
            "Epoch 195/500\n",
            "179/179 [==============================] - 3s 18ms/step - loss: 0.0147 - accuracy: 0.9951 - val_loss: 0.0269 - val_accuracy: 0.9905 - epoch_time: 3.1282\n"
          ]
        }
      ]
    },
    {
      "cell_type": "code",
      "source": [
        "#plot history of model_sensor1\n",
        "history_sensor1 = pd.read_csv(model_path +\"historyLOG_Drift-0_2_10_sensor1.csv\", index_col='epoch')\n",
        "history_sensor1.reset_index(drop= True, inplace= True)\n",
        "history_sensor1.head()\n",
        "print('Average Exe_time for sensor1: {} sec.'.format(round(np.mean(history_sensor1['epoch_time'].values),3)))\n"
      ],
      "metadata": {
        "colab": {
          "base_uri": "https://localhost:8080/"
        },
        "id": "3O-5mYHRoluo",
        "outputId": "00d9fa21-5109-4ad4-88ef-45042481e852"
      },
      "execution_count": null,
      "outputs": [
        {
          "output_type": "stream",
          "name": "stdout",
          "text": [
            "Average Exe_time for sensor1: 2.445 sec.\n"
          ]
        }
      ]
    },
    {
      "cell_type": "code",
      "source": [
        "plt.plot( history_sensor1['loss'], 'b',label = 'loss')\n",
        "plt.plot( history_sensor1['val_loss'], 'g', label = 'val_loss')\n",
        "plt.legend()\n",
        "plt.grid()\n",
        "plt.title('loss_model_sensor1')\n",
        "plt.show()"
      ],
      "metadata": {
        "colab": {
          "base_uri": "https://localhost:8080/",
          "height": 281
        },
        "id": "qk6CGElHFQKh",
        "outputId": "ae934845-ba3d-4301-fc2e-5c9e1b9d036a"
      },
      "execution_count": null,
      "outputs": [
        {
          "output_type": "display_data",
          "data": {
            "text/plain": [
              "<Figure size 432x288 with 1 Axes>"
            ],
            "image/png": "[encoded data removed]"
          },
          "metadata": {
            "needs_background": "light"
          }
        }
      ]
    },
    {
      "cell_type": "code",
      "source": [
        "plt.plot(history_sensor1['accuracy']* 100,'b',label = 'acc')\n",
        "plt.plot(history_sensor1['val_accuracy'] * 100,'g', label = 'val_acc')\n",
        "plt.legend()\n",
        "plt.grid()\n",
        "plt.title('accuracy_model_sensor1')\n",
        "plt.show()"
      ],
      "metadata": {
        "colab": {
          "base_uri": "https://localhost:8080/",
          "height": 281
        },
        "id": "yW2YOqyrFauE",
        "outputId": "3b703e14-815e-4582-dff3-600add833e70"
      },
      "execution_count": null,
      "outputs": [
        {
          "output_type": "display_data",
          "data": {
            "text/plain": [
              "<Figure size 432x288 with 1 Axes>"
            ],
            "image/png": "[encoded data removed]"
          },
          "metadata": {
            "needs_background": "light"
          }
        }
      ]
    },
    {
      "cell_type": "code",
      "metadata": {
        "colab": {
          "base_uri": "https://localhost:8080/"
        },
        "id": "yiUh7YCM0q5f",
        "outputId": "7b0556fd-d31e-4bff-c823-88bc6cc2893d"
      },
      "source": [
        "history_sensor2 = pd.read_csv(model_path +\"historyLOG_Drift-0_2_10_sensor2.csv\", index_col='epoch')\n",
        "history_sensor2.reset_index(drop= True, inplace= True)\n",
        "history_sensor2.head()\n",
        "print('Average Exe_time for sensor2: {} sec.'.format(round(np.mean(history_sensor2['epoch_time'].values),3)))\n"
      ],
      "execution_count": null,
      "outputs": [
        {
          "output_type": "stream",
          "name": "stdout",
          "text": [
            "Average Exe_time for sensor2: 2.437 sec.\n"
          ]
        }
      ]
    },
    {
      "cell_type": "code",
      "source": [
        "plt.plot( history_sensor2['loss'], 'b',label = 'loss')\n",
        "plt.plot( history_sensor2['val_loss'], 'g', label = 'val_loss')\n",
        "plt.legend()\n",
        "plt.grid()\n",
        "plt.title('loss_model_sensor2')\n",
        "plt.show()"
      ],
      "metadata": {
        "colab": {
          "base_uri": "https://localhost:8080/",
          "height": 281
        },
        "id": "L7pzR8UUFR-X",
        "outputId": "1c4e9293-48ab-4c3e-a377-9101997c1930"
      },
      "execution_count": null,
      "outputs": [
        {
          "output_type": "display_data",
          "data": {
            "text/plain": [
              "<Figure size 432x288 with 1 Axes>"
            ],
            "image/png": "[encoded data removed]"
          },
          "metadata": {
            "needs_background": "light"
          }
        }
      ]
    },
    {
      "cell_type": "code",
      "source": [
        "plt.plot(history_sensor2['accuracy']* 100,'b',label = 'acc')\n",
        "plt.plot(history_sensor2['val_accuracy'] * 100,'g', label = 'val_acc')\n",
        "plt.legend()\n",
        "plt.grid()\n",
        "plt.title('accuracy_model_sensor2')\n",
        "plt.show()"
      ],
      "metadata": {
        "colab": {
          "base_uri": "https://localhost:8080/",
          "height": 281
        },
        "id": "ThBgZzV2Finr",
        "outputId": "1a058738-7258-4861-cffa-e16ec7378e3c"
      },
      "execution_count": null,
      "outputs": [
        {
          "output_type": "display_data",
          "data": {
            "text/plain": [
              "<Figure size 432x288 with 1 Axes>"
            ],
            "image/png": "[encoded data removed]"
          },
          "metadata": {
            "needs_background": "light"
          }
        }
      ]
    },
    {
      "cell_type": "code",
      "metadata": {
        "colab": {
          "base_uri": "https://localhost:8080/"
        },
        "id": "xZQRze500qd5",
        "outputId": "76e0620a-58d6-4757-e7aa-070c491d84f9"
      },
      "source": [
        "history_sensor3 = pd.read_csv(model_path +\"historyLOG_Drift-0_2_10_sensor3.csv\", index_col='epoch')\n",
        "history_sensor3.reset_index(drop= True, inplace= True)\n",
        "history_sensor3.head()\n",
        "print('Average Exe_time for sensor3: {} sec.'.format(round(np.mean(history_sensor3['epoch_time'].values),3)))\n"
      ],
      "execution_count": null,
      "outputs": [
        {
          "output_type": "stream",
          "name": "stdout",
          "text": [
            "Average Exe_time for sensor3: 2.42 sec.\n"
          ]
        }
      ]
    },
    {
      "cell_type": "code",
      "metadata": {
        "id": "swXRfIlAX0pF",
        "colab": {
          "base_uri": "https://localhost:8080/",
          "height": 281
        },
        "outputId": "01b5aafd-5e1d-491b-e993-7037bd981f7b"
      },
      "source": [
        "plt.plot( history_sensor3['loss'], 'b',label = 'loss')\n",
        "plt.plot( history_sensor3['val_loss'], 'g', label = 'val_loss')\n",
        "plt.legend()\n",
        "plt.grid()\n",
        "plt.title('loss_model_sensor3')\n",
        "plt.show()"
      ],
      "execution_count": null,
      "outputs": [
        {
          "output_type": "display_data",
          "data": {
            "text/plain": [
              "<Figure size 432x288 with 1 Axes>"
            ],
            "image/png": "[encoded data removed]"
          },
          "metadata": {
            "needs_background": "light"
          }
        }
      ]
    },
    {
      "cell_type": "code",
      "source": [
        "plt.plot(history_sensor3['accuracy']* 100,'b',label = 'acc')\n",
        "plt.plot(history_sensor3['val_accuracy'] * 100,'g', label = 'val_acc')\n",
        "plt.legend()\n",
        "plt.grid()\n",
        "plt.title('accuracy_model_sensor3')\n",
        "plt.show()"
      ],
      "metadata": {
        "colab": {
          "base_uri": "https://localhost:8080/",
          "height": 281
        },
        "id": "Uzl-v65bFtOj",
        "outputId": "f835f45c-dddc-4c3d-a5a3-1d57b6a5f467"
      },
      "execution_count": null,
      "outputs": [
        {
          "output_type": "display_data",
          "data": {
            "text/plain": [
              "<Figure size 432x288 with 1 Axes>"
            ],
            "image/png": "[encoded data removed]"
          },
          "metadata": {
            "needs_background": "light"
          }
        }
      ]
    },
    {
      "cell_type": "code",
      "source": [
        "#last model_sensor1 evaluation\n",
        "test_loss, test_acc = model_sensor1.evaluate( X_test_sensor1, y_test_sensor1, verbose= 1)\n",
        "print('test accuracy :{:.1%} \\n test loss :{:.3}'.format(test_acc, test_loss))"
      ],
      "metadata": {
        "colab": {
          "base_uri": "https://localhost:8080/"
        },
        "id": "r9txKKt8GPES",
        "outputId": "0bfccbd5-af6a-41bc-d0e9-6a85f0d099ab"
      },
      "execution_count": null,
      "outputs": [
        {
          "output_type": "stream",
          "name": "stdout",
          "text": [
            "140/140 [==============================] - 1s 6ms/step - loss: 0.0074 - accuracy: 0.9987\n",
            "test accuracy :99.9% \n",
            " test loss :0.00738\n"
          ]
        }
      ]
    },
    {
      "cell_type": "code",
      "source": [
        "#last model_sensor2 evaluation\n",
        "test_loss, test_acc = model_sensor2.evaluate( X_test_sensor2, y_test_sensor2, verbose= 1)\n",
        "print('test accuracy :{:.1%} \\n test loss :{:.3}'.format(test_acc, test_loss))"
      ],
      "metadata": {
        "colab": {
          "base_uri": "https://localhost:8080/"
        },
        "id": "adROowiPGPtE",
        "outputId": "f5415008-abc1-4d28-c8bc-85b59f5b6b19"
      },
      "execution_count": null,
      "outputs": [
        {
          "output_type": "stream",
          "name": "stdout",
          "text": [
            "140/140 [==============================] - 1s 5ms/step - loss: 0.0147 - accuracy: 0.9973\n",
            "test accuracy :99.7% \n",
            " test loss :0.0147\n"
          ]
        }
      ]
    },
    {
      "cell_type": "code",
      "source": [
        "#last model_sensor3 evaluation\n",
        "test_loss, test_acc = model_sensor3.evaluate( X_test_sensor3, y_test_sensor3, verbose= 1)\n",
        "print('test accuracy :{:.1%} \\n test loss :{:.3}'.format(test_acc, test_loss))"
      ],
      "metadata": {
        "colab": {
          "base_uri": "https://localhost:8080/"
        },
        "id": "AFoZDmx4GP5u",
        "outputId": "140ab9c6-0445-4c2f-d9e9-c0bdb9b2eac7"
      },
      "execution_count": null,
      "outputs": [
        {
          "output_type": "stream",
          "name": "stdout",
          "text": [
            "140/140 [==============================] - 1s 5ms/step - loss: 0.0356 - accuracy: 0.9888\n",
            "test accuracy :98.9% \n",
            " test loss :0.0356\n"
          ]
        }
      ]
    },
    {
      "cell_type": "code",
      "source": [
        "y_pred_sensor1 = model_sensor1.predict( X_test_sensor1, verbose= 1)\n",
        "y_pred_sensor2 = model_sensor2.predict( X_test_sensor2, verbose= 1)\n",
        "y_pred_sensor3 = model_sensor3.predict( X_test_sensor3, verbose= 1)"
      ],
      "metadata": {
        "colab": {
          "base_uri": "https://localhost:8080/"
        },
        "id": "STn_XkCZGP7k",
        "outputId": "4b90d08f-53e1-4604-e79e-ce7e959d964e"
      },
      "execution_count": null,
      "outputs": [
        {
          "output_type": "stream",
          "name": "stdout",
          "text": [
            "140/140 [==============================] - 2s 6ms/step\n",
            "140/140 [==============================] - 2s 4ms/step\n",
            "140/140 [==============================] - 2s 4ms/step\n"
          ]
        }
      ]
    },
    {
      "cell_type": "code",
      "source": [
        "y_pred_sensor1 = [np.argmax(i) for i in y_pred_sensor1]\n",
        "y_pred_sensor2 = [np.argmax(i) for i in y_pred_sensor2]\n",
        "y_pred_sensor3 = [np.argmax(i) for i in y_pred_sensor3]"
      ],
      "metadata": {
        "id": "WCLRF8ySGP-y"
      },
      "execution_count": null,
      "outputs": []
    },
    {
      "cell_type": "code",
      "source": [
        "y_pred_total = []\n",
        "for i in range(len(y_pred_sensor1)):\n",
        "  y_pred_total.append( y_pred_sensor1[i] or y_pred_sensor2[i] or y_pred_sensor3[i])"
      ],
      "metadata": {
        "id": "anY5RdokHE_1"
      },
      "execution_count": null,
      "outputs": []
    },
    {
      "cell_type": "code",
      "source": [
        "assert(len(y_pred_total) == len(y_pred_sensor1))"
      ],
      "metadata": {
        "id": "afksljyBHFMW"
      },
      "execution_count": null,
      "outputs": []
    },
    {
      "cell_type": "code",
      "source": [
        "y_test_sensor1 = [np.argmax(i) for i in y_test_sensor1]\n",
        "y_test_sensor2 = [np.argmax(i) for i in y_test_sensor2]\n",
        "y_test_sensor3 = [np.argmax(i) for i in y_test_sensor3]"
      ],
      "metadata": {
        "id": "9NrwBh01HMgQ"
      },
      "execution_count": null,
      "outputs": []
    },
    {
      "cell_type": "code",
      "source": [
        "y_test_total = []\n",
        "for i in range(len(y_test_sensor1)):\n",
        "  y_test_total.append(y_test_sensor1[i] or y_test_sensor2[i] or y_test_sensor3[i])"
      ],
      "metadata": {
        "id": "lRweEKazHMsx"
      },
      "execution_count": null,
      "outputs": []
    },
    {
      "cell_type": "code",
      "source": [
        "print(\"Sensor 1 performanace:\")\n",
        "recall = recall_score(y_test_sensor1, y_pred_sensor1, average='micro')\n",
        "print('recall score : {:.2%}\\n'.format(recall ))\n",
        "\n",
        "precision = precision_score(y_test_sensor1, y_pred_sensor1, average='micro')\n",
        "print('precision score: {:.2%}\\n'.format(precision ))\n",
        "\n",
        "f1 = f1_score(y_test_sensor1, y_pred_sensor1, average='micro')\n",
        "print(\"F1 score: {:.2%}\\n\".format(f1 ))\n",
        "\n",
        "accuracy = accuracy_score(y_test_sensor1, y_pred_sensor1)\n",
        "print(\"accuracy score: {:.2%}\\n\".format(accuracy))"
      ],
      "metadata": {
        "colab": {
          "base_uri": "https://localhost:8080/"
        },
        "id": "3oCJphJZHMuN",
        "outputId": "3d784b29-9349-465d-8c30-74bf67e0b0e3"
      },
      "execution_count": null,
      "outputs": [
        {
          "output_type": "stream",
          "name": "stdout",
          "text": [
            "Sensor 1 performanace:\n",
            "recall score : 99.87%\n",
            "\n",
            "precision score: 99.87%\n",
            "\n",
            "F1 score: 99.87%\n",
            "\n",
            "accuracy score: 99.87%\n",
            "\n"
          ]
        }
      ]
    },
    {
      "cell_type": "code",
      "source": [
        "print(\"Sensor 2 performanace:\")\n",
        "recall = recall_score(y_test_sensor2, y_pred_sensor2, average='micro')\n",
        "print('recall score : {:.2%}\\n'.format(recall ))\n",
        "\n",
        "precision = precision_score(y_test_sensor2, y_pred_sensor2, average='micro')\n",
        "print('precision score: {:.2%}\\n'.format(precision ))\n",
        "\n",
        "f1 = f1_score(y_test_sensor2, y_pred_sensor2, average='micro')\n",
        "print(\"F1 score: {:.2%}\\n\".format(f1 ))\n",
        "\n",
        "accuracy = accuracy_score(y_test_sensor2, y_pred_sensor2)\n",
        "print(\"accuracy score: {:.2%}\\n\".format(accuracy))"
      ],
      "metadata": {
        "colab": {
          "base_uri": "https://localhost:8080/"
        },
        "id": "Lm9vlS19HMxS",
        "outputId": "5d885df1-44b0-4671-9622-ab32137d3278"
      },
      "execution_count": null,
      "outputs": [
        {
          "output_type": "stream",
          "name": "stdout",
          "text": [
            "Sensor 2 performanace:\n",
            "recall score : 99.73%\n",
            "\n",
            "precision score: 99.73%\n",
            "\n",
            "F1 score: 99.73%\n",
            "\n",
            "accuracy score: 99.73%\n",
            "\n"
          ]
        }
      ]
    },
    {
      "cell_type": "code",
      "source": [
        "print(\"Sensor 3 performanace:\")\n",
        "recall = recall_score(y_test_sensor3, y_pred_sensor3, average='micro')\n",
        "print('recall score : {:.2%}\\n'.format(recall ))\n",
        "\n",
        "precision = precision_score(y_test_sensor3, y_pred_sensor3, average='micro')\n",
        "print('precision score: {:.2%}\\n'.format(precision ))\n",
        "\n",
        "f1 = f1_score(y_test_sensor3, y_pred_sensor3, average='micro')\n",
        "print(\"F1 score: {:.2%}\\n\".format(f1 ))\n",
        "\n",
        "accuracy = accuracy_score(y_test_sensor3, y_pred_sensor3)\n",
        "print(\"accuracy score: {:.2%}\\n\".format(accuracy))"
      ],
      "metadata": {
        "colab": {
          "base_uri": "https://localhost:8080/"
        },
        "id": "klF4enFMHaV1",
        "outputId": "5744517a-388c-4f42-f861-eeb55c1fe8e6"
      },
      "execution_count": null,
      "outputs": [
        {
          "output_type": "stream",
          "name": "stdout",
          "text": [
            "Sensor 3 performanace:\n",
            "recall score : 98.88%\n",
            "\n",
            "precision score: 98.88%\n",
            "\n",
            "F1 score: 98.88%\n",
            "\n",
            "accuracy score: 98.88%\n",
            "\n"
          ]
        }
      ]
    },
    {
      "cell_type": "code",
      "source": [
        "print(\"All Sensors performanace:\\n\")\n",
        "\n",
        "recall = recall_score(y_test_total, y_pred_total, average='micro')\n",
        "print('recall score : {:.2%}\\n'.format(recall ))\n",
        "\n",
        "precision = precision_score(y_test_total, y_pred_total, average='micro')\n",
        "print('precision score: {:.2%}\\n'.format(precision ))\n",
        "\n",
        "f1 = f1_score(y_test_total, y_pred_total, average='micro')\n",
        "print(\"F1 score: {:.2%}\\n\".format(f1 ))\n",
        "\n",
        "accuracy = accuracy_score(y_test_total, y_pred_total)\n",
        "print(\"accuracy score: {:.2%}\\n\".format(accuracy))"
      ],
      "metadata": {
        "colab": {
          "base_uri": "https://localhost:8080/"
        },
        "id": "EIlCvZWhHg9S",
        "outputId": "a99467a8-4814-4b56-e309-2860fc8d44b9"
      },
      "execution_count": null,
      "outputs": [
        {
          "output_type": "stream",
          "name": "stdout",
          "text": [
            "All Sensors performanace:\n",
            "\n",
            "recall score : 99.22%\n",
            "\n",
            "precision score: 99.22%\n",
            "\n",
            "F1 score: 99.22%\n",
            "\n",
            "accuracy score: 99.22%\n",
            "\n"
          ]
        }
      ]
    },
    {
      "cell_type": "code",
      "source": [
        "print(\"All Sensors performanace:\\n\")\n",
        "\n",
        "recall = recall_score(y_test_total, y_pred_total, average='macro')\n",
        "print('recall score : {:.2%}\\n'.format(recall ))\n",
        "\n",
        "precision = precision_score(y_test_total, y_pred_total, average='macro')\n",
        "print('precision score: {:.2%}\\n'.format(precision ))\n",
        "\n",
        "f1 = f1_score(y_test_total, y_pred_total, average='macro')\n",
        "print(\"F1 score: {:.2%}\\n\".format(f1 ))\n",
        "\n",
        "accuracy = accuracy_score(y_test_total, y_pred_total)\n",
        "print(\"accuracy score: {:.2%}\\n\".format(accuracy))"
      ],
      "metadata": {
        "colab": {
          "base_uri": "https://localhost:8080/"
        },
        "id": "j5CsF4AQHiEs",
        "outputId": "17c6c8ad-a484-4111-9ac6-d7fb78d4b22c"
      },
      "execution_count": null,
      "outputs": [
        {
          "output_type": "stream",
          "name": "stdout",
          "text": [
            "All Sensors performanace:\n",
            "\n",
            "recall score : 99.06%\n",
            "\n",
            "precision score: 99.24%\n",
            "\n",
            "F1 score: 99.15%\n",
            "\n",
            "accuracy score: 99.22%\n",
            "\n"
          ]
        }
      ]
    },
    {
      "cell_type": "code",
      "source": [
        "conf = confusion_matrix(y_test_total, y_pred_total, labels=[1,0])\n",
        "conf_df = pd.DataFrame(conf, columns= [1,0], index= [1,0])\n",
        "conf_df"
      ],
      "metadata": {
        "colab": {
          "base_uri": "https://localhost:8080/",
          "height": 112
        },
        "id": "d1gGHBdzHlkV",
        "outputId": "fe0854ec-5b63-472f-900a-1eadef949418"
      },
      "execution_count": null,
      "outputs": [
        {
          "output_type": "execute_result",
          "data": {
            "text/plain": [
              "      1     0\n",
              "1  2851    11\n",
              "0    24  1583"
            ],
            "text/html": [
              "\n",
              "  <div id=\"df-fc3af7e3-77bf-4fcb-9aef-762285218e15\">\n",
              "    <div class=\"colab-df-container\">\n",
              "      <div>\n",
              "<style scoped>\n",
              "    .dataframe tbody tr th:only-of-type {\n",
              "        vertical-align: middle;\n",
              "    }\n",
              "\n",
              "    .dataframe tbody tr th {\n",
              "        vertical-align: top;\n",
              "    }\n",
              "\n",
              "    .dataframe thead th {\n",
              "        text-align: right;\n",
              "    }\n",
              "</style>\n",
              "<table border=\"1\" class=\"dataframe\">\n",
              "  <thead>\n",
              "    <tr style=\"text-align: right;\">\n",
              "      <th></th>\n",
              "      <th>1</th>\n",
              "      <th>0</th>\n",
              "    </tr>\n",
              "  </thead>\n",
              "  <tbody>\n",
              "    <tr>\n",
              "      <th>1</th>\n",
              "      <td>2851</td>\n",
              "      <td>11</td>\n",
              "    </tr>\n",
              "    <tr>\n",
              "      <th>0</th>\n",
              "      <td>24</td>\n",
              "      <td>1583</td>\n",
              "    </tr>\n",
              "  </tbody>\n",
              "</table>\n",
              "</div>\n",
              "      <button class=\"colab-df-convert\" onclick=\"convertToInteractive('df-fc3af7e3-77bf-4fcb-9aef-762285218e15')\"\n",
              "              title=\"Convert this dataframe to an interactive table.\"\n",
              "              style=\"display:none;\">\n",
              "        \n",
              "  <svg xmlns=\"http://www.w3.org/2000/svg\" height=\"24px\"viewBox=\"0 0 24 24\"\n",
              "       width=\"24px\">\n",
              "    <path d=\"M0 0h24v24H0V0z\" fill=\"none\"/>\n",
              "    <path d=\"M18.56 5.44l.94 2.06.94-2.06 2.06-.94-2.06-.94-.94-2.06-.94 2.06-2.06.94zm-11 1L8.5 8.5l.94-2.06 2.06-.94-2.06-.94L8.5 2.5l-.94 2.06-2.06.94zm10 10l.94 2.06.94-2.06 2.06-.94-2.06-.94-.94-2.06-.94 2.06-2.06.94z\"/><path d=\"M17.41 7.96l-1.37-1.37c-.4-.4-.92-.59-1.43-.59-.52 0-1.04.2-1.43.59L10.3 9.45l-7.72 7.72c-.78.78-.78 2.05 0 2.83L4 21.41c.39.39.9.59 1.41.59.51 0 1.02-.2 1.41-.59l7.78-7.78 2.81-2.81c.8-.78.8-2.07 0-2.86zM5.41 20L4 18.59l7.72-7.72 1.47 1.35L5.41 20z\"/>\n",
              "  </svg>\n",
              "      </button>\n",
              "      \n",
              "  <style>\n",
              "    .colab-df-container {\n",
              "      display:flex;\n",
              "      flex-wrap:wrap;\n",
              "      gap: 12px;\n",
              "    }\n",
              "\n",
              "    .colab-df-convert {\n",
              "      background-color: #E8F0FE;\n",
              "      border: none;\n",
              "      border-radius: 50%;\n",
              "      cursor: pointer;\n",
              "      display: none;\n",
              "      fill: #1967D2;\n",
              "      height: 32px;\n",
              "      padding: 0 0 0 0;\n",
              "      width: 32px;\n",
              "    }\n",
              "\n",
              "    .colab-df-convert:hover {\n",
              "      background-color: #E2EBFA;\n",
              "      box-shadow: 0px 1px 2px rgba(60, 64, 67, 0.3), 0px 1px 3px 1px rgba(60, 64, 67, 0.15);\n",
              "      fill: #174EA6;\n",
              "    }\n",
              "\n",
              "    [theme=dark] .colab-df-convert {\n",
              "      background-color: #3B4455;\n",
              "      fill: #D2E3FC;\n",
              "    }\n",
              "\n",
              "    [theme=dark] .colab-df-convert:hover {\n",
              "      background-color: #434B5C;\n",
              "      box-shadow: 0px 1px 3px 1px rgba(0, 0, 0, 0.15);\n",
              "      filter: drop-shadow(0px 1px 2px rgba(0, 0, 0, 0.3));\n",
              "      fill: #FFFFFF;\n",
              "    }\n",
              "  </style>\n",
              "\n",
              "      <script>\n",
              "        const buttonEl =\n",
              "          document.querySelector('#df-fc3af7e3-77bf-4fcb-9aef-762285218e15 button.colab-df-convert');\n",
              "        buttonEl.style.display =\n",
              "          google.colab.kernel.accessAllowed ? 'block' : 'none';\n",
              "\n",
              "        async function convertToInteractive(key) {\n",
              "          const element = document.querySelector('#df-fc3af7e3-77bf-4fcb-9aef-762285218e15');\n",
              "          const dataTable =\n",
              "            await google.colab.kernel.invokeFunction('convertToInteractive',\n",
              "                                                     [key], {});\n",
              "          if (!dataTable) return;\n",
              "\n",
              "          const docLinkHtml = 'Like what you see? Visit the ' +\n",
              "            '<a target=\"_blank\" href=https://colab.research.google.com/notebooks/data_table.ipynb>data table notebook</a>'\n",
              "            + ' to learn more about interactive tables.';\n",
              "          element.innerHTML = '';\n",
              "          dataTable['output_type'] = 'display_data';\n",
              "          await google.colab.output.renderOutput(dataTable, element);\n",
              "          const docLink = document.createElement('div');\n",
              "          docLink.innerHTML = docLinkHtml;\n",
              "          element.appendChild(docLink);\n",
              "        }\n",
              "      </script>\n",
              "    </div>\n",
              "  </div>\n",
              "  "
            ]
          },
          "metadata": {},
          "execution_count": 74
        }
      ]
    }
  ]
}