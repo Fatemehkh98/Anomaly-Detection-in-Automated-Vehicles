{
  "nbformat": 4,
  "nbformat_minor": 0,
  "metadata": {
    "colab": {
      "provenance": []
    },
    "kernelspec": {
      "name": "python3",
      "display_name": "Python 3"
    },
    "language_info": {
      "name": "python"
    },
    "accelerator": "GPU"
  },
  "cells": [
    {
      "cell_type": "code",
      "metadata": {
        "id": "INNY7MoLZn0x",
        "colab": {
          "base_uri": "https://localhost:8080/"
        },
        "outputId": "0135aa96-0dae-41d3-c745-3c6e481a0ae5"
      },
      "source": [
        "from google.colab import drive\n",
        "drive.mount('/content/drive')"
      ],
      "execution_count": null,
      "outputs": [
        {
          "output_type": "stream",
          "name": "stdout",
          "text": [
            "Mounted at /content/drive\n"
          ]
        }
      ]
    },
    {
      "cell_type": "code",
      "metadata": {
        "id": "bQ3m-WaucgZw",
        "colab": {
          "base_uri": "https://localhost:8080/"
        },
        "outputId": "a864a569-bd86-4ed7-faf7-d4ccfe9668bc"
      },
      "source": [
        "pip install h5py==2.10.0"
      ],
      "execution_count": null,
      "outputs": [
        {
          "output_type": "stream",
          "name": "stdout",
          "text": [
            "Looking in indexes: https://pypi.org/simple, https://us-python.pkg.dev/colab-wheels/public/simple/\n",
            "Collecting h5py==2.10.0\n",
            "  Downloading h5py-2.10.0-cp38-cp38-manylinux1_x86_64.whl (2.9 MB)\n",
            "\u001b[2K     \u001b[90m━━━━━━━━━━━━━━━━━━━━━━━━━━━━━━━━━━━━━━━━\u001b[0m \u001b[32m2.9/2.9 MB\u001b[0m \u001b[31m79.1 MB/s\u001b[0m eta \u001b[36m0:00:00\u001b[0m\n",
            "\u001b[?25hRequirement already satisfied: six in /usr/local/lib/python3.8/dist-packages (from h5py==2.10.0) (1.15.0)\n",
            "Requirement already satisfied: numpy>=1.7 in /usr/local/lib/python3.8/dist-packages (from h5py==2.10.0) (1.21.6)\n",
            "Installing collected packages: h5py\n",
            "  Attempting uninstall: h5py\n",
            "    Found existing installation: h5py 3.1.0\n",
            "    Uninstalling h5py-3.1.0:\n",
            "      Successfully uninstalled h5py-3.1.0\n",
            "Successfully installed h5py-2.10.0\n"
          ]
        }
      ]
    },
    {
      "cell_type": "code",
      "metadata": {
        "colab": {
          "base_uri": "https://localhost:8080/"
        },
        "id": "8QiS7haVwwyX",
        "outputId": "4ac85f0f-1028-4f98-ef85-56b664d3eeb3"
      },
      "source": [
        "import tensorflow as tf\n",
        "print(\"tensorflow version :{}\".format(tf.__version__))\n",
        "device_name = tf.test.gpu_device_name()\n",
        "if device_name != '/device:GPU:0':\n",
        "  raise SystemError('GPU device not found')\n",
        "print('Found GPU at: {}'.format(device_name))"
      ],
      "execution_count": null,
      "outputs": [
        {
          "output_type": "stream",
          "name": "stdout",
          "text": [
            "tensorflow version :2.9.2\n",
            "Found GPU at: /device:GPU:0\n"
          ]
        }
      ]
    },
    {
      "cell_type": "code",
      "metadata": {
        "colab": {
          "base_uri": "https://localhost:8080/"
        },
        "id": "GcgHainaexAf",
        "outputId": "b220efb7-5f5b-4c9f-e539-f445fd5433ea"
      },
      "source": [
        "from tensorflow.python.client import device_lib\n",
        "device_lib.list_local_devices()"
      ],
      "execution_count": null,
      "outputs": [
        {
          "output_type": "execute_result",
          "data": {
            "text/plain": [
              "[name: \"/device:CPU:0\"\n",
              " device_type: \"CPU\"\n",
              " memory_limit: 268435456\n",
              " locality {\n",
              " }\n",
              " incarnation: 7865963197203343050\n",
              " xla_global_id: -1, name: \"/device:GPU:0\"\n",
              " device_type: \"GPU\"\n",
              " memory_limit: 14417788928\n",
              " locality {\n",
              "   bus_id: 1\n",
              "   links {\n",
              "   }\n",
              " }\n",
              " incarnation: 17467912057349587745\n",
              " physical_device_desc: \"device: 0, name: Tesla T4, pci bus id: 0000:00:04.0, compute capability: 7.5\"\n",
              " xla_global_id: 416903419]"
            ]
          },
          "metadata": {},
          "execution_count": 4
        }
      ]
    },
    {
      "cell_type": "code",
      "metadata": {
        "id": "wXNT7HPDVvnG"
      },
      "source": [
        "#### physical_device_desc: \"device: 0, name: Tesla T4, pci bus id: 0000:00:04.0, compute capability: 7.5\"]"
      ],
      "execution_count": null,
      "outputs": []
    },
    {
      "cell_type": "code",
      "metadata": {
        "id": "VtduHlsdzllv"
      },
      "source": [
        "import pandas as pd\n",
        "import numpy as np\n",
        "import matplotlib.pyplot as plt\n",
        "from sklearn.model_selection import train_test_split\n",
        "from sklearn.preprocessing import MinMaxScaler, StandardScaler\n",
        "from sklearn.utils import class_weight"
      ],
      "execution_count": null,
      "outputs": []
    },
    {
      "cell_type": "code",
      "metadata": {
        "id": "wmDBFUYG5UTm"
      },
      "source": [
        "\n",
        "from keras.layers import Conv1D, Dense, Dropout, GlobalMaxPool1D, MaxPool1D\n",
        "from keras.layers import TimeDistributed, LSTM, Bidirectional, Input, concatenate,RepeatVector\n",
        "from keras import regularizers\n",
        "# from keras.layers.normalization import BatchNormalization\n",
        "from keras.models import Sequential, load_model, Model\n",
        "from keras.callbacks import ModelCheckpoint, Callback, EarlyStopping\n",
        "from tensorflow.keras.utils import plot_model, to_categorical\n",
        "from keras.losses import binary_crossentropy\n",
        "from keras.optimizers import Adam\n",
        "from sklearn.metrics import recall_score, precision_score, f1_score, accuracy_score\n",
        "from sklearn.metrics import confusion_matrix\n",
        "from keras.regularizers import l1,l2\n",
        "from statsmodels.tsa.stattools import adfuller"
      ],
      "execution_count": null,
      "outputs": []
    },
    {
      "cell_type": "code",
      "metadata": {
        "id": "knBwY4MXdknx"
      },
      "source": [
        "data_path = '/content/drive/MyDrive/CAV/data/Instant attack/25/'"
      ],
      "execution_count": null,
      "outputs": []
    },
    {
      "cell_type": "code",
      "metadata": {
        "colab": {
          "base_uri": "https://localhost:8080/",
          "height": 206
        },
        "id": "uPy3-An4ynUz",
        "outputId": "793966e5-e14f-4808-a78a-4e6987eb75d1"
      },
      "source": [
        "sensor1_data = pd.read_csv(data_path + \"Sensor1_values_instant_25.csv\", index_col= 'Unnamed: 0')\n",
        "sensor1_data.head()"
      ],
      "execution_count": null,
      "outputs": [
        {
          "output_type": "execute_result",
          "data": {
            "text/plain": [
              "   InVehicle_Longitudinal_Speed  GPS_Speed  InVehicle_Longitudinal_Accel\n",
              "0                     11.375000  11.307097                     -0.103000\n",
              "1                     11.366708  11.255964                     -0.353946\n",
              "2                     11.362331  11.249115                     -0.090962\n",
              "3                     11.358665  11.263280                     -0.043470\n",
              "4                     11.356745  11.270361                     -0.037579"
            ],
            "text/html": [
              "\n",
              "  <div id=\"df-019f1da7-9600-45ae-8544-93a077fd6667\">\n",
              "    <div class=\"colab-df-container\">\n",
              "      <div>\n",
              "<style scoped>\n",
              "    .dataframe tbody tr th:only-of-type {\n",
              "        vertical-align: middle;\n",
              "    }\n",
              "\n",
              "    .dataframe tbody tr th {\n",
              "        vertical-align: top;\n",
              "    }\n",
              "\n",
              "    .dataframe thead th {\n",
              "        text-align: right;\n",
              "    }\n",
              "</style>\n",
              "<table border=\"1\" class=\"dataframe\">\n",
              "  <thead>\n",
              "    <tr style=\"text-align: right;\">\n",
              "      <th></th>\n",
              "      <th>InVehicle_Longitudinal_Speed</th>\n",
              "      <th>GPS_Speed</th>\n",
              "      <th>InVehicle_Longitudinal_Accel</th>\n",
              "    </tr>\n",
              "  </thead>\n",
              "  <tbody>\n",
              "    <tr>\n",
              "      <th>0</th>\n",
              "      <td>11.375000</td>\n",
              "      <td>11.307097</td>\n",
              "      <td>-0.103000</td>\n",
              "    </tr>\n",
              "    <tr>\n",
              "      <th>1</th>\n",
              "      <td>11.366708</td>\n",
              "      <td>11.255964</td>\n",
              "      <td>-0.353946</td>\n",
              "    </tr>\n",
              "    <tr>\n",
              "      <th>2</th>\n",
              "      <td>11.362331</td>\n",
              "      <td>11.249115</td>\n",
              "      <td>-0.090962</td>\n",
              "    </tr>\n",
              "    <tr>\n",
              "      <th>3</th>\n",
              "      <td>11.358665</td>\n",
              "      <td>11.263280</td>\n",
              "      <td>-0.043470</td>\n",
              "    </tr>\n",
              "    <tr>\n",
              "      <th>4</th>\n",
              "      <td>11.356745</td>\n",
              "      <td>11.270361</td>\n",
              "      <td>-0.037579</td>\n",
              "    </tr>\n",
              "  </tbody>\n",
              "</table>\n",
              "</div>\n",
              "      <button class=\"colab-df-convert\" onclick=\"convertToInteractive('df-019f1da7-9600-45ae-8544-93a077fd6667')\"\n",
              "              title=\"Convert this dataframe to an interactive table.\"\n",
              "              style=\"display:none;\">\n",
              "        \n",
              "  <svg xmlns=\"http://www.w3.org/2000/svg\" height=\"24px\"viewBox=\"0 0 24 24\"\n",
              "       width=\"24px\">\n",
              "    <path d=\"M0 0h24v24H0V0z\" fill=\"none\"/>\n",
              "    <path d=\"M18.56 5.44l.94 2.06.94-2.06 2.06-.94-2.06-.94-.94-2.06-.94 2.06-2.06.94zm-11 1L8.5 8.5l.94-2.06 2.06-.94-2.06-.94L8.5 2.5l-.94 2.06-2.06.94zm10 10l.94 2.06.94-2.06 2.06-.94-2.06-.94-.94-2.06-.94 2.06-2.06.94z\"/><path d=\"M17.41 7.96l-1.37-1.37c-.4-.4-.92-.59-1.43-.59-.52 0-1.04.2-1.43.59L10.3 9.45l-7.72 7.72c-.78.78-.78 2.05 0 2.83L4 21.41c.39.39.9.59 1.41.59.51 0 1.02-.2 1.41-.59l7.78-7.78 2.81-2.81c.8-.78.8-2.07 0-2.86zM5.41 20L4 18.59l7.72-7.72 1.47 1.35L5.41 20z\"/>\n",
              "  </svg>\n",
              "      </button>\n",
              "      \n",
              "  <style>\n",
              "    .colab-df-container {\n",
              "      display:flex;\n",
              "      flex-wrap:wrap;\n",
              "      gap: 12px;\n",
              "    }\n",
              "\n",
              "    .colab-df-convert {\n",
              "      background-color: #E8F0FE;\n",
              "      border: none;\n",
              "      border-radius: 50%;\n",
              "      cursor: pointer;\n",
              "      display: none;\n",
              "      fill: #1967D2;\n",
              "      height: 32px;\n",
              "      padding: 0 0 0 0;\n",
              "      width: 32px;\n",
              "    }\n",
              "\n",
              "    .colab-df-convert:hover {\n",
              "      background-color: #E2EBFA;\n",
              "      box-shadow: 0px 1px 2px rgba(60, 64, 67, 0.3), 0px 1px 3px 1px rgba(60, 64, 67, 0.15);\n",
              "      fill: #174EA6;\n",
              "    }\n",
              "\n",
              "    [theme=dark] .colab-df-convert {\n",
              "      background-color: #3B4455;\n",
              "      fill: #D2E3FC;\n",
              "    }\n",
              "\n",
              "    [theme=dark] .colab-df-convert:hover {\n",
              "      background-color: #434B5C;\n",
              "      box-shadow: 0px 1px 3px 1px rgba(0, 0, 0, 0.15);\n",
              "      filter: drop-shadow(0px 1px 2px rgba(0, 0, 0, 0.3));\n",
              "      fill: #FFFFFF;\n",
              "    }\n",
              "  </style>\n",
              "\n",
              "      <script>\n",
              "        const buttonEl =\n",
              "          document.querySelector('#df-019f1da7-9600-45ae-8544-93a077fd6667 button.colab-df-convert');\n",
              "        buttonEl.style.display =\n",
              "          google.colab.kernel.accessAllowed ? 'block' : 'none';\n",
              "\n",
              "        async function convertToInteractive(key) {\n",
              "          const element = document.querySelector('#df-019f1da7-9600-45ae-8544-93a077fd6667');\n",
              "          const dataTable =\n",
              "            await google.colab.kernel.invokeFunction('convertToInteractive',\n",
              "                                                     [key], {});\n",
              "          if (!dataTable) return;\n",
              "\n",
              "          const docLinkHtml = 'Like what you see? Visit the ' +\n",
              "            '<a target=\"_blank\" href=https://colab.research.google.com/notebooks/data_table.ipynb>data table notebook</a>'\n",
              "            + ' to learn more about interactive tables.';\n",
              "          element.innerHTML = '';\n",
              "          dataTable['output_type'] = 'display_data';\n",
              "          await google.colab.output.renderOutput(dataTable, element);\n",
              "          const docLink = document.createElement('div');\n",
              "          docLink.innerHTML = docLinkHtml;\n",
              "          element.appendChild(docLink);\n",
              "        }\n",
              "      </script>\n",
              "    </div>\n",
              "  </div>\n",
              "  "
            ]
          },
          "metadata": {},
          "execution_count": 9
        }
      ]
    },
    {
      "cell_type": "code",
      "source": [
        "sensor1_data"
      ],
      "metadata": {
        "colab": {
          "base_uri": "https://localhost:8080/",
          "height": 424
        },
        "id": "LGLRCYH5T81y",
        "outputId": "518a5731-752b-433b-ca86-d68c6895f96a"
      },
      "execution_count": null,
      "outputs": [
        {
          "output_type": "execute_result",
          "data": {
            "text/plain": [
              "       InVehicle_Longitudinal_Speed  GPS_Speed  InVehicle_Longitudinal_Accel\n",
              "0                         11.375000  11.307097                     -0.103000\n",
              "1                         11.366708  11.255964                     -0.353946\n",
              "2                         11.362331  11.249115                     -0.090962\n",
              "3                         11.358665  11.263280                     -0.043470\n",
              "4                         11.356745  11.270361                     -0.037579\n",
              "...                             ...        ...                           ...\n",
              "29795                     22.855765  22.834129                     -0.081526\n",
              "29796                     22.858710  22.840796                     -0.034917\n",
              "29797                     22.862361  22.826919                      0.009582\n",
              "29798                     22.865025  22.827342                      0.021096\n",
              "29799                     22.867720  22.792250                      0.029499\n",
              "\n",
              "[29800 rows x 3 columns]"
            ],
            "text/html": [
              "\n",
              "  <div id=\"df-af426d6d-6424-4b21-8db1-0a75fb5de3b9\">\n",
              "    <div class=\"colab-df-container\">\n",
              "      <div>\n",
              "<style scoped>\n",
              "    .dataframe tbody tr th:only-of-type {\n",
              "        vertical-align: middle;\n",
              "    }\n",
              "\n",
              "    .dataframe tbody tr th {\n",
              "        vertical-align: top;\n",
              "    }\n",
              "\n",
              "    .dataframe thead th {\n",
              "        text-align: right;\n",
              "    }\n",
              "</style>\n",
              "<table border=\"1\" class=\"dataframe\">\n",
              "  <thead>\n",
              "    <tr style=\"text-align: right;\">\n",
              "      <th></th>\n",
              "      <th>InVehicle_Longitudinal_Speed</th>\n",
              "      <th>GPS_Speed</th>\n",
              "      <th>InVehicle_Longitudinal_Accel</th>\n",
              "    </tr>\n",
              "  </thead>\n",
              "  <tbody>\n",
              "    <tr>\n",
              "      <th>0</th>\n",
              "      <td>11.375000</td>\n",
              "      <td>11.307097</td>\n",
              "      <td>-0.103000</td>\n",
              "    </tr>\n",
              "    <tr>\n",
              "      <th>1</th>\n",
              "      <td>11.366708</td>\n",
              "      <td>11.255964</td>\n",
              "      <td>-0.353946</td>\n",
              "    </tr>\n",
              "    <tr>\n",
              "      <th>2</th>\n",
              "      <td>11.362331</td>\n",
              "      <td>11.249115</td>\n",
              "      <td>-0.090962</td>\n",
              "    </tr>\n",
              "    <tr>\n",
              "      <th>3</th>\n",
              "      <td>11.358665</td>\n",
              "      <td>11.263280</td>\n",
              "      <td>-0.043470</td>\n",
              "    </tr>\n",
              "    <tr>\n",
              "      <th>4</th>\n",
              "      <td>11.356745</td>\n",
              "      <td>11.270361</td>\n",
              "      <td>-0.037579</td>\n",
              "    </tr>\n",
              "    <tr>\n",
              "      <th>...</th>\n",
              "      <td>...</td>\n",
              "      <td>...</td>\n",
              "      <td>...</td>\n",
              "    </tr>\n",
              "    <tr>\n",
              "      <th>29795</th>\n",
              "      <td>22.855765</td>\n",
              "      <td>22.834129</td>\n",
              "      <td>-0.081526</td>\n",
              "    </tr>\n",
              "    <tr>\n",
              "      <th>29796</th>\n",
              "      <td>22.858710</td>\n",
              "      <td>22.840796</td>\n",
              "      <td>-0.034917</td>\n",
              "    </tr>\n",
              "    <tr>\n",
              "      <th>29797</th>\n",
              "      <td>22.862361</td>\n",
              "      <td>22.826919</td>\n",
              "      <td>0.009582</td>\n",
              "    </tr>\n",
              "    <tr>\n",
              "      <th>29798</th>\n",
              "      <td>22.865025</td>\n",
              "      <td>22.827342</td>\n",
              "      <td>0.021096</td>\n",
              "    </tr>\n",
              "    <tr>\n",
              "      <th>29799</th>\n",
              "      <td>22.867720</td>\n",
              "      <td>22.792250</td>\n",
              "      <td>0.029499</td>\n",
              "    </tr>\n",
              "  </tbody>\n",
              "</table>\n",
              "<p>29800 rows × 3 columns</p>\n",
              "</div>\n",
              "      <button class=\"colab-df-convert\" onclick=\"convertToInteractive('df-af426d6d-6424-4b21-8db1-0a75fb5de3b9')\"\n",
              "              title=\"Convert this dataframe to an interactive table.\"\n",
              "              style=\"display:none;\">\n",
              "        \n",
              "  <svg xmlns=\"http://www.w3.org/2000/svg\" height=\"24px\"viewBox=\"0 0 24 24\"\n",
              "       width=\"24px\">\n",
              "    <path d=\"M0 0h24v24H0V0z\" fill=\"none\"/>\n",
              "    <path d=\"M18.56 5.44l.94 2.06.94-2.06 2.06-.94-2.06-.94-.94-2.06-.94 2.06-2.06.94zm-11 1L8.5 8.5l.94-2.06 2.06-.94-2.06-.94L8.5 2.5l-.94 2.06-2.06.94zm10 10l.94 2.06.94-2.06 2.06-.94-2.06-.94-.94-2.06-.94 2.06-2.06.94z\"/><path d=\"M17.41 7.96l-1.37-1.37c-.4-.4-.92-.59-1.43-.59-.52 0-1.04.2-1.43.59L10.3 9.45l-7.72 7.72c-.78.78-.78 2.05 0 2.83L4 21.41c.39.39.9.59 1.41.59.51 0 1.02-.2 1.41-.59l7.78-7.78 2.81-2.81c.8-.78.8-2.07 0-2.86zM5.41 20L4 18.59l7.72-7.72 1.47 1.35L5.41 20z\"/>\n",
              "  </svg>\n",
              "      </button>\n",
              "      \n",
              "  <style>\n",
              "    .colab-df-container {\n",
              "      display:flex;\n",
              "      flex-wrap:wrap;\n",
              "      gap: 12px;\n",
              "    }\n",
              "\n",
              "    .colab-df-convert {\n",
              "      background-color: #E8F0FE;\n",
              "      border: none;\n",
              "      border-radius: 50%;\n",
              "      cursor: pointer;\n",
              "      display: none;\n",
              "      fill: #1967D2;\n",
              "      height: 32px;\n",
              "      padding: 0 0 0 0;\n",
              "      width: 32px;\n",
              "    }\n",
              "\n",
              "    .colab-df-convert:hover {\n",
              "      background-color: #E2EBFA;\n",
              "      box-shadow: 0px 1px 2px rgba(60, 64, 67, 0.3), 0px 1px 3px 1px rgba(60, 64, 67, 0.15);\n",
              "      fill: #174EA6;\n",
              "    }\n",
              "\n",
              "    [theme=dark] .colab-df-convert {\n",
              "      background-color: #3B4455;\n",
              "      fill: #D2E3FC;\n",
              "    }\n",
              "\n",
              "    [theme=dark] .colab-df-convert:hover {\n",
              "      background-color: #434B5C;\n",
              "      box-shadow: 0px 1px 3px 1px rgba(0, 0, 0, 0.15);\n",
              "      filter: drop-shadow(0px 1px 2px rgba(0, 0, 0, 0.3));\n",
              "      fill: #FFFFFF;\n",
              "    }\n",
              "  </style>\n",
              "\n",
              "      <script>\n",
              "        const buttonEl =\n",
              "          document.querySelector('#df-af426d6d-6424-4b21-8db1-0a75fb5de3b9 button.colab-df-convert');\n",
              "        buttonEl.style.display =\n",
              "          google.colab.kernel.accessAllowed ? 'block' : 'none';\n",
              "\n",
              "        async function convertToInteractive(key) {\n",
              "          const element = document.querySelector('#df-af426d6d-6424-4b21-8db1-0a75fb5de3b9');\n",
              "          const dataTable =\n",
              "            await google.colab.kernel.invokeFunction('convertToInteractive',\n",
              "                                                     [key], {});\n",
              "          if (!dataTable) return;\n",
              "\n",
              "          const docLinkHtml = 'Like what you see? Visit the ' +\n",
              "            '<a target=\"_blank\" href=https://colab.research.google.com/notebooks/data_table.ipynb>data table notebook</a>'\n",
              "            + ' to learn more about interactive tables.';\n",
              "          element.innerHTML = '';\n",
              "          dataTable['output_type'] = 'display_data';\n",
              "          await google.colab.output.renderOutput(dataTable, element);\n",
              "          const docLink = document.createElement('div');\n",
              "          docLink.innerHTML = docLinkHtml;\n",
              "          element.appendChild(docLink);\n",
              "        }\n",
              "      </script>\n",
              "    </div>\n",
              "  </div>\n",
              "  "
            ]
          },
          "metadata": {},
          "execution_count": 10
        }
      ]
    },
    {
      "cell_type": "code",
      "metadata": {
        "colab": {
          "base_uri": "https://localhost:8080/"
        },
        "id": "NkKyrb2sQCni",
        "outputId": "bf976895-6edb-4856-e6f1-4c34ea77c9e2"
      },
      "source": [
        "len(sensor1_data)"
      ],
      "execution_count": null,
      "outputs": [
        {
          "output_type": "execute_result",
          "data": {
            "text/plain": [
              "29800"
            ]
          },
          "metadata": {},
          "execution_count": 11
        }
      ]
    },
    {
      "cell_type": "code",
      "metadata": {
        "colab": {
          "base_uri": "https://localhost:8080/",
          "height": 206
        },
        "id": "OYhwlWY8z4N6",
        "outputId": "b27df261-1493-4631-ffa8-a7db05f90aa8"
      },
      "source": [
        "sensor1_label = pd.read_csv(data_path+\"Ground_truth_instant_25_sensor1.csv\", names=['Class'])\n",
        "sensor1_label.head()"
      ],
      "execution_count": null,
      "outputs": [
        {
          "output_type": "execute_result",
          "data": {
            "text/plain": [
              "   Class\n",
              "0    0.0\n",
              "1    0.0\n",
              "2    0.0\n",
              "3    0.0\n",
              "4    0.0"
            ],
            "text/html": [
              "\n",
              "  <div id=\"df-106af9bc-0bd2-42c1-a3a7-f05271a05c22\">\n",
              "    <div class=\"colab-df-container\">\n",
              "      <div>\n",
              "<style scoped>\n",
              "    .dataframe tbody tr th:only-of-type {\n",
              "        vertical-align: middle;\n",
              "    }\n",
              "\n",
              "    .dataframe tbody tr th {\n",
              "        vertical-align: top;\n",
              "    }\n",
              "\n",
              "    .dataframe thead th {\n",
              "        text-align: right;\n",
              "    }\n",
              "</style>\n",
              "<table border=\"1\" class=\"dataframe\">\n",
              "  <thead>\n",
              "    <tr style=\"text-align: right;\">\n",
              "      <th></th>\n",
              "      <th>Class</th>\n",
              "    </tr>\n",
              "  </thead>\n",
              "  <tbody>\n",
              "    <tr>\n",
              "      <th>0</th>\n",
              "      <td>0.0</td>\n",
              "    </tr>\n",
              "    <tr>\n",
              "      <th>1</th>\n",
              "      <td>0.0</td>\n",
              "    </tr>\n",
              "    <tr>\n",
              "      <th>2</th>\n",
              "      <td>0.0</td>\n",
              "    </tr>\n",
              "    <tr>\n",
              "      <th>3</th>\n",
              "      <td>0.0</td>\n",
              "    </tr>\n",
              "    <tr>\n",
              "      <th>4</th>\n",
              "      <td>0.0</td>\n",
              "    </tr>\n",
              "  </tbody>\n",
              "</table>\n",
              "</div>\n",
              "      <button class=\"colab-df-convert\" onclick=\"convertToInteractive('df-106af9bc-0bd2-42c1-a3a7-f05271a05c22')\"\n",
              "              title=\"Convert this dataframe to an interactive table.\"\n",
              "              style=\"display:none;\">\n",
              "        \n",
              "  <svg xmlns=\"http://www.w3.org/2000/svg\" height=\"24px\"viewBox=\"0 0 24 24\"\n",
              "       width=\"24px\">\n",
              "    <path d=\"M0 0h24v24H0V0z\" fill=\"none\"/>\n",
              "    <path d=\"M18.56 5.44l.94 2.06.94-2.06 2.06-.94-2.06-.94-.94-2.06-.94 2.06-2.06.94zm-11 1L8.5 8.5l.94-2.06 2.06-.94-2.06-.94L8.5 2.5l-.94 2.06-2.06.94zm10 10l.94 2.06.94-2.06 2.06-.94-2.06-.94-.94-2.06-.94 2.06-2.06.94z\"/><path d=\"M17.41 7.96l-1.37-1.37c-.4-.4-.92-.59-1.43-.59-.52 0-1.04.2-1.43.59L10.3 9.45l-7.72 7.72c-.78.78-.78 2.05 0 2.83L4 21.41c.39.39.9.59 1.41.59.51 0 1.02-.2 1.41-.59l7.78-7.78 2.81-2.81c.8-.78.8-2.07 0-2.86zM5.41 20L4 18.59l7.72-7.72 1.47 1.35L5.41 20z\"/>\n",
              "  </svg>\n",
              "      </button>\n",
              "      \n",
              "  <style>\n",
              "    .colab-df-container {\n",
              "      display:flex;\n",
              "      flex-wrap:wrap;\n",
              "      gap: 12px;\n",
              "    }\n",
              "\n",
              "    .colab-df-convert {\n",
              "      background-color: #E8F0FE;\n",
              "      border: none;\n",
              "      border-radius: 50%;\n",
              "      cursor: pointer;\n",
              "      display: none;\n",
              "      fill: #1967D2;\n",
              "      height: 32px;\n",
              "      padding: 0 0 0 0;\n",
              "      width: 32px;\n",
              "    }\n",
              "\n",
              "    .colab-df-convert:hover {\n",
              "      background-color: #E2EBFA;\n",
              "      box-shadow: 0px 1px 2px rgba(60, 64, 67, 0.3), 0px 1px 3px 1px rgba(60, 64, 67, 0.15);\n",
              "      fill: #174EA6;\n",
              "    }\n",
              "\n",
              "    [theme=dark] .colab-df-convert {\n",
              "      background-color: #3B4455;\n",
              "      fill: #D2E3FC;\n",
              "    }\n",
              "\n",
              "    [theme=dark] .colab-df-convert:hover {\n",
              "      background-color: #434B5C;\n",
              "      box-shadow: 0px 1px 3px 1px rgba(0, 0, 0, 0.15);\n",
              "      filter: drop-shadow(0px 1px 2px rgba(0, 0, 0, 0.3));\n",
              "      fill: #FFFFFF;\n",
              "    }\n",
              "  </style>\n",
              "\n",
              "      <script>\n",
              "        const buttonEl =\n",
              "          document.querySelector('#df-106af9bc-0bd2-42c1-a3a7-f05271a05c22 button.colab-df-convert');\n",
              "        buttonEl.style.display =\n",
              "          google.colab.kernel.accessAllowed ? 'block' : 'none';\n",
              "\n",
              "        async function convertToInteractive(key) {\n",
              "          const element = document.querySelector('#df-106af9bc-0bd2-42c1-a3a7-f05271a05c22');\n",
              "          const dataTable =\n",
              "            await google.colab.kernel.invokeFunction('convertToInteractive',\n",
              "                                                     [key], {});\n",
              "          if (!dataTable) return;\n",
              "\n",
              "          const docLinkHtml = 'Like what you see? Visit the ' +\n",
              "            '<a target=\"_blank\" href=https://colab.research.google.com/notebooks/data_table.ipynb>data table notebook</a>'\n",
              "            + ' to learn more about interactive tables.';\n",
              "          element.innerHTML = '';\n",
              "          dataTable['output_type'] = 'display_data';\n",
              "          await google.colab.output.renderOutput(dataTable, element);\n",
              "          const docLink = document.createElement('div');\n",
              "          docLink.innerHTML = docLinkHtml;\n",
              "          element.appendChild(docLink);\n",
              "        }\n",
              "      </script>\n",
              "    </div>\n",
              "  </div>\n",
              "  "
            ]
          },
          "metadata": {},
          "execution_count": 12
        }
      ]
    },
    {
      "cell_type": "code",
      "source": [
        "sensor1_label"
      ],
      "metadata": {
        "colab": {
          "base_uri": "https://localhost:8080/",
          "height": 424
        },
        "id": "dExeOGmvUDuJ",
        "outputId": "7d7901fb-b42b-4408-cbf6-5f66c1635870"
      },
      "execution_count": null,
      "outputs": [
        {
          "output_type": "execute_result",
          "data": {
            "text/plain": [
              "       Class\n",
              "0        0.0\n",
              "1        0.0\n",
              "2        0.0\n",
              "3        0.0\n",
              "4        0.0\n",
              "...      ...\n",
              "29795    0.0\n",
              "29796    0.0\n",
              "29797    0.0\n",
              "29798    0.0\n",
              "29799    0.0\n",
              "\n",
              "[29800 rows x 1 columns]"
            ],
            "text/html": [
              "\n",
              "  <div id=\"df-fbd667a7-9676-4e70-9ac2-22c85497aeba\">\n",
              "    <div class=\"colab-df-container\">\n",
              "      <div>\n",
              "<style scoped>\n",
              "    .dataframe tbody tr th:only-of-type {\n",
              "        vertical-align: middle;\n",
              "    }\n",
              "\n",
              "    .dataframe tbody tr th {\n",
              "        vertical-align: top;\n",
              "    }\n",
              "\n",
              "    .dataframe thead th {\n",
              "        text-align: right;\n",
              "    }\n",
              "</style>\n",
              "<table border=\"1\" class=\"dataframe\">\n",
              "  <thead>\n",
              "    <tr style=\"text-align: right;\">\n",
              "      <th></th>\n",
              "      <th>Class</th>\n",
              "    </tr>\n",
              "  </thead>\n",
              "  <tbody>\n",
              "    <tr>\n",
              "      <th>0</th>\n",
              "      <td>0.0</td>\n",
              "    </tr>\n",
              "    <tr>\n",
              "      <th>1</th>\n",
              "      <td>0.0</td>\n",
              "    </tr>\n",
              "    <tr>\n",
              "      <th>2</th>\n",
              "      <td>0.0</td>\n",
              "    </tr>\n",
              "    <tr>\n",
              "      <th>3</th>\n",
              "      <td>0.0</td>\n",
              "    </tr>\n",
              "    <tr>\n",
              "      <th>4</th>\n",
              "      <td>0.0</td>\n",
              "    </tr>\n",
              "    <tr>\n",
              "      <th>...</th>\n",
              "      <td>...</td>\n",
              "    </tr>\n",
              "    <tr>\n",
              "      <th>29795</th>\n",
              "      <td>0.0</td>\n",
              "    </tr>\n",
              "    <tr>\n",
              "      <th>29796</th>\n",
              "      <td>0.0</td>\n",
              "    </tr>\n",
              "    <tr>\n",
              "      <th>29797</th>\n",
              "      <td>0.0</td>\n",
              "    </tr>\n",
              "    <tr>\n",
              "      <th>29798</th>\n",
              "      <td>0.0</td>\n",
              "    </tr>\n",
              "    <tr>\n",
              "      <th>29799</th>\n",
              "      <td>0.0</td>\n",
              "    </tr>\n",
              "  </tbody>\n",
              "</table>\n",
              "<p>29800 rows × 1 columns</p>\n",
              "</div>\n",
              "      <button class=\"colab-df-convert\" onclick=\"convertToInteractive('df-fbd667a7-9676-4e70-9ac2-22c85497aeba')\"\n",
              "              title=\"Convert this dataframe to an interactive table.\"\n",
              "              style=\"display:none;\">\n",
              "        \n",
              "  <svg xmlns=\"http://www.w3.org/2000/svg\" height=\"24px\"viewBox=\"0 0 24 24\"\n",
              "       width=\"24px\">\n",
              "    <path d=\"M0 0h24v24H0V0z\" fill=\"none\"/>\n",
              "    <path d=\"M18.56 5.44l.94 2.06.94-2.06 2.06-.94-2.06-.94-.94-2.06-.94 2.06-2.06.94zm-11 1L8.5 8.5l.94-2.06 2.06-.94-2.06-.94L8.5 2.5l-.94 2.06-2.06.94zm10 10l.94 2.06.94-2.06 2.06-.94-2.06-.94-.94-2.06-.94 2.06-2.06.94z\"/><path d=\"M17.41 7.96l-1.37-1.37c-.4-.4-.92-.59-1.43-.59-.52 0-1.04.2-1.43.59L10.3 9.45l-7.72 7.72c-.78.78-.78 2.05 0 2.83L4 21.41c.39.39.9.59 1.41.59.51 0 1.02-.2 1.41-.59l7.78-7.78 2.81-2.81c.8-.78.8-2.07 0-2.86zM5.41 20L4 18.59l7.72-7.72 1.47 1.35L5.41 20z\"/>\n",
              "  </svg>\n",
              "      </button>\n",
              "      \n",
              "  <style>\n",
              "    .colab-df-container {\n",
              "      display:flex;\n",
              "      flex-wrap:wrap;\n",
              "      gap: 12px;\n",
              "    }\n",
              "\n",
              "    .colab-df-convert {\n",
              "      background-color: #E8F0FE;\n",
              "      border: none;\n",
              "      border-radius: 50%;\n",
              "      cursor: pointer;\n",
              "      display: none;\n",
              "      fill: #1967D2;\n",
              "      height: 32px;\n",
              "      padding: 0 0 0 0;\n",
              "      width: 32px;\n",
              "    }\n",
              "\n",
              "    .colab-df-convert:hover {\n",
              "      background-color: #E2EBFA;\n",
              "      box-shadow: 0px 1px 2px rgba(60, 64, 67, 0.3), 0px 1px 3px 1px rgba(60, 64, 67, 0.15);\n",
              "      fill: #174EA6;\n",
              "    }\n",
              "\n",
              "    [theme=dark] .colab-df-convert {\n",
              "      background-color: #3B4455;\n",
              "      fill: #D2E3FC;\n",
              "    }\n",
              "\n",
              "    [theme=dark] .colab-df-convert:hover {\n",
              "      background-color: #434B5C;\n",
              "      box-shadow: 0px 1px 3px 1px rgba(0, 0, 0, 0.15);\n",
              "      filter: drop-shadow(0px 1px 2px rgba(0, 0, 0, 0.3));\n",
              "      fill: #FFFFFF;\n",
              "    }\n",
              "  </style>\n",
              "\n",
              "      <script>\n",
              "        const buttonEl =\n",
              "          document.querySelector('#df-fbd667a7-9676-4e70-9ac2-22c85497aeba button.colab-df-convert');\n",
              "        buttonEl.style.display =\n",
              "          google.colab.kernel.accessAllowed ? 'block' : 'none';\n",
              "\n",
              "        async function convertToInteractive(key) {\n",
              "          const element = document.querySelector('#df-fbd667a7-9676-4e70-9ac2-22c85497aeba');\n",
              "          const dataTable =\n",
              "            await google.colab.kernel.invokeFunction('convertToInteractive',\n",
              "                                                     [key], {});\n",
              "          if (!dataTable) return;\n",
              "\n",
              "          const docLinkHtml = 'Like what you see? Visit the ' +\n",
              "            '<a target=\"_blank\" href=https://colab.research.google.com/notebooks/data_table.ipynb>data table notebook</a>'\n",
              "            + ' to learn more about interactive tables.';\n",
              "          element.innerHTML = '';\n",
              "          dataTable['output_type'] = 'display_data';\n",
              "          await google.colab.output.renderOutput(dataTable, element);\n",
              "          const docLink = document.createElement('div');\n",
              "          docLink.innerHTML = docLinkHtml;\n",
              "          element.appendChild(docLink);\n",
              "        }\n",
              "      </script>\n",
              "    </div>\n",
              "  </div>\n",
              "  "
            ]
          },
          "metadata": {},
          "execution_count": 13
        }
      ]
    },
    {
      "cell_type": "code",
      "source": [
        "sensor1_label[0:9]"
      ],
      "metadata": {
        "id": "Cy1uRcVbb8UB",
        "outputId": "c9d9fdbd-909e-4282-8982-cc40cd031742",
        "colab": {
          "base_uri": "https://localhost:8080/",
          "height": 332
        }
      },
      "execution_count": null,
      "outputs": [
        {
          "output_type": "execute_result",
          "data": {
            "text/plain": [
              "   Class\n",
              "0    0.0\n",
              "1    0.0\n",
              "2    0.0\n",
              "3    0.0\n",
              "4    0.0\n",
              "5    0.0\n",
              "6    0.0\n",
              "7    0.0\n",
              "8    0.0"
            ],
            "text/html": [
              "\n",
              "  <div id=\"df-80571828-c0cd-4a84-99f4-c15688c3e711\">\n",
              "    <div class=\"colab-df-container\">\n",
              "      <div>\n",
              "<style scoped>\n",
              "    .dataframe tbody tr th:only-of-type {\n",
              "        vertical-align: middle;\n",
              "    }\n",
              "\n",
              "    .dataframe tbody tr th {\n",
              "        vertical-align: top;\n",
              "    }\n",
              "\n",
              "    .dataframe thead th {\n",
              "        text-align: right;\n",
              "    }\n",
              "</style>\n",
              "<table border=\"1\" class=\"dataframe\">\n",
              "  <thead>\n",
              "    <tr style=\"text-align: right;\">\n",
              "      <th></th>\n",
              "      <th>Class</th>\n",
              "    </tr>\n",
              "  </thead>\n",
              "  <tbody>\n",
              "    <tr>\n",
              "      <th>0</th>\n",
              "      <td>0.0</td>\n",
              "    </tr>\n",
              "    <tr>\n",
              "      <th>1</th>\n",
              "      <td>0.0</td>\n",
              "    </tr>\n",
              "    <tr>\n",
              "      <th>2</th>\n",
              "      <td>0.0</td>\n",
              "    </tr>\n",
              "    <tr>\n",
              "      <th>3</th>\n",
              "      <td>0.0</td>\n",
              "    </tr>\n",
              "    <tr>\n",
              "      <th>4</th>\n",
              "      <td>0.0</td>\n",
              "    </tr>\n",
              "    <tr>\n",
              "      <th>5</th>\n",
              "      <td>0.0</td>\n",
              "    </tr>\n",
              "    <tr>\n",
              "      <th>6</th>\n",
              "      <td>0.0</td>\n",
              "    </tr>\n",
              "    <tr>\n",
              "      <th>7</th>\n",
              "      <td>0.0</td>\n",
              "    </tr>\n",
              "    <tr>\n",
              "      <th>8</th>\n",
              "      <td>0.0</td>\n",
              "    </tr>\n",
              "  </tbody>\n",
              "</table>\n",
              "</div>\n",
              "      <button class=\"colab-df-convert\" onclick=\"convertToInteractive('df-80571828-c0cd-4a84-99f4-c15688c3e711')\"\n",
              "              title=\"Convert this dataframe to an interactive table.\"\n",
              "              style=\"display:none;\">\n",
              "        \n",
              "  <svg xmlns=\"http://www.w3.org/2000/svg\" height=\"24px\"viewBox=\"0 0 24 24\"\n",
              "       width=\"24px\">\n",
              "    <path d=\"M0 0h24v24H0V0z\" fill=\"none\"/>\n",
              "    <path d=\"M18.56 5.44l.94 2.06.94-2.06 2.06-.94-2.06-.94-.94-2.06-.94 2.06-2.06.94zm-11 1L8.5 8.5l.94-2.06 2.06-.94-2.06-.94L8.5 2.5l-.94 2.06-2.06.94zm10 10l.94 2.06.94-2.06 2.06-.94-2.06-.94-.94-2.06-.94 2.06-2.06.94z\"/><path d=\"M17.41 7.96l-1.37-1.37c-.4-.4-.92-.59-1.43-.59-.52 0-1.04.2-1.43.59L10.3 9.45l-7.72 7.72c-.78.78-.78 2.05 0 2.83L4 21.41c.39.39.9.59 1.41.59.51 0 1.02-.2 1.41-.59l7.78-7.78 2.81-2.81c.8-.78.8-2.07 0-2.86zM5.41 20L4 18.59l7.72-7.72 1.47 1.35L5.41 20z\"/>\n",
              "  </svg>\n",
              "      </button>\n",
              "      \n",
              "  <style>\n",
              "    .colab-df-container {\n",
              "      display:flex;\n",
              "      flex-wrap:wrap;\n",
              "      gap: 12px;\n",
              "    }\n",
              "\n",
              "    .colab-df-convert {\n",
              "      background-color: #E8F0FE;\n",
              "      border: none;\n",
              "      border-radius: 50%;\n",
              "      cursor: pointer;\n",
              "      display: none;\n",
              "      fill: #1967D2;\n",
              "      height: 32px;\n",
              "      padding: 0 0 0 0;\n",
              "      width: 32px;\n",
              "    }\n",
              "\n",
              "    .colab-df-convert:hover {\n",
              "      background-color: #E2EBFA;\n",
              "      box-shadow: 0px 1px 2px rgba(60, 64, 67, 0.3), 0px 1px 3px 1px rgba(60, 64, 67, 0.15);\n",
              "      fill: #174EA6;\n",
              "    }\n",
              "\n",
              "    [theme=dark] .colab-df-convert {\n",
              "      background-color: #3B4455;\n",
              "      fill: #D2E3FC;\n",
              "    }\n",
              "\n",
              "    [theme=dark] .colab-df-convert:hover {\n",
              "      background-color: #434B5C;\n",
              "      box-shadow: 0px 1px 3px 1px rgba(0, 0, 0, 0.15);\n",
              "      filter: drop-shadow(0px 1px 2px rgba(0, 0, 0, 0.3));\n",
              "      fill: #FFFFFF;\n",
              "    }\n",
              "  </style>\n",
              "\n",
              "      <script>\n",
              "        const buttonEl =\n",
              "          document.querySelector('#df-80571828-c0cd-4a84-99f4-c15688c3e711 button.colab-df-convert');\n",
              "        buttonEl.style.display =\n",
              "          google.colab.kernel.accessAllowed ? 'block' : 'none';\n",
              "\n",
              "        async function convertToInteractive(key) {\n",
              "          const element = document.querySelector('#df-80571828-c0cd-4a84-99f4-c15688c3e711');\n",
              "          const dataTable =\n",
              "            await google.colab.kernel.invokeFunction('convertToInteractive',\n",
              "                                                     [key], {});\n",
              "          if (!dataTable) return;\n",
              "\n",
              "          const docLinkHtml = 'Like what you see? Visit the ' +\n",
              "            '<a target=\"_blank\" href=https://colab.research.google.com/notebooks/data_table.ipynb>data table notebook</a>'\n",
              "            + ' to learn more about interactive tables.';\n",
              "          element.innerHTML = '';\n",
              "          dataTable['output_type'] = 'display_data';\n",
              "          await google.colab.output.renderOutput(dataTable, element);\n",
              "          const docLink = document.createElement('div');\n",
              "          docLink.innerHTML = docLinkHtml;\n",
              "          element.appendChild(docLink);\n",
              "        }\n",
              "      </script>\n",
              "    </div>\n",
              "  </div>\n",
              "  "
            ]
          },
          "metadata": {},
          "execution_count": 14
        }
      ]
    },
    {
      "cell_type": "code",
      "metadata": {
        "colab": {
          "base_uri": "https://localhost:8080/"
        },
        "id": "2mxdhpBpQMjZ",
        "outputId": "42f0ec27-784a-4da1-d1ff-94c1a3b8c87a"
      },
      "source": [
        "len(sensor1_label)"
      ],
      "execution_count": null,
      "outputs": [
        {
          "output_type": "execute_result",
          "data": {
            "text/plain": [
              "29800"
            ]
          },
          "metadata": {},
          "execution_count": 15
        }
      ]
    },
    {
      "cell_type": "code",
      "metadata": {
        "id": "hV_gOXr70BKL",
        "colab": {
          "base_uri": "https://localhost:8080/",
          "height": 206
        },
        "outputId": "8c09c002-b662-410c-bf6d-009668b657bf"
      },
      "source": [
        "sensor2_data = pd.read_csv(data_path + \"Sensor2_values_instant_25.csv\", index_col = \"Unnamed: 0\")\n",
        "sensor2_data.head()"
      ],
      "execution_count": null,
      "outputs": [
        {
          "output_type": "execute_result",
          "data": {
            "text/plain": [
              "   InVehicle_Longitudinal_Speed  GPS_Speed  InVehicle_Longitudinal_Accel\n",
              "0                     11.375000  11.307097                     -0.103000\n",
              "1                     11.366708  11.255964                     -0.353946\n",
              "2                     11.362331  11.249115                     -0.090962\n",
              "3                     11.358665  11.263280                     -0.043470\n",
              "4                     11.356745  11.270361                     -0.037579"
            ],
            "text/html": [
              "\n",
              "  <div id=\"df-185ebdb3-72ee-42a0-8606-692ee9fb8354\">\n",
              "    <div class=\"colab-df-container\">\n",
              "      <div>\n",
              "<style scoped>\n",
              "    .dataframe tbody tr th:only-of-type {\n",
              "        vertical-align: middle;\n",
              "    }\n",
              "\n",
              "    .dataframe tbody tr th {\n",
              "        vertical-align: top;\n",
              "    }\n",
              "\n",
              "    .dataframe thead th {\n",
              "        text-align: right;\n",
              "    }\n",
              "</style>\n",
              "<table border=\"1\" class=\"dataframe\">\n",
              "  <thead>\n",
              "    <tr style=\"text-align: right;\">\n",
              "      <th></th>\n",
              "      <th>InVehicle_Longitudinal_Speed</th>\n",
              "      <th>GPS_Speed</th>\n",
              "      <th>InVehicle_Longitudinal_Accel</th>\n",
              "    </tr>\n",
              "  </thead>\n",
              "  <tbody>\n",
              "    <tr>\n",
              "      <th>0</th>\n",
              "      <td>11.375000</td>\n",
              "      <td>11.307097</td>\n",
              "      <td>-0.103000</td>\n",
              "    </tr>\n",
              "    <tr>\n",
              "      <th>1</th>\n",
              "      <td>11.366708</td>\n",
              "      <td>11.255964</td>\n",
              "      <td>-0.353946</td>\n",
              "    </tr>\n",
              "    <tr>\n",
              "      <th>2</th>\n",
              "      <td>11.362331</td>\n",
              "      <td>11.249115</td>\n",
              "      <td>-0.090962</td>\n",
              "    </tr>\n",
              "    <tr>\n",
              "      <th>3</th>\n",
              "      <td>11.358665</td>\n",
              "      <td>11.263280</td>\n",
              "      <td>-0.043470</td>\n",
              "    </tr>\n",
              "    <tr>\n",
              "      <th>4</th>\n",
              "      <td>11.356745</td>\n",
              "      <td>11.270361</td>\n",
              "      <td>-0.037579</td>\n",
              "    </tr>\n",
              "  </tbody>\n",
              "</table>\n",
              "</div>\n",
              "      <button class=\"colab-df-convert\" onclick=\"convertToInteractive('df-185ebdb3-72ee-42a0-8606-692ee9fb8354')\"\n",
              "              title=\"Convert this dataframe to an interactive table.\"\n",
              "              style=\"display:none;\">\n",
              "        \n",
              "  <svg xmlns=\"http://www.w3.org/2000/svg\" height=\"24px\"viewBox=\"0 0 24 24\"\n",
              "       width=\"24px\">\n",
              "    <path d=\"M0 0h24v24H0V0z\" fill=\"none\"/>\n",
              "    <path d=\"M18.56 5.44l.94 2.06.94-2.06 2.06-.94-2.06-.94-.94-2.06-.94 2.06-2.06.94zm-11 1L8.5 8.5l.94-2.06 2.06-.94-2.06-.94L8.5 2.5l-.94 2.06-2.06.94zm10 10l.94 2.06.94-2.06 2.06-.94-2.06-.94-.94-2.06-.94 2.06-2.06.94z\"/><path d=\"M17.41 7.96l-1.37-1.37c-.4-.4-.92-.59-1.43-.59-.52 0-1.04.2-1.43.59L10.3 9.45l-7.72 7.72c-.78.78-.78 2.05 0 2.83L4 21.41c.39.39.9.59 1.41.59.51 0 1.02-.2 1.41-.59l7.78-7.78 2.81-2.81c.8-.78.8-2.07 0-2.86zM5.41 20L4 18.59l7.72-7.72 1.47 1.35L5.41 20z\"/>\n",
              "  </svg>\n",
              "      </button>\n",
              "      \n",
              "  <style>\n",
              "    .colab-df-container {\n",
              "      display:flex;\n",
              "      flex-wrap:wrap;\n",
              "      gap: 12px;\n",
              "    }\n",
              "\n",
              "    .colab-df-convert {\n",
              "      background-color: #E8F0FE;\n",
              "      border: none;\n",
              "      border-radius: 50%;\n",
              "      cursor: pointer;\n",
              "      display: none;\n",
              "      fill: #1967D2;\n",
              "      height: 32px;\n",
              "      padding: 0 0 0 0;\n",
              "      width: 32px;\n",
              "    }\n",
              "\n",
              "    .colab-df-convert:hover {\n",
              "      background-color: #E2EBFA;\n",
              "      box-shadow: 0px 1px 2px rgba(60, 64, 67, 0.3), 0px 1px 3px 1px rgba(60, 64, 67, 0.15);\n",
              "      fill: #174EA6;\n",
              "    }\n",
              "\n",
              "    [theme=dark] .colab-df-convert {\n",
              "      background-color: #3B4455;\n",
              "      fill: #D2E3FC;\n",
              "    }\n",
              "\n",
              "    [theme=dark] .colab-df-convert:hover {\n",
              "      background-color: #434B5C;\n",
              "      box-shadow: 0px 1px 3px 1px rgba(0, 0, 0, 0.15);\n",
              "      filter: drop-shadow(0px 1px 2px rgba(0, 0, 0, 0.3));\n",
              "      fill: #FFFFFF;\n",
              "    }\n",
              "  </style>\n",
              "\n",
              "      <script>\n",
              "        const buttonEl =\n",
              "          document.querySelector('#df-185ebdb3-72ee-42a0-8606-692ee9fb8354 button.colab-df-convert');\n",
              "        buttonEl.style.display =\n",
              "          google.colab.kernel.accessAllowed ? 'block' : 'none';\n",
              "\n",
              "        async function convertToInteractive(key) {\n",
              "          const element = document.querySelector('#df-185ebdb3-72ee-42a0-8606-692ee9fb8354');\n",
              "          const dataTable =\n",
              "            await google.colab.kernel.invokeFunction('convertToInteractive',\n",
              "                                                     [key], {});\n",
              "          if (!dataTable) return;\n",
              "\n",
              "          const docLinkHtml = 'Like what you see? Visit the ' +\n",
              "            '<a target=\"_blank\" href=https://colab.research.google.com/notebooks/data_table.ipynb>data table notebook</a>'\n",
              "            + ' to learn more about interactive tables.';\n",
              "          element.innerHTML = '';\n",
              "          dataTable['output_type'] = 'display_data';\n",
              "          await google.colab.output.renderOutput(dataTable, element);\n",
              "          const docLink = document.createElement('div');\n",
              "          docLink.innerHTML = docLinkHtml;\n",
              "          element.appendChild(docLink);\n",
              "        }\n",
              "      </script>\n",
              "    </div>\n",
              "  </div>\n",
              "  "
            ]
          },
          "metadata": {},
          "execution_count": 16
        }
      ]
    },
    {
      "cell_type": "code",
      "metadata": {
        "id": "8PtBb1m00oRX",
        "colab": {
          "base_uri": "https://localhost:8080/",
          "height": 206
        },
        "outputId": "570b47af-7a2c-4d49-f696-b54329adcbf7"
      },
      "source": [
        "sensor2_label = pd.read_csv(data_path + \"Ground_truth_instant_25_sensor2.csv\",names=['Class'])\n",
        "sensor2_label.head()"
      ],
      "execution_count": null,
      "outputs": [
        {
          "output_type": "execute_result",
          "data": {
            "text/plain": [
              "   Class\n",
              "0    0.0\n",
              "1    0.0\n",
              "2    0.0\n",
              "3    0.0\n",
              "4    0.0"
            ],
            "text/html": [
              "\n",
              "  <div id=\"df-77b9ce4a-1164-4856-9295-59802f15b881\">\n",
              "    <div class=\"colab-df-container\">\n",
              "      <div>\n",
              "<style scoped>\n",
              "    .dataframe tbody tr th:only-of-type {\n",
              "        vertical-align: middle;\n",
              "    }\n",
              "\n",
              "    .dataframe tbody tr th {\n",
              "        vertical-align: top;\n",
              "    }\n",
              "\n",
              "    .dataframe thead th {\n",
              "        text-align: right;\n",
              "    }\n",
              "</style>\n",
              "<table border=\"1\" class=\"dataframe\">\n",
              "  <thead>\n",
              "    <tr style=\"text-align: right;\">\n",
              "      <th></th>\n",
              "      <th>Class</th>\n",
              "    </tr>\n",
              "  </thead>\n",
              "  <tbody>\n",
              "    <tr>\n",
              "      <th>0</th>\n",
              "      <td>0.0</td>\n",
              "    </tr>\n",
              "    <tr>\n",
              "      <th>1</th>\n",
              "      <td>0.0</td>\n",
              "    </tr>\n",
              "    <tr>\n",
              "      <th>2</th>\n",
              "      <td>0.0</td>\n",
              "    </tr>\n",
              "    <tr>\n",
              "      <th>3</th>\n",
              "      <td>0.0</td>\n",
              "    </tr>\n",
              "    <tr>\n",
              "      <th>4</th>\n",
              "      <td>0.0</td>\n",
              "    </tr>\n",
              "  </tbody>\n",
              "</table>\n",
              "</div>\n",
              "      <button class=\"colab-df-convert\" onclick=\"convertToInteractive('df-77b9ce4a-1164-4856-9295-59802f15b881')\"\n",
              "              title=\"Convert this dataframe to an interactive table.\"\n",
              "              style=\"display:none;\">\n",
              "        \n",
              "  <svg xmlns=\"http://www.w3.org/2000/svg\" height=\"24px\"viewBox=\"0 0 24 24\"\n",
              "       width=\"24px\">\n",
              "    <path d=\"M0 0h24v24H0V0z\" fill=\"none\"/>\n",
              "    <path d=\"M18.56 5.44l.94 2.06.94-2.06 2.06-.94-2.06-.94-.94-2.06-.94 2.06-2.06.94zm-11 1L8.5 8.5l.94-2.06 2.06-.94-2.06-.94L8.5 2.5l-.94 2.06-2.06.94zm10 10l.94 2.06.94-2.06 2.06-.94-2.06-.94-.94-2.06-.94 2.06-2.06.94z\"/><path d=\"M17.41 7.96l-1.37-1.37c-.4-.4-.92-.59-1.43-.59-.52 0-1.04.2-1.43.59L10.3 9.45l-7.72 7.72c-.78.78-.78 2.05 0 2.83L4 21.41c.39.39.9.59 1.41.59.51 0 1.02-.2 1.41-.59l7.78-7.78 2.81-2.81c.8-.78.8-2.07 0-2.86zM5.41 20L4 18.59l7.72-7.72 1.47 1.35L5.41 20z\"/>\n",
              "  </svg>\n",
              "      </button>\n",
              "      \n",
              "  <style>\n",
              "    .colab-df-container {\n",
              "      display:flex;\n",
              "      flex-wrap:wrap;\n",
              "      gap: 12px;\n",
              "    }\n",
              "\n",
              "    .colab-df-convert {\n",
              "      background-color: #E8F0FE;\n",
              "      border: none;\n",
              "      border-radius: 50%;\n",
              "      cursor: pointer;\n",
              "      display: none;\n",
              "      fill: #1967D2;\n",
              "      height: 32px;\n",
              "      padding: 0 0 0 0;\n",
              "      width: 32px;\n",
              "    }\n",
              "\n",
              "    .colab-df-convert:hover {\n",
              "      background-color: #E2EBFA;\n",
              "      box-shadow: 0px 1px 2px rgba(60, 64, 67, 0.3), 0px 1px 3px 1px rgba(60, 64, 67, 0.15);\n",
              "      fill: #174EA6;\n",
              "    }\n",
              "\n",
              "    [theme=dark] .colab-df-convert {\n",
              "      background-color: #3B4455;\n",
              "      fill: #D2E3FC;\n",
              "    }\n",
              "\n",
              "    [theme=dark] .colab-df-convert:hover {\n",
              "      background-color: #434B5C;\n",
              "      box-shadow: 0px 1px 3px 1px rgba(0, 0, 0, 0.15);\n",
              "      filter: drop-shadow(0px 1px 2px rgba(0, 0, 0, 0.3));\n",
              "      fill: #FFFFFF;\n",
              "    }\n",
              "  </style>\n",
              "\n",
              "      <script>\n",
              "        const buttonEl =\n",
              "          document.querySelector('#df-77b9ce4a-1164-4856-9295-59802f15b881 button.colab-df-convert');\n",
              "        buttonEl.style.display =\n",
              "          google.colab.kernel.accessAllowed ? 'block' : 'none';\n",
              "\n",
              "        async function convertToInteractive(key) {\n",
              "          const element = document.querySelector('#df-77b9ce4a-1164-4856-9295-59802f15b881');\n",
              "          const dataTable =\n",
              "            await google.colab.kernel.invokeFunction('convertToInteractive',\n",
              "                                                     [key], {});\n",
              "          if (!dataTable) return;\n",
              "\n",
              "          const docLinkHtml = 'Like what you see? Visit the ' +\n",
              "            '<a target=\"_blank\" href=https://colab.research.google.com/notebooks/data_table.ipynb>data table notebook</a>'\n",
              "            + ' to learn more about interactive tables.';\n",
              "          element.innerHTML = '';\n",
              "          dataTable['output_type'] = 'display_data';\n",
              "          await google.colab.output.renderOutput(dataTable, element);\n",
              "          const docLink = document.createElement('div');\n",
              "          docLink.innerHTML = docLinkHtml;\n",
              "          element.appendChild(docLink);\n",
              "        }\n",
              "      </script>\n",
              "    </div>\n",
              "  </div>\n",
              "  "
            ]
          },
          "metadata": {},
          "execution_count": 17
        }
      ]
    },
    {
      "cell_type": "code",
      "metadata": {
        "id": "mCLgKYTJ0f7t",
        "colab": {
          "base_uri": "https://localhost:8080/",
          "height": 206
        },
        "outputId": "077972d0-d8e5-4746-fde6-732b09f28484"
      },
      "source": [
        "sensor3_data = pd.read_csv(data_path + \"Sensor3_values_instant_25.csv\", index_col = \"Unnamed: 0\")\n",
        "sensor3_data.head()"
      ],
      "execution_count": null,
      "outputs": [
        {
          "output_type": "execute_result",
          "data": {
            "text/plain": [
              "   InVehicle_Longitudinal_Speed  GPS_Speed  InVehicle_Longitudinal_Accel\n",
              "0                     11.375000  11.307097                     -0.103000\n",
              "1                     11.366708  11.255964                     -0.353946\n",
              "2                     11.362331  11.249115                     -0.090962\n",
              "3                     11.358665  11.263280                     -0.043470\n",
              "4                     11.356745  11.270361                     -0.037579"
            ],
            "text/html": [
              "\n",
              "  <div id=\"df-0d398b5e-8b1e-460b-90f9-89763dea3917\">\n",
              "    <div class=\"colab-df-container\">\n",
              "      <div>\n",
              "<style scoped>\n",
              "    .dataframe tbody tr th:only-of-type {\n",
              "        vertical-align: middle;\n",
              "    }\n",
              "\n",
              "    .dataframe tbody tr th {\n",
              "        vertical-align: top;\n",
              "    }\n",
              "\n",
              "    .dataframe thead th {\n",
              "        text-align: right;\n",
              "    }\n",
              "</style>\n",
              "<table border=\"1\" class=\"dataframe\">\n",
              "  <thead>\n",
              "    <tr style=\"text-align: right;\">\n",
              "      <th></th>\n",
              "      <th>InVehicle_Longitudinal_Speed</th>\n",
              "      <th>GPS_Speed</th>\n",
              "      <th>InVehicle_Longitudinal_Accel</th>\n",
              "    </tr>\n",
              "  </thead>\n",
              "  <tbody>\n",
              "    <tr>\n",
              "      <th>0</th>\n",
              "      <td>11.375000</td>\n",
              "      <td>11.307097</td>\n",
              "      <td>-0.103000</td>\n",
              "    </tr>\n",
              "    <tr>\n",
              "      <th>1</th>\n",
              "      <td>11.366708</td>\n",
              "      <td>11.255964</td>\n",
              "      <td>-0.353946</td>\n",
              "    </tr>\n",
              "    <tr>\n",
              "      <th>2</th>\n",
              "      <td>11.362331</td>\n",
              "      <td>11.249115</td>\n",
              "      <td>-0.090962</td>\n",
              "    </tr>\n",
              "    <tr>\n",
              "      <th>3</th>\n",
              "      <td>11.358665</td>\n",
              "      <td>11.263280</td>\n",
              "      <td>-0.043470</td>\n",
              "    </tr>\n",
              "    <tr>\n",
              "      <th>4</th>\n",
              "      <td>11.356745</td>\n",
              "      <td>11.270361</td>\n",
              "      <td>-0.037579</td>\n",
              "    </tr>\n",
              "  </tbody>\n",
              "</table>\n",
              "</div>\n",
              "      <button class=\"colab-df-convert\" onclick=\"convertToInteractive('df-0d398b5e-8b1e-460b-90f9-89763dea3917')\"\n",
              "              title=\"Convert this dataframe to an interactive table.\"\n",
              "              style=\"display:none;\">\n",
              "        \n",
              "  <svg xmlns=\"http://www.w3.org/2000/svg\" height=\"24px\"viewBox=\"0 0 24 24\"\n",
              "       width=\"24px\">\n",
              "    <path d=\"M0 0h24v24H0V0z\" fill=\"none\"/>\n",
              "    <path d=\"M18.56 5.44l.94 2.06.94-2.06 2.06-.94-2.06-.94-.94-2.06-.94 2.06-2.06.94zm-11 1L8.5 8.5l.94-2.06 2.06-.94-2.06-.94L8.5 2.5l-.94 2.06-2.06.94zm10 10l.94 2.06.94-2.06 2.06-.94-2.06-.94-.94-2.06-.94 2.06-2.06.94z\"/><path d=\"M17.41 7.96l-1.37-1.37c-.4-.4-.92-.59-1.43-.59-.52 0-1.04.2-1.43.59L10.3 9.45l-7.72 7.72c-.78.78-.78 2.05 0 2.83L4 21.41c.39.39.9.59 1.41.59.51 0 1.02-.2 1.41-.59l7.78-7.78 2.81-2.81c.8-.78.8-2.07 0-2.86zM5.41 20L4 18.59l7.72-7.72 1.47 1.35L5.41 20z\"/>\n",
              "  </svg>\n",
              "      </button>\n",
              "      \n",
              "  <style>\n",
              "    .colab-df-container {\n",
              "      display:flex;\n",
              "      flex-wrap:wrap;\n",
              "      gap: 12px;\n",
              "    }\n",
              "\n",
              "    .colab-df-convert {\n",
              "      background-color: #E8F0FE;\n",
              "      border: none;\n",
              "      border-radius: 50%;\n",
              "      cursor: pointer;\n",
              "      display: none;\n",
              "      fill: #1967D2;\n",
              "      height: 32px;\n",
              "      padding: 0 0 0 0;\n",
              "      width: 32px;\n",
              "    }\n",
              "\n",
              "    .colab-df-convert:hover {\n",
              "      background-color: #E2EBFA;\n",
              "      box-shadow: 0px 1px 2px rgba(60, 64, 67, 0.3), 0px 1px 3px 1px rgba(60, 64, 67, 0.15);\n",
              "      fill: #174EA6;\n",
              "    }\n",
              "\n",
              "    [theme=dark] .colab-df-convert {\n",
              "      background-color: #3B4455;\n",
              "      fill: #D2E3FC;\n",
              "    }\n",
              "\n",
              "    [theme=dark] .colab-df-convert:hover {\n",
              "      background-color: #434B5C;\n",
              "      box-shadow: 0px 1px 3px 1px rgba(0, 0, 0, 0.15);\n",
              "      filter: drop-shadow(0px 1px 2px rgba(0, 0, 0, 0.3));\n",
              "      fill: #FFFFFF;\n",
              "    }\n",
              "  </style>\n",
              "\n",
              "      <script>\n",
              "        const buttonEl =\n",
              "          document.querySelector('#df-0d398b5e-8b1e-460b-90f9-89763dea3917 button.colab-df-convert');\n",
              "        buttonEl.style.display =\n",
              "          google.colab.kernel.accessAllowed ? 'block' : 'none';\n",
              "\n",
              "        async function convertToInteractive(key) {\n",
              "          const element = document.querySelector('#df-0d398b5e-8b1e-460b-90f9-89763dea3917');\n",
              "          const dataTable =\n",
              "            await google.colab.kernel.invokeFunction('convertToInteractive',\n",
              "                                                     [key], {});\n",
              "          if (!dataTable) return;\n",
              "\n",
              "          const docLinkHtml = 'Like what you see? Visit the ' +\n",
              "            '<a target=\"_blank\" href=https://colab.research.google.com/notebooks/data_table.ipynb>data table notebook</a>'\n",
              "            + ' to learn more about interactive tables.';\n",
              "          element.innerHTML = '';\n",
              "          dataTable['output_type'] = 'display_data';\n",
              "          await google.colab.output.renderOutput(dataTable, element);\n",
              "          const docLink = document.createElement('div');\n",
              "          docLink.innerHTML = docLinkHtml;\n",
              "          element.appendChild(docLink);\n",
              "        }\n",
              "      </script>\n",
              "    </div>\n",
              "  </div>\n",
              "  "
            ]
          },
          "metadata": {},
          "execution_count": 18
        }
      ]
    },
    {
      "cell_type": "code",
      "metadata": {
        "id": "7bkpmS8x0lfa",
        "colab": {
          "base_uri": "https://localhost:8080/",
          "height": 206
        },
        "outputId": "6fcb884f-2250-40c2-8306-5fba5d9b8569"
      },
      "source": [
        "sensor3_label = pd.read_csv(data_path + \"Ground_truth_instant_25_sensor3.csv\", names=['Class'])\n",
        "sensor3_label.head()"
      ],
      "execution_count": null,
      "outputs": [
        {
          "output_type": "execute_result",
          "data": {
            "text/plain": [
              "   Class\n",
              "0    0.0\n",
              "1    0.0\n",
              "2    0.0\n",
              "3    0.0\n",
              "4    0.0"
            ],
            "text/html": [
              "\n",
              "  <div id=\"df-9b659cd5-256b-4f25-8ca1-9e8fe6a317e7\">\n",
              "    <div class=\"colab-df-container\">\n",
              "      <div>\n",
              "<style scoped>\n",
              "    .dataframe tbody tr th:only-of-type {\n",
              "        vertical-align: middle;\n",
              "    }\n",
              "\n",
              "    .dataframe tbody tr th {\n",
              "        vertical-align: top;\n",
              "    }\n",
              "\n",
              "    .dataframe thead th {\n",
              "        text-align: right;\n",
              "    }\n",
              "</style>\n",
              "<table border=\"1\" class=\"dataframe\">\n",
              "  <thead>\n",
              "    <tr style=\"text-align: right;\">\n",
              "      <th></th>\n",
              "      <th>Class</th>\n",
              "    </tr>\n",
              "  </thead>\n",
              "  <tbody>\n",
              "    <tr>\n",
              "      <th>0</th>\n",
              "      <td>0.0</td>\n",
              "    </tr>\n",
              "    <tr>\n",
              "      <th>1</th>\n",
              "      <td>0.0</td>\n",
              "    </tr>\n",
              "    <tr>\n",
              "      <th>2</th>\n",
              "      <td>0.0</td>\n",
              "    </tr>\n",
              "    <tr>\n",
              "      <th>3</th>\n",
              "      <td>0.0</td>\n",
              "    </tr>\n",
              "    <tr>\n",
              "      <th>4</th>\n",
              "      <td>0.0</td>\n",
              "    </tr>\n",
              "  </tbody>\n",
              "</table>\n",
              "</div>\n",
              "      <button class=\"colab-df-convert\" onclick=\"convertToInteractive('df-9b659cd5-256b-4f25-8ca1-9e8fe6a317e7')\"\n",
              "              title=\"Convert this dataframe to an interactive table.\"\n",
              "              style=\"display:none;\">\n",
              "        \n",
              "  <svg xmlns=\"http://www.w3.org/2000/svg\" height=\"24px\"viewBox=\"0 0 24 24\"\n",
              "       width=\"24px\">\n",
              "    <path d=\"M0 0h24v24H0V0z\" fill=\"none\"/>\n",
              "    <path d=\"M18.56 5.44l.94 2.06.94-2.06 2.06-.94-2.06-.94-.94-2.06-.94 2.06-2.06.94zm-11 1L8.5 8.5l.94-2.06 2.06-.94-2.06-.94L8.5 2.5l-.94 2.06-2.06.94zm10 10l.94 2.06.94-2.06 2.06-.94-2.06-.94-.94-2.06-.94 2.06-2.06.94z\"/><path d=\"M17.41 7.96l-1.37-1.37c-.4-.4-.92-.59-1.43-.59-.52 0-1.04.2-1.43.59L10.3 9.45l-7.72 7.72c-.78.78-.78 2.05 0 2.83L4 21.41c.39.39.9.59 1.41.59.51 0 1.02-.2 1.41-.59l7.78-7.78 2.81-2.81c.8-.78.8-2.07 0-2.86zM5.41 20L4 18.59l7.72-7.72 1.47 1.35L5.41 20z\"/>\n",
              "  </svg>\n",
              "      </button>\n",
              "      \n",
              "  <style>\n",
              "    .colab-df-container {\n",
              "      display:flex;\n",
              "      flex-wrap:wrap;\n",
              "      gap: 12px;\n",
              "    }\n",
              "\n",
              "    .colab-df-convert {\n",
              "      background-color: #E8F0FE;\n",
              "      border: none;\n",
              "      border-radius: 50%;\n",
              "      cursor: pointer;\n",
              "      display: none;\n",
              "      fill: #1967D2;\n",
              "      height: 32px;\n",
              "      padding: 0 0 0 0;\n",
              "      width: 32px;\n",
              "    }\n",
              "\n",
              "    .colab-df-convert:hover {\n",
              "      background-color: #E2EBFA;\n",
              "      box-shadow: 0px 1px 2px rgba(60, 64, 67, 0.3), 0px 1px 3px 1px rgba(60, 64, 67, 0.15);\n",
              "      fill: #174EA6;\n",
              "    }\n",
              "\n",
              "    [theme=dark] .colab-df-convert {\n",
              "      background-color: #3B4455;\n",
              "      fill: #D2E3FC;\n",
              "    }\n",
              "\n",
              "    [theme=dark] .colab-df-convert:hover {\n",
              "      background-color: #434B5C;\n",
              "      box-shadow: 0px 1px 3px 1px rgba(0, 0, 0, 0.15);\n",
              "      filter: drop-shadow(0px 1px 2px rgba(0, 0, 0, 0.3));\n",
              "      fill: #FFFFFF;\n",
              "    }\n",
              "  </style>\n",
              "\n",
              "      <script>\n",
              "        const buttonEl =\n",
              "          document.querySelector('#df-9b659cd5-256b-4f25-8ca1-9e8fe6a317e7 button.colab-df-convert');\n",
              "        buttonEl.style.display =\n",
              "          google.colab.kernel.accessAllowed ? 'block' : 'none';\n",
              "\n",
              "        async function convertToInteractive(key) {\n",
              "          const element = document.querySelector('#df-9b659cd5-256b-4f25-8ca1-9e8fe6a317e7');\n",
              "          const dataTable =\n",
              "            await google.colab.kernel.invokeFunction('convertToInteractive',\n",
              "                                                     [key], {});\n",
              "          if (!dataTable) return;\n",
              "\n",
              "          const docLinkHtml = 'Like what you see? Visit the ' +\n",
              "            '<a target=\"_blank\" href=https://colab.research.google.com/notebooks/data_table.ipynb>data table notebook</a>'\n",
              "            + ' to learn more about interactive tables.';\n",
              "          element.innerHTML = '';\n",
              "          dataTable['output_type'] = 'display_data';\n",
              "          await google.colab.output.renderOutput(dataTable, element);\n",
              "          const docLink = document.createElement('div');\n",
              "          docLink.innerHTML = docLinkHtml;\n",
              "          element.appendChild(docLink);\n",
              "        }\n",
              "      </script>\n",
              "    </div>\n",
              "  </div>\n",
              "  "
            ]
          },
          "metadata": {},
          "execution_count": 19
        }
      ]
    },
    {
      "cell_type": "code",
      "source": [
        "sensor1_data['minus_speed'] = sensor1_data['InVehicle_Longitudinal_Speed']-sensor1_data['InVehicle_Longitudinal_Speed'].shift(1)\n",
        "sensor1_data['minus_acc'] = sensor1_data['InVehicle_Longitudinal_Accel']-sensor1_data['InVehicle_Longitudinal_Accel'].shift(1)\n",
        "sensor1_data['minus_Gps'] = sensor1_data['GPS_Speed']-sensor1_data['GPS_Speed'].shift(1)\n"
      ],
      "metadata": {
        "id": "jgPqNyqIOx0D"
      },
      "execution_count": null,
      "outputs": []
    },
    {
      "cell_type": "code",
      "source": [
        "sensor1_data"
      ],
      "metadata": {
        "colab": {
          "base_uri": "https://localhost:8080/",
          "height": 424
        },
        "id": "UoxewZX5UTis",
        "outputId": "1722941c-5380-469d-e7dc-32ab44fdeecf"
      },
      "execution_count": null,
      "outputs": [
        {
          "output_type": "execute_result",
          "data": {
            "text/plain": [
              "       InVehicle_Longitudinal_Speed  GPS_Speed  InVehicle_Longitudinal_Accel  \\\n",
              "0                         11.375000  11.307097                     -0.103000   \n",
              "1                         11.366708  11.255964                     -0.353946   \n",
              "2                         11.362331  11.249115                     -0.090962   \n",
              "3                         11.358665  11.263280                     -0.043470   \n",
              "4                         11.356745  11.270361                     -0.037579   \n",
              "...                             ...        ...                           ...   \n",
              "29795                     22.855765  22.834129                     -0.081526   \n",
              "29796                     22.858710  22.840796                     -0.034917   \n",
              "29797                     22.862361  22.826919                      0.009582   \n",
              "29798                     22.865025  22.827342                      0.021096   \n",
              "29799                     22.867720  22.792250                      0.029499   \n",
              "\n",
              "       minus_speed  minus_acc  minus_Gps  \n",
              "0              NaN        NaN        NaN  \n",
              "1        -0.008292  -0.250946  -0.051133  \n",
              "2        -0.004377   0.262984  -0.006848  \n",
              "3        -0.003666   0.047492   0.014165  \n",
              "4        -0.001920   0.005891   0.007081  \n",
              "...            ...        ...        ...  \n",
              "29795     0.000951   0.056680  -0.008746  \n",
              "29796     0.002945   0.046609   0.006667  \n",
              "29797     0.003651   0.044499  -0.013876  \n",
              "29798     0.002664   0.011513   0.000423  \n",
              "29799     0.002695   0.008403  -0.035093  \n",
              "\n",
              "[29800 rows x 6 columns]"
            ],
            "text/html": [
              "\n",
              "  <div id=\"df-e4aa864f-45aa-41c7-bfc4-eade6ee0466a\">\n",
              "    <div class=\"colab-df-container\">\n",
              "      <div>\n",
              "<style scoped>\n",
              "    .dataframe tbody tr th:only-of-type {\n",
              "        vertical-align: middle;\n",
              "    }\n",
              "\n",
              "    .dataframe tbody tr th {\n",
              "        vertical-align: top;\n",
              "    }\n",
              "\n",
              "    .dataframe thead th {\n",
              "        text-align: right;\n",
              "    }\n",
              "</style>\n",
              "<table border=\"1\" class=\"dataframe\">\n",
              "  <thead>\n",
              "    <tr style=\"text-align: right;\">\n",
              "      <th></th>\n",
              "      <th>InVehicle_Longitudinal_Speed</th>\n",
              "      <th>GPS_Speed</th>\n",
              "      <th>InVehicle_Longitudinal_Accel</th>\n",
              "      <th>minus_speed</th>\n",
              "      <th>minus_acc</th>\n",
              "      <th>minus_Gps</th>\n",
              "    </tr>\n",
              "  </thead>\n",
              "  <tbody>\n",
              "    <tr>\n",
              "      <th>0</th>\n",
              "      <td>11.375000</td>\n",
              "      <td>11.307097</td>\n",
              "      <td>-0.103000</td>\n",
              "      <td>NaN</td>\n",
              "      <td>NaN</td>\n",
              "      <td>NaN</td>\n",
              "    </tr>\n",
              "    <tr>\n",
              "      <th>1</th>\n",
              "      <td>11.366708</td>\n",
              "      <td>11.255964</td>\n",
              "      <td>-0.353946</td>\n",
              "      <td>-0.008292</td>\n",
              "      <td>-0.250946</td>\n",
              "      <td>-0.051133</td>\n",
              "    </tr>\n",
              "    <tr>\n",
              "      <th>2</th>\n",
              "      <td>11.362331</td>\n",
              "      <td>11.249115</td>\n",
              "      <td>-0.090962</td>\n",
              "      <td>-0.004377</td>\n",
              "      <td>0.262984</td>\n",
              "      <td>-0.006848</td>\n",
              "    </tr>\n",
              "    <tr>\n",
              "      <th>3</th>\n",
              "      <td>11.358665</td>\n",
              "      <td>11.263280</td>\n",
              "      <td>-0.043470</td>\n",
              "      <td>-0.003666</td>\n",
              "      <td>0.047492</td>\n",
              "      <td>0.014165</td>\n",
              "    </tr>\n",
              "    <tr>\n",
              "      <th>4</th>\n",
              "      <td>11.356745</td>\n",
              "      <td>11.270361</td>\n",
              "      <td>-0.037579</td>\n",
              "      <td>-0.001920</td>\n",
              "      <td>0.005891</td>\n",
              "      <td>0.007081</td>\n",
              "    </tr>\n",
              "    <tr>\n",
              "      <th>...</th>\n",
              "      <td>...</td>\n",
              "      <td>...</td>\n",
              "      <td>...</td>\n",
              "      <td>...</td>\n",
              "      <td>...</td>\n",
              "      <td>...</td>\n",
              "    </tr>\n",
              "    <tr>\n",
              "      <th>29795</th>\n",
              "      <td>22.855765</td>\n",
              "      <td>22.834129</td>\n",
              "      <td>-0.081526</td>\n",
              "      <td>0.000951</td>\n",
              "      <td>0.056680</td>\n",
              "      <td>-0.008746</td>\n",
              "    </tr>\n",
              "    <tr>\n",
              "      <th>29796</th>\n",
              "      <td>22.858710</td>\n",
              "      <td>22.840796</td>\n",
              "      <td>-0.034917</td>\n",
              "      <td>0.002945</td>\n",
              "      <td>0.046609</td>\n",
              "      <td>0.006667</td>\n",
              "    </tr>\n",
              "    <tr>\n",
              "      <th>29797</th>\n",
              "      <td>22.862361</td>\n",
              "      <td>22.826919</td>\n",
              "      <td>0.009582</td>\n",
              "      <td>0.003651</td>\n",
              "      <td>0.044499</td>\n",
              "      <td>-0.013876</td>\n",
              "    </tr>\n",
              "    <tr>\n",
              "      <th>29798</th>\n",
              "      <td>22.865025</td>\n",
              "      <td>22.827342</td>\n",
              "      <td>0.021096</td>\n",
              "      <td>0.002664</td>\n",
              "      <td>0.011513</td>\n",
              "      <td>0.000423</td>\n",
              "    </tr>\n",
              "    <tr>\n",
              "      <th>29799</th>\n",
              "      <td>22.867720</td>\n",
              "      <td>22.792250</td>\n",
              "      <td>0.029499</td>\n",
              "      <td>0.002695</td>\n",
              "      <td>0.008403</td>\n",
              "      <td>-0.035093</td>\n",
              "    </tr>\n",
              "  </tbody>\n",
              "</table>\n",
              "<p>29800 rows × 6 columns</p>\n",
              "</div>\n",
              "      <button class=\"colab-df-convert\" onclick=\"convertToInteractive('df-e4aa864f-45aa-41c7-bfc4-eade6ee0466a')\"\n",
              "              title=\"Convert this dataframe to an interactive table.\"\n",
              "              style=\"display:none;\">\n",
              "        \n",
              "  <svg xmlns=\"http://www.w3.org/2000/svg\" height=\"24px\"viewBox=\"0 0 24 24\"\n",
              "       width=\"24px\">\n",
              "    <path d=\"M0 0h24v24H0V0z\" fill=\"none\"/>\n",
              "    <path d=\"M18.56 5.44l.94 2.06.94-2.06 2.06-.94-2.06-.94-.94-2.06-.94 2.06-2.06.94zm-11 1L8.5 8.5l.94-2.06 2.06-.94-2.06-.94L8.5 2.5l-.94 2.06-2.06.94zm10 10l.94 2.06.94-2.06 2.06-.94-2.06-.94-.94-2.06-.94 2.06-2.06.94z\"/><path d=\"M17.41 7.96l-1.37-1.37c-.4-.4-.92-.59-1.43-.59-.52 0-1.04.2-1.43.59L10.3 9.45l-7.72 7.72c-.78.78-.78 2.05 0 2.83L4 21.41c.39.39.9.59 1.41.59.51 0 1.02-.2 1.41-.59l7.78-7.78 2.81-2.81c.8-.78.8-2.07 0-2.86zM5.41 20L4 18.59l7.72-7.72 1.47 1.35L5.41 20z\"/>\n",
              "  </svg>\n",
              "      </button>\n",
              "      \n",
              "  <style>\n",
              "    .colab-df-container {\n",
              "      display:flex;\n",
              "      flex-wrap:wrap;\n",
              "      gap: 12px;\n",
              "    }\n",
              "\n",
              "    .colab-df-convert {\n",
              "      background-color: #E8F0FE;\n",
              "      border: none;\n",
              "      border-radius: 50%;\n",
              "      cursor: pointer;\n",
              "      display: none;\n",
              "      fill: #1967D2;\n",
              "      height: 32px;\n",
              "      padding: 0 0 0 0;\n",
              "      width: 32px;\n",
              "    }\n",
              "\n",
              "    .colab-df-convert:hover {\n",
              "      background-color: #E2EBFA;\n",
              "      box-shadow: 0px 1px 2px rgba(60, 64, 67, 0.3), 0px 1px 3px 1px rgba(60, 64, 67, 0.15);\n",
              "      fill: #174EA6;\n",
              "    }\n",
              "\n",
              "    [theme=dark] .colab-df-convert {\n",
              "      background-color: #3B4455;\n",
              "      fill: #D2E3FC;\n",
              "    }\n",
              "\n",
              "    [theme=dark] .colab-df-convert:hover {\n",
              "      background-color: #434B5C;\n",
              "      box-shadow: 0px 1px 3px 1px rgba(0, 0, 0, 0.15);\n",
              "      filter: drop-shadow(0px 1px 2px rgba(0, 0, 0, 0.3));\n",
              "      fill: #FFFFFF;\n",
              "    }\n",
              "  </style>\n",
              "\n",
              "      <script>\n",
              "        const buttonEl =\n",
              "          document.querySelector('#df-e4aa864f-45aa-41c7-bfc4-eade6ee0466a button.colab-df-convert');\n",
              "        buttonEl.style.display =\n",
              "          google.colab.kernel.accessAllowed ? 'block' : 'none';\n",
              "\n",
              "        async function convertToInteractive(key) {\n",
              "          const element = document.querySelector('#df-e4aa864f-45aa-41c7-bfc4-eade6ee0466a');\n",
              "          const dataTable =\n",
              "            await google.colab.kernel.invokeFunction('convertToInteractive',\n",
              "                                                     [key], {});\n",
              "          if (!dataTable) return;\n",
              "\n",
              "          const docLinkHtml = 'Like what you see? Visit the ' +\n",
              "            '<a target=\"_blank\" href=https://colab.research.google.com/notebooks/data_table.ipynb>data table notebook</a>'\n",
              "            + ' to learn more about interactive tables.';\n",
              "          element.innerHTML = '';\n",
              "          dataTable['output_type'] = 'display_data';\n",
              "          await google.colab.output.renderOutput(dataTable, element);\n",
              "          const docLink = document.createElement('div');\n",
              "          docLink.innerHTML = docLinkHtml;\n",
              "          element.appendChild(docLink);\n",
              "        }\n",
              "      </script>\n",
              "    </div>\n",
              "  </div>\n",
              "  "
            ]
          },
          "metadata": {},
          "execution_count": 21
        }
      ]
    },
    {
      "cell_type": "code",
      "source": [
        "sensor2_data['minus_speed'] = sensor2_data['InVehicle_Longitudinal_Speed']-sensor2_data['InVehicle_Longitudinal_Speed'].shift(1)\n",
        "sensor2_data['minus_acc'] = sensor2_data['InVehicle_Longitudinal_Accel']-sensor2_data['InVehicle_Longitudinal_Accel'].shift(1)\n",
        "sensor2_data['minus_Gps'] = sensor2_data['GPS_Speed']-sensor2_data['GPS_Speed'].shift(1)\n"
      ],
      "metadata": {
        "id": "UP2of3XAOx64"
      },
      "execution_count": null,
      "outputs": []
    },
    {
      "cell_type": "code",
      "source": [
        "sensor3_data['minus_speed'] = sensor3_data['InVehicle_Longitudinal_Speed']-sensor3_data['InVehicle_Longitudinal_Speed'].shift(1)\n",
        "sensor3_data['minus_acc'] = sensor3_data['InVehicle_Longitudinal_Accel']-sensor3_data['InVehicle_Longitudinal_Accel'].shift(1)\n",
        "sensor3_data['minus_Gps'] = sensor3_data['GPS_Speed']-sensor3_data['GPS_Speed'].shift(1)\n"
      ],
      "metadata": {
        "id": "shrymIlCOyAz"
      },
      "execution_count": null,
      "outputs": []
    },
    {
      "cell_type": "code",
      "source": [
        "sensor1_data.dropna(inplace= True)\n",
        "sensor2_data.dropna(inplace= True)\n",
        "sensor3_data.dropna(inplace= True)\n"
      ],
      "metadata": {
        "id": "_atMoIctOyCA"
      },
      "execution_count": null,
      "outputs": []
    },
    {
      "cell_type": "code",
      "source": [
        "sensor1_data"
      ],
      "metadata": {
        "colab": {
          "base_uri": "https://localhost:8080/",
          "height": 424
        },
        "id": "6Y21ZULZUjpF",
        "outputId": "e516196e-0f9b-4eaf-c738-abdf80fe9b3f"
      },
      "execution_count": null,
      "outputs": [
        {
          "output_type": "execute_result",
          "data": {
            "text/plain": [
              "       InVehicle_Longitudinal_Speed  GPS_Speed  InVehicle_Longitudinal_Accel  \\\n",
              "1                         11.366708  11.255964                     -0.353946   \n",
              "2                         11.362331  11.249115                     -0.090962   \n",
              "3                         11.358665  11.263280                     -0.043470   \n",
              "4                         11.356745  11.270361                     -0.037579   \n",
              "5                         11.355560  11.255544                     -0.039736   \n",
              "...                             ...        ...                           ...   \n",
              "29795                     22.855765  22.834129                     -0.081526   \n",
              "29796                     22.858710  22.840796                     -0.034917   \n",
              "29797                     22.862361  22.826919                      0.009582   \n",
              "29798                     22.865025  22.827342                      0.021096   \n",
              "29799                     22.867720  22.792250                      0.029499   \n",
              "\n",
              "       minus_speed  minus_acc  minus_Gps  \n",
              "1        -0.008292  -0.250946  -0.051133  \n",
              "2        -0.004377   0.262984  -0.006848  \n",
              "3        -0.003666   0.047492   0.014165  \n",
              "4        -0.001920   0.005891   0.007081  \n",
              "5        -0.001186  -0.002157  -0.014817  \n",
              "...            ...        ...        ...  \n",
              "29795     0.000951   0.056680  -0.008746  \n",
              "29796     0.002945   0.046609   0.006667  \n",
              "29797     0.003651   0.044499  -0.013876  \n",
              "29798     0.002664   0.011513   0.000423  \n",
              "29799     0.002695   0.008403  -0.035093  \n",
              "\n",
              "[29799 rows x 6 columns]"
            ],
            "text/html": [
              "\n",
              "  <div id=\"df-2ea1d29b-7888-47df-9eee-223df9c5c381\">\n",
              "    <div class=\"colab-df-container\">\n",
              "      <div>\n",
              "<style scoped>\n",
              "    .dataframe tbody tr th:only-of-type {\n",
              "        vertical-align: middle;\n",
              "    }\n",
              "\n",
              "    .dataframe tbody tr th {\n",
              "        vertical-align: top;\n",
              "    }\n",
              "\n",
              "    .dataframe thead th {\n",
              "        text-align: right;\n",
              "    }\n",
              "</style>\n",
              "<table border=\"1\" class=\"dataframe\">\n",
              "  <thead>\n",
              "    <tr style=\"text-align: right;\">\n",
              "      <th></th>\n",
              "      <th>InVehicle_Longitudinal_Speed</th>\n",
              "      <th>GPS_Speed</th>\n",
              "      <th>InVehicle_Longitudinal_Accel</th>\n",
              "      <th>minus_speed</th>\n",
              "      <th>minus_acc</th>\n",
              "      <th>minus_Gps</th>\n",
              "    </tr>\n",
              "  </thead>\n",
              "  <tbody>\n",
              "    <tr>\n",
              "      <th>1</th>\n",
              "      <td>11.366708</td>\n",
              "      <td>11.255964</td>\n",
              "      <td>-0.353946</td>\n",
              "      <td>-0.008292</td>\n",
              "      <td>-0.250946</td>\n",
              "      <td>-0.051133</td>\n",
              "    </tr>\n",
              "    <tr>\n",
              "      <th>2</th>\n",
              "      <td>11.362331</td>\n",
              "      <td>11.249115</td>\n",
              "      <td>-0.090962</td>\n",
              "      <td>-0.004377</td>\n",
              "      <td>0.262984</td>\n",
              "      <td>-0.006848</td>\n",
              "    </tr>\n",
              "    <tr>\n",
              "      <th>3</th>\n",
              "      <td>11.358665</td>\n",
              "      <td>11.263280</td>\n",
              "      <td>-0.043470</td>\n",
              "      <td>-0.003666</td>\n",
              "      <td>0.047492</td>\n",
              "      <td>0.014165</td>\n",
              "    </tr>\n",
              "    <tr>\n",
              "      <th>4</th>\n",
              "      <td>11.356745</td>\n",
              "      <td>11.270361</td>\n",
              "      <td>-0.037579</td>\n",
              "      <td>-0.001920</td>\n",
              "      <td>0.005891</td>\n",
              "      <td>0.007081</td>\n",
              "    </tr>\n",
              "    <tr>\n",
              "      <th>5</th>\n",
              "      <td>11.355560</td>\n",
              "      <td>11.255544</td>\n",
              "      <td>-0.039736</td>\n",
              "      <td>-0.001186</td>\n",
              "      <td>-0.002157</td>\n",
              "      <td>-0.014817</td>\n",
              "    </tr>\n",
              "    <tr>\n",
              "      <th>...</th>\n",
              "      <td>...</td>\n",
              "      <td>...</td>\n",
              "      <td>...</td>\n",
              "      <td>...</td>\n",
              "      <td>...</td>\n",
              "      <td>...</td>\n",
              "    </tr>\n",
              "    <tr>\n",
              "      <th>29795</th>\n",
              "      <td>22.855765</td>\n",
              "      <td>22.834129</td>\n",
              "      <td>-0.081526</td>\n",
              "      <td>0.000951</td>\n",
              "      <td>0.056680</td>\n",
              "      <td>-0.008746</td>\n",
              "    </tr>\n",
              "    <tr>\n",
              "      <th>29796</th>\n",
              "      <td>22.858710</td>\n",
              "      <td>22.840796</td>\n",
              "      <td>-0.034917</td>\n",
              "      <td>0.002945</td>\n",
              "      <td>0.046609</td>\n",
              "      <td>0.006667</td>\n",
              "    </tr>\n",
              "    <tr>\n",
              "      <th>29797</th>\n",
              "      <td>22.862361</td>\n",
              "      <td>22.826919</td>\n",
              "      <td>0.009582</td>\n",
              "      <td>0.003651</td>\n",
              "      <td>0.044499</td>\n",
              "      <td>-0.013876</td>\n",
              "    </tr>\n",
              "    <tr>\n",
              "      <th>29798</th>\n",
              "      <td>22.865025</td>\n",
              "      <td>22.827342</td>\n",
              "      <td>0.021096</td>\n",
              "      <td>0.002664</td>\n",
              "      <td>0.011513</td>\n",
              "      <td>0.000423</td>\n",
              "    </tr>\n",
              "    <tr>\n",
              "      <th>29799</th>\n",
              "      <td>22.867720</td>\n",
              "      <td>22.792250</td>\n",
              "      <td>0.029499</td>\n",
              "      <td>0.002695</td>\n",
              "      <td>0.008403</td>\n",
              "      <td>-0.035093</td>\n",
              "    </tr>\n",
              "  </tbody>\n",
              "</table>\n",
              "<p>29799 rows × 6 columns</p>\n",
              "</div>\n",
              "      <button class=\"colab-df-convert\" onclick=\"convertToInteractive('df-2ea1d29b-7888-47df-9eee-223df9c5c381')\"\n",
              "              title=\"Convert this dataframe to an interactive table.\"\n",
              "              style=\"display:none;\">\n",
              "        \n",
              "  <svg xmlns=\"http://www.w3.org/2000/svg\" height=\"24px\"viewBox=\"0 0 24 24\"\n",
              "       width=\"24px\">\n",
              "    <path d=\"M0 0h24v24H0V0z\" fill=\"none\"/>\n",
              "    <path d=\"M18.56 5.44l.94 2.06.94-2.06 2.06-.94-2.06-.94-.94-2.06-.94 2.06-2.06.94zm-11 1L8.5 8.5l.94-2.06 2.06-.94-2.06-.94L8.5 2.5l-.94 2.06-2.06.94zm10 10l.94 2.06.94-2.06 2.06-.94-2.06-.94-.94-2.06-.94 2.06-2.06.94z\"/><path d=\"M17.41 7.96l-1.37-1.37c-.4-.4-.92-.59-1.43-.59-.52 0-1.04.2-1.43.59L10.3 9.45l-7.72 7.72c-.78.78-.78 2.05 0 2.83L4 21.41c.39.39.9.59 1.41.59.51 0 1.02-.2 1.41-.59l7.78-7.78 2.81-2.81c.8-.78.8-2.07 0-2.86zM5.41 20L4 18.59l7.72-7.72 1.47 1.35L5.41 20z\"/>\n",
              "  </svg>\n",
              "      </button>\n",
              "      \n",
              "  <style>\n",
              "    .colab-df-container {\n",
              "      display:flex;\n",
              "      flex-wrap:wrap;\n",
              "      gap: 12px;\n",
              "    }\n",
              "\n",
              "    .colab-df-convert {\n",
              "      background-color: #E8F0FE;\n",
              "      border: none;\n",
              "      border-radius: 50%;\n",
              "      cursor: pointer;\n",
              "      display: none;\n",
              "      fill: #1967D2;\n",
              "      height: 32px;\n",
              "      padding: 0 0 0 0;\n",
              "      width: 32px;\n",
              "    }\n",
              "\n",
              "    .colab-df-convert:hover {\n",
              "      background-color: #E2EBFA;\n",
              "      box-shadow: 0px 1px 2px rgba(60, 64, 67, 0.3), 0px 1px 3px 1px rgba(60, 64, 67, 0.15);\n",
              "      fill: #174EA6;\n",
              "    }\n",
              "\n",
              "    [theme=dark] .colab-df-convert {\n",
              "      background-color: #3B4455;\n",
              "      fill: #D2E3FC;\n",
              "    }\n",
              "\n",
              "    [theme=dark] .colab-df-convert:hover {\n",
              "      background-color: #434B5C;\n",
              "      box-shadow: 0px 1px 3px 1px rgba(0, 0, 0, 0.15);\n",
              "      filter: drop-shadow(0px 1px 2px rgba(0, 0, 0, 0.3));\n",
              "      fill: #FFFFFF;\n",
              "    }\n",
              "  </style>\n",
              "\n",
              "      <script>\n",
              "        const buttonEl =\n",
              "          document.querySelector('#df-2ea1d29b-7888-47df-9eee-223df9c5c381 button.colab-df-convert');\n",
              "        buttonEl.style.display =\n",
              "          google.colab.kernel.accessAllowed ? 'block' : 'none';\n",
              "\n",
              "        async function convertToInteractive(key) {\n",
              "          const element = document.querySelector('#df-2ea1d29b-7888-47df-9eee-223df9c5c381');\n",
              "          const dataTable =\n",
              "            await google.colab.kernel.invokeFunction('convertToInteractive',\n",
              "                                                     [key], {});\n",
              "          if (!dataTable) return;\n",
              "\n",
              "          const docLinkHtml = 'Like what you see? Visit the ' +\n",
              "            '<a target=\"_blank\" href=https://colab.research.google.com/notebooks/data_table.ipynb>data table notebook</a>'\n",
              "            + ' to learn more about interactive tables.';\n",
              "          element.innerHTML = '';\n",
              "          dataTable['output_type'] = 'display_data';\n",
              "          await google.colab.output.renderOutput(dataTable, element);\n",
              "          const docLink = document.createElement('div');\n",
              "          docLink.innerHTML = docLinkHtml;\n",
              "          element.appendChild(docLink);\n",
              "        }\n",
              "      </script>\n",
              "    </div>\n",
              "  </div>\n",
              "  "
            ]
          },
          "metadata": {},
          "execution_count": 25
        }
      ]
    },
    {
      "cell_type": "code",
      "source": [
        "sensor1_data[['InVehicle_Longitudinal_Speed','minus_speed']].plot(subplots=True)"
      ],
      "metadata": {
        "id": "4RluXcvrOyG4",
        "colab": {
          "base_uri": "https://localhost:8080/",
          "height": 317
        },
        "outputId": "28f240b1-a0e2-418e-f890-dff681d16660"
      },
      "execution_count": null,
      "outputs": [
        {
          "output_type": "execute_result",
          "data": {
            "text/plain": [
              "array([<matplotlib.axes._subplots.AxesSubplot object at 0x7fd8e65bae80>,\n",
              "       <matplotlib.axes._subplots.AxesSubplot object at 0x7fd8e6524310>],\n",
              "      dtype=object)"
            ]
          },
          "metadata": {},
          "execution_count": 26
        },
        {
          "output_type": "display_data",
          "data": {
            "text/plain": [
              "<Figure size 432x288 with 2 Axes>"
            ],
            "image/png": "[encoded data removed]"
          },
          "metadata": {
            "needs_background": "light"
          }
        }
      ]
    },
    {
      "cell_type": "code",
      "source": [
        "sensor1_data[['GPS_Speed','minus_Gps']].plot(subplots=True)"
      ],
      "metadata": {
        "id": "WUBnhSDIOyIJ",
        "colab": {
          "base_uri": "https://localhost:8080/",
          "height": 317
        },
        "outputId": "3288420d-040c-499a-84bd-7d6023758f8f"
      },
      "execution_count": null,
      "outputs": [
        {
          "output_type": "execute_result",
          "data": {
            "text/plain": [
              "array([<matplotlib.axes._subplots.AxesSubplot object at 0x7fd8e5fa7bb0>,\n",
              "       <matplotlib.axes._subplots.AxesSubplot object at 0x7fd8e5f52940>],\n",
              "      dtype=object)"
            ]
          },
          "metadata": {},
          "execution_count": 28
        },
        {
          "output_type": "display_data",
          "data": {
            "text/plain": [
              "<Figure size 432x288 with 2 Axes>"
            ],
            "image/png": "[encoded data removed]"
          },
          "metadata": {
            "needs_background": "light"
          }
        }
      ]
    },
    {
      "cell_type": "code",
      "source": [
        "sensor1_data[['InVehicle_Longitudinal_Accel','minus_acc']].plot(subplots=True)"
      ],
      "metadata": {
        "id": "DzDae9CAOyMA",
        "colab": {
          "base_uri": "https://localhost:8080/",
          "height": 317
        },
        "outputId": "f11337a0-4d99-42a6-91bd-b9896f34cae2"
      },
      "execution_count": null,
      "outputs": [
        {
          "output_type": "execute_result",
          "data": {
            "text/plain": [
              "array([<matplotlib.axes._subplots.AxesSubplot object at 0x7fd8e5eb2fd0>,\n",
              "       <matplotlib.axes._subplots.AxesSubplot object at 0x7fd8e5e65730>],\n",
              "      dtype=object)"
            ]
          },
          "metadata": {},
          "execution_count": 30
        },
        {
          "output_type": "display_data",
          "data": {
            "text/plain": [
              "<Figure size 432x288 with 2 Axes>"
            ],
            "image/png": "[encoded data removed]"
          },
          "metadata": {
            "needs_background": "light"
          }
        }
      ]
    },
    {
      "cell_type": "code",
      "source": [
        "stationary_speed = adfuller(sensor1_data['minus_speed'].dropna())\n",
        "stationary_gps = adfuller(sensor1_data['minus_Gps'].dropna())\n",
        "stationary_acc = adfuller(sensor1_data['minus_acc'].dropna())\n",
        "print(\"stationary_speed : {}\\nstationary_gps :{}\\nstationary_acc :{}\\n\".format(stationary_speed[1],stationary_gps[1], stationary_acc[1]))"
      ],
      "metadata": {
        "id": "rSpjcqzxPDVr",
        "colab": {
          "base_uri": "https://localhost:8080/"
        },
        "outputId": "5f8c3e81-edfe-4d43-a1fb-b79ffeeb6145"
      },
      "execution_count": null,
      "outputs": [
        {
          "output_type": "stream",
          "name": "stdout",
          "text": [
            "stationary_speed : 8.337580583419933e-30\n",
            "stationary_gps :1.1152665494187111e-29\n",
            "stationary_acc :0.0\n",
            "\n"
          ]
        }
      ]
    },
    {
      "cell_type": "code",
      "source": [
        "stationary_speed"
      ],
      "metadata": {
        "colab": {
          "base_uri": "https://localhost:8080/"
        },
        "id": "UN9FAmaWYVkl",
        "outputId": "87780c9e-3c15-4d21-efff-747ce67e85f0"
      },
      "execution_count": null,
      "outputs": [
        {
          "output_type": "execute_result",
          "data": {
            "text/plain": [
              "(-17.030067261781785,\n",
              " 8.337580583419933e-30,\n",
              " 23,\n",
              " 29775,\n",
              " {'1%': -3.430569642782574,\n",
              "  '5%': -2.8616370761459278,\n",
              "  '10%': -2.566821670674757},\n",
              " -75098.33663014034)"
            ]
          },
          "metadata": {},
          "execution_count": 33
        }
      ]
    },
    {
      "cell_type": "code",
      "source": [
        "stationary_gps"
      ],
      "metadata": {
        "colab": {
          "base_uri": "https://localhost:8080/"
        },
        "id": "YeiIZ07fYX3D",
        "outputId": "13a592b6-4c2f-42b0-c1b8-4c8785ca504b"
      },
      "execution_count": null,
      "outputs": [
        {
          "output_type": "execute_result",
          "data": {
            "text/plain": [
              "(-16.85279440171608,\n",
              " 1.1152665494187111e-29,\n",
              " 12,\n",
              " 29786,\n",
              " {'1%': -3.4305695616612795,\n",
              "  '5%': -2.8616370402938447,\n",
              "  '10%': -2.566821651591555},\n",
              " -84402.96133725136)"
            ]
          },
          "metadata": {},
          "execution_count": 34
        }
      ]
    },
    {
      "cell_type": "code",
      "source": [
        "stationary_acc"
      ],
      "metadata": {
        "colab": {
          "base_uri": "https://localhost:8080/"
        },
        "id": "GdhlrhDZYZ7M",
        "outputId": "a2f9e94d-b221-412f-cfb9-f3ef1ac63444"
      },
      "execution_count": null,
      "outputs": [
        {
          "output_type": "execute_result",
          "data": {
            "text/plain": [
              "(-26.50559035067761,\n",
              " 0.0,\n",
              " 49,\n",
              " 29749,\n",
              " {'1%': -3.4305698347623115,\n",
              "  '5%': -2.861637160992617,\n",
              "  '10%': -2.566821715836611},\n",
              " -41514.28941097343)"
            ]
          },
          "metadata": {},
          "execution_count": 35
        }
      ]
    },
    {
      "cell_type": "code",
      "source": [
        "sensor2_data[['InVehicle_Longitudinal_Speed','minus_speed']].plot(subplots=True)"
      ],
      "metadata": {
        "id": "IKjXGlAAPDjY",
        "colab": {
          "base_uri": "https://localhost:8080/",
          "height": 317
        },
        "outputId": "31ff64e5-a877-47d3-aa09-d5d984635afb"
      },
      "execution_count": null,
      "outputs": [
        {
          "output_type": "execute_result",
          "data": {
            "text/plain": [
              "array([<matplotlib.axes._subplots.AxesSubplot object at 0x7fd8e5dd0040>,\n",
              "       <matplotlib.axes._subplots.AxesSubplot object at 0x7fd8e3509580>],\n",
              "      dtype=object)"
            ]
          },
          "metadata": {},
          "execution_count": 36
        },
        {
          "output_type": "display_data",
          "data": {
            "text/plain": [
              "<Figure size 432x288 with 2 Axes>"
            ],
            "image/png": "[encoded data removed]"
          },
          "metadata": {
            "needs_background": "light"
          }
        }
      ]
    },
    {
      "cell_type": "code",
      "source": [
        "sensor2_data[['GPS_Speed','minus_Gps']].plot(subplots=True)"
      ],
      "metadata": {
        "id": "4Bf0acuePD0t",
        "colab": {
          "base_uri": "https://localhost:8080/",
          "height": 317
        },
        "outputId": "7da9e02c-1880-4d30-eef2-0c2598f06a5b"
      },
      "execution_count": null,
      "outputs": [
        {
          "output_type": "execute_result",
          "data": {
            "text/plain": [
              "array([<matplotlib.axes._subplots.AxesSubplot object at 0x7fd8e348dbb0>,\n",
              "       <matplotlib.axes._subplots.AxesSubplot object at 0x7fd8e34b1d00>],\n",
              "      dtype=object)"
            ]
          },
          "metadata": {},
          "execution_count": 37
        },
        {
          "output_type": "display_data",
          "data": {
            "text/plain": [
              "<Figure size 432x288 with 2 Axes>"
            ],
            "image/png": "[encoded data removed]"
          },
          "metadata": {
            "needs_background": "light"
          }
        }
      ]
    },
    {
      "cell_type": "code",
      "source": [
        "sensor2_data[['InVehicle_Longitudinal_Accel','minus_acc']].plot(subplots=True)"
      ],
      "metadata": {
        "id": "Eocj1ZaqPEB5",
        "colab": {
          "base_uri": "https://localhost:8080/",
          "height": 317
        },
        "outputId": "6796fd12-0d99-4895-ce4f-843c91bc0c09"
      },
      "execution_count": null,
      "outputs": [
        {
          "output_type": "execute_result",
          "data": {
            "text/plain": [
              "array([<matplotlib.axes._subplots.AxesSubplot object at 0x7fd8e340ddc0>,\n",
              "       <matplotlib.axes._subplots.AxesSubplot object at 0x7fd8e33cb700>],\n",
              "      dtype=object)"
            ]
          },
          "metadata": {},
          "execution_count": 38
        },
        {
          "output_type": "display_data",
          "data": {
            "text/plain": [
              "<Figure size 432x288 with 2 Axes>"
            ],
            "image/png": "[encoded data removed]"
          },
          "metadata": {
            "needs_background": "light"
          }
        }
      ]
    },
    {
      "cell_type": "code",
      "source": [
        "stationary_speed = adfuller(sensor2_data['minus_speed'].dropna())\n",
        "stationary_gps = adfuller(sensor2_data['minus_Gps'].dropna())\n",
        "stationary_acc = adfuller(sensor2_data['minus_acc'].dropna())\n",
        "print(\"stationary_speed : {}\\nstationary_gps :{}\\nstationary_acc :{}\\n\".format(stationary_speed[1],stationary_gps[1], stationary_acc[1]))"
      ],
      "metadata": {
        "id": "daP4qzX2PXPj",
        "colab": {
          "base_uri": "https://localhost:8080/"
        },
        "outputId": "06537d65-5687-488b-b017-9a00d9278f2f"
      },
      "execution_count": null,
      "outputs": [
        {
          "output_type": "stream",
          "name": "stdout",
          "text": [
            "stationary_speed : 6.385273443912525e-30\n",
            "stationary_gps :2.1030039281886236e-29\n",
            "stationary_acc :0.0\n",
            "\n"
          ]
        }
      ]
    },
    {
      "cell_type": "code",
      "source": [
        "sensor3_data[['InVehicle_Longitudinal_Speed','minus_speed']].plot(subplots=True)"
      ],
      "metadata": {
        "id": "KaS9xVcdPXws",
        "colab": {
          "base_uri": "https://localhost:8080/",
          "height": 317
        },
        "outputId": "df933ecb-b8aa-411d-cb8d-e8aad9472b4b"
      },
      "execution_count": null,
      "outputs": [
        {
          "output_type": "execute_result",
          "data": {
            "text/plain": [
              "array([<matplotlib.axes._subplots.AxesSubplot object at 0x7fd8e336afd0>,\n",
              "       <matplotlib.axes._subplots.AxesSubplot object at 0x7fd8e337a9d0>],\n",
              "      dtype=object)"
            ]
          },
          "metadata": {},
          "execution_count": 40
        },
        {
          "output_type": "display_data",
          "data": {
            "text/plain": [
              "<Figure size 432x288 with 2 Axes>"
            ],
            "image/png": "[encoded data removed]"
          },
          "metadata": {
            "needs_background": "light"
          }
        }
      ]
    },
    {
      "cell_type": "code",
      "source": [
        "sensor3_data[['GPS_Speed','minus_Gps']].plot(subplots=True)"
      ],
      "metadata": {
        "id": "VTKwTKylPeWO",
        "colab": {
          "base_uri": "https://localhost:8080/",
          "height": 317
        },
        "outputId": "61d73cab-9c6e-4eea-b46a-ebf8d613c143"
      },
      "execution_count": null,
      "outputs": [
        {
          "output_type": "execute_result",
          "data": {
            "text/plain": [
              "array([<matplotlib.axes._subplots.AxesSubplot object at 0x7fd8e330a4c0>,\n",
              "       <matplotlib.axes._subplots.AxesSubplot object at 0x7fd8e32b47c0>],\n",
              "      dtype=object)"
            ]
          },
          "metadata": {},
          "execution_count": 41
        },
        {
          "output_type": "display_data",
          "data": {
            "text/plain": [
              "<Figure size 432x288 with 2 Axes>"
            ],
            "image/png": "[encoded data removed]"
          },
          "metadata": {
            "needs_background": "light"
          }
        }
      ]
    },
    {
      "cell_type": "code",
      "source": [
        "sensor3_data[['InVehicle_Longitudinal_Accel','minus_acc']].plot(subplots=True)"
      ],
      "metadata": {
        "id": "fbUQJetSPec8",
        "colab": {
          "base_uri": "https://localhost:8080/",
          "height": 317
        },
        "outputId": "ed10069b-40f6-47d3-bb9a-ba1dd47de712"
      },
      "execution_count": null,
      "outputs": [
        {
          "output_type": "execute_result",
          "data": {
            "text/plain": [
              "array([<matplotlib.axes._subplots.AxesSubplot object at 0x7fd8e323af70>,\n",
              "       <matplotlib.axes._subplots.AxesSubplot object at 0x7fd8e31c9cd0>],\n",
              "      dtype=object)"
            ]
          },
          "metadata": {},
          "execution_count": 42
        },
        {
          "output_type": "display_data",
          "data": {
            "text/plain": [
              "<Figure size 432x288 with 2 Axes>"
            ],
            "image/png": "[encoded data removed]"
          },
          "metadata": {
            "needs_background": "light"
          }
        }
      ]
    },
    {
      "cell_type": "code",
      "source": [
        "stationary_speed = adfuller(sensor3_data['minus_speed'].dropna())\n",
        "stationary_gps = adfuller(sensor3_data['minus_Gps'].dropna())\n",
        "stationary_acc = adfuller(sensor3_data['minus_acc'].dropna())\n",
        "print(\"stationary_speed : {}\\nstationary_gps :{}\\nstationary_acc :{}\\n\".format(stationary_speed[1],stationary_gps[1], stationary_acc[1]))"
      ],
      "metadata": {
        "id": "qUUx_ynFPex9",
        "colab": {
          "base_uri": "https://localhost:8080/"
        },
        "outputId": "6f1e040c-820c-4184-a902-09d129d01f3e"
      },
      "execution_count": null,
      "outputs": [
        {
          "output_type": "stream",
          "name": "stdout",
          "text": [
            "stationary_speed : 6.385273443912525e-30\n",
            "stationary_gps :2.1030039281886236e-29\n",
            "stationary_acc :0.0\n",
            "\n"
          ]
        }
      ]
    },
    {
      "cell_type": "code",
      "metadata": {
        "id": "VaUYxUSMvH14",
        "colab": {
          "base_uri": "https://localhost:8080/"
        },
        "outputId": "7a7b368b-6047-42d3-d396-304207c704c6"
      },
      "source": [
        "scaler  = StandardScaler()\n",
        "scaler.fit(sensor1_data[['minus_speed','minus_Gps','minus_acc']])\n",
        "sensor1_data_normal = scaler.transform(sensor1_data[['minus_speed','minus_Gps','minus_acc']]) \n",
        "sensor1_data_normal[:5]"
      ],
      "execution_count": null,
      "outputs": [
        {
          "output_type": "execute_result",
          "data": {
            "text/plain": [
              "array([[-0.08899598, -0.58055247, -2.07617264],\n",
              "       [-0.04884877, -0.08151633,  2.17569258],\n",
              "       [-0.04155831,  0.15527591,  0.39287459],\n",
              "       [-0.0236437 ,  0.07545418,  0.04870355],\n",
              "       [-0.01611489, -0.17131404, -0.01788491]])"
            ]
          },
          "metadata": {},
          "execution_count": 44
        }
      ]
    },
    {
      "cell_type": "code",
      "source": [
        "sensor1_data_normal"
      ],
      "metadata": {
        "colab": {
          "base_uri": "https://localhost:8080/"
        },
        "id": "Oz5_mCwDVrcq",
        "outputId": "f3459a39-0a5f-436c-8086-4c84f6c51155"
      },
      "execution_count": null,
      "outputs": [
        {
          "output_type": "execute_result",
          "data": {
            "text/plain": [
              "array([[-8.89959834e-02, -5.80552471e-01, -2.07617264e+00],\n",
              "       [-4.88487729e-02, -8.15163269e-02,  2.17569258e+00],\n",
              "       [-4.15583149e-02,  1.55275910e-01,  3.92874586e-01],\n",
              "       ...,\n",
              "       [ 3.34862338e-02, -1.60713653e-01,  3.68116623e-01],\n",
              "       [ 2.33712016e-02,  4.26513184e-04,  9.52164606e-02],\n",
              "       [ 2.36831970e-02, -3.99795471e-01,  6.94832069e-02]])"
            ]
          },
          "metadata": {},
          "execution_count": 45
        }
      ]
    },
    {
      "cell_type": "code",
      "source": [
        "len(sensor1_data_normal)"
      ],
      "metadata": {
        "colab": {
          "base_uri": "https://localhost:8080/"
        },
        "id": "chtV83URV0bG",
        "outputId": "2c9af7b4-5a31-472f-da4a-d4ef76dcd75e"
      },
      "execution_count": null,
      "outputs": [
        {
          "output_type": "execute_result",
          "data": {
            "text/plain": [
              "29799"
            ]
          },
          "metadata": {},
          "execution_count": 46
        }
      ]
    },
    {
      "cell_type": "code",
      "metadata": {
        "id": "DssP_ns3oPeE",
        "colab": {
          "base_uri": "https://localhost:8080/"
        },
        "outputId": "b1d192d8-ca6e-49ed-e792-e9bba1a06664"
      },
      "source": [
        "scaler  = StandardScaler()\n",
        "scaler.fit(sensor2_data[['minus_speed','minus_Gps','minus_acc']])\n",
        "sensor2_data_normal = scaler.transform(sensor2_data[['minus_speed','minus_Gps','minus_acc']]) \n",
        "sensor2_data_normal[:5]"
      ],
      "execution_count": null,
      "outputs": [
        {
          "output_type": "execute_result",
          "data": {
            "text/plain": [
              "array([[-0.08911106, -0.58159003, -2.09183141],\n",
              "       [-0.04891194, -0.08166201,  2.19210195],\n",
              "       [-0.04161205,  0.15555342,  0.3958377 ],\n",
              "       [-0.02367428,  0.07558903,  0.04907088],\n",
              "       [-0.01613573, -0.17162021, -0.0180198 ]])"
            ]
          },
          "metadata": {},
          "execution_count": 47
        }
      ]
    },
    {
      "cell_type": "code",
      "metadata": {
        "id": "ShuycYtJoPQ2",
        "colab": {
          "base_uri": "https://localhost:8080/"
        },
        "outputId": "33375170-af4c-4987-f91c-b388028fb622"
      },
      "source": [
        "scaler  = StandardScaler()\n",
        "scaler.fit(sensor3_data[['minus_speed','minus_Gps','minus_acc']])\n",
        "sensor3_data_normal = scaler.transform(sensor3_data[['minus_speed','minus_Gps','minus_acc']]) \n",
        "sensor3_data_normal[:5]"
      ],
      "execution_count": null,
      "outputs": [
        {
          "output_type": "execute_result",
          "data": {
            "text/plain": [
              "array([[-0.08911106, -0.58159003, -2.09183141],\n",
              "       [-0.04891194, -0.08166201,  2.19210195],\n",
              "       [-0.04161205,  0.15555342,  0.3958377 ],\n",
              "       [-0.02367428,  0.07558903,  0.04907088],\n",
              "       [-0.01613573, -0.17162021, -0.0180198 ]])"
            ]
          },
          "metadata": {},
          "execution_count": 48
        }
      ]
    },
    {
      "cell_type": "code",
      "metadata": {
        "id": "NPEKmySy2O0W"
      },
      "source": [
        "window_size = 10\n",
        "\n",
        "# create windows with overlap\n",
        "def convertToFrames(X_data,y_data, step):\n",
        "    X, Y =[], []    \n",
        "    for i in range(len(X_data)-step):\n",
        "        y_or = 0\n",
        "        d=i+step  \n",
        "        X.append(X_data[i:d,])\n",
        "        for y in y_data.iloc[i:d].values:\n",
        "           y_or = y_or or y\n",
        "        \n",
        "        Y.append(y_or)\n",
        "    return np.array(X), np.array(Y)"
      ],
      "execution_count": null,
      "outputs": []
    },
    {
      "cell_type": "code",
      "metadata": {
        "colab": {
          "base_uri": "https://localhost:8080/"
        },
        "id": "1U7mLgOZaZsN",
        "outputId": "5b00ddb8-2983-46d7-ed21-7edd5c3e8264"
      },
      "source": [
        "X_sensor1, y_sensor1 = convertToFrames(sensor1_data_normal, sensor1_label, window_size)\n",
        "X_sensor1.shape, y_sensor1.shape\n",
        "#print(X_sensor1[0])\n",
        "# print(X_sensor1[1])"
      ],
      "execution_count": null,
      "outputs": [
        {
          "output_type": "execute_result",
          "data": {
            "text/plain": [
              "((29789, 10, 3), (29789, 1))"
            ]
          },
          "metadata": {},
          "execution_count": 50
        }
      ]
    },
    {
      "cell_type": "code",
      "source": [
        "X_sensor1[0]"
      ],
      "metadata": {
        "colab": {
          "base_uri": "https://localhost:8080/"
        },
        "id": "uWAtNs89bIPU",
        "outputId": "b3896125-c3a5-4d8b-d26f-a10bda051edc"
      },
      "execution_count": null,
      "outputs": [
        {
          "output_type": "execute_result",
          "data": {
            "text/plain": [
              "array([[-0.08899598, -0.58055247, -2.07617264],\n",
              "       [-0.04884877, -0.08151633,  2.17569258],\n",
              "       [-0.04155831,  0.15527591,  0.39287459],\n",
              "       [-0.0236437 ,  0.07545418,  0.04870355],\n",
              "       [-0.01611489, -0.17131404, -0.01788491],\n",
              "       [-0.03645613, -0.03518268, -0.28650963],\n",
              "       [-0.07413753, -0.10795266,  1.08869196],\n",
              "       [-0.07739667, -0.16075636, -0.77547999],\n",
              "       [-0.04911338, -0.06183797, -0.14989603],\n",
              "       [-0.04441704, -0.01459347, -0.32641004]])"
            ]
          },
          "metadata": {},
          "execution_count": 51
        }
      ]
    },
    {
      "cell_type": "code",
      "source": [
        "X_sensor1"
      ],
      "metadata": {
        "colab": {
          "base_uri": "https://localhost:8080/"
        },
        "id": "7-ZVBBe0WWs8",
        "outputId": "a2a329f2-73ba-41af-8630-5d88d863084d"
      },
      "execution_count": null,
      "outputs": [
        {
          "output_type": "execute_result",
          "data": {
            "text/plain": [
              "array([[[-8.89959834e-02, -5.80552471e-01, -2.07617264e+00],\n",
              "        [-4.88487729e-02, -8.15163269e-02,  2.17569258e+00],\n",
              "        [-4.15583149e-02,  1.55275910e-01,  3.92874586e-01],\n",
              "        ...,\n",
              "        [-7.73966651e-02, -1.60756362e-01, -7.75479989e-01],\n",
              "        [-4.91133844e-02, -6.18379652e-02, -1.49896029e-01],\n",
              "        [-4.44170425e-02, -1.45934673e-02, -3.26410040e-01]],\n",
              "\n",
              "       [[-4.88487729e-02, -8.15163269e-02,  2.17569258e+00],\n",
              "        [-4.15583149e-02,  1.55275910e-01,  3.92874586e-01],\n",
              "        [-2.36437039e-02,  7.54541830e-02,  4.87035478e-02],\n",
              "        ...,\n",
              "        [-4.91133844e-02, -6.18379652e-02, -1.49896029e-01],\n",
              "        [-4.44170425e-02, -1.45934673e-02, -3.26410040e-01],\n",
              "        [-6.42391130e-02,  1.19918234e-01,  1.10313768e-01]],\n",
              "\n",
              "       [[-4.15583149e-02,  1.55275910e-01,  3.92874586e-01],\n",
              "        [-2.36437039e-02,  7.54541830e-02,  4.87035478e-02],\n",
              "        [-1.61148904e-02, -1.71314037e-01, -1.78849052e-02],\n",
              "        ...,\n",
              "        [-4.44170425e-02, -1.45934673e-02, -3.26410040e-01],\n",
              "        [-6.42391130e-02,  1.19918234e-01,  1.10313768e-01],\n",
              "        [-7.86921334e-02,  5.79779570e-02, -6.48173190e-03]],\n",
              "\n",
              "       ...,\n",
              "\n",
              "       [[-3.62920326e-02,  4.92884122e-02,  3.76876263e+00],\n",
              "        [-2.75561597e-02,  2.22842477e-02,  5.15609264e-01],\n",
              "        [-2.11803551e-02,  1.19641174e-02, -2.30740037e-01],\n",
              "        ...,\n",
              "        [-1.13674940e-03, -6.22207640e-02, -1.29862815e-01],\n",
              "        [ 5.79904708e-03, -1.02904606e-01,  4.68894500e-01],\n",
              "        [ 2.62528006e-02,  7.07810398e-02,  3.85570100e-01]],\n",
              "\n",
              "       [[-2.75561597e-02,  2.22842477e-02,  5.15609264e-01],\n",
              "        [-2.11803551e-02,  1.19641174e-02, -2.30740037e-01],\n",
              "        [-8.82966307e-03,  9.98593271e-02, -8.16934996e-02],\n",
              "        ...,\n",
              "        [ 5.79904708e-03, -1.02904606e-01,  4.68894500e-01],\n",
              "        [ 2.62528006e-02,  7.07810398e-02,  3.85570100e-01],\n",
              "        [ 3.34862338e-02, -1.60713653e-01,  3.68116623e-01]],\n",
              "\n",
              "       [[-2.11803551e-02,  1.19641174e-02, -2.30740037e-01],\n",
              "        [-8.82966307e-03,  9.98593271e-02, -8.16934996e-02],\n",
              "        [-2.05615361e+00,  4.04189058e-02, -4.06515893e-01],\n",
              "        ...,\n",
              "        [ 2.62528006e-02,  7.07810398e-02,  3.85570100e-01],\n",
              "        [ 3.34862338e-02, -1.60713653e-01,  3.68116623e-01],\n",
              "        [ 2.33712016e-02,  4.26513184e-04,  9.52164606e-02]]])"
            ]
          },
          "metadata": {},
          "execution_count": 52
        }
      ]
    },
    {
      "cell_type": "code",
      "source": [
        "len(X_sensor1)"
      ],
      "metadata": {
        "colab": {
          "base_uri": "https://localhost:8080/"
        },
        "id": "L0-cbHBXW1It",
        "outputId": "84aa41a6-010e-40b9-d25a-593ab3b16398"
      },
      "execution_count": null,
      "outputs": [
        {
          "output_type": "execute_result",
          "data": {
            "text/plain": [
              "29789"
            ]
          },
          "metadata": {},
          "execution_count": 53
        }
      ]
    },
    {
      "cell_type": "code",
      "source": [
        "y_sensor1"
      ],
      "metadata": {
        "colab": {
          "base_uri": "https://localhost:8080/"
        },
        "id": "e7fkF5diWqvL",
        "outputId": "c0953d08-c705-4334-997e-1c2c1f4ae406"
      },
      "execution_count": null,
      "outputs": [
        {
          "output_type": "execute_result",
          "data": {
            "text/plain": [
              "array([[0.],\n",
              "       [0.],\n",
              "       [0.],\n",
              "       ...,\n",
              "       [1.],\n",
              "       [1.],\n",
              "       [1.]])"
            ]
          },
          "metadata": {},
          "execution_count": 54
        }
      ]
    },
    {
      "cell_type": "code",
      "source": [
        "y_sensor1[0]"
      ],
      "metadata": {
        "colab": {
          "base_uri": "https://localhost:8080/"
        },
        "id": "Sx3olZTFbkei",
        "outputId": "820de317-460c-4791-a45e-5edd288bf37b"
      },
      "execution_count": null,
      "outputs": [
        {
          "output_type": "execute_result",
          "data": {
            "text/plain": [
              "array([0.])"
            ]
          },
          "metadata": {},
          "execution_count": 55
        }
      ]
    },
    {
      "cell_type": "code",
      "source": [
        "len(y_sensor1)"
      ],
      "metadata": {
        "colab": {
          "base_uri": "https://localhost:8080/"
        },
        "id": "k5BX2LMBWtzl",
        "outputId": "aece934c-b918-431f-cc8d-d328366f8c48"
      },
      "execution_count": null,
      "outputs": [
        {
          "output_type": "execute_result",
          "data": {
            "text/plain": [
              "29789"
            ]
          },
          "metadata": {},
          "execution_count": 56
        }
      ]
    },
    {
      "cell_type": "code",
      "source": [],
      "metadata": {
        "id": "coIksvK9Wu5O"
      },
      "execution_count": null,
      "outputs": []
    },
    {
      "cell_type": "code",
      "metadata": {
        "colab": {
          "base_uri": "https://localhost:8080/"
        },
        "id": "LlbmzS3Hagp1",
        "outputId": "f89a0046-a5e4-4675-f286-c0e82d89371f"
      },
      "source": [
        "X_sensor2, y_sensor2 = convertToFrames(sensor2_data_normal, sensor2_label, window_size)\n",
        "X_sensor2.shape, y_sensor2.shape"
      ],
      "execution_count": null,
      "outputs": [
        {
          "output_type": "execute_result",
          "data": {
            "text/plain": [
              "((29789, 10, 3), (29789, 1))"
            ]
          },
          "metadata": {},
          "execution_count": 57
        }
      ]
    },
    {
      "cell_type": "code",
      "metadata": {
        "colab": {
          "base_uri": "https://localhost:8080/"
        },
        "id": "0QyV7kwragiE",
        "outputId": "d68ece83-b637-42e8-ba30-2fc9f512afce"
      },
      "source": [
        "X_sensor3, y_sensor3 = convertToFrames(sensor3_data_normal, sensor3_label, window_size)\n",
        "X_sensor3.shape, y_sensor3.shape"
      ],
      "execution_count": null,
      "outputs": [
        {
          "output_type": "execute_result",
          "data": {
            "text/plain": [
              "((29789, 10, 3), (29789, 1))"
            ]
          },
          "metadata": {},
          "execution_count": 58
        }
      ]
    },
    {
      "cell_type": "code",
      "metadata": {
        "colab": {
          "base_uri": "https://localhost:8080/"
        },
        "id": "l4fSg45cplIB",
        "outputId": "08902289-0f70-40fa-913e-cdd9625b4eb9"
      },
      "source": [
        "y_sensor1 = to_categorical(y_sensor1, num_classes= 2, dtype='float32')\n",
        "X_train_sensor1,X_test_sensor1, y_train_sensor1, y_test_sensor1 = train_test_split(X_sensor1,y_sensor1,random_state = 1400, test_size= 0.15)\n",
        "y_train_sensor1, y_test_sensor1 = y_train_sensor1.squeeze(), y_test_sensor1.squeeze()\n",
        "X_train_sensor1.shape, X_test_sensor1.shape,y_train_sensor1.shape, y_test_sensor1.shape"
      ],
      "execution_count": null,
      "outputs": [
        {
          "output_type": "execute_result",
          "data": {
            "text/plain": [
              "((25320, 10, 3), (4469, 10, 3), (25320, 2), (4469, 2))"
            ]
          },
          "metadata": {},
          "execution_count": 59
        }
      ]
    },
    {
      "cell_type": "code",
      "metadata": {
        "colab": {
          "base_uri": "https://localhost:8080/"
        },
        "id": "M-6JhdmNplC4",
        "outputId": "bcd58b4a-8423-493f-c5c1-3d307d38ca18"
      },
      "source": [
        "y_sensor2 = to_categorical(y_sensor2, num_classes= 2, dtype='float32')\n",
        "X_train_sensor2,X_test_sensor2, y_train_sensor2, y_test_sensor2 = train_test_split(X_sensor2,y_sensor2,random_state = 1400, test_size= 0.15)\n",
        "y_train_sensor2, y_test_sensor2 = y_train_sensor2.squeeze(), y_test_sensor2.squeeze()\n",
        "X_train_sensor2.shape, X_test_sensor2.shape,y_train_sensor2.shape, y_test_sensor2.shape"
      ],
      "execution_count": null,
      "outputs": [
        {
          "output_type": "execute_result",
          "data": {
            "text/plain": [
              "((25320, 10, 3), (4469, 10, 3), (25320, 2), (4469, 2))"
            ]
          },
          "metadata": {},
          "execution_count": 60
        }
      ]
    },
    {
      "cell_type": "code",
      "metadata": {
        "colab": {
          "base_uri": "https://localhost:8080/"
        },
        "id": "CZmk_MFjpk_S",
        "outputId": "d5be5daf-75af-432a-e3ea-1844e5e732bc"
      },
      "source": [
        "y_sensor3 = to_categorical(y_sensor3, num_classes= 2, dtype='float32')\n",
        "X_train_sensor3,X_test_sensor3, y_train_sensor3, y_test_sensor3 = train_test_split(X_sensor3,y_sensor3,random_state = 1400, test_size= 0.15)\n",
        "y_train_sensor3, y_test_sensor3 = y_train_sensor3.squeeze(), y_test_sensor3.squeeze()\n",
        "X_train_sensor3.shape, X_test_sensor3.shape,y_train_sensor3.shape, y_test_sensor3.shape"
      ],
      "execution_count": null,
      "outputs": [
        {
          "output_type": "execute_result",
          "data": {
            "text/plain": [
              "((25320, 10, 3), (4469, 10, 3), (25320, 2), (4469, 2))"
            ]
          },
          "metadata": {},
          "execution_count": 61
        }
      ]
    },
    {
      "cell_type": "code",
      "metadata": {
        "id": "DFlQxMk8PgWx"
      },
      "source": [
        "\n",
        "def creatModel():\n",
        "  \n",
        "    model = Sequential()\n",
        "    model.add(Conv1D(kernel_size=3, filters= 40, activation= 'relu', padding='same'))\n",
        "    model.add(Dropout(0.1))\n",
        "    model.add( Conv1D(kernel_size=3, filters= 60, activation= 'relu', padding='same'))\n",
        "    model.add(Dropout(0.1))\n",
        "    model.add(Conv1D(kernel_size=3, filters= 60, activation= 'relu', padding='same'))\n",
        "    model.add(Dropout(0.1))\n",
        "    model.add(GlobalMaxPool1D())\n",
        "    model.add(RepeatVector(X_train_sensor1.shape[1]))\n",
        "    model.add(LSTM(256, return_sequences=True))\n",
        "    model.add(Dropout(rate=0.2))\n",
        "    model.add(LSTM(128, return_sequences=True))\n",
        "    model.add(Dropout(rate=0.2))\n",
        "    model.add(LSTM(64, return_sequences=False))\n",
        "    model.add(Dropout(rate=0.2))\n",
        "    model.add((Dense(32)))\n",
        "    model.add((Dense(16)))\n",
        "    model.add(Dense(2, activation='sigmoid', kernel_regularizer=l2()))\n",
        "    model.compile(optimizer='adam', loss='binary_crossentropy',metrics=['accuracy'])\n",
        "\n",
        "    return model\n"
      ],
      "execution_count": null,
      "outputs": []
    },
    {
      "cell_type": "code",
      "metadata": {
        "id": "VrTO2TLekYa-"
      },
      "source": [
        "import time\n",
        "\n",
        "class TimeHistory(Callback):\n",
        "  \n",
        "    def on_epoch_begin(self, batch, logs={}):\n",
        "        self.epoch_time_start = time.time()\n",
        "\n",
        "    def on_epoch_end(self, batch, logs={}):\n",
        "        epoch_time = time.time() - self.epoch_time_start\n",
        "        logs['epoch_time'] = epoch_time\n"
      ],
      "execution_count": null,
      "outputs": []
    },
    {
      "cell_type": "code",
      "source": [
        "model_path = '/content/drive/MyDrive/CAV/data/Instant attack/25/Models/Models16-1/'\n",
        "\n",
        "class Model_save(Callback):\n",
        "  def on_epoch_end(self, epoch, logs={}):\n",
        "    self.model.save(model_path + \"CNN-LSTM-autoEncoder-Instant-25-CAV-perEpoch_{}.h5\".format(sensor))\n",
        "    "
      ],
      "metadata": {
        "id": "M79Mq50tlTe6"
      },
      "execution_count": null,
      "outputs": []
    },
    {
      "cell_type": "code",
      "source": [
        "def setCallbacks(sensor):\n",
        "\n",
        "  best_model_path = model_path + 'Best_CNN-LSTM-autoEncoder-Instant-25-CAV_{}.h5'.format(sensor)\n",
        "  checkpoint = ModelCheckpoint(best_model_path, monitor='val_loss', save_best_only=True, mode='min')\n",
        "\n",
        "  history_cb = tf.keras.callbacks.CSVLogger(model_path + 'historyLOG_Instant-25_{}.csv'.format(sensor), separator=\",\", append=True)\n",
        "\n",
        "  model_save = Model_save()\n",
        "\n",
        "  Estop = EarlyStopping(monitor='val_accuracy', patience= 100)\n",
        "  \n",
        "  return model_save, checkpoint, history_cb, Estop"
      ],
      "metadata": {
        "id": "nWddQ3LPlY5M"
      },
      "execution_count": null,
      "outputs": []
    },
    {
      "cell_type": "code",
      "metadata": {
        "colab": {
          "base_uri": "https://localhost:8080/"
        },
        "id": "t7odu-Z4_BLe",
        "outputId": "51cba7f8-b825-45c2-90f2-b4077cfdb5da"
      },
      "source": [
        "sensor = \"sensor1\"\n",
        "time_callback = TimeHistory()\n",
        "model_sensor1 = creatModel()\n",
        "model_save, checkpoint, history_cb, Estop = setCallbacks(\"sensor1\")\n",
        "history_sensor1 = model_sensor1.fit(X_train_sensor1, y_train_sensor1,\n",
        "                                    batch_size = 128, epochs = 500,\n",
        "                                    validation_split = 0.1,\n",
        "                                    verbose = 1,\n",
        "                                    callbacks = [time_callback, model_save, checkpoint, history_cb, Estop])\n",
        "                                    # class_weight= class_weights)#\n"
      ],
      "execution_count": null,
      "outputs": [
        {
          "output_type": "stream",
          "name": "stdout",
          "text": [
            "Epoch 1/500\n",
            "179/179 [==============================] - 17s 19ms/step - loss: 0.2388 - accuracy: 0.9287 - val_loss: 0.0846 - val_accuracy: 0.9838 - epoch_time: 16.5979\n",
            "Epoch 2/500\n",
            "179/179 [==============================] - 3s 15ms/step - loss: 0.0879 - accuracy: 0.9801 - val_loss: 0.0603 - val_accuracy: 0.9862 - epoch_time: 2.5219\n",
            "Epoch 3/500\n",
            "179/179 [==============================] - 3s 15ms/step - loss: 0.0666 - accuracy: 0.9847 - val_loss: 0.0528 - val_accuracy: 0.9874 - epoch_time: 2.5574\n",
            "Epoch 4/500\n",
            "179/179 [==============================] - 2s 12ms/step - loss: 0.0560 - accuracy: 0.9871 - val_loss: 0.0485 - val_accuracy: 0.9866 - epoch_time: 2.0218\n",
            "Epoch 5/500\n",
            "179/179 [==============================] - 2s 13ms/step - loss: 0.0518 - accuracy: 0.9871 - val_loss: 0.0431 - val_accuracy: 0.9897 - epoch_time: 2.0961\n",
            "Epoch 6/500\n",
            "179/179 [==============================] - 2s 12ms/step - loss: 0.0508 - accuracy: 0.9880 - val_loss: 0.0481 - val_accuracy: 0.9870 - epoch_time: 2.0494\n",
            "Epoch 7/500\n",
            "179/179 [==============================] - 2s 13ms/step - loss: 0.0446 - accuracy: 0.9885 - val_loss: 0.0405 - val_accuracy: 0.9893 - epoch_time: 2.0681\n",
            "Epoch 8/500\n",
            "179/179 [==============================] - 3s 16ms/step - loss: 0.0432 - accuracy: 0.9888 - val_loss: 0.0421 - val_accuracy: 0.9905 - epoch_time: 2.7500\n",
            "Epoch 9/500\n",
            "179/179 [==============================] - 3s 14ms/step - loss: 0.0401 - accuracy: 0.9895 - val_loss: 0.0365 - val_accuracy: 0.9909 - epoch_time: 2.3628\n",
            "Epoch 10/500\n",
            "179/179 [==============================] - 2s 12ms/step - loss: 0.0396 - accuracy: 0.9896 - val_loss: 0.0412 - val_accuracy: 0.9893 - epoch_time: 2.0267\n",
            "Epoch 11/500\n",
            "179/179 [==============================] - 2s 12ms/step - loss: 0.0376 - accuracy: 0.9903 - val_loss: 0.0375 - val_accuracy: 0.9913 - epoch_time: 1.9829\n",
            "Epoch 12/500\n",
            "179/179 [==============================] - 2s 13ms/step - loss: 0.0365 - accuracy: 0.9907 - val_loss: 0.0374 - val_accuracy: 0.9913 - epoch_time: 2.1480\n",
            "Epoch 13/500\n",
            "179/179 [==============================] - 2s 13ms/step - loss: 0.0373 - accuracy: 0.9898 - val_loss: 0.0371 - val_accuracy: 0.9905 - epoch_time: 2.1957\n",
            "Epoch 14/500\n",
            "179/179 [==============================] - 3s 19ms/step - loss: 0.0349 - accuracy: 0.9906 - val_loss: 0.0364 - val_accuracy: 0.9909 - epoch_time: 2.9285\n",
            "Epoch 15/500\n",
            "179/179 [==============================] - 2s 12ms/step - loss: 0.0360 - accuracy: 0.9907 - val_loss: 0.0359 - val_accuracy: 0.9897 - epoch_time: 2.0351\n",
            "Epoch 16/500\n",
            "179/179 [==============================] - 2s 13ms/step - loss: 0.0331 - accuracy: 0.9909 - val_loss: 0.0350 - val_accuracy: 0.9921 - epoch_time: 2.0824\n",
            "Epoch 17/500\n",
            "179/179 [==============================] - 2s 13ms/step - loss: 0.0321 - accuracy: 0.9910 - val_loss: 0.0349 - val_accuracy: 0.9917 - epoch_time: 2.1163\n",
            "Epoch 18/500\n",
            "179/179 [==============================] - 2s 13ms/step - loss: 0.0309 - accuracy: 0.9911 - val_loss: 0.0309 - val_accuracy: 0.9917 - epoch_time: 2.0654\n",
            "Epoch 19/500\n",
            "179/179 [==============================] - 3s 15ms/step - loss: 0.0294 - accuracy: 0.9918 - val_loss: 0.0334 - val_accuracy: 0.9921 - epoch_time: 2.5167\n",
            "Epoch 20/500\n",
            "179/179 [==============================] - 3s 15ms/step - loss: 0.0288 - accuracy: 0.9918 - val_loss: 0.0349 - val_accuracy: 0.9909 - epoch_time: 2.5829\n",
            "Epoch 21/500\n",
            "179/179 [==============================] - 2s 12ms/step - loss: 0.0278 - accuracy: 0.9921 - val_loss: 0.0372 - val_accuracy: 0.9909 - epoch_time: 2.0633\n",
            "Epoch 22/500\n",
            "179/179 [==============================] - 2s 12ms/step - loss: 0.0274 - accuracy: 0.9925 - val_loss: 0.0323 - val_accuracy: 0.9901 - epoch_time: 2.0754\n",
            "Epoch 23/500\n",
            "179/179 [==============================] - 2s 12ms/step - loss: 0.0314 - accuracy: 0.9914 - val_loss: 0.0359 - val_accuracy: 0.9929 - epoch_time: 2.0067\n",
            "Epoch 24/500\n",
            "179/179 [==============================] - 2s 12ms/step - loss: 0.0258 - accuracy: 0.9930 - val_loss: 0.0334 - val_accuracy: 0.9913 - epoch_time: 2.0101\n",
            "Epoch 25/500\n",
            "179/179 [==============================] - 3s 15ms/step - loss: 0.0253 - accuracy: 0.9930 - val_loss: 0.0360 - val_accuracy: 0.9909 - epoch_time: 2.6263\n",
            "Epoch 26/500\n",
            "179/179 [==============================] - 3s 15ms/step - loss: 0.0262 - accuracy: 0.9930 - val_loss: 0.0347 - val_accuracy: 0.9905 - epoch_time: 2.5459\n",
            "Epoch 27/500\n",
            "179/179 [==============================] - 4s 22ms/step - loss: 0.0232 - accuracy: 0.9935 - val_loss: 0.0296 - val_accuracy: 0.9933 - epoch_time: 3.2377\n",
            "Epoch 28/500\n",
            "179/179 [==============================] - 2s 12ms/step - loss: 0.0212 - accuracy: 0.9939 - val_loss: 0.0360 - val_accuracy: 0.9921 - epoch_time: 2.1191\n",
            "Epoch 29/500\n",
            "179/179 [==============================] - 2s 13ms/step - loss: 0.0221 - accuracy: 0.9939 - val_loss: 0.0292 - val_accuracy: 0.9921 - epoch_time: 2.0757\n",
            "Epoch 30/500\n",
            "179/179 [==============================] - 3s 16ms/step - loss: 0.0211 - accuracy: 0.9943 - val_loss: 0.0299 - val_accuracy: 0.9909 - epoch_time: 2.7245\n",
            "Epoch 31/500\n",
            "179/179 [==============================] - 3s 15ms/step - loss: 0.0213 - accuracy: 0.9947 - val_loss: 0.0294 - val_accuracy: 0.9925 - epoch_time: 2.5062\n",
            "Epoch 32/500\n",
            "179/179 [==============================] - 3s 14ms/step - loss: 0.0196 - accuracy: 0.9950 - val_loss: 0.0288 - val_accuracy: 0.9917 - epoch_time: 2.1442\n",
            "Epoch 33/500\n",
            "179/179 [==============================] - 2s 12ms/step - loss: 0.0203 - accuracy: 0.9942 - val_loss: 0.0289 - val_accuracy: 0.9933 - epoch_time: 2.1136\n",
            "Epoch 34/500\n",
            "179/179 [==============================] - 2s 12ms/step - loss: 0.0187 - accuracy: 0.9944 - val_loss: 0.0307 - val_accuracy: 0.9913 - epoch_time: 2.1005\n",
            "Epoch 35/500\n",
            "179/179 [==============================] - 2s 13ms/step - loss: 0.0172 - accuracy: 0.9947 - val_loss: 0.0336 - val_accuracy: 0.9913 - epoch_time: 2.2391\n",
            "Epoch 36/500\n",
            "179/179 [==============================] - 3s 17ms/step - loss: 0.0172 - accuracy: 0.9951 - val_loss: 0.0298 - val_accuracy: 0.9925 - epoch_time: 2.8883\n",
            "Epoch 37/500\n",
            "179/179 [==============================] - 3s 15ms/step - loss: 0.0154 - accuracy: 0.9953 - val_loss: 0.0282 - val_accuracy: 0.9929 - epoch_time: 2.3347\n",
            "Epoch 38/500\n",
            "179/179 [==============================] - 2s 12ms/step - loss: 0.0162 - accuracy: 0.9951 - val_loss: 0.0282 - val_accuracy: 0.9929 - epoch_time: 2.1051\n",
            "Epoch 39/500\n",
            "179/179 [==============================] - 2s 12ms/step - loss: 0.0154 - accuracy: 0.9955 - val_loss: 0.0337 - val_accuracy: 0.9913 - epoch_time: 2.1109\n",
            "Epoch 40/500\n",
            "179/179 [==============================] - 2s 12ms/step - loss: 0.0160 - accuracy: 0.9955 - val_loss: 0.0286 - val_accuracy: 0.9933 - epoch_time: 2.1225\n",
            "Epoch 41/500\n",
            "179/179 [==============================] - 3s 15ms/step - loss: 0.0149 - accuracy: 0.9956 - val_loss: 0.0319 - val_accuracy: 0.9925 - epoch_time: 2.5237\n",
            "Epoch 42/500\n",
            "179/179 [==============================] - 3s 17ms/step - loss: 0.0149 - accuracy: 0.9958 - val_loss: 0.0257 - val_accuracy: 0.9925 - epoch_time: 2.6905\n",
            "Epoch 43/500\n",
            "179/179 [==============================] - 2s 12ms/step - loss: 0.0135 - accuracy: 0.9961 - val_loss: 0.0296 - val_accuracy: 0.9925 - epoch_time: 2.1323\n",
            "Epoch 44/500\n",
            "179/179 [==============================] - 2s 12ms/step - loss: 0.0143 - accuracy: 0.9956 - val_loss: 0.0309 - val_accuracy: 0.9917 - epoch_time: 2.0780\n",
            "Epoch 45/500\n",
            "179/179 [==============================] - 2s 12ms/step - loss: 0.0127 - accuracy: 0.9964 - val_loss: 0.0299 - val_accuracy: 0.9925 - epoch_time: 2.0898\n",
            "Epoch 46/500\n",
            "179/179 [==============================] - 2s 13ms/step - loss: 0.0139 - accuracy: 0.9957 - val_loss: 0.0235 - val_accuracy: 0.9933 - epoch_time: 2.1410\n",
            "Epoch 47/500\n",
            "179/179 [==============================] - 3s 16ms/step - loss: 0.0114 - accuracy: 0.9964 - val_loss: 0.0266 - val_accuracy: 0.9921 - epoch_time: 2.8411\n",
            "Epoch 48/500\n",
            "179/179 [==============================] - 2s 14ms/step - loss: 0.0201 - accuracy: 0.9941 - val_loss: 0.0261 - val_accuracy: 0.9941 - epoch_time: 2.4004\n",
            "Epoch 49/500\n",
            "179/179 [==============================] - 2s 12ms/step - loss: 0.0121 - accuracy: 0.9968 - val_loss: 0.0253 - val_accuracy: 0.9945 - epoch_time: 2.1301\n",
            "Epoch 50/500\n",
            "179/179 [==============================] - 2s 12ms/step - loss: 0.0122 - accuracy: 0.9962 - val_loss: 0.0262 - val_accuracy: 0.9929 - epoch_time: 2.1449\n",
            "Epoch 51/500\n",
            "179/179 [==============================] - 3s 14ms/step - loss: 0.0115 - accuracy: 0.9966 - val_loss: 0.0190 - val_accuracy: 0.9941 - epoch_time: 2.1310\n",
            "Epoch 52/500\n",
            "179/179 [==============================] - 2s 14ms/step - loss: 0.0122 - accuracy: 0.9961 - val_loss: 0.0226 - val_accuracy: 0.9941 - epoch_time: 2.3453\n",
            "Epoch 53/500\n",
            "179/179 [==============================] - 3s 16ms/step - loss: 0.0109 - accuracy: 0.9966 - val_loss: 0.0319 - val_accuracy: 0.9929 - epoch_time: 2.7936\n",
            "Epoch 54/500\n",
            "179/179 [==============================] - 2s 13ms/step - loss: 0.0098 - accuracy: 0.9971 - val_loss: 0.0262 - val_accuracy: 0.9925 - epoch_time: 2.1722\n",
            "Epoch 55/500\n",
            "179/179 [==============================] - 2s 13ms/step - loss: 0.0115 - accuracy: 0.9967 - val_loss: 0.0224 - val_accuracy: 0.9933 - epoch_time: 2.1881\n",
            "Epoch 56/500\n",
            "179/179 [==============================] - 2s 12ms/step - loss: 0.0096 - accuracy: 0.9975 - val_loss: 0.0293 - val_accuracy: 0.9921 - epoch_time: 2.0621\n",
            "Epoch 57/500\n",
            "179/179 [==============================] - 2s 12ms/step - loss: 0.0132 - accuracy: 0.9959 - val_loss: 0.0220 - val_accuracy: 0.9925 - epoch_time: 2.0435\n",
            "Epoch 58/500\n",
            "179/179 [==============================] - 3s 14ms/step - loss: 0.0096 - accuracy: 0.9972 - val_loss: 0.0310 - val_accuracy: 0.9929 - epoch_time: 2.4414\n",
            "Epoch 59/500\n",
            "179/179 [==============================] - 3s 15ms/step - loss: 0.0099 - accuracy: 0.9968 - val_loss: 0.0191 - val_accuracy: 0.9933 - epoch_time: 2.6559\n",
            "Epoch 60/500\n",
            "179/179 [==============================] - 2s 12ms/step - loss: 0.0105 - accuracy: 0.9968 - val_loss: 0.0275 - val_accuracy: 0.9945 - epoch_time: 2.0038\n",
            "Epoch 61/500\n",
            "179/179 [==============================] - 2s 13ms/step - loss: 0.0107 - accuracy: 0.9969 - val_loss: 0.0215 - val_accuracy: 0.9929 - epoch_time: 2.1594\n",
            "Epoch 62/500\n",
            "179/179 [==============================] - 3s 14ms/step - loss: 0.0111 - accuracy: 0.9967 - val_loss: 0.0182 - val_accuracy: 0.9949 - epoch_time: 2.0836\n",
            "Epoch 63/500\n",
            "179/179 [==============================] - 2s 12ms/step - loss: 0.0118 - accuracy: 0.9965 - val_loss: 0.0200 - val_accuracy: 0.9933 - epoch_time: 2.1025\n",
            "Epoch 64/500\n",
            "179/179 [==============================] - 3s 16ms/step - loss: 0.0096 - accuracy: 0.9973 - val_loss: 0.0211 - val_accuracy: 0.9929 - epoch_time: 2.6709\n",
            "Epoch 65/500\n",
            "179/179 [==============================] - 3s 14ms/step - loss: 0.0094 - accuracy: 0.9970 - val_loss: 0.0259 - val_accuracy: 0.9905 - epoch_time: 2.4373\n",
            "Epoch 66/500\n",
            "179/179 [==============================] - 2s 12ms/step - loss: 0.0101 - accuracy: 0.9970 - val_loss: 0.0243 - val_accuracy: 0.9929 - epoch_time: 2.0905\n",
            "Epoch 67/500\n",
            "179/179 [==============================] - 2s 12ms/step - loss: 0.0090 - accuracy: 0.9971 - val_loss: 0.0259 - val_accuracy: 0.9929 - epoch_time: 2.0838\n",
            "Epoch 68/500\n",
            "179/179 [==============================] - 2s 12ms/step - loss: 0.0080 - accuracy: 0.9972 - val_loss: 0.0315 - val_accuracy: 0.9941 - epoch_time: 2.0930\n",
            "Epoch 69/500\n",
            "179/179 [==============================] - 2s 12ms/step - loss: 0.0101 - accuracy: 0.9969 - val_loss: 0.0205 - val_accuracy: 0.9941 - epoch_time: 2.0421\n",
            "Epoch 70/500\n",
            "179/179 [==============================] - 3s 16ms/step - loss: 0.0095 - accuracy: 0.9968 - val_loss: 0.0217 - val_accuracy: 0.9949 - epoch_time: 2.7938\n",
            "Epoch 71/500\n",
            "179/179 [==============================] - 2s 14ms/step - loss: 0.0095 - accuracy: 0.9967 - val_loss: 0.0274 - val_accuracy: 0.9917 - epoch_time: 2.3468\n",
            "Epoch 72/500\n",
            "179/179 [==============================] - 2s 12ms/step - loss: 0.0089 - accuracy: 0.9971 - val_loss: 0.0185 - val_accuracy: 0.9953 - epoch_time: 2.1032\n",
            "Epoch 73/500\n",
            "179/179 [==============================] - 2s 12ms/step - loss: 0.0077 - accuracy: 0.9974 - val_loss: 0.0216 - val_accuracy: 0.9949 - epoch_time: 2.0353\n",
            "Epoch 74/500\n",
            "179/179 [==============================] - 3s 14ms/step - loss: 0.0087 - accuracy: 0.9972 - val_loss: 0.0173 - val_accuracy: 0.9941 - epoch_time: 2.1362\n",
            "Epoch 75/500\n",
            "179/179 [==============================] - 3s 14ms/step - loss: 0.0062 - accuracy: 0.9979 - val_loss: 0.0248 - val_accuracy: 0.9941 - epoch_time: 2.3864\n",
            "Epoch 76/500\n",
            "179/179 [==============================] - 3s 19ms/step - loss: 0.0077 - accuracy: 0.9979 - val_loss: 0.0211 - val_accuracy: 0.9941 - epoch_time: 3.2759\n",
            "Epoch 77/500\n",
            "179/179 [==============================] - 4s 20ms/step - loss: 0.0088 - accuracy: 0.9971 - val_loss: 0.0154 - val_accuracy: 0.9945 - epoch_time: 3.1176\n",
            "Epoch 78/500\n",
            "179/179 [==============================] - 2s 12ms/step - loss: 0.0087 - accuracy: 0.9973 - val_loss: 0.0204 - val_accuracy: 0.9941 - epoch_time: 2.0828\n",
            "Epoch 79/500\n",
            "179/179 [==============================] - 2s 12ms/step - loss: 0.0089 - accuracy: 0.9971 - val_loss: 0.0176 - val_accuracy: 0.9941 - epoch_time: 2.0838\n",
            "Epoch 80/500\n",
            "179/179 [==============================] - 2s 13ms/step - loss: 0.0073 - accuracy: 0.9976 - val_loss: 0.0150 - val_accuracy: 0.9945 - epoch_time: 2.1126\n",
            "Epoch 81/500\n",
            "179/179 [==============================] - 2s 13ms/step - loss: 0.0072 - accuracy: 0.9975 - val_loss: 0.0226 - val_accuracy: 0.9949 - epoch_time: 2.2655\n",
            "Epoch 82/500\n",
            "179/179 [==============================] - 3s 16ms/step - loss: 0.0097 - accuracy: 0.9973 - val_loss: 0.0199 - val_accuracy: 0.9937 - epoch_time: 2.7910\n",
            "Epoch 83/500\n",
            "179/179 [==============================] - 2s 13ms/step - loss: 0.0078 - accuracy: 0.9977 - val_loss: 0.0179 - val_accuracy: 0.9949 - epoch_time: 2.2475\n",
            "Epoch 84/500\n",
            "179/179 [==============================] - 2s 12ms/step - loss: 0.0091 - accuracy: 0.9972 - val_loss: 0.0161 - val_accuracy: 0.9945 - epoch_time: 2.0762\n",
            "Epoch 85/500\n",
            "179/179 [==============================] - 2s 12ms/step - loss: 0.0083 - accuracy: 0.9974 - val_loss: 0.0240 - val_accuracy: 0.9957 - epoch_time: 2.0904\n",
            "Epoch 86/500\n",
            "179/179 [==============================] - 2s 12ms/step - loss: 0.0077 - accuracy: 0.9979 - val_loss: 0.0195 - val_accuracy: 0.9949 - epoch_time: 2.1014\n",
            "Epoch 87/500\n",
            "179/179 [==============================] - 3s 14ms/step - loss: 0.0075 - accuracy: 0.9974 - val_loss: 0.0194 - val_accuracy: 0.9953 - epoch_time: 2.4566\n",
            "Epoch 88/500\n",
            "179/179 [==============================] - 3s 16ms/step - loss: 0.0069 - accuracy: 0.9974 - val_loss: 0.0202 - val_accuracy: 0.9937 - epoch_time: 2.8201\n",
            "Epoch 89/500\n",
            "179/179 [==============================] - 2s 12ms/step - loss: 0.0072 - accuracy: 0.9977 - val_loss: 0.0246 - val_accuracy: 0.9953 - epoch_time: 2.1283\n",
            "Epoch 90/500\n",
            "179/179 [==============================] - 2s 12ms/step - loss: 0.0080 - accuracy: 0.9977 - val_loss: 0.0218 - val_accuracy: 0.9921 - epoch_time: 2.1032\n",
            "Epoch 91/500\n",
            "179/179 [==============================] - 2s 12ms/step - loss: 0.0082 - accuracy: 0.9976 - val_loss: 0.0155 - val_accuracy: 0.9933 - epoch_time: 2.1226\n",
            "Epoch 92/500\n",
            "179/179 [==============================] - 2s 12ms/step - loss: 0.0070 - accuracy: 0.9979 - val_loss: 0.0208 - val_accuracy: 0.9949 - epoch_time: 2.1068\n",
            "Epoch 93/500\n",
            "179/179 [==============================] - 3s 15ms/step - loss: 0.0056 - accuracy: 0.9984 - val_loss: 0.0270 - val_accuracy: 0.9937 - epoch_time: 2.6147\n",
            "Epoch 94/500\n",
            "179/179 [==============================] - 3s 15ms/step - loss: 0.0068 - accuracy: 0.9979 - val_loss: 0.0286 - val_accuracy: 0.9945 - epoch_time: 2.5922\n",
            "Epoch 95/500\n",
            "179/179 [==============================] - 2s 12ms/step - loss: 0.0071 - accuracy: 0.9980 - val_loss: 0.0193 - val_accuracy: 0.9945 - epoch_time: 2.0703\n",
            "Epoch 96/500\n",
            "179/179 [==============================] - 2s 13ms/step - loss: 0.0090 - accuracy: 0.9972 - val_loss: 0.0178 - val_accuracy: 0.9953 - epoch_time: 2.1519\n",
            "Epoch 97/500\n",
            "179/179 [==============================] - 2s 12ms/step - loss: 0.0085 - accuracy: 0.9974 - val_loss: 0.0250 - val_accuracy: 0.9949 - epoch_time: 2.0996\n",
            "Epoch 98/500\n",
            "179/179 [==============================] - 2s 12ms/step - loss: 0.0049 - accuracy: 0.9984 - val_loss: 0.0188 - val_accuracy: 0.9957 - epoch_time: 2.0701\n",
            "Epoch 99/500\n",
            "179/179 [==============================] - 3s 16ms/step - loss: 0.0060 - accuracy: 0.9978 - val_loss: 0.0248 - val_accuracy: 0.9933 - epoch_time: 2.7357\n",
            "Epoch 100/500\n",
            "179/179 [==============================] - 3s 14ms/step - loss: 0.0071 - accuracy: 0.9975 - val_loss: 0.0211 - val_accuracy: 0.9953 - epoch_time: 2.4892\n",
            "Epoch 101/500\n",
            "179/179 [==============================] - 2s 12ms/step - loss: 0.0065 - accuracy: 0.9980 - val_loss: 0.0265 - val_accuracy: 0.9945 - epoch_time: 2.0381\n",
            "Epoch 102/500\n",
            "179/179 [==============================] - 2s 12ms/step - loss: 0.0066 - accuracy: 0.9982 - val_loss: 0.0227 - val_accuracy: 0.9957 - epoch_time: 2.0268\n",
            "Epoch 103/500\n",
            "179/179 [==============================] - 2s 12ms/step - loss: 0.0062 - accuracy: 0.9982 - val_loss: 0.0207 - val_accuracy: 0.9945 - epoch_time: 2.0562\n",
            "Epoch 104/500\n",
            "179/179 [==============================] - 2s 12ms/step - loss: 0.0058 - accuracy: 0.9978 - val_loss: 0.0215 - val_accuracy: 0.9945 - epoch_time: 2.1093\n",
            "Epoch 105/500\n",
            "179/179 [==============================] - 3s 16ms/step - loss: 0.0071 - accuracy: 0.9977 - val_loss: 0.0211 - val_accuracy: 0.9945 - epoch_time: 2.7835\n",
            "Epoch 106/500\n",
            "179/179 [==============================] - 3s 14ms/step - loss: 0.0058 - accuracy: 0.9984 - val_loss: 0.0280 - val_accuracy: 0.9953 - epoch_time: 2.4438\n",
            "Epoch 107/500\n",
            "179/179 [==============================] - 2s 12ms/step - loss: 0.0059 - accuracy: 0.9980 - val_loss: 0.0243 - val_accuracy: 0.9945 - epoch_time: 2.0600\n",
            "Epoch 108/500\n",
            "179/179 [==============================] - 2s 12ms/step - loss: 0.0069 - accuracy: 0.9978 - val_loss: 0.0173 - val_accuracy: 0.9949 - epoch_time: 2.1061\n",
            "Epoch 109/500\n",
            "179/179 [==============================] - 2s 12ms/step - loss: 0.0052 - accuracy: 0.9985 - val_loss: 0.0196 - val_accuracy: 0.9949 - epoch_time: 2.0661\n",
            "Epoch 110/500\n",
            "179/179 [==============================] - 2s 13ms/step - loss: 0.0055 - accuracy: 0.9985 - val_loss: 0.0299 - val_accuracy: 0.9945 - epoch_time: 2.1895\n",
            "Epoch 111/500\n",
            "179/179 [==============================] - 3s 16ms/step - loss: 0.0070 - accuracy: 0.9977 - val_loss: 0.0203 - val_accuracy: 0.9925 - epoch_time: 2.7882\n",
            "Epoch 112/500\n",
            "179/179 [==============================] - 2s 13ms/step - loss: 0.0060 - accuracy: 0.9982 - val_loss: 0.0302 - val_accuracy: 0.9929 - epoch_time: 2.2281\n",
            "Epoch 113/500\n",
            "179/179 [==============================] - 2s 12ms/step - loss: 0.0063 - accuracy: 0.9981 - val_loss: 0.0374 - val_accuracy: 0.9929 - epoch_time: 2.0608\n",
            "Epoch 114/500\n",
            "179/179 [==============================] - 2s 12ms/step - loss: 0.0075 - accuracy: 0.9976 - val_loss: 0.0231 - val_accuracy: 0.9949 - epoch_time: 2.1133\n",
            "Epoch 115/500\n",
            "179/179 [==============================] - 2s 12ms/step - loss: 0.0068 - accuracy: 0.9979 - val_loss: 0.0193 - val_accuracy: 0.9949 - epoch_time: 2.0757\n",
            "Epoch 116/500\n",
            "179/179 [==============================] - 2s 13ms/step - loss: 0.0060 - accuracy: 0.9981 - val_loss: 0.0245 - val_accuracy: 0.9941 - epoch_time: 2.2269\n",
            "Epoch 117/500\n",
            "179/179 [==============================] - 3s 16ms/step - loss: 0.0055 - accuracy: 0.9980 - val_loss: 0.0174 - val_accuracy: 0.9957 - epoch_time: 2.8501\n",
            "Epoch 118/500\n",
            "179/179 [==============================] - 2s 12ms/step - loss: 0.0055 - accuracy: 0.9984 - val_loss: 0.0204 - val_accuracy: 0.9961 - epoch_time: 2.0920\n",
            "Epoch 119/500\n",
            "179/179 [==============================] - 2s 12ms/step - loss: 0.0062 - accuracy: 0.9982 - val_loss: 0.0171 - val_accuracy: 0.9953 - epoch_time: 2.0590\n",
            "Epoch 120/500\n",
            "179/179 [==============================] - 2s 12ms/step - loss: 0.0059 - accuracy: 0.9985 - val_loss: 0.0331 - val_accuracy: 0.9945 - epoch_time: 2.0621\n",
            "Epoch 121/500\n",
            "179/179 [==============================] - 2s 12ms/step - loss: 0.0049 - accuracy: 0.9986 - val_loss: 0.0170 - val_accuracy: 0.9957 - epoch_time: 2.0675\n",
            "Epoch 122/500\n",
            "179/179 [==============================] - 2s 14ms/step - loss: 0.0046 - accuracy: 0.9986 - val_loss: 0.0248 - val_accuracy: 0.9937 - epoch_time: 2.3774\n",
            "Epoch 123/500\n",
            "179/179 [==============================] - 3s 16ms/step - loss: 0.0059 - accuracy: 0.9982 - val_loss: 0.0165 - val_accuracy: 0.9953 - epoch_time: 2.8147\n",
            "Epoch 124/500\n",
            "179/179 [==============================] - 2s 12ms/step - loss: 0.0055 - accuracy: 0.9985 - val_loss: 0.0224 - val_accuracy: 0.9945 - epoch_time: 2.0424\n",
            "Epoch 125/500\n",
            "179/179 [==============================] - 2s 12ms/step - loss: 0.0062 - accuracy: 0.9979 - val_loss: 0.0165 - val_accuracy: 0.9933 - epoch_time: 1.9830\n",
            "Epoch 126/500\n",
            "179/179 [==============================] - 2s 12ms/step - loss: 0.0066 - accuracy: 0.9982 - val_loss: 0.0218 - val_accuracy: 0.9949 - epoch_time: 2.1191\n",
            "Epoch 127/500\n",
            "179/179 [==============================] - 2s 12ms/step - loss: 0.0070 - accuracy: 0.9981 - val_loss: 0.0183 - val_accuracy: 0.9941 - epoch_time: 2.1519\n",
            "Epoch 128/500\n",
            "179/179 [==============================] - 3s 14ms/step - loss: 0.0043 - accuracy: 0.9987 - val_loss: 0.0271 - val_accuracy: 0.9945 - epoch_time: 2.4399\n",
            "Epoch 129/500\n",
            "179/179 [==============================] - 3s 16ms/step - loss: 0.0052 - accuracy: 0.9982 - val_loss: 0.0172 - val_accuracy: 0.9949 - epoch_time: 2.7186\n",
            "Epoch 130/500\n",
            "179/179 [==============================] - 2s 12ms/step - loss: 0.0069 - accuracy: 0.9976 - val_loss: 0.0251 - val_accuracy: 0.9941 - epoch_time: 2.0788\n",
            "Epoch 131/500\n",
            "179/179 [==============================] - 2s 12ms/step - loss: 0.0041 - accuracy: 0.9987 - val_loss: 0.0299 - val_accuracy: 0.9953 - epoch_time: 2.1111\n",
            "Epoch 132/500\n",
            "179/179 [==============================] - 2s 12ms/step - loss: 0.0061 - accuracy: 0.9983 - val_loss: 0.0288 - val_accuracy: 0.9941 - epoch_time: 2.0761\n",
            "Epoch 133/500\n",
            "179/179 [==============================] - 2s 12ms/step - loss: 0.0059 - accuracy: 0.9984 - val_loss: 0.0210 - val_accuracy: 0.9949 - epoch_time: 2.0819\n",
            "Epoch 134/500\n",
            "179/179 [==============================] - 3s 15ms/step - loss: 0.0055 - accuracy: 0.9981 - val_loss: 0.0163 - val_accuracy: 0.9953 - epoch_time: 2.5572\n",
            "Epoch 135/500\n",
            "179/179 [==============================] - 3s 15ms/step - loss: 0.0050 - accuracy: 0.9986 - val_loss: 0.0243 - val_accuracy: 0.9933 - epoch_time: 2.5795\n",
            "Epoch 136/500\n",
            "179/179 [==============================] - 2s 12ms/step - loss: 0.0044 - accuracy: 0.9983 - val_loss: 0.0310 - val_accuracy: 0.9941 - epoch_time: 2.0422\n",
            "Epoch 137/500\n",
            "179/179 [==============================] - 2s 12ms/step - loss: 0.0057 - accuracy: 0.9984 - val_loss: 0.0219 - val_accuracy: 0.9949 - epoch_time: 2.0224\n",
            "Epoch 138/500\n",
            "179/179 [==============================] - 2s 12ms/step - loss: 0.0064 - accuracy: 0.9980 - val_loss: 0.0233 - val_accuracy: 0.9949 - epoch_time: 2.1048\n",
            "Epoch 139/500\n",
            "179/179 [==============================] - 2s 12ms/step - loss: 0.0050 - accuracy: 0.9990 - val_loss: 0.0268 - val_accuracy: 0.9945 - epoch_time: 2.0691\n",
            "Epoch 140/500\n",
            "179/179 [==============================] - 3s 15ms/step - loss: 0.0045 - accuracy: 0.9984 - val_loss: 0.0282 - val_accuracy: 0.9945 - epoch_time: 2.5413\n",
            "Epoch 141/500\n",
            "179/179 [==============================] - 3s 15ms/step - loss: 0.0056 - accuracy: 0.9982 - val_loss: 0.0187 - val_accuracy: 0.9957 - epoch_time: 2.5188\n",
            "Epoch 142/500\n",
            "179/179 [==============================] - 2s 12ms/step - loss: 0.0066 - accuracy: 0.9982 - val_loss: 0.0170 - val_accuracy: 0.9953 - epoch_time: 2.0557\n",
            "Epoch 143/500\n",
            "179/179 [==============================] - 2s 12ms/step - loss: 0.0056 - accuracy: 0.9983 - val_loss: 0.0203 - val_accuracy: 0.9961 - epoch_time: 2.0826\n",
            "Epoch 144/500\n",
            "179/179 [==============================] - 2s 12ms/step - loss: 0.0050 - accuracy: 0.9985 - val_loss: 0.0214 - val_accuracy: 0.9941 - epoch_time: 2.0504\n",
            "Epoch 145/500\n",
            "179/179 [==============================] - 2s 12ms/step - loss: 0.0038 - accuracy: 0.9989 - val_loss: 0.0269 - val_accuracy: 0.9945 - epoch_time: 2.0433\n",
            "Epoch 146/500\n",
            "179/179 [==============================] - 3s 17ms/step - loss: 0.0047 - accuracy: 0.9984 - val_loss: 0.0145 - val_accuracy: 0.9953 - epoch_time: 2.5783\n",
            "Epoch 147/500\n",
            "179/179 [==============================] - 3s 14ms/step - loss: 0.0060 - accuracy: 0.9982 - val_loss: 0.0193 - val_accuracy: 0.9957 - epoch_time: 2.4004\n",
            "Epoch 148/500\n",
            "179/179 [==============================] - 2s 12ms/step - loss: 0.0037 - accuracy: 0.9990 - val_loss: 0.0160 - val_accuracy: 0.9953 - epoch_time: 2.0707\n",
            "Epoch 149/500\n",
            "179/179 [==============================] - 2s 13ms/step - loss: 0.0044 - accuracy: 0.9988 - val_loss: 0.0196 - val_accuracy: 0.9961 - epoch_time: 2.1795\n",
            "Epoch 150/500\n",
            "179/179 [==============================] - 2s 13ms/step - loss: 0.0082 - accuracy: 0.9976 - val_loss: 0.0171 - val_accuracy: 0.9953 - epoch_time: 2.1563\n",
            "Epoch 151/500\n",
            "179/179 [==============================] - 2s 13ms/step - loss: 0.0065 - accuracy: 0.9982 - val_loss: 0.0226 - val_accuracy: 0.9949 - epoch_time: 2.1905\n",
            "Epoch 152/500\n",
            "179/179 [==============================] - 3s 16ms/step - loss: 0.0056 - accuracy: 0.9981 - val_loss: 0.0190 - val_accuracy: 0.9953 - epoch_time: 2.8367\n",
            "Epoch 153/500\n",
            "179/179 [==============================] - 2s 13ms/step - loss: 0.0060 - accuracy: 0.9983 - val_loss: 0.0213 - val_accuracy: 0.9953 - epoch_time: 2.2413\n",
            "Epoch 154/500\n",
            "179/179 [==============================] - 2s 12ms/step - loss: 0.0040 - accuracy: 0.9987 - val_loss: 0.0238 - val_accuracy: 0.9957 - epoch_time: 2.0702\n",
            "Epoch 155/500\n",
            "179/179 [==============================] - 2s 12ms/step - loss: 0.0048 - accuracy: 0.9985 - val_loss: 0.0246 - val_accuracy: 0.9957 - epoch_time: 2.0855\n",
            "Epoch 156/500\n",
            "179/179 [==============================] - 2s 12ms/step - loss: 0.0049 - accuracy: 0.9988 - val_loss: 0.0209 - val_accuracy: 0.9961 - epoch_time: 2.1402\n",
            "Epoch 157/500\n",
            "179/179 [==============================] - 2s 13ms/step - loss: 0.0052 - accuracy: 0.9982 - val_loss: 0.0283 - val_accuracy: 0.9945 - epoch_time: 2.2276\n",
            "Epoch 158/500\n",
            "179/179 [==============================] - 3s 16ms/step - loss: 0.0055 - accuracy: 0.9981 - val_loss: 0.0307 - val_accuracy: 0.9949 - epoch_time: 2.8164\n",
            "Epoch 159/500\n",
            "179/179 [==============================] - 2s 12ms/step - loss: 0.0051 - accuracy: 0.9988 - val_loss: 0.0272 - val_accuracy: 0.9953 - epoch_time: 2.1448\n",
            "Epoch 160/500\n",
            "179/179 [==============================] - 2s 12ms/step - loss: 0.0031 - accuracy: 0.9990 - val_loss: 0.0202 - val_accuracy: 0.9949 - epoch_time: 2.0910\n",
            "Epoch 161/500\n",
            "179/179 [==============================] - 2s 12ms/step - loss: 0.0052 - accuracy: 0.9986 - val_loss: 0.0190 - val_accuracy: 0.9949 - epoch_time: 2.0918\n",
            "Epoch 162/500\n",
            "179/179 [==============================] - 2s 12ms/step - loss: 0.0061 - accuracy: 0.9982 - val_loss: 0.0253 - val_accuracy: 0.9953 - epoch_time: 2.0726\n",
            "Epoch 163/500\n",
            "179/179 [==============================] - 2s 14ms/step - loss: 0.0047 - accuracy: 0.9984 - val_loss: 0.0169 - val_accuracy: 0.9949 - epoch_time: 2.3287\n",
            "Epoch 164/500\n",
            "179/179 [==============================] - 3s 16ms/step - loss: 0.0053 - accuracy: 0.9986 - val_loss: 0.0163 - val_accuracy: 0.9961 - epoch_time: 2.8502\n",
            "Epoch 165/500\n",
            "179/179 [==============================] - 2s 12ms/step - loss: 0.0035 - accuracy: 0.9988 - val_loss: 0.0231 - val_accuracy: 0.9961 - epoch_time: 2.1085\n",
            "Epoch 166/500\n",
            "179/179 [==============================] - 2s 12ms/step - loss: 0.0055 - accuracy: 0.9986 - val_loss: 0.0200 - val_accuracy: 0.9957 - epoch_time: 2.1172\n",
            "Epoch 167/500\n",
            "179/179 [==============================] - 2s 12ms/step - loss: 0.0034 - accuracy: 0.9988 - val_loss: 0.0174 - val_accuracy: 0.9957 - epoch_time: 2.1377\n",
            "Epoch 168/500\n",
            "179/179 [==============================] - 2s 12ms/step - loss: 0.0035 - accuracy: 0.9989 - val_loss: 0.0208 - val_accuracy: 0.9945 - epoch_time: 2.0743\n",
            "Epoch 169/500\n",
            "179/179 [==============================] - 3s 14ms/step - loss: 0.0057 - accuracy: 0.9984 - val_loss: 0.0178 - val_accuracy: 0.9953 - epoch_time: 2.4230\n",
            "Epoch 170/500\n",
            "179/179 [==============================] - 3s 16ms/step - loss: 0.0038 - accuracy: 0.9987 - val_loss: 0.0160 - val_accuracy: 0.9945 - epoch_time: 2.6847\n",
            "Epoch 171/500\n",
            "179/179 [==============================] - 2s 12ms/step - loss: 0.0043 - accuracy: 0.9987 - val_loss: 0.0234 - val_accuracy: 0.9929 - epoch_time: 2.1468\n",
            "Epoch 172/500\n",
            "179/179 [==============================] - 2s 12ms/step - loss: 0.0044 - accuracy: 0.9986 - val_loss: 0.0192 - val_accuracy: 0.9949 - epoch_time: 2.0572\n",
            "Epoch 173/500\n",
            "179/179 [==============================] - 2s 13ms/step - loss: 0.0044 - accuracy: 0.9987 - val_loss: 0.0268 - val_accuracy: 0.9945 - epoch_time: 2.1568\n",
            "Epoch 174/500\n",
            "179/179 [==============================] - 2s 13ms/step - loss: 0.0046 - accuracy: 0.9984 - val_loss: 0.0159 - val_accuracy: 0.9957 - epoch_time: 2.1487\n",
            "Epoch 175/500\n",
            "179/179 [==============================] - 3s 15ms/step - loss: 0.0039 - accuracy: 0.9987 - val_loss: 0.0196 - val_accuracy: 0.9949 - epoch_time: 2.6258\n",
            "Epoch 176/500\n",
            "179/179 [==============================] - 3s 15ms/step - loss: 0.0038 - accuracy: 0.9990 - val_loss: 0.0192 - val_accuracy: 0.9945 - epoch_time: 2.5886\n",
            "Epoch 177/500\n",
            "179/179 [==============================] - 2s 12ms/step - loss: 0.0085 - accuracy: 0.9969 - val_loss: 0.0242 - val_accuracy: 0.9941 - epoch_time: 2.0913\n",
            "Epoch 178/500\n",
            "179/179 [==============================] - 2s 14ms/step - loss: 0.0049 - accuracy: 0.9983 - val_loss: 0.0200 - val_accuracy: 0.9957 - epoch_time: 2.3790\n",
            "Epoch 179/500\n",
            "179/179 [==============================] - 3s 16ms/step - loss: 0.0030 - accuracy: 0.9993 - val_loss: 0.0196 - val_accuracy: 0.9957 - epoch_time: 2.7408\n",
            "Epoch 180/500\n",
            "179/179 [==============================] - 2s 13ms/step - loss: 0.0061 - accuracy: 0.9982 - val_loss: 0.0187 - val_accuracy: 0.9964 - epoch_time: 2.2012\n",
            "Epoch 181/500\n",
            "179/179 [==============================] - 3s 16ms/step - loss: 0.0052 - accuracy: 0.9987 - val_loss: 0.0172 - val_accuracy: 0.9961 - epoch_time: 2.7135\n",
            "Epoch 182/500\n",
            "179/179 [==============================] - 2s 13ms/step - loss: 0.0041 - accuracy: 0.9989 - val_loss: 0.0228 - val_accuracy: 0.9953 - epoch_time: 2.2494\n",
            "Epoch 183/500\n",
            "179/179 [==============================] - 2s 12ms/step - loss: 0.0029 - accuracy: 0.9991 - val_loss: 0.0235 - val_accuracy: 0.9961 - epoch_time: 2.1055\n",
            "Epoch 184/500\n",
            "179/179 [==============================] - 2s 12ms/step - loss: 0.0070 - accuracy: 0.9982 - val_loss: 0.0193 - val_accuracy: 0.9945 - epoch_time: 2.0988\n",
            "Epoch 185/500\n",
            "179/179 [==============================] - 2s 12ms/step - loss: 0.0047 - accuracy: 0.9986 - val_loss: 0.0294 - val_accuracy: 0.9933 - epoch_time: 2.0570\n",
            "Epoch 186/500\n",
            "179/179 [==============================] - 2s 13ms/step - loss: 0.0038 - accuracy: 0.9989 - val_loss: 0.0261 - val_accuracy: 0.9933 - epoch_time: 2.2797\n",
            "Epoch 187/500\n",
            "179/179 [==============================] - 3s 16ms/step - loss: 0.0029 - accuracy: 0.9991 - val_loss: 0.0221 - val_accuracy: 0.9957 - epoch_time: 2.8370\n",
            "Epoch 188/500\n",
            "179/179 [==============================] - 2s 12ms/step - loss: 0.0056 - accuracy: 0.9982 - val_loss: 0.0214 - val_accuracy: 0.9941 - epoch_time: 2.0878\n",
            "Epoch 189/500\n",
            "179/179 [==============================] - 2s 12ms/step - loss: 0.0048 - accuracy: 0.9984 - val_loss: 0.0212 - val_accuracy: 0.9964 - epoch_time: 2.0909\n",
            "Epoch 190/500\n",
            "179/179 [==============================] - 2s 12ms/step - loss: 0.0049 - accuracy: 0.9987 - val_loss: 0.0194 - val_accuracy: 0.9949 - epoch_time: 2.1378\n",
            "Epoch 191/500\n",
            "179/179 [==============================] - 2s 12ms/step - loss: 0.0038 - accuracy: 0.9989 - val_loss: 0.0179 - val_accuracy: 0.9945 - epoch_time: 2.0752\n",
            "Epoch 192/500\n",
            "179/179 [==============================] - 2s 14ms/step - loss: 0.0046 - accuracy: 0.9987 - val_loss: 0.0231 - val_accuracy: 0.9937 - epoch_time: 2.3890\n",
            "Epoch 193/500\n",
            "179/179 [==============================] - 3s 16ms/step - loss: 0.0049 - accuracy: 0.9985 - val_loss: 0.0269 - val_accuracy: 0.9937 - epoch_time: 2.7605\n",
            "Epoch 194/500\n",
            "179/179 [==============================] - 2s 12ms/step - loss: 0.0034 - accuracy: 0.9988 - val_loss: 0.0199 - val_accuracy: 0.9957 - epoch_time: 2.0964\n",
            "Epoch 195/500\n",
            "179/179 [==============================] - 2s 12ms/step - loss: 0.0025 - accuracy: 0.9993 - val_loss: 0.0304 - val_accuracy: 0.9949 - epoch_time: 2.0747\n",
            "Epoch 196/500\n",
            "179/179 [==============================] - 2s 12ms/step - loss: 0.0047 - accuracy: 0.9986 - val_loss: 0.0248 - val_accuracy: 0.9945 - epoch_time: 2.0648\n",
            "Epoch 197/500\n",
            "179/179 [==============================] - 2s 12ms/step - loss: 0.0032 - accuracy: 0.9989 - val_loss: 0.0269 - val_accuracy: 0.9933 - epoch_time: 2.0693\n",
            "Epoch 198/500\n",
            "179/179 [==============================] - 3s 14ms/step - loss: 0.0051 - accuracy: 0.9986 - val_loss: 0.0260 - val_accuracy: 0.9953 - epoch_time: 2.4395\n",
            "Epoch 199/500\n",
            "179/179 [==============================] - 3s 16ms/step - loss: 0.0032 - accuracy: 0.9989 - val_loss: 0.0292 - val_accuracy: 0.9945 - epoch_time: 2.7859\n",
            "Epoch 200/500\n",
            "179/179 [==============================] - 2s 12ms/step - loss: 0.0036 - accuracy: 0.9989 - val_loss: 0.0312 - val_accuracy: 0.9941 - epoch_time: 2.1058\n",
            "Epoch 201/500\n",
            "179/179 [==============================] - 2s 13ms/step - loss: 0.0026 - accuracy: 0.9992 - val_loss: 0.0285 - val_accuracy: 0.9937 - epoch_time: 2.1603\n",
            "Epoch 202/500\n",
            "179/179 [==============================] - 2s 13ms/step - loss: 0.0049 - accuracy: 0.9985 - val_loss: 0.0156 - val_accuracy: 0.9949 - epoch_time: 2.1519\n",
            "Epoch 203/500\n",
            "179/179 [==============================] - 2s 12ms/step - loss: 0.0027 - accuracy: 0.9992 - val_loss: 0.0276 - val_accuracy: 0.9945 - epoch_time: 2.0974\n",
            "Epoch 204/500\n",
            "179/179 [==============================] - 3s 15ms/step - loss: 0.0021 - accuracy: 0.9991 - val_loss: 0.0315 - val_accuracy: 0.9957 - epoch_time: 2.5728\n",
            "Epoch 205/500\n",
            "179/179 [==============================] - 3s 15ms/step - loss: 0.0075 - accuracy: 0.9978 - val_loss: 0.0185 - val_accuracy: 0.9953 - epoch_time: 2.5078\n",
            "Epoch 206/500\n",
            "179/179 [==============================] - 2s 12ms/step - loss: 0.0052 - accuracy: 0.9986 - val_loss: 0.0264 - val_accuracy: 0.9941 - epoch_time: 2.0866\n",
            "Epoch 207/500\n",
            "179/179 [==============================] - 2s 12ms/step - loss: 0.0042 - accuracy: 0.9990 - val_loss: 0.0231 - val_accuracy: 0.9949 - epoch_time: 2.1015\n",
            "Epoch 208/500\n",
            "179/179 [==============================] - 2s 12ms/step - loss: 0.0023 - accuracy: 0.9992 - val_loss: 0.0285 - val_accuracy: 0.9937 - epoch_time: 2.0557\n",
            "Epoch 209/500\n",
            "179/179 [==============================] - 2s 12ms/step - loss: 0.0034 - accuracy: 0.9992 - val_loss: 0.0282 - val_accuracy: 0.9937 - epoch_time: 2.0906\n",
            "Epoch 210/500\n",
            "179/179 [==============================] - 3s 15ms/step - loss: 0.0037 - accuracy: 0.9991 - val_loss: 0.0172 - val_accuracy: 0.9945 - epoch_time: 2.5181\n",
            "Epoch 211/500\n",
            "179/179 [==============================] - 3s 15ms/step - loss: 0.0037 - accuracy: 0.9989 - val_loss: 0.0223 - val_accuracy: 0.9949 - epoch_time: 2.5633\n",
            "Epoch 212/500\n",
            "179/179 [==============================] - 2s 13ms/step - loss: 0.0039 - accuracy: 0.9988 - val_loss: 0.0165 - val_accuracy: 0.9945 - epoch_time: 2.1765\n",
            "Epoch 213/500\n",
            "179/179 [==============================] - 2s 12ms/step - loss: 0.0027 - accuracy: 0.9991 - val_loss: 0.0312 - val_accuracy: 0.9945 - epoch_time: 2.1232\n",
            "Epoch 214/500\n",
            "179/179 [==============================] - 2s 12ms/step - loss: 0.0038 - accuracy: 0.9991 - val_loss: 0.0242 - val_accuracy: 0.9945 - epoch_time: 2.0486\n",
            "Epoch 215/500\n",
            "179/179 [==============================] - 2s 12ms/step - loss: 0.0035 - accuracy: 0.9987 - val_loss: 0.0265 - val_accuracy: 0.9945 - epoch_time: 2.0695\n",
            "Epoch 216/500\n",
            "179/179 [==============================] - 3s 16ms/step - loss: 0.0026 - accuracy: 0.9992 - val_loss: 0.0270 - val_accuracy: 0.9945 - epoch_time: 2.6730\n",
            "Epoch 217/500\n",
            "179/179 [==============================] - 3s 14ms/step - loss: 0.0035 - accuracy: 0.9989 - val_loss: 0.0220 - val_accuracy: 0.9945 - epoch_time: 2.5043\n",
            "Epoch 218/500\n",
            "179/179 [==============================] - 2s 12ms/step - loss: 0.0025 - accuracy: 0.9993 - val_loss: 0.0234 - val_accuracy: 0.9941 - epoch_time: 2.1084\n",
            "Epoch 219/500\n",
            "179/179 [==============================] - 2s 12ms/step - loss: 0.0035 - accuracy: 0.9989 - val_loss: 0.0261 - val_accuracy: 0.9933 - epoch_time: 2.0998\n",
            "Epoch 220/500\n",
            "179/179 [==============================] - 2s 12ms/step - loss: 0.0027 - accuracy: 0.9990 - val_loss: 0.0230 - val_accuracy: 0.9929 - epoch_time: 2.0768\n",
            "Epoch 221/500\n",
            "179/179 [==============================] - 2s 12ms/step - loss: 0.0056 - accuracy: 0.9985 - val_loss: 0.0255 - val_accuracy: 0.9949 - epoch_time: 2.0962\n",
            "Epoch 222/500\n",
            "179/179 [==============================] - 3s 17ms/step - loss: 0.0033 - accuracy: 0.9988 - val_loss: 0.0353 - val_accuracy: 0.9945 - epoch_time: 2.8508\n",
            "Epoch 223/500\n",
            "179/179 [==============================] - 2s 14ms/step - loss: 0.0027 - accuracy: 0.9991 - val_loss: 0.0264 - val_accuracy: 0.9945 - epoch_time: 2.3618\n",
            "Epoch 224/500\n",
            "179/179 [==============================] - 2s 13ms/step - loss: 0.0043 - accuracy: 0.9986 - val_loss: 0.0252 - val_accuracy: 0.9941 - epoch_time: 2.1641\n",
            "Epoch 225/500\n",
            "179/179 [==============================] - 2s 13ms/step - loss: 0.0040 - accuracy: 0.9987 - val_loss: 0.0319 - val_accuracy: 0.9937 - epoch_time: 2.1872\n",
            "Epoch 226/500\n",
            "179/179 [==============================] - 2s 12ms/step - loss: 0.0039 - accuracy: 0.9989 - val_loss: 0.0243 - val_accuracy: 0.9941 - epoch_time: 2.1229\n",
            "Epoch 227/500\n",
            "179/179 [==============================] - 2s 13ms/step - loss: 0.0046 - accuracy: 0.9986 - val_loss: 0.0249 - val_accuracy: 0.9949 - epoch_time: 2.2822\n",
            "Epoch 228/500\n",
            "179/179 [==============================] - 3s 16ms/step - loss: 0.0041 - accuracy: 0.9989 - val_loss: 0.0220 - val_accuracy: 0.9945 - epoch_time: 2.8034\n",
            "Epoch 229/500\n",
            "179/179 [==============================] - 2s 13ms/step - loss: 0.0038 - accuracy: 0.9991 - val_loss: 0.0158 - val_accuracy: 0.9953 - epoch_time: 2.2333\n",
            "Epoch 230/500\n",
            "179/179 [==============================] - 2s 12ms/step - loss: 0.0024 - accuracy: 0.9994 - val_loss: 0.0277 - val_accuracy: 0.9945 - epoch_time: 2.1263\n",
            "Epoch 231/500\n",
            "179/179 [==============================] - 2s 12ms/step - loss: 0.0037 - accuracy: 0.9989 - val_loss: 0.0155 - val_accuracy: 0.9957 - epoch_time: 2.1188\n",
            "Epoch 232/500\n",
            "179/179 [==============================] - 3s 15ms/step - loss: 0.0047 - accuracy: 0.9989 - val_loss: 0.0138 - val_accuracy: 0.9957 - epoch_time: 2.1034\n",
            "Epoch 233/500\n",
            "179/179 [==============================] - 2s 14ms/step - loss: 0.0030 - accuracy: 0.9989 - val_loss: 0.0218 - val_accuracy: 0.9949 - epoch_time: 2.3916\n",
            "Epoch 234/500\n",
            "179/179 [==============================] - 3s 16ms/step - loss: 0.0037 - accuracy: 0.9989 - val_loss: 0.0233 - val_accuracy: 0.9945 - epoch_time: 2.7122\n",
            "Epoch 235/500\n",
            "179/179 [==============================] - 2s 13ms/step - loss: 0.0023 - accuracy: 0.9992 - val_loss: 0.0234 - val_accuracy: 0.9937 - epoch_time: 2.1904\n",
            "Epoch 236/500\n",
            "179/179 [==============================] - 2s 13ms/step - loss: 0.0040 - accuracy: 0.9989 - val_loss: 0.0325 - val_accuracy: 0.9945 - epoch_time: 2.1830\n",
            "Epoch 237/500\n",
            "179/179 [==============================] - 2s 13ms/step - loss: 0.0025 - accuracy: 0.9994 - val_loss: 0.0226 - val_accuracy: 0.9937 - epoch_time: 2.1649\n",
            "Epoch 238/500\n",
            "179/179 [==============================] - 2s 13ms/step - loss: 0.0022 - accuracy: 0.9994 - val_loss: 0.0195 - val_accuracy: 0.9957 - epoch_time: 2.2726\n",
            "Epoch 239/500\n",
            "179/179 [==============================] - 3s 15ms/step - loss: 0.0056 - accuracy: 0.9984 - val_loss: 0.0195 - val_accuracy: 0.9949 - epoch_time: 2.5165\n",
            "Epoch 240/500\n",
            "179/179 [==============================] - 3s 16ms/step - loss: 0.0040 - accuracy: 0.9992 - val_loss: 0.0206 - val_accuracy: 0.9953 - epoch_time: 2.7274\n",
            "Epoch 241/500\n",
            "179/179 [==============================] - 2s 12ms/step - loss: 0.0041 - accuracy: 0.9987 - val_loss: 0.0261 - val_accuracy: 0.9941 - epoch_time: 2.1104\n",
            "Epoch 242/500\n",
            "179/179 [==============================] - 2s 12ms/step - loss: 0.0030 - accuracy: 0.9988 - val_loss: 0.0286 - val_accuracy: 0.9949 - epoch_time: 2.1388\n",
            "Epoch 243/500\n",
            "179/179 [==============================] - 2s 12ms/step - loss: 0.0045 - accuracy: 0.9988 - val_loss: 0.0146 - val_accuracy: 0.9972 - epoch_time: 2.1095\n",
            "Epoch 244/500\n",
            "179/179 [==============================] - 2s 12ms/step - loss: 0.0027 - accuracy: 0.9990 - val_loss: 0.0289 - val_accuracy: 0.9957 - epoch_time: 2.1418\n",
            "Epoch 245/500\n",
            "179/179 [==============================] - 3s 15ms/step - loss: 0.0031 - accuracy: 0.9989 - val_loss: 0.0334 - val_accuracy: 0.9961 - epoch_time: 2.5972\n",
            "Epoch 246/500\n",
            "179/179 [==============================] - 3s 15ms/step - loss: 0.0027 - accuracy: 0.9993 - val_loss: 0.0251 - val_accuracy: 0.9953 - epoch_time: 2.6065\n",
            "Epoch 247/500\n",
            "179/179 [==============================] - 2s 12ms/step - loss: 0.0029 - accuracy: 0.9991 - val_loss: 0.0195 - val_accuracy: 0.9949 - epoch_time: 2.1115\n",
            "Epoch 248/500\n",
            "179/179 [==============================] - 2s 12ms/step - loss: 0.0041 - accuracy: 0.9990 - val_loss: 0.0186 - val_accuracy: 0.9949 - epoch_time: 2.1300\n",
            "Epoch 249/500\n",
            "179/179 [==============================] - 2s 12ms/step - loss: 0.0023 - accuracy: 0.9990 - val_loss: 0.0261 - val_accuracy: 0.9961 - epoch_time: 2.1451\n",
            "Epoch 250/500\n",
            "179/179 [==============================] - 2s 12ms/step - loss: 0.0043 - accuracy: 0.9989 - val_loss: 0.0171 - val_accuracy: 0.9964 - epoch_time: 2.1020\n",
            "Epoch 251/500\n",
            "179/179 [==============================] - 3s 16ms/step - loss: 0.0035 - accuracy: 0.9991 - val_loss: 0.0197 - val_accuracy: 0.9961 - epoch_time: 2.7164\n",
            "Epoch 252/500\n",
            "179/179 [==============================] - 3s 15ms/step - loss: 0.0025 - accuracy: 0.9991 - val_loss: 0.0302 - val_accuracy: 0.9945 - epoch_time: 2.5228\n",
            "Epoch 253/500\n",
            "179/179 [==============================] - 2s 12ms/step - loss: 0.0036 - accuracy: 0.9987 - val_loss: 0.0157 - val_accuracy: 0.9964 - epoch_time: 2.1256\n",
            "Epoch 254/500\n",
            "179/179 [==============================] - 3s 14ms/step - loss: 0.0039 - accuracy: 0.9988 - val_loss: 0.0134 - val_accuracy: 0.9964 - epoch_time: 2.0986\n",
            "Epoch 255/500\n",
            "179/179 [==============================] - 2s 12ms/step - loss: 0.0037 - accuracy: 0.9990 - val_loss: 0.0233 - val_accuracy: 0.9957 - epoch_time: 2.1035\n",
            "Epoch 256/500\n",
            "179/179 [==============================] - 2s 13ms/step - loss: 0.0022 - accuracy: 0.9990 - val_loss: 0.0231 - val_accuracy: 0.9961 - epoch_time: 2.1772\n",
            "Epoch 257/500\n",
            "179/179 [==============================] - 3s 17ms/step - loss: 0.0021 - accuracy: 0.9994 - val_loss: 0.0181 - val_accuracy: 0.9964 - epoch_time: 2.8726\n",
            "Epoch 258/500\n",
            "179/179 [==============================] - 2s 13ms/step - loss: 0.0029 - accuracy: 0.9993 - val_loss: 0.0240 - val_accuracy: 0.9949 - epoch_time: 2.3214\n",
            "Epoch 259/500\n",
            "179/179 [==============================] - 2s 13ms/step - loss: 0.0034 - accuracy: 0.9991 - val_loss: 0.0144 - val_accuracy: 0.9964 - epoch_time: 2.1881\n",
            "Epoch 260/500\n",
            "179/179 [==============================] - 2s 12ms/step - loss: 0.0044 - accuracy: 0.9989 - val_loss: 0.0182 - val_accuracy: 0.9949 - epoch_time: 2.1114\n",
            "Epoch 261/500\n",
            "179/179 [==============================] - 2s 12ms/step - loss: 0.0032 - accuracy: 0.9990 - val_loss: 0.0234 - val_accuracy: 0.9949 - epoch_time: 2.1034\n",
            "Epoch 262/500\n",
            "179/179 [==============================] - 2s 13ms/step - loss: 0.0017 - accuracy: 0.9994 - val_loss: 0.0143 - val_accuracy: 0.9968 - epoch_time: 2.2843\n",
            "Epoch 263/500\n",
            "179/179 [==============================] - 3s 16ms/step - loss: 0.0025 - accuracy: 0.9991 - val_loss: 0.0205 - val_accuracy: 0.9961 - epoch_time: 2.7127\n",
            "Epoch 264/500\n",
            "179/179 [==============================] - 2s 13ms/step - loss: 0.0054 - accuracy: 0.9985 - val_loss: 0.0178 - val_accuracy: 0.9957 - epoch_time: 2.2380\n",
            "Epoch 265/500\n",
            "179/179 [==============================] - 2s 13ms/step - loss: 0.0030 - accuracy: 0.9993 - val_loss: 0.0211 - val_accuracy: 0.9953 - epoch_time: 2.1832\n",
            "Epoch 266/500\n",
            "179/179 [==============================] - 2s 12ms/step - loss: 0.0032 - accuracy: 0.9990 - val_loss: 0.0192 - val_accuracy: 0.9961 - epoch_time: 2.1335\n",
            "Epoch 267/500\n",
            "179/179 [==============================] - 2s 13ms/step - loss: 0.0025 - accuracy: 0.9993 - val_loss: 0.0203 - val_accuracy: 0.9953 - epoch_time: 2.1747\n",
            "Epoch 268/500\n",
            "179/179 [==============================] - 3s 14ms/step - loss: 0.0026 - accuracy: 0.9994 - val_loss: 0.0195 - val_accuracy: 0.9949 - epoch_time: 2.4189\n",
            "Epoch 269/500\n",
            "179/179 [==============================] - 3s 16ms/step - loss: 0.0044 - accuracy: 0.9986 - val_loss: 0.0206 - val_accuracy: 0.9953 - epoch_time: 2.7783\n",
            "Epoch 270/500\n",
            "179/179 [==============================] - 3s 15ms/step - loss: 0.0038 - accuracy: 0.9992 - val_loss: 0.0128 - val_accuracy: 0.9961 - epoch_time: 2.1673\n",
            "Epoch 271/500\n",
            "179/179 [==============================] - 2s 12ms/step - loss: 0.0022 - accuracy: 0.9994 - val_loss: 0.0260 - val_accuracy: 0.9949 - epoch_time: 2.1197\n",
            "Epoch 272/500\n",
            "179/179 [==============================] - 2s 12ms/step - loss: 0.0043 - accuracy: 0.9985 - val_loss: 0.0206 - val_accuracy: 0.9949 - epoch_time: 2.1165\n",
            "Epoch 273/500\n",
            "179/179 [==============================] - 2s 12ms/step - loss: 0.0036 - accuracy: 0.9989 - val_loss: 0.0163 - val_accuracy: 0.9961 - epoch_time: 2.1489\n",
            "Epoch 274/500\n",
            "179/179 [==============================] - 3s 15ms/step - loss: 0.0030 - accuracy: 0.9991 - val_loss: 0.0212 - val_accuracy: 0.9961 - epoch_time: 2.5866\n",
            "Epoch 275/500\n",
            "179/179 [==============================] - 3s 16ms/step - loss: 0.0020 - accuracy: 0.9994 - val_loss: 0.0158 - val_accuracy: 0.9961 - epoch_time: 2.7439\n",
            "Epoch 276/500\n",
            "179/179 [==============================] - 2s 12ms/step - loss: 0.0020 - accuracy: 0.9993 - val_loss: 0.0219 - val_accuracy: 0.9957 - epoch_time: 2.1289\n",
            "Epoch 277/500\n",
            "179/179 [==============================] - 2s 12ms/step - loss: 0.0039 - accuracy: 0.9988 - val_loss: 0.0199 - val_accuracy: 0.9957 - epoch_time: 2.1020\n",
            "Epoch 278/500\n",
            "179/179 [==============================] - 2s 12ms/step - loss: 0.0023 - accuracy: 0.9992 - val_loss: 0.0188 - val_accuracy: 0.9961 - epoch_time: 2.0956\n",
            "Epoch 279/500\n",
            "179/179 [==============================] - 2s 12ms/step - loss: 0.0019 - accuracy: 0.9994 - val_loss: 0.0172 - val_accuracy: 0.9945 - epoch_time: 2.1140\n",
            "Epoch 280/500\n",
            "179/179 [==============================] - 3s 18ms/step - loss: 0.0035 - accuracy: 0.9989 - val_loss: 0.0111 - val_accuracy: 0.9961 - epoch_time: 2.6021\n",
            "Epoch 281/500\n",
            "179/179 [==============================] - 3s 16ms/step - loss: 0.0031 - accuracy: 0.9991 - val_loss: 0.0198 - val_accuracy: 0.9945 - epoch_time: 2.7176\n",
            "Epoch 282/500\n",
            "179/179 [==============================] - 3s 16ms/step - loss: 0.0031 - accuracy: 0.9991 - val_loss: 0.0181 - val_accuracy: 0.9964 - epoch_time: 2.7350\n",
            "Epoch 283/500\n",
            "179/179 [==============================] - 2s 12ms/step - loss: 0.0030 - accuracy: 0.9990 - val_loss: 0.0221 - val_accuracy: 0.9949 - epoch_time: 2.1393\n",
            "Epoch 284/500\n",
            "179/179 [==============================] - 2s 12ms/step - loss: 0.0046 - accuracy: 0.9990 - val_loss: 0.0167 - val_accuracy: 0.9949 - epoch_time: 2.0880\n",
            "Epoch 285/500\n",
            "179/179 [==============================] - 3s 14ms/step - loss: 0.0032 - accuracy: 0.9990 - val_loss: 0.0229 - val_accuracy: 0.9949 - epoch_time: 2.4739\n",
            "Epoch 286/500\n",
            "179/179 [==============================] - 3s 16ms/step - loss: 0.0032 - accuracy: 0.9991 - val_loss: 0.0172 - val_accuracy: 0.9957 - epoch_time: 2.7918\n",
            "Epoch 287/500\n",
            "179/179 [==============================] - 2s 13ms/step - loss: 0.0050 - accuracy: 0.9988 - val_loss: 0.0199 - val_accuracy: 0.9953 - epoch_time: 2.1718\n",
            "Epoch 288/500\n",
            "179/179 [==============================] - 2s 13ms/step - loss: 0.0024 - accuracy: 0.9992 - val_loss: 0.0158 - val_accuracy: 0.9961 - epoch_time: 2.1793\n",
            "Epoch 289/500\n",
            "179/179 [==============================] - 2s 13ms/step - loss: 0.0028 - accuracy: 0.9989 - val_loss: 0.0154 - val_accuracy: 0.9964 - epoch_time: 2.1546\n",
            "Epoch 290/500\n",
            "179/179 [==============================] - 2s 13ms/step - loss: 0.0022 - accuracy: 0.9993 - val_loss: 0.0264 - val_accuracy: 0.9961 - epoch_time: 2.1500\n",
            "Epoch 291/500\n",
            "179/179 [==============================] - 3s 15ms/step - loss: 0.0049 - accuracy: 0.9988 - val_loss: 0.0166 - val_accuracy: 0.9957 - epoch_time: 2.6321\n",
            "Epoch 292/500\n",
            "179/179 [==============================] - 3s 15ms/step - loss: 0.0028 - accuracy: 0.9993 - val_loss: 0.0213 - val_accuracy: 0.9933 - epoch_time: 2.6574\n",
            "Epoch 293/500\n",
            "179/179 [==============================] - 2s 12ms/step - loss: 0.0028 - accuracy: 0.9991 - val_loss: 0.0145 - val_accuracy: 0.9961 - epoch_time: 2.1343\n",
            "Epoch 294/500\n",
            "179/179 [==============================] - 2s 13ms/step - loss: 0.0016 - accuracy: 0.9995 - val_loss: 0.0244 - val_accuracy: 0.9953 - epoch_time: 2.1585\n",
            "Epoch 295/500\n",
            "179/179 [==============================] - 2s 13ms/step - loss: 0.0040 - accuracy: 0.9989 - val_loss: 0.0169 - val_accuracy: 0.9957 - epoch_time: 2.1729\n",
            "Epoch 296/500\n",
            "179/179 [==============================] - 2s 12ms/step - loss: 0.0026 - accuracy: 0.9991 - val_loss: 0.0234 - val_accuracy: 0.9945 - epoch_time: 2.1337\n",
            "Epoch 297/500\n",
            "179/179 [==============================] - 3s 16ms/step - loss: 0.0028 - accuracy: 0.9991 - val_loss: 0.0264 - val_accuracy: 0.9949 - epoch_time: 2.7180\n",
            "Epoch 298/500\n",
            "179/179 [==============================] - 3s 15ms/step - loss: 0.0031 - accuracy: 0.9990 - val_loss: 0.0164 - val_accuracy: 0.9953 - epoch_time: 2.5233\n",
            "Epoch 299/500\n",
            "179/179 [==============================] - 2s 13ms/step - loss: 0.0031 - accuracy: 0.9991 - val_loss: 0.0217 - val_accuracy: 0.9945 - epoch_time: 2.1571\n",
            "Epoch 300/500\n",
            "179/179 [==============================] - 2s 13ms/step - loss: 0.0032 - accuracy: 0.9990 - val_loss: 0.0198 - val_accuracy: 0.9945 - epoch_time: 2.1805\n",
            "Epoch 301/500\n",
            "179/179 [==============================] - 2s 12ms/step - loss: 0.0035 - accuracy: 0.9989 - val_loss: 0.0186 - val_accuracy: 0.9945 - epoch_time: 2.0980\n",
            "Epoch 302/500\n",
            "179/179 [==============================] - 2s 12ms/step - loss: 0.0036 - accuracy: 0.9989 - val_loss: 0.0204 - val_accuracy: 0.9941 - epoch_time: 2.1321\n",
            "Epoch 303/500\n",
            "179/179 [==============================] - 3s 16ms/step - loss: 0.0028 - accuracy: 0.9994 - val_loss: 0.0217 - val_accuracy: 0.9949 - epoch_time: 2.7364\n",
            "Epoch 304/500\n",
            "179/179 [==============================] - 3s 14ms/step - loss: 0.0023 - accuracy: 0.9993 - val_loss: 0.0237 - val_accuracy: 0.9949 - epoch_time: 2.4722\n",
            "Epoch 305/500\n",
            "179/179 [==============================] - 2s 12ms/step - loss: 0.0017 - accuracy: 0.9996 - val_loss: 0.0264 - val_accuracy: 0.9949 - epoch_time: 2.1106\n",
            "Epoch 306/500\n",
            "179/179 [==============================] - 2s 12ms/step - loss: 0.0035 - accuracy: 0.9990 - val_loss: 0.0159 - val_accuracy: 0.9968 - epoch_time: 2.1286\n",
            "Epoch 307/500\n",
            "179/179 [==============================] - 2s 12ms/step - loss: 0.0023 - accuracy: 0.9992 - val_loss: 0.0201 - val_accuracy: 0.9957 - epoch_time: 2.1265\n",
            "Epoch 308/500\n",
            "179/179 [==============================] - 2s 12ms/step - loss: 0.0026 - accuracy: 0.9991 - val_loss: 0.0258 - val_accuracy: 0.9964 - epoch_time: 2.1504\n",
            "Epoch 309/500\n",
            "179/179 [==============================] - 3s 16ms/step - loss: 0.0022 - accuracy: 0.9993 - val_loss: 0.0259 - val_accuracy: 0.9957 - epoch_time: 2.7040\n",
            "Epoch 310/500\n",
            "179/179 [==============================] - 3s 14ms/step - loss: 0.0023 - accuracy: 0.9992 - val_loss: 0.0276 - val_accuracy: 0.9957 - epoch_time: 2.4318\n",
            "Epoch 311/500\n",
            "179/179 [==============================] - 2s 12ms/step - loss: 0.0021 - accuracy: 0.9994 - val_loss: 0.0201 - val_accuracy: 0.9964 - epoch_time: 2.1211\n",
            "Epoch 312/500\n",
            "179/179 [==============================] - 2s 13ms/step - loss: 0.0032 - accuracy: 0.9990 - val_loss: 0.0200 - val_accuracy: 0.9961 - epoch_time: 2.1619\n",
            "Epoch 313/500\n",
            "179/179 [==============================] - 2s 13ms/step - loss: 0.0030 - accuracy: 0.9993 - val_loss: 0.0268 - val_accuracy: 0.9949 - epoch_time: 2.1966\n",
            "Epoch 314/500\n",
            "179/179 [==============================] - 2s 13ms/step - loss: 0.0025 - accuracy: 0.9992 - val_loss: 0.0270 - val_accuracy: 0.9949 - epoch_time: 2.1492\n",
            "Epoch 315/500\n",
            "179/179 [==============================] - 3s 16ms/step - loss: 0.0031 - accuracy: 0.9991 - val_loss: 0.0177 - val_accuracy: 0.9957 - epoch_time: 2.8381\n",
            "Epoch 316/500\n",
            "179/179 [==============================] - 3s 14ms/step - loss: 0.0031 - accuracy: 0.9990 - val_loss: 0.0225 - val_accuracy: 0.9945 - epoch_time: 2.4557\n",
            "Epoch 317/500\n",
            "179/179 [==============================] - 2s 12ms/step - loss: 0.0045 - accuracy: 0.9989 - val_loss: 0.0192 - val_accuracy: 0.9964 - epoch_time: 2.1251\n",
            "Epoch 318/500\n",
            "179/179 [==============================] - 2s 13ms/step - loss: 0.0031 - accuracy: 0.9990 - val_loss: 0.0233 - val_accuracy: 0.9949 - epoch_time: 2.1765\n",
            "Epoch 319/500\n",
            "179/179 [==============================] - 2s 13ms/step - loss: 0.0045 - accuracy: 0.9985 - val_loss: 0.0232 - val_accuracy: 0.9953 - epoch_time: 2.1603\n",
            "Epoch 320/500\n",
            "179/179 [==============================] - 2s 13ms/step - loss: 0.0032 - accuracy: 0.9991 - val_loss: 0.0250 - val_accuracy: 0.9957 - epoch_time: 2.3037\n",
            "Epoch 321/500\n",
            "179/179 [==============================] - 3s 16ms/step - loss: 0.0021 - accuracy: 0.9993 - val_loss: 0.0260 - val_accuracy: 0.9949 - epoch_time: 2.7979\n",
            "Epoch 322/500\n",
            "179/179 [==============================] - 2s 13ms/step - loss: 0.0029 - accuracy: 0.9992 - val_loss: 0.0216 - val_accuracy: 0.9957 - epoch_time: 2.2611\n",
            "Epoch 323/500\n",
            "179/179 [==============================] - 2s 13ms/step - loss: 0.0023 - accuracy: 0.9993 - val_loss: 0.0188 - val_accuracy: 0.9961 - epoch_time: 2.1536\n",
            "Epoch 324/500\n",
            "179/179 [==============================] - 2s 13ms/step - loss: 0.0031 - accuracy: 0.9992 - val_loss: 0.0220 - val_accuracy: 0.9961 - epoch_time: 2.2030\n",
            "Epoch 325/500\n",
            "179/179 [==============================] - 2s 12ms/step - loss: 0.0037 - accuracy: 0.9989 - val_loss: 0.0312 - val_accuracy: 0.9945 - epoch_time: 2.0768\n",
            "Epoch 326/500\n",
            "179/179 [==============================] - 2s 14ms/step - loss: 0.0034 - accuracy: 0.9991 - val_loss: 0.0179 - val_accuracy: 0.9945 - epoch_time: 2.3839\n",
            "Epoch 327/500\n",
            "179/179 [==============================] - 3s 16ms/step - loss: 0.0039 - accuracy: 0.9987 - val_loss: 0.0209 - val_accuracy: 0.9953 - epoch_time: 2.7565\n",
            "Epoch 328/500\n",
            "179/179 [==============================] - 2s 13ms/step - loss: 0.0025 - accuracy: 0.9993 - val_loss: 0.0242 - val_accuracy: 0.9941 - epoch_time: 2.2166\n",
            "Epoch 329/500\n",
            "179/179 [==============================] - 2s 13ms/step - loss: 0.0023 - accuracy: 0.9992 - val_loss: 0.0230 - val_accuracy: 0.9957 - epoch_time: 2.1737\n",
            "Epoch 330/500\n",
            "179/179 [==============================] - 2s 12ms/step - loss: 0.0042 - accuracy: 0.9987 - val_loss: 0.0140 - val_accuracy: 0.9957 - epoch_time: 2.1162\n",
            "Epoch 331/500\n",
            "179/179 [==============================] - 2s 12ms/step - loss: 0.0020 - accuracy: 0.9993 - val_loss: 0.0241 - val_accuracy: 0.9953 - epoch_time: 2.1204\n",
            "Epoch 332/500\n",
            "179/179 [==============================] - 3s 15ms/step - loss: 0.0056 - accuracy: 0.9987 - val_loss: 0.0205 - val_accuracy: 0.9945 - epoch_time: 2.4946\n",
            "Epoch 333/500\n",
            "179/179 [==============================] - 3s 16ms/step - loss: 0.0049 - accuracy: 0.9986 - val_loss: 0.0212 - val_accuracy: 0.9949 - epoch_time: 2.7851\n",
            "Epoch 334/500\n",
            "179/179 [==============================] - 2s 12ms/step - loss: 0.0029 - accuracy: 0.9993 - val_loss: 0.0219 - val_accuracy: 0.9953 - epoch_time: 2.1111\n",
            "Epoch 335/500\n",
            "179/179 [==============================] - 2s 13ms/step - loss: 0.0032 - accuracy: 0.9992 - val_loss: 0.0189 - val_accuracy: 0.9957 - epoch_time: 2.2239\n",
            "Epoch 336/500\n",
            "179/179 [==============================] - 2s 12ms/step - loss: 0.0028 - accuracy: 0.9993 - val_loss: 0.0159 - val_accuracy: 0.9968 - epoch_time: 2.1146\n",
            "Epoch 337/500\n",
            "179/179 [==============================] - 2s 13ms/step - loss: 0.0035 - accuracy: 0.9991 - val_loss: 0.0157 - val_accuracy: 0.9957 - epoch_time: 2.1557\n",
            "Epoch 338/500\n",
            "179/179 [==============================] - 3s 15ms/step - loss: 0.0020 - accuracy: 0.9994 - val_loss: 0.0240 - val_accuracy: 0.9949 - epoch_time: 2.5504\n",
            "Epoch 339/500\n",
            "179/179 [==============================] - 3s 15ms/step - loss: 0.0022 - accuracy: 0.9994 - val_loss: 0.0212 - val_accuracy: 0.9957 - epoch_time: 2.5948\n",
            "Epoch 340/500\n",
            "179/179 [==============================] - 2s 12ms/step - loss: 0.0024 - accuracy: 0.9993 - val_loss: 0.0262 - val_accuracy: 0.9945 - epoch_time: 2.1018\n",
            "Epoch 341/500\n",
            "179/179 [==============================] - 2s 12ms/step - loss: 0.0030 - accuracy: 0.9993 - val_loss: 0.0262 - val_accuracy: 0.9945 - epoch_time: 2.1156\n",
            "Epoch 342/500\n",
            "179/179 [==============================] - 2s 12ms/step - loss: 0.0031 - accuracy: 0.9991 - val_loss: 0.0249 - val_accuracy: 0.9945 - epoch_time: 2.1509\n",
            "Epoch 343/500\n",
            "179/179 [==============================] - 2s 13ms/step - loss: 0.0031 - accuracy: 0.9989 - val_loss: 0.0182 - val_accuracy: 0.9957 - epoch_time: 2.1731\n"
          ]
        }
      ]
    },
    {
      "cell_type": "code",
      "source": [
        "print(model_sensor1.summary())"
      ],
      "metadata": {
        "colab": {
          "base_uri": "https://localhost:8080/"
        },
        "id": "sgiNWkr6oVcq",
        "outputId": "95b1d60e-27d5-4cb9-86a5-a767936dcf2c"
      },
      "execution_count": null,
      "outputs": [
        {
          "output_type": "stream",
          "name": "stdout",
          "text": [
            "Model: \"sequential\"\n",
            "_________________________________________________________________\n",
            " Layer (type)                Output Shape              Param #   \n",
            "=================================================================\n",
            " conv1d (Conv1D)             (None, 10, 40)            400       \n",
            "                                                                 \n",
            " dropout (Dropout)           (None, 10, 40)            0         \n",
            "                                                                 \n",
            " conv1d_1 (Conv1D)           (None, 10, 60)            7260      \n",
            "                                                                 \n",
            " dropout_1 (Dropout)         (None, 10, 60)            0         \n",
            "                                                                 \n",
            " conv1d_2 (Conv1D)           (None, 10, 60)            10860     \n",
            "                                                                 \n",
            " dropout_2 (Dropout)         (None, 10, 60)            0         \n",
            "                                                                 \n",
            " global_max_pooling1d (Globa  (None, 60)               0         \n",
            " lMaxPooling1D)                                                  \n",
            "                                                                 \n",
            " repeat_vector (RepeatVector  (None, 10, 60)           0         \n",
            " )                                                               \n",
            "                                                                 \n",
            " lstm (LSTM)                 (None, 10, 256)           324608    \n",
            "                                                                 \n",
            " dropout_3 (Dropout)         (None, 10, 256)           0         \n",
            "                                                                 \n",
            " lstm_1 (LSTM)               (None, 10, 128)           197120    \n",
            "                                                                 \n",
            " dropout_4 (Dropout)         (None, 10, 128)           0         \n",
            "                                                                 \n",
            " lstm_2 (LSTM)               (None, 64)                49408     \n",
            "                                                                 \n",
            " dropout_5 (Dropout)         (None, 64)                0         \n",
            "                                                                 \n",
            " dense (Dense)               (None, 32)                2080      \n",
            "                                                                 \n",
            " dense_1 (Dense)             (None, 16)                528       \n",
            "                                                                 \n",
            " dense_2 (Dense)             (None, 2)                 34        \n",
            "                                                                 \n",
            "=================================================================\n",
            "Total params: 592,298\n",
            "Trainable params: 592,298\n",
            "Non-trainable params: 0\n",
            "_________________________________________________________________\n",
            "None\n"
          ]
        }
      ]
    },
    {
      "cell_type": "code",
      "source": [
        "plot_model(model= model_sensor1, show_shapes= True, dpi=50)"
      ],
      "metadata": {
        "colab": {
          "base_uri": "https://localhost:8080/",
          "height": 1000
        },
        "id": "rWZpn8SyoZo6",
        "outputId": "3a8fa2f8-8830-4b65-9cd8-4f510929c20e"
      },
      "execution_count": null,
      "outputs": [
        {
          "output_type": "execute_result",
          "data": {
            "image/png": "[encoded data removed]",
            "text/plain": [
              "<IPython.core.display.Image object>"
            ]
          },
          "metadata": {},
          "execution_count": 68
        }
      ]
    },
    {
      "cell_type": "code",
      "metadata": {
        "colab": {
          "base_uri": "https://localhost:8080/"
        },
        "id": "8f2f6m1IAR7A",
        "outputId": "bea33349-d91e-4679-863a-11eb92d26540"
      },
      "source": [
        "sensor = \"sensor2\"\n",
        "time_callback = TimeHistory()\n",
        "model_sensor2 = creatModel()\n",
        "model_save, checkpoint, history_cb, Estop = setCallbacks(\"sensor2\")\n",
        "history_sensor2 = model_sensor2.fit(X_train_sensor2, y_train_sensor2,\n",
        "                                    batch_size = 128, epochs = 500,\n",
        "                                    validation_split = 0.1,\n",
        "                                    verbose = 1,\n",
        "                                    callbacks = [time_callback, model_save, checkpoint, history_cb, Estop])\n",
        "                                    # class_weight= class_weights)#"
      ],
      "execution_count": null,
      "outputs": [
        {
          "output_type": "stream",
          "name": "stdout",
          "text": [
            "Epoch 1/500\n",
            "179/179 [==============================] - 9s 17ms/step - loss: 0.2372 - accuracy: 0.9354 - val_loss: 0.1942 - val_accuracy: 0.9439 - epoch_time: 8.6057\n",
            "Epoch 2/500\n",
            "179/179 [==============================] - 2s 12ms/step - loss: 0.1295 - accuracy: 0.9692 - val_loss: 0.1243 - val_accuracy: 0.9735 - epoch_time: 1.9932\n",
            "Epoch 3/500\n",
            "179/179 [==============================] - 2s 12ms/step - loss: 0.1089 - accuracy: 0.9745 - val_loss: 0.1069 - val_accuracy: 0.9747 - epoch_time: 1.9188\n",
            "Epoch 4/500\n",
            "179/179 [==============================] - 3s 16ms/step - loss: 0.1004 - accuracy: 0.9756 - val_loss: 0.0985 - val_accuracy: 0.9755 - epoch_time: 2.6907\n",
            "Epoch 5/500\n",
            "179/179 [==============================] - 2s 13ms/step - loss: 0.0982 - accuracy: 0.9760 - val_loss: 0.0956 - val_accuracy: 0.9775 - epoch_time: 2.1100\n",
            "Epoch 6/500\n",
            "179/179 [==============================] - 2s 12ms/step - loss: 0.0913 - accuracy: 0.9764 - val_loss: 0.0897 - val_accuracy: 0.9767 - epoch_time: 1.9807\n",
            "Epoch 7/500\n",
            "179/179 [==============================] - 2s 12ms/step - loss: 0.0886 - accuracy: 0.9776 - val_loss: 0.0885 - val_accuracy: 0.9775 - epoch_time: 1.9965\n",
            "Epoch 8/500\n",
            "179/179 [==============================] - 2s 12ms/step - loss: 0.0839 - accuracy: 0.9778 - val_loss: 0.0825 - val_accuracy: 0.9803 - epoch_time: 2.0352\n",
            "Epoch 9/500\n",
            "179/179 [==============================] - 2s 13ms/step - loss: 0.0813 - accuracy: 0.9785 - val_loss: 0.0846 - val_accuracy: 0.9783 - epoch_time: 2.1829\n",
            "Epoch 10/500\n",
            "179/179 [==============================] - 3s 17ms/step - loss: 0.0798 - accuracy: 0.9782 - val_loss: 0.0767 - val_accuracy: 0.9795 - epoch_time: 2.8099\n",
            "Epoch 11/500\n",
            "179/179 [==============================] - 2s 12ms/step - loss: 0.0757 - accuracy: 0.9797 - val_loss: 0.0692 - val_accuracy: 0.9810 - epoch_time: 1.9826\n",
            "Epoch 12/500\n",
            "179/179 [==============================] - 2s 12ms/step - loss: 0.0736 - accuracy: 0.9803 - val_loss: 0.0754 - val_accuracy: 0.9775 - epoch_time: 1.9800\n",
            "Epoch 13/500\n",
            "179/179 [==============================] - 2s 12ms/step - loss: 0.0703 - accuracy: 0.9809 - val_loss: 0.0598 - val_accuracy: 0.9834 - epoch_time: 1.9580\n",
            "Epoch 14/500\n",
            "179/179 [==============================] - 2s 11ms/step - loss: 0.0668 - accuracy: 0.9815 - val_loss: 0.0682 - val_accuracy: 0.9806 - epoch_time: 1.9603\n",
            "Epoch 15/500\n",
            "179/179 [==============================] - 2s 13ms/step - loss: 0.0626 - accuracy: 0.9825 - val_loss: 0.0599 - val_accuracy: 0.9822 - epoch_time: 2.1535\n",
            "Epoch 16/500\n",
            "179/179 [==============================] - 3s 16ms/step - loss: 0.0626 - accuracy: 0.9823 - val_loss: 0.0508 - val_accuracy: 0.9838 - epoch_time: 2.7572\n",
            "Epoch 17/500\n",
            "179/179 [==============================] - 2s 12ms/step - loss: 0.0619 - accuracy: 0.9826 - val_loss: 0.0482 - val_accuracy: 0.9858 - epoch_time: 1.9772\n",
            "Epoch 18/500\n",
            "179/179 [==============================] - 2s 11ms/step - loss: 0.0572 - accuracy: 0.9840 - val_loss: 0.0534 - val_accuracy: 0.9846 - epoch_time: 1.9580\n",
            "Epoch 19/500\n",
            "179/179 [==============================] - 2s 12ms/step - loss: 0.0573 - accuracy: 0.9830 - val_loss: 0.0544 - val_accuracy: 0.9846 - epoch_time: 1.9716\n",
            "Epoch 20/500\n",
            "179/179 [==============================] - 2s 11ms/step - loss: 0.0547 - accuracy: 0.9844 - val_loss: 0.0497 - val_accuracy: 0.9854 - epoch_time: 1.9192\n",
            "Epoch 21/500\n",
            "179/179 [==============================] - 2s 13ms/step - loss: 0.0501 - accuracy: 0.9860 - val_loss: 0.0523 - val_accuracy: 0.9838 - epoch_time: 2.1923\n",
            "Epoch 22/500\n",
            "179/179 [==============================] - 3s 17ms/step - loss: 0.0525 - accuracy: 0.9845 - val_loss: 0.0467 - val_accuracy: 0.9866 - epoch_time: 2.6818\n",
            "Epoch 23/500\n",
            "179/179 [==============================] - 2s 12ms/step - loss: 0.0458 - accuracy: 0.9871 - val_loss: 0.0481 - val_accuracy: 0.9878 - epoch_time: 1.9693\n",
            "Epoch 24/500\n",
            "179/179 [==============================] - 2s 12ms/step - loss: 0.0463 - accuracy: 0.9867 - val_loss: 0.0440 - val_accuracy: 0.9866 - epoch_time: 1.9470\n",
            "Epoch 25/500\n",
            "179/179 [==============================] - 2s 12ms/step - loss: 0.0441 - accuracy: 0.9876 - val_loss: 0.0404 - val_accuracy: 0.9893 - epoch_time: 1.9360\n",
            "Epoch 26/500\n",
            "179/179 [==============================] - 2s 11ms/step - loss: 0.0408 - accuracy: 0.9885 - val_loss: 0.0449 - val_accuracy: 0.9889 - epoch_time: 1.9603\n",
            "Epoch 27/500\n",
            "179/179 [==============================] - 2s 13ms/step - loss: 0.0429 - accuracy: 0.9878 - val_loss: 0.0423 - val_accuracy: 0.9874 - epoch_time: 2.1764\n",
            "Epoch 28/500\n",
            "179/179 [==============================] - 3s 15ms/step - loss: 0.0409 - accuracy: 0.9881 - val_loss: 0.0421 - val_accuracy: 0.9882 - epoch_time: 2.6595\n",
            "Epoch 29/500\n",
            "179/179 [==============================] - 2s 12ms/step - loss: 0.0393 - accuracy: 0.9888 - val_loss: 0.0402 - val_accuracy: 0.9893 - epoch_time: 1.8932\n",
            "Epoch 30/500\n",
            "179/179 [==============================] - 2s 12ms/step - loss: 0.0392 - accuracy: 0.9882 - val_loss: 0.0380 - val_accuracy: 0.9874 - epoch_time: 1.9476\n",
            "Epoch 31/500\n",
            "179/179 [==============================] - 2s 11ms/step - loss: 0.0356 - accuracy: 0.9896 - val_loss: 0.0392 - val_accuracy: 0.9882 - epoch_time: 1.9389\n",
            "Epoch 32/500\n",
            "179/179 [==============================] - 3s 14ms/step - loss: 0.0372 - accuracy: 0.9889 - val_loss: 0.0400 - val_accuracy: 0.9905 - epoch_time: 2.4322\n",
            "Epoch 33/500\n",
            "179/179 [==============================] - 3s 16ms/step - loss: 0.0387 - accuracy: 0.9886 - val_loss: 0.0426 - val_accuracy: 0.9893 - epoch_time: 2.8422\n",
            "Epoch 34/500\n",
            "179/179 [==============================] - 3s 18ms/step - loss: 0.0347 - accuracy: 0.9903 - val_loss: 0.0363 - val_accuracy: 0.9913 - epoch_time: 2.7916\n",
            "Epoch 35/500\n",
            "179/179 [==============================] - 2s 12ms/step - loss: 0.0390 - accuracy: 0.9881 - val_loss: 0.0364 - val_accuracy: 0.9897 - epoch_time: 1.9983\n",
            "Epoch 36/500\n",
            "179/179 [==============================] - 2s 12ms/step - loss: 0.0323 - accuracy: 0.9908 - val_loss: 0.0366 - val_accuracy: 0.9893 - epoch_time: 2.0914\n",
            "Epoch 37/500\n",
            "179/179 [==============================] - 2s 11ms/step - loss: 0.0334 - accuracy: 0.9902 - val_loss: 0.0372 - val_accuracy: 0.9889 - epoch_time: 1.9561\n",
            "Epoch 38/500\n",
            "179/179 [==============================] - 2s 12ms/step - loss: 0.0327 - accuracy: 0.9910 - val_loss: 0.0388 - val_accuracy: 0.9909 - epoch_time: 1.9851\n",
            "Epoch 39/500\n",
            "179/179 [==============================] - 3s 14ms/step - loss: 0.0331 - accuracy: 0.9896 - val_loss: 0.0368 - val_accuracy: 0.9901 - epoch_time: 2.3969\n",
            "Epoch 40/500\n",
            "179/179 [==============================] - 3s 15ms/step - loss: 0.0316 - accuracy: 0.9910 - val_loss: 0.0381 - val_accuracy: 0.9897 - epoch_time: 2.5354\n",
            "Epoch 41/500\n",
            "179/179 [==============================] - 2s 11ms/step - loss: 0.0332 - accuracy: 0.9900 - val_loss: 0.0414 - val_accuracy: 0.9893 - epoch_time: 1.9646\n",
            "Epoch 42/500\n",
            "179/179 [==============================] - 2s 11ms/step - loss: 0.0292 - accuracy: 0.9908 - val_loss: 0.0381 - val_accuracy: 0.9909 - epoch_time: 1.9318\n",
            "Epoch 43/500\n",
            "179/179 [==============================] - 2s 13ms/step - loss: 0.0399 - accuracy: 0.9886 - val_loss: 0.0356 - val_accuracy: 0.9909 - epoch_time: 1.9640\n",
            "Epoch 44/500\n",
            "179/179 [==============================] - 2s 12ms/step - loss: 0.0327 - accuracy: 0.9901 - val_loss: 0.0363 - val_accuracy: 0.9913 - epoch_time: 2.0006\n",
            "Epoch 45/500\n",
            "179/179 [==============================] - 3s 15ms/step - loss: 0.0289 - accuracy: 0.9909 - val_loss: 0.0344 - val_accuracy: 0.9901 - epoch_time: 2.4914\n",
            "Epoch 46/500\n",
            "179/179 [==============================] - 3s 14ms/step - loss: 0.0295 - accuracy: 0.9912 - val_loss: 0.0368 - val_accuracy: 0.9889 - epoch_time: 2.5032\n",
            "Epoch 47/500\n",
            "179/179 [==============================] - 2s 12ms/step - loss: 0.0287 - accuracy: 0.9911 - val_loss: 0.0338 - val_accuracy: 0.9897 - epoch_time: 2.0163\n",
            "Epoch 48/500\n",
            "179/179 [==============================] - 2s 12ms/step - loss: 0.0264 - accuracy: 0.9927 - val_loss: 0.0330 - val_accuracy: 0.9921 - epoch_time: 1.9643\n",
            "Epoch 49/500\n",
            "179/179 [==============================] - 2s 11ms/step - loss: 0.0286 - accuracy: 0.9917 - val_loss: 0.0342 - val_accuracy: 0.9921 - epoch_time: 1.9719\n",
            "Epoch 50/500\n",
            "179/179 [==============================] - 2s 12ms/step - loss: 0.0271 - accuracy: 0.9919 - val_loss: 0.0352 - val_accuracy: 0.9921 - epoch_time: 1.9836\n",
            "Epoch 51/500\n",
            "179/179 [==============================] - 3s 14ms/step - loss: 0.0277 - accuracy: 0.9920 - val_loss: 0.0341 - val_accuracy: 0.9897 - epoch_time: 2.4830\n",
            "Epoch 52/500\n",
            "179/179 [==============================] - 3s 16ms/step - loss: 0.0258 - accuracy: 0.9924 - val_loss: 0.0306 - val_accuracy: 0.9909 - epoch_time: 2.4602\n",
            "Epoch 53/500\n",
            "179/179 [==============================] - 2s 11ms/step - loss: 0.0245 - accuracy: 0.9930 - val_loss: 0.0328 - val_accuracy: 0.9901 - epoch_time: 1.9413\n",
            "Epoch 54/500\n",
            "179/179 [==============================] - 2s 11ms/step - loss: 0.0249 - accuracy: 0.9923 - val_loss: 0.0319 - val_accuracy: 0.9909 - epoch_time: 1.9416\n",
            "Epoch 55/500\n",
            "179/179 [==============================] - 2s 11ms/step - loss: 0.0253 - accuracy: 0.9927 - val_loss: 0.0333 - val_accuracy: 0.9921 - epoch_time: 1.9274\n",
            "Epoch 56/500\n",
            "179/179 [==============================] - 3s 14ms/step - loss: 0.0254 - accuracy: 0.9921 - val_loss: 0.0297 - val_accuracy: 0.9929 - epoch_time: 2.1442\n",
            "Epoch 57/500\n",
            "179/179 [==============================] - 3s 16ms/step - loss: 0.0236 - accuracy: 0.9930 - val_loss: 0.0327 - val_accuracy: 0.9921 - epoch_time: 2.6677\n",
            "Epoch 58/500\n",
            "179/179 [==============================] - 2s 13ms/step - loss: 0.0243 - accuracy: 0.9934 - val_loss: 0.0310 - val_accuracy: 0.9909 - epoch_time: 2.3080\n",
            "Epoch 59/500\n",
            "179/179 [==============================] - 2s 12ms/step - loss: 0.0240 - accuracy: 0.9933 - val_loss: 0.0321 - val_accuracy: 0.9917 - epoch_time: 2.0078\n",
            "Epoch 60/500\n",
            "179/179 [==============================] - 2s 12ms/step - loss: 0.0283 - accuracy: 0.9911 - val_loss: 0.0305 - val_accuracy: 0.9905 - epoch_time: 2.0548\n",
            "Epoch 61/500\n",
            "179/179 [==============================] - 2s 12ms/step - loss: 0.0242 - accuracy: 0.9927 - val_loss: 0.0323 - val_accuracy: 0.9909 - epoch_time: 2.0184\n",
            "Epoch 62/500\n",
            "179/179 [==============================] - 2s 12ms/step - loss: 0.0236 - accuracy: 0.9930 - val_loss: 0.0307 - val_accuracy: 0.9925 - epoch_time: 2.0367\n",
            "Epoch 63/500\n",
            "179/179 [==============================] - 3s 16ms/step - loss: 0.0221 - accuracy: 0.9938 - val_loss: 0.0302 - val_accuracy: 0.9937 - epoch_time: 2.7356\n",
            "Epoch 64/500\n",
            "179/179 [==============================] - 3s 15ms/step - loss: 0.0221 - accuracy: 0.9935 - val_loss: 0.0287 - val_accuracy: 0.9937 - epoch_time: 2.2664\n",
            "Epoch 65/500\n",
            "179/179 [==============================] - 2s 13ms/step - loss: 0.0215 - accuracy: 0.9931 - val_loss: 0.0316 - val_accuracy: 0.9901 - epoch_time: 2.1547\n",
            "Epoch 66/500\n",
            "179/179 [==============================] - 2s 13ms/step - loss: 0.0210 - accuracy: 0.9943 - val_loss: 0.0313 - val_accuracy: 0.9925 - epoch_time: 2.2186\n",
            "Epoch 67/500\n",
            "179/179 [==============================] - 2s 12ms/step - loss: 0.0202 - accuracy: 0.9936 - val_loss: 0.0350 - val_accuracy: 0.9913 - epoch_time: 2.0812\n",
            "Epoch 68/500\n",
            "179/179 [==============================] - 2s 13ms/step - loss: 0.0215 - accuracy: 0.9935 - val_loss: 0.0332 - val_accuracy: 0.9913 - epoch_time: 2.2885\n",
            "Epoch 69/500\n",
            "179/179 [==============================] - 3s 16ms/step - loss: 0.0220 - accuracy: 0.9931 - val_loss: 0.0327 - val_accuracy: 0.9917 - epoch_time: 2.7961\n",
            "Epoch 70/500\n",
            "179/179 [==============================] - 2s 12ms/step - loss: 0.0229 - accuracy: 0.9932 - val_loss: 0.0338 - val_accuracy: 0.9925 - epoch_time: 2.0233\n",
            "Epoch 71/500\n",
            "179/179 [==============================] - 2s 12ms/step - loss: 0.0203 - accuracy: 0.9939 - val_loss: 0.0306 - val_accuracy: 0.9933 - epoch_time: 2.0825\n",
            "Epoch 72/500\n",
            "179/179 [==============================] - 2s 13ms/step - loss: 0.0238 - accuracy: 0.9935 - val_loss: 0.0278 - val_accuracy: 0.9917 - epoch_time: 2.0306\n",
            "Epoch 73/500\n",
            "179/179 [==============================] - 2s 12ms/step - loss: 0.0195 - accuracy: 0.9943 - val_loss: 0.0314 - val_accuracy: 0.9913 - epoch_time: 2.0406\n",
            "Epoch 74/500\n",
            "179/179 [==============================] - 3s 14ms/step - loss: 0.0177 - accuracy: 0.9950 - val_loss: 0.0333 - val_accuracy: 0.9917 - epoch_time: 2.4495\n",
            "Epoch 75/500\n",
            "179/179 [==============================] - 3s 16ms/step - loss: 0.0187 - accuracy: 0.9947 - val_loss: 0.0297 - val_accuracy: 0.9929 - epoch_time: 2.7400\n",
            "Epoch 76/500\n",
            "179/179 [==============================] - 2s 12ms/step - loss: 0.0171 - accuracy: 0.9948 - val_loss: 0.0331 - val_accuracy: 0.9945 - epoch_time: 2.0832\n",
            "Epoch 77/500\n",
            "179/179 [==============================] - 2s 12ms/step - loss: 0.0189 - accuracy: 0.9947 - val_loss: 0.0284 - val_accuracy: 0.9921 - epoch_time: 2.0722\n",
            "Epoch 78/500\n",
            "179/179 [==============================] - 3s 14ms/step - loss: 0.0186 - accuracy: 0.9947 - val_loss: 0.0240 - val_accuracy: 0.9929 - epoch_time: 2.0653\n",
            "Epoch 79/500\n",
            "179/179 [==============================] - 2s 12ms/step - loss: 0.0195 - accuracy: 0.9944 - val_loss: 0.0277 - val_accuracy: 0.9917 - epoch_time: 2.0712\n",
            "Epoch 80/500\n",
            "179/179 [==============================] - 3s 15ms/step - loss: 0.0172 - accuracy: 0.9946 - val_loss: 0.0298 - val_accuracy: 0.9921 - epoch_time: 2.5722\n",
            "Epoch 81/500\n",
            "179/179 [==============================] - 3s 15ms/step - loss: 0.0170 - accuracy: 0.9950 - val_loss: 0.0291 - val_accuracy: 0.9925 - epoch_time: 2.5178\n",
            "Epoch 82/500\n",
            "179/179 [==============================] - 2s 12ms/step - loss: 0.0160 - accuracy: 0.9950 - val_loss: 0.0330 - val_accuracy: 0.9929 - epoch_time: 2.0474\n",
            "Epoch 83/500\n",
            "179/179 [==============================] - 2s 12ms/step - loss: 0.0165 - accuracy: 0.9957 - val_loss: 0.0285 - val_accuracy: 0.9925 - epoch_time: 1.9793\n",
            "Epoch 84/500\n",
            "179/179 [==============================] - 2s 12ms/step - loss: 0.0186 - accuracy: 0.9945 - val_loss: 0.0309 - val_accuracy: 0.9921 - epoch_time: 2.0169\n",
            "Epoch 85/500\n",
            "179/179 [==============================] - 2s 12ms/step - loss: 0.0183 - accuracy: 0.9944 - val_loss: 0.0310 - val_accuracy: 0.9929 - epoch_time: 2.0353\n",
            "Epoch 86/500\n",
            "179/179 [==============================] - 3s 15ms/step - loss: 0.0181 - accuracy: 0.9942 - val_loss: 0.0305 - val_accuracy: 0.9929 - epoch_time: 2.5575\n",
            "Epoch 87/500\n",
            "179/179 [==============================] - 3s 16ms/step - loss: 0.0171 - accuracy: 0.9952 - val_loss: 0.0238 - val_accuracy: 0.9925 - epoch_time: 2.4718\n",
            "Epoch 88/500\n",
            "179/179 [==============================] - 2s 12ms/step - loss: 0.0197 - accuracy: 0.9949 - val_loss: 0.0247 - val_accuracy: 0.9933 - epoch_time: 2.0878\n",
            "Epoch 89/500\n",
            "179/179 [==============================] - 2s 12ms/step - loss: 0.0172 - accuracy: 0.9951 - val_loss: 0.0300 - val_accuracy: 0.9933 - epoch_time: 2.0012\n",
            "Epoch 90/500\n",
            "179/179 [==============================] - 2s 12ms/step - loss: 0.0219 - accuracy: 0.9933 - val_loss: 0.0327 - val_accuracy: 0.9917 - epoch_time: 2.0074\n",
            "Epoch 91/500\n",
            "179/179 [==============================] - 2s 12ms/step - loss: 0.0164 - accuracy: 0.9953 - val_loss: 0.0321 - val_accuracy: 0.9925 - epoch_time: 2.0357\n",
            "Epoch 92/500\n",
            "179/179 [==============================] - 3s 16ms/step - loss: 0.0171 - accuracy: 0.9950 - val_loss: 0.0331 - val_accuracy: 0.9929 - epoch_time: 2.7676\n",
            "Epoch 93/500\n",
            "179/179 [==============================] - 2s 13ms/step - loss: 0.0155 - accuracy: 0.9961 - val_loss: 0.0249 - val_accuracy: 0.9925 - epoch_time: 2.2617\n",
            "Epoch 94/500\n",
            "179/179 [==============================] - 2s 12ms/step - loss: 0.0138 - accuracy: 0.9964 - val_loss: 0.0297 - val_accuracy: 0.9921 - epoch_time: 2.0200\n",
            "Epoch 95/500\n",
            "179/179 [==============================] - 2s 12ms/step - loss: 0.0176 - accuracy: 0.9949 - val_loss: 0.0243 - val_accuracy: 0.9925 - epoch_time: 2.0304\n",
            "Epoch 96/500\n",
            "179/179 [==============================] - 2s 12ms/step - loss: 0.0143 - accuracy: 0.9954 - val_loss: 0.0296 - val_accuracy: 0.9913 - epoch_time: 2.0463\n",
            "Epoch 97/500\n",
            "179/179 [==============================] - 2s 12ms/step - loss: 0.0154 - accuracy: 0.9955 - val_loss: 0.0299 - val_accuracy: 0.9921 - epoch_time: 1.9733\n",
            "Epoch 98/500\n",
            "179/179 [==============================] - 3s 16ms/step - loss: 0.0150 - accuracy: 0.9956 - val_loss: 0.0250 - val_accuracy: 0.9941 - epoch_time: 2.8161\n",
            "Epoch 99/500\n",
            "179/179 [==============================] - 2s 13ms/step - loss: 0.0133 - accuracy: 0.9959 - val_loss: 0.0278 - val_accuracy: 0.9933 - epoch_time: 2.1799\n",
            "Epoch 100/500\n",
            "179/179 [==============================] - 2s 12ms/step - loss: 0.0147 - accuracy: 0.9953 - val_loss: 0.0314 - val_accuracy: 0.9929 - epoch_time: 2.0902\n",
            "Epoch 101/500\n",
            "179/179 [==============================] - 2s 12ms/step - loss: 0.0118 - accuracy: 0.9961 - val_loss: 0.0324 - val_accuracy: 0.9925 - epoch_time: 2.0643\n",
            "Epoch 102/500\n",
            "179/179 [==============================] - 2s 12ms/step - loss: 0.0145 - accuracy: 0.9954 - val_loss: 0.0289 - val_accuracy: 0.9929 - epoch_time: 2.0232\n",
            "Epoch 103/500\n",
            "179/179 [==============================] - 2s 12ms/step - loss: 0.0145 - accuracy: 0.9953 - val_loss: 0.0272 - val_accuracy: 0.9933 - epoch_time: 2.0575\n",
            "Epoch 104/500\n",
            "179/179 [==============================] - 3s 19ms/step - loss: 0.0127 - accuracy: 0.9959 - val_loss: 0.0226 - val_accuracy: 0.9925 - epoch_time: 2.9210\n",
            "Epoch 105/500\n",
            "179/179 [==============================] - 2s 13ms/step - loss: 0.0137 - accuracy: 0.9960 - val_loss: 0.0238 - val_accuracy: 0.9945 - epoch_time: 2.1638\n",
            "Epoch 106/500\n",
            "179/179 [==============================] - 2s 12ms/step - loss: 0.0121 - accuracy: 0.9962 - val_loss: 0.0310 - val_accuracy: 0.9909 - epoch_time: 2.0756\n",
            "Epoch 107/500\n",
            "179/179 [==============================] - 2s 13ms/step - loss: 0.0118 - accuracy: 0.9961 - val_loss: 0.0210 - val_accuracy: 0.9941 - epoch_time: 2.0866\n",
            "Epoch 108/500\n",
            "179/179 [==============================] - 2s 12ms/step - loss: 0.0131 - accuracy: 0.9960 - val_loss: 0.0241 - val_accuracy: 0.9937 - epoch_time: 2.0474\n",
            "Epoch 109/500\n",
            "179/179 [==============================] - 3s 14ms/step - loss: 0.0128 - accuracy: 0.9961 - val_loss: 0.0263 - val_accuracy: 0.9917 - epoch_time: 2.4601\n",
            "Epoch 110/500\n",
            "179/179 [==============================] - 3s 16ms/step - loss: 0.0133 - accuracy: 0.9958 - val_loss: 0.0307 - val_accuracy: 0.9921 - epoch_time: 2.7565\n",
            "Epoch 111/500\n",
            "179/179 [==============================] - 2s 12ms/step - loss: 0.0118 - accuracy: 0.9957 - val_loss: 0.0293 - val_accuracy: 0.9913 - epoch_time: 2.0491\n",
            "Epoch 112/500\n",
            "179/179 [==============================] - 2s 12ms/step - loss: 0.0111 - accuracy: 0.9964 - val_loss: 0.0311 - val_accuracy: 0.9933 - epoch_time: 2.0291\n",
            "Epoch 113/500\n",
            "179/179 [==============================] - 2s 12ms/step - loss: 0.0109 - accuracy: 0.9961 - val_loss: 0.0246 - val_accuracy: 0.9949 - epoch_time: 2.1015\n",
            "Epoch 114/500\n",
            "179/179 [==============================] - 2s 12ms/step - loss: 0.0113 - accuracy: 0.9962 - val_loss: 0.0255 - val_accuracy: 0.9941 - epoch_time: 2.1023\n",
            "Epoch 115/500\n",
            "179/179 [==============================] - 3s 15ms/step - loss: 0.0111 - accuracy: 0.9965 - val_loss: 0.0293 - val_accuracy: 0.9941 - epoch_time: 2.5188\n",
            "Epoch 116/500\n",
            "179/179 [==============================] - 3s 15ms/step - loss: 0.0110 - accuracy: 0.9960 - val_loss: 0.0319 - val_accuracy: 0.9909 - epoch_time: 2.6408\n",
            "Epoch 117/500\n",
            "179/179 [==============================] - 2s 14ms/step - loss: 0.0146 - accuracy: 0.9956 - val_loss: 0.0200 - val_accuracy: 0.9949 - epoch_time: 2.0704\n",
            "Epoch 118/500\n",
            "179/179 [==============================] - 2s 12ms/step - loss: 0.0103 - accuracy: 0.9965 - val_loss: 0.0271 - val_accuracy: 0.9945 - epoch_time: 2.0199\n",
            "Epoch 119/500\n",
            "179/179 [==============================] - 2s 12ms/step - loss: 0.0125 - accuracy: 0.9960 - val_loss: 0.0275 - val_accuracy: 0.9929 - epoch_time: 2.0200\n",
            "Epoch 120/500\n",
            "179/179 [==============================] - 2s 12ms/step - loss: 0.0108 - accuracy: 0.9968 - val_loss: 0.0212 - val_accuracy: 0.9917 - epoch_time: 2.0196\n",
            "Epoch 121/500\n",
            "179/179 [==============================] - 3s 16ms/step - loss: 0.0129 - accuracy: 0.9957 - val_loss: 0.0242 - val_accuracy: 0.9929 - epoch_time: 2.6832\n",
            "Epoch 122/500\n",
            "179/179 [==============================] - 2s 13ms/step - loss: 0.0101 - accuracy: 0.9968 - val_loss: 0.0252 - val_accuracy: 0.9929 - epoch_time: 2.3302\n",
            "Epoch 123/500\n",
            "179/179 [==============================] - 2s 12ms/step - loss: 0.0102 - accuracy: 0.9971 - val_loss: 0.0247 - val_accuracy: 0.9945 - epoch_time: 2.0246\n",
            "Epoch 124/500\n",
            "179/179 [==============================] - 2s 12ms/step - loss: 0.0085 - accuracy: 0.9971 - val_loss: 0.0273 - val_accuracy: 0.9937 - epoch_time: 2.0418\n",
            "Epoch 125/500\n",
            "179/179 [==============================] - 2s 12ms/step - loss: 0.0108 - accuracy: 0.9968 - val_loss: 0.0270 - val_accuracy: 0.9933 - epoch_time: 2.0025\n",
            "Epoch 126/500\n",
            "179/179 [==============================] - 2s 12ms/step - loss: 0.0119 - accuracy: 0.9960 - val_loss: 0.0260 - val_accuracy: 0.9941 - epoch_time: 2.0229\n",
            "Epoch 127/500\n",
            "179/179 [==============================] - 3s 16ms/step - loss: 0.0108 - accuracy: 0.9964 - val_loss: 0.0256 - val_accuracy: 0.9937 - epoch_time: 2.7503\n",
            "Epoch 128/500\n",
            "179/179 [==============================] - 2s 14ms/step - loss: 0.0095 - accuracy: 0.9966 - val_loss: 0.0252 - val_accuracy: 0.9917 - epoch_time: 2.3882\n",
            "Epoch 129/500\n",
            "179/179 [==============================] - 2s 12ms/step - loss: 0.0109 - accuracy: 0.9965 - val_loss: 0.0291 - val_accuracy: 0.9925 - epoch_time: 1.9874\n",
            "Epoch 130/500\n",
            "179/179 [==============================] - 2s 12ms/step - loss: 0.0101 - accuracy: 0.9969 - val_loss: 0.0233 - val_accuracy: 0.9933 - epoch_time: 2.0701\n",
            "Epoch 131/500\n",
            "179/179 [==============================] - 2s 12ms/step - loss: 0.0115 - accuracy: 0.9963 - val_loss: 0.0269 - val_accuracy: 0.9933 - epoch_time: 2.0496\n",
            "Epoch 132/500\n",
            "179/179 [==============================] - 2s 12ms/step - loss: 0.0097 - accuracy: 0.9970 - val_loss: 0.0211 - val_accuracy: 0.9957 - epoch_time: 2.0527\n",
            "Epoch 133/500\n",
            "179/179 [==============================] - 3s 16ms/step - loss: 0.0122 - accuracy: 0.9964 - val_loss: 0.0250 - val_accuracy: 0.9937 - epoch_time: 2.7644\n",
            "Epoch 134/500\n",
            "179/179 [==============================] - 2s 13ms/step - loss: 0.0102 - accuracy: 0.9970 - val_loss: 0.0249 - val_accuracy: 0.9937 - epoch_time: 2.3280\n",
            "Epoch 135/500\n",
            "179/179 [==============================] - 2s 12ms/step - loss: 0.0100 - accuracy: 0.9970 - val_loss: 0.0240 - val_accuracy: 0.9929 - epoch_time: 2.0950\n",
            "Epoch 136/500\n",
            "179/179 [==============================] - 2s 12ms/step - loss: 0.0096 - accuracy: 0.9969 - val_loss: 0.0209 - val_accuracy: 0.9929 - epoch_time: 2.0723\n",
            "Epoch 137/500\n",
            "179/179 [==============================] - 2s 12ms/step - loss: 0.0105 - accuracy: 0.9968 - val_loss: 0.0218 - val_accuracy: 0.9945 - epoch_time: 2.0658\n",
            "Epoch 138/500\n",
            "179/179 [==============================] - 2s 12ms/step - loss: 0.0098 - accuracy: 0.9970 - val_loss: 0.0276 - val_accuracy: 0.9941 - epoch_time: 2.0736\n",
            "Epoch 139/500\n",
            "179/179 [==============================] - 3s 16ms/step - loss: 0.0169 - accuracy: 0.9949 - val_loss: 0.0202 - val_accuracy: 0.9949 - epoch_time: 2.8033\n",
            "Epoch 140/500\n",
            "179/179 [==============================] - 3s 17ms/step - loss: 0.0099 - accuracy: 0.9968 - val_loss: 0.0248 - val_accuracy: 0.9925 - epoch_time: 2.8648\n",
            "Epoch 141/500\n",
            "179/179 [==============================] - 3s 14ms/step - loss: 0.0112 - accuracy: 0.9966 - val_loss: 0.0250 - val_accuracy: 0.9937 - epoch_time: 2.4457\n",
            "Epoch 142/500\n",
            "179/179 [==============================] - 2s 12ms/step - loss: 0.0103 - accuracy: 0.9970 - val_loss: 0.0269 - val_accuracy: 0.9941 - epoch_time: 2.0303\n",
            "Epoch 143/500\n",
            "179/179 [==============================] - 2s 12ms/step - loss: 0.0087 - accuracy: 0.9974 - val_loss: 0.0257 - val_accuracy: 0.9937 - epoch_time: 2.1232\n",
            "Epoch 144/500\n",
            "179/179 [==============================] - 3s 14ms/step - loss: 0.0107 - accuracy: 0.9965 - val_loss: 0.0228 - val_accuracy: 0.9949 - epoch_time: 2.4363\n",
            "Epoch 145/500\n",
            "179/179 [==============================] - 3s 16ms/step - loss: 0.0098 - accuracy: 0.9968 - val_loss: 0.0241 - val_accuracy: 0.9941 - epoch_time: 2.7252\n",
            "Epoch 146/500\n",
            "179/179 [==============================] - 2s 12ms/step - loss: 0.0090 - accuracy: 0.9968 - val_loss: 0.0249 - val_accuracy: 0.9941 - epoch_time: 2.0584\n",
            "Epoch 147/500\n",
            "179/179 [==============================] - 2s 12ms/step - loss: 0.0095 - accuracy: 0.9969 - val_loss: 0.0286 - val_accuracy: 0.9933 - epoch_time: 1.9948\n",
            "Epoch 148/500\n",
            "179/179 [==============================] - 2s 12ms/step - loss: 0.0118 - accuracy: 0.9963 - val_loss: 0.0246 - val_accuracy: 0.9929 - epoch_time: 2.0461\n",
            "Epoch 149/500\n",
            "179/179 [==============================] - 2s 12ms/step - loss: 0.0102 - accuracy: 0.9973 - val_loss: 0.0256 - val_accuracy: 0.9945 - epoch_time: 2.0303\n",
            "Epoch 150/500\n",
            "179/179 [==============================] - 2s 14ms/step - loss: 0.0086 - accuracy: 0.9968 - val_loss: 0.0257 - val_accuracy: 0.9953 - epoch_time: 2.3856\n",
            "Epoch 151/500\n",
            "179/179 [==============================] - 3s 15ms/step - loss: 0.0109 - accuracy: 0.9968 - val_loss: 0.0280 - val_accuracy: 0.9933 - epoch_time: 2.5799\n",
            "Epoch 152/500\n",
            "179/179 [==============================] - 2s 12ms/step - loss: 0.0089 - accuracy: 0.9970 - val_loss: 0.0245 - val_accuracy: 0.9941 - epoch_time: 2.0610\n",
            "Epoch 153/500\n",
            "179/179 [==============================] - 2s 12ms/step - loss: 0.0072 - accuracy: 0.9975 - val_loss: 0.0276 - val_accuracy: 0.9945 - epoch_time: 2.0052\n",
            "Epoch 154/500\n",
            "179/179 [==============================] - 2s 12ms/step - loss: 0.0090 - accuracy: 0.9971 - val_loss: 0.0260 - val_accuracy: 0.9917 - epoch_time: 2.0098\n",
            "Epoch 155/500\n",
            "179/179 [==============================] - 2s 12ms/step - loss: 0.0089 - accuracy: 0.9971 - val_loss: 0.0236 - val_accuracy: 0.9953 - epoch_time: 1.9963\n",
            "Epoch 156/500\n",
            "179/179 [==============================] - 3s 15ms/step - loss: 0.0084 - accuracy: 0.9971 - val_loss: 0.0250 - val_accuracy: 0.9937 - epoch_time: 2.4834\n",
            "Epoch 157/500\n",
            "179/179 [==============================] - 3s 15ms/step - loss: 0.0085 - accuracy: 0.9971 - val_loss: 0.0275 - val_accuracy: 0.9933 - epoch_time: 2.6084\n",
            "Epoch 158/500\n",
            "179/179 [==============================] - 2s 12ms/step - loss: 0.0083 - accuracy: 0.9973 - val_loss: 0.0202 - val_accuracy: 0.9953 - epoch_time: 2.0471\n",
            "Epoch 159/500\n",
            "179/179 [==============================] - 2s 12ms/step - loss: 0.0088 - accuracy: 0.9973 - val_loss: 0.0236 - val_accuracy: 0.9933 - epoch_time: 2.0376\n",
            "Epoch 160/500\n",
            "179/179 [==============================] - 3s 15ms/step - loss: 0.0082 - accuracy: 0.9975 - val_loss: 0.0186 - val_accuracy: 0.9945 - epoch_time: 2.0598\n",
            "Epoch 161/500\n",
            "179/179 [==============================] - 2s 12ms/step - loss: 0.0089 - accuracy: 0.9972 - val_loss: 0.0238 - val_accuracy: 0.9937 - epoch_time: 2.0818\n",
            "Epoch 162/500\n",
            "179/179 [==============================] - 3s 16ms/step - loss: 0.0081 - accuracy: 0.9976 - val_loss: 0.0196 - val_accuracy: 0.9945 - epoch_time: 2.6720\n",
            "Epoch 163/500\n",
            "179/179 [==============================] - 3s 14ms/step - loss: 0.0074 - accuracy: 0.9975 - val_loss: 0.0214 - val_accuracy: 0.9941 - epoch_time: 2.4434\n",
            "Epoch 164/500\n",
            "179/179 [==============================] - 2s 12ms/step - loss: 0.0077 - accuracy: 0.9975 - val_loss: 0.0260 - val_accuracy: 0.9933 - epoch_time: 2.0043\n",
            "Epoch 165/500\n",
            "179/179 [==============================] - 2s 12ms/step - loss: 0.0089 - accuracy: 0.9975 - val_loss: 0.0252 - val_accuracy: 0.9937 - epoch_time: 2.0969\n",
            "Epoch 166/500\n",
            "179/179 [==============================] - 2s 12ms/step - loss: 0.0085 - accuracy: 0.9973 - val_loss: 0.0247 - val_accuracy: 0.9933 - epoch_time: 2.0561\n",
            "Epoch 167/500\n",
            "179/179 [==============================] - 2s 12ms/step - loss: 0.0073 - accuracy: 0.9978 - val_loss: 0.0209 - val_accuracy: 0.9941 - epoch_time: 2.0432\n",
            "Epoch 168/500\n",
            "179/179 [==============================] - 3s 16ms/step - loss: 0.0082 - accuracy: 0.9972 - val_loss: 0.0260 - val_accuracy: 0.9945 - epoch_time: 2.6772\n",
            "Epoch 169/500\n",
            "179/179 [==============================] - 2s 14ms/step - loss: 0.0089 - accuracy: 0.9969 - val_loss: 0.0273 - val_accuracy: 0.9945 - epoch_time: 2.3735\n",
            "Epoch 170/500\n",
            "179/179 [==============================] - 2s 12ms/step - loss: 0.0070 - accuracy: 0.9980 - val_loss: 0.0354 - val_accuracy: 0.9929 - epoch_time: 2.0163\n",
            "Epoch 171/500\n",
            "179/179 [==============================] - 2s 12ms/step - loss: 0.0079 - accuracy: 0.9972 - val_loss: 0.0264 - val_accuracy: 0.9945 - epoch_time: 2.0136\n",
            "Epoch 172/500\n",
            "179/179 [==============================] - 2s 12ms/step - loss: 0.0081 - accuracy: 0.9970 - val_loss: 0.0347 - val_accuracy: 0.9937 - epoch_time: 2.0263\n",
            "Epoch 173/500\n",
            "179/179 [==============================] - 2s 12ms/step - loss: 0.0097 - accuracy: 0.9971 - val_loss: 0.0282 - val_accuracy: 0.9945 - epoch_time: 1.9826\n",
            "Epoch 174/500\n",
            "179/179 [==============================] - 3s 16ms/step - loss: 0.0055 - accuracy: 0.9978 - val_loss: 0.0280 - val_accuracy: 0.9945 - epoch_time: 2.7176\n",
            "Epoch 175/500\n",
            "179/179 [==============================] - 2s 14ms/step - loss: 0.0077 - accuracy: 0.9976 - val_loss: 0.0317 - val_accuracy: 0.9949 - epoch_time: 2.3660\n",
            "Epoch 176/500\n",
            "179/179 [==============================] - 2s 12ms/step - loss: 0.0115 - accuracy: 0.9964 - val_loss: 0.0307 - val_accuracy: 0.9937 - epoch_time: 2.0365\n",
            "Epoch 177/500\n",
            "179/179 [==============================] - 2s 12ms/step - loss: 0.0064 - accuracy: 0.9982 - val_loss: 0.0298 - val_accuracy: 0.9941 - epoch_time: 2.0089\n",
            "Epoch 178/500\n",
            "179/179 [==============================] - 2s 12ms/step - loss: 0.0064 - accuracy: 0.9979 - val_loss: 0.0334 - val_accuracy: 0.9953 - epoch_time: 2.0680\n",
            "Epoch 179/500\n",
            "179/179 [==============================] - 2s 12ms/step - loss: 0.0080 - accuracy: 0.9976 - val_loss: 0.0238 - val_accuracy: 0.9933 - epoch_time: 2.0395\n",
            "Epoch 180/500\n",
            "179/179 [==============================] - 3s 15ms/step - loss: 0.0097 - accuracy: 0.9971 - val_loss: 0.0242 - val_accuracy: 0.9933 - epoch_time: 2.6119\n",
            "Epoch 181/500\n",
            "179/179 [==============================] - 2s 14ms/step - loss: 0.0085 - accuracy: 0.9975 - val_loss: 0.0239 - val_accuracy: 0.9933 - epoch_time: 2.4077\n",
            "Epoch 182/500\n",
            "179/179 [==============================] - 2s 12ms/step - loss: 0.0082 - accuracy: 0.9975 - val_loss: 0.0259 - val_accuracy: 0.9933 - epoch_time: 2.0116\n",
            "Epoch 183/500\n",
            "179/179 [==============================] - 2s 12ms/step - loss: 0.0076 - accuracy: 0.9976 - val_loss: 0.0308 - val_accuracy: 0.9937 - epoch_time: 2.0844\n",
            "Epoch 184/500\n",
            "179/179 [==============================] - 2s 12ms/step - loss: 0.0101 - accuracy: 0.9967 - val_loss: 0.0188 - val_accuracy: 0.9945 - epoch_time: 2.0310\n",
            "Epoch 185/500\n",
            "179/179 [==============================] - 2s 12ms/step - loss: 0.0072 - accuracy: 0.9978 - val_loss: 0.0225 - val_accuracy: 0.9937 - epoch_time: 2.0612\n",
            "Epoch 186/500\n",
            "179/179 [==============================] - 3s 15ms/step - loss: 0.0075 - accuracy: 0.9975 - val_loss: 0.0196 - val_accuracy: 0.9937 - epoch_time: 2.5736\n",
            "Epoch 187/500\n",
            "179/179 [==============================] - 3s 14ms/step - loss: 0.0068 - accuracy: 0.9982 - val_loss: 0.0264 - val_accuracy: 0.9949 - epoch_time: 2.4386\n",
            "Epoch 188/500\n",
            "179/179 [==============================] - 2s 12ms/step - loss: 0.0099 - accuracy: 0.9967 - val_loss: 0.0301 - val_accuracy: 0.9937 - epoch_time: 2.1003\n",
            "Epoch 189/500\n",
            "179/179 [==============================] - 2s 12ms/step - loss: 0.0078 - accuracy: 0.9975 - val_loss: 0.0269 - val_accuracy: 0.9941 - epoch_time: 2.0641\n",
            "Epoch 190/500\n",
            "179/179 [==============================] - 2s 12ms/step - loss: 0.0089 - accuracy: 0.9971 - val_loss: 0.0249 - val_accuracy: 0.9921 - epoch_time: 2.0547\n",
            "Epoch 191/500\n",
            "179/179 [==============================] - 2s 12ms/step - loss: 0.0076 - accuracy: 0.9976 - val_loss: 0.0278 - val_accuracy: 0.9929 - epoch_time: 2.0750\n",
            "Epoch 192/500\n",
            "179/179 [==============================] - 3s 16ms/step - loss: 0.0074 - accuracy: 0.9982 - val_loss: 0.0226 - val_accuracy: 0.9937 - epoch_time: 2.8142\n",
            "Epoch 193/500\n",
            "179/179 [==============================] - 2s 14ms/step - loss: 0.0062 - accuracy: 0.9978 - val_loss: 0.0274 - val_accuracy: 0.9949 - epoch_time: 2.3652\n",
            "Epoch 194/500\n",
            "179/179 [==============================] - 2s 12ms/step - loss: 0.0086 - accuracy: 0.9974 - val_loss: 0.0270 - val_accuracy: 0.9941 - epoch_time: 2.0463\n",
            "Epoch 195/500\n",
            "179/179 [==============================] - 2s 12ms/step - loss: 0.0068 - accuracy: 0.9981 - val_loss: 0.0264 - val_accuracy: 0.9937 - epoch_time: 2.0298\n",
            "Epoch 196/500\n",
            "179/179 [==============================] - 2s 12ms/step - loss: 0.0067 - accuracy: 0.9980 - val_loss: 0.0238 - val_accuracy: 0.9925 - epoch_time: 2.0390\n",
            "Epoch 197/500\n",
            "179/179 [==============================] - 2s 12ms/step - loss: 0.0067 - accuracy: 0.9975 - val_loss: 0.0359 - val_accuracy: 0.9925 - epoch_time: 2.0374\n",
            "Epoch 198/500\n",
            "179/179 [==============================] - 3s 16ms/step - loss: 0.0059 - accuracy: 0.9982 - val_loss: 0.0368 - val_accuracy: 0.9937 - epoch_time: 2.7226\n",
            "Epoch 199/500\n",
            "179/179 [==============================] - 2s 13ms/step - loss: 0.0078 - accuracy: 0.9975 - val_loss: 0.0293 - val_accuracy: 0.9949 - epoch_time: 2.2682\n",
            "Epoch 200/500\n",
            "179/179 [==============================] - 2s 12ms/step - loss: 0.0076 - accuracy: 0.9976 - val_loss: 0.0215 - val_accuracy: 0.9953 - epoch_time: 2.0563\n",
            "Epoch 201/500\n",
            "179/179 [==============================] - 2s 12ms/step - loss: 0.0051 - accuracy: 0.9982 - val_loss: 0.0281 - val_accuracy: 0.9937 - epoch_time: 2.0393\n",
            "Epoch 202/500\n",
            "179/179 [==============================] - 2s 12ms/step - loss: 0.0054 - accuracy: 0.9983 - val_loss: 0.0358 - val_accuracy: 0.9937 - epoch_time: 2.0489\n",
            "Epoch 203/500\n",
            "179/179 [==============================] - 2s 12ms/step - loss: 0.0082 - accuracy: 0.9975 - val_loss: 0.0217 - val_accuracy: 0.9937 - epoch_time: 2.0845\n",
            "Epoch 204/500\n",
            "179/179 [==============================] - 3s 16ms/step - loss: 0.0197 - accuracy: 0.9938 - val_loss: 0.0216 - val_accuracy: 0.9941 - epoch_time: 2.7249\n",
            "Epoch 205/500\n",
            "179/179 [==============================] - 3s 14ms/step - loss: 0.0079 - accuracy: 0.9973 - val_loss: 0.0222 - val_accuracy: 0.9953 - epoch_time: 2.3787\n",
            "Epoch 206/500\n",
            "179/179 [==============================] - 2s 12ms/step - loss: 0.0075 - accuracy: 0.9974 - val_loss: 0.0236 - val_accuracy: 0.9937 - epoch_time: 2.0728\n",
            "Epoch 207/500\n",
            "179/179 [==============================] - 2s 12ms/step - loss: 0.0070 - accuracy: 0.9980 - val_loss: 0.0214 - val_accuracy: 0.9937 - epoch_time: 2.0378\n",
            "Epoch 208/500\n",
            "179/179 [==============================] - 2s 12ms/step - loss: 0.0081 - accuracy: 0.9977 - val_loss: 0.0211 - val_accuracy: 0.9933 - epoch_time: 1.9763\n",
            "Epoch 209/500\n",
            "179/179 [==============================] - 2s 12ms/step - loss: 0.0074 - accuracy: 0.9978 - val_loss: 0.0244 - val_accuracy: 0.9953 - epoch_time: 2.0210\n",
            "Epoch 210/500\n",
            "179/179 [==============================] - 3s 15ms/step - loss: 0.0073 - accuracy: 0.9981 - val_loss: 0.0231 - val_accuracy: 0.9945 - epoch_time: 2.6537\n",
            "Epoch 211/500\n",
            "179/179 [==============================] - 2s 13ms/step - loss: 0.0078 - accuracy: 0.9979 - val_loss: 0.0207 - val_accuracy: 0.9941 - epoch_time: 2.3043\n",
            "Epoch 212/500\n",
            "179/179 [==============================] - 2s 12ms/step - loss: 0.0046 - accuracy: 0.9987 - val_loss: 0.0290 - val_accuracy: 0.9945 - epoch_time: 1.9809\n",
            "Epoch 213/500\n",
            "179/179 [==============================] - 2s 12ms/step - loss: 0.0053 - accuracy: 0.9981 - val_loss: 0.0272 - val_accuracy: 0.9949 - epoch_time: 2.0474\n",
            "Epoch 214/500\n",
            "179/179 [==============================] - 2s 12ms/step - loss: 0.0073 - accuracy: 0.9977 - val_loss: 0.0326 - val_accuracy: 0.9929 - epoch_time: 2.0290\n",
            "Epoch 215/500\n",
            "179/179 [==============================] - 2s 12ms/step - loss: 0.0080 - accuracy: 0.9976 - val_loss: 0.0222 - val_accuracy: 0.9945 - epoch_time: 2.0354\n",
            "Epoch 216/500\n",
            "179/179 [==============================] - 3s 15ms/step - loss: 0.0073 - accuracy: 0.9976 - val_loss: 0.0208 - val_accuracy: 0.9929 - epoch_time: 2.6610\n",
            "Epoch 217/500\n",
            "179/179 [==============================] - 3s 14ms/step - loss: 0.0072 - accuracy: 0.9973 - val_loss: 0.0203 - val_accuracy: 0.9953 - epoch_time: 2.4373\n",
            "Epoch 218/500\n",
            "179/179 [==============================] - 2s 12ms/step - loss: 0.0072 - accuracy: 0.9975 - val_loss: 0.0284 - val_accuracy: 0.9933 - epoch_time: 2.1293\n",
            "Epoch 219/500\n",
            "179/179 [==============================] - 2s 12ms/step - loss: 0.0080 - accuracy: 0.9973 - val_loss: 0.0333 - val_accuracy: 0.9933 - epoch_time: 2.1107\n",
            "Epoch 220/500\n",
            "179/179 [==============================] - 2s 12ms/step - loss: 0.0046 - accuracy: 0.9982 - val_loss: 0.0328 - val_accuracy: 0.9953 - epoch_time: 2.0744\n",
            "Epoch 221/500\n",
            "179/179 [==============================] - 2s 12ms/step - loss: 0.0086 - accuracy: 0.9972 - val_loss: 0.0208 - val_accuracy: 0.9945 - epoch_time: 2.1327\n",
            "Epoch 222/500\n",
            "179/179 [==============================] - 3s 17ms/step - loss: 0.0101 - accuracy: 0.9970 - val_loss: 0.0210 - val_accuracy: 0.9953 - epoch_time: 2.8385\n",
            "Epoch 223/500\n",
            "179/179 [==============================] - 3s 14ms/step - loss: 0.0064 - accuracy: 0.9978 - val_loss: 0.0190 - val_accuracy: 0.9925 - epoch_time: 2.4145\n",
            "Epoch 224/500\n",
            "179/179 [==============================] - 2s 12ms/step - loss: 0.0067 - accuracy: 0.9979 - val_loss: 0.0216 - val_accuracy: 0.9929 - epoch_time: 2.0635\n",
            "Epoch 225/500\n",
            "179/179 [==============================] - 2s 12ms/step - loss: 0.0043 - accuracy: 0.9988 - val_loss: 0.0255 - val_accuracy: 0.9933 - epoch_time: 2.0539\n",
            "Epoch 226/500\n",
            "179/179 [==============================] - 2s 13ms/step - loss: 0.0064 - accuracy: 0.9979 - val_loss: 0.0287 - val_accuracy: 0.9945 - epoch_time: 2.1534\n",
            "Epoch 227/500\n",
            "179/179 [==============================] - 2s 12ms/step - loss: 0.0067 - accuracy: 0.9981 - val_loss: 0.0203 - val_accuracy: 0.9937 - epoch_time: 2.0808\n",
            "Epoch 228/500\n",
            "179/179 [==============================] - 3s 16ms/step - loss: 0.0065 - accuracy: 0.9982 - val_loss: 0.0269 - val_accuracy: 0.9945 - epoch_time: 2.8118\n",
            "Epoch 229/500\n",
            "179/179 [==============================] - 2s 14ms/step - loss: 0.0084 - accuracy: 0.9972 - val_loss: 0.0263 - val_accuracy: 0.9945 - epoch_time: 2.3622\n",
            "Epoch 230/500\n",
            "179/179 [==============================] - 2s 12ms/step - loss: 0.0066 - accuracy: 0.9980 - val_loss: 0.0253 - val_accuracy: 0.9929 - epoch_time: 2.0835\n",
            "Epoch 231/500\n",
            "179/179 [==============================] - 2s 12ms/step - loss: 0.0055 - accuracy: 0.9984 - val_loss: 0.0267 - val_accuracy: 0.9933 - epoch_time: 2.1173\n",
            "Epoch 232/500\n",
            "179/179 [==============================] - 2s 12ms/step - loss: 0.0081 - accuracy: 0.9976 - val_loss: 0.0256 - val_accuracy: 0.9941 - epoch_time: 2.0486\n"
          ]
        }
      ]
    },
    {
      "cell_type": "code",
      "metadata": {
        "id": "ylJKm4n7ppeJ",
        "colab": {
          "base_uri": "https://localhost:8080/"
        },
        "outputId": "09f3b1f4-d9b5-404e-9b31-f481556bd982"
      },
      "source": [
        "sensor = \"sensor3\"\n",
        "time_callback = TimeHistory()\n",
        "model_sensor3 = creatModel()\n",
        "model_save, checkpoint, history_cb, Estop = setCallbacks(\"sensor3\")\n",
        "history_sensor3 = model_sensor3.fit(X_train_sensor3, y_train_sensor3,\n",
        "                                    batch_size = 128, epochs = 500,\n",
        "                                    validation_split = 0.1,\n",
        "                                    verbose = 1,\n",
        "                                    callbacks = [time_callback, model_save, checkpoint, history_cb, Estop])\n",
        "                                    # class_weight= class_weights)#"
      ],
      "execution_count": null,
      "outputs": [
        {
          "output_type": "stream",
          "name": "stdout",
          "text": [
            "Epoch 1/500\n",
            "179/179 [==============================] - 8s 20ms/step - loss: 0.4277 - accuracy: 0.8433 - val_loss: 0.3973 - val_accuracy: 0.8507 - epoch_time: 8.0382\n",
            "Epoch 2/500\n",
            "179/179 [==============================] - 3s 16ms/step - loss: 0.3775 - accuracy: 0.8558 - val_loss: 0.3399 - val_accuracy: 0.8807 - epoch_time: 2.7193\n",
            "Epoch 3/500\n",
            "179/179 [==============================] - 2s 12ms/step - loss: 0.3406 - accuracy: 0.8759 - val_loss: 0.3151 - val_accuracy: 0.8914 - epoch_time: 1.9176\n",
            "Epoch 4/500\n",
            "179/179 [==============================] - 2s 12ms/step - loss: 0.3272 - accuracy: 0.8811 - val_loss: 0.3121 - val_accuracy: 0.8863 - epoch_time: 1.9613\n",
            "Epoch 5/500\n",
            "179/179 [==============================] - 2s 12ms/step - loss: 0.3149 - accuracy: 0.8833 - val_loss: 0.3016 - val_accuracy: 0.8953 - epoch_time: 1.9740\n",
            "Epoch 6/500\n",
            "179/179 [==============================] - 2s 12ms/step - loss: 0.3022 - accuracy: 0.8893 - val_loss: 0.2929 - val_accuracy: 0.9009 - epoch_time: 1.9608\n",
            "Epoch 7/500\n",
            "179/179 [==============================] - 3s 14ms/step - loss: 0.2990 - accuracy: 0.8923 - val_loss: 0.2850 - val_accuracy: 0.8997 - epoch_time: 2.3089\n",
            "Epoch 8/500\n",
            "179/179 [==============================] - 4s 20ms/step - loss: 0.2950 - accuracy: 0.8926 - val_loss: 0.2769 - val_accuracy: 0.9056 - epoch_time: 3.2401\n",
            "Epoch 9/500\n",
            "179/179 [==============================] - 3s 15ms/step - loss: 0.2881 - accuracy: 0.8937 - val_loss: 0.2745 - val_accuracy: 0.9024 - epoch_time: 2.6000\n",
            "Epoch 10/500\n",
            "179/179 [==============================] - 2s 11ms/step - loss: 0.2861 - accuracy: 0.8961 - val_loss: 0.2810 - val_accuracy: 0.9028 - epoch_time: 1.9602\n",
            "Epoch 11/500\n",
            "179/179 [==============================] - 2s 11ms/step - loss: 0.2817 - accuracy: 0.8981 - val_loss: 0.2844 - val_accuracy: 0.9080 - epoch_time: 1.9466\n",
            "Epoch 12/500\n",
            "179/179 [==============================] - 2s 11ms/step - loss: 0.2752 - accuracy: 0.8997 - val_loss: 0.2746 - val_accuracy: 0.9024 - epoch_time: 1.9392\n",
            "Epoch 13/500\n",
            "179/179 [==============================] - 2s 14ms/step - loss: 0.2742 - accuracy: 0.8999 - val_loss: 0.2688 - val_accuracy: 0.9048 - epoch_time: 2.2625\n",
            "Epoch 14/500\n",
            "179/179 [==============================] - 3s 16ms/step - loss: 0.2693 - accuracy: 0.9017 - val_loss: 0.2626 - val_accuracy: 0.9107 - epoch_time: 2.6726\n",
            "Epoch 15/500\n",
            "179/179 [==============================] - 2s 12ms/step - loss: 0.2651 - accuracy: 0.9046 - val_loss: 0.2655 - val_accuracy: 0.9056 - epoch_time: 1.9896\n",
            "Epoch 16/500\n",
            "179/179 [==============================] - 2s 11ms/step - loss: 0.2616 - accuracy: 0.9040 - val_loss: 0.2649 - val_accuracy: 0.9044 - epoch_time: 1.9541\n",
            "Epoch 17/500\n",
            "179/179 [==============================] - 2s 12ms/step - loss: 0.2570 - accuracy: 0.9049 - val_loss: 0.2525 - val_accuracy: 0.9115 - epoch_time: 1.9600\n",
            "Epoch 18/500\n",
            "179/179 [==============================] - 2s 12ms/step - loss: 0.2563 - accuracy: 0.9042 - val_loss: 0.2501 - val_accuracy: 0.9096 - epoch_time: 2.0145\n",
            "Epoch 19/500\n",
            "179/179 [==============================] - 3s 14ms/step - loss: 0.2523 - accuracy: 0.9080 - val_loss: 0.2457 - val_accuracy: 0.9107 - epoch_time: 2.3260\n",
            "Epoch 20/500\n",
            "179/179 [==============================] - 3s 15ms/step - loss: 0.2463 - accuracy: 0.9068 - val_loss: 0.2511 - val_accuracy: 0.9088 - epoch_time: 2.5418\n",
            "Epoch 21/500\n",
            "179/179 [==============================] - 2s 12ms/step - loss: 0.2487 - accuracy: 0.9067 - val_loss: 0.2491 - val_accuracy: 0.9107 - epoch_time: 2.0216\n",
            "Epoch 22/500\n",
            "179/179 [==============================] - 2s 13ms/step - loss: 0.2407 - accuracy: 0.9101 - val_loss: 0.2385 - val_accuracy: 0.9131 - epoch_time: 2.0678\n",
            "Epoch 23/500\n",
            "179/179 [==============================] - 2s 12ms/step - loss: 0.2385 - accuracy: 0.9107 - val_loss: 0.2419 - val_accuracy: 0.9119 - epoch_time: 1.9903\n",
            "Epoch 24/500\n",
            "179/179 [==============================] - 2s 12ms/step - loss: 0.2383 - accuracy: 0.9123 - val_loss: 0.2354 - val_accuracy: 0.9127 - epoch_time: 1.9823\n",
            "Epoch 25/500\n",
            "179/179 [==============================] - 3s 15ms/step - loss: 0.2293 - accuracy: 0.9139 - val_loss: 0.2302 - val_accuracy: 0.9131 - epoch_time: 2.4119\n",
            "Epoch 26/500\n",
            "179/179 [==============================] - 3s 14ms/step - loss: 0.2302 - accuracy: 0.9159 - val_loss: 0.2310 - val_accuracy: 0.9155 - epoch_time: 2.4493\n",
            "Epoch 27/500\n",
            "179/179 [==============================] - 2s 12ms/step - loss: 0.2233 - accuracy: 0.9166 - val_loss: 0.2204 - val_accuracy: 0.9167 - epoch_time: 2.0309\n",
            "Epoch 28/500\n",
            "179/179 [==============================] - 2s 12ms/step - loss: 0.2158 - accuracy: 0.9189 - val_loss: 0.2270 - val_accuracy: 0.9179 - epoch_time: 2.0186\n",
            "Epoch 29/500\n",
            "179/179 [==============================] - 2s 12ms/step - loss: 0.2134 - accuracy: 0.9203 - val_loss: 0.2345 - val_accuracy: 0.9175 - epoch_time: 2.0248\n",
            "Epoch 30/500\n",
            "179/179 [==============================] - 2s 12ms/step - loss: 0.2112 - accuracy: 0.9194 - val_loss: 0.2228 - val_accuracy: 0.9202 - epoch_time: 1.9987\n",
            "Epoch 31/500\n",
            "179/179 [==============================] - 3s 14ms/step - loss: 0.2028 - accuracy: 0.9230 - val_loss: 0.2251 - val_accuracy: 0.9186 - epoch_time: 2.4500\n",
            "Epoch 32/500\n",
            "179/179 [==============================] - 3s 17ms/step - loss: 0.2055 - accuracy: 0.9217 - val_loss: 0.2090 - val_accuracy: 0.9218 - epoch_time: 2.5306\n",
            "Epoch 33/500\n",
            "179/179 [==============================] - 2s 13ms/step - loss: 0.1972 - accuracy: 0.9246 - val_loss: 0.2085 - val_accuracy: 0.9214 - epoch_time: 2.0540\n",
            "Epoch 34/500\n",
            "179/179 [==============================] - 2s 12ms/step - loss: 0.1945 - accuracy: 0.9263 - val_loss: 0.2079 - val_accuracy: 0.9230 - epoch_time: 1.9881\n",
            "Epoch 35/500\n",
            "179/179 [==============================] - 2s 13ms/step - loss: 0.1936 - accuracy: 0.9269 - val_loss: 0.2057 - val_accuracy: 0.9186 - epoch_time: 2.0831\n",
            "Epoch 36/500\n",
            "179/179 [==============================] - 2s 12ms/step - loss: 0.1854 - accuracy: 0.9304 - val_loss: 0.2047 - val_accuracy: 0.9222 - epoch_time: 1.9474\n",
            "Epoch 37/500\n",
            "179/179 [==============================] - 3s 16ms/step - loss: 0.1887 - accuracy: 0.9289 - val_loss: 0.2070 - val_accuracy: 0.9194 - epoch_time: 2.7362\n",
            "Epoch 38/500\n",
            "179/179 [==============================] - 2s 13ms/step - loss: 0.1849 - accuracy: 0.9298 - val_loss: 0.1981 - val_accuracy: 0.9277 - epoch_time: 2.2294\n",
            "Epoch 39/500\n",
            "179/179 [==============================] - 2s 12ms/step - loss: 0.1803 - accuracy: 0.9311 - val_loss: 0.1924 - val_accuracy: 0.9297 - epoch_time: 2.0037\n",
            "Epoch 40/500\n",
            "179/179 [==============================] - 2s 12ms/step - loss: 0.1741 - accuracy: 0.9336 - val_loss: 0.1960 - val_accuracy: 0.9242 - epoch_time: 2.0102\n",
            "Epoch 41/500\n",
            "179/179 [==============================] - 2s 12ms/step - loss: 0.1752 - accuracy: 0.9343 - val_loss: 0.1943 - val_accuracy: 0.9285 - epoch_time: 1.9951\n",
            "Epoch 42/500\n",
            "179/179 [==============================] - 2s 13ms/step - loss: 0.1696 - accuracy: 0.9354 - val_loss: 0.1909 - val_accuracy: 0.9313 - epoch_time: 2.0412\n",
            "Epoch 43/500\n",
            "179/179 [==============================] - 3s 17ms/step - loss: 0.1626 - accuracy: 0.9366 - val_loss: 0.2105 - val_accuracy: 0.9250 - epoch_time: 2.8580\n",
            "Epoch 44/500\n",
            "179/179 [==============================] - 2s 13ms/step - loss: 0.1707 - accuracy: 0.9347 - val_loss: 0.1899 - val_accuracy: 0.9281 - epoch_time: 2.1417\n",
            "Epoch 45/500\n",
            "179/179 [==============================] - 2s 12ms/step - loss: 0.1609 - accuracy: 0.9398 - val_loss: 0.1895 - val_accuracy: 0.9297 - epoch_time: 1.9905\n",
            "Epoch 46/500\n",
            "179/179 [==============================] - 2s 12ms/step - loss: 0.1616 - accuracy: 0.9383 - val_loss: 0.1835 - val_accuracy: 0.9313 - epoch_time: 2.0263\n",
            "Epoch 47/500\n",
            "179/179 [==============================] - 2s 12ms/step - loss: 0.1561 - accuracy: 0.9407 - val_loss: 0.1853 - val_accuracy: 0.9269 - epoch_time: 2.0176\n",
            "Epoch 48/500\n",
            "179/179 [==============================] - 3s 14ms/step - loss: 0.1530 - accuracy: 0.9415 - val_loss: 0.1796 - val_accuracy: 0.9340 - epoch_time: 2.3445\n",
            "Epoch 49/500\n",
            "179/179 [==============================] - 3s 16ms/step - loss: 0.1568 - accuracy: 0.9419 - val_loss: 0.1797 - val_accuracy: 0.9364 - epoch_time: 2.7449\n",
            "Epoch 50/500\n",
            "179/179 [==============================] - 2s 12ms/step - loss: 0.1569 - accuracy: 0.9423 - val_loss: 0.1666 - val_accuracy: 0.9380 - epoch_time: 2.0479\n",
            "Epoch 51/500\n",
            "179/179 [==============================] - 2s 12ms/step - loss: 0.1489 - accuracy: 0.9441 - val_loss: 0.1787 - val_accuracy: 0.9340 - epoch_time: 2.0204\n",
            "Epoch 52/500\n",
            "179/179 [==============================] - 2s 12ms/step - loss: 0.1465 - accuracy: 0.9457 - val_loss: 0.1717 - val_accuracy: 0.9419 - epoch_time: 2.0277\n",
            "Epoch 53/500\n",
            "179/179 [==============================] - 2s 12ms/step - loss: 0.1401 - accuracy: 0.9454 - val_loss: 0.1696 - val_accuracy: 0.9404 - epoch_time: 2.0539\n",
            "Epoch 54/500\n",
            "179/179 [==============================] - 2s 14ms/step - loss: 0.1390 - accuracy: 0.9479 - val_loss: 0.1848 - val_accuracy: 0.9427 - epoch_time: 2.3362\n",
            "Epoch 55/500\n",
            "179/179 [==============================] - 3s 16ms/step - loss: 0.1424 - accuracy: 0.9460 - val_loss: 0.1824 - val_accuracy: 0.9356 - epoch_time: 2.7097\n",
            "Epoch 56/500\n",
            "179/179 [==============================] - 2s 12ms/step - loss: 0.1391 - accuracy: 0.9486 - val_loss: 0.1770 - val_accuracy: 0.9384 - epoch_time: 2.0596\n",
            "Epoch 57/500\n",
            "179/179 [==============================] - 2s 14ms/step - loss: 0.1330 - accuracy: 0.9505 - val_loss: 0.1602 - val_accuracy: 0.9431 - epoch_time: 2.0897\n",
            "Epoch 58/500\n",
            "179/179 [==============================] - 2s 13ms/step - loss: 0.1345 - accuracy: 0.9488 - val_loss: 0.1659 - val_accuracy: 0.9439 - epoch_time: 2.1628\n",
            "Epoch 59/500\n",
            "179/179 [==============================] - 2s 13ms/step - loss: 0.1279 - accuracy: 0.9512 - val_loss: 0.1602 - val_accuracy: 0.9419 - epoch_time: 2.1138\n",
            "Epoch 60/500\n",
            "179/179 [==============================] - 3s 16ms/step - loss: 0.1286 - accuracy: 0.9523 - val_loss: 0.1618 - val_accuracy: 0.9408 - epoch_time: 2.6856\n",
            "Epoch 61/500\n",
            "179/179 [==============================] - 2s 14ms/step - loss: 0.1229 - accuracy: 0.9536 - val_loss: 0.1623 - val_accuracy: 0.9408 - epoch_time: 2.3637\n",
            "Epoch 62/500\n",
            "179/179 [==============================] - 2s 12ms/step - loss: 0.1250 - accuracy: 0.9514 - val_loss: 0.1536 - val_accuracy: 0.9435 - epoch_time: 2.0353\n",
            "Epoch 63/500\n",
            "179/179 [==============================] - 2s 12ms/step - loss: 0.1273 - accuracy: 0.9529 - val_loss: 0.1619 - val_accuracy: 0.9423 - epoch_time: 2.0742\n",
            "Epoch 64/500\n",
            "179/179 [==============================] - 2s 12ms/step - loss: 0.1176 - accuracy: 0.9566 - val_loss: 0.1723 - val_accuracy: 0.9431 - epoch_time: 2.0843\n",
            "Epoch 65/500\n",
            "179/179 [==============================] - 2s 12ms/step - loss: 0.1358 - accuracy: 0.9505 - val_loss: 0.1567 - val_accuracy: 0.9518 - epoch_time: 2.0446\n",
            "Epoch 66/500\n",
            "179/179 [==============================] - 3s 18ms/step - loss: 0.1197 - accuracy: 0.9558 - val_loss: 0.1429 - val_accuracy: 0.9483 - epoch_time: 2.6852\n",
            "Epoch 67/500\n",
            "179/179 [==============================] - 2s 12ms/step - loss: 0.1177 - accuracy: 0.9551 - val_loss: 0.1524 - val_accuracy: 0.9439 - epoch_time: 2.1407\n",
            "Epoch 68/500\n",
            "179/179 [==============================] - 2s 12ms/step - loss: 0.1172 - accuracy: 0.9551 - val_loss: 0.1473 - val_accuracy: 0.9498 - epoch_time: 1.9721\n",
            "Epoch 69/500\n",
            "179/179 [==============================] - 2s 12ms/step - loss: 0.1130 - accuracy: 0.9577 - val_loss: 0.1438 - val_accuracy: 0.9459 - epoch_time: 2.0648\n",
            "Epoch 70/500\n",
            "179/179 [==============================] - 2s 12ms/step - loss: 0.1103 - accuracy: 0.9577 - val_loss: 0.1457 - val_accuracy: 0.9494 - epoch_time: 2.0684\n",
            "Epoch 71/500\n",
            "179/179 [==============================] - 2s 13ms/step - loss: 0.1081 - accuracy: 0.9588 - val_loss: 0.1536 - val_accuracy: 0.9459 - epoch_time: 2.1664\n",
            "Epoch 72/500\n",
            "179/179 [==============================] - 3s 16ms/step - loss: 0.1062 - accuracy: 0.9597 - val_loss: 0.1442 - val_accuracy: 0.9439 - epoch_time: 2.8093\n",
            "Epoch 73/500\n",
            "179/179 [==============================] - 2s 12ms/step - loss: 0.1208 - accuracy: 0.9531 - val_loss: 0.1523 - val_accuracy: 0.9463 - epoch_time: 2.1269\n",
            "Epoch 74/500\n",
            "179/179 [==============================] - 2s 12ms/step - loss: 0.1040 - accuracy: 0.9607 - val_loss: 0.1515 - val_accuracy: 0.9483 - epoch_time: 2.0433\n",
            "Epoch 75/500\n",
            "179/179 [==============================] - 2s 12ms/step - loss: 0.1033 - accuracy: 0.9609 - val_loss: 0.1602 - val_accuracy: 0.9455 - epoch_time: 1.9857\n",
            "Epoch 76/500\n",
            "179/179 [==============================] - 2s 12ms/step - loss: 0.1060 - accuracy: 0.9607 - val_loss: 0.1618 - val_accuracy: 0.9475 - epoch_time: 2.0759\n",
            "Epoch 77/500\n",
            "179/179 [==============================] - 2s 13ms/step - loss: 0.1014 - accuracy: 0.9626 - val_loss: 0.1487 - val_accuracy: 0.9518 - epoch_time: 2.2451\n",
            "Epoch 78/500\n",
            "179/179 [==============================] - 3s 17ms/step - loss: 0.0993 - accuracy: 0.9626 - val_loss: 0.1465 - val_accuracy: 0.9483 - epoch_time: 2.8566\n",
            "Epoch 79/500\n",
            "179/179 [==============================] - 2s 12ms/step - loss: 0.0981 - accuracy: 0.9634 - val_loss: 0.1461 - val_accuracy: 0.9526 - epoch_time: 2.0769\n",
            "Epoch 80/500\n",
            "179/179 [==============================] - 2s 12ms/step - loss: 0.0995 - accuracy: 0.9634 - val_loss: 0.1430 - val_accuracy: 0.9534 - epoch_time: 2.1171\n",
            "Epoch 81/500\n",
            "179/179 [==============================] - 2s 12ms/step - loss: 0.0972 - accuracy: 0.9641 - val_loss: 0.1490 - val_accuracy: 0.9526 - epoch_time: 2.0368\n",
            "Epoch 82/500\n",
            "179/179 [==============================] - 2s 12ms/step - loss: 0.0983 - accuracy: 0.9646 - val_loss: 0.1576 - val_accuracy: 0.9526 - epoch_time: 2.0668\n",
            "Epoch 83/500\n",
            "179/179 [==============================] - 3s 16ms/step - loss: 0.0956 - accuracy: 0.9647 - val_loss: 0.1417 - val_accuracy: 0.9506 - epoch_time: 2.3825\n",
            "Epoch 84/500\n",
            "179/179 [==============================] - 3s 16ms/step - loss: 0.1071 - accuracy: 0.9602 - val_loss: 0.1372 - val_accuracy: 0.9534 - epoch_time: 2.5871\n",
            "Epoch 85/500\n",
            "179/179 [==============================] - 2s 12ms/step - loss: 0.0944 - accuracy: 0.9648 - val_loss: 0.1447 - val_accuracy: 0.9514 - epoch_time: 2.0295\n",
            "Epoch 86/500\n",
            "179/179 [==============================] - 2s 12ms/step - loss: 0.0949 - accuracy: 0.9655 - val_loss: 0.1381 - val_accuracy: 0.9514 - epoch_time: 2.0850\n",
            "Epoch 87/500\n",
            "179/179 [==============================] - 2s 12ms/step - loss: 0.0881 - accuracy: 0.9679 - val_loss: 0.1410 - val_accuracy: 0.9542 - epoch_time: 2.0571\n",
            "Epoch 88/500\n",
            "179/179 [==============================] - 2s 12ms/step - loss: 0.0866 - accuracy: 0.9684 - val_loss: 0.1540 - val_accuracy: 0.9530 - epoch_time: 2.0604\n",
            "Epoch 89/500\n",
            "179/179 [==============================] - 3s 15ms/step - loss: 0.0939 - accuracy: 0.9656 - val_loss: 0.1444 - val_accuracy: 0.9538 - epoch_time: 2.6700\n",
            "Epoch 90/500\n",
            "179/179 [==============================] - 3s 15ms/step - loss: 0.0869 - accuracy: 0.9681 - val_loss: 0.1514 - val_accuracy: 0.9562 - epoch_time: 2.4917\n",
            "Epoch 91/500\n",
            "179/179 [==============================] - 2s 12ms/step - loss: 0.0858 - accuracy: 0.9684 - val_loss: 0.1461 - val_accuracy: 0.9550 - epoch_time: 2.0257\n",
            "Epoch 92/500\n",
            "179/179 [==============================] - 2s 12ms/step - loss: 0.0841 - accuracy: 0.9689 - val_loss: 0.1508 - val_accuracy: 0.9542 - epoch_time: 2.0479\n",
            "Epoch 93/500\n",
            "179/179 [==============================] - 2s 12ms/step - loss: 0.0821 - accuracy: 0.9698 - val_loss: 0.1482 - val_accuracy: 0.9510 - epoch_time: 2.1196\n",
            "Epoch 94/500\n",
            "179/179 [==============================] - 2s 12ms/step - loss: 0.0861 - accuracy: 0.9685 - val_loss: 0.1632 - val_accuracy: 0.9538 - epoch_time: 2.0114\n",
            "Epoch 95/500\n",
            "179/179 [==============================] - 3s 16ms/step - loss: 0.0835 - accuracy: 0.9690 - val_loss: 0.1422 - val_accuracy: 0.9526 - epoch_time: 2.6760\n",
            "Epoch 96/500\n",
            "179/179 [==============================] - 2s 13ms/step - loss: 0.0792 - accuracy: 0.9703 - val_loss: 0.1508 - val_accuracy: 0.9550 - epoch_time: 2.3253\n",
            "Epoch 97/500\n",
            "179/179 [==============================] - 2s 12ms/step - loss: 0.0818 - accuracy: 0.9702 - val_loss: 0.1524 - val_accuracy: 0.9542 - epoch_time: 2.0448\n",
            "Epoch 98/500\n",
            "179/179 [==============================] - 2s 12ms/step - loss: 0.0840 - accuracy: 0.9683 - val_loss: 0.1471 - val_accuracy: 0.9566 - epoch_time: 2.0446\n",
            "Epoch 99/500\n",
            "179/179 [==============================] - 2s 12ms/step - loss: 0.0787 - accuracy: 0.9720 - val_loss: 0.1554 - val_accuracy: 0.9577 - epoch_time: 2.0507\n",
            "Epoch 100/500\n",
            "179/179 [==============================] - 2s 12ms/step - loss: 0.0774 - accuracy: 0.9717 - val_loss: 0.1416 - val_accuracy: 0.9542 - epoch_time: 2.0506\n",
            "Epoch 101/500\n",
            "179/179 [==============================] - 3s 16ms/step - loss: 0.0781 - accuracy: 0.9713 - val_loss: 0.1425 - val_accuracy: 0.9514 - epoch_time: 2.7689\n",
            "Epoch 102/500\n",
            "179/179 [==============================] - 3s 14ms/step - loss: 0.0773 - accuracy: 0.9710 - val_loss: 0.1581 - val_accuracy: 0.9550 - epoch_time: 2.4478\n",
            "Epoch 103/500\n",
            "179/179 [==============================] - 3s 14ms/step - loss: 0.0755 - accuracy: 0.9728 - val_loss: 0.1346 - val_accuracy: 0.9581 - epoch_time: 2.0412\n",
            "Epoch 104/500\n",
            "179/179 [==============================] - 2s 13ms/step - loss: 0.0833 - accuracy: 0.9702 - val_loss: 0.1465 - val_accuracy: 0.9566 - epoch_time: 2.1604\n",
            "Epoch 105/500\n",
            "179/179 [==============================] - 2s 12ms/step - loss: 0.0764 - accuracy: 0.9719 - val_loss: 0.1401 - val_accuracy: 0.9566 - epoch_time: 2.0987\n",
            "Epoch 106/500\n",
            "179/179 [==============================] - 2s 14ms/step - loss: 0.0750 - accuracy: 0.9715 - val_loss: 0.1421 - val_accuracy: 0.9518 - epoch_time: 2.2889\n",
            "Epoch 107/500\n",
            "179/179 [==============================] - 3s 16ms/step - loss: 0.0734 - accuracy: 0.9745 - val_loss: 0.1444 - val_accuracy: 0.9534 - epoch_time: 2.8246\n",
            "Epoch 108/500\n",
            "179/179 [==============================] - 2s 12ms/step - loss: 0.0800 - accuracy: 0.9703 - val_loss: 0.1372 - val_accuracy: 0.9562 - epoch_time: 2.0955\n",
            "Epoch 109/500\n",
            "179/179 [==============================] - 2s 12ms/step - loss: 0.0721 - accuracy: 0.9732 - val_loss: 0.1388 - val_accuracy: 0.9593 - epoch_time: 2.0579\n",
            "Epoch 110/500\n",
            "179/179 [==============================] - 2s 12ms/step - loss: 0.0717 - accuracy: 0.9738 - val_loss: 0.1406 - val_accuracy: 0.9570 - epoch_time: 2.0102\n",
            "Epoch 111/500\n",
            "179/179 [==============================] - 2s 12ms/step - loss: 0.0740 - accuracy: 0.9730 - val_loss: 0.1394 - val_accuracy: 0.9566 - epoch_time: 2.0289\n",
            "Epoch 112/500\n",
            "179/179 [==============================] - 3s 17ms/step - loss: 0.0698 - accuracy: 0.9749 - val_loss: 0.1324 - val_accuracy: 0.9566 - epoch_time: 2.3845\n",
            "Epoch 113/500\n",
            "179/179 [==============================] - 3s 15ms/step - loss: 0.0688 - accuracy: 0.9755 - val_loss: 0.1365 - val_accuracy: 0.9550 - epoch_time: 2.5655\n",
            "Epoch 114/500\n",
            "179/179 [==============================] - 2s 12ms/step - loss: 0.0839 - accuracy: 0.9700 - val_loss: 0.1426 - val_accuracy: 0.9593 - epoch_time: 2.0622\n",
            "Epoch 115/500\n",
            "179/179 [==============================] - 2s 13ms/step - loss: 0.0700 - accuracy: 0.9747 - val_loss: 0.1294 - val_accuracy: 0.9589 - epoch_time: 2.0759\n",
            "Epoch 116/500\n",
            "179/179 [==============================] - 2s 12ms/step - loss: 0.0732 - accuracy: 0.9736 - val_loss: 0.1548 - val_accuracy: 0.9554 - epoch_time: 2.0616\n",
            "Epoch 117/500\n",
            "179/179 [==============================] - 2s 12ms/step - loss: 0.0694 - accuracy: 0.9748 - val_loss: 0.1347 - val_accuracy: 0.9562 - epoch_time: 2.0178\n",
            "Epoch 118/500\n",
            "179/179 [==============================] - 3s 19ms/step - loss: 0.0676 - accuracy: 0.9766 - val_loss: 0.1316 - val_accuracy: 0.9593 - epoch_time: 3.1482\n",
            "Epoch 119/500\n",
            "179/179 [==============================] - 4s 20ms/step - loss: 0.0648 - accuracy: 0.9755 - val_loss: 0.1575 - val_accuracy: 0.9570 - epoch_time: 3.4379\n",
            "Epoch 120/500\n",
            "179/179 [==============================] - 2s 13ms/step - loss: 0.0657 - accuracy: 0.9767 - val_loss: 0.1357 - val_accuracy: 0.9581 - epoch_time: 2.2717\n",
            "Epoch 121/500\n",
            "179/179 [==============================] - 2s 12ms/step - loss: 0.0667 - accuracy: 0.9745 - val_loss: 0.1512 - val_accuracy: 0.9522 - epoch_time: 2.0346\n",
            "Epoch 122/500\n",
            "179/179 [==============================] - 2s 12ms/step - loss: 0.0651 - accuracy: 0.9761 - val_loss: 0.1534 - val_accuracy: 0.9570 - epoch_time: 2.0501\n",
            "Epoch 123/500\n",
            "179/179 [==============================] - 2s 12ms/step - loss: 0.0628 - accuracy: 0.9770 - val_loss: 0.1372 - val_accuracy: 0.9526 - epoch_time: 2.0270\n",
            "Epoch 124/500\n",
            "179/179 [==============================] - 2s 13ms/step - loss: 0.0635 - accuracy: 0.9769 - val_loss: 0.1354 - val_accuracy: 0.9558 - epoch_time: 2.2180\n",
            "Epoch 125/500\n",
            "179/179 [==============================] - 3s 18ms/step - loss: 0.0674 - accuracy: 0.9754 - val_loss: 0.1265 - val_accuracy: 0.9625 - epoch_time: 2.7747\n",
            "Epoch 126/500\n",
            "179/179 [==============================] - 2s 12ms/step - loss: 0.0654 - accuracy: 0.9762 - val_loss: 0.1486 - val_accuracy: 0.9562 - epoch_time: 2.0438\n",
            "Epoch 127/500\n",
            "179/179 [==============================] - 2s 12ms/step - loss: 0.0638 - accuracy: 0.9786 - val_loss: 0.1502 - val_accuracy: 0.9550 - epoch_time: 2.0366\n",
            "Epoch 128/500\n",
            "179/179 [==============================] - 2s 12ms/step - loss: 0.0628 - accuracy: 0.9767 - val_loss: 0.1349 - val_accuracy: 0.9605 - epoch_time: 2.0953\n",
            "Epoch 129/500\n",
            "179/179 [==============================] - 2s 12ms/step - loss: 0.0629 - accuracy: 0.9780 - val_loss: 0.1411 - val_accuracy: 0.9605 - epoch_time: 2.0190\n",
            "Epoch 130/500\n",
            "179/179 [==============================] - 3s 14ms/step - loss: 0.0602 - accuracy: 0.9793 - val_loss: 0.1522 - val_accuracy: 0.9605 - epoch_time: 2.4637\n",
            "Epoch 131/500\n",
            "179/179 [==============================] - 3s 16ms/step - loss: 0.0632 - accuracy: 0.9775 - val_loss: 0.1371 - val_accuracy: 0.9597 - epoch_time: 2.7095\n",
            "Epoch 132/500\n",
            "179/179 [==============================] - 2s 12ms/step - loss: 0.0617 - accuracy: 0.9779 - val_loss: 0.1450 - val_accuracy: 0.9617 - epoch_time: 2.0390\n",
            "Epoch 133/500\n",
            "179/179 [==============================] - 2s 12ms/step - loss: 0.0624 - accuracy: 0.9775 - val_loss: 0.1458 - val_accuracy: 0.9589 - epoch_time: 2.0286\n",
            "Epoch 134/500\n",
            "179/179 [==============================] - 2s 12ms/step - loss: 0.0671 - accuracy: 0.9769 - val_loss: 0.1467 - val_accuracy: 0.9562 - epoch_time: 2.0227\n",
            "Epoch 135/500\n",
            "179/179 [==============================] - 2s 12ms/step - loss: 0.0646 - accuracy: 0.9764 - val_loss: 0.1416 - val_accuracy: 0.9550 - epoch_time: 2.0435\n",
            "Epoch 136/500\n",
            "179/179 [==============================] - 2s 14ms/step - loss: 0.0594 - accuracy: 0.9792 - val_loss: 0.1326 - val_accuracy: 0.9629 - epoch_time: 2.3928\n",
            "Epoch 137/500\n",
            "179/179 [==============================] - 3s 16ms/step - loss: 0.0609 - accuracy: 0.9786 - val_loss: 0.1318 - val_accuracy: 0.9613 - epoch_time: 2.7894\n",
            "Epoch 138/500\n",
            "179/179 [==============================] - 2s 12ms/step - loss: 0.0612 - accuracy: 0.9778 - val_loss: 0.1434 - val_accuracy: 0.9609 - epoch_time: 2.0376\n",
            "Epoch 139/500\n",
            "179/179 [==============================] - 2s 12ms/step - loss: 0.0592 - accuracy: 0.9786 - val_loss: 0.1390 - val_accuracy: 0.9562 - epoch_time: 2.0636\n",
            "Epoch 140/500\n",
            "179/179 [==============================] - 2s 12ms/step - loss: 0.0584 - accuracy: 0.9805 - val_loss: 0.1276 - val_accuracy: 0.9593 - epoch_time: 2.0568\n",
            "Epoch 141/500\n",
            "179/179 [==============================] - 2s 12ms/step - loss: 0.0576 - accuracy: 0.9799 - val_loss: 0.1336 - val_accuracy: 0.9648 - epoch_time: 2.1300\n",
            "Epoch 142/500\n",
            "179/179 [==============================] - 3s 14ms/step - loss: 0.0624 - accuracy: 0.9783 - val_loss: 0.1473 - val_accuracy: 0.9605 - epoch_time: 2.4450\n",
            "Epoch 143/500\n",
            "179/179 [==============================] - 3s 15ms/step - loss: 0.0586 - accuracy: 0.9802 - val_loss: 0.1331 - val_accuracy: 0.9621 - epoch_time: 2.6181\n",
            "Epoch 144/500\n",
            "179/179 [==============================] - 2s 13ms/step - loss: 0.0563 - accuracy: 0.9796 - val_loss: 0.1404 - val_accuracy: 0.9597 - epoch_time: 2.1490\n",
            "Epoch 145/500\n",
            "179/179 [==============================] - 2s 12ms/step - loss: 0.0549 - accuracy: 0.9808 - val_loss: 0.1371 - val_accuracy: 0.9585 - epoch_time: 2.0967\n",
            "Epoch 146/500\n",
            "179/179 [==============================] - 2s 12ms/step - loss: 0.0617 - accuracy: 0.9778 - val_loss: 0.1486 - val_accuracy: 0.9593 - epoch_time: 2.1052\n",
            "Epoch 147/500\n",
            "179/179 [==============================] - 2s 12ms/step - loss: 0.0585 - accuracy: 0.9794 - val_loss: 0.1471 - val_accuracy: 0.9585 - epoch_time: 2.0519\n",
            "Epoch 148/500\n",
            "179/179 [==============================] - 3s 15ms/step - loss: 0.0606 - accuracy: 0.9790 - val_loss: 0.1576 - val_accuracy: 0.9585 - epoch_time: 2.5310\n",
            "Epoch 149/500\n",
            "179/179 [==============================] - 3s 15ms/step - loss: 0.0573 - accuracy: 0.9799 - val_loss: 0.1373 - val_accuracy: 0.9585 - epoch_time: 2.6680\n",
            "Epoch 150/500\n",
            "179/179 [==============================] - 2s 12ms/step - loss: 0.0590 - accuracy: 0.9778 - val_loss: 0.1487 - val_accuracy: 0.9570 - epoch_time: 2.0539\n",
            "Epoch 151/500\n",
            "179/179 [==============================] - 2s 12ms/step - loss: 0.0535 - accuracy: 0.9795 - val_loss: 0.1446 - val_accuracy: 0.9601 - epoch_time: 2.0921\n",
            "Epoch 152/500\n",
            "179/179 [==============================] - 2s 12ms/step - loss: 0.0542 - accuracy: 0.9819 - val_loss: 0.1296 - val_accuracy: 0.9641 - epoch_time: 2.1296\n",
            "Epoch 153/500\n",
            "179/179 [==============================] - 2s 14ms/step - loss: 0.0595 - accuracy: 0.9793 - val_loss: 0.1252 - val_accuracy: 0.9676 - epoch_time: 2.0598\n",
            "Epoch 154/500\n",
            "179/179 [==============================] - 3s 16ms/step - loss: 0.0538 - accuracy: 0.9813 - val_loss: 0.1373 - val_accuracy: 0.9617 - epoch_time: 2.7661\n",
            "Epoch 155/500\n",
            "179/179 [==============================] - 2s 14ms/step - loss: 0.0529 - accuracy: 0.9810 - val_loss: 0.1609 - val_accuracy: 0.9593 - epoch_time: 2.3247\n",
            "Epoch 156/500\n",
            "179/179 [==============================] - 2s 12ms/step - loss: 0.0529 - accuracy: 0.9813 - val_loss: 0.1631 - val_accuracy: 0.9609 - epoch_time: 2.1023\n",
            "Epoch 157/500\n",
            "179/179 [==============================] - 2s 12ms/step - loss: 0.0622 - accuracy: 0.9772 - val_loss: 0.1342 - val_accuracy: 0.9617 - epoch_time: 2.1421\n",
            "Epoch 158/500\n",
            "179/179 [==============================] - 2s 12ms/step - loss: 0.0537 - accuracy: 0.9809 - val_loss: 0.1498 - val_accuracy: 0.9637 - epoch_time: 2.1040\n",
            "Epoch 159/500\n",
            "179/179 [==============================] - 2s 13ms/step - loss: 0.0527 - accuracy: 0.9816 - val_loss: 0.1474 - val_accuracy: 0.9581 - epoch_time: 2.1771\n",
            "Epoch 160/500\n",
            "179/179 [==============================] - 3s 16ms/step - loss: 0.0565 - accuracy: 0.9803 - val_loss: 0.1394 - val_accuracy: 0.9617 - epoch_time: 2.7654\n",
            "Epoch 161/500\n",
            "179/179 [==============================] - 2s 13ms/step - loss: 0.0509 - accuracy: 0.9818 - val_loss: 0.1493 - val_accuracy: 0.9617 - epoch_time: 2.2526\n",
            "Epoch 162/500\n",
            "179/179 [==============================] - 2s 12ms/step - loss: 0.0507 - accuracy: 0.9826 - val_loss: 0.1389 - val_accuracy: 0.9617 - epoch_time: 2.1244\n",
            "Epoch 163/500\n",
            "179/179 [==============================] - 2s 12ms/step - loss: 0.0548 - accuracy: 0.9804 - val_loss: 0.1330 - val_accuracy: 0.9589 - epoch_time: 2.1024\n",
            "Epoch 164/500\n",
            "179/179 [==============================] - 2s 13ms/step - loss: 0.0506 - accuracy: 0.9814 - val_loss: 0.1543 - val_accuracy: 0.9641 - epoch_time: 2.2579\n",
            "Epoch 165/500\n",
            "179/179 [==============================] - 3s 14ms/step - loss: 0.0540 - accuracy: 0.9818 - val_loss: 0.1629 - val_accuracy: 0.9585 - epoch_time: 2.4369\n",
            "Epoch 166/500\n",
            "179/179 [==============================] - 3s 16ms/step - loss: 0.0482 - accuracy: 0.9835 - val_loss: 0.1477 - val_accuracy: 0.9629 - epoch_time: 2.7988\n",
            "Epoch 167/500\n",
            "179/179 [==============================] - 2s 12ms/step - loss: 0.0512 - accuracy: 0.9818 - val_loss: 0.1263 - val_accuracy: 0.9648 - epoch_time: 2.0461\n",
            "Epoch 168/500\n",
            "179/179 [==============================] - 2s 12ms/step - loss: 0.0533 - accuracy: 0.9814 - val_loss: 0.1275 - val_accuracy: 0.9621 - epoch_time: 2.0768\n",
            "Epoch 169/500\n",
            "179/179 [==============================] - 2s 12ms/step - loss: 0.0490 - accuracy: 0.9830 - val_loss: 0.1431 - val_accuracy: 0.9613 - epoch_time: 2.0243\n",
            "Epoch 170/500\n",
            "179/179 [==============================] - 2s 12ms/step - loss: 0.0463 - accuracy: 0.9836 - val_loss: 0.1343 - val_accuracy: 0.9668 - epoch_time: 2.0969\n",
            "Epoch 171/500\n",
            "179/179 [==============================] - 3s 14ms/step - loss: 0.0551 - accuracy: 0.9806 - val_loss: 0.1456 - val_accuracy: 0.9577 - epoch_time: 2.4065\n",
            "Epoch 172/500\n",
            "179/179 [==============================] - 3s 16ms/step - loss: 0.0545 - accuracy: 0.9808 - val_loss: 0.1324 - val_accuracy: 0.9617 - epoch_time: 2.7329\n",
            "Epoch 173/500\n",
            "179/179 [==============================] - 2s 12ms/step - loss: 0.0500 - accuracy: 0.9824 - val_loss: 0.1371 - val_accuracy: 0.9625 - epoch_time: 2.0242\n",
            "Epoch 174/500\n",
            "179/179 [==============================] - 2s 12ms/step - loss: 0.0497 - accuracy: 0.9827 - val_loss: 0.1283 - val_accuracy: 0.9672 - epoch_time: 2.0670\n",
            "Epoch 175/500\n",
            "179/179 [==============================] - 2s 12ms/step - loss: 0.0497 - accuracy: 0.9824 - val_loss: 0.1388 - val_accuracy: 0.9668 - epoch_time: 2.0977\n",
            "Epoch 176/500\n",
            "179/179 [==============================] - 2s 12ms/step - loss: 0.0508 - accuracy: 0.9810 - val_loss: 0.1542 - val_accuracy: 0.9648 - epoch_time: 2.0743\n",
            "Epoch 177/500\n",
            "179/179 [==============================] - 3s 15ms/step - loss: 0.0479 - accuracy: 0.9832 - val_loss: 0.1346 - val_accuracy: 0.9641 - epoch_time: 2.5873\n",
            "Epoch 178/500\n",
            "179/179 [==============================] - 3s 15ms/step - loss: 0.0514 - accuracy: 0.9823 - val_loss: 0.1301 - val_accuracy: 0.9641 - epoch_time: 2.6097\n",
            "Epoch 179/500\n",
            "179/179 [==============================] - 2s 12ms/step - loss: 0.0500 - accuracy: 0.9823 - val_loss: 0.1377 - val_accuracy: 0.9597 - epoch_time: 2.0855\n",
            "Epoch 180/500\n",
            "179/179 [==============================] - 2s 12ms/step - loss: 0.0490 - accuracy: 0.9831 - val_loss: 0.1361 - val_accuracy: 0.9621 - epoch_time: 2.1116\n",
            "Epoch 181/500\n",
            "179/179 [==============================] - 2s 12ms/step - loss: 0.0455 - accuracy: 0.9836 - val_loss: 0.1551 - val_accuracy: 0.9562 - epoch_time: 2.1234\n",
            "Epoch 182/500\n",
            "179/179 [==============================] - 2s 12ms/step - loss: 0.0490 - accuracy: 0.9817 - val_loss: 0.1343 - val_accuracy: 0.9617 - epoch_time: 2.0675\n",
            "Epoch 183/500\n",
            "179/179 [==============================] - 3s 16ms/step - loss: 0.0782 - accuracy: 0.9717 - val_loss: 0.1461 - val_accuracy: 0.9558 - epoch_time: 2.7493\n",
            "Epoch 184/500\n",
            "179/179 [==============================] - 3s 14ms/step - loss: 0.0561 - accuracy: 0.9813 - val_loss: 0.1469 - val_accuracy: 0.9617 - epoch_time: 2.5001\n",
            "Epoch 185/500\n",
            "179/179 [==============================] - 2s 12ms/step - loss: 0.0492 - accuracy: 0.9827 - val_loss: 0.1350 - val_accuracy: 0.9629 - epoch_time: 2.0341\n",
            "Epoch 186/500\n",
            "179/179 [==============================] - 2s 12ms/step - loss: 0.0483 - accuracy: 0.9829 - val_loss: 0.1594 - val_accuracy: 0.9589 - epoch_time: 2.0244\n",
            "Epoch 187/500\n",
            "179/179 [==============================] - 2s 12ms/step - loss: 0.0465 - accuracy: 0.9830 - val_loss: 0.1557 - val_accuracy: 0.9605 - epoch_time: 2.0487\n",
            "Epoch 188/500\n",
            "179/179 [==============================] - 2s 11ms/step - loss: 0.0462 - accuracy: 0.9832 - val_loss: 0.1566 - val_accuracy: 0.9609 - epoch_time: 1.9736\n",
            "Epoch 189/500\n",
            "179/179 [==============================] - 3s 15ms/step - loss: 0.0470 - accuracy: 0.9835 - val_loss: 0.1432 - val_accuracy: 0.9593 - epoch_time: 2.6117\n",
            "Epoch 190/500\n",
            "179/179 [==============================] - 3s 14ms/step - loss: 0.0439 - accuracy: 0.9845 - val_loss: 0.1454 - val_accuracy: 0.9585 - epoch_time: 2.4968\n",
            "Epoch 191/500\n",
            "179/179 [==============================] - 2s 12ms/step - loss: 0.0456 - accuracy: 0.9837 - val_loss: 0.1451 - val_accuracy: 0.9554 - epoch_time: 2.0226\n",
            "Epoch 192/500\n",
            "179/179 [==============================] - 2s 12ms/step - loss: 0.0463 - accuracy: 0.9841 - val_loss: 0.1348 - val_accuracy: 0.9593 - epoch_time: 2.0351\n",
            "Epoch 193/500\n",
            "179/179 [==============================] - 2s 12ms/step - loss: 0.0459 - accuracy: 0.9836 - val_loss: 0.1740 - val_accuracy: 0.9621 - epoch_time: 2.0579\n",
            "Epoch 194/500\n",
            "179/179 [==============================] - 2s 12ms/step - loss: 0.0456 - accuracy: 0.9838 - val_loss: 0.1437 - val_accuracy: 0.9629 - epoch_time: 2.0511\n",
            "Epoch 195/500\n",
            "179/179 [==============================] - 3s 15ms/step - loss: 0.0446 - accuracy: 0.9842 - val_loss: 0.1304 - val_accuracy: 0.9633 - epoch_time: 2.5900\n",
            "Epoch 196/500\n",
            "179/179 [==============================] - 3s 15ms/step - loss: 0.0442 - accuracy: 0.9847 - val_loss: 0.1417 - val_accuracy: 0.9645 - epoch_time: 2.5350\n",
            "Epoch 197/500\n",
            "179/179 [==============================] - 2s 12ms/step - loss: 0.0455 - accuracy: 0.9845 - val_loss: 0.1532 - val_accuracy: 0.9617 - epoch_time: 2.0375\n",
            "Epoch 198/500\n",
            "179/179 [==============================] - 2s 14ms/step - loss: 0.0465 - accuracy: 0.9838 - val_loss: 0.1250 - val_accuracy: 0.9660 - epoch_time: 1.9871\n",
            "Epoch 199/500\n",
            "179/179 [==============================] - 2s 12ms/step - loss: 0.0496 - accuracy: 0.9828 - val_loss: 0.1382 - val_accuracy: 0.9637 - epoch_time: 2.0214\n",
            "Epoch 200/500\n",
            "179/179 [==============================] - 2s 12ms/step - loss: 0.0422 - accuracy: 0.9848 - val_loss: 0.1517 - val_accuracy: 0.9589 - epoch_time: 2.0692\n",
            "Epoch 201/500\n",
            "179/179 [==============================] - 3s 16ms/step - loss: 0.0450 - accuracy: 0.9837 - val_loss: 0.1333 - val_accuracy: 0.9613 - epoch_time: 2.7441\n",
            "Epoch 202/500\n",
            "179/179 [==============================] - 2s 14ms/step - loss: 0.0464 - accuracy: 0.9837 - val_loss: 0.1314 - val_accuracy: 0.9617 - epoch_time: 2.3708\n",
            "Epoch 203/500\n",
            "179/179 [==============================] - 2s 12ms/step - loss: 0.0447 - accuracy: 0.9835 - val_loss: 0.1422 - val_accuracy: 0.9625 - epoch_time: 2.0444\n",
            "Epoch 204/500\n",
            "179/179 [==============================] - 2s 12ms/step - loss: 0.0424 - accuracy: 0.9845 - val_loss: 0.1413 - val_accuracy: 0.9617 - epoch_time: 2.0870\n",
            "Epoch 205/500\n",
            "179/179 [==============================] - 2s 12ms/step - loss: 0.0482 - accuracy: 0.9828 - val_loss: 0.1474 - val_accuracy: 0.9621 - epoch_time: 2.0438\n",
            "Epoch 206/500\n",
            "179/179 [==============================] - 2s 13ms/step - loss: 0.0452 - accuracy: 0.9843 - val_loss: 0.1307 - val_accuracy: 0.9605 - epoch_time: 2.1531\n",
            "Epoch 207/500\n",
            "179/179 [==============================] - 3s 16ms/step - loss: 0.0428 - accuracy: 0.9852 - val_loss: 0.1439 - val_accuracy: 0.9621 - epoch_time: 2.7403\n",
            "Epoch 208/500\n",
            "179/179 [==============================] - 2s 13ms/step - loss: 0.0432 - accuracy: 0.9850 - val_loss: 0.1412 - val_accuracy: 0.9660 - epoch_time: 2.2664\n",
            "Epoch 209/500\n",
            "179/179 [==============================] - 2s 12ms/step - loss: 0.0417 - accuracy: 0.9848 - val_loss: 0.1583 - val_accuracy: 0.9652 - epoch_time: 2.0773\n",
            "Epoch 210/500\n",
            "179/179 [==============================] - 2s 12ms/step - loss: 0.0416 - accuracy: 0.9860 - val_loss: 0.1317 - val_accuracy: 0.9629 - epoch_time: 2.0783\n",
            "Epoch 211/500\n",
            "179/179 [==============================] - 2s 14ms/step - loss: 0.0430 - accuracy: 0.9854 - val_loss: 0.1219 - val_accuracy: 0.9645 - epoch_time: 2.0419\n",
            "Epoch 212/500\n",
            "179/179 [==============================] - 2s 14ms/step - loss: 0.0427 - accuracy: 0.9852 - val_loss: 0.1331 - val_accuracy: 0.9660 - epoch_time: 2.3401\n",
            "Epoch 213/500\n",
            "179/179 [==============================] - 3s 16ms/step - loss: 0.0427 - accuracy: 0.9851 - val_loss: 0.1445 - val_accuracy: 0.9597 - epoch_time: 2.7474\n",
            "Epoch 214/500\n",
            "179/179 [==============================] - 2s 13ms/step - loss: 0.0430 - accuracy: 0.9854 - val_loss: 0.1382 - val_accuracy: 0.9656 - epoch_time: 2.1968\n",
            "Epoch 215/500\n",
            "179/179 [==============================] - 2s 12ms/step - loss: 0.0440 - accuracy: 0.9846 - val_loss: 0.1462 - val_accuracy: 0.9593 - epoch_time: 2.1321\n",
            "Epoch 216/500\n",
            "179/179 [==============================] - 2s 12ms/step - loss: 0.0403 - accuracy: 0.9861 - val_loss: 0.1411 - val_accuracy: 0.9652 - epoch_time: 2.0461\n",
            "Epoch 217/500\n",
            "179/179 [==============================] - 2s 12ms/step - loss: 0.0421 - accuracy: 0.9861 - val_loss: 0.1644 - val_accuracy: 0.9641 - epoch_time: 2.0688\n",
            "Epoch 218/500\n",
            "179/179 [==============================] - 2s 13ms/step - loss: 0.0413 - accuracy: 0.9865 - val_loss: 0.1532 - val_accuracy: 0.9621 - epoch_time: 2.2781\n",
            "Epoch 219/500\n",
            "179/179 [==============================] - 3s 16ms/step - loss: 0.0440 - accuracy: 0.9847 - val_loss: 0.1514 - val_accuracy: 0.9570 - epoch_time: 2.8335\n",
            "Epoch 220/500\n",
            "179/179 [==============================] - 2s 12ms/step - loss: 0.0448 - accuracy: 0.9840 - val_loss: 0.1321 - val_accuracy: 0.9613 - epoch_time: 2.0695\n",
            "Epoch 221/500\n",
            "179/179 [==============================] - 2s 12ms/step - loss: 0.0396 - accuracy: 0.9866 - val_loss: 0.1330 - val_accuracy: 0.9652 - epoch_time: 2.0721\n",
            "Epoch 222/500\n",
            "179/179 [==============================] - 2s 12ms/step - loss: 0.0417 - accuracy: 0.9856 - val_loss: 0.1518 - val_accuracy: 0.9609 - epoch_time: 2.1040\n",
            "Epoch 223/500\n",
            "179/179 [==============================] - 2s 12ms/step - loss: 0.0408 - accuracy: 0.9864 - val_loss: 0.1360 - val_accuracy: 0.9625 - epoch_time: 2.0269\n",
            "Epoch 224/500\n",
            "179/179 [==============================] - 2s 13ms/step - loss: 0.0429 - accuracy: 0.9856 - val_loss: 0.1530 - val_accuracy: 0.9621 - epoch_time: 2.2777\n",
            "Epoch 225/500\n",
            "179/179 [==============================] - 3s 16ms/step - loss: 0.0418 - accuracy: 0.9865 - val_loss: 0.1357 - val_accuracy: 0.9597 - epoch_time: 2.7137\n",
            "Epoch 226/500\n",
            "179/179 [==============================] - 2s 12ms/step - loss: 0.0439 - accuracy: 0.9847 - val_loss: 0.1320 - val_accuracy: 0.9609 - epoch_time: 2.1279\n",
            "Epoch 227/500\n",
            "179/179 [==============================] - 2s 12ms/step - loss: 0.0399 - accuracy: 0.9865 - val_loss: 0.1361 - val_accuracy: 0.9597 - epoch_time: 2.0928\n",
            "Epoch 228/500\n",
            "179/179 [==============================] - 2s 12ms/step - loss: 0.0421 - accuracy: 0.9861 - val_loss: 0.1529 - val_accuracy: 0.9597 - epoch_time: 2.0850\n",
            "Epoch 229/500\n",
            "179/179 [==============================] - 2s 12ms/step - loss: 0.0415 - accuracy: 0.9856 - val_loss: 0.1413 - val_accuracy: 0.9633 - epoch_time: 2.0936\n",
            "Epoch 230/500\n",
            "179/179 [==============================] - 3s 17ms/step - loss: 0.0403 - accuracy: 0.9859 - val_loss: 0.1470 - val_accuracy: 0.9617 - epoch_time: 2.9080\n",
            "Epoch 231/500\n",
            "179/179 [==============================] - 4s 20ms/step - loss: 0.0404 - accuracy: 0.9861 - val_loss: 0.1347 - val_accuracy: 0.9633 - epoch_time: 3.4182\n",
            "Epoch 232/500\n",
            "179/179 [==============================] - 3s 14ms/step - loss: 0.0382 - accuracy: 0.9858 - val_loss: 0.1371 - val_accuracy: 0.9633 - epoch_time: 2.5063\n",
            "Epoch 233/500\n",
            "179/179 [==============================] - 2s 12ms/step - loss: 0.0388 - accuracy: 0.9862 - val_loss: 0.1572 - val_accuracy: 0.9605 - epoch_time: 2.0782\n",
            "Epoch 234/500\n",
            "179/179 [==============================] - 2s 12ms/step - loss: 0.0392 - accuracy: 0.9864 - val_loss: 0.1652 - val_accuracy: 0.9570 - epoch_time: 2.1369\n",
            "Epoch 235/500\n",
            "179/179 [==============================] - 2s 12ms/step - loss: 0.0360 - accuracy: 0.9870 - val_loss: 0.1465 - val_accuracy: 0.9629 - epoch_time: 2.1161\n",
            "Epoch 236/500\n",
            "179/179 [==============================] - 2s 12ms/step - loss: 0.0404 - accuracy: 0.9867 - val_loss: 0.1482 - val_accuracy: 0.9609 - epoch_time: 2.0972\n",
            "Epoch 237/500\n",
            "179/179 [==============================] - 3s 16ms/step - loss: 0.0387 - accuracy: 0.9877 - val_loss: 0.1496 - val_accuracy: 0.9609 - epoch_time: 2.8432\n",
            "Epoch 238/500\n",
            "179/179 [==============================] - 2s 13ms/step - loss: 0.0445 - accuracy: 0.9841 - val_loss: 0.1497 - val_accuracy: 0.9625 - epoch_time: 2.3010\n",
            "Epoch 239/500\n",
            "179/179 [==============================] - 2s 13ms/step - loss: 0.0404 - accuracy: 0.9860 - val_loss: 0.1491 - val_accuracy: 0.9613 - epoch_time: 2.1499\n",
            "Epoch 240/500\n",
            "179/179 [==============================] - 2s 12ms/step - loss: 0.0375 - accuracy: 0.9870 - val_loss: 0.1479 - val_accuracy: 0.9601 - epoch_time: 2.1147\n",
            "Epoch 241/500\n",
            "179/179 [==============================] - 2s 12ms/step - loss: 0.0432 - accuracy: 0.9853 - val_loss: 0.1354 - val_accuracy: 0.9633 - epoch_time: 2.0689\n",
            "Epoch 242/500\n",
            "179/179 [==============================] - 2s 14ms/step - loss: 0.0393 - accuracy: 0.9862 - val_loss: 0.1493 - val_accuracy: 0.9601 - epoch_time: 2.3317\n",
            "Epoch 243/500\n",
            "179/179 [==============================] - 3s 16ms/step - loss: 0.0395 - accuracy: 0.9860 - val_loss: 0.1637 - val_accuracy: 0.9605 - epoch_time: 2.7865\n",
            "Epoch 244/500\n",
            "179/179 [==============================] - 2s 13ms/step - loss: 0.0378 - accuracy: 0.9871 - val_loss: 0.1648 - val_accuracy: 0.9633 - epoch_time: 2.1825\n",
            "Epoch 245/500\n",
            "179/179 [==============================] - 2s 12ms/step - loss: 0.0381 - accuracy: 0.9868 - val_loss: 0.1717 - val_accuracy: 0.9617 - epoch_time: 2.1093\n",
            "Epoch 246/500\n",
            "179/179 [==============================] - 2s 12ms/step - loss: 0.0455 - accuracy: 0.9847 - val_loss: 0.1591 - val_accuracy: 0.9581 - epoch_time: 2.1012\n",
            "Epoch 247/500\n",
            "179/179 [==============================] - 2s 12ms/step - loss: 0.0396 - accuracy: 0.9867 - val_loss: 0.1596 - val_accuracy: 0.9633 - epoch_time: 2.1298\n",
            "Epoch 248/500\n",
            "179/179 [==============================] - 3s 14ms/step - loss: 0.0424 - accuracy: 0.9852 - val_loss: 0.1498 - val_accuracy: 0.9597 - epoch_time: 2.3985\n",
            "Epoch 249/500\n",
            "179/179 [==============================] - 3s 16ms/step - loss: 0.0368 - accuracy: 0.9872 - val_loss: 0.1790 - val_accuracy: 0.9597 - epoch_time: 2.7646\n",
            "Epoch 250/500\n",
            "179/179 [==============================] - 2s 12ms/step - loss: 0.0387 - accuracy: 0.9858 - val_loss: 0.1338 - val_accuracy: 0.9621 - epoch_time: 2.0986\n",
            "Epoch 251/500\n",
            "179/179 [==============================] - 2s 12ms/step - loss: 0.0395 - accuracy: 0.9866 - val_loss: 0.1487 - val_accuracy: 0.9609 - epoch_time: 2.0883\n",
            "Epoch 252/500\n",
            "179/179 [==============================] - 2s 12ms/step - loss: 0.0367 - accuracy: 0.9877 - val_loss: 0.1523 - val_accuracy: 0.9581 - epoch_time: 2.1304\n",
            "Epoch 253/500\n",
            "179/179 [==============================] - 2s 12ms/step - loss: 0.0413 - accuracy: 0.9862 - val_loss: 0.1641 - val_accuracy: 0.9573 - epoch_time: 2.0836\n"
          ]
        }
      ]
    },
    {
      "cell_type": "code",
      "source": [
        "#plot history of model_sensor1\n",
        "history_sensor1 = pd.read_csv(model_path +\"historyLOG_Instant-25_sensor1.csv\", index_col='epoch')\n",
        "history_sensor1.reset_index(drop= True, inplace= True)\n",
        "history_sensor1.head()\n",
        "print('Average Exe_time for sensor1: {} sec.'.format(round(np.mean(history_sensor1['epoch_time'].values),3)))\n"
      ],
      "metadata": {
        "colab": {
          "base_uri": "https://localhost:8080/"
        },
        "id": "3O-5mYHRoluo",
        "outputId": "2be9ca74-e7ee-461a-d374-cce9fb57c0fb"
      },
      "execution_count": null,
      "outputs": [
        {
          "output_type": "stream",
          "name": "stdout",
          "text": [
            "Average Exe_time for sensor1: 2.328 sec.\n"
          ]
        }
      ]
    },
    {
      "cell_type": "code",
      "source": [
        "plt.plot( history_sensor1['loss'], 'b',label = 'loss')\n",
        "plt.plot( history_sensor1['val_loss'], 'g', label = 'val_loss')\n",
        "plt.legend()\n",
        "plt.grid()\n",
        "plt.title('loss_model_sensor1')\n",
        "plt.show()"
      ],
      "metadata": {
        "colab": {
          "base_uri": "https://localhost:8080/",
          "height": 281
        },
        "id": "qk6CGElHFQKh",
        "outputId": "e279a689-c587-4997-da82-82d6e9834f75"
      },
      "execution_count": null,
      "outputs": [
        {
          "output_type": "display_data",
          "data": {
            "text/plain": [
              "<Figure size 432x288 with 1 Axes>"
            ],
            "image/png": "[encoded data removed]"
          },
          "metadata": {
            "needs_background": "light"
          }
        }
      ]
    },
    {
      "cell_type": "code",
      "source": [
        "plt.plot(history_sensor1['accuracy']* 100,'b',label = 'acc')\n",
        "plt.plot(history_sensor1['val_accuracy'] * 100,'g', label = 'val_acc')\n",
        "plt.legend()\n",
        "plt.grid()\n",
        "plt.title('accuracy_model_sensor1')\n",
        "plt.show()"
      ],
      "metadata": {
        "colab": {
          "base_uri": "https://localhost:8080/",
          "height": 281
        },
        "id": "yW2YOqyrFauE",
        "outputId": "9347838d-c339-476d-d93c-e68bce33f77f"
      },
      "execution_count": null,
      "outputs": [
        {
          "output_type": "display_data",
          "data": {
            "text/plain": [
              "<Figure size 432x288 with 1 Axes>"
            ],
            "image/png": "[encoded data removed]"
          },
          "metadata": {
            "needs_background": "light"
          }
        }
      ]
    },
    {
      "cell_type": "code",
      "metadata": {
        "colab": {
          "base_uri": "https://localhost:8080/"
        },
        "id": "yiUh7YCM0q5f",
        "outputId": "d87c5fb3-609a-4afb-a801-a00c4e4ced3d"
      },
      "source": [
        "history_sensor2 = pd.read_csv(model_path +\"historyLOG_Instant-25_sensor2.csv\", index_col='epoch')\n",
        "history_sensor2.reset_index(drop= True, inplace= True)\n",
        "history_sensor2.head()\n",
        "print('Average Exe_time for sensor2: {} sec.'.format(round(np.mean(history_sensor2['epoch_time'].values),3)))\n"
      ],
      "execution_count": null,
      "outputs": [
        {
          "output_type": "stream",
          "name": "stdout",
          "text": [
            "Average Exe_time for sensor2: 2.234 sec.\n"
          ]
        }
      ]
    },
    {
      "cell_type": "code",
      "source": [
        "plt.plot( history_sensor2['loss'], 'b',label = 'loss')\n",
        "plt.plot( history_sensor2['val_loss'], 'g', label = 'val_loss')\n",
        "plt.legend()\n",
        "plt.grid()\n",
        "plt.title('loss_model_sensor2')\n",
        "plt.show()"
      ],
      "metadata": {
        "colab": {
          "base_uri": "https://localhost:8080/",
          "height": 281
        },
        "id": "L7pzR8UUFR-X",
        "outputId": "50f5c014-0a7f-4a3d-e505-288f4f385499"
      },
      "execution_count": null,
      "outputs": [
        {
          "output_type": "display_data",
          "data": {
            "text/plain": [
              "<Figure size 432x288 with 1 Axes>"
            ],
            "image/png": "[encoded data removed]"
          },
          "metadata": {
            "needs_background": "light"
          }
        }
      ]
    },
    {
      "cell_type": "code",
      "source": [
        "plt.plot(history_sensor2['accuracy']* 100,'b',label = 'acc')\n",
        "plt.plot(history_sensor2['val_accuracy'] * 100,'g', label = 'val_acc')\n",
        "plt.legend()\n",
        "plt.grid()\n",
        "plt.title('accuracy_model_sensor2')\n",
        "plt.show()"
      ],
      "metadata": {
        "colab": {
          "base_uri": "https://localhost:8080/",
          "height": 281
        },
        "id": "ThBgZzV2Finr",
        "outputId": "b792fff1-af0b-47d9-acd5-e093c02084b8"
      },
      "execution_count": null,
      "outputs": [
        {
          "output_type": "display_data",
          "data": {
            "text/plain": [
              "<Figure size 432x288 with 1 Axes>"
            ],
            "image/png": "[encoded data removed]"
          },
          "metadata": {
            "needs_background": "light"
          }
        }
      ]
    },
    {
      "cell_type": "code",
      "metadata": {
        "colab": {
          "base_uri": "https://localhost:8080/"
        },
        "id": "xZQRze500qd5",
        "outputId": "b6d045b6-cac5-4f06-f1c7-0258ac4f0e29"
      },
      "source": [
        "history_sensor3 = pd.read_csv(model_path +\"historyLOG_Instant-25_sensor3.csv\", index_col='epoch')\n",
        "history_sensor3.reset_index(drop= True, inplace= True)\n",
        "history_sensor3.head()\n",
        "print('Average Exe_time for sensor3: {} sec.'.format(round(np.mean(history_sensor3['epoch_time'].values),3)))\n"
      ],
      "execution_count": null,
      "outputs": [
        {
          "output_type": "stream",
          "name": "stdout",
          "text": [
            "Average Exe_time for sensor3: 2.261 sec.\n"
          ]
        }
      ]
    },
    {
      "cell_type": "code",
      "metadata": {
        "id": "swXRfIlAX0pF",
        "colab": {
          "base_uri": "https://localhost:8080/",
          "height": 281
        },
        "outputId": "253dc370-8989-4999-91b5-2b2cd73ea46b"
      },
      "source": [
        "plt.plot( history_sensor3['loss'], 'b',label = 'loss')\n",
        "plt.plot( history_sensor3['val_loss'], 'g', label = 'val_loss')\n",
        "plt.legend()\n",
        "plt.grid()\n",
        "plt.title('loss_model_sensor3')\n",
        "plt.show()"
      ],
      "execution_count": null,
      "outputs": [
        {
          "output_type": "display_data",
          "data": {
            "text/plain": [
              "<Figure size 432x288 with 1 Axes>"
            ],
            "image/png": "[encoded data removed]"
          },
          "metadata": {
            "needs_background": "light"
          }
        }
      ]
    },
    {
      "cell_type": "code",
      "source": [
        "plt.plot(history_sensor3['accuracy']* 100,'b',label = 'acc')\n",
        "plt.plot(history_sensor3['val_accuracy'] * 100,'g', label = 'val_acc')\n",
        "plt.legend()\n",
        "plt.grid()\n",
        "plt.title('accuracy_model_sensor3')\n",
        "plt.show()"
      ],
      "metadata": {
        "colab": {
          "base_uri": "https://localhost:8080/",
          "height": 281
        },
        "id": "Uzl-v65bFtOj",
        "outputId": "0fa42696-8c91-4ada-f2d8-96186af9bb15"
      },
      "execution_count": null,
      "outputs": [
        {
          "output_type": "display_data",
          "data": {
            "text/plain": [
              "<Figure size 432x288 with 1 Axes>"
            ],
            "image/png": "[encoded data removed]"
          },
          "metadata": {
            "needs_background": "light"
          }
        }
      ]
    },
    {
      "cell_type": "code",
      "source": [
        "#last model_sensor1 evaluation\n",
        "test_loss, test_acc = model_sensor1.evaluate( X_test_sensor1, y_test_sensor1, verbose= 1)\n",
        "print('test accuracy :{:.1%} \\n test loss :{:.3}'.format(test_acc, test_loss))"
      ],
      "metadata": {
        "colab": {
          "base_uri": "https://localhost:8080/"
        },
        "id": "r9txKKt8GPES",
        "outputId": "9878f15b-1392-4629-d574-ce3896c1dfa0"
      },
      "execution_count": null,
      "outputs": [
        {
          "output_type": "stream",
          "name": "stdout",
          "text": [
            "140/140 [==============================] - 1s 5ms/step - loss: 0.0181 - accuracy: 0.9953\n",
            "test accuracy :99.5% \n",
            " test loss :0.0181\n"
          ]
        }
      ]
    },
    {
      "cell_type": "code",
      "source": [
        "#last model_sensor2 evaluation\n",
        "test_loss, test_acc = model_sensor2.evaluate( X_test_sensor2, y_test_sensor2, verbose= 1)\n",
        "print('test accuracy :{:.1%} \\n test loss :{:.3}'.format(test_acc, test_loss))"
      ],
      "metadata": {
        "colab": {
          "base_uri": "https://localhost:8080/"
        },
        "id": "adROowiPGPtE",
        "outputId": "fd783714-9132-4020-c8e4-2508b2a91783"
      },
      "execution_count": null,
      "outputs": [
        {
          "output_type": "stream",
          "name": "stdout",
          "text": [
            "140/140 [==============================] - 1s 5ms/step - loss: 0.0336 - accuracy: 0.9933\n",
            "test accuracy :99.3% \n",
            " test loss :0.0336\n"
          ]
        }
      ]
    },
    {
      "cell_type": "code",
      "source": [
        "#last model_sensor3 evaluation\n",
        "test_loss, test_acc = model_sensor3.evaluate( X_test_sensor3, y_test_sensor3, verbose= 1)\n",
        "print('test accuracy :{:.1%} \\n test loss :{:.3}'.format(test_acc, test_loss))"
      ],
      "metadata": {
        "colab": {
          "base_uri": "https://localhost:8080/"
        },
        "id": "AFoZDmx4GP5u",
        "outputId": "c236513e-d295-4d5b-f3b4-478c324f9cb9"
      },
      "execution_count": null,
      "outputs": [
        {
          "output_type": "stream",
          "name": "stdout",
          "text": [
            "140/140 [==============================] - 1s 5ms/step - loss: 0.1636 - accuracy: 0.9615\n",
            "test accuracy :96.2% \n",
            " test loss :0.164\n"
          ]
        }
      ]
    },
    {
      "cell_type": "code",
      "source": [
        "y_pred_sensor1 = model_sensor1.predict( X_test_sensor1, verbose= 1)\n",
        "y_pred_sensor2 = model_sensor2.predict( X_test_sensor2, verbose= 1)\n",
        "y_pred_sensor3 = model_sensor3.predict( X_test_sensor3, verbose= 1)"
      ],
      "metadata": {
        "colab": {
          "base_uri": "https://localhost:8080/"
        },
        "id": "STn_XkCZGP7k",
        "outputId": "51e642c1-80d7-4005-cead-56297e5fdaf9"
      },
      "execution_count": null,
      "outputs": [
        {
          "output_type": "stream",
          "name": "stdout",
          "text": [
            "140/140 [==============================] - 1s 4ms/step\n",
            "140/140 [==============================] - 2s 5ms/step\n",
            "140/140 [==============================] - 2s 4ms/step\n"
          ]
        }
      ]
    },
    {
      "cell_type": "code",
      "source": [
        "y_pred_sensor1 = [np.argmax(i) for i in y_pred_sensor1]\n",
        "y_pred_sensor2 = [np.argmax(i) for i in y_pred_sensor2]\n",
        "y_pred_sensor3 = [np.argmax(i) for i in y_pred_sensor3]"
      ],
      "metadata": {
        "id": "WCLRF8ySGP-y"
      },
      "execution_count": null,
      "outputs": []
    },
    {
      "cell_type": "code",
      "source": [
        "y_pred_total = []\n",
        "for i in range(len(y_pred_sensor1)):\n",
        "  y_pred_total.append( y_pred_sensor1[i] or y_pred_sensor2[i] or y_pred_sensor3[i])"
      ],
      "metadata": {
        "id": "anY5RdokHE_1"
      },
      "execution_count": null,
      "outputs": []
    },
    {
      "cell_type": "code",
      "source": [
        "assert(len(y_pred_total) == len(y_pred_sensor1))"
      ],
      "metadata": {
        "id": "afksljyBHFMW"
      },
      "execution_count": null,
      "outputs": []
    },
    {
      "cell_type": "code",
      "source": [
        "y_test_sensor1 = [np.argmax(i) for i in y_test_sensor1]\n",
        "y_test_sensor2 = [np.argmax(i) for i in y_test_sensor2]\n",
        "y_test_sensor3 = [np.argmax(i) for i in y_test_sensor3]"
      ],
      "metadata": {
        "id": "9NrwBh01HMgQ"
      },
      "execution_count": null,
      "outputs": []
    },
    {
      "cell_type": "code",
      "source": [
        "y_test_total = []\n",
        "for i in range(len(y_test_sensor1)):\n",
        "  y_test_total.append(y_test_sensor1[i] or y_test_sensor2[i] or y_test_sensor3[i])"
      ],
      "metadata": {
        "id": "lRweEKazHMsx"
      },
      "execution_count": null,
      "outputs": []
    },
    {
      "cell_type": "code",
      "source": [
        "print(\"Sensor 1 performanace:\")\n",
        "recall = recall_score(y_test_sensor1, y_pred_sensor1, average='micro')\n",
        "print('recall score : {:.2%}\\n'.format(recall ))\n",
        "\n",
        "precision = precision_score(y_test_sensor1, y_pred_sensor1, average='micro')\n",
        "print('precision score: {:.2%}\\n'.format(precision ))\n",
        "\n",
        "f1 = f1_score(y_test_sensor1, y_pred_sensor1, average='micro')\n",
        "print(\"F1 score: {:.2%}\\n\".format(f1 ))\n",
        "\n",
        "accuracy = accuracy_score(y_test_sensor1, y_pred_sensor1)\n",
        "print(\"accuracy score: {:.2%}\\n\".format(accuracy))"
      ],
      "metadata": {
        "colab": {
          "base_uri": "https://localhost:8080/"
        },
        "id": "3oCJphJZHMuN",
        "outputId": "ab1ae0ab-dd5c-43ef-b15c-163ece8c267a"
      },
      "execution_count": null,
      "outputs": [
        {
          "output_type": "stream",
          "name": "stdout",
          "text": [
            "Sensor 1 performanace:\n",
            "recall score : 99.53%\n",
            "\n",
            "precision score: 99.53%\n",
            "\n",
            "F1 score: 99.53%\n",
            "\n",
            "accuracy score: 99.53%\n",
            "\n"
          ]
        }
      ]
    },
    {
      "cell_type": "code",
      "source": [
        "print(\"Sensor 2 performanace:\")\n",
        "recall = recall_score(y_test_sensor2, y_pred_sensor2, average='micro')\n",
        "print('recall score : {:.2%}\\n'.format(recall ))\n",
        "\n",
        "precision = precision_score(y_test_sensor2, y_pred_sensor2, average='micro')\n",
        "print('precision score: {:.2%}\\n'.format(precision ))\n",
        "\n",
        "f1 = f1_score(y_test_sensor2, y_pred_sensor2, average='micro')\n",
        "print(\"F1 score: {:.2%}\\n\".format(f1 ))\n",
        "\n",
        "accuracy = accuracy_score(y_test_sensor2, y_pred_sensor2)\n",
        "print(\"accuracy score: {:.2%}\\n\".format(accuracy))"
      ],
      "metadata": {
        "colab": {
          "base_uri": "https://localhost:8080/"
        },
        "id": "Lm9vlS19HMxS",
        "outputId": "c72904ce-89ae-4898-d20a-53b5d09251d7"
      },
      "execution_count": null,
      "outputs": [
        {
          "output_type": "stream",
          "name": "stdout",
          "text": [
            "Sensor 2 performanace:\n",
            "recall score : 99.33%\n",
            "\n",
            "precision score: 99.33%\n",
            "\n",
            "F1 score: 99.33%\n",
            "\n",
            "accuracy score: 99.33%\n",
            "\n"
          ]
        }
      ]
    },
    {
      "cell_type": "code",
      "source": [
        "print(\"Sensor 3 performanace:\")\n",
        "recall = recall_score(y_test_sensor3, y_pred_sensor3, average='micro')\n",
        "print('recall score : {:.2%}\\n'.format(recall ))\n",
        "\n",
        "precision = precision_score(y_test_sensor3, y_pred_sensor3, average='micro')\n",
        "print('precision score: {:.2%}\\n'.format(precision ))\n",
        "\n",
        "f1 = f1_score(y_test_sensor3, y_pred_sensor3, average='micro')\n",
        "print(\"F1 score: {:.2%}\\n\".format(f1 ))\n",
        "\n",
        "accuracy = accuracy_score(y_test_sensor3, y_pred_sensor3)\n",
        "print(\"accuracy score: {:.2%}\\n\".format(accuracy))"
      ],
      "metadata": {
        "colab": {
          "base_uri": "https://localhost:8080/"
        },
        "id": "klF4enFMHaV1",
        "outputId": "46c4e783-54ef-47a4-e06c-cd686067cca3"
      },
      "execution_count": null,
      "outputs": [
        {
          "output_type": "stream",
          "name": "stdout",
          "text": [
            "Sensor 3 performanace:\n",
            "recall score : 96.15%\n",
            "\n",
            "precision score: 96.15%\n",
            "\n",
            "F1 score: 96.15%\n",
            "\n",
            "accuracy score: 96.15%\n",
            "\n"
          ]
        }
      ]
    },
    {
      "cell_type": "code",
      "source": [
        "print(\"All Sensors performanace:\\n\")\n",
        "\n",
        "recall = recall_score(y_test_total, y_pred_total, average='micro')\n",
        "print('recall score : {:.2%}\\n'.format(recall ))\n",
        "\n",
        "precision = precision_score(y_test_total, y_pred_total, average='micro')\n",
        "print('precision score: {:.2%}\\n'.format(precision ))\n",
        "\n",
        "f1 = f1_score(y_test_total, y_pred_total, average='micro')\n",
        "print(\"F1 score: {:.2%}\\n\".format(f1 ))\n",
        "\n",
        "accuracy = accuracy_score(y_test_total, y_pred_total)\n",
        "print(\"accuracy score: {:.2%}\\n\".format(accuracy))"
      ],
      "metadata": {
        "colab": {
          "base_uri": "https://localhost:8080/"
        },
        "id": "EIlCvZWhHg9S",
        "outputId": "43b966ec-05ba-439c-abbd-c79f63b39ef7"
      },
      "execution_count": null,
      "outputs": [
        {
          "output_type": "stream",
          "name": "stdout",
          "text": [
            "All Sensors performanace:\n",
            "\n",
            "recall score : 96.33%\n",
            "\n",
            "precision score: 96.33%\n",
            "\n",
            "F1 score: 96.33%\n",
            "\n",
            "accuracy score: 96.33%\n",
            "\n"
          ]
        }
      ]
    },
    {
      "cell_type": "code",
      "source": [
        "print(\"All Sensors performanace:\\n\")\n",
        "\n",
        "recall = recall_score(y_test_total, y_pred_total, average='macro')\n",
        "print('recall score : {:.2%}\\n'.format(recall ))\n",
        "\n",
        "precision = precision_score(y_test_total, y_pred_total, average='macro')\n",
        "print('precision score: {:.2%}\\n'.format(precision ))\n",
        "\n",
        "f1 = f1_score(y_test_total, y_pred_total, average='macro')\n",
        "print(\"F1 score: {:.2%}\\n\".format(f1 ))\n",
        "\n",
        "accuracy = accuracy_score(y_test_total, y_pred_total)\n",
        "print(\"accuracy score: {:.2%}\\n\".format(accuracy))"
      ],
      "metadata": {
        "colab": {
          "base_uri": "https://localhost:8080/"
        },
        "id": "j5CsF4AQHiEs",
        "outputId": "e9b3ccf2-ef6c-4126-81b5-9ee867e70c39"
      },
      "execution_count": null,
      "outputs": [
        {
          "output_type": "stream",
          "name": "stdout",
          "text": [
            "All Sensors performanace:\n",
            "\n",
            "recall score : 95.99%\n",
            "\n",
            "precision score: 96.44%\n",
            "\n",
            "F1 score: 96.20%\n",
            "\n",
            "accuracy score: 96.33%\n",
            "\n"
          ]
        }
      ]
    },
    {
      "cell_type": "code",
      "source": [
        "conf = confusion_matrix(y_test_total, y_pred_total, labels=[1,0])\n",
        "conf_df = pd.DataFrame(conf, columns= [1,0], index= [1,0])\n",
        "conf_df"
      ],
      "metadata": {
        "colab": {
          "base_uri": "https://localhost:8080/",
          "height": 112
        },
        "id": "d1gGHBdzHlkV",
        "outputId": "d90a2a17-6c56-4b9f-d530-ef1279830d3b"
      },
      "execution_count": null,
      "outputs": [
        {
          "output_type": "execute_result",
          "data": {
            "text/plain": [
              "      1     0\n",
              "1  1732   110\n",
              "0    54  2573"
            ],
            "text/html": [
              "\n",
              "  <div id=\"df-431e659c-4947-4cc9-bfbb-15205c457aac\">\n",
              "    <div class=\"colab-df-container\">\n",
              "      <div>\n",
              "<style scoped>\n",
              "    .dataframe tbody tr th:only-of-type {\n",
              "        vertical-align: middle;\n",
              "    }\n",
              "\n",
              "    .dataframe tbody tr th {\n",
              "        vertical-align: top;\n",
              "    }\n",
              "\n",
              "    .dataframe thead th {\n",
              "        text-align: right;\n",
              "    }\n",
              "</style>\n",
              "<table border=\"1\" class=\"dataframe\">\n",
              "  <thead>\n",
              "    <tr style=\"text-align: right;\">\n",
              "      <th></th>\n",
              "      <th>1</th>\n",
              "      <th>0</th>\n",
              "    </tr>\n",
              "  </thead>\n",
              "  <tbody>\n",
              "    <tr>\n",
              "      <th>1</th>\n",
              "      <td>1732</td>\n",
              "      <td>110</td>\n",
              "    </tr>\n",
              "    <tr>\n",
              "      <th>0</th>\n",
              "      <td>54</td>\n",
              "      <td>2573</td>\n",
              "    </tr>\n",
              "  </tbody>\n",
              "</table>\n",
              "</div>\n",
              "      <button class=\"colab-df-convert\" onclick=\"convertToInteractive('df-431e659c-4947-4cc9-bfbb-15205c457aac')\"\n",
              "              title=\"Convert this dataframe to an interactive table.\"\n",
              "              style=\"display:none;\">\n",
              "        \n",
              "  <svg xmlns=\"http://www.w3.org/2000/svg\" height=\"24px\"viewBox=\"0 0 24 24\"\n",
              "       width=\"24px\">\n",
              "    <path d=\"M0 0h24v24H0V0z\" fill=\"none\"/>\n",
              "    <path d=\"M18.56 5.44l.94 2.06.94-2.06 2.06-.94-2.06-.94-.94-2.06-.94 2.06-2.06.94zm-11 1L8.5 8.5l.94-2.06 2.06-.94-2.06-.94L8.5 2.5l-.94 2.06-2.06.94zm10 10l.94 2.06.94-2.06 2.06-.94-2.06-.94-.94-2.06-.94 2.06-2.06.94z\"/><path d=\"M17.41 7.96l-1.37-1.37c-.4-.4-.92-.59-1.43-.59-.52 0-1.04.2-1.43.59L10.3 9.45l-7.72 7.72c-.78.78-.78 2.05 0 2.83L4 21.41c.39.39.9.59 1.41.59.51 0 1.02-.2 1.41-.59l7.78-7.78 2.81-2.81c.8-.78.8-2.07 0-2.86zM5.41 20L4 18.59l7.72-7.72 1.47 1.35L5.41 20z\"/>\n",
              "  </svg>\n",
              "      </button>\n",
              "      \n",
              "  <style>\n",
              "    .colab-df-container {\n",
              "      display:flex;\n",
              "      flex-wrap:wrap;\n",
              "      gap: 12px;\n",
              "    }\n",
              "\n",
              "    .colab-df-convert {\n",
              "      background-color: #E8F0FE;\n",
              "      border: none;\n",
              "      border-radius: 50%;\n",
              "      cursor: pointer;\n",
              "      display: none;\n",
              "      fill: #1967D2;\n",
              "      height: 32px;\n",
              "      padding: 0 0 0 0;\n",
              "      width: 32px;\n",
              "    }\n",
              "\n",
              "    .colab-df-convert:hover {\n",
              "      background-color: #E2EBFA;\n",
              "      box-shadow: 0px 1px 2px rgba(60, 64, 67, 0.3), 0px 1px 3px 1px rgba(60, 64, 67, 0.15);\n",
              "      fill: #174EA6;\n",
              "    }\n",
              "\n",
              "    [theme=dark] .colab-df-convert {\n",
              "      background-color: #3B4455;\n",
              "      fill: #D2E3FC;\n",
              "    }\n",
              "\n",
              "    [theme=dark] .colab-df-convert:hover {\n",
              "      background-color: #434B5C;\n",
              "      box-shadow: 0px 1px 3px 1px rgba(0, 0, 0, 0.15);\n",
              "      filter: drop-shadow(0px 1px 2px rgba(0, 0, 0, 0.3));\n",
              "      fill: #FFFFFF;\n",
              "    }\n",
              "  </style>\n",
              "\n",
              "      <script>\n",
              "        const buttonEl =\n",
              "          document.querySelector('#df-431e659c-4947-4cc9-bfbb-15205c457aac button.colab-df-convert');\n",
              "        buttonEl.style.display =\n",
              "          google.colab.kernel.accessAllowed ? 'block' : 'none';\n",
              "\n",
              "        async function convertToInteractive(key) {\n",
              "          const element = document.querySelector('#df-431e659c-4947-4cc9-bfbb-15205c457aac');\n",
              "          const dataTable =\n",
              "            await google.colab.kernel.invokeFunction('convertToInteractive',\n",
              "                                                     [key], {});\n",
              "          if (!dataTable) return;\n",
              "\n",
              "          const docLinkHtml = 'Like what you see? Visit the ' +\n",
              "            '<a target=\"_blank\" href=https://colab.research.google.com/notebooks/data_table.ipynb>data table notebook</a>'\n",
              "            + ' to learn more about interactive tables.';\n",
              "          element.innerHTML = '';\n",
              "          dataTable['output_type'] = 'display_data';\n",
              "          await google.colab.output.renderOutput(dataTable, element);\n",
              "          const docLink = document.createElement('div');\n",
              "          docLink.innerHTML = docLinkHtml;\n",
              "          element.appendChild(docLink);\n",
              "        }\n",
              "      </script>\n",
              "    </div>\n",
              "  </div>\n",
              "  "
            ]
          },
          "metadata": {},
          "execution_count": 94
        }
      ]
    }
  ]
}