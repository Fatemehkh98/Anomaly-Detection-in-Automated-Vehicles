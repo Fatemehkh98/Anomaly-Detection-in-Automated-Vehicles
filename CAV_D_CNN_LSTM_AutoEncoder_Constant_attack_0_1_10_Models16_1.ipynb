{
  "nbformat": 4,
  "nbformat_minor": 0,
  "metadata": {
    "colab": {
      "provenance": []
    },
    "kernelspec": {
      "name": "python3",
      "display_name": "Python 3"
    },
    "language_info": {
      "name": "python"
    },
    "accelerator": "GPU"
  },
  "cells": [
    {
      "cell_type": "code",
      "metadata": {
        "id": "INNY7MoLZn0x",
        "colab": {
          "base_uri": "https://localhost:8080/"
        },
        "outputId": "fa995652-1909-4eea-d78f-dfc84417dbd9"
      },
      "source": [
        "from google.colab import drive\n",
        "drive.mount('/content/drive')"
      ],
      "execution_count": null,
      "outputs": [
        {
          "output_type": "stream",
          "name": "stdout",
          "text": [
            "Mounted at /content/drive\n"
          ]
        }
      ]
    },
    {
      "cell_type": "code",
      "metadata": {
        "id": "bQ3m-WaucgZw",
        "colab": {
          "base_uri": "https://localhost:8080/"
        },
        "outputId": "5a5493d1-8cc7-4aaf-fe5b-fdd86ddc329d"
      },
      "source": [
        "pip install h5py==2.10.0"
      ],
      "execution_count": null,
      "outputs": [
        {
          "output_type": "stream",
          "name": "stdout",
          "text": [
            "Looking in indexes: https://pypi.org/simple, https://us-python.pkg.dev/colab-wheels/public/simple/\n",
            "Collecting h5py==2.10.0\n",
            "  Downloading h5py-2.10.0-cp38-cp38-manylinux1_x86_64.whl (2.9 MB)\n",
            "\u001b[2K     \u001b[90m━━━━━━━━━━━━━━━━━━━━━━━━━━━━━━━━━━━━━━━━\u001b[0m \u001b[32m2.9/2.9 MB\u001b[0m \u001b[31m78.2 MB/s\u001b[0m eta \u001b[36m0:00:00\u001b[0m\n",
            "\u001b[?25hRequirement already satisfied: numpy>=1.7 in /usr/local/lib/python3.8/dist-packages (from h5py==2.10.0) (1.21.6)\n",
            "Requirement already satisfied: six in /usr/local/lib/python3.8/dist-packages (from h5py==2.10.0) (1.15.0)\n",
            "Installing collected packages: h5py\n",
            "  Attempting uninstall: h5py\n",
            "    Found existing installation: h5py 3.1.0\n",
            "    Uninstalling h5py-3.1.0:\n",
            "      Successfully uninstalled h5py-3.1.0\n",
            "Successfully installed h5py-2.10.0\n"
          ]
        }
      ]
    },
    {
      "cell_type": "code",
      "metadata": {
        "colab": {
          "base_uri": "https://localhost:8080/"
        },
        "id": "8QiS7haVwwyX",
        "outputId": "dc35d455-808d-401d-8d79-cfbed114b302"
      },
      "source": [
        "import tensorflow as tf\n",
        "print(\"tensorflow version :{}\".format(tf.__version__))\n",
        "device_name = tf.test.gpu_device_name()\n",
        "if device_name != '/device:GPU:0':\n",
        "  raise SystemError('GPU device not found')\n",
        "print('Found GPU at: {}'.format(device_name))"
      ],
      "execution_count": null,
      "outputs": [
        {
          "output_type": "stream",
          "name": "stdout",
          "text": [
            "tensorflow version :2.9.2\n",
            "Found GPU at: /device:GPU:0\n"
          ]
        }
      ]
    },
    {
      "cell_type": "code",
      "metadata": {
        "colab": {
          "base_uri": "https://localhost:8080/"
        },
        "id": "GcgHainaexAf",
        "outputId": "1b9997e4-93d5-4e85-d3e4-b96ee02a339e"
      },
      "source": [
        "from tensorflow.python.client import device_lib\n",
        "device_lib.list_local_devices()"
      ],
      "execution_count": null,
      "outputs": [
        {
          "output_type": "execute_result",
          "data": {
            "text/plain": [
              "[name: \"/device:CPU:0\"\n",
              " device_type: \"CPU\"\n",
              " memory_limit: 268435456\n",
              " locality {\n",
              " }\n",
              " incarnation: 16731926288269231663\n",
              " xla_global_id: -1, name: \"/device:GPU:0\"\n",
              " device_type: \"GPU\"\n",
              " memory_limit: 14417788928\n",
              " locality {\n",
              "   bus_id: 1\n",
              "   links {\n",
              "   }\n",
              " }\n",
              " incarnation: 5763618276457588758\n",
              " physical_device_desc: \"device: 0, name: Tesla T4, pci bus id: 0000:00:04.0, compute capability: 7.5\"\n",
              " xla_global_id: 416903419]"
            ]
          },
          "metadata": {},
          "execution_count": 4
        }
      ]
    },
    {
      "cell_type": "code",
      "metadata": {
        "id": "wXNT7HPDVvnG"
      },
      "source": [
        "#### physical_device_desc: \"device: 0, name: Tesla T4, pci bus id: 0000:00:04.0, compute capability: 7.5\"]"
      ],
      "execution_count": null,
      "outputs": []
    },
    {
      "cell_type": "code",
      "metadata": {
        "id": "VtduHlsdzllv"
      },
      "source": [
        "import pandas as pd\n",
        "import numpy as np\n",
        "import matplotlib.pyplot as plt\n",
        "from sklearn.model_selection import train_test_split\n",
        "from sklearn.preprocessing import MinMaxScaler, StandardScaler\n",
        "from sklearn.utils import class_weight"
      ],
      "execution_count": null,
      "outputs": []
    },
    {
      "cell_type": "code",
      "metadata": {
        "id": "wmDBFUYG5UTm"
      },
      "source": [
        "\n",
        "from keras.layers import Conv1D, Dense, Dropout, GlobalMaxPool1D, MaxPool1D\n",
        "from keras.layers import TimeDistributed, LSTM, Bidirectional, Input, concatenate,RepeatVector\n",
        "from keras import regularizers\n",
        "# from keras.layers.normalization import BatchNormalization\n",
        "from keras.models import Sequential, load_model, Model\n",
        "from keras.callbacks import ModelCheckpoint, Callback, EarlyStopping\n",
        "from tensorflow.keras.utils import plot_model, to_categorical\n",
        "from keras.losses import binary_crossentropy\n",
        "from keras.optimizers import Adam\n",
        "from sklearn.metrics import recall_score, precision_score, f1_score, accuracy_score\n",
        "from sklearn.metrics import confusion_matrix\n",
        "from keras.regularizers import l1,l2\n",
        "from statsmodels.tsa.stattools import adfuller\n"
      ],
      "execution_count": null,
      "outputs": []
    },
    {
      "cell_type": "code",
      "metadata": {
        "id": "knBwY4MXdknx"
      },
      "source": [
        "data_path = '/content/drive/MyDrive/CAV/data/Constant attack/0_1_dur_10/'"
      ],
      "execution_count": null,
      "outputs": []
    },
    {
      "cell_type": "code",
      "metadata": {
        "colab": {
          "base_uri": "https://localhost:8080/",
          "height": 206
        },
        "id": "uPy3-An4ynUz",
        "outputId": "18b3edb2-32e3-49ec-f46c-d05c21e15eb0"
      },
      "source": [
        "sensor1_data = pd.read_csv(data_path + \"Sensor1_values_constant_0_1.csv\", index_col= 'Unnamed: 0')\n",
        "sensor1_data.head()"
      ],
      "execution_count": null,
      "outputs": [
        {
          "output_type": "execute_result",
          "data": {
            "text/plain": [
              "   InVehicle_Longitudinal_Speed  GPS_Speed  InVehicle_Longitudinal_Accel\n",
              "0                     11.375000  11.307097                     -0.103000\n",
              "1                     11.366708  11.255964                     -0.353946\n",
              "2                     11.362331  11.249115                     -0.090962\n",
              "3                     11.358665  11.263280                     -0.043470\n",
              "4                     11.356745  11.270361                     -0.037579"
            ],
            "text/html": [
              "\n",
              "  <div id=\"df-1824e169-f728-4c50-a5c0-c5d78c74be63\">\n",
              "    <div class=\"colab-df-container\">\n",
              "      <div>\n",
              "<style scoped>\n",
              "    .dataframe tbody tr th:only-of-type {\n",
              "        vertical-align: middle;\n",
              "    }\n",
              "\n",
              "    .dataframe tbody tr th {\n",
              "        vertical-align: top;\n",
              "    }\n",
              "\n",
              "    .dataframe thead th {\n",
              "        text-align: right;\n",
              "    }\n",
              "</style>\n",
              "<table border=\"1\" class=\"dataframe\">\n",
              "  <thead>\n",
              "    <tr style=\"text-align: right;\">\n",
              "      <th></th>\n",
              "      <th>InVehicle_Longitudinal_Speed</th>\n",
              "      <th>GPS_Speed</th>\n",
              "      <th>InVehicle_Longitudinal_Accel</th>\n",
              "    </tr>\n",
              "  </thead>\n",
              "  <tbody>\n",
              "    <tr>\n",
              "      <th>0</th>\n",
              "      <td>11.375000</td>\n",
              "      <td>11.307097</td>\n",
              "      <td>-0.103000</td>\n",
              "    </tr>\n",
              "    <tr>\n",
              "      <th>1</th>\n",
              "      <td>11.366708</td>\n",
              "      <td>11.255964</td>\n",
              "      <td>-0.353946</td>\n",
              "    </tr>\n",
              "    <tr>\n",
              "      <th>2</th>\n",
              "      <td>11.362331</td>\n",
              "      <td>11.249115</td>\n",
              "      <td>-0.090962</td>\n",
              "    </tr>\n",
              "    <tr>\n",
              "      <th>3</th>\n",
              "      <td>11.358665</td>\n",
              "      <td>11.263280</td>\n",
              "      <td>-0.043470</td>\n",
              "    </tr>\n",
              "    <tr>\n",
              "      <th>4</th>\n",
              "      <td>11.356745</td>\n",
              "      <td>11.270361</td>\n",
              "      <td>-0.037579</td>\n",
              "    </tr>\n",
              "  </tbody>\n",
              "</table>\n",
              "</div>\n",
              "      <button class=\"colab-df-convert\" onclick=\"convertToInteractive('df-1824e169-f728-4c50-a5c0-c5d78c74be63')\"\n",
              "              title=\"Convert this dataframe to an interactive table.\"\n",
              "              style=\"display:none;\">\n",
              "        \n",
              "  <svg xmlns=\"http://www.w3.org/2000/svg\" height=\"24px\"viewBox=\"0 0 24 24\"\n",
              "       width=\"24px\">\n",
              "    <path d=\"M0 0h24v24H0V0z\" fill=\"none\"/>\n",
              "    <path d=\"M18.56 5.44l.94 2.06.94-2.06 2.06-.94-2.06-.94-.94-2.06-.94 2.06-2.06.94zm-11 1L8.5 8.5l.94-2.06 2.06-.94-2.06-.94L8.5 2.5l-.94 2.06-2.06.94zm10 10l.94 2.06.94-2.06 2.06-.94-2.06-.94-.94-2.06-.94 2.06-2.06.94z\"/><path d=\"M17.41 7.96l-1.37-1.37c-.4-.4-.92-.59-1.43-.59-.52 0-1.04.2-1.43.59L10.3 9.45l-7.72 7.72c-.78.78-.78 2.05 0 2.83L4 21.41c.39.39.9.59 1.41.59.51 0 1.02-.2 1.41-.59l7.78-7.78 2.81-2.81c.8-.78.8-2.07 0-2.86zM5.41 20L4 18.59l7.72-7.72 1.47 1.35L5.41 20z\"/>\n",
              "  </svg>\n",
              "      </button>\n",
              "      \n",
              "  <style>\n",
              "    .colab-df-container {\n",
              "      display:flex;\n",
              "      flex-wrap:wrap;\n",
              "      gap: 12px;\n",
              "    }\n",
              "\n",
              "    .colab-df-convert {\n",
              "      background-color: #E8F0FE;\n",
              "      border: none;\n",
              "      border-radius: 50%;\n",
              "      cursor: pointer;\n",
              "      display: none;\n",
              "      fill: #1967D2;\n",
              "      height: 32px;\n",
              "      padding: 0 0 0 0;\n",
              "      width: 32px;\n",
              "    }\n",
              "\n",
              "    .colab-df-convert:hover {\n",
              "      background-color: #E2EBFA;\n",
              "      box-shadow: 0px 1px 2px rgba(60, 64, 67, 0.3), 0px 1px 3px 1px rgba(60, 64, 67, 0.15);\n",
              "      fill: #174EA6;\n",
              "    }\n",
              "\n",
              "    [theme=dark] .colab-df-convert {\n",
              "      background-color: #3B4455;\n",
              "      fill: #D2E3FC;\n",
              "    }\n",
              "\n",
              "    [theme=dark] .colab-df-convert:hover {\n",
              "      background-color: #434B5C;\n",
              "      box-shadow: 0px 1px 3px 1px rgba(0, 0, 0, 0.15);\n",
              "      filter: drop-shadow(0px 1px 2px rgba(0, 0, 0, 0.3));\n",
              "      fill: #FFFFFF;\n",
              "    }\n",
              "  </style>\n",
              "\n",
              "      <script>\n",
              "        const buttonEl =\n",
              "          document.querySelector('#df-1824e169-f728-4c50-a5c0-c5d78c74be63 button.colab-df-convert');\n",
              "        buttonEl.style.display =\n",
              "          google.colab.kernel.accessAllowed ? 'block' : 'none';\n",
              "\n",
              "        async function convertToInteractive(key) {\n",
              "          const element = document.querySelector('#df-1824e169-f728-4c50-a5c0-c5d78c74be63');\n",
              "          const dataTable =\n",
              "            await google.colab.kernel.invokeFunction('convertToInteractive',\n",
              "                                                     [key], {});\n",
              "          if (!dataTable) return;\n",
              "\n",
              "          const docLinkHtml = 'Like what you see? Visit the ' +\n",
              "            '<a target=\"_blank\" href=https://colab.research.google.com/notebooks/data_table.ipynb>data table notebook</a>'\n",
              "            + ' to learn more about interactive tables.';\n",
              "          element.innerHTML = '';\n",
              "          dataTable['output_type'] = 'display_data';\n",
              "          await google.colab.output.renderOutput(dataTable, element);\n",
              "          const docLink = document.createElement('div');\n",
              "          docLink.innerHTML = docLinkHtml;\n",
              "          element.appendChild(docLink);\n",
              "        }\n",
              "      </script>\n",
              "    </div>\n",
              "  </div>\n",
              "  "
            ]
          },
          "metadata": {},
          "execution_count": 9
        }
      ]
    },
    {
      "cell_type": "code",
      "metadata": {
        "colab": {
          "base_uri": "https://localhost:8080/"
        },
        "id": "NkKyrb2sQCni",
        "outputId": "f6f4ac92-352a-4ef6-ff1c-d2a7a56e0cdc"
      },
      "source": [
        "len(sensor1_data)"
      ],
      "execution_count": null,
      "outputs": [
        {
          "output_type": "execute_result",
          "data": {
            "text/plain": [
              "29800"
            ]
          },
          "metadata": {},
          "execution_count": 10
        }
      ]
    },
    {
      "cell_type": "code",
      "metadata": {
        "colab": {
          "base_uri": "https://localhost:8080/",
          "height": 206
        },
        "id": "OYhwlWY8z4N6",
        "outputId": "91b34588-faab-4f49-969b-1409aa0e95b2"
      },
      "source": [
        "sensor1_label = pd.read_csv(data_path+\"Ground_truth_constant_0_1_dur_10_sensor1.csv\", names=['Class'])\n",
        "sensor1_label.head()"
      ],
      "execution_count": null,
      "outputs": [
        {
          "output_type": "execute_result",
          "data": {
            "text/plain": [
              "   Class\n",
              "0    0.0\n",
              "1    0.0\n",
              "2    0.0\n",
              "3    0.0\n",
              "4    0.0"
            ],
            "text/html": [
              "\n",
              "  <div id=\"df-70cda8eb-3159-4628-84a5-b7384734ad7e\">\n",
              "    <div class=\"colab-df-container\">\n",
              "      <div>\n",
              "<style scoped>\n",
              "    .dataframe tbody tr th:only-of-type {\n",
              "        vertical-align: middle;\n",
              "    }\n",
              "\n",
              "    .dataframe tbody tr th {\n",
              "        vertical-align: top;\n",
              "    }\n",
              "\n",
              "    .dataframe thead th {\n",
              "        text-align: right;\n",
              "    }\n",
              "</style>\n",
              "<table border=\"1\" class=\"dataframe\">\n",
              "  <thead>\n",
              "    <tr style=\"text-align: right;\">\n",
              "      <th></th>\n",
              "      <th>Class</th>\n",
              "    </tr>\n",
              "  </thead>\n",
              "  <tbody>\n",
              "    <tr>\n",
              "      <th>0</th>\n",
              "      <td>0.0</td>\n",
              "    </tr>\n",
              "    <tr>\n",
              "      <th>1</th>\n",
              "      <td>0.0</td>\n",
              "    </tr>\n",
              "    <tr>\n",
              "      <th>2</th>\n",
              "      <td>0.0</td>\n",
              "    </tr>\n",
              "    <tr>\n",
              "      <th>3</th>\n",
              "      <td>0.0</td>\n",
              "    </tr>\n",
              "    <tr>\n",
              "      <th>4</th>\n",
              "      <td>0.0</td>\n",
              "    </tr>\n",
              "  </tbody>\n",
              "</table>\n",
              "</div>\n",
              "      <button class=\"colab-df-convert\" onclick=\"convertToInteractive('df-70cda8eb-3159-4628-84a5-b7384734ad7e')\"\n",
              "              title=\"Convert this dataframe to an interactive table.\"\n",
              "              style=\"display:none;\">\n",
              "        \n",
              "  <svg xmlns=\"http://www.w3.org/2000/svg\" height=\"24px\"viewBox=\"0 0 24 24\"\n",
              "       width=\"24px\">\n",
              "    <path d=\"M0 0h24v24H0V0z\" fill=\"none\"/>\n",
              "    <path d=\"M18.56 5.44l.94 2.06.94-2.06 2.06-.94-2.06-.94-.94-2.06-.94 2.06-2.06.94zm-11 1L8.5 8.5l.94-2.06 2.06-.94-2.06-.94L8.5 2.5l-.94 2.06-2.06.94zm10 10l.94 2.06.94-2.06 2.06-.94-2.06-.94-.94-2.06-.94 2.06-2.06.94z\"/><path d=\"M17.41 7.96l-1.37-1.37c-.4-.4-.92-.59-1.43-.59-.52 0-1.04.2-1.43.59L10.3 9.45l-7.72 7.72c-.78.78-.78 2.05 0 2.83L4 21.41c.39.39.9.59 1.41.59.51 0 1.02-.2 1.41-.59l7.78-7.78 2.81-2.81c.8-.78.8-2.07 0-2.86zM5.41 20L4 18.59l7.72-7.72 1.47 1.35L5.41 20z\"/>\n",
              "  </svg>\n",
              "      </button>\n",
              "      \n",
              "  <style>\n",
              "    .colab-df-container {\n",
              "      display:flex;\n",
              "      flex-wrap:wrap;\n",
              "      gap: 12px;\n",
              "    }\n",
              "\n",
              "    .colab-df-convert {\n",
              "      background-color: #E8F0FE;\n",
              "      border: none;\n",
              "      border-radius: 50%;\n",
              "      cursor: pointer;\n",
              "      display: none;\n",
              "      fill: #1967D2;\n",
              "      height: 32px;\n",
              "      padding: 0 0 0 0;\n",
              "      width: 32px;\n",
              "    }\n",
              "\n",
              "    .colab-df-convert:hover {\n",
              "      background-color: #E2EBFA;\n",
              "      box-shadow: 0px 1px 2px rgba(60, 64, 67, 0.3), 0px 1px 3px 1px rgba(60, 64, 67, 0.15);\n",
              "      fill: #174EA6;\n",
              "    }\n",
              "\n",
              "    [theme=dark] .colab-df-convert {\n",
              "      background-color: #3B4455;\n",
              "      fill: #D2E3FC;\n",
              "    }\n",
              "\n",
              "    [theme=dark] .colab-df-convert:hover {\n",
              "      background-color: #434B5C;\n",
              "      box-shadow: 0px 1px 3px 1px rgba(0, 0, 0, 0.15);\n",
              "      filter: drop-shadow(0px 1px 2px rgba(0, 0, 0, 0.3));\n",
              "      fill: #FFFFFF;\n",
              "    }\n",
              "  </style>\n",
              "\n",
              "      <script>\n",
              "        const buttonEl =\n",
              "          document.querySelector('#df-70cda8eb-3159-4628-84a5-b7384734ad7e button.colab-df-convert');\n",
              "        buttonEl.style.display =\n",
              "          google.colab.kernel.accessAllowed ? 'block' : 'none';\n",
              "\n",
              "        async function convertToInteractive(key) {\n",
              "          const element = document.querySelector('#df-70cda8eb-3159-4628-84a5-b7384734ad7e');\n",
              "          const dataTable =\n",
              "            await google.colab.kernel.invokeFunction('convertToInteractive',\n",
              "                                                     [key], {});\n",
              "          if (!dataTable) return;\n",
              "\n",
              "          const docLinkHtml = 'Like what you see? Visit the ' +\n",
              "            '<a target=\"_blank\" href=https://colab.research.google.com/notebooks/data_table.ipynb>data table notebook</a>'\n",
              "            + ' to learn more about interactive tables.';\n",
              "          element.innerHTML = '';\n",
              "          dataTable['output_type'] = 'display_data';\n",
              "          await google.colab.output.renderOutput(dataTable, element);\n",
              "          const docLink = document.createElement('div');\n",
              "          docLink.innerHTML = docLinkHtml;\n",
              "          element.appendChild(docLink);\n",
              "        }\n",
              "      </script>\n",
              "    </div>\n",
              "  </div>\n",
              "  "
            ]
          },
          "metadata": {},
          "execution_count": 11
        }
      ]
    },
    {
      "cell_type": "code",
      "metadata": {
        "colab": {
          "base_uri": "https://localhost:8080/"
        },
        "id": "2mxdhpBpQMjZ",
        "outputId": "19bdf569-2733-45da-dbe9-1bec1fbe242a"
      },
      "source": [
        "len(sensor1_label)"
      ],
      "execution_count": null,
      "outputs": [
        {
          "output_type": "execute_result",
          "data": {
            "text/plain": [
              "29800"
            ]
          },
          "metadata": {},
          "execution_count": 12
        }
      ]
    },
    {
      "cell_type": "code",
      "metadata": {
        "id": "hV_gOXr70BKL",
        "colab": {
          "base_uri": "https://localhost:8080/",
          "height": 206
        },
        "outputId": "965b9254-4612-4f12-a1ad-49856cb8e247"
      },
      "source": [
        "sensor2_data = pd.read_csv(data_path + \"Sensor2_values_constant_0_1.csv\", index_col = \"Unnamed: 0\")\n",
        "sensor2_data.head()"
      ],
      "execution_count": null,
      "outputs": [
        {
          "output_type": "execute_result",
          "data": {
            "text/plain": [
              "   InVehicle_Longitudinal_Speed  GPS_Speed  InVehicle_Longitudinal_Accel\n",
              "0                     11.375000  11.307097                     -0.103000\n",
              "1                     11.366708  11.255964                     -0.353946\n",
              "2                     11.362331  11.249115                     -0.090962\n",
              "3                     11.358665  11.263280                     -0.043470\n",
              "4                     11.356745  11.270361                     -0.037579"
            ],
            "text/html": [
              "\n",
              "  <div id=\"df-72354f2d-9035-49fe-b266-278a611ccfc5\">\n",
              "    <div class=\"colab-df-container\">\n",
              "      <div>\n",
              "<style scoped>\n",
              "    .dataframe tbody tr th:only-of-type {\n",
              "        vertical-align: middle;\n",
              "    }\n",
              "\n",
              "    .dataframe tbody tr th {\n",
              "        vertical-align: top;\n",
              "    }\n",
              "\n",
              "    .dataframe thead th {\n",
              "        text-align: right;\n",
              "    }\n",
              "</style>\n",
              "<table border=\"1\" class=\"dataframe\">\n",
              "  <thead>\n",
              "    <tr style=\"text-align: right;\">\n",
              "      <th></th>\n",
              "      <th>InVehicle_Longitudinal_Speed</th>\n",
              "      <th>GPS_Speed</th>\n",
              "      <th>InVehicle_Longitudinal_Accel</th>\n",
              "    </tr>\n",
              "  </thead>\n",
              "  <tbody>\n",
              "    <tr>\n",
              "      <th>0</th>\n",
              "      <td>11.375000</td>\n",
              "      <td>11.307097</td>\n",
              "      <td>-0.103000</td>\n",
              "    </tr>\n",
              "    <tr>\n",
              "      <th>1</th>\n",
              "      <td>11.366708</td>\n",
              "      <td>11.255964</td>\n",
              "      <td>-0.353946</td>\n",
              "    </tr>\n",
              "    <tr>\n",
              "      <th>2</th>\n",
              "      <td>11.362331</td>\n",
              "      <td>11.249115</td>\n",
              "      <td>-0.090962</td>\n",
              "    </tr>\n",
              "    <tr>\n",
              "      <th>3</th>\n",
              "      <td>11.358665</td>\n",
              "      <td>11.263280</td>\n",
              "      <td>-0.043470</td>\n",
              "    </tr>\n",
              "    <tr>\n",
              "      <th>4</th>\n",
              "      <td>11.356745</td>\n",
              "      <td>11.270361</td>\n",
              "      <td>-0.037579</td>\n",
              "    </tr>\n",
              "  </tbody>\n",
              "</table>\n",
              "</div>\n",
              "      <button class=\"colab-df-convert\" onclick=\"convertToInteractive('df-72354f2d-9035-49fe-b266-278a611ccfc5')\"\n",
              "              title=\"Convert this dataframe to an interactive table.\"\n",
              "              style=\"display:none;\">\n",
              "        \n",
              "  <svg xmlns=\"http://www.w3.org/2000/svg\" height=\"24px\"viewBox=\"0 0 24 24\"\n",
              "       width=\"24px\">\n",
              "    <path d=\"M0 0h24v24H0V0z\" fill=\"none\"/>\n",
              "    <path d=\"M18.56 5.44l.94 2.06.94-2.06 2.06-.94-2.06-.94-.94-2.06-.94 2.06-2.06.94zm-11 1L8.5 8.5l.94-2.06 2.06-.94-2.06-.94L8.5 2.5l-.94 2.06-2.06.94zm10 10l.94 2.06.94-2.06 2.06-.94-2.06-.94-.94-2.06-.94 2.06-2.06.94z\"/><path d=\"M17.41 7.96l-1.37-1.37c-.4-.4-.92-.59-1.43-.59-.52 0-1.04.2-1.43.59L10.3 9.45l-7.72 7.72c-.78.78-.78 2.05 0 2.83L4 21.41c.39.39.9.59 1.41.59.51 0 1.02-.2 1.41-.59l7.78-7.78 2.81-2.81c.8-.78.8-2.07 0-2.86zM5.41 20L4 18.59l7.72-7.72 1.47 1.35L5.41 20z\"/>\n",
              "  </svg>\n",
              "      </button>\n",
              "      \n",
              "  <style>\n",
              "    .colab-df-container {\n",
              "      display:flex;\n",
              "      flex-wrap:wrap;\n",
              "      gap: 12px;\n",
              "    }\n",
              "\n",
              "    .colab-df-convert {\n",
              "      background-color: #E8F0FE;\n",
              "      border: none;\n",
              "      border-radius: 50%;\n",
              "      cursor: pointer;\n",
              "      display: none;\n",
              "      fill: #1967D2;\n",
              "      height: 32px;\n",
              "      padding: 0 0 0 0;\n",
              "      width: 32px;\n",
              "    }\n",
              "\n",
              "    .colab-df-convert:hover {\n",
              "      background-color: #E2EBFA;\n",
              "      box-shadow: 0px 1px 2px rgba(60, 64, 67, 0.3), 0px 1px 3px 1px rgba(60, 64, 67, 0.15);\n",
              "      fill: #174EA6;\n",
              "    }\n",
              "\n",
              "    [theme=dark] .colab-df-convert {\n",
              "      background-color: #3B4455;\n",
              "      fill: #D2E3FC;\n",
              "    }\n",
              "\n",
              "    [theme=dark] .colab-df-convert:hover {\n",
              "      background-color: #434B5C;\n",
              "      box-shadow: 0px 1px 3px 1px rgba(0, 0, 0, 0.15);\n",
              "      filter: drop-shadow(0px 1px 2px rgba(0, 0, 0, 0.3));\n",
              "      fill: #FFFFFF;\n",
              "    }\n",
              "  </style>\n",
              "\n",
              "      <script>\n",
              "        const buttonEl =\n",
              "          document.querySelector('#df-72354f2d-9035-49fe-b266-278a611ccfc5 button.colab-df-convert');\n",
              "        buttonEl.style.display =\n",
              "          google.colab.kernel.accessAllowed ? 'block' : 'none';\n",
              "\n",
              "        async function convertToInteractive(key) {\n",
              "          const element = document.querySelector('#df-72354f2d-9035-49fe-b266-278a611ccfc5');\n",
              "          const dataTable =\n",
              "            await google.colab.kernel.invokeFunction('convertToInteractive',\n",
              "                                                     [key], {});\n",
              "          if (!dataTable) return;\n",
              "\n",
              "          const docLinkHtml = 'Like what you see? Visit the ' +\n",
              "            '<a target=\"_blank\" href=https://colab.research.google.com/notebooks/data_table.ipynb>data table notebook</a>'\n",
              "            + ' to learn more about interactive tables.';\n",
              "          element.innerHTML = '';\n",
              "          dataTable['output_type'] = 'display_data';\n",
              "          await google.colab.output.renderOutput(dataTable, element);\n",
              "          const docLink = document.createElement('div');\n",
              "          docLink.innerHTML = docLinkHtml;\n",
              "          element.appendChild(docLink);\n",
              "        }\n",
              "      </script>\n",
              "    </div>\n",
              "  </div>\n",
              "  "
            ]
          },
          "metadata": {},
          "execution_count": 13
        }
      ]
    },
    {
      "cell_type": "code",
      "metadata": {
        "id": "8PtBb1m00oRX",
        "colab": {
          "base_uri": "https://localhost:8080/",
          "height": 206
        },
        "outputId": "ac92aa06-a68e-4512-917d-2a9104b7bc44"
      },
      "source": [
        "sensor2_label = pd.read_csv(data_path + \"Ground_truth_constant_0_1_dur_10_sensor2.csv\",names=['Class'])\n",
        "sensor2_label.head()"
      ],
      "execution_count": null,
      "outputs": [
        {
          "output_type": "execute_result",
          "data": {
            "text/plain": [
              "   Class\n",
              "0    0.0\n",
              "1    0.0\n",
              "2    0.0\n",
              "3    0.0\n",
              "4    0.0"
            ],
            "text/html": [
              "\n",
              "  <div id=\"df-96483581-84aa-406e-aeb1-3831bd6fc2e8\">\n",
              "    <div class=\"colab-df-container\">\n",
              "      <div>\n",
              "<style scoped>\n",
              "    .dataframe tbody tr th:only-of-type {\n",
              "        vertical-align: middle;\n",
              "    }\n",
              "\n",
              "    .dataframe tbody tr th {\n",
              "        vertical-align: top;\n",
              "    }\n",
              "\n",
              "    .dataframe thead th {\n",
              "        text-align: right;\n",
              "    }\n",
              "</style>\n",
              "<table border=\"1\" class=\"dataframe\">\n",
              "  <thead>\n",
              "    <tr style=\"text-align: right;\">\n",
              "      <th></th>\n",
              "      <th>Class</th>\n",
              "    </tr>\n",
              "  </thead>\n",
              "  <tbody>\n",
              "    <tr>\n",
              "      <th>0</th>\n",
              "      <td>0.0</td>\n",
              "    </tr>\n",
              "    <tr>\n",
              "      <th>1</th>\n",
              "      <td>0.0</td>\n",
              "    </tr>\n",
              "    <tr>\n",
              "      <th>2</th>\n",
              "      <td>0.0</td>\n",
              "    </tr>\n",
              "    <tr>\n",
              "      <th>3</th>\n",
              "      <td>0.0</td>\n",
              "    </tr>\n",
              "    <tr>\n",
              "      <th>4</th>\n",
              "      <td>0.0</td>\n",
              "    </tr>\n",
              "  </tbody>\n",
              "</table>\n",
              "</div>\n",
              "      <button class=\"colab-df-convert\" onclick=\"convertToInteractive('df-96483581-84aa-406e-aeb1-3831bd6fc2e8')\"\n",
              "              title=\"Convert this dataframe to an interactive table.\"\n",
              "              style=\"display:none;\">\n",
              "        \n",
              "  <svg xmlns=\"http://www.w3.org/2000/svg\" height=\"24px\"viewBox=\"0 0 24 24\"\n",
              "       width=\"24px\">\n",
              "    <path d=\"M0 0h24v24H0V0z\" fill=\"none\"/>\n",
              "    <path d=\"M18.56 5.44l.94 2.06.94-2.06 2.06-.94-2.06-.94-.94-2.06-.94 2.06-2.06.94zm-11 1L8.5 8.5l.94-2.06 2.06-.94-2.06-.94L8.5 2.5l-.94 2.06-2.06.94zm10 10l.94 2.06.94-2.06 2.06-.94-2.06-.94-.94-2.06-.94 2.06-2.06.94z\"/><path d=\"M17.41 7.96l-1.37-1.37c-.4-.4-.92-.59-1.43-.59-.52 0-1.04.2-1.43.59L10.3 9.45l-7.72 7.72c-.78.78-.78 2.05 0 2.83L4 21.41c.39.39.9.59 1.41.59.51 0 1.02-.2 1.41-.59l7.78-7.78 2.81-2.81c.8-.78.8-2.07 0-2.86zM5.41 20L4 18.59l7.72-7.72 1.47 1.35L5.41 20z\"/>\n",
              "  </svg>\n",
              "      </button>\n",
              "      \n",
              "  <style>\n",
              "    .colab-df-container {\n",
              "      display:flex;\n",
              "      flex-wrap:wrap;\n",
              "      gap: 12px;\n",
              "    }\n",
              "\n",
              "    .colab-df-convert {\n",
              "      background-color: #E8F0FE;\n",
              "      border: none;\n",
              "      border-radius: 50%;\n",
              "      cursor: pointer;\n",
              "      display: none;\n",
              "      fill: #1967D2;\n",
              "      height: 32px;\n",
              "      padding: 0 0 0 0;\n",
              "      width: 32px;\n",
              "    }\n",
              "\n",
              "    .colab-df-convert:hover {\n",
              "      background-color: #E2EBFA;\n",
              "      box-shadow: 0px 1px 2px rgba(60, 64, 67, 0.3), 0px 1px 3px 1px rgba(60, 64, 67, 0.15);\n",
              "      fill: #174EA6;\n",
              "    }\n",
              "\n",
              "    [theme=dark] .colab-df-convert {\n",
              "      background-color: #3B4455;\n",
              "      fill: #D2E3FC;\n",
              "    }\n",
              "\n",
              "    [theme=dark] .colab-df-convert:hover {\n",
              "      background-color: #434B5C;\n",
              "      box-shadow: 0px 1px 3px 1px rgba(0, 0, 0, 0.15);\n",
              "      filter: drop-shadow(0px 1px 2px rgba(0, 0, 0, 0.3));\n",
              "      fill: #FFFFFF;\n",
              "    }\n",
              "  </style>\n",
              "\n",
              "      <script>\n",
              "        const buttonEl =\n",
              "          document.querySelector('#df-96483581-84aa-406e-aeb1-3831bd6fc2e8 button.colab-df-convert');\n",
              "        buttonEl.style.display =\n",
              "          google.colab.kernel.accessAllowed ? 'block' : 'none';\n",
              "\n",
              "        async function convertToInteractive(key) {\n",
              "          const element = document.querySelector('#df-96483581-84aa-406e-aeb1-3831bd6fc2e8');\n",
              "          const dataTable =\n",
              "            await google.colab.kernel.invokeFunction('convertToInteractive',\n",
              "                                                     [key], {});\n",
              "          if (!dataTable) return;\n",
              "\n",
              "          const docLinkHtml = 'Like what you see? Visit the ' +\n",
              "            '<a target=\"_blank\" href=https://colab.research.google.com/notebooks/data_table.ipynb>data table notebook</a>'\n",
              "            + ' to learn more about interactive tables.';\n",
              "          element.innerHTML = '';\n",
              "          dataTable['output_type'] = 'display_data';\n",
              "          await google.colab.output.renderOutput(dataTable, element);\n",
              "          const docLink = document.createElement('div');\n",
              "          docLink.innerHTML = docLinkHtml;\n",
              "          element.appendChild(docLink);\n",
              "        }\n",
              "      </script>\n",
              "    </div>\n",
              "  </div>\n",
              "  "
            ]
          },
          "metadata": {},
          "execution_count": 14
        }
      ]
    },
    {
      "cell_type": "code",
      "metadata": {
        "id": "mCLgKYTJ0f7t",
        "colab": {
          "base_uri": "https://localhost:8080/",
          "height": 206
        },
        "outputId": "4c5c1210-90c2-4b75-e412-c45adcb0b752"
      },
      "source": [
        "sensor3_data = pd.read_csv(data_path + \"Sensor3_values_constant_0_1.csv\", index_col = \"Unnamed: 0\")\n",
        "sensor3_data.head()"
      ],
      "execution_count": null,
      "outputs": [
        {
          "output_type": "execute_result",
          "data": {
            "text/plain": [
              "   InVehicle_Longitudinal_Speed  GPS_Speed  InVehicle_Longitudinal_Accel\n",
              "0                     11.375000  11.307097                     -0.103000\n",
              "1                     11.366708  11.255964                     -0.353946\n",
              "2                     11.362331  11.249115                     -0.090962\n",
              "3                     11.358665  11.263280                     -0.043470\n",
              "4                     11.356745  11.270361                     -0.037579"
            ],
            "text/html": [
              "\n",
              "  <div id=\"df-8e3e8d11-8cc6-465f-a143-f46d5457659c\">\n",
              "    <div class=\"colab-df-container\">\n",
              "      <div>\n",
              "<style scoped>\n",
              "    .dataframe tbody tr th:only-of-type {\n",
              "        vertical-align: middle;\n",
              "    }\n",
              "\n",
              "    .dataframe tbody tr th {\n",
              "        vertical-align: top;\n",
              "    }\n",
              "\n",
              "    .dataframe thead th {\n",
              "        text-align: right;\n",
              "    }\n",
              "</style>\n",
              "<table border=\"1\" class=\"dataframe\">\n",
              "  <thead>\n",
              "    <tr style=\"text-align: right;\">\n",
              "      <th></th>\n",
              "      <th>InVehicle_Longitudinal_Speed</th>\n",
              "      <th>GPS_Speed</th>\n",
              "      <th>InVehicle_Longitudinal_Accel</th>\n",
              "    </tr>\n",
              "  </thead>\n",
              "  <tbody>\n",
              "    <tr>\n",
              "      <th>0</th>\n",
              "      <td>11.375000</td>\n",
              "      <td>11.307097</td>\n",
              "      <td>-0.103000</td>\n",
              "    </tr>\n",
              "    <tr>\n",
              "      <th>1</th>\n",
              "      <td>11.366708</td>\n",
              "      <td>11.255964</td>\n",
              "      <td>-0.353946</td>\n",
              "    </tr>\n",
              "    <tr>\n",
              "      <th>2</th>\n",
              "      <td>11.362331</td>\n",
              "      <td>11.249115</td>\n",
              "      <td>-0.090962</td>\n",
              "    </tr>\n",
              "    <tr>\n",
              "      <th>3</th>\n",
              "      <td>11.358665</td>\n",
              "      <td>11.263280</td>\n",
              "      <td>-0.043470</td>\n",
              "    </tr>\n",
              "    <tr>\n",
              "      <th>4</th>\n",
              "      <td>11.356745</td>\n",
              "      <td>11.270361</td>\n",
              "      <td>-0.037579</td>\n",
              "    </tr>\n",
              "  </tbody>\n",
              "</table>\n",
              "</div>\n",
              "      <button class=\"colab-df-convert\" onclick=\"convertToInteractive('df-8e3e8d11-8cc6-465f-a143-f46d5457659c')\"\n",
              "              title=\"Convert this dataframe to an interactive table.\"\n",
              "              style=\"display:none;\">\n",
              "        \n",
              "  <svg xmlns=\"http://www.w3.org/2000/svg\" height=\"24px\"viewBox=\"0 0 24 24\"\n",
              "       width=\"24px\">\n",
              "    <path d=\"M0 0h24v24H0V0z\" fill=\"none\"/>\n",
              "    <path d=\"M18.56 5.44l.94 2.06.94-2.06 2.06-.94-2.06-.94-.94-2.06-.94 2.06-2.06.94zm-11 1L8.5 8.5l.94-2.06 2.06-.94-2.06-.94L8.5 2.5l-.94 2.06-2.06.94zm10 10l.94 2.06.94-2.06 2.06-.94-2.06-.94-.94-2.06-.94 2.06-2.06.94z\"/><path d=\"M17.41 7.96l-1.37-1.37c-.4-.4-.92-.59-1.43-.59-.52 0-1.04.2-1.43.59L10.3 9.45l-7.72 7.72c-.78.78-.78 2.05 0 2.83L4 21.41c.39.39.9.59 1.41.59.51 0 1.02-.2 1.41-.59l7.78-7.78 2.81-2.81c.8-.78.8-2.07 0-2.86zM5.41 20L4 18.59l7.72-7.72 1.47 1.35L5.41 20z\"/>\n",
              "  </svg>\n",
              "      </button>\n",
              "      \n",
              "  <style>\n",
              "    .colab-df-container {\n",
              "      display:flex;\n",
              "      flex-wrap:wrap;\n",
              "      gap: 12px;\n",
              "    }\n",
              "\n",
              "    .colab-df-convert {\n",
              "      background-color: #E8F0FE;\n",
              "      border: none;\n",
              "      border-radius: 50%;\n",
              "      cursor: pointer;\n",
              "      display: none;\n",
              "      fill: #1967D2;\n",
              "      height: 32px;\n",
              "      padding: 0 0 0 0;\n",
              "      width: 32px;\n",
              "    }\n",
              "\n",
              "    .colab-df-convert:hover {\n",
              "      background-color: #E2EBFA;\n",
              "      box-shadow: 0px 1px 2px rgba(60, 64, 67, 0.3), 0px 1px 3px 1px rgba(60, 64, 67, 0.15);\n",
              "      fill: #174EA6;\n",
              "    }\n",
              "\n",
              "    [theme=dark] .colab-df-convert {\n",
              "      background-color: #3B4455;\n",
              "      fill: #D2E3FC;\n",
              "    }\n",
              "\n",
              "    [theme=dark] .colab-df-convert:hover {\n",
              "      background-color: #434B5C;\n",
              "      box-shadow: 0px 1px 3px 1px rgba(0, 0, 0, 0.15);\n",
              "      filter: drop-shadow(0px 1px 2px rgba(0, 0, 0, 0.3));\n",
              "      fill: #FFFFFF;\n",
              "    }\n",
              "  </style>\n",
              "\n",
              "      <script>\n",
              "        const buttonEl =\n",
              "          document.querySelector('#df-8e3e8d11-8cc6-465f-a143-f46d5457659c button.colab-df-convert');\n",
              "        buttonEl.style.display =\n",
              "          google.colab.kernel.accessAllowed ? 'block' : 'none';\n",
              "\n",
              "        async function convertToInteractive(key) {\n",
              "          const element = document.querySelector('#df-8e3e8d11-8cc6-465f-a143-f46d5457659c');\n",
              "          const dataTable =\n",
              "            await google.colab.kernel.invokeFunction('convertToInteractive',\n",
              "                                                     [key], {});\n",
              "          if (!dataTable) return;\n",
              "\n",
              "          const docLinkHtml = 'Like what you see? Visit the ' +\n",
              "            '<a target=\"_blank\" href=https://colab.research.google.com/notebooks/data_table.ipynb>data table notebook</a>'\n",
              "            + ' to learn more about interactive tables.';\n",
              "          element.innerHTML = '';\n",
              "          dataTable['output_type'] = 'display_data';\n",
              "          await google.colab.output.renderOutput(dataTable, element);\n",
              "          const docLink = document.createElement('div');\n",
              "          docLink.innerHTML = docLinkHtml;\n",
              "          element.appendChild(docLink);\n",
              "        }\n",
              "      </script>\n",
              "    </div>\n",
              "  </div>\n",
              "  "
            ]
          },
          "metadata": {},
          "execution_count": 15
        }
      ]
    },
    {
      "cell_type": "code",
      "metadata": {
        "id": "7bkpmS8x0lfa",
        "colab": {
          "base_uri": "https://localhost:8080/",
          "height": 206
        },
        "outputId": "016661e1-8ed5-41c9-fffb-50c2b8e3ef00"
      },
      "source": [
        "sensor3_label = pd.read_csv(data_path + \"Ground_truth_constant_0_1_dur_10_sensor3.csv\", names=['Class'])\n",
        "sensor3_label.head()"
      ],
      "execution_count": null,
      "outputs": [
        {
          "output_type": "execute_result",
          "data": {
            "text/plain": [
              "   Class\n",
              "0    0.0\n",
              "1    0.0\n",
              "2    0.0\n",
              "3    0.0\n",
              "4    0.0"
            ],
            "text/html": [
              "\n",
              "  <div id=\"df-79ac7c8f-7395-4571-9f30-12d605b25cc2\">\n",
              "    <div class=\"colab-df-container\">\n",
              "      <div>\n",
              "<style scoped>\n",
              "    .dataframe tbody tr th:only-of-type {\n",
              "        vertical-align: middle;\n",
              "    }\n",
              "\n",
              "    .dataframe tbody tr th {\n",
              "        vertical-align: top;\n",
              "    }\n",
              "\n",
              "    .dataframe thead th {\n",
              "        text-align: right;\n",
              "    }\n",
              "</style>\n",
              "<table border=\"1\" class=\"dataframe\">\n",
              "  <thead>\n",
              "    <tr style=\"text-align: right;\">\n",
              "      <th></th>\n",
              "      <th>Class</th>\n",
              "    </tr>\n",
              "  </thead>\n",
              "  <tbody>\n",
              "    <tr>\n",
              "      <th>0</th>\n",
              "      <td>0.0</td>\n",
              "    </tr>\n",
              "    <tr>\n",
              "      <th>1</th>\n",
              "      <td>0.0</td>\n",
              "    </tr>\n",
              "    <tr>\n",
              "      <th>2</th>\n",
              "      <td>0.0</td>\n",
              "    </tr>\n",
              "    <tr>\n",
              "      <th>3</th>\n",
              "      <td>0.0</td>\n",
              "    </tr>\n",
              "    <tr>\n",
              "      <th>4</th>\n",
              "      <td>0.0</td>\n",
              "    </tr>\n",
              "  </tbody>\n",
              "</table>\n",
              "</div>\n",
              "      <button class=\"colab-df-convert\" onclick=\"convertToInteractive('df-79ac7c8f-7395-4571-9f30-12d605b25cc2')\"\n",
              "              title=\"Convert this dataframe to an interactive table.\"\n",
              "              style=\"display:none;\">\n",
              "        \n",
              "  <svg xmlns=\"http://www.w3.org/2000/svg\" height=\"24px\"viewBox=\"0 0 24 24\"\n",
              "       width=\"24px\">\n",
              "    <path d=\"M0 0h24v24H0V0z\" fill=\"none\"/>\n",
              "    <path d=\"M18.56 5.44l.94 2.06.94-2.06 2.06-.94-2.06-.94-.94-2.06-.94 2.06-2.06.94zm-11 1L8.5 8.5l.94-2.06 2.06-.94-2.06-.94L8.5 2.5l-.94 2.06-2.06.94zm10 10l.94 2.06.94-2.06 2.06-.94-2.06-.94-.94-2.06-.94 2.06-2.06.94z\"/><path d=\"M17.41 7.96l-1.37-1.37c-.4-.4-.92-.59-1.43-.59-.52 0-1.04.2-1.43.59L10.3 9.45l-7.72 7.72c-.78.78-.78 2.05 0 2.83L4 21.41c.39.39.9.59 1.41.59.51 0 1.02-.2 1.41-.59l7.78-7.78 2.81-2.81c.8-.78.8-2.07 0-2.86zM5.41 20L4 18.59l7.72-7.72 1.47 1.35L5.41 20z\"/>\n",
              "  </svg>\n",
              "      </button>\n",
              "      \n",
              "  <style>\n",
              "    .colab-df-container {\n",
              "      display:flex;\n",
              "      flex-wrap:wrap;\n",
              "      gap: 12px;\n",
              "    }\n",
              "\n",
              "    .colab-df-convert {\n",
              "      background-color: #E8F0FE;\n",
              "      border: none;\n",
              "      border-radius: 50%;\n",
              "      cursor: pointer;\n",
              "      display: none;\n",
              "      fill: #1967D2;\n",
              "      height: 32px;\n",
              "      padding: 0 0 0 0;\n",
              "      width: 32px;\n",
              "    }\n",
              "\n",
              "    .colab-df-convert:hover {\n",
              "      background-color: #E2EBFA;\n",
              "      box-shadow: 0px 1px 2px rgba(60, 64, 67, 0.3), 0px 1px 3px 1px rgba(60, 64, 67, 0.15);\n",
              "      fill: #174EA6;\n",
              "    }\n",
              "\n",
              "    [theme=dark] .colab-df-convert {\n",
              "      background-color: #3B4455;\n",
              "      fill: #D2E3FC;\n",
              "    }\n",
              "\n",
              "    [theme=dark] .colab-df-convert:hover {\n",
              "      background-color: #434B5C;\n",
              "      box-shadow: 0px 1px 3px 1px rgba(0, 0, 0, 0.15);\n",
              "      filter: drop-shadow(0px 1px 2px rgba(0, 0, 0, 0.3));\n",
              "      fill: #FFFFFF;\n",
              "    }\n",
              "  </style>\n",
              "\n",
              "      <script>\n",
              "        const buttonEl =\n",
              "          document.querySelector('#df-79ac7c8f-7395-4571-9f30-12d605b25cc2 button.colab-df-convert');\n",
              "        buttonEl.style.display =\n",
              "          google.colab.kernel.accessAllowed ? 'block' : 'none';\n",
              "\n",
              "        async function convertToInteractive(key) {\n",
              "          const element = document.querySelector('#df-79ac7c8f-7395-4571-9f30-12d605b25cc2');\n",
              "          const dataTable =\n",
              "            await google.colab.kernel.invokeFunction('convertToInteractive',\n",
              "                                                     [key], {});\n",
              "          if (!dataTable) return;\n",
              "\n",
              "          const docLinkHtml = 'Like what you see? Visit the ' +\n",
              "            '<a target=\"_blank\" href=https://colab.research.google.com/notebooks/data_table.ipynb>data table notebook</a>'\n",
              "            + ' to learn more about interactive tables.';\n",
              "          element.innerHTML = '';\n",
              "          dataTable['output_type'] = 'display_data';\n",
              "          await google.colab.output.renderOutput(dataTable, element);\n",
              "          const docLink = document.createElement('div');\n",
              "          docLink.innerHTML = docLinkHtml;\n",
              "          element.appendChild(docLink);\n",
              "        }\n",
              "      </script>\n",
              "    </div>\n",
              "  </div>\n",
              "  "
            ]
          },
          "metadata": {},
          "execution_count": 16
        }
      ]
    },
    {
      "cell_type": "code",
      "source": [
        "sensor1_data['minus_speed'] = sensor1_data['InVehicle_Longitudinal_Speed']-sensor1_data['InVehicle_Longitudinal_Speed'].shift(1)\n",
        "sensor1_data['minus_acc'] = sensor1_data['InVehicle_Longitudinal_Accel']-sensor1_data['InVehicle_Longitudinal_Accel'].shift(1)\n",
        "sensor1_data['minus_Gps'] = sensor1_data['GPS_Speed']-sensor1_data['GPS_Speed'].shift(1)\n"
      ],
      "metadata": {
        "id": "jgPqNyqIOx0D"
      },
      "execution_count": null,
      "outputs": []
    },
    {
      "cell_type": "code",
      "source": [
        "sensor2_data['minus_speed'] = sensor2_data['InVehicle_Longitudinal_Speed']-sensor2_data['InVehicle_Longitudinal_Speed'].shift(1)\n",
        "sensor2_data['minus_acc'] = sensor2_data['InVehicle_Longitudinal_Accel']-sensor2_data['InVehicle_Longitudinal_Accel'].shift(1)\n",
        "sensor2_data['minus_Gps'] = sensor2_data['GPS_Speed']-sensor2_data['GPS_Speed'].shift(1)\n"
      ],
      "metadata": {
        "id": "UP2of3XAOx64"
      },
      "execution_count": null,
      "outputs": []
    },
    {
      "cell_type": "code",
      "source": [
        "sensor3_data['minus_speed'] = sensor3_data['InVehicle_Longitudinal_Speed']-sensor3_data['InVehicle_Longitudinal_Speed'].shift(1)\n",
        "sensor3_data['minus_acc'] = sensor3_data['InVehicle_Longitudinal_Accel']-sensor3_data['InVehicle_Longitudinal_Accel'].shift(1)\n",
        "sensor3_data['minus_Gps'] = sensor3_data['GPS_Speed']-sensor3_data['GPS_Speed'].shift(1)\n"
      ],
      "metadata": {
        "id": "shrymIlCOyAz"
      },
      "execution_count": null,
      "outputs": []
    },
    {
      "cell_type": "code",
      "source": [
        "sensor1_data.dropna(inplace= True)\n",
        "sensor2_data.dropna(inplace= True)\n",
        "sensor3_data.dropna(inplace= True)\n"
      ],
      "metadata": {
        "id": "_atMoIctOyCA"
      },
      "execution_count": null,
      "outputs": []
    },
    {
      "cell_type": "code",
      "source": [
        "sensor1_data[['InVehicle_Longitudinal_Speed','minus_speed']].plot(subplots=True)"
      ],
      "metadata": {
        "id": "4RluXcvrOyG4",
        "colab": {
          "base_uri": "https://localhost:8080/",
          "height": 317
        },
        "outputId": "a2755265-6dbb-4bf3-a670-fc41844b1467"
      },
      "execution_count": null,
      "outputs": [
        {
          "output_type": "execute_result",
          "data": {
            "text/plain": [
              "array([<matplotlib.axes._subplots.AxesSubplot object at 0x7fa6e1361ac0>,\n",
              "       <matplotlib.axes._subplots.AxesSubplot object at 0x7fa6e1340f10>],\n",
              "      dtype=object)"
            ]
          },
          "metadata": {},
          "execution_count": 21
        },
        {
          "output_type": "display_data",
          "data": {
            "text/plain": [
              "<Figure size 432x288 with 2 Axes>"
            ],
            "image/png": "[encoded data removed]"
          },
          "metadata": {
            "needs_background": "light"
          }
        }
      ]
    },
    {
      "cell_type": "code",
      "source": [
        "sensor1_data[['GPS_Speed','minus_Gps']].plot(subplots=True)"
      ],
      "metadata": {
        "id": "WUBnhSDIOyIJ",
        "colab": {
          "base_uri": "https://localhost:8080/",
          "height": 317
        },
        "outputId": "f435ee29-b1f4-4831-d1cc-c54200a64336"
      },
      "execution_count": null,
      "outputs": [
        {
          "output_type": "execute_result",
          "data": {
            "text/plain": [
              "array([<matplotlib.axes._subplots.AxesSubplot object at 0x7fa6e0dd8eb0>,\n",
              "       <matplotlib.axes._subplots.AxesSubplot object at 0x7fa6e0e06490>],\n",
              "      dtype=object)"
            ]
          },
          "metadata": {},
          "execution_count": 22
        },
        {
          "output_type": "display_data",
          "data": {
            "text/plain": [
              "<Figure size 432x288 with 2 Axes>"
            ],
            "image/png": "[encoded data removed]"
          },
          "metadata": {
            "needs_background": "light"
          }
        }
      ]
    },
    {
      "cell_type": "code",
      "source": [
        "sensor1_data[['InVehicle_Longitudinal_Accel','minus_acc']].plot(subplots=True)"
      ],
      "metadata": {
        "id": "DzDae9CAOyMA",
        "colab": {
          "base_uri": "https://localhost:8080/",
          "height": 317
        },
        "outputId": "4368b624-9509-411d-a611-0bdb88838678"
      },
      "execution_count": null,
      "outputs": [
        {
          "output_type": "execute_result",
          "data": {
            "text/plain": [
              "array([<matplotlib.axes._subplots.AxesSubplot object at 0x7fa6e0de06a0>,\n",
              "       <matplotlib.axes._subplots.AxesSubplot object at 0x7fa6e0d3b610>],\n",
              "      dtype=object)"
            ]
          },
          "metadata": {},
          "execution_count": 23
        },
        {
          "output_type": "display_data",
          "data": {
            "text/plain": [
              "<Figure size 432x288 with 2 Axes>"
            ],
            "image/png": "[encoded data removed]"
          },
          "metadata": {
            "needs_background": "light"
          }
        }
      ]
    },
    {
      "cell_type": "code",
      "source": [
        "stationary_speed = adfuller(sensor1_data['minus_speed'].dropna())\n",
        "stationary_gps = adfuller(sensor1_data['minus_Gps'].dropna())\n",
        "stationary_acc = adfuller(sensor1_data['minus_acc'].dropna())\n",
        "print(\"stationary_speed : {}\\nstationary_gps :{}\\nstationary_acc :{}\\n\".format(stationary_speed[1],stationary_gps[1], stationary_acc[1]))"
      ],
      "metadata": {
        "id": "rSpjcqzxPDVr",
        "colab": {
          "base_uri": "https://localhost:8080/"
        },
        "outputId": "aa62e83e-61a7-4ab9-a167-80e9433c26bf"
      },
      "execution_count": null,
      "outputs": [
        {
          "output_type": "stream",
          "name": "stdout",
          "text": [
            "stationary_speed : 2.4098539038035627e-30\n",
            "stationary_gps :1.8480210233293567e-28\n",
            "stationary_acc :0.0\n",
            "\n"
          ]
        }
      ]
    },
    {
      "cell_type": "code",
      "source": [
        "sensor2_data[['InVehicle_Longitudinal_Speed','minus_speed']].plot(subplots=True)"
      ],
      "metadata": {
        "id": "IKjXGlAAPDjY",
        "colab": {
          "base_uri": "https://localhost:8080/",
          "height": 317
        },
        "outputId": "45b012ca-8a39-4601-8639-1f184548ff0f"
      },
      "execution_count": null,
      "outputs": [
        {
          "output_type": "execute_result",
          "data": {
            "text/plain": [
              "array([<matplotlib.axes._subplots.AxesSubplot object at 0x7fa7c0b6c760>,\n",
              "       <matplotlib.axes._subplots.AxesSubplot object at 0x7fa6e0c8e790>],\n",
              "      dtype=object)"
            ]
          },
          "metadata": {},
          "execution_count": 25
        },
        {
          "output_type": "display_data",
          "data": {
            "text/plain": [
              "<Figure size 432x288 with 2 Axes>"
            ],
            "image/png": "[encoded data removed]"
          },
          "metadata": {
            "needs_background": "light"
          }
        }
      ]
    },
    {
      "cell_type": "code",
      "source": [
        "sensor2_data[['GPS_Speed','minus_Gps']].plot(subplots=True)"
      ],
      "metadata": {
        "id": "4Bf0acuePD0t",
        "colab": {
          "base_uri": "https://localhost:8080/",
          "height": 317
        },
        "outputId": "b0c800bd-bfe3-438c-df22-7f487b4dafff"
      },
      "execution_count": null,
      "outputs": [
        {
          "output_type": "execute_result",
          "data": {
            "text/plain": [
              "array([<matplotlib.axes._subplots.AxesSubplot object at 0x7fa6e0d5bd00>,\n",
              "       <matplotlib.axes._subplots.AxesSubplot object at 0x7fa6de3b0e50>],\n",
              "      dtype=object)"
            ]
          },
          "metadata": {},
          "execution_count": 26
        },
        {
          "output_type": "display_data",
          "data": {
            "text/plain": [
              "<Figure size 432x288 with 2 Axes>"
            ],
            "image/png": "[encoded data removed]"
          },
          "metadata": {
            "needs_background": "light"
          }
        }
      ]
    },
    {
      "cell_type": "code",
      "source": [
        "sensor2_data[['InVehicle_Longitudinal_Accel','minus_acc']].plot(subplots=True)"
      ],
      "metadata": {
        "id": "Eocj1ZaqPEB5",
        "colab": {
          "base_uri": "https://localhost:8080/",
          "height": 317
        },
        "outputId": "2bc26f09-13a3-4959-8cb2-67a0dd8aa012"
      },
      "execution_count": null,
      "outputs": [
        {
          "output_type": "execute_result",
          "data": {
            "text/plain": [
              "array([<matplotlib.axes._subplots.AxesSubplot object at 0x7fa6de335eb0>,\n",
              "       <matplotlib.axes._subplots.AxesSubplot object at 0x7fa6de2df880>],\n",
              "      dtype=object)"
            ]
          },
          "metadata": {},
          "execution_count": 27
        },
        {
          "output_type": "display_data",
          "data": {
            "text/plain": [
              "<Figure size 432x288 with 2 Axes>"
            ],
            "image/png": "[encoded data removed]"
          },
          "metadata": {
            "needs_background": "light"
          }
        }
      ]
    },
    {
      "cell_type": "code",
      "source": [
        "stationary_speed = adfuller(sensor2_data['minus_speed'].dropna())\n",
        "stationary_gps = adfuller(sensor2_data['minus_Gps'].dropna())\n",
        "stationary_acc = adfuller(sensor2_data['minus_acc'].dropna())\n",
        "print(\"stationary_speed : {}\\nstationary_gps :{}\\nstationary_acc :{}\\n\".format(stationary_speed[1],stationary_gps[1], stationary_acc[1]))"
      ],
      "metadata": {
        "id": "daP4qzX2PXPj",
        "colab": {
          "base_uri": "https://localhost:8080/"
        },
        "outputId": "4f7b0b2a-c6b6-45f2-92ad-2efd0d2c3626"
      },
      "execution_count": null,
      "outputs": [
        {
          "output_type": "stream",
          "name": "stdout",
          "text": [
            "stationary_speed : 2.4098539038035627e-30\n",
            "stationary_gps :1.8480210233293567e-28\n",
            "stationary_acc :0.0\n",
            "\n"
          ]
        }
      ]
    },
    {
      "cell_type": "code",
      "source": [
        "sensor3_data[['InVehicle_Longitudinal_Speed','minus_speed']].plot(subplots=True)"
      ],
      "metadata": {
        "id": "KaS9xVcdPXws",
        "colab": {
          "base_uri": "https://localhost:8080/",
          "height": 317
        },
        "outputId": "40fdf717-374b-44a0-b3f8-186e759c97a9"
      },
      "execution_count": null,
      "outputs": [
        {
          "output_type": "execute_result",
          "data": {
            "text/plain": [
              "array([<matplotlib.axes._subplots.AxesSubplot object at 0x7fa6de273100>,\n",
              "       <matplotlib.axes._subplots.AxesSubplot object at 0x7fa6de28eac0>],\n",
              "      dtype=object)"
            ]
          },
          "metadata": {},
          "execution_count": 29
        },
        {
          "output_type": "display_data",
          "data": {
            "text/plain": [
              "<Figure size 432x288 with 2 Axes>"
            ],
            "image/png": "[encoded data removed]"
          },
          "metadata": {
            "needs_background": "light"
          }
        }
      ]
    },
    {
      "cell_type": "code",
      "source": [
        "sensor3_data[['GPS_Speed','minus_Gps']].plot(subplots=True)"
      ],
      "metadata": {
        "id": "VTKwTKylPeWO",
        "colab": {
          "base_uri": "https://localhost:8080/",
          "height": 317
        },
        "outputId": "af002e80-6592-4f50-b759-d61d909b77fa"
      },
      "execution_count": null,
      "outputs": [
        {
          "output_type": "execute_result",
          "data": {
            "text/plain": [
              "array([<matplotlib.axes._subplots.AxesSubplot object at 0x7fa6de273a60>,\n",
              "       <matplotlib.axes._subplots.AxesSubplot object at 0x7fa6de19ccd0>],\n",
              "      dtype=object)"
            ]
          },
          "metadata": {},
          "execution_count": 30
        },
        {
          "output_type": "display_data",
          "data": {
            "text/plain": [
              "<Figure size 432x288 with 2 Axes>"
            ],
            "image/png": "[encoded data removed]"
          },
          "metadata": {
            "needs_background": "light"
          }
        }
      ]
    },
    {
      "cell_type": "code",
      "source": [
        "sensor3_data[['InVehicle_Longitudinal_Accel','minus_acc']].plot(subplots=True)"
      ],
      "metadata": {
        "id": "fbUQJetSPec8",
        "colab": {
          "base_uri": "https://localhost:8080/",
          "height": 317
        },
        "outputId": "fcae8e63-2d7d-4439-fbbf-61b40e228882"
      },
      "execution_count": null,
      "outputs": [
        {
          "output_type": "execute_result",
          "data": {
            "text/plain": [
              "array([<matplotlib.axes._subplots.AxesSubplot object at 0x7fa6de186cd0>,\n",
              "       <matplotlib.axes._subplots.AxesSubplot object at 0x7fa6de1424c0>],\n",
              "      dtype=object)"
            ]
          },
          "metadata": {},
          "execution_count": 31
        },
        {
          "output_type": "display_data",
          "data": {
            "text/plain": [
              "<Figure size 432x288 with 2 Axes>"
            ],
            "image/png": "[encoded data removed]"
          },
          "metadata": {
            "needs_background": "light"
          }
        }
      ]
    },
    {
      "cell_type": "code",
      "source": [
        "stationary_speed = adfuller(sensor3_data['minus_speed'].dropna())\n",
        "stationary_gps = adfuller(sensor3_data['minus_Gps'].dropna())\n",
        "stationary_acc = adfuller(sensor3_data['minus_acc'].dropna())\n",
        "print(\"stationary_speed : {}\\nstationary_gps :{}\\nstationary_acc :{}\\n\".format(stationary_speed[1],stationary_gps[1], stationary_acc[1]))"
      ],
      "metadata": {
        "id": "qUUx_ynFPex9",
        "colab": {
          "base_uri": "https://localhost:8080/"
        },
        "outputId": "6dc7524f-b505-4b36-ac34-561b5732b54e"
      },
      "execution_count": null,
      "outputs": [
        {
          "output_type": "stream",
          "name": "stdout",
          "text": [
            "stationary_speed : 2.4098539038035627e-30\n",
            "stationary_gps :1.8480210233293567e-28\n",
            "stationary_acc :0.0\n",
            "\n"
          ]
        }
      ]
    },
    {
      "cell_type": "code",
      "metadata": {
        "id": "VaUYxUSMvH14",
        "colab": {
          "base_uri": "https://localhost:8080/"
        },
        "outputId": "1ac74e09-3eb6-4b01-af3d-4db0cd32ce71"
      },
      "source": [
        "scaler  = StandardScaler()\n",
        "scaler.fit(sensor1_data[['minus_speed','minus_Gps','minus_acc']])\n",
        "sensor1_data_normal = scaler.transform(sensor1_data[['minus_speed','minus_Gps','minus_acc']]) \n",
        "sensor1_data_normal[:5]"
      ],
      "execution_count": null,
      "outputs": [
        {
          "output_type": "execute_result",
          "data": {
            "text/plain": [
              "array([[-0.05070828, -0.32305109, -1.58644656],\n",
              "       [-0.02786589, -0.04536014,  1.66249181],\n",
              "       [-0.02371787,  0.08640399,  0.30020362],\n",
              "       [-0.01352507,  0.04198683,  0.03721539],\n",
              "       [-0.00924143, -0.09532848, -0.01366623]])"
            ]
          },
          "metadata": {},
          "execution_count": 33
        }
      ]
    },
    {
      "cell_type": "code",
      "metadata": {
        "id": "DssP_ns3oPeE",
        "colab": {
          "base_uri": "https://localhost:8080/"
        },
        "outputId": "3f764801-0649-4349-f253-60d8ff84186c"
      },
      "source": [
        "scaler  = StandardScaler()\n",
        "scaler.fit(sensor2_data[['minus_speed','minus_Gps','minus_acc']])\n",
        "sensor2_data_normal = scaler.transform(sensor2_data[['minus_speed','minus_Gps','minus_acc']]) \n",
        "sensor2_data_normal[:5]"
      ],
      "execution_count": null,
      "outputs": [
        {
          "output_type": "execute_result",
          "data": {
            "text/plain": [
              "array([[-0.05070828, -0.32305109, -1.58644656],\n",
              "       [-0.02786589, -0.04536014,  1.66249181],\n",
              "       [-0.02371787,  0.08640399,  0.30020362],\n",
              "       [-0.01352507,  0.04198683,  0.03721539],\n",
              "       [-0.00924143, -0.09532848, -0.01366623]])"
            ]
          },
          "metadata": {},
          "execution_count": 34
        }
      ]
    },
    {
      "cell_type": "code",
      "metadata": {
        "id": "ShuycYtJoPQ2",
        "colab": {
          "base_uri": "https://localhost:8080/"
        },
        "outputId": "ad48ec55-4eb5-4ff4-f57f-d8939acabe10"
      },
      "source": [
        "scaler  = StandardScaler()\n",
        "scaler.fit(sensor3_data[['minus_speed','minus_Gps','minus_acc']])\n",
        "sensor3_data_normal = scaler.transform(sensor3_data[['minus_speed','minus_Gps','minus_acc']]) \n",
        "sensor3_data_normal[:5]"
      ],
      "execution_count": null,
      "outputs": [
        {
          "output_type": "execute_result",
          "data": {
            "text/plain": [
              "array([[-0.05070828, -0.32305109, -1.58644656],\n",
              "       [-0.02786589, -0.04536014,  1.66249181],\n",
              "       [-0.02371787,  0.08640399,  0.30020362],\n",
              "       [-0.01352507,  0.04198683,  0.03721539],\n",
              "       [-0.00924143, -0.09532848, -0.01366623]])"
            ]
          },
          "metadata": {},
          "execution_count": 35
        }
      ]
    },
    {
      "cell_type": "code",
      "metadata": {
        "id": "NPEKmySy2O0W"
      },
      "source": [
        "window_size = 10\n",
        "\n",
        "# create windows with overlap\n",
        "def convertToFrames(X_data,y_data, step):\n",
        "    X, Y =[], []    \n",
        "    for i in range(len(X_data)-step):\n",
        "        y_or = 0\n",
        "        d=i+step  \n",
        "        X.append(X_data[i:d,])\n",
        "        for y in y_data.iloc[i:d].values:\n",
        "           y_or = y_or or y\n",
        "        \n",
        "        Y.append(y_or)\n",
        "    return np.array(X), np.array(Y)"
      ],
      "execution_count": null,
      "outputs": []
    },
    {
      "cell_type": "code",
      "metadata": {
        "colab": {
          "base_uri": "https://localhost:8080/"
        },
        "id": "1U7mLgOZaZsN",
        "outputId": "da39562b-d3b2-43ff-c607-467716d5aa90"
      },
      "source": [
        "X_sensor1, y_sensor1 = convertToFrames(sensor1_data_normal, sensor1_label, window_size)\n",
        "X_sensor1.shape, y_sensor1.shape\n",
        "# print(X_sensor1[0])\n",
        "# print(X_sensor1[1])"
      ],
      "execution_count": null,
      "outputs": [
        {
          "output_type": "execute_result",
          "data": {
            "text/plain": [
              "((29789, 10, 3), (29789, 1))"
            ]
          },
          "metadata": {},
          "execution_count": 37
        }
      ]
    },
    {
      "cell_type": "code",
      "metadata": {
        "colab": {
          "base_uri": "https://localhost:8080/"
        },
        "id": "LlbmzS3Hagp1",
        "outputId": "65a1c603-1790-40e6-b569-94519bdfa88f"
      },
      "source": [
        "X_sensor2, y_sensor2 = convertToFrames(sensor2_data_normal, sensor2_label, window_size)\n",
        "X_sensor2.shape, y_sensor2.shape"
      ],
      "execution_count": null,
      "outputs": [
        {
          "output_type": "execute_result",
          "data": {
            "text/plain": [
              "((29789, 10, 3), (29789, 1))"
            ]
          },
          "metadata": {},
          "execution_count": 38
        }
      ]
    },
    {
      "cell_type": "code",
      "metadata": {
        "colab": {
          "base_uri": "https://localhost:8080/"
        },
        "id": "0QyV7kwragiE",
        "outputId": "89e4d90a-fdd5-45e1-f955-2a047561bb53"
      },
      "source": [
        "X_sensor3, y_sensor3 = convertToFrames(sensor3_data_normal, sensor3_label, window_size)\n",
        "X_sensor3.shape, y_sensor3.shape"
      ],
      "execution_count": null,
      "outputs": [
        {
          "output_type": "execute_result",
          "data": {
            "text/plain": [
              "((29789, 10, 3), (29789, 1))"
            ]
          },
          "metadata": {},
          "execution_count": 39
        }
      ]
    },
    {
      "cell_type": "code",
      "metadata": {
        "colab": {
          "base_uri": "https://localhost:8080/"
        },
        "id": "l4fSg45cplIB",
        "outputId": "6cc50fce-855a-40fa-b534-032b505f8a9a"
      },
      "source": [
        "y_sensor1 = to_categorical(y_sensor1, num_classes= 2, dtype='float32')\n",
        "X_train_sensor1,X_test_sensor1, y_train_sensor1, y_test_sensor1 = train_test_split(X_sensor1,y_sensor1,random_state = 1400, test_size= 0.15)\n",
        "y_train_sensor1, y_test_sensor1 = y_train_sensor1.squeeze(), y_test_sensor1.squeeze()\n",
        "X_train_sensor1.shape, X_test_sensor1.shape,y_train_sensor1.shape, y_test_sensor1.shape"
      ],
      "execution_count": null,
      "outputs": [
        {
          "output_type": "execute_result",
          "data": {
            "text/plain": [
              "((25320, 10, 3), (4469, 10, 3), (25320, 2), (4469, 2))"
            ]
          },
          "metadata": {},
          "execution_count": 40
        }
      ]
    },
    {
      "cell_type": "code",
      "metadata": {
        "colab": {
          "base_uri": "https://localhost:8080/"
        },
        "id": "M-6JhdmNplC4",
        "outputId": "b65f1d43-0856-40c7-a551-f18ec9a0b06d"
      },
      "source": [
        "y_sensor2 = to_categorical(y_sensor2, num_classes= 2, dtype='float32')\n",
        "X_train_sensor2,X_test_sensor2, y_train_sensor2, y_test_sensor2 = train_test_split(X_sensor2,y_sensor2,random_state = 1400, test_size= 0.15)\n",
        "y_train_sensor2, y_test_sensor2 = y_train_sensor2.squeeze(), y_test_sensor2.squeeze()\n",
        "X_train_sensor2.shape, X_test_sensor2.shape,y_train_sensor2.shape, y_test_sensor2.shape"
      ],
      "execution_count": null,
      "outputs": [
        {
          "output_type": "execute_result",
          "data": {
            "text/plain": [
              "((25320, 10, 3), (4469, 10, 3), (25320, 2), (4469, 2))"
            ]
          },
          "metadata": {},
          "execution_count": 41
        }
      ]
    },
    {
      "cell_type": "code",
      "metadata": {
        "colab": {
          "base_uri": "https://localhost:8080/"
        },
        "id": "CZmk_MFjpk_S",
        "outputId": "06f0b88a-c986-4a21-8555-05c7d39f77df"
      },
      "source": [
        "y_sensor3 = to_categorical(y_sensor3, num_classes= 2, dtype='float32')\n",
        "X_train_sensor3,X_test_sensor3, y_train_sensor3, y_test_sensor3 = train_test_split(X_sensor3,y_sensor3,random_state = 1400, test_size= 0.15)\n",
        "y_train_sensor3, y_test_sensor3 = y_train_sensor3.squeeze(), y_test_sensor3.squeeze()\n",
        "X_train_sensor3.shape, X_test_sensor3.shape,y_train_sensor3.shape, y_test_sensor3.shape"
      ],
      "execution_count": null,
      "outputs": [
        {
          "output_type": "execute_result",
          "data": {
            "text/plain": [
              "((25320, 10, 3), (4469, 10, 3), (25320, 2), (4469, 2))"
            ]
          },
          "metadata": {},
          "execution_count": 42
        }
      ]
    },
    {
      "cell_type": "code",
      "metadata": {
        "id": "DFlQxMk8PgWx"
      },
      "source": [
        "\n",
        "def creatModel():\n",
        "  \n",
        "    model = Sequential()\n",
        "    model.add(Conv1D(kernel_size=3, filters= 40, activation= 'relu', padding='same'))\n",
        "    model.add(Dropout(0.1))\n",
        "    model.add( Conv1D(kernel_size=3, filters= 60, activation= 'relu', padding='same'))\n",
        "    model.add(Dropout(0.1))\n",
        "    model.add(Conv1D(kernel_size=3, filters= 60, activation= 'relu', padding='same'))\n",
        "    model.add(Dropout(0.1))\n",
        "    model.add(GlobalMaxPool1D())\n",
        "    model.add(RepeatVector(X_train_sensor1.shape[1]))\n",
        "    model.add(LSTM(256, return_sequences=True))\n",
        "    model.add(Dropout(rate=0.2))\n",
        "    model.add(LSTM(128, return_sequences=True))\n",
        "    model.add(Dropout(rate=0.2))\n",
        "    model.add(LSTM(64, return_sequences=False))\n",
        "    model.add(Dropout(rate=0.2))\n",
        "    model.add((Dense(32)))\n",
        "    model.add((Dense(16)))\n",
        "    model.add(Dense(2, activation='sigmoid', kernel_regularizer=l2()))\n",
        "    model.compile(optimizer='adam', loss='binary_crossentropy',metrics=['accuracy'])\n",
        "\n",
        "    return model\n"
      ],
      "execution_count": null,
      "outputs": []
    },
    {
      "cell_type": "code",
      "metadata": {
        "id": "VrTO2TLekYa-"
      },
      "source": [
        "import time\n",
        "\n",
        "class TimeHistory(Callback):\n",
        "  \n",
        "    def on_epoch_begin(self, batch, logs={}):\n",
        "        self.epoch_time_start = time.time()\n",
        "\n",
        "    def on_epoch_end(self, batch, logs={}):\n",
        "        epoch_time = time.time() - self.epoch_time_start\n",
        "        logs['epoch_time'] = epoch_time\n"
      ],
      "execution_count": null,
      "outputs": []
    },
    {
      "cell_type": "code",
      "source": [
        "model_path = '/content/drive/MyDrive/CAV/data/Constant attack/0_1_dur_10/Models/Models16-1/'\n",
        "\n",
        "class Model_save(Callback):\n",
        "  def on_epoch_end(self, epoch, logs={}):\n",
        "    self.model.save(model_path + \"D-CNN-LSTM-autoEncoder-Constant-0_1_dur_10-CAV-perEpoch_{}.h5\".format(sensor))\n",
        "    "
      ],
      "metadata": {
        "id": "M79Mq50tlTe6"
      },
      "execution_count": null,
      "outputs": []
    },
    {
      "cell_type": "code",
      "source": [
        "def setCallbacks(sensor):\n",
        "\n",
        "  best_model_path = model_path + 'Best_D-CNN-LSTM-autoEncoder-Constant-0_1_dur_10-CAV_{}.h5'.format(sensor)\n",
        "  checkpoint = ModelCheckpoint(best_model_path, monitor='val_loss', save_best_only=True, mode='min')\n",
        "\n",
        "  history_cb = tf.keras.callbacks.CSVLogger(model_path + 'historyLOG_Constant-0_1_dur_10_{}.csv'.format(sensor), separator=\",\", append=True)\n",
        "\n",
        "  model_save = Model_save()\n",
        "\n",
        "  Estop = EarlyStopping(monitor='val_accuracy', patience= 100)\n",
        "  \n",
        "  return model_save, checkpoint, history_cb, Estop"
      ],
      "metadata": {
        "id": "nWddQ3LPlY5M"
      },
      "execution_count": null,
      "outputs": []
    },
    {
      "cell_type": "code",
      "metadata": {
        "colab": {
          "base_uri": "https://localhost:8080/"
        },
        "id": "t7odu-Z4_BLe",
        "outputId": "416e28ef-86ef-4c30-e954-ab74ab3a4fac"
      },
      "source": [
        "sensor = \"sensor1\"\n",
        "time_callback = TimeHistory()\n",
        "model_sensor1 = creatModel()\n",
        "model_save, checkpoint, history_cb, Estop = setCallbacks(\"sensor1\")\n",
        "history_sensor1 = model_sensor1.fit(X_train_sensor1, y_train_sensor1,\n",
        "                                    batch_size = 128, epochs = 500,\n",
        "                                    validation_split = 0.1,\n",
        "                                    verbose = 1,\n",
        "                                    callbacks = [time_callback, model_save, checkpoint, history_cb, Estop])\n",
        "                                    # class_weight= class_weights)#\n"
      ],
      "execution_count": null,
      "outputs": [
        {
          "output_type": "stream",
          "name": "stdout",
          "text": [
            "Epoch 1/500\n",
            "179/179 [==============================] - 17s 19ms/step - loss: 0.2151 - accuracy: 0.9392 - val_loss: 0.1044 - val_accuracy: 0.9787 - epoch_time: 17.2780\n",
            "Epoch 2/500\n",
            "179/179 [==============================] - 2s 13ms/step - loss: 0.0933 - accuracy: 0.9776 - val_loss: 0.0593 - val_accuracy: 0.9862 - epoch_time: 2.0705\n",
            "Epoch 3/500\n",
            "179/179 [==============================] - 2s 12ms/step - loss: 0.0658 - accuracy: 0.9833 - val_loss: 0.0423 - val_accuracy: 0.9889 - epoch_time: 2.0441\n",
            "Epoch 4/500\n",
            "179/179 [==============================] - 3s 15ms/step - loss: 0.0538 - accuracy: 0.9852 - val_loss: 0.0349 - val_accuracy: 0.9917 - epoch_time: 2.4322\n",
            "Epoch 5/500\n",
            "179/179 [==============================] - 3s 16ms/step - loss: 0.0418 - accuracy: 0.9878 - val_loss: 0.0268 - val_accuracy: 0.9917 - epoch_time: 2.6955\n",
            "Epoch 6/500\n",
            "179/179 [==============================] - 2s 12ms/step - loss: 0.0375 - accuracy: 0.9893 - val_loss: 0.0281 - val_accuracy: 0.9913 - epoch_time: 2.0592\n",
            "Epoch 7/500\n",
            "179/179 [==============================] - 2s 12ms/step - loss: 0.0338 - accuracy: 0.9905 - val_loss: 0.0282 - val_accuracy: 0.9921 - epoch_time: 2.1260\n",
            "Epoch 8/500\n",
            "179/179 [==============================] - 2s 13ms/step - loss: 0.0304 - accuracy: 0.9906 - val_loss: 0.0244 - val_accuracy: 0.9925 - epoch_time: 2.0544\n",
            "Epoch 9/500\n",
            "179/179 [==============================] - 2s 13ms/step - loss: 0.0273 - accuracy: 0.9925 - val_loss: 0.0200 - val_accuracy: 0.9917 - epoch_time: 2.1055\n",
            "Epoch 10/500\n",
            "179/179 [==============================] - 3s 16ms/step - loss: 0.0240 - accuracy: 0.9932 - val_loss: 0.0228 - val_accuracy: 0.9921 - epoch_time: 2.8286\n",
            "Epoch 11/500\n",
            "179/179 [==============================] - 3s 14ms/step - loss: 0.0242 - accuracy: 0.9934 - val_loss: 0.0173 - val_accuracy: 0.9961 - epoch_time: 2.3661\n",
            "Epoch 12/500\n",
            "179/179 [==============================] - 2s 12ms/step - loss: 0.0247 - accuracy: 0.9930 - val_loss: 0.0238 - val_accuracy: 0.9929 - epoch_time: 2.0792\n",
            "Epoch 13/500\n",
            "179/179 [==============================] - 2s 12ms/step - loss: 0.0206 - accuracy: 0.9944 - val_loss: 0.0205 - val_accuracy: 0.9933 - epoch_time: 2.0429\n",
            "Epoch 14/500\n",
            "179/179 [==============================] - 2s 12ms/step - loss: 0.0196 - accuracy: 0.9945 - val_loss: 0.0181 - val_accuracy: 0.9949 - epoch_time: 2.1229\n",
            "Epoch 15/500\n",
            "179/179 [==============================] - 3s 18ms/step - loss: 0.0195 - accuracy: 0.9938 - val_loss: 0.0167 - val_accuracy: 0.9961 - epoch_time: 2.0726\n",
            "Epoch 16/500\n",
            "179/179 [==============================] - 3s 15ms/step - loss: 0.0171 - accuracy: 0.9951 - val_loss: 0.0146 - val_accuracy: 0.9964 - epoch_time: 2.5823\n",
            "Epoch 17/500\n",
            "179/179 [==============================] - 2s 12ms/step - loss: 0.0155 - accuracy: 0.9957 - val_loss: 0.0224 - val_accuracy: 0.9953 - epoch_time: 2.0008\n",
            "Epoch 18/500\n",
            "179/179 [==============================] - 2s 12ms/step - loss: 0.0147 - accuracy: 0.9958 - val_loss: 0.0161 - val_accuracy: 0.9949 - epoch_time: 1.9946\n",
            "Epoch 19/500\n",
            "179/179 [==============================] - 2s 12ms/step - loss: 0.0175 - accuracy: 0.9954 - val_loss: 0.0157 - val_accuracy: 0.9968 - epoch_time: 1.9928\n",
            "Epoch 20/500\n",
            "179/179 [==============================] - 2s 13ms/step - loss: 0.0151 - accuracy: 0.9960 - val_loss: 0.0137 - val_accuracy: 0.9976 - epoch_time: 2.0650\n",
            "Epoch 21/500\n",
            "179/179 [==============================] - 5s 27ms/step - loss: 0.0136 - accuracy: 0.9964 - val_loss: 0.0125 - val_accuracy: 0.9961 - epoch_time: 4.6419\n",
            "Epoch 22/500\n",
            "179/179 [==============================] - 3s 15ms/step - loss: 0.0141 - accuracy: 0.9963 - val_loss: 0.0178 - val_accuracy: 0.9957 - epoch_time: 2.6605\n",
            "Epoch 23/500\n",
            "179/179 [==============================] - 2s 12ms/step - loss: 0.0128 - accuracy: 0.9966 - val_loss: 0.0130 - val_accuracy: 0.9976 - epoch_time: 2.0262\n",
            "Epoch 24/500\n",
            "179/179 [==============================] - 2s 12ms/step - loss: 0.0135 - accuracy: 0.9958 - val_loss: 0.0132 - val_accuracy: 0.9976 - epoch_time: 2.0834\n",
            "Epoch 25/500\n",
            "179/179 [==============================] - 2s 12ms/step - loss: 0.0113 - accuracy: 0.9971 - val_loss: 0.0157 - val_accuracy: 0.9972 - epoch_time: 2.0325\n",
            "Epoch 26/500\n",
            "179/179 [==============================] - 3s 16ms/step - loss: 0.0118 - accuracy: 0.9969 - val_loss: 0.0137 - val_accuracy: 0.9972 - epoch_time: 2.7143\n",
            "Epoch 27/500\n",
            "179/179 [==============================] - 3s 14ms/step - loss: 0.0135 - accuracy: 0.9967 - val_loss: 0.0138 - val_accuracy: 0.9961 - epoch_time: 2.5067\n",
            "Epoch 28/500\n",
            "179/179 [==============================] - 2s 12ms/step - loss: 0.0118 - accuracy: 0.9969 - val_loss: 0.0143 - val_accuracy: 0.9968 - epoch_time: 2.1566\n",
            "Epoch 29/500\n",
            "179/179 [==============================] - 2s 12ms/step - loss: 0.0093 - accuracy: 0.9975 - val_loss: 0.0142 - val_accuracy: 0.9972 - epoch_time: 2.1095\n",
            "Epoch 30/500\n",
            "179/179 [==============================] - 2s 12ms/step - loss: 0.0101 - accuracy: 0.9973 - val_loss: 0.0129 - val_accuracy: 0.9972 - epoch_time: 2.0996\n",
            "Epoch 31/500\n",
            "179/179 [==============================] - 3s 17ms/step - loss: 0.0089 - accuracy: 0.9977 - val_loss: 0.0109 - val_accuracy: 0.9961 - epoch_time: 2.1647\n",
            "Epoch 32/500\n",
            "179/179 [==============================] - 3s 16ms/step - loss: 0.0093 - accuracy: 0.9976 - val_loss: 0.0160 - val_accuracy: 0.9968 - epoch_time: 2.7456\n",
            "Epoch 33/500\n",
            "179/179 [==============================] - 2s 12ms/step - loss: 0.0098 - accuracy: 0.9976 - val_loss: 0.0127 - val_accuracy: 0.9972 - epoch_time: 2.0608\n",
            "Epoch 34/500\n",
            "179/179 [==============================] - 2s 12ms/step - loss: 0.0100 - accuracy: 0.9977 - val_loss: 0.0142 - val_accuracy: 0.9964 - epoch_time: 2.1293\n",
            "Epoch 35/500\n",
            "179/179 [==============================] - 2s 13ms/step - loss: 0.0102 - accuracy: 0.9971 - val_loss: 0.0135 - val_accuracy: 0.9968 - epoch_time: 2.1608\n",
            "Epoch 36/500\n",
            "179/179 [==============================] - 2s 12ms/step - loss: 0.0083 - accuracy: 0.9980 - val_loss: 0.0150 - val_accuracy: 0.9972 - epoch_time: 2.1001\n",
            "Epoch 37/500\n",
            "179/179 [==============================] - 3s 16ms/step - loss: 0.0108 - accuracy: 0.9973 - val_loss: 0.0171 - val_accuracy: 0.9964 - epoch_time: 2.7083\n",
            "Epoch 38/500\n",
            "179/179 [==============================] - 3s 14ms/step - loss: 0.0083 - accuracy: 0.9978 - val_loss: 0.0146 - val_accuracy: 0.9964 - epoch_time: 2.4355\n",
            "Epoch 39/500\n",
            "179/179 [==============================] - 2s 13ms/step - loss: 0.0086 - accuracy: 0.9975 - val_loss: 0.0135 - val_accuracy: 0.9976 - epoch_time: 2.1561\n",
            "Epoch 40/500\n",
            "179/179 [==============================] - 2s 12ms/step - loss: 0.0086 - accuracy: 0.9975 - val_loss: 0.0166 - val_accuracy: 0.9968 - epoch_time: 2.0961\n",
            "Epoch 41/500\n",
            "179/179 [==============================] - 2s 12ms/step - loss: 0.0072 - accuracy: 0.9979 - val_loss: 0.0160 - val_accuracy: 0.9961 - epoch_time: 2.1165\n",
            "Epoch 42/500\n",
            "179/179 [==============================] - 2s 13ms/step - loss: 0.0112 - accuracy: 0.9971 - val_loss: 0.0185 - val_accuracy: 0.9964 - epoch_time: 2.1490\n",
            "Epoch 43/500\n",
            "179/179 [==============================] - 3s 16ms/step - loss: 0.0077 - accuracy: 0.9980 - val_loss: 0.0137 - val_accuracy: 0.9976 - epoch_time: 2.8043\n",
            "Epoch 44/500\n",
            "179/179 [==============================] - 2s 13ms/step - loss: 0.0056 - accuracy: 0.9984 - val_loss: 0.0171 - val_accuracy: 0.9964 - epoch_time: 2.1931\n",
            "Epoch 45/500\n",
            "179/179 [==============================] - 2s 12ms/step - loss: 0.0077 - accuracy: 0.9977 - val_loss: 0.0124 - val_accuracy: 0.9972 - epoch_time: 2.0929\n",
            "Epoch 46/500\n",
            "179/179 [==============================] - 2s 12ms/step - loss: 0.0072 - accuracy: 0.9983 - val_loss: 0.0171 - val_accuracy: 0.9972 - epoch_time: 2.0680\n",
            "Epoch 47/500\n",
            "179/179 [==============================] - 2s 12ms/step - loss: 0.0075 - accuracy: 0.9981 - val_loss: 0.0159 - val_accuracy: 0.9972 - epoch_time: 2.1362\n",
            "Epoch 48/500\n",
            "179/179 [==============================] - 2s 14ms/step - loss: 0.0068 - accuracy: 0.9982 - val_loss: 0.0157 - val_accuracy: 0.9964 - epoch_time: 2.3756\n",
            "Epoch 49/500\n",
            "179/179 [==============================] - 3s 16ms/step - loss: 0.0073 - accuracy: 0.9978 - val_loss: 0.0179 - val_accuracy: 0.9976 - epoch_time: 2.7306\n",
            "Epoch 50/500\n",
            "179/179 [==============================] - 2s 12ms/step - loss: 0.0072 - accuracy: 0.9983 - val_loss: 0.0139 - val_accuracy: 0.9961 - epoch_time: 2.0356\n",
            "Epoch 51/500\n",
            "179/179 [==============================] - 2s 12ms/step - loss: 0.0115 - accuracy: 0.9972 - val_loss: 0.0175 - val_accuracy: 0.9957 - epoch_time: 1.9898\n",
            "Epoch 52/500\n",
            "179/179 [==============================] - 2s 12ms/step - loss: 0.0066 - accuracy: 0.9984 - val_loss: 0.0170 - val_accuracy: 0.9968 - epoch_time: 2.0178\n",
            "Epoch 53/500\n",
            "179/179 [==============================] - 2s 12ms/step - loss: 0.0058 - accuracy: 0.9986 - val_loss: 0.0226 - val_accuracy: 0.9976 - epoch_time: 2.1378\n",
            "Epoch 54/500\n",
            "179/179 [==============================] - 2s 14ms/step - loss: 0.0046 - accuracy: 0.9987 - val_loss: 0.0197 - val_accuracy: 0.9972 - epoch_time: 2.3632\n",
            "Epoch 55/500\n",
            "179/179 [==============================] - 3s 15ms/step - loss: 0.0048 - accuracy: 0.9986 - val_loss: 0.0168 - val_accuracy: 0.9976 - epoch_time: 2.6735\n",
            "Epoch 56/500\n",
            "179/179 [==============================] - 2s 12ms/step - loss: 0.0064 - accuracy: 0.9982 - val_loss: 0.0118 - val_accuracy: 0.9980 - epoch_time: 2.0685\n",
            "Epoch 57/500\n",
            "179/179 [==============================] - 2s 12ms/step - loss: 0.0052 - accuracy: 0.9986 - val_loss: 0.0172 - val_accuracy: 0.9972 - epoch_time: 2.0168\n",
            "Epoch 58/500\n",
            "179/179 [==============================] - 2s 12ms/step - loss: 0.0043 - accuracy: 0.9991 - val_loss: 0.0177 - val_accuracy: 0.9968 - epoch_time: 2.0246\n",
            "Epoch 59/500\n",
            "179/179 [==============================] - 2s 12ms/step - loss: 0.0056 - accuracy: 0.9985 - val_loss: 0.0166 - val_accuracy: 0.9961 - epoch_time: 2.0294\n",
            "Epoch 60/500\n",
            "179/179 [==============================] - 3s 14ms/step - loss: 0.0050 - accuracy: 0.9985 - val_loss: 0.0182 - val_accuracy: 0.9961 - epoch_time: 2.4130\n",
            "Epoch 61/500\n",
            "179/179 [==============================] - 3s 15ms/step - loss: 0.0057 - accuracy: 0.9985 - val_loss: 0.0189 - val_accuracy: 0.9968 - epoch_time: 2.6837\n",
            "Epoch 62/500\n",
            "179/179 [==============================] - 2s 12ms/step - loss: 0.0051 - accuracy: 0.9988 - val_loss: 0.0147 - val_accuracy: 0.9972 - epoch_time: 2.0323\n",
            "Epoch 63/500\n",
            "179/179 [==============================] - 2s 12ms/step - loss: 0.0052 - accuracy: 0.9986 - val_loss: 0.0162 - val_accuracy: 0.9968 - epoch_time: 2.0523\n",
            "Epoch 64/500\n",
            "179/179 [==============================] - 2s 12ms/step - loss: 0.0057 - accuracy: 0.9987 - val_loss: 0.0193 - val_accuracy: 0.9964 - epoch_time: 2.0249\n",
            "Epoch 65/500\n",
            "179/179 [==============================] - 2s 12ms/step - loss: 0.0055 - accuracy: 0.9985 - val_loss: 0.0178 - val_accuracy: 0.9972 - epoch_time: 2.0461\n",
            "Epoch 66/500\n",
            "179/179 [==============================] - 2s 14ms/step - loss: 0.0053 - accuracy: 0.9986 - val_loss: 0.0176 - val_accuracy: 0.9976 - epoch_time: 2.3423\n",
            "Epoch 67/500\n",
            "179/179 [==============================] - 3s 15ms/step - loss: 0.0032 - accuracy: 0.9993 - val_loss: 0.0145 - val_accuracy: 0.9976 - epoch_time: 2.6251\n",
            "Epoch 68/500\n",
            "179/179 [==============================] - 2s 12ms/step - loss: 0.0052 - accuracy: 0.9988 - val_loss: 0.0147 - val_accuracy: 0.9972 - epoch_time: 2.0118\n",
            "Epoch 69/500\n",
            "179/179 [==============================] - 2s 12ms/step - loss: 0.0049 - accuracy: 0.9984 - val_loss: 0.0148 - val_accuracy: 0.9972 - epoch_time: 2.0205\n",
            "Epoch 70/500\n",
            "179/179 [==============================] - 2s 12ms/step - loss: 0.0040 - accuracy: 0.9990 - val_loss: 0.0155 - val_accuracy: 0.9972 - epoch_time: 2.0497\n",
            "Epoch 71/500\n",
            "179/179 [==============================] - 2s 12ms/step - loss: 0.0038 - accuracy: 0.9991 - val_loss: 0.0135 - val_accuracy: 0.9972 - epoch_time: 2.0631\n",
            "Epoch 72/500\n",
            "179/179 [==============================] - 2s 14ms/step - loss: 0.0051 - accuracy: 0.9984 - val_loss: 0.0116 - val_accuracy: 0.9980 - epoch_time: 2.3360\n",
            "Epoch 73/500\n",
            "179/179 [==============================] - 3s 15ms/step - loss: 0.0038 - accuracy: 0.9989 - val_loss: 0.0135 - val_accuracy: 0.9972 - epoch_time: 2.6395\n",
            "Epoch 74/500\n",
            "179/179 [==============================] - 2s 12ms/step - loss: 0.0043 - accuracy: 0.9988 - val_loss: 0.0157 - val_accuracy: 0.9964 - epoch_time: 2.0831\n",
            "Epoch 75/500\n",
            "179/179 [==============================] - 2s 12ms/step - loss: 0.0041 - accuracy: 0.9990 - val_loss: 0.0211 - val_accuracy: 0.9968 - epoch_time: 2.0012\n",
            "Epoch 76/500\n",
            "179/179 [==============================] - 2s 12ms/step - loss: 0.0060 - accuracy: 0.9985 - val_loss: 0.0203 - val_accuracy: 0.9972 - epoch_time: 1.9930\n",
            "Epoch 77/500\n",
            "179/179 [==============================] - 2s 12ms/step - loss: 0.0064 - accuracy: 0.9981 - val_loss: 0.0184 - val_accuracy: 0.9972 - epoch_time: 1.9968\n",
            "Epoch 78/500\n",
            "179/179 [==============================] - 3s 14ms/step - loss: 0.0041 - accuracy: 0.9987 - val_loss: 0.0195 - val_accuracy: 0.9976 - epoch_time: 2.4120\n",
            "Epoch 79/500\n",
            "179/179 [==============================] - 3s 15ms/step - loss: 0.0041 - accuracy: 0.9990 - val_loss: 0.0151 - val_accuracy: 0.9964 - epoch_time: 2.6346\n",
            "Epoch 80/500\n",
            "179/179 [==============================] - 2s 12ms/step - loss: 0.0047 - accuracy: 0.9985 - val_loss: 0.0200 - val_accuracy: 0.9961 - epoch_time: 2.0735\n",
            "Epoch 81/500\n",
            "179/179 [==============================] - 2s 12ms/step - loss: 0.0042 - accuracy: 0.9989 - val_loss: 0.0174 - val_accuracy: 0.9976 - epoch_time: 2.0229\n",
            "Epoch 82/500\n",
            "179/179 [==============================] - 2s 11ms/step - loss: 0.0030 - accuracy: 0.9993 - val_loss: 0.0144 - val_accuracy: 0.9972 - epoch_time: 1.9601\n",
            "Epoch 83/500\n",
            "179/179 [==============================] - 2s 12ms/step - loss: 0.0039 - accuracy: 0.9989 - val_loss: 0.0193 - val_accuracy: 0.9972 - epoch_time: 2.0492\n",
            "Epoch 84/500\n",
            "179/179 [==============================] - 3s 14ms/step - loss: 0.0043 - accuracy: 0.9989 - val_loss: 0.0136 - val_accuracy: 0.9976 - epoch_time: 2.4098\n",
            "Epoch 85/500\n",
            "179/179 [==============================] - 3s 15ms/step - loss: 0.0031 - accuracy: 0.9992 - val_loss: 0.0161 - val_accuracy: 0.9968 - epoch_time: 2.6387\n",
            "Epoch 86/500\n",
            "179/179 [==============================] - 2s 12ms/step - loss: 0.0030 - accuracy: 0.9992 - val_loss: 0.0164 - val_accuracy: 0.9976 - epoch_time: 2.1254\n",
            "Epoch 87/500\n",
            "179/179 [==============================] - 2s 12ms/step - loss: 0.0040 - accuracy: 0.9990 - val_loss: 0.0165 - val_accuracy: 0.9972 - epoch_time: 2.0884\n",
            "Epoch 88/500\n",
            "179/179 [==============================] - 2s 12ms/step - loss: 0.0045 - accuracy: 0.9991 - val_loss: 0.0158 - val_accuracy: 0.9976 - epoch_time: 2.0488\n",
            "Epoch 89/500\n",
            "179/179 [==============================] - 2s 12ms/step - loss: 0.0030 - accuracy: 0.9992 - val_loss: 0.0154 - val_accuracy: 0.9976 - epoch_time: 1.9886\n",
            "Epoch 90/500\n",
            "179/179 [==============================] - 3s 18ms/step - loss: 0.0039 - accuracy: 0.9990 - val_loss: 0.0188 - val_accuracy: 0.9972 - epoch_time: 3.1081\n",
            "Epoch 91/500\n",
            "179/179 [==============================] - 4s 21ms/step - loss: 0.0040 - accuracy: 0.9990 - val_loss: 0.0195 - val_accuracy: 0.9972 - epoch_time: 3.5966\n",
            "Epoch 92/500\n",
            "179/179 [==============================] - 2s 12ms/step - loss: 0.0043 - accuracy: 0.9986 - val_loss: 0.0192 - val_accuracy: 0.9972 - epoch_time: 2.0850\n",
            "Epoch 93/500\n",
            "179/179 [==============================] - 2s 12ms/step - loss: 0.0049 - accuracy: 0.9988 - val_loss: 0.0186 - val_accuracy: 0.9968 - epoch_time: 2.0562\n",
            "Epoch 94/500\n",
            "179/179 [==============================] - 2s 12ms/step - loss: 0.0048 - accuracy: 0.9985 - val_loss: 0.0161 - val_accuracy: 0.9968 - epoch_time: 2.0455\n",
            "Epoch 95/500\n",
            "179/179 [==============================] - 2s 12ms/step - loss: 0.0045 - accuracy: 0.9989 - val_loss: 0.0158 - val_accuracy: 0.9968 - epoch_time: 2.0632\n",
            "Epoch 96/500\n",
            "179/179 [==============================] - 3s 14ms/step - loss: 0.0028 - accuracy: 0.9993 - val_loss: 0.0239 - val_accuracy: 0.9953 - epoch_time: 2.4668\n",
            "Epoch 97/500\n",
            "179/179 [==============================] - 3s 15ms/step - loss: 0.0029 - accuracy: 0.9993 - val_loss: 0.0203 - val_accuracy: 0.9972 - epoch_time: 2.6599\n",
            "Epoch 98/500\n",
            "179/179 [==============================] - 2s 12ms/step - loss: 0.0024 - accuracy: 0.9995 - val_loss: 0.0198 - val_accuracy: 0.9972 - epoch_time: 2.0642\n",
            "Epoch 99/500\n",
            "179/179 [==============================] - 2s 12ms/step - loss: 0.0050 - accuracy: 0.9990 - val_loss: 0.0157 - val_accuracy: 0.9964 - epoch_time: 2.0641\n",
            "Epoch 100/500\n",
            "179/179 [==============================] - 2s 12ms/step - loss: 0.0076 - accuracy: 0.9982 - val_loss: 0.0158 - val_accuracy: 0.9964 - epoch_time: 2.0503\n",
            "Epoch 101/500\n",
            "179/179 [==============================] - 2s 12ms/step - loss: 0.0043 - accuracy: 0.9987 - val_loss: 0.0183 - val_accuracy: 0.9968 - epoch_time: 2.0450\n",
            "Epoch 102/500\n",
            "179/179 [==============================] - 3s 14ms/step - loss: 0.0036 - accuracy: 0.9989 - val_loss: 0.0172 - val_accuracy: 0.9968 - epoch_time: 2.4472\n",
            "Epoch 103/500\n",
            "179/179 [==============================] - 3s 15ms/step - loss: 0.0043 - accuracy: 0.9989 - val_loss: 0.0179 - val_accuracy: 0.9968 - epoch_time: 2.6302\n",
            "Epoch 104/500\n",
            "179/179 [==============================] - 2s 12ms/step - loss: 0.0023 - accuracy: 0.9993 - val_loss: 0.0161 - val_accuracy: 0.9972 - epoch_time: 2.0521\n",
            "Epoch 105/500\n",
            "179/179 [==============================] - 2s 12ms/step - loss: 0.0039 - accuracy: 0.9988 - val_loss: 0.0200 - val_accuracy: 0.9968 - epoch_time: 2.0504\n",
            "Epoch 106/500\n",
            "179/179 [==============================] - 2s 12ms/step - loss: 0.0019 - accuracy: 0.9995 - val_loss: 0.0267 - val_accuracy: 0.9968 - epoch_time: 2.0913\n",
            "Epoch 107/500\n",
            "179/179 [==============================] - 2s 12ms/step - loss: 0.0043 - accuracy: 0.9990 - val_loss: 0.0256 - val_accuracy: 0.9964 - epoch_time: 2.0139\n",
            "Epoch 108/500\n",
            "179/179 [==============================] - 3s 15ms/step - loss: 0.0046 - accuracy: 0.9986 - val_loss: 0.0222 - val_accuracy: 0.9968 - epoch_time: 2.4928\n",
            "Epoch 109/500\n",
            "179/179 [==============================] - 3s 15ms/step - loss: 0.0036 - accuracy: 0.9989 - val_loss: 0.0188 - val_accuracy: 0.9972 - epoch_time: 2.5293\n",
            "Epoch 110/500\n",
            "179/179 [==============================] - 2s 12ms/step - loss: 0.0026 - accuracy: 0.9993 - val_loss: 0.0195 - val_accuracy: 0.9972 - epoch_time: 1.9930\n",
            "Epoch 111/500\n",
            "179/179 [==============================] - 2s 12ms/step - loss: 0.0030 - accuracy: 0.9994 - val_loss: 0.0175 - val_accuracy: 0.9972 - epoch_time: 2.0159\n",
            "Epoch 112/500\n",
            "179/179 [==============================] - 2s 12ms/step - loss: 0.0020 - accuracy: 0.9995 - val_loss: 0.0172 - val_accuracy: 0.9968 - epoch_time: 2.0020\n",
            "Epoch 113/500\n",
            "179/179 [==============================] - 2s 12ms/step - loss: 0.0027 - accuracy: 0.9994 - val_loss: 0.0199 - val_accuracy: 0.9972 - epoch_time: 2.1114\n",
            "Epoch 114/500\n",
            "179/179 [==============================] - 3s 14ms/step - loss: 0.0031 - accuracy: 0.9989 - val_loss: 0.0217 - val_accuracy: 0.9976 - epoch_time: 2.4704\n",
            "Epoch 115/500\n",
            "179/179 [==============================] - 3s 14ms/step - loss: 0.0032 - accuracy: 0.9989 - val_loss: 0.0237 - val_accuracy: 0.9968 - epoch_time: 2.4809\n",
            "Epoch 116/500\n",
            "179/179 [==============================] - 2s 12ms/step - loss: 0.0039 - accuracy: 0.9990 - val_loss: 0.0162 - val_accuracy: 0.9968 - epoch_time: 1.9506\n",
            "Epoch 117/500\n",
            "179/179 [==============================] - 2s 12ms/step - loss: 0.0022 - accuracy: 0.9993 - val_loss: 0.0184 - val_accuracy: 0.9964 - epoch_time: 1.9808\n",
            "Epoch 118/500\n",
            "179/179 [==============================] - 2s 12ms/step - loss: 0.0022 - accuracy: 0.9995 - val_loss: 0.0200 - val_accuracy: 0.9968 - epoch_time: 2.0073\n",
            "Epoch 119/500\n",
            "179/179 [==============================] - 2s 12ms/step - loss: 0.0106 - accuracy: 0.9962 - val_loss: 0.0182 - val_accuracy: 0.9964 - epoch_time: 1.9748\n",
            "Epoch 120/500\n",
            "179/179 [==============================] - 2s 14ms/step - loss: 0.0043 - accuracy: 0.9989 - val_loss: 0.0207 - val_accuracy: 0.9976 - epoch_time: 2.3549\n",
            "Epoch 121/500\n",
            "179/179 [==============================] - 3s 15ms/step - loss: 0.0037 - accuracy: 0.9991 - val_loss: 0.0216 - val_accuracy: 0.9968 - epoch_time: 2.5314\n",
            "Epoch 122/500\n",
            "179/179 [==============================] - 2s 12ms/step - loss: 0.0021 - accuracy: 0.9993 - val_loss: 0.0177 - val_accuracy: 0.9972 - epoch_time: 2.0227\n",
            "Epoch 123/500\n",
            "179/179 [==============================] - 2s 12ms/step - loss: 0.0024 - accuracy: 0.9991 - val_loss: 0.0220 - val_accuracy: 0.9972 - epoch_time: 1.9979\n",
            "Epoch 124/500\n",
            "179/179 [==============================] - 2s 11ms/step - loss: 0.0023 - accuracy: 0.9994 - val_loss: 0.0190 - val_accuracy: 0.9976 - epoch_time: 1.9635\n",
            "Epoch 125/500\n",
            "179/179 [==============================] - 2s 12ms/step - loss: 0.0025 - accuracy: 0.9992 - val_loss: 0.0162 - val_accuracy: 0.9976 - epoch_time: 1.9796\n",
            "Epoch 126/500\n",
            "179/179 [==============================] - 3s 14ms/step - loss: 0.0041 - accuracy: 0.9988 - val_loss: 0.0175 - val_accuracy: 0.9972 - epoch_time: 2.4500\n",
            "Epoch 127/500\n",
            "179/179 [==============================] - 3s 15ms/step - loss: 0.0028 - accuracy: 0.9993 - val_loss: 0.0189 - val_accuracy: 0.9972 - epoch_time: 2.5666\n",
            "Epoch 128/500\n",
            "179/179 [==============================] - 2s 11ms/step - loss: 0.0033 - accuracy: 0.9994 - val_loss: 0.0190 - val_accuracy: 0.9972 - epoch_time: 1.9676\n",
            "Epoch 129/500\n",
            "179/179 [==============================] - 2s 11ms/step - loss: 0.0034 - accuracy: 0.9988 - val_loss: 0.0274 - val_accuracy: 0.9972 - epoch_time: 1.9509\n",
            "Epoch 130/500\n",
            "179/179 [==============================] - 2s 12ms/step - loss: 0.0029 - accuracy: 0.9992 - val_loss: 0.0206 - val_accuracy: 0.9972 - epoch_time: 2.0035\n",
            "Epoch 131/500\n",
            "179/179 [==============================] - 2s 12ms/step - loss: 0.0027 - accuracy: 0.9991 - val_loss: 0.0138 - val_accuracy: 0.9972 - epoch_time: 2.0209\n",
            "Epoch 132/500\n",
            "179/179 [==============================] - 2s 14ms/step - loss: 0.0017 - accuracy: 0.9994 - val_loss: 0.0193 - val_accuracy: 0.9968 - epoch_time: 2.3814\n",
            "Epoch 133/500\n",
            "179/179 [==============================] - 3s 15ms/step - loss: 0.0018 - accuracy: 0.9996 - val_loss: 0.0154 - val_accuracy: 0.9976 - epoch_time: 2.6121\n",
            "Epoch 134/500\n",
            "179/179 [==============================] - 2s 12ms/step - loss: 0.0031 - accuracy: 0.9991 - val_loss: 0.0191 - val_accuracy: 0.9972 - epoch_time: 2.0335\n",
            "Epoch 135/500\n",
            "179/179 [==============================] - 2s 12ms/step - loss: 0.0025 - accuracy: 0.9993 - val_loss: 0.0180 - val_accuracy: 0.9972 - epoch_time: 2.0383\n",
            "Epoch 136/500\n",
            "179/179 [==============================] - 2s 12ms/step - loss: 0.0029 - accuracy: 0.9993 - val_loss: 0.0116 - val_accuracy: 0.9972 - epoch_time: 1.9865\n",
            "Epoch 137/500\n",
            "179/179 [==============================] - 2s 12ms/step - loss: 0.0015 - accuracy: 0.9996 - val_loss: 0.0164 - val_accuracy: 0.9968 - epoch_time: 2.0207\n",
            "Epoch 138/500\n",
            "179/179 [==============================] - 2s 13ms/step - loss: 0.0034 - accuracy: 0.9990 - val_loss: 0.0215 - val_accuracy: 0.9968 - epoch_time: 2.3052\n",
            "Epoch 139/500\n",
            "179/179 [==============================] - 3s 15ms/step - loss: 0.0027 - accuracy: 0.9994 - val_loss: 0.0220 - val_accuracy: 0.9976 - epoch_time: 2.6543\n",
            "Epoch 140/500\n",
            "179/179 [==============================] - 2s 12ms/step - loss: 0.0022 - accuracy: 0.9993 - val_loss: 0.0200 - val_accuracy: 0.9972 - epoch_time: 2.0601\n",
            "Epoch 141/500\n",
            "179/179 [==============================] - 2s 11ms/step - loss: 0.0022 - accuracy: 0.9993 - val_loss: 0.0167 - val_accuracy: 0.9976 - epoch_time: 1.9672\n",
            "Epoch 142/500\n",
            "179/179 [==============================] - 2s 12ms/step - loss: 0.0023 - accuracy: 0.9993 - val_loss: 0.0219 - val_accuracy: 0.9968 - epoch_time: 1.9965\n",
            "Epoch 143/500\n",
            "179/179 [==============================] - 2s 12ms/step - loss: 0.0044 - accuracy: 0.9990 - val_loss: 0.0201 - val_accuracy: 0.9972 - epoch_time: 2.0120\n",
            "Epoch 144/500\n",
            "179/179 [==============================] - 2s 14ms/step - loss: 0.0026 - accuracy: 0.9993 - val_loss: 0.0223 - val_accuracy: 0.9968 - epoch_time: 2.3172\n",
            "Epoch 145/500\n",
            "179/179 [==============================] - 3s 16ms/step - loss: 0.0030 - accuracy: 0.9991 - val_loss: 0.0185 - val_accuracy: 0.9964 - epoch_time: 2.7124\n",
            "Epoch 146/500\n",
            "179/179 [==============================] - 2s 12ms/step - loss: 0.0025 - accuracy: 0.9992 - val_loss: 0.0212 - val_accuracy: 0.9968 - epoch_time: 2.0268\n",
            "Epoch 147/500\n",
            "179/179 [==============================] - 2s 12ms/step - loss: 0.0036 - accuracy: 0.9989 - val_loss: 0.0141 - val_accuracy: 0.9976 - epoch_time: 1.9835\n",
            "Epoch 148/500\n",
            "179/179 [==============================] - 2s 11ms/step - loss: 0.0023 - accuracy: 0.9995 - val_loss: 0.0219 - val_accuracy: 0.9972 - epoch_time: 1.9704\n",
            "Epoch 149/500\n",
            "179/179 [==============================] - 2s 12ms/step - loss: 0.0023 - accuracy: 0.9993 - val_loss: 0.0175 - val_accuracy: 0.9976 - epoch_time: 1.9859\n",
            "Epoch 150/500\n",
            "179/179 [==============================] - 2s 13ms/step - loss: 0.0035 - accuracy: 0.9990 - val_loss: 0.0168 - val_accuracy: 0.9964 - epoch_time: 2.2313\n",
            "Epoch 151/500\n",
            "179/179 [==============================] - 3s 16ms/step - loss: 0.0023 - accuracy: 0.9992 - val_loss: 0.0241 - val_accuracy: 0.9976 - epoch_time: 2.7989\n",
            "Epoch 152/500\n",
            "179/179 [==============================] - 2s 12ms/step - loss: 0.0021 - accuracy: 0.9992 - val_loss: 0.0212 - val_accuracy: 0.9968 - epoch_time: 2.0508\n",
            "Epoch 153/500\n",
            "179/179 [==============================] - 2s 12ms/step - loss: 0.0028 - accuracy: 0.9993 - val_loss: 0.0259 - val_accuracy: 0.9964 - epoch_time: 2.0161\n",
            "Epoch 154/500\n",
            "179/179 [==============================] - 2s 12ms/step - loss: 0.0029 - accuracy: 0.9995 - val_loss: 0.0172 - val_accuracy: 0.9972 - epoch_time: 1.9716\n",
            "Epoch 155/500\n",
            "179/179 [==============================] - 2s 11ms/step - loss: 0.0035 - accuracy: 0.9987 - val_loss: 0.0128 - val_accuracy: 0.9976 - epoch_time: 1.9351\n",
            "Epoch 156/500\n",
            "179/179 [==============================] - 2s 13ms/step - loss: 0.0020 - accuracy: 0.9994 - val_loss: 0.0217 - val_accuracy: 0.9961 - epoch_time: 2.1952\n"
          ]
        }
      ]
    },
    {
      "cell_type": "code",
      "source": [
        "print(model_sensor1.summary())"
      ],
      "metadata": {
        "colab": {
          "base_uri": "https://localhost:8080/"
        },
        "id": "sgiNWkr6oVcq",
        "outputId": "0564bb72-7000-48c3-e274-9ffb2491aa83"
      },
      "execution_count": null,
      "outputs": [
        {
          "output_type": "stream",
          "name": "stdout",
          "text": [
            "Model: \"sequential\"\n",
            "_________________________________________________________________\n",
            " Layer (type)                Output Shape              Param #   \n",
            "=================================================================\n",
            " conv1d (Conv1D)             (None, 10, 40)            400       \n",
            "                                                                 \n",
            " dropout (Dropout)           (None, 10, 40)            0         \n",
            "                                                                 \n",
            " conv1d_1 (Conv1D)           (None, 10, 60)            7260      \n",
            "                                                                 \n",
            " dropout_1 (Dropout)         (None, 10, 60)            0         \n",
            "                                                                 \n",
            " conv1d_2 (Conv1D)           (None, 10, 60)            10860     \n",
            "                                                                 \n",
            " dropout_2 (Dropout)         (None, 10, 60)            0         \n",
            "                                                                 \n",
            " global_max_pooling1d (Globa  (None, 60)               0         \n",
            " lMaxPooling1D)                                                  \n",
            "                                                                 \n",
            " repeat_vector (RepeatVector  (None, 10, 60)           0         \n",
            " )                                                               \n",
            "                                                                 \n",
            " lstm (LSTM)                 (None, 10, 256)           324608    \n",
            "                                                                 \n",
            " dropout_3 (Dropout)         (None, 10, 256)           0         \n",
            "                                                                 \n",
            " lstm_1 (LSTM)               (None, 10, 128)           197120    \n",
            "                                                                 \n",
            " dropout_4 (Dropout)         (None, 10, 128)           0         \n",
            "                                                                 \n",
            " lstm_2 (LSTM)               (None, 64)                49408     \n",
            "                                                                 \n",
            " dropout_5 (Dropout)         (None, 64)                0         \n",
            "                                                                 \n",
            " dense (Dense)               (None, 32)                2080      \n",
            "                                                                 \n",
            " dense_1 (Dense)             (None, 16)                528       \n",
            "                                                                 \n",
            " dense_2 (Dense)             (None, 2)                 34        \n",
            "                                                                 \n",
            "=================================================================\n",
            "Total params: 592,298\n",
            "Trainable params: 592,298\n",
            "Non-trainable params: 0\n",
            "_________________________________________________________________\n",
            "None\n"
          ]
        }
      ]
    },
    {
      "cell_type": "code",
      "source": [
        "plot_model(model= model_sensor1, show_shapes= True, dpi=50)"
      ],
      "metadata": {
        "colab": {
          "base_uri": "https://localhost:8080/"
        },
        "id": "rWZpn8SyoZo6",
        "outputId": "e4fa5404-17b6-4de7-e3fe-994a89926c3d"
      },
      "execution_count": null,
      "outputs": [
        {
          "output_type": "execute_result",
          "data": {
            "image/png": "[encoded data removed]",
            "text/plain": [
              "<IPython.core.display.Image object>"
            ]
          },
          "metadata": {},
          "execution_count": 49
        }
      ]
    },
    {
      "cell_type": "code",
      "metadata": {
        "colab": {
          "base_uri": "https://localhost:8080/"
        },
        "id": "8f2f6m1IAR7A",
        "outputId": "761e2a77-f689-40e8-8858-e206d385f897"
      },
      "source": [
        "sensor = \"sensor2\"\n",
        "time_callback = TimeHistory()\n",
        "model_sensor2 = creatModel()\n",
        "model_save, checkpoint, history_cb, Estop = setCallbacks(\"sensor2\")\n",
        "history_sensor2 = model_sensor2.fit(X_train_sensor2, y_train_sensor2,\n",
        "                                    batch_size = 128, epochs = 500,\n",
        "                                    validation_split = 0.1,\n",
        "                                    verbose = 1,\n",
        "                                    callbacks = [time_callback, model_save, checkpoint, history_cb, Estop])\n",
        "                                    # class_weight= class_weights)#"
      ],
      "execution_count": null,
      "outputs": [
        {
          "output_type": "stream",
          "name": "stdout",
          "text": [
            "Epoch 1/500\n",
            "179/179 [==============================] - 9s 18ms/step - loss: 0.2187 - accuracy: 0.9358 - val_loss: 0.1034 - val_accuracy: 0.9763 - epoch_time: 8.5586\n",
            "Epoch 2/500\n",
            "179/179 [==============================] - 2s 12ms/step - loss: 0.1032 - accuracy: 0.9760 - val_loss: 0.0729 - val_accuracy: 0.9850 - epoch_time: 1.9916\n",
            "Epoch 3/500\n",
            "179/179 [==============================] - 2s 14ms/step - loss: 0.0843 - accuracy: 0.9792 - val_loss: 0.0639 - val_accuracy: 0.9854 - epoch_time: 2.2781\n",
            "Epoch 4/500\n",
            "179/179 [==============================] - 3s 15ms/step - loss: 0.0721 - accuracy: 0.9810 - val_loss: 0.0563 - val_accuracy: 0.9854 - epoch_time: 2.5425\n",
            "Epoch 5/500\n",
            "179/179 [==============================] - 2s 12ms/step - loss: 0.0635 - accuracy: 0.9835 - val_loss: 0.0494 - val_accuracy: 0.9885 - epoch_time: 2.0009\n",
            "Epoch 6/500\n",
            "179/179 [==============================] - 2s 12ms/step - loss: 0.0544 - accuracy: 0.9847 - val_loss: 0.0474 - val_accuracy: 0.9874 - epoch_time: 1.9211\n",
            "Epoch 7/500\n",
            "179/179 [==============================] - 2s 12ms/step - loss: 0.0522 - accuracy: 0.9853 - val_loss: 0.0373 - val_accuracy: 0.9901 - epoch_time: 1.9689\n",
            "Epoch 8/500\n",
            "179/179 [==============================] - 2s 11ms/step - loss: 0.0491 - accuracy: 0.9867 - val_loss: 0.0387 - val_accuracy: 0.9905 - epoch_time: 1.9518\n",
            "Epoch 9/500\n",
            "179/179 [==============================] - 3s 14ms/step - loss: 0.0404 - accuracy: 0.9888 - val_loss: 0.0377 - val_accuracy: 0.9921 - epoch_time: 2.4099\n",
            "Epoch 10/500\n",
            "179/179 [==============================] - 3s 15ms/step - loss: 0.0395 - accuracy: 0.9895 - val_loss: 0.0307 - val_accuracy: 0.9921 - epoch_time: 2.5048\n",
            "Epoch 11/500\n",
            "179/179 [==============================] - 2s 12ms/step - loss: 0.0345 - accuracy: 0.9901 - val_loss: 0.0257 - val_accuracy: 0.9913 - epoch_time: 1.9394\n",
            "Epoch 12/500\n",
            "179/179 [==============================] - 2s 12ms/step - loss: 0.0325 - accuracy: 0.9903 - val_loss: 0.0236 - val_accuracy: 0.9929 - epoch_time: 1.9426\n",
            "Epoch 13/500\n",
            "179/179 [==============================] - 2s 11ms/step - loss: 0.0290 - accuracy: 0.9917 - val_loss: 0.0244 - val_accuracy: 0.9929 - epoch_time: 1.9305\n",
            "Epoch 14/500\n",
            "179/179 [==============================] - 2s 11ms/step - loss: 0.0246 - accuracy: 0.9933 - val_loss: 0.0288 - val_accuracy: 0.9925 - epoch_time: 1.8955\n",
            "Epoch 15/500\n",
            "179/179 [==============================] - 3s 14ms/step - loss: 0.0231 - accuracy: 0.9931 - val_loss: 0.0209 - val_accuracy: 0.9941 - epoch_time: 2.3802\n",
            "Epoch 16/500\n",
            "179/179 [==============================] - 3s 15ms/step - loss: 0.0226 - accuracy: 0.9932 - val_loss: 0.0194 - val_accuracy: 0.9945 - epoch_time: 2.4310\n",
            "Epoch 17/500\n",
            "179/179 [==============================] - 2s 12ms/step - loss: 0.0218 - accuracy: 0.9935 - val_loss: 0.0180 - val_accuracy: 0.9941 - epoch_time: 1.9156\n",
            "Epoch 18/500\n",
            "179/179 [==============================] - 2s 11ms/step - loss: 0.0210 - accuracy: 0.9936 - val_loss: 0.0184 - val_accuracy: 0.9949 - epoch_time: 1.9502\n",
            "Epoch 19/500\n",
            "179/179 [==============================] - 2s 12ms/step - loss: 0.0175 - accuracy: 0.9946 - val_loss: 0.0136 - val_accuracy: 0.9953 - epoch_time: 1.9405\n",
            "Epoch 20/500\n",
            "179/179 [==============================] - 2s 12ms/step - loss: 0.0198 - accuracy: 0.9937 - val_loss: 0.0231 - val_accuracy: 0.9945 - epoch_time: 1.9880\n",
            "Epoch 21/500\n",
            "179/179 [==============================] - 3s 14ms/step - loss: 0.0173 - accuracy: 0.9950 - val_loss: 0.0170 - val_accuracy: 0.9957 - epoch_time: 2.4298\n",
            "Epoch 22/500\n",
            "179/179 [==============================] - 3s 15ms/step - loss: 0.0154 - accuracy: 0.9950 - val_loss: 0.0134 - val_accuracy: 0.9961 - epoch_time: 2.4927\n",
            "Epoch 23/500\n",
            "179/179 [==============================] - 2s 11ms/step - loss: 0.0149 - accuracy: 0.9955 - val_loss: 0.0160 - val_accuracy: 0.9937 - epoch_time: 1.9452\n",
            "Epoch 24/500\n",
            "179/179 [==============================] - 2s 12ms/step - loss: 0.0140 - accuracy: 0.9957 - val_loss: 0.0202 - val_accuracy: 0.9945 - epoch_time: 2.0455\n",
            "Epoch 25/500\n",
            "179/179 [==============================] - 2s 13ms/step - loss: 0.0141 - accuracy: 0.9959 - val_loss: 0.0182 - val_accuracy: 0.9949 - epoch_time: 2.1440\n",
            "Epoch 26/500\n",
            "179/179 [==============================] - 3s 17ms/step - loss: 0.0130 - accuracy: 0.9959 - val_loss: 0.0131 - val_accuracy: 0.9964 - epoch_time: 2.1492\n",
            "Epoch 27/500\n",
            "179/179 [==============================] - 3s 17ms/step - loss: 0.0112 - accuracy: 0.9965 - val_loss: 0.0128 - val_accuracy: 0.9968 - epoch_time: 2.7670\n",
            "Epoch 28/500\n",
            "179/179 [==============================] - 2s 12ms/step - loss: 0.0149 - accuracy: 0.9953 - val_loss: 0.0163 - val_accuracy: 0.9968 - epoch_time: 2.0879\n",
            "Epoch 29/500\n",
            "179/179 [==============================] - 2s 12ms/step - loss: 0.0127 - accuracy: 0.9962 - val_loss: 0.0166 - val_accuracy: 0.9953 - epoch_time: 2.0336\n",
            "Epoch 30/500\n",
            "179/179 [==============================] - 2s 12ms/step - loss: 0.0118 - accuracy: 0.9961 - val_loss: 0.0154 - val_accuracy: 0.9961 - epoch_time: 2.0260\n",
            "Epoch 31/500\n",
            "179/179 [==============================] - 2s 12ms/step - loss: 0.0096 - accuracy: 0.9975 - val_loss: 0.0156 - val_accuracy: 0.9968 - epoch_time: 1.9809\n",
            "Epoch 32/500\n",
            "179/179 [==============================] - 3s 18ms/step - loss: 0.0093 - accuracy: 0.9973 - val_loss: 0.0107 - val_accuracy: 0.9968 - epoch_time: 2.2023\n",
            "Epoch 33/500\n",
            "179/179 [==============================] - 3s 14ms/step - loss: 0.0102 - accuracy: 0.9968 - val_loss: 0.0164 - val_accuracy: 0.9976 - epoch_time: 2.4675\n",
            "Epoch 34/500\n",
            "179/179 [==============================] - 2s 12ms/step - loss: 0.0125 - accuracy: 0.9965 - val_loss: 0.0126 - val_accuracy: 0.9968 - epoch_time: 2.0030\n",
            "Epoch 35/500\n",
            "179/179 [==============================] - 2s 11ms/step - loss: 0.0103 - accuracy: 0.9968 - val_loss: 0.0137 - val_accuracy: 0.9964 - epoch_time: 1.9637\n",
            "Epoch 36/500\n",
            "179/179 [==============================] - 2s 12ms/step - loss: 0.0103 - accuracy: 0.9967 - val_loss: 0.0096 - val_accuracy: 0.9972 - epoch_time: 1.9940\n",
            "Epoch 37/500\n",
            "179/179 [==============================] - 2s 12ms/step - loss: 0.0090 - accuracy: 0.9969 - val_loss: 0.0122 - val_accuracy: 0.9980 - epoch_time: 2.0237\n",
            "Epoch 38/500\n",
            "179/179 [==============================] - 4s 20ms/step - loss: 0.0096 - accuracy: 0.9971 - val_loss: 0.0115 - val_accuracy: 0.9976 - epoch_time: 3.4033\n",
            "Epoch 39/500\n",
            "179/179 [==============================] - 3s 19ms/step - loss: 0.0074 - accuracy: 0.9976 - val_loss: 0.0117 - val_accuracy: 0.9972 - epoch_time: 3.3920\n",
            "Epoch 40/500\n",
            "179/179 [==============================] - 2s 12ms/step - loss: 0.0074 - accuracy: 0.9978 - val_loss: 0.0189 - val_accuracy: 0.9961 - epoch_time: 1.9897\n",
            "Epoch 41/500\n",
            "179/179 [==============================] - 2s 12ms/step - loss: 0.0077 - accuracy: 0.9977 - val_loss: 0.0177 - val_accuracy: 0.9961 - epoch_time: 1.9981\n",
            "Epoch 42/500\n",
            "179/179 [==============================] - 2s 12ms/step - loss: 0.0091 - accuracy: 0.9974 - val_loss: 0.0133 - val_accuracy: 0.9961 - epoch_time: 1.9722\n",
            "Epoch 43/500\n",
            "179/179 [==============================] - 2s 12ms/step - loss: 0.0085 - accuracy: 0.9975 - val_loss: 0.0118 - val_accuracy: 0.9976 - epoch_time: 1.9832\n",
            "Epoch 44/500\n",
            "179/179 [==============================] - 2s 14ms/step - loss: 0.0094 - accuracy: 0.9974 - val_loss: 0.0116 - val_accuracy: 0.9976 - epoch_time: 2.3254\n",
            "Epoch 45/500\n",
            "179/179 [==============================] - 3s 16ms/step - loss: 0.0080 - accuracy: 0.9975 - val_loss: 0.0153 - val_accuracy: 0.9964 - epoch_time: 2.7886\n",
            "Epoch 46/500\n",
            "179/179 [==============================] - 2s 12ms/step - loss: 0.0092 - accuracy: 0.9974 - val_loss: 0.0124 - val_accuracy: 0.9968 - epoch_time: 2.0015\n",
            "Epoch 47/500\n",
            "179/179 [==============================] - 2s 12ms/step - loss: 0.0070 - accuracy: 0.9977 - val_loss: 0.0147 - val_accuracy: 0.9968 - epoch_time: 1.9939\n",
            "Epoch 48/500\n",
            "179/179 [==============================] - 2s 12ms/step - loss: 0.0057 - accuracy: 0.9980 - val_loss: 0.0156 - val_accuracy: 0.9968 - epoch_time: 2.0275\n",
            "Epoch 49/500\n",
            "179/179 [==============================] - 2s 12ms/step - loss: 0.0063 - accuracy: 0.9982 - val_loss: 0.0103 - val_accuracy: 0.9976 - epoch_time: 2.0075\n",
            "Epoch 50/500\n",
            "179/179 [==============================] - 2s 13ms/step - loss: 0.0076 - accuracy: 0.9975 - val_loss: 0.0101 - val_accuracy: 0.9976 - epoch_time: 2.3031\n",
            "Epoch 51/500\n",
            "179/179 [==============================] - 3s 16ms/step - loss: 0.0067 - accuracy: 0.9982 - val_loss: 0.0112 - val_accuracy: 0.9980 - epoch_time: 2.6976\n",
            "Epoch 52/500\n",
            "179/179 [==============================] - 2s 12ms/step - loss: 0.0076 - accuracy: 0.9979 - val_loss: 0.0118 - val_accuracy: 0.9972 - epoch_time: 1.9922\n",
            "Epoch 53/500\n",
            "179/179 [==============================] - 3s 17ms/step - loss: 0.0066 - accuracy: 0.9979 - val_loss: 0.0096 - val_accuracy: 0.9972 - epoch_time: 2.0634\n",
            "Epoch 54/500\n",
            "179/179 [==============================] - 2s 12ms/step - loss: 0.0057 - accuracy: 0.9984 - val_loss: 0.0139 - val_accuracy: 0.9961 - epoch_time: 2.0316\n",
            "Epoch 55/500\n",
            "179/179 [==============================] - 2s 11ms/step - loss: 0.0061 - accuracy: 0.9981 - val_loss: 0.0122 - val_accuracy: 0.9972 - epoch_time: 1.9635\n",
            "Epoch 56/500\n",
            "179/179 [==============================] - 3s 16ms/step - loss: 0.0049 - accuracy: 0.9985 - val_loss: 0.0106 - val_accuracy: 0.9976 - epoch_time: 2.6693\n",
            "Epoch 57/500\n",
            "179/179 [==============================] - 2s 14ms/step - loss: 0.0061 - accuracy: 0.9981 - val_loss: 0.0140 - val_accuracy: 0.9961 - epoch_time: 2.3298\n",
            "Epoch 58/500\n",
            "179/179 [==============================] - 2s 12ms/step - loss: 0.0063 - accuracy: 0.9982 - val_loss: 0.0099 - val_accuracy: 0.9976 - epoch_time: 2.0470\n",
            "Epoch 59/500\n",
            "179/179 [==============================] - 2s 11ms/step - loss: 0.0059 - accuracy: 0.9980 - val_loss: 0.0171 - val_accuracy: 0.9968 - epoch_time: 1.9748\n",
            "Epoch 60/500\n",
            "179/179 [==============================] - 2s 12ms/step - loss: 0.0063 - accuracy: 0.9981 - val_loss: 0.0116 - val_accuracy: 0.9968 - epoch_time: 2.0342\n",
            "Epoch 61/500\n",
            "179/179 [==============================] - 2s 12ms/step - loss: 0.0067 - accuracy: 0.9978 - val_loss: 0.0117 - val_accuracy: 0.9976 - epoch_time: 2.0185\n",
            "Epoch 62/500\n",
            "179/179 [==============================] - 3s 15ms/step - loss: 0.0064 - accuracy: 0.9980 - val_loss: 0.0118 - val_accuracy: 0.9976 - epoch_time: 2.6573\n",
            "Epoch 63/500\n",
            "179/179 [==============================] - 3s 17ms/step - loss: 0.0066 - accuracy: 0.9980 - val_loss: 0.0085 - val_accuracy: 0.9980 - epoch_time: 2.3145\n",
            "Epoch 64/500\n",
            "179/179 [==============================] - 2s 11ms/step - loss: 0.0061 - accuracy: 0.9983 - val_loss: 0.0115 - val_accuracy: 0.9976 - epoch_time: 1.9670\n",
            "Epoch 65/500\n",
            "179/179 [==============================] - 2s 11ms/step - loss: 0.0046 - accuracy: 0.9987 - val_loss: 0.0096 - val_accuracy: 0.9976 - epoch_time: 1.9419\n",
            "Epoch 66/500\n",
            "179/179 [==============================] - 2s 12ms/step - loss: 0.0051 - accuracy: 0.9980 - val_loss: 0.0130 - val_accuracy: 0.9968 - epoch_time: 2.0376\n",
            "Epoch 67/500\n",
            "179/179 [==============================] - 2s 13ms/step - loss: 0.0057 - accuracy: 0.9982 - val_loss: 0.0086 - val_accuracy: 0.9980 - epoch_time: 2.1376\n",
            "Epoch 68/500\n",
            "179/179 [==============================] - 3s 16ms/step - loss: 0.0055 - accuracy: 0.9982 - val_loss: 0.0100 - val_accuracy: 0.9976 - epoch_time: 2.7451\n",
            "Epoch 69/500\n",
            "179/179 [==============================] - 2s 12ms/step - loss: 0.0045 - accuracy: 0.9987 - val_loss: 0.0118 - val_accuracy: 0.9988 - epoch_time: 2.0966\n",
            "Epoch 70/500\n",
            "179/179 [==============================] - 2s 12ms/step - loss: 0.0040 - accuracy: 0.9987 - val_loss: 0.0102 - val_accuracy: 0.9984 - epoch_time: 1.9821\n",
            "Epoch 71/500\n",
            "179/179 [==============================] - 2s 12ms/step - loss: 0.0046 - accuracy: 0.9988 - val_loss: 0.0156 - val_accuracy: 0.9972 - epoch_time: 2.0991\n",
            "Epoch 72/500\n",
            "179/179 [==============================] - 2s 12ms/step - loss: 0.0061 - accuracy: 0.9984 - val_loss: 0.0119 - val_accuracy: 0.9972 - epoch_time: 2.0111\n",
            "Epoch 73/500\n",
            "179/179 [==============================] - 2s 13ms/step - loss: 0.0037 - accuracy: 0.9988 - val_loss: 0.0131 - val_accuracy: 0.9976 - epoch_time: 2.1678\n",
            "Epoch 74/500\n",
            "179/179 [==============================] - 3s 16ms/step - loss: 0.0046 - accuracy: 0.9983 - val_loss: 0.0134 - val_accuracy: 0.9961 - epoch_time: 2.7848\n",
            "Epoch 75/500\n",
            "179/179 [==============================] - 2s 13ms/step - loss: 0.0048 - accuracy: 0.9982 - val_loss: 0.0115 - val_accuracy: 0.9980 - epoch_time: 2.1590\n",
            "Epoch 76/500\n",
            "179/179 [==============================] - 2s 12ms/step - loss: 0.0047 - accuracy: 0.9986 - val_loss: 0.0141 - val_accuracy: 0.9968 - epoch_time: 2.0913\n",
            "Epoch 77/500\n",
            "179/179 [==============================] - 2s 12ms/step - loss: 0.0034 - accuracy: 0.9989 - val_loss: 0.0148 - val_accuracy: 0.9980 - epoch_time: 2.0019\n",
            "Epoch 78/500\n",
            "179/179 [==============================] - 2s 12ms/step - loss: 0.0056 - accuracy: 0.9985 - val_loss: 0.0099 - val_accuracy: 0.9964 - epoch_time: 2.0316\n",
            "Epoch 79/500\n",
            "179/179 [==============================] - 2s 13ms/step - loss: 0.0056 - accuracy: 0.9985 - val_loss: 0.0086 - val_accuracy: 0.9984 - epoch_time: 2.2577\n",
            "Epoch 80/500\n",
            "179/179 [==============================] - 3s 16ms/step - loss: 0.0041 - accuracy: 0.9986 - val_loss: 0.0118 - val_accuracy: 0.9976 - epoch_time: 2.7146\n",
            "Epoch 81/500\n",
            "179/179 [==============================] - 2s 12ms/step - loss: 0.0033 - accuracy: 0.9988 - val_loss: 0.0088 - val_accuracy: 0.9976 - epoch_time: 2.0814\n",
            "Epoch 82/500\n",
            "179/179 [==============================] - 2s 12ms/step - loss: 0.0054 - accuracy: 0.9986 - val_loss: 0.0120 - val_accuracy: 0.9964 - epoch_time: 2.0512\n",
            "Epoch 83/500\n",
            "179/179 [==============================] - 2s 12ms/step - loss: 0.0042 - accuracy: 0.9986 - val_loss: 0.0149 - val_accuracy: 0.9961 - epoch_time: 2.0693\n",
            "Epoch 84/500\n",
            "179/179 [==============================] - 2s 12ms/step - loss: 0.0050 - accuracy: 0.9986 - val_loss: 0.0090 - val_accuracy: 0.9984 - epoch_time: 2.0080\n",
            "Epoch 85/500\n",
            "179/179 [==============================] - 2s 14ms/step - loss: 0.0019 - accuracy: 0.9993 - val_loss: 0.0168 - val_accuracy: 0.9976 - epoch_time: 2.3261\n",
            "Epoch 86/500\n",
            "179/179 [==============================] - 3s 16ms/step - loss: 0.0040 - accuracy: 0.9989 - val_loss: 0.0118 - val_accuracy: 0.9968 - epoch_time: 2.7668\n",
            "Epoch 87/500\n",
            "179/179 [==============================] - 2s 12ms/step - loss: 0.0053 - accuracy: 0.9982 - val_loss: 0.0182 - val_accuracy: 0.9964 - epoch_time: 1.9895\n",
            "Epoch 88/500\n",
            "179/179 [==============================] - 2s 12ms/step - loss: 0.0026 - accuracy: 0.9991 - val_loss: 0.0113 - val_accuracy: 0.9968 - epoch_time: 2.0110\n",
            "Epoch 89/500\n",
            "179/179 [==============================] - 2s 12ms/step - loss: 0.0029 - accuracy: 0.9991 - val_loss: 0.0112 - val_accuracy: 0.9980 - epoch_time: 2.0371\n",
            "Epoch 90/500\n",
            "179/179 [==============================] - 2s 12ms/step - loss: 0.0042 - accuracy: 0.9986 - val_loss: 0.0149 - val_accuracy: 0.9968 - epoch_time: 2.0320\n",
            "Epoch 91/500\n",
            "179/179 [==============================] - 2s 14ms/step - loss: 0.0034 - accuracy: 0.9991 - val_loss: 0.0107 - val_accuracy: 0.9968 - epoch_time: 2.3676\n",
            "Epoch 92/500\n",
            "179/179 [==============================] - 3s 16ms/step - loss: 0.0037 - accuracy: 0.9987 - val_loss: 0.0125 - val_accuracy: 0.9984 - epoch_time: 2.7213\n",
            "Epoch 93/500\n",
            "179/179 [==============================] - 2s 12ms/step - loss: 0.0032 - accuracy: 0.9992 - val_loss: 0.0116 - val_accuracy: 0.9972 - epoch_time: 2.0145\n",
            "Epoch 94/500\n",
            "179/179 [==============================] - 2s 12ms/step - loss: 0.0040 - accuracy: 0.9989 - val_loss: 0.0091 - val_accuracy: 0.9976 - epoch_time: 1.9855\n",
            "Epoch 95/500\n",
            "179/179 [==============================] - 2s 12ms/step - loss: 0.0024 - accuracy: 0.9993 - val_loss: 0.0092 - val_accuracy: 0.9980 - epoch_time: 2.0206\n",
            "Epoch 96/500\n",
            "179/179 [==============================] - 2s 12ms/step - loss: 0.0047 - accuracy: 0.9988 - val_loss: 0.0120 - val_accuracy: 0.9972 - epoch_time: 2.0278\n",
            "Epoch 97/500\n",
            "179/179 [==============================] - 2s 14ms/step - loss: 0.0041 - accuracy: 0.9986 - val_loss: 0.0115 - val_accuracy: 0.9980 - epoch_time: 2.3840\n",
            "Epoch 98/500\n",
            "179/179 [==============================] - 3s 15ms/step - loss: 0.0028 - accuracy: 0.9991 - val_loss: 0.0097 - val_accuracy: 0.9968 - epoch_time: 2.6625\n",
            "Epoch 99/500\n",
            "179/179 [==============================] - 2s 12ms/step - loss: 0.0031 - accuracy: 0.9990 - val_loss: 0.0094 - val_accuracy: 0.9976 - epoch_time: 2.0409\n",
            "Epoch 100/500\n",
            "179/179 [==============================] - 2s 12ms/step - loss: 0.0038 - accuracy: 0.9991 - val_loss: 0.0177 - val_accuracy: 0.9968 - epoch_time: 2.1416\n",
            "Epoch 101/500\n",
            "179/179 [==============================] - 2s 12ms/step - loss: 0.0022 - accuracy: 0.9991 - val_loss: 0.0118 - val_accuracy: 0.9964 - epoch_time: 2.0687\n",
            "Epoch 102/500\n",
            "179/179 [==============================] - 2s 12ms/step - loss: 0.0039 - accuracy: 0.9988 - val_loss: 0.0111 - val_accuracy: 0.9976 - epoch_time: 2.0483\n",
            "Epoch 103/500\n",
            "179/179 [==============================] - 3s 15ms/step - loss: 0.0039 - accuracy: 0.9986 - val_loss: 0.0139 - val_accuracy: 0.9976 - epoch_time: 2.5588\n",
            "Epoch 104/500\n",
            "179/179 [==============================] - 3s 15ms/step - loss: 0.0034 - accuracy: 0.9991 - val_loss: 0.0143 - val_accuracy: 0.9968 - epoch_time: 2.5658\n",
            "Epoch 105/500\n",
            "179/179 [==============================] - 2s 12ms/step - loss: 0.0047 - accuracy: 0.9983 - val_loss: 0.0111 - val_accuracy: 0.9964 - epoch_time: 2.0045\n",
            "Epoch 106/500\n",
            "179/179 [==============================] - 2s 12ms/step - loss: 0.0030 - accuracy: 0.9990 - val_loss: 0.0097 - val_accuracy: 0.9980 - epoch_time: 2.1195\n",
            "Epoch 107/500\n",
            "179/179 [==============================] - 2s 12ms/step - loss: 0.0033 - accuracy: 0.9989 - val_loss: 0.0117 - val_accuracy: 0.9968 - epoch_time: 1.9959\n",
            "Epoch 108/500\n",
            "179/179 [==============================] - 2s 12ms/step - loss: 0.0034 - accuracy: 0.9989 - val_loss: 0.0103 - val_accuracy: 0.9961 - epoch_time: 2.0272\n",
            "Epoch 109/500\n",
            "179/179 [==============================] - 3s 16ms/step - loss: 0.0027 - accuracy: 0.9993 - val_loss: 0.0108 - val_accuracy: 0.9968 - epoch_time: 2.7011\n",
            "Epoch 110/500\n",
            "179/179 [==============================] - 3s 18ms/step - loss: 0.0028 - accuracy: 0.9991 - val_loss: 0.0056 - val_accuracy: 0.9980 - epoch_time: 2.3944\n",
            "Epoch 111/500\n",
            "179/179 [==============================] - 2s 12ms/step - loss: 0.0025 - accuracy: 0.9993 - val_loss: 0.0083 - val_accuracy: 0.9988 - epoch_time: 2.0740\n",
            "Epoch 112/500\n",
            "179/179 [==============================] - 2s 12ms/step - loss: 0.0017 - accuracy: 0.9995 - val_loss: 0.0064 - val_accuracy: 0.9992 - epoch_time: 2.0744\n",
            "Epoch 113/500\n",
            "179/179 [==============================] - 2s 12ms/step - loss: 0.0025 - accuracy: 0.9992 - val_loss: 0.0061 - val_accuracy: 0.9988 - epoch_time: 2.0711\n",
            "Epoch 114/500\n",
            "179/179 [==============================] - 2s 13ms/step - loss: 0.0022 - accuracy: 0.9993 - val_loss: 0.0101 - val_accuracy: 0.9980 - epoch_time: 2.2446\n",
            "Epoch 115/500\n",
            "179/179 [==============================] - 3s 16ms/step - loss: 0.0042 - accuracy: 0.9988 - val_loss: 0.0061 - val_accuracy: 0.9988 - epoch_time: 2.7351\n",
            "Epoch 116/500\n",
            "179/179 [==============================] - 2s 12ms/step - loss: 0.0021 - accuracy: 0.9993 - val_loss: 0.0129 - val_accuracy: 0.9980 - epoch_time: 2.0336\n",
            "Epoch 117/500\n",
            "179/179 [==============================] - 2s 12ms/step - loss: 0.0031 - accuracy: 0.9991 - val_loss: 0.0062 - val_accuracy: 0.9984 - epoch_time: 2.0338\n",
            "Epoch 118/500\n",
            "179/179 [==============================] - 2s 12ms/step - loss: 0.0028 - accuracy: 0.9991 - val_loss: 0.0107 - val_accuracy: 0.9976 - epoch_time: 2.0111\n",
            "Epoch 119/500\n",
            "179/179 [==============================] - 2s 12ms/step - loss: 0.0028 - accuracy: 0.9991 - val_loss: 0.0137 - val_accuracy: 0.9976 - epoch_time: 2.0839\n",
            "Epoch 120/500\n",
            "179/179 [==============================] - 2s 13ms/step - loss: 0.0037 - accuracy: 0.9990 - val_loss: 0.0084 - val_accuracy: 0.9976 - epoch_time: 2.2489\n",
            "Epoch 121/500\n",
            "179/179 [==============================] - 3s 16ms/step - loss: 0.0027 - accuracy: 0.9992 - val_loss: 0.0116 - val_accuracy: 0.9980 - epoch_time: 2.8260\n",
            "Epoch 122/500\n",
            "179/179 [==============================] - 2s 12ms/step - loss: 0.0035 - accuracy: 0.9989 - val_loss: 0.0137 - val_accuracy: 0.9972 - epoch_time: 2.0342\n",
            "Epoch 123/500\n",
            "179/179 [==============================] - 2s 12ms/step - loss: 0.0026 - accuracy: 0.9990 - val_loss: 0.0138 - val_accuracy: 0.9976 - epoch_time: 2.0747\n",
            "Epoch 124/500\n",
            "179/179 [==============================] - 2s 12ms/step - loss: 0.0024 - accuracy: 0.9993 - val_loss: 0.0170 - val_accuracy: 0.9968 - epoch_time: 2.0085\n",
            "Epoch 125/500\n",
            "179/179 [==============================] - 2s 12ms/step - loss: 0.0030 - accuracy: 0.9992 - val_loss: 0.0126 - val_accuracy: 0.9976 - epoch_time: 2.0379\n",
            "Epoch 126/500\n",
            "179/179 [==============================] - 2s 14ms/step - loss: 0.0038 - accuracy: 0.9989 - val_loss: 0.0075 - val_accuracy: 0.9972 - epoch_time: 2.3669\n",
            "Epoch 127/500\n",
            "179/179 [==============================] - 3s 16ms/step - loss: 0.0028 - accuracy: 0.9993 - val_loss: 0.0097 - val_accuracy: 0.9980 - epoch_time: 2.7684\n",
            "Epoch 128/500\n",
            "179/179 [==============================] - 2s 12ms/step - loss: 0.0011 - accuracy: 0.9996 - val_loss: 0.0119 - val_accuracy: 0.9984 - epoch_time: 2.0759\n",
            "Epoch 129/500\n",
            "179/179 [==============================] - 2s 12ms/step - loss: 0.0029 - accuracy: 0.9993 - val_loss: 0.0184 - val_accuracy: 0.9972 - epoch_time: 2.0537\n",
            "Epoch 130/500\n",
            "179/179 [==============================] - 2s 12ms/step - loss: 0.0025 - accuracy: 0.9995 - val_loss: 0.0126 - val_accuracy: 0.9976 - epoch_time: 2.0405\n",
            "Epoch 131/500\n",
            "179/179 [==============================] - 2s 12ms/step - loss: 0.0018 - accuracy: 0.9993 - val_loss: 0.0134 - val_accuracy: 0.9964 - epoch_time: 2.0229\n",
            "Epoch 132/500\n",
            "179/179 [==============================] - 3s 14ms/step - loss: 0.0028 - accuracy: 0.9989 - val_loss: 0.0091 - val_accuracy: 0.9980 - epoch_time: 2.4040\n",
            "Epoch 133/500\n",
            "179/179 [==============================] - 3s 16ms/step - loss: 0.0019 - accuracy: 0.9996 - val_loss: 0.0105 - val_accuracy: 0.9980 - epoch_time: 2.7411\n",
            "Epoch 134/500\n",
            "179/179 [==============================] - 2s 12ms/step - loss: 0.0018 - accuracy: 0.9994 - val_loss: 0.0127 - val_accuracy: 0.9980 - epoch_time: 2.0342\n",
            "Epoch 135/500\n",
            "179/179 [==============================] - 2s 12ms/step - loss: 0.0023 - accuracy: 0.9995 - val_loss: 0.0134 - val_accuracy: 0.9972 - epoch_time: 2.0581\n",
            "Epoch 136/500\n",
            "179/179 [==============================] - 2s 12ms/step - loss: 0.0026 - accuracy: 0.9993 - val_loss: 0.0108 - val_accuracy: 0.9984 - epoch_time: 2.0331\n",
            "Epoch 137/500\n",
            "179/179 [==============================] - 2s 12ms/step - loss: 0.0037 - accuracy: 0.9988 - val_loss: 0.0109 - val_accuracy: 0.9984 - epoch_time: 1.9911\n",
            "Epoch 138/500\n",
            "179/179 [==============================] - 3s 15ms/step - loss: 0.0036 - accuracy: 0.9989 - val_loss: 0.0103 - val_accuracy: 0.9984 - epoch_time: 2.5166\n",
            "Epoch 139/500\n",
            "179/179 [==============================] - 3s 15ms/step - loss: 0.0031 - accuracy: 0.9992 - val_loss: 0.0129 - val_accuracy: 0.9976 - epoch_time: 2.6178\n",
            "Epoch 140/500\n",
            "179/179 [==============================] - 2s 12ms/step - loss: 0.0026 - accuracy: 0.9991 - val_loss: 0.0136 - val_accuracy: 0.9972 - epoch_time: 2.0596\n",
            "Epoch 141/500\n",
            "179/179 [==============================] - 2s 12ms/step - loss: 0.0025 - accuracy: 0.9993 - val_loss: 0.0092 - val_accuracy: 0.9976 - epoch_time: 2.0579\n",
            "Epoch 142/500\n",
            "179/179 [==============================] - 2s 12ms/step - loss: 0.0018 - accuracy: 0.9992 - val_loss: 0.0101 - val_accuracy: 0.9988 - epoch_time: 1.9887\n",
            "Epoch 143/500\n",
            "179/179 [==============================] - 2s 12ms/step - loss: 0.0027 - accuracy: 0.9995 - val_loss: 0.0122 - val_accuracy: 0.9972 - epoch_time: 2.0629\n",
            "Epoch 144/500\n",
            "179/179 [==============================] - 3s 17ms/step - loss: 0.0025 - accuracy: 0.9993 - val_loss: 0.0092 - val_accuracy: 0.9980 - epoch_time: 2.9755\n",
            "Epoch 145/500\n",
            "179/179 [==============================] - 4s 20ms/step - loss: 0.0013 - accuracy: 0.9996 - val_loss: 0.0093 - val_accuracy: 0.9972 - epoch_time: 3.3650\n",
            "Epoch 146/500\n",
            "179/179 [==============================] - 2s 14ms/step - loss: 0.0033 - accuracy: 0.9992 - val_loss: 0.0059 - val_accuracy: 0.9988 - epoch_time: 2.3676\n",
            "Epoch 147/500\n",
            "179/179 [==============================] - 2s 12ms/step - loss: 0.0021 - accuracy: 0.9995 - val_loss: 0.0068 - val_accuracy: 0.9984 - epoch_time: 2.0466\n",
            "Epoch 148/500\n",
            "179/179 [==============================] - 2s 12ms/step - loss: 0.0030 - accuracy: 0.9990 - val_loss: 0.0088 - val_accuracy: 0.9988 - epoch_time: 2.0664\n",
            "Epoch 149/500\n",
            "179/179 [==============================] - 2s 12ms/step - loss: 0.0031 - accuracy: 0.9989 - val_loss: 0.0086 - val_accuracy: 0.9988 - epoch_time: 2.1392\n",
            "Epoch 150/500\n",
            "179/179 [==============================] - 2s 13ms/step - loss: 0.0035 - accuracy: 0.9991 - val_loss: 0.0103 - val_accuracy: 0.9968 - epoch_time: 2.2444\n",
            "Epoch 151/500\n",
            "179/179 [==============================] - 3s 17ms/step - loss: 0.0020 - accuracy: 0.9993 - val_loss: 0.0161 - val_accuracy: 0.9976 - epoch_time: 2.9211\n",
            "Epoch 152/500\n",
            "179/179 [==============================] - 2s 13ms/step - loss: 0.0021 - accuracy: 0.9993 - val_loss: 0.0104 - val_accuracy: 0.9980 - epoch_time: 2.2025\n",
            "Epoch 153/500\n",
            "179/179 [==============================] - 2s 12ms/step - loss: 0.0032 - accuracy: 0.9992 - val_loss: 0.0086 - val_accuracy: 0.9980 - epoch_time: 2.0272\n",
            "Epoch 154/500\n",
            "179/179 [==============================] - 2s 12ms/step - loss: 0.0021 - accuracy: 0.9993 - val_loss: 0.0125 - val_accuracy: 0.9972 - epoch_time: 2.0817\n",
            "Epoch 155/500\n",
            "179/179 [==============================] - 2s 12ms/step - loss: 0.0017 - accuracy: 0.9994 - val_loss: 0.0094 - val_accuracy: 0.9988 - epoch_time: 2.0388\n",
            "Epoch 156/500\n",
            "179/179 [==============================] - 2s 14ms/step - loss: 0.0019 - accuracy: 0.9996 - val_loss: 0.0094 - val_accuracy: 0.9984 - epoch_time: 2.3392\n",
            "Epoch 157/500\n",
            "179/179 [==============================] - 3s 16ms/step - loss: 0.0024 - accuracy: 0.9994 - val_loss: 0.0060 - val_accuracy: 0.9988 - epoch_time: 2.7831\n",
            "Epoch 158/500\n",
            "179/179 [==============================] - 2s 12ms/step - loss: 0.0022 - accuracy: 0.9992 - val_loss: 0.0075 - val_accuracy: 0.9972 - epoch_time: 2.1121\n",
            "Epoch 159/500\n",
            "179/179 [==============================] - 2s 12ms/step - loss: 0.0018 - accuracy: 0.9995 - val_loss: 0.0092 - val_accuracy: 0.9984 - epoch_time: 2.1274\n",
            "Epoch 160/500\n",
            "179/179 [==============================] - 2s 13ms/step - loss: 0.0026 - accuracy: 0.9989 - val_loss: 0.0112 - val_accuracy: 0.9976 - epoch_time: 2.1658\n",
            "Epoch 161/500\n",
            "179/179 [==============================] - 2s 12ms/step - loss: 0.0023 - accuracy: 0.9993 - val_loss: 0.0137 - val_accuracy: 0.9980 - epoch_time: 2.0741\n",
            "Epoch 162/500\n",
            "179/179 [==============================] - 3s 14ms/step - loss: 0.0023 - accuracy: 0.9994 - val_loss: 0.0077 - val_accuracy: 0.9984 - epoch_time: 2.4587\n",
            "Epoch 163/500\n",
            "179/179 [==============================] - 3s 15ms/step - loss: 0.0028 - accuracy: 0.9993 - val_loss: 0.0082 - val_accuracy: 0.9972 - epoch_time: 2.6142\n",
            "Epoch 164/500\n",
            "179/179 [==============================] - 2s 12ms/step - loss: 0.0018 - accuracy: 0.9994 - val_loss: 0.0093 - val_accuracy: 0.9976 - epoch_time: 2.1350\n",
            "Epoch 165/500\n",
            "179/179 [==============================] - 2s 12ms/step - loss: 0.0019 - accuracy: 0.9995 - val_loss: 0.0139 - val_accuracy: 0.9961 - epoch_time: 2.1403\n",
            "Epoch 166/500\n",
            "179/179 [==============================] - 2s 12ms/step - loss: 0.0024 - accuracy: 0.9993 - val_loss: 0.0070 - val_accuracy: 0.9988 - epoch_time: 2.0693\n",
            "Epoch 167/500\n",
            "179/179 [==============================] - 2s 12ms/step - loss: 0.0028 - accuracy: 0.9992 - val_loss: 0.0095 - val_accuracy: 0.9976 - epoch_time: 2.0783\n",
            "Epoch 168/500\n",
            "179/179 [==============================] - 3s 15ms/step - loss: 0.0022 - accuracy: 0.9994 - val_loss: 0.0087 - val_accuracy: 0.9988 - epoch_time: 2.5515\n",
            "Epoch 169/500\n",
            "179/179 [==============================] - 3s 14ms/step - loss: 0.0023 - accuracy: 0.9994 - val_loss: 0.0094 - val_accuracy: 0.9976 - epoch_time: 2.4839\n",
            "Epoch 170/500\n",
            "179/179 [==============================] - 2s 12ms/step - loss: 0.0035 - accuracy: 0.9991 - val_loss: 0.0155 - val_accuracy: 0.9964 - epoch_time: 1.9749\n",
            "Epoch 171/500\n",
            "179/179 [==============================] - 2s 12ms/step - loss: 0.0017 - accuracy: 0.9996 - val_loss: 0.0115 - val_accuracy: 0.9980 - epoch_time: 2.0341\n",
            "Epoch 172/500\n",
            "179/179 [==============================] - 2s 12ms/step - loss: 0.0020 - accuracy: 0.9993 - val_loss: 0.0122 - val_accuracy: 0.9976 - epoch_time: 2.0048\n",
            "Epoch 173/500\n",
            "179/179 [==============================] - 2s 12ms/step - loss: 0.0016 - accuracy: 0.9995 - val_loss: 0.0100 - val_accuracy: 0.9968 - epoch_time: 2.1158\n",
            "Epoch 174/500\n",
            "179/179 [==============================] - 3s 15ms/step - loss: 0.0024 - accuracy: 0.9993 - val_loss: 0.0075 - val_accuracy: 0.9984 - epoch_time: 2.6601\n",
            "Epoch 175/500\n",
            "179/179 [==============================] - 3s 14ms/step - loss: 0.0024 - accuracy: 0.9993 - val_loss: 0.0091 - val_accuracy: 0.9988 - epoch_time: 2.4434\n",
            "Epoch 176/500\n",
            "179/179 [==============================] - 2s 12ms/step - loss: 0.0026 - accuracy: 0.9992 - val_loss: 0.0112 - val_accuracy: 0.9984 - epoch_time: 2.0227\n",
            "Epoch 177/500\n",
            "179/179 [==============================] - 2s 12ms/step - loss: 7.7094e-04 - accuracy: 0.9997 - val_loss: 0.0117 - val_accuracy: 0.9988 - epoch_time: 2.1040\n",
            "Epoch 178/500\n",
            "179/179 [==============================] - 2s 12ms/step - loss: 3.4907e-04 - accuracy: 0.9999 - val_loss: 0.0109 - val_accuracy: 0.9984 - epoch_time: 2.1175\n",
            "Epoch 179/500\n",
            "179/179 [==============================] - 2s 12ms/step - loss: 0.0021 - accuracy: 0.9994 - val_loss: 0.0129 - val_accuracy: 0.9972 - epoch_time: 2.1358\n",
            "Epoch 180/500\n",
            "179/179 [==============================] - 3s 16ms/step - loss: 0.0025 - accuracy: 0.9994 - val_loss: 0.0096 - val_accuracy: 0.9976 - epoch_time: 2.7850\n",
            "Epoch 181/500\n",
            "179/179 [==============================] - 3s 14ms/step - loss: 0.0013 - accuracy: 0.9997 - val_loss: 0.0130 - val_accuracy: 0.9980 - epoch_time: 2.4275\n",
            "Epoch 182/500\n",
            "179/179 [==============================] - 2s 12ms/step - loss: 0.0041 - accuracy: 0.9989 - val_loss: 0.0085 - val_accuracy: 0.9972 - epoch_time: 2.1071\n",
            "Epoch 183/500\n",
            "179/179 [==============================] - 2s 12ms/step - loss: 0.0020 - accuracy: 0.9994 - val_loss: 0.0095 - val_accuracy: 0.9984 - epoch_time: 2.0526\n",
            "Epoch 184/500\n",
            "179/179 [==============================] - 2s 12ms/step - loss: 0.0015 - accuracy: 0.9995 - val_loss: 0.0110 - val_accuracy: 0.9984 - epoch_time: 2.0475\n",
            "Epoch 185/500\n",
            "179/179 [==============================] - 2s 12ms/step - loss: 0.0020 - accuracy: 0.9993 - val_loss: 0.0090 - val_accuracy: 0.9988 - epoch_time: 2.0265\n",
            "Epoch 186/500\n",
            "179/179 [==============================] - 3s 16ms/step - loss: 0.0014 - accuracy: 0.9996 - val_loss: 0.0078 - val_accuracy: 0.9992 - epoch_time: 2.8345\n",
            "Epoch 187/500\n",
            "179/179 [==============================] - 2s 13ms/step - loss: 0.0031 - accuracy: 0.9993 - val_loss: 0.0089 - val_accuracy: 0.9984 - epoch_time: 2.3128\n",
            "Epoch 188/500\n",
            "179/179 [==============================] - 2s 12ms/step - loss: 0.0025 - accuracy: 0.9994 - val_loss: 0.0081 - val_accuracy: 0.9984 - epoch_time: 2.0975\n",
            "Epoch 189/500\n",
            "179/179 [==============================] - 2s 12ms/step - loss: 0.0018 - accuracy: 0.9995 - val_loss: 0.0098 - val_accuracy: 0.9976 - epoch_time: 2.0900\n",
            "Epoch 190/500\n",
            "179/179 [==============================] - 2s 13ms/step - loss: 0.0025 - accuracy: 0.9993 - val_loss: 0.0080 - val_accuracy: 0.9980 - epoch_time: 2.1565\n",
            "Epoch 191/500\n",
            "179/179 [==============================] - 2s 13ms/step - loss: 0.0012 - accuracy: 0.9996 - val_loss: 0.0093 - val_accuracy: 0.9984 - epoch_time: 2.2042\n",
            "Epoch 192/500\n",
            "179/179 [==============================] - 3s 16ms/step - loss: 0.0021 - accuracy: 0.9994 - val_loss: 0.0087 - val_accuracy: 0.9980 - epoch_time: 2.6941\n",
            "Epoch 193/500\n",
            "179/179 [==============================] - 2s 12ms/step - loss: 0.0020 - accuracy: 0.9993 - val_loss: 0.0098 - val_accuracy: 0.9980 - epoch_time: 2.1065\n",
            "Epoch 194/500\n",
            "179/179 [==============================] - 2s 12ms/step - loss: 0.0015 - accuracy: 0.9996 - val_loss: 0.0117 - val_accuracy: 0.9972 - epoch_time: 2.0715\n",
            "Epoch 195/500\n",
            "179/179 [==============================] - 2s 12ms/step - loss: 0.0014 - accuracy: 0.9997 - val_loss: 0.0106 - val_accuracy: 0.9980 - epoch_time: 2.1103\n",
            "Epoch 196/500\n",
            "179/179 [==============================] - 2s 12ms/step - loss: 0.0018 - accuracy: 0.9995 - val_loss: 0.0071 - val_accuracy: 0.9980 - epoch_time: 2.1075\n",
            "Epoch 197/500\n",
            "179/179 [==============================] - 2s 13ms/step - loss: 0.0019 - accuracy: 0.9995 - val_loss: 0.0077 - val_accuracy: 0.9984 - epoch_time: 2.2658\n",
            "Epoch 198/500\n",
            "179/179 [==============================] - 3s 16ms/step - loss: 0.0013 - accuracy: 0.9998 - val_loss: 0.0093 - val_accuracy: 0.9988 - epoch_time: 2.8290\n",
            "Epoch 199/500\n",
            "179/179 [==============================] - 2s 12ms/step - loss: 0.0015 - accuracy: 0.9996 - val_loss: 0.0094 - val_accuracy: 0.9984 - epoch_time: 2.0207\n",
            "Epoch 200/500\n",
            "179/179 [==============================] - 2s 12ms/step - loss: 0.0013 - accuracy: 0.9995 - val_loss: 0.0129 - val_accuracy: 0.9984 - epoch_time: 2.0955\n",
            "Epoch 201/500\n",
            "179/179 [==============================] - 2s 12ms/step - loss: 0.0021 - accuracy: 0.9993 - val_loss: 0.0083 - val_accuracy: 0.9988 - epoch_time: 2.0531\n",
            "Epoch 202/500\n",
            "179/179 [==============================] - 2s 12ms/step - loss: 0.0014 - accuracy: 0.9996 - val_loss: 0.0092 - val_accuracy: 0.9984 - epoch_time: 2.0356\n",
            "Epoch 203/500\n",
            "179/179 [==============================] - 3s 14ms/step - loss: 0.0033 - accuracy: 0.9992 - val_loss: 0.0131 - val_accuracy: 0.9984 - epoch_time: 2.3976\n",
            "Epoch 204/500\n",
            "179/179 [==============================] - 3s 16ms/step - loss: 0.0012 - accuracy: 0.9996 - val_loss: 0.0109 - val_accuracy: 0.9984 - epoch_time: 2.7479\n",
            "Epoch 205/500\n",
            "179/179 [==============================] - 2s 12ms/step - loss: 0.0019 - accuracy: 0.9992 - val_loss: 0.0108 - val_accuracy: 0.9984 - epoch_time: 2.0656\n",
            "Epoch 206/500\n",
            "179/179 [==============================] - 2s 12ms/step - loss: 0.0028 - accuracy: 0.9993 - val_loss: 0.0091 - val_accuracy: 0.9976 - epoch_time: 2.0308\n",
            "Epoch 207/500\n",
            "179/179 [==============================] - 2s 12ms/step - loss: 0.0020 - accuracy: 0.9995 - val_loss: 0.0154 - val_accuracy: 0.9980 - epoch_time: 2.0008\n",
            "Epoch 208/500\n",
            "179/179 [==============================] - 2s 12ms/step - loss: 0.0030 - accuracy: 0.9989 - val_loss: 0.0096 - val_accuracy: 0.9984 - epoch_time: 2.0199\n",
            "Epoch 209/500\n",
            "179/179 [==============================] - 3s 14ms/step - loss: 0.0010 - accuracy: 0.9996 - val_loss: 0.0116 - val_accuracy: 0.9980 - epoch_time: 2.4403\n",
            "Epoch 210/500\n",
            "179/179 [==============================] - 3s 15ms/step - loss: 0.0020 - accuracy: 0.9994 - val_loss: 0.0107 - val_accuracy: 0.9980 - epoch_time: 2.6590\n",
            "Epoch 211/500\n",
            "179/179 [==============================] - 2s 12ms/step - loss: 0.0023 - accuracy: 0.9994 - val_loss: 0.0123 - val_accuracy: 0.9972 - epoch_time: 2.0212\n",
            "Epoch 212/500\n",
            "179/179 [==============================] - 2s 12ms/step - loss: 0.0016 - accuracy: 0.9996 - val_loss: 0.0116 - val_accuracy: 0.9976 - epoch_time: 2.0526\n"
          ]
        }
      ]
    },
    {
      "cell_type": "code",
      "metadata": {
        "id": "ylJKm4n7ppeJ",
        "colab": {
          "base_uri": "https://localhost:8080/"
        },
        "outputId": "c2683e23-b76d-4830-8948-dbb8f6f3ea1b"
      },
      "source": [
        "sensor = \"sensor3\"\n",
        "time_callback = TimeHistory()\n",
        "model_sensor3 = creatModel()\n",
        "model_save, checkpoint, history_cb, Estop = setCallbacks(\"sensor3\")\n",
        "history_sensor3 = model_sensor3.fit(X_train_sensor3, y_train_sensor3,\n",
        "                                    batch_size = 128, epochs = 500,\n",
        "                                    validation_split = 0.1,\n",
        "                                    verbose = 1,\n",
        "                                    callbacks = [time_callback, model_save, checkpoint, history_cb, Estop])\n",
        "                                    # class_weight= class_weights)#"
      ],
      "execution_count": null,
      "outputs": [
        {
          "output_type": "stream",
          "name": "stdout",
          "text": [
            "Epoch 1/500\n",
            "179/179 [==============================] - 9s 23ms/step - loss: 0.3731 - accuracy: 0.8651 - val_loss: 0.2360 - val_accuracy: 0.9214 - epoch_time: 8.5977\n",
            "Epoch 2/500\n",
            "179/179 [==============================] - 2s 12ms/step - loss: 0.2096 - accuracy: 0.9344 - val_loss: 0.1917 - val_accuracy: 0.9396 - epoch_time: 2.0470\n",
            "Epoch 3/500\n",
            "179/179 [==============================] - 2s 14ms/step - loss: 0.1561 - accuracy: 0.9520 - val_loss: 0.1434 - val_accuracy: 0.9566 - epoch_time: 2.0078\n",
            "Epoch 4/500\n",
            "179/179 [==============================] - 2s 12ms/step - loss: 0.1261 - accuracy: 0.9619 - val_loss: 0.1191 - val_accuracy: 0.9672 - epoch_time: 1.9671\n",
            "Epoch 5/500\n",
            "179/179 [==============================] - 2s 12ms/step - loss: 0.1103 - accuracy: 0.9658 - val_loss: 0.1137 - val_accuracy: 0.9672 - epoch_time: 1.9722\n",
            "Epoch 6/500\n",
            "179/179 [==============================] - 2s 14ms/step - loss: 0.1028 - accuracy: 0.9686 - val_loss: 0.1188 - val_accuracy: 0.9648 - epoch_time: 2.3378\n",
            "Epoch 7/500\n",
            "179/179 [==============================] - 3s 15ms/step - loss: 0.0917 - accuracy: 0.9712 - val_loss: 0.1121 - val_accuracy: 0.9700 - epoch_time: 2.5437\n",
            "Epoch 8/500\n",
            "179/179 [==============================] - 2s 12ms/step - loss: 0.0902 - accuracy: 0.9732 - val_loss: 0.1036 - val_accuracy: 0.9700 - epoch_time: 1.9676\n",
            "Epoch 9/500\n",
            "179/179 [==============================] - 2s 12ms/step - loss: 0.0854 - accuracy: 0.9735 - val_loss: 0.1023 - val_accuracy: 0.9716 - epoch_time: 1.9983\n",
            "Epoch 10/500\n",
            "179/179 [==============================] - 2s 12ms/step - loss: 0.0769 - accuracy: 0.9774 - val_loss: 0.1053 - val_accuracy: 0.9648 - epoch_time: 1.9810\n",
            "Epoch 11/500\n",
            "179/179 [==============================] - 2s 12ms/step - loss: 0.0800 - accuracy: 0.9762 - val_loss: 0.0936 - val_accuracy: 0.9708 - epoch_time: 1.9822\n",
            "Epoch 12/500\n",
            "179/179 [==============================] - 3s 14ms/step - loss: 0.0876 - accuracy: 0.9723 - val_loss: 0.1011 - val_accuracy: 0.9704 - epoch_time: 2.4430\n",
            "Epoch 13/500\n",
            "179/179 [==============================] - 3s 15ms/step - loss: 0.0713 - accuracy: 0.9787 - val_loss: 0.0916 - val_accuracy: 0.9747 - epoch_time: 2.4541\n",
            "Epoch 14/500\n",
            "179/179 [==============================] - 2s 12ms/step - loss: 0.0698 - accuracy: 0.9792 - val_loss: 0.1033 - val_accuracy: 0.9724 - epoch_time: 2.0471\n",
            "Epoch 15/500\n",
            "179/179 [==============================] - 2s 12ms/step - loss: 0.0703 - accuracy: 0.9782 - val_loss: 0.0954 - val_accuracy: 0.9716 - epoch_time: 2.0459\n",
            "Epoch 16/500\n",
            "179/179 [==============================] - 2s 12ms/step - loss: 0.0649 - accuracy: 0.9795 - val_loss: 0.0896 - val_accuracy: 0.9735 - epoch_time: 2.0149\n",
            "Epoch 17/500\n",
            "179/179 [==============================] - 2s 12ms/step - loss: 0.0664 - accuracy: 0.9798 - val_loss: 0.0910 - val_accuracy: 0.9743 - epoch_time: 1.9775\n",
            "Epoch 18/500\n",
            "179/179 [==============================] - 3s 14ms/step - loss: 0.0661 - accuracy: 0.9798 - val_loss: 0.0912 - val_accuracy: 0.9731 - epoch_time: 2.4327\n",
            "Epoch 19/500\n",
            "179/179 [==============================] - 3s 14ms/step - loss: 0.0634 - accuracy: 0.9805 - val_loss: 0.0862 - val_accuracy: 0.9735 - epoch_time: 2.3397\n",
            "Epoch 20/500\n",
            "179/179 [==============================] - 2s 12ms/step - loss: 0.0637 - accuracy: 0.9804 - val_loss: 0.0843 - val_accuracy: 0.9735 - epoch_time: 1.9766\n",
            "Epoch 21/500\n",
            "179/179 [==============================] - 2s 11ms/step - loss: 0.0572 - accuracy: 0.9817 - val_loss: 0.0951 - val_accuracy: 0.9724 - epoch_time: 1.9505\n",
            "Epoch 22/500\n",
            "179/179 [==============================] - 2s 12ms/step - loss: 0.0580 - accuracy: 0.9821 - val_loss: 0.0897 - val_accuracy: 0.9735 - epoch_time: 2.0020\n",
            "Epoch 23/500\n",
            "179/179 [==============================] - 2s 11ms/step - loss: 0.0547 - accuracy: 0.9829 - val_loss: 0.0845 - val_accuracy: 0.9727 - epoch_time: 1.9522\n",
            "Epoch 24/500\n",
            "179/179 [==============================] - 3s 14ms/step - loss: 0.0557 - accuracy: 0.9832 - val_loss: 0.0960 - val_accuracy: 0.9727 - epoch_time: 2.3999\n",
            "Epoch 25/500\n",
            "179/179 [==============================] - 3s 19ms/step - loss: 0.0540 - accuracy: 0.9837 - val_loss: 0.0817 - val_accuracy: 0.9747 - epoch_time: 2.4699\n",
            "Epoch 26/500\n",
            "179/179 [==============================] - 2s 12ms/step - loss: 0.0519 - accuracy: 0.9835 - val_loss: 0.0808 - val_accuracy: 0.9759 - epoch_time: 1.9683\n",
            "Epoch 27/500\n",
            "179/179 [==============================] - 2s 12ms/step - loss: 0.0529 - accuracy: 0.9838 - val_loss: 0.0892 - val_accuracy: 0.9731 - epoch_time: 2.0752\n",
            "Epoch 28/500\n",
            "179/179 [==============================] - 2s 12ms/step - loss: 0.0520 - accuracy: 0.9829 - val_loss: 0.0821 - val_accuracy: 0.9747 - epoch_time: 2.0376\n",
            "Epoch 29/500\n",
            "179/179 [==============================] - 2s 13ms/step - loss: 0.0513 - accuracy: 0.9838 - val_loss: 0.0871 - val_accuracy: 0.9755 - epoch_time: 2.1928\n",
            "Epoch 30/500\n",
            "179/179 [==============================] - 3s 16ms/step - loss: 0.0495 - accuracy: 0.9843 - val_loss: 0.0734 - val_accuracy: 0.9739 - epoch_time: 2.7037\n",
            "Epoch 31/500\n",
            "179/179 [==============================] - 2s 12ms/step - loss: 0.0545 - accuracy: 0.9834 - val_loss: 0.0819 - val_accuracy: 0.9747 - epoch_time: 2.0132\n",
            "Epoch 32/500\n",
            "179/179 [==============================] - 2s 11ms/step - loss: 0.0487 - accuracy: 0.9838 - val_loss: 0.0917 - val_accuracy: 0.9771 - epoch_time: 1.9230\n",
            "Epoch 33/500\n",
            "179/179 [==============================] - 2s 12ms/step - loss: 0.0460 - accuracy: 0.9855 - val_loss: 0.0805 - val_accuracy: 0.9755 - epoch_time: 2.0132\n",
            "Epoch 34/500\n",
            "179/179 [==============================] - 2s 12ms/step - loss: 0.0473 - accuracy: 0.9845 - val_loss: 0.0889 - val_accuracy: 0.9720 - epoch_time: 1.9861\n",
            "Epoch 35/500\n",
            "179/179 [==============================] - 2s 13ms/step - loss: 0.0440 - accuracy: 0.9853 - val_loss: 0.0779 - val_accuracy: 0.9759 - epoch_time: 2.1960\n",
            "Epoch 36/500\n",
            "179/179 [==============================] - 3s 18ms/step - loss: 0.0428 - accuracy: 0.9864 - val_loss: 0.0849 - val_accuracy: 0.9739 - epoch_time: 3.0479\n",
            "Epoch 37/500\n",
            "179/179 [==============================] - 3s 17ms/step - loss: 0.0432 - accuracy: 0.9867 - val_loss: 0.0768 - val_accuracy: 0.9775 - epoch_time: 2.9168\n",
            "Epoch 38/500\n",
            "179/179 [==============================] - 2s 11ms/step - loss: 0.0409 - accuracy: 0.9869 - val_loss: 0.0780 - val_accuracy: 0.9779 - epoch_time: 1.9675\n",
            "Epoch 39/500\n",
            "179/179 [==============================] - 2s 12ms/step - loss: 0.0409 - accuracy: 0.9869 - val_loss: 0.0939 - val_accuracy: 0.9747 - epoch_time: 1.9817\n",
            "Epoch 40/500\n",
            "179/179 [==============================] - 3s 16ms/step - loss: 0.0417 - accuracy: 0.9871 - val_loss: 0.0642 - val_accuracy: 0.9814 - epoch_time: 1.9629\n",
            "Epoch 41/500\n",
            "179/179 [==============================] - 2s 12ms/step - loss: 0.0393 - accuracy: 0.9868 - val_loss: 0.0711 - val_accuracy: 0.9795 - epoch_time: 1.9729\n",
            "Epoch 42/500\n",
            "179/179 [==============================] - 3s 15ms/step - loss: 0.0384 - accuracy: 0.9874 - val_loss: 0.0692 - val_accuracy: 0.9795 - epoch_time: 2.5733\n",
            "Epoch 43/500\n",
            "179/179 [==============================] - 2s 14ms/step - loss: 0.0380 - accuracy: 0.9877 - val_loss: 0.0723 - val_accuracy: 0.9787 - epoch_time: 2.3847\n",
            "Epoch 44/500\n",
            "179/179 [==============================] - 2s 12ms/step - loss: 0.0509 - accuracy: 0.9839 - val_loss: 0.0756 - val_accuracy: 0.9779 - epoch_time: 2.0014\n",
            "Epoch 45/500\n",
            "179/179 [==============================] - 2s 12ms/step - loss: 0.0381 - accuracy: 0.9873 - val_loss: 0.0759 - val_accuracy: 0.9763 - epoch_time: 2.0457\n",
            "Epoch 46/500\n",
            "179/179 [==============================] - 2s 12ms/step - loss: 0.0370 - accuracy: 0.9878 - val_loss: 0.0818 - val_accuracy: 0.9771 - epoch_time: 2.0847\n",
            "Epoch 47/500\n",
            "179/179 [==============================] - 2s 12ms/step - loss: 0.0367 - accuracy: 0.9882 - val_loss: 0.0830 - val_accuracy: 0.9763 - epoch_time: 2.0199\n",
            "Epoch 48/500\n",
            "179/179 [==============================] - 3s 16ms/step - loss: 0.0370 - accuracy: 0.9880 - val_loss: 0.0781 - val_accuracy: 0.9799 - epoch_time: 2.7087\n",
            "Epoch 49/500\n",
            "179/179 [==============================] - 2s 14ms/step - loss: 0.0342 - accuracy: 0.9885 - val_loss: 0.0695 - val_accuracy: 0.9799 - epoch_time: 2.3346\n",
            "Epoch 50/500\n",
            "179/179 [==============================] - 2s 13ms/step - loss: 0.0330 - accuracy: 0.9888 - val_loss: 0.0796 - val_accuracy: 0.9783 - epoch_time: 2.1635\n",
            "Epoch 51/500\n",
            "179/179 [==============================] - 2s 12ms/step - loss: 0.0351 - accuracy: 0.9878 - val_loss: 0.0668 - val_accuracy: 0.9803 - epoch_time: 2.1178\n",
            "Epoch 52/500\n",
            "179/179 [==============================] - 2s 12ms/step - loss: 0.0348 - accuracy: 0.9893 - val_loss: 0.0712 - val_accuracy: 0.9803 - epoch_time: 2.1200\n",
            "Epoch 53/500\n",
            "179/179 [==============================] - 2s 14ms/step - loss: 0.0313 - accuracy: 0.9889 - val_loss: 0.0813 - val_accuracy: 0.9767 - epoch_time: 2.2830\n",
            "Epoch 54/500\n",
            "179/179 [==============================] - 3s 17ms/step - loss: 0.0347 - accuracy: 0.9884 - val_loss: 0.0768 - val_accuracy: 0.9771 - epoch_time: 2.8746\n",
            "Epoch 55/500\n",
            "179/179 [==============================] - 2s 12ms/step - loss: 0.0331 - accuracy: 0.9881 - val_loss: 0.0675 - val_accuracy: 0.9799 - epoch_time: 2.0689\n",
            "Epoch 56/500\n",
            "179/179 [==============================] - 2s 12ms/step - loss: 0.0313 - accuracy: 0.9900 - val_loss: 0.0730 - val_accuracy: 0.9783 - epoch_time: 2.0924\n",
            "Epoch 57/500\n",
            "179/179 [==============================] - 2s 12ms/step - loss: 0.0323 - accuracy: 0.9895 - val_loss: 0.0651 - val_accuracy: 0.9795 - epoch_time: 2.0918\n",
            "Epoch 58/500\n",
            "179/179 [==============================] - 2s 12ms/step - loss: 0.0315 - accuracy: 0.9905 - val_loss: 0.0985 - val_accuracy: 0.9747 - epoch_time: 2.0622\n",
            "Epoch 59/500\n",
            "179/179 [==============================] - 3s 18ms/step - loss: 0.0301 - accuracy: 0.9901 - val_loss: 0.0628 - val_accuracy: 0.9775 - epoch_time: 2.4256\n",
            "Epoch 60/500\n",
            "179/179 [==============================] - 3s 14ms/step - loss: 0.0337 - accuracy: 0.9885 - val_loss: 0.0719 - val_accuracy: 0.9799 - epoch_time: 2.4202\n",
            "Epoch 61/500\n",
            "179/179 [==============================] - 2s 13ms/step - loss: 0.0320 - accuracy: 0.9892 - val_loss: 0.0673 - val_accuracy: 0.9795 - epoch_time: 2.1471\n",
            "Epoch 62/500\n",
            "179/179 [==============================] - 2s 12ms/step - loss: 0.0267 - accuracy: 0.9914 - val_loss: 0.0662 - val_accuracy: 0.9806 - epoch_time: 2.1061\n",
            "Epoch 63/500\n",
            "179/179 [==============================] - 2s 12ms/step - loss: 0.0284 - accuracy: 0.9911 - val_loss: 0.0745 - val_accuracy: 0.9783 - epoch_time: 2.0888\n",
            "Epoch 64/500\n",
            "179/179 [==============================] - 4s 24ms/step - loss: 0.0281 - accuracy: 0.9907 - val_loss: 0.0624 - val_accuracy: 0.9767 - epoch_time: 2.2603\n",
            "Epoch 65/500\n",
            "179/179 [==============================] - 2s 13ms/step - loss: 0.0257 - accuracy: 0.9908 - val_loss: 0.0730 - val_accuracy: 0.9814 - epoch_time: 2.2063\n",
            "Epoch 66/500\n",
            "179/179 [==============================] - 2s 13ms/step - loss: 0.0289 - accuracy: 0.9898 - val_loss: 0.0648 - val_accuracy: 0.9799 - epoch_time: 2.1493\n",
            "Epoch 67/500\n",
            "179/179 [==============================] - 2s 13ms/step - loss: 0.0259 - accuracy: 0.9912 - val_loss: 0.0742 - val_accuracy: 0.9791 - epoch_time: 2.1734\n",
            "Epoch 68/500\n",
            "179/179 [==============================] - 2s 12ms/step - loss: 0.0278 - accuracy: 0.9907 - val_loss: 0.0638 - val_accuracy: 0.9787 - epoch_time: 2.1026\n",
            "Epoch 69/500\n",
            "179/179 [==============================] - 3s 15ms/step - loss: 0.0269 - accuracy: 0.9903 - val_loss: 0.0753 - val_accuracy: 0.9787 - epoch_time: 2.5755\n",
            "Epoch 70/500\n",
            "179/179 [==============================] - 3s 14ms/step - loss: 0.0266 - accuracy: 0.9907 - val_loss: 0.0690 - val_accuracy: 0.9775 - epoch_time: 2.5046\n",
            "Epoch 71/500\n",
            "179/179 [==============================] - 2s 12ms/step - loss: 0.0262 - accuracy: 0.9909 - val_loss: 0.0670 - val_accuracy: 0.9803 - epoch_time: 2.0983\n",
            "Epoch 72/500\n",
            "179/179 [==============================] - 2s 12ms/step - loss: 0.0232 - accuracy: 0.9918 - val_loss: 0.0836 - val_accuracy: 0.9791 - epoch_time: 2.1254\n",
            "Epoch 73/500\n",
            "179/179 [==============================] - 2s 12ms/step - loss: 0.0243 - accuracy: 0.9912 - val_loss: 0.0710 - val_accuracy: 0.9783 - epoch_time: 2.0221\n",
            "Epoch 74/500\n",
            "179/179 [==============================] - 3s 19ms/step - loss: 0.0264 - accuracy: 0.9908 - val_loss: 0.0621 - val_accuracy: 0.9795 - epoch_time: 2.0962\n",
            "Epoch 75/500\n",
            "179/179 [==============================] - 3s 16ms/step - loss: 0.0237 - accuracy: 0.9917 - val_loss: 0.0560 - val_accuracy: 0.9787 - epoch_time: 2.6436\n",
            "Epoch 76/500\n",
            "179/179 [==============================] - 2s 12ms/step - loss: 0.0238 - accuracy: 0.9917 - val_loss: 0.0642 - val_accuracy: 0.9818 - epoch_time: 2.0839\n",
            "Epoch 77/500\n",
            "179/179 [==============================] - 2s 12ms/step - loss: 0.0233 - accuracy: 0.9922 - val_loss: 0.0573 - val_accuracy: 0.9826 - epoch_time: 2.0737\n",
            "Epoch 78/500\n",
            "179/179 [==============================] - 2s 12ms/step - loss: 0.0241 - accuracy: 0.9927 - val_loss: 0.0696 - val_accuracy: 0.9814 - epoch_time: 2.1145\n",
            "Epoch 79/500\n",
            "179/179 [==============================] - 2s 12ms/step - loss: 0.0225 - accuracy: 0.9925 - val_loss: 0.0729 - val_accuracy: 0.9810 - epoch_time: 2.0180\n",
            "Epoch 80/500\n",
            "179/179 [==============================] - 3s 15ms/step - loss: 0.0245 - accuracy: 0.9920 - val_loss: 0.0699 - val_accuracy: 0.9810 - epoch_time: 2.4926\n",
            "Epoch 81/500\n",
            "179/179 [==============================] - 3s 14ms/step - loss: 0.0225 - accuracy: 0.9923 - val_loss: 0.0749 - val_accuracy: 0.9834 - epoch_time: 2.4955\n",
            "Epoch 82/500\n",
            "179/179 [==============================] - 2s 12ms/step - loss: 0.0215 - accuracy: 0.9926 - val_loss: 0.0679 - val_accuracy: 0.9818 - epoch_time: 2.0846\n",
            "Epoch 83/500\n",
            "179/179 [==============================] - 2s 12ms/step - loss: 0.0217 - accuracy: 0.9925 - val_loss: 0.0647 - val_accuracy: 0.9799 - epoch_time: 2.0088\n",
            "Epoch 84/500\n",
            "179/179 [==============================] - 2s 11ms/step - loss: 0.0206 - accuracy: 0.9926 - val_loss: 0.0635 - val_accuracy: 0.9818 - epoch_time: 1.9563\n",
            "Epoch 85/500\n",
            "179/179 [==============================] - 2s 12ms/step - loss: 0.0230 - accuracy: 0.9927 - val_loss: 0.0715 - val_accuracy: 0.9814 - epoch_time: 1.9893\n",
            "Epoch 86/500\n",
            "179/179 [==============================] - 3s 14ms/step - loss: 0.0356 - accuracy: 0.9874 - val_loss: 0.0794 - val_accuracy: 0.9767 - epoch_time: 2.4749\n",
            "Epoch 87/500\n",
            "179/179 [==============================] - 3s 15ms/step - loss: 0.0248 - accuracy: 0.9917 - val_loss: 0.0769 - val_accuracy: 0.9787 - epoch_time: 2.5970\n",
            "Epoch 88/500\n",
            "179/179 [==============================] - 2s 12ms/step - loss: 0.0238 - accuracy: 0.9922 - val_loss: 0.0596 - val_accuracy: 0.9814 - epoch_time: 2.0970\n",
            "Epoch 89/500\n",
            "179/179 [==============================] - 2s 12ms/step - loss: 0.0188 - accuracy: 0.9937 - val_loss: 0.0620 - val_accuracy: 0.9787 - epoch_time: 2.0505\n",
            "Epoch 90/500\n",
            "179/179 [==============================] - 2s 12ms/step - loss: 0.0199 - accuracy: 0.9932 - val_loss: 0.0699 - val_accuracy: 0.9810 - epoch_time: 2.0169\n",
            "Epoch 91/500\n",
            "179/179 [==============================] - 2s 12ms/step - loss: 0.0185 - accuracy: 0.9938 - val_loss: 0.0720 - val_accuracy: 0.9806 - epoch_time: 2.0544\n",
            "Epoch 92/500\n",
            "179/179 [==============================] - 3s 15ms/step - loss: 0.0172 - accuracy: 0.9944 - val_loss: 0.0731 - val_accuracy: 0.9818 - epoch_time: 2.5475\n",
            "Epoch 93/500\n",
            "179/179 [==============================] - 3s 14ms/step - loss: 0.0193 - accuracy: 0.9940 - val_loss: 0.0592 - val_accuracy: 0.9842 - epoch_time: 2.4175\n",
            "Epoch 94/500\n",
            "179/179 [==============================] - 2s 12ms/step - loss: 0.0207 - accuracy: 0.9925 - val_loss: 0.0596 - val_accuracy: 0.9818 - epoch_time: 2.0002\n",
            "Epoch 95/500\n",
            "179/179 [==============================] - 2s 12ms/step - loss: 0.0197 - accuracy: 0.9937 - val_loss: 0.0609 - val_accuracy: 0.9806 - epoch_time: 2.0081\n",
            "Epoch 96/500\n",
            "179/179 [==============================] - 2s 12ms/step - loss: 0.0185 - accuracy: 0.9937 - val_loss: 0.0631 - val_accuracy: 0.9799 - epoch_time: 2.0750\n",
            "Epoch 97/500\n",
            "179/179 [==============================] - 2s 12ms/step - loss: 0.0194 - accuracy: 0.9942 - val_loss: 0.0679 - val_accuracy: 0.9822 - epoch_time: 2.0279\n",
            "Epoch 98/500\n",
            "179/179 [==============================] - 3s 16ms/step - loss: 0.0192 - accuracy: 0.9932 - val_loss: 0.0695 - val_accuracy: 0.9806 - epoch_time: 2.6674\n",
            "Epoch 99/500\n",
            "179/179 [==============================] - 2s 14ms/step - loss: 0.0152 - accuracy: 0.9947 - val_loss: 0.0797 - val_accuracy: 0.9810 - epoch_time: 2.3421\n",
            "Epoch 100/500\n",
            "179/179 [==============================] - 2s 12ms/step - loss: 0.0175 - accuracy: 0.9943 - val_loss: 0.0667 - val_accuracy: 0.9795 - epoch_time: 1.9932\n",
            "Epoch 101/500\n",
            "179/179 [==============================] - 2s 12ms/step - loss: 0.0164 - accuracy: 0.9942 - val_loss: 0.0756 - val_accuracy: 0.9806 - epoch_time: 2.0344\n",
            "Epoch 102/500\n",
            "179/179 [==============================] - 2s 12ms/step - loss: 0.0172 - accuracy: 0.9941 - val_loss: 0.0997 - val_accuracy: 0.9787 - epoch_time: 1.9904\n",
            "Epoch 103/500\n",
            "179/179 [==============================] - 2s 12ms/step - loss: 0.0187 - accuracy: 0.9946 - val_loss: 0.0766 - val_accuracy: 0.9795 - epoch_time: 2.0364\n",
            "Epoch 104/500\n",
            "179/179 [==============================] - 3s 16ms/step - loss: 0.0184 - accuracy: 0.9938 - val_loss: 0.0641 - val_accuracy: 0.9810 - epoch_time: 2.7609\n",
            "Epoch 105/500\n",
            "179/179 [==============================] - 2s 14ms/step - loss: 0.0167 - accuracy: 0.9945 - val_loss: 0.0673 - val_accuracy: 0.9814 - epoch_time: 2.3655\n",
            "Epoch 106/500\n",
            "179/179 [==============================] - 2s 12ms/step - loss: 0.0153 - accuracy: 0.9945 - val_loss: 0.0628 - val_accuracy: 0.9826 - epoch_time: 2.0286\n",
            "Epoch 107/500\n",
            "179/179 [==============================] - 2s 12ms/step - loss: 0.0163 - accuracy: 0.9947 - val_loss: 0.0759 - val_accuracy: 0.9830 - epoch_time: 1.9933\n",
            "Epoch 108/500\n",
            "179/179 [==============================] - 2s 12ms/step - loss: 0.0172 - accuracy: 0.9942 - val_loss: 0.0753 - val_accuracy: 0.9791 - epoch_time: 2.0054\n",
            "Epoch 109/500\n",
            "179/179 [==============================] - 2s 12ms/step - loss: 0.0154 - accuracy: 0.9947 - val_loss: 0.0840 - val_accuracy: 0.9791 - epoch_time: 2.0584\n",
            "Epoch 110/500\n",
            "179/179 [==============================] - 3s 16ms/step - loss: 0.0150 - accuracy: 0.9952 - val_loss: 0.0761 - val_accuracy: 0.9795 - epoch_time: 2.7727\n",
            "Epoch 111/500\n",
            "179/179 [==============================] - 2s 13ms/step - loss: 0.0171 - accuracy: 0.9946 - val_loss: 0.0560 - val_accuracy: 0.9826 - epoch_time: 2.2415\n",
            "Epoch 112/500\n",
            "179/179 [==============================] - 2s 12ms/step - loss: 0.0158 - accuracy: 0.9949 - val_loss: 0.0624 - val_accuracy: 0.9826 - epoch_time: 2.0122\n",
            "Epoch 113/500\n",
            "179/179 [==============================] - 2s 12ms/step - loss: 0.0155 - accuracy: 0.9950 - val_loss: 0.0666 - val_accuracy: 0.9822 - epoch_time: 2.0197\n",
            "Epoch 114/500\n",
            "179/179 [==============================] - 2s 12ms/step - loss: 0.0285 - accuracy: 0.9909 - val_loss: 0.0589 - val_accuracy: 0.9818 - epoch_time: 2.0266\n",
            "Epoch 115/500\n",
            "179/179 [==============================] - 2s 12ms/step - loss: 0.0200 - accuracy: 0.9939 - val_loss: 0.0729 - val_accuracy: 0.9799 - epoch_time: 2.0275\n",
            "Epoch 116/500\n",
            "179/179 [==============================] - 3s 16ms/step - loss: 0.0169 - accuracy: 0.9946 - val_loss: 0.0833 - val_accuracy: 0.9810 - epoch_time: 2.7738\n",
            "Epoch 117/500\n",
            "179/179 [==============================] - 2s 13ms/step - loss: 0.0133 - accuracy: 0.9949 - val_loss: 0.0860 - val_accuracy: 0.9810 - epoch_time: 2.2704\n",
            "Epoch 118/500\n",
            "179/179 [==============================] - 2s 12ms/step - loss: 0.0133 - accuracy: 0.9953 - val_loss: 0.0805 - val_accuracy: 0.9818 - epoch_time: 2.0852\n",
            "Epoch 119/500\n",
            "179/179 [==============================] - 2s 12ms/step - loss: 0.0167 - accuracy: 0.9939 - val_loss: 0.0727 - val_accuracy: 0.9818 - epoch_time: 2.1111\n",
            "Epoch 120/500\n",
            "179/179 [==============================] - 2s 12ms/step - loss: 0.0149 - accuracy: 0.9955 - val_loss: 0.0587 - val_accuracy: 0.9838 - epoch_time: 2.0570\n",
            "Epoch 121/500\n",
            "179/179 [==============================] - 2s 13ms/step - loss: 0.0142 - accuracy: 0.9955 - val_loss: 0.0705 - val_accuracy: 0.9806 - epoch_time: 2.1824\n",
            "Epoch 122/500\n",
            "179/179 [==============================] - 3s 16ms/step - loss: 0.0147 - accuracy: 0.9946 - val_loss: 0.0614 - val_accuracy: 0.9810 - epoch_time: 2.7600\n",
            "Epoch 123/500\n",
            "179/179 [==============================] - 2s 12ms/step - loss: 0.0139 - accuracy: 0.9960 - val_loss: 0.0671 - val_accuracy: 0.9810 - epoch_time: 2.1048\n",
            "Epoch 124/500\n",
            "179/179 [==============================] - 2s 12ms/step - loss: 0.0119 - accuracy: 0.9956 - val_loss: 0.0776 - val_accuracy: 0.9806 - epoch_time: 2.0862\n",
            "Epoch 125/500\n",
            "179/179 [==============================] - 2s 12ms/step - loss: 0.0121 - accuracy: 0.9961 - val_loss: 0.0673 - val_accuracy: 0.9830 - epoch_time: 2.0613\n",
            "Epoch 126/500\n",
            "179/179 [==============================] - 2s 12ms/step - loss: 0.0136 - accuracy: 0.9951 - val_loss: 0.0727 - val_accuracy: 0.9818 - epoch_time: 2.0853\n",
            "Epoch 127/500\n",
            "179/179 [==============================] - 2s 14ms/step - loss: 0.0111 - accuracy: 0.9964 - val_loss: 0.0813 - val_accuracy: 0.9799 - epoch_time: 2.3427\n",
            "Epoch 128/500\n",
            "179/179 [==============================] - 3s 16ms/step - loss: 0.0159 - accuracy: 0.9947 - val_loss: 0.0686 - val_accuracy: 0.9806 - epoch_time: 2.7165\n",
            "Epoch 129/500\n",
            "179/179 [==============================] - 2s 12ms/step - loss: 0.0151 - accuracy: 0.9955 - val_loss: 0.0703 - val_accuracy: 0.9826 - epoch_time: 2.0098\n",
            "Epoch 130/500\n",
            "179/179 [==============================] - 2s 12ms/step - loss: 0.0145 - accuracy: 0.9951 - val_loss: 0.0668 - val_accuracy: 0.9818 - epoch_time: 2.0070\n",
            "Epoch 131/500\n",
            "179/179 [==============================] - 2s 13ms/step - loss: 0.0137 - accuracy: 0.9955 - val_loss: 0.0733 - val_accuracy: 0.9810 - epoch_time: 2.1592\n",
            "Epoch 132/500\n",
            "179/179 [==============================] - 2s 12ms/step - loss: 0.0136 - accuracy: 0.9959 - val_loss: 0.0757 - val_accuracy: 0.9842 - epoch_time: 2.1049\n",
            "Epoch 133/500\n",
            "179/179 [==============================] - 2s 14ms/step - loss: 0.0137 - accuracy: 0.9955 - val_loss: 0.0683 - val_accuracy: 0.9822 - epoch_time: 2.3870\n",
            "Epoch 134/500\n",
            "179/179 [==============================] - 3s 19ms/step - loss: 0.0117 - accuracy: 0.9963 - val_loss: 0.0553 - val_accuracy: 0.9850 - epoch_time: 2.6183\n",
            "Epoch 135/500\n",
            "179/179 [==============================] - 2s 12ms/step - loss: 0.0143 - accuracy: 0.9952 - val_loss: 0.0608 - val_accuracy: 0.9830 - epoch_time: 2.0526\n",
            "Epoch 136/500\n",
            "179/179 [==============================] - 2s 12ms/step - loss: 0.0117 - accuracy: 0.9964 - val_loss: 0.0783 - val_accuracy: 0.9810 - epoch_time: 2.0440\n",
            "Epoch 137/500\n",
            "179/179 [==============================] - 2s 12ms/step - loss: 0.0129 - accuracy: 0.9953 - val_loss: 0.0786 - val_accuracy: 0.9806 - epoch_time: 2.0769\n",
            "Epoch 138/500\n",
            "179/179 [==============================] - 2s 12ms/step - loss: 0.0113 - accuracy: 0.9964 - val_loss: 0.0846 - val_accuracy: 0.9814 - epoch_time: 2.0545\n",
            "Epoch 139/500\n",
            "179/179 [==============================] - 3s 16ms/step - loss: 0.0139 - accuracy: 0.9955 - val_loss: 0.0638 - val_accuracy: 0.9826 - epoch_time: 2.7183\n",
            "Epoch 140/500\n",
            "179/179 [==============================] - 2s 14ms/step - loss: 0.0124 - accuracy: 0.9961 - val_loss: 0.0628 - val_accuracy: 0.9799 - epoch_time: 2.3686\n",
            "Epoch 141/500\n",
            "179/179 [==============================] - 3s 16ms/step - loss: 0.0128 - accuracy: 0.9954 - val_loss: 0.0881 - val_accuracy: 0.9810 - epoch_time: 2.6586\n",
            "Epoch 142/500\n",
            "179/179 [==============================] - 2s 14ms/step - loss: 0.0139 - accuracy: 0.9955 - val_loss: 0.0668 - val_accuracy: 0.9803 - epoch_time: 2.3915\n",
            "Epoch 143/500\n",
            "179/179 [==============================] - 2s 12ms/step - loss: 0.0108 - accuracy: 0.9970 - val_loss: 0.0659 - val_accuracy: 0.9826 - epoch_time: 2.0791\n",
            "Epoch 144/500\n",
            "179/179 [==============================] - 3s 15ms/step - loss: 0.0141 - accuracy: 0.9954 - val_loss: 0.0730 - val_accuracy: 0.9834 - epoch_time: 2.5309\n",
            "Epoch 145/500\n",
            "179/179 [==============================] - 3s 15ms/step - loss: 0.0111 - accuracy: 0.9964 - val_loss: 0.0787 - val_accuracy: 0.9791 - epoch_time: 2.6149\n",
            "Epoch 146/500\n",
            "179/179 [==============================] - 2s 12ms/step - loss: 0.0127 - accuracy: 0.9959 - val_loss: 0.0727 - val_accuracy: 0.9803 - epoch_time: 2.0626\n",
            "Epoch 147/500\n",
            "179/179 [==============================] - 2s 12ms/step - loss: 0.0124 - accuracy: 0.9957 - val_loss: 0.0670 - val_accuracy: 0.9818 - epoch_time: 2.0658\n",
            "Epoch 148/500\n",
            "179/179 [==============================] - 2s 12ms/step - loss: 0.0114 - accuracy: 0.9964 - val_loss: 0.0675 - val_accuracy: 0.9822 - epoch_time: 2.1261\n",
            "Epoch 149/500\n",
            "179/179 [==============================] - 2s 12ms/step - loss: 0.0108 - accuracy: 0.9966 - val_loss: 0.0733 - val_accuracy: 0.9826 - epoch_time: 2.1291\n",
            "Epoch 150/500\n",
            "179/179 [==============================] - 3s 15ms/step - loss: 0.0123 - accuracy: 0.9964 - val_loss: 0.0581 - val_accuracy: 0.9822 - epoch_time: 2.5544\n",
            "Epoch 151/500\n",
            "179/179 [==============================] - 3s 15ms/step - loss: 0.0135 - accuracy: 0.9956 - val_loss: 0.0656 - val_accuracy: 0.9826 - epoch_time: 2.5357\n",
            "Epoch 152/500\n",
            "179/179 [==============================] - 2s 12ms/step - loss: 0.0127 - accuracy: 0.9962 - val_loss: 0.0698 - val_accuracy: 0.9846 - epoch_time: 2.0911\n",
            "Epoch 153/500\n",
            "179/179 [==============================] - 2s 12ms/step - loss: 0.0110 - accuracy: 0.9966 - val_loss: 0.0565 - val_accuracy: 0.9850 - epoch_time: 2.0781\n",
            "Epoch 154/500\n",
            "179/179 [==============================] - 2s 12ms/step - loss: 0.0112 - accuracy: 0.9964 - val_loss: 0.0839 - val_accuracy: 0.9814 - epoch_time: 2.0917\n",
            "Epoch 155/500\n",
            "179/179 [==============================] - 2s 12ms/step - loss: 0.0110 - accuracy: 0.9965 - val_loss: 0.0635 - val_accuracy: 0.9830 - epoch_time: 2.0964\n",
            "Epoch 156/500\n",
            "179/179 [==============================] - 3s 16ms/step - loss: 0.0102 - accuracy: 0.9965 - val_loss: 0.0764 - val_accuracy: 0.9818 - epoch_time: 2.6984\n",
            "Epoch 157/500\n",
            "179/179 [==============================] - 3s 14ms/step - loss: 0.0124 - accuracy: 0.9957 - val_loss: 0.0835 - val_accuracy: 0.9791 - epoch_time: 2.4417\n",
            "Epoch 158/500\n",
            "179/179 [==============================] - 3s 16ms/step - loss: 0.0126 - accuracy: 0.9955 - val_loss: 0.0490 - val_accuracy: 0.9846 - epoch_time: 2.0271\n",
            "Epoch 159/500\n",
            "179/179 [==============================] - 2s 12ms/step - loss: 0.0087 - accuracy: 0.9974 - val_loss: 0.0736 - val_accuracy: 0.9826 - epoch_time: 2.0718\n",
            "Epoch 160/500\n",
            "179/179 [==============================] - 2s 12ms/step - loss: 0.0106 - accuracy: 0.9967 - val_loss: 0.0701 - val_accuracy: 0.9810 - epoch_time: 2.0655\n",
            "Epoch 161/500\n",
            "179/179 [==============================] - 2s 14ms/step - loss: 0.0100 - accuracy: 0.9968 - val_loss: 0.0753 - val_accuracy: 0.9826 - epoch_time: 2.3818\n",
            "Epoch 162/500\n",
            "179/179 [==============================] - 3s 16ms/step - loss: 0.0084 - accuracy: 0.9974 - val_loss: 0.0772 - val_accuracy: 0.9810 - epoch_time: 2.7477\n",
            "Epoch 163/500\n",
            "179/179 [==============================] - 2s 12ms/step - loss: 0.0103 - accuracy: 0.9965 - val_loss: 0.0698 - val_accuracy: 0.9830 - epoch_time: 2.0544\n",
            "Epoch 164/500\n",
            "179/179 [==============================] - 2s 12ms/step - loss: 0.0099 - accuracy: 0.9970 - val_loss: 0.0715 - val_accuracy: 0.9799 - epoch_time: 2.1303\n",
            "Epoch 165/500\n",
            "179/179 [==============================] - 2s 13ms/step - loss: 0.0107 - accuracy: 0.9967 - val_loss: 0.0689 - val_accuracy: 0.9854 - epoch_time: 2.1690\n",
            "Epoch 166/500\n",
            "179/179 [==============================] - 2s 12ms/step - loss: 0.0112 - accuracy: 0.9966 - val_loss: 0.0661 - val_accuracy: 0.9822 - epoch_time: 2.1324\n",
            "Epoch 167/500\n",
            "179/179 [==============================] - 3s 15ms/step - loss: 0.0113 - accuracy: 0.9965 - val_loss: 0.0671 - val_accuracy: 0.9818 - epoch_time: 2.5756\n",
            "Epoch 168/500\n",
            "179/179 [==============================] - 3s 15ms/step - loss: 0.0109 - accuracy: 0.9968 - val_loss: 0.0650 - val_accuracy: 0.9834 - epoch_time: 2.5844\n",
            "Epoch 169/500\n",
            "179/179 [==============================] - 2s 12ms/step - loss: 0.0109 - accuracy: 0.9963 - val_loss: 0.0837 - val_accuracy: 0.9814 - epoch_time: 2.0737\n",
            "Epoch 170/500\n",
            "179/179 [==============================] - 2s 12ms/step - loss: 0.0103 - accuracy: 0.9968 - val_loss: 0.0619 - val_accuracy: 0.9842 - epoch_time: 2.1134\n",
            "Epoch 171/500\n",
            "179/179 [==============================] - 2s 12ms/step - loss: 0.0104 - accuracy: 0.9961 - val_loss: 0.0646 - val_accuracy: 0.9806 - epoch_time: 2.1091\n",
            "Epoch 172/500\n",
            "179/179 [==============================] - 2s 12ms/step - loss: 0.0079 - accuracy: 0.9975 - val_loss: 0.0768 - val_accuracy: 0.9822 - epoch_time: 2.0915\n",
            "Epoch 173/500\n",
            "179/179 [==============================] - 3s 15ms/step - loss: 0.0198 - accuracy: 0.9941 - val_loss: 0.0756 - val_accuracy: 0.9818 - epoch_time: 2.6158\n",
            "Epoch 174/500\n",
            "179/179 [==============================] - 3s 15ms/step - loss: 0.0124 - accuracy: 0.9958 - val_loss: 0.0723 - val_accuracy: 0.9810 - epoch_time: 2.5265\n",
            "Epoch 175/500\n",
            "179/179 [==============================] - 2s 12ms/step - loss: 0.0114 - accuracy: 0.9963 - val_loss: 0.0774 - val_accuracy: 0.9810 - epoch_time: 2.1230\n",
            "Epoch 176/500\n",
            "179/179 [==============================] - 2s 12ms/step - loss: 0.0105 - accuracy: 0.9967 - val_loss: 0.0678 - val_accuracy: 0.9818 - epoch_time: 2.1263\n",
            "Epoch 177/500\n",
            "179/179 [==============================] - 2s 12ms/step - loss: 0.0080 - accuracy: 0.9974 - val_loss: 0.0692 - val_accuracy: 0.9818 - epoch_time: 2.0523\n",
            "Epoch 178/500\n",
            "179/179 [==============================] - 2s 12ms/step - loss: 0.0107 - accuracy: 0.9963 - val_loss: 0.0631 - val_accuracy: 0.9826 - epoch_time: 2.1124\n",
            "Epoch 179/500\n",
            "179/179 [==============================] - 3s 16ms/step - loss: 0.0109 - accuracy: 0.9963 - val_loss: 0.0612 - val_accuracy: 0.9822 - epoch_time: 2.7802\n",
            "Epoch 180/500\n",
            "179/179 [==============================] - 2s 14ms/step - loss: 0.0115 - accuracy: 0.9968 - val_loss: 0.0650 - val_accuracy: 0.9822 - epoch_time: 2.3851\n",
            "Epoch 181/500\n",
            "179/179 [==============================] - 2s 12ms/step - loss: 0.0084 - accuracy: 0.9973 - val_loss: 0.0737 - val_accuracy: 0.9814 - epoch_time: 2.1369\n",
            "Epoch 182/500\n",
            "179/179 [==============================] - 2s 13ms/step - loss: 0.0089 - accuracy: 0.9971 - val_loss: 0.0663 - val_accuracy: 0.9799 - epoch_time: 2.1571\n",
            "Epoch 183/500\n",
            "179/179 [==============================] - 2s 12ms/step - loss: 0.0085 - accuracy: 0.9971 - val_loss: 0.0771 - val_accuracy: 0.9795 - epoch_time: 2.0868\n",
            "Epoch 184/500\n",
            "179/179 [==============================] - 2s 13ms/step - loss: 0.0108 - accuracy: 0.9968 - val_loss: 0.0720 - val_accuracy: 0.9826 - epoch_time: 2.1740\n",
            "Epoch 185/500\n",
            "179/179 [==============================] - 3s 16ms/step - loss: 0.0118 - accuracy: 0.9966 - val_loss: 0.0640 - val_accuracy: 0.9842 - epoch_time: 2.7326\n",
            "Epoch 186/500\n",
            "179/179 [==============================] - 2s 13ms/step - loss: 0.0095 - accuracy: 0.9967 - val_loss: 0.0774 - val_accuracy: 0.9830 - epoch_time: 2.2081\n",
            "Epoch 187/500\n",
            "179/179 [==============================] - 2s 12ms/step - loss: 0.0080 - accuracy: 0.9977 - val_loss: 0.0661 - val_accuracy: 0.9834 - epoch_time: 2.0987\n",
            "Epoch 188/500\n",
            "179/179 [==============================] - 2s 12ms/step - loss: 0.0100 - accuracy: 0.9963 - val_loss: 0.0714 - val_accuracy: 0.9822 - epoch_time: 2.0909\n",
            "Epoch 189/500\n",
            "179/179 [==============================] - 2s 12ms/step - loss: 0.0089 - accuracy: 0.9968 - val_loss: 0.0821 - val_accuracy: 0.9799 - epoch_time: 2.0480\n",
            "Epoch 190/500\n",
            "179/179 [==============================] - 2s 14ms/step - loss: 0.0085 - accuracy: 0.9977 - val_loss: 0.0702 - val_accuracy: 0.9826 - epoch_time: 2.3535\n",
            "Epoch 191/500\n",
            "179/179 [==============================] - 3s 16ms/step - loss: 0.0095 - accuracy: 0.9968 - val_loss: 0.0700 - val_accuracy: 0.9822 - epoch_time: 2.8154\n",
            "Epoch 192/500\n",
            "179/179 [==============================] - 2s 12ms/step - loss: 0.0094 - accuracy: 0.9971 - val_loss: 0.0699 - val_accuracy: 0.9834 - epoch_time: 2.0912\n",
            "Epoch 193/500\n",
            "179/179 [==============================] - 2s 12ms/step - loss: 0.0076 - accuracy: 0.9973 - val_loss: 0.0774 - val_accuracy: 0.9850 - epoch_time: 2.1382\n",
            "Epoch 194/500\n",
            "179/179 [==============================] - 2s 12ms/step - loss: 0.0084 - accuracy: 0.9973 - val_loss: 0.1045 - val_accuracy: 0.9810 - epoch_time: 2.0347\n",
            "Epoch 195/500\n",
            "179/179 [==============================] - 2s 12ms/step - loss: 0.0104 - accuracy: 0.9967 - val_loss: 0.0777 - val_accuracy: 0.9830 - epoch_time: 2.0264\n",
            "Epoch 196/500\n",
            "179/179 [==============================] - 2s 14ms/step - loss: 0.0097 - accuracy: 0.9966 - val_loss: 0.0798 - val_accuracy: 0.9826 - epoch_time: 2.3383\n",
            "Epoch 197/500\n",
            "179/179 [==============================] - 3s 16ms/step - loss: 0.0088 - accuracy: 0.9974 - val_loss: 0.0618 - val_accuracy: 0.9826 - epoch_time: 2.6812\n",
            "Epoch 198/500\n",
            "179/179 [==============================] - 2s 12ms/step - loss: 0.0099 - accuracy: 0.9967 - val_loss: 0.0853 - val_accuracy: 0.9822 - epoch_time: 2.1232\n",
            "Epoch 199/500\n",
            "179/179 [==============================] - 2s 12ms/step - loss: 0.0118 - accuracy: 0.9962 - val_loss: 0.0564 - val_accuracy: 0.9842 - epoch_time: 2.1048\n",
            "Epoch 200/500\n",
            "179/179 [==============================] - 2s 12ms/step - loss: 0.0088 - accuracy: 0.9971 - val_loss: 0.0742 - val_accuracy: 0.9795 - epoch_time: 2.0616\n",
            "Epoch 201/500\n",
            "179/179 [==============================] - 2s 12ms/step - loss: 0.0094 - accuracy: 0.9968 - val_loss: 0.0720 - val_accuracy: 0.9803 - epoch_time: 2.0799\n",
            "Epoch 202/500\n",
            "179/179 [==============================] - 2s 14ms/step - loss: 0.0095 - accuracy: 0.9970 - val_loss: 0.0902 - val_accuracy: 0.9838 - epoch_time: 2.3672\n",
            "Epoch 203/500\n",
            "179/179 [==============================] - 3s 16ms/step - loss: 0.0073 - accuracy: 0.9978 - val_loss: 0.0824 - val_accuracy: 0.9803 - epoch_time: 2.6841\n",
            "Epoch 204/500\n",
            "179/179 [==============================] - 2s 13ms/step - loss: 0.0093 - accuracy: 0.9970 - val_loss: 0.0765 - val_accuracy: 0.9818 - epoch_time: 2.2056\n",
            "Epoch 205/500\n",
            "179/179 [==============================] - 2s 13ms/step - loss: 0.0092 - accuracy: 0.9970 - val_loss: 0.0731 - val_accuracy: 0.9822 - epoch_time: 2.2801\n",
            "Epoch 206/500\n",
            "179/179 [==============================] - 2s 13ms/step - loss: 0.0071 - accuracy: 0.9976 - val_loss: 0.0850 - val_accuracy: 0.9838 - epoch_time: 2.1734\n",
            "Epoch 207/500\n",
            "179/179 [==============================] - 2s 13ms/step - loss: 0.0074 - accuracy: 0.9975 - val_loss: 0.0745 - val_accuracy: 0.9818 - epoch_time: 2.2195\n",
            "Epoch 208/500\n",
            "179/179 [==============================] - 3s 17ms/step - loss: 0.0072 - accuracy: 0.9975 - val_loss: 0.0666 - val_accuracy: 0.9822 - epoch_time: 2.9201\n",
            "Epoch 209/500\n",
            "179/179 [==============================] - 2s 14ms/step - loss: 0.0075 - accuracy: 0.9976 - val_loss: 0.0768 - val_accuracy: 0.9814 - epoch_time: 2.3949\n",
            "Epoch 210/500\n",
            "179/179 [==============================] - 2s 12ms/step - loss: 0.0087 - accuracy: 0.9971 - val_loss: 0.0803 - val_accuracy: 0.9822 - epoch_time: 2.1116\n",
            "Epoch 211/500\n",
            "179/179 [==============================] - 2s 12ms/step - loss: 0.0098 - accuracy: 0.9968 - val_loss: 0.0610 - val_accuracy: 0.9810 - epoch_time: 2.1378\n",
            "Epoch 212/500\n",
            "179/179 [==============================] - 2s 12ms/step - loss: 0.0090 - accuracy: 0.9969 - val_loss: 0.0720 - val_accuracy: 0.9842 - epoch_time: 2.1208\n",
            "Epoch 213/500\n",
            "179/179 [==============================] - 2s 13ms/step - loss: 0.0110 - accuracy: 0.9968 - val_loss: 0.0868 - val_accuracy: 0.9818 - epoch_time: 2.2121\n",
            "Epoch 214/500\n",
            "179/179 [==============================] - 3s 17ms/step - loss: 0.0088 - accuracy: 0.9974 - val_loss: 0.0722 - val_accuracy: 0.9818 - epoch_time: 2.9159\n",
            "Epoch 215/500\n",
            "179/179 [==============================] - 2s 13ms/step - loss: 0.0083 - accuracy: 0.9973 - val_loss: 0.0924 - val_accuracy: 0.9814 - epoch_time: 2.2501\n",
            "Epoch 216/500\n",
            "179/179 [==============================] - 2s 13ms/step - loss: 0.0080 - accuracy: 0.9975 - val_loss: 0.0700 - val_accuracy: 0.9850 - epoch_time: 2.2054\n",
            "Epoch 217/500\n",
            "179/179 [==============================] - 2s 13ms/step - loss: 0.0082 - accuracy: 0.9975 - val_loss: 0.0628 - val_accuracy: 0.9842 - epoch_time: 2.1512\n",
            "Epoch 218/500\n",
            "179/179 [==============================] - 2s 13ms/step - loss: 0.0093 - accuracy: 0.9970 - val_loss: 0.0672 - val_accuracy: 0.9834 - epoch_time: 2.1629\n",
            "Epoch 219/500\n",
            "179/179 [==============================] - 3s 14ms/step - loss: 0.0092 - accuracy: 0.9972 - val_loss: 0.0720 - val_accuracy: 0.9830 - epoch_time: 2.4257\n",
            "Epoch 220/500\n",
            "179/179 [==============================] - 3s 16ms/step - loss: 0.0107 - accuracy: 0.9965 - val_loss: 0.0604 - val_accuracy: 0.9814 - epoch_time: 2.7537\n",
            "Epoch 221/500\n",
            "179/179 [==============================] - 2s 13ms/step - loss: 0.0087 - accuracy: 0.9972 - val_loss: 0.0755 - val_accuracy: 0.9787 - epoch_time: 2.1506\n",
            "Epoch 222/500\n",
            "179/179 [==============================] - 2s 12ms/step - loss: 0.0073 - accuracy: 0.9977 - val_loss: 0.0800 - val_accuracy: 0.9830 - epoch_time: 2.0861\n",
            "Epoch 223/500\n",
            "179/179 [==============================] - 2s 12ms/step - loss: 0.0067 - accuracy: 0.9978 - val_loss: 0.0740 - val_accuracy: 0.9842 - epoch_time: 2.1017\n",
            "Epoch 224/500\n",
            "179/179 [==============================] - 2s 12ms/step - loss: 0.0093 - accuracy: 0.9973 - val_loss: 0.0681 - val_accuracy: 0.9834 - epoch_time: 2.1224\n",
            "Epoch 225/500\n",
            "179/179 [==============================] - 3s 15ms/step - loss: 0.0103 - accuracy: 0.9967 - val_loss: 0.0601 - val_accuracy: 0.9842 - epoch_time: 2.5359\n",
            "Epoch 226/500\n",
            "179/179 [==============================] - 3s 15ms/step - loss: 0.0095 - accuracy: 0.9974 - val_loss: 0.0612 - val_accuracy: 0.9850 - epoch_time: 2.6537\n",
            "Epoch 227/500\n",
            "179/179 [==============================] - 2s 12ms/step - loss: 0.0082 - accuracy: 0.9977 - val_loss: 0.0673 - val_accuracy: 0.9858 - epoch_time: 2.1409\n",
            "Epoch 228/500\n",
            "179/179 [==============================] - 2s 12ms/step - loss: 0.0083 - accuracy: 0.9975 - val_loss: 0.0712 - val_accuracy: 0.9842 - epoch_time: 2.1390\n",
            "Epoch 229/500\n",
            "179/179 [==============================] - 2s 12ms/step - loss: 0.0068 - accuracy: 0.9979 - val_loss: 0.0708 - val_accuracy: 0.9810 - epoch_time: 2.1420\n",
            "Epoch 230/500\n",
            "179/179 [==============================] - 2s 12ms/step - loss: 0.0070 - accuracy: 0.9979 - val_loss: 0.0603 - val_accuracy: 0.9834 - epoch_time: 2.1385\n",
            "Epoch 231/500\n",
            "179/179 [==============================] - 3s 16ms/step - loss: 0.0059 - accuracy: 0.9976 - val_loss: 0.0760 - val_accuracy: 0.9814 - epoch_time: 2.7824\n",
            "Epoch 232/500\n",
            "179/179 [==============================] - 3s 15ms/step - loss: 0.0081 - accuracy: 0.9977 - val_loss: 0.0741 - val_accuracy: 0.9838 - epoch_time: 2.5247\n",
            "Epoch 233/500\n",
            "179/179 [==============================] - 2s 12ms/step - loss: 0.0086 - accuracy: 0.9972 - val_loss: 0.0729 - val_accuracy: 0.9850 - epoch_time: 2.1207\n",
            "Epoch 234/500\n",
            "179/179 [==============================] - 2s 13ms/step - loss: 0.0066 - accuracy: 0.9977 - val_loss: 0.0913 - val_accuracy: 0.9846 - epoch_time: 2.1750\n",
            "Epoch 235/500\n",
            "179/179 [==============================] - 2s 12ms/step - loss: 0.0061 - accuracy: 0.9981 - val_loss: 0.0603 - val_accuracy: 0.9850 - epoch_time: 2.1056\n",
            "Epoch 236/500\n",
            "179/179 [==============================] - 2s 13ms/step - loss: 0.0098 - accuracy: 0.9970 - val_loss: 0.0730 - val_accuracy: 0.9826 - epoch_time: 2.2058\n",
            "Epoch 237/500\n",
            "179/179 [==============================] - 3s 16ms/step - loss: 0.0087 - accuracy: 0.9974 - val_loss: 0.0751 - val_accuracy: 0.9822 - epoch_time: 2.7261\n",
            "Epoch 238/500\n",
            "179/179 [==============================] - 2s 13ms/step - loss: 0.0089 - accuracy: 0.9971 - val_loss: 0.0684 - val_accuracy: 0.9822 - epoch_time: 2.2992\n",
            "Epoch 239/500\n",
            "179/179 [==============================] - 2s 12ms/step - loss: 0.0093 - accuracy: 0.9975 - val_loss: 0.0571 - val_accuracy: 0.9846 - epoch_time: 2.0589\n",
            "Epoch 240/500\n",
            "179/179 [==============================] - 2s 12ms/step - loss: 0.0100 - accuracy: 0.9968 - val_loss: 0.0738 - val_accuracy: 0.9810 - epoch_time: 2.1182\n",
            "Epoch 241/500\n",
            "179/179 [==============================] - 2s 13ms/step - loss: 0.0083 - accuracy: 0.9973 - val_loss: 0.0592 - val_accuracy: 0.9854 - epoch_time: 2.1603\n",
            "Epoch 242/500\n",
            "179/179 [==============================] - 2s 13ms/step - loss: 0.0072 - accuracy: 0.9974 - val_loss: 0.0609 - val_accuracy: 0.9834 - epoch_time: 2.2576\n",
            "Epoch 243/500\n",
            "179/179 [==============================] - 3s 16ms/step - loss: 0.0092 - accuracy: 0.9971 - val_loss: 0.0682 - val_accuracy: 0.9846 - epoch_time: 2.7940\n",
            "Epoch 244/500\n",
            "179/179 [==============================] - 2s 13ms/step - loss: 0.0071 - accuracy: 0.9979 - val_loss: 0.0684 - val_accuracy: 0.9834 - epoch_time: 2.1764\n",
            "Epoch 245/500\n",
            "179/179 [==============================] - 2s 12ms/step - loss: 0.0100 - accuracy: 0.9967 - val_loss: 0.0712 - val_accuracy: 0.9830 - epoch_time: 2.0964\n",
            "Epoch 246/500\n",
            "179/179 [==============================] - 2s 14ms/step - loss: 0.0067 - accuracy: 0.9983 - val_loss: 0.0629 - val_accuracy: 0.9846 - epoch_time: 2.3824\n",
            "Epoch 247/500\n",
            "179/179 [==============================] - 3s 16ms/step - loss: 0.0078 - accuracy: 0.9978 - val_loss: 0.0628 - val_accuracy: 0.9814 - epoch_time: 2.8325\n",
            "Epoch 248/500\n",
            "179/179 [==============================] - 3s 16ms/step - loss: 0.0082 - accuracy: 0.9975 - val_loss: 0.0716 - val_accuracy: 0.9822 - epoch_time: 2.7282\n",
            "Epoch 249/500\n",
            "179/179 [==============================] - 3s 14ms/step - loss: 0.0083 - accuracy: 0.9975 - val_loss: 0.0707 - val_accuracy: 0.9803 - epoch_time: 2.4163\n",
            "Epoch 250/500\n",
            "179/179 [==============================] - 2s 12ms/step - loss: 0.0081 - accuracy: 0.9976 - val_loss: 0.0654 - val_accuracy: 0.9818 - epoch_time: 2.1011\n",
            "Epoch 251/500\n",
            "179/179 [==============================] - 2s 12ms/step - loss: 0.0087 - accuracy: 0.9973 - val_loss: 0.0615 - val_accuracy: 0.9818 - epoch_time: 2.0801\n",
            "Epoch 252/500\n",
            "179/179 [==============================] - 2s 12ms/step - loss: 0.0062 - accuracy: 0.9981 - val_loss: 0.0780 - val_accuracy: 0.9834 - epoch_time: 2.1030\n",
            "Epoch 253/500\n",
            "179/179 [==============================] - 2s 12ms/step - loss: 0.0068 - accuracy: 0.9977 - val_loss: 0.0659 - val_accuracy: 0.9862 - epoch_time: 2.1182\n",
            "Epoch 254/500\n",
            "179/179 [==============================] - 3s 16ms/step - loss: 0.0074 - accuracy: 0.9975 - val_loss: 0.0692 - val_accuracy: 0.9834 - epoch_time: 2.7135\n",
            "Epoch 255/500\n",
            "179/179 [==============================] - 2s 14ms/step - loss: 0.0071 - accuracy: 0.9978 - val_loss: 0.0774 - val_accuracy: 0.9810 - epoch_time: 2.3933\n",
            "Epoch 256/500\n",
            "179/179 [==============================] - 2s 12ms/step - loss: 0.0083 - accuracy: 0.9972 - val_loss: 0.0717 - val_accuracy: 0.9826 - epoch_time: 2.1053\n",
            "Epoch 257/500\n",
            "179/179 [==============================] - 2s 12ms/step - loss: 0.0071 - accuracy: 0.9982 - val_loss: 0.0721 - val_accuracy: 0.9838 - epoch_time: 2.1328\n",
            "Epoch 258/500\n",
            "179/179 [==============================] - 2s 12ms/step - loss: 0.0081 - accuracy: 0.9976 - val_loss: 0.0664 - val_accuracy: 0.9838 - epoch_time: 2.1203\n",
            "Epoch 259/500\n",
            "179/179 [==============================] - 2s 13ms/step - loss: 0.0078 - accuracy: 0.9975 - val_loss: 0.0663 - val_accuracy: 0.9834 - epoch_time: 2.2858\n",
            "Epoch 260/500\n",
            "179/179 [==============================] - 3s 16ms/step - loss: 0.0073 - accuracy: 0.9977 - val_loss: 0.0704 - val_accuracy: 0.9810 - epoch_time: 2.7455\n",
            "Epoch 261/500\n",
            "179/179 [==============================] - 2s 13ms/step - loss: 0.0097 - accuracy: 0.9970 - val_loss: 0.0777 - val_accuracy: 0.9822 - epoch_time: 2.3191\n",
            "Epoch 262/500\n",
            "179/179 [==============================] - 2s 12ms/step - loss: 0.0153 - accuracy: 0.9956 - val_loss: 0.0875 - val_accuracy: 0.9822 - epoch_time: 2.1306\n",
            "Epoch 263/500\n",
            "179/179 [==============================] - 2s 12ms/step - loss: 0.0106 - accuracy: 0.9965 - val_loss: 0.0774 - val_accuracy: 0.9842 - epoch_time: 2.1103\n",
            "Epoch 264/500\n",
            "179/179 [==============================] - 2s 12ms/step - loss: 0.0088 - accuracy: 0.9969 - val_loss: 0.0655 - val_accuracy: 0.9826 - epoch_time: 2.0995\n",
            "Epoch 265/500\n",
            "179/179 [==============================] - 2s 14ms/step - loss: 0.0053 - accuracy: 0.9979 - val_loss: 0.0741 - val_accuracy: 0.9834 - epoch_time: 2.3120\n",
            "Epoch 266/500\n",
            "179/179 [==============================] - 3s 16ms/step - loss: 0.0090 - accuracy: 0.9974 - val_loss: 0.0576 - val_accuracy: 0.9842 - epoch_time: 2.7024\n",
            "Epoch 267/500\n",
            "179/179 [==============================] - 2s 13ms/step - loss: 0.0074 - accuracy: 0.9975 - val_loss: 0.0647 - val_accuracy: 0.9858 - epoch_time: 2.3221\n",
            "Epoch 268/500\n",
            "179/179 [==============================] - 2s 12ms/step - loss: 0.0071 - accuracy: 0.9978 - val_loss: 0.0727 - val_accuracy: 0.9830 - epoch_time: 2.1112\n",
            "Epoch 269/500\n",
            "179/179 [==============================] - 2s 13ms/step - loss: 0.0071 - accuracy: 0.9977 - val_loss: 0.0691 - val_accuracy: 0.9818 - epoch_time: 2.1642\n",
            "Epoch 270/500\n",
            "179/179 [==============================] - 2s 12ms/step - loss: 0.0063 - accuracy: 0.9979 - val_loss: 0.0629 - val_accuracy: 0.9834 - epoch_time: 2.1233\n",
            "Epoch 271/500\n",
            "179/179 [==============================] - 2s 13ms/step - loss: 0.0058 - accuracy: 0.9983 - val_loss: 0.0665 - val_accuracy: 0.9846 - epoch_time: 2.2874\n",
            "Epoch 272/500\n",
            "179/179 [==============================] - 3s 16ms/step - loss: 0.0068 - accuracy: 0.9980 - val_loss: 0.0671 - val_accuracy: 0.9830 - epoch_time: 2.8398\n",
            "Epoch 273/500\n",
            "179/179 [==============================] - 2s 12ms/step - loss: 0.0050 - accuracy: 0.9983 - val_loss: 0.0704 - val_accuracy: 0.9846 - epoch_time: 2.1382\n",
            "Epoch 274/500\n",
            "179/179 [==============================] - 2s 12ms/step - loss: 0.0075 - accuracy: 0.9977 - val_loss: 0.0731 - val_accuracy: 0.9858 - epoch_time: 2.1340\n",
            "Epoch 275/500\n",
            "179/179 [==============================] - 2s 12ms/step - loss: 0.0045 - accuracy: 0.9982 - val_loss: 0.0858 - val_accuracy: 0.9822 - epoch_time: 2.1038\n",
            "Epoch 276/500\n",
            "179/179 [==============================] - 2s 12ms/step - loss: 0.0077 - accuracy: 0.9977 - val_loss: 0.0673 - val_accuracy: 0.9834 - epoch_time: 2.0505\n",
            "Epoch 277/500\n",
            "179/179 [==============================] - 2s 14ms/step - loss: 0.0058 - accuracy: 0.9981 - val_loss: 0.0732 - val_accuracy: 0.9838 - epoch_time: 2.3313\n",
            "Epoch 278/500\n",
            "179/179 [==============================] - 3s 16ms/step - loss: 0.0073 - accuracy: 0.9974 - val_loss: 0.0807 - val_accuracy: 0.9826 - epoch_time: 2.8368\n",
            "Epoch 279/500\n",
            "179/179 [==============================] - 2s 13ms/step - loss: 0.0077 - accuracy: 0.9975 - val_loss: 0.0606 - val_accuracy: 0.9834 - epoch_time: 2.2151\n",
            "Epoch 280/500\n",
            "179/179 [==============================] - 2s 12ms/step - loss: 0.0066 - accuracy: 0.9978 - val_loss: 0.0630 - val_accuracy: 0.9826 - epoch_time: 2.1230\n",
            "Epoch 281/500\n",
            "179/179 [==============================] - 2s 12ms/step - loss: 0.0068 - accuracy: 0.9978 - val_loss: 0.0596 - val_accuracy: 0.9854 - epoch_time: 2.1074\n",
            "Epoch 282/500\n",
            "179/179 [==============================] - 2s 12ms/step - loss: 0.0068 - accuracy: 0.9981 - val_loss: 0.0676 - val_accuracy: 0.9858 - epoch_time: 2.0936\n",
            "Epoch 283/500\n",
            "179/179 [==============================] - 3s 14ms/step - loss: 0.0079 - accuracy: 0.9973 - val_loss: 0.0609 - val_accuracy: 0.9834 - epoch_time: 2.4983\n",
            "Epoch 284/500\n",
            "179/179 [==============================] - 3s 16ms/step - loss: 0.0055 - accuracy: 0.9985 - val_loss: 0.0723 - val_accuracy: 0.9850 - epoch_time: 2.7439\n",
            "Epoch 285/500\n",
            "179/179 [==============================] - 2s 12ms/step - loss: 0.0060 - accuracy: 0.9984 - val_loss: 0.0725 - val_accuracy: 0.9838 - epoch_time: 2.1414\n",
            "Epoch 286/500\n",
            "179/179 [==============================] - 2s 13ms/step - loss: 0.0062 - accuracy: 0.9982 - val_loss: 0.0733 - val_accuracy: 0.9834 - epoch_time: 2.1558\n",
            "Epoch 287/500\n",
            "179/179 [==============================] - 2s 13ms/step - loss: 0.0080 - accuracy: 0.9975 - val_loss: 0.0804 - val_accuracy: 0.9818 - epoch_time: 2.1819\n",
            "Epoch 288/500\n",
            "179/179 [==============================] - 2s 12ms/step - loss: 0.0072 - accuracy: 0.9982 - val_loss: 0.0920 - val_accuracy: 0.9830 - epoch_time: 2.1255\n",
            "Epoch 289/500\n",
            "179/179 [==============================] - 3s 15ms/step - loss: 0.0091 - accuracy: 0.9969 - val_loss: 0.0615 - val_accuracy: 0.9842 - epoch_time: 2.6582\n",
            "Epoch 290/500\n",
            "179/179 [==============================] - 3s 15ms/step - loss: 0.0058 - accuracy: 0.9979 - val_loss: 0.0734 - val_accuracy: 0.9826 - epoch_time: 2.6100\n",
            "Epoch 291/500\n",
            "179/179 [==============================] - 2s 13ms/step - loss: 0.0077 - accuracy: 0.9980 - val_loss: 0.0625 - val_accuracy: 0.9842 - epoch_time: 2.2345\n",
            "Epoch 292/500\n",
            "179/179 [==============================] - 2s 13ms/step - loss: 0.0064 - accuracy: 0.9979 - val_loss: 0.0615 - val_accuracy: 0.9850 - epoch_time: 2.2355\n",
            "Epoch 293/500\n",
            "179/179 [==============================] - 2s 12ms/step - loss: 0.0068 - accuracy: 0.9979 - val_loss: 0.0686 - val_accuracy: 0.9850 - epoch_time: 2.1449\n",
            "Epoch 294/500\n",
            "179/179 [==============================] - 2s 13ms/step - loss: 0.0066 - accuracy: 0.9981 - val_loss: 0.0671 - val_accuracy: 0.9834 - epoch_time: 2.2194\n",
            "Epoch 295/500\n",
            "179/179 [==============================] - 3s 16ms/step - loss: 0.0068 - accuracy: 0.9977 - val_loss: 0.0552 - val_accuracy: 0.9850 - epoch_time: 2.7606\n",
            "Epoch 296/500\n",
            "179/179 [==============================] - 2s 14ms/step - loss: 0.0068 - accuracy: 0.9977 - val_loss: 0.0740 - val_accuracy: 0.9846 - epoch_time: 2.3958\n",
            "Epoch 297/500\n",
            "179/179 [==============================] - 2s 13ms/step - loss: 0.0064 - accuracy: 0.9983 - val_loss: 0.0649 - val_accuracy: 0.9854 - epoch_time: 2.3080\n",
            "Epoch 298/500\n",
            "179/179 [==============================] - 2s 12ms/step - loss: 0.0071 - accuracy: 0.9982 - val_loss: 0.0757 - val_accuracy: 0.9846 - epoch_time: 2.1114\n",
            "Epoch 299/500\n",
            "179/179 [==============================] - 2s 13ms/step - loss: 0.0078 - accuracy: 0.9977 - val_loss: 0.0524 - val_accuracy: 0.9862 - epoch_time: 2.2159\n",
            "Epoch 300/500\n",
            "179/179 [==============================] - 2s 14ms/step - loss: 0.0080 - accuracy: 0.9975 - val_loss: 0.0602 - val_accuracy: 0.9874 - epoch_time: 2.3635\n",
            "Epoch 301/500\n",
            "179/179 [==============================] - 3s 16ms/step - loss: 0.0065 - accuracy: 0.9981 - val_loss: 0.0727 - val_accuracy: 0.9846 - epoch_time: 2.8454\n",
            "Epoch 302/500\n",
            "179/179 [==============================] - 2s 12ms/step - loss: 0.0060 - accuracy: 0.9982 - val_loss: 0.0650 - val_accuracy: 0.9838 - epoch_time: 2.1221\n",
            "Epoch 303/500\n",
            "179/179 [==============================] - 2s 12ms/step - loss: 0.0079 - accuracy: 0.9977 - val_loss: 0.0751 - val_accuracy: 0.9814 - epoch_time: 2.1429\n",
            "Epoch 304/500\n",
            "179/179 [==============================] - 2s 12ms/step - loss: 0.0062 - accuracy: 0.9980 - val_loss: 0.0781 - val_accuracy: 0.9834 - epoch_time: 2.1420\n",
            "Epoch 305/500\n",
            "179/179 [==============================] - 2s 13ms/step - loss: 0.0057 - accuracy: 0.9984 - val_loss: 0.0804 - val_accuracy: 0.9803 - epoch_time: 2.1740\n",
            "Epoch 306/500\n",
            "179/179 [==============================] - 3s 15ms/step - loss: 0.0096 - accuracy: 0.9975 - val_loss: 0.0683 - val_accuracy: 0.9803 - epoch_time: 2.5624\n",
            "Epoch 307/500\n",
            "179/179 [==============================] - 3s 16ms/step - loss: 0.0051 - accuracy: 0.9984 - val_loss: 0.0630 - val_accuracy: 0.9834 - epoch_time: 2.7785\n",
            "Epoch 308/500\n",
            "179/179 [==============================] - 2s 12ms/step - loss: 0.0054 - accuracy: 0.9982 - val_loss: 0.0693 - val_accuracy: 0.9842 - epoch_time: 2.1037\n",
            "Epoch 309/500\n",
            "179/179 [==============================] - 2s 12ms/step - loss: 0.0070 - accuracy: 0.9975 - val_loss: 0.0575 - val_accuracy: 0.9846 - epoch_time: 2.1259\n",
            "Epoch 310/500\n",
            "179/179 [==============================] - 2s 13ms/step - loss: 0.0075 - accuracy: 0.9978 - val_loss: 0.0650 - val_accuracy: 0.9854 - epoch_time: 2.1622\n",
            "Epoch 311/500\n",
            "179/179 [==============================] - 2s 13ms/step - loss: 0.0055 - accuracy: 0.9980 - val_loss: 0.0916 - val_accuracy: 0.9838 - epoch_time: 2.1913\n",
            "Epoch 312/500\n",
            "179/179 [==============================] - 3s 15ms/step - loss: 0.0067 - accuracy: 0.9981 - val_loss: 0.0783 - val_accuracy: 0.9810 - epoch_time: 2.6622\n",
            "Epoch 313/500\n",
            "179/179 [==============================] - 3s 15ms/step - loss: 0.0065 - accuracy: 0.9978 - val_loss: 0.0818 - val_accuracy: 0.9834 - epoch_time: 2.5633\n",
            "Epoch 314/500\n",
            "179/179 [==============================] - 2s 13ms/step - loss: 0.0083 - accuracy: 0.9974 - val_loss: 0.0781 - val_accuracy: 0.9842 - epoch_time: 2.1511\n",
            "Epoch 315/500\n",
            "179/179 [==============================] - 2s 13ms/step - loss: 0.0078 - accuracy: 0.9976 - val_loss: 0.0724 - val_accuracy: 0.9846 - epoch_time: 2.1594\n",
            "Epoch 316/500\n",
            "179/179 [==============================] - 2s 13ms/step - loss: 0.0079 - accuracy: 0.9977 - val_loss: 0.0684 - val_accuracy: 0.9834 - epoch_time: 2.1732\n",
            "Epoch 317/500\n",
            "179/179 [==============================] - 2s 13ms/step - loss: 0.0073 - accuracy: 0.9978 - val_loss: 0.0659 - val_accuracy: 0.9822 - epoch_time: 2.2258\n",
            "Epoch 318/500\n",
            "179/179 [==============================] - 3s 16ms/step - loss: 0.0050 - accuracy: 0.9981 - val_loss: 0.0671 - val_accuracy: 0.9834 - epoch_time: 2.8325\n",
            "Epoch 319/500\n",
            "179/179 [==============================] - 3s 15ms/step - loss: 0.0149 - accuracy: 0.9959 - val_loss: 0.0894 - val_accuracy: 0.9822 - epoch_time: 2.5229\n",
            "Epoch 320/500\n",
            "179/179 [==============================] - 2s 13ms/step - loss: 0.0106 - accuracy: 0.9971 - val_loss: 0.0625 - val_accuracy: 0.9850 - epoch_time: 2.1710\n",
            "Epoch 321/500\n",
            "179/179 [==============================] - 2s 13ms/step - loss: 0.0084 - accuracy: 0.9975 - val_loss: 0.0646 - val_accuracy: 0.9846 - epoch_time: 2.2192\n",
            "Epoch 322/500\n",
            "179/179 [==============================] - 2s 13ms/step - loss: 0.0078 - accuracy: 0.9982 - val_loss: 0.0651 - val_accuracy: 0.9846 - epoch_time: 2.2630\n",
            "Epoch 323/500\n",
            "179/179 [==============================] - 2s 14ms/step - loss: 0.0067 - accuracy: 0.9981 - val_loss: 0.0651 - val_accuracy: 0.9830 - epoch_time: 2.3573\n",
            "Epoch 324/500\n",
            "179/179 [==============================] - 3s 16ms/step - loss: 0.0085 - accuracy: 0.9971 - val_loss: 0.0520 - val_accuracy: 0.9850 - epoch_time: 2.7527\n",
            "Epoch 325/500\n",
            "179/179 [==============================] - 2s 13ms/step - loss: 0.0074 - accuracy: 0.9978 - val_loss: 0.0538 - val_accuracy: 0.9846 - epoch_time: 2.3050\n",
            "Epoch 326/500\n",
            "179/179 [==============================] - 2s 13ms/step - loss: 0.0081 - accuracy: 0.9975 - val_loss: 0.0694 - val_accuracy: 0.9830 - epoch_time: 2.1858\n",
            "Epoch 327/500\n",
            "179/179 [==============================] - 2s 13ms/step - loss: 0.0069 - accuracy: 0.9979 - val_loss: 0.0655 - val_accuracy: 0.9850 - epoch_time: 2.1584\n",
            "Epoch 328/500\n",
            "179/179 [==============================] - 2s 13ms/step - loss: 0.0059 - accuracy: 0.9981 - val_loss: 0.0759 - val_accuracy: 0.9822 - epoch_time: 2.1993\n",
            "Epoch 329/500\n",
            "179/179 [==============================] - 3s 15ms/step - loss: 0.0091 - accuracy: 0.9971 - val_loss: 0.0626 - val_accuracy: 0.9834 - epoch_time: 2.5619\n",
            "Epoch 330/500\n",
            "179/179 [==============================] - 3s 16ms/step - loss: 0.0073 - accuracy: 0.9981 - val_loss: 0.0693 - val_accuracy: 0.9846 - epoch_time: 2.7419\n",
            "Epoch 331/500\n",
            "179/179 [==============================] - 2s 13ms/step - loss: 0.0074 - accuracy: 0.9980 - val_loss: 0.0524 - val_accuracy: 0.9862 - epoch_time: 2.2125\n",
            "Epoch 332/500\n",
            "179/179 [==============================] - 2s 14ms/step - loss: 0.0055 - accuracy: 0.9982 - val_loss: 0.0702 - val_accuracy: 0.9854 - epoch_time: 2.3348\n",
            "Epoch 333/500\n",
            "179/179 [==============================] - 2s 13ms/step - loss: 0.0057 - accuracy: 0.9982 - val_loss: 0.0611 - val_accuracy: 0.9838 - epoch_time: 2.2101\n",
            "Epoch 334/500\n",
            "179/179 [==============================] - 2s 13ms/step - loss: 0.0046 - accuracy: 0.9985 - val_loss: 0.0671 - val_accuracy: 0.9834 - epoch_time: 2.2049\n",
            "Epoch 335/500\n",
            "179/179 [==============================] - 3s 16ms/step - loss: 0.0067 - accuracy: 0.9982 - val_loss: 0.0671 - val_accuracy: 0.9846 - epoch_time: 2.7862\n",
            "Epoch 336/500\n",
            "179/179 [==============================] - 3s 15ms/step - loss: 0.0055 - accuracy: 0.9983 - val_loss: 0.0681 - val_accuracy: 0.9846 - epoch_time: 2.5653\n",
            "Epoch 337/500\n",
            "179/179 [==============================] - 2s 13ms/step - loss: 0.0073 - accuracy: 0.9977 - val_loss: 0.0716 - val_accuracy: 0.9814 - epoch_time: 2.1973\n",
            "Epoch 338/500\n",
            "179/179 [==============================] - 2s 13ms/step - loss: 0.0044 - accuracy: 0.9987 - val_loss: 0.0902 - val_accuracy: 0.9830 - epoch_time: 2.2002\n",
            "Epoch 339/500\n",
            "179/179 [==============================] - 2s 13ms/step - loss: 0.0068 - accuracy: 0.9981 - val_loss: 0.0610 - val_accuracy: 0.9826 - epoch_time: 2.2025\n",
            "Epoch 340/500\n",
            "179/179 [==============================] - 3s 14ms/step - loss: 0.0062 - accuracy: 0.9980 - val_loss: 0.0839 - val_accuracy: 0.9854 - epoch_time: 2.3712\n",
            "Epoch 341/500\n",
            "179/179 [==============================] - 3s 17ms/step - loss: 0.0059 - accuracy: 0.9980 - val_loss: 0.0691 - val_accuracy: 0.9834 - epoch_time: 2.9220\n",
            "Epoch 342/500\n",
            "179/179 [==============================] - 2s 14ms/step - loss: 0.0053 - accuracy: 0.9985 - val_loss: 0.0711 - val_accuracy: 0.9862 - epoch_time: 2.3378\n",
            "Epoch 343/500\n",
            "179/179 [==============================] - 2s 13ms/step - loss: 0.0065 - accuracy: 0.9983 - val_loss: 0.0739 - val_accuracy: 0.9854 - epoch_time: 2.1975\n",
            "Epoch 344/500\n",
            "179/179 [==============================] - 2s 13ms/step - loss: 0.0063 - accuracy: 0.9978 - val_loss: 0.0630 - val_accuracy: 0.9866 - epoch_time: 2.3082\n",
            "Epoch 345/500\n",
            "179/179 [==============================] - 2s 13ms/step - loss: 0.0061 - accuracy: 0.9981 - val_loss: 0.0555 - val_accuracy: 0.9862 - epoch_time: 2.1847\n",
            "Epoch 346/500\n",
            "179/179 [==============================] - 3s 15ms/step - loss: 0.0046 - accuracy: 0.9986 - val_loss: 0.0678 - val_accuracy: 0.9858 - epoch_time: 2.5025\n",
            "Epoch 347/500\n",
            "179/179 [==============================] - 3s 16ms/step - loss: 0.0057 - accuracy: 0.9984 - val_loss: 0.0667 - val_accuracy: 0.9834 - epoch_time: 2.7698\n",
            "Epoch 348/500\n",
            "179/179 [==============================] - 2s 13ms/step - loss: 0.0054 - accuracy: 0.9985 - val_loss: 0.0699 - val_accuracy: 0.9834 - epoch_time: 2.2108\n",
            "Epoch 349/500\n",
            "179/179 [==============================] - 2s 13ms/step - loss: 0.0064 - accuracy: 0.9981 - val_loss: 0.0530 - val_accuracy: 0.9870 - epoch_time: 2.2239\n",
            "Epoch 350/500\n",
            "179/179 [==============================] - 2s 13ms/step - loss: 0.0057 - accuracy: 0.9982 - val_loss: 0.0612 - val_accuracy: 0.9830 - epoch_time: 2.2126\n",
            "Epoch 351/500\n",
            "179/179 [==============================] - 3s 17ms/step - loss: 0.0064 - accuracy: 0.9982 - val_loss: 0.0641 - val_accuracy: 0.9846 - epoch_time: 2.9337\n",
            "Epoch 352/500\n",
            "179/179 [==============================] - 3s 18ms/step - loss: 0.0062 - accuracy: 0.9984 - val_loss: 0.0599 - val_accuracy: 0.9838 - epoch_time: 3.0783\n",
            "Epoch 353/500\n",
            "179/179 [==============================] - 3s 15ms/step - loss: 0.0067 - accuracy: 0.9979 - val_loss: 0.0550 - val_accuracy: 0.9834 - epoch_time: 2.6101\n",
            "Epoch 354/500\n",
            "179/179 [==============================] - 2s 13ms/step - loss: 0.0054 - accuracy: 0.9982 - val_loss: 0.0699 - val_accuracy: 0.9834 - epoch_time: 2.1908\n",
            "Epoch 355/500\n",
            "179/179 [==============================] - 2s 13ms/step - loss: 0.0060 - accuracy: 0.9979 - val_loss: 0.0695 - val_accuracy: 0.9838 - epoch_time: 2.1710\n",
            "Epoch 356/500\n",
            "179/179 [==============================] - 2s 13ms/step - loss: 0.0078 - accuracy: 0.9975 - val_loss: 0.0629 - val_accuracy: 0.9850 - epoch_time: 2.2319\n",
            "Epoch 357/500\n",
            "179/179 [==============================] - 2s 13ms/step - loss: 0.0073 - accuracy: 0.9977 - val_loss: 0.1054 - val_accuracy: 0.9814 - epoch_time: 2.2414\n",
            "Epoch 358/500\n",
            "179/179 [==============================] - 3s 16ms/step - loss: 0.0085 - accuracy: 0.9975 - val_loss: 0.0809 - val_accuracy: 0.9838 - epoch_time: 2.7220\n",
            "Epoch 359/500\n",
            "179/179 [==============================] - 2s 14ms/step - loss: 0.0069 - accuracy: 0.9977 - val_loss: 0.0814 - val_accuracy: 0.9830 - epoch_time: 2.3850\n",
            "Epoch 360/500\n",
            "179/179 [==============================] - 2s 13ms/step - loss: 0.0060 - accuracy: 0.9978 - val_loss: 0.0778 - val_accuracy: 0.9846 - epoch_time: 2.2501\n",
            "Epoch 361/500\n",
            "179/179 [==============================] - 2s 13ms/step - loss: 0.0050 - accuracy: 0.9985 - val_loss: 0.0618 - val_accuracy: 0.9834 - epoch_time: 2.1773\n",
            "Epoch 362/500\n",
            "179/179 [==============================] - 2s 13ms/step - loss: 0.0057 - accuracy: 0.9978 - val_loss: 0.0766 - val_accuracy: 0.9822 - epoch_time: 2.1999\n",
            "Epoch 363/500\n",
            "179/179 [==============================] - 3s 14ms/step - loss: 0.0043 - accuracy: 0.9987 - val_loss: 0.0864 - val_accuracy: 0.9830 - epoch_time: 2.4047\n",
            "Epoch 364/500\n",
            "179/179 [==============================] - 3s 16ms/step - loss: 0.0053 - accuracy: 0.9983 - val_loss: 0.0761 - val_accuracy: 0.9814 - epoch_time: 2.7383\n",
            "Epoch 365/500\n",
            "179/179 [==============================] - 2s 14ms/step - loss: 0.0069 - accuracy: 0.9980 - val_loss: 0.0796 - val_accuracy: 0.9826 - epoch_time: 2.3427\n",
            "Epoch 366/500\n",
            "179/179 [==============================] - 2s 13ms/step - loss: 0.0075 - accuracy: 0.9978 - val_loss: 0.0790 - val_accuracy: 0.9826 - epoch_time: 2.1561\n",
            "Epoch 367/500\n",
            "179/179 [==============================] - 2s 13ms/step - loss: 0.0065 - accuracy: 0.9979 - val_loss: 0.0625 - val_accuracy: 0.9834 - epoch_time: 2.2069\n",
            "Epoch 368/500\n",
            "179/179 [==============================] - 2s 13ms/step - loss: 0.0061 - accuracy: 0.9981 - val_loss: 0.0602 - val_accuracy: 0.9846 - epoch_time: 2.2471\n",
            "Epoch 369/500\n",
            "179/179 [==============================] - 3s 15ms/step - loss: 0.0055 - accuracy: 0.9984 - val_loss: 0.0709 - val_accuracy: 0.9842 - epoch_time: 2.6219\n",
            "Epoch 370/500\n",
            "179/179 [==============================] - 3s 16ms/step - loss: 0.0067 - accuracy: 0.9981 - val_loss: 0.0624 - val_accuracy: 0.9854 - epoch_time: 2.6978\n",
            "Epoch 371/500\n",
            "179/179 [==============================] - 2s 13ms/step - loss: 0.0045 - accuracy: 0.9986 - val_loss: 0.0828 - val_accuracy: 0.9826 - epoch_time: 2.1798\n",
            "Epoch 372/500\n",
            "179/179 [==============================] - 2s 13ms/step - loss: 0.0054 - accuracy: 0.9982 - val_loss: 0.0741 - val_accuracy: 0.9842 - epoch_time: 2.2411\n",
            "Epoch 373/500\n",
            "179/179 [==============================] - 2s 13ms/step - loss: 0.0047 - accuracy: 0.9984 - val_loss: 0.0742 - val_accuracy: 0.9854 - epoch_time: 2.1892\n",
            "Epoch 374/500\n",
            "179/179 [==============================] - 2s 13ms/step - loss: 0.0056 - accuracy: 0.9982 - val_loss: 0.0683 - val_accuracy: 0.9850 - epoch_time: 2.1737\n",
            "Epoch 375/500\n",
            "179/179 [==============================] - 3s 16ms/step - loss: 0.0040 - accuracy: 0.9986 - val_loss: 0.0761 - val_accuracy: 0.9826 - epoch_time: 2.6982\n",
            "Epoch 376/500\n",
            "179/179 [==============================] - 3s 15ms/step - loss: 0.0057 - accuracy: 0.9982 - val_loss: 0.0837 - val_accuracy: 0.9822 - epoch_time: 2.6322\n",
            "Epoch 377/500\n",
            "179/179 [==============================] - 2s 13ms/step - loss: 0.0059 - accuracy: 0.9980 - val_loss: 0.0763 - val_accuracy: 0.9826 - epoch_time: 2.2010\n",
            "Epoch 378/500\n",
            "179/179 [==============================] - 2s 13ms/step - loss: 0.0060 - accuracy: 0.9979 - val_loss: 0.0744 - val_accuracy: 0.9810 - epoch_time: 2.1603\n",
            "Epoch 379/500\n",
            "179/179 [==============================] - 2s 13ms/step - loss: 0.0058 - accuracy: 0.9981 - val_loss: 0.0873 - val_accuracy: 0.9810 - epoch_time: 2.1510\n",
            "Epoch 380/500\n",
            "179/179 [==============================] - 2s 13ms/step - loss: 0.0066 - accuracy: 0.9980 - val_loss: 0.0818 - val_accuracy: 0.9826 - epoch_time: 2.3004\n",
            "Epoch 381/500\n",
            "179/179 [==============================] - 3s 16ms/step - loss: 0.0054 - accuracy: 0.9982 - val_loss: 0.0787 - val_accuracy: 0.9834 - epoch_time: 2.8248\n",
            "Epoch 382/500\n",
            "179/179 [==============================] - 3s 15ms/step - loss: 0.0071 - accuracy: 0.9980 - val_loss: 0.0592 - val_accuracy: 0.9838 - epoch_time: 2.5469\n",
            "Epoch 383/500\n",
            "179/179 [==============================] - 2s 13ms/step - loss: 0.0050 - accuracy: 0.9983 - val_loss: 0.0733 - val_accuracy: 0.9842 - epoch_time: 2.1860\n",
            "Epoch 384/500\n",
            "179/179 [==============================] - 2s 13ms/step - loss: 0.0047 - accuracy: 0.9983 - val_loss: 0.0724 - val_accuracy: 0.9830 - epoch_time: 2.2978\n",
            "Epoch 385/500\n",
            "179/179 [==============================] - 2s 13ms/step - loss: 0.0053 - accuracy: 0.9986 - val_loss: 0.0799 - val_accuracy: 0.9810 - epoch_time: 2.2694\n",
            "Epoch 386/500\n",
            "179/179 [==============================] - 3s 14ms/step - loss: 0.0043 - accuracy: 0.9984 - val_loss: 0.0964 - val_accuracy: 0.9834 - epoch_time: 2.4048\n",
            "Epoch 387/500\n",
            "179/179 [==============================] - 3s 17ms/step - loss: 0.0059 - accuracy: 0.9982 - val_loss: 0.0815 - val_accuracy: 0.9834 - epoch_time: 2.8662\n",
            "Epoch 388/500\n",
            "179/179 [==============================] - 2s 13ms/step - loss: 0.0066 - accuracy: 0.9979 - val_loss: 0.0831 - val_accuracy: 0.9842 - epoch_time: 2.2210\n",
            "Epoch 389/500\n",
            "179/179 [==============================] - 2s 13ms/step - loss: 0.0058 - accuracy: 0.9984 - val_loss: 0.0606 - val_accuracy: 0.9838 - epoch_time: 2.2038\n",
            "Epoch 390/500\n",
            "179/179 [==============================] - 2s 13ms/step - loss: 0.0051 - accuracy: 0.9985 - val_loss: 0.0854 - val_accuracy: 0.9838 - epoch_time: 2.2287\n",
            "Epoch 391/500\n",
            "179/179 [==============================] - 2s 13ms/step - loss: 0.0061 - accuracy: 0.9979 - val_loss: 0.0810 - val_accuracy: 0.9826 - epoch_time: 2.1726\n",
            "Epoch 392/500\n",
            "179/179 [==============================] - 3s 15ms/step - loss: 0.0069 - accuracy: 0.9980 - val_loss: 0.0765 - val_accuracy: 0.9834 - epoch_time: 2.6239\n",
            "Epoch 393/500\n",
            "179/179 [==============================] - 3s 16ms/step - loss: 0.0068 - accuracy: 0.9978 - val_loss: 0.0775 - val_accuracy: 0.9814 - epoch_time: 2.7120\n",
            "Epoch 394/500\n",
            "179/179 [==============================] - 2s 13ms/step - loss: 0.0055 - accuracy: 0.9983 - val_loss: 0.0694 - val_accuracy: 0.9850 - epoch_time: 2.2188\n",
            "Epoch 395/500\n",
            "179/179 [==============================] - 2s 13ms/step - loss: 0.0059 - accuracy: 0.9984 - val_loss: 0.0775 - val_accuracy: 0.9822 - epoch_time: 2.1438\n",
            "Epoch 396/500\n",
            "179/179 [==============================] - 2s 13ms/step - loss: 0.0052 - accuracy: 0.9985 - val_loss: 0.0749 - val_accuracy: 0.9838 - epoch_time: 2.2530\n",
            "Epoch 397/500\n",
            "179/179 [==============================] - 2s 14ms/step - loss: 0.0039 - accuracy: 0.9989 - val_loss: 0.0753 - val_accuracy: 0.9818 - epoch_time: 2.3419\n",
            "Epoch 398/500\n",
            "179/179 [==============================] - 3s 15ms/step - loss: 0.0061 - accuracy: 0.9982 - val_loss: 0.0759 - val_accuracy: 0.9850 - epoch_time: 2.6610\n",
            "Epoch 399/500\n",
            "179/179 [==============================] - 3s 15ms/step - loss: 0.0063 - accuracy: 0.9984 - val_loss: 0.0717 - val_accuracy: 0.9846 - epoch_time: 2.5615\n",
            "Epoch 400/500\n",
            "179/179 [==============================] - 2s 13ms/step - loss: 0.0070 - accuracy: 0.9978 - val_loss: 0.0890 - val_accuracy: 0.9838 - epoch_time: 2.1967\n"
          ]
        }
      ]
    },
    {
      "cell_type": "code",
      "source": [
        "#plot history of model_sensor1\n",
        "history_sensor1 = pd.read_csv(model_path +\"historyLOG_Constant-0_1_dur_10_sensor1.csv\", index_col='epoch')\n",
        "history_sensor1.reset_index(drop= True, inplace= True)\n",
        "history_sensor1.head()\n",
        "print('Average Exe_time for sensor1: {} sec.'.format(round(np.mean(history_sensor1['epoch_time'].values),3)))\n"
      ],
      "metadata": {
        "colab": {
          "base_uri": "https://localhost:8080/"
        },
        "id": "3O-5mYHRoluo",
        "outputId": "703e2dfb-6b89-4ad0-c1eb-511c71e20bba"
      },
      "execution_count": null,
      "outputs": [
        {
          "output_type": "stream",
          "name": "stdout",
          "text": [
            "Average Exe_time for sensor1: 2.323 sec.\n"
          ]
        }
      ]
    },
    {
      "cell_type": "code",
      "source": [
        "plt.plot( history_sensor1['loss'], 'b',label = 'loss')\n",
        "plt.plot( history_sensor1['val_loss'], 'g', label = 'val_loss')\n",
        "plt.legend()\n",
        "plt.grid()\n",
        "plt.title('loss_model_sensor1')\n",
        "plt.show()"
      ],
      "metadata": {
        "colab": {
          "base_uri": "https://localhost:8080/"
        },
        "id": "qk6CGElHFQKh",
        "outputId": "b158262e-2c31-44d5-e299-08b439252019"
      },
      "execution_count": null,
      "outputs": [
        {
          "output_type": "display_data",
          "data": {
            "text/plain": [
              "<Figure size 432x288 with 1 Axes>"
            ],
            "image/png": "[encoded data removed]"
          },
          "metadata": {
            "needs_background": "light"
          }
        }
      ]
    },
    {
      "cell_type": "code",
      "source": [
        "plt.plot(history_sensor1['accuracy']* 100,'b',label = 'acc')\n",
        "plt.plot(history_sensor1['val_accuracy'] * 100,'g', label = 'val_acc')\n",
        "plt.legend()\n",
        "plt.grid()\n",
        "plt.title('accuracy_model_sensor1')\n",
        "plt.show()"
      ],
      "metadata": {
        "colab": {
          "base_uri": "https://localhost:8080/"
        },
        "id": "yW2YOqyrFauE",
        "outputId": "76c1af26-f056-4bc3-ed71-843f19db502b"
      },
      "execution_count": null,
      "outputs": [
        {
          "output_type": "display_data",
          "data": {
            "text/plain": [
              "<Figure size 432x288 with 1 Axes>"
            ],
            "image/png": "[encoded data removed]"
          },
          "metadata": {
            "needs_background": "light"
          }
        }
      ]
    },
    {
      "cell_type": "code",
      "metadata": {
        "colab": {
          "base_uri": "https://localhost:8080/"
        },
        "id": "yiUh7YCM0q5f",
        "outputId": "ba3a6ca9-307e-47ef-bd6f-cca1cf9780c7"
      },
      "source": [
        "history_sensor2 = pd.read_csv(model_path +\"historyLOG_Constant-0_1_dur_10_sensor2.csv\", index_col='epoch')\n",
        "history_sensor2.reset_index(drop= True, inplace= True)\n",
        "history_sensor2.head()\n",
        "print('Average Exe_time for sensor2: {} sec.'.format(round(np.mean(history_sensor2['epoch_time'].values),3)))\n"
      ],
      "execution_count": null,
      "outputs": [
        {
          "output_type": "stream",
          "name": "stdout",
          "text": [
            "Average Exe_time for sensor2: 2.247 sec.\n"
          ]
        }
      ]
    },
    {
      "cell_type": "code",
      "source": [
        "plt.plot( history_sensor2['loss'], 'b',label = 'loss')\n",
        "plt.plot( history_sensor2['val_loss'], 'g', label = 'val_loss')\n",
        "plt.legend()\n",
        "plt.grid()\n",
        "plt.title('loss_model_sensor2')\n",
        "plt.show()"
      ],
      "metadata": {
        "colab": {
          "base_uri": "https://localhost:8080/"
        },
        "id": "L7pzR8UUFR-X",
        "outputId": "9b63db3f-f344-46d4-e583-55c1c9310b81"
      },
      "execution_count": null,
      "outputs": [
        {
          "output_type": "display_data",
          "data": {
            "text/plain": [
              "<Figure size 432x288 with 1 Axes>"
            ],
            "image/png": "[encoded data removed]"
          },
          "metadata": {
            "needs_background": "light"
          }
        }
      ]
    },
    {
      "cell_type": "code",
      "source": [
        "plt.plot(history_sensor2['accuracy']* 100,'b',label = 'acc')\n",
        "plt.plot(history_sensor2['val_accuracy'] * 100,'g', label = 'val_acc')\n",
        "plt.legend()\n",
        "plt.grid()\n",
        "plt.title('accuracy_model_sensor2')\n",
        "plt.show()"
      ],
      "metadata": {
        "colab": {
          "base_uri": "https://localhost:8080/",
          "height": 54
        },
        "id": "ThBgZzV2Finr",
        "outputId": "d5a317aa-d2eb-4b0e-9275-11c77a9ed497"
      },
      "execution_count": null,
      "outputs": [
        {
          "output_type": "display_data",
          "data": {
            "text/plain": [
              "<Figure size 432x288 with 1 Axes>"
            ],
            "image/png": "[encoded data removed]"
          },
          "metadata": {
            "needs_background": "light"
          }
        }
      ]
    },
    {
      "cell_type": "code",
      "metadata": {
        "colab": {
          "base_uri": "https://localhost:8080/"
        },
        "id": "xZQRze500qd5",
        "outputId": "52a164c8-2964-40e1-af3e-0314af2484b4"
      },
      "source": [
        "history_sensor3 = pd.read_csv(model_path +\"historyLOG_Constant-0_1_dur_10_sensor3.csv\", index_col='epoch')\n",
        "history_sensor3.reset_index(drop= True, inplace= True)\n",
        "history_sensor3.head()\n",
        "print('Average Exe_time for sensor3: {} sec.'.format(round(np.mean(history_sensor3['epoch_time'].values),3)))\n"
      ],
      "execution_count": null,
      "outputs": [
        {
          "output_type": "stream",
          "name": "stdout",
          "text": [
            "Average Exe_time for sensor3: 2.295 sec.\n"
          ]
        }
      ]
    },
    {
      "cell_type": "code",
      "metadata": {
        "id": "swXRfIlAX0pF",
        "colab": {
          "base_uri": "https://localhost:8080/"
        },
        "outputId": "3de3c857-8a6f-40f1-866b-4bd313595fc7"
      },
      "source": [
        "plt.plot( history_sensor3['loss'], 'b',label = 'loss')\n",
        "plt.plot( history_sensor3['val_loss'], 'g', label = 'val_loss')\n",
        "plt.legend()\n",
        "plt.grid()\n",
        "plt.title('loss_model_sensor3')\n",
        "plt.show()"
      ],
      "execution_count": null,
      "outputs": [
        {
          "output_type": "display_data",
          "data": {
            "text/plain": [
              "<Figure size 432x288 with 1 Axes>"
            ],
            "image/png": "[encoded data removed]"
          },
          "metadata": {
            "needs_background": "light"
          }
        }
      ]
    },
    {
      "cell_type": "code",
      "source": [
        "plt.plot(history_sensor3['accuracy']* 100,'b',label = 'acc')\n",
        "plt.plot(history_sensor3['val_accuracy'] * 100,'g', label = 'val_acc')\n",
        "plt.legend()\n",
        "plt.grid()\n",
        "plt.title('accuracy_model_sensor3')\n",
        "plt.show()"
      ],
      "metadata": {
        "colab": {
          "base_uri": "https://localhost:8080/"
        },
        "id": "Uzl-v65bFtOj",
        "outputId": "de704843-771e-46b0-d7c8-facf003f96e4"
      },
      "execution_count": null,
      "outputs": [
        {
          "output_type": "display_data",
          "data": {
            "text/plain": [
              "<Figure size 432x288 with 1 Axes>"
            ],
            "image/png": "[encoded data removed]"
          },
          "metadata": {
            "needs_background": "light"
          }
        }
      ]
    },
    {
      "cell_type": "code",
      "source": [
        "#last model_sensor1 evaluation\n",
        "test_loss, test_acc = model_sensor1.evaluate( X_test_sensor1, y_test_sensor1, verbose= 1)\n",
        "print('test accuracy :{:.1%} \\n test loss :{:.3}'.format(test_acc, test_loss))"
      ],
      "metadata": {
        "colab": {
          "base_uri": "https://localhost:8080/"
        },
        "id": "r9txKKt8GPES",
        "outputId": "0c9fbd22-481d-4bfd-86b9-acd979169e85"
      },
      "execution_count": null,
      "outputs": [
        {
          "output_type": "stream",
          "name": "stdout",
          "text": [
            "140/140 [==============================] - 1s 5ms/step - loss: 0.0176 - accuracy: 0.9966\n",
            "test accuracy :99.7% \n",
            " test loss :0.0176\n"
          ]
        }
      ]
    },
    {
      "cell_type": "code",
      "source": [
        "#last model_sensor2 evaluation\n",
        "test_loss, test_acc = model_sensor2.evaluate( X_test_sensor2, y_test_sensor2, verbose= 1)\n",
        "print('test accuracy :{:.1%} \\n test loss :{:.3}'.format(test_acc, test_loss))"
      ],
      "metadata": {
        "colab": {
          "base_uri": "https://localhost:8080/"
        },
        "id": "adROowiPGPtE",
        "outputId": "751d039e-e981-4727-e9b9-cdecf2423c6e"
      },
      "execution_count": null,
      "outputs": [
        {
          "output_type": "stream",
          "name": "stdout",
          "text": [
            "140/140 [==============================] - 1s 7ms/step - loss: 0.0111 - accuracy: 0.9975\n",
            "test accuracy :99.8% \n",
            " test loss :0.0111\n"
          ]
        }
      ]
    },
    {
      "cell_type": "code",
      "source": [
        "#last model_sensor3 evaluation\n",
        "test_loss, test_acc = model_sensor3.evaluate( X_test_sensor3, y_test_sensor3, verbose= 1)\n",
        "print('test accuracy :{:.1%} \\n test loss :{:.3}'.format(test_acc, test_loss))"
      ],
      "metadata": {
        "colab": {
          "base_uri": "https://localhost:8080/"
        },
        "id": "AFoZDmx4GP5u",
        "outputId": "29e5eed9-2caf-4570-80c5-c955b50d92b9"
      },
      "execution_count": null,
      "outputs": [
        {
          "output_type": "stream",
          "name": "stdout",
          "text": [
            "140/140 [==============================] - 1s 7ms/step - loss: 0.0576 - accuracy: 0.9897\n",
            "test accuracy :99.0% \n",
            " test loss :0.0576\n"
          ]
        }
      ]
    },
    {
      "cell_type": "code",
      "source": [
        "y_pred_sensor1 = model_sensor1.predict( X_test_sensor1, verbose= 1)\n",
        "y_pred_sensor2 = model_sensor2.predict( X_test_sensor2, verbose= 1)\n",
        "y_pred_sensor3 = model_sensor3.predict( X_test_sensor3, verbose= 1)"
      ],
      "metadata": {
        "colab": {
          "base_uri": "https://localhost:8080/"
        },
        "id": "STn_XkCZGP7k",
        "outputId": "4ed12bb6-fa32-4831-d886-60ead2aa039a"
      },
      "execution_count": null,
      "outputs": [
        {
          "output_type": "stream",
          "name": "stdout",
          "text": [
            "140/140 [==============================] - 2s 4ms/step\n",
            "140/140 [==============================] - 1s 4ms/step\n",
            "140/140 [==============================] - 1s 4ms/step\n"
          ]
        }
      ]
    },
    {
      "cell_type": "code",
      "source": [
        "y_pred_sensor1 = [np.argmax(i) for i in y_pred_sensor1]\n",
        "y_pred_sensor2 = [np.argmax(i) for i in y_pred_sensor2]\n",
        "y_pred_sensor3 = [np.argmax(i) for i in y_pred_sensor3]"
      ],
      "metadata": {
        "id": "WCLRF8ySGP-y"
      },
      "execution_count": null,
      "outputs": []
    },
    {
      "cell_type": "code",
      "source": [
        "y_pred_total = []\n",
        "for i in range(len(y_pred_sensor1)):\n",
        "  y_pred_total.append( y_pred_sensor1[i] or y_pred_sensor2[i] or y_pred_sensor3[i])"
      ],
      "metadata": {
        "id": "anY5RdokHE_1"
      },
      "execution_count": null,
      "outputs": []
    },
    {
      "cell_type": "code",
      "source": [
        "assert(len(y_pred_total) == len(y_pred_sensor1))"
      ],
      "metadata": {
        "id": "afksljyBHFMW"
      },
      "execution_count": null,
      "outputs": []
    },
    {
      "cell_type": "code",
      "source": [
        "y_test_sensor1 = [np.argmax(i) for i in y_test_sensor1]\n",
        "y_test_sensor2 = [np.argmax(i) for i in y_test_sensor2]\n",
        "y_test_sensor3 = [np.argmax(i) for i in y_test_sensor3]"
      ],
      "metadata": {
        "id": "9NrwBh01HMgQ"
      },
      "execution_count": null,
      "outputs": []
    },
    {
      "cell_type": "code",
      "source": [
        "y_test_total = []\n",
        "for i in range(len(y_test_sensor1)):\n",
        "  y_test_total.append(y_test_sensor1[i] or y_test_sensor2[i] or y_test_sensor3[i])"
      ],
      "metadata": {
        "id": "lRweEKazHMsx"
      },
      "execution_count": null,
      "outputs": []
    },
    {
      "cell_type": "code",
      "source": [
        "print(\"Sensor 1 performanace:\")\n",
        "recall = recall_score(y_test_sensor1, y_pred_sensor1, average='micro')\n",
        "print('recall score : {:.2%}\\n'.format(recall ))\n",
        "\n",
        "precision = precision_score(y_test_sensor1, y_pred_sensor1, average='micro')\n",
        "print('precision score: {:.2%}\\n'.format(precision ))\n",
        "\n",
        "f1 = f1_score(y_test_sensor1, y_pred_sensor1, average='micro')\n",
        "print(\"F1 score: {:.2%}\\n\".format(f1 ))\n",
        "\n",
        "accuracy = accuracy_score(y_test_sensor1, y_pred_sensor1)\n",
        "print(\"accuracy score: {:.2%}\\n\".format(accuracy))"
      ],
      "metadata": {
        "colab": {
          "base_uri": "https://localhost:8080/"
        },
        "id": "3oCJphJZHMuN",
        "outputId": "be152750-d655-4193-fc83-669252855bbb"
      },
      "execution_count": null,
      "outputs": [
        {
          "output_type": "stream",
          "name": "stdout",
          "text": [
            "Sensor 1 performanace:\n",
            "recall score : 99.66%\n",
            "\n",
            "precision score: 99.66%\n",
            "\n",
            "F1 score: 99.66%\n",
            "\n",
            "accuracy score: 99.66%\n",
            "\n"
          ]
        }
      ]
    },
    {
      "cell_type": "code",
      "source": [
        "print(\"Sensor 2 performanace:\")\n",
        "recall = recall_score(y_test_sensor2, y_pred_sensor2, average='micro')\n",
        "print('recall score : {:.2%}\\n'.format(recall ))\n",
        "\n",
        "precision = precision_score(y_test_sensor2, y_pred_sensor2, average='micro')\n",
        "print('precision score: {:.2%}\\n'.format(precision ))\n",
        "\n",
        "f1 = f1_score(y_test_sensor2, y_pred_sensor2, average='micro')\n",
        "print(\"F1 score: {:.2%}\\n\".format(f1 ))\n",
        "\n",
        "accuracy = accuracy_score(y_test_sensor2, y_pred_sensor2)\n",
        "print(\"accuracy score: {:.2%}\\n\".format(accuracy))"
      ],
      "metadata": {
        "colab": {
          "base_uri": "https://localhost:8080/"
        },
        "id": "Lm9vlS19HMxS",
        "outputId": "36a52f10-4f72-4c33-a6a6-6cfc8a3bb106"
      },
      "execution_count": null,
      "outputs": [
        {
          "output_type": "stream",
          "name": "stdout",
          "text": [
            "Sensor 2 performanace:\n",
            "recall score : 99.75%\n",
            "\n",
            "precision score: 99.75%\n",
            "\n",
            "F1 score: 99.75%\n",
            "\n",
            "accuracy score: 99.75%\n",
            "\n"
          ]
        }
      ]
    },
    {
      "cell_type": "code",
      "source": [
        "print(\"Sensor 3 performanace:\")\n",
        "recall = recall_score(y_test_sensor3, y_pred_sensor3, average='micro')\n",
        "print('recall score : {:.2%}\\n'.format(recall ))\n",
        "\n",
        "precision = precision_score(y_test_sensor3, y_pred_sensor3, average='micro')\n",
        "print('precision score: {:.2%}\\n'.format(precision ))\n",
        "\n",
        "f1 = f1_score(y_test_sensor3, y_pred_sensor3, average='micro')\n",
        "print(\"F1 score: {:.2%}\\n\".format(f1 ))\n",
        "\n",
        "accuracy = accuracy_score(y_test_sensor3, y_pred_sensor3)\n",
        "print(\"accuracy score: {:.2%}\\n\".format(accuracy))"
      ],
      "metadata": {
        "colab": {
          "base_uri": "https://localhost:8080/"
        },
        "id": "klF4enFMHaV1",
        "outputId": "467501d3-4584-4b00-f2de-512634baf103"
      },
      "execution_count": null,
      "outputs": [
        {
          "output_type": "stream",
          "name": "stdout",
          "text": [
            "Sensor 3 performanace:\n",
            "recall score : 98.97%\n",
            "\n",
            "precision score: 98.97%\n",
            "\n",
            "F1 score: 98.97%\n",
            "\n",
            "accuracy score: 98.97%\n",
            "\n"
          ]
        }
      ]
    },
    {
      "cell_type": "code",
      "source": [
        "print(\"All Sensors performanace:\\n\")\n",
        "\n",
        "recall = recall_score(y_test_total, y_pred_total, average='micro')\n",
        "print('recall score : {:.2%}\\n'.format(recall ))\n",
        "\n",
        "precision = precision_score(y_test_total, y_pred_total, average='micro')\n",
        "print('precision score: {:.2%}\\n'.format(precision ))\n",
        "\n",
        "f1 = f1_score(y_test_total, y_pred_total, average='micro')\n",
        "print(\"F1 score: {:.2%}\\n\".format(f1 ))\n",
        "\n",
        "accuracy = accuracy_score(y_test_total, y_pred_total)\n",
        "print(\"accuracy score: {:.2%}\\n\".format(accuracy))"
      ],
      "metadata": {
        "colab": {
          "base_uri": "https://localhost:8080/"
        },
        "id": "EIlCvZWhHg9S",
        "outputId": "217b4a11-0794-42c1-e49b-73cfbf74b2c5"
      },
      "execution_count": null,
      "outputs": [
        {
          "output_type": "stream",
          "name": "stdout",
          "text": [
            "All Sensors performanace:\n",
            "\n",
            "recall score : 99.17%\n",
            "\n",
            "precision score: 99.17%\n",
            "\n",
            "F1 score: 99.17%\n",
            "\n",
            "accuracy score: 99.17%\n",
            "\n"
          ]
        }
      ]
    },
    {
      "cell_type": "code",
      "source": [
        "print(\"All Sensors performanace:\\n\")\n",
        "\n",
        "recall = recall_score(y_test_total, y_pred_total, average='macro')\n",
        "print('recall score : {:.2%}\\n'.format(recall ))\n",
        "\n",
        "precision = precision_score(y_test_total, y_pred_total, average='macro')\n",
        "print('precision score: {:.2%}\\n'.format(precision ))\n",
        "\n",
        "f1 = f1_score(y_test_total, y_pred_total, average='macro')\n",
        "print(\"F1 score: {:.2%}\\n\".format(f1 ))\n",
        "\n",
        "accuracy = accuracy_score(y_test_total, y_pred_total)\n",
        "print(\"accuracy score: {:.2%}\\n\".format(accuracy))"
      ],
      "metadata": {
        "colab": {
          "base_uri": "https://localhost:8080/"
        },
        "id": "j5CsF4AQHiEs",
        "outputId": "1e00faf9-d6d2-4e3b-f531-4832a79c7373"
      },
      "execution_count": null,
      "outputs": [
        {
          "output_type": "stream",
          "name": "stdout",
          "text": [
            "All Sensors performanace:\n",
            "\n",
            "recall score : 99.18%\n",
            "\n",
            "precision score: 99.03%\n",
            "\n",
            "F1 score: 99.10%\n",
            "\n",
            "accuracy score: 99.17%\n",
            "\n"
          ]
        }
      ]
    },
    {
      "cell_type": "code",
      "source": [
        "conf = confusion_matrix(y_test_total, y_pred_total, labels=[1,0])\n",
        "conf_df = pd.DataFrame(conf, columns= [1,0], index= [1,0])\n",
        "conf_df"
      ],
      "metadata": {
        "colab": {
          "base_uri": "https://localhost:8080/"
        },
        "id": "d1gGHBdzHlkV",
        "outputId": "09b12f34-b83a-40a2-a9e0-ba0b6ebe4092"
      },
      "execution_count": null,
      "outputs": [
        {
          "output_type": "execute_result",
          "data": {
            "text/plain": [
              "      1     0\n",
              "1  2833    24\n",
              "0    13  1599"
            ],
            "text/html": [
              "\n",
              "  <div id=\"df-eea85817-bcee-4f80-a392-74408016bf0f\">\n",
              "    <div class=\"colab-df-container\">\n",
              "      <div>\n",
              "<style scoped>\n",
              "    .dataframe tbody tr th:only-of-type {\n",
              "        vertical-align: middle;\n",
              "    }\n",
              "\n",
              "    .dataframe tbody tr th {\n",
              "        vertical-align: top;\n",
              "    }\n",
              "\n",
              "    .dataframe thead th {\n",
              "        text-align: right;\n",
              "    }\n",
              "</style>\n",
              "<table border=\"1\" class=\"dataframe\">\n",
              "  <thead>\n",
              "    <tr style=\"text-align: right;\">\n",
              "      <th></th>\n",
              "      <th>1</th>\n",
              "      <th>0</th>\n",
              "    </tr>\n",
              "  </thead>\n",
              "  <tbody>\n",
              "    <tr>\n",
              "      <th>1</th>\n",
              "      <td>2833</td>\n",
              "      <td>24</td>\n",
              "    </tr>\n",
              "    <tr>\n",
              "      <th>0</th>\n",
              "      <td>13</td>\n",
              "      <td>1599</td>\n",
              "    </tr>\n",
              "  </tbody>\n",
              "</table>\n",
              "</div>\n",
              "      <button class=\"colab-df-convert\" onclick=\"convertToInteractive('df-eea85817-bcee-4f80-a392-74408016bf0f')\"\n",
              "              title=\"Convert this dataframe to an interactive table.\"\n",
              "              style=\"display:none;\">\n",
              "        \n",
              "  <svg xmlns=\"http://www.w3.org/2000/svg\" height=\"24px\"viewBox=\"0 0 24 24\"\n",
              "       width=\"24px\">\n",
              "    <path d=\"M0 0h24v24H0V0z\" fill=\"none\"/>\n",
              "    <path d=\"M18.56 5.44l.94 2.06.94-2.06 2.06-.94-2.06-.94-.94-2.06-.94 2.06-2.06.94zm-11 1L8.5 8.5l.94-2.06 2.06-.94-2.06-.94L8.5 2.5l-.94 2.06-2.06.94zm10 10l.94 2.06.94-2.06 2.06-.94-2.06-.94-.94-2.06-.94 2.06-2.06.94z\"/><path d=\"M17.41 7.96l-1.37-1.37c-.4-.4-.92-.59-1.43-.59-.52 0-1.04.2-1.43.59L10.3 9.45l-7.72 7.72c-.78.78-.78 2.05 0 2.83L4 21.41c.39.39.9.59 1.41.59.51 0 1.02-.2 1.41-.59l7.78-7.78 2.81-2.81c.8-.78.8-2.07 0-2.86zM5.41 20L4 18.59l7.72-7.72 1.47 1.35L5.41 20z\"/>\n",
              "  </svg>\n",
              "      </button>\n",
              "      \n",
              "  <style>\n",
              "    .colab-df-container {\n",
              "      display:flex;\n",
              "      flex-wrap:wrap;\n",
              "      gap: 12px;\n",
              "    }\n",
              "\n",
              "    .colab-df-convert {\n",
              "      background-color: #E8F0FE;\n",
              "      border: none;\n",
              "      border-radius: 50%;\n",
              "      cursor: pointer;\n",
              "      display: none;\n",
              "      fill: #1967D2;\n",
              "      height: 32px;\n",
              "      padding: 0 0 0 0;\n",
              "      width: 32px;\n",
              "    }\n",
              "\n",
              "    .colab-df-convert:hover {\n",
              "      background-color: #E2EBFA;\n",
              "      box-shadow: 0px 1px 2px rgba(60, 64, 67, 0.3), 0px 1px 3px 1px rgba(60, 64, 67, 0.15);\n",
              "      fill: #174EA6;\n",
              "    }\n",
              "\n",
              "    [theme=dark] .colab-df-convert {\n",
              "      background-color: #3B4455;\n",
              "      fill: #D2E3FC;\n",
              "    }\n",
              "\n",
              "    [theme=dark] .colab-df-convert:hover {\n",
              "      background-color: #434B5C;\n",
              "      box-shadow: 0px 1px 3px 1px rgba(0, 0, 0, 0.15);\n",
              "      filter: drop-shadow(0px 1px 2px rgba(0, 0, 0, 0.3));\n",
              "      fill: #FFFFFF;\n",
              "    }\n",
              "  </style>\n",
              "\n",
              "      <script>\n",
              "        const buttonEl =\n",
              "          document.querySelector('#df-eea85817-bcee-4f80-a392-74408016bf0f button.colab-df-convert');\n",
              "        buttonEl.style.display =\n",
              "          google.colab.kernel.accessAllowed ? 'block' : 'none';\n",
              "\n",
              "        async function convertToInteractive(key) {\n",
              "          const element = document.querySelector('#df-eea85817-bcee-4f80-a392-74408016bf0f');\n",
              "          const dataTable =\n",
              "            await google.colab.kernel.invokeFunction('convertToInteractive',\n",
              "                                                     [key], {});\n",
              "          if (!dataTable) return;\n",
              "\n",
              "          const docLinkHtml = 'Like what you see? Visit the ' +\n",
              "            '<a target=\"_blank\" href=https://colab.research.google.com/notebooks/data_table.ipynb>data table notebook</a>'\n",
              "            + ' to learn more about interactive tables.';\n",
              "          element.innerHTML = '';\n",
              "          dataTable['output_type'] = 'display_data';\n",
              "          await google.colab.output.renderOutput(dataTable, element);\n",
              "          const docLink = document.createElement('div');\n",
              "          docLink.innerHTML = docLinkHtml;\n",
              "          element.appendChild(docLink);\n",
              "        }\n",
              "      </script>\n",
              "    </div>\n",
              "  </div>\n",
              "  "
            ]
          },
          "metadata": {},
          "execution_count": 75
        }
      ]
    }
  ]
}