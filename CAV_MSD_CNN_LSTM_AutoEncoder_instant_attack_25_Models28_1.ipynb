{
  "cells": [
    {
      "cell_type": "code",
      "execution_count": null,
      "metadata": {
        "colab": {
          "base_uri": "https://localhost:8080/"
        },
        "id": "INNY7MoLZn0x",
        "outputId": "82e6ecec-0a5e-4bb5-81e3-98076dbba4fe"
      },
      "outputs": [
        {
          "output_type": "stream",
          "name": "stdout",
          "text": [
            "Mounted at /content/drive\n"
          ]
        }
      ],
      "source": [
        "from google.colab import drive\n",
        "drive.mount('/content/drive')"
      ]
    },
    {
      "cell_type": "code",
      "execution_count": null,
      "metadata": {
        "colab": {
          "base_uri": "https://localhost:8080/"
        },
        "id": "bQ3m-WaucgZw",
        "outputId": "75b82741-cdc4-40fe-ce75-312b557cef07"
      },
      "outputs": [
        {
          "output_type": "stream",
          "name": "stdout",
          "text": [
            "Looking in indexes: https://pypi.org/simple, https://us-python.pkg.dev/colab-wheels/public/simple/\n",
            "Collecting h5py==2.10.0\n",
            "  Downloading h5py-2.10.0-cp38-cp38-manylinux1_x86_64.whl (2.9 MB)\n",
            "\u001b[2K     \u001b[90m━━━━━━━━━━━━━━━━━━━━━━━━━━━━━━━━━━━━━━━━\u001b[0m \u001b[32m2.9/2.9 MB\u001b[0m \u001b[31m46.4 MB/s\u001b[0m eta \u001b[36m0:00:00\u001b[0m\n",
            "\u001b[?25hRequirement already satisfied: numpy>=1.7 in /usr/local/lib/python3.8/dist-packages (from h5py==2.10.0) (1.21.6)\n",
            "Requirement already satisfied: six in /usr/local/lib/python3.8/dist-packages (from h5py==2.10.0) (1.15.0)\n",
            "Installing collected packages: h5py\n",
            "  Attempting uninstall: h5py\n",
            "    Found existing installation: h5py 3.1.0\n",
            "    Uninstalling h5py-3.1.0:\n",
            "      Successfully uninstalled h5py-3.1.0\n",
            "Successfully installed h5py-2.10.0\n"
          ]
        }
      ],
      "source": [
        "pip install h5py==2.10.0"
      ]
    },
    {
      "cell_type": "code",
      "execution_count": null,
      "metadata": {
        "colab": {
          "base_uri": "https://localhost:8080/"
        },
        "id": "8QiS7haVwwyX",
        "outputId": "6142b37d-8070-4c72-c3e6-3a7de6a1fdd8"
      },
      "outputs": [
        {
          "output_type": "stream",
          "name": "stdout",
          "text": [
            "tensorflow version :2.9.2\n",
            "Found GPU at: /device:GPU:0\n"
          ]
        }
      ],
      "source": [
        "import tensorflow as tf\n",
        "print(\"tensorflow version :{}\".format(tf.__version__))\n",
        "device_name = tf.test.gpu_device_name()\n",
        "if device_name != '/device:GPU:0':\n",
        "  raise SystemError('GPU device not found')\n",
        "print('Found GPU at: {}'.format(device_name))"
      ]
    },
    {
      "cell_type": "code",
      "execution_count": null,
      "metadata": {
        "colab": {
          "base_uri": "https://localhost:8080/"
        },
        "id": "GcgHainaexAf",
        "outputId": "60e67998-04d2-43d7-ee36-c4df3605b44a"
      },
      "outputs": [
        {
          "output_type": "execute_result",
          "data": {
            "text/plain": [
              "[name: \"/device:CPU:0\"\n",
              " device_type: \"CPU\"\n",
              " memory_limit: 268435456\n",
              " locality {\n",
              " }\n",
              " incarnation: 14069686614523338131\n",
              " xla_global_id: -1, name: \"/device:GPU:0\"\n",
              " device_type: \"GPU\"\n",
              " memory_limit: 14417788928\n",
              " locality {\n",
              "   bus_id: 1\n",
              "   links {\n",
              "   }\n",
              " }\n",
              " incarnation: 17656004079117520723\n",
              " physical_device_desc: \"device: 0, name: Tesla T4, pci bus id: 0000:00:04.0, compute capability: 7.5\"\n",
              " xla_global_id: 416903419]"
            ]
          },
          "metadata": {},
          "execution_count": 4
        }
      ],
      "source": [
        "from tensorflow.python.client import device_lib\n",
        "device_lib.list_local_devices()"
      ]
    },
    {
      "cell_type": "code",
      "execution_count": null,
      "metadata": {
        "id": "wXNT7HPDVvnG"
      },
      "outputs": [],
      "source": [
        "#### physical_device_desc: \"device: 0, name: Tesla T4, pci bus id: 0000:00:04.0, compute capability: 7.5\"]"
      ]
    },
    {
      "cell_type": "code",
      "execution_count": null,
      "metadata": {
        "id": "VtduHlsdzllv"
      },
      "outputs": [],
      "source": [
        "import pandas as pd\n",
        "import numpy as np\n",
        "import matplotlib.pyplot as plt\n",
        "from sklearn.model_selection import train_test_split\n",
        "from sklearn.preprocessing import MinMaxScaler, StandardScaler\n",
        "from sklearn.utils import class_weight"
      ]
    },
    {
      "cell_type": "code",
      "execution_count": null,
      "metadata": {
        "id": "wmDBFUYG5UTm"
      },
      "outputs": [],
      "source": [
        "\n",
        "from keras.layers import Conv1D, Dense, Dropout, GlobalMaxPool1D, MaxPool1D\n",
        "from keras.layers import TimeDistributed, LSTM, Bidirectional, Input, concatenate,RepeatVector\n",
        "from keras import regularizers\n",
        "# from keras.layers.normalization import BatchNormalization\n",
        "from keras.models import Sequential, load_model, Model\n",
        "from keras.callbacks import ModelCheckpoint, Callback, EarlyStopping\n",
        "from tensorflow.keras.utils import plot_model, to_categorical\n",
        "from keras.losses import binary_crossentropy\n",
        "from keras.optimizers import Adam\n",
        "from sklearn.metrics import recall_score, precision_score, f1_score, accuracy_score\n",
        "from sklearn.metrics import confusion_matrix\n",
        "from keras.regularizers import l1,l2\n"
      ]
    },
    {
      "cell_type": "code",
      "execution_count": null,
      "metadata": {
        "id": "knBwY4MXdknx"
      },
      "outputs": [],
      "source": [
        "data_path = '/content/drive/MyDrive/CAV/data/Instant attack/25/'"
      ]
    },
    {
      "cell_type": "code",
      "execution_count": null,
      "metadata": {
        "colab": {
          "base_uri": "https://localhost:8080/",
          "height": 206
        },
        "id": "uPy3-An4ynUz",
        "outputId": "058aeba6-a4c4-4263-9318-a1100aa1acf4"
      },
      "outputs": [
        {
          "output_type": "execute_result",
          "data": {
            "text/plain": [
              "   InVehicle_Longitudinal_Speed  GPS_Speed  InVehicle_Longitudinal_Accel\n",
              "0                     11.375000  11.307097                     -0.103000\n",
              "1                     11.366708  11.255964                     -0.353946\n",
              "2                     11.362331  11.249115                     -0.090962\n",
              "3                     11.358665  11.263280                     -0.043470\n",
              "4                     11.356745  11.270361                     -0.037579"
            ],
            "text/html": [
              "\n",
              "  <div id=\"df-276f328b-9bf6-4a16-b886-a4011a8572e1\">\n",
              "    <div class=\"colab-df-container\">\n",
              "      <div>\n",
              "<style scoped>\n",
              "    .dataframe tbody tr th:only-of-type {\n",
              "        vertical-align: middle;\n",
              "    }\n",
              "\n",
              "    .dataframe tbody tr th {\n",
              "        vertical-align: top;\n",
              "    }\n",
              "\n",
              "    .dataframe thead th {\n",
              "        text-align: right;\n",
              "    }\n",
              "</style>\n",
              "<table border=\"1\" class=\"dataframe\">\n",
              "  <thead>\n",
              "    <tr style=\"text-align: right;\">\n",
              "      <th></th>\n",
              "      <th>InVehicle_Longitudinal_Speed</th>\n",
              "      <th>GPS_Speed</th>\n",
              "      <th>InVehicle_Longitudinal_Accel</th>\n",
              "    </tr>\n",
              "  </thead>\n",
              "  <tbody>\n",
              "    <tr>\n",
              "      <th>0</th>\n",
              "      <td>11.375000</td>\n",
              "      <td>11.307097</td>\n",
              "      <td>-0.103000</td>\n",
              "    </tr>\n",
              "    <tr>\n",
              "      <th>1</th>\n",
              "      <td>11.366708</td>\n",
              "      <td>11.255964</td>\n",
              "      <td>-0.353946</td>\n",
              "    </tr>\n",
              "    <tr>\n",
              "      <th>2</th>\n",
              "      <td>11.362331</td>\n",
              "      <td>11.249115</td>\n",
              "      <td>-0.090962</td>\n",
              "    </tr>\n",
              "    <tr>\n",
              "      <th>3</th>\n",
              "      <td>11.358665</td>\n",
              "      <td>11.263280</td>\n",
              "      <td>-0.043470</td>\n",
              "    </tr>\n",
              "    <tr>\n",
              "      <th>4</th>\n",
              "      <td>11.356745</td>\n",
              "      <td>11.270361</td>\n",
              "      <td>-0.037579</td>\n",
              "    </tr>\n",
              "  </tbody>\n",
              "</table>\n",
              "</div>\n",
              "      <button class=\"colab-df-convert\" onclick=\"convertToInteractive('df-276f328b-9bf6-4a16-b886-a4011a8572e1')\"\n",
              "              title=\"Convert this dataframe to an interactive table.\"\n",
              "              style=\"display:none;\">\n",
              "        \n",
              "  <svg xmlns=\"http://www.w3.org/2000/svg\" height=\"24px\"viewBox=\"0 0 24 24\"\n",
              "       width=\"24px\">\n",
              "    <path d=\"M0 0h24v24H0V0z\" fill=\"none\"/>\n",
              "    <path d=\"M18.56 5.44l.94 2.06.94-2.06 2.06-.94-2.06-.94-.94-2.06-.94 2.06-2.06.94zm-11 1L8.5 8.5l.94-2.06 2.06-.94-2.06-.94L8.5 2.5l-.94 2.06-2.06.94zm10 10l.94 2.06.94-2.06 2.06-.94-2.06-.94-.94-2.06-.94 2.06-2.06.94z\"/><path d=\"M17.41 7.96l-1.37-1.37c-.4-.4-.92-.59-1.43-.59-.52 0-1.04.2-1.43.59L10.3 9.45l-7.72 7.72c-.78.78-.78 2.05 0 2.83L4 21.41c.39.39.9.59 1.41.59.51 0 1.02-.2 1.41-.59l7.78-7.78 2.81-2.81c.8-.78.8-2.07 0-2.86zM5.41 20L4 18.59l7.72-7.72 1.47 1.35L5.41 20z\"/>\n",
              "  </svg>\n",
              "      </button>\n",
              "      \n",
              "  <style>\n",
              "    .colab-df-container {\n",
              "      display:flex;\n",
              "      flex-wrap:wrap;\n",
              "      gap: 12px;\n",
              "    }\n",
              "\n",
              "    .colab-df-convert {\n",
              "      background-color: #E8F0FE;\n",
              "      border: none;\n",
              "      border-radius: 50%;\n",
              "      cursor: pointer;\n",
              "      display: none;\n",
              "      fill: #1967D2;\n",
              "      height: 32px;\n",
              "      padding: 0 0 0 0;\n",
              "      width: 32px;\n",
              "    }\n",
              "\n",
              "    .colab-df-convert:hover {\n",
              "      background-color: #E2EBFA;\n",
              "      box-shadow: 0px 1px 2px rgba(60, 64, 67, 0.3), 0px 1px 3px 1px rgba(60, 64, 67, 0.15);\n",
              "      fill: #174EA6;\n",
              "    }\n",
              "\n",
              "    [theme=dark] .colab-df-convert {\n",
              "      background-color: #3B4455;\n",
              "      fill: #D2E3FC;\n",
              "    }\n",
              "\n",
              "    [theme=dark] .colab-df-convert:hover {\n",
              "      background-color: #434B5C;\n",
              "      box-shadow: 0px 1px 3px 1px rgba(0, 0, 0, 0.15);\n",
              "      filter: drop-shadow(0px 1px 2px rgba(0, 0, 0, 0.3));\n",
              "      fill: #FFFFFF;\n",
              "    }\n",
              "  </style>\n",
              "\n",
              "      <script>\n",
              "        const buttonEl =\n",
              "          document.querySelector('#df-276f328b-9bf6-4a16-b886-a4011a8572e1 button.colab-df-convert');\n",
              "        buttonEl.style.display =\n",
              "          google.colab.kernel.accessAllowed ? 'block' : 'none';\n",
              "\n",
              "        async function convertToInteractive(key) {\n",
              "          const element = document.querySelector('#df-276f328b-9bf6-4a16-b886-a4011a8572e1');\n",
              "          const dataTable =\n",
              "            await google.colab.kernel.invokeFunction('convertToInteractive',\n",
              "                                                     [key], {});\n",
              "          if (!dataTable) return;\n",
              "\n",
              "          const docLinkHtml = 'Like what you see? Visit the ' +\n",
              "            '<a target=\"_blank\" href=https://colab.research.google.com/notebooks/data_table.ipynb>data table notebook</a>'\n",
              "            + ' to learn more about interactive tables.';\n",
              "          element.innerHTML = '';\n",
              "          dataTable['output_type'] = 'display_data';\n",
              "          await google.colab.output.renderOutput(dataTable, element);\n",
              "          const docLink = document.createElement('div');\n",
              "          docLink.innerHTML = docLinkHtml;\n",
              "          element.appendChild(docLink);\n",
              "        }\n",
              "      </script>\n",
              "    </div>\n",
              "  </div>\n",
              "  "
            ]
          },
          "metadata": {},
          "execution_count": 9
        }
      ],
      "source": [
        "sensor1_data = pd.read_csv(data_path + \"Sensor1_values_instant_25.csv\", index_col= 'Unnamed: 0')\n",
        "sensor1_data.head()"
      ]
    },
    {
      "cell_type": "code",
      "execution_count": null,
      "metadata": {
        "colab": {
          "base_uri": "https://localhost:8080/"
        },
        "id": "NkKyrb2sQCni",
        "outputId": "f7256b9a-8120-4bdf-9a71-710b66b56999"
      },
      "outputs": [
        {
          "output_type": "execute_result",
          "data": {
            "text/plain": [
              "29800"
            ]
          },
          "metadata": {},
          "execution_count": 10
        }
      ],
      "source": [
        "len(sensor1_data)"
      ]
    },
    {
      "cell_type": "code",
      "execution_count": null,
      "metadata": {
        "colab": {
          "base_uri": "https://localhost:8080/",
          "height": 206
        },
        "id": "OYhwlWY8z4N6",
        "outputId": "6517c7ce-14e1-4164-b1c5-ace686881763"
      },
      "outputs": [
        {
          "output_type": "execute_result",
          "data": {
            "text/plain": [
              "   Class\n",
              "0    0.0\n",
              "1    0.0\n",
              "2    0.0\n",
              "3    0.0\n",
              "4    0.0"
            ],
            "text/html": [
              "\n",
              "  <div id=\"df-d45731ce-eb7c-4dcf-9003-980bb2b73176\">\n",
              "    <div class=\"colab-df-container\">\n",
              "      <div>\n",
              "<style scoped>\n",
              "    .dataframe tbody tr th:only-of-type {\n",
              "        vertical-align: middle;\n",
              "    }\n",
              "\n",
              "    .dataframe tbody tr th {\n",
              "        vertical-align: top;\n",
              "    }\n",
              "\n",
              "    .dataframe thead th {\n",
              "        text-align: right;\n",
              "    }\n",
              "</style>\n",
              "<table border=\"1\" class=\"dataframe\">\n",
              "  <thead>\n",
              "    <tr style=\"text-align: right;\">\n",
              "      <th></th>\n",
              "      <th>Class</th>\n",
              "    </tr>\n",
              "  </thead>\n",
              "  <tbody>\n",
              "    <tr>\n",
              "      <th>0</th>\n",
              "      <td>0.0</td>\n",
              "    </tr>\n",
              "    <tr>\n",
              "      <th>1</th>\n",
              "      <td>0.0</td>\n",
              "    </tr>\n",
              "    <tr>\n",
              "      <th>2</th>\n",
              "      <td>0.0</td>\n",
              "    </tr>\n",
              "    <tr>\n",
              "      <th>3</th>\n",
              "      <td>0.0</td>\n",
              "    </tr>\n",
              "    <tr>\n",
              "      <th>4</th>\n",
              "      <td>0.0</td>\n",
              "    </tr>\n",
              "  </tbody>\n",
              "</table>\n",
              "</div>\n",
              "      <button class=\"colab-df-convert\" onclick=\"convertToInteractive('df-d45731ce-eb7c-4dcf-9003-980bb2b73176')\"\n",
              "              title=\"Convert this dataframe to an interactive table.\"\n",
              "              style=\"display:none;\">\n",
              "        \n",
              "  <svg xmlns=\"http://www.w3.org/2000/svg\" height=\"24px\"viewBox=\"0 0 24 24\"\n",
              "       width=\"24px\">\n",
              "    <path d=\"M0 0h24v24H0V0z\" fill=\"none\"/>\n",
              "    <path d=\"M18.56 5.44l.94 2.06.94-2.06 2.06-.94-2.06-.94-.94-2.06-.94 2.06-2.06.94zm-11 1L8.5 8.5l.94-2.06 2.06-.94-2.06-.94L8.5 2.5l-.94 2.06-2.06.94zm10 10l.94 2.06.94-2.06 2.06-.94-2.06-.94-.94-2.06-.94 2.06-2.06.94z\"/><path d=\"M17.41 7.96l-1.37-1.37c-.4-.4-.92-.59-1.43-.59-.52 0-1.04.2-1.43.59L10.3 9.45l-7.72 7.72c-.78.78-.78 2.05 0 2.83L4 21.41c.39.39.9.59 1.41.59.51 0 1.02-.2 1.41-.59l7.78-7.78 2.81-2.81c.8-.78.8-2.07 0-2.86zM5.41 20L4 18.59l7.72-7.72 1.47 1.35L5.41 20z\"/>\n",
              "  </svg>\n",
              "      </button>\n",
              "      \n",
              "  <style>\n",
              "    .colab-df-container {\n",
              "      display:flex;\n",
              "      flex-wrap:wrap;\n",
              "      gap: 12px;\n",
              "    }\n",
              "\n",
              "    .colab-df-convert {\n",
              "      background-color: #E8F0FE;\n",
              "      border: none;\n",
              "      border-radius: 50%;\n",
              "      cursor: pointer;\n",
              "      display: none;\n",
              "      fill: #1967D2;\n",
              "      height: 32px;\n",
              "      padding: 0 0 0 0;\n",
              "      width: 32px;\n",
              "    }\n",
              "\n",
              "    .colab-df-convert:hover {\n",
              "      background-color: #E2EBFA;\n",
              "      box-shadow: 0px 1px 2px rgba(60, 64, 67, 0.3), 0px 1px 3px 1px rgba(60, 64, 67, 0.15);\n",
              "      fill: #174EA6;\n",
              "    }\n",
              "\n",
              "    [theme=dark] .colab-df-convert {\n",
              "      background-color: #3B4455;\n",
              "      fill: #D2E3FC;\n",
              "    }\n",
              "\n",
              "    [theme=dark] .colab-df-convert:hover {\n",
              "      background-color: #434B5C;\n",
              "      box-shadow: 0px 1px 3px 1px rgba(0, 0, 0, 0.15);\n",
              "      filter: drop-shadow(0px 1px 2px rgba(0, 0, 0, 0.3));\n",
              "      fill: #FFFFFF;\n",
              "    }\n",
              "  </style>\n",
              "\n",
              "      <script>\n",
              "        const buttonEl =\n",
              "          document.querySelector('#df-d45731ce-eb7c-4dcf-9003-980bb2b73176 button.colab-df-convert');\n",
              "        buttonEl.style.display =\n",
              "          google.colab.kernel.accessAllowed ? 'block' : 'none';\n",
              "\n",
              "        async function convertToInteractive(key) {\n",
              "          const element = document.querySelector('#df-d45731ce-eb7c-4dcf-9003-980bb2b73176');\n",
              "          const dataTable =\n",
              "            await google.colab.kernel.invokeFunction('convertToInteractive',\n",
              "                                                     [key], {});\n",
              "          if (!dataTable) return;\n",
              "\n",
              "          const docLinkHtml = 'Like what you see? Visit the ' +\n",
              "            '<a target=\"_blank\" href=https://colab.research.google.com/notebooks/data_table.ipynb>data table notebook</a>'\n",
              "            + ' to learn more about interactive tables.';\n",
              "          element.innerHTML = '';\n",
              "          dataTable['output_type'] = 'display_data';\n",
              "          await google.colab.output.renderOutput(dataTable, element);\n",
              "          const docLink = document.createElement('div');\n",
              "          docLink.innerHTML = docLinkHtml;\n",
              "          element.appendChild(docLink);\n",
              "        }\n",
              "      </script>\n",
              "    </div>\n",
              "  </div>\n",
              "  "
            ]
          },
          "metadata": {},
          "execution_count": 11
        }
      ],
      "source": [
        "sensor1_label = pd.read_csv(data_path+\"Ground_truth_instant_25_sensor1.csv\", names=['Class'])\n",
        "sensor1_label.head()"
      ]
    },
    {
      "cell_type": "code",
      "execution_count": null,
      "metadata": {
        "colab": {
          "base_uri": "https://localhost:8080/"
        },
        "id": "2mxdhpBpQMjZ",
        "outputId": "bbf8a1aa-81e5-4391-fed7-01ed0b1135f9"
      },
      "outputs": [
        {
          "output_type": "execute_result",
          "data": {
            "text/plain": [
              "29800"
            ]
          },
          "metadata": {},
          "execution_count": 12
        }
      ],
      "source": [
        "len(sensor1_label)"
      ]
    },
    {
      "cell_type": "code",
      "execution_count": null,
      "metadata": {
        "colab": {
          "base_uri": "https://localhost:8080/",
          "height": 206
        },
        "id": "hV_gOXr70BKL",
        "outputId": "30d84406-88e6-478c-c83a-0aa6336866fb"
      },
      "outputs": [
        {
          "output_type": "execute_result",
          "data": {
            "text/plain": [
              "   InVehicle_Longitudinal_Speed  GPS_Speed  InVehicle_Longitudinal_Accel\n",
              "0                     11.375000  11.307097                     -0.103000\n",
              "1                     11.366708  11.255964                     -0.353946\n",
              "2                     11.362331  11.249115                     -0.090962\n",
              "3                     11.358665  11.263280                     -0.043470\n",
              "4                     11.356745  11.270361                     -0.037579"
            ],
            "text/html": [
              "\n",
              "  <div id=\"df-17224ef3-ca23-4e12-a56b-14096b35f556\">\n",
              "    <div class=\"colab-df-container\">\n",
              "      <div>\n",
              "<style scoped>\n",
              "    .dataframe tbody tr th:only-of-type {\n",
              "        vertical-align: middle;\n",
              "    }\n",
              "\n",
              "    .dataframe tbody tr th {\n",
              "        vertical-align: top;\n",
              "    }\n",
              "\n",
              "    .dataframe thead th {\n",
              "        text-align: right;\n",
              "    }\n",
              "</style>\n",
              "<table border=\"1\" class=\"dataframe\">\n",
              "  <thead>\n",
              "    <tr style=\"text-align: right;\">\n",
              "      <th></th>\n",
              "      <th>InVehicle_Longitudinal_Speed</th>\n",
              "      <th>GPS_Speed</th>\n",
              "      <th>InVehicle_Longitudinal_Accel</th>\n",
              "    </tr>\n",
              "  </thead>\n",
              "  <tbody>\n",
              "    <tr>\n",
              "      <th>0</th>\n",
              "      <td>11.375000</td>\n",
              "      <td>11.307097</td>\n",
              "      <td>-0.103000</td>\n",
              "    </tr>\n",
              "    <tr>\n",
              "      <th>1</th>\n",
              "      <td>11.366708</td>\n",
              "      <td>11.255964</td>\n",
              "      <td>-0.353946</td>\n",
              "    </tr>\n",
              "    <tr>\n",
              "      <th>2</th>\n",
              "      <td>11.362331</td>\n",
              "      <td>11.249115</td>\n",
              "      <td>-0.090962</td>\n",
              "    </tr>\n",
              "    <tr>\n",
              "      <th>3</th>\n",
              "      <td>11.358665</td>\n",
              "      <td>11.263280</td>\n",
              "      <td>-0.043470</td>\n",
              "    </tr>\n",
              "    <tr>\n",
              "      <th>4</th>\n",
              "      <td>11.356745</td>\n",
              "      <td>11.270361</td>\n",
              "      <td>-0.037579</td>\n",
              "    </tr>\n",
              "  </tbody>\n",
              "</table>\n",
              "</div>\n",
              "      <button class=\"colab-df-convert\" onclick=\"convertToInteractive('df-17224ef3-ca23-4e12-a56b-14096b35f556')\"\n",
              "              title=\"Convert this dataframe to an interactive table.\"\n",
              "              style=\"display:none;\">\n",
              "        \n",
              "  <svg xmlns=\"http://www.w3.org/2000/svg\" height=\"24px\"viewBox=\"0 0 24 24\"\n",
              "       width=\"24px\">\n",
              "    <path d=\"M0 0h24v24H0V0z\" fill=\"none\"/>\n",
              "    <path d=\"M18.56 5.44l.94 2.06.94-2.06 2.06-.94-2.06-.94-.94-2.06-.94 2.06-2.06.94zm-11 1L8.5 8.5l.94-2.06 2.06-.94-2.06-.94L8.5 2.5l-.94 2.06-2.06.94zm10 10l.94 2.06.94-2.06 2.06-.94-2.06-.94-.94-2.06-.94 2.06-2.06.94z\"/><path d=\"M17.41 7.96l-1.37-1.37c-.4-.4-.92-.59-1.43-.59-.52 0-1.04.2-1.43.59L10.3 9.45l-7.72 7.72c-.78.78-.78 2.05 0 2.83L4 21.41c.39.39.9.59 1.41.59.51 0 1.02-.2 1.41-.59l7.78-7.78 2.81-2.81c.8-.78.8-2.07 0-2.86zM5.41 20L4 18.59l7.72-7.72 1.47 1.35L5.41 20z\"/>\n",
              "  </svg>\n",
              "      </button>\n",
              "      \n",
              "  <style>\n",
              "    .colab-df-container {\n",
              "      display:flex;\n",
              "      flex-wrap:wrap;\n",
              "      gap: 12px;\n",
              "    }\n",
              "\n",
              "    .colab-df-convert {\n",
              "      background-color: #E8F0FE;\n",
              "      border: none;\n",
              "      border-radius: 50%;\n",
              "      cursor: pointer;\n",
              "      display: none;\n",
              "      fill: #1967D2;\n",
              "      height: 32px;\n",
              "      padding: 0 0 0 0;\n",
              "      width: 32px;\n",
              "    }\n",
              "\n",
              "    .colab-df-convert:hover {\n",
              "      background-color: #E2EBFA;\n",
              "      box-shadow: 0px 1px 2px rgba(60, 64, 67, 0.3), 0px 1px 3px 1px rgba(60, 64, 67, 0.15);\n",
              "      fill: #174EA6;\n",
              "    }\n",
              "\n",
              "    [theme=dark] .colab-df-convert {\n",
              "      background-color: #3B4455;\n",
              "      fill: #D2E3FC;\n",
              "    }\n",
              "\n",
              "    [theme=dark] .colab-df-convert:hover {\n",
              "      background-color: #434B5C;\n",
              "      box-shadow: 0px 1px 3px 1px rgba(0, 0, 0, 0.15);\n",
              "      filter: drop-shadow(0px 1px 2px rgba(0, 0, 0, 0.3));\n",
              "      fill: #FFFFFF;\n",
              "    }\n",
              "  </style>\n",
              "\n",
              "      <script>\n",
              "        const buttonEl =\n",
              "          document.querySelector('#df-17224ef3-ca23-4e12-a56b-14096b35f556 button.colab-df-convert');\n",
              "        buttonEl.style.display =\n",
              "          google.colab.kernel.accessAllowed ? 'block' : 'none';\n",
              "\n",
              "        async function convertToInteractive(key) {\n",
              "          const element = document.querySelector('#df-17224ef3-ca23-4e12-a56b-14096b35f556');\n",
              "          const dataTable =\n",
              "            await google.colab.kernel.invokeFunction('convertToInteractive',\n",
              "                                                     [key], {});\n",
              "          if (!dataTable) return;\n",
              "\n",
              "          const docLinkHtml = 'Like what you see? Visit the ' +\n",
              "            '<a target=\"_blank\" href=https://colab.research.google.com/notebooks/data_table.ipynb>data table notebook</a>'\n",
              "            + ' to learn more about interactive tables.';\n",
              "          element.innerHTML = '';\n",
              "          dataTable['output_type'] = 'display_data';\n",
              "          await google.colab.output.renderOutput(dataTable, element);\n",
              "          const docLink = document.createElement('div');\n",
              "          docLink.innerHTML = docLinkHtml;\n",
              "          element.appendChild(docLink);\n",
              "        }\n",
              "      </script>\n",
              "    </div>\n",
              "  </div>\n",
              "  "
            ]
          },
          "metadata": {},
          "execution_count": 13
        }
      ],
      "source": [
        "sensor2_data = pd.read_csv(data_path + \"Sensor2_values_instant_25.csv\", index_col = \"Unnamed: 0\")\n",
        "sensor2_data.head()"
      ]
    },
    {
      "cell_type": "code",
      "execution_count": null,
      "metadata": {
        "colab": {
          "base_uri": "https://localhost:8080/",
          "height": 206
        },
        "id": "8PtBb1m00oRX",
        "outputId": "b6921f42-0e80-4aff-a2b1-ba7267d2afbb"
      },
      "outputs": [
        {
          "output_type": "execute_result",
          "data": {
            "text/plain": [
              "   Class\n",
              "0    0.0\n",
              "1    0.0\n",
              "2    0.0\n",
              "3    0.0\n",
              "4    0.0"
            ],
            "text/html": [
              "\n",
              "  <div id=\"df-f02694f8-77c1-449a-a784-f5a972c749e6\">\n",
              "    <div class=\"colab-df-container\">\n",
              "      <div>\n",
              "<style scoped>\n",
              "    .dataframe tbody tr th:only-of-type {\n",
              "        vertical-align: middle;\n",
              "    }\n",
              "\n",
              "    .dataframe tbody tr th {\n",
              "        vertical-align: top;\n",
              "    }\n",
              "\n",
              "    .dataframe thead th {\n",
              "        text-align: right;\n",
              "    }\n",
              "</style>\n",
              "<table border=\"1\" class=\"dataframe\">\n",
              "  <thead>\n",
              "    <tr style=\"text-align: right;\">\n",
              "      <th></th>\n",
              "      <th>Class</th>\n",
              "    </tr>\n",
              "  </thead>\n",
              "  <tbody>\n",
              "    <tr>\n",
              "      <th>0</th>\n",
              "      <td>0.0</td>\n",
              "    </tr>\n",
              "    <tr>\n",
              "      <th>1</th>\n",
              "      <td>0.0</td>\n",
              "    </tr>\n",
              "    <tr>\n",
              "      <th>2</th>\n",
              "      <td>0.0</td>\n",
              "    </tr>\n",
              "    <tr>\n",
              "      <th>3</th>\n",
              "      <td>0.0</td>\n",
              "    </tr>\n",
              "    <tr>\n",
              "      <th>4</th>\n",
              "      <td>0.0</td>\n",
              "    </tr>\n",
              "  </tbody>\n",
              "</table>\n",
              "</div>\n",
              "      <button class=\"colab-df-convert\" onclick=\"convertToInteractive('df-f02694f8-77c1-449a-a784-f5a972c749e6')\"\n",
              "              title=\"Convert this dataframe to an interactive table.\"\n",
              "              style=\"display:none;\">\n",
              "        \n",
              "  <svg xmlns=\"http://www.w3.org/2000/svg\" height=\"24px\"viewBox=\"0 0 24 24\"\n",
              "       width=\"24px\">\n",
              "    <path d=\"M0 0h24v24H0V0z\" fill=\"none\"/>\n",
              "    <path d=\"M18.56 5.44l.94 2.06.94-2.06 2.06-.94-2.06-.94-.94-2.06-.94 2.06-2.06.94zm-11 1L8.5 8.5l.94-2.06 2.06-.94-2.06-.94L8.5 2.5l-.94 2.06-2.06.94zm10 10l.94 2.06.94-2.06 2.06-.94-2.06-.94-.94-2.06-.94 2.06-2.06.94z\"/><path d=\"M17.41 7.96l-1.37-1.37c-.4-.4-.92-.59-1.43-.59-.52 0-1.04.2-1.43.59L10.3 9.45l-7.72 7.72c-.78.78-.78 2.05 0 2.83L4 21.41c.39.39.9.59 1.41.59.51 0 1.02-.2 1.41-.59l7.78-7.78 2.81-2.81c.8-.78.8-2.07 0-2.86zM5.41 20L4 18.59l7.72-7.72 1.47 1.35L5.41 20z\"/>\n",
              "  </svg>\n",
              "      </button>\n",
              "      \n",
              "  <style>\n",
              "    .colab-df-container {\n",
              "      display:flex;\n",
              "      flex-wrap:wrap;\n",
              "      gap: 12px;\n",
              "    }\n",
              "\n",
              "    .colab-df-convert {\n",
              "      background-color: #E8F0FE;\n",
              "      border: none;\n",
              "      border-radius: 50%;\n",
              "      cursor: pointer;\n",
              "      display: none;\n",
              "      fill: #1967D2;\n",
              "      height: 32px;\n",
              "      padding: 0 0 0 0;\n",
              "      width: 32px;\n",
              "    }\n",
              "\n",
              "    .colab-df-convert:hover {\n",
              "      background-color: #E2EBFA;\n",
              "      box-shadow: 0px 1px 2px rgba(60, 64, 67, 0.3), 0px 1px 3px 1px rgba(60, 64, 67, 0.15);\n",
              "      fill: #174EA6;\n",
              "    }\n",
              "\n",
              "    [theme=dark] .colab-df-convert {\n",
              "      background-color: #3B4455;\n",
              "      fill: #D2E3FC;\n",
              "    }\n",
              "\n",
              "    [theme=dark] .colab-df-convert:hover {\n",
              "      background-color: #434B5C;\n",
              "      box-shadow: 0px 1px 3px 1px rgba(0, 0, 0, 0.15);\n",
              "      filter: drop-shadow(0px 1px 2px rgba(0, 0, 0, 0.3));\n",
              "      fill: #FFFFFF;\n",
              "    }\n",
              "  </style>\n",
              "\n",
              "      <script>\n",
              "        const buttonEl =\n",
              "          document.querySelector('#df-f02694f8-77c1-449a-a784-f5a972c749e6 button.colab-df-convert');\n",
              "        buttonEl.style.display =\n",
              "          google.colab.kernel.accessAllowed ? 'block' : 'none';\n",
              "\n",
              "        async function convertToInteractive(key) {\n",
              "          const element = document.querySelector('#df-f02694f8-77c1-449a-a784-f5a972c749e6');\n",
              "          const dataTable =\n",
              "            await google.colab.kernel.invokeFunction('convertToInteractive',\n",
              "                                                     [key], {});\n",
              "          if (!dataTable) return;\n",
              "\n",
              "          const docLinkHtml = 'Like what you see? Visit the ' +\n",
              "            '<a target=\"_blank\" href=https://colab.research.google.com/notebooks/data_table.ipynb>data table notebook</a>'\n",
              "            + ' to learn more about interactive tables.';\n",
              "          element.innerHTML = '';\n",
              "          dataTable['output_type'] = 'display_data';\n",
              "          await google.colab.output.renderOutput(dataTable, element);\n",
              "          const docLink = document.createElement('div');\n",
              "          docLink.innerHTML = docLinkHtml;\n",
              "          element.appendChild(docLink);\n",
              "        }\n",
              "      </script>\n",
              "    </div>\n",
              "  </div>\n",
              "  "
            ]
          },
          "metadata": {},
          "execution_count": 14
        }
      ],
      "source": [
        "sensor2_label = pd.read_csv(data_path + \"Ground_truth_instant_25_sensor2.csv\",names=['Class'])\n",
        "sensor2_label.head()"
      ]
    },
    {
      "cell_type": "code",
      "execution_count": null,
      "metadata": {
        "colab": {
          "base_uri": "https://localhost:8080/",
          "height": 206
        },
        "id": "mCLgKYTJ0f7t",
        "outputId": "71c67047-dd88-48ec-8bf3-8c6ffc90c1f0"
      },
      "outputs": [
        {
          "output_type": "execute_result",
          "data": {
            "text/plain": [
              "   InVehicle_Longitudinal_Speed  GPS_Speed  InVehicle_Longitudinal_Accel\n",
              "0                     11.375000  11.307097                     -0.103000\n",
              "1                     11.366708  11.255964                     -0.353946\n",
              "2                     11.362331  11.249115                     -0.090962\n",
              "3                     11.358665  11.263280                     -0.043470\n",
              "4                     11.356745  11.270361                     -0.037579"
            ],
            "text/html": [
              "\n",
              "  <div id=\"df-b0148030-8074-411d-a9d1-362054ccf4c1\">\n",
              "    <div class=\"colab-df-container\">\n",
              "      <div>\n",
              "<style scoped>\n",
              "    .dataframe tbody tr th:only-of-type {\n",
              "        vertical-align: middle;\n",
              "    }\n",
              "\n",
              "    .dataframe tbody tr th {\n",
              "        vertical-align: top;\n",
              "    }\n",
              "\n",
              "    .dataframe thead th {\n",
              "        text-align: right;\n",
              "    }\n",
              "</style>\n",
              "<table border=\"1\" class=\"dataframe\">\n",
              "  <thead>\n",
              "    <tr style=\"text-align: right;\">\n",
              "      <th></th>\n",
              "      <th>InVehicle_Longitudinal_Speed</th>\n",
              "      <th>GPS_Speed</th>\n",
              "      <th>InVehicle_Longitudinal_Accel</th>\n",
              "    </tr>\n",
              "  </thead>\n",
              "  <tbody>\n",
              "    <tr>\n",
              "      <th>0</th>\n",
              "      <td>11.375000</td>\n",
              "      <td>11.307097</td>\n",
              "      <td>-0.103000</td>\n",
              "    </tr>\n",
              "    <tr>\n",
              "      <th>1</th>\n",
              "      <td>11.366708</td>\n",
              "      <td>11.255964</td>\n",
              "      <td>-0.353946</td>\n",
              "    </tr>\n",
              "    <tr>\n",
              "      <th>2</th>\n",
              "      <td>11.362331</td>\n",
              "      <td>11.249115</td>\n",
              "      <td>-0.090962</td>\n",
              "    </tr>\n",
              "    <tr>\n",
              "      <th>3</th>\n",
              "      <td>11.358665</td>\n",
              "      <td>11.263280</td>\n",
              "      <td>-0.043470</td>\n",
              "    </tr>\n",
              "    <tr>\n",
              "      <th>4</th>\n",
              "      <td>11.356745</td>\n",
              "      <td>11.270361</td>\n",
              "      <td>-0.037579</td>\n",
              "    </tr>\n",
              "  </tbody>\n",
              "</table>\n",
              "</div>\n",
              "      <button class=\"colab-df-convert\" onclick=\"convertToInteractive('df-b0148030-8074-411d-a9d1-362054ccf4c1')\"\n",
              "              title=\"Convert this dataframe to an interactive table.\"\n",
              "              style=\"display:none;\">\n",
              "        \n",
              "  <svg xmlns=\"http://www.w3.org/2000/svg\" height=\"24px\"viewBox=\"0 0 24 24\"\n",
              "       width=\"24px\">\n",
              "    <path d=\"M0 0h24v24H0V0z\" fill=\"none\"/>\n",
              "    <path d=\"M18.56 5.44l.94 2.06.94-2.06 2.06-.94-2.06-.94-.94-2.06-.94 2.06-2.06.94zm-11 1L8.5 8.5l.94-2.06 2.06-.94-2.06-.94L8.5 2.5l-.94 2.06-2.06.94zm10 10l.94 2.06.94-2.06 2.06-.94-2.06-.94-.94-2.06-.94 2.06-2.06.94z\"/><path d=\"M17.41 7.96l-1.37-1.37c-.4-.4-.92-.59-1.43-.59-.52 0-1.04.2-1.43.59L10.3 9.45l-7.72 7.72c-.78.78-.78 2.05 0 2.83L4 21.41c.39.39.9.59 1.41.59.51 0 1.02-.2 1.41-.59l7.78-7.78 2.81-2.81c.8-.78.8-2.07 0-2.86zM5.41 20L4 18.59l7.72-7.72 1.47 1.35L5.41 20z\"/>\n",
              "  </svg>\n",
              "      </button>\n",
              "      \n",
              "  <style>\n",
              "    .colab-df-container {\n",
              "      display:flex;\n",
              "      flex-wrap:wrap;\n",
              "      gap: 12px;\n",
              "    }\n",
              "\n",
              "    .colab-df-convert {\n",
              "      background-color: #E8F0FE;\n",
              "      border: none;\n",
              "      border-radius: 50%;\n",
              "      cursor: pointer;\n",
              "      display: none;\n",
              "      fill: #1967D2;\n",
              "      height: 32px;\n",
              "      padding: 0 0 0 0;\n",
              "      width: 32px;\n",
              "    }\n",
              "\n",
              "    .colab-df-convert:hover {\n",
              "      background-color: #E2EBFA;\n",
              "      box-shadow: 0px 1px 2px rgba(60, 64, 67, 0.3), 0px 1px 3px 1px rgba(60, 64, 67, 0.15);\n",
              "      fill: #174EA6;\n",
              "    }\n",
              "\n",
              "    [theme=dark] .colab-df-convert {\n",
              "      background-color: #3B4455;\n",
              "      fill: #D2E3FC;\n",
              "    }\n",
              "\n",
              "    [theme=dark] .colab-df-convert:hover {\n",
              "      background-color: #434B5C;\n",
              "      box-shadow: 0px 1px 3px 1px rgba(0, 0, 0, 0.15);\n",
              "      filter: drop-shadow(0px 1px 2px rgba(0, 0, 0, 0.3));\n",
              "      fill: #FFFFFF;\n",
              "    }\n",
              "  </style>\n",
              "\n",
              "      <script>\n",
              "        const buttonEl =\n",
              "          document.querySelector('#df-b0148030-8074-411d-a9d1-362054ccf4c1 button.colab-df-convert');\n",
              "        buttonEl.style.display =\n",
              "          google.colab.kernel.accessAllowed ? 'block' : 'none';\n",
              "\n",
              "        async function convertToInteractive(key) {\n",
              "          const element = document.querySelector('#df-b0148030-8074-411d-a9d1-362054ccf4c1');\n",
              "          const dataTable =\n",
              "            await google.colab.kernel.invokeFunction('convertToInteractive',\n",
              "                                                     [key], {});\n",
              "          if (!dataTable) return;\n",
              "\n",
              "          const docLinkHtml = 'Like what you see? Visit the ' +\n",
              "            '<a target=\"_blank\" href=https://colab.research.google.com/notebooks/data_table.ipynb>data table notebook</a>'\n",
              "            + ' to learn more about interactive tables.';\n",
              "          element.innerHTML = '';\n",
              "          dataTable['output_type'] = 'display_data';\n",
              "          await google.colab.output.renderOutput(dataTable, element);\n",
              "          const docLink = document.createElement('div');\n",
              "          docLink.innerHTML = docLinkHtml;\n",
              "          element.appendChild(docLink);\n",
              "        }\n",
              "      </script>\n",
              "    </div>\n",
              "  </div>\n",
              "  "
            ]
          },
          "metadata": {},
          "execution_count": 15
        }
      ],
      "source": [
        "sensor3_data = pd.read_csv(data_path + \"Sensor3_values_instant_25.csv\", index_col = \"Unnamed: 0\")\n",
        "sensor3_data.head()"
      ]
    },
    {
      "cell_type": "code",
      "execution_count": null,
      "metadata": {
        "colab": {
          "base_uri": "https://localhost:8080/",
          "height": 206
        },
        "id": "7bkpmS8x0lfa",
        "outputId": "283f5dcb-6030-4d9f-f65c-626d70bcb7da"
      },
      "outputs": [
        {
          "output_type": "execute_result",
          "data": {
            "text/plain": [
              "   Class\n",
              "0    0.0\n",
              "1    0.0\n",
              "2    0.0\n",
              "3    0.0\n",
              "4    0.0"
            ],
            "text/html": [
              "\n",
              "  <div id=\"df-efa49ef3-6359-4db7-9be7-4731613fc346\">\n",
              "    <div class=\"colab-df-container\">\n",
              "      <div>\n",
              "<style scoped>\n",
              "    .dataframe tbody tr th:only-of-type {\n",
              "        vertical-align: middle;\n",
              "    }\n",
              "\n",
              "    .dataframe tbody tr th {\n",
              "        vertical-align: top;\n",
              "    }\n",
              "\n",
              "    .dataframe thead th {\n",
              "        text-align: right;\n",
              "    }\n",
              "</style>\n",
              "<table border=\"1\" class=\"dataframe\">\n",
              "  <thead>\n",
              "    <tr style=\"text-align: right;\">\n",
              "      <th></th>\n",
              "      <th>Class</th>\n",
              "    </tr>\n",
              "  </thead>\n",
              "  <tbody>\n",
              "    <tr>\n",
              "      <th>0</th>\n",
              "      <td>0.0</td>\n",
              "    </tr>\n",
              "    <tr>\n",
              "      <th>1</th>\n",
              "      <td>0.0</td>\n",
              "    </tr>\n",
              "    <tr>\n",
              "      <th>2</th>\n",
              "      <td>0.0</td>\n",
              "    </tr>\n",
              "    <tr>\n",
              "      <th>3</th>\n",
              "      <td>0.0</td>\n",
              "    </tr>\n",
              "    <tr>\n",
              "      <th>4</th>\n",
              "      <td>0.0</td>\n",
              "    </tr>\n",
              "  </tbody>\n",
              "</table>\n",
              "</div>\n",
              "      <button class=\"colab-df-convert\" onclick=\"convertToInteractive('df-efa49ef3-6359-4db7-9be7-4731613fc346')\"\n",
              "              title=\"Convert this dataframe to an interactive table.\"\n",
              "              style=\"display:none;\">\n",
              "        \n",
              "  <svg xmlns=\"http://www.w3.org/2000/svg\" height=\"24px\"viewBox=\"0 0 24 24\"\n",
              "       width=\"24px\">\n",
              "    <path d=\"M0 0h24v24H0V0z\" fill=\"none\"/>\n",
              "    <path d=\"M18.56 5.44l.94 2.06.94-2.06 2.06-.94-2.06-.94-.94-2.06-.94 2.06-2.06.94zm-11 1L8.5 8.5l.94-2.06 2.06-.94-2.06-.94L8.5 2.5l-.94 2.06-2.06.94zm10 10l.94 2.06.94-2.06 2.06-.94-2.06-.94-.94-2.06-.94 2.06-2.06.94z\"/><path d=\"M17.41 7.96l-1.37-1.37c-.4-.4-.92-.59-1.43-.59-.52 0-1.04.2-1.43.59L10.3 9.45l-7.72 7.72c-.78.78-.78 2.05 0 2.83L4 21.41c.39.39.9.59 1.41.59.51 0 1.02-.2 1.41-.59l7.78-7.78 2.81-2.81c.8-.78.8-2.07 0-2.86zM5.41 20L4 18.59l7.72-7.72 1.47 1.35L5.41 20z\"/>\n",
              "  </svg>\n",
              "      </button>\n",
              "      \n",
              "  <style>\n",
              "    .colab-df-container {\n",
              "      display:flex;\n",
              "      flex-wrap:wrap;\n",
              "      gap: 12px;\n",
              "    }\n",
              "\n",
              "    .colab-df-convert {\n",
              "      background-color: #E8F0FE;\n",
              "      border: none;\n",
              "      border-radius: 50%;\n",
              "      cursor: pointer;\n",
              "      display: none;\n",
              "      fill: #1967D2;\n",
              "      height: 32px;\n",
              "      padding: 0 0 0 0;\n",
              "      width: 32px;\n",
              "    }\n",
              "\n",
              "    .colab-df-convert:hover {\n",
              "      background-color: #E2EBFA;\n",
              "      box-shadow: 0px 1px 2px rgba(60, 64, 67, 0.3), 0px 1px 3px 1px rgba(60, 64, 67, 0.15);\n",
              "      fill: #174EA6;\n",
              "    }\n",
              "\n",
              "    [theme=dark] .colab-df-convert {\n",
              "      background-color: #3B4455;\n",
              "      fill: #D2E3FC;\n",
              "    }\n",
              "\n",
              "    [theme=dark] .colab-df-convert:hover {\n",
              "      background-color: #434B5C;\n",
              "      box-shadow: 0px 1px 3px 1px rgba(0, 0, 0, 0.15);\n",
              "      filter: drop-shadow(0px 1px 2px rgba(0, 0, 0, 0.3));\n",
              "      fill: #FFFFFF;\n",
              "    }\n",
              "  </style>\n",
              "\n",
              "      <script>\n",
              "        const buttonEl =\n",
              "          document.querySelector('#df-efa49ef3-6359-4db7-9be7-4731613fc346 button.colab-df-convert');\n",
              "        buttonEl.style.display =\n",
              "          google.colab.kernel.accessAllowed ? 'block' : 'none';\n",
              "\n",
              "        async function convertToInteractive(key) {\n",
              "          const element = document.querySelector('#df-efa49ef3-6359-4db7-9be7-4731613fc346');\n",
              "          const dataTable =\n",
              "            await google.colab.kernel.invokeFunction('convertToInteractive',\n",
              "                                                     [key], {});\n",
              "          if (!dataTable) return;\n",
              "\n",
              "          const docLinkHtml = 'Like what you see? Visit the ' +\n",
              "            '<a target=\"_blank\" href=https://colab.research.google.com/notebooks/data_table.ipynb>data table notebook</a>'\n",
              "            + ' to learn more about interactive tables.';\n",
              "          element.innerHTML = '';\n",
              "          dataTable['output_type'] = 'display_data';\n",
              "          await google.colab.output.renderOutput(dataTable, element);\n",
              "          const docLink = document.createElement('div');\n",
              "          docLink.innerHTML = docLinkHtml;\n",
              "          element.appendChild(docLink);\n",
              "        }\n",
              "      </script>\n",
              "    </div>\n",
              "  </div>\n",
              "  "
            ]
          },
          "metadata": {},
          "execution_count": 16
        }
      ],
      "source": [
        "sensor3_label = pd.read_csv(data_path + \"Ground_truth_instant_25_sensor3.csv\", names=['Class'])\n",
        "sensor3_label.head()"
      ]
    },
    {
      "cell_type": "code",
      "execution_count": null,
      "metadata": {
        "id": "XGVASJUa_PUk"
      },
      "outputs": [],
      "source": [
        "sensor1_data['std_speed_5'] = sensor1_data['InVehicle_Longitudinal_Speed'].rolling(5, min_periods= 1, center= True).std()\n",
        "sensor1_data['std_acc_5'] = sensor1_data['InVehicle_Longitudinal_Accel'].rolling(5, min_periods= 1, center= True).std()\n",
        "sensor1_data['std_GPS_5'] = sensor1_data['GPS_Speed'].rolling(5, min_periods= 1, center= True).std()"
      ]
    },
    {
      "cell_type": "code",
      "execution_count": null,
      "metadata": {
        "colab": {
          "base_uri": "https://localhost:8080/"
        },
        "id": "auzfsS2q_PdV",
        "outputId": "45b55bc9-5703-4d8c-94de-d41b4265958b"
      },
      "outputs": [
        {
          "output_type": "execute_result",
          "data": {
            "text/plain": [
              "Index(['InVehicle_Longitudinal_Speed', 'GPS_Speed',\n",
              "       'InVehicle_Longitudinal_Accel', 'std_speed_5', 'std_acc_5',\n",
              "       'std_GPS_5'],\n",
              "      dtype='object')"
            ]
          },
          "metadata": {},
          "execution_count": 18
        }
      ],
      "source": [
        "sensor1_data.columns"
      ]
    },
    {
      "cell_type": "code",
      "execution_count": null,
      "metadata": {
        "colab": {
          "base_uri": "https://localhost:8080/",
          "height": 282
        },
        "id": "pDW_sQwS_Pes",
        "outputId": "8a22ca3b-5d5d-4db7-da1c-a4fff1a9a8e8"
      },
      "outputs": [
        {
          "output_type": "execute_result",
          "data": {
            "text/plain": [
              "<matplotlib.axes._subplots.AxesSubplot at 0x7f0bd18f76d0>"
            ]
          },
          "metadata": {},
          "execution_count": 19
        },
        {
          "output_type": "display_data",
          "data": {
            "text/plain": [
              "<Figure size 432x288 with 1 Axes>"
            ],
            "image/png": "[encoded data removed]"
          },
          "metadata": {
            "needs_background": "light"
          }
        }
      ],
      "source": [
        "sensor1_data[['InVehicle_Longitudinal_Speed','std_speed_5']].plot()"
      ]
    },
    {
      "cell_type": "code",
      "execution_count": null,
      "metadata": {
        "colab": {
          "base_uri": "https://localhost:8080/",
          "height": 282
        },
        "id": "DcmrN3TZ_PiS",
        "outputId": "3a0b8a52-48fc-4bd9-88f3-bf951bb0d424"
      },
      "outputs": [
        {
          "output_type": "execute_result",
          "data": {
            "text/plain": [
              "<matplotlib.axes._subplots.AxesSubplot at 0x7f0bd18247f0>"
            ]
          },
          "metadata": {},
          "execution_count": 20
        },
        {
          "output_type": "display_data",
          "data": {
            "text/plain": [
              "<Figure size 432x288 with 1 Axes>"
            ],
            "image/png": "[encoded data removed]"
          },
          "metadata": {
            "needs_background": "light"
          }
        }
      ],
      "source": [
        "sensor1_data[['InVehicle_Longitudinal_Accel','std_acc_5']].plot()"
      ]
    },
    {
      "cell_type": "code",
      "execution_count": null,
      "metadata": {
        "colab": {
          "base_uri": "https://localhost:8080/",
          "height": 282
        },
        "id": "4EydhRw1_f04",
        "outputId": "578720ad-31f0-4dc5-e7d3-f2a1e6d606f0"
      },
      "outputs": [
        {
          "output_type": "execute_result",
          "data": {
            "text/plain": [
              "<matplotlib.axes._subplots.AxesSubplot at 0x7f0bd1350a90>"
            ]
          },
          "metadata": {},
          "execution_count": 21
        },
        {
          "output_type": "display_data",
          "data": {
            "text/plain": [
              "<Figure size 432x288 with 1 Axes>"
            ],
            "image/png": "[encoded data removed]"
          },
          "metadata": {
            "needs_background": "light"
          }
        }
      ],
      "source": [
        "sensor1_data[['GPS_Speed','std_GPS_5']].plot()"
      ]
    },
    {
      "cell_type": "code",
      "execution_count": null,
      "metadata": {
        "id": "17RyXh0K_f6U"
      },
      "outputs": [],
      "source": [
        "sensor2_data['std_speed_5'] = sensor2_data['InVehicle_Longitudinal_Speed'].rolling(5, min_periods= 1, center= True).std()\n",
        "sensor2_data['std_acc_5'] = sensor2_data['InVehicle_Longitudinal_Accel'].rolling(5, min_periods= 1, center= True).std()\n",
        "sensor2_data['std_GPS_5'] = sensor2_data['GPS_Speed'].rolling(5, min_periods= 1, center= True).std()"
      ]
    },
    {
      "cell_type": "code",
      "execution_count": null,
      "metadata": {
        "colab": {
          "base_uri": "https://localhost:8080/"
        },
        "id": "6FnTFBPU_jyi",
        "outputId": "da066f39-945c-40f2-d2a1-8f3571552662"
      },
      "outputs": [
        {
          "output_type": "execute_result",
          "data": {
            "text/plain": [
              "Index(['InVehicle_Longitudinal_Speed', 'GPS_Speed',\n",
              "       'InVehicle_Longitudinal_Accel', 'std_speed_5', 'std_acc_5',\n",
              "       'std_GPS_5'],\n",
              "      dtype='object')"
            ]
          },
          "metadata": {},
          "execution_count": 23
        }
      ],
      "source": [
        "sensor2_data.columns"
      ]
    },
    {
      "cell_type": "code",
      "execution_count": null,
      "metadata": {
        "colab": {
          "base_uri": "https://localhost:8080/",
          "height": 282
        },
        "id": "XDU11z8y_j5r",
        "outputId": "23337e54-f3a5-4768-ebb4-fcbaf80b7073"
      },
      "outputs": [
        {
          "output_type": "execute_result",
          "data": {
            "text/plain": [
              "<matplotlib.axes._subplots.AxesSubplot at 0x7f0bd1356b50>"
            ]
          },
          "metadata": {},
          "execution_count": 24
        },
        {
          "output_type": "display_data",
          "data": {
            "text/plain": [
              "<Figure size 432x288 with 1 Axes>"
            ],
            "image/png": "[encoded data removed]"
          },
          "metadata": {
            "needs_background": "light"
          }
        }
      ],
      "source": [
        "sensor2_data[['InVehicle_Longitudinal_Speed','std_speed_5']].plot(color=['red', 'green'] )"
      ]
    },
    {
      "cell_type": "code",
      "execution_count": null,
      "metadata": {
        "colab": {
          "base_uri": "https://localhost:8080/",
          "height": 282
        },
        "id": "5var1lIv_j7B",
        "outputId": "6c728c1e-3aa7-4fb5-cd4d-3a08d4cb1b60"
      },
      "outputs": [
        {
          "output_type": "execute_result",
          "data": {
            "text/plain": [
              "<matplotlib.axes._subplots.AxesSubplot at 0x7f0bd128a970>"
            ]
          },
          "metadata": {},
          "execution_count": 25
        },
        {
          "output_type": "display_data",
          "data": {
            "text/plain": [
              "<Figure size 432x288 with 1 Axes>"
            ],
            "image/png": "[encoded data removed]"
          },
          "metadata": {
            "needs_background": "light"
          }
        }
      ],
      "source": [
        "sensor2_data[['InVehicle_Longitudinal_Accel','std_acc_5']].plot(color=['red', 'blue'] )"
      ]
    },
    {
      "cell_type": "code",
      "execution_count": null,
      "metadata": {
        "colab": {
          "base_uri": "https://localhost:8080/",
          "height": 282
        },
        "id": "AmFTMqxb_s6x",
        "outputId": "0ff56018-2cf5-45c5-9a1f-0542c5285fcb"
      },
      "outputs": [
        {
          "output_type": "execute_result",
          "data": {
            "text/plain": [
              "<matplotlib.axes._subplots.AxesSubplot at 0x7f0bd120dd30>"
            ]
          },
          "metadata": {},
          "execution_count": 26
        },
        {
          "output_type": "display_data",
          "data": {
            "text/plain": [
              "<Figure size 432x288 with 1 Axes>"
            ],
            "image/png": "[encoded data removed]"
          },
          "metadata": {
            "needs_background": "light"
          }
        }
      ],
      "source": [
        "sensor2_data[['GPS_Speed','std_GPS_5']].plot(color=['red', 'yellow'] )"
      ]
    },
    {
      "cell_type": "code",
      "execution_count": null,
      "metadata": {
        "id": "AZMgkXl1_wNG"
      },
      "outputs": [],
      "source": [
        "sensor3_data['std_speed_5'] = sensor3_data['InVehicle_Longitudinal_Speed'].rolling(5, min_periods= 1, center= True).std()\n",
        "sensor3_data['std_acc_5'] = sensor3_data['InVehicle_Longitudinal_Accel'].rolling(5, min_periods= 1, center= True).std()\n",
        "sensor3_data['std_GPS_5'] = sensor3_data['GPS_Speed'].rolling(5, min_periods= 1, center= True).std()"
      ]
    },
    {
      "cell_type": "code",
      "execution_count": null,
      "metadata": {
        "colab": {
          "base_uri": "https://localhost:8080/"
        },
        "id": "z13oHpa3_06B",
        "outputId": "ba114c4d-672e-411d-9e31-743122bb385e"
      },
      "outputs": [
        {
          "output_type": "execute_result",
          "data": {
            "text/plain": [
              "Index(['InVehicle_Longitudinal_Speed', 'GPS_Speed',\n",
              "       'InVehicle_Longitudinal_Accel', 'std_speed_5', 'std_acc_5',\n",
              "       'std_GPS_5'],\n",
              "      dtype='object')"
            ]
          },
          "metadata": {},
          "execution_count": 28
        }
      ],
      "source": [
        "sensor3_data.columns"
      ]
    },
    {
      "cell_type": "code",
      "execution_count": null,
      "metadata": {
        "colab": {
          "base_uri": "https://localhost:8080/",
          "height": 282
        },
        "id": "Xg1TA9vP_3Hf",
        "outputId": "10e46ca1-49c4-4795-b6b5-9eb049b0ec15"
      },
      "outputs": [
        {
          "output_type": "execute_result",
          "data": {
            "text/plain": [
              "<matplotlib.axes._subplots.AxesSubplot at 0x7f0bd11d9e80>"
            ]
          },
          "metadata": {},
          "execution_count": 29
        },
        {
          "output_type": "display_data",
          "data": {
            "text/plain": [
              "<Figure size 432x288 with 1 Axes>"
            ],
            "image/png": "[encoded data removed]"
          },
          "metadata": {
            "needs_background": "light"
          }
        }
      ],
      "source": [
        "sensor3_data[['InVehicle_Longitudinal_Speed','std_speed_5']].plot(color=['red', 'green'] )"
      ]
    },
    {
      "cell_type": "code",
      "execution_count": null,
      "metadata": {
        "colab": {
          "base_uri": "https://localhost:8080/",
          "height": 282
        },
        "id": "r85zpGZ2_6Cp",
        "outputId": "803d5a64-0450-4640-a9b4-f54b42fd60f0"
      },
      "outputs": [
        {
          "output_type": "execute_result",
          "data": {
            "text/plain": [
              "<matplotlib.axes._subplots.AxesSubplot at 0x7f0bd1158730>"
            ]
          },
          "metadata": {},
          "execution_count": 30
        },
        {
          "output_type": "display_data",
          "data": {
            "text/plain": [
              "<Figure size 432x288 with 1 Axes>"
            ],
            "image/png": "[encoded data removed]"
          },
          "metadata": {
            "needs_background": "light"
          }
        }
      ],
      "source": [
        "sensor3_data[['InVehicle_Longitudinal_Accel','std_acc_5']].plot(color=['red', 'blue'] )"
      ]
    },
    {
      "cell_type": "code",
      "execution_count": null,
      "metadata": {
        "colab": {
          "base_uri": "https://localhost:8080/",
          "height": 282
        },
        "id": "qpKVkpEy_6Ig",
        "outputId": "45d9d54b-09a3-40a9-8617-5b2544da96ab"
      },
      "outputs": [
        {
          "output_type": "execute_result",
          "data": {
            "text/plain": [
              "<matplotlib.axes._subplots.AxesSubplot at 0x7f0bd1114730>"
            ]
          },
          "metadata": {},
          "execution_count": 31
        },
        {
          "output_type": "display_data",
          "data": {
            "text/plain": [
              "<Figure size 432x288 with 1 Axes>"
            ],
            "image/png": "[encoded data removed]"
          },
          "metadata": {
            "needs_background": "light"
          }
        }
      ],
      "source": [
        "sensor3_data[['GPS_Speed','std_GPS_5']].plot(color=['red', 'yellow'] )"
      ]
    },
    {
      "cell_type": "code",
      "execution_count": null,
      "metadata": {
        "colab": {
          "base_uri": "https://localhost:8080/"
        },
        "id": "VaUYxUSMvH14",
        "outputId": "6a42c234-77a1-47c0-d0c1-7850bb18c5f8"
      },
      "outputs": [
        {
          "output_type": "execute_result",
          "data": {
            "text/plain": [
              "array([[-0.57721227, -0.42674685,  0.77920952],\n",
              "       [-0.57191982, -0.48390243,  0.66549642],\n",
              "       [-0.56969878, -0.51987624,  0.54692016],\n",
              "       [-0.59396944, -0.66913631,  0.6213872 ],\n",
              "       [-0.60151234, -0.66509592, -0.84774737]])"
            ]
          },
          "metadata": {},
          "execution_count": 32
        }
      ],
      "source": [
        "scaler  = StandardScaler()\n",
        "scaler.fit(sensor1_data[['std_speed_5','std_GPS_5','std_acc_5']])\n",
        "sensor1_data_normal = scaler.transform(sensor1_data[['std_speed_5','std_GPS_5','std_acc_5']]) \n",
        "sensor1_data_normal[:5]"
      ]
    },
    {
      "cell_type": "code",
      "execution_count": null,
      "metadata": {
        "colab": {
          "base_uri": "https://localhost:8080/"
        },
        "id": "DssP_ns3oPeE",
        "outputId": "d16d66a3-401c-47d6-9652-62e797eac4e5"
      },
      "outputs": [
        {
          "output_type": "execute_result",
          "data": {
            "text/plain": [
              "array([[-0.57937438, -0.42353399,  0.78663982],\n",
              "       [-0.57407373, -0.48062088,  0.6725265 ],\n",
              "       [-0.57184924, -0.51655144,  0.5535329 ],\n",
              "       [-0.59615755, -0.66563209,  0.62826203],\n",
              "       [-0.60371215, -0.66159656, -0.84604324]])"
            ]
          },
          "metadata": {},
          "execution_count": 33
        }
      ],
      "source": [
        "scaler  = StandardScaler()\n",
        "scaler.fit(sensor2_data[['std_speed_5','std_GPS_5','std_acc_5']])\n",
        "sensor2_data_normal = scaler.transform(sensor2_data[['std_speed_5','std_GPS_5','std_acc_5']]) \n",
        "sensor2_data_normal[:5]"
      ]
    },
    {
      "cell_type": "code",
      "execution_count": null,
      "metadata": {
        "colab": {
          "base_uri": "https://localhost:8080/"
        },
        "id": "ShuycYtJoPQ2",
        "outputId": "e800e992-b6f3-4e2a-ab64-12d94a73d0d6"
      },
      "outputs": [
        {
          "output_type": "execute_result",
          "data": {
            "text/plain": [
              "array([[-0.57937438, -0.42353399,  0.78663982],\n",
              "       [-0.57407373, -0.48062088,  0.6725265 ],\n",
              "       [-0.57184924, -0.51655144,  0.5535329 ],\n",
              "       [-0.59615755, -0.66563209,  0.62826203],\n",
              "       [-0.60371215, -0.66159656, -0.84604324]])"
            ]
          },
          "metadata": {},
          "execution_count": 34
        }
      ],
      "source": [
        "scaler  = StandardScaler()\n",
        "scaler.fit(sensor3_data[['std_speed_5','std_GPS_5','std_acc_5']])\n",
        "sensor3_data_normal = scaler.transform(sensor3_data[['std_speed_5','std_GPS_5','std_acc_5']]) \n",
        "sensor3_data_normal[:5]"
      ]
    },
    {
      "cell_type": "code",
      "execution_count": null,
      "metadata": {
        "id": "NPEKmySy2O0W"
      },
      "outputs": [],
      "source": [
        "window_size = 10\n",
        "\n",
        "# create windows with overlap\n",
        "def convertToFrames(X_data,y_data, step):\n",
        "    X, Y =[], []    \n",
        "    for i in range(len(X_data)-step):\n",
        "        y_or = 0\n",
        "        d=i+step  \n",
        "        X.append(X_data[i:d,])\n",
        "        for y in y_data.iloc[i:d].values:\n",
        "           y_or = y_or or y\n",
        "        \n",
        "        Y.append(y_or)\n",
        "    return np.array(X), np.array(Y)"
      ]
    },
    {
      "cell_type": "code",
      "execution_count": null,
      "metadata": {
        "colab": {
          "base_uri": "https://localhost:8080/"
        },
        "id": "1U7mLgOZaZsN",
        "outputId": "0e84e97a-a504-4e59-d778-99ea94774592"
      },
      "outputs": [
        {
          "output_type": "execute_result",
          "data": {
            "text/plain": [
              "((29790, 10, 3), (29790, 1))"
            ]
          },
          "metadata": {},
          "execution_count": 36
        }
      ],
      "source": [
        "X_sensor1, y_sensor1 = convertToFrames(sensor1_data_normal, sensor1_label, window_size)\n",
        "X_sensor1.shape, y_sensor1.shape\n",
        "# print(X_sensor1[0])\n",
        "# print(X_sensor1[1])"
      ]
    },
    {
      "cell_type": "code",
      "execution_count": null,
      "metadata": {
        "colab": {
          "base_uri": "https://localhost:8080/"
        },
        "id": "LlbmzS3Hagp1",
        "outputId": "96202555-3bb9-426d-b6bd-a53c84ae1e7f"
      },
      "outputs": [
        {
          "output_type": "execute_result",
          "data": {
            "text/plain": [
              "((29790, 10, 3), (29790, 1))"
            ]
          },
          "metadata": {},
          "execution_count": 37
        }
      ],
      "source": [
        "X_sensor2, y_sensor2 = convertToFrames(sensor2_data_normal, sensor2_label, window_size)\n",
        "X_sensor2.shape, y_sensor2.shape"
      ]
    },
    {
      "cell_type": "code",
      "execution_count": null,
      "metadata": {
        "colab": {
          "base_uri": "https://localhost:8080/"
        },
        "id": "0QyV7kwragiE",
        "outputId": "8e73b86b-eb8f-4da7-8c8c-c96c85f9e1cc"
      },
      "outputs": [
        {
          "output_type": "execute_result",
          "data": {
            "text/plain": [
              "((29790, 10, 3), (29790, 1))"
            ]
          },
          "metadata": {},
          "execution_count": 38
        }
      ],
      "source": [
        "X_sensor3, y_sensor3 = convertToFrames(sensor3_data_normal, sensor3_label, window_size)\n",
        "X_sensor3.shape, y_sensor3.shape"
      ]
    },
    {
      "cell_type": "code",
      "execution_count": null,
      "metadata": {
        "colab": {
          "base_uri": "https://localhost:8080/"
        },
        "id": "l4fSg45cplIB",
        "outputId": "3d40de2c-04d6-4a8d-87a2-a3f9bdda6868"
      },
      "outputs": [
        {
          "output_type": "execute_result",
          "data": {
            "text/plain": [
              "((25321, 10, 3), (4469, 10, 3), (25321, 2), (4469, 2))"
            ]
          },
          "metadata": {},
          "execution_count": 39
        }
      ],
      "source": [
        "y_sensor1 = to_categorical(y_sensor1, num_classes= 2, dtype='float32')\n",
        "X_train_sensor1,X_test_sensor1, y_train_sensor1, y_test_sensor1 = train_test_split(X_sensor1,y_sensor1,random_state = 1400, test_size= 0.15)\n",
        "y_train_sensor1, y_test_sensor1 = y_train_sensor1.squeeze(), y_test_sensor1.squeeze()\n",
        "X_train_sensor1.shape, X_test_sensor1.shape,y_train_sensor1.shape, y_test_sensor1.shape"
      ]
    },
    {
      "cell_type": "code",
      "execution_count": null,
      "metadata": {
        "colab": {
          "base_uri": "https://localhost:8080/"
        },
        "id": "M-6JhdmNplC4",
        "outputId": "b3d8bca5-ff0c-41a8-8424-368e716665d3"
      },
      "outputs": [
        {
          "output_type": "execute_result",
          "data": {
            "text/plain": [
              "((25321, 10, 3), (4469, 10, 3), (25321, 2), (4469, 2))"
            ]
          },
          "metadata": {},
          "execution_count": 40
        }
      ],
      "source": [
        "y_sensor2 = to_categorical(y_sensor2, num_classes= 2, dtype='float32')\n",
        "X_train_sensor2,X_test_sensor2, y_train_sensor2, y_test_sensor2 = train_test_split(X_sensor2,y_sensor2,random_state = 1400, test_size= 0.15)\n",
        "y_train_sensor2, y_test_sensor2 = y_train_sensor2.squeeze(), y_test_sensor2.squeeze()\n",
        "X_train_sensor2.shape, X_test_sensor2.shape,y_train_sensor2.shape, y_test_sensor2.shape"
      ]
    },
    {
      "cell_type": "code",
      "execution_count": null,
      "metadata": {
        "colab": {
          "base_uri": "https://localhost:8080/"
        },
        "id": "CZmk_MFjpk_S",
        "outputId": "7f041d72-c4c1-4027-edcd-1426dcdbb6fc"
      },
      "outputs": [
        {
          "output_type": "execute_result",
          "data": {
            "text/plain": [
              "((25321, 10, 3), (4469, 10, 3), (25321, 2), (4469, 2))"
            ]
          },
          "metadata": {},
          "execution_count": 41
        }
      ],
      "source": [
        "y_sensor3 = to_categorical(y_sensor3, num_classes= 2, dtype='float32')\n",
        "X_train_sensor3,X_test_sensor3, y_train_sensor3, y_test_sensor3 = train_test_split(X_sensor3,y_sensor3,random_state = 1400, test_size= 0.15)\n",
        "y_train_sensor3, y_test_sensor3 = y_train_sensor3.squeeze(), y_test_sensor3.squeeze()\n",
        "X_train_sensor3.shape, X_test_sensor3.shape,y_train_sensor3.shape, y_test_sensor3.shape"
      ]
    },
    {
      "cell_type": "code",
      "execution_count": null,
      "metadata": {
        "id": "DFlQxMk8PgWx"
      },
      "outputs": [],
      "source": [
        "\n",
        "def creatModel():\n",
        "  \n",
        "    model = Sequential()\n",
        "    model.add(Conv1D(kernel_size=3, filters= 40, activation= 'relu', padding='same'))\n",
        "    model.add(Dropout(0.1))\n",
        "    model.add( Conv1D(kernel_size=3, filters= 60, activation= 'relu', padding='same'))\n",
        "    model.add(Dropout(0.1))\n",
        "    model.add(Conv1D(kernel_size=3, filters= 60, activation= 'relu', padding='same'))\n",
        "    model.add(Dropout(0.1))\n",
        "    model.add(GlobalMaxPool1D())\n",
        "    model.add(RepeatVector(X_train_sensor1.shape[1]))\n",
        "    model.add(LSTM(256, return_sequences=True))\n",
        "    model.add(Dropout(rate=0.2))\n",
        "    model.add(LSTM(128, return_sequences=True))\n",
        "    model.add(Dropout(rate=0.2))\n",
        "    model.add(LSTM(64, return_sequences=False))\n",
        "    model.add(Dropout(rate=0.2))\n",
        "    model.add((Dense(32)))\n",
        "    model.add((Dense(16)))\n",
        "    model.add(Dense(2, activation='sigmoid', kernel_regularizer=l2()))\n",
        "    model.compile(optimizer='adam', loss='binary_crossentropy',metrics=['accuracy'])\n",
        "\n",
        "    return model\n"
      ]
    },
    {
      "cell_type": "code",
      "execution_count": null,
      "metadata": {
        "id": "VrTO2TLekYa-"
      },
      "outputs": [],
      "source": [
        "import time\n",
        "\n",
        "class TimeHistory(Callback):\n",
        "  \n",
        "    def on_epoch_begin(self, batch, logs={}):\n",
        "        self.epoch_time_start = time.time()\n",
        "\n",
        "    def on_epoch_end(self, batch, logs={}):\n",
        "        epoch_time = time.time() - self.epoch_time_start\n",
        "        logs['epoch_time'] = epoch_time\n"
      ]
    },
    {
      "cell_type": "code",
      "execution_count": null,
      "metadata": {
        "id": "M79Mq50tlTe6"
      },
      "outputs": [],
      "source": [
        "model_path = '/content/drive/MyDrive/CAV/data/Instant attack/25/Models/Models28-1/'\n",
        "\n",
        "class Model_save(Callback):\n",
        "  def on_epoch_end(self, epoch, logs={}):\n",
        "    self.model.save(model_path + \"CNN-LSTM-autoEncoder-Instant-25-CAV-perEpoch_{}.h5\".format(sensor))\n",
        "    "
      ]
    },
    {
      "cell_type": "code",
      "execution_count": null,
      "metadata": {
        "id": "nWddQ3LPlY5M"
      },
      "outputs": [],
      "source": [
        "def setCallbacks(sensor):\n",
        "\n",
        "  best_model_path = model_path + 'Best_CNN-LSTM-autoEncoder-Instant-25-CAV_{}.h5'.format(sensor)\n",
        "  checkpoint = ModelCheckpoint(best_model_path, monitor='val_loss', save_best_only=True, mode='min')\n",
        "\n",
        "  history_cb = tf.keras.callbacks.CSVLogger(model_path + 'historyLOG_Instant-25_{}.csv'.format(sensor), separator=\",\", append=True)\n",
        "\n",
        "  model_save = Model_save()\n",
        "\n",
        "  Estop = EarlyStopping(monitor='val_accuracy', patience= 100)\n",
        "  \n",
        "  return model_save, checkpoint, history_cb, Estop"
      ]
    },
    {
      "cell_type": "code",
      "execution_count": null,
      "metadata": {
        "colab": {
          "base_uri": "https://localhost:8080/"
        },
        "id": "t7odu-Z4_BLe",
        "outputId": "574eb6cb-d928-41c5-ad15-3c8de66336b8"
      },
      "outputs": [
        {
          "output_type": "stream",
          "name": "stdout",
          "text": [
            "Epoch 1/500\n",
            "179/179 [==============================] - 28s 19ms/step - loss: 0.4762 - accuracy: 0.8335 - val_loss: 0.4686 - val_accuracy: 0.8350 - epoch_time: 27.5478\n",
            "Epoch 2/500\n",
            "179/179 [==============================] - 3s 15ms/step - loss: 0.4071 - accuracy: 0.8456 - val_loss: 0.3483 - val_accuracy: 0.8666 - epoch_time: 2.4459\n",
            "Epoch 3/500\n",
            "179/179 [==============================] - 3s 17ms/step - loss: 0.3023 - accuracy: 0.8942 - val_loss: 0.2314 - val_accuracy: 0.9183 - epoch_time: 2.7720\n",
            "Epoch 4/500\n",
            "179/179 [==============================] - 2s 13ms/step - loss: 0.2337 - accuracy: 0.9221 - val_loss: 0.1777 - val_accuracy: 0.9447 - epoch_time: 2.0635\n",
            "Epoch 5/500\n",
            "179/179 [==============================] - 2s 13ms/step - loss: 0.1961 - accuracy: 0.9386 - val_loss: 0.1605 - val_accuracy: 0.9499 - epoch_time: 2.0864\n",
            "Epoch 6/500\n",
            "179/179 [==============================] - 2s 13ms/step - loss: 0.1734 - accuracy: 0.9448 - val_loss: 0.1438 - val_accuracy: 0.9621 - epoch_time: 2.0618\n",
            "Epoch 7/500\n",
            "179/179 [==============================] - 2s 12ms/step - loss: 0.1523 - accuracy: 0.9530 - val_loss: 0.1617 - val_accuracy: 0.9451 - epoch_time: 2.1135\n",
            "Epoch 8/500\n",
            "179/179 [==============================] - 3s 16ms/step - loss: 0.1557 - accuracy: 0.9506 - val_loss: 0.1198 - val_accuracy: 0.9653 - epoch_time: 2.6681\n",
            "Epoch 9/500\n",
            "179/179 [==============================] - 3s 15ms/step - loss: 0.1311 - accuracy: 0.9600 - val_loss: 0.1144 - val_accuracy: 0.9680 - epoch_time: 2.4675\n",
            "Epoch 10/500\n",
            "179/179 [==============================] - 2s 13ms/step - loss: 0.1213 - accuracy: 0.9632 - val_loss: 0.1074 - val_accuracy: 0.9700 - epoch_time: 2.0610\n",
            "Epoch 11/500\n",
            "179/179 [==============================] - 2s 12ms/step - loss: 0.1129 - accuracy: 0.9654 - val_loss: 0.0929 - val_accuracy: 0.9755 - epoch_time: 2.0344\n",
            "Epoch 12/500\n",
            "179/179 [==============================] - 2s 13ms/step - loss: 0.1108 - accuracy: 0.9651 - val_loss: 0.0920 - val_accuracy: 0.9739 - epoch_time: 2.0686\n",
            "Epoch 13/500\n",
            "179/179 [==============================] - 2s 13ms/step - loss: 0.1117 - accuracy: 0.9659 - val_loss: 0.0882 - val_accuracy: 0.9751 - epoch_time: 2.0785\n",
            "Epoch 14/500\n",
            "179/179 [==============================] - 3s 17ms/step - loss: 0.1010 - accuracy: 0.9686 - val_loss: 0.0830 - val_accuracy: 0.9779 - epoch_time: 2.7942\n",
            "Epoch 15/500\n",
            "179/179 [==============================] - 2s 13ms/step - loss: 0.0948 - accuracy: 0.9701 - val_loss: 0.0710 - val_accuracy: 0.9803 - epoch_time: 2.1405\n",
            "Epoch 16/500\n",
            "179/179 [==============================] - 2s 12ms/step - loss: 0.0917 - accuracy: 0.9708 - val_loss: 0.0769 - val_accuracy: 0.9787 - epoch_time: 2.0692\n",
            "Epoch 17/500\n",
            "179/179 [==============================] - 2s 13ms/step - loss: 0.0861 - accuracy: 0.9742 - val_loss: 0.0683 - val_accuracy: 0.9818 - epoch_time: 2.0844\n",
            "Epoch 18/500\n",
            "179/179 [==============================] - 2s 13ms/step - loss: 0.0880 - accuracy: 0.9738 - val_loss: 0.0678 - val_accuracy: 0.9807 - epoch_time: 2.1126\n",
            "Epoch 19/500\n",
            "179/179 [==============================] - 3s 15ms/step - loss: 0.0819 - accuracy: 0.9749 - val_loss: 0.0637 - val_accuracy: 0.9826 - epoch_time: 2.4095\n",
            "Epoch 20/500\n",
            "179/179 [==============================] - 3s 16ms/step - loss: 0.0779 - accuracy: 0.9761 - val_loss: 0.0718 - val_accuracy: 0.9807 - epoch_time: 2.7716\n",
            "Epoch 21/500\n",
            "179/179 [==============================] - 2s 13ms/step - loss: 0.0828 - accuracy: 0.9756 - val_loss: 0.0568 - val_accuracy: 0.9830 - epoch_time: 2.1517\n",
            "Epoch 22/500\n",
            "179/179 [==============================] - 2s 12ms/step - loss: 0.0746 - accuracy: 0.9768 - val_loss: 0.0583 - val_accuracy: 0.9846 - epoch_time: 2.1370\n",
            "Epoch 23/500\n",
            "179/179 [==============================] - 2s 12ms/step - loss: 0.0722 - accuracy: 0.9773 - val_loss: 0.0519 - val_accuracy: 0.9866 - epoch_time: 2.0522\n",
            "Epoch 24/500\n",
            "179/179 [==============================] - 2s 12ms/step - loss: 0.0716 - accuracy: 0.9785 - val_loss: 0.0552 - val_accuracy: 0.9874 - epoch_time: 2.0603\n",
            "Epoch 25/500\n",
            "179/179 [==============================] - 3s 15ms/step - loss: 0.0697 - accuracy: 0.9793 - val_loss: 0.0542 - val_accuracy: 0.9854 - epoch_time: 2.5833\n",
            "Epoch 26/500\n",
            "179/179 [==============================] - 4s 20ms/step - loss: 0.0681 - accuracy: 0.9794 - val_loss: 0.0622 - val_accuracy: 0.9862 - epoch_time: 3.4008\n",
            "Epoch 27/500\n",
            "179/179 [==============================] - 3s 18ms/step - loss: 0.0669 - accuracy: 0.9799 - val_loss: 0.0503 - val_accuracy: 0.9889 - epoch_time: 2.5485\n",
            "Epoch 28/500\n",
            "179/179 [==============================] - 2s 12ms/step - loss: 0.0649 - accuracy: 0.9802 - val_loss: 0.0525 - val_accuracy: 0.9878 - epoch_time: 2.1094\n",
            "Epoch 29/500\n",
            "179/179 [==============================] - 2s 12ms/step - loss: 0.0634 - accuracy: 0.9811 - val_loss: 0.0483 - val_accuracy: 0.9874 - epoch_time: 2.0357\n",
            "Epoch 30/500\n",
            "179/179 [==============================] - 3s 15ms/step - loss: 0.0614 - accuracy: 0.9820 - val_loss: 0.0553 - val_accuracy: 0.9811 - epoch_time: 2.6265\n",
            "Epoch 31/500\n",
            "179/179 [==============================] - 3s 16ms/step - loss: 0.0645 - accuracy: 0.9810 - val_loss: 0.0476 - val_accuracy: 0.9874 - epoch_time: 2.6125\n",
            "Epoch 32/500\n",
            "179/179 [==============================] - 2s 13ms/step - loss: 0.0616 - accuracy: 0.9821 - val_loss: 0.0466 - val_accuracy: 0.9878 - epoch_time: 2.1051\n",
            "Epoch 33/500\n",
            "179/179 [==============================] - 2s 13ms/step - loss: 0.0617 - accuracy: 0.9821 - val_loss: 0.0451 - val_accuracy: 0.9882 - epoch_time: 2.0763\n",
            "Epoch 34/500\n",
            "179/179 [==============================] - 2s 12ms/step - loss: 0.0589 - accuracy: 0.9818 - val_loss: 0.0473 - val_accuracy: 0.9862 - epoch_time: 2.0540\n",
            "Epoch 35/500\n",
            "179/179 [==============================] - 2s 13ms/step - loss: 0.0537 - accuracy: 0.9838 - val_loss: 0.0432 - val_accuracy: 0.9889 - epoch_time: 2.0623\n",
            "Epoch 36/500\n",
            "179/179 [==============================] - 3s 17ms/step - loss: 0.0559 - accuracy: 0.9829 - val_loss: 0.0464 - val_accuracy: 0.9886 - epoch_time: 2.9303\n",
            "Epoch 37/500\n",
            "179/179 [==============================] - 2s 13ms/step - loss: 0.0529 - accuracy: 0.9840 - val_loss: 0.0452 - val_accuracy: 0.9893 - epoch_time: 2.2435\n",
            "Epoch 38/500\n",
            "179/179 [==============================] - 2s 12ms/step - loss: 0.0563 - accuracy: 0.9827 - val_loss: 0.0437 - val_accuracy: 0.9905 - epoch_time: 2.0585\n",
            "Epoch 39/500\n",
            "179/179 [==============================] - 3s 14ms/step - loss: 0.0554 - accuracy: 0.9837 - val_loss: 0.0427 - val_accuracy: 0.9886 - epoch_time: 2.0291\n",
            "Epoch 40/500\n",
            "179/179 [==============================] - 2s 12ms/step - loss: 0.0552 - accuracy: 0.9829 - val_loss: 0.0412 - val_accuracy: 0.9897 - epoch_time: 1.9889\n",
            "Epoch 41/500\n",
            "179/179 [==============================] - 2s 13ms/step - loss: 0.0507 - accuracy: 0.9837 - val_loss: 0.0503 - val_accuracy: 0.9874 - epoch_time: 2.3066\n",
            "Epoch 42/500\n",
            "179/179 [==============================] - 3s 17ms/step - loss: 0.0542 - accuracy: 0.9842 - val_loss: 0.0424 - val_accuracy: 0.9893 - epoch_time: 2.9168\n",
            "Epoch 43/500\n",
            "179/179 [==============================] - 2s 12ms/step - loss: 0.0508 - accuracy: 0.9851 - val_loss: 0.0362 - val_accuracy: 0.9893 - epoch_time: 2.0508\n",
            "Epoch 44/500\n",
            "179/179 [==============================] - 2s 13ms/step - loss: 0.0508 - accuracy: 0.9845 - val_loss: 0.0423 - val_accuracy: 0.9889 - epoch_time: 2.2135\n",
            "Epoch 45/500\n",
            "179/179 [==============================] - 2s 13ms/step - loss: 0.0489 - accuracy: 0.9854 - val_loss: 0.0442 - val_accuracy: 0.9893 - epoch_time: 2.1721\n",
            "Epoch 46/500\n",
            "179/179 [==============================] - 2s 13ms/step - loss: 0.0803 - accuracy: 0.9756 - val_loss: 0.0452 - val_accuracy: 0.9870 - epoch_time: 2.1609\n",
            "Epoch 47/500\n",
            "179/179 [==============================] - 3s 15ms/step - loss: 0.0543 - accuracy: 0.9845 - val_loss: 0.0407 - val_accuracy: 0.9886 - epoch_time: 2.5948\n",
            "Epoch 48/500\n",
            "179/179 [==============================] - 3s 15ms/step - loss: 0.0499 - accuracy: 0.9853 - val_loss: 0.0399 - val_accuracy: 0.9909 - epoch_time: 2.6240\n",
            "Epoch 49/500\n",
            "179/179 [==============================] - 2s 12ms/step - loss: 0.0492 - accuracy: 0.9861 - val_loss: 0.0377 - val_accuracy: 0.9905 - epoch_time: 2.0694\n",
            "Epoch 50/500\n",
            "179/179 [==============================] - 3s 15ms/step - loss: 0.0472 - accuracy: 0.9858 - val_loss: 0.0342 - val_accuracy: 0.9893 - epoch_time: 2.0269\n",
            "Epoch 51/500\n",
            "179/179 [==============================] - 2s 12ms/step - loss: 0.0457 - accuracy: 0.9866 - val_loss: 0.0385 - val_accuracy: 0.9893 - epoch_time: 2.0159\n",
            "Epoch 52/500\n",
            "179/179 [==============================] - 2s 12ms/step - loss: 0.0467 - accuracy: 0.9864 - val_loss: 0.0410 - val_accuracy: 0.9901 - epoch_time: 2.0710\n",
            "Epoch 53/500\n",
            "179/179 [==============================] - 3s 16ms/step - loss: 0.0450 - accuracy: 0.9865 - val_loss: 0.0391 - val_accuracy: 0.9882 - epoch_time: 2.7755\n",
            "Epoch 54/500\n",
            "179/179 [==============================] - 2s 14ms/step - loss: 0.0432 - accuracy: 0.9879 - val_loss: 0.0399 - val_accuracy: 0.9897 - epoch_time: 2.3966\n",
            "Epoch 55/500\n",
            "179/179 [==============================] - 2s 12ms/step - loss: 0.0433 - accuracy: 0.9867 - val_loss: 0.0346 - val_accuracy: 0.9886 - epoch_time: 2.0834\n",
            "Epoch 56/500\n",
            "179/179 [==============================] - 2s 13ms/step - loss: 0.0416 - accuracy: 0.9874 - val_loss: 0.0348 - val_accuracy: 0.9901 - epoch_time: 2.1714\n",
            "Epoch 57/500\n",
            "179/179 [==============================] - 2s 12ms/step - loss: 0.0420 - accuracy: 0.9871 - val_loss: 0.0363 - val_accuracy: 0.9909 - epoch_time: 2.0649\n",
            "Epoch 58/500\n",
            "179/179 [==============================] - 2s 13ms/step - loss: 0.0414 - accuracy: 0.9879 - val_loss: 0.0403 - val_accuracy: 0.9886 - epoch_time: 2.1950\n",
            "Epoch 59/500\n",
            "179/179 [==============================] - 3s 17ms/step - loss: 0.0421 - accuracy: 0.9871 - val_loss: 0.0349 - val_accuracy: 0.9901 - epoch_time: 2.9119\n",
            "Epoch 60/500\n",
            "179/179 [==============================] - 2s 13ms/step - loss: 0.0417 - accuracy: 0.9876 - val_loss: 0.0369 - val_accuracy: 0.9889 - epoch_time: 2.1550\n",
            "Epoch 61/500\n",
            "179/179 [==============================] - 2s 13ms/step - loss: 0.0387 - accuracy: 0.9886 - val_loss: 0.0358 - val_accuracy: 0.9913 - epoch_time: 2.1556\n",
            "Epoch 62/500\n",
            "179/179 [==============================] - 2s 12ms/step - loss: 0.0387 - accuracy: 0.9886 - val_loss: 0.0344 - val_accuracy: 0.9917 - epoch_time: 2.0898\n",
            "Epoch 63/500\n",
            "179/179 [==============================] - 2s 12ms/step - loss: 0.0374 - accuracy: 0.9884 - val_loss: 0.0354 - val_accuracy: 0.9917 - epoch_time: 2.0699\n",
            "Epoch 64/500\n",
            "179/179 [==============================] - 3s 17ms/step - loss: 0.0387 - accuracy: 0.9882 - val_loss: 0.0326 - val_accuracy: 0.9897 - epoch_time: 2.2469\n",
            "Epoch 65/500\n",
            "179/179 [==============================] - 3s 15ms/step - loss: 0.0382 - accuracy: 0.9881 - val_loss: 0.0351 - val_accuracy: 0.9917 - epoch_time: 2.5770\n",
            "Epoch 66/500\n",
            "179/179 [==============================] - 2s 13ms/step - loss: 0.0411 - accuracy: 0.9876 - val_loss: 0.0310 - val_accuracy: 0.9909 - epoch_time: 2.0618\n",
            "Epoch 67/500\n",
            "179/179 [==============================] - 2s 12ms/step - loss: 0.0356 - accuracy: 0.9891 - val_loss: 0.0348 - val_accuracy: 0.9901 - epoch_time: 2.0572\n",
            "Epoch 68/500\n",
            "179/179 [==============================] - 2s 12ms/step - loss: 0.0384 - accuracy: 0.9890 - val_loss: 0.0330 - val_accuracy: 0.9913 - epoch_time: 2.0469\n",
            "Epoch 69/500\n",
            "179/179 [==============================] - 2s 12ms/step - loss: 0.0355 - accuracy: 0.9901 - val_loss: 0.0379 - val_accuracy: 0.9909 - epoch_time: 2.1105\n",
            "Epoch 70/500\n",
            "179/179 [==============================] - 3s 19ms/step - loss: 0.0365 - accuracy: 0.9888 - val_loss: 0.0285 - val_accuracy: 0.9913 - epoch_time: 2.6830\n",
            "Epoch 71/500\n",
            "179/179 [==============================] - 2s 13ms/step - loss: 0.0385 - accuracy: 0.9883 - val_loss: 0.0341 - val_accuracy: 0.9909 - epoch_time: 2.2589\n",
            "Epoch 72/500\n",
            "179/179 [==============================] - 2s 12ms/step - loss: 0.0333 - accuracy: 0.9898 - val_loss: 0.0302 - val_accuracy: 0.9921 - epoch_time: 2.0597\n",
            "Epoch 73/500\n",
            "179/179 [==============================] - 2s 12ms/step - loss: 0.0354 - accuracy: 0.9889 - val_loss: 0.0328 - val_accuracy: 0.9901 - epoch_time: 2.1398\n",
            "Epoch 74/500\n",
            "179/179 [==============================] - 2s 12ms/step - loss: 0.0339 - accuracy: 0.9896 - val_loss: 0.0422 - val_accuracy: 0.9882 - epoch_time: 2.0364\n",
            "Epoch 75/500\n",
            "179/179 [==============================] - 2s 13ms/step - loss: 0.0362 - accuracy: 0.9895 - val_loss: 0.0292 - val_accuracy: 0.9901 - epoch_time: 2.1989\n",
            "Epoch 76/500\n",
            "179/179 [==============================] - 3s 17ms/step - loss: 0.0442 - accuracy: 0.9868 - val_loss: 0.0373 - val_accuracy: 0.9878 - epoch_time: 2.8698\n",
            "Epoch 77/500\n",
            "179/179 [==============================] - 2s 13ms/step - loss: 0.0333 - accuracy: 0.9897 - val_loss: 0.0330 - val_accuracy: 0.9921 - epoch_time: 2.1959\n",
            "Epoch 78/500\n",
            "179/179 [==============================] - 2s 13ms/step - loss: 0.0337 - accuracy: 0.9896 - val_loss: 0.0318 - val_accuracy: 0.9913 - epoch_time: 2.1793\n",
            "Epoch 79/500\n",
            "179/179 [==============================] - 2s 12ms/step - loss: 0.0321 - accuracy: 0.9904 - val_loss: 0.0318 - val_accuracy: 0.9925 - epoch_time: 2.1207\n",
            "Epoch 80/500\n",
            "179/179 [==============================] - 2s 12ms/step - loss: 0.0306 - accuracy: 0.9909 - val_loss: 0.0323 - val_accuracy: 0.9917 - epoch_time: 2.0694\n",
            "Epoch 81/500\n",
            "179/179 [==============================] - 3s 15ms/step - loss: 0.0310 - accuracy: 0.9907 - val_loss: 0.0302 - val_accuracy: 0.9921 - epoch_time: 2.4955\n",
            "Epoch 82/500\n",
            "179/179 [==============================] - 3s 16ms/step - loss: 0.0303 - accuracy: 0.9910 - val_loss: 0.0324 - val_accuracy: 0.9921 - epoch_time: 2.8338\n",
            "Epoch 83/500\n",
            "179/179 [==============================] - 2s 12ms/step - loss: 0.0302 - accuracy: 0.9907 - val_loss: 0.0330 - val_accuracy: 0.9921 - epoch_time: 2.1384\n",
            "Epoch 84/500\n",
            "179/179 [==============================] - 2s 13ms/step - loss: 0.0298 - accuracy: 0.9911 - val_loss: 0.0318 - val_accuracy: 0.9909 - epoch_time: 2.1517\n",
            "Epoch 85/500\n",
            "179/179 [==============================] - 2s 12ms/step - loss: 0.0335 - accuracy: 0.9899 - val_loss: 0.0360 - val_accuracy: 0.9893 - epoch_time: 2.0429\n",
            "Epoch 86/500\n",
            "179/179 [==============================] - 2s 12ms/step - loss: 0.0378 - accuracy: 0.9879 - val_loss: 0.0337 - val_accuracy: 0.9917 - epoch_time: 2.0756\n",
            "Epoch 87/500\n",
            "179/179 [==============================] - 3s 15ms/step - loss: 0.0332 - accuracy: 0.9901 - val_loss: 0.0296 - val_accuracy: 0.9925 - epoch_time: 2.5789\n",
            "Epoch 88/500\n",
            "179/179 [==============================] - 3s 15ms/step - loss: 0.0310 - accuracy: 0.9903 - val_loss: 0.0337 - val_accuracy: 0.9921 - epoch_time: 2.6212\n",
            "Epoch 89/500\n",
            "179/179 [==============================] - 2s 12ms/step - loss: 0.0301 - accuracy: 0.9911 - val_loss: 0.0314 - val_accuracy: 0.9921 - epoch_time: 2.0597\n",
            "Epoch 90/500\n",
            "179/179 [==============================] - 2s 12ms/step - loss: 0.0291 - accuracy: 0.9910 - val_loss: 0.0322 - val_accuracy: 0.9921 - epoch_time: 2.0859\n",
            "Epoch 91/500\n",
            "179/179 [==============================] - 2s 12ms/step - loss: 0.0318 - accuracy: 0.9903 - val_loss: 0.0349 - val_accuracy: 0.9925 - epoch_time: 2.0750\n",
            "Epoch 92/500\n",
            "179/179 [==============================] - 2s 12ms/step - loss: 0.0309 - accuracy: 0.9904 - val_loss: 0.0300 - val_accuracy: 0.9929 - epoch_time: 2.0907\n",
            "Epoch 93/500\n",
            "179/179 [==============================] - 3s 19ms/step - loss: 0.0278 - accuracy: 0.9912 - val_loss: 0.0242 - val_accuracy: 0.9921 - epoch_time: 2.7694\n",
            "Epoch 94/500\n",
            "179/179 [==============================] - 3s 15ms/step - loss: 0.0294 - accuracy: 0.9914 - val_loss: 0.0211 - val_accuracy: 0.9945 - epoch_time: 2.4139\n",
            "Epoch 95/500\n",
            "179/179 [==============================] - 2s 13ms/step - loss: 0.0281 - accuracy: 0.9914 - val_loss: 0.0243 - val_accuracy: 0.9909 - epoch_time: 2.1661\n",
            "Epoch 96/500\n",
            "179/179 [==============================] - 2s 13ms/step - loss: 0.0261 - accuracy: 0.9914 - val_loss: 0.0310 - val_accuracy: 0.9917 - epoch_time: 2.1496\n",
            "Epoch 97/500\n",
            "179/179 [==============================] - 2s 12ms/step - loss: 0.0286 - accuracy: 0.9911 - val_loss: 0.0272 - val_accuracy: 0.9929 - epoch_time: 2.0796\n",
            "Epoch 98/500\n",
            "179/179 [==============================] - 3s 15ms/step - loss: 0.0280 - accuracy: 0.9907 - val_loss: 0.0282 - val_accuracy: 0.9925 - epoch_time: 2.5085\n",
            "Epoch 99/500\n",
            "179/179 [==============================] - 3s 16ms/step - loss: 0.0294 - accuracy: 0.9910 - val_loss: 0.0266 - val_accuracy: 0.9933 - epoch_time: 2.7627\n",
            "Epoch 100/500\n",
            "179/179 [==============================] - 2s 12ms/step - loss: 0.0265 - accuracy: 0.9918 - val_loss: 0.0293 - val_accuracy: 0.9917 - epoch_time: 2.1221\n",
            "Epoch 101/500\n",
            "179/179 [==============================] - 2s 12ms/step - loss: 0.0261 - accuracy: 0.9911 - val_loss: 0.0272 - val_accuracy: 0.9921 - epoch_time: 2.1396\n",
            "Epoch 102/500\n",
            "179/179 [==============================] - 2s 14ms/step - loss: 0.0233 - accuracy: 0.9925 - val_loss: 0.0392 - val_accuracy: 0.9901 - epoch_time: 2.3030\n",
            "Epoch 103/500\n",
            "179/179 [==============================] - 3s 17ms/step - loss: 0.0258 - accuracy: 0.9917 - val_loss: 0.0314 - val_accuracy: 0.9921 - epoch_time: 2.9571\n",
            "Epoch 104/500\n",
            "179/179 [==============================] - 3s 17ms/step - loss: 0.0305 - accuracy: 0.9907 - val_loss: 0.0269 - val_accuracy: 0.9913 - epoch_time: 2.8801\n",
            "Epoch 105/500\n",
            "179/179 [==============================] - 2s 13ms/step - loss: 0.0260 - accuracy: 0.9917 - val_loss: 0.0268 - val_accuracy: 0.9921 - epoch_time: 2.2794\n",
            "Epoch 106/500\n",
            "179/179 [==============================] - 2s 12ms/step - loss: 0.0261 - accuracy: 0.9921 - val_loss: 0.0314 - val_accuracy: 0.9917 - epoch_time: 2.0958\n",
            "Epoch 107/500\n",
            "179/179 [==============================] - 2s 12ms/step - loss: 0.0276 - accuracy: 0.9915 - val_loss: 0.0256 - val_accuracy: 0.9929 - epoch_time: 2.0910\n",
            "Epoch 108/500\n",
            "179/179 [==============================] - 2s 12ms/step - loss: 0.0235 - accuracy: 0.9921 - val_loss: 0.0354 - val_accuracy: 0.9913 - epoch_time: 2.0670\n",
            "Epoch 109/500\n",
            "179/179 [==============================] - 2s 13ms/step - loss: 0.0211 - accuracy: 0.9931 - val_loss: 0.0353 - val_accuracy: 0.9893 - epoch_time: 2.2255\n",
            "Epoch 110/500\n",
            "179/179 [==============================] - 3s 16ms/step - loss: 0.0274 - accuracy: 0.9916 - val_loss: 0.0254 - val_accuracy: 0.9917 - epoch_time: 2.8387\n",
            "Epoch 111/500\n",
            "179/179 [==============================] - 2s 12ms/step - loss: 0.0250 - accuracy: 0.9922 - val_loss: 0.0244 - val_accuracy: 0.9929 - epoch_time: 2.1349\n",
            "Epoch 112/500\n",
            "179/179 [==============================] - 2s 12ms/step - loss: 0.0294 - accuracy: 0.9909 - val_loss: 0.0247 - val_accuracy: 0.9937 - epoch_time: 2.0737\n",
            "Epoch 113/500\n",
            "179/179 [==============================] - 2s 12ms/step - loss: 0.0251 - accuracy: 0.9923 - val_loss: 0.0267 - val_accuracy: 0.9909 - epoch_time: 2.0715\n",
            "Epoch 114/500\n",
            "179/179 [==============================] - 2s 12ms/step - loss: 0.0251 - accuracy: 0.9922 - val_loss: 0.0275 - val_accuracy: 0.9929 - epoch_time: 2.1185\n",
            "Epoch 115/500\n",
            "179/179 [==============================] - 3s 14ms/step - loss: 0.0276 - accuracy: 0.9916 - val_loss: 0.0328 - val_accuracy: 0.9901 - epoch_time: 2.3930\n",
            "Epoch 116/500\n",
            "179/179 [==============================] - 3s 17ms/step - loss: 0.0239 - accuracy: 0.9923 - val_loss: 0.0265 - val_accuracy: 0.9917 - epoch_time: 2.8632\n",
            "Epoch 117/500\n",
            "179/179 [==============================] - 2s 12ms/step - loss: 0.0247 - accuracy: 0.9925 - val_loss: 0.0231 - val_accuracy: 0.9929 - epoch_time: 2.0882\n",
            "Epoch 118/500\n",
            "179/179 [==============================] - 2s 12ms/step - loss: 0.0193 - accuracy: 0.9936 - val_loss: 0.0294 - val_accuracy: 0.9913 - epoch_time: 2.0435\n",
            "Epoch 119/500\n",
            "179/179 [==============================] - 2s 12ms/step - loss: 0.0224 - accuracy: 0.9927 - val_loss: 0.0326 - val_accuracy: 0.9921 - epoch_time: 2.1105\n",
            "Epoch 120/500\n",
            "179/179 [==============================] - 2s 12ms/step - loss: 0.0533 - accuracy: 0.9845 - val_loss: 0.0342 - val_accuracy: 0.9905 - epoch_time: 2.1159\n",
            "Epoch 121/500\n",
            "179/179 [==============================] - 3s 15ms/step - loss: 0.0309 - accuracy: 0.9904 - val_loss: 0.0291 - val_accuracy: 0.9921 - epoch_time: 2.5437\n",
            "Epoch 122/500\n",
            "179/179 [==============================] - 3s 16ms/step - loss: 0.0258 - accuracy: 0.9920 - val_loss: 0.0297 - val_accuracy: 0.9925 - epoch_time: 2.6946\n",
            "Epoch 123/500\n",
            "179/179 [==============================] - 2s 12ms/step - loss: 0.0208 - accuracy: 0.9938 - val_loss: 0.0271 - val_accuracy: 0.9901 - epoch_time: 2.1025\n",
            "Epoch 124/500\n",
            "179/179 [==============================] - 2s 12ms/step - loss: 0.0239 - accuracy: 0.9923 - val_loss: 0.0240 - val_accuracy: 0.9929 - epoch_time: 2.0496\n",
            "Epoch 125/500\n",
            "179/179 [==============================] - 2s 12ms/step - loss: 0.0223 - accuracy: 0.9921 - val_loss: 0.0299 - val_accuracy: 0.9917 - epoch_time: 2.0469\n",
            "Epoch 126/500\n",
            "179/179 [==============================] - 2s 12ms/step - loss: 0.0195 - accuracy: 0.9941 - val_loss: 0.0213 - val_accuracy: 0.9933 - epoch_time: 2.0908\n",
            "Epoch 127/500\n",
            "179/179 [==============================] - 3s 15ms/step - loss: 0.0201 - accuracy: 0.9938 - val_loss: 0.0316 - val_accuracy: 0.9937 - epoch_time: 2.6109\n",
            "Epoch 128/500\n",
            "179/179 [==============================] - 3s 15ms/step - loss: 0.0174 - accuracy: 0.9944 - val_loss: 0.0290 - val_accuracy: 0.9941 - epoch_time: 2.5929\n",
            "Epoch 129/500\n",
            "179/179 [==============================] - 2s 12ms/step - loss: 0.0179 - accuracy: 0.9943 - val_loss: 0.0267 - val_accuracy: 0.9913 - epoch_time: 2.0708\n",
            "Epoch 130/500\n",
            "179/179 [==============================] - 2s 12ms/step - loss: 0.0228 - accuracy: 0.9926 - val_loss: 0.0254 - val_accuracy: 0.9933 - epoch_time: 2.0649\n",
            "Epoch 131/500\n",
            "179/179 [==============================] - 2s 12ms/step - loss: 0.0226 - accuracy: 0.9930 - val_loss: 0.0236 - val_accuracy: 0.9913 - epoch_time: 2.0913\n",
            "Epoch 132/500\n",
            "179/179 [==============================] - 2s 13ms/step - loss: 0.0207 - accuracy: 0.9931 - val_loss: 0.0237 - val_accuracy: 0.9937 - epoch_time: 2.1655\n",
            "Epoch 133/500\n",
            "179/179 [==============================] - 3s 16ms/step - loss: 0.0198 - accuracy: 0.9932 - val_loss: 0.0291 - val_accuracy: 0.9921 - epoch_time: 2.8203\n",
            "Epoch 134/500\n",
            "179/179 [==============================] - 3s 15ms/step - loss: 0.0183 - accuracy: 0.9938 - val_loss: 0.0302 - val_accuracy: 0.9921 - epoch_time: 2.5045\n",
            "Epoch 135/500\n",
            "179/179 [==============================] - 2s 12ms/step - loss: 0.0197 - accuracy: 0.9938 - val_loss: 0.0299 - val_accuracy: 0.9921 - epoch_time: 2.0880\n",
            "Epoch 136/500\n",
            "179/179 [==============================] - 2s 12ms/step - loss: 0.0198 - accuracy: 0.9941 - val_loss: 0.0279 - val_accuracy: 0.9929 - epoch_time: 2.1145\n",
            "Epoch 137/500\n",
            "179/179 [==============================] - 2s 12ms/step - loss: 0.0184 - accuracy: 0.9940 - val_loss: 0.0272 - val_accuracy: 0.9937 - epoch_time: 2.0767\n",
            "Epoch 138/500\n",
            "179/179 [==============================] - 2s 12ms/step - loss: 0.0220 - accuracy: 0.9925 - val_loss: 0.0229 - val_accuracy: 0.9917 - epoch_time: 2.0819\n",
            "Epoch 139/500\n",
            "179/179 [==============================] - 3s 17ms/step - loss: 0.0194 - accuracy: 0.9942 - val_loss: 0.0232 - val_accuracy: 0.9925 - epoch_time: 2.8804\n",
            "Epoch 140/500\n",
            "179/179 [==============================] - 2s 13ms/step - loss: 0.0202 - accuracy: 0.9940 - val_loss: 0.0229 - val_accuracy: 0.9929 - epoch_time: 2.2949\n",
            "Epoch 141/500\n",
            "179/179 [==============================] - 2s 12ms/step - loss: 0.0175 - accuracy: 0.9936 - val_loss: 0.0289 - val_accuracy: 0.9921 - epoch_time: 2.1283\n",
            "Epoch 142/500\n",
            "179/179 [==============================] - 2s 12ms/step - loss: 0.0163 - accuracy: 0.9947 - val_loss: 0.0280 - val_accuracy: 0.9925 - epoch_time: 2.1042\n",
            "Epoch 143/500\n",
            "179/179 [==============================] - 2s 12ms/step - loss: 0.0218 - accuracy: 0.9934 - val_loss: 0.0331 - val_accuracy: 0.9917 - epoch_time: 2.0420\n",
            "Epoch 144/500\n",
            "179/179 [==============================] - 2s 13ms/step - loss: 0.0211 - accuracy: 0.9935 - val_loss: 0.0258 - val_accuracy: 0.9921 - epoch_time: 2.1682\n",
            "Epoch 145/500\n",
            "179/179 [==============================] - 3s 16ms/step - loss: 0.0213 - accuracy: 0.9934 - val_loss: 0.0274 - val_accuracy: 0.9929 - epoch_time: 2.8207\n",
            "Epoch 146/500\n",
            "179/179 [==============================] - 3s 14ms/step - loss: 0.0209 - accuracy: 0.9934 - val_loss: 0.0318 - val_accuracy: 0.9913 - epoch_time: 2.4094\n",
            "Epoch 147/500\n",
            "179/179 [==============================] - 2s 12ms/step - loss: 0.0187 - accuracy: 0.9938 - val_loss: 0.0261 - val_accuracy: 0.9925 - epoch_time: 2.1212\n",
            "Epoch 148/500\n",
            "179/179 [==============================] - 2s 12ms/step - loss: 0.0175 - accuracy: 0.9944 - val_loss: 0.0267 - val_accuracy: 0.9937 - epoch_time: 2.1344\n",
            "Epoch 149/500\n",
            "179/179 [==============================] - 2s 12ms/step - loss: 0.0168 - accuracy: 0.9948 - val_loss: 0.0317 - val_accuracy: 0.9929 - epoch_time: 2.0776\n",
            "Epoch 150/500\n",
            "179/179 [==============================] - 2s 14ms/step - loss: 0.0178 - accuracy: 0.9939 - val_loss: 0.0289 - val_accuracy: 0.9925 - epoch_time: 2.3254\n",
            "Epoch 151/500\n",
            "179/179 [==============================] - 3s 18ms/step - loss: 0.0216 - accuracy: 0.9932 - val_loss: 0.0198 - val_accuracy: 0.9937 - epoch_time: 2.7721\n",
            "Epoch 152/500\n",
            "179/179 [==============================] - 2s 13ms/step - loss: 0.0238 - accuracy: 0.9927 - val_loss: 0.0253 - val_accuracy: 0.9937 - epoch_time: 2.1792\n",
            "Epoch 153/500\n",
            "179/179 [==============================] - 2s 12ms/step - loss: 0.0173 - accuracy: 0.9943 - val_loss: 0.0262 - val_accuracy: 0.9921 - epoch_time: 2.0738\n",
            "Epoch 154/500\n",
            "179/179 [==============================] - 2s 12ms/step - loss: 0.0180 - accuracy: 0.9945 - val_loss: 0.0372 - val_accuracy: 0.9921 - epoch_time: 2.1408\n",
            "Epoch 155/500\n",
            "179/179 [==============================] - 2s 12ms/step - loss: 0.0201 - accuracy: 0.9939 - val_loss: 0.0235 - val_accuracy: 0.9925 - epoch_time: 2.0898\n",
            "Epoch 156/500\n",
            "179/179 [==============================] - 3s 14ms/step - loss: 0.0173 - accuracy: 0.9947 - val_loss: 0.0364 - val_accuracy: 0.9901 - epoch_time: 2.4810\n",
            "Epoch 157/500\n",
            "179/179 [==============================] - 3s 16ms/step - loss: 0.0212 - accuracy: 0.9928 - val_loss: 0.0347 - val_accuracy: 0.9917 - epoch_time: 2.7522\n",
            "Epoch 158/500\n",
            "179/179 [==============================] - 2s 12ms/step - loss: 0.0229 - accuracy: 0.9927 - val_loss: 0.0316 - val_accuracy: 0.9929 - epoch_time: 2.1192\n",
            "Epoch 159/500\n",
            "179/179 [==============================] - 2s 12ms/step - loss: 0.0165 - accuracy: 0.9950 - val_loss: 0.0281 - val_accuracy: 0.9925 - epoch_time: 2.1111\n",
            "Epoch 160/500\n",
            "179/179 [==============================] - 2s 12ms/step - loss: 0.0223 - accuracy: 0.9929 - val_loss: 0.0357 - val_accuracy: 0.9933 - epoch_time: 2.0133\n",
            "Epoch 161/500\n",
            "179/179 [==============================] - 2s 13ms/step - loss: 0.0168 - accuracy: 0.9947 - val_loss: 0.0261 - val_accuracy: 0.9941 - epoch_time: 2.1826\n",
            "Epoch 162/500\n",
            "179/179 [==============================] - 3s 16ms/step - loss: 0.0167 - accuracy: 0.9943 - val_loss: 0.0321 - val_accuracy: 0.9925 - epoch_time: 2.7129\n",
            "Epoch 163/500\n",
            "179/179 [==============================] - 3s 15ms/step - loss: 0.0179 - accuracy: 0.9935 - val_loss: 0.0307 - val_accuracy: 0.9929 - epoch_time: 2.6705\n",
            "Epoch 164/500\n",
            "179/179 [==============================] - 2s 13ms/step - loss: 0.0199 - accuracy: 0.9935 - val_loss: 0.0279 - val_accuracy: 0.9937 - epoch_time: 2.1398\n",
            "Epoch 165/500\n",
            "179/179 [==============================] - 2s 12ms/step - loss: 0.0150 - accuracy: 0.9950 - val_loss: 0.0291 - val_accuracy: 0.9905 - epoch_time: 2.1196\n",
            "Epoch 166/500\n",
            "179/179 [==============================] - 2s 13ms/step - loss: 0.0151 - accuracy: 0.9950 - val_loss: 0.0248 - val_accuracy: 0.9933 - epoch_time: 2.1894\n",
            "Epoch 167/500\n",
            "179/179 [==============================] - 2s 13ms/step - loss: 0.0169 - accuracy: 0.9943 - val_loss: 0.0257 - val_accuracy: 0.9933 - epoch_time: 2.1537\n",
            "Epoch 168/500\n",
            "179/179 [==============================] - 3s 16ms/step - loss: 0.0162 - accuracy: 0.9947 - val_loss: 0.0274 - val_accuracy: 0.9909 - epoch_time: 2.8112\n",
            "Epoch 169/500\n",
            "179/179 [==============================] - 3s 14ms/step - loss: 0.0165 - accuracy: 0.9947 - val_loss: 0.0298 - val_accuracy: 0.9925 - epoch_time: 2.5058\n",
            "Epoch 170/500\n",
            "179/179 [==============================] - 2s 13ms/step - loss: 0.0179 - accuracy: 0.9940 - val_loss: 0.0250 - val_accuracy: 0.9933 - epoch_time: 2.2003\n",
            "Epoch 171/500\n",
            "179/179 [==============================] - 2s 12ms/step - loss: 0.0171 - accuracy: 0.9946 - val_loss: 0.0335 - val_accuracy: 0.9913 - epoch_time: 2.0895\n",
            "Epoch 172/500\n",
            "179/179 [==============================] - 3s 15ms/step - loss: 0.0180 - accuracy: 0.9937 - val_loss: 0.0187 - val_accuracy: 0.9933 - epoch_time: 2.0955\n",
            "Epoch 173/500\n",
            "179/179 [==============================] - 3s 15ms/step - loss: 0.0169 - accuracy: 0.9943 - val_loss: 0.0304 - val_accuracy: 0.9913 - epoch_time: 2.5647\n",
            "Epoch 174/500\n",
            "179/179 [==============================] - 3s 18ms/step - loss: 0.0163 - accuracy: 0.9944 - val_loss: 0.0255 - val_accuracy: 0.9929 - epoch_time: 3.1549\n",
            "Epoch 175/500\n",
            "179/179 [==============================] - 2s 14ms/step - loss: 0.0143 - accuracy: 0.9951 - val_loss: 0.0192 - val_accuracy: 0.9941 - epoch_time: 2.3434\n",
            "Epoch 176/500\n",
            "179/179 [==============================] - 2s 13ms/step - loss: 0.0171 - accuracy: 0.9945 - val_loss: 0.0285 - val_accuracy: 0.9929 - epoch_time: 2.2615\n",
            "Epoch 177/500\n",
            "179/179 [==============================] - 2s 13ms/step - loss: 0.0192 - accuracy: 0.9940 - val_loss: 0.0264 - val_accuracy: 0.9949 - epoch_time: 2.2982\n",
            "Epoch 178/500\n",
            "179/179 [==============================] - 3s 14ms/step - loss: 0.0181 - accuracy: 0.9945 - val_loss: 0.0268 - val_accuracy: 0.9925 - epoch_time: 2.4594\n",
            "Epoch 179/500\n",
            "179/179 [==============================] - 3s 19ms/step - loss: 0.0156 - accuracy: 0.9947 - val_loss: 0.0294 - val_accuracy: 0.9933 - epoch_time: 3.2876\n",
            "Epoch 180/500\n",
            "179/179 [==============================] - 3s 15ms/step - loss: 0.0164 - accuracy: 0.9951 - val_loss: 0.0240 - val_accuracy: 0.9929 - epoch_time: 2.6381\n",
            "Epoch 181/500\n",
            "179/179 [==============================] - 2s 13ms/step - loss: 0.0142 - accuracy: 0.9957 - val_loss: 0.0258 - val_accuracy: 0.9933 - epoch_time: 2.3056\n",
            "Epoch 182/500\n",
            "179/179 [==============================] - 2s 13ms/step - loss: 0.0142 - accuracy: 0.9953 - val_loss: 0.0301 - val_accuracy: 0.9929 - epoch_time: 2.2422\n",
            "Epoch 183/500\n",
            "179/179 [==============================] - 2s 13ms/step - loss: 0.0163 - accuracy: 0.9946 - val_loss: 0.0281 - val_accuracy: 0.9921 - epoch_time: 2.2575\n",
            "Epoch 184/500\n",
            "179/179 [==============================] - 3s 15ms/step - loss: 0.0180 - accuracy: 0.9941 - val_loss: 0.0367 - val_accuracy: 0.9917 - epoch_time: 2.6285\n",
            "Epoch 185/500\n",
            "179/179 [==============================] - 3s 16ms/step - loss: 0.0151 - accuracy: 0.9944 - val_loss: 0.0301 - val_accuracy: 0.9921 - epoch_time: 2.8474\n",
            "Epoch 186/500\n",
            "179/179 [==============================] - 2s 12ms/step - loss: 0.0181 - accuracy: 0.9947 - val_loss: 0.0273 - val_accuracy: 0.9937 - epoch_time: 2.1420\n",
            "Epoch 187/500\n",
            "179/179 [==============================] - 2s 12ms/step - loss: 0.0145 - accuracy: 0.9948 - val_loss: 0.0255 - val_accuracy: 0.9937 - epoch_time: 2.1458\n",
            "Epoch 188/500\n",
            "179/179 [==============================] - 2s 13ms/step - loss: 0.0155 - accuracy: 0.9953 - val_loss: 0.0273 - val_accuracy: 0.9921 - epoch_time: 2.2313\n",
            "Epoch 189/500\n",
            "179/179 [==============================] - 2s 13ms/step - loss: 0.0164 - accuracy: 0.9951 - val_loss: 0.0236 - val_accuracy: 0.9933 - epoch_time: 2.2138\n",
            "Epoch 190/500\n",
            "179/179 [==============================] - 3s 16ms/step - loss: 0.0157 - accuracy: 0.9951 - val_loss: 0.0320 - val_accuracy: 0.9909 - epoch_time: 2.7465\n",
            "Epoch 191/500\n",
            "179/179 [==============================] - 3s 15ms/step - loss: 0.0175 - accuracy: 0.9939 - val_loss: 0.0248 - val_accuracy: 0.9925 - epoch_time: 2.6196\n",
            "Epoch 192/500\n",
            "179/179 [==============================] - 2s 13ms/step - loss: 0.0161 - accuracy: 0.9948 - val_loss: 0.0244 - val_accuracy: 0.9917 - epoch_time: 2.1657\n",
            "Epoch 193/500\n",
            "179/179 [==============================] - 2s 13ms/step - loss: 0.0172 - accuracy: 0.9943 - val_loss: 0.0212 - val_accuracy: 0.9937 - epoch_time: 2.2661\n",
            "Epoch 194/500\n",
            "179/179 [==============================] - 2s 13ms/step - loss: 0.0161 - accuracy: 0.9950 - val_loss: 0.0257 - val_accuracy: 0.9949 - epoch_time: 2.2309\n",
            "Epoch 195/500\n",
            "179/179 [==============================] - 2s 13ms/step - loss: 0.0130 - accuracy: 0.9957 - val_loss: 0.0253 - val_accuracy: 0.9933 - epoch_time: 2.1636\n",
            "Epoch 196/500\n",
            "179/179 [==============================] - 3s 17ms/step - loss: 0.0155 - accuracy: 0.9951 - val_loss: 0.0298 - val_accuracy: 0.9945 - epoch_time: 2.8948\n",
            "Epoch 197/500\n",
            "179/179 [==============================] - 3s 14ms/step - loss: 0.0159 - accuracy: 0.9950 - val_loss: 0.0235 - val_accuracy: 0.9941 - epoch_time: 2.4404\n",
            "Epoch 198/500\n",
            "179/179 [==============================] - 2s 13ms/step - loss: 0.0153 - accuracy: 0.9954 - val_loss: 0.0259 - val_accuracy: 0.9937 - epoch_time: 2.1528\n",
            "Epoch 199/500\n",
            "179/179 [==============================] - 2s 13ms/step - loss: 0.0142 - accuracy: 0.9957 - val_loss: 0.0247 - val_accuracy: 0.9937 - epoch_time: 2.1644\n",
            "Epoch 200/500\n",
            "179/179 [==============================] - 2s 13ms/step - loss: 0.0116 - accuracy: 0.9961 - val_loss: 0.0312 - val_accuracy: 0.9909 - epoch_time: 2.1733\n",
            "Epoch 201/500\n",
            "179/179 [==============================] - 2s 14ms/step - loss: 0.0165 - accuracy: 0.9943 - val_loss: 0.0297 - val_accuracy: 0.9937 - epoch_time: 2.3939\n",
            "Epoch 202/500\n",
            "179/179 [==============================] - 3s 17ms/step - loss: 0.0145 - accuracy: 0.9960 - val_loss: 0.0261 - val_accuracy: 0.9949 - epoch_time: 3.0182\n",
            "Epoch 203/500\n",
            "179/179 [==============================] - 2s 13ms/step - loss: 0.0163 - accuracy: 0.9950 - val_loss: 0.0268 - val_accuracy: 0.9937 - epoch_time: 2.3178\n",
            "Epoch 204/500\n",
            "179/179 [==============================] - 2s 13ms/step - loss: 0.0147 - accuracy: 0.9953 - val_loss: 0.0275 - val_accuracy: 0.9925 - epoch_time: 2.1870\n",
            "Epoch 205/500\n",
            "179/179 [==============================] - 2s 13ms/step - loss: 0.0114 - accuracy: 0.9964 - val_loss: 0.0269 - val_accuracy: 0.9921 - epoch_time: 2.2721\n",
            "Epoch 206/500\n",
            "179/179 [==============================] - 3s 14ms/step - loss: 0.0132 - accuracy: 0.9959 - val_loss: 0.0299 - val_accuracy: 0.9929 - epoch_time: 2.4781\n",
            "Epoch 207/500\n",
            "179/179 [==============================] - 3s 17ms/step - loss: 0.0161 - accuracy: 0.9946 - val_loss: 0.0304 - val_accuracy: 0.9933 - epoch_time: 2.9067\n",
            "Epoch 208/500\n",
            "179/179 [==============================] - 3s 17ms/step - loss: 0.0128 - accuracy: 0.9959 - val_loss: 0.0257 - val_accuracy: 0.9945 - epoch_time: 2.9666\n",
            "Epoch 209/500\n",
            "179/179 [==============================] - 2s 13ms/step - loss: 0.0131 - accuracy: 0.9957 - val_loss: 0.0339 - val_accuracy: 0.9925 - epoch_time: 2.2511\n",
            "Epoch 210/500\n",
            "179/179 [==============================] - 2s 14ms/step - loss: 0.0169 - accuracy: 0.9948 - val_loss: 0.0312 - val_accuracy: 0.9925 - epoch_time: 2.3312\n",
            "Epoch 211/500\n",
            "179/179 [==============================] - 2s 14ms/step - loss: 0.0133 - accuracy: 0.9961 - val_loss: 0.0307 - val_accuracy: 0.9925 - epoch_time: 2.3720\n",
            "Epoch 212/500\n",
            "179/179 [==============================] - 3s 17ms/step - loss: 0.0146 - accuracy: 0.9950 - val_loss: 0.0270 - val_accuracy: 0.9941 - epoch_time: 2.8383\n",
            "Epoch 213/500\n",
            "179/179 [==============================] - 4s 22ms/step - loss: 0.0131 - accuracy: 0.9959 - val_loss: 0.0297 - val_accuracy: 0.9937 - epoch_time: 3.8405\n",
            "Epoch 214/500\n",
            "179/179 [==============================] - 3s 19ms/step - loss: 0.0159 - accuracy: 0.9952 - val_loss: 0.0261 - val_accuracy: 0.9937 - epoch_time: 3.3383\n",
            "Epoch 215/500\n",
            "179/179 [==============================] - 3s 14ms/step - loss: 0.0133 - accuracy: 0.9960 - val_loss: 0.0231 - val_accuracy: 0.9941 - epoch_time: 2.4519\n",
            "Epoch 216/500\n",
            "179/179 [==============================] - 2s 13ms/step - loss: 0.0145 - accuracy: 0.9956 - val_loss: 0.0217 - val_accuracy: 0.9945 - epoch_time: 2.2948\n",
            "Epoch 217/500\n",
            "179/179 [==============================] - 2s 13ms/step - loss: 0.0174 - accuracy: 0.9939 - val_loss: 0.0287 - val_accuracy: 0.9925 - epoch_time: 2.2984\n",
            "Epoch 218/500\n",
            "179/179 [==============================] - 3s 15ms/step - loss: 0.0147 - accuracy: 0.9950 - val_loss: 0.0238 - val_accuracy: 0.9933 - epoch_time: 2.6176\n",
            "Epoch 219/500\n",
            "179/179 [==============================] - 3s 17ms/step - loss: 0.0121 - accuracy: 0.9961 - val_loss: 0.0286 - val_accuracy: 0.9933 - epoch_time: 3.0366\n",
            "Epoch 220/500\n",
            "179/179 [==============================] - 2s 14ms/step - loss: 0.0133 - accuracy: 0.9957 - val_loss: 0.0297 - val_accuracy: 0.9929 - epoch_time: 2.3904\n",
            "Epoch 221/500\n",
            "179/179 [==============================] - 2s 14ms/step - loss: 0.0137 - accuracy: 0.9958 - val_loss: 0.0250 - val_accuracy: 0.9937 - epoch_time: 2.3377\n",
            "Epoch 222/500\n",
            "179/179 [==============================] - 2s 13ms/step - loss: 0.0129 - accuracy: 0.9961 - val_loss: 0.0281 - val_accuracy: 0.9941 - epoch_time: 2.3085\n",
            "Epoch 223/500\n",
            "179/179 [==============================] - 2s 13ms/step - loss: 0.0164 - accuracy: 0.9948 - val_loss: 0.0302 - val_accuracy: 0.9913 - epoch_time: 2.2847\n",
            "Epoch 224/500\n",
            "179/179 [==============================] - 3s 18ms/step - loss: 0.0173 - accuracy: 0.9943 - val_loss: 0.0236 - val_accuracy: 0.9933 - epoch_time: 3.1259\n",
            "Epoch 225/500\n",
            "179/179 [==============================] - 3s 15ms/step - loss: 0.0133 - accuracy: 0.9953 - val_loss: 0.0244 - val_accuracy: 0.9945 - epoch_time: 2.6157\n",
            "Epoch 226/500\n",
            "179/179 [==============================] - 3s 14ms/step - loss: 0.0146 - accuracy: 0.9952 - val_loss: 0.0272 - val_accuracy: 0.9929 - epoch_time: 2.4590\n",
            "Epoch 227/500\n",
            "179/179 [==============================] - 2s 14ms/step - loss: 0.0154 - accuracy: 0.9951 - val_loss: 0.0286 - val_accuracy: 0.9933 - epoch_time: 2.3609\n",
            "Epoch 228/500\n",
            "179/179 [==============================] - 2s 14ms/step - loss: 0.0117 - accuracy: 0.9959 - val_loss: 0.0289 - val_accuracy: 0.9929 - epoch_time: 2.3751\n",
            "Epoch 229/500\n",
            "179/179 [==============================] - 3s 17ms/step - loss: 0.0148 - accuracy: 0.9954 - val_loss: 0.0222 - val_accuracy: 0.9933 - epoch_time: 2.9023\n",
            "Epoch 230/500\n",
            "179/179 [==============================] - 3s 17ms/step - loss: 0.0146 - accuracy: 0.9955 - val_loss: 0.0252 - val_accuracy: 0.9929 - epoch_time: 2.9273\n",
            "Epoch 231/500\n",
            "179/179 [==============================] - 2s 14ms/step - loss: 0.0144 - accuracy: 0.9954 - val_loss: 0.0220 - val_accuracy: 0.9937 - epoch_time: 2.3256\n",
            "Epoch 232/500\n",
            "179/179 [==============================] - 2s 14ms/step - loss: 0.0123 - accuracy: 0.9962 - val_loss: 0.0248 - val_accuracy: 0.9933 - epoch_time: 2.3972\n",
            "Epoch 233/500\n",
            "179/179 [==============================] - 2s 14ms/step - loss: 0.0122 - accuracy: 0.9960 - val_loss: 0.0269 - val_accuracy: 0.9941 - epoch_time: 2.3809\n",
            "Epoch 234/500\n",
            "179/179 [==============================] - 3s 15ms/step - loss: 0.0136 - accuracy: 0.9955 - val_loss: 0.0307 - val_accuracy: 0.9933 - epoch_time: 2.5434\n",
            "Epoch 235/500\n",
            "179/179 [==============================] - 3s 18ms/step - loss: 0.0133 - accuracy: 0.9957 - val_loss: 0.0366 - val_accuracy: 0.9933 - epoch_time: 3.1369\n",
            "Epoch 236/500\n",
            "179/179 [==============================] - 3s 14ms/step - loss: 0.0143 - accuracy: 0.9951 - val_loss: 0.0275 - val_accuracy: 0.9921 - epoch_time: 2.4563\n",
            "Epoch 237/500\n",
            "179/179 [==============================] - 2s 14ms/step - loss: 0.0103 - accuracy: 0.9966 - val_loss: 0.0324 - val_accuracy: 0.9929 - epoch_time: 2.3360\n",
            "Epoch 238/500\n",
            "179/179 [==============================] - 3s 15ms/step - loss: 0.0158 - accuracy: 0.9950 - val_loss: 0.0262 - val_accuracy: 0.9925 - epoch_time: 2.6031\n",
            "Epoch 239/500\n",
            "179/179 [==============================] - 2s 14ms/step - loss: 0.0124 - accuracy: 0.9962 - val_loss: 0.0337 - val_accuracy: 0.9925 - epoch_time: 2.3773\n",
            "Epoch 240/500\n",
            "179/179 [==============================] - 3s 18ms/step - loss: 0.0135 - accuracy: 0.9956 - val_loss: 0.0319 - val_accuracy: 0.9921 - epoch_time: 3.0794\n",
            "Epoch 241/500\n",
            "179/179 [==============================] - 3s 16ms/step - loss: 0.0120 - accuracy: 0.9964 - val_loss: 0.0272 - val_accuracy: 0.9921 - epoch_time: 2.6879\n",
            "Epoch 242/500\n",
            "179/179 [==============================] - 3s 14ms/step - loss: 0.0110 - accuracy: 0.9961 - val_loss: 0.0389 - val_accuracy: 0.9933 - epoch_time: 2.4066\n",
            "Epoch 243/500\n",
            "179/179 [==============================] - 2s 14ms/step - loss: 0.0104 - accuracy: 0.9966 - val_loss: 0.0256 - val_accuracy: 0.9921 - epoch_time: 2.3897\n",
            "Epoch 244/500\n",
            "179/179 [==============================] - 2s 14ms/step - loss: 0.0125 - accuracy: 0.9966 - val_loss: 0.0298 - val_accuracy: 0.9929 - epoch_time: 2.3973\n",
            "Epoch 245/500\n",
            "179/179 [==============================] - 3s 17ms/step - loss: 0.0126 - accuracy: 0.9962 - val_loss: 0.0343 - val_accuracy: 0.9921 - epoch_time: 2.8719\n",
            "Epoch 246/500\n",
            "179/179 [==============================] - 3s 18ms/step - loss: 0.0130 - accuracy: 0.9957 - val_loss: 0.0302 - val_accuracy: 0.9941 - epoch_time: 3.1172\n",
            "Epoch 247/500\n",
            "179/179 [==============================] - 3s 14ms/step - loss: 0.0122 - accuracy: 0.9960 - val_loss: 0.0283 - val_accuracy: 0.9917 - epoch_time: 2.3923\n",
            "Epoch 248/500\n",
            "179/179 [==============================] - 3s 15ms/step - loss: 0.0120 - accuracy: 0.9957 - val_loss: 0.0263 - val_accuracy: 0.9933 - epoch_time: 2.5352\n",
            "Epoch 249/500\n",
            "179/179 [==============================] - 3s 15ms/step - loss: 0.0124 - accuracy: 0.9960 - val_loss: 0.0446 - val_accuracy: 0.9913 - epoch_time: 2.5420\n",
            "Epoch 250/500\n",
            "179/179 [==============================] - 3s 16ms/step - loss: 0.0143 - accuracy: 0.9958 - val_loss: 0.0211 - val_accuracy: 0.9945 - epoch_time: 2.6911\n",
            "Epoch 251/500\n",
            "179/179 [==============================] - 3s 18ms/step - loss: 0.0128 - accuracy: 0.9957 - val_loss: 0.0257 - val_accuracy: 0.9933 - epoch_time: 3.0174\n",
            "Epoch 252/500\n",
            "179/179 [==============================] - 3s 14ms/step - loss: 0.0099 - accuracy: 0.9968 - val_loss: 0.0263 - val_accuracy: 0.9933 - epoch_time: 2.4504\n",
            "Epoch 253/500\n",
            "179/179 [==============================] - 2s 13ms/step - loss: 0.0118 - accuracy: 0.9960 - val_loss: 0.0311 - val_accuracy: 0.9925 - epoch_time: 2.2810\n",
            "Epoch 254/500\n",
            "179/179 [==============================] - 2s 14ms/step - loss: 0.0145 - accuracy: 0.9953 - val_loss: 0.0220 - val_accuracy: 0.9937 - epoch_time: 2.3728\n",
            "Epoch 255/500\n",
            "179/179 [==============================] - 2s 13ms/step - loss: 0.0108 - accuracy: 0.9967 - val_loss: 0.0245 - val_accuracy: 0.9925 - epoch_time: 2.3348\n",
            "Epoch 256/500\n",
            "179/179 [==============================] - 3s 17ms/step - loss: 0.0118 - accuracy: 0.9964 - val_loss: 0.0203 - val_accuracy: 0.9933 - epoch_time: 2.8542\n",
            "Epoch 257/500\n",
            "179/179 [==============================] - 3s 16ms/step - loss: 0.0118 - accuracy: 0.9960 - val_loss: 0.0291 - val_accuracy: 0.9917 - epoch_time: 2.7845\n",
            "Epoch 258/500\n",
            "179/179 [==============================] - 2s 13ms/step - loss: 0.0126 - accuracy: 0.9956 - val_loss: 0.0347 - val_accuracy: 0.9917 - epoch_time: 2.2783\n",
            "Epoch 259/500\n",
            "179/179 [==============================] - 3s 14ms/step - loss: 0.0126 - accuracy: 0.9961 - val_loss: 0.0262 - val_accuracy: 0.9929 - epoch_time: 2.4062\n",
            "Epoch 260/500\n",
            "179/179 [==============================] - 3s 14ms/step - loss: 0.0124 - accuracy: 0.9964 - val_loss: 0.0214 - val_accuracy: 0.9941 - epoch_time: 2.4390\n",
            "Epoch 261/500\n",
            "179/179 [==============================] - 3s 16ms/step - loss: 0.0121 - accuracy: 0.9961 - val_loss: 0.0320 - val_accuracy: 0.9929 - epoch_time: 2.6697\n",
            "Epoch 262/500\n",
            "179/179 [==============================] - 3s 18ms/step - loss: 0.0139 - accuracy: 0.9960 - val_loss: 0.0263 - val_accuracy: 0.9929 - epoch_time: 3.1980\n",
            "Epoch 263/500\n",
            "179/179 [==============================] - 3s 15ms/step - loss: 0.0127 - accuracy: 0.9962 - val_loss: 0.0212 - val_accuracy: 0.9921 - epoch_time: 2.5757\n",
            "Epoch 264/500\n",
            "179/179 [==============================] - 3s 14ms/step - loss: 0.0116 - accuracy: 0.9961 - val_loss: 0.0217 - val_accuracy: 0.9933 - epoch_time: 2.4018\n",
            "Epoch 265/500\n",
            "179/179 [==============================] - 3s 14ms/step - loss: 0.0123 - accuracy: 0.9958 - val_loss: 0.0286 - val_accuracy: 0.9929 - epoch_time: 2.4553\n",
            "Epoch 266/500\n",
            "179/179 [==============================] - 3s 15ms/step - loss: 0.0105 - accuracy: 0.9968 - val_loss: 0.0308 - val_accuracy: 0.9929 - epoch_time: 2.4824\n",
            "Epoch 267/500\n",
            "179/179 [==============================] - 3s 18ms/step - loss: 0.0118 - accuracy: 0.9964 - val_loss: 0.0344 - val_accuracy: 0.9929 - epoch_time: 3.1487\n",
            "Epoch 268/500\n",
            "179/179 [==============================] - 3s 17ms/step - loss: 0.0134 - accuracy: 0.9960 - val_loss: 0.0269 - val_accuracy: 0.9929 - epoch_time: 2.8464\n",
            "Epoch 269/500\n",
            "179/179 [==============================] - 3s 14ms/step - loss: 0.0121 - accuracy: 0.9961 - val_loss: 0.0269 - val_accuracy: 0.9929 - epoch_time: 2.4576\n",
            "Epoch 270/500\n",
            "179/179 [==============================] - 3s 14ms/step - loss: 0.0099 - accuracy: 0.9968 - val_loss: 0.0255 - val_accuracy: 0.9937 - epoch_time: 2.4287\n",
            "Epoch 271/500\n",
            "179/179 [==============================] - 3s 14ms/step - loss: 0.0100 - accuracy: 0.9965 - val_loss: 0.0280 - val_accuracy: 0.9913 - epoch_time: 2.4789\n",
            "Epoch 272/500\n",
            "179/179 [==============================] - 3s 17ms/step - loss: 0.0114 - accuracy: 0.9968 - val_loss: 0.0224 - val_accuracy: 0.9929 - epoch_time: 3.0002\n",
            "Epoch 273/500\n",
            "179/179 [==============================] - 3s 17ms/step - loss: 0.0115 - accuracy: 0.9968 - val_loss: 0.0282 - val_accuracy: 0.9933 - epoch_time: 2.9596\n",
            "Epoch 274/500\n",
            "179/179 [==============================] - 3s 14ms/step - loss: 0.0150 - accuracy: 0.9956 - val_loss: 0.0266 - val_accuracy: 0.9933 - epoch_time: 2.4148\n",
            "Epoch 275/500\n",
            "179/179 [==============================] - 2s 14ms/step - loss: 0.0104 - accuracy: 0.9963 - val_loss: 0.0236 - val_accuracy: 0.9949 - epoch_time: 2.3513\n",
            "Epoch 276/500\n",
            "179/179 [==============================] - 3s 14ms/step - loss: 0.0107 - accuracy: 0.9966 - val_loss: 0.0282 - val_accuracy: 0.9917 - epoch_time: 2.4093\n",
            "Epoch 277/500\n",
            "179/179 [==============================] - 3s 16ms/step - loss: 0.0145 - accuracy: 0.9955 - val_loss: 0.0231 - val_accuracy: 0.9949 - epoch_time: 2.7336\n"
          ]
        }
      ],
      "source": [
        "sensor = \"sensor1\"\n",
        "time_callback = TimeHistory()\n",
        "model_sensor1 = creatModel()\n",
        "model_save, checkpoint, history_cb, Estop = setCallbacks(\"sensor1\")\n",
        "history_sensor1 = model_sensor1.fit(X_train_sensor1, y_train_sensor1,\n",
        "                                    batch_size = 128, epochs = 500,\n",
        "                                    validation_split = 0.1,\n",
        "                                    verbose = 1,\n",
        "                                    callbacks = [time_callback, model_save, checkpoint, history_cb, Estop])\n",
        "                                    # class_weight= class_weights)#\n"
      ]
    },
    {
      "cell_type": "code",
      "execution_count": null,
      "metadata": {
        "colab": {
          "base_uri": "https://localhost:8080/"
        },
        "id": "sgiNWkr6oVcq",
        "outputId": "21799d36-ecfa-4c69-df41-cc1c29d05940"
      },
      "outputs": [
        {
          "output_type": "stream",
          "name": "stdout",
          "text": [
            "Model: \"sequential\"\n",
            "_________________________________________________________________\n",
            " Layer (type)                Output Shape              Param #   \n",
            "=================================================================\n",
            " conv1d (Conv1D)             (None, 10, 40)            400       \n",
            "                                                                 \n",
            " dropout (Dropout)           (None, 10, 40)            0         \n",
            "                                                                 \n",
            " conv1d_1 (Conv1D)           (None, 10, 60)            7260      \n",
            "                                                                 \n",
            " dropout_1 (Dropout)         (None, 10, 60)            0         \n",
            "                                                                 \n",
            " conv1d_2 (Conv1D)           (None, 10, 60)            10860     \n",
            "                                                                 \n",
            " dropout_2 (Dropout)         (None, 10, 60)            0         \n",
            "                                                                 \n",
            " global_max_pooling1d (Globa  (None, 60)               0         \n",
            " lMaxPooling1D)                                                  \n",
            "                                                                 \n",
            " repeat_vector (RepeatVector  (None, 10, 60)           0         \n",
            " )                                                               \n",
            "                                                                 \n",
            " lstm (LSTM)                 (None, 10, 256)           324608    \n",
            "                                                                 \n",
            " dropout_3 (Dropout)         (None, 10, 256)           0         \n",
            "                                                                 \n",
            " lstm_1 (LSTM)               (None, 10, 128)           197120    \n",
            "                                                                 \n",
            " dropout_4 (Dropout)         (None, 10, 128)           0         \n",
            "                                                                 \n",
            " lstm_2 (LSTM)               (None, 64)                49408     \n",
            "                                                                 \n",
            " dropout_5 (Dropout)         (None, 64)                0         \n",
            "                                                                 \n",
            " dense (Dense)               (None, 32)                2080      \n",
            "                                                                 \n",
            " dense_1 (Dense)             (None, 16)                528       \n",
            "                                                                 \n",
            " dense_2 (Dense)             (None, 2)                 34        \n",
            "                                                                 \n",
            "=================================================================\n",
            "Total params: 592,298\n",
            "Trainable params: 592,298\n",
            "Non-trainable params: 0\n",
            "_________________________________________________________________\n",
            "None\n"
          ]
        }
      ],
      "source": [
        "print(model_sensor1.summary())"
      ]
    },
    {
      "cell_type": "code",
      "execution_count": null,
      "metadata": {
        "colab": {
          "base_uri": "https://localhost:8080/",
          "height": 1000
        },
        "id": "rWZpn8SyoZo6",
        "outputId": "afc540ac-4cca-4edd-a300-de4680cfe9cb"
      },
      "outputs": [
        {
          "output_type": "execute_result",
          "data": {
            "image/png": "[encoded data removed]",
            "text/plain": [
              "<IPython.core.display.Image object>"
            ]
          },
          "metadata": {},
          "execution_count": 48
        }
      ],
      "source": [
        "plot_model(model= model_sensor1, show_shapes= True, dpi=50)"
      ]
    },
    {
      "cell_type": "code",
      "execution_count": null,
      "metadata": {
        "colab": {
          "base_uri": "https://localhost:8080/"
        },
        "id": "8f2f6m1IAR7A",
        "outputId": "5ad2a112-ea08-4909-e72d-7251378803c9"
      },
      "outputs": [
        {
          "output_type": "stream",
          "name": "stdout",
          "text": [
            "Epoch 1/500\n",
            "179/179 [==============================] - 9s 19ms/step - loss: 0.4053 - accuracy: 0.8597 - val_loss: 0.3037 - val_accuracy: 0.9080 - epoch_time: 9.0618\n",
            "Epoch 2/500\n",
            "179/179 [==============================] - 2s 13ms/step - loss: 0.2940 - accuracy: 0.9061 - val_loss: 0.2739 - val_accuracy: 0.9187 - epoch_time: 2.1981\n",
            "Epoch 3/500\n",
            "179/179 [==============================] - 3s 18ms/step - loss: 0.2465 - accuracy: 0.9195 - val_loss: 0.2117 - val_accuracy: 0.9337 - epoch_time: 2.9329\n",
            "Epoch 4/500\n",
            "179/179 [==============================] - 3s 15ms/step - loss: 0.2175 - accuracy: 0.9317 - val_loss: 0.1856 - val_accuracy: 0.9487 - epoch_time: 2.5831\n",
            "Epoch 5/500\n",
            "179/179 [==============================] - 2s 14ms/step - loss: 0.1916 - accuracy: 0.9403 - val_loss: 0.1780 - val_accuracy: 0.9507 - epoch_time: 2.2683\n",
            "Epoch 6/500\n",
            "179/179 [==============================] - 2s 14ms/step - loss: 0.1786 - accuracy: 0.9468 - val_loss: 0.1550 - val_accuracy: 0.9550 - epoch_time: 2.2467\n",
            "Epoch 7/500\n",
            "179/179 [==============================] - 2s 14ms/step - loss: 0.1697 - accuracy: 0.9499 - val_loss: 0.1469 - val_accuracy: 0.9582 - epoch_time: 2.2312\n",
            "Epoch 8/500\n",
            "179/179 [==============================] - 3s 17ms/step - loss: 0.1582 - accuracy: 0.9541 - val_loss: 0.1459 - val_accuracy: 0.9585 - epoch_time: 2.7806\n",
            "Epoch 9/500\n",
            "179/179 [==============================] - 3s 17ms/step - loss: 0.1459 - accuracy: 0.9579 - val_loss: 0.1409 - val_accuracy: 0.9593 - epoch_time: 2.8459\n",
            "Epoch 10/500\n",
            "179/179 [==============================] - 2s 14ms/step - loss: 0.1430 - accuracy: 0.9581 - val_loss: 0.1403 - val_accuracy: 0.9585 - epoch_time: 2.2941\n",
            "Epoch 11/500\n",
            "179/179 [==============================] - 2s 13ms/step - loss: 0.1403 - accuracy: 0.9604 - val_loss: 0.1278 - val_accuracy: 0.9637 - epoch_time: 2.2087\n",
            "Epoch 12/500\n",
            "179/179 [==============================] - 2s 13ms/step - loss: 0.1355 - accuracy: 0.9607 - val_loss: 0.1281 - val_accuracy: 0.9649 - epoch_time: 2.2143\n",
            "Epoch 13/500\n",
            "179/179 [==============================] - 3s 15ms/step - loss: 0.1334 - accuracy: 0.9609 - val_loss: 0.1236 - val_accuracy: 0.9664 - epoch_time: 2.3757\n",
            "Epoch 14/500\n",
            "179/179 [==============================] - 3s 18ms/step - loss: 0.1296 - accuracy: 0.9637 - val_loss: 0.1214 - val_accuracy: 0.9653 - epoch_time: 3.0677\n",
            "Epoch 15/500\n",
            "179/179 [==============================] - 2s 13ms/step - loss: 0.1363 - accuracy: 0.9610 - val_loss: 0.1198 - val_accuracy: 0.9668 - epoch_time: 2.1314\n",
            "Epoch 16/500\n",
            "179/179 [==============================] - 2s 13ms/step - loss: 0.1279 - accuracy: 0.9636 - val_loss: 0.1145 - val_accuracy: 0.9688 - epoch_time: 2.1101\n",
            "Epoch 17/500\n",
            "179/179 [==============================] - 2s 13ms/step - loss: 0.1238 - accuracy: 0.9649 - val_loss: 0.1146 - val_accuracy: 0.9660 - epoch_time: 2.2273\n",
            "Epoch 18/500\n",
            "179/179 [==============================] - 2s 13ms/step - loss: 0.1187 - accuracy: 0.9659 - val_loss: 0.1129 - val_accuracy: 0.9692 - epoch_time: 2.2055\n",
            "Epoch 19/500\n",
            "179/179 [==============================] - 3s 16ms/step - loss: 0.1197 - accuracy: 0.9656 - val_loss: 0.1122 - val_accuracy: 0.9668 - epoch_time: 2.6980\n",
            "Epoch 20/500\n",
            "179/179 [==============================] - 3s 15ms/step - loss: 0.1188 - accuracy: 0.9662 - val_loss: 0.1153 - val_accuracy: 0.9676 - epoch_time: 2.5226\n",
            "Epoch 21/500\n",
            "179/179 [==============================] - 2s 13ms/step - loss: 0.1170 - accuracy: 0.9665 - val_loss: 0.1059 - val_accuracy: 0.9688 - epoch_time: 2.1553\n",
            "Epoch 22/500\n",
            "179/179 [==============================] - 2s 12ms/step - loss: 0.1156 - accuracy: 0.9670 - val_loss: 0.1134 - val_accuracy: 0.9692 - epoch_time: 2.1321\n",
            "Epoch 23/500\n",
            "179/179 [==============================] - 2s 13ms/step - loss: 0.1145 - accuracy: 0.9672 - val_loss: 0.1127 - val_accuracy: 0.9680 - epoch_time: 2.1611\n",
            "Epoch 24/500\n",
            "179/179 [==============================] - 2s 13ms/step - loss: 0.1102 - accuracy: 0.9691 - val_loss: 0.1069 - val_accuracy: 0.9696 - epoch_time: 2.1912\n",
            "Epoch 25/500\n",
            "179/179 [==============================] - 3s 17ms/step - loss: 0.1320 - accuracy: 0.9618 - val_loss: 0.1206 - val_accuracy: 0.9672 - epoch_time: 3.0193\n",
            "Epoch 26/500\n",
            "179/179 [==============================] - 3s 15ms/step - loss: 0.1244 - accuracy: 0.9638 - val_loss: 0.1146 - val_accuracy: 0.9672 - epoch_time: 2.5502\n",
            "Epoch 27/500\n",
            "179/179 [==============================] - 3s 16ms/step - loss: 0.1182 - accuracy: 0.9660 - val_loss: 0.1042 - val_accuracy: 0.9716 - epoch_time: 2.2104\n",
            "Epoch 28/500\n",
            "179/179 [==============================] - 2s 12ms/step - loss: 0.1089 - accuracy: 0.9684 - val_loss: 0.1102 - val_accuracy: 0.9700 - epoch_time: 2.1197\n",
            "Epoch 29/500\n",
            "179/179 [==============================] - 3s 15ms/step - loss: 0.1081 - accuracy: 0.9689 - val_loss: 0.1038 - val_accuracy: 0.9735 - epoch_time: 2.5477\n",
            "Epoch 30/500\n",
            "179/179 [==============================] - 4s 20ms/step - loss: 0.1006 - accuracy: 0.9718 - val_loss: 0.0982 - val_accuracy: 0.9728 - epoch_time: 3.3944\n",
            "Epoch 31/500\n",
            "179/179 [==============================] - 3s 17ms/step - loss: 0.1025 - accuracy: 0.9703 - val_loss: 0.0943 - val_accuracy: 0.9739 - epoch_time: 2.8991\n",
            "Epoch 32/500\n",
            "179/179 [==============================] - 3s 15ms/step - loss: 0.0973 - accuracy: 0.9710 - val_loss: 0.0916 - val_accuracy: 0.9775 - epoch_time: 2.5277\n",
            "Epoch 33/500\n",
            "179/179 [==============================] - 2s 13ms/step - loss: 0.0980 - accuracy: 0.9712 - val_loss: 0.0918 - val_accuracy: 0.9724 - epoch_time: 2.2217\n",
            "Epoch 34/500\n",
            "179/179 [==============================] - 3s 17ms/step - loss: 0.0957 - accuracy: 0.9726 - val_loss: 0.0992 - val_accuracy: 0.9728 - epoch_time: 2.8802\n",
            "Epoch 35/500\n",
            "179/179 [==============================] - 4s 20ms/step - loss: 0.0968 - accuracy: 0.9717 - val_loss: 0.0890 - val_accuracy: 0.9759 - epoch_time: 3.3284\n",
            "Epoch 36/500\n",
            "179/179 [==============================] - 3s 15ms/step - loss: 0.0913 - accuracy: 0.9738 - val_loss: 0.0946 - val_accuracy: 0.9716 - epoch_time: 2.5093\n",
            "Epoch 37/500\n",
            "179/179 [==============================] - 2s 13ms/step - loss: 0.0918 - accuracy: 0.9736 - val_loss: 0.0917 - val_accuracy: 0.9735 - epoch_time: 2.1997\n",
            "Epoch 38/500\n",
            "179/179 [==============================] - 2s 13ms/step - loss: 0.0908 - accuracy: 0.9737 - val_loss: 0.0836 - val_accuracy: 0.9759 - epoch_time: 2.1564\n",
            "Epoch 39/500\n",
            "179/179 [==============================] - 2s 12ms/step - loss: 0.0901 - accuracy: 0.9744 - val_loss: 0.0868 - val_accuracy: 0.9747 - epoch_time: 2.0662\n",
            "Epoch 40/500\n",
            "179/179 [==============================] - 2s 13ms/step - loss: 0.0902 - accuracy: 0.9742 - val_loss: 0.1030 - val_accuracy: 0.9728 - epoch_time: 2.2609\n",
            "Epoch 41/500\n",
            "179/179 [==============================] - 3s 17ms/step - loss: 0.0854 - accuracy: 0.9752 - val_loss: 0.0950 - val_accuracy: 0.9743 - epoch_time: 2.8483\n",
            "Epoch 42/500\n",
            "179/179 [==============================] - 2s 13ms/step - loss: 0.0853 - accuracy: 0.9755 - val_loss: 0.0922 - val_accuracy: 0.9743 - epoch_time: 2.1698\n",
            "Epoch 43/500\n",
            "179/179 [==============================] - 2s 12ms/step - loss: 0.0834 - accuracy: 0.9755 - val_loss: 0.0875 - val_accuracy: 0.9755 - epoch_time: 2.0681\n",
            "Epoch 44/500\n",
            "179/179 [==============================] - 2s 12ms/step - loss: 0.0842 - accuracy: 0.9748 - val_loss: 0.0854 - val_accuracy: 0.9763 - epoch_time: 2.0749\n",
            "Epoch 45/500\n",
            "179/179 [==============================] - 2s 12ms/step - loss: 0.0917 - accuracy: 0.9729 - val_loss: 0.0846 - val_accuracy: 0.9751 - epoch_time: 2.0654\n",
            "Epoch 46/500\n",
            "179/179 [==============================] - 2s 14ms/step - loss: 0.0803 - accuracy: 0.9765 - val_loss: 0.0842 - val_accuracy: 0.9767 - epoch_time: 2.3688\n",
            "Epoch 47/500\n",
            "179/179 [==============================] - 3s 19ms/step - loss: 0.0900 - accuracy: 0.9744 - val_loss: 0.0791 - val_accuracy: 0.9799 - epoch_time: 2.8250\n",
            "Epoch 48/500\n",
            "179/179 [==============================] - 2s 12ms/step - loss: 0.0762 - accuracy: 0.9780 - val_loss: 0.0817 - val_accuracy: 0.9787 - epoch_time: 2.0860\n",
            "Epoch 49/500\n",
            "179/179 [==============================] - 2s 12ms/step - loss: 0.0755 - accuracy: 0.9780 - val_loss: 0.0954 - val_accuracy: 0.9743 - epoch_time: 2.0762\n",
            "Epoch 50/500\n",
            "179/179 [==============================] - 2s 12ms/step - loss: 0.0795 - accuracy: 0.9768 - val_loss: 0.0795 - val_accuracy: 0.9755 - epoch_time: 2.0749\n",
            "Epoch 51/500\n",
            "179/179 [==============================] - 2s 12ms/step - loss: 0.0780 - accuracy: 0.9775 - val_loss: 0.0826 - val_accuracy: 0.9763 - epoch_time: 2.0826\n",
            "Epoch 52/500\n",
            "179/179 [==============================] - 3s 19ms/step - loss: 0.0748 - accuracy: 0.9778 - val_loss: 0.0779 - val_accuracy: 0.9771 - epoch_time: 2.6921\n",
            "Epoch 53/500\n",
            "179/179 [==============================] - 3s 14ms/step - loss: 0.0743 - accuracy: 0.9779 - val_loss: 0.0733 - val_accuracy: 0.9807 - epoch_time: 2.3677\n",
            "Epoch 54/500\n",
            "179/179 [==============================] - 2s 12ms/step - loss: 0.0729 - accuracy: 0.9788 - val_loss: 0.0779 - val_accuracy: 0.9787 - epoch_time: 2.0578\n",
            "Epoch 55/500\n",
            "179/179 [==============================] - 2s 13ms/step - loss: 0.0723 - accuracy: 0.9787 - val_loss: 0.0684 - val_accuracy: 0.9783 - epoch_time: 2.1133\n",
            "Epoch 56/500\n",
            "179/179 [==============================] - 2s 12ms/step - loss: 0.0715 - accuracy: 0.9788 - val_loss: 0.0706 - val_accuracy: 0.9787 - epoch_time: 2.1029\n",
            "Epoch 57/500\n",
            "179/179 [==============================] - 2s 13ms/step - loss: 0.0703 - accuracy: 0.9788 - val_loss: 0.0689 - val_accuracy: 0.9795 - epoch_time: 2.3108\n",
            "Epoch 58/500\n",
            "179/179 [==============================] - 4s 20ms/step - loss: 0.0686 - accuracy: 0.9792 - val_loss: 0.0675 - val_accuracy: 0.9795 - epoch_time: 2.8619\n",
            "Epoch 59/500\n",
            "179/179 [==============================] - 2s 13ms/step - loss: 0.0698 - accuracy: 0.9791 - val_loss: 0.0718 - val_accuracy: 0.9759 - epoch_time: 2.1734\n",
            "Epoch 60/500\n",
            "179/179 [==============================] - 2s 12ms/step - loss: 0.0808 - accuracy: 0.9763 - val_loss: 0.0715 - val_accuracy: 0.9775 - epoch_time: 2.1489\n",
            "Epoch 61/500\n",
            "179/179 [==============================] - 2s 12ms/step - loss: 0.0703 - accuracy: 0.9781 - val_loss: 0.0708 - val_accuracy: 0.9783 - epoch_time: 2.1437\n",
            "Epoch 62/500\n",
            "179/179 [==============================] - 2s 12ms/step - loss: 0.0650 - accuracy: 0.9802 - val_loss: 0.0706 - val_accuracy: 0.9787 - epoch_time: 2.1275\n",
            "Epoch 63/500\n",
            "179/179 [==============================] - 3s 16ms/step - loss: 0.0684 - accuracy: 0.9796 - val_loss: 0.0740 - val_accuracy: 0.9771 - epoch_time: 2.7140\n",
            "Epoch 64/500\n",
            "179/179 [==============================] - 3s 18ms/step - loss: 0.0645 - accuracy: 0.9799 - val_loss: 0.0588 - val_accuracy: 0.9842 - epoch_time: 2.5347\n",
            "Epoch 65/500\n",
            "179/179 [==============================] - 2s 12ms/step - loss: 0.0614 - accuracy: 0.9810 - val_loss: 0.0603 - val_accuracy: 0.9814 - epoch_time: 2.0825\n",
            "Epoch 66/500\n",
            "179/179 [==============================] - 2s 12ms/step - loss: 0.0667 - accuracy: 0.9794 - val_loss: 0.0655 - val_accuracy: 0.9826 - epoch_time: 2.0969\n",
            "Epoch 67/500\n",
            "179/179 [==============================] - 2s 13ms/step - loss: 0.0788 - accuracy: 0.9759 - val_loss: 0.0719 - val_accuracy: 0.9799 - epoch_time: 2.1913\n",
            "Epoch 68/500\n",
            "179/179 [==============================] - 2s 13ms/step - loss: 0.0718 - accuracy: 0.9782 - val_loss: 0.0677 - val_accuracy: 0.9811 - epoch_time: 2.3046\n",
            "Epoch 69/500\n",
            "179/179 [==============================] - 3s 16ms/step - loss: 0.0624 - accuracy: 0.9806 - val_loss: 0.0655 - val_accuracy: 0.9783 - epoch_time: 2.8290\n",
            "Epoch 70/500\n",
            "179/179 [==============================] - 2s 13ms/step - loss: 0.0634 - accuracy: 0.9811 - val_loss: 0.0684 - val_accuracy: 0.9822 - epoch_time: 2.2160\n",
            "Epoch 71/500\n",
            "179/179 [==============================] - 3s 15ms/step - loss: 0.0719 - accuracy: 0.9786 - val_loss: 0.0585 - val_accuracy: 0.9826 - epoch_time: 2.0961\n",
            "Epoch 72/500\n",
            "179/179 [==============================] - 2s 12ms/step - loss: 0.0609 - accuracy: 0.9806 - val_loss: 0.0615 - val_accuracy: 0.9830 - epoch_time: 2.0986\n",
            "Epoch 73/500\n",
            "179/179 [==============================] - 2s 13ms/step - loss: 0.0571 - accuracy: 0.9829 - val_loss: 0.0542 - val_accuracy: 0.9850 - epoch_time: 2.1399\n",
            "Epoch 74/500\n",
            "179/179 [==============================] - 3s 15ms/step - loss: 0.0576 - accuracy: 0.9818 - val_loss: 0.0544 - val_accuracy: 0.9834 - epoch_time: 2.5572\n",
            "Epoch 75/500\n",
            "179/179 [==============================] - 3s 15ms/step - loss: 0.0589 - accuracy: 0.9812 - val_loss: 0.0553 - val_accuracy: 0.9830 - epoch_time: 2.6373\n",
            "Epoch 76/500\n",
            "179/179 [==============================] - 2s 12ms/step - loss: 0.0541 - accuracy: 0.9841 - val_loss: 0.0581 - val_accuracy: 0.9838 - epoch_time: 2.1327\n",
            "Epoch 77/500\n",
            "179/179 [==============================] - 2s 12ms/step - loss: 0.0557 - accuracy: 0.9820 - val_loss: 0.0551 - val_accuracy: 0.9854 - epoch_time: 2.1003\n",
            "Epoch 78/500\n",
            "179/179 [==============================] - 2s 12ms/step - loss: 0.0533 - accuracy: 0.9828 - val_loss: 0.0566 - val_accuracy: 0.9818 - epoch_time: 2.0838\n",
            "Epoch 79/500\n",
            "179/179 [==============================] - 2s 12ms/step - loss: 0.0548 - accuracy: 0.9831 - val_loss: 0.0646 - val_accuracy: 0.9830 - epoch_time: 2.0879\n",
            "Epoch 80/500\n",
            "179/179 [==============================] - 3s 15ms/step - loss: 0.0527 - accuracy: 0.9831 - val_loss: 0.0574 - val_accuracy: 0.9830 - epoch_time: 2.6249\n",
            "Epoch 81/500\n",
            "179/179 [==============================] - 3s 15ms/step - loss: 0.0551 - accuracy: 0.9829 - val_loss: 0.0572 - val_accuracy: 0.9822 - epoch_time: 2.5751\n",
            "Epoch 82/500\n",
            "179/179 [==============================] - 2s 12ms/step - loss: 0.0525 - accuracy: 0.9822 - val_loss: 0.0607 - val_accuracy: 0.9822 - epoch_time: 2.1090\n",
            "Epoch 83/500\n",
            "179/179 [==============================] - 3s 15ms/step - loss: 0.0526 - accuracy: 0.9834 - val_loss: 0.0512 - val_accuracy: 0.9838 - epoch_time: 2.0682\n",
            "Epoch 84/500\n",
            "179/179 [==============================] - 2s 12ms/step - loss: 0.0518 - accuracy: 0.9843 - val_loss: 0.0515 - val_accuracy: 0.9846 - epoch_time: 2.1065\n",
            "Epoch 85/500\n",
            "179/179 [==============================] - 2s 13ms/step - loss: 0.0497 - accuracy: 0.9841 - val_loss: 0.0548 - val_accuracy: 0.9842 - epoch_time: 2.1596\n",
            "Epoch 86/500\n",
            "179/179 [==============================] - 3s 17ms/step - loss: 0.0502 - accuracy: 0.9839 - val_loss: 0.0542 - val_accuracy: 0.9842 - epoch_time: 2.9113\n",
            "Epoch 87/500\n",
            "179/179 [==============================] - 2s 13ms/step - loss: 0.0534 - accuracy: 0.9827 - val_loss: 0.0593 - val_accuracy: 0.9834 - epoch_time: 2.3135\n",
            "Epoch 88/500\n",
            "179/179 [==============================] - 2s 12ms/step - loss: 0.0486 - accuracy: 0.9852 - val_loss: 0.0646 - val_accuracy: 0.9842 - epoch_time: 2.0985\n",
            "Epoch 89/500\n",
            "179/179 [==============================] - 2s 13ms/step - loss: 0.0533 - accuracy: 0.9823 - val_loss: 0.0554 - val_accuracy: 0.9838 - epoch_time: 2.1507\n",
            "Epoch 90/500\n",
            "179/179 [==============================] - 2s 12ms/step - loss: 0.0481 - accuracy: 0.9850 - val_loss: 0.0586 - val_accuracy: 0.9850 - epoch_time: 2.0941\n",
            "Epoch 91/500\n",
            "179/179 [==============================] - 2s 14ms/step - loss: 0.0500 - accuracy: 0.9840 - val_loss: 0.0541 - val_accuracy: 0.9834 - epoch_time: 2.3158\n",
            "Epoch 92/500\n",
            "179/179 [==============================] - 3s 16ms/step - loss: 0.0522 - accuracy: 0.9837 - val_loss: 0.0561 - val_accuracy: 0.9854 - epoch_time: 2.8100\n",
            "Epoch 93/500\n",
            "179/179 [==============================] - 2s 12ms/step - loss: 0.0486 - accuracy: 0.9844 - val_loss: 0.0530 - val_accuracy: 0.9842 - epoch_time: 2.0968\n",
            "Epoch 94/500\n",
            "179/179 [==============================] - 3s 15ms/step - loss: 0.0480 - accuracy: 0.9841 - val_loss: 0.0512 - val_accuracy: 0.9842 - epoch_time: 2.1465\n",
            "Epoch 95/500\n",
            "179/179 [==============================] - 2s 13ms/step - loss: 0.0497 - accuracy: 0.9846 - val_loss: 0.0510 - val_accuracy: 0.9850 - epoch_time: 2.0924\n",
            "Epoch 96/500\n",
            "179/179 [==============================] - 2s 13ms/step - loss: 0.0477 - accuracy: 0.9844 - val_loss: 0.0505 - val_accuracy: 0.9850 - epoch_time: 2.0680\n",
            "Epoch 97/500\n",
            "179/179 [==============================] - 3s 15ms/step - loss: 0.0487 - accuracy: 0.9835 - val_loss: 0.0588 - val_accuracy: 0.9826 - epoch_time: 2.5806\n",
            "Epoch 98/500\n",
            "179/179 [==============================] - 3s 15ms/step - loss: 0.0468 - accuracy: 0.9844 - val_loss: 0.0558 - val_accuracy: 0.9878 - epoch_time: 2.6373\n",
            "Epoch 99/500\n",
            "179/179 [==============================] - 2s 12ms/step - loss: 0.0450 - accuracy: 0.9850 - val_loss: 0.0617 - val_accuracy: 0.9838 - epoch_time: 2.0649\n",
            "Epoch 100/500\n",
            "179/179 [==============================] - 3s 16ms/step - loss: 0.0585 - accuracy: 0.9819 - val_loss: 0.0455 - val_accuracy: 0.9878 - epoch_time: 2.1454\n",
            "Epoch 101/500\n",
            "179/179 [==============================] - 2s 12ms/step - loss: 0.0482 - accuracy: 0.9840 - val_loss: 0.0519 - val_accuracy: 0.9842 - epoch_time: 2.0596\n",
            "Epoch 102/500\n",
            "179/179 [==============================] - 2s 13ms/step - loss: 0.0425 - accuracy: 0.9858 - val_loss: 0.0485 - val_accuracy: 0.9874 - epoch_time: 2.1286\n",
            "Epoch 103/500\n",
            "179/179 [==============================] - 3s 16ms/step - loss: 0.0418 - accuracy: 0.9860 - val_loss: 0.0583 - val_accuracy: 0.9846 - epoch_time: 2.8478\n",
            "Epoch 104/500\n",
            "179/179 [==============================] - 2s 13ms/step - loss: 0.0453 - accuracy: 0.9857 - val_loss: 0.0597 - val_accuracy: 0.9834 - epoch_time: 2.3119\n",
            "Epoch 105/500\n",
            "179/179 [==============================] - 2s 12ms/step - loss: 0.0467 - accuracy: 0.9845 - val_loss: 0.0661 - val_accuracy: 0.9811 - epoch_time: 2.1398\n",
            "Epoch 106/500\n",
            "179/179 [==============================] - 2s 12ms/step - loss: 0.0447 - accuracy: 0.9854 - val_loss: 0.0504 - val_accuracy: 0.9870 - epoch_time: 2.0680\n",
            "Epoch 107/500\n",
            "179/179 [==============================] - 2s 13ms/step - loss: 0.0425 - accuracy: 0.9861 - val_loss: 0.0593 - val_accuracy: 0.9862 - epoch_time: 2.1645\n",
            "Epoch 108/500\n",
            "179/179 [==============================] - 2s 13ms/step - loss: 0.0495 - accuracy: 0.9842 - val_loss: 0.0474 - val_accuracy: 0.9874 - epoch_time: 2.2873\n",
            "Epoch 109/500\n",
            "179/179 [==============================] - 3s 17ms/step - loss: 0.0432 - accuracy: 0.9857 - val_loss: 0.0522 - val_accuracy: 0.9854 - epoch_time: 2.9002\n",
            "Epoch 110/500\n",
            "179/179 [==============================] - 2s 13ms/step - loss: 0.0429 - accuracy: 0.9859 - val_loss: 0.0485 - val_accuracy: 0.9854 - epoch_time: 2.2736\n",
            "Epoch 111/500\n",
            "179/179 [==============================] - 3s 16ms/step - loss: 0.0423 - accuracy: 0.9864 - val_loss: 0.0428 - val_accuracy: 0.9866 - epoch_time: 2.1627\n",
            "Epoch 112/500\n",
            "179/179 [==============================] - 2s 13ms/step - loss: 0.0394 - accuracy: 0.9867 - val_loss: 0.0625 - val_accuracy: 0.9822 - epoch_time: 2.1709\n",
            "Epoch 113/500\n",
            "179/179 [==============================] - 2s 13ms/step - loss: 0.0435 - accuracy: 0.9859 - val_loss: 0.0493 - val_accuracy: 0.9878 - epoch_time: 2.1862\n",
            "Epoch 114/500\n",
            "179/179 [==============================] - 3s 16ms/step - loss: 0.0412 - accuracy: 0.9869 - val_loss: 0.0508 - val_accuracy: 0.9858 - epoch_time: 2.7895\n",
            "Epoch 115/500\n",
            "179/179 [==============================] - 3s 15ms/step - loss: 0.0406 - accuracy: 0.9868 - val_loss: 0.0476 - val_accuracy: 0.9874 - epoch_time: 2.5628\n",
            "Epoch 116/500\n",
            "179/179 [==============================] - 2s 12ms/step - loss: 0.0408 - accuracy: 0.9874 - val_loss: 0.0494 - val_accuracy: 0.9830 - epoch_time: 2.1062\n",
            "Epoch 117/500\n",
            "179/179 [==============================] - 2s 12ms/step - loss: 0.0414 - accuracy: 0.9868 - val_loss: 0.0491 - val_accuracy: 0.9846 - epoch_time: 2.1110\n",
            "Epoch 118/500\n",
            "179/179 [==============================] - 2s 12ms/step - loss: 0.0397 - accuracy: 0.9874 - val_loss: 0.0486 - val_accuracy: 0.9830 - epoch_time: 2.1247\n",
            "Epoch 119/500\n",
            "179/179 [==============================] - 2s 12ms/step - loss: 0.0387 - accuracy: 0.9873 - val_loss: 0.0494 - val_accuracy: 0.9838 - epoch_time: 2.1231\n",
            "Epoch 120/500\n",
            "179/179 [==============================] - 3s 16ms/step - loss: 0.0415 - accuracy: 0.9872 - val_loss: 0.0585 - val_accuracy: 0.9830 - epoch_time: 2.8174\n",
            "Epoch 121/500\n",
            "179/179 [==============================] - 3s 14ms/step - loss: 0.0393 - accuracy: 0.9866 - val_loss: 0.0448 - val_accuracy: 0.9858 - epoch_time: 2.4240\n",
            "Epoch 122/500\n",
            "179/179 [==============================] - 2s 13ms/step - loss: 0.0406 - accuracy: 0.9878 - val_loss: 0.0451 - val_accuracy: 0.9854 - epoch_time: 2.1482\n",
            "Epoch 123/500\n",
            "179/179 [==============================] - 2s 12ms/step - loss: 0.0397 - accuracy: 0.9871 - val_loss: 0.0602 - val_accuracy: 0.9854 - epoch_time: 2.1317\n",
            "Epoch 124/500\n",
            "179/179 [==============================] - 2s 12ms/step - loss: 0.0397 - accuracy: 0.9874 - val_loss: 0.0467 - val_accuracy: 0.9842 - epoch_time: 2.1093\n",
            "Epoch 125/500\n",
            "179/179 [==============================] - 2s 13ms/step - loss: 0.0371 - accuracy: 0.9869 - val_loss: 0.0470 - val_accuracy: 0.9826 - epoch_time: 2.2774\n",
            "Epoch 126/500\n",
            "179/179 [==============================] - 3s 19ms/step - loss: 0.0384 - accuracy: 0.9873 - val_loss: 0.0418 - val_accuracy: 0.9842 - epoch_time: 2.8560\n",
            "Epoch 127/500\n",
            "179/179 [==============================] - 2s 13ms/step - loss: 0.0392 - accuracy: 0.9873 - val_loss: 0.0511 - val_accuracy: 0.9842 - epoch_time: 2.1502\n",
            "Epoch 128/500\n",
            "179/179 [==============================] - 2s 12ms/step - loss: 0.0372 - accuracy: 0.9873 - val_loss: 0.0565 - val_accuracy: 0.9834 - epoch_time: 2.1042\n",
            "Epoch 129/500\n",
            "179/179 [==============================] - 2s 12ms/step - loss: 0.0379 - accuracy: 0.9878 - val_loss: 0.0432 - val_accuracy: 0.9874 - epoch_time: 2.1356\n",
            "Epoch 130/500\n",
            "179/179 [==============================] - 2s 12ms/step - loss: 0.0344 - accuracy: 0.9891 - val_loss: 0.0448 - val_accuracy: 0.9874 - epoch_time: 2.1423\n",
            "Epoch 131/500\n",
            "179/179 [==============================] - 3s 15ms/step - loss: 0.0385 - accuracy: 0.9878 - val_loss: 0.0433 - val_accuracy: 0.9870 - epoch_time: 2.5640\n",
            "Epoch 132/500\n",
            "179/179 [==============================] - 3s 15ms/step - loss: 0.0366 - accuracy: 0.9881 - val_loss: 0.0439 - val_accuracy: 0.9866 - epoch_time: 2.6339\n",
            "Epoch 133/500\n",
            "179/179 [==============================] - 3s 16ms/step - loss: 0.0356 - accuracy: 0.9878 - val_loss: 0.0385 - val_accuracy: 0.9870 - epoch_time: 2.1711\n",
            "Epoch 134/500\n",
            "179/179 [==============================] - 2s 13ms/step - loss: 0.0346 - accuracy: 0.9890 - val_loss: 0.0474 - val_accuracy: 0.9850 - epoch_time: 2.1882\n",
            "Epoch 135/500\n",
            "179/179 [==============================] - 2s 12ms/step - loss: 0.0422 - accuracy: 0.9867 - val_loss: 0.0448 - val_accuracy: 0.9862 - epoch_time: 2.0705\n",
            "Epoch 136/500\n",
            "179/179 [==============================] - 2s 13ms/step - loss: 0.0369 - accuracy: 0.9885 - val_loss: 0.0453 - val_accuracy: 0.9862 - epoch_time: 2.1546\n",
            "Epoch 137/500\n",
            "179/179 [==============================] - 3s 17ms/step - loss: 0.0357 - accuracy: 0.9884 - val_loss: 0.0504 - val_accuracy: 0.9842 - epoch_time: 2.9503\n",
            "Epoch 138/500\n",
            "179/179 [==============================] - 2s 13ms/step - loss: 0.0341 - accuracy: 0.9888 - val_loss: 0.0440 - val_accuracy: 0.9862 - epoch_time: 2.3018\n",
            "Epoch 139/500\n",
            "179/179 [==============================] - 2s 13ms/step - loss: 0.0385 - accuracy: 0.9878 - val_loss: 0.0448 - val_accuracy: 0.9842 - epoch_time: 2.1510\n",
            "Epoch 140/500\n",
            "179/179 [==============================] - 2s 12ms/step - loss: 0.0340 - accuracy: 0.9891 - val_loss: 0.0427 - val_accuracy: 0.9850 - epoch_time: 2.1190\n",
            "Epoch 141/500\n",
            "179/179 [==============================] - 2s 13ms/step - loss: 0.0355 - accuracy: 0.9883 - val_loss: 0.0401 - val_accuracy: 0.9870 - epoch_time: 2.1690\n",
            "Epoch 142/500\n",
            "179/179 [==============================] - 3s 14ms/step - loss: 0.0330 - accuracy: 0.9894 - val_loss: 0.0474 - val_accuracy: 0.9846 - epoch_time: 2.4245\n",
            "Epoch 143/500\n",
            "179/179 [==============================] - 3s 16ms/step - loss: 0.0559 - accuracy: 0.9827 - val_loss: 0.0505 - val_accuracy: 0.9850 - epoch_time: 2.8341\n",
            "Epoch 144/500\n",
            "179/179 [==============================] - 2s 12ms/step - loss: 0.0360 - accuracy: 0.9891 - val_loss: 0.0476 - val_accuracy: 0.9838 - epoch_time: 2.1189\n",
            "Epoch 145/500\n",
            "179/179 [==============================] - 3s 16ms/step - loss: 0.0369 - accuracy: 0.9876 - val_loss: 0.0479 - val_accuracy: 0.9842 - epoch_time: 2.8053\n",
            "Epoch 146/500\n",
            "179/179 [==============================] - 3s 14ms/step - loss: 0.0335 - accuracy: 0.9888 - val_loss: 0.0480 - val_accuracy: 0.9850 - epoch_time: 2.4096\n",
            "Epoch 147/500\n",
            "179/179 [==============================] - 2s 12ms/step - loss: 0.0337 - accuracy: 0.9892 - val_loss: 0.0473 - val_accuracy: 0.9834 - epoch_time: 2.0714\n",
            "Epoch 148/500\n",
            "179/179 [==============================] - 3s 16ms/step - loss: 0.0403 - accuracy: 0.9870 - val_loss: 0.0414 - val_accuracy: 0.9858 - epoch_time: 2.7333\n",
            "Epoch 149/500\n",
            "179/179 [==============================] - 3s 14ms/step - loss: 0.0305 - accuracy: 0.9904 - val_loss: 0.0477 - val_accuracy: 0.9842 - epoch_time: 2.4547\n",
            "Epoch 150/500\n",
            "179/179 [==============================] - 2s 12ms/step - loss: 0.0331 - accuracy: 0.9896 - val_loss: 0.0408 - val_accuracy: 0.9850 - epoch_time: 2.0801\n",
            "Epoch 151/500\n",
            "179/179 [==============================] - 2s 13ms/step - loss: 0.0338 - accuracy: 0.9882 - val_loss: 0.0442 - val_accuracy: 0.9882 - epoch_time: 2.1748\n",
            "Epoch 152/500\n",
            "179/179 [==============================] - 2s 12ms/step - loss: 0.0326 - accuracy: 0.9903 - val_loss: 0.0467 - val_accuracy: 0.9842 - epoch_time: 2.1097\n",
            "Epoch 153/500\n",
            "179/179 [==============================] - 2s 13ms/step - loss: 0.0305 - accuracy: 0.9904 - val_loss: 0.0443 - val_accuracy: 0.9870 - epoch_time: 2.1481\n",
            "Epoch 154/500\n",
            "179/179 [==============================] - 3s 17ms/step - loss: 0.0313 - accuracy: 0.9898 - val_loss: 0.0447 - val_accuracy: 0.9842 - epoch_time: 2.9179\n",
            "Epoch 155/500\n",
            "179/179 [==============================] - 2s 13ms/step - loss: 0.0325 - accuracy: 0.9896 - val_loss: 0.0479 - val_accuracy: 0.9858 - epoch_time: 2.2634\n",
            "Epoch 156/500\n",
            "179/179 [==============================] - 2s 12ms/step - loss: 0.0309 - accuracy: 0.9902 - val_loss: 0.0434 - val_accuracy: 0.9858 - epoch_time: 2.1104\n",
            "Epoch 157/500\n",
            "179/179 [==============================] - 2s 12ms/step - loss: 0.0613 - accuracy: 0.9809 - val_loss: 0.0557 - val_accuracy: 0.9822 - epoch_time: 2.1281\n",
            "Epoch 158/500\n",
            "179/179 [==============================] - 2s 13ms/step - loss: 0.0459 - accuracy: 0.9853 - val_loss: 0.0430 - val_accuracy: 0.9846 - epoch_time: 2.1494\n",
            "Epoch 159/500\n",
            "179/179 [==============================] - 2s 13ms/step - loss: 0.0401 - accuracy: 0.9869 - val_loss: 0.0419 - val_accuracy: 0.9866 - epoch_time: 2.2747\n",
            "Epoch 160/500\n",
            "179/179 [==============================] - 3s 17ms/step - loss: 0.0329 - accuracy: 0.9894 - val_loss: 0.0432 - val_accuracy: 0.9874 - epoch_time: 2.8650\n",
            "Epoch 161/500\n",
            "179/179 [==============================] - 3s 15ms/step - loss: 0.0337 - accuracy: 0.9890 - val_loss: 0.0378 - val_accuracy: 0.9874 - epoch_time: 2.1949\n",
            "Epoch 162/500\n",
            "179/179 [==============================] - 2s 12ms/step - loss: 0.0322 - accuracy: 0.9895 - val_loss: 0.0438 - val_accuracy: 0.9862 - epoch_time: 2.1011\n",
            "Epoch 163/500\n",
            "179/179 [==============================] - 2s 12ms/step - loss: 0.0314 - accuracy: 0.9900 - val_loss: 0.0401 - val_accuracy: 0.9874 - epoch_time: 2.1087\n",
            "Epoch 164/500\n",
            "179/179 [==============================] - 2s 13ms/step - loss: 0.0301 - accuracy: 0.9901 - val_loss: 0.0420 - val_accuracy: 0.9878 - epoch_time: 2.1691\n",
            "Epoch 165/500\n",
            "179/179 [==============================] - 3s 19ms/step - loss: 0.0292 - accuracy: 0.9904 - val_loss: 0.0351 - val_accuracy: 0.9882 - epoch_time: 2.6042\n",
            "Epoch 166/500\n",
            "179/179 [==============================] - 3s 14ms/step - loss: 0.0309 - accuracy: 0.9899 - val_loss: 0.0380 - val_accuracy: 0.9878 - epoch_time: 2.4534\n",
            "Epoch 167/500\n",
            "179/179 [==============================] - 2s 13ms/step - loss: 0.0324 - accuracy: 0.9897 - val_loss: 0.0423 - val_accuracy: 0.9874 - epoch_time: 2.1612\n",
            "Epoch 168/500\n",
            "179/179 [==============================] - 2s 13ms/step - loss: 0.0300 - accuracy: 0.9904 - val_loss: 0.0420 - val_accuracy: 0.9874 - epoch_time: 2.1505\n",
            "Epoch 169/500\n",
            "179/179 [==============================] - 2s 12ms/step - loss: 0.0296 - accuracy: 0.9902 - val_loss: 0.0460 - val_accuracy: 0.9838 - epoch_time: 2.1172\n",
            "Epoch 170/500\n",
            "179/179 [==============================] - 2s 13ms/step - loss: 0.0271 - accuracy: 0.9912 - val_loss: 0.0421 - val_accuracy: 0.9882 - epoch_time: 2.2647\n",
            "Epoch 171/500\n",
            "179/179 [==============================] - 3s 17ms/step - loss: 0.0319 - accuracy: 0.9896 - val_loss: 0.0421 - val_accuracy: 0.9850 - epoch_time: 2.9543\n",
            "Epoch 172/500\n",
            "179/179 [==============================] - 2s 14ms/step - loss: 0.0299 - accuracy: 0.9900 - val_loss: 0.0430 - val_accuracy: 0.9866 - epoch_time: 2.3372\n",
            "Epoch 173/500\n",
            "179/179 [==============================] - 2s 12ms/step - loss: 0.0270 - accuracy: 0.9913 - val_loss: 0.0536 - val_accuracy: 0.9870 - epoch_time: 2.1303\n",
            "Epoch 174/500\n",
            "179/179 [==============================] - 2s 13ms/step - loss: 0.0297 - accuracy: 0.9902 - val_loss: 0.0414 - val_accuracy: 0.9882 - epoch_time: 2.1818\n",
            "Epoch 175/500\n",
            "179/179 [==============================] - 2s 12ms/step - loss: 0.0303 - accuracy: 0.9897 - val_loss: 0.0399 - val_accuracy: 0.9858 - epoch_time: 2.0883\n",
            "Epoch 176/500\n",
            "179/179 [==============================] - 2s 14ms/step - loss: 0.0302 - accuracy: 0.9912 - val_loss: 0.0360 - val_accuracy: 0.9893 - epoch_time: 2.3788\n",
            "Epoch 177/500\n",
            "179/179 [==============================] - 3s 17ms/step - loss: 0.0299 - accuracy: 0.9901 - val_loss: 0.0394 - val_accuracy: 0.9866 - epoch_time: 2.9092\n",
            "Epoch 178/500\n",
            "179/179 [==============================] - 2s 13ms/step - loss: 0.0294 - accuracy: 0.9902 - val_loss: 0.0376 - val_accuracy: 0.9886 - epoch_time: 2.1599\n",
            "Epoch 179/500\n",
            "179/179 [==============================] - 3s 15ms/step - loss: 0.0290 - accuracy: 0.9901 - val_loss: 0.0307 - val_accuracy: 0.9893 - epoch_time: 2.1541\n",
            "Epoch 180/500\n",
            "179/179 [==============================] - 2s 12ms/step - loss: 0.0277 - accuracy: 0.9921 - val_loss: 0.0385 - val_accuracy: 0.9886 - epoch_time: 2.1255\n",
            "Epoch 181/500\n",
            "179/179 [==============================] - 2s 12ms/step - loss: 0.0326 - accuracy: 0.9885 - val_loss: 0.0383 - val_accuracy: 0.9862 - epoch_time: 2.1359\n",
            "Epoch 182/500\n",
            "179/179 [==============================] - 3s 16ms/step - loss: 0.0306 - accuracy: 0.9902 - val_loss: 0.0388 - val_accuracy: 0.9882 - epoch_time: 2.7610\n",
            "Epoch 183/500\n",
            "179/179 [==============================] - 3s 15ms/step - loss: 0.0278 - accuracy: 0.9910 - val_loss: 0.0360 - val_accuracy: 0.9870 - epoch_time: 2.5416\n",
            "Epoch 184/500\n",
            "179/179 [==============================] - 2s 13ms/step - loss: 0.0295 - accuracy: 0.9907 - val_loss: 0.0451 - val_accuracy: 0.9886 - epoch_time: 2.1686\n",
            "Epoch 185/500\n",
            "179/179 [==============================] - 2s 12ms/step - loss: 0.0272 - accuracy: 0.9910 - val_loss: 0.0392 - val_accuracy: 0.9874 - epoch_time: 2.1443\n",
            "Epoch 186/500\n",
            "179/179 [==============================] - 2s 12ms/step - loss: 0.0287 - accuracy: 0.9906 - val_loss: 0.0468 - val_accuracy: 0.9846 - epoch_time: 2.1339\n",
            "Epoch 187/500\n",
            "179/179 [==============================] - 2s 12ms/step - loss: 0.0269 - accuracy: 0.9909 - val_loss: 0.0382 - val_accuracy: 0.9846 - epoch_time: 2.1198\n",
            "Epoch 188/500\n",
            "179/179 [==============================] - 3s 16ms/step - loss: 0.0259 - accuracy: 0.9914 - val_loss: 0.0365 - val_accuracy: 0.9886 - epoch_time: 2.7974\n",
            "Epoch 189/500\n",
            "179/179 [==============================] - 3s 14ms/step - loss: 0.0272 - accuracy: 0.9913 - val_loss: 0.0445 - val_accuracy: 0.9870 - epoch_time: 2.5052\n",
            "Epoch 190/500\n",
            "179/179 [==============================] - 2s 12ms/step - loss: 0.0527 - accuracy: 0.9832 - val_loss: 0.0398 - val_accuracy: 0.9866 - epoch_time: 2.1425\n",
            "Epoch 191/500\n",
            "179/179 [==============================] - 2s 12ms/step - loss: 0.0307 - accuracy: 0.9896 - val_loss: 0.0387 - val_accuracy: 0.9870 - epoch_time: 2.1473\n",
            "Epoch 192/500\n",
            "179/179 [==============================] - 2s 12ms/step - loss: 0.0283 - accuracy: 0.9916 - val_loss: 0.0327 - val_accuracy: 0.9897 - epoch_time: 2.1374\n",
            "Epoch 193/500\n",
            "179/179 [==============================] - 2s 13ms/step - loss: 0.0279 - accuracy: 0.9905 - val_loss: 0.0329 - val_accuracy: 0.9893 - epoch_time: 2.2986\n",
            "Epoch 194/500\n",
            "179/179 [==============================] - 3s 17ms/step - loss: 0.0279 - accuracy: 0.9903 - val_loss: 0.0322 - val_accuracy: 0.9889 - epoch_time: 2.8717\n",
            "Epoch 195/500\n",
            "179/179 [==============================] - 2s 14ms/step - loss: 0.0238 - accuracy: 0.9922 - val_loss: 0.0430 - val_accuracy: 0.9878 - epoch_time: 2.3116\n",
            "Epoch 196/500\n",
            "179/179 [==============================] - 2s 13ms/step - loss: 0.0265 - accuracy: 0.9914 - val_loss: 0.0316 - val_accuracy: 0.9874 - epoch_time: 2.1605\n",
            "Epoch 197/500\n",
            "179/179 [==============================] - 2s 13ms/step - loss: 0.0256 - accuracy: 0.9913 - val_loss: 0.0373 - val_accuracy: 0.9893 - epoch_time: 2.1493\n",
            "Epoch 198/500\n",
            "179/179 [==============================] - 2s 13ms/step - loss: 0.0270 - accuracy: 0.9907 - val_loss: 0.0332 - val_accuracy: 0.9893 - epoch_time: 2.1858\n",
            "Epoch 199/500\n",
            "179/179 [==============================] - 3s 15ms/step - loss: 0.0268 - accuracy: 0.9906 - val_loss: 0.0371 - val_accuracy: 0.9858 - epoch_time: 2.5289\n",
            "Epoch 200/500\n",
            "179/179 [==============================] - 3s 16ms/step - loss: 0.0284 - accuracy: 0.9910 - val_loss: 0.0361 - val_accuracy: 0.9854 - epoch_time: 2.7578\n",
            "Epoch 201/500\n",
            "179/179 [==============================] - 2s 13ms/step - loss: 0.0258 - accuracy: 0.9915 - val_loss: 0.0394 - val_accuracy: 0.9886 - epoch_time: 2.2163\n",
            "Epoch 202/500\n",
            "179/179 [==============================] - 2s 13ms/step - loss: 0.0250 - accuracy: 0.9927 - val_loss: 0.0358 - val_accuracy: 0.9874 - epoch_time: 2.1817\n",
            "Epoch 203/500\n",
            "179/179 [==============================] - 2s 13ms/step - loss: 0.0267 - accuracy: 0.9918 - val_loss: 0.0424 - val_accuracy: 0.9870 - epoch_time: 2.1938\n",
            "Epoch 204/500\n",
            "179/179 [==============================] - 2s 13ms/step - loss: 0.0278 - accuracy: 0.9916 - val_loss: 0.0418 - val_accuracy: 0.9870 - epoch_time: 2.1675\n",
            "Epoch 205/500\n",
            "179/179 [==============================] - 3s 16ms/step - loss: 0.0261 - accuracy: 0.9913 - val_loss: 0.0481 - val_accuracy: 0.9870 - epoch_time: 2.7189\n",
            "Epoch 206/500\n",
            "179/179 [==============================] - 3s 15ms/step - loss: 0.0261 - accuracy: 0.9920 - val_loss: 0.0416 - val_accuracy: 0.9893 - epoch_time: 2.6577\n",
            "Epoch 207/500\n",
            "179/179 [==============================] - 2s 13ms/step - loss: 0.0275 - accuracy: 0.9914 - val_loss: 0.0438 - val_accuracy: 0.9878 - epoch_time: 2.2039\n",
            "Epoch 208/500\n",
            "179/179 [==============================] - 2s 13ms/step - loss: 0.0239 - accuracy: 0.9919 - val_loss: 0.0379 - val_accuracy: 0.9874 - epoch_time: 2.2057\n",
            "Epoch 209/500\n",
            "179/179 [==============================] - 3s 15ms/step - loss: 0.0256 - accuracy: 0.9917 - val_loss: 0.0302 - val_accuracy: 0.9882 - epoch_time: 2.1974\n",
            "Epoch 210/500\n",
            "179/179 [==============================] - 2s 14ms/step - loss: 0.0248 - accuracy: 0.9924 - val_loss: 0.0334 - val_accuracy: 0.9882 - epoch_time: 2.3308\n",
            "Epoch 211/500\n",
            "179/179 [==============================] - 3s 17ms/step - loss: 0.0275 - accuracy: 0.9914 - val_loss: 0.0370 - val_accuracy: 0.9874 - epoch_time: 3.0118\n",
            "Epoch 212/500\n",
            "179/179 [==============================] - 2s 13ms/step - loss: 0.0285 - accuracy: 0.9906 - val_loss: 0.0338 - val_accuracy: 0.9901 - epoch_time: 2.2789\n",
            "Epoch 213/500\n",
            "179/179 [==============================] - 2s 13ms/step - loss: 0.0289 - accuracy: 0.9905 - val_loss: 0.0398 - val_accuracy: 0.9842 - epoch_time: 2.2169\n",
            "Epoch 214/500\n",
            "179/179 [==============================] - 2s 13ms/step - loss: 0.0233 - accuracy: 0.9921 - val_loss: 0.0391 - val_accuracy: 0.9882 - epoch_time: 2.1863\n",
            "Epoch 215/500\n",
            "179/179 [==============================] - 2s 13ms/step - loss: 0.0365 - accuracy: 0.9887 - val_loss: 0.0361 - val_accuracy: 0.9858 - epoch_time: 2.2034\n",
            "Epoch 216/500\n",
            "179/179 [==============================] - 3s 15ms/step - loss: 0.0268 - accuracy: 0.9913 - val_loss: 0.0320 - val_accuracy: 0.9889 - epoch_time: 2.5649\n",
            "Epoch 217/500\n",
            "179/179 [==============================] - 3s 16ms/step - loss: 0.0272 - accuracy: 0.9915 - val_loss: 0.0420 - val_accuracy: 0.9886 - epoch_time: 2.7317\n",
            "Epoch 218/500\n",
            "179/179 [==============================] - 2s 13ms/step - loss: 0.0261 - accuracy: 0.9919 - val_loss: 0.0429 - val_accuracy: 0.9874 - epoch_time: 2.1883\n",
            "Epoch 219/500\n",
            "179/179 [==============================] - 2s 13ms/step - loss: 0.0265 - accuracy: 0.9913 - val_loss: 0.0517 - val_accuracy: 0.9846 - epoch_time: 2.1905\n",
            "Epoch 220/500\n",
            "179/179 [==============================] - 2s 13ms/step - loss: 0.0237 - accuracy: 0.9923 - val_loss: 0.0431 - val_accuracy: 0.9882 - epoch_time: 2.1971\n",
            "Epoch 221/500\n",
            "179/179 [==============================] - 2s 13ms/step - loss: 0.0242 - accuracy: 0.9933 - val_loss: 0.0372 - val_accuracy: 0.9874 - epoch_time: 2.2232\n",
            "Epoch 222/500\n",
            "179/179 [==============================] - 3s 16ms/step - loss: 0.0242 - accuracy: 0.9925 - val_loss: 0.0350 - val_accuracy: 0.9886 - epoch_time: 2.8371\n",
            "Epoch 223/500\n",
            "179/179 [==============================] - 3s 15ms/step - loss: 0.0249 - accuracy: 0.9923 - val_loss: 0.0339 - val_accuracy: 0.9893 - epoch_time: 2.5864\n",
            "Epoch 224/500\n",
            "179/179 [==============================] - 2s 13ms/step - loss: 0.0281 - accuracy: 0.9912 - val_loss: 0.0377 - val_accuracy: 0.9862 - epoch_time: 2.1898\n",
            "Epoch 225/500\n",
            "179/179 [==============================] - 2s 13ms/step - loss: 0.0238 - accuracy: 0.9921 - val_loss: 0.0392 - val_accuracy: 0.9850 - epoch_time: 2.2289\n",
            "Epoch 226/500\n",
            "179/179 [==============================] - 2s 13ms/step - loss: 0.0256 - accuracy: 0.9915 - val_loss: 0.0365 - val_accuracy: 0.9882 - epoch_time: 2.2592\n",
            "Epoch 227/500\n",
            "179/179 [==============================] - 2s 14ms/step - loss: 0.0236 - accuracy: 0.9928 - val_loss: 0.0365 - val_accuracy: 0.9886 - epoch_time: 2.3658\n",
            "Epoch 228/500\n",
            "179/179 [==============================] - 3s 17ms/step - loss: 0.0207 - accuracy: 0.9935 - val_loss: 0.0367 - val_accuracy: 0.9889 - epoch_time: 2.9333\n",
            "Epoch 229/500\n",
            "179/179 [==============================] - 2s 13ms/step - loss: 0.0224 - accuracy: 0.9925 - val_loss: 0.0342 - val_accuracy: 0.9886 - epoch_time: 2.3006\n",
            "Epoch 230/500\n",
            "179/179 [==============================] - 2s 13ms/step - loss: 0.0216 - accuracy: 0.9934 - val_loss: 0.0339 - val_accuracy: 0.9893 - epoch_time: 2.1797\n",
            "Epoch 231/500\n",
            "179/179 [==============================] - 2s 13ms/step - loss: 0.0249 - accuracy: 0.9922 - val_loss: 0.0354 - val_accuracy: 0.9901 - epoch_time: 2.2206\n",
            "Epoch 232/500\n",
            "179/179 [==============================] - 2s 13ms/step - loss: 0.0239 - accuracy: 0.9920 - val_loss: 0.0347 - val_accuracy: 0.9874 - epoch_time: 2.1627\n",
            "Epoch 233/500\n",
            "179/179 [==============================] - 3s 15ms/step - loss: 0.0252 - accuracy: 0.9919 - val_loss: 0.0397 - val_accuracy: 0.9870 - epoch_time: 2.5899\n",
            "Epoch 234/500\n",
            "179/179 [==============================] - 3s 17ms/step - loss: 0.0246 - accuracy: 0.9926 - val_loss: 0.0402 - val_accuracy: 0.9882 - epoch_time: 2.8898\n",
            "Epoch 235/500\n",
            "179/179 [==============================] - 2s 13ms/step - loss: 0.0249 - accuracy: 0.9917 - val_loss: 0.0326 - val_accuracy: 0.9905 - epoch_time: 2.2221\n",
            "Epoch 236/500\n",
            "179/179 [==============================] - 2s 13ms/step - loss: 0.0234 - accuracy: 0.9925 - val_loss: 0.0366 - val_accuracy: 0.9874 - epoch_time: 2.2622\n",
            "Epoch 237/500\n",
            "179/179 [==============================] - 2s 13ms/step - loss: 0.0271 - accuracy: 0.9913 - val_loss: 0.0373 - val_accuracy: 0.9882 - epoch_time: 2.2683\n",
            "Epoch 238/500\n",
            "179/179 [==============================] - 2s 13ms/step - loss: 0.0250 - accuracy: 0.9921 - val_loss: 0.0343 - val_accuracy: 0.9878 - epoch_time: 2.3106\n",
            "Epoch 239/500\n",
            "179/179 [==============================] - 3s 17ms/step - loss: 0.0228 - accuracy: 0.9922 - val_loss: 0.0350 - val_accuracy: 0.9878 - epoch_time: 2.9255\n",
            "Epoch 240/500\n",
            "179/179 [==============================] - 3s 15ms/step - loss: 0.0249 - accuracy: 0.9924 - val_loss: 0.0356 - val_accuracy: 0.9905 - epoch_time: 2.6745\n",
            "Epoch 241/500\n",
            "179/179 [==============================] - 2s 13ms/step - loss: 0.0242 - accuracy: 0.9922 - val_loss: 0.0366 - val_accuracy: 0.9870 - epoch_time: 2.2290\n",
            "Epoch 242/500\n",
            "179/179 [==============================] - 2s 13ms/step - loss: 0.0215 - accuracy: 0.9927 - val_loss: 0.0386 - val_accuracy: 0.9886 - epoch_time: 2.2330\n",
            "Epoch 243/500\n",
            "179/179 [==============================] - 2s 13ms/step - loss: 0.0221 - accuracy: 0.9931 - val_loss: 0.0388 - val_accuracy: 0.9870 - epoch_time: 2.2678\n",
            "Epoch 244/500\n",
            "179/179 [==============================] - 3s 14ms/step - loss: 0.0228 - accuracy: 0.9925 - val_loss: 0.0370 - val_accuracy: 0.9878 - epoch_time: 2.4230\n",
            "Epoch 245/500\n",
            "179/179 [==============================] - 3s 16ms/step - loss: 0.0242 - accuracy: 0.9924 - val_loss: 0.0442 - val_accuracy: 0.9874 - epoch_time: 2.8419\n",
            "Epoch 246/500\n",
            "179/179 [==============================] - 2s 14ms/step - loss: 0.0239 - accuracy: 0.9920 - val_loss: 0.0417 - val_accuracy: 0.9878 - epoch_time: 2.3554\n",
            "Epoch 247/500\n",
            "179/179 [==============================] - 2s 13ms/step - loss: 0.0220 - accuracy: 0.9931 - val_loss: 0.0379 - val_accuracy: 0.9878 - epoch_time: 2.1956\n",
            "Epoch 248/500\n",
            "179/179 [==============================] - 2s 13ms/step - loss: 0.0241 - accuracy: 0.9918 - val_loss: 0.0416 - val_accuracy: 0.9874 - epoch_time: 2.2629\n",
            "Epoch 249/500\n",
            "179/179 [==============================] - 2s 13ms/step - loss: 0.0224 - accuracy: 0.9930 - val_loss: 0.0369 - val_accuracy: 0.9882 - epoch_time: 2.1999\n",
            "Epoch 250/500\n",
            "179/179 [==============================] - 3s 15ms/step - loss: 0.0220 - accuracy: 0.9932 - val_loss: 0.0341 - val_accuracy: 0.9874 - epoch_time: 2.5707\n",
            "Epoch 251/500\n",
            "179/179 [==============================] - 3s 17ms/step - loss: 0.0216 - accuracy: 0.9935 - val_loss: 0.0435 - val_accuracy: 0.9878 - epoch_time: 2.9189\n",
            "Epoch 252/500\n",
            "179/179 [==============================] - 2s 13ms/step - loss: 0.0246 - accuracy: 0.9928 - val_loss: 0.0323 - val_accuracy: 0.9878 - epoch_time: 2.2725\n",
            "Epoch 253/500\n",
            "179/179 [==============================] - 3s 16ms/step - loss: 0.0239 - accuracy: 0.9924 - val_loss: 0.0287 - val_accuracy: 0.9905 - epoch_time: 2.2195\n",
            "Epoch 254/500\n",
            "179/179 [==============================] - 2s 13ms/step - loss: 0.0249 - accuracy: 0.9918 - val_loss: 0.0339 - val_accuracy: 0.9886 - epoch_time: 2.2338\n",
            "Epoch 255/500\n",
            "179/179 [==============================] - 3s 16ms/step - loss: 0.0196 - accuracy: 0.9943 - val_loss: 0.0389 - val_accuracy: 0.9882 - epoch_time: 2.7606\n",
            "Epoch 256/500\n",
            "179/179 [==============================] - 4s 21ms/step - loss: 0.0219 - accuracy: 0.9931 - val_loss: 0.0444 - val_accuracy: 0.9866 - epoch_time: 3.6990\n",
            "Epoch 257/500\n",
            "179/179 [==============================] - 3s 16ms/step - loss: 0.0239 - accuracy: 0.9926 - val_loss: 0.0391 - val_accuracy: 0.9882 - epoch_time: 2.7266\n",
            "Epoch 258/500\n",
            "179/179 [==============================] - 2s 13ms/step - loss: 0.0210 - accuracy: 0.9935 - val_loss: 0.0432 - val_accuracy: 0.9866 - epoch_time: 2.3046\n",
            "Epoch 259/500\n",
            "179/179 [==============================] - 2s 13ms/step - loss: 0.0202 - accuracy: 0.9933 - val_loss: 0.0343 - val_accuracy: 0.9893 - epoch_time: 2.2017\n",
            "Epoch 260/500\n",
            "179/179 [==============================] - 2s 13ms/step - loss: 0.0210 - accuracy: 0.9931 - val_loss: 0.0381 - val_accuracy: 0.9889 - epoch_time: 2.2506\n",
            "Epoch 261/500\n",
            "179/179 [==============================] - 2s 13ms/step - loss: 0.0221 - accuracy: 0.9932 - val_loss: 0.0441 - val_accuracy: 0.9878 - epoch_time: 2.2194\n",
            "Epoch 262/500\n",
            "179/179 [==============================] - 3s 17ms/step - loss: 0.0217 - accuracy: 0.9936 - val_loss: 0.0331 - val_accuracy: 0.9909 - epoch_time: 3.0027\n",
            "Epoch 263/500\n",
            "179/179 [==============================] - 3s 14ms/step - loss: 0.0220 - accuracy: 0.9931 - val_loss: 0.0403 - val_accuracy: 0.9866 - epoch_time: 2.4295\n",
            "Epoch 264/500\n",
            "179/179 [==============================] - 2s 13ms/step - loss: 0.0275 - accuracy: 0.9908 - val_loss: 0.0387 - val_accuracy: 0.9889 - epoch_time: 2.2149\n",
            "Epoch 265/500\n",
            "179/179 [==============================] - 2s 13ms/step - loss: 0.0215 - accuracy: 0.9932 - val_loss: 0.0349 - val_accuracy: 0.9897 - epoch_time: 2.2524\n",
            "Epoch 266/500\n",
            "179/179 [==============================] - 2s 13ms/step - loss: 0.0243 - accuracy: 0.9925 - val_loss: 0.0347 - val_accuracy: 0.9893 - epoch_time: 2.2731\n",
            "Epoch 267/500\n",
            "179/179 [==============================] - 3s 15ms/step - loss: 0.0207 - accuracy: 0.9938 - val_loss: 0.0298 - val_accuracy: 0.9909 - epoch_time: 2.5877\n",
            "Epoch 268/500\n",
            "179/179 [==============================] - 3s 17ms/step - loss: 0.0203 - accuracy: 0.9936 - val_loss: 0.0331 - val_accuracy: 0.9874 - epoch_time: 2.9323\n",
            "Epoch 269/500\n",
            "179/179 [==============================] - 2s 13ms/step - loss: 0.0205 - accuracy: 0.9935 - val_loss: 0.0337 - val_accuracy: 0.9866 - epoch_time: 2.2662\n",
            "Epoch 270/500\n",
            "179/179 [==============================] - 3s 16ms/step - loss: 0.0208 - accuracy: 0.9937 - val_loss: 0.0271 - val_accuracy: 0.9917 - epoch_time: 2.2777\n",
            "Epoch 271/500\n",
            "179/179 [==============================] - 2s 13ms/step - loss: 0.0205 - accuracy: 0.9938 - val_loss: 0.0310 - val_accuracy: 0.9886 - epoch_time: 2.2118\n",
            "Epoch 272/500\n",
            "179/179 [==============================] - 2s 13ms/step - loss: 0.0241 - accuracy: 0.9918 - val_loss: 0.0278 - val_accuracy: 0.9901 - epoch_time: 2.2422\n",
            "Epoch 273/500\n",
            "179/179 [==============================] - 3s 17ms/step - loss: 0.0210 - accuracy: 0.9923 - val_loss: 0.0302 - val_accuracy: 0.9913 - epoch_time: 2.8581\n",
            "Epoch 274/500\n",
            "179/179 [==============================] - 4s 23ms/step - loss: 0.0203 - accuracy: 0.9935 - val_loss: 0.0267 - val_accuracy: 0.9913 - epoch_time: 2.7013\n",
            "Epoch 275/500\n",
            "179/179 [==============================] - 2s 13ms/step - loss: 0.0239 - accuracy: 0.9925 - val_loss: 0.0292 - val_accuracy: 0.9905 - epoch_time: 2.2505\n",
            "Epoch 276/500\n",
            "179/179 [==============================] - 2s 13ms/step - loss: 0.0206 - accuracy: 0.9936 - val_loss: 0.0315 - val_accuracy: 0.9897 - epoch_time: 2.2262\n",
            "Epoch 277/500\n",
            "179/179 [==============================] - 2s 13ms/step - loss: 0.0221 - accuracy: 0.9930 - val_loss: 0.0397 - val_accuracy: 0.9901 - epoch_time: 2.2279\n",
            "Epoch 278/500\n",
            "179/179 [==============================] - 3s 16ms/step - loss: 0.0204 - accuracy: 0.9927 - val_loss: 0.0317 - val_accuracy: 0.9901 - epoch_time: 2.6763\n",
            "Epoch 279/500\n",
            "179/179 [==============================] - 3s 16ms/step - loss: 0.0219 - accuracy: 0.9930 - val_loss: 0.0308 - val_accuracy: 0.9909 - epoch_time: 2.7985\n",
            "Epoch 280/500\n",
            "179/179 [==============================] - 2s 13ms/step - loss: 0.0209 - accuracy: 0.9932 - val_loss: 0.0324 - val_accuracy: 0.9886 - epoch_time: 2.2380\n",
            "Epoch 281/500\n",
            "179/179 [==============================] - 2s 13ms/step - loss: 0.0197 - accuracy: 0.9936 - val_loss: 0.0351 - val_accuracy: 0.9893 - epoch_time: 2.2237\n",
            "Epoch 282/500\n",
            "179/179 [==============================] - 2s 13ms/step - loss: 0.0310 - accuracy: 0.9903 - val_loss: 0.0337 - val_accuracy: 0.9897 - epoch_time: 2.2127\n",
            "Epoch 283/500\n",
            "179/179 [==============================] - 2s 13ms/step - loss: 0.0222 - accuracy: 0.9925 - val_loss: 0.0317 - val_accuracy: 0.9913 - epoch_time: 2.3207\n",
            "Epoch 284/500\n",
            "179/179 [==============================] - 3s 16ms/step - loss: 0.0197 - accuracy: 0.9935 - val_loss: 0.0296 - val_accuracy: 0.9886 - epoch_time: 2.8296\n",
            "Epoch 285/500\n",
            "179/179 [==============================] - 3s 16ms/step - loss: 0.0201 - accuracy: 0.9935 - val_loss: 0.0334 - val_accuracy: 0.9886 - epoch_time: 2.6971\n",
            "Epoch 286/500\n",
            "179/179 [==============================] - 2s 13ms/step - loss: 0.0206 - accuracy: 0.9935 - val_loss: 0.0339 - val_accuracy: 0.9893 - epoch_time: 2.2146\n",
            "Epoch 287/500\n",
            "179/179 [==============================] - 2s 13ms/step - loss: 0.0212 - accuracy: 0.9938 - val_loss: 0.0373 - val_accuracy: 0.9874 - epoch_time: 2.2296\n",
            "Epoch 288/500\n",
            "179/179 [==============================] - 2s 13ms/step - loss: 0.0188 - accuracy: 0.9943 - val_loss: 0.0285 - val_accuracy: 0.9909 - epoch_time: 2.1449\n",
            "Epoch 289/500\n",
            "179/179 [==============================] - 2s 13ms/step - loss: 0.0191 - accuracy: 0.9944 - val_loss: 0.0360 - val_accuracy: 0.9878 - epoch_time: 2.2526\n",
            "Epoch 290/500\n",
            "179/179 [==============================] - 3s 17ms/step - loss: 0.0193 - accuracy: 0.9938 - val_loss: 0.0370 - val_accuracy: 0.9889 - epoch_time: 2.9224\n",
            "Epoch 291/500\n",
            "179/179 [==============================] - 3s 14ms/step - loss: 0.0188 - accuracy: 0.9943 - val_loss: 0.0370 - val_accuracy: 0.9886 - epoch_time: 2.4598\n",
            "Epoch 292/500\n",
            "179/179 [==============================] - 2s 13ms/step - loss: 0.0199 - accuracy: 0.9930 - val_loss: 0.0343 - val_accuracy: 0.9893 - epoch_time: 2.2467\n",
            "Epoch 293/500\n",
            "179/179 [==============================] - 2s 13ms/step - loss: 0.0190 - accuracy: 0.9939 - val_loss: 0.0319 - val_accuracy: 0.9893 - epoch_time: 2.3036\n",
            "Epoch 294/500\n",
            "179/179 [==============================] - 2s 14ms/step - loss: 0.0204 - accuracy: 0.9936 - val_loss: 0.0281 - val_accuracy: 0.9909 - epoch_time: 2.3312\n",
            "Epoch 295/500\n",
            "179/179 [==============================] - 3s 15ms/step - loss: 0.0193 - accuracy: 0.9938 - val_loss: 0.0380 - val_accuracy: 0.9889 - epoch_time: 2.6070\n",
            "Epoch 296/500\n",
            "179/179 [==============================] - 3s 16ms/step - loss: 0.0213 - accuracy: 0.9939 - val_loss: 0.0301 - val_accuracy: 0.9909 - epoch_time: 2.7890\n",
            "Epoch 297/500\n",
            "179/179 [==============================] - 2s 13ms/step - loss: 0.0181 - accuracy: 0.9941 - val_loss: 0.0358 - val_accuracy: 0.9893 - epoch_time: 2.2779\n",
            "Epoch 298/500\n",
            "179/179 [==============================] - 2s 13ms/step - loss: 0.0209 - accuracy: 0.9934 - val_loss: 0.0313 - val_accuracy: 0.9889 - epoch_time: 2.2658\n",
            "Epoch 299/500\n",
            "179/179 [==============================] - 2s 13ms/step - loss: 0.0200 - accuracy: 0.9940 - val_loss: 0.0396 - val_accuracy: 0.9913 - epoch_time: 2.2456\n",
            "Epoch 300/500\n",
            "179/179 [==============================] - 3s 14ms/step - loss: 0.0204 - accuracy: 0.9935 - val_loss: 0.0331 - val_accuracy: 0.9905 - epoch_time: 2.4416\n",
            "Epoch 301/500\n",
            "179/179 [==============================] - 3s 17ms/step - loss: 0.0215 - accuracy: 0.9935 - val_loss: 0.0382 - val_accuracy: 0.9862 - epoch_time: 2.8474\n",
            "Epoch 302/500\n",
            "179/179 [==============================] - 3s 16ms/step - loss: 0.0202 - accuracy: 0.9937 - val_loss: 0.0339 - val_accuracy: 0.9901 - epoch_time: 2.6783\n",
            "Epoch 303/500\n",
            "179/179 [==============================] - 2s 13ms/step - loss: 0.0207 - accuracy: 0.9932 - val_loss: 0.0368 - val_accuracy: 0.9882 - epoch_time: 2.2678\n",
            "Epoch 304/500\n",
            "179/179 [==============================] - 2s 14ms/step - loss: 0.0199 - accuracy: 0.9942 - val_loss: 0.0383 - val_accuracy: 0.9878 - epoch_time: 2.3555\n",
            "Epoch 305/500\n",
            "179/179 [==============================] - 2s 13ms/step - loss: 0.0205 - accuracy: 0.9932 - val_loss: 0.0453 - val_accuracy: 0.9870 - epoch_time: 2.2864\n",
            "Epoch 306/500\n",
            "179/179 [==============================] - 2s 14ms/step - loss: 0.0192 - accuracy: 0.9938 - val_loss: 0.0421 - val_accuracy: 0.9889 - epoch_time: 2.2964\n",
            "Epoch 307/500\n",
            "179/179 [==============================] - 3s 17ms/step - loss: 0.0186 - accuracy: 0.9943 - val_loss: 0.0389 - val_accuracy: 0.9901 - epoch_time: 2.9392\n",
            "Epoch 308/500\n",
            "179/179 [==============================] - 3s 15ms/step - loss: 0.0224 - accuracy: 0.9930 - val_loss: 0.0370 - val_accuracy: 0.9893 - epoch_time: 2.5410\n",
            "Epoch 309/500\n",
            "179/179 [==============================] - 2s 13ms/step - loss: 0.0256 - accuracy: 0.9921 - val_loss: 0.0347 - val_accuracy: 0.9897 - epoch_time: 2.3127\n",
            "Epoch 310/500\n",
            "179/179 [==============================] - 2s 13ms/step - loss: 0.0189 - accuracy: 0.9946 - val_loss: 0.0395 - val_accuracy: 0.9886 - epoch_time: 2.3219\n",
            "Epoch 311/500\n",
            "179/179 [==============================] - 2s 13ms/step - loss: 0.0197 - accuracy: 0.9939 - val_loss: 0.0350 - val_accuracy: 0.9893 - epoch_time: 2.2373\n",
            "Epoch 312/500\n",
            "179/179 [==============================] - 3s 16ms/step - loss: 0.0190 - accuracy: 0.9939 - val_loss: 0.0344 - val_accuracy: 0.9909 - epoch_time: 2.7658\n",
            "Epoch 313/500\n",
            "179/179 [==============================] - 3s 16ms/step - loss: 0.0169 - accuracy: 0.9945 - val_loss: 0.0340 - val_accuracy: 0.9889 - epoch_time: 2.7812\n",
            "Epoch 314/500\n",
            "179/179 [==============================] - 2s 13ms/step - loss: 0.0233 - accuracy: 0.9925 - val_loss: 0.0414 - val_accuracy: 0.9866 - epoch_time: 2.2664\n",
            "Epoch 315/500\n",
            "179/179 [==============================] - 2s 13ms/step - loss: 0.0196 - accuracy: 0.9937 - val_loss: 0.0358 - val_accuracy: 0.9870 - epoch_time: 2.2359\n",
            "Epoch 316/500\n",
            "179/179 [==============================] - 2s 13ms/step - loss: 0.0194 - accuracy: 0.9932 - val_loss: 0.0400 - val_accuracy: 0.9878 - epoch_time: 2.2782\n",
            "Epoch 317/500\n",
            "179/179 [==============================] - 2s 14ms/step - loss: 0.0215 - accuracy: 0.9932 - val_loss: 0.0343 - val_accuracy: 0.9870 - epoch_time: 2.3606\n",
            "Epoch 318/500\n",
            "179/179 [==============================] - 3s 17ms/step - loss: 0.0175 - accuracy: 0.9947 - val_loss: 0.0436 - val_accuracy: 0.9874 - epoch_time: 2.8484\n",
            "Epoch 319/500\n",
            "179/179 [==============================] - 3s 15ms/step - loss: 0.0182 - accuracy: 0.9937 - val_loss: 0.0397 - val_accuracy: 0.9889 - epoch_time: 2.5586\n",
            "Epoch 320/500\n",
            "179/179 [==============================] - 2s 13ms/step - loss: 0.0199 - accuracy: 0.9938 - val_loss: 0.0386 - val_accuracy: 0.9893 - epoch_time: 2.2508\n",
            "Epoch 321/500\n",
            "179/179 [==============================] - 2s 13ms/step - loss: 0.0196 - accuracy: 0.9942 - val_loss: 0.0371 - val_accuracy: 0.9893 - epoch_time: 2.2173\n",
            "Epoch 322/500\n",
            "179/179 [==============================] - 2s 13ms/step - loss: 0.0179 - accuracy: 0.9944 - val_loss: 0.0389 - val_accuracy: 0.9882 - epoch_time: 2.2352\n",
            "Epoch 323/500\n",
            "179/179 [==============================] - 2s 14ms/step - loss: 0.0186 - accuracy: 0.9943 - val_loss: 0.0463 - val_accuracy: 0.9882 - epoch_time: 2.3777\n",
            "Epoch 324/500\n",
            "179/179 [==============================] - 3s 17ms/step - loss: 0.0212 - accuracy: 0.9934 - val_loss: 0.0353 - val_accuracy: 0.9866 - epoch_time: 2.9285\n",
            "Epoch 325/500\n",
            "179/179 [==============================] - 3s 14ms/step - loss: 0.0197 - accuracy: 0.9937 - val_loss: 0.0341 - val_accuracy: 0.9882 - epoch_time: 2.4277\n",
            "Epoch 326/500\n",
            "179/179 [==============================] - 2s 13ms/step - loss: 0.0186 - accuracy: 0.9935 - val_loss: 0.0355 - val_accuracy: 0.9889 - epoch_time: 2.2726\n",
            "Epoch 327/500\n",
            "179/179 [==============================] - 2s 13ms/step - loss: 0.0170 - accuracy: 0.9942 - val_loss: 0.0343 - val_accuracy: 0.9886 - epoch_time: 2.2359\n",
            "Epoch 328/500\n",
            "179/179 [==============================] - 2s 13ms/step - loss: 0.0356 - accuracy: 0.9892 - val_loss: 0.0329 - val_accuracy: 0.9889 - epoch_time: 2.2731\n",
            "Epoch 329/500\n",
            "179/179 [==============================] - 3s 15ms/step - loss: 0.0216 - accuracy: 0.9935 - val_loss: 0.0363 - val_accuracy: 0.9870 - epoch_time: 2.6194\n",
            "Epoch 330/500\n",
            "179/179 [==============================] - 3s 16ms/step - loss: 0.0210 - accuracy: 0.9935 - val_loss: 0.0390 - val_accuracy: 0.9886 - epoch_time: 2.8546\n",
            "Epoch 331/500\n",
            "179/179 [==============================] - 2s 13ms/step - loss: 0.0194 - accuracy: 0.9940 - val_loss: 0.0359 - val_accuracy: 0.9870 - epoch_time: 2.2431\n",
            "Epoch 332/500\n",
            "179/179 [==============================] - 2s 13ms/step - loss: 0.0167 - accuracy: 0.9944 - val_loss: 0.0402 - val_accuracy: 0.9854 - epoch_time: 2.2863\n",
            "Epoch 333/500\n",
            "179/179 [==============================] - 2s 14ms/step - loss: 0.0230 - accuracy: 0.9933 - val_loss: 0.0405 - val_accuracy: 0.9866 - epoch_time: 2.3251\n",
            "Epoch 334/500\n",
            "179/179 [==============================] - 2s 13ms/step - loss: 0.0211 - accuracy: 0.9941 - val_loss: 0.0386 - val_accuracy: 0.9893 - epoch_time: 2.2728\n",
            "Epoch 335/500\n",
            "179/179 [==============================] - 3s 17ms/step - loss: 0.0188 - accuracy: 0.9942 - val_loss: 0.0420 - val_accuracy: 0.9866 - epoch_time: 2.8657\n",
            "Epoch 336/500\n",
            "179/179 [==============================] - 3s 15ms/step - loss: 0.0195 - accuracy: 0.9940 - val_loss: 0.0368 - val_accuracy: 0.9886 - epoch_time: 2.6309\n",
            "Epoch 337/500\n",
            "179/179 [==============================] - 2s 13ms/step - loss: 0.0202 - accuracy: 0.9936 - val_loss: 0.0305 - val_accuracy: 0.9886 - epoch_time: 2.2662\n",
            "Epoch 338/500\n",
            "179/179 [==============================] - 2s 13ms/step - loss: 0.0161 - accuracy: 0.9957 - val_loss: 0.0303 - val_accuracy: 0.9889 - epoch_time: 2.2572\n",
            "Epoch 339/500\n",
            "179/179 [==============================] - 2s 13ms/step - loss: 0.0162 - accuracy: 0.9952 - val_loss: 0.0319 - val_accuracy: 0.9889 - epoch_time: 2.2273\n",
            "Epoch 340/500\n",
            "179/179 [==============================] - 2s 14ms/step - loss: 0.0173 - accuracy: 0.9950 - val_loss: 0.0300 - val_accuracy: 0.9893 - epoch_time: 2.3651\n",
            "Epoch 341/500\n",
            "179/179 [==============================] - 3s 17ms/step - loss: 0.0180 - accuracy: 0.9943 - val_loss: 0.0303 - val_accuracy: 0.9905 - epoch_time: 2.9111\n",
            "Epoch 342/500\n",
            "179/179 [==============================] - 3s 15ms/step - loss: 0.0164 - accuracy: 0.9952 - val_loss: 0.0354 - val_accuracy: 0.9897 - epoch_time: 2.5983\n",
            "Epoch 343/500\n",
            "179/179 [==============================] - 2s 13ms/step - loss: 0.0187 - accuracy: 0.9943 - val_loss: 0.0362 - val_accuracy: 0.9893 - epoch_time: 2.2931\n",
            "Epoch 344/500\n",
            "179/179 [==============================] - 2s 14ms/step - loss: 0.0218 - accuracy: 0.9935 - val_loss: 0.0312 - val_accuracy: 0.9917 - epoch_time: 2.3590\n",
            "Epoch 345/500\n",
            "179/179 [==============================] - 2s 13ms/step - loss: 0.0210 - accuracy: 0.9936 - val_loss: 0.0294 - val_accuracy: 0.9897 - epoch_time: 2.2630\n",
            "Epoch 346/500\n",
            "179/179 [==============================] - 3s 16ms/step - loss: 0.0177 - accuracy: 0.9941 - val_loss: 0.0298 - val_accuracy: 0.9909 - epoch_time: 2.6869\n",
            "Epoch 347/500\n",
            "179/179 [==============================] - 3s 16ms/step - loss: 0.0211 - accuracy: 0.9942 - val_loss: 0.0325 - val_accuracy: 0.9905 - epoch_time: 2.8448\n",
            "Epoch 348/500\n",
            "179/179 [==============================] - 2s 13ms/step - loss: 0.0188 - accuracy: 0.9942 - val_loss: 0.0352 - val_accuracy: 0.9878 - epoch_time: 2.3050\n",
            "Epoch 349/500\n",
            "179/179 [==============================] - 3s 14ms/step - loss: 0.0192 - accuracy: 0.9947 - val_loss: 0.0309 - val_accuracy: 0.9905 - epoch_time: 2.4314\n",
            "Epoch 350/500\n",
            "179/179 [==============================] - 3s 14ms/step - loss: 0.0163 - accuracy: 0.9946 - val_loss: 0.0433 - val_accuracy: 0.9862 - epoch_time: 2.4865\n",
            "Epoch 351/500\n",
            "179/179 [==============================] - 3s 15ms/step - loss: 0.0196 - accuracy: 0.9939 - val_loss: 0.0331 - val_accuracy: 0.9878 - epoch_time: 2.5054\n",
            "Epoch 352/500\n",
            "179/179 [==============================] - 3s 17ms/step - loss: 0.0181 - accuracy: 0.9940 - val_loss: 0.0346 - val_accuracy: 0.9882 - epoch_time: 2.9656\n",
            "Epoch 353/500\n",
            "179/179 [==============================] - 3s 15ms/step - loss: 0.0169 - accuracy: 0.9946 - val_loss: 0.0360 - val_accuracy: 0.9889 - epoch_time: 2.6031\n",
            "Epoch 354/500\n",
            "179/179 [==============================] - 2s 14ms/step - loss: 0.0170 - accuracy: 0.9944 - val_loss: 0.0340 - val_accuracy: 0.9893 - epoch_time: 2.3605\n",
            "Epoch 355/500\n",
            "179/179 [==============================] - 3s 14ms/step - loss: 0.0190 - accuracy: 0.9941 - val_loss: 0.0385 - val_accuracy: 0.9889 - epoch_time: 2.4314\n",
            "Epoch 356/500\n",
            "179/179 [==============================] - 2s 14ms/step - loss: 0.0186 - accuracy: 0.9944 - val_loss: 0.0319 - val_accuracy: 0.9893 - epoch_time: 2.3858\n",
            "Epoch 357/500\n",
            "179/179 [==============================] - 3s 17ms/step - loss: 0.0173 - accuracy: 0.9943 - val_loss: 0.0281 - val_accuracy: 0.9909 - epoch_time: 2.9947\n",
            "Epoch 358/500\n",
            "179/179 [==============================] - 3s 16ms/step - loss: 0.0169 - accuracy: 0.9944 - val_loss: 0.0357 - val_accuracy: 0.9870 - epoch_time: 2.8199\n",
            "Epoch 359/500\n",
            "179/179 [==============================] - 2s 14ms/step - loss: 0.0201 - accuracy: 0.9938 - val_loss: 0.0359 - val_accuracy: 0.9882 - epoch_time: 2.3602\n",
            "Epoch 360/500\n",
            "179/179 [==============================] - 2s 14ms/step - loss: 0.0175 - accuracy: 0.9943 - val_loss: 0.0319 - val_accuracy: 0.9889 - epoch_time: 2.3688\n",
            "Epoch 361/500\n",
            "179/179 [==============================] - 2s 14ms/step - loss: 0.0184 - accuracy: 0.9949 - val_loss: 0.0345 - val_accuracy: 0.9897 - epoch_time: 2.3886\n",
            "Epoch 362/500\n",
            "179/179 [==============================] - 4s 22ms/step - loss: 0.0196 - accuracy: 0.9943 - val_loss: 0.0248 - val_accuracy: 0.9889 - epoch_time: 3.0369\n",
            "Epoch 363/500\n",
            "179/179 [==============================] - 4s 21ms/step - loss: 0.0166 - accuracy: 0.9948 - val_loss: 0.0356 - val_accuracy: 0.9893 - epoch_time: 3.6413\n",
            "Epoch 364/500\n",
            "179/179 [==============================] - 3s 14ms/step - loss: 0.0207 - accuracy: 0.9941 - val_loss: 0.0339 - val_accuracy: 0.9897 - epoch_time: 2.5022\n",
            "Epoch 365/500\n",
            "179/179 [==============================] - 2s 14ms/step - loss: 0.0198 - accuracy: 0.9936 - val_loss: 0.0289 - val_accuracy: 0.9905 - epoch_time: 2.3656\n",
            "Epoch 366/500\n",
            "179/179 [==============================] - 2s 13ms/step - loss: 0.0165 - accuracy: 0.9948 - val_loss: 0.0333 - val_accuracy: 0.9886 - epoch_time: 2.3201\n",
            "Epoch 367/500\n",
            "179/179 [==============================] - 2s 13ms/step - loss: 0.0172 - accuracy: 0.9943 - val_loss: 0.0321 - val_accuracy: 0.9874 - epoch_time: 2.2902\n",
            "Epoch 368/500\n",
            "179/179 [==============================] - 3s 16ms/step - loss: 0.0172 - accuracy: 0.9943 - val_loss: 0.0315 - val_accuracy: 0.9874 - epoch_time: 2.7412\n",
            "Epoch 369/500\n",
            "179/179 [==============================] - 3s 17ms/step - loss: 0.0145 - accuracy: 0.9952 - val_loss: 0.0348 - val_accuracy: 0.9897 - epoch_time: 2.9500\n",
            "Epoch 370/500\n",
            "179/179 [==============================] - 2s 14ms/step - loss: 0.0159 - accuracy: 0.9949 - val_loss: 0.0292 - val_accuracy: 0.9886 - epoch_time: 2.3893\n"
          ]
        }
      ],
      "source": [
        "sensor = \"sensor2\"\n",
        "time_callback = TimeHistory()\n",
        "model_sensor2 = creatModel()\n",
        "model_save, checkpoint, history_cb, Estop = setCallbacks(\"sensor2\")\n",
        "history_sensor2 = model_sensor2.fit(X_train_sensor2, y_train_sensor2,\n",
        "                                    batch_size = 128, epochs = 500,\n",
        "                                    validation_split = 0.1,\n",
        "                                    verbose = 1,\n",
        "                                    callbacks = [time_callback, model_save, checkpoint, history_cb, Estop])\n",
        "                                    # class_weight= class_weights)#"
      ]
    },
    {
      "cell_type": "code",
      "execution_count": null,
      "metadata": {
        "colab": {
          "base_uri": "https://localhost:8080/"
        },
        "id": "ylJKm4n7ppeJ",
        "outputId": "67d45464-0831-419c-aa02-7d4f93fc30e5"
      },
      "outputs": [
        {
          "output_type": "stream",
          "name": "stdout",
          "text": [
            "Epoch 1/500\n",
            "179/179 [==============================] - 9s 18ms/step - loss: 0.4602 - accuracy: 0.8437 - val_loss: 0.4374 - val_accuracy: 0.8500 - epoch_time: 8.3290\n",
            "Epoch 2/500\n",
            "179/179 [==============================] - 2s 13ms/step - loss: 0.4379 - accuracy: 0.8464 - val_loss: 0.4315 - val_accuracy: 0.8500 - epoch_time: 2.0577\n",
            "Epoch 3/500\n",
            "179/179 [==============================] - 2s 13ms/step - loss: 0.4313 - accuracy: 0.8464 - val_loss: 0.4174 - val_accuracy: 0.8500 - epoch_time: 2.1888\n",
            "Epoch 4/500\n",
            "179/179 [==============================] - 3s 17ms/step - loss: 0.4240 - accuracy: 0.8464 - val_loss: 0.4097 - val_accuracy: 0.8500 - epoch_time: 2.8169\n",
            "Epoch 5/500\n",
            "179/179 [==============================] - 2s 13ms/step - loss: 0.4093 - accuracy: 0.8474 - val_loss: 0.3835 - val_accuracy: 0.8595 - epoch_time: 2.0928\n",
            "Epoch 6/500\n",
            "179/179 [==============================] - 2s 12ms/step - loss: 0.3876 - accuracy: 0.8594 - val_loss: 0.3749 - val_accuracy: 0.8677 - epoch_time: 2.0213\n",
            "Epoch 7/500\n",
            "179/179 [==============================] - 2s 13ms/step - loss: 0.3732 - accuracy: 0.8643 - val_loss: 0.3552 - val_accuracy: 0.8721 - epoch_time: 2.0961\n",
            "Epoch 8/500\n",
            "179/179 [==============================] - 2s 12ms/step - loss: 0.3624 - accuracy: 0.8696 - val_loss: 0.3551 - val_accuracy: 0.8721 - epoch_time: 2.0040\n",
            "Epoch 9/500\n",
            "179/179 [==============================] - 3s 14ms/step - loss: 0.3587 - accuracy: 0.8704 - val_loss: 0.3429 - val_accuracy: 0.8749 - epoch_time: 2.3545\n",
            "Epoch 10/500\n",
            "179/179 [==============================] - 3s 15ms/step - loss: 0.3554 - accuracy: 0.8712 - val_loss: 0.3428 - val_accuracy: 0.8772 - epoch_time: 2.6002\n",
            "Epoch 11/500\n",
            "179/179 [==============================] - 2s 12ms/step - loss: 0.3531 - accuracy: 0.8728 - val_loss: 0.3427 - val_accuracy: 0.8752 - epoch_time: 1.9858\n",
            "Epoch 12/500\n",
            "179/179 [==============================] - 2s 12ms/step - loss: 0.3460 - accuracy: 0.8749 - val_loss: 0.3343 - val_accuracy: 0.8792 - epoch_time: 2.0111\n",
            "Epoch 13/500\n",
            "179/179 [==============================] - 2s 12ms/step - loss: 0.3420 - accuracy: 0.8761 - val_loss: 0.3343 - val_accuracy: 0.8752 - epoch_time: 2.0601\n",
            "Epoch 14/500\n",
            "179/179 [==============================] - 2s 12ms/step - loss: 0.3405 - accuracy: 0.8760 - val_loss: 0.3364 - val_accuracy: 0.8812 - epoch_time: 2.0754\n",
            "Epoch 15/500\n",
            "179/179 [==============================] - 3s 16ms/step - loss: 0.3419 - accuracy: 0.8768 - val_loss: 0.3330 - val_accuracy: 0.8820 - epoch_time: 2.5780\n",
            "Epoch 16/500\n",
            "179/179 [==============================] - 3s 15ms/step - loss: 0.3384 - accuracy: 0.8774 - val_loss: 0.3421 - val_accuracy: 0.8784 - epoch_time: 2.5609\n",
            "Epoch 17/500\n",
            "179/179 [==============================] - 2s 13ms/step - loss: 0.3303 - accuracy: 0.8795 - val_loss: 0.3276 - val_accuracy: 0.8839 - epoch_time: 2.1238\n",
            "Epoch 18/500\n",
            "179/179 [==============================] - 2s 12ms/step - loss: 0.3310 - accuracy: 0.8806 - val_loss: 0.3281 - val_accuracy: 0.8859 - epoch_time: 2.0567\n",
            "Epoch 19/500\n",
            "179/179 [==============================] - 2s 12ms/step - loss: 0.3274 - accuracy: 0.8815 - val_loss: 0.3413 - val_accuracy: 0.8784 - epoch_time: 2.0532\n",
            "Epoch 20/500\n",
            "179/179 [==============================] - 2s 13ms/step - loss: 0.3239 - accuracy: 0.8807 - val_loss: 0.3146 - val_accuracy: 0.8867 - epoch_time: 2.0385\n",
            "Epoch 21/500\n",
            "179/179 [==============================] - 3s 17ms/step - loss: 0.3206 - accuracy: 0.8823 - val_loss: 0.3136 - val_accuracy: 0.8863 - epoch_time: 2.8621\n",
            "Epoch 22/500\n",
            "179/179 [==============================] - 3s 14ms/step - loss: 0.3152 - accuracy: 0.8842 - val_loss: 0.3098 - val_accuracy: 0.8871 - epoch_time: 2.3592\n",
            "Epoch 23/500\n",
            "179/179 [==============================] - 2s 13ms/step - loss: 0.3131 - accuracy: 0.8847 - val_loss: 0.3080 - val_accuracy: 0.8879 - epoch_time: 2.1381\n",
            "Epoch 24/500\n",
            "179/179 [==============================] - 2s 12ms/step - loss: 0.3109 - accuracy: 0.8863 - val_loss: 0.3137 - val_accuracy: 0.8847 - epoch_time: 2.0784\n",
            "Epoch 25/500\n",
            "179/179 [==============================] - 2s 13ms/step - loss: 0.3028 - accuracy: 0.8872 - val_loss: 0.3065 - val_accuracy: 0.8883 - epoch_time: 2.1010\n",
            "Epoch 26/500\n",
            "179/179 [==============================] - 2s 14ms/step - loss: 0.3070 - accuracy: 0.8867 - val_loss: 0.3045 - val_accuracy: 0.8922 - epoch_time: 2.2438\n",
            "Epoch 27/500\n",
            "179/179 [==============================] - 3s 17ms/step - loss: 0.3007 - accuracy: 0.8878 - val_loss: 0.2972 - val_accuracy: 0.8938 - epoch_time: 2.8623\n",
            "Epoch 28/500\n",
            "179/179 [==============================] - 2s 12ms/step - loss: 0.2975 - accuracy: 0.8892 - val_loss: 0.3049 - val_accuracy: 0.8934 - epoch_time: 2.1369\n",
            "Epoch 29/500\n",
            "179/179 [==============================] - 2s 12ms/step - loss: 0.2964 - accuracy: 0.8890 - val_loss: 0.2988 - val_accuracy: 0.8950 - epoch_time: 2.1437\n",
            "Epoch 30/500\n",
            "179/179 [==============================] - 3s 14ms/step - loss: 0.2872 - accuracy: 0.8926 - val_loss: 0.2940 - val_accuracy: 0.8918 - epoch_time: 2.2844\n",
            "Epoch 31/500\n",
            "179/179 [==============================] - 2s 13ms/step - loss: 0.2860 - accuracy: 0.8930 - val_loss: 0.3028 - val_accuracy: 0.8918 - epoch_time: 2.1905\n",
            "Epoch 32/500\n",
            "179/179 [==============================] - 3s 16ms/step - loss: 0.2817 - accuracy: 0.8946 - val_loss: 0.2966 - val_accuracy: 0.8934 - epoch_time: 2.8338\n",
            "Epoch 33/500\n",
            "179/179 [==============================] - 3s 15ms/step - loss: 0.2817 - accuracy: 0.8938 - val_loss: 0.2938 - val_accuracy: 0.8962 - epoch_time: 2.5397\n",
            "Epoch 34/500\n",
            "179/179 [==============================] - 2s 14ms/step - loss: 0.2848 - accuracy: 0.8942 - val_loss: 0.2933 - val_accuracy: 0.8962 - epoch_time: 2.2491\n",
            "Epoch 35/500\n",
            "179/179 [==============================] - 2s 13ms/step - loss: 0.2750 - accuracy: 0.8968 - val_loss: 0.2856 - val_accuracy: 0.8985 - epoch_time: 2.1588\n",
            "Epoch 36/500\n",
            "179/179 [==============================] - 2s 13ms/step - loss: 0.2713 - accuracy: 0.8994 - val_loss: 0.2896 - val_accuracy: 0.9001 - epoch_time: 2.1676\n",
            "Epoch 37/500\n",
            "179/179 [==============================] - 2s 14ms/step - loss: 0.2680 - accuracy: 0.8992 - val_loss: 0.2888 - val_accuracy: 0.8985 - epoch_time: 2.3712\n",
            "Epoch 38/500\n",
            "179/179 [==============================] - 3s 18ms/step - loss: 0.2664 - accuracy: 0.9004 - val_loss: 0.3017 - val_accuracy: 0.8993 - epoch_time: 3.0579\n",
            "Epoch 39/500\n",
            "179/179 [==============================] - 2s 13ms/step - loss: 0.2686 - accuracy: 0.8984 - val_loss: 0.2865 - val_accuracy: 0.9025 - epoch_time: 2.1833\n",
            "Epoch 40/500\n",
            "179/179 [==============================] - 3s 17ms/step - loss: 0.2619 - accuracy: 0.8992 - val_loss: 0.2747 - val_accuracy: 0.9021 - epoch_time: 2.1523\n",
            "Epoch 41/500\n",
            "179/179 [==============================] - 2s 13ms/step - loss: 0.2575 - accuracy: 0.9027 - val_loss: 0.2732 - val_accuracy: 0.9045 - epoch_time: 2.2241\n",
            "Epoch 42/500\n",
            "179/179 [==============================] - 2s 14ms/step - loss: 0.2574 - accuracy: 0.9031 - val_loss: 0.2699 - val_accuracy: 0.9045 - epoch_time: 2.1785\n",
            "Epoch 43/500\n",
            "179/179 [==============================] - 3s 17ms/step - loss: 0.2557 - accuracy: 0.9041 - val_loss: 0.2737 - val_accuracy: 0.8977 - epoch_time: 2.9730\n",
            "Epoch 44/500\n",
            "179/179 [==============================] - 2s 14ms/step - loss: 0.2501 - accuracy: 0.9047 - val_loss: 0.2657 - val_accuracy: 0.9068 - epoch_time: 2.2449\n",
            "Epoch 45/500\n",
            "179/179 [==============================] - 2s 12ms/step - loss: 0.2501 - accuracy: 0.9053 - val_loss: 0.2669 - val_accuracy: 0.9060 - epoch_time: 2.1356\n",
            "Epoch 46/500\n",
            "179/179 [==============================] - 2s 13ms/step - loss: 0.2484 - accuracy: 0.9070 - val_loss: 0.2689 - val_accuracy: 0.9033 - epoch_time: 2.1642\n",
            "Epoch 47/500\n",
            "179/179 [==============================] - 2s 12ms/step - loss: 0.2438 - accuracy: 0.9067 - val_loss: 0.2734 - val_accuracy: 0.9005 - epoch_time: 2.1358\n",
            "Epoch 48/500\n",
            "179/179 [==============================] - 3s 16ms/step - loss: 0.2441 - accuracy: 0.9075 - val_loss: 0.2620 - val_accuracy: 0.9049 - epoch_time: 2.5675\n",
            "Epoch 49/500\n",
            "179/179 [==============================] - 3s 17ms/step - loss: 0.2398 - accuracy: 0.9084 - val_loss: 0.2607 - val_accuracy: 0.9072 - epoch_time: 2.8326\n",
            "Epoch 50/500\n",
            "179/179 [==============================] - 2s 12ms/step - loss: 0.2435 - accuracy: 0.9070 - val_loss: 0.2652 - val_accuracy: 0.9029 - epoch_time: 2.1183\n",
            "Epoch 51/500\n",
            "179/179 [==============================] - 2s 13ms/step - loss: 0.2372 - accuracy: 0.9089 - val_loss: 0.2554 - val_accuracy: 0.9056 - epoch_time: 2.1392\n",
            "Epoch 52/500\n",
            "179/179 [==============================] - 2s 13ms/step - loss: 0.2367 - accuracy: 0.9098 - val_loss: 0.2457 - val_accuracy: 0.9100 - epoch_time: 2.1400\n",
            "Epoch 53/500\n",
            "179/179 [==============================] - 2s 13ms/step - loss: 0.2357 - accuracy: 0.9100 - val_loss: 0.2503 - val_accuracy: 0.9088 - epoch_time: 2.1604\n",
            "Epoch 54/500\n",
            "179/179 [==============================] - 3s 16ms/step - loss: 0.2316 - accuracy: 0.9126 - val_loss: 0.2640 - val_accuracy: 0.8997 - epoch_time: 2.7845\n",
            "Epoch 55/500\n",
            "179/179 [==============================] - 3s 14ms/step - loss: 0.2325 - accuracy: 0.9103 - val_loss: 0.2477 - val_accuracy: 0.9116 - epoch_time: 2.4591\n",
            "Epoch 56/500\n",
            "179/179 [==============================] - 2s 13ms/step - loss: 0.2303 - accuracy: 0.9132 - val_loss: 0.2391 - val_accuracy: 0.9108 - epoch_time: 2.1465\n",
            "Epoch 57/500\n",
            "179/179 [==============================] - 2s 12ms/step - loss: 0.2248 - accuracy: 0.9148 - val_loss: 0.2529 - val_accuracy: 0.9005 - epoch_time: 2.1363\n",
            "Epoch 58/500\n",
            "179/179 [==============================] - 2s 12ms/step - loss: 0.2339 - accuracy: 0.9087 - val_loss: 0.2439 - val_accuracy: 0.9131 - epoch_time: 2.0808\n",
            "Epoch 59/500\n",
            "179/179 [==============================] - 2s 12ms/step - loss: 0.2246 - accuracy: 0.9134 - val_loss: 0.2509 - val_accuracy: 0.9112 - epoch_time: 2.0910\n",
            "Epoch 60/500\n",
            "179/179 [==============================] - 3s 16ms/step - loss: 0.2397 - accuracy: 0.9069 - val_loss: 0.2532 - val_accuracy: 0.9029 - epoch_time: 2.8385\n",
            "Epoch 61/500\n",
            "179/179 [==============================] - 2s 13ms/step - loss: 0.2222 - accuracy: 0.9147 - val_loss: 0.2426 - val_accuracy: 0.9092 - epoch_time: 2.3221\n",
            "Epoch 62/500\n",
            "179/179 [==============================] - 2s 13ms/step - loss: 0.2159 - accuracy: 0.9169 - val_loss: 0.2426 - val_accuracy: 0.9084 - epoch_time: 2.1646\n",
            "Epoch 63/500\n",
            "179/179 [==============================] - 3s 16ms/step - loss: 0.2176 - accuracy: 0.9154 - val_loss: 0.2295 - val_accuracy: 0.9191 - epoch_time: 2.2162\n",
            "Epoch 64/500\n",
            "179/179 [==============================] - 2s 12ms/step - loss: 0.2130 - accuracy: 0.9171 - val_loss: 0.2304 - val_accuracy: 0.9128 - epoch_time: 2.0864\n",
            "Epoch 65/500\n",
            "179/179 [==============================] - 3s 15ms/step - loss: 0.2144 - accuracy: 0.9154 - val_loss: 0.2365 - val_accuracy: 0.9139 - epoch_time: 2.5589\n",
            "Epoch 66/500\n",
            "179/179 [==============================] - 3s 16ms/step - loss: 0.2113 - accuracy: 0.9164 - val_loss: 0.2280 - val_accuracy: 0.9155 - epoch_time: 2.7506\n",
            "Epoch 67/500\n",
            "179/179 [==============================] - 2s 13ms/step - loss: 0.2096 - accuracy: 0.9188 - val_loss: 0.2333 - val_accuracy: 0.9155 - epoch_time: 2.1509\n",
            "Epoch 68/500\n",
            "179/179 [==============================] - 2s 13ms/step - loss: 0.2060 - accuracy: 0.9207 - val_loss: 0.2383 - val_accuracy: 0.9116 - epoch_time: 2.1784\n",
            "Epoch 69/500\n",
            "179/179 [==============================] - 2s 13ms/step - loss: 0.2061 - accuracy: 0.9203 - val_loss: 0.2366 - val_accuracy: 0.9151 - epoch_time: 2.2435\n",
            "Epoch 70/500\n",
            "179/179 [==============================] - 2s 13ms/step - loss: 0.2037 - accuracy: 0.9221 - val_loss: 0.2297 - val_accuracy: 0.9143 - epoch_time: 2.2623\n",
            "Epoch 71/500\n",
            "179/179 [==============================] - 4s 20ms/step - loss: 0.2034 - accuracy: 0.9210 - val_loss: 0.2225 - val_accuracy: 0.9199 - epoch_time: 2.8969\n",
            "Epoch 72/500\n",
            "179/179 [==============================] - 2s 13ms/step - loss: 0.2005 - accuracy: 0.9235 - val_loss: 0.2242 - val_accuracy: 0.9147 - epoch_time: 2.1710\n",
            "Epoch 73/500\n",
            "179/179 [==============================] - 2s 12ms/step - loss: 0.1999 - accuracy: 0.9238 - val_loss: 0.2258 - val_accuracy: 0.9135 - epoch_time: 2.1373\n",
            "Epoch 74/500\n",
            "179/179 [==============================] - 2s 13ms/step - loss: 0.1999 - accuracy: 0.9238 - val_loss: 0.2346 - val_accuracy: 0.9120 - epoch_time: 2.1760\n",
            "Epoch 75/500\n",
            "179/179 [==============================] - 2s 13ms/step - loss: 0.1931 - accuracy: 0.9256 - val_loss: 0.2337 - val_accuracy: 0.9139 - epoch_time: 2.3044\n",
            "Epoch 76/500\n",
            "179/179 [==============================] - 3s 16ms/step - loss: 0.2026 - accuracy: 0.9210 - val_loss: 0.2383 - val_accuracy: 0.9112 - epoch_time: 2.7839\n",
            "Epoch 77/500\n",
            "179/179 [==============================] - 3s 15ms/step - loss: 0.2144 - accuracy: 0.9170 - val_loss: 0.2302 - val_accuracy: 0.9163 - epoch_time: 2.6537\n",
            "Epoch 78/500\n",
            "179/179 [==============================] - 2s 13ms/step - loss: 0.1955 - accuracy: 0.9255 - val_loss: 0.2251 - val_accuracy: 0.9171 - epoch_time: 2.1954\n",
            "Epoch 79/500\n",
            "179/179 [==============================] - 2s 12ms/step - loss: 0.1887 - accuracy: 0.9261 - val_loss: 0.2247 - val_accuracy: 0.9179 - epoch_time: 2.1449\n",
            "Epoch 80/500\n",
            "179/179 [==============================] - 2s 13ms/step - loss: 0.1900 - accuracy: 0.9251 - val_loss: 0.2272 - val_accuracy: 0.9128 - epoch_time: 2.1921\n",
            "Epoch 81/500\n",
            "179/179 [==============================] - 3s 15ms/step - loss: 0.1853 - accuracy: 0.9297 - val_loss: 0.2210 - val_accuracy: 0.9175 - epoch_time: 2.1392\n",
            "Epoch 82/500\n",
            "179/179 [==============================] - 3s 17ms/step - loss: 0.1896 - accuracy: 0.9266 - val_loss: 0.2231 - val_accuracy: 0.9179 - epoch_time: 2.9235\n",
            "Epoch 83/500\n",
            "179/179 [==============================] - 3s 15ms/step - loss: 0.1840 - accuracy: 0.9275 - val_loss: 0.2199 - val_accuracy: 0.9187 - epoch_time: 2.4706\n",
            "Epoch 84/500\n",
            "179/179 [==============================] - 3s 18ms/step - loss: 0.1856 - accuracy: 0.9287 - val_loss: 0.2157 - val_accuracy: 0.9187 - epoch_time: 2.9277\n",
            "Epoch 85/500\n",
            "179/179 [==============================] - 2s 13ms/step - loss: 0.1866 - accuracy: 0.9275 - val_loss: 0.2153 - val_accuracy: 0.9199 - epoch_time: 2.1568\n",
            "Epoch 86/500\n",
            "179/179 [==============================] - 2s 13ms/step - loss: 0.1809 - accuracy: 0.9297 - val_loss: 0.2202 - val_accuracy: 0.9128 - epoch_time: 2.1959\n",
            "Epoch 87/500\n",
            "179/179 [==============================] - 3s 19ms/step - loss: 0.1816 - accuracy: 0.9284 - val_loss: 0.2070 - val_accuracy: 0.9266 - epoch_time: 3.0926\n",
            "Epoch 88/500\n",
            "179/179 [==============================] - 3s 14ms/step - loss: 0.1801 - accuracy: 0.9296 - val_loss: 0.2053 - val_accuracy: 0.9206 - epoch_time: 2.3990\n",
            "Epoch 89/500\n",
            "179/179 [==============================] - 2s 13ms/step - loss: 0.1816 - accuracy: 0.9300 - val_loss: 0.2119 - val_accuracy: 0.9214 - epoch_time: 2.1863\n",
            "Epoch 90/500\n",
            "179/179 [==============================] - 2s 13ms/step - loss: 0.1804 - accuracy: 0.9300 - val_loss: 0.2132 - val_accuracy: 0.9187 - epoch_time: 2.1869\n",
            "Epoch 91/500\n",
            "179/179 [==============================] - 2s 13ms/step - loss: 0.1745 - accuracy: 0.9333 - val_loss: 0.2088 - val_accuracy: 0.9262 - epoch_time: 2.1679\n",
            "Epoch 92/500\n",
            "179/179 [==============================] - 3s 16ms/step - loss: 0.1728 - accuracy: 0.9319 - val_loss: 0.2078 - val_accuracy: 0.9238 - epoch_time: 2.6704\n",
            "Epoch 93/500\n",
            "179/179 [==============================] - 3s 16ms/step - loss: 0.1712 - accuracy: 0.9344 - val_loss: 0.2116 - val_accuracy: 0.9238 - epoch_time: 2.7400\n",
            "Epoch 94/500\n",
            "179/179 [==============================] - 3s 15ms/step - loss: 0.1758 - accuracy: 0.9314 - val_loss: 0.1924 - val_accuracy: 0.9317 - epoch_time: 2.1075\n",
            "Epoch 95/500\n",
            "179/179 [==============================] - 2s 12ms/step - loss: 0.1664 - accuracy: 0.9353 - val_loss: 0.2089 - val_accuracy: 0.9230 - epoch_time: 2.1196\n",
            "Epoch 96/500\n",
            "179/179 [==============================] - 2s 13ms/step - loss: 0.1681 - accuracy: 0.9354 - val_loss: 0.2181 - val_accuracy: 0.9206 - epoch_time: 2.1679\n",
            "Epoch 97/500\n",
            "179/179 [==============================] - 2s 13ms/step - loss: 0.1729 - accuracy: 0.9333 - val_loss: 0.2143 - val_accuracy: 0.9258 - epoch_time: 2.1717\n",
            "Epoch 98/500\n",
            "179/179 [==============================] - 3s 17ms/step - loss: 0.1733 - accuracy: 0.9344 - val_loss: 0.2184 - val_accuracy: 0.9183 - epoch_time: 2.8715\n",
            "Epoch 99/500\n",
            "179/179 [==============================] - 3s 14ms/step - loss: 0.1665 - accuracy: 0.9351 - val_loss: 0.1978 - val_accuracy: 0.9270 - epoch_time: 2.4200\n",
            "Epoch 100/500\n",
            "179/179 [==============================] - 2s 13ms/step - loss: 0.1643 - accuracy: 0.9347 - val_loss: 0.2036 - val_accuracy: 0.9214 - epoch_time: 2.1484\n",
            "Epoch 101/500\n",
            "179/179 [==============================] - 2s 13ms/step - loss: 0.1668 - accuracy: 0.9354 - val_loss: 0.2099 - val_accuracy: 0.9230 - epoch_time: 2.1988\n",
            "Epoch 102/500\n",
            "179/179 [==============================] - 2s 12ms/step - loss: 0.1607 - accuracy: 0.9372 - val_loss: 0.1971 - val_accuracy: 0.9274 - epoch_time: 2.1363\n",
            "Epoch 103/500\n",
            "179/179 [==============================] - 2s 14ms/step - loss: 0.1630 - accuracy: 0.9390 - val_loss: 0.1937 - val_accuracy: 0.9305 - epoch_time: 2.3687\n",
            "Epoch 104/500\n",
            "179/179 [==============================] - 3s 18ms/step - loss: 0.1544 - accuracy: 0.9403 - val_loss: 0.2105 - val_accuracy: 0.9218 - epoch_time: 3.0413\n",
            "Epoch 105/500\n",
            "179/179 [==============================] - 2s 13ms/step - loss: 0.1599 - accuracy: 0.9374 - val_loss: 0.2091 - val_accuracy: 0.9254 - epoch_time: 2.2135\n",
            "Epoch 106/500\n",
            "179/179 [==============================] - 3s 15ms/step - loss: 0.1548 - accuracy: 0.9402 - val_loss: 0.1860 - val_accuracy: 0.9333 - epoch_time: 2.1348\n",
            "Epoch 107/500\n",
            "179/179 [==============================] - 2s 12ms/step - loss: 0.1518 - accuracy: 0.9423 - val_loss: 0.2027 - val_accuracy: 0.9281 - epoch_time: 2.0911\n",
            "Epoch 108/500\n",
            "179/179 [==============================] - 2s 12ms/step - loss: 0.1523 - accuracy: 0.9414 - val_loss: 0.2161 - val_accuracy: 0.9250 - epoch_time: 2.0625\n",
            "Epoch 109/500\n",
            "179/179 [==============================] - 3s 15ms/step - loss: 0.1544 - accuracy: 0.9410 - val_loss: 0.1955 - val_accuracy: 0.9281 - epoch_time: 2.6386\n",
            "Epoch 110/500\n",
            "179/179 [==============================] - 3s 15ms/step - loss: 0.1524 - accuracy: 0.9403 - val_loss: 0.1958 - val_accuracy: 0.9281 - epoch_time: 2.6320\n",
            "Epoch 111/500\n",
            "179/179 [==============================] - 2s 13ms/step - loss: 0.1544 - accuracy: 0.9394 - val_loss: 0.1988 - val_accuracy: 0.9270 - epoch_time: 2.2107\n",
            "Epoch 112/500\n",
            "179/179 [==============================] - 2s 13ms/step - loss: 0.1493 - accuracy: 0.9417 - val_loss: 0.2009 - val_accuracy: 0.9266 - epoch_time: 2.2488\n",
            "Epoch 113/500\n",
            "179/179 [==============================] - 2s 13ms/step - loss: 0.1466 - accuracy: 0.9440 - val_loss: 0.1928 - val_accuracy: 0.9293 - epoch_time: 2.2497\n",
            "Epoch 114/500\n",
            "179/179 [==============================] - 2s 13ms/step - loss: 0.1477 - accuracy: 0.9420 - val_loss: 0.1882 - val_accuracy: 0.9321 - epoch_time: 2.1775\n",
            "Epoch 115/500\n",
            "179/179 [==============================] - 4s 20ms/step - loss: 0.1472 - accuracy: 0.9413 - val_loss: 0.1833 - val_accuracy: 0.9325 - epoch_time: 2.9362\n",
            "Epoch 116/500\n",
            "179/179 [==============================] - 2s 13ms/step - loss: 0.1425 - accuracy: 0.9445 - val_loss: 0.1858 - val_accuracy: 0.9281 - epoch_time: 2.2175\n",
            "Epoch 117/500\n",
            "179/179 [==============================] - 2s 13ms/step - loss: 0.1425 - accuracy: 0.9458 - val_loss: 0.1871 - val_accuracy: 0.9285 - epoch_time: 2.1654\n",
            "Epoch 118/500\n",
            "179/179 [==============================] - 2s 13ms/step - loss: 0.1459 - accuracy: 0.9451 - val_loss: 0.1834 - val_accuracy: 0.9321 - epoch_time: 2.1761\n",
            "Epoch 119/500\n",
            "179/179 [==============================] - 2s 13ms/step - loss: 0.1460 - accuracy: 0.9428 - val_loss: 0.1853 - val_accuracy: 0.9345 - epoch_time: 2.1679\n",
            "Epoch 120/500\n",
            "179/179 [==============================] - 3s 15ms/step - loss: 0.1444 - accuracy: 0.9456 - val_loss: 0.1943 - val_accuracy: 0.9325 - epoch_time: 2.6444\n",
            "Epoch 121/500\n",
            "179/179 [==============================] - 3s 16ms/step - loss: 0.1442 - accuracy: 0.9443 - val_loss: 0.1910 - val_accuracy: 0.9325 - epoch_time: 2.7618\n",
            "Epoch 122/500\n",
            "179/179 [==============================] - 2s 12ms/step - loss: 0.1383 - accuracy: 0.9466 - val_loss: 0.1854 - val_accuracy: 0.9333 - epoch_time: 2.1518\n",
            "Epoch 123/500\n",
            "179/179 [==============================] - 2s 13ms/step - loss: 0.1402 - accuracy: 0.9453 - val_loss: 0.1994 - val_accuracy: 0.9305 - epoch_time: 2.1630\n",
            "Epoch 124/500\n",
            "179/179 [==============================] - 3s 16ms/step - loss: 0.1426 - accuracy: 0.9462 - val_loss: 0.1780 - val_accuracy: 0.9360 - epoch_time: 2.1803\n",
            "Epoch 125/500\n",
            "179/179 [==============================] - 2s 14ms/step - loss: 0.1372 - accuracy: 0.9475 - val_loss: 0.1747 - val_accuracy: 0.9376 - epoch_time: 2.2115\n",
            "Epoch 126/500\n",
            "179/179 [==============================] - 3s 17ms/step - loss: 0.1354 - accuracy: 0.9480 - val_loss: 0.1807 - val_accuracy: 0.9380 - epoch_time: 2.9102\n",
            "Epoch 127/500\n",
            "179/179 [==============================] - 2s 13ms/step - loss: 0.1359 - accuracy: 0.9486 - val_loss: 0.1825 - val_accuracy: 0.9337 - epoch_time: 2.3236\n",
            "Epoch 128/500\n",
            "179/179 [==============================] - 2s 13ms/step - loss: 0.1332 - accuracy: 0.9489 - val_loss: 0.1893 - val_accuracy: 0.9384 - epoch_time: 2.2196\n",
            "Epoch 129/500\n",
            "179/179 [==============================] - 2s 13ms/step - loss: 0.1368 - accuracy: 0.9473 - val_loss: 0.1831 - val_accuracy: 0.9325 - epoch_time: 2.1957\n",
            "Epoch 130/500\n",
            "179/179 [==============================] - 2s 13ms/step - loss: 0.1365 - accuracy: 0.9484 - val_loss: 0.1826 - val_accuracy: 0.9317 - epoch_time: 2.1820\n",
            "Epoch 131/500\n",
            "179/179 [==============================] - 3s 15ms/step - loss: 0.1332 - accuracy: 0.9499 - val_loss: 0.1797 - val_accuracy: 0.9380 - epoch_time: 2.5492\n",
            "Epoch 132/500\n",
            "179/179 [==============================] - 3s 17ms/step - loss: 0.1307 - accuracy: 0.9518 - val_loss: 0.2030 - val_accuracy: 0.9333 - epoch_time: 2.9203\n",
            "Epoch 133/500\n",
            "179/179 [==============================] - 2s 13ms/step - loss: 0.1307 - accuracy: 0.9508 - val_loss: 0.1768 - val_accuracy: 0.9380 - epoch_time: 2.2115\n",
            "Epoch 134/500\n",
            "179/179 [==============================] - 3s 17ms/step - loss: 0.1289 - accuracy: 0.9511 - val_loss: 0.1747 - val_accuracy: 0.9341 - epoch_time: 2.1741\n",
            "Epoch 135/500\n",
            "179/179 [==============================] - 2s 13ms/step - loss: 0.1267 - accuracy: 0.9517 - val_loss: 0.1774 - val_accuracy: 0.9368 - epoch_time: 2.1791\n",
            "Epoch 136/500\n",
            "179/179 [==============================] - 2s 13ms/step - loss: 0.1343 - accuracy: 0.9498 - val_loss: 0.1748 - val_accuracy: 0.9396 - epoch_time: 2.2363\n",
            "Epoch 137/500\n",
            "179/179 [==============================] - 3s 17ms/step - loss: 0.1299 - accuracy: 0.9507 - val_loss: 0.1924 - val_accuracy: 0.9368 - epoch_time: 2.9796\n",
            "Epoch 138/500\n",
            "179/179 [==============================] - 2s 14ms/step - loss: 0.1338 - accuracy: 0.9501 - val_loss: 0.1800 - val_accuracy: 0.9345 - epoch_time: 2.3615\n",
            "Epoch 139/500\n",
            "179/179 [==============================] - 2s 13ms/step - loss: 0.1258 - accuracy: 0.9518 - val_loss: 0.1813 - val_accuracy: 0.9368 - epoch_time: 2.1933\n",
            "Epoch 140/500\n",
            "179/179 [==============================] - 2s 13ms/step - loss: 0.1234 - accuracy: 0.9544 - val_loss: 0.1939 - val_accuracy: 0.9380 - epoch_time: 2.1866\n",
            "Epoch 141/500\n",
            "179/179 [==============================] - 2s 12ms/step - loss: 0.1222 - accuracy: 0.9543 - val_loss: 0.1772 - val_accuracy: 0.9396 - epoch_time: 2.1094\n",
            "Epoch 142/500\n",
            "179/179 [==============================] - 3s 14ms/step - loss: 0.1298 - accuracy: 0.9518 - val_loss: 0.1863 - val_accuracy: 0.9360 - epoch_time: 2.4285\n",
            "Epoch 143/500\n",
            "179/179 [==============================] - 3s 19ms/step - loss: 0.1198 - accuracy: 0.9537 - val_loss: 0.1702 - val_accuracy: 0.9341 - epoch_time: 2.8438\n",
            "Epoch 144/500\n",
            "179/179 [==============================] - 2s 13ms/step - loss: 0.1417 - accuracy: 0.9474 - val_loss: 0.1738 - val_accuracy: 0.9392 - epoch_time: 2.1799\n",
            "Epoch 145/500\n",
            "179/179 [==============================] - 2s 12ms/step - loss: 0.1308 - accuracy: 0.9493 - val_loss: 0.1823 - val_accuracy: 0.9396 - epoch_time: 2.1288\n",
            "Epoch 146/500\n",
            "179/179 [==============================] - 2s 12ms/step - loss: 0.1159 - accuracy: 0.9579 - val_loss: 0.1778 - val_accuracy: 0.9412 - epoch_time: 2.1442\n",
            "Epoch 147/500\n",
            "179/179 [==============================] - 2s 12ms/step - loss: 0.1291 - accuracy: 0.9505 - val_loss: 0.1858 - val_accuracy: 0.9356 - epoch_time: 2.1340\n",
            "Epoch 148/500\n",
            "179/179 [==============================] - 3s 17ms/step - loss: 0.1221 - accuracy: 0.9534 - val_loss: 0.1827 - val_accuracy: 0.9384 - epoch_time: 2.8641\n",
            "Epoch 149/500\n",
            "179/179 [==============================] - 3s 15ms/step - loss: 0.1176 - accuracy: 0.9556 - val_loss: 0.1827 - val_accuracy: 0.9349 - epoch_time: 2.6132\n",
            "Epoch 150/500\n",
            "179/179 [==============================] - 3s 16ms/step - loss: 0.1166 - accuracy: 0.9570 - val_loss: 0.1682 - val_accuracy: 0.9435 - epoch_time: 2.1961\n",
            "Epoch 151/500\n",
            "179/179 [==============================] - 2s 13ms/step - loss: 0.1105 - accuracy: 0.9580 - val_loss: 0.1863 - val_accuracy: 0.9368 - epoch_time: 2.1768\n",
            "Epoch 152/500\n",
            "179/179 [==============================] - 2s 13ms/step - loss: 0.1147 - accuracy: 0.9571 - val_loss: 0.1946 - val_accuracy: 0.9364 - epoch_time: 2.1693\n",
            "Epoch 153/500\n",
            "179/179 [==============================] - 3s 14ms/step - loss: 0.1210 - accuracy: 0.9547 - val_loss: 0.1984 - val_accuracy: 0.9432 - epoch_time: 2.4401\n",
            "Epoch 154/500\n",
            "179/179 [==============================] - 3s 17ms/step - loss: 0.1185 - accuracy: 0.9557 - val_loss: 0.1877 - val_accuracy: 0.9309 - epoch_time: 2.8911\n",
            "Epoch 155/500\n",
            "179/179 [==============================] - 2s 13ms/step - loss: 0.1169 - accuracy: 0.9562 - val_loss: 0.1705 - val_accuracy: 0.9412 - epoch_time: 2.1992\n",
            "Epoch 156/500\n",
            "179/179 [==============================] - 2s 12ms/step - loss: 0.1211 - accuracy: 0.9547 - val_loss: 0.1774 - val_accuracy: 0.9408 - epoch_time: 2.1375\n",
            "Epoch 157/500\n",
            "179/179 [==============================] - 2s 13ms/step - loss: 0.1124 - accuracy: 0.9588 - val_loss: 0.1727 - val_accuracy: 0.9400 - epoch_time: 2.1959\n",
            "Epoch 158/500\n",
            "179/179 [==============================] - 2s 13ms/step - loss: 0.1081 - accuracy: 0.9608 - val_loss: 0.1750 - val_accuracy: 0.9392 - epoch_time: 2.1868\n",
            "Epoch 159/500\n",
            "179/179 [==============================] - 3s 16ms/step - loss: 0.1128 - accuracy: 0.9580 - val_loss: 0.1811 - val_accuracy: 0.9408 - epoch_time: 2.6835\n",
            "Epoch 160/500\n",
            "179/179 [==============================] - 3s 16ms/step - loss: 0.1042 - accuracy: 0.9609 - val_loss: 0.1760 - val_accuracy: 0.9432 - epoch_time: 2.7353\n",
            "Epoch 161/500\n",
            "179/179 [==============================] - 2s 13ms/step - loss: 0.1074 - accuracy: 0.9598 - val_loss: 0.1702 - val_accuracy: 0.9443 - epoch_time: 2.1581\n",
            "Epoch 162/500\n",
            "179/179 [==============================] - 2s 12ms/step - loss: 0.1086 - accuracy: 0.9605 - val_loss: 0.1719 - val_accuracy: 0.9408 - epoch_time: 2.1451\n",
            "Epoch 163/500\n",
            "179/179 [==============================] - 2s 13ms/step - loss: 0.1068 - accuracy: 0.9601 - val_loss: 0.1823 - val_accuracy: 0.9368 - epoch_time: 2.1678\n",
            "Epoch 164/500\n",
            "179/179 [==============================] - 2s 13ms/step - loss: 0.1062 - accuracy: 0.9612 - val_loss: 0.1867 - val_accuracy: 0.9368 - epoch_time: 2.1867\n",
            "Epoch 165/500\n",
            "179/179 [==============================] - 3s 17ms/step - loss: 0.1127 - accuracy: 0.9587 - val_loss: 0.2105 - val_accuracy: 0.9337 - epoch_time: 2.8951\n",
            "Epoch 166/500\n",
            "179/179 [==============================] - 3s 15ms/step - loss: 0.1087 - accuracy: 0.9597 - val_loss: 0.1840 - val_accuracy: 0.9443 - epoch_time: 2.5774\n",
            "Epoch 167/500\n",
            "179/179 [==============================] - 3s 15ms/step - loss: 0.1098 - accuracy: 0.9598 - val_loss: 0.1653 - val_accuracy: 0.9439 - epoch_time: 2.1750\n",
            "Epoch 168/500\n",
            "179/179 [==============================] - 2s 13ms/step - loss: 0.1002 - accuracy: 0.9637 - val_loss: 0.1694 - val_accuracy: 0.9424 - epoch_time: 2.1737\n",
            "Epoch 169/500\n",
            "179/179 [==============================] - 2s 13ms/step - loss: 0.1067 - accuracy: 0.9602 - val_loss: 0.1778 - val_accuracy: 0.9412 - epoch_time: 2.1958\n",
            "Epoch 170/500\n",
            "179/179 [==============================] - 2s 14ms/step - loss: 0.1036 - accuracy: 0.9616 - val_loss: 0.1722 - val_accuracy: 0.9384 - epoch_time: 2.3619\n",
            "Epoch 171/500\n",
            "179/179 [==============================] - 3s 17ms/step - loss: 0.1038 - accuracy: 0.9626 - val_loss: 0.1758 - val_accuracy: 0.9424 - epoch_time: 2.9208\n",
            "Epoch 172/500\n",
            "179/179 [==============================] - 2s 13ms/step - loss: 0.1037 - accuracy: 0.9606 - val_loss: 0.1773 - val_accuracy: 0.9380 - epoch_time: 2.2357\n",
            "Epoch 173/500\n",
            "179/179 [==============================] - 2s 13ms/step - loss: 0.1031 - accuracy: 0.9611 - val_loss: 0.1868 - val_accuracy: 0.9412 - epoch_time: 2.2666\n",
            "Epoch 174/500\n",
            "179/179 [==============================] - 2s 13ms/step - loss: 0.1131 - accuracy: 0.9591 - val_loss: 0.1680 - val_accuracy: 0.9424 - epoch_time: 2.2233\n",
            "Epoch 175/500\n",
            "179/179 [==============================] - 2s 13ms/step - loss: 0.1023 - accuracy: 0.9625 - val_loss: 0.1693 - val_accuracy: 0.9451 - epoch_time: 2.1901\n",
            "Epoch 176/500\n",
            "179/179 [==============================] - 3s 16ms/step - loss: 0.0992 - accuracy: 0.9648 - val_loss: 0.1701 - val_accuracy: 0.9404 - epoch_time: 2.6952\n",
            "Epoch 177/500\n",
            "179/179 [==============================] - 3s 16ms/step - loss: 0.1003 - accuracy: 0.9628 - val_loss: 0.1663 - val_accuracy: 0.9392 - epoch_time: 2.6984\n",
            "Epoch 178/500\n",
            "179/179 [==============================] - 2s 13ms/step - loss: 0.1028 - accuracy: 0.9626 - val_loss: 0.1779 - val_accuracy: 0.9412 - epoch_time: 2.1525\n",
            "Epoch 179/500\n",
            "179/179 [==============================] - 2s 13ms/step - loss: 0.0964 - accuracy: 0.9627 - val_loss: 0.1721 - val_accuracy: 0.9424 - epoch_time: 2.1740\n",
            "Epoch 180/500\n",
            "179/179 [==============================] - 2s 13ms/step - loss: 0.0937 - accuracy: 0.9650 - val_loss: 0.2050 - val_accuracy: 0.9388 - epoch_time: 2.1500\n",
            "Epoch 181/500\n",
            "179/179 [==============================] - 2s 13ms/step - loss: 0.0979 - accuracy: 0.9640 - val_loss: 0.1824 - val_accuracy: 0.9432 - epoch_time: 2.1944\n",
            "Epoch 182/500\n",
            "179/179 [==============================] - 3s 17ms/step - loss: 0.0966 - accuracy: 0.9648 - val_loss: 0.1791 - val_accuracy: 0.9447 - epoch_time: 2.9294\n",
            "Epoch 183/500\n",
            "179/179 [==============================] - 3s 17ms/step - loss: 0.0949 - accuracy: 0.9652 - val_loss: 0.1652 - val_accuracy: 0.9463 - epoch_time: 2.5240\n",
            "Epoch 184/500\n",
            "179/179 [==============================] - 2s 14ms/step - loss: 0.0934 - accuracy: 0.9666 - val_loss: 0.1573 - val_accuracy: 0.9467 - epoch_time: 2.2584\n",
            "Epoch 185/500\n",
            "179/179 [==============================] - 2s 13ms/step - loss: 0.0994 - accuracy: 0.9642 - val_loss: 0.1627 - val_accuracy: 0.9451 - epoch_time: 2.1822\n",
            "Epoch 186/500\n",
            "179/179 [==============================] - 2s 13ms/step - loss: 0.0974 - accuracy: 0.9649 - val_loss: 0.1778 - val_accuracy: 0.9424 - epoch_time: 2.1482\n",
            "Epoch 187/500\n",
            "179/179 [==============================] - 3s 15ms/step - loss: 0.0947 - accuracy: 0.9652 - val_loss: 0.1708 - val_accuracy: 0.9404 - epoch_time: 2.5527\n",
            "Epoch 188/500\n",
            "179/179 [==============================] - 3s 16ms/step - loss: 0.0977 - accuracy: 0.9631 - val_loss: 0.1609 - val_accuracy: 0.9432 - epoch_time: 2.8443\n",
            "Epoch 189/500\n",
            "179/179 [==============================] - 2s 13ms/step - loss: 0.0931 - accuracy: 0.9665 - val_loss: 0.1832 - val_accuracy: 0.9432 - epoch_time: 2.1602\n",
            "Epoch 190/500\n",
            "179/179 [==============================] - 2s 12ms/step - loss: 0.0925 - accuracy: 0.9664 - val_loss: 0.1902 - val_accuracy: 0.9392 - epoch_time: 2.1403\n",
            "Epoch 191/500\n",
            "179/179 [==============================] - 2s 13ms/step - loss: 0.0955 - accuracy: 0.9659 - val_loss: 0.1727 - val_accuracy: 0.9447 - epoch_time: 2.1813\n",
            "Epoch 192/500\n",
            "179/179 [==============================] - 2s 13ms/step - loss: 0.0943 - accuracy: 0.9653 - val_loss: 0.1815 - val_accuracy: 0.9428 - epoch_time: 2.2209\n",
            "Epoch 193/500\n",
            "179/179 [==============================] - 3s 16ms/step - loss: 0.0982 - accuracy: 0.9637 - val_loss: 0.1824 - val_accuracy: 0.9384 - epoch_time: 2.8346\n",
            "Epoch 194/500\n",
            "179/179 [==============================] - 3s 15ms/step - loss: 0.0969 - accuracy: 0.9650 - val_loss: 0.1874 - val_accuracy: 0.9443 - epoch_time: 2.6376\n",
            "Epoch 195/500\n",
            "179/179 [==============================] - 2s 14ms/step - loss: 0.0871 - accuracy: 0.9684 - val_loss: 0.1783 - val_accuracy: 0.9416 - epoch_time: 2.3707\n",
            "Epoch 196/500\n",
            "179/179 [==============================] - 3s 18ms/step - loss: 0.0877 - accuracy: 0.9680 - val_loss: 0.1703 - val_accuracy: 0.9491 - epoch_time: 3.0551\n",
            "Epoch 197/500\n",
            "179/179 [==============================] - 2s 14ms/step - loss: 0.0959 - accuracy: 0.9646 - val_loss: 0.1588 - val_accuracy: 0.9451 - epoch_time: 2.3524\n",
            "Epoch 198/500\n",
            "179/179 [==============================] - 3s 16ms/step - loss: 0.0876 - accuracy: 0.9680 - val_loss: 0.1623 - val_accuracy: 0.9459 - epoch_time: 2.7545\n",
            "Epoch 199/500\n",
            "179/179 [==============================] - 3s 16ms/step - loss: 0.0925 - accuracy: 0.9654 - val_loss: 0.1719 - val_accuracy: 0.9412 - epoch_time: 2.7796\n",
            "Epoch 200/500\n",
            "179/179 [==============================] - 2s 13ms/step - loss: 0.0968 - accuracy: 0.9641 - val_loss: 0.1655 - val_accuracy: 0.9451 - epoch_time: 2.1817\n",
            "Epoch 201/500\n",
            "179/179 [==============================] - 3s 15ms/step - loss: 0.0922 - accuracy: 0.9672 - val_loss: 0.1548 - val_accuracy: 0.9439 - epoch_time: 2.1650\n",
            "Epoch 202/500\n",
            "179/179 [==============================] - 2s 13ms/step - loss: 0.0959 - accuracy: 0.9656 - val_loss: 0.1737 - val_accuracy: 0.9412 - epoch_time: 2.2059\n",
            "Epoch 203/500\n",
            "179/179 [==============================] - 2s 14ms/step - loss: 0.0890 - accuracy: 0.9678 - val_loss: 0.1685 - val_accuracy: 0.9459 - epoch_time: 2.3817\n",
            "Epoch 204/500\n",
            "179/179 [==============================] - 3s 17ms/step - loss: 0.0831 - accuracy: 0.9707 - val_loss: 0.1900 - val_accuracy: 0.9420 - epoch_time: 2.9068\n",
            "Epoch 205/500\n",
            "179/179 [==============================] - 2s 13ms/step - loss: 0.0893 - accuracy: 0.9667 - val_loss: 0.1942 - val_accuracy: 0.9459 - epoch_time: 2.2470\n",
            "Epoch 206/500\n",
            "179/179 [==============================] - 2s 13ms/step - loss: 0.0870 - accuracy: 0.9683 - val_loss: 0.1735 - val_accuracy: 0.9396 - epoch_time: 2.2062\n",
            "Epoch 207/500\n",
            "179/179 [==============================] - 2s 13ms/step - loss: 0.0882 - accuracy: 0.9677 - val_loss: 0.1754 - val_accuracy: 0.9404 - epoch_time: 2.2547\n",
            "Epoch 208/500\n",
            "179/179 [==============================] - 2s 13ms/step - loss: 0.0855 - accuracy: 0.9691 - val_loss: 0.1760 - val_accuracy: 0.9392 - epoch_time: 2.2088\n",
            "Epoch 209/500\n",
            "179/179 [==============================] - 3s 15ms/step - loss: 0.1002 - accuracy: 0.9653 - val_loss: 0.1674 - val_accuracy: 0.9428 - epoch_time: 2.6175\n",
            "Epoch 210/500\n",
            "179/179 [==============================] - 3s 16ms/step - loss: 0.0906 - accuracy: 0.9687 - val_loss: 0.1623 - val_accuracy: 0.9435 - epoch_time: 2.7901\n",
            "Epoch 211/500\n",
            "179/179 [==============================] - 2s 13ms/step - loss: 0.0880 - accuracy: 0.9677 - val_loss: 0.1683 - val_accuracy: 0.9467 - epoch_time: 2.2483\n",
            "Epoch 212/500\n",
            "179/179 [==============================] - 2s 13ms/step - loss: 0.0849 - accuracy: 0.9689 - val_loss: 0.1553 - val_accuracy: 0.9487 - epoch_time: 2.2692\n",
            "Epoch 213/500\n",
            "179/179 [==============================] - 2s 13ms/step - loss: 0.0852 - accuracy: 0.9698 - val_loss: 0.1794 - val_accuracy: 0.9467 - epoch_time: 2.2654\n",
            "Epoch 214/500\n",
            "179/179 [==============================] - 2s 13ms/step - loss: 0.0835 - accuracy: 0.9699 - val_loss: 0.1787 - val_accuracy: 0.9451 - epoch_time: 2.2377\n",
            "Epoch 215/500\n",
            "179/179 [==============================] - 3s 17ms/step - loss: 0.0810 - accuracy: 0.9703 - val_loss: 0.1723 - val_accuracy: 0.9451 - epoch_time: 2.9287\n",
            "Epoch 216/500\n",
            "179/179 [==============================] - 3s 14ms/step - loss: 0.0829 - accuracy: 0.9699 - val_loss: 0.1788 - val_accuracy: 0.9503 - epoch_time: 2.5106\n",
            "Epoch 217/500\n",
            "179/179 [==============================] - 2s 13ms/step - loss: 0.0819 - accuracy: 0.9707 - val_loss: 0.1766 - val_accuracy: 0.9459 - epoch_time: 2.2055\n",
            "Epoch 218/500\n",
            "179/179 [==============================] - 2s 12ms/step - loss: 0.0833 - accuracy: 0.9695 - val_loss: 0.1669 - val_accuracy: 0.9507 - epoch_time: 2.1438\n",
            "Epoch 219/500\n",
            "179/179 [==============================] - 2s 13ms/step - loss: 0.0783 - accuracy: 0.9719 - val_loss: 0.1826 - val_accuracy: 0.9364 - epoch_time: 2.1926\n",
            "Epoch 220/500\n",
            "179/179 [==============================] - 3s 14ms/step - loss: 0.0821 - accuracy: 0.9698 - val_loss: 0.1741 - val_accuracy: 0.9467 - epoch_time: 2.3938\n",
            "Epoch 221/500\n",
            "179/179 [==============================] - 3s 17ms/step - loss: 0.0831 - accuracy: 0.9701 - val_loss: 0.1827 - val_accuracy: 0.9459 - epoch_time: 2.8570\n",
            "Epoch 222/500\n",
            "179/179 [==============================] - 2s 14ms/step - loss: 0.0836 - accuracy: 0.9700 - val_loss: 0.1834 - val_accuracy: 0.9443 - epoch_time: 2.3612\n",
            "Epoch 223/500\n",
            "179/179 [==============================] - 2s 13ms/step - loss: 0.0900 - accuracy: 0.9670 - val_loss: 0.1730 - val_accuracy: 0.9447 - epoch_time: 2.2314\n",
            "Epoch 224/500\n",
            "179/179 [==============================] - 2s 13ms/step - loss: 0.0785 - accuracy: 0.9713 - val_loss: 0.1848 - val_accuracy: 0.9412 - epoch_time: 2.1840\n",
            "Epoch 225/500\n",
            "179/179 [==============================] - 2s 13ms/step - loss: 0.0807 - accuracy: 0.9715 - val_loss: 0.1761 - val_accuracy: 0.9416 - epoch_time: 2.2035\n",
            "Epoch 226/500\n",
            "179/179 [==============================] - 3s 15ms/step - loss: 0.0764 - accuracy: 0.9728 - val_loss: 0.1888 - val_accuracy: 0.9451 - epoch_time: 2.5833\n",
            "Epoch 227/500\n",
            "179/179 [==============================] - 3s 17ms/step - loss: 0.0773 - accuracy: 0.9725 - val_loss: 0.1676 - val_accuracy: 0.9463 - epoch_time: 2.9754\n",
            "Epoch 228/500\n",
            "179/179 [==============================] - 2s 13ms/step - loss: 0.0769 - accuracy: 0.9724 - val_loss: 0.1736 - val_accuracy: 0.9467 - epoch_time: 2.2687\n",
            "Epoch 229/500\n",
            "179/179 [==============================] - 2s 13ms/step - loss: 0.0963 - accuracy: 0.9655 - val_loss: 0.1717 - val_accuracy: 0.9459 - epoch_time: 2.1985\n",
            "Epoch 230/500\n",
            "179/179 [==============================] - 2s 13ms/step - loss: 0.0798 - accuracy: 0.9712 - val_loss: 0.1730 - val_accuracy: 0.9459 - epoch_time: 2.2225\n",
            "Epoch 231/500\n",
            "179/179 [==============================] - 2s 13ms/step - loss: 0.0781 - accuracy: 0.9717 - val_loss: 0.1787 - val_accuracy: 0.9447 - epoch_time: 2.2957\n",
            "Epoch 232/500\n",
            "179/179 [==============================] - 3s 17ms/step - loss: 0.0770 - accuracy: 0.9722 - val_loss: 0.1683 - val_accuracy: 0.9451 - epoch_time: 2.8845\n",
            "Epoch 233/500\n",
            "179/179 [==============================] - 3s 15ms/step - loss: 0.0746 - accuracy: 0.9729 - val_loss: 0.1668 - val_accuracy: 0.9487 - epoch_time: 2.5535\n",
            "Epoch 234/500\n",
            "179/179 [==============================] - 2s 13ms/step - loss: 0.0865 - accuracy: 0.9703 - val_loss: 0.1592 - val_accuracy: 0.9479 - epoch_time: 2.1852\n",
            "Epoch 235/500\n",
            "179/179 [==============================] - 2s 13ms/step - loss: 0.0882 - accuracy: 0.9681 - val_loss: 0.1750 - val_accuracy: 0.9439 - epoch_time: 2.2257\n",
            "Epoch 236/500\n",
            "179/179 [==============================] - 2s 13ms/step - loss: 0.0773 - accuracy: 0.9726 - val_loss: 0.1605 - val_accuracy: 0.9526 - epoch_time: 2.2149\n",
            "Epoch 237/500\n",
            "179/179 [==============================] - 2s 14ms/step - loss: 0.0763 - accuracy: 0.9725 - val_loss: 0.1690 - val_accuracy: 0.9538 - epoch_time: 2.3076\n",
            "Epoch 238/500\n",
            "179/179 [==============================] - 3s 17ms/step - loss: 0.0828 - accuracy: 0.9698 - val_loss: 0.1779 - val_accuracy: 0.9499 - epoch_time: 2.9149\n",
            "Epoch 239/500\n",
            "179/179 [==============================] - 3s 15ms/step - loss: 0.1201 - accuracy: 0.9577 - val_loss: 0.1860 - val_accuracy: 0.9408 - epoch_time: 2.5113\n",
            "Epoch 240/500\n",
            "179/179 [==============================] - 2s 13ms/step - loss: 0.0834 - accuracy: 0.9695 - val_loss: 0.1983 - val_accuracy: 0.9475 - epoch_time: 2.2243\n",
            "Epoch 241/500\n",
            "179/179 [==============================] - 2s 13ms/step - loss: 0.0775 - accuracy: 0.9725 - val_loss: 0.1853 - val_accuracy: 0.9479 - epoch_time: 2.2314\n",
            "Epoch 242/500\n",
            "179/179 [==============================] - 2s 13ms/step - loss: 0.0795 - accuracy: 0.9714 - val_loss: 0.1810 - val_accuracy: 0.9507 - epoch_time: 2.1917\n",
            "Epoch 243/500\n",
            "179/179 [==============================] - 3s 15ms/step - loss: 0.0756 - accuracy: 0.9736 - val_loss: 0.1770 - val_accuracy: 0.9447 - epoch_time: 2.6067\n",
            "Epoch 244/500\n",
            "179/179 [==============================] - 3s 17ms/step - loss: 0.0762 - accuracy: 0.9718 - val_loss: 0.1654 - val_accuracy: 0.9463 - epoch_time: 2.8976\n",
            "Epoch 245/500\n",
            "179/179 [==============================] - 2s 13ms/step - loss: 0.0741 - accuracy: 0.9736 - val_loss: 0.1662 - val_accuracy: 0.9471 - epoch_time: 2.2034\n",
            "Epoch 246/500\n",
            "179/179 [==============================] - 2s 13ms/step - loss: 0.0722 - accuracy: 0.9746 - val_loss: 0.1755 - val_accuracy: 0.9495 - epoch_time: 2.2432\n",
            "Epoch 247/500\n",
            "179/179 [==============================] - 2s 13ms/step - loss: 0.0755 - accuracy: 0.9723 - val_loss: 0.1755 - val_accuracy: 0.9479 - epoch_time: 2.2358\n",
            "Epoch 248/500\n",
            "179/179 [==============================] - 2s 13ms/step - loss: 0.0747 - accuracy: 0.9740 - val_loss: 0.1758 - val_accuracy: 0.9455 - epoch_time: 2.2648\n",
            "Epoch 249/500\n",
            "179/179 [==============================] - 3s 16ms/step - loss: 0.0710 - accuracy: 0.9758 - val_loss: 0.1689 - val_accuracy: 0.9483 - epoch_time: 2.6945\n",
            "Epoch 250/500\n",
            "179/179 [==============================] - 3s 16ms/step - loss: 0.0708 - accuracy: 0.9741 - val_loss: 0.2009 - val_accuracy: 0.9435 - epoch_time: 2.7339\n",
            "Epoch 251/500\n",
            "179/179 [==============================] - 2s 13ms/step - loss: 0.0892 - accuracy: 0.9680 - val_loss: 0.1871 - val_accuracy: 0.9443 - epoch_time: 2.2626\n",
            "Epoch 252/500\n",
            "179/179 [==============================] - 2s 13ms/step - loss: 0.0721 - accuracy: 0.9743 - val_loss: 0.1872 - val_accuracy: 0.9483 - epoch_time: 2.2396\n",
            "Epoch 253/500\n",
            "179/179 [==============================] - 2s 13ms/step - loss: 0.0812 - accuracy: 0.9699 - val_loss: 0.1748 - val_accuracy: 0.9491 - epoch_time: 2.2650\n",
            "Epoch 254/500\n",
            "179/179 [==============================] - 2s 14ms/step - loss: 0.0688 - accuracy: 0.9752 - val_loss: 0.1847 - val_accuracy: 0.9443 - epoch_time: 2.3559\n",
            "Epoch 255/500\n",
            "179/179 [==============================] - 3s 18ms/step - loss: 0.0722 - accuracy: 0.9735 - val_loss: 0.1652 - val_accuracy: 0.9479 - epoch_time: 3.0509\n",
            "Epoch 256/500\n",
            "179/179 [==============================] - 3s 15ms/step - loss: 0.0696 - accuracy: 0.9756 - val_loss: 0.1723 - val_accuracy: 0.9447 - epoch_time: 2.5166\n",
            "Epoch 257/500\n",
            "179/179 [==============================] - 2s 13ms/step - loss: 0.0713 - accuracy: 0.9738 - val_loss: 0.1864 - val_accuracy: 0.9510 - epoch_time: 2.2268\n",
            "Epoch 258/500\n",
            "179/179 [==============================] - 2s 13ms/step - loss: 0.0731 - accuracy: 0.9733 - val_loss: 0.1880 - val_accuracy: 0.9507 - epoch_time: 2.1771\n",
            "Epoch 259/500\n",
            "179/179 [==============================] - 2s 13ms/step - loss: 0.0693 - accuracy: 0.9760 - val_loss: 0.1638 - val_accuracy: 0.9467 - epoch_time: 2.2472\n",
            "Epoch 260/500\n",
            "179/179 [==============================] - 3s 15ms/step - loss: 0.0880 - accuracy: 0.9691 - val_loss: 0.1838 - val_accuracy: 0.9487 - epoch_time: 2.5024\n",
            "Epoch 261/500\n",
            "179/179 [==============================] - 3s 17ms/step - loss: 0.0755 - accuracy: 0.9734 - val_loss: 0.1588 - val_accuracy: 0.9439 - epoch_time: 3.0147\n",
            "Epoch 262/500\n",
            "179/179 [==============================] - 2s 13ms/step - loss: 0.0678 - accuracy: 0.9768 - val_loss: 0.1870 - val_accuracy: 0.9491 - epoch_time: 2.2380\n",
            "Epoch 263/500\n",
            "179/179 [==============================] - 2s 13ms/step - loss: 0.0661 - accuracy: 0.9764 - val_loss: 0.1707 - val_accuracy: 0.9487 - epoch_time: 2.2650\n",
            "Epoch 264/500\n",
            "179/179 [==============================] - 2s 13ms/step - loss: 0.0721 - accuracy: 0.9739 - val_loss: 0.1726 - val_accuracy: 0.9459 - epoch_time: 2.2656\n",
            "Epoch 265/500\n",
            "179/179 [==============================] - 2s 13ms/step - loss: 0.0690 - accuracy: 0.9757 - val_loss: 0.1798 - val_accuracy: 0.9447 - epoch_time: 2.2265\n",
            "Epoch 266/500\n",
            "179/179 [==============================] - 3s 16ms/step - loss: 0.0679 - accuracy: 0.9752 - val_loss: 0.1836 - val_accuracy: 0.9503 - epoch_time: 2.8190\n",
            "Epoch 267/500\n",
            "179/179 [==============================] - 3s 16ms/step - loss: 0.0703 - accuracy: 0.9758 - val_loss: 0.1903 - val_accuracy: 0.9435 - epoch_time: 2.7756\n",
            "Epoch 268/500\n",
            "179/179 [==============================] - 2s 13ms/step - loss: 0.0736 - accuracy: 0.9738 - val_loss: 0.1769 - val_accuracy: 0.9384 - epoch_time: 2.2524\n",
            "Epoch 269/500\n",
            "179/179 [==============================] - 2s 13ms/step - loss: 0.0707 - accuracy: 0.9741 - val_loss: 0.1848 - val_accuracy: 0.9443 - epoch_time: 2.2757\n",
            "Epoch 270/500\n",
            "179/179 [==============================] - 2s 13ms/step - loss: 0.0663 - accuracy: 0.9760 - val_loss: 0.1921 - val_accuracy: 0.9384 - epoch_time: 2.3170\n",
            "Epoch 271/500\n",
            "179/179 [==============================] - 2s 14ms/step - loss: 0.0691 - accuracy: 0.9754 - val_loss: 0.1799 - val_accuracy: 0.9447 - epoch_time: 2.3519\n",
            "Epoch 272/500\n",
            "179/179 [==============================] - 3s 17ms/step - loss: 0.0700 - accuracy: 0.9756 - val_loss: 0.1756 - val_accuracy: 0.9479 - epoch_time: 2.9007\n",
            "Epoch 273/500\n",
            "179/179 [==============================] - 3s 14ms/step - loss: 0.0645 - accuracy: 0.9757 - val_loss: 0.1866 - val_accuracy: 0.9408 - epoch_time: 2.4611\n",
            "Epoch 274/500\n",
            "179/179 [==============================] - 2s 13ms/step - loss: 0.0651 - accuracy: 0.9767 - val_loss: 0.1857 - val_accuracy: 0.9510 - epoch_time: 2.2857\n",
            "Epoch 275/500\n",
            "179/179 [==============================] - 2s 13ms/step - loss: 0.0644 - accuracy: 0.9769 - val_loss: 0.1938 - val_accuracy: 0.9471 - epoch_time: 2.1983\n",
            "Epoch 276/500\n",
            "179/179 [==============================] - 2s 13ms/step - loss: 0.0627 - accuracy: 0.9772 - val_loss: 0.2161 - val_accuracy: 0.9439 - epoch_time: 2.2443\n",
            "Epoch 277/500\n",
            "179/179 [==============================] - 3s 14ms/step - loss: 0.0690 - accuracy: 0.9752 - val_loss: 0.1979 - val_accuracy: 0.9424 - epoch_time: 2.4529\n",
            "Epoch 278/500\n",
            "179/179 [==============================] - 3s 17ms/step - loss: 0.0680 - accuracy: 0.9761 - val_loss: 0.1836 - val_accuracy: 0.9471 - epoch_time: 2.9671\n",
            "Epoch 279/500\n",
            "179/179 [==============================] - 2s 14ms/step - loss: 0.0698 - accuracy: 0.9750 - val_loss: 0.1838 - val_accuracy: 0.9471 - epoch_time: 2.3371\n",
            "Epoch 280/500\n",
            "179/179 [==============================] - 2s 13ms/step - loss: 0.0679 - accuracy: 0.9767 - val_loss: 0.1992 - val_accuracy: 0.9459 - epoch_time: 2.2526\n",
            "Epoch 281/500\n",
            "179/179 [==============================] - 2s 14ms/step - loss: 0.0635 - accuracy: 0.9773 - val_loss: 0.2013 - val_accuracy: 0.9447 - epoch_time: 2.3468\n",
            "Epoch 282/500\n",
            "179/179 [==============================] - 2s 13ms/step - loss: 0.0679 - accuracy: 0.9758 - val_loss: 0.1783 - val_accuracy: 0.9467 - epoch_time: 2.2052\n",
            "Epoch 283/500\n",
            "179/179 [==============================] - 3s 16ms/step - loss: 0.0625 - accuracy: 0.9775 - val_loss: 0.1956 - val_accuracy: 0.9483 - epoch_time: 2.7294\n",
            "Epoch 284/500\n",
            "179/179 [==============================] - 3s 16ms/step - loss: 0.0662 - accuracy: 0.9774 - val_loss: 0.1874 - val_accuracy: 0.9467 - epoch_time: 2.7344\n",
            "Epoch 285/500\n",
            "179/179 [==============================] - 2s 13ms/step - loss: 0.0639 - accuracy: 0.9780 - val_loss: 0.1931 - val_accuracy: 0.9451 - epoch_time: 2.2314\n",
            "Epoch 286/500\n",
            "179/179 [==============================] - 2s 13ms/step - loss: 0.0692 - accuracy: 0.9749 - val_loss: 0.2070 - val_accuracy: 0.9420 - epoch_time: 2.2303\n",
            "Epoch 287/500\n",
            "179/179 [==============================] - 2s 13ms/step - loss: 0.0650 - accuracy: 0.9768 - val_loss: 0.2083 - val_accuracy: 0.9443 - epoch_time: 2.2841\n",
            "Epoch 288/500\n",
            "179/179 [==============================] - 2s 13ms/step - loss: 0.0631 - accuracy: 0.9780 - val_loss: 0.1967 - val_accuracy: 0.9447 - epoch_time: 2.2001\n",
            "Epoch 289/500\n",
            "179/179 [==============================] - 3s 17ms/step - loss: 0.0646 - accuracy: 0.9763 - val_loss: 0.1978 - val_accuracy: 0.9384 - epoch_time: 2.8830\n",
            "Epoch 290/500\n",
            "179/179 [==============================] - 3s 15ms/step - loss: 0.0700 - accuracy: 0.9760 - val_loss: 0.1733 - val_accuracy: 0.9420 - epoch_time: 2.6127\n",
            "Epoch 291/500\n",
            "179/179 [==============================] - 2s 13ms/step - loss: 0.0617 - accuracy: 0.9792 - val_loss: 0.1859 - val_accuracy: 0.9463 - epoch_time: 2.2904\n",
            "Epoch 292/500\n",
            "179/179 [==============================] - 2s 13ms/step - loss: 0.0722 - accuracy: 0.9752 - val_loss: 0.1664 - val_accuracy: 0.9412 - epoch_time: 2.2945\n",
            "Epoch 293/500\n",
            "179/179 [==============================] - 2s 13ms/step - loss: 0.0695 - accuracy: 0.9764 - val_loss: 0.1734 - val_accuracy: 0.9487 - epoch_time: 2.2574\n",
            "Epoch 294/500\n",
            "179/179 [==============================] - 3s 15ms/step - loss: 0.0638 - accuracy: 0.9774 - val_loss: 0.1906 - val_accuracy: 0.9471 - epoch_time: 2.5456\n",
            "Epoch 295/500\n",
            "179/179 [==============================] - 3s 17ms/step - loss: 0.0635 - accuracy: 0.9781 - val_loss: 0.1829 - val_accuracy: 0.9475 - epoch_time: 2.9180\n",
            "Epoch 296/500\n",
            "179/179 [==============================] - 2s 14ms/step - loss: 0.0689 - accuracy: 0.9765 - val_loss: 0.1790 - val_accuracy: 0.9463 - epoch_time: 2.3292\n",
            "Epoch 297/500\n",
            "179/179 [==============================] - 2s 13ms/step - loss: 0.0615 - accuracy: 0.9788 - val_loss: 0.1815 - val_accuracy: 0.9487 - epoch_time: 2.2419\n",
            "Epoch 298/500\n",
            "179/179 [==============================] - 2s 13ms/step - loss: 0.0634 - accuracy: 0.9774 - val_loss: 0.1894 - val_accuracy: 0.9467 - epoch_time: 2.2727\n",
            "Epoch 299/500\n",
            "179/179 [==============================] - 2s 13ms/step - loss: 0.0646 - accuracy: 0.9775 - val_loss: 0.1960 - val_accuracy: 0.9447 - epoch_time: 2.2697\n",
            "Epoch 300/500\n",
            "179/179 [==============================] - 3s 16ms/step - loss: 0.0669 - accuracy: 0.9763 - val_loss: 0.1895 - val_accuracy: 0.9455 - epoch_time: 2.7536\n",
            "Epoch 301/500\n",
            "179/179 [==============================] - 3s 16ms/step - loss: 0.0605 - accuracy: 0.9777 - val_loss: 0.1896 - val_accuracy: 0.9420 - epoch_time: 2.8281\n",
            "Epoch 302/500\n",
            "179/179 [==============================] - 2s 13ms/step - loss: 0.0626 - accuracy: 0.9784 - val_loss: 0.1729 - val_accuracy: 0.9447 - epoch_time: 2.2616\n",
            "Epoch 303/500\n",
            "179/179 [==============================] - 2s 13ms/step - loss: 0.0609 - accuracy: 0.9785 - val_loss: 0.1648 - val_accuracy: 0.9503 - epoch_time: 2.2168\n",
            "Epoch 304/500\n",
            "179/179 [==============================] - 2s 13ms/step - loss: 0.0602 - accuracy: 0.9786 - val_loss: 0.1849 - val_accuracy: 0.9435 - epoch_time: 2.2359\n",
            "Epoch 305/500\n",
            "179/179 [==============================] - 2s 13ms/step - loss: 0.0643 - accuracy: 0.9778 - val_loss: 0.1637 - val_accuracy: 0.9475 - epoch_time: 2.2589\n",
            "Epoch 306/500\n",
            "179/179 [==============================] - 3s 18ms/step - loss: 0.0597 - accuracy: 0.9782 - val_loss: 0.1684 - val_accuracy: 0.9443 - epoch_time: 3.0060\n",
            "Epoch 307/500\n",
            "179/179 [==============================] - 3s 19ms/step - loss: 0.0631 - accuracy: 0.9777 - val_loss: 0.1848 - val_accuracy: 0.9443 - epoch_time: 3.3004\n",
            "Epoch 308/500\n",
            "179/179 [==============================] - 3s 15ms/step - loss: 0.0636 - accuracy: 0.9785 - val_loss: 0.1997 - val_accuracy: 0.9451 - epoch_time: 2.6778\n",
            "Epoch 309/500\n",
            "179/179 [==============================] - 2s 13ms/step - loss: 0.0607 - accuracy: 0.9785 - val_loss: 0.2030 - val_accuracy: 0.9463 - epoch_time: 2.2586\n",
            "Epoch 310/500\n",
            "179/179 [==============================] - 2s 13ms/step - loss: 0.0733 - accuracy: 0.9741 - val_loss: 0.1775 - val_accuracy: 0.9510 - epoch_time: 2.2706\n",
            "Epoch 311/500\n",
            "179/179 [==============================] - 2s 14ms/step - loss: 0.0603 - accuracy: 0.9796 - val_loss: 0.2042 - val_accuracy: 0.9471 - epoch_time: 2.3442\n",
            "Epoch 312/500\n",
            "179/179 [==============================] - 3s 16ms/step - loss: 0.0766 - accuracy: 0.9734 - val_loss: 0.1885 - val_accuracy: 0.9479 - epoch_time: 2.8201\n",
            "Epoch 313/500\n",
            "179/179 [==============================] - 3s 14ms/step - loss: 0.0722 - accuracy: 0.9754 - val_loss: 0.1759 - val_accuracy: 0.9443 - epoch_time: 2.5002\n",
            "Epoch 314/500\n",
            "179/179 [==============================] - 2s 13ms/step - loss: 0.0654 - accuracy: 0.9774 - val_loss: 0.2038 - val_accuracy: 0.9439 - epoch_time: 2.3048\n",
            "Epoch 315/500\n",
            "179/179 [==============================] - 2s 13ms/step - loss: 0.0617 - accuracy: 0.9778 - val_loss: 0.1920 - val_accuracy: 0.9463 - epoch_time: 2.2819\n",
            "Epoch 316/500\n",
            "179/179 [==============================] - 2s 13ms/step - loss: 0.0627 - accuracy: 0.9781 - val_loss: 0.1843 - val_accuracy: 0.9416 - epoch_time: 2.2777\n",
            "Epoch 317/500\n",
            "179/179 [==============================] - 3s 15ms/step - loss: 0.0634 - accuracy: 0.9779 - val_loss: 0.1772 - val_accuracy: 0.9487 - epoch_time: 2.4984\n",
            "Epoch 318/500\n",
            "179/179 [==============================] - 3s 17ms/step - loss: 0.0609 - accuracy: 0.9788 - val_loss: 0.1749 - val_accuracy: 0.9479 - epoch_time: 2.9499\n",
            "Epoch 319/500\n",
            "179/179 [==============================] - 2s 13ms/step - loss: 0.0631 - accuracy: 0.9775 - val_loss: 0.1847 - val_accuracy: 0.9459 - epoch_time: 2.2292\n",
            "Epoch 320/500\n",
            "179/179 [==============================] - 2s 13ms/step - loss: 0.0598 - accuracy: 0.9790 - val_loss: 0.1932 - val_accuracy: 0.9416 - epoch_time: 2.2912\n",
            "Epoch 321/500\n",
            "179/179 [==============================] - 2s 13ms/step - loss: 0.0591 - accuracy: 0.9796 - val_loss: 0.1901 - val_accuracy: 0.9435 - epoch_time: 2.3207\n",
            "Epoch 322/500\n",
            "179/179 [==============================] - 2s 13ms/step - loss: 0.0577 - accuracy: 0.9800 - val_loss: 0.1837 - val_accuracy: 0.9483 - epoch_time: 2.3144\n",
            "Epoch 323/500\n",
            "179/179 [==============================] - 3s 16ms/step - loss: 0.0598 - accuracy: 0.9783 - val_loss: 0.1966 - val_accuracy: 0.9432 - epoch_time: 2.7494\n",
            "Epoch 324/500\n",
            "179/179 [==============================] - 3s 16ms/step - loss: 0.0586 - accuracy: 0.9798 - val_loss: 0.2022 - val_accuracy: 0.9507 - epoch_time: 2.8132\n",
            "Epoch 325/500\n",
            "179/179 [==============================] - 2s 13ms/step - loss: 0.0582 - accuracy: 0.9796 - val_loss: 0.2109 - val_accuracy: 0.9467 - epoch_time: 2.2858\n",
            "Epoch 326/500\n",
            "179/179 [==============================] - 2s 13ms/step - loss: 0.0576 - accuracy: 0.9797 - val_loss: 0.1918 - val_accuracy: 0.9483 - epoch_time: 2.2800\n",
            "Epoch 327/500\n",
            "179/179 [==============================] - 2s 13ms/step - loss: 0.0647 - accuracy: 0.9769 - val_loss: 0.1906 - val_accuracy: 0.9467 - epoch_time: 2.2118\n",
            "Epoch 328/500\n",
            "179/179 [==============================] - 2s 14ms/step - loss: 0.0586 - accuracy: 0.9800 - val_loss: 0.1899 - val_accuracy: 0.9443 - epoch_time: 2.3160\n",
            "Epoch 329/500\n",
            "179/179 [==============================] - 3s 17ms/step - loss: 0.0574 - accuracy: 0.9797 - val_loss: 0.1645 - val_accuracy: 0.9534 - epoch_time: 2.9541\n",
            "Epoch 330/500\n",
            "179/179 [==============================] - 3s 15ms/step - loss: 0.0584 - accuracy: 0.9788 - val_loss: 0.1891 - val_accuracy: 0.9443 - epoch_time: 2.5517\n",
            "Epoch 331/500\n",
            "179/179 [==============================] - 2s 13ms/step - loss: 0.0567 - accuracy: 0.9804 - val_loss: 0.1867 - val_accuracy: 0.9432 - epoch_time: 2.2490\n",
            "Epoch 332/500\n",
            "179/179 [==============================] - 2s 13ms/step - loss: 0.0741 - accuracy: 0.9735 - val_loss: 0.1895 - val_accuracy: 0.9455 - epoch_time: 2.2908\n",
            "Epoch 333/500\n",
            "179/179 [==============================] - 2s 13ms/step - loss: 0.0614 - accuracy: 0.9781 - val_loss: 0.1819 - val_accuracy: 0.9428 - epoch_time: 2.2776\n",
            "Epoch 334/500\n",
            "179/179 [==============================] - 3s 15ms/step - loss: 0.0564 - accuracy: 0.9802 - val_loss: 0.1978 - val_accuracy: 0.9447 - epoch_time: 2.5335\n",
            "Epoch 335/500\n",
            "179/179 [==============================] - 3s 18ms/step - loss: 0.0566 - accuracy: 0.9808 - val_loss: 0.1918 - val_accuracy: 0.9412 - epoch_time: 3.0659\n",
            "Epoch 336/500\n",
            "179/179 [==============================] - 2s 13ms/step - loss: 0.0580 - accuracy: 0.9792 - val_loss: 0.2027 - val_accuracy: 0.9439 - epoch_time: 2.2700\n",
            "Epoch 337/500\n",
            "179/179 [==============================] - 2s 14ms/step - loss: 0.0571 - accuracy: 0.9796 - val_loss: 0.2061 - val_accuracy: 0.9443 - epoch_time: 2.3579\n"
          ]
        }
      ],
      "source": [
        "sensor = \"sensor3\"\n",
        "time_callback = TimeHistory()\n",
        "model_sensor3 = creatModel()\n",
        "model_save, checkpoint, history_cb, Estop = setCallbacks(\"sensor3\")\n",
        "history_sensor3 = model_sensor3.fit(X_train_sensor3, y_train_sensor3,\n",
        "                                    batch_size = 128, epochs = 500,\n",
        "                                    validation_split = 0.1,\n",
        "                                    verbose = 1,\n",
        "                                    callbacks = [time_callback, model_save, checkpoint, history_cb, Estop])\n",
        "                                    # class_weight= class_weights)#"
      ]
    },
    {
      "cell_type": "code",
      "execution_count": null,
      "metadata": {
        "colab": {
          "base_uri": "https://localhost:8080/"
        },
        "id": "3O-5mYHRoluo",
        "outputId": "b2f82402-192b-4c36-f1db-12b4244cba1b"
      },
      "outputs": [
        {
          "output_type": "stream",
          "name": "stdout",
          "text": [
            "Average Exe_time for sensor1: 2.477 sec.\n"
          ]
        }
      ],
      "source": [
        "#plot history of model_sensor1\n",
        "history_sensor1 = pd.read_csv(model_path +\"historyLOG_Instant-25_sensor1.csv\", index_col='epoch')\n",
        "history_sensor1.reset_index(drop= True, inplace= True)\n",
        "history_sensor1.head()\n",
        "print('Average Exe_time for sensor1: {} sec.'.format(round(np.mean(history_sensor1['epoch_time'].values),3)))\n"
      ]
    },
    {
      "cell_type": "code",
      "execution_count": null,
      "metadata": {
        "colab": {
          "base_uri": "https://localhost:8080/",
          "height": 281
        },
        "id": "qk6CGElHFQKh",
        "outputId": "f39c6d1b-c0c6-4f08-e11a-9c14c4123b5c"
      },
      "outputs": [
        {
          "output_type": "display_data",
          "data": {
            "text/plain": [
              "<Figure size 432x288 with 1 Axes>"
            ],
            "image/png": "[encoded data removed]"
          },
          "metadata": {
            "needs_background": "light"
          }
        }
      ],
      "source": [
        "plt.plot( history_sensor1['loss'], 'b',label = 'loss')\n",
        "plt.plot( history_sensor1['val_loss'], 'g', label = 'val_loss')\n",
        "plt.legend()\n",
        "plt.grid()\n",
        "plt.title('loss_model_sensor1')\n",
        "plt.show()"
      ]
    },
    {
      "cell_type": "code",
      "execution_count": null,
      "metadata": {
        "colab": {
          "base_uri": "https://localhost:8080/",
          "height": 281
        },
        "id": "yW2YOqyrFauE",
        "outputId": "d6a83b1c-7b09-4fcf-bae1-5097d99154c9"
      },
      "outputs": [
        {
          "output_type": "display_data",
          "data": {
            "text/plain": [
              "<Figure size 432x288 with 1 Axes>"
            ],
            "image/png": "[encoded data removed]"
          },
          "metadata": {
            "needs_background": "light"
          }
        }
      ],
      "source": [
        "plt.plot(history_sensor1['accuracy']* 100,'b',label = 'acc')\n",
        "plt.plot(history_sensor1['val_accuracy'] * 100,'g', label = 'val_acc')\n",
        "plt.legend()\n",
        "plt.grid()\n",
        "plt.title('accuracy_model_sensor1')\n",
        "plt.show()"
      ]
    },
    {
      "cell_type": "code",
      "execution_count": null,
      "metadata": {
        "colab": {
          "base_uri": "https://localhost:8080/"
        },
        "id": "yiUh7YCM0q5f",
        "outputId": "78ec7ab8-1c2d-44e5-e680-e446fc6d3a89"
      },
      "outputs": [
        {
          "output_type": "stream",
          "name": "stdout",
          "text": [
            "Average Exe_time for sensor2: 2.407 sec.\n"
          ]
        }
      ],
      "source": [
        "history_sensor2 = pd.read_csv(model_path +\"historyLOG_Instant-25_sensor2.csv\", index_col='epoch')\n",
        "history_sensor2.reset_index(drop= True, inplace= True)\n",
        "history_sensor2.head()\n",
        "print('Average Exe_time for sensor2: {} sec.'.format(round(np.mean(history_sensor2['epoch_time'].values),3)))\n"
      ]
    },
    {
      "cell_type": "code",
      "execution_count": null,
      "metadata": {
        "colab": {
          "base_uri": "https://localhost:8080/",
          "height": 281
        },
        "id": "L7pzR8UUFR-X",
        "outputId": "a724059a-1a2a-4251-cfe8-3d929dd6e32c"
      },
      "outputs": [
        {
          "output_type": "display_data",
          "data": {
            "text/plain": [
              "<Figure size 432x288 with 1 Axes>"
            ],
            "image/png": "[encoded data removed]"
          },
          "metadata": {
            "needs_background": "light"
          }
        }
      ],
      "source": [
        "plt.plot( history_sensor2['loss'], 'b',label = 'loss')\n",
        "plt.plot( history_sensor2['val_loss'], 'g', label = 'val_loss')\n",
        "plt.legend()\n",
        "plt.grid()\n",
        "plt.title('loss_model_sensor2')\n",
        "plt.show()"
      ]
    },
    {
      "cell_type": "code",
      "execution_count": null,
      "metadata": {
        "colab": {
          "base_uri": "https://localhost:8080/",
          "height": 281
        },
        "id": "ThBgZzV2Finr",
        "outputId": "785bcdee-2416-42a8-b5d5-9be845b55712"
      },
      "outputs": [
        {
          "output_type": "display_data",
          "data": {
            "text/plain": [
              "<Figure size 432x288 with 1 Axes>"
            ],
            "image/png": "[encoded data removed]"
          },
          "metadata": {
            "needs_background": "light"
          }
        }
      ],
      "source": [
        "plt.plot(history_sensor2['accuracy']* 100,'b',label = 'acc')\n",
        "plt.plot(history_sensor2['val_accuracy'] * 100,'g', label = 'val_acc')\n",
        "plt.legend()\n",
        "plt.grid()\n",
        "plt.title('accuracy_model_sensor2')\n",
        "plt.show()"
      ]
    },
    {
      "cell_type": "code",
      "execution_count": null,
      "metadata": {
        "colab": {
          "base_uri": "https://localhost:8080/"
        },
        "id": "xZQRze500qd5",
        "outputId": "97052bd5-bd0b-402c-8ff6-a537c7bec881"
      },
      "outputs": [
        {
          "output_type": "stream",
          "name": "stdout",
          "text": [
            "Average Exe_time for sensor3: 2.401 sec.\n"
          ]
        }
      ],
      "source": [
        "history_sensor3 = pd.read_csv(model_path +\"historyLOG_Instant-25_sensor3.csv\", index_col='epoch')\n",
        "history_sensor3.reset_index(drop= True, inplace= True)\n",
        "history_sensor3.head()\n",
        "print('Average Exe_time for sensor3: {} sec.'.format(round(np.mean(history_sensor3['epoch_time'].values),3)))\n"
      ]
    },
    {
      "cell_type": "code",
      "execution_count": null,
      "metadata": {
        "colab": {
          "base_uri": "https://localhost:8080/",
          "height": 281
        },
        "id": "swXRfIlAX0pF",
        "outputId": "2e9e4406-1001-4c93-89d3-5b19a67f430d"
      },
      "outputs": [
        {
          "output_type": "display_data",
          "data": {
            "text/plain": [
              "<Figure size 432x288 with 1 Axes>"
            ],
            "image/png": "[encoded data removed]"
          },
          "metadata": {
            "needs_background": "light"
          }
        }
      ],
      "source": [
        "plt.plot( history_sensor3['loss'], 'b',label = 'loss')\n",
        "plt.plot( history_sensor3['val_loss'], 'g', label = 'val_loss')\n",
        "plt.legend()\n",
        "plt.grid()\n",
        "plt.title('loss_model_sensor3')\n",
        "plt.show()"
      ]
    },
    {
      "cell_type": "code",
      "execution_count": null,
      "metadata": {
        "colab": {
          "base_uri": "https://localhost:8080/"
        },
        "id": "Uzl-v65bFtOj",
        "outputId": "68135060-6c34-45d1-8bc3-950333fc134a"
      },
      "outputs": [
        {
          "output_type": "display_data",
          "data": {
            "text/plain": [
              "<Figure size 432x288 with 1 Axes>"
            ],
            "image/png": "[encoded data removed]"
          },
          "metadata": {
            "needs_background": "light"
          }
        }
      ],
      "source": [
        "plt.plot(history_sensor3['accuracy']* 100,'b',label = 'acc')\n",
        "plt.plot(history_sensor3['val_accuracy'] * 100,'g', label = 'val_acc')\n",
        "plt.legend()\n",
        "plt.grid()\n",
        "plt.title('accuracy_model_sensor3')\n",
        "plt.show()"
      ]
    },
    {
      "cell_type": "code",
      "execution_count": null,
      "metadata": {
        "id": "r9txKKt8GPES",
        "colab": {
          "base_uri": "https://localhost:8080/"
        },
        "outputId": "5a98d034-a6df-41eb-d62f-cf3297d4ae45"
      },
      "outputs": [
        {
          "output_type": "stream",
          "name": "stdout",
          "text": [
            "140/140 [==============================] - 1s 5ms/step - loss: 0.0228 - accuracy: 0.9949\n",
            "test accuracy :99.5% \n",
            " test loss :0.0228\n"
          ]
        }
      ],
      "source": [
        "#last model_sensor1 evaluation\n",
        "test_loss, test_acc = model_sensor1.evaluate( X_test_sensor1, y_test_sensor1, verbose= 1)\n",
        "print('test accuracy :{:.1%} \\n test loss :{:.3}'.format(test_acc, test_loss))"
      ]
    },
    {
      "cell_type": "code",
      "execution_count": null,
      "metadata": {
        "id": "adROowiPGPtE",
        "colab": {
          "base_uri": "https://localhost:8080/"
        },
        "outputId": "81f5bd50-28f8-4903-c0a5-96204645eade"
      },
      "outputs": [
        {
          "output_type": "stream",
          "name": "stdout",
          "text": [
            "140/140 [==============================] - 1s 5ms/step - loss: 0.0393 - accuracy: 0.9899\n",
            "test accuracy :99.0% \n",
            " test loss :0.0393\n"
          ]
        }
      ],
      "source": [
        "#last model_sensor2 evaluation\n",
        "test_loss, test_acc = model_sensor2.evaluate( X_test_sensor2, y_test_sensor2, verbose= 1)\n",
        "print('test accuracy :{:.1%} \\n test loss :{:.3}'.format(test_acc, test_loss))"
      ]
    },
    {
      "cell_type": "code",
      "execution_count": null,
      "metadata": {
        "id": "AFoZDmx4GP5u",
        "colab": {
          "base_uri": "https://localhost:8080/"
        },
        "outputId": "a52fe6e6-811c-4fb5-a606-adff1bf82e6d"
      },
      "outputs": [
        {
          "output_type": "stream",
          "name": "stdout",
          "text": [
            "140/140 [==============================] - 1s 5ms/step - loss: 0.1729 - accuracy: 0.9519\n",
            "test accuracy :95.2% \n",
            " test loss :0.173\n"
          ]
        }
      ],
      "source": [
        "#last model_sensor3 evaluation\n",
        "test_loss, test_acc = model_sensor3.evaluate( X_test_sensor3, y_test_sensor3, verbose= 1)\n",
        "print('test accuracy :{:.1%} \\n test loss :{:.3}'.format(test_acc, test_loss))"
      ]
    },
    {
      "cell_type": "code",
      "execution_count": null,
      "metadata": {
        "id": "STn_XkCZGP7k",
        "colab": {
          "base_uri": "https://localhost:8080/"
        },
        "outputId": "24a63a0c-45dc-4ed6-8a82-dc64fc47b108"
      },
      "outputs": [
        {
          "output_type": "stream",
          "name": "stdout",
          "text": [
            "140/140 [==============================] - 1s 4ms/step\n",
            "140/140 [==============================] - 1s 4ms/step\n",
            "140/140 [==============================] - 2s 6ms/step\n"
          ]
        }
      ],
      "source": [
        "y_pred_sensor1 = model_sensor1.predict( X_test_sensor1, verbose= 1)\n",
        "y_pred_sensor2 = model_sensor2.predict( X_test_sensor2, verbose= 1)\n",
        "y_pred_sensor3 = model_sensor3.predict( X_test_sensor3, verbose= 1)"
      ]
    },
    {
      "cell_type": "code",
      "execution_count": null,
      "metadata": {
        "id": "WCLRF8ySGP-y"
      },
      "outputs": [],
      "source": [
        "y_pred_sensor1 = [np.argmax(i) for i in y_pred_sensor1]\n",
        "y_pred_sensor2 = [np.argmax(i) for i in y_pred_sensor2]\n",
        "y_pred_sensor3 = [np.argmax(i) for i in y_pred_sensor3]"
      ]
    },
    {
      "cell_type": "code",
      "execution_count": null,
      "metadata": {
        "id": "anY5RdokHE_1"
      },
      "outputs": [],
      "source": [
        "y_pred_total = []\n",
        "for i in range(len(y_pred_sensor1)):\n",
        "  y_pred_total.append( y_pred_sensor1[i] or y_pred_sensor2[i] or y_pred_sensor3[i])"
      ]
    },
    {
      "cell_type": "code",
      "execution_count": null,
      "metadata": {
        "id": "afksljyBHFMW"
      },
      "outputs": [],
      "source": [
        "assert(len(y_pred_total) == len(y_pred_sensor1))"
      ]
    },
    {
      "cell_type": "code",
      "execution_count": null,
      "metadata": {
        "id": "9NrwBh01HMgQ"
      },
      "outputs": [],
      "source": [
        "y_test_sensor1 = [np.argmax(i) for i in y_test_sensor1]\n",
        "y_test_sensor2 = [np.argmax(i) for i in y_test_sensor2]\n",
        "y_test_sensor3 = [np.argmax(i) for i in y_test_sensor3]"
      ]
    },
    {
      "cell_type": "code",
      "execution_count": null,
      "metadata": {
        "id": "lRweEKazHMsx"
      },
      "outputs": [],
      "source": [
        "y_test_total = []\n",
        "for i in range(len(y_test_sensor1)):\n",
        "  y_test_total.append(y_test_sensor1[i] or y_test_sensor2[i] or y_test_sensor3[i])"
      ]
    },
    {
      "cell_type": "code",
      "execution_count": null,
      "metadata": {
        "id": "3oCJphJZHMuN",
        "colab": {
          "base_uri": "https://localhost:8080/"
        },
        "outputId": "9a1d334c-53c0-4e56-d18c-b76ec9f95f5e"
      },
      "outputs": [
        {
          "output_type": "stream",
          "name": "stdout",
          "text": [
            "Sensor 1 performanace:\n",
            "recall score : 99.49%\n",
            "\n",
            "precision score: 99.49%\n",
            "\n",
            "F1 score: 99.49%\n",
            "\n",
            "accuracy score: 99.49%\n",
            "\n"
          ]
        }
      ],
      "source": [
        "print(\"Sensor 1 performanace:\")\n",
        "recall = recall_score(y_test_sensor1, y_pred_sensor1, average='micro')\n",
        "print('recall score : {:.2%}\\n'.format(recall ))\n",
        "\n",
        "precision = precision_score(y_test_sensor1, y_pred_sensor1, average='micro')\n",
        "print('precision score: {:.2%}\\n'.format(precision ))\n",
        "\n",
        "f1 = f1_score(y_test_sensor1, y_pred_sensor1, average='micro')\n",
        "print(\"F1 score: {:.2%}\\n\".format(f1 ))\n",
        "\n",
        "accuracy = accuracy_score(y_test_sensor1, y_pred_sensor1)\n",
        "print(\"accuracy score: {:.2%}\\n\".format(accuracy))"
      ]
    },
    {
      "cell_type": "code",
      "execution_count": null,
      "metadata": {
        "id": "Lm9vlS19HMxS",
        "colab": {
          "base_uri": "https://localhost:8080/"
        },
        "outputId": "5e6d3282-0b60-444e-805f-c66f8e7b56d9"
      },
      "outputs": [
        {
          "output_type": "stream",
          "name": "stdout",
          "text": [
            "Sensor 2 performanace:\n",
            "recall score : 98.99%\n",
            "\n",
            "precision score: 98.99%\n",
            "\n",
            "F1 score: 98.99%\n",
            "\n",
            "accuracy score: 98.99%\n",
            "\n"
          ]
        }
      ],
      "source": [
        "print(\"Sensor 2 performanace:\")\n",
        "recall = recall_score(y_test_sensor2, y_pred_sensor2, average='micro')\n",
        "print('recall score : {:.2%}\\n'.format(recall ))\n",
        "\n",
        "precision = precision_score(y_test_sensor2, y_pred_sensor2, average='micro')\n",
        "print('precision score: {:.2%}\\n'.format(precision ))\n",
        "\n",
        "f1 = f1_score(y_test_sensor2, y_pred_sensor2, average='micro')\n",
        "print(\"F1 score: {:.2%}\\n\".format(f1 ))\n",
        "\n",
        "accuracy = accuracy_score(y_test_sensor2, y_pred_sensor2)\n",
        "print(\"accuracy score: {:.2%}\\n\".format(accuracy))"
      ]
    },
    {
      "cell_type": "code",
      "execution_count": null,
      "metadata": {
        "id": "klF4enFMHaV1",
        "colab": {
          "base_uri": "https://localhost:8080/"
        },
        "outputId": "3a57f891-e787-4d22-e29a-745a072ccfbe"
      },
      "outputs": [
        {
          "output_type": "stream",
          "name": "stdout",
          "text": [
            "Sensor 3 performanace:\n",
            "recall score : 95.19%\n",
            "\n",
            "precision score: 95.19%\n",
            "\n",
            "F1 score: 95.19%\n",
            "\n",
            "accuracy score: 95.19%\n",
            "\n"
          ]
        }
      ],
      "source": [
        "print(\"Sensor 3 performanace:\")\n",
        "recall = recall_score(y_test_sensor3, y_pred_sensor3, average='micro')\n",
        "print('recall score : {:.2%}\\n'.format(recall ))\n",
        "\n",
        "precision = precision_score(y_test_sensor3, y_pred_sensor3, average='micro')\n",
        "print('precision score: {:.2%}\\n'.format(precision ))\n",
        "\n",
        "f1 = f1_score(y_test_sensor3, y_pred_sensor3, average='micro')\n",
        "print(\"F1 score: {:.2%}\\n\".format(f1 ))\n",
        "\n",
        "accuracy = accuracy_score(y_test_sensor3, y_pred_sensor3)\n",
        "print(\"accuracy score: {:.2%}\\n\".format(accuracy))"
      ]
    },
    {
      "cell_type": "code",
      "execution_count": null,
      "metadata": {
        "id": "EIlCvZWhHg9S",
        "colab": {
          "base_uri": "https://localhost:8080/"
        },
        "outputId": "c6b4607b-4277-4d21-e2bc-65396611ffaa"
      },
      "outputs": [
        {
          "output_type": "stream",
          "name": "stdout",
          "text": [
            "All Sensors performanace:\n",
            "\n",
            "recall score : 95.30%\n",
            "\n",
            "precision score: 95.30%\n",
            "\n",
            "F1 score: 95.30%\n",
            "\n",
            "accuracy score: 95.30%\n",
            "\n"
          ]
        }
      ],
      "source": [
        "print(\"All Sensors performanace:\\n\")\n",
        "\n",
        "recall = recall_score(y_test_total, y_pred_total, average='micro')\n",
        "print('recall score : {:.2%}\\n'.format(recall ))\n",
        "\n",
        "precision = precision_score(y_test_total, y_pred_total, average='micro')\n",
        "print('precision score: {:.2%}\\n'.format(precision ))\n",
        "\n",
        "f1 = f1_score(y_test_total, y_pred_total, average='micro')\n",
        "print(\"F1 score: {:.2%}\\n\".format(f1 ))\n",
        "\n",
        "accuracy = accuracy_score(y_test_total, y_pred_total)\n",
        "print(\"accuracy score: {:.2%}\\n\".format(accuracy))"
      ]
    },
    {
      "cell_type": "code",
      "execution_count": null,
      "metadata": {
        "id": "j5CsF4AQHiEs",
        "colab": {
          "base_uri": "https://localhost:8080/"
        },
        "outputId": "93465719-0e7e-4f6a-de4a-c6e0544c59d9"
      },
      "outputs": [
        {
          "output_type": "stream",
          "name": "stdout",
          "text": [
            "All Sensors performanace:\n",
            "\n",
            "recall score : 94.82%\n",
            "\n",
            "precision score: 95.46%\n",
            "\n",
            "F1 score: 95.11%\n",
            "\n",
            "accuracy score: 95.30%\n",
            "\n"
          ]
        }
      ],
      "source": [
        "print(\"All Sensors performanace:\\n\")\n",
        "\n",
        "recall = recall_score(y_test_total, y_pred_total, average='macro')\n",
        "print('recall score : {:.2%}\\n'.format(recall ))\n",
        "\n",
        "precision = precision_score(y_test_total, y_pred_total, average='macro')\n",
        "print('precision score: {:.2%}\\n'.format(precision ))\n",
        "\n",
        "f1 = f1_score(y_test_total, y_pred_total, average='macro')\n",
        "print(\"F1 score: {:.2%}\\n\".format(f1 ))\n",
        "\n",
        "accuracy = accuracy_score(y_test_total, y_pred_total)\n",
        "print(\"accuracy score: {:.2%}\\n\".format(accuracy))"
      ]
    },
    {
      "cell_type": "code",
      "execution_count": null,
      "metadata": {
        "id": "d1gGHBdzHlkV",
        "colab": {
          "base_uri": "https://localhost:8080/"
        },
        "outputId": "3b19c5cf-a248-44c2-b761-68b712f36efb"
      },
      "outputs": [
        {
          "output_type": "execute_result",
          "data": {
            "text/plain": [
              "      1     0\n",
              "1  1684   143\n",
              "0    67  2575"
            ],
            "text/html": [
              "\n",
              "  <div id=\"df-171f9556-6a8e-40f5-aa33-c1421143c12f\">\n",
              "    <div class=\"colab-df-container\">\n",
              "      <div>\n",
              "<style scoped>\n",
              "    .dataframe tbody tr th:only-of-type {\n",
              "        vertical-align: middle;\n",
              "    }\n",
              "\n",
              "    .dataframe tbody tr th {\n",
              "        vertical-align: top;\n",
              "    }\n",
              "\n",
              "    .dataframe thead th {\n",
              "        text-align: right;\n",
              "    }\n",
              "</style>\n",
              "<table border=\"1\" class=\"dataframe\">\n",
              "  <thead>\n",
              "    <tr style=\"text-align: right;\">\n",
              "      <th></th>\n",
              "      <th>1</th>\n",
              "      <th>0</th>\n",
              "    </tr>\n",
              "  </thead>\n",
              "  <tbody>\n",
              "    <tr>\n",
              "      <th>1</th>\n",
              "      <td>1684</td>\n",
              "      <td>143</td>\n",
              "    </tr>\n",
              "    <tr>\n",
              "      <th>0</th>\n",
              "      <td>67</td>\n",
              "      <td>2575</td>\n",
              "    </tr>\n",
              "  </tbody>\n",
              "</table>\n",
              "</div>\n",
              "      <button class=\"colab-df-convert\" onclick=\"convertToInteractive('df-171f9556-6a8e-40f5-aa33-c1421143c12f')\"\n",
              "              title=\"Convert this dataframe to an interactive table.\"\n",
              "              style=\"display:none;\">\n",
              "        \n",
              "  <svg xmlns=\"http://www.w3.org/2000/svg\" height=\"24px\"viewBox=\"0 0 24 24\"\n",
              "       width=\"24px\">\n",
              "    <path d=\"M0 0h24v24H0V0z\" fill=\"none\"/>\n",
              "    <path d=\"M18.56 5.44l.94 2.06.94-2.06 2.06-.94-2.06-.94-.94-2.06-.94 2.06-2.06.94zm-11 1L8.5 8.5l.94-2.06 2.06-.94-2.06-.94L8.5 2.5l-.94 2.06-2.06.94zm10 10l.94 2.06.94-2.06 2.06-.94-2.06-.94-.94-2.06-.94 2.06-2.06.94z\"/><path d=\"M17.41 7.96l-1.37-1.37c-.4-.4-.92-.59-1.43-.59-.52 0-1.04.2-1.43.59L10.3 9.45l-7.72 7.72c-.78.78-.78 2.05 0 2.83L4 21.41c.39.39.9.59 1.41.59.51 0 1.02-.2 1.41-.59l7.78-7.78 2.81-2.81c.8-.78.8-2.07 0-2.86zM5.41 20L4 18.59l7.72-7.72 1.47 1.35L5.41 20z\"/>\n",
              "  </svg>\n",
              "      </button>\n",
              "      \n",
              "  <style>\n",
              "    .colab-df-container {\n",
              "      display:flex;\n",
              "      flex-wrap:wrap;\n",
              "      gap: 12px;\n",
              "    }\n",
              "\n",
              "    .colab-df-convert {\n",
              "      background-color: #E8F0FE;\n",
              "      border: none;\n",
              "      border-radius: 50%;\n",
              "      cursor: pointer;\n",
              "      display: none;\n",
              "      fill: #1967D2;\n",
              "      height: 32px;\n",
              "      padding: 0 0 0 0;\n",
              "      width: 32px;\n",
              "    }\n",
              "\n",
              "    .colab-df-convert:hover {\n",
              "      background-color: #E2EBFA;\n",
              "      box-shadow: 0px 1px 2px rgba(60, 64, 67, 0.3), 0px 1px 3px 1px rgba(60, 64, 67, 0.15);\n",
              "      fill: #174EA6;\n",
              "    }\n",
              "\n",
              "    [theme=dark] .colab-df-convert {\n",
              "      background-color: #3B4455;\n",
              "      fill: #D2E3FC;\n",
              "    }\n",
              "\n",
              "    [theme=dark] .colab-df-convert:hover {\n",
              "      background-color: #434B5C;\n",
              "      box-shadow: 0px 1px 3px 1px rgba(0, 0, 0, 0.15);\n",
              "      filter: drop-shadow(0px 1px 2px rgba(0, 0, 0, 0.3));\n",
              "      fill: #FFFFFF;\n",
              "    }\n",
              "  </style>\n",
              "\n",
              "      <script>\n",
              "        const buttonEl =\n",
              "          document.querySelector('#df-171f9556-6a8e-40f5-aa33-c1421143c12f button.colab-df-convert');\n",
              "        buttonEl.style.display =\n",
              "          google.colab.kernel.accessAllowed ? 'block' : 'none';\n",
              "\n",
              "        async function convertToInteractive(key) {\n",
              "          const element = document.querySelector('#df-171f9556-6a8e-40f5-aa33-c1421143c12f');\n",
              "          const dataTable =\n",
              "            await google.colab.kernel.invokeFunction('convertToInteractive',\n",
              "                                                     [key], {});\n",
              "          if (!dataTable) return;\n",
              "\n",
              "          const docLinkHtml = 'Like what you see? Visit the ' +\n",
              "            '<a target=\"_blank\" href=https://colab.research.google.com/notebooks/data_table.ipynb>data table notebook</a>'\n",
              "            + ' to learn more about interactive tables.';\n",
              "          element.innerHTML = '';\n",
              "          dataTable['output_type'] = 'display_data';\n",
              "          await google.colab.output.renderOutput(dataTable, element);\n",
              "          const docLink = document.createElement('div');\n",
              "          docLink.innerHTML = docLinkHtml;\n",
              "          element.appendChild(docLink);\n",
              "        }\n",
              "      </script>\n",
              "    </div>\n",
              "  </div>\n",
              "  "
            ]
          },
          "metadata": {},
          "execution_count": 74
        }
      ],
      "source": [
        "conf = confusion_matrix(y_test_total, y_pred_total, labels=[1,0])\n",
        "conf_df = pd.DataFrame(conf, columns= [1,0], index= [1,0])\n",
        "conf_df"
      ]
    }
  ],
  "metadata": {
    "accelerator": "GPU",
    "colab": {
      "provenance": []
    },
    "kernelspec": {
      "display_name": "Python 3",
      "name": "python3"
    },
    "language_info": {
      "name": "python"
    }
  },
  "nbformat": 4,
  "nbformat_minor": 0
}