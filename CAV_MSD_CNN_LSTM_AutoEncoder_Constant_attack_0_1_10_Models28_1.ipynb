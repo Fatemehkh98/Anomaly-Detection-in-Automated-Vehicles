{
  "nbformat": 4,
  "nbformat_minor": 0,
  "metadata": {
    "colab": {
      "provenance": []
    },
    "kernelspec": {
      "name": "python3",
      "display_name": "Python 3"
    },
    "language_info": {
      "name": "python"
    },
    "accelerator": "GPU"
  },
  "cells": [
    {
      "cell_type": "code",
      "metadata": {
        "id": "INNY7MoLZn0x",
        "colab": {
          "base_uri": "https://localhost:8080/"
        },
        "outputId": "8a293aa8-3853-4b9f-929b-4c0ef29e2295"
      },
      "source": [
        "from google.colab import drive\n",
        "drive.mount('/content/drive')"
      ],
      "execution_count": null,
      "outputs": [
        {
          "output_type": "stream",
          "name": "stdout",
          "text": [
            "Mounted at /content/drive\n"
          ]
        }
      ]
    },
    {
      "cell_type": "code",
      "metadata": {
        "id": "bQ3m-WaucgZw",
        "colab": {
          "base_uri": "https://localhost:8080/"
        },
        "outputId": "f9b3a5db-014f-4b11-dddd-e78f8f4e9816"
      },
      "source": [
        "pip install h5py==2.10.0"
      ],
      "execution_count": null,
      "outputs": [
        {
          "output_type": "stream",
          "name": "stdout",
          "text": [
            "Looking in indexes: https://pypi.org/simple, https://us-python.pkg.dev/colab-wheels/public/simple/\n",
            "Collecting h5py==2.10.0\n",
            "  Downloading h5py-2.10.0-cp38-cp38-manylinux1_x86_64.whl (2.9 MB)\n",
            "\u001b[2K     \u001b[90m━━━━━━━━━━━━━━━━━━━━━━━━━━━━━━━━━━━━━━━━\u001b[0m \u001b[32m2.9/2.9 MB\u001b[0m \u001b[31m57.1 MB/s\u001b[0m eta \u001b[36m0:00:00\u001b[0m\n",
            "\u001b[?25hRequirement already satisfied: numpy>=1.7 in /usr/local/lib/python3.8/dist-packages (from h5py==2.10.0) (1.21.6)\n",
            "Requirement already satisfied: six in /usr/local/lib/python3.8/dist-packages (from h5py==2.10.0) (1.15.0)\n",
            "Installing collected packages: h5py\n",
            "  Attempting uninstall: h5py\n",
            "    Found existing installation: h5py 3.1.0\n",
            "    Uninstalling h5py-3.1.0:\n",
            "      Successfully uninstalled h5py-3.1.0\n",
            "Successfully installed h5py-2.10.0\n"
          ]
        }
      ]
    },
    {
      "cell_type": "code",
      "metadata": {
        "colab": {
          "base_uri": "https://localhost:8080/"
        },
        "id": "8QiS7haVwwyX",
        "outputId": "83f732c7-4445-4a26-ab60-68ffdaae6161"
      },
      "source": [
        "import tensorflow as tf\n",
        "print(\"tensorflow version :{}\".format(tf.__version__))\n",
        "device_name = tf.test.gpu_device_name()\n",
        "if device_name != '/device:GPU:0':\n",
        "  raise SystemError('GPU device not found')\n",
        "print('Found GPU at: {}'.format(device_name))"
      ],
      "execution_count": null,
      "outputs": [
        {
          "output_type": "stream",
          "name": "stdout",
          "text": [
            "tensorflow version :2.9.2\n",
            "Found GPU at: /device:GPU:0\n"
          ]
        }
      ]
    },
    {
      "cell_type": "code",
      "metadata": {
        "id": "GcgHainaexAf",
        "colab": {
          "base_uri": "https://localhost:8080/"
        },
        "outputId": "f9b548e0-6101-4c06-f7f0-31ecc3387468"
      },
      "source": [
        "from tensorflow.python.client import device_lib\n",
        "device_lib.list_local_devices()"
      ],
      "execution_count": null,
      "outputs": [
        {
          "output_type": "execute_result",
          "data": {
            "text/plain": [
              "[name: \"/device:CPU:0\"\n",
              " device_type: \"CPU\"\n",
              " memory_limit: 268435456\n",
              " locality {\n",
              " }\n",
              " incarnation: 15297050511292731323\n",
              " xla_global_id: -1, name: \"/device:GPU:0\"\n",
              " device_type: \"GPU\"\n",
              " memory_limit: 14417788928\n",
              " locality {\n",
              "   bus_id: 1\n",
              "   links {\n",
              "   }\n",
              " }\n",
              " incarnation: 11559508959805786204\n",
              " physical_device_desc: \"device: 0, name: Tesla T4, pci bus id: 0000:00:04.0, compute capability: 7.5\"\n",
              " xla_global_id: 416903419]"
            ]
          },
          "metadata": {},
          "execution_count": 4
        }
      ]
    },
    {
      "cell_type": "code",
      "metadata": {
        "id": "wXNT7HPDVvnG"
      },
      "source": [
        "#### physical_device_desc: \"device: 0, name: Tesla T4, pci bus id: 0000:00:04.0, compute capability: 7.5\"]"
      ],
      "execution_count": null,
      "outputs": []
    },
    {
      "cell_type": "code",
      "metadata": {
        "id": "VtduHlsdzllv"
      },
      "source": [
        "import pandas as pd\n",
        "import numpy as np\n",
        "import matplotlib.pyplot as plt\n",
        "from sklearn.model_selection import train_test_split\n",
        "from sklearn.preprocessing import MinMaxScaler, StandardScaler\n",
        "from sklearn.utils import class_weight"
      ],
      "execution_count": null,
      "outputs": []
    },
    {
      "cell_type": "code",
      "metadata": {
        "id": "wmDBFUYG5UTm"
      },
      "source": [
        "\n",
        "from keras.layers import Conv1D, Dense, Dropout, GlobalMaxPool1D, MaxPool1D\n",
        "from keras.layers import TimeDistributed, LSTM, Bidirectional, Input, concatenate,RepeatVector\n",
        "from keras import regularizers\n",
        "# from keras.layers.normalization import BatchNormalization\n",
        "from keras.models import Sequential, load_model, Model\n",
        "from keras.callbacks import ModelCheckpoint, Callback, EarlyStopping\n",
        "from tensorflow.keras.utils import plot_model, to_categorical\n",
        "from keras.losses import binary_crossentropy\n",
        "from keras.optimizers import Adam\n",
        "from sklearn.metrics import recall_score, precision_score, f1_score, accuracy_score\n",
        "from sklearn.metrics import confusion_matrix\n",
        "from keras.regularizers import l1,l2\n"
      ],
      "execution_count": null,
      "outputs": []
    },
    {
      "cell_type": "code",
      "metadata": {
        "id": "knBwY4MXdknx"
      },
      "source": [
        "data_path = '/content/drive/MyDrive/CAV/data/Constant attack/0_1_dur_10/'"
      ],
      "execution_count": null,
      "outputs": []
    },
    {
      "cell_type": "code",
      "metadata": {
        "id": "uPy3-An4ynUz",
        "colab": {
          "base_uri": "https://localhost:8080/",
          "height": 206
        },
        "outputId": "c2dc9afa-ad8e-4938-c4aa-81087c03b41e"
      },
      "source": [
        "sensor1_data = pd.read_csv(data_path + \"Sensor1_values_constant_0_1.csv\", index_col= 'Unnamed: 0')\n",
        "sensor1_data.head()"
      ],
      "execution_count": null,
      "outputs": [
        {
          "output_type": "execute_result",
          "data": {
            "text/plain": [
              "   InVehicle_Longitudinal_Speed  GPS_Speed  InVehicle_Longitudinal_Accel\n",
              "0                     11.375000  11.307097                     -0.103000\n",
              "1                     11.366708  11.255964                     -0.353946\n",
              "2                     11.362331  11.249115                     -0.090962\n",
              "3                     11.358665  11.263280                     -0.043470\n",
              "4                     11.356745  11.270361                     -0.037579"
            ],
            "text/html": [
              "\n",
              "  <div id=\"df-ec1b79dd-241d-43a2-a49a-cb12392492b5\">\n",
              "    <div class=\"colab-df-container\">\n",
              "      <div>\n",
              "<style scoped>\n",
              "    .dataframe tbody tr th:only-of-type {\n",
              "        vertical-align: middle;\n",
              "    }\n",
              "\n",
              "    .dataframe tbody tr th {\n",
              "        vertical-align: top;\n",
              "    }\n",
              "\n",
              "    .dataframe thead th {\n",
              "        text-align: right;\n",
              "    }\n",
              "</style>\n",
              "<table border=\"1\" class=\"dataframe\">\n",
              "  <thead>\n",
              "    <tr style=\"text-align: right;\">\n",
              "      <th></th>\n",
              "      <th>InVehicle_Longitudinal_Speed</th>\n",
              "      <th>GPS_Speed</th>\n",
              "      <th>InVehicle_Longitudinal_Accel</th>\n",
              "    </tr>\n",
              "  </thead>\n",
              "  <tbody>\n",
              "    <tr>\n",
              "      <th>0</th>\n",
              "      <td>11.375000</td>\n",
              "      <td>11.307097</td>\n",
              "      <td>-0.103000</td>\n",
              "    </tr>\n",
              "    <tr>\n",
              "      <th>1</th>\n",
              "      <td>11.366708</td>\n",
              "      <td>11.255964</td>\n",
              "      <td>-0.353946</td>\n",
              "    </tr>\n",
              "    <tr>\n",
              "      <th>2</th>\n",
              "      <td>11.362331</td>\n",
              "      <td>11.249115</td>\n",
              "      <td>-0.090962</td>\n",
              "    </tr>\n",
              "    <tr>\n",
              "      <th>3</th>\n",
              "      <td>11.358665</td>\n",
              "      <td>11.263280</td>\n",
              "      <td>-0.043470</td>\n",
              "    </tr>\n",
              "    <tr>\n",
              "      <th>4</th>\n",
              "      <td>11.356745</td>\n",
              "      <td>11.270361</td>\n",
              "      <td>-0.037579</td>\n",
              "    </tr>\n",
              "  </tbody>\n",
              "</table>\n",
              "</div>\n",
              "      <button class=\"colab-df-convert\" onclick=\"convertToInteractive('df-ec1b79dd-241d-43a2-a49a-cb12392492b5')\"\n",
              "              title=\"Convert this dataframe to an interactive table.\"\n",
              "              style=\"display:none;\">\n",
              "        \n",
              "  <svg xmlns=\"http://www.w3.org/2000/svg\" height=\"24px\"viewBox=\"0 0 24 24\"\n",
              "       width=\"24px\">\n",
              "    <path d=\"M0 0h24v24H0V0z\" fill=\"none\"/>\n",
              "    <path d=\"M18.56 5.44l.94 2.06.94-2.06 2.06-.94-2.06-.94-.94-2.06-.94 2.06-2.06.94zm-11 1L8.5 8.5l.94-2.06 2.06-.94-2.06-.94L8.5 2.5l-.94 2.06-2.06.94zm10 10l.94 2.06.94-2.06 2.06-.94-2.06-.94-.94-2.06-.94 2.06-2.06.94z\"/><path d=\"M17.41 7.96l-1.37-1.37c-.4-.4-.92-.59-1.43-.59-.52 0-1.04.2-1.43.59L10.3 9.45l-7.72 7.72c-.78.78-.78 2.05 0 2.83L4 21.41c.39.39.9.59 1.41.59.51 0 1.02-.2 1.41-.59l7.78-7.78 2.81-2.81c.8-.78.8-2.07 0-2.86zM5.41 20L4 18.59l7.72-7.72 1.47 1.35L5.41 20z\"/>\n",
              "  </svg>\n",
              "      </button>\n",
              "      \n",
              "  <style>\n",
              "    .colab-df-container {\n",
              "      display:flex;\n",
              "      flex-wrap:wrap;\n",
              "      gap: 12px;\n",
              "    }\n",
              "\n",
              "    .colab-df-convert {\n",
              "      background-color: #E8F0FE;\n",
              "      border: none;\n",
              "      border-radius: 50%;\n",
              "      cursor: pointer;\n",
              "      display: none;\n",
              "      fill: #1967D2;\n",
              "      height: 32px;\n",
              "      padding: 0 0 0 0;\n",
              "      width: 32px;\n",
              "    }\n",
              "\n",
              "    .colab-df-convert:hover {\n",
              "      background-color: #E2EBFA;\n",
              "      box-shadow: 0px 1px 2px rgba(60, 64, 67, 0.3), 0px 1px 3px 1px rgba(60, 64, 67, 0.15);\n",
              "      fill: #174EA6;\n",
              "    }\n",
              "\n",
              "    [theme=dark] .colab-df-convert {\n",
              "      background-color: #3B4455;\n",
              "      fill: #D2E3FC;\n",
              "    }\n",
              "\n",
              "    [theme=dark] .colab-df-convert:hover {\n",
              "      background-color: #434B5C;\n",
              "      box-shadow: 0px 1px 3px 1px rgba(0, 0, 0, 0.15);\n",
              "      filter: drop-shadow(0px 1px 2px rgba(0, 0, 0, 0.3));\n",
              "      fill: #FFFFFF;\n",
              "    }\n",
              "  </style>\n",
              "\n",
              "      <script>\n",
              "        const buttonEl =\n",
              "          document.querySelector('#df-ec1b79dd-241d-43a2-a49a-cb12392492b5 button.colab-df-convert');\n",
              "        buttonEl.style.display =\n",
              "          google.colab.kernel.accessAllowed ? 'block' : 'none';\n",
              "\n",
              "        async function convertToInteractive(key) {\n",
              "          const element = document.querySelector('#df-ec1b79dd-241d-43a2-a49a-cb12392492b5');\n",
              "          const dataTable =\n",
              "            await google.colab.kernel.invokeFunction('convertToInteractive',\n",
              "                                                     [key], {});\n",
              "          if (!dataTable) return;\n",
              "\n",
              "          const docLinkHtml = 'Like what you see? Visit the ' +\n",
              "            '<a target=\"_blank\" href=https://colab.research.google.com/notebooks/data_table.ipynb>data table notebook</a>'\n",
              "            + ' to learn more about interactive tables.';\n",
              "          element.innerHTML = '';\n",
              "          dataTable['output_type'] = 'display_data';\n",
              "          await google.colab.output.renderOutput(dataTable, element);\n",
              "          const docLink = document.createElement('div');\n",
              "          docLink.innerHTML = docLinkHtml;\n",
              "          element.appendChild(docLink);\n",
              "        }\n",
              "      </script>\n",
              "    </div>\n",
              "  </div>\n",
              "  "
            ]
          },
          "metadata": {},
          "execution_count": 9
        }
      ]
    },
    {
      "cell_type": "code",
      "metadata": {
        "id": "NkKyrb2sQCni",
        "colab": {
          "base_uri": "https://localhost:8080/"
        },
        "outputId": "07f0a674-0a55-43f5-8c6b-072b23cf2cff"
      },
      "source": [
        "len(sensor1_data)"
      ],
      "execution_count": null,
      "outputs": [
        {
          "output_type": "execute_result",
          "data": {
            "text/plain": [
              "29800"
            ]
          },
          "metadata": {},
          "execution_count": 10
        }
      ]
    },
    {
      "cell_type": "code",
      "metadata": {
        "id": "OYhwlWY8z4N6",
        "colab": {
          "base_uri": "https://localhost:8080/",
          "height": 206
        },
        "outputId": "3b681526-7baa-4865-e96a-3d077c540dc1"
      },
      "source": [
        "sensor1_label = pd.read_csv(data_path+\"Ground_truth_constant_0_1_dur_10_sensor1.csv\", names=['Class'])\n",
        "sensor1_label.head()"
      ],
      "execution_count": null,
      "outputs": [
        {
          "output_type": "execute_result",
          "data": {
            "text/plain": [
              "   Class\n",
              "0    0.0\n",
              "1    0.0\n",
              "2    0.0\n",
              "3    0.0\n",
              "4    0.0"
            ],
            "text/html": [
              "\n",
              "  <div id=\"df-213c5542-e912-44fd-815f-e8e9d0f5517a\">\n",
              "    <div class=\"colab-df-container\">\n",
              "      <div>\n",
              "<style scoped>\n",
              "    .dataframe tbody tr th:only-of-type {\n",
              "        vertical-align: middle;\n",
              "    }\n",
              "\n",
              "    .dataframe tbody tr th {\n",
              "        vertical-align: top;\n",
              "    }\n",
              "\n",
              "    .dataframe thead th {\n",
              "        text-align: right;\n",
              "    }\n",
              "</style>\n",
              "<table border=\"1\" class=\"dataframe\">\n",
              "  <thead>\n",
              "    <tr style=\"text-align: right;\">\n",
              "      <th></th>\n",
              "      <th>Class</th>\n",
              "    </tr>\n",
              "  </thead>\n",
              "  <tbody>\n",
              "    <tr>\n",
              "      <th>0</th>\n",
              "      <td>0.0</td>\n",
              "    </tr>\n",
              "    <tr>\n",
              "      <th>1</th>\n",
              "      <td>0.0</td>\n",
              "    </tr>\n",
              "    <tr>\n",
              "      <th>2</th>\n",
              "      <td>0.0</td>\n",
              "    </tr>\n",
              "    <tr>\n",
              "      <th>3</th>\n",
              "      <td>0.0</td>\n",
              "    </tr>\n",
              "    <tr>\n",
              "      <th>4</th>\n",
              "      <td>0.0</td>\n",
              "    </tr>\n",
              "  </tbody>\n",
              "</table>\n",
              "</div>\n",
              "      <button class=\"colab-df-convert\" onclick=\"convertToInteractive('df-213c5542-e912-44fd-815f-e8e9d0f5517a')\"\n",
              "              title=\"Convert this dataframe to an interactive table.\"\n",
              "              style=\"display:none;\">\n",
              "        \n",
              "  <svg xmlns=\"http://www.w3.org/2000/svg\" height=\"24px\"viewBox=\"0 0 24 24\"\n",
              "       width=\"24px\">\n",
              "    <path d=\"M0 0h24v24H0V0z\" fill=\"none\"/>\n",
              "    <path d=\"M18.56 5.44l.94 2.06.94-2.06 2.06-.94-2.06-.94-.94-2.06-.94 2.06-2.06.94zm-11 1L8.5 8.5l.94-2.06 2.06-.94-2.06-.94L8.5 2.5l-.94 2.06-2.06.94zm10 10l.94 2.06.94-2.06 2.06-.94-2.06-.94-.94-2.06-.94 2.06-2.06.94z\"/><path d=\"M17.41 7.96l-1.37-1.37c-.4-.4-.92-.59-1.43-.59-.52 0-1.04.2-1.43.59L10.3 9.45l-7.72 7.72c-.78.78-.78 2.05 0 2.83L4 21.41c.39.39.9.59 1.41.59.51 0 1.02-.2 1.41-.59l7.78-7.78 2.81-2.81c.8-.78.8-2.07 0-2.86zM5.41 20L4 18.59l7.72-7.72 1.47 1.35L5.41 20z\"/>\n",
              "  </svg>\n",
              "      </button>\n",
              "      \n",
              "  <style>\n",
              "    .colab-df-container {\n",
              "      display:flex;\n",
              "      flex-wrap:wrap;\n",
              "      gap: 12px;\n",
              "    }\n",
              "\n",
              "    .colab-df-convert {\n",
              "      background-color: #E8F0FE;\n",
              "      border: none;\n",
              "      border-radius: 50%;\n",
              "      cursor: pointer;\n",
              "      display: none;\n",
              "      fill: #1967D2;\n",
              "      height: 32px;\n",
              "      padding: 0 0 0 0;\n",
              "      width: 32px;\n",
              "    }\n",
              "\n",
              "    .colab-df-convert:hover {\n",
              "      background-color: #E2EBFA;\n",
              "      box-shadow: 0px 1px 2px rgba(60, 64, 67, 0.3), 0px 1px 3px 1px rgba(60, 64, 67, 0.15);\n",
              "      fill: #174EA6;\n",
              "    }\n",
              "\n",
              "    [theme=dark] .colab-df-convert {\n",
              "      background-color: #3B4455;\n",
              "      fill: #D2E3FC;\n",
              "    }\n",
              "\n",
              "    [theme=dark] .colab-df-convert:hover {\n",
              "      background-color: #434B5C;\n",
              "      box-shadow: 0px 1px 3px 1px rgba(0, 0, 0, 0.15);\n",
              "      filter: drop-shadow(0px 1px 2px rgba(0, 0, 0, 0.3));\n",
              "      fill: #FFFFFF;\n",
              "    }\n",
              "  </style>\n",
              "\n",
              "      <script>\n",
              "        const buttonEl =\n",
              "          document.querySelector('#df-213c5542-e912-44fd-815f-e8e9d0f5517a button.colab-df-convert');\n",
              "        buttonEl.style.display =\n",
              "          google.colab.kernel.accessAllowed ? 'block' : 'none';\n",
              "\n",
              "        async function convertToInteractive(key) {\n",
              "          const element = document.querySelector('#df-213c5542-e912-44fd-815f-e8e9d0f5517a');\n",
              "          const dataTable =\n",
              "            await google.colab.kernel.invokeFunction('convertToInteractive',\n",
              "                                                     [key], {});\n",
              "          if (!dataTable) return;\n",
              "\n",
              "          const docLinkHtml = 'Like what you see? Visit the ' +\n",
              "            '<a target=\"_blank\" href=https://colab.research.google.com/notebooks/data_table.ipynb>data table notebook</a>'\n",
              "            + ' to learn more about interactive tables.';\n",
              "          element.innerHTML = '';\n",
              "          dataTable['output_type'] = 'display_data';\n",
              "          await google.colab.output.renderOutput(dataTable, element);\n",
              "          const docLink = document.createElement('div');\n",
              "          docLink.innerHTML = docLinkHtml;\n",
              "          element.appendChild(docLink);\n",
              "        }\n",
              "      </script>\n",
              "    </div>\n",
              "  </div>\n",
              "  "
            ]
          },
          "metadata": {},
          "execution_count": 11
        }
      ]
    },
    {
      "cell_type": "code",
      "metadata": {
        "id": "2mxdhpBpQMjZ",
        "colab": {
          "base_uri": "https://localhost:8080/"
        },
        "outputId": "cb27a785-f659-4546-866a-a991bc7c584f"
      },
      "source": [
        "len(sensor1_label)"
      ],
      "execution_count": null,
      "outputs": [
        {
          "output_type": "execute_result",
          "data": {
            "text/plain": [
              "29800"
            ]
          },
          "metadata": {},
          "execution_count": 12
        }
      ]
    },
    {
      "cell_type": "code",
      "metadata": {
        "id": "hV_gOXr70BKL",
        "colab": {
          "base_uri": "https://localhost:8080/",
          "height": 206
        },
        "outputId": "66166a23-7a17-4804-ac76-a7dd40c996a8"
      },
      "source": [
        "sensor2_data = pd.read_csv(data_path + \"Sensor2_values_constant_0_1.csv\", index_col = \"Unnamed: 0\")\n",
        "sensor2_data.head()"
      ],
      "execution_count": null,
      "outputs": [
        {
          "output_type": "execute_result",
          "data": {
            "text/plain": [
              "   InVehicle_Longitudinal_Speed  GPS_Speed  InVehicle_Longitudinal_Accel\n",
              "0                     11.375000  11.307097                     -0.103000\n",
              "1                     11.366708  11.255964                     -0.353946\n",
              "2                     11.362331  11.249115                     -0.090962\n",
              "3                     11.358665  11.263280                     -0.043470\n",
              "4                     11.356745  11.270361                     -0.037579"
            ],
            "text/html": [
              "\n",
              "  <div id=\"df-349759e9-154e-47f0-8b95-298f477982f8\">\n",
              "    <div class=\"colab-df-container\">\n",
              "      <div>\n",
              "<style scoped>\n",
              "    .dataframe tbody tr th:only-of-type {\n",
              "        vertical-align: middle;\n",
              "    }\n",
              "\n",
              "    .dataframe tbody tr th {\n",
              "        vertical-align: top;\n",
              "    }\n",
              "\n",
              "    .dataframe thead th {\n",
              "        text-align: right;\n",
              "    }\n",
              "</style>\n",
              "<table border=\"1\" class=\"dataframe\">\n",
              "  <thead>\n",
              "    <tr style=\"text-align: right;\">\n",
              "      <th></th>\n",
              "      <th>InVehicle_Longitudinal_Speed</th>\n",
              "      <th>GPS_Speed</th>\n",
              "      <th>InVehicle_Longitudinal_Accel</th>\n",
              "    </tr>\n",
              "  </thead>\n",
              "  <tbody>\n",
              "    <tr>\n",
              "      <th>0</th>\n",
              "      <td>11.375000</td>\n",
              "      <td>11.307097</td>\n",
              "      <td>-0.103000</td>\n",
              "    </tr>\n",
              "    <tr>\n",
              "      <th>1</th>\n",
              "      <td>11.366708</td>\n",
              "      <td>11.255964</td>\n",
              "      <td>-0.353946</td>\n",
              "    </tr>\n",
              "    <tr>\n",
              "      <th>2</th>\n",
              "      <td>11.362331</td>\n",
              "      <td>11.249115</td>\n",
              "      <td>-0.090962</td>\n",
              "    </tr>\n",
              "    <tr>\n",
              "      <th>3</th>\n",
              "      <td>11.358665</td>\n",
              "      <td>11.263280</td>\n",
              "      <td>-0.043470</td>\n",
              "    </tr>\n",
              "    <tr>\n",
              "      <th>4</th>\n",
              "      <td>11.356745</td>\n",
              "      <td>11.270361</td>\n",
              "      <td>-0.037579</td>\n",
              "    </tr>\n",
              "  </tbody>\n",
              "</table>\n",
              "</div>\n",
              "      <button class=\"colab-df-convert\" onclick=\"convertToInteractive('df-349759e9-154e-47f0-8b95-298f477982f8')\"\n",
              "              title=\"Convert this dataframe to an interactive table.\"\n",
              "              style=\"display:none;\">\n",
              "        \n",
              "  <svg xmlns=\"http://www.w3.org/2000/svg\" height=\"24px\"viewBox=\"0 0 24 24\"\n",
              "       width=\"24px\">\n",
              "    <path d=\"M0 0h24v24H0V0z\" fill=\"none\"/>\n",
              "    <path d=\"M18.56 5.44l.94 2.06.94-2.06 2.06-.94-2.06-.94-.94-2.06-.94 2.06-2.06.94zm-11 1L8.5 8.5l.94-2.06 2.06-.94-2.06-.94L8.5 2.5l-.94 2.06-2.06.94zm10 10l.94 2.06.94-2.06 2.06-.94-2.06-.94-.94-2.06-.94 2.06-2.06.94z\"/><path d=\"M17.41 7.96l-1.37-1.37c-.4-.4-.92-.59-1.43-.59-.52 0-1.04.2-1.43.59L10.3 9.45l-7.72 7.72c-.78.78-.78 2.05 0 2.83L4 21.41c.39.39.9.59 1.41.59.51 0 1.02-.2 1.41-.59l7.78-7.78 2.81-2.81c.8-.78.8-2.07 0-2.86zM5.41 20L4 18.59l7.72-7.72 1.47 1.35L5.41 20z\"/>\n",
              "  </svg>\n",
              "      </button>\n",
              "      \n",
              "  <style>\n",
              "    .colab-df-container {\n",
              "      display:flex;\n",
              "      flex-wrap:wrap;\n",
              "      gap: 12px;\n",
              "    }\n",
              "\n",
              "    .colab-df-convert {\n",
              "      background-color: #E8F0FE;\n",
              "      border: none;\n",
              "      border-radius: 50%;\n",
              "      cursor: pointer;\n",
              "      display: none;\n",
              "      fill: #1967D2;\n",
              "      height: 32px;\n",
              "      padding: 0 0 0 0;\n",
              "      width: 32px;\n",
              "    }\n",
              "\n",
              "    .colab-df-convert:hover {\n",
              "      background-color: #E2EBFA;\n",
              "      box-shadow: 0px 1px 2px rgba(60, 64, 67, 0.3), 0px 1px 3px 1px rgba(60, 64, 67, 0.15);\n",
              "      fill: #174EA6;\n",
              "    }\n",
              "\n",
              "    [theme=dark] .colab-df-convert {\n",
              "      background-color: #3B4455;\n",
              "      fill: #D2E3FC;\n",
              "    }\n",
              "\n",
              "    [theme=dark] .colab-df-convert:hover {\n",
              "      background-color: #434B5C;\n",
              "      box-shadow: 0px 1px 3px 1px rgba(0, 0, 0, 0.15);\n",
              "      filter: drop-shadow(0px 1px 2px rgba(0, 0, 0, 0.3));\n",
              "      fill: #FFFFFF;\n",
              "    }\n",
              "  </style>\n",
              "\n",
              "      <script>\n",
              "        const buttonEl =\n",
              "          document.querySelector('#df-349759e9-154e-47f0-8b95-298f477982f8 button.colab-df-convert');\n",
              "        buttonEl.style.display =\n",
              "          google.colab.kernel.accessAllowed ? 'block' : 'none';\n",
              "\n",
              "        async function convertToInteractive(key) {\n",
              "          const element = document.querySelector('#df-349759e9-154e-47f0-8b95-298f477982f8');\n",
              "          const dataTable =\n",
              "            await google.colab.kernel.invokeFunction('convertToInteractive',\n",
              "                                                     [key], {});\n",
              "          if (!dataTable) return;\n",
              "\n",
              "          const docLinkHtml = 'Like what you see? Visit the ' +\n",
              "            '<a target=\"_blank\" href=https://colab.research.google.com/notebooks/data_table.ipynb>data table notebook</a>'\n",
              "            + ' to learn more about interactive tables.';\n",
              "          element.innerHTML = '';\n",
              "          dataTable['output_type'] = 'display_data';\n",
              "          await google.colab.output.renderOutput(dataTable, element);\n",
              "          const docLink = document.createElement('div');\n",
              "          docLink.innerHTML = docLinkHtml;\n",
              "          element.appendChild(docLink);\n",
              "        }\n",
              "      </script>\n",
              "    </div>\n",
              "  </div>\n",
              "  "
            ]
          },
          "metadata": {},
          "execution_count": 13
        }
      ]
    },
    {
      "cell_type": "code",
      "metadata": {
        "id": "8PtBb1m00oRX",
        "colab": {
          "base_uri": "https://localhost:8080/",
          "height": 206
        },
        "outputId": "fbafe34f-aad0-46cd-dd24-10ca9911905b"
      },
      "source": [
        "sensor2_label = pd.read_csv(data_path + \"Ground_truth_constant_0_1_dur_10_sensor2.csv\",names=['Class'])\n",
        "sensor2_label.head()"
      ],
      "execution_count": null,
      "outputs": [
        {
          "output_type": "execute_result",
          "data": {
            "text/plain": [
              "   Class\n",
              "0    0.0\n",
              "1    0.0\n",
              "2    0.0\n",
              "3    0.0\n",
              "4    0.0"
            ],
            "text/html": [
              "\n",
              "  <div id=\"df-c0ff787e-5d34-455b-8244-93e1fc636ef0\">\n",
              "    <div class=\"colab-df-container\">\n",
              "      <div>\n",
              "<style scoped>\n",
              "    .dataframe tbody tr th:only-of-type {\n",
              "        vertical-align: middle;\n",
              "    }\n",
              "\n",
              "    .dataframe tbody tr th {\n",
              "        vertical-align: top;\n",
              "    }\n",
              "\n",
              "    .dataframe thead th {\n",
              "        text-align: right;\n",
              "    }\n",
              "</style>\n",
              "<table border=\"1\" class=\"dataframe\">\n",
              "  <thead>\n",
              "    <tr style=\"text-align: right;\">\n",
              "      <th></th>\n",
              "      <th>Class</th>\n",
              "    </tr>\n",
              "  </thead>\n",
              "  <tbody>\n",
              "    <tr>\n",
              "      <th>0</th>\n",
              "      <td>0.0</td>\n",
              "    </tr>\n",
              "    <tr>\n",
              "      <th>1</th>\n",
              "      <td>0.0</td>\n",
              "    </tr>\n",
              "    <tr>\n",
              "      <th>2</th>\n",
              "      <td>0.0</td>\n",
              "    </tr>\n",
              "    <tr>\n",
              "      <th>3</th>\n",
              "      <td>0.0</td>\n",
              "    </tr>\n",
              "    <tr>\n",
              "      <th>4</th>\n",
              "      <td>0.0</td>\n",
              "    </tr>\n",
              "  </tbody>\n",
              "</table>\n",
              "</div>\n",
              "      <button class=\"colab-df-convert\" onclick=\"convertToInteractive('df-c0ff787e-5d34-455b-8244-93e1fc636ef0')\"\n",
              "              title=\"Convert this dataframe to an interactive table.\"\n",
              "              style=\"display:none;\">\n",
              "        \n",
              "  <svg xmlns=\"http://www.w3.org/2000/svg\" height=\"24px\"viewBox=\"0 0 24 24\"\n",
              "       width=\"24px\">\n",
              "    <path d=\"M0 0h24v24H0V0z\" fill=\"none\"/>\n",
              "    <path d=\"M18.56 5.44l.94 2.06.94-2.06 2.06-.94-2.06-.94-.94-2.06-.94 2.06-2.06.94zm-11 1L8.5 8.5l.94-2.06 2.06-.94-2.06-.94L8.5 2.5l-.94 2.06-2.06.94zm10 10l.94 2.06.94-2.06 2.06-.94-2.06-.94-.94-2.06-.94 2.06-2.06.94z\"/><path d=\"M17.41 7.96l-1.37-1.37c-.4-.4-.92-.59-1.43-.59-.52 0-1.04.2-1.43.59L10.3 9.45l-7.72 7.72c-.78.78-.78 2.05 0 2.83L4 21.41c.39.39.9.59 1.41.59.51 0 1.02-.2 1.41-.59l7.78-7.78 2.81-2.81c.8-.78.8-2.07 0-2.86zM5.41 20L4 18.59l7.72-7.72 1.47 1.35L5.41 20z\"/>\n",
              "  </svg>\n",
              "      </button>\n",
              "      \n",
              "  <style>\n",
              "    .colab-df-container {\n",
              "      display:flex;\n",
              "      flex-wrap:wrap;\n",
              "      gap: 12px;\n",
              "    }\n",
              "\n",
              "    .colab-df-convert {\n",
              "      background-color: #E8F0FE;\n",
              "      border: none;\n",
              "      border-radius: 50%;\n",
              "      cursor: pointer;\n",
              "      display: none;\n",
              "      fill: #1967D2;\n",
              "      height: 32px;\n",
              "      padding: 0 0 0 0;\n",
              "      width: 32px;\n",
              "    }\n",
              "\n",
              "    .colab-df-convert:hover {\n",
              "      background-color: #E2EBFA;\n",
              "      box-shadow: 0px 1px 2px rgba(60, 64, 67, 0.3), 0px 1px 3px 1px rgba(60, 64, 67, 0.15);\n",
              "      fill: #174EA6;\n",
              "    }\n",
              "\n",
              "    [theme=dark] .colab-df-convert {\n",
              "      background-color: #3B4455;\n",
              "      fill: #D2E3FC;\n",
              "    }\n",
              "\n",
              "    [theme=dark] .colab-df-convert:hover {\n",
              "      background-color: #434B5C;\n",
              "      box-shadow: 0px 1px 3px 1px rgba(0, 0, 0, 0.15);\n",
              "      filter: drop-shadow(0px 1px 2px rgba(0, 0, 0, 0.3));\n",
              "      fill: #FFFFFF;\n",
              "    }\n",
              "  </style>\n",
              "\n",
              "      <script>\n",
              "        const buttonEl =\n",
              "          document.querySelector('#df-c0ff787e-5d34-455b-8244-93e1fc636ef0 button.colab-df-convert');\n",
              "        buttonEl.style.display =\n",
              "          google.colab.kernel.accessAllowed ? 'block' : 'none';\n",
              "\n",
              "        async function convertToInteractive(key) {\n",
              "          const element = document.querySelector('#df-c0ff787e-5d34-455b-8244-93e1fc636ef0');\n",
              "          const dataTable =\n",
              "            await google.colab.kernel.invokeFunction('convertToInteractive',\n",
              "                                                     [key], {});\n",
              "          if (!dataTable) return;\n",
              "\n",
              "          const docLinkHtml = 'Like what you see? Visit the ' +\n",
              "            '<a target=\"_blank\" href=https://colab.research.google.com/notebooks/data_table.ipynb>data table notebook</a>'\n",
              "            + ' to learn more about interactive tables.';\n",
              "          element.innerHTML = '';\n",
              "          dataTable['output_type'] = 'display_data';\n",
              "          await google.colab.output.renderOutput(dataTable, element);\n",
              "          const docLink = document.createElement('div');\n",
              "          docLink.innerHTML = docLinkHtml;\n",
              "          element.appendChild(docLink);\n",
              "        }\n",
              "      </script>\n",
              "    </div>\n",
              "  </div>\n",
              "  "
            ]
          },
          "metadata": {},
          "execution_count": 14
        }
      ]
    },
    {
      "cell_type": "code",
      "metadata": {
        "id": "mCLgKYTJ0f7t",
        "colab": {
          "base_uri": "https://localhost:8080/",
          "height": 206
        },
        "outputId": "9053a60d-e486-45f0-e499-f8924a6718d4"
      },
      "source": [
        "sensor3_data = pd.read_csv(data_path + \"Sensor3_values_constant_0_1.csv\", index_col = \"Unnamed: 0\")\n",
        "sensor3_data.head()"
      ],
      "execution_count": null,
      "outputs": [
        {
          "output_type": "execute_result",
          "data": {
            "text/plain": [
              "   InVehicle_Longitudinal_Speed  GPS_Speed  InVehicle_Longitudinal_Accel\n",
              "0                     11.375000  11.307097                     -0.103000\n",
              "1                     11.366708  11.255964                     -0.353946\n",
              "2                     11.362331  11.249115                     -0.090962\n",
              "3                     11.358665  11.263280                     -0.043470\n",
              "4                     11.356745  11.270361                     -0.037579"
            ],
            "text/html": [
              "\n",
              "  <div id=\"df-63a6696f-ae92-4fb1-ba00-58768620850d\">\n",
              "    <div class=\"colab-df-container\">\n",
              "      <div>\n",
              "<style scoped>\n",
              "    .dataframe tbody tr th:only-of-type {\n",
              "        vertical-align: middle;\n",
              "    }\n",
              "\n",
              "    .dataframe tbody tr th {\n",
              "        vertical-align: top;\n",
              "    }\n",
              "\n",
              "    .dataframe thead th {\n",
              "        text-align: right;\n",
              "    }\n",
              "</style>\n",
              "<table border=\"1\" class=\"dataframe\">\n",
              "  <thead>\n",
              "    <tr style=\"text-align: right;\">\n",
              "      <th></th>\n",
              "      <th>InVehicle_Longitudinal_Speed</th>\n",
              "      <th>GPS_Speed</th>\n",
              "      <th>InVehicle_Longitudinal_Accel</th>\n",
              "    </tr>\n",
              "  </thead>\n",
              "  <tbody>\n",
              "    <tr>\n",
              "      <th>0</th>\n",
              "      <td>11.375000</td>\n",
              "      <td>11.307097</td>\n",
              "      <td>-0.103000</td>\n",
              "    </tr>\n",
              "    <tr>\n",
              "      <th>1</th>\n",
              "      <td>11.366708</td>\n",
              "      <td>11.255964</td>\n",
              "      <td>-0.353946</td>\n",
              "    </tr>\n",
              "    <tr>\n",
              "      <th>2</th>\n",
              "      <td>11.362331</td>\n",
              "      <td>11.249115</td>\n",
              "      <td>-0.090962</td>\n",
              "    </tr>\n",
              "    <tr>\n",
              "      <th>3</th>\n",
              "      <td>11.358665</td>\n",
              "      <td>11.263280</td>\n",
              "      <td>-0.043470</td>\n",
              "    </tr>\n",
              "    <tr>\n",
              "      <th>4</th>\n",
              "      <td>11.356745</td>\n",
              "      <td>11.270361</td>\n",
              "      <td>-0.037579</td>\n",
              "    </tr>\n",
              "  </tbody>\n",
              "</table>\n",
              "</div>\n",
              "      <button class=\"colab-df-convert\" onclick=\"convertToInteractive('df-63a6696f-ae92-4fb1-ba00-58768620850d')\"\n",
              "              title=\"Convert this dataframe to an interactive table.\"\n",
              "              style=\"display:none;\">\n",
              "        \n",
              "  <svg xmlns=\"http://www.w3.org/2000/svg\" height=\"24px\"viewBox=\"0 0 24 24\"\n",
              "       width=\"24px\">\n",
              "    <path d=\"M0 0h24v24H0V0z\" fill=\"none\"/>\n",
              "    <path d=\"M18.56 5.44l.94 2.06.94-2.06 2.06-.94-2.06-.94-.94-2.06-.94 2.06-2.06.94zm-11 1L8.5 8.5l.94-2.06 2.06-.94-2.06-.94L8.5 2.5l-.94 2.06-2.06.94zm10 10l.94 2.06.94-2.06 2.06-.94-2.06-.94-.94-2.06-.94 2.06-2.06.94z\"/><path d=\"M17.41 7.96l-1.37-1.37c-.4-.4-.92-.59-1.43-.59-.52 0-1.04.2-1.43.59L10.3 9.45l-7.72 7.72c-.78.78-.78 2.05 0 2.83L4 21.41c.39.39.9.59 1.41.59.51 0 1.02-.2 1.41-.59l7.78-7.78 2.81-2.81c.8-.78.8-2.07 0-2.86zM5.41 20L4 18.59l7.72-7.72 1.47 1.35L5.41 20z\"/>\n",
              "  </svg>\n",
              "      </button>\n",
              "      \n",
              "  <style>\n",
              "    .colab-df-container {\n",
              "      display:flex;\n",
              "      flex-wrap:wrap;\n",
              "      gap: 12px;\n",
              "    }\n",
              "\n",
              "    .colab-df-convert {\n",
              "      background-color: #E8F0FE;\n",
              "      border: none;\n",
              "      border-radius: 50%;\n",
              "      cursor: pointer;\n",
              "      display: none;\n",
              "      fill: #1967D2;\n",
              "      height: 32px;\n",
              "      padding: 0 0 0 0;\n",
              "      width: 32px;\n",
              "    }\n",
              "\n",
              "    .colab-df-convert:hover {\n",
              "      background-color: #E2EBFA;\n",
              "      box-shadow: 0px 1px 2px rgba(60, 64, 67, 0.3), 0px 1px 3px 1px rgba(60, 64, 67, 0.15);\n",
              "      fill: #174EA6;\n",
              "    }\n",
              "\n",
              "    [theme=dark] .colab-df-convert {\n",
              "      background-color: #3B4455;\n",
              "      fill: #D2E3FC;\n",
              "    }\n",
              "\n",
              "    [theme=dark] .colab-df-convert:hover {\n",
              "      background-color: #434B5C;\n",
              "      box-shadow: 0px 1px 3px 1px rgba(0, 0, 0, 0.15);\n",
              "      filter: drop-shadow(0px 1px 2px rgba(0, 0, 0, 0.3));\n",
              "      fill: #FFFFFF;\n",
              "    }\n",
              "  </style>\n",
              "\n",
              "      <script>\n",
              "        const buttonEl =\n",
              "          document.querySelector('#df-63a6696f-ae92-4fb1-ba00-58768620850d button.colab-df-convert');\n",
              "        buttonEl.style.display =\n",
              "          google.colab.kernel.accessAllowed ? 'block' : 'none';\n",
              "\n",
              "        async function convertToInteractive(key) {\n",
              "          const element = document.querySelector('#df-63a6696f-ae92-4fb1-ba00-58768620850d');\n",
              "          const dataTable =\n",
              "            await google.colab.kernel.invokeFunction('convertToInteractive',\n",
              "                                                     [key], {});\n",
              "          if (!dataTable) return;\n",
              "\n",
              "          const docLinkHtml = 'Like what you see? Visit the ' +\n",
              "            '<a target=\"_blank\" href=https://colab.research.google.com/notebooks/data_table.ipynb>data table notebook</a>'\n",
              "            + ' to learn more about interactive tables.';\n",
              "          element.innerHTML = '';\n",
              "          dataTable['output_type'] = 'display_data';\n",
              "          await google.colab.output.renderOutput(dataTable, element);\n",
              "          const docLink = document.createElement('div');\n",
              "          docLink.innerHTML = docLinkHtml;\n",
              "          element.appendChild(docLink);\n",
              "        }\n",
              "      </script>\n",
              "    </div>\n",
              "  </div>\n",
              "  "
            ]
          },
          "metadata": {},
          "execution_count": 15
        }
      ]
    },
    {
      "cell_type": "code",
      "metadata": {
        "id": "7bkpmS8x0lfa",
        "colab": {
          "base_uri": "https://localhost:8080/",
          "height": 206
        },
        "outputId": "b8d66c8c-2d6f-4a60-d7d0-baaed3bfba8e"
      },
      "source": [
        "sensor3_label = pd.read_csv(data_path + \"Ground_truth_constant_0_1_dur_10_sensor3.csv\", names=['Class'])\n",
        "sensor3_label.head()"
      ],
      "execution_count": null,
      "outputs": [
        {
          "output_type": "execute_result",
          "data": {
            "text/plain": [
              "   Class\n",
              "0    0.0\n",
              "1    0.0\n",
              "2    0.0\n",
              "3    0.0\n",
              "4    0.0"
            ],
            "text/html": [
              "\n",
              "  <div id=\"df-73347938-c701-409b-9ae2-1aa194dbdccb\">\n",
              "    <div class=\"colab-df-container\">\n",
              "      <div>\n",
              "<style scoped>\n",
              "    .dataframe tbody tr th:only-of-type {\n",
              "        vertical-align: middle;\n",
              "    }\n",
              "\n",
              "    .dataframe tbody tr th {\n",
              "        vertical-align: top;\n",
              "    }\n",
              "\n",
              "    .dataframe thead th {\n",
              "        text-align: right;\n",
              "    }\n",
              "</style>\n",
              "<table border=\"1\" class=\"dataframe\">\n",
              "  <thead>\n",
              "    <tr style=\"text-align: right;\">\n",
              "      <th></th>\n",
              "      <th>Class</th>\n",
              "    </tr>\n",
              "  </thead>\n",
              "  <tbody>\n",
              "    <tr>\n",
              "      <th>0</th>\n",
              "      <td>0.0</td>\n",
              "    </tr>\n",
              "    <tr>\n",
              "      <th>1</th>\n",
              "      <td>0.0</td>\n",
              "    </tr>\n",
              "    <tr>\n",
              "      <th>2</th>\n",
              "      <td>0.0</td>\n",
              "    </tr>\n",
              "    <tr>\n",
              "      <th>3</th>\n",
              "      <td>0.0</td>\n",
              "    </tr>\n",
              "    <tr>\n",
              "      <th>4</th>\n",
              "      <td>0.0</td>\n",
              "    </tr>\n",
              "  </tbody>\n",
              "</table>\n",
              "</div>\n",
              "      <button class=\"colab-df-convert\" onclick=\"convertToInteractive('df-73347938-c701-409b-9ae2-1aa194dbdccb')\"\n",
              "              title=\"Convert this dataframe to an interactive table.\"\n",
              "              style=\"display:none;\">\n",
              "        \n",
              "  <svg xmlns=\"http://www.w3.org/2000/svg\" height=\"24px\"viewBox=\"0 0 24 24\"\n",
              "       width=\"24px\">\n",
              "    <path d=\"M0 0h24v24H0V0z\" fill=\"none\"/>\n",
              "    <path d=\"M18.56 5.44l.94 2.06.94-2.06 2.06-.94-2.06-.94-.94-2.06-.94 2.06-2.06.94zm-11 1L8.5 8.5l.94-2.06 2.06-.94-2.06-.94L8.5 2.5l-.94 2.06-2.06.94zm10 10l.94 2.06.94-2.06 2.06-.94-2.06-.94-.94-2.06-.94 2.06-2.06.94z\"/><path d=\"M17.41 7.96l-1.37-1.37c-.4-.4-.92-.59-1.43-.59-.52 0-1.04.2-1.43.59L10.3 9.45l-7.72 7.72c-.78.78-.78 2.05 0 2.83L4 21.41c.39.39.9.59 1.41.59.51 0 1.02-.2 1.41-.59l7.78-7.78 2.81-2.81c.8-.78.8-2.07 0-2.86zM5.41 20L4 18.59l7.72-7.72 1.47 1.35L5.41 20z\"/>\n",
              "  </svg>\n",
              "      </button>\n",
              "      \n",
              "  <style>\n",
              "    .colab-df-container {\n",
              "      display:flex;\n",
              "      flex-wrap:wrap;\n",
              "      gap: 12px;\n",
              "    }\n",
              "\n",
              "    .colab-df-convert {\n",
              "      background-color: #E8F0FE;\n",
              "      border: none;\n",
              "      border-radius: 50%;\n",
              "      cursor: pointer;\n",
              "      display: none;\n",
              "      fill: #1967D2;\n",
              "      height: 32px;\n",
              "      padding: 0 0 0 0;\n",
              "      width: 32px;\n",
              "    }\n",
              "\n",
              "    .colab-df-convert:hover {\n",
              "      background-color: #E2EBFA;\n",
              "      box-shadow: 0px 1px 2px rgba(60, 64, 67, 0.3), 0px 1px 3px 1px rgba(60, 64, 67, 0.15);\n",
              "      fill: #174EA6;\n",
              "    }\n",
              "\n",
              "    [theme=dark] .colab-df-convert {\n",
              "      background-color: #3B4455;\n",
              "      fill: #D2E3FC;\n",
              "    }\n",
              "\n",
              "    [theme=dark] .colab-df-convert:hover {\n",
              "      background-color: #434B5C;\n",
              "      box-shadow: 0px 1px 3px 1px rgba(0, 0, 0, 0.15);\n",
              "      filter: drop-shadow(0px 1px 2px rgba(0, 0, 0, 0.3));\n",
              "      fill: #FFFFFF;\n",
              "    }\n",
              "  </style>\n",
              "\n",
              "      <script>\n",
              "        const buttonEl =\n",
              "          document.querySelector('#df-73347938-c701-409b-9ae2-1aa194dbdccb button.colab-df-convert');\n",
              "        buttonEl.style.display =\n",
              "          google.colab.kernel.accessAllowed ? 'block' : 'none';\n",
              "\n",
              "        async function convertToInteractive(key) {\n",
              "          const element = document.querySelector('#df-73347938-c701-409b-9ae2-1aa194dbdccb');\n",
              "          const dataTable =\n",
              "            await google.colab.kernel.invokeFunction('convertToInteractive',\n",
              "                                                     [key], {});\n",
              "          if (!dataTable) return;\n",
              "\n",
              "          const docLinkHtml = 'Like what you see? Visit the ' +\n",
              "            '<a target=\"_blank\" href=https://colab.research.google.com/notebooks/data_table.ipynb>data table notebook</a>'\n",
              "            + ' to learn more about interactive tables.';\n",
              "          element.innerHTML = '';\n",
              "          dataTable['output_type'] = 'display_data';\n",
              "          await google.colab.output.renderOutput(dataTable, element);\n",
              "          const docLink = document.createElement('div');\n",
              "          docLink.innerHTML = docLinkHtml;\n",
              "          element.appendChild(docLink);\n",
              "        }\n",
              "      </script>\n",
              "    </div>\n",
              "  </div>\n",
              "  "
            ]
          },
          "metadata": {},
          "execution_count": 16
        }
      ]
    },
    {
      "cell_type": "code",
      "source": [
        "sensor1_data['std_speed_5'] = sensor1_data['InVehicle_Longitudinal_Speed'].rolling(5, min_periods= 1, center= True).std()\n",
        "sensor1_data['std_acc_5'] = sensor1_data['InVehicle_Longitudinal_Accel'].rolling(5, min_periods= 1, center= True).std()\n",
        "sensor1_data['std_GPS_5'] = sensor1_data['GPS_Speed'].rolling(5, min_periods= 1, center= True).std()"
      ],
      "metadata": {
        "id": "PeUvriEGIR_m"
      },
      "execution_count": null,
      "outputs": []
    },
    {
      "cell_type": "code",
      "source": [
        "sensor1_data.columns"
      ],
      "metadata": {
        "id": "QeAZGTCZIYFY",
        "colab": {
          "base_uri": "https://localhost:8080/"
        },
        "outputId": "84c659e6-6b6c-4160-a22b-9d3e29af7998"
      },
      "execution_count": null,
      "outputs": [
        {
          "output_type": "execute_result",
          "data": {
            "text/plain": [
              "Index(['InVehicle_Longitudinal_Speed', 'GPS_Speed',\n",
              "       'InVehicle_Longitudinal_Accel', 'std_speed_5', 'std_acc_5',\n",
              "       'std_GPS_5'],\n",
              "      dtype='object')"
            ]
          },
          "metadata": {},
          "execution_count": 18
        }
      ]
    },
    {
      "cell_type": "code",
      "source": [
        "sensor1_data[['InVehicle_Longitudinal_Speed','std_speed_5']].plot(color=['red', 'green'] )"
      ],
      "metadata": {
        "id": "GaZlKkhkIYQL",
        "colab": {
          "base_uri": "https://localhost:8080/",
          "height": 282
        },
        "outputId": "5fa38b4f-35ed-4904-9812-9944a033ea25"
      },
      "execution_count": null,
      "outputs": [
        {
          "output_type": "execute_result",
          "data": {
            "text/plain": [
              "<matplotlib.axes._subplots.AxesSubplot at 0x7fbaccc4b3d0>"
            ]
          },
          "metadata": {},
          "execution_count": 19
        },
        {
          "output_type": "display_data",
          "data": {
            "text/plain": [
              "<Figure size 432x288 with 1 Axes>"
            ],
            "image/png": "[encoded data removed]"
          },
          "metadata": {
            "needs_background": "light"
          }
        }
      ]
    },
    {
      "cell_type": "code",
      "source": [
        "sensor1_data[['InVehicle_Longitudinal_Accel','std_acc_5']].plot(color=['red', 'blue'] )"
      ],
      "metadata": {
        "id": "P5DOIuqXIYRY",
        "colab": {
          "base_uri": "https://localhost:8080/",
          "height": 282
        },
        "outputId": "c0d45c67-a047-4d2e-9824-1779bb9e28a0"
      },
      "execution_count": null,
      "outputs": [
        {
          "output_type": "execute_result",
          "data": {
            "text/plain": [
              "<matplotlib.axes._subplots.AxesSubplot at 0x7fbaccb33a60>"
            ]
          },
          "metadata": {},
          "execution_count": 20
        },
        {
          "output_type": "display_data",
          "data": {
            "text/plain": [
              "<Figure size 432x288 with 1 Axes>"
            ],
            "image/png": "[encoded data removed]"
          },
          "metadata": {
            "needs_background": "light"
          }
        }
      ]
    },
    {
      "cell_type": "code",
      "source": [
        "sensor1_data[['GPS_Speed','std_GPS_5']].plot(color=['red', 'yellow'] )"
      ],
      "metadata": {
        "id": "JLx_gsoXIYVf",
        "colab": {
          "base_uri": "https://localhost:8080/",
          "height": 282
        },
        "outputId": "01c3235a-faa0-47d9-aa0b-2d9ca5ee5aee"
      },
      "execution_count": null,
      "outputs": [
        {
          "output_type": "execute_result",
          "data": {
            "text/plain": [
              "<matplotlib.axes._subplots.AxesSubplot at 0x7fbacc666460>"
            ]
          },
          "metadata": {},
          "execution_count": 21
        },
        {
          "output_type": "display_data",
          "data": {
            "text/plain": [
              "<Figure size 432x288 with 1 Axes>"
            ],
            "image/png": "[encoded data removed]"
          },
          "metadata": {
            "needs_background": "light"
          }
        }
      ]
    },
    {
      "cell_type": "code",
      "source": [
        "sensor2_data['std_speed_5'] = sensor2_data['InVehicle_Longitudinal_Speed'].rolling(5, min_periods= 1, center= True).std()\n",
        "sensor2_data['std_acc_5'] = sensor2_data['InVehicle_Longitudinal_Accel'].rolling(5, min_periods= 1, center= True).std()\n",
        "sensor2_data['std_GPS_5'] = sensor2_data['GPS_Speed'].rolling(5, min_periods= 1, center= True).std()"
      ],
      "metadata": {
        "id": "wz6IMiKGIkZb"
      },
      "execution_count": null,
      "outputs": []
    },
    {
      "cell_type": "code",
      "source": [
        "sensor2_data.columns"
      ],
      "metadata": {
        "id": "O2t53zXEIklE",
        "colab": {
          "base_uri": "https://localhost:8080/"
        },
        "outputId": "8f46a190-95d9-44ce-875a-154fb651a412"
      },
      "execution_count": null,
      "outputs": [
        {
          "output_type": "execute_result",
          "data": {
            "text/plain": [
              "Index(['InVehicle_Longitudinal_Speed', 'GPS_Speed',\n",
              "       'InVehicle_Longitudinal_Accel', 'std_speed_5', 'std_acc_5',\n",
              "       'std_GPS_5'],\n",
              "      dtype='object')"
            ]
          },
          "metadata": {},
          "execution_count": 23
        }
      ]
    },
    {
      "cell_type": "code",
      "source": [
        "sensor2_data[['InVehicle_Longitudinal_Speed','std_speed_5']].plot(color=['red', 'green'] )"
      ],
      "metadata": {
        "id": "Xl8rwYyUIkmR",
        "colab": {
          "base_uri": "https://localhost:8080/",
          "height": 282
        },
        "outputId": "b2472d29-050d-4fdc-b638-b58923d0e7ed"
      },
      "execution_count": null,
      "outputs": [
        {
          "output_type": "execute_result",
          "data": {
            "text/plain": [
              "<matplotlib.axes._subplots.AxesSubplot at 0x7fbacc64bfd0>"
            ]
          },
          "metadata": {},
          "execution_count": 24
        },
        {
          "output_type": "display_data",
          "data": {
            "text/plain": [
              "<Figure size 432x288 with 1 Axes>"
            ],
            "image/png": "[encoded data removed]"
          },
          "metadata": {
            "needs_background": "light"
          }
        }
      ]
    },
    {
      "cell_type": "code",
      "source": [
        "sensor2_data[['InVehicle_Longitudinal_Accel','std_acc_5']].plot(color=['red', 'blue'] )"
      ],
      "metadata": {
        "id": "piwZTf3pIkqf",
        "colab": {
          "base_uri": "https://localhost:8080/",
          "height": 282
        },
        "outputId": "64814340-5451-481c-83a2-89939d434469"
      },
      "execution_count": null,
      "outputs": [
        {
          "output_type": "execute_result",
          "data": {
            "text/plain": [
              "<matplotlib.axes._subplots.AxesSubplot at 0x7fbacc5c6550>"
            ]
          },
          "metadata": {},
          "execution_count": 25
        },
        {
          "output_type": "display_data",
          "data": {
            "text/plain": [
              "<Figure size 432x288 with 1 Axes>"
            ],
            "image/png": "[encoded data removed]"
          },
          "metadata": {
            "needs_background": "light"
          }
        }
      ]
    },
    {
      "cell_type": "code",
      "source": [
        "sensor2_data[['GPS_Speed','std_GPS_5']].plot(color=['red', 'yellow'] )"
      ],
      "metadata": {
        "id": "EQmH0Ih2JO6o",
        "colab": {
          "base_uri": "https://localhost:8080/",
          "height": 282
        },
        "outputId": "f27f0db3-97d7-4adb-d42e-367c4eeb305a"
      },
      "execution_count": null,
      "outputs": [
        {
          "output_type": "execute_result",
          "data": {
            "text/plain": [
              "<matplotlib.axes._subplots.AxesSubplot at 0x7fbacc524490>"
            ]
          },
          "metadata": {},
          "execution_count": 26
        },
        {
          "output_type": "display_data",
          "data": {
            "text/plain": [
              "<Figure size 432x288 with 1 Axes>"
            ],
            "image/png": "[encoded data removed]"
          },
          "metadata": {
            "needs_background": "light"
          }
        }
      ]
    },
    {
      "cell_type": "code",
      "source": [
        "sensor3_data['std_speed_5'] = sensor3_data['InVehicle_Longitudinal_Speed'].rolling(5, min_periods= 1, center= True).std()\n",
        "sensor3_data['std_acc_5'] = sensor3_data['InVehicle_Longitudinal_Accel'].rolling(5, min_periods= 1, center= True).std()\n",
        "sensor3_data['std_GPS_5'] = sensor3_data['GPS_Speed'].rolling(5, min_periods= 1, center= True).std()"
      ],
      "metadata": {
        "id": "CAb_ovPsJSbT"
      },
      "execution_count": null,
      "outputs": []
    },
    {
      "cell_type": "code",
      "source": [
        "sensor3_data.columns"
      ],
      "metadata": {
        "id": "VWsS8AgUJSlb",
        "colab": {
          "base_uri": "https://localhost:8080/"
        },
        "outputId": "1de7e3d0-f1d9-409a-e882-c8abdd4b711d"
      },
      "execution_count": null,
      "outputs": [
        {
          "output_type": "execute_result",
          "data": {
            "text/plain": [
              "Index(['InVehicle_Longitudinal_Speed', 'GPS_Speed',\n",
              "       'InVehicle_Longitudinal_Accel', 'std_speed_5', 'std_acc_5',\n",
              "       'std_GPS_5'],\n",
              "      dtype='object')"
            ]
          },
          "metadata": {},
          "execution_count": 28
        }
      ]
    },
    {
      "cell_type": "code",
      "source": [
        "sensor3_data[['InVehicle_Longitudinal_Speed','std_speed_5']].plot(color=['red', 'green'] )"
      ],
      "metadata": {
        "id": "0PFBlISwJSmz",
        "colab": {
          "base_uri": "https://localhost:8080/",
          "height": 282
        },
        "outputId": "5122268f-404f-4d92-aac8-885e2b3960af"
      },
      "execution_count": null,
      "outputs": [
        {
          "output_type": "execute_result",
          "data": {
            "text/plain": [
              "<matplotlib.axes._subplots.AxesSubplot at 0x7fbacc50c940>"
            ]
          },
          "metadata": {},
          "execution_count": 29
        },
        {
          "output_type": "display_data",
          "data": {
            "text/plain": [
              "<Figure size 432x288 with 1 Axes>"
            ],
            "image/png": "[encoded data removed]"
          },
          "metadata": {
            "needs_background": "light"
          }
        }
      ]
    },
    {
      "cell_type": "code",
      "source": [
        "sensor3_data[['InVehicle_Longitudinal_Accel','std_acc_5']].plot(color=['red', 'blue'] )"
      ],
      "metadata": {
        "id": "ti3P4J9GJSq-",
        "colab": {
          "base_uri": "https://localhost:8080/",
          "height": 282
        },
        "outputId": "1a1680e0-e43d-4da9-9a28-63b78da1c020"
      },
      "execution_count": null,
      "outputs": [
        {
          "output_type": "execute_result",
          "data": {
            "text/plain": [
              "<matplotlib.axes._subplots.AxesSubplot at 0x7fbacc474550>"
            ]
          },
          "metadata": {},
          "execution_count": 30
        },
        {
          "output_type": "display_data",
          "data": {
            "text/plain": [
              "<Figure size 432x288 with 1 Axes>"
            ],
            "image/png": "[encoded data removed]"
          },
          "metadata": {
            "needs_background": "light"
          }
        }
      ]
    },
    {
      "cell_type": "code",
      "source": [
        "sensor3_data[['GPS_Speed','std_GPS_5']].plot(color=['red', 'yellow'] )"
      ],
      "metadata": {
        "id": "CAJPhP02JcV_",
        "colab": {
          "base_uri": "https://localhost:8080/",
          "height": 282
        },
        "outputId": "550937fe-c5ae-4118-aa90-dcee59f72ea6"
      },
      "execution_count": null,
      "outputs": [
        {
          "output_type": "execute_result",
          "data": {
            "text/plain": [
              "<matplotlib.axes._subplots.AxesSubplot at 0x7fbacc3e8310>"
            ]
          },
          "metadata": {},
          "execution_count": 31
        },
        {
          "output_type": "display_data",
          "data": {
            "text/plain": [
              "<Figure size 432x288 with 1 Axes>"
            ],
            "image/png": "[encoded data removed]"
          },
          "metadata": {
            "needs_background": "light"
          }
        }
      ]
    },
    {
      "cell_type": "code",
      "metadata": {
        "id": "VaUYxUSMvH14",
        "colab": {
          "base_uri": "https://localhost:8080/"
        },
        "outputId": "b10c77f8-d48d-4cec-ac62-5c82071f7642"
      },
      "source": [
        "scaler  = StandardScaler()\n",
        "scaler.fit(sensor1_data[['std_speed_5','std_GPS_5','std_acc_5']])\n",
        "sensor1_data_normal = scaler.transform(sensor1_data[['std_speed_5','std_GPS_5','std_acc_5']]) \n",
        "sensor1_data_normal[:5]"
      ],
      "execution_count": null,
      "outputs": [
        {
          "output_type": "execute_result",
          "data": {
            "text/plain": [
              "array([[-0.50844257, -0.38842537,  0.37595773],\n",
              "       [-0.50497749, -0.42376348,  0.30441208],\n",
              "       [-0.50352332, -0.44600534,  0.22980664],\n",
              "       [-0.51941386, -0.53828974,  0.27665958],\n",
              "       [-0.52435236, -0.53579166, -0.64768587]])"
            ]
          },
          "metadata": {},
          "execution_count": 32
        }
      ]
    },
    {
      "cell_type": "code",
      "metadata": {
        "id": "DssP_ns3oPeE",
        "colab": {
          "base_uri": "https://localhost:8080/"
        },
        "outputId": "a3656c23-e06a-46cb-8027-9c6023c559e7"
      },
      "source": [
        "scaler  = StandardScaler()\n",
        "scaler.fit(sensor2_data[['std_speed_5','std_GPS_5','std_acc_5']])\n",
        "sensor2_data_normal = scaler.transform(sensor2_data[['std_speed_5','std_GPS_5','std_acc_5']]) \n",
        "sensor2_data_normal[:5]"
      ],
      "execution_count": null,
      "outputs": [
        {
          "output_type": "execute_result",
          "data": {
            "text/plain": [
              "array([[-0.50844257, -0.38842537,  0.37595773],\n",
              "       [-0.50497749, -0.42376348,  0.30441208],\n",
              "       [-0.50352332, -0.44600534,  0.22980664],\n",
              "       [-0.51941386, -0.53828974,  0.27665958],\n",
              "       [-0.52435236, -0.53579166, -0.64768587]])"
            ]
          },
          "metadata": {},
          "execution_count": 33
        }
      ]
    },
    {
      "cell_type": "code",
      "metadata": {
        "id": "ShuycYtJoPQ2",
        "colab": {
          "base_uri": "https://localhost:8080/"
        },
        "outputId": "2cf15102-9d4d-41ae-c02c-ad1da378ed9a"
      },
      "source": [
        "scaler  = StandardScaler()\n",
        "scaler.fit(sensor3_data[['std_speed_5','std_GPS_5','std_acc_5']])\n",
        "sensor3_data_normal = scaler.transform(sensor3_data[['std_speed_5','std_GPS_5','std_acc_5']]) \n",
        "sensor3_data_normal[:5]"
      ],
      "execution_count": null,
      "outputs": [
        {
          "output_type": "execute_result",
          "data": {
            "text/plain": [
              "array([[-0.50844257, -0.38842537,  0.37595773],\n",
              "       [-0.50497749, -0.42376348,  0.30441208],\n",
              "       [-0.50352332, -0.44600534,  0.22980664],\n",
              "       [-0.51941386, -0.53828974,  0.27665958],\n",
              "       [-0.52435236, -0.53579166, -0.64768587]])"
            ]
          },
          "metadata": {},
          "execution_count": 34
        }
      ]
    },
    {
      "cell_type": "code",
      "metadata": {
        "id": "NPEKmySy2O0W"
      },
      "source": [
        "window_size = 10\n",
        "\n",
        "# create windows with overlap\n",
        "def convertToFrames(X_data,y_data, step):\n",
        "    X, Y =[], []    \n",
        "    for i in range(len(X_data)-step):\n",
        "        y_or = 0\n",
        "        d=i+step  \n",
        "        X.append(X_data[i:d,])\n",
        "        for y in y_data.iloc[i:d].values:\n",
        "           y_or = y_or or y\n",
        "        \n",
        "        Y.append(y_or)\n",
        "    return np.array(X), np.array(Y)"
      ],
      "execution_count": null,
      "outputs": []
    },
    {
      "cell_type": "code",
      "metadata": {
        "id": "1U7mLgOZaZsN",
        "colab": {
          "base_uri": "https://localhost:8080/"
        },
        "outputId": "dabee6ec-5270-4cf9-8258-b144c32f057e"
      },
      "source": [
        "X_sensor1, y_sensor1 = convertToFrames(sensor1_data_normal, sensor1_label, window_size)\n",
        "X_sensor1.shape, y_sensor1.shape\n",
        "# print(X_sensor1[0])\n",
        "# print(X_sensor1[1])"
      ],
      "execution_count": null,
      "outputs": [
        {
          "output_type": "execute_result",
          "data": {
            "text/plain": [
              "((29790, 10, 3), (29790, 1))"
            ]
          },
          "metadata": {},
          "execution_count": 36
        }
      ]
    },
    {
      "cell_type": "code",
      "metadata": {
        "id": "LlbmzS3Hagp1",
        "colab": {
          "base_uri": "https://localhost:8080/"
        },
        "outputId": "7fa08fec-d41f-4fbd-ca07-938823b043b9"
      },
      "source": [
        "X_sensor2, y_sensor2 = convertToFrames(sensor2_data_normal, sensor2_label, window_size)\n",
        "X_sensor2.shape, y_sensor2.shape"
      ],
      "execution_count": null,
      "outputs": [
        {
          "output_type": "execute_result",
          "data": {
            "text/plain": [
              "((29790, 10, 3), (29790, 1))"
            ]
          },
          "metadata": {},
          "execution_count": 37
        }
      ]
    },
    {
      "cell_type": "code",
      "metadata": {
        "id": "0QyV7kwragiE",
        "colab": {
          "base_uri": "https://localhost:8080/"
        },
        "outputId": "9baa969e-cfbd-4a72-b949-b2708119c778"
      },
      "source": [
        "X_sensor3, y_sensor3 = convertToFrames(sensor3_data_normal, sensor3_label, window_size)\n",
        "X_sensor3.shape, y_sensor3.shape"
      ],
      "execution_count": null,
      "outputs": [
        {
          "output_type": "execute_result",
          "data": {
            "text/plain": [
              "((29790, 10, 3), (29790, 1))"
            ]
          },
          "metadata": {},
          "execution_count": 38
        }
      ]
    },
    {
      "cell_type": "code",
      "metadata": {
        "id": "l4fSg45cplIB",
        "colab": {
          "base_uri": "https://localhost:8080/"
        },
        "outputId": "6e6dd6cc-ef4b-4ef9-f8cc-782768ddf0e9"
      },
      "source": [
        "y_sensor1 = to_categorical(y_sensor1, num_classes= 2, dtype='float32')\n",
        "X_train_sensor1,X_test_sensor1, y_train_sensor1, y_test_sensor1 = train_test_split(X_sensor1,y_sensor1,random_state = 1400, test_size= 0.15)\n",
        "y_train_sensor1, y_test_sensor1 = y_train_sensor1.squeeze(), y_test_sensor1.squeeze()\n",
        "X_train_sensor1.shape, X_test_sensor1.shape,y_train_sensor1.shape, y_test_sensor1.shape"
      ],
      "execution_count": null,
      "outputs": [
        {
          "output_type": "execute_result",
          "data": {
            "text/plain": [
              "((25321, 10, 3), (4469, 10, 3), (25321, 2), (4469, 2))"
            ]
          },
          "metadata": {},
          "execution_count": 39
        }
      ]
    },
    {
      "cell_type": "code",
      "metadata": {
        "id": "M-6JhdmNplC4",
        "colab": {
          "base_uri": "https://localhost:8080/"
        },
        "outputId": "f7f06e73-5de2-4100-d689-1eea395b24c2"
      },
      "source": [
        "y_sensor2 = to_categorical(y_sensor2, num_classes= 2, dtype='float32')\n",
        "X_train_sensor2,X_test_sensor2, y_train_sensor2, y_test_sensor2 = train_test_split(X_sensor2,y_sensor2,random_state = 1400, test_size= 0.15)\n",
        "y_train_sensor2, y_test_sensor2 = y_train_sensor2.squeeze(), y_test_sensor2.squeeze()\n",
        "X_train_sensor2.shape, X_test_sensor2.shape,y_train_sensor2.shape, y_test_sensor2.shape"
      ],
      "execution_count": null,
      "outputs": [
        {
          "output_type": "execute_result",
          "data": {
            "text/plain": [
              "((25321, 10, 3), (4469, 10, 3), (25321, 2), (4469, 2))"
            ]
          },
          "metadata": {},
          "execution_count": 40
        }
      ]
    },
    {
      "cell_type": "code",
      "metadata": {
        "id": "CZmk_MFjpk_S",
        "colab": {
          "base_uri": "https://localhost:8080/"
        },
        "outputId": "11238084-0e99-4798-eeb8-9277231de5d4"
      },
      "source": [
        "y_sensor3 = to_categorical(y_sensor3, num_classes= 2, dtype='float32')\n",
        "X_train_sensor3,X_test_sensor3, y_train_sensor3, y_test_sensor3 = train_test_split(X_sensor3,y_sensor3,random_state = 1400, test_size= 0.15)\n",
        "y_train_sensor3, y_test_sensor3 = y_train_sensor3.squeeze(), y_test_sensor3.squeeze()\n",
        "X_train_sensor3.shape, X_test_sensor3.shape,y_train_sensor3.shape, y_test_sensor3.shape"
      ],
      "execution_count": null,
      "outputs": [
        {
          "output_type": "execute_result",
          "data": {
            "text/plain": [
              "((25321, 10, 3), (4469, 10, 3), (25321, 2), (4469, 2))"
            ]
          },
          "metadata": {},
          "execution_count": 41
        }
      ]
    },
    {
      "cell_type": "code",
      "metadata": {
        "id": "DFlQxMk8PgWx"
      },
      "source": [
        "\n",
        "def creatModel():\n",
        "  \n",
        "    model = Sequential()\n",
        "    model.add(Conv1D(kernel_size=3, filters= 40, activation= 'relu', padding='same'))\n",
        "    model.add(Dropout(0.1))\n",
        "    model.add( Conv1D(kernel_size=3, filters= 60, activation= 'relu', padding='same'))\n",
        "    model.add(Dropout(0.1))\n",
        "    model.add(Conv1D(kernel_size=3, filters= 60, activation= 'relu', padding='same'))\n",
        "    model.add(Dropout(0.1))\n",
        "    model.add(GlobalMaxPool1D())\n",
        "    model.add(RepeatVector(X_train_sensor1.shape[1]))\n",
        "    model.add(LSTM(256, return_sequences=True))\n",
        "    model.add(Dropout(rate=0.2))\n",
        "    model.add(LSTM(128, return_sequences=True))\n",
        "    model.add(Dropout(rate=0.2))\n",
        "    model.add(LSTM(64, return_sequences=False))\n",
        "    model.add(Dropout(rate=0.2))\n",
        "    model.add((Dense(32)))\n",
        "    model.add((Dense(16)))\n",
        "    model.add(Dense(2, activation='sigmoid', kernel_regularizer=l2()))\n",
        "    model.compile(optimizer='adam', loss='binary_crossentropy',metrics=['accuracy'])\n",
        "\n",
        "    return model\n"
      ],
      "execution_count": null,
      "outputs": []
    },
    {
      "cell_type": "code",
      "metadata": {
        "id": "VrTO2TLekYa-"
      },
      "source": [
        "import time\n",
        "\n",
        "class TimeHistory(Callback):\n",
        "  \n",
        "    def on_epoch_begin(self, batch, logs={}):\n",
        "        self.epoch_time_start = time.time()\n",
        "\n",
        "    def on_epoch_end(self, batch, logs={}):\n",
        "        epoch_time = time.time() - self.epoch_time_start\n",
        "        logs['epoch_time'] = epoch_time\n"
      ],
      "execution_count": null,
      "outputs": []
    },
    {
      "cell_type": "code",
      "source": [
        "model_path = '/content/drive/MyDrive/CAV/data/Constant attack/0_1_dur_10/Models/Models28-1/'\n",
        "\n",
        "class Model_save(Callback):\n",
        "  def on_epoch_end(self, epoch, logs={}):\n",
        "    self.model.save(model_path + \"CNN-LSTM-autoEncoder-Constant-0_1_dur_10-CAV-perEpoch_{}.h5\".format(sensor))\n",
        "    "
      ],
      "metadata": {
        "id": "M79Mq50tlTe6"
      },
      "execution_count": null,
      "outputs": []
    },
    {
      "cell_type": "code",
      "source": [
        "def setCallbacks(sensor):\n",
        "\n",
        "  best_model_path = model_path + 'Best_CNN-LSTM-autoEncoder-Constant-0_1_dur_10-CAV_{}.h5'.format(sensor)\n",
        "  checkpoint = ModelCheckpoint(best_model_path, monitor='val_loss', save_best_only=True, mode='min')\n",
        "\n",
        "  history_cb = tf.keras.callbacks.CSVLogger(model_path + 'historyLOG_Constant-0_1_dur_10_{}.csv'.format(sensor), separator=\",\", append=True)\n",
        "\n",
        "  model_save = Model_save()\n",
        "\n",
        "  Estop = EarlyStopping(monitor='val_accuracy', patience= 100)\n",
        "  \n",
        "  return model_save, checkpoint, history_cb, Estop"
      ],
      "metadata": {
        "id": "nWddQ3LPlY5M"
      },
      "execution_count": null,
      "outputs": []
    },
    {
      "cell_type": "code",
      "metadata": {
        "id": "t7odu-Z4_BLe",
        "colab": {
          "base_uri": "https://localhost:8080/"
        },
        "outputId": "6003be93-e81d-4208-f15a-c9ae05f1a6a7"
      },
      "source": [
        "sensor = \"sensor1\"\n",
        "time_callback = TimeHistory()\n",
        "model_sensor1 = creatModel()\n",
        "model_save, checkpoint, history_cb, Estop = setCallbacks(\"sensor1\")\n",
        "history_sensor1 = model_sensor1.fit(X_train_sensor1, y_train_sensor1,\n",
        "                                    batch_size = 128, epochs = 500,\n",
        "                                    validation_split = 0.1,\n",
        "                                    verbose = 1,\n",
        "                                    callbacks = [time_callback, model_save, checkpoint, history_cb, Estop])\n",
        "                                    # class_weight= class_weights)#\n"
      ],
      "execution_count": null,
      "outputs": [
        {
          "output_type": "stream",
          "name": "stdout",
          "text": [
            "Epoch 1/500\n",
            "179/179 [==============================] - 25s 18ms/step - loss: 0.2730 - accuracy: 0.9055 - val_loss: 0.1335 - val_accuracy: 0.9657 - epoch_time: 25.2087\n",
            "Epoch 2/500\n",
            "179/179 [==============================] - 2s 12ms/step - loss: 0.1401 - accuracy: 0.9603 - val_loss: 0.1107 - val_accuracy: 0.9728 - epoch_time: 1.9170\n",
            "Epoch 3/500\n",
            "179/179 [==============================] - 2s 13ms/step - loss: 0.1105 - accuracy: 0.9674 - val_loss: 0.0881 - val_accuracy: 0.9783 - epoch_time: 2.1217\n",
            "Epoch 4/500\n",
            "179/179 [==============================] - 3s 16ms/step - loss: 0.0934 - accuracy: 0.9726 - val_loss: 0.0940 - val_accuracy: 0.9771 - epoch_time: 2.6702\n",
            "Epoch 5/500\n",
            "179/179 [==============================] - 2s 12ms/step - loss: 0.0842 - accuracy: 0.9753 - val_loss: 0.0671 - val_accuracy: 0.9811 - epoch_time: 1.9082\n",
            "Epoch 6/500\n",
            "179/179 [==============================] - 2s 12ms/step - loss: 0.0780 - accuracy: 0.9769 - val_loss: 0.0632 - val_accuracy: 0.9811 - epoch_time: 1.8686\n",
            "Epoch 7/500\n",
            "179/179 [==============================] - 2s 11ms/step - loss: 0.0728 - accuracy: 0.9787 - val_loss: 0.0648 - val_accuracy: 0.9811 - epoch_time: 1.8957\n",
            "Epoch 8/500\n",
            "179/179 [==============================] - 2s 11ms/step - loss: 0.0664 - accuracy: 0.9797 - val_loss: 0.0648 - val_accuracy: 0.9803 - epoch_time: 1.9341\n",
            "Epoch 9/500\n",
            "179/179 [==============================] - 2s 12ms/step - loss: 0.0651 - accuracy: 0.9802 - val_loss: 0.0585 - val_accuracy: 0.9814 - epoch_time: 1.9683\n",
            "Epoch 10/500\n",
            "179/179 [==============================] - 3s 16ms/step - loss: 0.0611 - accuracy: 0.9816 - val_loss: 0.0531 - val_accuracy: 0.9842 - epoch_time: 2.6788\n",
            "Epoch 11/500\n",
            "179/179 [==============================] - 2s 12ms/step - loss: 0.0604 - accuracy: 0.9821 - val_loss: 0.0499 - val_accuracy: 0.9838 - epoch_time: 1.9566\n",
            "Epoch 12/500\n",
            "179/179 [==============================] - 2s 12ms/step - loss: 0.0528 - accuracy: 0.9838 - val_loss: 0.0433 - val_accuracy: 0.9866 - epoch_time: 1.8904\n",
            "Epoch 13/500\n",
            "179/179 [==============================] - 2s 12ms/step - loss: 0.0513 - accuracy: 0.9842 - val_loss: 0.0373 - val_accuracy: 0.9889 - epoch_time: 1.9135\n",
            "Epoch 14/500\n",
            "179/179 [==============================] - 2s 11ms/step - loss: 0.0480 - accuracy: 0.9855 - val_loss: 0.0475 - val_accuracy: 0.9874 - epoch_time: 1.9497\n",
            "Epoch 15/500\n",
            "179/179 [==============================] - 2s 12ms/step - loss: 0.0469 - accuracy: 0.9861 - val_loss: 0.0468 - val_accuracy: 0.9862 - epoch_time: 1.9379\n",
            "Epoch 16/500\n",
            "179/179 [==============================] - 3s 16ms/step - loss: 0.0466 - accuracy: 0.9854 - val_loss: 0.0426 - val_accuracy: 0.9874 - epoch_time: 2.7397\n",
            "Epoch 17/500\n",
            "179/179 [==============================] - 2s 13ms/step - loss: 0.0434 - accuracy: 0.9871 - val_loss: 0.0446 - val_accuracy: 0.9866 - epoch_time: 2.1983\n",
            "Epoch 18/500\n",
            "179/179 [==============================] - 2s 11ms/step - loss: 0.0432 - accuracy: 0.9869 - val_loss: 0.0549 - val_accuracy: 0.9826 - epoch_time: 1.9410\n",
            "Epoch 19/500\n",
            "179/179 [==============================] - 2s 12ms/step - loss: 0.0461 - accuracy: 0.9857 - val_loss: 0.0430 - val_accuracy: 0.9886 - epoch_time: 1.9902\n",
            "Epoch 20/500\n",
            "179/179 [==============================] - 3s 16ms/step - loss: 0.0407 - accuracy: 0.9868 - val_loss: 0.0347 - val_accuracy: 0.9909 - epoch_time: 1.9540\n",
            "Epoch 21/500\n",
            "179/179 [==============================] - 2s 14ms/step - loss: 0.0370 - accuracy: 0.9887 - val_loss: 0.0411 - val_accuracy: 0.9886 - epoch_time: 2.3383\n",
            "Epoch 22/500\n",
            "179/179 [==============================] - 3s 15ms/step - loss: 0.0363 - accuracy: 0.9895 - val_loss: 0.0351 - val_accuracy: 0.9889 - epoch_time: 2.5673\n",
            "Epoch 23/500\n",
            "179/179 [==============================] - 2s 12ms/step - loss: 0.0348 - accuracy: 0.9893 - val_loss: 0.0373 - val_accuracy: 0.9905 - epoch_time: 1.9719\n",
            "Epoch 24/500\n",
            "179/179 [==============================] - 2s 12ms/step - loss: 0.0367 - accuracy: 0.9894 - val_loss: 0.0385 - val_accuracy: 0.9897 - epoch_time: 1.9865\n",
            "Epoch 25/500\n",
            "179/179 [==============================] - 3s 17ms/step - loss: 0.0350 - accuracy: 0.9896 - val_loss: 0.0311 - val_accuracy: 0.9917 - epoch_time: 2.0213\n",
            "Epoch 26/500\n",
            "179/179 [==============================] - 2s 12ms/step - loss: 0.0344 - accuracy: 0.9895 - val_loss: 0.0345 - val_accuracy: 0.9909 - epoch_time: 2.0455\n",
            "Epoch 27/500\n",
            "179/179 [==============================] - 3s 16ms/step - loss: 0.0323 - accuracy: 0.9916 - val_loss: 0.0430 - val_accuracy: 0.9870 - epoch_time: 2.7075\n",
            "Epoch 28/500\n",
            "179/179 [==============================] - 2s 13ms/step - loss: 0.0314 - accuracy: 0.9906 - val_loss: 0.0410 - val_accuracy: 0.9905 - epoch_time: 2.2085\n",
            "Epoch 29/500\n",
            "179/179 [==============================] - 2s 12ms/step - loss: 0.0305 - accuracy: 0.9911 - val_loss: 0.0402 - val_accuracy: 0.9897 - epoch_time: 2.0056\n",
            "Epoch 30/500\n",
            "179/179 [==============================] - 2s 12ms/step - loss: 0.0304 - accuracy: 0.9905 - val_loss: 0.0383 - val_accuracy: 0.9878 - epoch_time: 1.9740\n",
            "Epoch 31/500\n",
            "179/179 [==============================] - 2s 12ms/step - loss: 0.0292 - accuracy: 0.9912 - val_loss: 0.0468 - val_accuracy: 0.9882 - epoch_time: 1.9766\n",
            "Epoch 32/500\n",
            "179/179 [==============================] - 3s 16ms/step - loss: 0.0293 - accuracy: 0.9913 - val_loss: 0.0305 - val_accuracy: 0.9917 - epoch_time: 1.9154\n",
            "Epoch 33/500\n",
            "179/179 [==============================] - 3s 15ms/step - loss: 0.0283 - accuracy: 0.9912 - val_loss: 0.0281 - val_accuracy: 0.9917 - epoch_time: 2.5525\n",
            "Epoch 34/500\n",
            "179/179 [==============================] - 3s 16ms/step - loss: 0.0277 - accuracy: 0.9917 - val_loss: 0.0349 - val_accuracy: 0.9882 - epoch_time: 2.6170\n",
            "Epoch 35/500\n",
            "179/179 [==============================] - 2s 12ms/step - loss: 0.0280 - accuracy: 0.9911 - val_loss: 0.0361 - val_accuracy: 0.9878 - epoch_time: 2.0478\n",
            "Epoch 36/500\n",
            "179/179 [==============================] - 2s 11ms/step - loss: 0.0265 - accuracy: 0.9915 - val_loss: 0.0288 - val_accuracy: 0.9901 - epoch_time: 1.9238\n",
            "Epoch 37/500\n",
            "179/179 [==============================] - 2s 12ms/step - loss: 0.0247 - accuracy: 0.9918 - val_loss: 0.0420 - val_accuracy: 0.9893 - epoch_time: 1.9310\n",
            "Epoch 38/500\n",
            "179/179 [==============================] - 3s 15ms/step - loss: 0.0263 - accuracy: 0.9918 - val_loss: 0.0325 - val_accuracy: 0.9917 - epoch_time: 2.6550\n",
            "Epoch 39/500\n",
            "179/179 [==============================] - 2s 13ms/step - loss: 0.0240 - accuracy: 0.9927 - val_loss: 0.0310 - val_accuracy: 0.9925 - epoch_time: 2.1595\n",
            "Epoch 40/500\n",
            "179/179 [==============================] - 2s 12ms/step - loss: 0.0266 - accuracy: 0.9924 - val_loss: 0.0303 - val_accuracy: 0.9921 - epoch_time: 1.9755\n",
            "Epoch 41/500\n",
            "179/179 [==============================] - 2s 11ms/step - loss: 0.0233 - accuracy: 0.9932 - val_loss: 0.0375 - val_accuracy: 0.9897 - epoch_time: 1.9450\n",
            "Epoch 42/500\n",
            "179/179 [==============================] - 2s 12ms/step - loss: 0.0254 - accuracy: 0.9918 - val_loss: 0.0335 - val_accuracy: 0.9886 - epoch_time: 2.1099\n",
            "Epoch 43/500\n",
            "179/179 [==============================] - 2s 12ms/step - loss: 0.0260 - accuracy: 0.9921 - val_loss: 0.0331 - val_accuracy: 0.9909 - epoch_time: 2.0667\n",
            "Epoch 44/500\n",
            "179/179 [==============================] - 3s 16ms/step - loss: 0.0246 - accuracy: 0.9925 - val_loss: 0.0336 - val_accuracy: 0.9909 - epoch_time: 2.6852\n",
            "Epoch 45/500\n",
            "179/179 [==============================] - 2s 12ms/step - loss: 0.0232 - accuracy: 0.9928 - val_loss: 0.0322 - val_accuracy: 0.9913 - epoch_time: 2.1492\n",
            "Epoch 46/500\n",
            "179/179 [==============================] - 2s 11ms/step - loss: 0.0222 - accuracy: 0.9929 - val_loss: 0.0396 - val_accuracy: 0.9905 - epoch_time: 1.9330\n",
            "Epoch 47/500\n",
            "179/179 [==============================] - 2s 11ms/step - loss: 0.0231 - accuracy: 0.9921 - val_loss: 0.0415 - val_accuracy: 0.9905 - epoch_time: 1.8948\n",
            "Epoch 48/500\n",
            "179/179 [==============================] - 2s 11ms/step - loss: 0.0187 - accuracy: 0.9940 - val_loss: 0.0366 - val_accuracy: 0.9901 - epoch_time: 1.9605\n",
            "Epoch 49/500\n",
            "179/179 [==============================] - 2s 11ms/step - loss: 0.0214 - accuracy: 0.9940 - val_loss: 0.0355 - val_accuracy: 0.9913 - epoch_time: 1.9436\n",
            "Epoch 50/500\n",
            "179/179 [==============================] - 3s 16ms/step - loss: 0.0222 - accuracy: 0.9933 - val_loss: 0.0364 - val_accuracy: 0.9901 - epoch_time: 2.6511\n",
            "Epoch 51/500\n",
            "179/179 [==============================] - 2s 13ms/step - loss: 0.0170 - accuracy: 0.9946 - val_loss: 0.0442 - val_accuracy: 0.9909 - epoch_time: 2.2420\n",
            "Epoch 52/500\n",
            "179/179 [==============================] - 2s 12ms/step - loss: 0.0184 - accuracy: 0.9939 - val_loss: 0.0352 - val_accuracy: 0.9913 - epoch_time: 2.0144\n",
            "Epoch 53/500\n",
            "179/179 [==============================] - 2s 11ms/step - loss: 0.0206 - accuracy: 0.9932 - val_loss: 0.0331 - val_accuracy: 0.9889 - epoch_time: 1.9574\n",
            "Epoch 54/500\n",
            "179/179 [==============================] - 2s 12ms/step - loss: 0.0203 - accuracy: 0.9934 - val_loss: 0.0348 - val_accuracy: 0.9905 - epoch_time: 2.0149\n",
            "Epoch 55/500\n",
            "179/179 [==============================] - 2s 12ms/step - loss: 0.0182 - accuracy: 0.9940 - val_loss: 0.0374 - val_accuracy: 0.9917 - epoch_time: 1.9973\n",
            "Epoch 56/500\n",
            "179/179 [==============================] - 3s 16ms/step - loss: 0.0188 - accuracy: 0.9942 - val_loss: 0.0349 - val_accuracy: 0.9901 - epoch_time: 2.7059\n",
            "Epoch 57/500\n",
            "179/179 [==============================] - 2s 13ms/step - loss: 0.0189 - accuracy: 0.9937 - val_loss: 0.0287 - val_accuracy: 0.9921 - epoch_time: 2.2059\n",
            "Epoch 58/500\n",
            "179/179 [==============================] - 2s 11ms/step - loss: 0.0191 - accuracy: 0.9941 - val_loss: 0.0319 - val_accuracy: 0.9913 - epoch_time: 1.9580\n",
            "Epoch 59/500\n",
            "179/179 [==============================] - 2s 11ms/step - loss: 0.0200 - accuracy: 0.9938 - val_loss: 0.0309 - val_accuracy: 0.9913 - epoch_time: 1.9529\n",
            "Epoch 60/500\n",
            "179/179 [==============================] - 2s 11ms/step - loss: 0.0154 - accuracy: 0.9948 - val_loss: 0.0374 - val_accuracy: 0.9921 - epoch_time: 1.9571\n",
            "Epoch 61/500\n",
            "179/179 [==============================] - 2s 12ms/step - loss: 0.0162 - accuracy: 0.9947 - val_loss: 0.0347 - val_accuracy: 0.9925 - epoch_time: 1.9767\n",
            "Epoch 62/500\n",
            "179/179 [==============================] - 3s 15ms/step - loss: 0.0174 - accuracy: 0.9949 - val_loss: 0.0330 - val_accuracy: 0.9905 - epoch_time: 2.6047\n",
            "Epoch 63/500\n",
            "179/179 [==============================] - 2s 13ms/step - loss: 0.0167 - accuracy: 0.9950 - val_loss: 0.0360 - val_accuracy: 0.9913 - epoch_time: 2.2274\n",
            "Epoch 64/500\n",
            "179/179 [==============================] - 2s 11ms/step - loss: 0.0194 - accuracy: 0.9941 - val_loss: 0.0303 - val_accuracy: 0.9921 - epoch_time: 1.9462\n",
            "Epoch 65/500\n",
            "179/179 [==============================] - 2s 11ms/step - loss: 0.0151 - accuracy: 0.9951 - val_loss: 0.0376 - val_accuracy: 0.9921 - epoch_time: 1.9387\n",
            "Epoch 66/500\n",
            "179/179 [==============================] - 2s 11ms/step - loss: 0.0145 - accuracy: 0.9959 - val_loss: 0.0416 - val_accuracy: 0.9905 - epoch_time: 1.9328\n",
            "Epoch 67/500\n",
            "179/179 [==============================] - 2s 11ms/step - loss: 0.0178 - accuracy: 0.9941 - val_loss: 0.0376 - val_accuracy: 0.9925 - epoch_time: 1.9420\n",
            "Epoch 68/500\n",
            "179/179 [==============================] - 3s 15ms/step - loss: 0.0188 - accuracy: 0.9938 - val_loss: 0.0403 - val_accuracy: 0.9917 - epoch_time: 2.5376\n",
            "Epoch 69/500\n",
            "179/179 [==============================] - 3s 14ms/step - loss: 0.0136 - accuracy: 0.9959 - val_loss: 0.0425 - val_accuracy: 0.9925 - epoch_time: 2.4351\n",
            "Epoch 70/500\n",
            "179/179 [==============================] - 2s 12ms/step - loss: 0.0175 - accuracy: 0.9943 - val_loss: 0.0346 - val_accuracy: 0.9909 - epoch_time: 2.0196\n",
            "Epoch 71/500\n",
            "179/179 [==============================] - 2s 11ms/step - loss: 0.0156 - accuracy: 0.9949 - val_loss: 0.0358 - val_accuracy: 0.9913 - epoch_time: 1.9285\n",
            "Epoch 72/500\n",
            "179/179 [==============================] - 2s 12ms/step - loss: 0.0165 - accuracy: 0.9947 - val_loss: 0.0314 - val_accuracy: 0.9925 - epoch_time: 1.9988\n",
            "Epoch 73/500\n",
            "179/179 [==============================] - 3s 16ms/step - loss: 0.0156 - accuracy: 0.9950 - val_loss: 0.0251 - val_accuracy: 0.9921 - epoch_time: 2.0139\n",
            "Epoch 74/500\n",
            "179/179 [==============================] - 3s 16ms/step - loss: 0.0143 - accuracy: 0.9953 - val_loss: 0.0354 - val_accuracy: 0.9893 - epoch_time: 2.8022\n",
            "Epoch 75/500\n",
            "179/179 [==============================] - 2s 12ms/step - loss: 0.0152 - accuracy: 0.9951 - val_loss: 0.0334 - val_accuracy: 0.9929 - epoch_time: 1.9765\n",
            "Epoch 76/500\n",
            "179/179 [==============================] - 2s 12ms/step - loss: 0.0131 - accuracy: 0.9953 - val_loss: 0.0320 - val_accuracy: 0.9913 - epoch_time: 2.0597\n",
            "Epoch 77/500\n",
            "179/179 [==============================] - 3s 17ms/step - loss: 0.0152 - accuracy: 0.9955 - val_loss: 0.0236 - val_accuracy: 0.9929 - epoch_time: 1.9958\n",
            "Epoch 78/500\n",
            "179/179 [==============================] - 2s 12ms/step - loss: 0.0137 - accuracy: 0.9957 - val_loss: 0.0417 - val_accuracy: 0.9921 - epoch_time: 2.0306\n",
            "Epoch 79/500\n",
            "179/179 [==============================] - 3s 15ms/step - loss: 0.0132 - accuracy: 0.9957 - val_loss: 0.0288 - val_accuracy: 0.9937 - epoch_time: 2.6422\n",
            "Epoch 80/500\n",
            "179/179 [==============================] - 2s 14ms/step - loss: 0.0139 - accuracy: 0.9954 - val_loss: 0.0357 - val_accuracy: 0.9921 - epoch_time: 2.3370\n",
            "Epoch 81/500\n",
            "179/179 [==============================] - 2s 12ms/step - loss: 0.0143 - accuracy: 0.9953 - val_loss: 0.0342 - val_accuracy: 0.9929 - epoch_time: 1.9829\n",
            "Epoch 82/500\n",
            "179/179 [==============================] - 2s 12ms/step - loss: 0.0119 - accuracy: 0.9965 - val_loss: 0.0270 - val_accuracy: 0.9921 - epoch_time: 2.0437\n",
            "Epoch 83/500\n",
            "179/179 [==============================] - 2s 11ms/step - loss: 0.0140 - accuracy: 0.9952 - val_loss: 0.0365 - val_accuracy: 0.9917 - epoch_time: 1.9681\n",
            "Epoch 84/500\n",
            "179/179 [==============================] - 2s 12ms/step - loss: 0.0133 - accuracy: 0.9954 - val_loss: 0.0264 - val_accuracy: 0.9925 - epoch_time: 1.9956\n",
            "Epoch 85/500\n",
            "179/179 [==============================] - 3s 15ms/step - loss: 0.0135 - accuracy: 0.9955 - val_loss: 0.0282 - val_accuracy: 0.9909 - epoch_time: 2.6600\n",
            "Epoch 86/500\n",
            "179/179 [==============================] - 2s 13ms/step - loss: 0.0147 - accuracy: 0.9958 - val_loss: 0.0291 - val_accuracy: 0.9901 - epoch_time: 2.2987\n",
            "Epoch 87/500\n",
            "179/179 [==============================] - 2s 12ms/step - loss: 0.0123 - accuracy: 0.9962 - val_loss: 0.0309 - val_accuracy: 0.9921 - epoch_time: 2.0241\n",
            "Epoch 88/500\n",
            "179/179 [==============================] - 2s 11ms/step - loss: 0.0140 - accuracy: 0.9962 - val_loss: 0.0344 - val_accuracy: 0.9913 - epoch_time: 1.9712\n",
            "Epoch 89/500\n",
            "179/179 [==============================] - 2s 11ms/step - loss: 0.0114 - accuracy: 0.9960 - val_loss: 0.0314 - val_accuracy: 0.9929 - epoch_time: 1.9601\n",
            "Epoch 90/500\n",
            "179/179 [==============================] - 2s 11ms/step - loss: 0.0149 - accuracy: 0.9955 - val_loss: 0.0325 - val_accuracy: 0.9925 - epoch_time: 1.9476\n",
            "Epoch 91/500\n",
            "179/179 [==============================] - 3s 15ms/step - loss: 0.0117 - accuracy: 0.9962 - val_loss: 0.0451 - val_accuracy: 0.9925 - epoch_time: 2.5547\n",
            "Epoch 92/500\n",
            "179/179 [==============================] - 2s 13ms/step - loss: 0.0110 - accuracy: 0.9967 - val_loss: 0.0374 - val_accuracy: 0.9921 - epoch_time: 2.3409\n",
            "Epoch 93/500\n",
            "179/179 [==============================] - 2s 12ms/step - loss: 0.0131 - accuracy: 0.9961 - val_loss: 0.0362 - val_accuracy: 0.9913 - epoch_time: 2.0101\n",
            "Epoch 94/500\n",
            "179/179 [==============================] - 2s 11ms/step - loss: 0.0121 - accuracy: 0.9960 - val_loss: 0.0376 - val_accuracy: 0.9921 - epoch_time: 1.9650\n",
            "Epoch 95/500\n",
            "179/179 [==============================] - 2s 12ms/step - loss: 0.0111 - accuracy: 0.9964 - val_loss: 0.0372 - val_accuracy: 0.9917 - epoch_time: 2.0256\n",
            "Epoch 96/500\n",
            "179/179 [==============================] - 2s 12ms/step - loss: 0.0118 - accuracy: 0.9959 - val_loss: 0.0338 - val_accuracy: 0.9917 - epoch_time: 1.9843\n",
            "Epoch 97/500\n",
            "179/179 [==============================] - 3s 15ms/step - loss: 0.0468 - accuracy: 0.9872 - val_loss: 0.0370 - val_accuracy: 0.9897 - epoch_time: 2.6275\n",
            "Epoch 98/500\n",
            "179/179 [==============================] - 2s 14ms/step - loss: 0.0223 - accuracy: 0.9931 - val_loss: 0.0327 - val_accuracy: 0.9929 - epoch_time: 2.3360\n",
            "Epoch 99/500\n",
            "179/179 [==============================] - 2s 12ms/step - loss: 0.0142 - accuracy: 0.9953 - val_loss: 0.0422 - val_accuracy: 0.9921 - epoch_time: 1.9820\n",
            "Epoch 100/500\n",
            "179/179 [==============================] - 2s 12ms/step - loss: 0.0133 - accuracy: 0.9955 - val_loss: 0.0308 - val_accuracy: 0.9929 - epoch_time: 1.9815\n",
            "Epoch 101/500\n",
            "179/179 [==============================] - 2s 12ms/step - loss: 0.0119 - accuracy: 0.9960 - val_loss: 0.0338 - val_accuracy: 0.9929 - epoch_time: 1.9756\n",
            "Epoch 102/500\n",
            "179/179 [==============================] - 2s 11ms/step - loss: 0.0098 - accuracy: 0.9972 - val_loss: 0.0389 - val_accuracy: 0.9925 - epoch_time: 1.9573\n",
            "Epoch 103/500\n",
            "179/179 [==============================] - 3s 15ms/step - loss: 0.0103 - accuracy: 0.9964 - val_loss: 0.0326 - val_accuracy: 0.9929 - epoch_time: 2.6273\n",
            "Epoch 104/500\n",
            "179/179 [==============================] - 2s 13ms/step - loss: 0.0101 - accuracy: 0.9969 - val_loss: 0.0338 - val_accuracy: 0.9925 - epoch_time: 2.2852\n",
            "Epoch 105/500\n",
            "179/179 [==============================] - 2s 12ms/step - loss: 0.0120 - accuracy: 0.9966 - val_loss: 0.0341 - val_accuracy: 0.9901 - epoch_time: 2.0027\n",
            "Epoch 106/500\n",
            "179/179 [==============================] - 2s 12ms/step - loss: 0.0102 - accuracy: 0.9967 - val_loss: 0.0414 - val_accuracy: 0.9917 - epoch_time: 2.0283\n",
            "Epoch 107/500\n",
            "179/179 [==============================] - 2s 11ms/step - loss: 0.0095 - accuracy: 0.9968 - val_loss: 0.0470 - val_accuracy: 0.9917 - epoch_time: 1.9513\n",
            "Epoch 108/500\n",
            "179/179 [==============================] - 2s 11ms/step - loss: 0.0106 - accuracy: 0.9970 - val_loss: 0.0394 - val_accuracy: 0.9917 - epoch_time: 1.9513\n",
            "Epoch 109/500\n",
            "179/179 [==============================] - 3s 16ms/step - loss: 0.0112 - accuracy: 0.9963 - val_loss: 0.0451 - val_accuracy: 0.9913 - epoch_time: 2.6906\n",
            "Epoch 110/500\n",
            "179/179 [==============================] - 2s 13ms/step - loss: 0.0122 - accuracy: 0.9960 - val_loss: 0.0427 - val_accuracy: 0.9913 - epoch_time: 2.2653\n",
            "Epoch 111/500\n",
            "179/179 [==============================] - 2s 12ms/step - loss: 0.0089 - accuracy: 0.9968 - val_loss: 0.0331 - val_accuracy: 0.9937 - epoch_time: 2.0013\n",
            "Epoch 112/500\n",
            "179/179 [==============================] - 2s 12ms/step - loss: 0.0092 - accuracy: 0.9966 - val_loss: 0.0418 - val_accuracy: 0.9941 - epoch_time: 1.9699\n",
            "Epoch 113/500\n",
            "179/179 [==============================] - 2s 11ms/step - loss: 0.0096 - accuracy: 0.9968 - val_loss: 0.0375 - val_accuracy: 0.9925 - epoch_time: 1.9624\n",
            "Epoch 114/500\n",
            "179/179 [==============================] - 2s 12ms/step - loss: 0.0102 - accuracy: 0.9966 - val_loss: 0.0381 - val_accuracy: 0.9917 - epoch_time: 2.0460\n",
            "Epoch 115/500\n",
            "179/179 [==============================] - 3s 15ms/step - loss: 0.0104 - accuracy: 0.9969 - val_loss: 0.0357 - val_accuracy: 0.9925 - epoch_time: 2.6261\n",
            "Epoch 116/500\n",
            "179/179 [==============================] - 2s 13ms/step - loss: 0.0108 - accuracy: 0.9967 - val_loss: 0.0435 - val_accuracy: 0.9925 - epoch_time: 2.2593\n",
            "Epoch 117/500\n",
            "179/179 [==============================] - 2s 12ms/step - loss: 0.0089 - accuracy: 0.9976 - val_loss: 0.0365 - val_accuracy: 0.9921 - epoch_time: 1.9897\n",
            "Epoch 118/500\n",
            "179/179 [==============================] - 2s 11ms/step - loss: 0.0107 - accuracy: 0.9968 - val_loss: 0.0285 - val_accuracy: 0.9921 - epoch_time: 1.9631\n",
            "Epoch 119/500\n",
            "179/179 [==============================] - 2s 12ms/step - loss: 0.0089 - accuracy: 0.9967 - val_loss: 0.0400 - val_accuracy: 0.9909 - epoch_time: 1.9837\n",
            "Epoch 120/500\n",
            "179/179 [==============================] - 2s 12ms/step - loss: 0.0120 - accuracy: 0.9963 - val_loss: 0.0307 - val_accuracy: 0.9933 - epoch_time: 2.0130\n",
            "Epoch 121/500\n",
            "179/179 [==============================] - 3s 15ms/step - loss: 0.0077 - accuracy: 0.9976 - val_loss: 0.0348 - val_accuracy: 0.9937 - epoch_time: 2.6079\n",
            "Epoch 122/500\n",
            "179/179 [==============================] - 2s 14ms/step - loss: 0.0107 - accuracy: 0.9968 - val_loss: 0.0304 - val_accuracy: 0.9937 - epoch_time: 2.3723\n",
            "Epoch 123/500\n",
            "179/179 [==============================] - 2s 12ms/step - loss: 0.0090 - accuracy: 0.9971 - val_loss: 0.0360 - val_accuracy: 0.9925 - epoch_time: 2.0229\n",
            "Epoch 124/500\n",
            "179/179 [==============================] - 2s 12ms/step - loss: 0.0097 - accuracy: 0.9966 - val_loss: 0.0453 - val_accuracy: 0.9941 - epoch_time: 2.0042\n",
            "Epoch 125/500\n",
            "179/179 [==============================] - 2s 12ms/step - loss: 0.0101 - accuracy: 0.9964 - val_loss: 0.0382 - val_accuracy: 0.9937 - epoch_time: 2.0304\n",
            "Epoch 126/500\n",
            "179/179 [==============================] - 2s 12ms/step - loss: 0.0101 - accuracy: 0.9968 - val_loss: 0.0404 - val_accuracy: 0.9921 - epoch_time: 2.0278\n",
            "Epoch 127/500\n",
            "179/179 [==============================] - 3s 15ms/step - loss: 0.0129 - accuracy: 0.9961 - val_loss: 0.0357 - val_accuracy: 0.9945 - epoch_time: 2.5763\n",
            "Epoch 128/500\n",
            "179/179 [==============================] - 2s 13ms/step - loss: 0.0126 - accuracy: 0.9966 - val_loss: 0.0291 - val_accuracy: 0.9929 - epoch_time: 2.2713\n",
            "Epoch 129/500\n",
            "179/179 [==============================] - 2s 12ms/step - loss: 0.0109 - accuracy: 0.9970 - val_loss: 0.0343 - val_accuracy: 0.9921 - epoch_time: 2.0136\n",
            "Epoch 130/500\n",
            "179/179 [==============================] - 2s 12ms/step - loss: 0.0095 - accuracy: 0.9964 - val_loss: 0.0327 - val_accuracy: 0.9921 - epoch_time: 2.0130\n",
            "Epoch 131/500\n",
            "179/179 [==============================] - 2s 12ms/step - loss: 0.0097 - accuracy: 0.9964 - val_loss: 0.0290 - val_accuracy: 0.9925 - epoch_time: 2.0927\n",
            "Epoch 132/500\n",
            "179/179 [==============================] - 2s 11ms/step - loss: 0.0101 - accuracy: 0.9968 - val_loss: 0.0336 - val_accuracy: 0.9921 - epoch_time: 1.9589\n",
            "Epoch 133/500\n",
            "179/179 [==============================] - 3s 15ms/step - loss: 0.0092 - accuracy: 0.9968 - val_loss: 0.0397 - val_accuracy: 0.9909 - epoch_time: 2.5889\n",
            "Epoch 134/500\n",
            "179/179 [==============================] - 2s 13ms/step - loss: 0.0104 - accuracy: 0.9964 - val_loss: 0.0287 - val_accuracy: 0.9917 - epoch_time: 2.3196\n",
            "Epoch 135/500\n",
            "179/179 [==============================] - 2s 12ms/step - loss: 0.0085 - accuracy: 0.9971 - val_loss: 0.0411 - val_accuracy: 0.9917 - epoch_time: 2.0338\n",
            "Epoch 136/500\n",
            "179/179 [==============================] - 2s 12ms/step - loss: 0.0085 - accuracy: 0.9976 - val_loss: 0.0399 - val_accuracy: 0.9917 - epoch_time: 2.0684\n",
            "Epoch 137/500\n",
            "179/179 [==============================] - 2s 12ms/step - loss: 0.0090 - accuracy: 0.9972 - val_loss: 0.0337 - val_accuracy: 0.9921 - epoch_time: 1.9828\n",
            "Epoch 138/500\n",
            "179/179 [==============================] - 2s 12ms/step - loss: 0.0089 - accuracy: 0.9969 - val_loss: 0.0312 - val_accuracy: 0.9925 - epoch_time: 1.9855\n",
            "Epoch 139/500\n",
            "179/179 [==============================] - 3s 16ms/step - loss: 0.0076 - accuracy: 0.9977 - val_loss: 0.0382 - val_accuracy: 0.9925 - epoch_time: 2.7057\n",
            "Epoch 140/500\n",
            "179/179 [==============================] - 2s 13ms/step - loss: 0.0081 - accuracy: 0.9978 - val_loss: 0.0439 - val_accuracy: 0.9917 - epoch_time: 2.2099\n",
            "Epoch 141/500\n",
            "179/179 [==============================] - 2s 12ms/step - loss: 0.0093 - accuracy: 0.9971 - val_loss: 0.0282 - val_accuracy: 0.9945 - epoch_time: 1.9945\n",
            "Epoch 142/500\n",
            "179/179 [==============================] - 2s 12ms/step - loss: 0.0089 - accuracy: 0.9971 - val_loss: 0.0426 - val_accuracy: 0.9937 - epoch_time: 1.9907\n",
            "Epoch 143/500\n",
            "179/179 [==============================] - 2s 12ms/step - loss: 0.0093 - accuracy: 0.9973 - val_loss: 0.0393 - val_accuracy: 0.9921 - epoch_time: 2.0154\n",
            "Epoch 144/500\n",
            "179/179 [==============================] - 2s 12ms/step - loss: 0.0092 - accuracy: 0.9969 - val_loss: 0.0421 - val_accuracy: 0.9909 - epoch_time: 2.0048\n",
            "Epoch 145/500\n",
            "179/179 [==============================] - 3s 16ms/step - loss: 0.0078 - accuracy: 0.9979 - val_loss: 0.0359 - val_accuracy: 0.9941 - epoch_time: 2.6757\n",
            "Epoch 146/500\n",
            "179/179 [==============================] - 2s 13ms/step - loss: 0.0078 - accuracy: 0.9972 - val_loss: 0.0280 - val_accuracy: 0.9929 - epoch_time: 2.2715\n",
            "Epoch 147/500\n",
            "179/179 [==============================] - 2s 12ms/step - loss: 0.0080 - accuracy: 0.9975 - val_loss: 0.0267 - val_accuracy: 0.9929 - epoch_time: 2.0104\n",
            "Epoch 148/500\n",
            "179/179 [==============================] - 2s 12ms/step - loss: 0.0089 - accuracy: 0.9973 - val_loss: 0.0399 - val_accuracy: 0.9925 - epoch_time: 2.0543\n",
            "Epoch 149/500\n",
            "179/179 [==============================] - 2s 12ms/step - loss: 0.0097 - accuracy: 0.9974 - val_loss: 0.0383 - val_accuracy: 0.9925 - epoch_time: 2.0641\n",
            "Epoch 150/500\n",
            "179/179 [==============================] - 2s 12ms/step - loss: 0.0096 - accuracy: 0.9969 - val_loss: 0.0413 - val_accuracy: 0.9909 - epoch_time: 2.0912\n",
            "Epoch 151/500\n",
            "179/179 [==============================] - 3s 16ms/step - loss: 0.0118 - accuracy: 0.9964 - val_loss: 0.0323 - val_accuracy: 0.9913 - epoch_time: 2.7566\n",
            "Epoch 152/500\n",
            "179/179 [==============================] - 2s 13ms/step - loss: 0.0093 - accuracy: 0.9971 - val_loss: 0.0346 - val_accuracy: 0.9937 - epoch_time: 2.1693\n",
            "Epoch 153/500\n",
            "179/179 [==============================] - 2s 12ms/step - loss: 0.0078 - accuracy: 0.9975 - val_loss: 0.0418 - val_accuracy: 0.9929 - epoch_time: 1.9991\n",
            "Epoch 154/500\n",
            "179/179 [==============================] - 2s 12ms/step - loss: 0.0090 - accuracy: 0.9974 - val_loss: 0.0371 - val_accuracy: 0.9913 - epoch_time: 2.0177\n",
            "Epoch 155/500\n",
            "179/179 [==============================] - 2s 12ms/step - loss: 0.0089 - accuracy: 0.9969 - val_loss: 0.0374 - val_accuracy: 0.9913 - epoch_time: 2.0220\n",
            "Epoch 156/500\n",
            "179/179 [==============================] - 2s 12ms/step - loss: 0.0079 - accuracy: 0.9975 - val_loss: 0.0672 - val_accuracy: 0.9874 - epoch_time: 2.0568\n",
            "Epoch 157/500\n",
            "179/179 [==============================] - 3s 16ms/step - loss: 0.0121 - accuracy: 0.9959 - val_loss: 0.0324 - val_accuracy: 0.9929 - epoch_time: 2.7740\n",
            "Epoch 158/500\n",
            "179/179 [==============================] - 2s 13ms/step - loss: 0.0085 - accuracy: 0.9973 - val_loss: 0.0332 - val_accuracy: 0.9937 - epoch_time: 2.1609\n",
            "Epoch 159/500\n",
            "179/179 [==============================] - 2s 12ms/step - loss: 0.0104 - accuracy: 0.9970 - val_loss: 0.0340 - val_accuracy: 0.9929 - epoch_time: 2.0414\n",
            "Epoch 160/500\n",
            "179/179 [==============================] - 2s 11ms/step - loss: 0.0092 - accuracy: 0.9969 - val_loss: 0.0254 - val_accuracy: 0.9937 - epoch_time: 1.9663\n",
            "Epoch 161/500\n",
            "179/179 [==============================] - 2s 12ms/step - loss: 0.0099 - accuracy: 0.9969 - val_loss: 0.0284 - val_accuracy: 0.9953 - epoch_time: 2.0957\n",
            "Epoch 162/500\n",
            "179/179 [==============================] - 2s 13ms/step - loss: 0.0072 - accuracy: 0.9980 - val_loss: 0.0404 - val_accuracy: 0.9937 - epoch_time: 2.2049\n",
            "Epoch 163/500\n",
            "179/179 [==============================] - 3s 16ms/step - loss: 0.0112 - accuracy: 0.9964 - val_loss: 0.0303 - val_accuracy: 0.9929 - epoch_time: 2.7939\n",
            "Epoch 164/500\n",
            "179/179 [==============================] - 2s 12ms/step - loss: 0.0066 - accuracy: 0.9981 - val_loss: 0.0403 - val_accuracy: 0.9937 - epoch_time: 2.1184\n",
            "Epoch 165/500\n",
            "179/179 [==============================] - 2s 12ms/step - loss: 0.0058 - accuracy: 0.9983 - val_loss: 0.0331 - val_accuracy: 0.9941 - epoch_time: 2.1019\n",
            "Epoch 166/500\n",
            "179/179 [==============================] - 2s 12ms/step - loss: 0.0079 - accuracy: 0.9975 - val_loss: 0.0416 - val_accuracy: 0.9933 - epoch_time: 2.0473\n",
            "Epoch 167/500\n",
            "179/179 [==============================] - 2s 12ms/step - loss: 0.0065 - accuracy: 0.9980 - val_loss: 0.0348 - val_accuracy: 0.9925 - epoch_time: 2.0678\n",
            "Epoch 168/500\n",
            "179/179 [==============================] - 2s 13ms/step - loss: 0.0071 - accuracy: 0.9980 - val_loss: 0.0352 - val_accuracy: 0.9925 - epoch_time: 2.2673\n",
            "Epoch 169/500\n",
            "179/179 [==============================] - 3s 15ms/step - loss: 0.0068 - accuracy: 0.9976 - val_loss: 0.0323 - val_accuracy: 0.9925 - epoch_time: 2.6633\n",
            "Epoch 170/500\n",
            "179/179 [==============================] - 2s 12ms/step - loss: 0.0070 - accuracy: 0.9975 - val_loss: 0.0379 - val_accuracy: 0.9925 - epoch_time: 1.9981\n",
            "Epoch 171/500\n",
            "179/179 [==============================] - 2s 12ms/step - loss: 0.0080 - accuracy: 0.9976 - val_loss: 0.0307 - val_accuracy: 0.9941 - epoch_time: 2.0288\n",
            "Epoch 172/500\n",
            "179/179 [==============================] - 2s 11ms/step - loss: 0.0103 - accuracy: 0.9969 - val_loss: 0.0303 - val_accuracy: 0.9925 - epoch_time: 1.9655\n",
            "Epoch 173/500\n",
            "179/179 [==============================] - 2s 12ms/step - loss: 0.0069 - accuracy: 0.9974 - val_loss: 0.0355 - val_accuracy: 0.9929 - epoch_time: 2.0310\n",
            "Epoch 174/500\n",
            "179/179 [==============================] - 2s 14ms/step - loss: 0.0072 - accuracy: 0.9975 - val_loss: 0.0350 - val_accuracy: 0.9945 - epoch_time: 2.3933\n",
            "Epoch 175/500\n",
            "179/179 [==============================] - 3s 15ms/step - loss: 0.0071 - accuracy: 0.9975 - val_loss: 0.0339 - val_accuracy: 0.9929 - epoch_time: 2.6834\n",
            "Epoch 176/500\n",
            "179/179 [==============================] - 2s 12ms/step - loss: 0.0093 - accuracy: 0.9971 - val_loss: 0.0287 - val_accuracy: 0.9933 - epoch_time: 2.0463\n",
            "Epoch 177/500\n",
            "179/179 [==============================] - 2s 12ms/step - loss: 0.0084 - accuracy: 0.9973 - val_loss: 0.0371 - val_accuracy: 0.9929 - epoch_time: 2.0346\n",
            "Epoch 178/500\n",
            "179/179 [==============================] - 2s 12ms/step - loss: 0.0065 - accuracy: 0.9978 - val_loss: 0.0330 - val_accuracy: 0.9929 - epoch_time: 2.0849\n",
            "Epoch 179/500\n",
            "179/179 [==============================] - 2s 12ms/step - loss: 0.0064 - accuracy: 0.9984 - val_loss: 0.0288 - val_accuracy: 0.9945 - epoch_time: 2.0627\n",
            "Epoch 180/500\n",
            "179/179 [==============================] - 3s 14ms/step - loss: 0.0104 - accuracy: 0.9971 - val_loss: 0.0349 - val_accuracy: 0.9929 - epoch_time: 2.4603\n",
            "Epoch 181/500\n",
            "179/179 [==============================] - 3s 15ms/step - loss: 0.0075 - accuracy: 0.9976 - val_loss: 0.0345 - val_accuracy: 0.9941 - epoch_time: 2.5878\n",
            "Epoch 182/500\n",
            "179/179 [==============================] - 2s 12ms/step - loss: 0.0072 - accuracy: 0.9973 - val_loss: 0.0454 - val_accuracy: 0.9929 - epoch_time: 2.0450\n",
            "Epoch 183/500\n",
            "179/179 [==============================] - 2s 12ms/step - loss: 0.0084 - accuracy: 0.9974 - val_loss: 0.0419 - val_accuracy: 0.9917 - epoch_time: 2.0529\n",
            "Epoch 184/500\n",
            "179/179 [==============================] - 2s 12ms/step - loss: 0.0087 - accuracy: 0.9970 - val_loss: 0.0375 - val_accuracy: 0.9921 - epoch_time: 2.0364\n",
            "Epoch 185/500\n",
            "179/179 [==============================] - 2s 12ms/step - loss: 0.0047 - accuracy: 0.9985 - val_loss: 0.0441 - val_accuracy: 0.9925 - epoch_time: 2.0302\n",
            "Epoch 186/500\n",
            "179/179 [==============================] - 3s 16ms/step - loss: 0.0059 - accuracy: 0.9983 - val_loss: 0.0457 - val_accuracy: 0.9921 - epoch_time: 2.6625\n",
            "Epoch 187/500\n",
            "179/179 [==============================] - 3s 16ms/step - loss: 0.0055 - accuracy: 0.9982 - val_loss: 0.0319 - val_accuracy: 0.9925 - epoch_time: 2.7539\n",
            "Epoch 188/500\n",
            "179/179 [==============================] - 2s 12ms/step - loss: 0.0080 - accuracy: 0.9974 - val_loss: 0.0368 - val_accuracy: 0.9925 - epoch_time: 2.1270\n",
            "Epoch 189/500\n",
            "179/179 [==============================] - 2s 12ms/step - loss: 0.0062 - accuracy: 0.9977 - val_loss: 0.0352 - val_accuracy: 0.9929 - epoch_time: 2.1016\n",
            "Epoch 190/500\n",
            "179/179 [==============================] - 2s 12ms/step - loss: 0.0062 - accuracy: 0.9983 - val_loss: 0.0470 - val_accuracy: 0.9917 - epoch_time: 2.1458\n",
            "Epoch 191/500\n",
            "179/179 [==============================] - 2s 12ms/step - loss: 0.0077 - accuracy: 0.9973 - val_loss: 0.0430 - val_accuracy: 0.9941 - epoch_time: 2.0650\n",
            "Epoch 192/500\n",
            "179/179 [==============================] - 3s 16ms/step - loss: 0.0065 - accuracy: 0.9982 - val_loss: 0.0388 - val_accuracy: 0.9933 - epoch_time: 2.7847\n",
            "Epoch 193/500\n",
            "179/179 [==============================] - 2s 14ms/step - loss: 0.0082 - accuracy: 0.9974 - val_loss: 0.0294 - val_accuracy: 0.9925 - epoch_time: 2.3709\n",
            "Epoch 194/500\n",
            "179/179 [==============================] - 2s 12ms/step - loss: 0.0064 - accuracy: 0.9982 - val_loss: 0.0327 - val_accuracy: 0.9945 - epoch_time: 2.0516\n",
            "Epoch 195/500\n",
            "179/179 [==============================] - 2s 12ms/step - loss: 0.0077 - accuracy: 0.9976 - val_loss: 0.0298 - val_accuracy: 0.9937 - epoch_time: 2.1147\n",
            "Epoch 196/500\n",
            "179/179 [==============================] - 2s 12ms/step - loss: 0.0083 - accuracy: 0.9972 - val_loss: 0.0373 - val_accuracy: 0.9941 - epoch_time: 2.0772\n",
            "Epoch 197/500\n",
            "179/179 [==============================] - 2s 12ms/step - loss: 0.0063 - accuracy: 0.9983 - val_loss: 0.0360 - val_accuracy: 0.9933 - epoch_time: 2.0707\n",
            "Epoch 198/500\n",
            "179/179 [==============================] - 3s 17ms/step - loss: 0.0069 - accuracy: 0.9978 - val_loss: 0.0318 - val_accuracy: 0.9941 - epoch_time: 2.8425\n",
            "Epoch 199/500\n",
            "179/179 [==============================] - 2s 13ms/step - loss: 0.0060 - accuracy: 0.9982 - val_loss: 0.0278 - val_accuracy: 0.9925 - epoch_time: 2.2350\n",
            "Epoch 200/500\n",
            "179/179 [==============================] - 2s 12ms/step - loss: 0.0063 - accuracy: 0.9982 - val_loss: 0.0383 - val_accuracy: 0.9925 - epoch_time: 2.1305\n",
            "Epoch 201/500\n",
            "179/179 [==============================] - 2s 12ms/step - loss: 0.0063 - accuracy: 0.9979 - val_loss: 0.0422 - val_accuracy: 0.9929 - epoch_time: 2.1167\n",
            "Epoch 202/500\n",
            "179/179 [==============================] - 2s 12ms/step - loss: 0.0056 - accuracy: 0.9982 - val_loss: 0.0382 - val_accuracy: 0.9933 - epoch_time: 2.1098\n",
            "Epoch 203/500\n",
            "179/179 [==============================] - 2s 13ms/step - loss: 0.0074 - accuracy: 0.9979 - val_loss: 0.0309 - val_accuracy: 0.9941 - epoch_time: 2.2690\n",
            "Epoch 204/500\n",
            "179/179 [==============================] - 3s 16ms/step - loss: 0.0069 - accuracy: 0.9979 - val_loss: 0.0321 - val_accuracy: 0.9933 - epoch_time: 2.8052\n",
            "Epoch 205/500\n",
            "179/179 [==============================] - 2s 12ms/step - loss: 0.0058 - accuracy: 0.9984 - val_loss: 0.0289 - val_accuracy: 0.9929 - epoch_time: 2.0698\n",
            "Epoch 206/500\n",
            "179/179 [==============================] - 3s 16ms/step - loss: 0.0089 - accuracy: 0.9972 - val_loss: 0.0235 - val_accuracy: 0.9941 - epoch_time: 2.0356\n",
            "Epoch 207/500\n",
            "179/179 [==============================] - 2s 12ms/step - loss: 0.0085 - accuracy: 0.9973 - val_loss: 0.0328 - val_accuracy: 0.9921 - epoch_time: 2.0069\n",
            "Epoch 208/500\n",
            "179/179 [==============================] - 2s 12ms/step - loss: 0.0072 - accuracy: 0.9975 - val_loss: 0.0314 - val_accuracy: 0.9929 - epoch_time: 2.0186\n",
            "Epoch 209/500\n",
            "179/179 [==============================] - 3s 15ms/step - loss: 0.0062 - accuracy: 0.9981 - val_loss: 0.0429 - val_accuracy: 0.9929 - epoch_time: 2.6217\n",
            "Epoch 210/500\n",
            "179/179 [==============================] - 3s 14ms/step - loss: 0.0075 - accuracy: 0.9973 - val_loss: 0.0355 - val_accuracy: 0.9925 - epoch_time: 2.4221\n",
            "Epoch 211/500\n",
            "179/179 [==============================] - 2s 12ms/step - loss: 0.0085 - accuracy: 0.9972 - val_loss: 0.0401 - val_accuracy: 0.9917 - epoch_time: 2.0213\n",
            "Epoch 212/500\n",
            "179/179 [==============================] - 2s 12ms/step - loss: 0.0059 - accuracy: 0.9979 - val_loss: 0.0384 - val_accuracy: 0.9925 - epoch_time: 2.0577\n",
            "Epoch 213/500\n",
            "179/179 [==============================] - 2s 12ms/step - loss: 0.0075 - accuracy: 0.9976 - val_loss: 0.0366 - val_accuracy: 0.9917 - epoch_time: 2.0643\n",
            "Epoch 214/500\n",
            "179/179 [==============================] - 2s 12ms/step - loss: 0.0059 - accuracy: 0.9980 - val_loss: 0.0429 - val_accuracy: 0.9937 - epoch_time: 2.0676\n",
            "Epoch 215/500\n",
            "179/179 [==============================] - 3s 16ms/step - loss: 0.0236 - accuracy: 0.9936 - val_loss: 0.0353 - val_accuracy: 0.9913 - epoch_time: 2.7156\n",
            "Epoch 216/500\n",
            "179/179 [==============================] - 2s 14ms/step - loss: 0.0087 - accuracy: 0.9973 - val_loss: 0.0369 - val_accuracy: 0.9921 - epoch_time: 2.3460\n",
            "Epoch 217/500\n",
            "179/179 [==============================] - 2s 12ms/step - loss: 0.0057 - accuracy: 0.9979 - val_loss: 0.0423 - val_accuracy: 0.9933 - epoch_time: 2.0443\n",
            "Epoch 218/500\n",
            "179/179 [==============================] - 2s 12ms/step - loss: 0.0063 - accuracy: 0.9979 - val_loss: 0.0361 - val_accuracy: 0.9929 - epoch_time: 2.0496\n",
            "Epoch 219/500\n",
            "179/179 [==============================] - 2s 12ms/step - loss: 0.0043 - accuracy: 0.9987 - val_loss: 0.0326 - val_accuracy: 0.9933 - epoch_time: 2.0278\n",
            "Epoch 220/500\n",
            "179/179 [==============================] - 2s 12ms/step - loss: 0.0054 - accuracy: 0.9982 - val_loss: 0.0311 - val_accuracy: 0.9929 - epoch_time: 2.0580\n",
            "Epoch 221/500\n",
            "179/179 [==============================] - 3s 16ms/step - loss: 0.0048 - accuracy: 0.9982 - val_loss: 0.0393 - val_accuracy: 0.9929 - epoch_time: 2.7796\n",
            "Epoch 222/500\n",
            "179/179 [==============================] - 2s 13ms/step - loss: 0.0039 - accuracy: 0.9987 - val_loss: 0.0411 - val_accuracy: 0.9921 - epoch_time: 2.2400\n",
            "Epoch 223/500\n",
            "179/179 [==============================] - 2s 12ms/step - loss: 0.0055 - accuracy: 0.9982 - val_loss: 0.0460 - val_accuracy: 0.9909 - epoch_time: 2.0347\n",
            "Epoch 224/500\n",
            "179/179 [==============================] - 2s 12ms/step - loss: 0.0057 - accuracy: 0.9980 - val_loss: 0.0422 - val_accuracy: 0.9925 - epoch_time: 2.0337\n",
            "Epoch 225/500\n",
            "179/179 [==============================] - 2s 12ms/step - loss: 0.0078 - accuracy: 0.9976 - val_loss: 0.0344 - val_accuracy: 0.9933 - epoch_time: 2.1139\n",
            "Epoch 226/500\n",
            "179/179 [==============================] - 2s 13ms/step - loss: 0.0051 - accuracy: 0.9985 - val_loss: 0.0334 - val_accuracy: 0.9929 - epoch_time: 2.2263\n",
            "Epoch 227/500\n",
            "179/179 [==============================] - 3s 17ms/step - loss: 0.0046 - accuracy: 0.9983 - val_loss: 0.0346 - val_accuracy: 0.9937 - epoch_time: 2.8434\n",
            "Epoch 228/500\n",
            "179/179 [==============================] - 2s 13ms/step - loss: 0.0064 - accuracy: 0.9979 - val_loss: 0.0404 - val_accuracy: 0.9929 - epoch_time: 2.2180\n",
            "Epoch 229/500\n",
            "179/179 [==============================] - 2s 12ms/step - loss: 0.0069 - accuracy: 0.9977 - val_loss: 0.0355 - val_accuracy: 0.9925 - epoch_time: 2.0787\n",
            "Epoch 230/500\n",
            "179/179 [==============================] - 2s 12ms/step - loss: 0.0059 - accuracy: 0.9982 - val_loss: 0.0443 - val_accuracy: 0.9921 - epoch_time: 2.1359\n",
            "Epoch 231/500\n",
            "179/179 [==============================] - 2s 12ms/step - loss: 0.0069 - accuracy: 0.9982 - val_loss: 0.0334 - val_accuracy: 0.9925 - epoch_time: 2.1519\n",
            "Epoch 232/500\n",
            "179/179 [==============================] - 3s 14ms/step - loss: 0.0062 - accuracy: 0.9981 - val_loss: 0.0408 - val_accuracy: 0.9933 - epoch_time: 2.4230\n",
            "Epoch 233/500\n",
            "179/179 [==============================] - 3s 16ms/step - loss: 0.0045 - accuracy: 0.9986 - val_loss: 0.0461 - val_accuracy: 0.9933 - epoch_time: 2.7552\n",
            "Epoch 234/500\n",
            "179/179 [==============================] - 2s 12ms/step - loss: 0.0056 - accuracy: 0.9982 - val_loss: 0.0473 - val_accuracy: 0.9933 - epoch_time: 2.1090\n",
            "Epoch 235/500\n",
            "179/179 [==============================] - 2s 12ms/step - loss: 0.0073 - accuracy: 0.9975 - val_loss: 0.0298 - val_accuracy: 0.9937 - epoch_time: 2.1049\n",
            "Epoch 236/500\n",
            "179/179 [==============================] - 2s 12ms/step - loss: 0.0075 - accuracy: 0.9978 - val_loss: 0.0406 - val_accuracy: 0.9921 - epoch_time: 2.1141\n",
            "Epoch 237/500\n",
            "179/179 [==============================] - 2s 12ms/step - loss: 0.0063 - accuracy: 0.9978 - val_loss: 0.0431 - val_accuracy: 0.9917 - epoch_time: 2.1018\n",
            "Epoch 238/500\n",
            "179/179 [==============================] - 3s 15ms/step - loss: 0.0038 - accuracy: 0.9988 - val_loss: 0.0440 - val_accuracy: 0.9937 - epoch_time: 2.5805\n",
            "Epoch 239/500\n",
            "179/179 [==============================] - 3s 15ms/step - loss: 0.0074 - accuracy: 0.9982 - val_loss: 0.0411 - val_accuracy: 0.9929 - epoch_time: 2.6596\n",
            "Epoch 240/500\n",
            "179/179 [==============================] - 2s 13ms/step - loss: 0.0046 - accuracy: 0.9988 - val_loss: 0.0437 - val_accuracy: 0.9917 - epoch_time: 2.1474\n",
            "Epoch 241/500\n",
            "179/179 [==============================] - 2s 13ms/step - loss: 0.0055 - accuracy: 0.9982 - val_loss: 0.0352 - val_accuracy: 0.9937 - epoch_time: 2.1637\n",
            "Epoch 242/500\n",
            "179/179 [==============================] - 2s 12ms/step - loss: 0.0059 - accuracy: 0.9980 - val_loss: 0.0427 - val_accuracy: 0.9929 - epoch_time: 2.1156\n",
            "Epoch 243/500\n",
            "179/179 [==============================] - 2s 12ms/step - loss: 0.0081 - accuracy: 0.9976 - val_loss: 0.0329 - val_accuracy: 0.9937 - epoch_time: 2.0815\n",
            "Epoch 244/500\n",
            "179/179 [==============================] - 3s 16ms/step - loss: 0.0058 - accuracy: 0.9982 - val_loss: 0.0436 - val_accuracy: 0.9925 - epoch_time: 2.7594\n",
            "Epoch 245/500\n",
            "179/179 [==============================] - 3s 14ms/step - loss: 0.0061 - accuracy: 0.9979 - val_loss: 0.0332 - val_accuracy: 0.9917 - epoch_time: 2.4034\n",
            "Epoch 246/500\n",
            "179/179 [==============================] - 2s 12ms/step - loss: 0.0058 - accuracy: 0.9982 - val_loss: 0.0405 - val_accuracy: 0.9925 - epoch_time: 2.0944\n",
            "Epoch 247/500\n",
            "179/179 [==============================] - 2s 12ms/step - loss: 0.0058 - accuracy: 0.9982 - val_loss: 0.0341 - val_accuracy: 0.9925 - epoch_time: 2.1067\n",
            "Epoch 248/500\n",
            "179/179 [==============================] - 2s 12ms/step - loss: 0.0065 - accuracy: 0.9982 - val_loss: 0.0391 - val_accuracy: 0.9921 - epoch_time: 2.1277\n",
            "Epoch 249/500\n",
            "179/179 [==============================] - 2s 13ms/step - loss: 0.0045 - accuracy: 0.9986 - val_loss: 0.0402 - val_accuracy: 0.9937 - epoch_time: 2.1578\n",
            "Epoch 250/500\n",
            "179/179 [==============================] - 3s 17ms/step - loss: 0.0077 - accuracy: 0.9983 - val_loss: 0.0345 - val_accuracy: 0.9933 - epoch_time: 2.8779\n",
            "Epoch 251/500\n",
            "179/179 [==============================] - 2s 13ms/step - loss: 0.0068 - accuracy: 0.9980 - val_loss: 0.0349 - val_accuracy: 0.9921 - epoch_time: 2.2337\n",
            "Epoch 252/500\n",
            "179/179 [==============================] - 2s 12ms/step - loss: 0.0061 - accuracy: 0.9977 - val_loss: 0.0329 - val_accuracy: 0.9921 - epoch_time: 2.0773\n",
            "Epoch 253/500\n",
            "179/179 [==============================] - 2s 13ms/step - loss: 0.0041 - accuracy: 0.9986 - val_loss: 0.0261 - val_accuracy: 0.9937 - epoch_time: 2.2208\n",
            "Epoch 254/500\n",
            "179/179 [==============================] - 2s 12ms/step - loss: 0.0060 - accuracy: 0.9981 - val_loss: 0.0443 - val_accuracy: 0.9909 - epoch_time: 2.1190\n",
            "Epoch 255/500\n",
            "179/179 [==============================] - 3s 18ms/step - loss: 0.0118 - accuracy: 0.9962 - val_loss: 0.0235 - val_accuracy: 0.9937 - epoch_time: 2.3346\n",
            "Epoch 256/500\n",
            "179/179 [==============================] - 3s 15ms/step - loss: 0.0064 - accuracy: 0.9986 - val_loss: 0.0360 - val_accuracy: 0.9933 - epoch_time: 2.5180\n",
            "Epoch 257/500\n",
            "179/179 [==============================] - 2s 12ms/step - loss: 0.0064 - accuracy: 0.9979 - val_loss: 0.0401 - val_accuracy: 0.9929 - epoch_time: 2.1345\n",
            "Epoch 258/500\n",
            "179/179 [==============================] - 2s 13ms/step - loss: 0.0079 - accuracy: 0.9977 - val_loss: 0.0325 - val_accuracy: 0.9929 - epoch_time: 2.1615\n",
            "Epoch 259/500\n",
            "179/179 [==============================] - 2s 12ms/step - loss: 0.0067 - accuracy: 0.9979 - val_loss: 0.0377 - val_accuracy: 0.9913 - epoch_time: 2.1418\n",
            "Epoch 260/500\n",
            "179/179 [==============================] - 2s 13ms/step - loss: 0.0043 - accuracy: 0.9985 - val_loss: 0.0363 - val_accuracy: 0.9929 - epoch_time: 2.1749\n",
            "Epoch 261/500\n",
            "179/179 [==============================] - 3s 16ms/step - loss: 0.0041 - accuracy: 0.9986 - val_loss: 0.0321 - val_accuracy: 0.9929 - epoch_time: 2.8594\n"
          ]
        }
      ]
    },
    {
      "cell_type": "code",
      "source": [
        "print(model_sensor1.summary())"
      ],
      "metadata": {
        "id": "sgiNWkr6oVcq",
        "colab": {
          "base_uri": "https://localhost:8080/"
        },
        "outputId": "cb39a0ce-62c2-4acf-8df8-df281877debe"
      },
      "execution_count": null,
      "outputs": [
        {
          "output_type": "stream",
          "name": "stdout",
          "text": [
            "Model: \"sequential\"\n",
            "_________________________________________________________________\n",
            " Layer (type)                Output Shape              Param #   \n",
            "=================================================================\n",
            " conv1d (Conv1D)             (None, 10, 40)            400       \n",
            "                                                                 \n",
            " dropout (Dropout)           (None, 10, 40)            0         \n",
            "                                                                 \n",
            " conv1d_1 (Conv1D)           (None, 10, 60)            7260      \n",
            "                                                                 \n",
            " dropout_1 (Dropout)         (None, 10, 60)            0         \n",
            "                                                                 \n",
            " conv1d_2 (Conv1D)           (None, 10, 60)            10860     \n",
            "                                                                 \n",
            " dropout_2 (Dropout)         (None, 10, 60)            0         \n",
            "                                                                 \n",
            " global_max_pooling1d (Globa  (None, 60)               0         \n",
            " lMaxPooling1D)                                                  \n",
            "                                                                 \n",
            " repeat_vector (RepeatVector  (None, 10, 60)           0         \n",
            " )                                                               \n",
            "                                                                 \n",
            " lstm (LSTM)                 (None, 10, 256)           324608    \n",
            "                                                                 \n",
            " dropout_3 (Dropout)         (None, 10, 256)           0         \n",
            "                                                                 \n",
            " lstm_1 (LSTM)               (None, 10, 128)           197120    \n",
            "                                                                 \n",
            " dropout_4 (Dropout)         (None, 10, 128)           0         \n",
            "                                                                 \n",
            " lstm_2 (LSTM)               (None, 64)                49408     \n",
            "                                                                 \n",
            " dropout_5 (Dropout)         (None, 64)                0         \n",
            "                                                                 \n",
            " dense (Dense)               (None, 32)                2080      \n",
            "                                                                 \n",
            " dense_1 (Dense)             (None, 16)                528       \n",
            "                                                                 \n",
            " dense_2 (Dense)             (None, 2)                 34        \n",
            "                                                                 \n",
            "=================================================================\n",
            "Total params: 592,298\n",
            "Trainable params: 592,298\n",
            "Non-trainable params: 0\n",
            "_________________________________________________________________\n",
            "None\n"
          ]
        }
      ]
    },
    {
      "cell_type": "code",
      "source": [
        "plot_model(model= model_sensor1, show_shapes= True, dpi=50)"
      ],
      "metadata": {
        "id": "rWZpn8SyoZo6",
        "colab": {
          "base_uri": "https://localhost:8080/",
          "height": 1000
        },
        "outputId": "9de67700-ff2b-4d30-fa0b-52f554858f19"
      },
      "execution_count": null,
      "outputs": [
        {
          "output_type": "execute_result",
          "data": {
            "image/png": "[encoded data removed]",
            "text/plain": [
              "<IPython.core.display.Image object>"
            ]
          },
          "metadata": {},
          "execution_count": 48
        }
      ]
    },
    {
      "cell_type": "code",
      "metadata": {
        "id": "8f2f6m1IAR7A",
        "colab": {
          "base_uri": "https://localhost:8080/"
        },
        "outputId": "20be3a28-c5df-4972-e08b-39005afbdcb5"
      },
      "source": [
        "sensor = \"sensor2\"\n",
        "time_callback = TimeHistory()\n",
        "model_sensor2 = creatModel()\n",
        "model_save, checkpoint, history_cb, Estop = setCallbacks(\"sensor2\")\n",
        "history_sensor2 = model_sensor2.fit(X_train_sensor2, y_train_sensor2,\n",
        "                                    batch_size = 128, epochs = 500,\n",
        "                                    validation_split = 0.1,\n",
        "                                    verbose = 1,\n",
        "                                    callbacks = [time_callback, model_save, checkpoint, history_cb, Estop])\n",
        "                                    # class_weight= class_weights)#"
      ],
      "execution_count": null,
      "outputs": [
        {
          "output_type": "stream",
          "name": "stdout",
          "text": [
            "Epoch 1/500\n",
            "179/179 [==============================] - 9s 21ms/step - loss: 0.2675 - accuracy: 0.9116 - val_loss: 0.1514 - val_accuracy: 0.9613 - epoch_time: 9.2071\n",
            "Epoch 2/500\n",
            "179/179 [==============================] - 2s 12ms/step - loss: 0.1400 - accuracy: 0.9608 - val_loss: 0.1296 - val_accuracy: 0.9582 - epoch_time: 1.9889\n",
            "Epoch 3/500\n",
            "179/179 [==============================] - 2s 12ms/step - loss: 0.1147 - accuracy: 0.9678 - val_loss: 0.0966 - val_accuracy: 0.9751 - epoch_time: 1.9591\n",
            "Epoch 4/500\n",
            "179/179 [==============================] - 2s 12ms/step - loss: 0.1011 - accuracy: 0.9706 - val_loss: 0.0912 - val_accuracy: 0.9783 - epoch_time: 1.9221\n",
            "Epoch 5/500\n",
            "179/179 [==============================] - 2s 13ms/step - loss: 0.0922 - accuracy: 0.9745 - val_loss: 0.0851 - val_accuracy: 0.9787 - epoch_time: 2.0198\n",
            "Epoch 6/500\n",
            "179/179 [==============================] - 3s 16ms/step - loss: 0.0831 - accuracy: 0.9763 - val_loss: 0.0853 - val_accuracy: 0.9799 - epoch_time: 2.7456\n",
            "Epoch 7/500\n",
            "179/179 [==============================] - 2s 12ms/step - loss: 0.0785 - accuracy: 0.9777 - val_loss: 0.0750 - val_accuracy: 0.9814 - epoch_time: 2.0468\n",
            "Epoch 8/500\n",
            "179/179 [==============================] - 2s 12ms/step - loss: 0.0726 - accuracy: 0.9797 - val_loss: 0.0688 - val_accuracy: 0.9811 - epoch_time: 2.0068\n",
            "Epoch 9/500\n",
            "179/179 [==============================] - 2s 12ms/step - loss: 0.0728 - accuracy: 0.9801 - val_loss: 0.0658 - val_accuracy: 0.9846 - epoch_time: 2.0018\n",
            "Epoch 10/500\n",
            "179/179 [==============================] - 2s 11ms/step - loss: 0.0667 - accuracy: 0.9805 - val_loss: 0.0850 - val_accuracy: 0.9751 - epoch_time: 1.9217\n",
            "Epoch 11/500\n",
            "179/179 [==============================] - 2s 13ms/step - loss: 0.0657 - accuracy: 0.9819 - val_loss: 0.0656 - val_accuracy: 0.9826 - epoch_time: 2.0373\n",
            "Epoch 12/500\n",
            "179/179 [==============================] - 3s 17ms/step - loss: 0.0618 - accuracy: 0.9824 - val_loss: 0.0613 - val_accuracy: 0.9846 - epoch_time: 2.8570\n",
            "Epoch 13/500\n",
            "179/179 [==============================] - 2s 12ms/step - loss: 0.0609 - accuracy: 0.9831 - val_loss: 0.0653 - val_accuracy: 0.9834 - epoch_time: 2.0159\n",
            "Epoch 14/500\n",
            "179/179 [==============================] - 2s 11ms/step - loss: 0.0552 - accuracy: 0.9839 - val_loss: 0.0681 - val_accuracy: 0.9826 - epoch_time: 1.9502\n",
            "Epoch 15/500\n",
            "179/179 [==============================] - 2s 11ms/step - loss: 0.0750 - accuracy: 0.9782 - val_loss: 0.0631 - val_accuracy: 0.9826 - epoch_time: 1.8713\n",
            "Epoch 16/500\n",
            "179/179 [==============================] - 2s 12ms/step - loss: 0.0577 - accuracy: 0.9843 - val_loss: 0.0541 - val_accuracy: 0.9854 - epoch_time: 1.9127\n",
            "Epoch 17/500\n",
            "179/179 [==============================] - 2s 12ms/step - loss: 0.0523 - accuracy: 0.9845 - val_loss: 0.0594 - val_accuracy: 0.9834 - epoch_time: 2.1092\n",
            "Epoch 18/500\n",
            "179/179 [==============================] - 3s 17ms/step - loss: 0.0526 - accuracy: 0.9856 - val_loss: 0.0517 - val_accuracy: 0.9858 - epoch_time: 2.8416\n",
            "Epoch 19/500\n",
            "179/179 [==============================] - 2s 12ms/step - loss: 0.0499 - accuracy: 0.9864 - val_loss: 0.0526 - val_accuracy: 0.9858 - epoch_time: 2.0419\n",
            "Epoch 20/500\n",
            "179/179 [==============================] - 2s 12ms/step - loss: 0.0458 - accuracy: 0.9877 - val_loss: 0.0454 - val_accuracy: 0.9870 - epoch_time: 1.9957\n",
            "Epoch 21/500\n",
            "179/179 [==============================] - 2s 12ms/step - loss: 0.0460 - accuracy: 0.9873 - val_loss: 0.0579 - val_accuracy: 0.9850 - epoch_time: 2.0212\n",
            "Epoch 22/500\n",
            "179/179 [==============================] - 2s 12ms/step - loss: 0.0458 - accuracy: 0.9876 - val_loss: 0.0435 - val_accuracy: 0.9874 - epoch_time: 1.9934\n",
            "Epoch 23/500\n",
            "179/179 [==============================] - 2s 14ms/step - loss: 0.0442 - accuracy: 0.9875 - val_loss: 0.0429 - val_accuracy: 0.9874 - epoch_time: 2.2839\n",
            "Epoch 24/500\n",
            "179/179 [==============================] - 3s 15ms/step - loss: 0.0411 - accuracy: 0.9885 - val_loss: 0.0443 - val_accuracy: 0.9878 - epoch_time: 2.5738\n",
            "Epoch 25/500\n",
            "179/179 [==============================] - 2s 12ms/step - loss: 0.0424 - accuracy: 0.9882 - val_loss: 0.0513 - val_accuracy: 0.9905 - epoch_time: 2.0059\n",
            "Epoch 26/500\n",
            "179/179 [==============================] - 2s 12ms/step - loss: 0.0406 - accuracy: 0.9885 - val_loss: 0.0467 - val_accuracy: 0.9866 - epoch_time: 2.0279\n",
            "Epoch 27/500\n",
            "179/179 [==============================] - 2s 12ms/step - loss: 0.0395 - accuracy: 0.9895 - val_loss: 0.0418 - val_accuracy: 0.9886 - epoch_time: 1.9956\n",
            "Epoch 28/500\n",
            "179/179 [==============================] - 2s 12ms/step - loss: 0.0383 - accuracy: 0.9894 - val_loss: 0.0419 - val_accuracy: 0.9893 - epoch_time: 2.0366\n",
            "Epoch 29/500\n",
            "179/179 [==============================] - 3s 15ms/step - loss: 0.0370 - accuracy: 0.9898 - val_loss: 0.0498 - val_accuracy: 0.9878 - epoch_time: 2.5740\n",
            "Epoch 30/500\n",
            "179/179 [==============================] - 3s 15ms/step - loss: 0.0368 - accuracy: 0.9898 - val_loss: 0.0502 - val_accuracy: 0.9878 - epoch_time: 2.6351\n",
            "Epoch 31/500\n",
            "179/179 [==============================] - 3s 17ms/step - loss: 0.0378 - accuracy: 0.9895 - val_loss: 0.0379 - val_accuracy: 0.9897 - epoch_time: 2.0209\n",
            "Epoch 32/500\n",
            "179/179 [==============================] - 2s 12ms/step - loss: 0.0366 - accuracy: 0.9905 - val_loss: 0.0427 - val_accuracy: 0.9901 - epoch_time: 2.0348\n",
            "Epoch 33/500\n",
            "179/179 [==============================] - 2s 11ms/step - loss: 0.0345 - accuracy: 0.9904 - val_loss: 0.0425 - val_accuracy: 0.9909 - epoch_time: 1.9587\n",
            "Epoch 34/500\n",
            "179/179 [==============================] - 2s 13ms/step - loss: 0.0325 - accuracy: 0.9910 - val_loss: 0.0482 - val_accuracy: 0.9893 - epoch_time: 2.2500\n",
            "Epoch 35/500\n",
            "179/179 [==============================] - 3s 16ms/step - loss: 0.0326 - accuracy: 0.9916 - val_loss: 0.0596 - val_accuracy: 0.9874 - epoch_time: 2.7715\n",
            "Epoch 36/500\n",
            "179/179 [==============================] - 2s 11ms/step - loss: 0.0358 - accuracy: 0.9901 - val_loss: 0.0436 - val_accuracy: 0.9882 - epoch_time: 1.9657\n",
            "Epoch 37/500\n",
            "179/179 [==============================] - 2s 12ms/step - loss: 0.0337 - accuracy: 0.9910 - val_loss: 0.0509 - val_accuracy: 0.9882 - epoch_time: 2.0194\n",
            "Epoch 38/500\n",
            "179/179 [==============================] - 3s 17ms/step - loss: 0.0310 - accuracy: 0.9911 - val_loss: 0.0377 - val_accuracy: 0.9917 - epoch_time: 2.1067\n",
            "Epoch 39/500\n",
            "179/179 [==============================] - 2s 12ms/step - loss: 0.0320 - accuracy: 0.9911 - val_loss: 0.0352 - val_accuracy: 0.9917 - epoch_time: 2.0147\n",
            "Epoch 40/500\n",
            "179/179 [==============================] - 3s 16ms/step - loss: 0.0311 - accuracy: 0.9912 - val_loss: 0.0394 - val_accuracy: 0.9897 - epoch_time: 2.7144\n",
            "Epoch 41/500\n",
            "179/179 [==============================] - 2s 13ms/step - loss: 0.0305 - accuracy: 0.9914 - val_loss: 0.0363 - val_accuracy: 0.9921 - epoch_time: 2.2703\n",
            "Epoch 42/500\n",
            "179/179 [==============================] - 2s 12ms/step - loss: 0.0313 - accuracy: 0.9917 - val_loss: 0.0421 - val_accuracy: 0.9893 - epoch_time: 1.9931\n",
            "Epoch 43/500\n",
            "179/179 [==============================] - 3s 17ms/step - loss: 0.0310 - accuracy: 0.9923 - val_loss: 0.0335 - val_accuracy: 0.9917 - epoch_time: 1.9775\n",
            "Epoch 44/500\n",
            "179/179 [==============================] - 2s 12ms/step - loss: 0.0292 - accuracy: 0.9920 - val_loss: 0.0357 - val_accuracy: 0.9905 - epoch_time: 2.0187\n",
            "Epoch 45/500\n",
            "179/179 [==============================] - 2s 13ms/step - loss: 0.0302 - accuracy: 0.9920 - val_loss: 0.0393 - val_accuracy: 0.9897 - epoch_time: 2.1774\n",
            "Epoch 46/500\n",
            "179/179 [==============================] - 3s 15ms/step - loss: 0.0489 - accuracy: 0.9866 - val_loss: 0.0390 - val_accuracy: 0.9889 - epoch_time: 2.6657\n",
            "Epoch 47/500\n",
            "179/179 [==============================] - 2s 11ms/step - loss: 0.0309 - accuracy: 0.9914 - val_loss: 0.0425 - val_accuracy: 0.9893 - epoch_time: 1.9741\n",
            "Epoch 48/500\n",
            "179/179 [==============================] - 3s 17ms/step - loss: 0.0298 - accuracy: 0.9919 - val_loss: 0.0322 - val_accuracy: 0.9921 - epoch_time: 2.0837\n",
            "Epoch 49/500\n",
            "179/179 [==============================] - 2s 12ms/step - loss: 0.0277 - accuracy: 0.9923 - val_loss: 0.0365 - val_accuracy: 0.9909 - epoch_time: 2.0144\n",
            "Epoch 50/500\n",
            "179/179 [==============================] - 2s 12ms/step - loss: 0.0278 - accuracy: 0.9925 - val_loss: 0.0370 - val_accuracy: 0.9921 - epoch_time: 2.0635\n",
            "Epoch 51/500\n",
            "179/179 [==============================] - 3s 15ms/step - loss: 0.0281 - accuracy: 0.9922 - val_loss: 0.0419 - val_accuracy: 0.9886 - epoch_time: 2.5364\n",
            "Epoch 52/500\n",
            "179/179 [==============================] - 2s 14ms/step - loss: 0.0277 - accuracy: 0.9918 - val_loss: 0.0474 - val_accuracy: 0.9901 - epoch_time: 2.3548\n",
            "Epoch 53/500\n",
            "179/179 [==============================] - 2s 12ms/step - loss: 0.0260 - accuracy: 0.9929 - val_loss: 0.0326 - val_accuracy: 0.9929 - epoch_time: 1.9774\n",
            "Epoch 54/500\n",
            "179/179 [==============================] - 2s 12ms/step - loss: 0.0264 - accuracy: 0.9925 - val_loss: 0.0375 - val_accuracy: 0.9897 - epoch_time: 2.0032\n",
            "Epoch 55/500\n",
            "179/179 [==============================] - 2s 12ms/step - loss: 0.0249 - accuracy: 0.9933 - val_loss: 0.0326 - val_accuracy: 0.9909 - epoch_time: 2.1291\n",
            "Epoch 56/500\n",
            "179/179 [==============================] - 2s 12ms/step - loss: 0.0257 - accuracy: 0.9928 - val_loss: 0.0384 - val_accuracy: 0.9897 - epoch_time: 1.9882\n",
            "Epoch 57/500\n",
            "179/179 [==============================] - 3s 16ms/step - loss: 0.0279 - accuracy: 0.9927 - val_loss: 0.0339 - val_accuracy: 0.9929 - epoch_time: 2.7044\n",
            "Epoch 58/500\n",
            "179/179 [==============================] - 2s 13ms/step - loss: 0.0259 - accuracy: 0.9933 - val_loss: 0.0422 - val_accuracy: 0.9905 - epoch_time: 2.2499\n",
            "Epoch 59/500\n",
            "179/179 [==============================] - 2s 12ms/step - loss: 0.0259 - accuracy: 0.9928 - val_loss: 0.0360 - val_accuracy: 0.9913 - epoch_time: 2.0235\n",
            "Epoch 60/500\n",
            "179/179 [==============================] - 2s 12ms/step - loss: 0.0232 - accuracy: 0.9936 - val_loss: 0.0348 - val_accuracy: 0.9925 - epoch_time: 2.0512\n",
            "Epoch 61/500\n",
            "179/179 [==============================] - 2s 12ms/step - loss: 0.0233 - accuracy: 0.9938 - val_loss: 0.0346 - val_accuracy: 0.9913 - epoch_time: 2.0609\n",
            "Epoch 62/500\n",
            "179/179 [==============================] - 2s 12ms/step - loss: 0.0237 - accuracy: 0.9933 - val_loss: 0.0372 - val_accuracy: 0.9937 - epoch_time: 2.0961\n",
            "Epoch 63/500\n",
            "179/179 [==============================] - 3s 16ms/step - loss: 0.0235 - accuracy: 0.9934 - val_loss: 0.0383 - val_accuracy: 0.9917 - epoch_time: 2.8391\n",
            "Epoch 64/500\n",
            "179/179 [==============================] - 2s 13ms/step - loss: 0.0238 - accuracy: 0.9932 - val_loss: 0.0322 - val_accuracy: 0.9933 - epoch_time: 2.1790\n",
            "Epoch 65/500\n",
            "179/179 [==============================] - 2s 12ms/step - loss: 0.0233 - accuracy: 0.9935 - val_loss: 0.0355 - val_accuracy: 0.9921 - epoch_time: 2.0174\n",
            "Epoch 66/500\n",
            "179/179 [==============================] - 2s 12ms/step - loss: 0.0255 - accuracy: 0.9927 - val_loss: 0.0360 - val_accuracy: 0.9913 - epoch_time: 1.9737\n",
            "Epoch 67/500\n",
            "179/179 [==============================] - 2s 12ms/step - loss: 0.0206 - accuracy: 0.9938 - val_loss: 0.0559 - val_accuracy: 0.9886 - epoch_time: 2.0076\n",
            "Epoch 68/500\n",
            "179/179 [==============================] - 2s 12ms/step - loss: 0.0226 - accuracy: 0.9936 - val_loss: 0.0380 - val_accuracy: 0.9917 - epoch_time: 2.1300\n",
            "Epoch 69/500\n",
            "179/179 [==============================] - 3s 16ms/step - loss: 0.0209 - accuracy: 0.9939 - val_loss: 0.0380 - val_accuracy: 0.9913 - epoch_time: 2.6827\n",
            "Epoch 70/500\n",
            "179/179 [==============================] - 2s 12ms/step - loss: 0.0249 - accuracy: 0.9929 - val_loss: 0.0378 - val_accuracy: 0.9893 - epoch_time: 2.0879\n",
            "Epoch 71/500\n",
            "179/179 [==============================] - 2s 12ms/step - loss: 0.0240 - accuracy: 0.9933 - val_loss: 0.0434 - val_accuracy: 0.9889 - epoch_time: 1.9995\n",
            "Epoch 72/500\n",
            "179/179 [==============================] - 2s 12ms/step - loss: 0.0226 - accuracy: 0.9939 - val_loss: 0.0470 - val_accuracy: 0.9897 - epoch_time: 1.9804\n",
            "Epoch 73/500\n",
            "179/179 [==============================] - 2s 12ms/step - loss: 0.0199 - accuracy: 0.9941 - val_loss: 0.0412 - val_accuracy: 0.9909 - epoch_time: 2.0554\n",
            "Epoch 74/500\n",
            "179/179 [==============================] - 2s 13ms/step - loss: 0.0208 - accuracy: 0.9943 - val_loss: 0.0357 - val_accuracy: 0.9933 - epoch_time: 2.1994\n",
            "Epoch 75/500\n",
            "179/179 [==============================] - 3s 16ms/step - loss: 0.0198 - accuracy: 0.9945 - val_loss: 0.0357 - val_accuracy: 0.9921 - epoch_time: 2.7575\n",
            "Epoch 76/500\n",
            "179/179 [==============================] - 2s 12ms/step - loss: 0.0197 - accuracy: 0.9943 - val_loss: 0.0458 - val_accuracy: 0.9901 - epoch_time: 2.0206\n",
            "Epoch 77/500\n",
            "179/179 [==============================] - 2s 12ms/step - loss: 0.0206 - accuracy: 0.9944 - val_loss: 0.0440 - val_accuracy: 0.9882 - epoch_time: 2.0279\n",
            "Epoch 78/500\n",
            "179/179 [==============================] - 2s 11ms/step - loss: 0.0206 - accuracy: 0.9941 - val_loss: 0.0520 - val_accuracy: 0.9889 - epoch_time: 1.9680\n",
            "Epoch 79/500\n",
            "179/179 [==============================] - 2s 11ms/step - loss: 0.0187 - accuracy: 0.9945 - val_loss: 0.0461 - val_accuracy: 0.9913 - epoch_time: 1.9585\n",
            "Epoch 80/500\n",
            "179/179 [==============================] - 2s 13ms/step - loss: 0.0198 - accuracy: 0.9943 - val_loss: 0.0423 - val_accuracy: 0.9901 - epoch_time: 2.1642\n",
            "Epoch 81/500\n",
            "179/179 [==============================] - 3s 16ms/step - loss: 0.0195 - accuracy: 0.9946 - val_loss: 0.0334 - val_accuracy: 0.9921 - epoch_time: 2.7611\n",
            "Epoch 82/500\n",
            "179/179 [==============================] - 2s 12ms/step - loss: 0.0179 - accuracy: 0.9946 - val_loss: 0.0436 - val_accuracy: 0.9882 - epoch_time: 2.0141\n",
            "Epoch 83/500\n",
            "179/179 [==============================] - 2s 12ms/step - loss: 0.0178 - accuracy: 0.9947 - val_loss: 0.0447 - val_accuracy: 0.9917 - epoch_time: 1.9780\n",
            "Epoch 84/500\n",
            "179/179 [==============================] - 2s 12ms/step - loss: 0.0207 - accuracy: 0.9937 - val_loss: 0.0446 - val_accuracy: 0.9905 - epoch_time: 2.0011\n",
            "Epoch 85/500\n",
            "179/179 [==============================] - 2s 12ms/step - loss: 0.0208 - accuracy: 0.9939 - val_loss: 0.0352 - val_accuracy: 0.9925 - epoch_time: 1.9661\n",
            "Epoch 86/500\n",
            "179/179 [==============================] - 2s 13ms/step - loss: 0.0240 - accuracy: 0.9929 - val_loss: 0.0471 - val_accuracy: 0.9921 - epoch_time: 2.1449\n",
            "Epoch 87/500\n",
            "179/179 [==============================] - 3s 16ms/step - loss: 0.0182 - accuracy: 0.9949 - val_loss: 0.0396 - val_accuracy: 0.9909 - epoch_time: 2.7691\n",
            "Epoch 88/500\n",
            "179/179 [==============================] - 3s 16ms/step - loss: 0.0203 - accuracy: 0.9939 - val_loss: 0.0316 - val_accuracy: 0.9933 - epoch_time: 2.0131\n",
            "Epoch 89/500\n",
            "179/179 [==============================] - 2s 12ms/step - loss: 0.0168 - accuracy: 0.9957 - val_loss: 0.0380 - val_accuracy: 0.9913 - epoch_time: 2.0103\n",
            "Epoch 90/500\n",
            "179/179 [==============================] - 2s 12ms/step - loss: 0.0187 - accuracy: 0.9941 - val_loss: 0.0557 - val_accuracy: 0.9893 - epoch_time: 2.0935\n",
            "Epoch 91/500\n",
            "179/179 [==============================] - 2s 12ms/step - loss: 0.0180 - accuracy: 0.9939 - val_loss: 0.0385 - val_accuracy: 0.9929 - epoch_time: 2.0551\n",
            "Epoch 92/500\n",
            "179/179 [==============================] - 3s 15ms/step - loss: 0.0163 - accuracy: 0.9951 - val_loss: 0.0373 - val_accuracy: 0.9929 - epoch_time: 2.6030\n",
            "Epoch 93/500\n",
            "179/179 [==============================] - 2s 14ms/step - loss: 0.0157 - accuracy: 0.9953 - val_loss: 0.0384 - val_accuracy: 0.9921 - epoch_time: 2.3708\n",
            "Epoch 94/500\n",
            "179/179 [==============================] - 2s 11ms/step - loss: 0.0145 - accuracy: 0.9959 - val_loss: 0.0479 - val_accuracy: 0.9909 - epoch_time: 1.9713\n",
            "Epoch 95/500\n",
            "179/179 [==============================] - 2s 12ms/step - loss: 0.0164 - accuracy: 0.9948 - val_loss: 0.0481 - val_accuracy: 0.9905 - epoch_time: 2.0572\n",
            "Epoch 96/500\n",
            "179/179 [==============================] - 2s 12ms/step - loss: 0.0165 - accuracy: 0.9953 - val_loss: 0.0326 - val_accuracy: 0.9941 - epoch_time: 2.0273\n",
            "Epoch 97/500\n",
            "179/179 [==============================] - 2s 12ms/step - loss: 0.0190 - accuracy: 0.9947 - val_loss: 0.0426 - val_accuracy: 0.9905 - epoch_time: 2.0105\n",
            "Epoch 98/500\n",
            "179/179 [==============================] - 3s 15ms/step - loss: 0.0169 - accuracy: 0.9948 - val_loss: 0.0416 - val_accuracy: 0.9917 - epoch_time: 2.6513\n",
            "Epoch 99/500\n",
            "179/179 [==============================] - 2s 14ms/step - loss: 0.0162 - accuracy: 0.9950 - val_loss: 0.0558 - val_accuracy: 0.9886 - epoch_time: 2.3578\n",
            "Epoch 100/500\n",
            "179/179 [==============================] - 2s 12ms/step - loss: 0.0459 - accuracy: 0.9869 - val_loss: 0.0459 - val_accuracy: 0.9886 - epoch_time: 2.0139\n",
            "Epoch 101/500\n",
            "179/179 [==============================] - 2s 12ms/step - loss: 0.0347 - accuracy: 0.9905 - val_loss: 0.0416 - val_accuracy: 0.9893 - epoch_time: 2.0704\n",
            "Epoch 102/500\n",
            "179/179 [==============================] - 2s 12ms/step - loss: 0.0207 - accuracy: 0.9936 - val_loss: 0.0559 - val_accuracy: 0.9878 - epoch_time: 2.0465\n",
            "Epoch 103/500\n",
            "179/179 [==============================] - 2s 12ms/step - loss: 0.0176 - accuracy: 0.9951 - val_loss: 0.0533 - val_accuracy: 0.9905 - epoch_time: 2.0915\n",
            "Epoch 104/500\n",
            "179/179 [==============================] - 3s 16ms/step - loss: 0.0180 - accuracy: 0.9947 - val_loss: 0.0357 - val_accuracy: 0.9929 - epoch_time: 2.8020\n",
            "Epoch 105/500\n",
            "179/179 [==============================] - 2s 13ms/step - loss: 0.0159 - accuracy: 0.9949 - val_loss: 0.0464 - val_accuracy: 0.9905 - epoch_time: 2.2727\n",
            "Epoch 106/500\n",
            "179/179 [==============================] - 2s 12ms/step - loss: 0.0141 - accuracy: 0.9956 - val_loss: 0.0485 - val_accuracy: 0.9909 - epoch_time: 2.0204\n",
            "Epoch 107/500\n",
            "179/179 [==============================] - 2s 12ms/step - loss: 0.0155 - accuracy: 0.9955 - val_loss: 0.0477 - val_accuracy: 0.9917 - epoch_time: 2.0147\n",
            "Epoch 108/500\n",
            "179/179 [==============================] - 2s 11ms/step - loss: 0.0155 - accuracy: 0.9953 - val_loss: 0.0434 - val_accuracy: 0.9929 - epoch_time: 1.9570\n",
            "Epoch 109/500\n",
            "179/179 [==============================] - 2s 12ms/step - loss: 0.0134 - accuracy: 0.9953 - val_loss: 0.0442 - val_accuracy: 0.9929 - epoch_time: 2.0305\n",
            "Epoch 110/500\n",
            "179/179 [==============================] - 3s 16ms/step - loss: 0.0125 - accuracy: 0.9961 - val_loss: 0.0530 - val_accuracy: 0.9909 - epoch_time: 2.7872\n",
            "Epoch 111/500\n",
            "179/179 [==============================] - 2s 12ms/step - loss: 0.0148 - accuracy: 0.9954 - val_loss: 0.0473 - val_accuracy: 0.9901 - epoch_time: 2.1482\n",
            "Epoch 112/500\n",
            "179/179 [==============================] - 2s 12ms/step - loss: 0.0146 - accuracy: 0.9959 - val_loss: 0.0448 - val_accuracy: 0.9909 - epoch_time: 2.0393\n",
            "Epoch 113/500\n",
            "179/179 [==============================] - 2s 12ms/step - loss: 0.0124 - accuracy: 0.9958 - val_loss: 0.0433 - val_accuracy: 0.9913 - epoch_time: 1.9991\n",
            "Epoch 114/500\n",
            "179/179 [==============================] - 2s 12ms/step - loss: 0.0135 - accuracy: 0.9964 - val_loss: 0.0474 - val_accuracy: 0.9905 - epoch_time: 2.0605\n",
            "Epoch 115/500\n",
            "179/179 [==============================] - 2s 12ms/step - loss: 0.0136 - accuracy: 0.9959 - val_loss: 0.0512 - val_accuracy: 0.9909 - epoch_time: 2.1171\n",
            "Epoch 116/500\n",
            "179/179 [==============================] - 3s 16ms/step - loss: 0.0124 - accuracy: 0.9958 - val_loss: 0.0388 - val_accuracy: 0.9925 - epoch_time: 2.8169\n",
            "Epoch 117/500\n",
            "179/179 [==============================] - 2s 13ms/step - loss: 0.0137 - accuracy: 0.9959 - val_loss: 0.0480 - val_accuracy: 0.9921 - epoch_time: 2.1683\n",
            "Epoch 118/500\n",
            "179/179 [==============================] - 2s 12ms/step - loss: 0.0201 - accuracy: 0.9939 - val_loss: 0.0441 - val_accuracy: 0.9889 - epoch_time: 2.0657\n",
            "Epoch 119/500\n",
            "179/179 [==============================] - 2s 12ms/step - loss: 0.0152 - accuracy: 0.9953 - val_loss: 0.0444 - val_accuracy: 0.9913 - epoch_time: 2.0000\n",
            "Epoch 120/500\n",
            "179/179 [==============================] - 2s 12ms/step - loss: 0.0125 - accuracy: 0.9959 - val_loss: 0.0539 - val_accuracy: 0.9913 - epoch_time: 2.0294\n",
            "Epoch 121/500\n",
            "179/179 [==============================] - 2s 13ms/step - loss: 0.0143 - accuracy: 0.9956 - val_loss: 0.0461 - val_accuracy: 0.9917 - epoch_time: 2.2177\n",
            "Epoch 122/500\n",
            "179/179 [==============================] - 3s 16ms/step - loss: 0.0138 - accuracy: 0.9957 - val_loss: 0.0481 - val_accuracy: 0.9913 - epoch_time: 2.7763\n",
            "Epoch 123/500\n",
            "179/179 [==============================] - 2s 12ms/step - loss: 0.0126 - accuracy: 0.9956 - val_loss: 0.0560 - val_accuracy: 0.9909 - epoch_time: 2.0028\n",
            "Epoch 124/500\n",
            "179/179 [==============================] - 2s 12ms/step - loss: 0.0191 - accuracy: 0.9947 - val_loss: 0.0396 - val_accuracy: 0.9917 - epoch_time: 2.0428\n",
            "Epoch 125/500\n",
            "179/179 [==============================] - 2s 12ms/step - loss: 0.0153 - accuracy: 0.9950 - val_loss: 0.0510 - val_accuracy: 0.9905 - epoch_time: 2.0688\n",
            "Epoch 126/500\n",
            "179/179 [==============================] - 2s 12ms/step - loss: 0.0127 - accuracy: 0.9957 - val_loss: 0.0385 - val_accuracy: 0.9917 - epoch_time: 2.0679\n",
            "Epoch 127/500\n",
            "179/179 [==============================] - 2s 13ms/step - loss: 0.0127 - accuracy: 0.9960 - val_loss: 0.0441 - val_accuracy: 0.9925 - epoch_time: 2.3054\n",
            "Epoch 128/500\n",
            "179/179 [==============================] - 3s 15ms/step - loss: 0.0116 - accuracy: 0.9962 - val_loss: 0.0579 - val_accuracy: 0.9901 - epoch_time: 2.6822\n",
            "Epoch 129/500\n",
            "179/179 [==============================] - 2s 12ms/step - loss: 0.0134 - accuracy: 0.9957 - val_loss: 0.0446 - val_accuracy: 0.9921 - epoch_time: 2.0360\n",
            "Epoch 130/500\n",
            "179/179 [==============================] - 2s 12ms/step - loss: 0.0127 - accuracy: 0.9959 - val_loss: 0.0468 - val_accuracy: 0.9917 - epoch_time: 2.0624\n",
            "Epoch 131/500\n",
            "179/179 [==============================] - 2s 12ms/step - loss: 0.0127 - accuracy: 0.9963 - val_loss: 0.0433 - val_accuracy: 0.9917 - epoch_time: 2.0458\n",
            "Epoch 132/500\n",
            "179/179 [==============================] - 2s 12ms/step - loss: 0.0108 - accuracy: 0.9968 - val_loss: 0.0473 - val_accuracy: 0.9921 - epoch_time: 2.0327\n",
            "Epoch 133/500\n",
            "179/179 [==============================] - 3s 14ms/step - loss: 0.0124 - accuracy: 0.9961 - val_loss: 0.0420 - val_accuracy: 0.9925 - epoch_time: 2.4449\n",
            "Epoch 134/500\n",
            "179/179 [==============================] - 3s 15ms/step - loss: 0.0124 - accuracy: 0.9961 - val_loss: 0.0479 - val_accuracy: 0.9933 - epoch_time: 2.5661\n",
            "Epoch 135/500\n",
            "179/179 [==============================] - 2s 12ms/step - loss: 0.0113 - accuracy: 0.9968 - val_loss: 0.0422 - val_accuracy: 0.9909 - epoch_time: 2.0616\n",
            "Epoch 136/500\n",
            "179/179 [==============================] - 2s 12ms/step - loss: 0.0152 - accuracy: 0.9949 - val_loss: 0.0494 - val_accuracy: 0.9909 - epoch_time: 2.0426\n",
            "Epoch 137/500\n",
            "179/179 [==============================] - 2s 12ms/step - loss: 0.0122 - accuracy: 0.9961 - val_loss: 0.0490 - val_accuracy: 0.9921 - epoch_time: 2.0239\n",
            "Epoch 138/500\n",
            "179/179 [==============================] - 2s 12ms/step - loss: 0.0105 - accuracy: 0.9966 - val_loss: 0.0422 - val_accuracy: 0.9909 - epoch_time: 2.0149\n",
            "Epoch 139/500\n",
            "179/179 [==============================] - 3s 15ms/step - loss: 0.0120 - accuracy: 0.9968 - val_loss: 0.0434 - val_accuracy: 0.9905 - epoch_time: 2.5002\n",
            "Epoch 140/500\n",
            "179/179 [==============================] - 3s 14ms/step - loss: 0.0109 - accuracy: 0.9964 - val_loss: 0.0450 - val_accuracy: 0.9913 - epoch_time: 2.4161\n",
            "Epoch 141/500\n",
            "179/179 [==============================] - 2s 12ms/step - loss: 0.0105 - accuracy: 0.9968 - val_loss: 0.0451 - val_accuracy: 0.9917 - epoch_time: 2.0388\n",
            "Epoch 142/500\n",
            "179/179 [==============================] - 2s 12ms/step - loss: 0.0140 - accuracy: 0.9959 - val_loss: 0.0422 - val_accuracy: 0.9909 - epoch_time: 2.0132\n",
            "Epoch 143/500\n",
            "179/179 [==============================] - 2s 12ms/step - loss: 0.0400 - accuracy: 0.9888 - val_loss: 0.0481 - val_accuracy: 0.9901 - epoch_time: 2.0635\n",
            "Epoch 144/500\n",
            "179/179 [==============================] - 2s 12ms/step - loss: 0.0189 - accuracy: 0.9946 - val_loss: 0.0492 - val_accuracy: 0.9917 - epoch_time: 2.0405\n",
            "Epoch 145/500\n",
            "179/179 [==============================] - 3s 15ms/step - loss: 0.0150 - accuracy: 0.9948 - val_loss: 0.0495 - val_accuracy: 0.9921 - epoch_time: 2.6626\n",
            "Epoch 146/500\n",
            "179/179 [==============================] - 2s 14ms/step - loss: 0.0132 - accuracy: 0.9958 - val_loss: 0.0583 - val_accuracy: 0.9878 - epoch_time: 2.3515\n",
            "Epoch 147/500\n",
            "179/179 [==============================] - 2s 12ms/step - loss: 0.0123 - accuracy: 0.9963 - val_loss: 0.0467 - val_accuracy: 0.9905 - epoch_time: 2.0292\n",
            "Epoch 148/500\n",
            "179/179 [==============================] - 2s 12ms/step - loss: 0.0110 - accuracy: 0.9964 - val_loss: 0.0551 - val_accuracy: 0.9909 - epoch_time: 2.0694\n",
            "Epoch 149/500\n",
            "179/179 [==============================] - 2s 12ms/step - loss: 0.0134 - accuracy: 0.9955 - val_loss: 0.0415 - val_accuracy: 0.9925 - epoch_time: 2.0104\n",
            "Epoch 150/500\n",
            "179/179 [==============================] - 2s 12ms/step - loss: 0.0110 - accuracy: 0.9967 - val_loss: 0.0534 - val_accuracy: 0.9905 - epoch_time: 2.0242\n",
            "Epoch 151/500\n",
            "179/179 [==============================] - 3s 16ms/step - loss: 0.0113 - accuracy: 0.9964 - val_loss: 0.0453 - val_accuracy: 0.9917 - epoch_time: 2.7619\n",
            "Epoch 152/500\n",
            "179/179 [==============================] - 2s 13ms/step - loss: 0.0108 - accuracy: 0.9965 - val_loss: 0.0465 - val_accuracy: 0.9929 - epoch_time: 2.2565\n",
            "Epoch 153/500\n",
            "179/179 [==============================] - 2s 12ms/step - loss: 0.0101 - accuracy: 0.9968 - val_loss: 0.0443 - val_accuracy: 0.9921 - epoch_time: 2.0649\n",
            "Epoch 154/500\n",
            "179/179 [==============================] - 2s 12ms/step - loss: 0.0117 - accuracy: 0.9964 - val_loss: 0.0607 - val_accuracy: 0.9917 - epoch_time: 2.0406\n",
            "Epoch 155/500\n",
            "179/179 [==============================] - 2s 12ms/step - loss: 0.0094 - accuracy: 0.9975 - val_loss: 0.0444 - val_accuracy: 0.9921 - epoch_time: 2.0365\n",
            "Epoch 156/500\n",
            "179/179 [==============================] - 2s 12ms/step - loss: 0.0108 - accuracy: 0.9966 - val_loss: 0.0439 - val_accuracy: 0.9933 - epoch_time: 2.0973\n",
            "Epoch 157/500\n",
            "179/179 [==============================] - 3s 16ms/step - loss: 0.0104 - accuracy: 0.9969 - val_loss: 0.0425 - val_accuracy: 0.9921 - epoch_time: 2.7149\n",
            "Epoch 158/500\n",
            "179/179 [==============================] - 2s 12ms/step - loss: 0.0094 - accuracy: 0.9968 - val_loss: 0.0411 - val_accuracy: 0.9941 - epoch_time: 2.1379\n",
            "Epoch 159/500\n",
            "179/179 [==============================] - 2s 12ms/step - loss: 0.0089 - accuracy: 0.9970 - val_loss: 0.0455 - val_accuracy: 0.9909 - epoch_time: 2.0183\n",
            "Epoch 160/500\n",
            "179/179 [==============================] - 2s 12ms/step - loss: 0.0104 - accuracy: 0.9965 - val_loss: 0.0580 - val_accuracy: 0.9909 - epoch_time: 2.0565\n",
            "Epoch 161/500\n",
            "179/179 [==============================] - 2s 12ms/step - loss: 0.0105 - accuracy: 0.9963 - val_loss: 0.0591 - val_accuracy: 0.9905 - epoch_time: 2.1456\n",
            "Epoch 162/500\n",
            "179/179 [==============================] - 2s 13ms/step - loss: 0.0088 - accuracy: 0.9972 - val_loss: 0.0448 - val_accuracy: 0.9929 - epoch_time: 2.2070\n",
            "Epoch 163/500\n",
            "179/179 [==============================] - 3s 16ms/step - loss: 0.0106 - accuracy: 0.9962 - val_loss: 0.0446 - val_accuracy: 0.9901 - epoch_time: 2.7107\n",
            "Epoch 164/500\n",
            "179/179 [==============================] - 2s 13ms/step - loss: 0.0109 - accuracy: 0.9964 - val_loss: 0.0599 - val_accuracy: 0.9921 - epoch_time: 2.1802\n",
            "Epoch 165/500\n",
            "179/179 [==============================] - 2s 12ms/step - loss: 0.0094 - accuracy: 0.9968 - val_loss: 0.0462 - val_accuracy: 0.9921 - epoch_time: 2.0544\n",
            "Epoch 166/500\n",
            "179/179 [==============================] - 2s 12ms/step - loss: 0.0085 - accuracy: 0.9969 - val_loss: 0.0518 - val_accuracy: 0.9917 - epoch_time: 2.0804\n",
            "Epoch 167/500\n",
            "179/179 [==============================] - 2s 12ms/step - loss: 0.0091 - accuracy: 0.9973 - val_loss: 0.0544 - val_accuracy: 0.9913 - epoch_time: 2.0533\n",
            "Epoch 168/500\n",
            "179/179 [==============================] - 2s 14ms/step - loss: 0.0106 - accuracy: 0.9968 - val_loss: 0.0569 - val_accuracy: 0.9921 - epoch_time: 2.3235\n",
            "Epoch 169/500\n",
            "179/179 [==============================] - 3s 15ms/step - loss: 0.0114 - accuracy: 0.9961 - val_loss: 0.0360 - val_accuracy: 0.9921 - epoch_time: 2.6806\n",
            "Epoch 170/500\n",
            "179/179 [==============================] - 2s 12ms/step - loss: 0.0109 - accuracy: 0.9964 - val_loss: 0.0528 - val_accuracy: 0.9913 - epoch_time: 2.0126\n",
            "Epoch 171/500\n",
            "179/179 [==============================] - 2s 12ms/step - loss: 0.0097 - accuracy: 0.9969 - val_loss: 0.0506 - val_accuracy: 0.9905 - epoch_time: 2.0351\n",
            "Epoch 172/500\n",
            "179/179 [==============================] - 2s 12ms/step - loss: 0.0088 - accuracy: 0.9974 - val_loss: 0.0402 - val_accuracy: 0.9897 - epoch_time: 2.0251\n",
            "Epoch 173/500\n",
            "179/179 [==============================] - 2s 12ms/step - loss: 0.0102 - accuracy: 0.9968 - val_loss: 0.0424 - val_accuracy: 0.9921 - epoch_time: 2.0448\n",
            "Epoch 174/500\n",
            "179/179 [==============================] - 2s 14ms/step - loss: 0.0099 - accuracy: 0.9965 - val_loss: 0.0437 - val_accuracy: 0.9921 - epoch_time: 2.3612\n",
            "Epoch 175/500\n",
            "179/179 [==============================] - 3s 15ms/step - loss: 0.0091 - accuracy: 0.9972 - val_loss: 0.0393 - val_accuracy: 0.9929 - epoch_time: 2.6007\n",
            "Epoch 176/500\n",
            "179/179 [==============================] - 2s 12ms/step - loss: 0.0172 - accuracy: 0.9956 - val_loss: 0.0507 - val_accuracy: 0.9925 - epoch_time: 2.0366\n",
            "Epoch 177/500\n",
            "179/179 [==============================] - 2s 12ms/step - loss: 0.0118 - accuracy: 0.9962 - val_loss: 0.0498 - val_accuracy: 0.9929 - epoch_time: 2.0217\n",
            "Epoch 178/500\n",
            "179/179 [==============================] - 2s 12ms/step - loss: 0.0122 - accuracy: 0.9957 - val_loss: 0.0415 - val_accuracy: 0.9921 - epoch_time: 2.0318\n",
            "Epoch 179/500\n",
            "179/179 [==============================] - 2s 12ms/step - loss: 0.0091 - accuracy: 0.9972 - val_loss: 0.0472 - val_accuracy: 0.9925 - epoch_time: 2.1097\n",
            "Epoch 180/500\n",
            "179/179 [==============================] - 3s 14ms/step - loss: 0.0094 - accuracy: 0.9972 - val_loss: 0.0456 - val_accuracy: 0.9929 - epoch_time: 2.4653\n",
            "Epoch 181/500\n",
            "179/179 [==============================] - 3s 14ms/step - loss: 0.0069 - accuracy: 0.9974 - val_loss: 0.0485 - val_accuracy: 0.9937 - epoch_time: 2.5041\n",
            "Epoch 182/500\n",
            "179/179 [==============================] - 2s 12ms/step - loss: 0.0100 - accuracy: 0.9967 - val_loss: 0.0467 - val_accuracy: 0.9921 - epoch_time: 2.0619\n",
            "Epoch 183/500\n",
            "179/179 [==============================] - 2s 12ms/step - loss: 0.0101 - accuracy: 0.9967 - val_loss: 0.0452 - val_accuracy: 0.9929 - epoch_time: 2.0283\n",
            "Epoch 184/500\n",
            "179/179 [==============================] - 2s 12ms/step - loss: 0.0083 - accuracy: 0.9975 - val_loss: 0.0479 - val_accuracy: 0.9937 - epoch_time: 2.0104\n",
            "Epoch 185/500\n",
            "179/179 [==============================] - 2s 12ms/step - loss: 0.0102 - accuracy: 0.9964 - val_loss: 0.0540 - val_accuracy: 0.9913 - epoch_time: 2.0449\n",
            "Epoch 186/500\n",
            "179/179 [==============================] - 3s 14ms/step - loss: 0.0094 - accuracy: 0.9969 - val_loss: 0.0421 - val_accuracy: 0.9929 - epoch_time: 2.4912\n",
            "Epoch 187/500\n",
            "179/179 [==============================] - 3s 14ms/step - loss: 0.0094 - accuracy: 0.9971 - val_loss: 0.0387 - val_accuracy: 0.9921 - epoch_time: 2.4840\n",
            "Epoch 188/500\n",
            "179/179 [==============================] - 2s 12ms/step - loss: 0.0079 - accuracy: 0.9976 - val_loss: 0.0466 - val_accuracy: 0.9929 - epoch_time: 1.9990\n",
            "Epoch 189/500\n",
            "179/179 [==============================] - 2s 12ms/step - loss: 0.0090 - accuracy: 0.9970 - val_loss: 0.0455 - val_accuracy: 0.9925 - epoch_time: 1.9768\n",
            "Epoch 190/500\n",
            "179/179 [==============================] - 2s 12ms/step - loss: 0.0102 - accuracy: 0.9971 - val_loss: 0.0523 - val_accuracy: 0.9929 - epoch_time: 2.0203\n",
            "Epoch 191/500\n",
            "179/179 [==============================] - 2s 12ms/step - loss: 0.0098 - accuracy: 0.9967 - val_loss: 0.0529 - val_accuracy: 0.9937 - epoch_time: 2.0290\n",
            "Epoch 192/500\n",
            "179/179 [==============================] - 3s 15ms/step - loss: 0.0114 - accuracy: 0.9963 - val_loss: 0.0503 - val_accuracy: 0.9917 - epoch_time: 2.5624\n",
            "Epoch 193/500\n",
            "179/179 [==============================] - 3s 14ms/step - loss: 0.0088 - accuracy: 0.9967 - val_loss: 0.0521 - val_accuracy: 0.9917 - epoch_time: 2.4487\n",
            "Epoch 194/500\n",
            "179/179 [==============================] - 2s 12ms/step - loss: 0.0102 - accuracy: 0.9968 - val_loss: 0.0516 - val_accuracy: 0.9913 - epoch_time: 2.0258\n",
            "Epoch 195/500\n",
            "179/179 [==============================] - 2s 12ms/step - loss: 0.0081 - accuracy: 0.9975 - val_loss: 0.0412 - val_accuracy: 0.9925 - epoch_time: 2.0766\n",
            "Epoch 196/500\n",
            "179/179 [==============================] - 2s 12ms/step - loss: 0.0084 - accuracy: 0.9974 - val_loss: 0.0383 - val_accuracy: 0.9929 - epoch_time: 2.0765\n"
          ]
        }
      ]
    },
    {
      "cell_type": "code",
      "metadata": {
        "id": "ylJKm4n7ppeJ",
        "colab": {
          "base_uri": "https://localhost:8080/"
        },
        "outputId": "7fb587da-fb30-4f14-99cc-37ec205d82ab"
      },
      "source": [
        "sensor = \"sensor3\"\n",
        "time_callback = TimeHistory()\n",
        "model_sensor3 = creatModel()\n",
        "model_save, checkpoint, history_cb, Estop = setCallbacks(\"sensor3\")\n",
        "history_sensor3 = model_sensor3.fit(X_train_sensor3, y_train_sensor3,\n",
        "                                    batch_size = 128, epochs = 500,\n",
        "                                    validation_split = 0.1,\n",
        "                                    verbose = 1,\n",
        "                                    callbacks = [time_callback, model_save, checkpoint, history_cb, Estop])\n",
        "                                    # class_weight= class_weights)#"
      ],
      "execution_count": null,
      "outputs": [
        {
          "output_type": "stream",
          "name": "stdout",
          "text": [
            "Epoch 1/500\n",
            "179/179 [==============================] - 9s 21ms/step - loss: 0.3477 - accuracy: 0.8771 - val_loss: 0.2743 - val_accuracy: 0.9143 - epoch_time: 8.8834\n",
            "Epoch 2/500\n",
            "179/179 [==============================] - 2s 12ms/step - loss: 0.2340 - accuracy: 0.9235 - val_loss: 0.2269 - val_accuracy: 0.9262 - epoch_time: 1.8857\n",
            "Epoch 3/500\n",
            "179/179 [==============================] - 2s 12ms/step - loss: 0.1986 - accuracy: 0.9354 - val_loss: 0.1901 - val_accuracy: 0.9412 - epoch_time: 1.9559\n",
            "Epoch 4/500\n",
            "179/179 [==============================] - 2s 12ms/step - loss: 0.1816 - accuracy: 0.9403 - val_loss: 0.1844 - val_accuracy: 0.9443 - epoch_time: 1.9067\n",
            "Epoch 5/500\n",
            "179/179 [==============================] - 2s 12ms/step - loss: 0.1686 - accuracy: 0.9438 - val_loss: 0.1786 - val_accuracy: 0.9455 - epoch_time: 1.9134\n",
            "Epoch 6/500\n",
            "179/179 [==============================] - 3s 16ms/step - loss: 0.1560 - accuracy: 0.9501 - val_loss: 0.1721 - val_accuracy: 0.9439 - epoch_time: 2.6751\n",
            "Epoch 7/500\n",
            "179/179 [==============================] - 2s 13ms/step - loss: 0.1598 - accuracy: 0.9477 - val_loss: 0.1568 - val_accuracy: 0.9522 - epoch_time: 2.1096\n",
            "Epoch 8/500\n",
            "179/179 [==============================] - 2s 12ms/step - loss: 0.1421 - accuracy: 0.9547 - val_loss: 0.1980 - val_accuracy: 0.9428 - epoch_time: 1.9758\n",
            "Epoch 9/500\n",
            "179/179 [==============================] - 2s 12ms/step - loss: 0.1345 - accuracy: 0.9569 - val_loss: 0.1530 - val_accuracy: 0.9546 - epoch_time: 1.9381\n",
            "Epoch 10/500\n",
            "179/179 [==============================] - 2s 11ms/step - loss: 0.1352 - accuracy: 0.9573 - val_loss: 0.1542 - val_accuracy: 0.9514 - epoch_time: 1.9412\n",
            "Epoch 11/500\n",
            "179/179 [==============================] - 2s 13ms/step - loss: 0.1306 - accuracy: 0.9583 - val_loss: 0.1457 - val_accuracy: 0.9530 - epoch_time: 2.0237\n",
            "Epoch 12/500\n",
            "179/179 [==============================] - 3s 16ms/step - loss: 0.1313 - accuracy: 0.9581 - val_loss: 0.1502 - val_accuracy: 0.9522 - epoch_time: 2.8166\n",
            "Epoch 13/500\n",
            "179/179 [==============================] - 2s 12ms/step - loss: 0.1300 - accuracy: 0.9586 - val_loss: 0.1346 - val_accuracy: 0.9601 - epoch_time: 1.9901\n",
            "Epoch 14/500\n",
            "179/179 [==============================] - 2s 11ms/step - loss: 0.1191 - accuracy: 0.9620 - val_loss: 0.1466 - val_accuracy: 0.9554 - epoch_time: 1.9543\n",
            "Epoch 15/500\n",
            "179/179 [==============================] - 2s 11ms/step - loss: 0.1186 - accuracy: 0.9626 - val_loss: 0.1605 - val_accuracy: 0.9503 - epoch_time: 1.9067\n",
            "Epoch 16/500\n",
            "179/179 [==============================] - 2s 12ms/step - loss: 0.1153 - accuracy: 0.9634 - val_loss: 0.1615 - val_accuracy: 0.9550 - epoch_time: 1.9908\n",
            "Epoch 17/500\n",
            "179/179 [==============================] - 2s 13ms/step - loss: 0.1191 - accuracy: 0.9636 - val_loss: 0.1385 - val_accuracy: 0.9566 - epoch_time: 2.1419\n",
            "Epoch 18/500\n",
            "179/179 [==============================] - 4s 21ms/step - loss: 0.1143 - accuracy: 0.9642 - val_loss: 0.1272 - val_accuracy: 0.9582 - epoch_time: 2.7043\n",
            "Epoch 19/500\n",
            "179/179 [==============================] - 2s 11ms/step - loss: 0.1099 - accuracy: 0.9669 - val_loss: 0.1523 - val_accuracy: 0.9507 - epoch_time: 1.9532\n",
            "Epoch 20/500\n",
            "179/179 [==============================] - 2s 11ms/step - loss: 0.1111 - accuracy: 0.9652 - val_loss: 0.1299 - val_accuracy: 0.9601 - epoch_time: 1.9263\n",
            "Epoch 21/500\n",
            "179/179 [==============================] - 2s 12ms/step - loss: 0.1109 - accuracy: 0.9656 - val_loss: 0.1517 - val_accuracy: 0.9582 - epoch_time: 2.0048\n",
            "Epoch 22/500\n",
            "179/179 [==============================] - 2s 11ms/step - loss: 0.1094 - accuracy: 0.9659 - val_loss: 0.1474 - val_accuracy: 0.9585 - epoch_time: 1.9148\n",
            "Epoch 23/500\n",
            "179/179 [==============================] - 3s 14ms/step - loss: 0.1082 - accuracy: 0.9667 - val_loss: 0.1481 - val_accuracy: 0.9617 - epoch_time: 2.4158\n",
            "Epoch 24/500\n",
            "179/179 [==============================] - 3s 19ms/step - loss: 0.1058 - accuracy: 0.9676 - val_loss: 0.1240 - val_accuracy: 0.9621 - epoch_time: 2.4568\n",
            "Epoch 25/500\n",
            "179/179 [==============================] - 2s 11ms/step - loss: 0.1125 - accuracy: 0.9657 - val_loss: 0.1302 - val_accuracy: 0.9641 - epoch_time: 1.9159\n",
            "Epoch 26/500\n",
            "179/179 [==============================] - 2s 11ms/step - loss: 0.1021 - accuracy: 0.9672 - val_loss: 0.1435 - val_accuracy: 0.9609 - epoch_time: 1.8921\n",
            "Epoch 27/500\n",
            "179/179 [==============================] - 2s 11ms/step - loss: 0.1011 - accuracy: 0.9680 - val_loss: 0.1342 - val_accuracy: 0.9625 - epoch_time: 1.9218\n",
            "Epoch 28/500\n",
            "179/179 [==============================] - 2s 12ms/step - loss: 0.0998 - accuracy: 0.9683 - val_loss: 0.1328 - val_accuracy: 0.9649 - epoch_time: 1.9752\n",
            "Epoch 29/500\n",
            "179/179 [==============================] - 3s 15ms/step - loss: 0.1003 - accuracy: 0.9688 - val_loss: 0.1320 - val_accuracy: 0.9633 - epoch_time: 2.5679\n",
            "Epoch 30/500\n",
            "179/179 [==============================] - 2s 13ms/step - loss: 0.0984 - accuracy: 0.9685 - val_loss: 0.1254 - val_accuracy: 0.9653 - epoch_time: 2.2700\n",
            "Epoch 31/500\n",
            "179/179 [==============================] - 2s 11ms/step - loss: 0.0975 - accuracy: 0.9700 - val_loss: 0.1301 - val_accuracy: 0.9605 - epoch_time: 1.9512\n",
            "Epoch 32/500\n",
            "179/179 [==============================] - 2s 11ms/step - loss: 0.0972 - accuracy: 0.9688 - val_loss: 0.1272 - val_accuracy: 0.9641 - epoch_time: 1.9407\n",
            "Epoch 33/500\n",
            "179/179 [==============================] - 2s 11ms/step - loss: 0.0932 - accuracy: 0.9707 - val_loss: 0.1279 - val_accuracy: 0.9657 - epoch_time: 1.9172\n",
            "Epoch 34/500\n",
            "179/179 [==============================] - 2s 11ms/step - loss: 0.0939 - accuracy: 0.9710 - val_loss: 0.1300 - val_accuracy: 0.9672 - epoch_time: 1.9440\n",
            "Epoch 35/500\n",
            "179/179 [==============================] - 3s 19ms/step - loss: 0.0950 - accuracy: 0.9702 - val_loss: 0.1204 - val_accuracy: 0.9637 - epoch_time: 2.5552\n",
            "Epoch 36/500\n",
            "179/179 [==============================] - 2s 12ms/step - loss: 0.0917 - accuracy: 0.9720 - val_loss: 0.1359 - val_accuracy: 0.9625 - epoch_time: 2.0599\n",
            "Epoch 37/500\n",
            "179/179 [==============================] - 2s 11ms/step - loss: 0.0927 - accuracy: 0.9710 - val_loss: 0.1273 - val_accuracy: 0.9617 - epoch_time: 1.9670\n",
            "Epoch 38/500\n",
            "179/179 [==============================] - 2s 11ms/step - loss: 0.0912 - accuracy: 0.9712 - val_loss: 0.1317 - val_accuracy: 0.9621 - epoch_time: 1.9481\n",
            "Epoch 39/500\n",
            "179/179 [==============================] - 2s 11ms/step - loss: 0.0888 - accuracy: 0.9727 - val_loss: 0.1210 - val_accuracy: 0.9668 - epoch_time: 1.9533\n",
            "Epoch 40/500\n",
            "179/179 [==============================] - 3s 17ms/step - loss: 0.0917 - accuracy: 0.9713 - val_loss: 0.1151 - val_accuracy: 0.9645 - epoch_time: 2.0978\n",
            "Epoch 41/500\n",
            "179/179 [==============================] - 3s 14ms/step - loss: 0.0893 - accuracy: 0.9718 - val_loss: 0.1275 - val_accuracy: 0.9649 - epoch_time: 2.4225\n",
            "Epoch 42/500\n",
            "179/179 [==============================] - 2s 12ms/step - loss: 0.0873 - accuracy: 0.9729 - val_loss: 0.1101 - val_accuracy: 0.9692 - epoch_time: 1.9436\n",
            "Epoch 43/500\n",
            "179/179 [==============================] - 2s 12ms/step - loss: 0.0868 - accuracy: 0.9734 - val_loss: 0.1166 - val_accuracy: 0.9653 - epoch_time: 1.9732\n",
            "Epoch 44/500\n",
            "179/179 [==============================] - 2s 12ms/step - loss: 0.0847 - accuracy: 0.9737 - val_loss: 0.1148 - val_accuracy: 0.9641 - epoch_time: 2.0066\n",
            "Epoch 45/500\n",
            "179/179 [==============================] - 2s 11ms/step - loss: 0.0847 - accuracy: 0.9745 - val_loss: 0.1114 - val_accuracy: 0.9633 - epoch_time: 1.9382\n",
            "Epoch 46/500\n",
            "179/179 [==============================] - 2s 14ms/step - loss: 0.0815 - accuracy: 0.9748 - val_loss: 0.1117 - val_accuracy: 0.9672 - epoch_time: 2.3867\n",
            "Epoch 47/500\n",
            "179/179 [==============================] - 3s 15ms/step - loss: 0.0837 - accuracy: 0.9742 - val_loss: 0.1191 - val_accuracy: 0.9676 - epoch_time: 2.5350\n",
            "Epoch 48/500\n",
            "179/179 [==============================] - 2s 11ms/step - loss: 0.0801 - accuracy: 0.9753 - val_loss: 0.1245 - val_accuracy: 0.9660 - epoch_time: 1.9166\n",
            "Epoch 49/500\n",
            "179/179 [==============================] - 2s 12ms/step - loss: 0.0817 - accuracy: 0.9747 - val_loss: 0.1143 - val_accuracy: 0.9680 - epoch_time: 1.9782\n",
            "Epoch 50/500\n",
            "179/179 [==============================] - 2s 11ms/step - loss: 0.0785 - accuracy: 0.9753 - val_loss: 0.1277 - val_accuracy: 0.9641 - epoch_time: 1.9512\n",
            "Epoch 51/500\n",
            "179/179 [==============================] - 2s 11ms/step - loss: 0.0800 - accuracy: 0.9750 - val_loss: 0.1109 - val_accuracy: 0.9664 - epoch_time: 1.9299\n",
            "Epoch 52/500\n",
            "179/179 [==============================] - 2s 14ms/step - loss: 0.0775 - accuracy: 0.9752 - val_loss: 0.1175 - val_accuracy: 0.9621 - epoch_time: 2.3738\n",
            "Epoch 53/500\n",
            "179/179 [==============================] - 3s 15ms/step - loss: 0.0763 - accuracy: 0.9764 - val_loss: 0.1254 - val_accuracy: 0.9680 - epoch_time: 2.5464\n",
            "Epoch 54/500\n",
            "179/179 [==============================] - 2s 12ms/step - loss: 0.0757 - accuracy: 0.9755 - val_loss: 0.1265 - val_accuracy: 0.9700 - epoch_time: 1.9924\n",
            "Epoch 55/500\n",
            "179/179 [==============================] - 2s 12ms/step - loss: 0.0744 - accuracy: 0.9770 - val_loss: 0.1364 - val_accuracy: 0.9558 - epoch_time: 1.9749\n",
            "Epoch 56/500\n",
            "179/179 [==============================] - 2s 12ms/step - loss: 0.0927 - accuracy: 0.9705 - val_loss: 0.1124 - val_accuracy: 0.9684 - epoch_time: 2.0072\n",
            "Epoch 57/500\n",
            "179/179 [==============================] - 2s 12ms/step - loss: 0.0825 - accuracy: 0.9740 - val_loss: 0.1122 - val_accuracy: 0.9688 - epoch_time: 2.0382\n",
            "Epoch 58/500\n",
            "179/179 [==============================] - 3s 14ms/step - loss: 0.0815 - accuracy: 0.9736 - val_loss: 0.1193 - val_accuracy: 0.9657 - epoch_time: 2.4617\n",
            "Epoch 59/500\n",
            "179/179 [==============================] - 3s 14ms/step - loss: 0.0733 - accuracy: 0.9768 - val_loss: 0.1261 - val_accuracy: 0.9700 - epoch_time: 2.4078\n",
            "Epoch 60/500\n",
            "179/179 [==============================] - 3s 16ms/step - loss: 0.0708 - accuracy: 0.9772 - val_loss: 0.1087 - val_accuracy: 0.9688 - epoch_time: 2.0112\n",
            "Epoch 61/500\n",
            "179/179 [==============================] - 2s 12ms/step - loss: 0.0732 - accuracy: 0.9771 - val_loss: 0.1153 - val_accuracy: 0.9704 - epoch_time: 1.9740\n",
            "Epoch 62/500\n",
            "179/179 [==============================] - 2s 12ms/step - loss: 0.0744 - accuracy: 0.9779 - val_loss: 0.1079 - val_accuracy: 0.9696 - epoch_time: 2.0141\n",
            "Epoch 63/500\n",
            "179/179 [==============================] - 2s 12ms/step - loss: 0.0699 - accuracy: 0.9780 - val_loss: 0.1037 - val_accuracy: 0.9708 - epoch_time: 1.9484\n",
            "Epoch 64/500\n",
            "179/179 [==============================] - 3s 16ms/step - loss: 0.0713 - accuracy: 0.9781 - val_loss: 0.1154 - val_accuracy: 0.9684 - epoch_time: 2.7735\n",
            "Epoch 65/500\n",
            "179/179 [==============================] - 2s 12ms/step - loss: 0.0727 - accuracy: 0.9773 - val_loss: 0.1105 - val_accuracy: 0.9680 - epoch_time: 2.0648\n",
            "Epoch 66/500\n",
            "179/179 [==============================] - 2s 12ms/step - loss: 0.0656 - accuracy: 0.9798 - val_loss: 0.1202 - val_accuracy: 0.9692 - epoch_time: 1.9914\n",
            "Epoch 67/500\n",
            "179/179 [==============================] - 2s 12ms/step - loss: 0.0682 - accuracy: 0.9786 - val_loss: 0.1075 - val_accuracy: 0.9704 - epoch_time: 1.9805\n",
            "Epoch 68/500\n",
            "179/179 [==============================] - 2s 12ms/step - loss: 0.0670 - accuracy: 0.9792 - val_loss: 0.1112 - val_accuracy: 0.9692 - epoch_time: 2.0890\n",
            "Epoch 69/500\n",
            "179/179 [==============================] - 2s 12ms/step - loss: 0.0686 - accuracy: 0.9790 - val_loss: 0.1066 - val_accuracy: 0.9712 - epoch_time: 1.9718\n",
            "Epoch 70/500\n",
            "179/179 [==============================] - 3s 16ms/step - loss: 0.0684 - accuracy: 0.9788 - val_loss: 0.1407 - val_accuracy: 0.9625 - epoch_time: 2.7636\n",
            "Epoch 71/500\n",
            "179/179 [==============================] - 2s 12ms/step - loss: 0.0665 - accuracy: 0.9798 - val_loss: 0.1210 - val_accuracy: 0.9688 - epoch_time: 2.0512\n",
            "Epoch 72/500\n",
            "179/179 [==============================] - 2s 11ms/step - loss: 0.0655 - accuracy: 0.9792 - val_loss: 0.1277 - val_accuracy: 0.9672 - epoch_time: 1.9611\n",
            "Epoch 73/500\n",
            "179/179 [==============================] - 2s 12ms/step - loss: 0.0659 - accuracy: 0.9797 - val_loss: 0.1068 - val_accuracy: 0.9720 - epoch_time: 2.0031\n",
            "Epoch 74/500\n",
            "179/179 [==============================] - 2s 12ms/step - loss: 0.0636 - accuracy: 0.9809 - val_loss: 0.1113 - val_accuracy: 0.9680 - epoch_time: 1.9856\n",
            "Epoch 75/500\n",
            "179/179 [==============================] - 2s 12ms/step - loss: 0.0622 - accuracy: 0.9803 - val_loss: 0.1145 - val_accuracy: 0.9692 - epoch_time: 1.9761\n",
            "Epoch 76/500\n",
            "179/179 [==============================] - 3s 17ms/step - loss: 0.0641 - accuracy: 0.9800 - val_loss: 0.1186 - val_accuracy: 0.9692 - epoch_time: 2.8725\n",
            "Epoch 77/500\n",
            "179/179 [==============================] - 2s 13ms/step - loss: 0.0626 - accuracy: 0.9800 - val_loss: 0.1245 - val_accuracy: 0.9704 - epoch_time: 2.1489\n",
            "Epoch 78/500\n",
            "179/179 [==============================] - 2s 12ms/step - loss: 0.0618 - accuracy: 0.9791 - val_loss: 0.1102 - val_accuracy: 0.9700 - epoch_time: 1.9926\n",
            "Epoch 79/500\n",
            "179/179 [==============================] - 2s 12ms/step - loss: 0.0630 - accuracy: 0.9806 - val_loss: 0.1124 - val_accuracy: 0.9688 - epoch_time: 2.0231\n",
            "Epoch 80/500\n",
            "179/179 [==============================] - 2s 12ms/step - loss: 0.0615 - accuracy: 0.9808 - val_loss: 0.1050 - val_accuracy: 0.9728 - epoch_time: 2.0612\n",
            "Epoch 81/500\n",
            "179/179 [==============================] - 3s 17ms/step - loss: 0.0577 - accuracy: 0.9812 - val_loss: 0.1031 - val_accuracy: 0.9704 - epoch_time: 2.1791\n",
            "Epoch 82/500\n",
            "179/179 [==============================] - 3s 15ms/step - loss: 0.0600 - accuracy: 0.9812 - val_loss: 0.1205 - val_accuracy: 0.9720 - epoch_time: 2.5768\n",
            "Epoch 83/500\n",
            "179/179 [==============================] - 2s 12ms/step - loss: 0.0605 - accuracy: 0.9812 - val_loss: 0.1107 - val_accuracy: 0.9668 - epoch_time: 2.0356\n",
            "Epoch 84/500\n",
            "179/179 [==============================] - 2s 12ms/step - loss: 0.0588 - accuracy: 0.9814 - val_loss: 0.1021 - val_accuracy: 0.9696 - epoch_time: 2.0239\n",
            "Epoch 85/500\n",
            "179/179 [==============================] - 2s 12ms/step - loss: 0.0580 - accuracy: 0.9814 - val_loss: 0.1198 - val_accuracy: 0.9700 - epoch_time: 2.0170\n",
            "Epoch 86/500\n",
            "179/179 [==============================] - 2s 12ms/step - loss: 0.0598 - accuracy: 0.9816 - val_loss: 0.1151 - val_accuracy: 0.9692 - epoch_time: 1.9877\n",
            "Epoch 87/500\n",
            "179/179 [==============================] - 3s 15ms/step - loss: 0.0560 - accuracy: 0.9824 - val_loss: 0.1227 - val_accuracy: 0.9704 - epoch_time: 2.6211\n",
            "Epoch 88/500\n",
            "179/179 [==============================] - 2s 13ms/step - loss: 0.0553 - accuracy: 0.9824 - val_loss: 0.1385 - val_accuracy: 0.9724 - epoch_time: 2.3180\n",
            "Epoch 89/500\n",
            "179/179 [==============================] - 2s 12ms/step - loss: 0.0567 - accuracy: 0.9824 - val_loss: 0.1179 - val_accuracy: 0.9696 - epoch_time: 2.0366\n",
            "Epoch 90/500\n",
            "179/179 [==============================] - 2s 12ms/step - loss: 0.0572 - accuracy: 0.9815 - val_loss: 0.1126 - val_accuracy: 0.9704 - epoch_time: 2.0058\n",
            "Epoch 91/500\n",
            "179/179 [==============================] - 3s 16ms/step - loss: 0.0571 - accuracy: 0.9816 - val_loss: 0.1013 - val_accuracy: 0.9708 - epoch_time: 2.0297\n",
            "Epoch 92/500\n",
            "179/179 [==============================] - 2s 13ms/step - loss: 0.0551 - accuracy: 0.9827 - val_loss: 0.1141 - val_accuracy: 0.9732 - epoch_time: 2.1385\n",
            "Epoch 93/500\n",
            "179/179 [==============================] - 3s 16ms/step - loss: 0.0566 - accuracy: 0.9821 - val_loss: 0.1224 - val_accuracy: 0.9712 - epoch_time: 2.7295\n",
            "Epoch 94/500\n",
            "179/179 [==============================] - 2s 12ms/step - loss: 0.0564 - accuracy: 0.9813 - val_loss: 0.1202 - val_accuracy: 0.9696 - epoch_time: 2.0549\n",
            "Epoch 95/500\n",
            "179/179 [==============================] - 2s 12ms/step - loss: 0.0557 - accuracy: 0.9818 - val_loss: 0.1016 - val_accuracy: 0.9735 - epoch_time: 1.9966\n",
            "Epoch 96/500\n",
            "179/179 [==============================] - 2s 12ms/step - loss: 0.0551 - accuracy: 0.9823 - val_loss: 0.1143 - val_accuracy: 0.9728 - epoch_time: 2.0477\n",
            "Epoch 97/500\n",
            "179/179 [==============================] - 2s 11ms/step - loss: 0.0552 - accuracy: 0.9826 - val_loss: 0.1278 - val_accuracy: 0.9732 - epoch_time: 1.9525\n",
            "Epoch 98/500\n",
            "179/179 [==============================] - 2s 12ms/step - loss: 0.0534 - accuracy: 0.9825 - val_loss: 0.1224 - val_accuracy: 0.9700 - epoch_time: 2.0500\n",
            "Epoch 99/500\n",
            "179/179 [==============================] - 3s 16ms/step - loss: 0.0977 - accuracy: 0.9690 - val_loss: 0.1202 - val_accuracy: 0.9692 - epoch_time: 2.7145\n",
            "Epoch 100/500\n",
            "179/179 [==============================] - 2s 12ms/step - loss: 0.0603 - accuracy: 0.9803 - val_loss: 0.1026 - val_accuracy: 0.9724 - epoch_time: 2.0258\n",
            "Epoch 101/500\n",
            "179/179 [==============================] - 3s 16ms/step - loss: 0.0635 - accuracy: 0.9803 - val_loss: 0.0959 - val_accuracy: 0.9720 - epoch_time: 2.0653\n",
            "Epoch 102/500\n",
            "179/179 [==============================] - 2s 12ms/step - loss: 0.0537 - accuracy: 0.9832 - val_loss: 0.1152 - val_accuracy: 0.9700 - epoch_time: 1.9936\n",
            "Epoch 103/500\n",
            "179/179 [==============================] - 2s 12ms/step - loss: 0.0515 - accuracy: 0.9835 - val_loss: 0.1131 - val_accuracy: 0.9684 - epoch_time: 1.9892\n",
            "Epoch 104/500\n",
            "179/179 [==============================] - 3s 15ms/step - loss: 0.0479 - accuracy: 0.9846 - val_loss: 0.1120 - val_accuracy: 0.9708 - epoch_time: 2.4614\n",
            "Epoch 105/500\n",
            "179/179 [==============================] - 3s 14ms/step - loss: 0.0607 - accuracy: 0.9806 - val_loss: 0.1075 - val_accuracy: 0.9708 - epoch_time: 2.5033\n",
            "Epoch 106/500\n",
            "179/179 [==============================] - 2s 11ms/step - loss: 0.0509 - accuracy: 0.9841 - val_loss: 0.1043 - val_accuracy: 0.9720 - epoch_time: 1.9355\n",
            "Epoch 107/500\n",
            "179/179 [==============================] - 2s 12ms/step - loss: 0.0502 - accuracy: 0.9838 - val_loss: 0.0996 - val_accuracy: 0.9716 - epoch_time: 1.9951\n",
            "Epoch 108/500\n",
            "179/179 [==============================] - 2s 12ms/step - loss: 0.0505 - accuracy: 0.9835 - val_loss: 0.1094 - val_accuracy: 0.9708 - epoch_time: 1.9768\n",
            "Epoch 109/500\n",
            "179/179 [==============================] - 2s 12ms/step - loss: 0.0498 - accuracy: 0.9844 - val_loss: 0.0986 - val_accuracy: 0.9732 - epoch_time: 2.0465\n",
            "Epoch 110/500\n",
            "179/179 [==============================] - 3s 15ms/step - loss: 0.0485 - accuracy: 0.9840 - val_loss: 0.1177 - val_accuracy: 0.9728 - epoch_time: 2.5835\n",
            "Epoch 111/500\n",
            "179/179 [==============================] - 3s 14ms/step - loss: 0.0469 - accuracy: 0.9845 - val_loss: 0.1140 - val_accuracy: 0.9712 - epoch_time: 2.4590\n",
            "Epoch 112/500\n",
            "179/179 [==============================] - 2s 12ms/step - loss: 0.0469 - accuracy: 0.9849 - val_loss: 0.1173 - val_accuracy: 0.9724 - epoch_time: 1.9781\n",
            "Epoch 113/500\n",
            "179/179 [==============================] - 2s 12ms/step - loss: 0.0486 - accuracy: 0.9840 - val_loss: 0.1092 - val_accuracy: 0.9732 - epoch_time: 1.9790\n",
            "Epoch 114/500\n",
            "179/179 [==============================] - 2s 11ms/step - loss: 0.0472 - accuracy: 0.9839 - val_loss: 0.1080 - val_accuracy: 0.9732 - epoch_time: 1.9732\n",
            "Epoch 115/500\n",
            "179/179 [==============================] - 2s 12ms/step - loss: 0.0474 - accuracy: 0.9841 - val_loss: 0.1229 - val_accuracy: 0.9716 - epoch_time: 2.0060\n",
            "Epoch 116/500\n",
            "179/179 [==============================] - 3s 14ms/step - loss: 0.0456 - accuracy: 0.9855 - val_loss: 0.1166 - val_accuracy: 0.9700 - epoch_time: 2.4413\n",
            "Epoch 117/500\n",
            "179/179 [==============================] - 3s 15ms/step - loss: 0.0481 - accuracy: 0.9837 - val_loss: 0.1134 - val_accuracy: 0.9728 - epoch_time: 2.6241\n",
            "Epoch 118/500\n",
            "179/179 [==============================] - 2s 12ms/step - loss: 0.0440 - accuracy: 0.9851 - val_loss: 0.1120 - val_accuracy: 0.9704 - epoch_time: 2.0890\n",
            "Epoch 119/500\n",
            "179/179 [==============================] - 2s 12ms/step - loss: 0.0478 - accuracy: 0.9845 - val_loss: 0.1110 - val_accuracy: 0.9712 - epoch_time: 2.0776\n",
            "Epoch 120/500\n",
            "179/179 [==============================] - 2s 12ms/step - loss: 0.0460 - accuracy: 0.9846 - val_loss: 0.1080 - val_accuracy: 0.9720 - epoch_time: 1.9968\n",
            "Epoch 121/500\n",
            "179/179 [==============================] - 2s 12ms/step - loss: 0.0465 - accuracy: 0.9858 - val_loss: 0.1025 - val_accuracy: 0.9724 - epoch_time: 2.0150\n",
            "Epoch 122/500\n",
            "179/179 [==============================] - 3s 15ms/step - loss: 0.0434 - accuracy: 0.9859 - val_loss: 0.1057 - val_accuracy: 0.9747 - epoch_time: 2.5698\n",
            "Epoch 123/500\n",
            "179/179 [==============================] - 3s 14ms/step - loss: 0.0470 - accuracy: 0.9839 - val_loss: 0.1094 - val_accuracy: 0.9704 - epoch_time: 2.4942\n",
            "Epoch 124/500\n",
            "179/179 [==============================] - 2s 12ms/step - loss: 0.0448 - accuracy: 0.9854 - val_loss: 0.0988 - val_accuracy: 0.9735 - epoch_time: 1.9915\n",
            "Epoch 125/500\n",
            "179/179 [==============================] - 2s 12ms/step - loss: 0.0432 - accuracy: 0.9857 - val_loss: 0.1342 - val_accuracy: 0.9696 - epoch_time: 2.0049\n",
            "Epoch 126/500\n",
            "179/179 [==============================] - 2s 12ms/step - loss: 0.0443 - accuracy: 0.9847 - val_loss: 0.1064 - val_accuracy: 0.9720 - epoch_time: 2.0788\n",
            "Epoch 127/500\n",
            "179/179 [==============================] - 2s 12ms/step - loss: 0.0509 - accuracy: 0.9833 - val_loss: 0.1216 - val_accuracy: 0.9720 - epoch_time: 2.0163\n",
            "Epoch 128/500\n",
            "179/179 [==============================] - 3s 15ms/step - loss: 0.0421 - accuracy: 0.9857 - val_loss: 0.1161 - val_accuracy: 0.9732 - epoch_time: 2.4963\n",
            "Epoch 129/500\n",
            "179/179 [==============================] - 2s 14ms/step - loss: 0.0439 - accuracy: 0.9856 - val_loss: 0.1232 - val_accuracy: 0.9720 - epoch_time: 2.3856\n",
            "Epoch 130/500\n",
            "179/179 [==============================] - 2s 11ms/step - loss: 0.0423 - accuracy: 0.9857 - val_loss: 0.1062 - val_accuracy: 0.9735 - epoch_time: 1.9659\n",
            "Epoch 131/500\n",
            "179/179 [==============================] - 2s 12ms/step - loss: 0.0443 - accuracy: 0.9853 - val_loss: 0.1051 - val_accuracy: 0.9751 - epoch_time: 1.9861\n",
            "Epoch 132/500\n",
            "179/179 [==============================] - 3s 16ms/step - loss: 0.0417 - accuracy: 0.9864 - val_loss: 0.0941 - val_accuracy: 0.9728 - epoch_time: 1.9658\n",
            "Epoch 133/500\n",
            "179/179 [==============================] - 2s 12ms/step - loss: 0.0396 - accuracy: 0.9864 - val_loss: 0.1096 - val_accuracy: 0.9732 - epoch_time: 2.0154\n",
            "Epoch 134/500\n",
            "179/179 [==============================] - 3s 15ms/step - loss: 0.0403 - accuracy: 0.9860 - val_loss: 0.1046 - val_accuracy: 0.9739 - epoch_time: 2.6195\n",
            "Epoch 135/500\n",
            "179/179 [==============================] - 2s 13ms/step - loss: 0.0407 - accuracy: 0.9870 - val_loss: 0.0966 - val_accuracy: 0.9739 - epoch_time: 2.2133\n",
            "Epoch 136/500\n",
            "179/179 [==============================] - 2s 12ms/step - loss: 0.0424 - accuracy: 0.9856 - val_loss: 0.1120 - val_accuracy: 0.9739 - epoch_time: 2.0261\n",
            "Epoch 137/500\n",
            "179/179 [==============================] - 2s 12ms/step - loss: 0.0400 - accuracy: 0.9860 - val_loss: 0.0971 - val_accuracy: 0.9763 - epoch_time: 2.0399\n",
            "Epoch 138/500\n",
            "179/179 [==============================] - 2s 12ms/step - loss: 0.0384 - accuracy: 0.9868 - val_loss: 0.1244 - val_accuracy: 0.9771 - epoch_time: 2.0596\n",
            "Epoch 139/500\n",
            "179/179 [==============================] - 2s 12ms/step - loss: 0.0395 - accuracy: 0.9862 - val_loss: 0.1115 - val_accuracy: 0.9724 - epoch_time: 2.0409\n",
            "Epoch 140/500\n",
            "179/179 [==============================] - 3s 16ms/step - loss: 0.0367 - accuracy: 0.9877 - val_loss: 0.1128 - val_accuracy: 0.9735 - epoch_time: 2.8040\n",
            "Epoch 141/500\n",
            "179/179 [==============================] - 2s 13ms/step - loss: 0.0365 - accuracy: 0.9881 - val_loss: 0.1334 - val_accuracy: 0.9735 - epoch_time: 2.2535\n",
            "Epoch 142/500\n",
            "179/179 [==============================] - 2s 12ms/step - loss: 0.0378 - accuracy: 0.9869 - val_loss: 0.1101 - val_accuracy: 0.9751 - epoch_time: 2.1290\n",
            "Epoch 143/500\n",
            "179/179 [==============================] - 2s 12ms/step - loss: 0.0380 - accuracy: 0.9873 - val_loss: 0.1139 - val_accuracy: 0.9739 - epoch_time: 2.0866\n",
            "Epoch 144/500\n",
            "179/179 [==============================] - 2s 12ms/step - loss: 0.0381 - accuracy: 0.9869 - val_loss: 0.1001 - val_accuracy: 0.9735 - epoch_time: 2.0892\n",
            "Epoch 145/500\n",
            "179/179 [==============================] - 2s 13ms/step - loss: 0.0374 - accuracy: 0.9875 - val_loss: 0.1179 - val_accuracy: 0.9747 - epoch_time: 2.2358\n",
            "Epoch 146/500\n",
            "179/179 [==============================] - 3s 16ms/step - loss: 0.0369 - accuracy: 0.9874 - val_loss: 0.1033 - val_accuracy: 0.9755 - epoch_time: 2.7765\n",
            "Epoch 147/500\n",
            "179/179 [==============================] - 3s 16ms/step - loss: 0.0387 - accuracy: 0.9873 - val_loss: 0.0935 - val_accuracy: 0.9759 - epoch_time: 2.0978\n",
            "Epoch 148/500\n",
            "179/179 [==============================] - 2s 12ms/step - loss: 0.0386 - accuracy: 0.9869 - val_loss: 0.0968 - val_accuracy: 0.9747 - epoch_time: 2.1397\n",
            "Epoch 149/500\n",
            "179/179 [==============================] - 2s 12ms/step - loss: 0.0368 - accuracy: 0.9877 - val_loss: 0.0986 - val_accuracy: 0.9716 - epoch_time: 2.0653\n",
            "Epoch 150/500\n",
            "179/179 [==============================] - 2s 12ms/step - loss: 0.0415 - accuracy: 0.9864 - val_loss: 0.1057 - val_accuracy: 0.9751 - epoch_time: 2.1357\n",
            "Epoch 151/500\n",
            "179/179 [==============================] - 3s 15ms/step - loss: 0.0384 - accuracy: 0.9871 - val_loss: 0.1059 - val_accuracy: 0.9767 - epoch_time: 2.6278\n",
            "Epoch 152/500\n",
            "179/179 [==============================] - 3s 19ms/step - loss: 0.0361 - accuracy: 0.9870 - val_loss: 0.0887 - val_accuracy: 0.9759 - epoch_time: 2.4538\n",
            "Epoch 153/500\n",
            "179/179 [==============================] - 2s 12ms/step - loss: 0.0523 - accuracy: 0.9823 - val_loss: 0.0974 - val_accuracy: 0.9763 - epoch_time: 2.0098\n",
            "Epoch 154/500\n",
            "179/179 [==============================] - 2s 12ms/step - loss: 0.0376 - accuracy: 0.9878 - val_loss: 0.0957 - val_accuracy: 0.9739 - epoch_time: 2.0309\n",
            "Epoch 155/500\n",
            "179/179 [==============================] - 2s 12ms/step - loss: 0.0360 - accuracy: 0.9872 - val_loss: 0.0927 - val_accuracy: 0.9779 - epoch_time: 1.9966\n",
            "Epoch 156/500\n",
            "179/179 [==============================] - 3s 14ms/step - loss: 0.0390 - accuracy: 0.9869 - val_loss: 0.1015 - val_accuracy: 0.9755 - epoch_time: 2.3891\n",
            "Epoch 157/500\n",
            "179/179 [==============================] - 3s 16ms/step - loss: 0.0341 - accuracy: 0.9880 - val_loss: 0.1092 - val_accuracy: 0.9763 - epoch_time: 2.7391\n",
            "Epoch 158/500\n",
            "179/179 [==============================] - 2s 12ms/step - loss: 0.0399 - accuracy: 0.9866 - val_loss: 0.1006 - val_accuracy: 0.9755 - epoch_time: 2.0672\n",
            "Epoch 159/500\n",
            "179/179 [==============================] - 2s 12ms/step - loss: 0.0359 - accuracy: 0.9878 - val_loss: 0.1103 - val_accuracy: 0.9755 - epoch_time: 2.0641\n",
            "Epoch 160/500\n",
            "179/179 [==============================] - 2s 12ms/step - loss: 0.0341 - accuracy: 0.9884 - val_loss: 0.1038 - val_accuracy: 0.9759 - epoch_time: 2.0770\n",
            "Epoch 161/500\n",
            "179/179 [==============================] - 2s 12ms/step - loss: 0.0356 - accuracy: 0.9880 - val_loss: 0.1098 - val_accuracy: 0.9755 - epoch_time: 2.1119\n",
            "Epoch 162/500\n",
            "179/179 [==============================] - 3s 14ms/step - loss: 0.0343 - accuracy: 0.9886 - val_loss: 0.1198 - val_accuracy: 0.9771 - epoch_time: 2.4628\n",
            "Epoch 163/500\n",
            "179/179 [==============================] - 3s 15ms/step - loss: 0.0340 - accuracy: 0.9886 - val_loss: 0.1140 - val_accuracy: 0.9755 - epoch_time: 2.5930\n",
            "Epoch 164/500\n",
            "179/179 [==============================] - 2s 12ms/step - loss: 0.0310 - accuracy: 0.9892 - val_loss: 0.1425 - val_accuracy: 0.9743 - epoch_time: 2.0211\n",
            "Epoch 165/500\n",
            "179/179 [==============================] - 2s 12ms/step - loss: 0.0341 - accuracy: 0.9882 - val_loss: 0.1114 - val_accuracy: 0.9751 - epoch_time: 2.0386\n",
            "Epoch 166/500\n",
            "179/179 [==============================] - 2s 12ms/step - loss: 0.0322 - accuracy: 0.9894 - val_loss: 0.1090 - val_accuracy: 0.9751 - epoch_time: 2.1280\n",
            "Epoch 167/500\n",
            "179/179 [==============================] - 2s 12ms/step - loss: 0.0374 - accuracy: 0.9873 - val_loss: 0.1061 - val_accuracy: 0.9759 - epoch_time: 2.0858\n",
            "Epoch 168/500\n",
            "179/179 [==============================] - 3s 15ms/step - loss: 0.0313 - accuracy: 0.9890 - val_loss: 0.1005 - val_accuracy: 0.9771 - epoch_time: 2.6554\n",
            "Epoch 169/500\n",
            "179/179 [==============================] - 2s 14ms/step - loss: 0.0312 - accuracy: 0.9896 - val_loss: 0.1090 - val_accuracy: 0.9724 - epoch_time: 2.3784\n",
            "Epoch 170/500\n",
            "179/179 [==============================] - 2s 12ms/step - loss: 0.0436 - accuracy: 0.9853 - val_loss: 0.1094 - val_accuracy: 0.9747 - epoch_time: 2.0750\n",
            "Epoch 171/500\n",
            "179/179 [==============================] - 2s 12ms/step - loss: 0.0338 - accuracy: 0.9882 - val_loss: 0.1147 - val_accuracy: 0.9747 - epoch_time: 2.0290\n",
            "Epoch 172/500\n",
            "179/179 [==============================] - 2s 12ms/step - loss: 0.0326 - accuracy: 0.9894 - val_loss: 0.1177 - val_accuracy: 0.9720 - epoch_time: 2.0317\n",
            "Epoch 173/500\n",
            "179/179 [==============================] - 2s 12ms/step - loss: 0.0328 - accuracy: 0.9892 - val_loss: 0.1074 - val_accuracy: 0.9751 - epoch_time: 2.0373\n",
            "Epoch 174/500\n",
            "179/179 [==============================] - 3s 16ms/step - loss: 0.0322 - accuracy: 0.9891 - val_loss: 0.1025 - val_accuracy: 0.9779 - epoch_time: 2.7052\n",
            "Epoch 175/500\n",
            "179/179 [==============================] - 2s 13ms/step - loss: 0.0343 - accuracy: 0.9881 - val_loss: 0.1146 - val_accuracy: 0.9747 - epoch_time: 2.3030\n",
            "Epoch 176/500\n",
            "179/179 [==============================] - 2s 12ms/step - loss: 0.0324 - accuracy: 0.9888 - val_loss: 0.1118 - val_accuracy: 0.9787 - epoch_time: 1.9900\n",
            "Epoch 177/500\n",
            "179/179 [==============================] - 2s 12ms/step - loss: 0.0317 - accuracy: 0.9899 - val_loss: 0.1077 - val_accuracy: 0.9771 - epoch_time: 1.9927\n",
            "Epoch 178/500\n",
            "179/179 [==============================] - 2s 12ms/step - loss: 0.0313 - accuracy: 0.9889 - val_loss: 0.1317 - val_accuracy: 0.9779 - epoch_time: 2.0011\n",
            "Epoch 179/500\n",
            "179/179 [==============================] - 2s 12ms/step - loss: 0.0308 - accuracy: 0.9897 - val_loss: 0.1139 - val_accuracy: 0.9759 - epoch_time: 2.0848\n",
            "Epoch 180/500\n",
            "179/179 [==============================] - 3s 16ms/step - loss: 0.0309 - accuracy: 0.9902 - val_loss: 0.1070 - val_accuracy: 0.9739 - epoch_time: 2.7155\n",
            "Epoch 181/500\n",
            "179/179 [==============================] - 2s 13ms/step - loss: 0.0283 - accuracy: 0.9901 - val_loss: 0.1021 - val_accuracy: 0.9751 - epoch_time: 2.3071\n",
            "Epoch 182/500\n",
            "179/179 [==============================] - 2s 12ms/step - loss: 0.0295 - accuracy: 0.9887 - val_loss: 0.1179 - val_accuracy: 0.9767 - epoch_time: 2.0530\n",
            "Epoch 183/500\n",
            "179/179 [==============================] - 2s 12ms/step - loss: 0.0326 - accuracy: 0.9884 - val_loss: 0.1133 - val_accuracy: 0.9763 - epoch_time: 2.0407\n",
            "Epoch 184/500\n",
            "179/179 [==============================] - 2s 12ms/step - loss: 0.0302 - accuracy: 0.9885 - val_loss: 0.1207 - val_accuracy: 0.9763 - epoch_time: 2.0203\n",
            "Epoch 185/500\n",
            "179/179 [==============================] - 2s 12ms/step - loss: 0.0299 - accuracy: 0.9900 - val_loss: 0.1232 - val_accuracy: 0.9767 - epoch_time: 2.0700\n",
            "Epoch 186/500\n",
            "179/179 [==============================] - 3s 16ms/step - loss: 0.0299 - accuracy: 0.9900 - val_loss: 0.1112 - val_accuracy: 0.9763 - epoch_time: 2.7920\n",
            "Epoch 187/500\n",
            "179/179 [==============================] - 2s 13ms/step - loss: 0.0304 - accuracy: 0.9895 - val_loss: 0.0958 - val_accuracy: 0.9771 - epoch_time: 2.2901\n",
            "Epoch 188/500\n",
            "179/179 [==============================] - 2s 12ms/step - loss: 0.0331 - accuracy: 0.9891 - val_loss: 0.1256 - val_accuracy: 0.9751 - epoch_time: 2.0217\n",
            "Epoch 189/500\n",
            "179/179 [==============================] - 2s 12ms/step - loss: 0.0288 - accuracy: 0.9903 - val_loss: 0.1135 - val_accuracy: 0.9771 - epoch_time: 2.0739\n",
            "Epoch 190/500\n",
            "179/179 [==============================] - 2s 12ms/step - loss: 0.0283 - accuracy: 0.9899 - val_loss: 0.1129 - val_accuracy: 0.9743 - epoch_time: 2.0185\n",
            "Epoch 191/500\n",
            "179/179 [==============================] - 2s 12ms/step - loss: 0.0298 - accuracy: 0.9892 - val_loss: 0.1244 - val_accuracy: 0.9779 - epoch_time: 2.1235\n",
            "Epoch 192/500\n",
            "179/179 [==============================] - 3s 16ms/step - loss: 0.0319 - accuracy: 0.9894 - val_loss: 0.1070 - val_accuracy: 0.9755 - epoch_time: 2.7685\n",
            "Epoch 193/500\n",
            "179/179 [==============================] - 2s 12ms/step - loss: 0.0321 - accuracy: 0.9894 - val_loss: 0.1059 - val_accuracy: 0.9767 - epoch_time: 2.1612\n",
            "Epoch 194/500\n",
            "179/179 [==============================] - 2s 12ms/step - loss: 0.0338 - accuracy: 0.9888 - val_loss: 0.1175 - val_accuracy: 0.9755 - epoch_time: 2.0507\n",
            "Epoch 195/500\n",
            "179/179 [==============================] - 2s 12ms/step - loss: 0.0317 - accuracy: 0.9888 - val_loss: 0.1248 - val_accuracy: 0.9739 - epoch_time: 2.0977\n",
            "Epoch 196/500\n",
            "179/179 [==============================] - 2s 12ms/step - loss: 0.0262 - accuracy: 0.9911 - val_loss: 0.1019 - val_accuracy: 0.9755 - epoch_time: 2.0761\n",
            "Epoch 197/500\n",
            "179/179 [==============================] - 2s 13ms/step - loss: 0.0377 - accuracy: 0.9870 - val_loss: 0.1036 - val_accuracy: 0.9759 - epoch_time: 2.2519\n",
            "Epoch 198/500\n",
            "179/179 [==============================] - 3s 16ms/step - loss: 0.0299 - accuracy: 0.9901 - val_loss: 0.1152 - val_accuracy: 0.9767 - epoch_time: 2.7757\n",
            "Epoch 199/500\n",
            "179/179 [==============================] - 2s 12ms/step - loss: 0.0294 - accuracy: 0.9901 - val_loss: 0.1049 - val_accuracy: 0.9771 - epoch_time: 2.0320\n",
            "Epoch 200/500\n",
            "179/179 [==============================] - 2s 12ms/step - loss: 0.0275 - accuracy: 0.9908 - val_loss: 0.1118 - val_accuracy: 0.9747 - epoch_time: 2.0526\n",
            "Epoch 201/500\n",
            "179/179 [==============================] - 2s 12ms/step - loss: 0.0437 - accuracy: 0.9862 - val_loss: 0.1219 - val_accuracy: 0.9743 - epoch_time: 2.0312\n",
            "Epoch 202/500\n",
            "179/179 [==============================] - 2s 12ms/step - loss: 0.0302 - accuracy: 0.9900 - val_loss: 0.1360 - val_accuracy: 0.9755 - epoch_time: 1.9818\n",
            "Epoch 203/500\n",
            "179/179 [==============================] - 2s 13ms/step - loss: 0.0280 - accuracy: 0.9899 - val_loss: 0.1178 - val_accuracy: 0.9775 - epoch_time: 2.2667\n",
            "Epoch 204/500\n",
            "179/179 [==============================] - 3s 16ms/step - loss: 0.0277 - accuracy: 0.9901 - val_loss: 0.1186 - val_accuracy: 0.9771 - epoch_time: 2.8021\n",
            "Epoch 205/500\n",
            "179/179 [==============================] - 2s 12ms/step - loss: 0.0271 - accuracy: 0.9904 - val_loss: 0.1124 - val_accuracy: 0.9771 - epoch_time: 2.0607\n",
            "Epoch 206/500\n",
            "179/179 [==============================] - 2s 12ms/step - loss: 0.0257 - accuracy: 0.9909 - val_loss: 0.1030 - val_accuracy: 0.9767 - epoch_time: 2.0467\n",
            "Epoch 207/500\n",
            "179/179 [==============================] - 2s 12ms/step - loss: 0.0263 - accuracy: 0.9903 - val_loss: 0.1018 - val_accuracy: 0.9743 - epoch_time: 2.0834\n",
            "Epoch 208/500\n",
            "179/179 [==============================] - 2s 12ms/step - loss: 0.0296 - accuracy: 0.9897 - val_loss: 0.1009 - val_accuracy: 0.9751 - epoch_time: 2.0617\n",
            "Epoch 209/500\n",
            "179/179 [==============================] - 3s 14ms/step - loss: 0.0264 - accuracy: 0.9905 - val_loss: 0.1237 - val_accuracy: 0.9767 - epoch_time: 2.4747\n",
            "Epoch 210/500\n",
            "179/179 [==============================] - 3s 15ms/step - loss: 0.0248 - accuracy: 0.9909 - val_loss: 0.1249 - val_accuracy: 0.9743 - epoch_time: 2.6671\n",
            "Epoch 211/500\n",
            "179/179 [==============================] - 2s 12ms/step - loss: 0.0268 - accuracy: 0.9911 - val_loss: 0.1255 - val_accuracy: 0.9747 - epoch_time: 2.1079\n",
            "Epoch 212/500\n",
            "179/179 [==============================] - 2s 12ms/step - loss: 0.0263 - accuracy: 0.9908 - val_loss: 0.1231 - val_accuracy: 0.9775 - epoch_time: 2.1079\n",
            "Epoch 213/500\n",
            "179/179 [==============================] - 2s 13ms/step - loss: 0.0254 - accuracy: 0.9907 - val_loss: 0.1199 - val_accuracy: 0.9759 - epoch_time: 2.2112\n",
            "Epoch 214/500\n",
            "179/179 [==============================] - 2s 12ms/step - loss: 0.0265 - accuracy: 0.9912 - val_loss: 0.1132 - val_accuracy: 0.9771 - epoch_time: 2.1083\n",
            "Epoch 215/500\n",
            "179/179 [==============================] - 3s 16ms/step - loss: 0.0273 - accuracy: 0.9906 - val_loss: 0.1159 - val_accuracy: 0.9763 - epoch_time: 2.7508\n",
            "Epoch 216/500\n",
            "179/179 [==============================] - 3s 14ms/step - loss: 0.0242 - accuracy: 0.9915 - val_loss: 0.1079 - val_accuracy: 0.9775 - epoch_time: 2.4935\n",
            "Epoch 217/500\n",
            "179/179 [==============================] - 2s 12ms/step - loss: 0.0254 - accuracy: 0.9921 - val_loss: 0.1226 - val_accuracy: 0.9759 - epoch_time: 2.1188\n",
            "Epoch 218/500\n",
            "179/179 [==============================] - 2s 12ms/step - loss: 0.0263 - accuracy: 0.9910 - val_loss: 0.1237 - val_accuracy: 0.9771 - epoch_time: 2.0926\n",
            "Epoch 219/500\n",
            "179/179 [==============================] - 2s 12ms/step - loss: 0.0249 - accuracy: 0.9916 - val_loss: 0.1235 - val_accuracy: 0.9763 - epoch_time: 2.1066\n",
            "Epoch 220/500\n",
            "179/179 [==============================] - 2s 13ms/step - loss: 0.0243 - accuracy: 0.9919 - val_loss: 0.1133 - val_accuracy: 0.9743 - epoch_time: 2.1615\n",
            "Epoch 221/500\n",
            "179/179 [==============================] - 3s 17ms/step - loss: 0.0240 - accuracy: 0.9921 - val_loss: 0.1499 - val_accuracy: 0.9743 - epoch_time: 2.9415\n",
            "Epoch 222/500\n",
            "179/179 [==============================] - 2s 13ms/step - loss: 0.0237 - accuracy: 0.9915 - val_loss: 0.1164 - val_accuracy: 0.9735 - epoch_time: 2.2520\n",
            "Epoch 223/500\n",
            "179/179 [==============================] - 2s 12ms/step - loss: 0.0266 - accuracy: 0.9911 - val_loss: 0.1066 - val_accuracy: 0.9739 - epoch_time: 2.0320\n",
            "Epoch 224/500\n",
            "179/179 [==============================] - 2s 12ms/step - loss: 0.0261 - accuracy: 0.9909 - val_loss: 0.1164 - val_accuracy: 0.9755 - epoch_time: 2.0788\n",
            "Epoch 225/500\n",
            "179/179 [==============================] - 2s 13ms/step - loss: 0.0227 - accuracy: 0.9921 - val_loss: 0.1139 - val_accuracy: 0.9763 - epoch_time: 2.1605\n",
            "Epoch 226/500\n",
            "179/179 [==============================] - 2s 14ms/step - loss: 0.0259 - accuracy: 0.9917 - val_loss: 0.1114 - val_accuracy: 0.9767 - epoch_time: 2.3154\n",
            "Epoch 227/500\n",
            "179/179 [==============================] - 3s 17ms/step - loss: 0.0265 - accuracy: 0.9907 - val_loss: 0.1087 - val_accuracy: 0.9783 - epoch_time: 2.9467\n",
            "Epoch 228/500\n",
            "179/179 [==============================] - 2s 12ms/step - loss: 0.0233 - accuracy: 0.9925 - val_loss: 0.1010 - val_accuracy: 0.9787 - epoch_time: 2.1199\n",
            "Epoch 229/500\n",
            "179/179 [==============================] - 2s 12ms/step - loss: 0.0214 - accuracy: 0.9929 - val_loss: 0.1290 - val_accuracy: 0.9716 - epoch_time: 2.0969\n",
            "Epoch 230/500\n",
            "179/179 [==============================] - 2s 13ms/step - loss: 0.0237 - accuracy: 0.9909 - val_loss: 0.1154 - val_accuracy: 0.9775 - epoch_time: 2.1597\n",
            "Epoch 231/500\n",
            "179/179 [==============================] - 2s 12ms/step - loss: 0.0250 - accuracy: 0.9913 - val_loss: 0.1061 - val_accuracy: 0.9771 - epoch_time: 2.1075\n",
            "Epoch 232/500\n",
            "179/179 [==============================] - 3s 15ms/step - loss: 0.0228 - accuracy: 0.9923 - val_loss: 0.1244 - val_accuracy: 0.9767 - epoch_time: 2.4889\n",
            "Epoch 233/500\n",
            "179/179 [==============================] - 3s 16ms/step - loss: 0.0239 - accuracy: 0.9920 - val_loss: 0.1265 - val_accuracy: 0.9751 - epoch_time: 2.7413\n",
            "Epoch 234/500\n",
            "179/179 [==============================] - 2s 13ms/step - loss: 0.0276 - accuracy: 0.9906 - val_loss: 0.1065 - val_accuracy: 0.9728 - epoch_time: 2.1516\n",
            "Epoch 235/500\n",
            "179/179 [==============================] - 2s 12ms/step - loss: 0.0247 - accuracy: 0.9919 - val_loss: 0.1158 - val_accuracy: 0.9779 - epoch_time: 2.1359\n",
            "Epoch 236/500\n",
            "179/179 [==============================] - 2s 12ms/step - loss: 0.0238 - accuracy: 0.9919 - val_loss: 0.1012 - val_accuracy: 0.9775 - epoch_time: 2.1030\n",
            "Epoch 237/500\n",
            "179/179 [==============================] - 2s 12ms/step - loss: 0.0244 - accuracy: 0.9918 - val_loss: 0.1144 - val_accuracy: 0.9799 - epoch_time: 2.1290\n",
            "Epoch 238/500\n",
            "179/179 [==============================] - 3s 16ms/step - loss: 0.0277 - accuracy: 0.9913 - val_loss: 0.1116 - val_accuracy: 0.9747 - epoch_time: 2.7319\n",
            "Epoch 239/500\n",
            "179/179 [==============================] - 3s 15ms/step - loss: 0.0224 - accuracy: 0.9920 - val_loss: 0.1237 - val_accuracy: 0.9771 - epoch_time: 2.5916\n",
            "Epoch 240/500\n",
            "179/179 [==============================] - 2s 13ms/step - loss: 0.0246 - accuracy: 0.9914 - val_loss: 0.1230 - val_accuracy: 0.9743 - epoch_time: 2.1690\n",
            "Epoch 241/500\n",
            "179/179 [==============================] - 2s 12ms/step - loss: 0.0251 - accuracy: 0.9912 - val_loss: 0.1321 - val_accuracy: 0.9747 - epoch_time: 2.1147\n",
            "Epoch 242/500\n",
            "179/179 [==============================] - 2s 13ms/step - loss: 0.0228 - accuracy: 0.9922 - val_loss: 0.1239 - val_accuracy: 0.9759 - epoch_time: 2.1609\n",
            "Epoch 243/500\n",
            "179/179 [==============================] - 2s 13ms/step - loss: 0.0226 - accuracy: 0.9925 - val_loss: 0.1322 - val_accuracy: 0.9747 - epoch_time: 2.2252\n",
            "Epoch 244/500\n",
            "179/179 [==============================] - 3s 16ms/step - loss: 0.0223 - accuracy: 0.9928 - val_loss: 0.1231 - val_accuracy: 0.9759 - epoch_time: 2.7539\n",
            "Epoch 245/500\n",
            "179/179 [==============================] - 2s 13ms/step - loss: 0.0212 - accuracy: 0.9929 - val_loss: 0.0983 - val_accuracy: 0.9775 - epoch_time: 2.3416\n",
            "Epoch 246/500\n",
            "179/179 [==============================] - 2s 12ms/step - loss: 0.0235 - accuracy: 0.9914 - val_loss: 0.1346 - val_accuracy: 0.9739 - epoch_time: 2.1426\n",
            "Epoch 247/500\n",
            "179/179 [==============================] - 2s 12ms/step - loss: 0.0218 - accuracy: 0.9919 - val_loss: 0.1120 - val_accuracy: 0.9767 - epoch_time: 2.1284\n",
            "Epoch 248/500\n",
            "179/179 [==============================] - 2s 12ms/step - loss: 0.0229 - accuracy: 0.9926 - val_loss: 0.1153 - val_accuracy: 0.9759 - epoch_time: 2.1395\n",
            "Epoch 249/500\n",
            "179/179 [==============================] - 2s 13ms/step - loss: 0.0222 - accuracy: 0.9924 - val_loss: 0.1205 - val_accuracy: 0.9763 - epoch_time: 2.3089\n",
            "Epoch 250/500\n",
            "179/179 [==============================] - 3s 17ms/step - loss: 0.0204 - accuracy: 0.9925 - val_loss: 0.1188 - val_accuracy: 0.9755 - epoch_time: 2.8963\n",
            "Epoch 251/500\n",
            "179/179 [==============================] - 2s 13ms/step - loss: 0.0213 - accuracy: 0.9921 - val_loss: 0.1163 - val_accuracy: 0.9759 - epoch_time: 2.1581\n",
            "Epoch 252/500\n",
            "179/179 [==============================] - 2s 13ms/step - loss: 0.0223 - accuracy: 0.9924 - val_loss: 0.1124 - val_accuracy: 0.9739 - epoch_time: 2.1862\n",
            "Epoch 253/500\n",
            "179/179 [==============================] - 2s 13ms/step - loss: 0.0232 - accuracy: 0.9919 - val_loss: 0.1033 - val_accuracy: 0.9779 - epoch_time: 2.1580\n",
            "Epoch 254/500\n",
            "179/179 [==============================] - 2s 13ms/step - loss: 0.0190 - accuracy: 0.9941 - val_loss: 0.1292 - val_accuracy: 0.9791 - epoch_time: 2.2387\n",
            "Epoch 255/500\n",
            "179/179 [==============================] - 3s 16ms/step - loss: 0.0207 - accuracy: 0.9923 - val_loss: 0.1091 - val_accuracy: 0.9763 - epoch_time: 2.7070\n",
            "Epoch 256/500\n",
            "179/179 [==============================] - 3s 15ms/step - loss: 0.0241 - accuracy: 0.9924 - val_loss: 0.1129 - val_accuracy: 0.9763 - epoch_time: 2.5519\n",
            "Epoch 257/500\n",
            "179/179 [==============================] - 2s 13ms/step - loss: 0.0248 - accuracy: 0.9917 - val_loss: 0.1114 - val_accuracy: 0.9739 - epoch_time: 2.1695\n",
            "Epoch 258/500\n",
            "179/179 [==============================] - 2s 12ms/step - loss: 0.0218 - accuracy: 0.9925 - val_loss: 0.1150 - val_accuracy: 0.9767 - epoch_time: 2.1369\n",
            "Epoch 259/500\n",
            "179/179 [==============================] - 2s 13ms/step - loss: 0.0210 - accuracy: 0.9930 - val_loss: 0.1202 - val_accuracy: 0.9755 - epoch_time: 2.1705\n",
            "Epoch 260/500\n",
            "179/179 [==============================] - 2s 13ms/step - loss: 0.0183 - accuracy: 0.9939 - val_loss: 0.1276 - val_accuracy: 0.9735 - epoch_time: 2.1698\n",
            "Epoch 261/500\n",
            "179/179 [==============================] - 3s 16ms/step - loss: 0.0215 - accuracy: 0.9922 - val_loss: 0.1162 - val_accuracy: 0.9751 - epoch_time: 2.7967\n",
            "Epoch 262/500\n",
            "179/179 [==============================] - 2s 14ms/step - loss: 0.0214 - accuracy: 0.9926 - val_loss: 0.1210 - val_accuracy: 0.9692 - epoch_time: 2.3943\n",
            "Epoch 263/500\n",
            "179/179 [==============================] - 2s 13ms/step - loss: 0.0213 - accuracy: 0.9920 - val_loss: 0.1246 - val_accuracy: 0.9712 - epoch_time: 2.2247\n",
            "Epoch 264/500\n",
            "179/179 [==============================] - 2s 13ms/step - loss: 0.0216 - accuracy: 0.9929 - val_loss: 0.1215 - val_accuracy: 0.9755 - epoch_time: 2.1826\n",
            "Epoch 265/500\n",
            "179/179 [==============================] - 2s 12ms/step - loss: 0.0198 - accuracy: 0.9925 - val_loss: 0.1265 - val_accuracy: 0.9775 - epoch_time: 2.1430\n",
            "Epoch 266/500\n",
            "179/179 [==============================] - 2s 14ms/step - loss: 0.0210 - accuracy: 0.9929 - val_loss: 0.1084 - val_accuracy: 0.9739 - epoch_time: 2.3383\n",
            "Epoch 267/500\n",
            "179/179 [==============================] - 3s 16ms/step - loss: 0.0235 - accuracy: 0.9918 - val_loss: 0.1073 - val_accuracy: 0.9759 - epoch_time: 2.8453\n",
            "Epoch 268/500\n",
            "179/179 [==============================] - 2s 12ms/step - loss: 0.0242 - accuracy: 0.9917 - val_loss: 0.1380 - val_accuracy: 0.9767 - epoch_time: 2.1146\n",
            "Epoch 269/500\n",
            "179/179 [==============================] - 2s 13ms/step - loss: 0.0218 - accuracy: 0.9926 - val_loss: 0.1151 - val_accuracy: 0.9783 - epoch_time: 2.1838\n",
            "Epoch 270/500\n",
            "179/179 [==============================] - 2s 13ms/step - loss: 0.0203 - accuracy: 0.9929 - val_loss: 0.1012 - val_accuracy: 0.9779 - epoch_time: 2.2489\n",
            "Epoch 271/500\n",
            "179/179 [==============================] - 2s 12ms/step - loss: 0.0209 - accuracy: 0.9927 - val_loss: 0.1025 - val_accuracy: 0.9751 - epoch_time: 2.1394\n",
            "Epoch 272/500\n",
            "179/179 [==============================] - 3s 15ms/step - loss: 0.0185 - accuracy: 0.9930 - val_loss: 0.1505 - val_accuracy: 0.9751 - epoch_time: 2.4859\n",
            "Epoch 273/500\n",
            "179/179 [==============================] - 3s 15ms/step - loss: 0.0224 - accuracy: 0.9925 - val_loss: 0.1362 - val_accuracy: 0.9751 - epoch_time: 2.6644\n",
            "Epoch 274/500\n",
            "179/179 [==============================] - 2s 13ms/step - loss: 0.0199 - accuracy: 0.9928 - val_loss: 0.1408 - val_accuracy: 0.9755 - epoch_time: 2.1723\n",
            "Epoch 275/500\n",
            "179/179 [==============================] - 2s 13ms/step - loss: 0.0218 - accuracy: 0.9920 - val_loss: 0.1319 - val_accuracy: 0.9779 - epoch_time: 2.2055\n",
            "Epoch 276/500\n",
            "179/179 [==============================] - 2s 13ms/step - loss: 0.0225 - accuracy: 0.9925 - val_loss: 0.1078 - val_accuracy: 0.9783 - epoch_time: 2.2602\n",
            "Epoch 277/500\n",
            "179/179 [==============================] - 2s 13ms/step - loss: 0.0192 - accuracy: 0.9941 - val_loss: 0.1287 - val_accuracy: 0.9767 - epoch_time: 2.1593\n",
            "Epoch 278/500\n",
            "179/179 [==============================] - 3s 16ms/step - loss: 0.0190 - accuracy: 0.9932 - val_loss: 0.1146 - val_accuracy: 0.9787 - epoch_time: 2.8010\n",
            "Epoch 279/500\n",
            "179/179 [==============================] - 3s 14ms/step - loss: 0.0203 - accuracy: 0.9932 - val_loss: 0.1228 - val_accuracy: 0.9771 - epoch_time: 2.4646\n",
            "Epoch 280/500\n",
            "179/179 [==============================] - 2s 13ms/step - loss: 0.0199 - accuracy: 0.9937 - val_loss: 0.1320 - val_accuracy: 0.9755 - epoch_time: 2.2057\n",
            "Epoch 281/500\n",
            "179/179 [==============================] - 2s 13ms/step - loss: 0.0198 - accuracy: 0.9927 - val_loss: 0.1350 - val_accuracy: 0.9743 - epoch_time: 2.1682\n",
            "Epoch 282/500\n",
            "179/179 [==============================] - 2s 12ms/step - loss: 0.0171 - accuracy: 0.9937 - val_loss: 0.1410 - val_accuracy: 0.9767 - epoch_time: 2.1455\n",
            "Epoch 283/500\n",
            "179/179 [==============================] - 2s 13ms/step - loss: 0.0179 - accuracy: 0.9940 - val_loss: 0.1602 - val_accuracy: 0.9767 - epoch_time: 2.1949\n",
            "Epoch 284/500\n",
            "179/179 [==============================] - 3s 16ms/step - loss: 0.0171 - accuracy: 0.9941 - val_loss: 0.1377 - val_accuracy: 0.9755 - epoch_time: 2.8381\n",
            "Epoch 285/500\n",
            "179/179 [==============================] - 2s 13ms/step - loss: 0.0192 - accuracy: 0.9932 - val_loss: 0.1366 - val_accuracy: 0.9751 - epoch_time: 2.2189\n",
            "Epoch 286/500\n",
            "179/179 [==============================] - 2s 12ms/step - loss: 0.0204 - accuracy: 0.9934 - val_loss: 0.1193 - val_accuracy: 0.9759 - epoch_time: 2.1308\n",
            "Epoch 287/500\n",
            "179/179 [==============================] - 2s 13ms/step - loss: 0.0206 - accuracy: 0.9932 - val_loss: 0.1184 - val_accuracy: 0.9763 - epoch_time: 2.2235\n",
            "Epoch 288/500\n",
            "179/179 [==============================] - 2s 13ms/step - loss: 0.0176 - accuracy: 0.9950 - val_loss: 0.1245 - val_accuracy: 0.9767 - epoch_time: 2.1677\n",
            "Epoch 289/500\n",
            "179/179 [==============================] - 3s 15ms/step - loss: 0.0185 - accuracy: 0.9939 - val_loss: 0.1193 - val_accuracy: 0.9724 - epoch_time: 2.6157\n",
            "Epoch 290/500\n",
            "179/179 [==============================] - 3s 16ms/step - loss: 0.0399 - accuracy: 0.9885 - val_loss: 0.1214 - val_accuracy: 0.9755 - epoch_time: 2.7397\n",
            "Epoch 291/500\n",
            "179/179 [==============================] - 2s 12ms/step - loss: 0.0265 - accuracy: 0.9913 - val_loss: 0.1220 - val_accuracy: 0.9759 - epoch_time: 2.1289\n",
            "Epoch 292/500\n",
            "179/179 [==============================] - 2s 13ms/step - loss: 0.0180 - accuracy: 0.9938 - val_loss: 0.1367 - val_accuracy: 0.9743 - epoch_time: 2.1964\n",
            "Epoch 293/500\n",
            "179/179 [==============================] - 2s 13ms/step - loss: 0.0177 - accuracy: 0.9939 - val_loss: 0.1598 - val_accuracy: 0.9759 - epoch_time: 2.2090\n",
            "Epoch 294/500\n",
            "179/179 [==============================] - 2s 13ms/step - loss: 0.0177 - accuracy: 0.9930 - val_loss: 0.1118 - val_accuracy: 0.9779 - epoch_time: 2.2248\n",
            "Epoch 295/500\n",
            "179/179 [==============================] - 3s 17ms/step - loss: 0.0206 - accuracy: 0.9932 - val_loss: 0.1365 - val_accuracy: 0.9763 - epoch_time: 2.8305\n",
            "Epoch 296/500\n",
            "179/179 [==============================] - 3s 14ms/step - loss: 0.0198 - accuracy: 0.9929 - val_loss: 0.1150 - val_accuracy: 0.9783 - epoch_time: 2.4998\n",
            "Epoch 297/500\n",
            "179/179 [==============================] - 2s 12ms/step - loss: 0.0174 - accuracy: 0.9943 - val_loss: 0.1010 - val_accuracy: 0.9751 - epoch_time: 2.1273\n",
            "Epoch 298/500\n",
            "179/179 [==============================] - 2s 12ms/step - loss: 0.0193 - accuracy: 0.9930 - val_loss: 0.1197 - val_accuracy: 0.9759 - epoch_time: 2.1298\n",
            "Epoch 299/500\n",
            "179/179 [==============================] - 2s 13ms/step - loss: 0.0183 - accuracy: 0.9932 - val_loss: 0.1308 - val_accuracy: 0.9747 - epoch_time: 2.2031\n",
            "Epoch 300/500\n",
            "179/179 [==============================] - 2s 13ms/step - loss: 0.0164 - accuracy: 0.9943 - val_loss: 0.1238 - val_accuracy: 0.9763 - epoch_time: 2.2530\n",
            "Epoch 301/500\n",
            "179/179 [==============================] - 3s 17ms/step - loss: 0.0210 - accuracy: 0.9928 - val_loss: 0.1047 - val_accuracy: 0.9763 - epoch_time: 2.9205\n",
            "Epoch 302/500\n",
            "179/179 [==============================] - 2s 13ms/step - loss: 0.0185 - accuracy: 0.9939 - val_loss: 0.1058 - val_accuracy: 0.9739 - epoch_time: 2.2756\n",
            "Epoch 303/500\n",
            "179/179 [==============================] - 2s 12ms/step - loss: 0.0165 - accuracy: 0.9940 - val_loss: 0.1281 - val_accuracy: 0.9747 - epoch_time: 2.1250\n",
            "Epoch 304/500\n",
            "179/179 [==============================] - 2s 13ms/step - loss: 0.0178 - accuracy: 0.9942 - val_loss: 0.1264 - val_accuracy: 0.9743 - epoch_time: 2.1725\n",
            "Epoch 305/500\n",
            "179/179 [==============================] - 2s 13ms/step - loss: 0.0179 - accuracy: 0.9942 - val_loss: 0.1317 - val_accuracy: 0.9759 - epoch_time: 2.1740\n",
            "Epoch 306/500\n",
            "179/179 [==============================] - 3s 14ms/step - loss: 0.0178 - accuracy: 0.9941 - val_loss: 0.1565 - val_accuracy: 0.9755 - epoch_time: 2.4484\n",
            "Epoch 307/500\n",
            "179/179 [==============================] - 3s 16ms/step - loss: 0.0179 - accuracy: 0.9941 - val_loss: 0.1188 - val_accuracy: 0.9755 - epoch_time: 2.7590\n",
            "Epoch 308/500\n",
            "179/179 [==============================] - 2s 13ms/step - loss: 0.0172 - accuracy: 0.9945 - val_loss: 0.1374 - val_accuracy: 0.9751 - epoch_time: 2.1731\n",
            "Epoch 309/500\n",
            "179/179 [==============================] - 2s 12ms/step - loss: 0.0176 - accuracy: 0.9942 - val_loss: 0.1095 - val_accuracy: 0.9743 - epoch_time: 2.1127\n",
            "Epoch 310/500\n",
            "179/179 [==============================] - 2s 12ms/step - loss: 0.0168 - accuracy: 0.9945 - val_loss: 0.1402 - val_accuracy: 0.9751 - epoch_time: 2.1239\n",
            "Epoch 311/500\n",
            "179/179 [==============================] - 2s 13ms/step - loss: 0.0143 - accuracy: 0.9945 - val_loss: 0.1659 - val_accuracy: 0.9732 - epoch_time: 2.2082\n",
            "Epoch 312/500\n",
            "179/179 [==============================] - 3s 16ms/step - loss: 0.0189 - accuracy: 0.9938 - val_loss: 0.1304 - val_accuracy: 0.9767 - epoch_time: 2.7298\n",
            "Epoch 313/500\n",
            "179/179 [==============================] - 3s 15ms/step - loss: 0.0175 - accuracy: 0.9941 - val_loss: 0.1311 - val_accuracy: 0.9763 - epoch_time: 2.5554\n",
            "Epoch 314/500\n",
            "179/179 [==============================] - 2s 13ms/step - loss: 0.0164 - accuracy: 0.9944 - val_loss: 0.1448 - val_accuracy: 0.9747 - epoch_time: 2.2396\n",
            "Epoch 315/500\n",
            "179/179 [==============================] - 2s 13ms/step - loss: 0.0165 - accuracy: 0.9944 - val_loss: 0.1289 - val_accuracy: 0.9747 - epoch_time: 2.2009\n",
            "Epoch 316/500\n",
            "179/179 [==============================] - 2s 13ms/step - loss: 0.0161 - accuracy: 0.9953 - val_loss: 0.1340 - val_accuracy: 0.9751 - epoch_time: 2.2483\n",
            "Epoch 317/500\n",
            "179/179 [==============================] - 2s 14ms/step - loss: 0.0210 - accuracy: 0.9927 - val_loss: 0.1408 - val_accuracy: 0.9743 - epoch_time: 2.3730\n",
            "Epoch 318/500\n",
            "179/179 [==============================] - 3s 18ms/step - loss: 0.0185 - accuracy: 0.9934 - val_loss: 0.1392 - val_accuracy: 0.9775 - epoch_time: 3.0150\n",
            "Epoch 319/500\n",
            "179/179 [==============================] - 2s 13ms/step - loss: 0.0183 - accuracy: 0.9942 - val_loss: 0.1420 - val_accuracy: 0.9767 - epoch_time: 2.2811\n",
            "Epoch 320/500\n",
            "179/179 [==============================] - 2s 13ms/step - loss: 0.0162 - accuracy: 0.9945 - val_loss: 0.1278 - val_accuracy: 0.9755 - epoch_time: 2.2157\n",
            "Epoch 321/500\n",
            "179/179 [==============================] - 2s 13ms/step - loss: 0.0178 - accuracy: 0.9943 - val_loss: 0.1298 - val_accuracy: 0.9751 - epoch_time: 2.2369\n",
            "Epoch 322/500\n",
            "179/179 [==============================] - 2s 13ms/step - loss: 0.0167 - accuracy: 0.9944 - val_loss: 0.1459 - val_accuracy: 0.9751 - epoch_time: 2.2126\n",
            "Epoch 323/500\n",
            "179/179 [==============================] - 3s 16ms/step - loss: 0.0151 - accuracy: 0.9952 - val_loss: 0.1479 - val_accuracy: 0.9759 - epoch_time: 2.7054\n",
            "Epoch 324/500\n",
            "179/179 [==============================] - 3s 16ms/step - loss: 0.0184 - accuracy: 0.9942 - val_loss: 0.1377 - val_accuracy: 0.9739 - epoch_time: 2.7322\n",
            "Epoch 325/500\n",
            "179/179 [==============================] - 2s 13ms/step - loss: 0.0184 - accuracy: 0.9942 - val_loss: 0.1280 - val_accuracy: 0.9739 - epoch_time: 2.2387\n",
            "Epoch 326/500\n",
            "179/179 [==============================] - 2s 13ms/step - loss: 0.0159 - accuracy: 0.9941 - val_loss: 0.1240 - val_accuracy: 0.9751 - epoch_time: 2.2417\n",
            "Epoch 327/500\n",
            "179/179 [==============================] - 2s 13ms/step - loss: 0.0201 - accuracy: 0.9931 - val_loss: 0.1116 - val_accuracy: 0.9787 - epoch_time: 2.2867\n",
            "Epoch 328/500\n",
            "179/179 [==============================] - 3s 15ms/step - loss: 0.0166 - accuracy: 0.9948 - val_loss: 0.1110 - val_accuracy: 0.9763 - epoch_time: 2.4956\n",
            "Epoch 329/500\n",
            "179/179 [==============================] - 3s 17ms/step - loss: 0.0166 - accuracy: 0.9943 - val_loss: 0.1246 - val_accuracy: 0.9743 - epoch_time: 2.9960\n",
            "Epoch 330/500\n",
            "179/179 [==============================] - 2s 13ms/step - loss: 0.0169 - accuracy: 0.9952 - val_loss: 0.1215 - val_accuracy: 0.9743 - epoch_time: 2.2854\n",
            "Epoch 331/500\n",
            "179/179 [==============================] - 2s 13ms/step - loss: 0.0177 - accuracy: 0.9937 - val_loss: 0.1359 - val_accuracy: 0.9747 - epoch_time: 2.1574\n",
            "Epoch 332/500\n",
            "179/179 [==============================] - 2s 13ms/step - loss: 0.0183 - accuracy: 0.9938 - val_loss: 0.1328 - val_accuracy: 0.9747 - epoch_time: 2.1502\n",
            "Epoch 333/500\n",
            "179/179 [==============================] - 2s 13ms/step - loss: 0.0173 - accuracy: 0.9942 - val_loss: 0.1283 - val_accuracy: 0.9755 - epoch_time: 2.2583\n",
            "Epoch 334/500\n",
            "179/179 [==============================] - 3s 15ms/step - loss: 0.0160 - accuracy: 0.9943 - val_loss: 0.1593 - val_accuracy: 0.9759 - epoch_time: 2.5977\n",
            "Epoch 335/500\n",
            "179/179 [==============================] - 3s 16ms/step - loss: 0.0226 - accuracy: 0.9928 - val_loss: 0.1433 - val_accuracy: 0.9763 - epoch_time: 2.7474\n",
            "Epoch 336/500\n",
            "179/179 [==============================] - 2s 13ms/step - loss: 0.0173 - accuracy: 0.9942 - val_loss: 0.1323 - val_accuracy: 0.9767 - epoch_time: 2.2093\n",
            "Epoch 337/500\n",
            "179/179 [==============================] - 2s 13ms/step - loss: 0.0156 - accuracy: 0.9947 - val_loss: 0.1425 - val_accuracy: 0.9755 - epoch_time: 2.2554\n"
          ]
        }
      ]
    },
    {
      "cell_type": "code",
      "source": [
        "#plot history of model_sensor1\n",
        "history_sensor1 = pd.read_csv(model_path +\"historyLOG_Constant-0_1_dur_10_sensor1.csv\", index_col='epoch')\n",
        "history_sensor1.reset_index(drop= True, inplace= True)\n",
        "history_sensor1.head()\n",
        "print('Average Exe_time for sensor1: {} sec.'.format(round(np.mean(history_sensor1['epoch_time'].values),3)))\n"
      ],
      "metadata": {
        "id": "3O-5mYHRoluo",
        "colab": {
          "base_uri": "https://localhost:8080/"
        },
        "outputId": "4c583761-8291-45c4-dd27-b3dc714db588"
      },
      "execution_count": null,
      "outputs": [
        {
          "output_type": "stream",
          "name": "stdout",
          "text": [
            "Average Exe_time for sensor1: 2.273 sec.\n"
          ]
        }
      ]
    },
    {
      "cell_type": "code",
      "source": [
        "plt.plot( history_sensor1['loss'], 'b',label = 'loss')\n",
        "plt.plot( history_sensor1['val_loss'], 'g', label = 'val_loss')\n",
        "plt.legend()\n",
        "plt.grid()\n",
        "plt.title('loss_model_sensor1')\n",
        "plt.show()"
      ],
      "metadata": {
        "id": "qk6CGElHFQKh",
        "colab": {
          "base_uri": "https://localhost:8080/",
          "height": 281
        },
        "outputId": "c4dd1d45-c7bb-4fd2-fd84-cd2ce03df4ff"
      },
      "execution_count": null,
      "outputs": [
        {
          "output_type": "display_data",
          "data": {
            "text/plain": [
              "<Figure size 432x288 with 1 Axes>"
            ],
            "image/png": "[encoded data removed]"
          },
          "metadata": {
            "needs_background": "light"
          }
        }
      ]
    },
    {
      "cell_type": "code",
      "source": [
        "plt.plot(history_sensor1['accuracy']* 100,'b',label = 'acc')\n",
        "plt.plot(history_sensor1['val_accuracy'] * 100,'g', label = 'val_acc')\n",
        "plt.legend()\n",
        "plt.grid()\n",
        "plt.title('accuracy_model_sensor1')\n",
        "plt.show()"
      ],
      "metadata": {
        "id": "yW2YOqyrFauE",
        "colab": {
          "base_uri": "https://localhost:8080/",
          "height": 281
        },
        "outputId": "c839a592-833f-424b-8af8-089cf7c27d35"
      },
      "execution_count": null,
      "outputs": [
        {
          "output_type": "display_data",
          "data": {
            "text/plain": [
              "<Figure size 432x288 with 1 Axes>"
            ],
            "image/png": "[encoded data removed]"
          },
          "metadata": {
            "needs_background": "light"
          }
        }
      ]
    },
    {
      "cell_type": "code",
      "metadata": {
        "id": "yiUh7YCM0q5f",
        "colab": {
          "base_uri": "https://localhost:8080/"
        },
        "outputId": "a3939058-1ee3-437d-f53c-da0f75265921"
      },
      "source": [
        "history_sensor2 = pd.read_csv(model_path +\"historyLOG_Constant-0_1_dur_10_sensor2.csv\", index_col='epoch')\n",
        "history_sensor2.reset_index(drop= True, inplace= True)\n",
        "history_sensor2.head()\n",
        "print('Average Exe_time for sensor2: {} sec.'.format(round(np.mean(history_sensor2['epoch_time'].values),3)))\n"
      ],
      "execution_count": null,
      "outputs": [
        {
          "output_type": "stream",
          "name": "stdout",
          "text": [
            "Average Exe_time for sensor2: 2.216 sec.\n"
          ]
        }
      ]
    },
    {
      "cell_type": "code",
      "source": [
        "plt.plot( history_sensor2['loss'], 'b',label = 'loss')\n",
        "plt.plot( history_sensor2['val_loss'], 'g', label = 'val_loss')\n",
        "plt.legend()\n",
        "plt.grid()\n",
        "plt.title('loss_model_sensor2')\n",
        "plt.show()"
      ],
      "metadata": {
        "id": "L7pzR8UUFR-X",
        "colab": {
          "base_uri": "https://localhost:8080/",
          "height": 281
        },
        "outputId": "6ea06773-d3b7-492b-f0e4-8dd1c12a2198"
      },
      "execution_count": null,
      "outputs": [
        {
          "output_type": "display_data",
          "data": {
            "text/plain": [
              "<Figure size 432x288 with 1 Axes>"
            ],
            "image/png": "[encoded data removed]"
          },
          "metadata": {
            "needs_background": "light"
          }
        }
      ]
    },
    {
      "cell_type": "code",
      "source": [
        "plt.plot(history_sensor2['accuracy']* 100,'b',label = 'acc')\n",
        "plt.plot(history_sensor2['val_accuracy'] * 100,'g', label = 'val_acc')\n",
        "plt.legend()\n",
        "plt.grid()\n",
        "plt.title('accuracy_model_sensor2')\n",
        "plt.show()"
      ],
      "metadata": {
        "id": "ThBgZzV2Finr",
        "colab": {
          "base_uri": "https://localhost:8080/",
          "height": 281
        },
        "outputId": "00ab306a-d43c-4462-f822-19fa557296e1"
      },
      "execution_count": null,
      "outputs": [
        {
          "output_type": "display_data",
          "data": {
            "text/plain": [
              "<Figure size 432x288 with 1 Axes>"
            ],
            "image/png": "[encoded data removed]"
          },
          "metadata": {
            "needs_background": "light"
          }
        }
      ]
    },
    {
      "cell_type": "code",
      "metadata": {
        "id": "xZQRze500qd5",
        "colab": {
          "base_uri": "https://localhost:8080/"
        },
        "outputId": "f1f6879c-4b86-4cbc-83b0-6b00d3838aed"
      },
      "source": [
        "history_sensor3 = pd.read_csv(model_path +\"historyLOG_Constant-0_1_dur_10_sensor3.csv\", index_col='epoch')\n",
        "history_sensor3.reset_index(drop= True, inplace= True)\n",
        "history_sensor3.head()\n",
        "print('Average Exe_time for sensor3: {} sec.'.format(round(np.mean(history_sensor3['epoch_time'].values),3)))"
      ],
      "execution_count": null,
      "outputs": [
        {
          "output_type": "stream",
          "name": "stdout",
          "text": [
            "Average Exe_time for sensor3: 2.248 sec.\n"
          ]
        }
      ]
    },
    {
      "cell_type": "code",
      "metadata": {
        "id": "swXRfIlAX0pF",
        "colab": {
          "base_uri": "https://localhost:8080/",
          "height": 281
        },
        "outputId": "c80bb1e9-b769-4116-e164-cc842ab9640b"
      },
      "source": [
        "plt.plot( history_sensor3['loss'], 'b',label = 'loss')\n",
        "plt.plot( history_sensor3['val_loss'], 'g', label = 'val_loss')\n",
        "plt.legend()\n",
        "plt.grid()\n",
        "plt.title('loss_model_sensor3')\n",
        "plt.show()"
      ],
      "execution_count": null,
      "outputs": [
        {
          "output_type": "display_data",
          "data": {
            "text/plain": [
              "<Figure size 432x288 with 1 Axes>"
            ],
            "image/png": "[encoded data removed]"
          },
          "metadata": {
            "needs_background": "light"
          }
        }
      ]
    },
    {
      "cell_type": "code",
      "source": [
        "plt.plot(history_sensor3['accuracy']* 100,'b',label = 'acc')\n",
        "plt.plot(history_sensor3['val_accuracy'] * 100,'g', label = 'val_acc')\n",
        "plt.legend()\n",
        "plt.grid()\n",
        "plt.title('accuracy_model_sensor3')\n",
        "plt.show()"
      ],
      "metadata": {
        "id": "Uzl-v65bFtOj",
        "colab": {
          "base_uri": "https://localhost:8080/",
          "height": 281
        },
        "outputId": "9ed4cc14-68c7-4d6a-e309-7b73e8754d85"
      },
      "execution_count": null,
      "outputs": [
        {
          "output_type": "display_data",
          "data": {
            "text/plain": [
              "<Figure size 432x288 with 1 Axes>"
            ],
            "image/png": "[encoded data removed]"
          },
          "metadata": {
            "needs_background": "light"
          }
        }
      ]
    },
    {
      "cell_type": "code",
      "source": [
        "#last model_sensor1 evaluation\n",
        "test_loss, test_acc = model_sensor1.evaluate( X_test_sensor1, y_test_sensor1, verbose= 1)\n",
        "print('test accuracy :{:.1%} \\n test loss :{:.3}'.format(test_acc, test_loss))"
      ],
      "metadata": {
        "id": "r9txKKt8GPES",
        "colab": {
          "base_uri": "https://localhost:8080/"
        },
        "outputId": "5fce1150-615c-4e8c-aede-06ccf375632f"
      },
      "execution_count": null,
      "outputs": [
        {
          "output_type": "stream",
          "name": "stdout",
          "text": [
            "140/140 [==============================] - 1s 7ms/step - loss: 0.0334 - accuracy: 0.9935\n",
            "test accuracy :99.4% \n",
            " test loss :0.0334\n"
          ]
        }
      ]
    },
    {
      "cell_type": "code",
      "source": [
        "#last model_sensor2 evaluation\n",
        "test_loss, test_acc = model_sensor2.evaluate( X_test_sensor2, y_test_sensor2, verbose= 1)\n",
        "print('test accuracy :{:.1%} \\n test loss :{:.3}'.format(test_acc, test_loss))"
      ],
      "metadata": {
        "id": "adROowiPGPtE",
        "colab": {
          "base_uri": "https://localhost:8080/"
        },
        "outputId": "0734c499-b191-4c45-9437-652d5dfb53e1"
      },
      "execution_count": null,
      "outputs": [
        {
          "output_type": "stream",
          "name": "stdout",
          "text": [
            "140/140 [==============================] - 1s 8ms/step - loss: 0.0363 - accuracy: 0.9931\n",
            "test accuracy :99.3% \n",
            " test loss :0.0363\n"
          ]
        }
      ]
    },
    {
      "cell_type": "code",
      "source": [
        "#last model_sensor3 evaluation\n",
        "test_loss, test_acc = model_sensor3.evaluate( X_test_sensor3, y_test_sensor3, verbose= 1)\n",
        "print('test accuracy :{:.1%} \\n test loss :{:.3}'.format(test_acc, test_loss))"
      ],
      "metadata": {
        "id": "AFoZDmx4GP5u",
        "colab": {
          "base_uri": "https://localhost:8080/"
        },
        "outputId": "6e2ce551-f398-4b7e-f3ad-afb35d969799"
      },
      "execution_count": null,
      "outputs": [
        {
          "output_type": "stream",
          "name": "stdout",
          "text": [
            "140/140 [==============================] - 1s 7ms/step - loss: 0.0892 - accuracy: 0.9843\n",
            "test accuracy :98.4% \n",
            " test loss :0.0892\n"
          ]
        }
      ]
    },
    {
      "cell_type": "code",
      "source": [
        "y_pred_sensor1 = model_sensor1.predict( X_test_sensor1, verbose= 1)\n",
        "y_pred_sensor2 = model_sensor2.predict( X_test_sensor2, verbose= 1)\n",
        "y_pred_sensor3 = model_sensor3.predict( X_test_sensor3, verbose= 1)"
      ],
      "metadata": {
        "id": "STn_XkCZGP7k",
        "colab": {
          "base_uri": "https://localhost:8080/"
        },
        "outputId": "69e8634a-1cbc-4531-8ad1-655a6daac3d7"
      },
      "execution_count": null,
      "outputs": [
        {
          "output_type": "stream",
          "name": "stdout",
          "text": [
            "140/140 [==============================] - 2s 4ms/step\n",
            "140/140 [==============================] - 2s 4ms/step\n",
            "140/140 [==============================] - 2s 4ms/step\n"
          ]
        }
      ]
    },
    {
      "cell_type": "code",
      "source": [
        "y_pred_sensor1 = [np.argmax(i) for i in y_pred_sensor1]\n",
        "y_pred_sensor2 = [np.argmax(i) for i in y_pred_sensor2]\n",
        "y_pred_sensor3 = [np.argmax(i) for i in y_pred_sensor3]"
      ],
      "metadata": {
        "id": "WCLRF8ySGP-y"
      },
      "execution_count": null,
      "outputs": []
    },
    {
      "cell_type": "code",
      "source": [
        "y_pred_total = []\n",
        "for i in range(len(y_pred_sensor1)):\n",
        "  y_pred_total.append( y_pred_sensor1[i] or y_pred_sensor2[i] or y_pred_sensor3[i])"
      ],
      "metadata": {
        "id": "anY5RdokHE_1"
      },
      "execution_count": null,
      "outputs": []
    },
    {
      "cell_type": "code",
      "source": [
        "assert(len(y_pred_total) == len(y_pred_sensor1))"
      ],
      "metadata": {
        "id": "afksljyBHFMW"
      },
      "execution_count": null,
      "outputs": []
    },
    {
      "cell_type": "code",
      "source": [
        "y_test_sensor1 = [np.argmax(i) for i in y_test_sensor1]\n",
        "y_test_sensor2 = [np.argmax(i) for i in y_test_sensor2]\n",
        "y_test_sensor3 = [np.argmax(i) for i in y_test_sensor3]"
      ],
      "metadata": {
        "id": "9NrwBh01HMgQ"
      },
      "execution_count": null,
      "outputs": []
    },
    {
      "cell_type": "code",
      "source": [
        "y_test_total = []\n",
        "for i in range(len(y_test_sensor1)):\n",
        "  y_test_total.append(y_test_sensor1[i] or y_test_sensor2[i] or y_test_sensor3[i])"
      ],
      "metadata": {
        "id": "lRweEKazHMsx"
      },
      "execution_count": null,
      "outputs": []
    },
    {
      "cell_type": "code",
      "source": [
        "print(\"Sensor 1 performanace:\")\n",
        "recall = recall_score(y_test_sensor1, y_pred_sensor1, average='micro')\n",
        "print('recall score : {:.2%}\\n'.format(recall ))\n",
        "\n",
        "precision = precision_score(y_test_sensor1, y_pred_sensor1, average='micro')\n",
        "print('precision score: {:.2%}\\n'.format(precision ))\n",
        "\n",
        "f1 = f1_score(y_test_sensor1, y_pred_sensor1, average='micro')\n",
        "print(\"F1 score: {:.2%}\\n\".format(f1 ))\n",
        "\n",
        "accuracy = accuracy_score(y_test_sensor1, y_pred_sensor1)\n",
        "print(\"accuracy score: {:.2%}\\n\".format(accuracy))"
      ],
      "metadata": {
        "id": "3oCJphJZHMuN",
        "colab": {
          "base_uri": "https://localhost:8080/"
        },
        "outputId": "dda2afec-c723-42cc-f1c1-9ee16401ced2"
      },
      "execution_count": null,
      "outputs": [
        {
          "output_type": "stream",
          "name": "stdout",
          "text": [
            "Sensor 1 performanace:\n",
            "recall score : 99.35%\n",
            "\n",
            "precision score: 99.35%\n",
            "\n",
            "F1 score: 99.35%\n",
            "\n",
            "accuracy score: 99.35%\n",
            "\n"
          ]
        }
      ]
    },
    {
      "cell_type": "code",
      "source": [
        "print(\"Sensor 2 performanace:\")\n",
        "recall = recall_score(y_test_sensor2, y_pred_sensor2, average='micro')\n",
        "print('recall score : {:.2%}\\n'.format(recall ))\n",
        "\n",
        "precision = precision_score(y_test_sensor2, y_pred_sensor2, average='micro')\n",
        "print('precision score: {:.2%}\\n'.format(precision ))\n",
        "\n",
        "f1 = f1_score(y_test_sensor2, y_pred_sensor2, average='micro')\n",
        "print(\"F1 score: {:.2%}\\n\".format(f1 ))\n",
        "\n",
        "accuracy = accuracy_score(y_test_sensor2, y_pred_sensor2)\n",
        "print(\"accuracy score: {:.2%}\\n\".format(accuracy))"
      ],
      "metadata": {
        "id": "Lm9vlS19HMxS",
        "colab": {
          "base_uri": "https://localhost:8080/"
        },
        "outputId": "f828b356-8032-4841-ab42-2a0eca870155"
      },
      "execution_count": null,
      "outputs": [
        {
          "output_type": "stream",
          "name": "stdout",
          "text": [
            "Sensor 2 performanace:\n",
            "recall score : 99.31%\n",
            "\n",
            "precision score: 99.31%\n",
            "\n",
            "F1 score: 99.31%\n",
            "\n",
            "accuracy score: 99.31%\n",
            "\n"
          ]
        }
      ]
    },
    {
      "cell_type": "code",
      "source": [
        "print(\"Sensor 3 performanace:\")\n",
        "recall = recall_score(y_test_sensor3, y_pred_sensor3, average='micro')\n",
        "print('recall score : {:.2%}\\n'.format(recall ))\n",
        "\n",
        "precision = precision_score(y_test_sensor3, y_pred_sensor3, average='micro')\n",
        "print('precision score: {:.2%}\\n'.format(precision ))\n",
        "\n",
        "f1 = f1_score(y_test_sensor3, y_pred_sensor3, average='micro')\n",
        "print(\"F1 score: {:.2%}\\n\".format(f1 ))\n",
        "\n",
        "accuracy = accuracy_score(y_test_sensor3, y_pred_sensor3)\n",
        "print(\"accuracy score: {:.2%}\\n\".format(accuracy))"
      ],
      "metadata": {
        "id": "klF4enFMHaV1",
        "colab": {
          "base_uri": "https://localhost:8080/"
        },
        "outputId": "77374f70-1059-4d8a-b156-5fa4909469dc"
      },
      "execution_count": null,
      "outputs": [
        {
          "output_type": "stream",
          "name": "stdout",
          "text": [
            "Sensor 3 performanace:\n",
            "recall score : 98.43%\n",
            "\n",
            "precision score: 98.43%\n",
            "\n",
            "F1 score: 98.43%\n",
            "\n",
            "accuracy score: 98.43%\n",
            "\n"
          ]
        }
      ]
    },
    {
      "cell_type": "code",
      "source": [
        "print(\"All Sensors performanace:\\n\")\n",
        "\n",
        "recall = recall_score(y_test_total, y_pred_total, average='micro')\n",
        "print('recall score : {:.2%}\\n'.format(recall ))\n",
        "\n",
        "precision = precision_score(y_test_total, y_pred_total, average='micro')\n",
        "print('precision score: {:.2%}\\n'.format(precision ))\n",
        "\n",
        "f1 = f1_score(y_test_total, y_pred_total, average='micro')\n",
        "print(\"F1 score: {:.2%}\\n\".format(f1 ))\n",
        "\n",
        "accuracy = accuracy_score(y_test_total, y_pred_total)\n",
        "print(\"accuracy score: {:.2%}\\n\".format(accuracy))"
      ],
      "metadata": {
        "id": "EIlCvZWhHg9S",
        "colab": {
          "base_uri": "https://localhost:8080/"
        },
        "outputId": "b627e715-7faa-475e-b702-e33cf92c05ff"
      },
      "execution_count": null,
      "outputs": [
        {
          "output_type": "stream",
          "name": "stdout",
          "text": [
            "All Sensors performanace:\n",
            "\n",
            "recall score : 98.32%\n",
            "\n",
            "precision score: 98.32%\n",
            "\n",
            "F1 score: 98.32%\n",
            "\n",
            "accuracy score: 98.32%\n",
            "\n"
          ]
        }
      ]
    },
    {
      "cell_type": "code",
      "source": [
        "print(\"All Sensors performanace:\\n\")\n",
        "\n",
        "recall = recall_score(y_test_total, y_pred_total, average='macro')\n",
        "print('recall score : {:.2%}\\n'.format(recall ))\n",
        "\n",
        "precision = precision_score(y_test_total, y_pred_total, average='macro')\n",
        "print('precision score: {:.2%}\\n'.format(precision ))\n",
        "\n",
        "f1 = f1_score(y_test_total, y_pred_total, average='macro')\n",
        "print(\"F1 score: {:.2%}\\n\".format(f1 ))\n",
        "\n",
        "accuracy = accuracy_score(y_test_total, y_pred_total)\n",
        "print(\"accuracy score: {:.2%}\\n\".format(accuracy))"
      ],
      "metadata": {
        "id": "j5CsF4AQHiEs",
        "colab": {
          "base_uri": "https://localhost:8080/"
        },
        "outputId": "47abe518-98b9-45ee-ec4f-d586ccc36169"
      },
      "execution_count": null,
      "outputs": [
        {
          "output_type": "stream",
          "name": "stdout",
          "text": [
            "All Sensors performanace:\n",
            "\n",
            "recall score : 98.53%\n",
            "\n",
            "precision score: 97.89%\n",
            "\n",
            "F1 score: 98.19%\n",
            "\n",
            "accuracy score: 98.32%\n",
            "\n"
          ]
        }
      ]
    },
    {
      "cell_type": "code",
      "source": [
        "conf = confusion_matrix(y_test_total, y_pred_total, labels=[1,0])\n",
        "conf_df = pd.DataFrame(conf, columns= [1,0], index= [1,0])\n",
        "conf_df"
      ],
      "metadata": {
        "id": "d1gGHBdzHlkV",
        "colab": {
          "base_uri": "https://localhost:8080/",
          "height": 112
        },
        "outputId": "0e62d412-4bbd-4fe7-8ab6-382158737040"
      },
      "execution_count": null,
      "outputs": [
        {
          "output_type": "execute_result",
          "data": {
            "text/plain": [
              "      1     0\n",
              "1  2799    63\n",
              "0    12  1595"
            ],
            "text/html": [
              "\n",
              "  <div id=\"df-888772d7-417e-43fe-999b-8c267ad1b283\">\n",
              "    <div class=\"colab-df-container\">\n",
              "      <div>\n",
              "<style scoped>\n",
              "    .dataframe tbody tr th:only-of-type {\n",
              "        vertical-align: middle;\n",
              "    }\n",
              "\n",
              "    .dataframe tbody tr th {\n",
              "        vertical-align: top;\n",
              "    }\n",
              "\n",
              "    .dataframe thead th {\n",
              "        text-align: right;\n",
              "    }\n",
              "</style>\n",
              "<table border=\"1\" class=\"dataframe\">\n",
              "  <thead>\n",
              "    <tr style=\"text-align: right;\">\n",
              "      <th></th>\n",
              "      <th>1</th>\n",
              "      <th>0</th>\n",
              "    </tr>\n",
              "  </thead>\n",
              "  <tbody>\n",
              "    <tr>\n",
              "      <th>1</th>\n",
              "      <td>2799</td>\n",
              "      <td>63</td>\n",
              "    </tr>\n",
              "    <tr>\n",
              "      <th>0</th>\n",
              "      <td>12</td>\n",
              "      <td>1595</td>\n",
              "    </tr>\n",
              "  </tbody>\n",
              "</table>\n",
              "</div>\n",
              "      <button class=\"colab-df-convert\" onclick=\"convertToInteractive('df-888772d7-417e-43fe-999b-8c267ad1b283')\"\n",
              "              title=\"Convert this dataframe to an interactive table.\"\n",
              "              style=\"display:none;\">\n",
              "        \n",
              "  <svg xmlns=\"http://www.w3.org/2000/svg\" height=\"24px\"viewBox=\"0 0 24 24\"\n",
              "       width=\"24px\">\n",
              "    <path d=\"M0 0h24v24H0V0z\" fill=\"none\"/>\n",
              "    <path d=\"M18.56 5.44l.94 2.06.94-2.06 2.06-.94-2.06-.94-.94-2.06-.94 2.06-2.06.94zm-11 1L8.5 8.5l.94-2.06 2.06-.94-2.06-.94L8.5 2.5l-.94 2.06-2.06.94zm10 10l.94 2.06.94-2.06 2.06-.94-2.06-.94-.94-2.06-.94 2.06-2.06.94z\"/><path d=\"M17.41 7.96l-1.37-1.37c-.4-.4-.92-.59-1.43-.59-.52 0-1.04.2-1.43.59L10.3 9.45l-7.72 7.72c-.78.78-.78 2.05 0 2.83L4 21.41c.39.39.9.59 1.41.59.51 0 1.02-.2 1.41-.59l7.78-7.78 2.81-2.81c.8-.78.8-2.07 0-2.86zM5.41 20L4 18.59l7.72-7.72 1.47 1.35L5.41 20z\"/>\n",
              "  </svg>\n",
              "      </button>\n",
              "      \n",
              "  <style>\n",
              "    .colab-df-container {\n",
              "      display:flex;\n",
              "      flex-wrap:wrap;\n",
              "      gap: 12px;\n",
              "    }\n",
              "\n",
              "    .colab-df-convert {\n",
              "      background-color: #E8F0FE;\n",
              "      border: none;\n",
              "      border-radius: 50%;\n",
              "      cursor: pointer;\n",
              "      display: none;\n",
              "      fill: #1967D2;\n",
              "      height: 32px;\n",
              "      padding: 0 0 0 0;\n",
              "      width: 32px;\n",
              "    }\n",
              "\n",
              "    .colab-df-convert:hover {\n",
              "      background-color: #E2EBFA;\n",
              "      box-shadow: 0px 1px 2px rgba(60, 64, 67, 0.3), 0px 1px 3px 1px rgba(60, 64, 67, 0.15);\n",
              "      fill: #174EA6;\n",
              "    }\n",
              "\n",
              "    [theme=dark] .colab-df-convert {\n",
              "      background-color: #3B4455;\n",
              "      fill: #D2E3FC;\n",
              "    }\n",
              "\n",
              "    [theme=dark] .colab-df-convert:hover {\n",
              "      background-color: #434B5C;\n",
              "      box-shadow: 0px 1px 3px 1px rgba(0, 0, 0, 0.15);\n",
              "      filter: drop-shadow(0px 1px 2px rgba(0, 0, 0, 0.3));\n",
              "      fill: #FFFFFF;\n",
              "    }\n",
              "  </style>\n",
              "\n",
              "      <script>\n",
              "        const buttonEl =\n",
              "          document.querySelector('#df-888772d7-417e-43fe-999b-8c267ad1b283 button.colab-df-convert');\n",
              "        buttonEl.style.display =\n",
              "          google.colab.kernel.accessAllowed ? 'block' : 'none';\n",
              "\n",
              "        async function convertToInteractive(key) {\n",
              "          const element = document.querySelector('#df-888772d7-417e-43fe-999b-8c267ad1b283');\n",
              "          const dataTable =\n",
              "            await google.colab.kernel.invokeFunction('convertToInteractive',\n",
              "                                                     [key], {});\n",
              "          if (!dataTable) return;\n",
              "\n",
              "          const docLinkHtml = 'Like what you see? Visit the ' +\n",
              "            '<a target=\"_blank\" href=https://colab.research.google.com/notebooks/data_table.ipynb>data table notebook</a>'\n",
              "            + ' to learn more about interactive tables.';\n",
              "          element.innerHTML = '';\n",
              "          dataTable['output_type'] = 'display_data';\n",
              "          await google.colab.output.renderOutput(dataTable, element);\n",
              "          const docLink = document.createElement('div');\n",
              "          docLink.innerHTML = docLinkHtml;\n",
              "          element.appendChild(docLink);\n",
              "        }\n",
              "      </script>\n",
              "    </div>\n",
              "  </div>\n",
              "  "
            ]
          },
          "metadata": {},
          "execution_count": 74
        }
      ]
    }
  ]
}