{
  "nbformat": 4,
  "nbformat_minor": 0,
  "metadata": {
    "colab": {
      "provenance": []
    },
    "kernelspec": {
      "name": "python3",
      "display_name": "Python 3"
    },
    "language_info": {
      "name": "python"
    },
    "accelerator": "GPU"
  },
  "cells": [
    {
      "cell_type": "code",
      "metadata": {
        "id": "INNY7MoLZn0x",
        "colab": {
          "base_uri": "https://localhost:8080/"
        },
        "outputId": "9d154b03-3518-4be1-a5d8-dcf3bc3c5477"
      },
      "source": [
        "from google.colab import drive\n",
        "drive.mount('/content/drive')"
      ],
      "execution_count": null,
      "outputs": [
        {
          "output_type": "stream",
          "name": "stdout",
          "text": [
            "Mounted at /content/drive\n"
          ]
        }
      ]
    },
    {
      "cell_type": "code",
      "metadata": {
        "id": "bQ3m-WaucgZw",
        "colab": {
          "base_uri": "https://localhost:8080/"
        },
        "outputId": "546c5f89-4094-4ba0-af6d-e0ac50dd1571"
      },
      "source": [
        "pip install h5py==2.10.0"
      ],
      "execution_count": null,
      "outputs": [
        {
          "output_type": "stream",
          "name": "stdout",
          "text": [
            "Looking in indexes: https://pypi.org/simple, https://us-python.pkg.dev/colab-wheels/public/simple/\n",
            "Collecting h5py==2.10.0\n",
            "  Downloading h5py-2.10.0-cp38-cp38-manylinux1_x86_64.whl (2.9 MB)\n",
            "\u001b[2K     \u001b[90m━━━━━━━━━━━━━━━━━━━━━━━━━━━━━━━━━━━━━━━━\u001b[0m \u001b[32m2.9/2.9 MB\u001b[0m \u001b[31m53.1 MB/s\u001b[0m eta \u001b[36m0:00:00\u001b[0m\n",
            "\u001b[?25hRequirement already satisfied: six in /usr/local/lib/python3.8/dist-packages (from h5py==2.10.0) (1.15.0)\n",
            "Requirement already satisfied: numpy>=1.7 in /usr/local/lib/python3.8/dist-packages (from h5py==2.10.0) (1.21.6)\n",
            "Installing collected packages: h5py\n",
            "  Attempting uninstall: h5py\n",
            "    Found existing installation: h5py 3.1.0\n",
            "    Uninstalling h5py-3.1.0:\n",
            "      Successfully uninstalled h5py-3.1.0\n",
            "Successfully installed h5py-2.10.0\n"
          ]
        }
      ]
    },
    {
      "cell_type": "code",
      "metadata": {
        "colab": {
          "base_uri": "https://localhost:8080/"
        },
        "id": "8QiS7haVwwyX",
        "outputId": "b003faef-d98d-4918-b8b4-2dee1150e001"
      },
      "source": [
        "\n",
        "import tensorflow as tf\n",
        "print(\"tensorflow version :{}\".format(tf.__version__))\n",
        "device_name = tf.test.gpu_device_name()\n",
        "if device_name != '/device:GPU:0':\n",
        "  raise SystemError('GPU device not found')\n",
        "print('Found GPU at: {}'.format(device_name))"
      ],
      "execution_count": null,
      "outputs": [
        {
          "output_type": "stream",
          "name": "stdout",
          "text": [
            "tensorflow version :2.9.2\n",
            "Found GPU at: /device:GPU:0\n"
          ]
        }
      ]
    },
    {
      "cell_type": "code",
      "metadata": {
        "colab": {
          "base_uri": "https://localhost:8080/"
        },
        "id": "GcgHainaexAf",
        "outputId": "61e90ca4-5b0b-49a2-82c9-59f3a9be7fde"
      },
      "source": [
        "from tensorflow.python.client import device_lib\n",
        "device_lib.list_local_devices()"
      ],
      "execution_count": null,
      "outputs": [
        {
          "output_type": "execute_result",
          "data": {
            "text/plain": [
              "[name: \"/device:CPU:0\"\n",
              " device_type: \"CPU\"\n",
              " memory_limit: 268435456\n",
              " locality {\n",
              " }\n",
              " incarnation: 12627873599581526842\n",
              " xla_global_id: -1, name: \"/device:GPU:0\"\n",
              " device_type: \"GPU\"\n",
              " memory_limit: 14417788928\n",
              " locality {\n",
              "   bus_id: 1\n",
              "   links {\n",
              "   }\n",
              " }\n",
              " incarnation: 5497988084050030104\n",
              " physical_device_desc: \"device: 0, name: Tesla T4, pci bus id: 0000:00:04.0, compute capability: 7.5\"\n",
              " xla_global_id: 416903419]"
            ]
          },
          "metadata": {},
          "execution_count": 5
        }
      ]
    },
    {
      "cell_type": "code",
      "metadata": {
        "id": "wXNT7HPDVvnG"
      },
      "source": [
        "#### physical_device_desc: \"device: 0, name: Tesla T4, pci bus id: 0000:00:04.0, compute capability: 7.5\"]"
      ],
      "execution_count": null,
      "outputs": []
    },
    {
      "cell_type": "code",
      "metadata": {
        "id": "VtduHlsdzllv"
      },
      "source": [
        "import pandas as pd\n",
        "import numpy as np\n",
        "import matplotlib.pyplot as plt\n",
        "from sklearn.model_selection import train_test_split\n",
        "from sklearn.preprocessing import MinMaxScaler, StandardScaler\n",
        "from sklearn.utils import class_weight"
      ],
      "execution_count": null,
      "outputs": []
    },
    {
      "cell_type": "code",
      "metadata": {
        "id": "wmDBFUYG5UTm"
      },
      "source": [
        "\n",
        "from keras.layers import Conv1D, Dense, Dropout, GlobalMaxPool1D, MaxPool1D\n",
        "from keras.layers import TimeDistributed, LSTM, Bidirectional, Input, concatenate,RepeatVector\n",
        "from keras import regularizers\n",
        "# from keras.layers.normalization import BatchNormalization\n",
        "from keras.models import Sequential, load_model, Model\n",
        "from keras.callbacks import ModelCheckpoint, Callback, EarlyStopping\n",
        "from tensorflow.keras.utils import plot_model, to_categorical\n",
        "from keras.losses import binary_crossentropy\n",
        "from keras.optimizers import Adam\n",
        "from sklearn.metrics import recall_score, precision_score, f1_score, accuracy_score\n",
        "from sklearn.metrics import confusion_matrix\n",
        "from keras.regularizers import l1,l2\n",
        "from statsmodels.tsa.stattools import adfuller"
      ],
      "execution_count": null,
      "outputs": []
    },
    {
      "cell_type": "code",
      "metadata": {
        "id": "knBwY4MXdknx"
      },
      "source": [
        "data_path = '/content/drive/MyDrive/CAV/data/Instant attack/10000/'"
      ],
      "execution_count": null,
      "outputs": []
    },
    {
      "cell_type": "code",
      "metadata": {
        "colab": {
          "base_uri": "https://localhost:8080/",
          "height": 206
        },
        "id": "uPy3-An4ynUz",
        "outputId": "3de63ae5-248c-43f9-8654-acabafee9108"
      },
      "source": [
        "sensor1_data = pd.read_csv(data_path + \"Sensor1_values_instant_10000.csv\", index_col= 'Unnamed: 0')\n",
        "sensor1_data.head()"
      ],
      "execution_count": null,
      "outputs": [
        {
          "output_type": "execute_result",
          "data": {
            "text/plain": [
              "   InVehicle_Longitudinal_Speed  GPS_Speed  InVehicle_Longitudinal_Accel\n",
              "0                     11.375000  11.307097                     -0.103000\n",
              "1                     11.366708  11.255964                     -0.353946\n",
              "2                     11.362331  11.249115                     -0.090962\n",
              "3                     11.358665  11.263280                     -0.043470\n",
              "4                     11.356745  11.270361                     -0.037579"
            ],
            "text/html": [
              "\n",
              "  <div id=\"df-66f58ddd-dc9d-4fbc-b1c3-38ac682410db\">\n",
              "    <div class=\"colab-df-container\">\n",
              "      <div>\n",
              "<style scoped>\n",
              "    .dataframe tbody tr th:only-of-type {\n",
              "        vertical-align: middle;\n",
              "    }\n",
              "\n",
              "    .dataframe tbody tr th {\n",
              "        vertical-align: top;\n",
              "    }\n",
              "\n",
              "    .dataframe thead th {\n",
              "        text-align: right;\n",
              "    }\n",
              "</style>\n",
              "<table border=\"1\" class=\"dataframe\">\n",
              "  <thead>\n",
              "    <tr style=\"text-align: right;\">\n",
              "      <th></th>\n",
              "      <th>InVehicle_Longitudinal_Speed</th>\n",
              "      <th>GPS_Speed</th>\n",
              "      <th>InVehicle_Longitudinal_Accel</th>\n",
              "    </tr>\n",
              "  </thead>\n",
              "  <tbody>\n",
              "    <tr>\n",
              "      <th>0</th>\n",
              "      <td>11.375000</td>\n",
              "      <td>11.307097</td>\n",
              "      <td>-0.103000</td>\n",
              "    </tr>\n",
              "    <tr>\n",
              "      <th>1</th>\n",
              "      <td>11.366708</td>\n",
              "      <td>11.255964</td>\n",
              "      <td>-0.353946</td>\n",
              "    </tr>\n",
              "    <tr>\n",
              "      <th>2</th>\n",
              "      <td>11.362331</td>\n",
              "      <td>11.249115</td>\n",
              "      <td>-0.090962</td>\n",
              "    </tr>\n",
              "    <tr>\n",
              "      <th>3</th>\n",
              "      <td>11.358665</td>\n",
              "      <td>11.263280</td>\n",
              "      <td>-0.043470</td>\n",
              "    </tr>\n",
              "    <tr>\n",
              "      <th>4</th>\n",
              "      <td>11.356745</td>\n",
              "      <td>11.270361</td>\n",
              "      <td>-0.037579</td>\n",
              "    </tr>\n",
              "  </tbody>\n",
              "</table>\n",
              "</div>\n",
              "      <button class=\"colab-df-convert\" onclick=\"convertToInteractive('df-66f58ddd-dc9d-4fbc-b1c3-38ac682410db')\"\n",
              "              title=\"Convert this dataframe to an interactive table.\"\n",
              "              style=\"display:none;\">\n",
              "        \n",
              "  <svg xmlns=\"http://www.w3.org/2000/svg\" height=\"24px\"viewBox=\"0 0 24 24\"\n",
              "       width=\"24px\">\n",
              "    <path d=\"M0 0h24v24H0V0z\" fill=\"none\"/>\n",
              "    <path d=\"M18.56 5.44l.94 2.06.94-2.06 2.06-.94-2.06-.94-.94-2.06-.94 2.06-2.06.94zm-11 1L8.5 8.5l.94-2.06 2.06-.94-2.06-.94L8.5 2.5l-.94 2.06-2.06.94zm10 10l.94 2.06.94-2.06 2.06-.94-2.06-.94-.94-2.06-.94 2.06-2.06.94z\"/><path d=\"M17.41 7.96l-1.37-1.37c-.4-.4-.92-.59-1.43-.59-.52 0-1.04.2-1.43.59L10.3 9.45l-7.72 7.72c-.78.78-.78 2.05 0 2.83L4 21.41c.39.39.9.59 1.41.59.51 0 1.02-.2 1.41-.59l7.78-7.78 2.81-2.81c.8-.78.8-2.07 0-2.86zM5.41 20L4 18.59l7.72-7.72 1.47 1.35L5.41 20z\"/>\n",
              "  </svg>\n",
              "      </button>\n",
              "      \n",
              "  <style>\n",
              "    .colab-df-container {\n",
              "      display:flex;\n",
              "      flex-wrap:wrap;\n",
              "      gap: 12px;\n",
              "    }\n",
              "\n",
              "    .colab-df-convert {\n",
              "      background-color: #E8F0FE;\n",
              "      border: none;\n",
              "      border-radius: 50%;\n",
              "      cursor: pointer;\n",
              "      display: none;\n",
              "      fill: #1967D2;\n",
              "      height: 32px;\n",
              "      padding: 0 0 0 0;\n",
              "      width: 32px;\n",
              "    }\n",
              "\n",
              "    .colab-df-convert:hover {\n",
              "      background-color: #E2EBFA;\n",
              "      box-shadow: 0px 1px 2px rgba(60, 64, 67, 0.3), 0px 1px 3px 1px rgba(60, 64, 67, 0.15);\n",
              "      fill: #174EA6;\n",
              "    }\n",
              "\n",
              "    [theme=dark] .colab-df-convert {\n",
              "      background-color: #3B4455;\n",
              "      fill: #D2E3FC;\n",
              "    }\n",
              "\n",
              "    [theme=dark] .colab-df-convert:hover {\n",
              "      background-color: #434B5C;\n",
              "      box-shadow: 0px 1px 3px 1px rgba(0, 0, 0, 0.15);\n",
              "      filter: drop-shadow(0px 1px 2px rgba(0, 0, 0, 0.3));\n",
              "      fill: #FFFFFF;\n",
              "    }\n",
              "  </style>\n",
              "\n",
              "      <script>\n",
              "        const buttonEl =\n",
              "          document.querySelector('#df-66f58ddd-dc9d-4fbc-b1c3-38ac682410db button.colab-df-convert');\n",
              "        buttonEl.style.display =\n",
              "          google.colab.kernel.accessAllowed ? 'block' : 'none';\n",
              "\n",
              "        async function convertToInteractive(key) {\n",
              "          const element = document.querySelector('#df-66f58ddd-dc9d-4fbc-b1c3-38ac682410db');\n",
              "          const dataTable =\n",
              "            await google.colab.kernel.invokeFunction('convertToInteractive',\n",
              "                                                     [key], {});\n",
              "          if (!dataTable) return;\n",
              "\n",
              "          const docLinkHtml = 'Like what you see? Visit the ' +\n",
              "            '<a target=\"_blank\" href=https://colab.research.google.com/notebooks/data_table.ipynb>data table notebook</a>'\n",
              "            + ' to learn more about interactive tables.';\n",
              "          element.innerHTML = '';\n",
              "          dataTable['output_type'] = 'display_data';\n",
              "          await google.colab.output.renderOutput(dataTable, element);\n",
              "          const docLink = document.createElement('div');\n",
              "          docLink.innerHTML = docLinkHtml;\n",
              "          element.appendChild(docLink);\n",
              "        }\n",
              "      </script>\n",
              "    </div>\n",
              "  </div>\n",
              "  "
            ]
          },
          "metadata": {},
          "execution_count": 10
        }
      ]
    },
    {
      "cell_type": "code",
      "metadata": {
        "colab": {
          "base_uri": "https://localhost:8080/"
        },
        "id": "NkKyrb2sQCni",
        "outputId": "989258c4-986c-45a9-e137-29c4d11890f9"
      },
      "source": [
        "len(sensor1_data)"
      ],
      "execution_count": null,
      "outputs": [
        {
          "output_type": "execute_result",
          "data": {
            "text/plain": [
              "29800"
            ]
          },
          "metadata": {},
          "execution_count": 11
        }
      ]
    },
    {
      "cell_type": "code",
      "metadata": {
        "colab": {
          "base_uri": "https://localhost:8080/",
          "height": 206
        },
        "id": "OYhwlWY8z4N6",
        "outputId": "f23ebc40-b6c6-4ab2-c54f-be8a70e10258"
      },
      "source": [
        "sensor1_label = pd.read_csv(data_path+\"Ground_truth_instant_10000_sensor1.csv\", names=['Class'])\n",
        "sensor1_label.head()"
      ],
      "execution_count": null,
      "outputs": [
        {
          "output_type": "execute_result",
          "data": {
            "text/plain": [
              "   Class\n",
              "0    0.0\n",
              "1    0.0\n",
              "2    0.0\n",
              "3    0.0\n",
              "4    0.0"
            ],
            "text/html": [
              "\n",
              "  <div id=\"df-723c7830-fbb8-40b2-aa5a-48f8b935696d\">\n",
              "    <div class=\"colab-df-container\">\n",
              "      <div>\n",
              "<style scoped>\n",
              "    .dataframe tbody tr th:only-of-type {\n",
              "        vertical-align: middle;\n",
              "    }\n",
              "\n",
              "    .dataframe tbody tr th {\n",
              "        vertical-align: top;\n",
              "    }\n",
              "\n",
              "    .dataframe thead th {\n",
              "        text-align: right;\n",
              "    }\n",
              "</style>\n",
              "<table border=\"1\" class=\"dataframe\">\n",
              "  <thead>\n",
              "    <tr style=\"text-align: right;\">\n",
              "      <th></th>\n",
              "      <th>Class</th>\n",
              "    </tr>\n",
              "  </thead>\n",
              "  <tbody>\n",
              "    <tr>\n",
              "      <th>0</th>\n",
              "      <td>0.0</td>\n",
              "    </tr>\n",
              "    <tr>\n",
              "      <th>1</th>\n",
              "      <td>0.0</td>\n",
              "    </tr>\n",
              "    <tr>\n",
              "      <th>2</th>\n",
              "      <td>0.0</td>\n",
              "    </tr>\n",
              "    <tr>\n",
              "      <th>3</th>\n",
              "      <td>0.0</td>\n",
              "    </tr>\n",
              "    <tr>\n",
              "      <th>4</th>\n",
              "      <td>0.0</td>\n",
              "    </tr>\n",
              "  </tbody>\n",
              "</table>\n",
              "</div>\n",
              "      <button class=\"colab-df-convert\" onclick=\"convertToInteractive('df-723c7830-fbb8-40b2-aa5a-48f8b935696d')\"\n",
              "              title=\"Convert this dataframe to an interactive table.\"\n",
              "              style=\"display:none;\">\n",
              "        \n",
              "  <svg xmlns=\"http://www.w3.org/2000/svg\" height=\"24px\"viewBox=\"0 0 24 24\"\n",
              "       width=\"24px\">\n",
              "    <path d=\"M0 0h24v24H0V0z\" fill=\"none\"/>\n",
              "    <path d=\"M18.56 5.44l.94 2.06.94-2.06 2.06-.94-2.06-.94-.94-2.06-.94 2.06-2.06.94zm-11 1L8.5 8.5l.94-2.06 2.06-.94-2.06-.94L8.5 2.5l-.94 2.06-2.06.94zm10 10l.94 2.06.94-2.06 2.06-.94-2.06-.94-.94-2.06-.94 2.06-2.06.94z\"/><path d=\"M17.41 7.96l-1.37-1.37c-.4-.4-.92-.59-1.43-.59-.52 0-1.04.2-1.43.59L10.3 9.45l-7.72 7.72c-.78.78-.78 2.05 0 2.83L4 21.41c.39.39.9.59 1.41.59.51 0 1.02-.2 1.41-.59l7.78-7.78 2.81-2.81c.8-.78.8-2.07 0-2.86zM5.41 20L4 18.59l7.72-7.72 1.47 1.35L5.41 20z\"/>\n",
              "  </svg>\n",
              "      </button>\n",
              "      \n",
              "  <style>\n",
              "    .colab-df-container {\n",
              "      display:flex;\n",
              "      flex-wrap:wrap;\n",
              "      gap: 12px;\n",
              "    }\n",
              "\n",
              "    .colab-df-convert {\n",
              "      background-color: #E8F0FE;\n",
              "      border: none;\n",
              "      border-radius: 50%;\n",
              "      cursor: pointer;\n",
              "      display: none;\n",
              "      fill: #1967D2;\n",
              "      height: 32px;\n",
              "      padding: 0 0 0 0;\n",
              "      width: 32px;\n",
              "    }\n",
              "\n",
              "    .colab-df-convert:hover {\n",
              "      background-color: #E2EBFA;\n",
              "      box-shadow: 0px 1px 2px rgba(60, 64, 67, 0.3), 0px 1px 3px 1px rgba(60, 64, 67, 0.15);\n",
              "      fill: #174EA6;\n",
              "    }\n",
              "\n",
              "    [theme=dark] .colab-df-convert {\n",
              "      background-color: #3B4455;\n",
              "      fill: #D2E3FC;\n",
              "    }\n",
              "\n",
              "    [theme=dark] .colab-df-convert:hover {\n",
              "      background-color: #434B5C;\n",
              "      box-shadow: 0px 1px 3px 1px rgba(0, 0, 0, 0.15);\n",
              "      filter: drop-shadow(0px 1px 2px rgba(0, 0, 0, 0.3));\n",
              "      fill: #FFFFFF;\n",
              "    }\n",
              "  </style>\n",
              "\n",
              "      <script>\n",
              "        const buttonEl =\n",
              "          document.querySelector('#df-723c7830-fbb8-40b2-aa5a-48f8b935696d button.colab-df-convert');\n",
              "        buttonEl.style.display =\n",
              "          google.colab.kernel.accessAllowed ? 'block' : 'none';\n",
              "\n",
              "        async function convertToInteractive(key) {\n",
              "          const element = document.querySelector('#df-723c7830-fbb8-40b2-aa5a-48f8b935696d');\n",
              "          const dataTable =\n",
              "            await google.colab.kernel.invokeFunction('convertToInteractive',\n",
              "                                                     [key], {});\n",
              "          if (!dataTable) return;\n",
              "\n",
              "          const docLinkHtml = 'Like what you see? Visit the ' +\n",
              "            '<a target=\"_blank\" href=https://colab.research.google.com/notebooks/data_table.ipynb>data table notebook</a>'\n",
              "            + ' to learn more about interactive tables.';\n",
              "          element.innerHTML = '';\n",
              "          dataTable['output_type'] = 'display_data';\n",
              "          await google.colab.output.renderOutput(dataTable, element);\n",
              "          const docLink = document.createElement('div');\n",
              "          docLink.innerHTML = docLinkHtml;\n",
              "          element.appendChild(docLink);\n",
              "        }\n",
              "      </script>\n",
              "    </div>\n",
              "  </div>\n",
              "  "
            ]
          },
          "metadata": {},
          "execution_count": 12
        }
      ]
    },
    {
      "cell_type": "code",
      "metadata": {
        "colab": {
          "base_uri": "https://localhost:8080/"
        },
        "id": "2mxdhpBpQMjZ",
        "outputId": "c54610f4-52e3-4c30-830e-deea608ba7d7"
      },
      "source": [
        "len(sensor1_label)"
      ],
      "execution_count": null,
      "outputs": [
        {
          "output_type": "execute_result",
          "data": {
            "text/plain": [
              "29800"
            ]
          },
          "metadata": {},
          "execution_count": 13
        }
      ]
    },
    {
      "cell_type": "code",
      "metadata": {
        "id": "hV_gOXr70BKL",
        "colab": {
          "base_uri": "https://localhost:8080/",
          "height": 206
        },
        "outputId": "ca7a36b1-aa5f-43d9-8a6e-aae7a757dffe"
      },
      "source": [
        "sensor2_data = pd.read_csv(data_path + \"Sensor2_values_instant_10000.csv\", index_col = \"Unnamed: 0\")\n",
        "sensor2_data.head()"
      ],
      "execution_count": null,
      "outputs": [
        {
          "output_type": "execute_result",
          "data": {
            "text/plain": [
              "   InVehicle_Longitudinal_Speed  GPS_Speed  InVehicle_Longitudinal_Accel\n",
              "0                     11.375000  11.307097                     -0.103000\n",
              "1                     11.366708  11.255964                     -0.353946\n",
              "2                     11.362331  11.249115                     -0.090962\n",
              "3                     11.358665  11.263280                     -0.043470\n",
              "4                     11.356745  11.270361                     -0.037579"
            ],
            "text/html": [
              "\n",
              "  <div id=\"df-2dbd66d3-5466-4903-8cd6-c84ea1220155\">\n",
              "    <div class=\"colab-df-container\">\n",
              "      <div>\n",
              "<style scoped>\n",
              "    .dataframe tbody tr th:only-of-type {\n",
              "        vertical-align: middle;\n",
              "    }\n",
              "\n",
              "    .dataframe tbody tr th {\n",
              "        vertical-align: top;\n",
              "    }\n",
              "\n",
              "    .dataframe thead th {\n",
              "        text-align: right;\n",
              "    }\n",
              "</style>\n",
              "<table border=\"1\" class=\"dataframe\">\n",
              "  <thead>\n",
              "    <tr style=\"text-align: right;\">\n",
              "      <th></th>\n",
              "      <th>InVehicle_Longitudinal_Speed</th>\n",
              "      <th>GPS_Speed</th>\n",
              "      <th>InVehicle_Longitudinal_Accel</th>\n",
              "    </tr>\n",
              "  </thead>\n",
              "  <tbody>\n",
              "    <tr>\n",
              "      <th>0</th>\n",
              "      <td>11.375000</td>\n",
              "      <td>11.307097</td>\n",
              "      <td>-0.103000</td>\n",
              "    </tr>\n",
              "    <tr>\n",
              "      <th>1</th>\n",
              "      <td>11.366708</td>\n",
              "      <td>11.255964</td>\n",
              "      <td>-0.353946</td>\n",
              "    </tr>\n",
              "    <tr>\n",
              "      <th>2</th>\n",
              "      <td>11.362331</td>\n",
              "      <td>11.249115</td>\n",
              "      <td>-0.090962</td>\n",
              "    </tr>\n",
              "    <tr>\n",
              "      <th>3</th>\n",
              "      <td>11.358665</td>\n",
              "      <td>11.263280</td>\n",
              "      <td>-0.043470</td>\n",
              "    </tr>\n",
              "    <tr>\n",
              "      <th>4</th>\n",
              "      <td>11.356745</td>\n",
              "      <td>11.270361</td>\n",
              "      <td>-0.037579</td>\n",
              "    </tr>\n",
              "  </tbody>\n",
              "</table>\n",
              "</div>\n",
              "      <button class=\"colab-df-convert\" onclick=\"convertToInteractive('df-2dbd66d3-5466-4903-8cd6-c84ea1220155')\"\n",
              "              title=\"Convert this dataframe to an interactive table.\"\n",
              "              style=\"display:none;\">\n",
              "        \n",
              "  <svg xmlns=\"http://www.w3.org/2000/svg\" height=\"24px\"viewBox=\"0 0 24 24\"\n",
              "       width=\"24px\">\n",
              "    <path d=\"M0 0h24v24H0V0z\" fill=\"none\"/>\n",
              "    <path d=\"M18.56 5.44l.94 2.06.94-2.06 2.06-.94-2.06-.94-.94-2.06-.94 2.06-2.06.94zm-11 1L8.5 8.5l.94-2.06 2.06-.94-2.06-.94L8.5 2.5l-.94 2.06-2.06.94zm10 10l.94 2.06.94-2.06 2.06-.94-2.06-.94-.94-2.06-.94 2.06-2.06.94z\"/><path d=\"M17.41 7.96l-1.37-1.37c-.4-.4-.92-.59-1.43-.59-.52 0-1.04.2-1.43.59L10.3 9.45l-7.72 7.72c-.78.78-.78 2.05 0 2.83L4 21.41c.39.39.9.59 1.41.59.51 0 1.02-.2 1.41-.59l7.78-7.78 2.81-2.81c.8-.78.8-2.07 0-2.86zM5.41 20L4 18.59l7.72-7.72 1.47 1.35L5.41 20z\"/>\n",
              "  </svg>\n",
              "      </button>\n",
              "      \n",
              "  <style>\n",
              "    .colab-df-container {\n",
              "      display:flex;\n",
              "      flex-wrap:wrap;\n",
              "      gap: 12px;\n",
              "    }\n",
              "\n",
              "    .colab-df-convert {\n",
              "      background-color: #E8F0FE;\n",
              "      border: none;\n",
              "      border-radius: 50%;\n",
              "      cursor: pointer;\n",
              "      display: none;\n",
              "      fill: #1967D2;\n",
              "      height: 32px;\n",
              "      padding: 0 0 0 0;\n",
              "      width: 32px;\n",
              "    }\n",
              "\n",
              "    .colab-df-convert:hover {\n",
              "      background-color: #E2EBFA;\n",
              "      box-shadow: 0px 1px 2px rgba(60, 64, 67, 0.3), 0px 1px 3px 1px rgba(60, 64, 67, 0.15);\n",
              "      fill: #174EA6;\n",
              "    }\n",
              "\n",
              "    [theme=dark] .colab-df-convert {\n",
              "      background-color: #3B4455;\n",
              "      fill: #D2E3FC;\n",
              "    }\n",
              "\n",
              "    [theme=dark] .colab-df-convert:hover {\n",
              "      background-color: #434B5C;\n",
              "      box-shadow: 0px 1px 3px 1px rgba(0, 0, 0, 0.15);\n",
              "      filter: drop-shadow(0px 1px 2px rgba(0, 0, 0, 0.3));\n",
              "      fill: #FFFFFF;\n",
              "    }\n",
              "  </style>\n",
              "\n",
              "      <script>\n",
              "        const buttonEl =\n",
              "          document.querySelector('#df-2dbd66d3-5466-4903-8cd6-c84ea1220155 button.colab-df-convert');\n",
              "        buttonEl.style.display =\n",
              "          google.colab.kernel.accessAllowed ? 'block' : 'none';\n",
              "\n",
              "        async function convertToInteractive(key) {\n",
              "          const element = document.querySelector('#df-2dbd66d3-5466-4903-8cd6-c84ea1220155');\n",
              "          const dataTable =\n",
              "            await google.colab.kernel.invokeFunction('convertToInteractive',\n",
              "                                                     [key], {});\n",
              "          if (!dataTable) return;\n",
              "\n",
              "          const docLinkHtml = 'Like what you see? Visit the ' +\n",
              "            '<a target=\"_blank\" href=https://colab.research.google.com/notebooks/data_table.ipynb>data table notebook</a>'\n",
              "            + ' to learn more about interactive tables.';\n",
              "          element.innerHTML = '';\n",
              "          dataTable['output_type'] = 'display_data';\n",
              "          await google.colab.output.renderOutput(dataTable, element);\n",
              "          const docLink = document.createElement('div');\n",
              "          docLink.innerHTML = docLinkHtml;\n",
              "          element.appendChild(docLink);\n",
              "        }\n",
              "      </script>\n",
              "    </div>\n",
              "  </div>\n",
              "  "
            ]
          },
          "metadata": {},
          "execution_count": 14
        }
      ]
    },
    {
      "cell_type": "code",
      "metadata": {
        "id": "8PtBb1m00oRX",
        "colab": {
          "base_uri": "https://localhost:8080/",
          "height": 206
        },
        "outputId": "788a3f05-860f-4a39-e77f-12eef3ad5b27"
      },
      "source": [
        "sensor2_label = pd.read_csv(data_path + \"Ground_truth_instant_10000_sensor2.csv\",names=['Class'])\n",
        "sensor2_label.head()"
      ],
      "execution_count": null,
      "outputs": [
        {
          "output_type": "execute_result",
          "data": {
            "text/plain": [
              "   Class\n",
              "0    0.0\n",
              "1    0.0\n",
              "2    0.0\n",
              "3    0.0\n",
              "4    0.0"
            ],
            "text/html": [
              "\n",
              "  <div id=\"df-f2f0d851-90ed-4bf3-8148-363fb1ec0f01\">\n",
              "    <div class=\"colab-df-container\">\n",
              "      <div>\n",
              "<style scoped>\n",
              "    .dataframe tbody tr th:only-of-type {\n",
              "        vertical-align: middle;\n",
              "    }\n",
              "\n",
              "    .dataframe tbody tr th {\n",
              "        vertical-align: top;\n",
              "    }\n",
              "\n",
              "    .dataframe thead th {\n",
              "        text-align: right;\n",
              "    }\n",
              "</style>\n",
              "<table border=\"1\" class=\"dataframe\">\n",
              "  <thead>\n",
              "    <tr style=\"text-align: right;\">\n",
              "      <th></th>\n",
              "      <th>Class</th>\n",
              "    </tr>\n",
              "  </thead>\n",
              "  <tbody>\n",
              "    <tr>\n",
              "      <th>0</th>\n",
              "      <td>0.0</td>\n",
              "    </tr>\n",
              "    <tr>\n",
              "      <th>1</th>\n",
              "      <td>0.0</td>\n",
              "    </tr>\n",
              "    <tr>\n",
              "      <th>2</th>\n",
              "      <td>0.0</td>\n",
              "    </tr>\n",
              "    <tr>\n",
              "      <th>3</th>\n",
              "      <td>0.0</td>\n",
              "    </tr>\n",
              "    <tr>\n",
              "      <th>4</th>\n",
              "      <td>0.0</td>\n",
              "    </tr>\n",
              "  </tbody>\n",
              "</table>\n",
              "</div>\n",
              "      <button class=\"colab-df-convert\" onclick=\"convertToInteractive('df-f2f0d851-90ed-4bf3-8148-363fb1ec0f01')\"\n",
              "              title=\"Convert this dataframe to an interactive table.\"\n",
              "              style=\"display:none;\">\n",
              "        \n",
              "  <svg xmlns=\"http://www.w3.org/2000/svg\" height=\"24px\"viewBox=\"0 0 24 24\"\n",
              "       width=\"24px\">\n",
              "    <path d=\"M0 0h24v24H0V0z\" fill=\"none\"/>\n",
              "    <path d=\"M18.56 5.44l.94 2.06.94-2.06 2.06-.94-2.06-.94-.94-2.06-.94 2.06-2.06.94zm-11 1L8.5 8.5l.94-2.06 2.06-.94-2.06-.94L8.5 2.5l-.94 2.06-2.06.94zm10 10l.94 2.06.94-2.06 2.06-.94-2.06-.94-.94-2.06-.94 2.06-2.06.94z\"/><path d=\"M17.41 7.96l-1.37-1.37c-.4-.4-.92-.59-1.43-.59-.52 0-1.04.2-1.43.59L10.3 9.45l-7.72 7.72c-.78.78-.78 2.05 0 2.83L4 21.41c.39.39.9.59 1.41.59.51 0 1.02-.2 1.41-.59l7.78-7.78 2.81-2.81c.8-.78.8-2.07 0-2.86zM5.41 20L4 18.59l7.72-7.72 1.47 1.35L5.41 20z\"/>\n",
              "  </svg>\n",
              "      </button>\n",
              "      \n",
              "  <style>\n",
              "    .colab-df-container {\n",
              "      display:flex;\n",
              "      flex-wrap:wrap;\n",
              "      gap: 12px;\n",
              "    }\n",
              "\n",
              "    .colab-df-convert {\n",
              "      background-color: #E8F0FE;\n",
              "      border: none;\n",
              "      border-radius: 50%;\n",
              "      cursor: pointer;\n",
              "      display: none;\n",
              "      fill: #1967D2;\n",
              "      height: 32px;\n",
              "      padding: 0 0 0 0;\n",
              "      width: 32px;\n",
              "    }\n",
              "\n",
              "    .colab-df-convert:hover {\n",
              "      background-color: #E2EBFA;\n",
              "      box-shadow: 0px 1px 2px rgba(60, 64, 67, 0.3), 0px 1px 3px 1px rgba(60, 64, 67, 0.15);\n",
              "      fill: #174EA6;\n",
              "    }\n",
              "\n",
              "    [theme=dark] .colab-df-convert {\n",
              "      background-color: #3B4455;\n",
              "      fill: #D2E3FC;\n",
              "    }\n",
              "\n",
              "    [theme=dark] .colab-df-convert:hover {\n",
              "      background-color: #434B5C;\n",
              "      box-shadow: 0px 1px 3px 1px rgba(0, 0, 0, 0.15);\n",
              "      filter: drop-shadow(0px 1px 2px rgba(0, 0, 0, 0.3));\n",
              "      fill: #FFFFFF;\n",
              "    }\n",
              "  </style>\n",
              "\n",
              "      <script>\n",
              "        const buttonEl =\n",
              "          document.querySelector('#df-f2f0d851-90ed-4bf3-8148-363fb1ec0f01 button.colab-df-convert');\n",
              "        buttonEl.style.display =\n",
              "          google.colab.kernel.accessAllowed ? 'block' : 'none';\n",
              "\n",
              "        async function convertToInteractive(key) {\n",
              "          const element = document.querySelector('#df-f2f0d851-90ed-4bf3-8148-363fb1ec0f01');\n",
              "          const dataTable =\n",
              "            await google.colab.kernel.invokeFunction('convertToInteractive',\n",
              "                                                     [key], {});\n",
              "          if (!dataTable) return;\n",
              "\n",
              "          const docLinkHtml = 'Like what you see? Visit the ' +\n",
              "            '<a target=\"_blank\" href=https://colab.research.google.com/notebooks/data_table.ipynb>data table notebook</a>'\n",
              "            + ' to learn more about interactive tables.';\n",
              "          element.innerHTML = '';\n",
              "          dataTable['output_type'] = 'display_data';\n",
              "          await google.colab.output.renderOutput(dataTable, element);\n",
              "          const docLink = document.createElement('div');\n",
              "          docLink.innerHTML = docLinkHtml;\n",
              "          element.appendChild(docLink);\n",
              "        }\n",
              "      </script>\n",
              "    </div>\n",
              "  </div>\n",
              "  "
            ]
          },
          "metadata": {},
          "execution_count": 15
        }
      ]
    },
    {
      "cell_type": "code",
      "metadata": {
        "id": "mCLgKYTJ0f7t",
        "colab": {
          "base_uri": "https://localhost:8080/",
          "height": 206
        },
        "outputId": "a1c10cb4-fe5e-400b-fccf-1894539c63ed"
      },
      "source": [
        "sensor3_data = pd.read_csv(data_path + \"Sensor3_values_instant_10000.csv\", index_col = \"Unnamed: 0\")\n",
        "sensor3_data.head()"
      ],
      "execution_count": null,
      "outputs": [
        {
          "output_type": "execute_result",
          "data": {
            "text/plain": [
              "   InVehicle_Longitudinal_Speed  GPS_Speed  InVehicle_Longitudinal_Accel\n",
              "0                     11.375000  11.307097                     -0.103000\n",
              "1                     11.366708  11.255964                     -0.353946\n",
              "2                     11.362331  11.249115                     -0.090962\n",
              "3                     11.358665  11.263280                     -0.043470\n",
              "4                     11.356745  11.270361                     -0.037579"
            ],
            "text/html": [
              "\n",
              "  <div id=\"df-64ce4a06-2cba-4699-8ed9-aad63acc08c0\">\n",
              "    <div class=\"colab-df-container\">\n",
              "      <div>\n",
              "<style scoped>\n",
              "    .dataframe tbody tr th:only-of-type {\n",
              "        vertical-align: middle;\n",
              "    }\n",
              "\n",
              "    .dataframe tbody tr th {\n",
              "        vertical-align: top;\n",
              "    }\n",
              "\n",
              "    .dataframe thead th {\n",
              "        text-align: right;\n",
              "    }\n",
              "</style>\n",
              "<table border=\"1\" class=\"dataframe\">\n",
              "  <thead>\n",
              "    <tr style=\"text-align: right;\">\n",
              "      <th></th>\n",
              "      <th>InVehicle_Longitudinal_Speed</th>\n",
              "      <th>GPS_Speed</th>\n",
              "      <th>InVehicle_Longitudinal_Accel</th>\n",
              "    </tr>\n",
              "  </thead>\n",
              "  <tbody>\n",
              "    <tr>\n",
              "      <th>0</th>\n",
              "      <td>11.375000</td>\n",
              "      <td>11.307097</td>\n",
              "      <td>-0.103000</td>\n",
              "    </tr>\n",
              "    <tr>\n",
              "      <th>1</th>\n",
              "      <td>11.366708</td>\n",
              "      <td>11.255964</td>\n",
              "      <td>-0.353946</td>\n",
              "    </tr>\n",
              "    <tr>\n",
              "      <th>2</th>\n",
              "      <td>11.362331</td>\n",
              "      <td>11.249115</td>\n",
              "      <td>-0.090962</td>\n",
              "    </tr>\n",
              "    <tr>\n",
              "      <th>3</th>\n",
              "      <td>11.358665</td>\n",
              "      <td>11.263280</td>\n",
              "      <td>-0.043470</td>\n",
              "    </tr>\n",
              "    <tr>\n",
              "      <th>4</th>\n",
              "      <td>11.356745</td>\n",
              "      <td>11.270361</td>\n",
              "      <td>-0.037579</td>\n",
              "    </tr>\n",
              "  </tbody>\n",
              "</table>\n",
              "</div>\n",
              "      <button class=\"colab-df-convert\" onclick=\"convertToInteractive('df-64ce4a06-2cba-4699-8ed9-aad63acc08c0')\"\n",
              "              title=\"Convert this dataframe to an interactive table.\"\n",
              "              style=\"display:none;\">\n",
              "        \n",
              "  <svg xmlns=\"http://www.w3.org/2000/svg\" height=\"24px\"viewBox=\"0 0 24 24\"\n",
              "       width=\"24px\">\n",
              "    <path d=\"M0 0h24v24H0V0z\" fill=\"none\"/>\n",
              "    <path d=\"M18.56 5.44l.94 2.06.94-2.06 2.06-.94-2.06-.94-.94-2.06-.94 2.06-2.06.94zm-11 1L8.5 8.5l.94-2.06 2.06-.94-2.06-.94L8.5 2.5l-.94 2.06-2.06.94zm10 10l.94 2.06.94-2.06 2.06-.94-2.06-.94-.94-2.06-.94 2.06-2.06.94z\"/><path d=\"M17.41 7.96l-1.37-1.37c-.4-.4-.92-.59-1.43-.59-.52 0-1.04.2-1.43.59L10.3 9.45l-7.72 7.72c-.78.78-.78 2.05 0 2.83L4 21.41c.39.39.9.59 1.41.59.51 0 1.02-.2 1.41-.59l7.78-7.78 2.81-2.81c.8-.78.8-2.07 0-2.86zM5.41 20L4 18.59l7.72-7.72 1.47 1.35L5.41 20z\"/>\n",
              "  </svg>\n",
              "      </button>\n",
              "      \n",
              "  <style>\n",
              "    .colab-df-container {\n",
              "      display:flex;\n",
              "      flex-wrap:wrap;\n",
              "      gap: 12px;\n",
              "    }\n",
              "\n",
              "    .colab-df-convert {\n",
              "      background-color: #E8F0FE;\n",
              "      border: none;\n",
              "      border-radius: 50%;\n",
              "      cursor: pointer;\n",
              "      display: none;\n",
              "      fill: #1967D2;\n",
              "      height: 32px;\n",
              "      padding: 0 0 0 0;\n",
              "      width: 32px;\n",
              "    }\n",
              "\n",
              "    .colab-df-convert:hover {\n",
              "      background-color: #E2EBFA;\n",
              "      box-shadow: 0px 1px 2px rgba(60, 64, 67, 0.3), 0px 1px 3px 1px rgba(60, 64, 67, 0.15);\n",
              "      fill: #174EA6;\n",
              "    }\n",
              "\n",
              "    [theme=dark] .colab-df-convert {\n",
              "      background-color: #3B4455;\n",
              "      fill: #D2E3FC;\n",
              "    }\n",
              "\n",
              "    [theme=dark] .colab-df-convert:hover {\n",
              "      background-color: #434B5C;\n",
              "      box-shadow: 0px 1px 3px 1px rgba(0, 0, 0, 0.15);\n",
              "      filter: drop-shadow(0px 1px 2px rgba(0, 0, 0, 0.3));\n",
              "      fill: #FFFFFF;\n",
              "    }\n",
              "  </style>\n",
              "\n",
              "      <script>\n",
              "        const buttonEl =\n",
              "          document.querySelector('#df-64ce4a06-2cba-4699-8ed9-aad63acc08c0 button.colab-df-convert');\n",
              "        buttonEl.style.display =\n",
              "          google.colab.kernel.accessAllowed ? 'block' : 'none';\n",
              "\n",
              "        async function convertToInteractive(key) {\n",
              "          const element = document.querySelector('#df-64ce4a06-2cba-4699-8ed9-aad63acc08c0');\n",
              "          const dataTable =\n",
              "            await google.colab.kernel.invokeFunction('convertToInteractive',\n",
              "                                                     [key], {});\n",
              "          if (!dataTable) return;\n",
              "\n",
              "          const docLinkHtml = 'Like what you see? Visit the ' +\n",
              "            '<a target=\"_blank\" href=https://colab.research.google.com/notebooks/data_table.ipynb>data table notebook</a>'\n",
              "            + ' to learn more about interactive tables.';\n",
              "          element.innerHTML = '';\n",
              "          dataTable['output_type'] = 'display_data';\n",
              "          await google.colab.output.renderOutput(dataTable, element);\n",
              "          const docLink = document.createElement('div');\n",
              "          docLink.innerHTML = docLinkHtml;\n",
              "          element.appendChild(docLink);\n",
              "        }\n",
              "      </script>\n",
              "    </div>\n",
              "  </div>\n",
              "  "
            ]
          },
          "metadata": {},
          "execution_count": 16
        }
      ]
    },
    {
      "cell_type": "code",
      "metadata": {
        "id": "7bkpmS8x0lfa",
        "colab": {
          "base_uri": "https://localhost:8080/",
          "height": 206
        },
        "outputId": "0fc4e903-e3b6-4e2e-eeec-b9d77eb819fb"
      },
      "source": [
        "sensor3_label = pd.read_csv(data_path + \"Ground_truth_instant_10000_sensor3.csv\", names=['Class'])\n",
        "sensor3_label.head()"
      ],
      "execution_count": null,
      "outputs": [
        {
          "output_type": "execute_result",
          "data": {
            "text/plain": [
              "   Class\n",
              "0    0.0\n",
              "1    0.0\n",
              "2    0.0\n",
              "3    0.0\n",
              "4    0.0"
            ],
            "text/html": [
              "\n",
              "  <div id=\"df-7b5a8ad0-b810-497b-b78e-6f64e8af9d80\">\n",
              "    <div class=\"colab-df-container\">\n",
              "      <div>\n",
              "<style scoped>\n",
              "    .dataframe tbody tr th:only-of-type {\n",
              "        vertical-align: middle;\n",
              "    }\n",
              "\n",
              "    .dataframe tbody tr th {\n",
              "        vertical-align: top;\n",
              "    }\n",
              "\n",
              "    .dataframe thead th {\n",
              "        text-align: right;\n",
              "    }\n",
              "</style>\n",
              "<table border=\"1\" class=\"dataframe\">\n",
              "  <thead>\n",
              "    <tr style=\"text-align: right;\">\n",
              "      <th></th>\n",
              "      <th>Class</th>\n",
              "    </tr>\n",
              "  </thead>\n",
              "  <tbody>\n",
              "    <tr>\n",
              "      <th>0</th>\n",
              "      <td>0.0</td>\n",
              "    </tr>\n",
              "    <tr>\n",
              "      <th>1</th>\n",
              "      <td>0.0</td>\n",
              "    </tr>\n",
              "    <tr>\n",
              "      <th>2</th>\n",
              "      <td>0.0</td>\n",
              "    </tr>\n",
              "    <tr>\n",
              "      <th>3</th>\n",
              "      <td>0.0</td>\n",
              "    </tr>\n",
              "    <tr>\n",
              "      <th>4</th>\n",
              "      <td>0.0</td>\n",
              "    </tr>\n",
              "  </tbody>\n",
              "</table>\n",
              "</div>\n",
              "      <button class=\"colab-df-convert\" onclick=\"convertToInteractive('df-7b5a8ad0-b810-497b-b78e-6f64e8af9d80')\"\n",
              "              title=\"Convert this dataframe to an interactive table.\"\n",
              "              style=\"display:none;\">\n",
              "        \n",
              "  <svg xmlns=\"http://www.w3.org/2000/svg\" height=\"24px\"viewBox=\"0 0 24 24\"\n",
              "       width=\"24px\">\n",
              "    <path d=\"M0 0h24v24H0V0z\" fill=\"none\"/>\n",
              "    <path d=\"M18.56 5.44l.94 2.06.94-2.06 2.06-.94-2.06-.94-.94-2.06-.94 2.06-2.06.94zm-11 1L8.5 8.5l.94-2.06 2.06-.94-2.06-.94L8.5 2.5l-.94 2.06-2.06.94zm10 10l.94 2.06.94-2.06 2.06-.94-2.06-.94-.94-2.06-.94 2.06-2.06.94z\"/><path d=\"M17.41 7.96l-1.37-1.37c-.4-.4-.92-.59-1.43-.59-.52 0-1.04.2-1.43.59L10.3 9.45l-7.72 7.72c-.78.78-.78 2.05 0 2.83L4 21.41c.39.39.9.59 1.41.59.51 0 1.02-.2 1.41-.59l7.78-7.78 2.81-2.81c.8-.78.8-2.07 0-2.86zM5.41 20L4 18.59l7.72-7.72 1.47 1.35L5.41 20z\"/>\n",
              "  </svg>\n",
              "      </button>\n",
              "      \n",
              "  <style>\n",
              "    .colab-df-container {\n",
              "      display:flex;\n",
              "      flex-wrap:wrap;\n",
              "      gap: 12px;\n",
              "    }\n",
              "\n",
              "    .colab-df-convert {\n",
              "      background-color: #E8F0FE;\n",
              "      border: none;\n",
              "      border-radius: 50%;\n",
              "      cursor: pointer;\n",
              "      display: none;\n",
              "      fill: #1967D2;\n",
              "      height: 32px;\n",
              "      padding: 0 0 0 0;\n",
              "      width: 32px;\n",
              "    }\n",
              "\n",
              "    .colab-df-convert:hover {\n",
              "      background-color: #E2EBFA;\n",
              "      box-shadow: 0px 1px 2px rgba(60, 64, 67, 0.3), 0px 1px 3px 1px rgba(60, 64, 67, 0.15);\n",
              "      fill: #174EA6;\n",
              "    }\n",
              "\n",
              "    [theme=dark] .colab-df-convert {\n",
              "      background-color: #3B4455;\n",
              "      fill: #D2E3FC;\n",
              "    }\n",
              "\n",
              "    [theme=dark] .colab-df-convert:hover {\n",
              "      background-color: #434B5C;\n",
              "      box-shadow: 0px 1px 3px 1px rgba(0, 0, 0, 0.15);\n",
              "      filter: drop-shadow(0px 1px 2px rgba(0, 0, 0, 0.3));\n",
              "      fill: #FFFFFF;\n",
              "    }\n",
              "  </style>\n",
              "\n",
              "      <script>\n",
              "        const buttonEl =\n",
              "          document.querySelector('#df-7b5a8ad0-b810-497b-b78e-6f64e8af9d80 button.colab-df-convert');\n",
              "        buttonEl.style.display =\n",
              "          google.colab.kernel.accessAllowed ? 'block' : 'none';\n",
              "\n",
              "        async function convertToInteractive(key) {\n",
              "          const element = document.querySelector('#df-7b5a8ad0-b810-497b-b78e-6f64e8af9d80');\n",
              "          const dataTable =\n",
              "            await google.colab.kernel.invokeFunction('convertToInteractive',\n",
              "                                                     [key], {});\n",
              "          if (!dataTable) return;\n",
              "\n",
              "          const docLinkHtml = 'Like what you see? Visit the ' +\n",
              "            '<a target=\"_blank\" href=https://colab.research.google.com/notebooks/data_table.ipynb>data table notebook</a>'\n",
              "            + ' to learn more about interactive tables.';\n",
              "          element.innerHTML = '';\n",
              "          dataTable['output_type'] = 'display_data';\n",
              "          await google.colab.output.renderOutput(dataTable, element);\n",
              "          const docLink = document.createElement('div');\n",
              "          docLink.innerHTML = docLinkHtml;\n",
              "          element.appendChild(docLink);\n",
              "        }\n",
              "      </script>\n",
              "    </div>\n",
              "  </div>\n",
              "  "
            ]
          },
          "metadata": {},
          "execution_count": 17
        }
      ]
    },
    {
      "cell_type": "code",
      "source": [
        "sensor1_data['minus_speed'] = sensor1_data['InVehicle_Longitudinal_Speed']-sensor1_data['InVehicle_Longitudinal_Speed'].shift(1)\n",
        "sensor1_data['minus_acc'] = sensor1_data['InVehicle_Longitudinal_Accel']-sensor1_data['InVehicle_Longitudinal_Accel'].shift(1)\n",
        "sensor1_data['minus_Gps'] = sensor1_data['GPS_Speed']-sensor1_data['GPS_Speed'].shift(1)\n"
      ],
      "metadata": {
        "id": "jgPqNyqIOx0D"
      },
      "execution_count": null,
      "outputs": []
    },
    {
      "cell_type": "code",
      "source": [
        "sensor2_data['minus_speed'] = sensor2_data['InVehicle_Longitudinal_Speed']-sensor2_data['InVehicle_Longitudinal_Speed'].shift(1)\n",
        "sensor2_data['minus_acc'] = sensor2_data['InVehicle_Longitudinal_Accel']-sensor2_data['InVehicle_Longitudinal_Accel'].shift(1)\n",
        "sensor2_data['minus_Gps'] = sensor2_data['GPS_Speed']-sensor2_data['GPS_Speed'].shift(1)\n"
      ],
      "metadata": {
        "id": "UP2of3XAOx64"
      },
      "execution_count": null,
      "outputs": []
    },
    {
      "cell_type": "code",
      "source": [
        "sensor3_data['minus_speed'] = sensor3_data['InVehicle_Longitudinal_Speed']-sensor3_data['InVehicle_Longitudinal_Speed'].shift(1)\n",
        "sensor3_data['minus_acc'] = sensor3_data['InVehicle_Longitudinal_Accel']-sensor3_data['InVehicle_Longitudinal_Accel'].shift(1)\n",
        "sensor3_data['minus_Gps'] = sensor3_data['GPS_Speed']-sensor3_data['GPS_Speed'].shift(1)\n"
      ],
      "metadata": {
        "id": "shrymIlCOyAz"
      },
      "execution_count": null,
      "outputs": []
    },
    {
      "cell_type": "code",
      "source": [
        "sensor1_data.dropna(inplace= True)\n",
        "sensor2_data.dropna(inplace= True)\n",
        "sensor3_data.dropna(inplace= True)\n"
      ],
      "metadata": {
        "id": "_atMoIctOyCA"
      },
      "execution_count": null,
      "outputs": []
    },
    {
      "cell_type": "code",
      "source": [
        "sensor1_data[['InVehicle_Longitudinal_Speed','minus_speed']].plot(subplots=True)"
      ],
      "metadata": {
        "id": "4RluXcvrOyG4",
        "colab": {
          "base_uri": "https://localhost:8080/",
          "height": 317
        },
        "outputId": "fb6ab2b8-00b7-4629-99c5-cf0c0eb524e3"
      },
      "execution_count": null,
      "outputs": [
        {
          "output_type": "execute_result",
          "data": {
            "text/plain": [
              "array([<matplotlib.axes._subplots.AxesSubplot object at 0x7f860a60d8e0>,\n",
              "       <matplotlib.axes._subplots.AxesSubplot object at 0x7f860a5e9d30>],\n",
              "      dtype=object)"
            ]
          },
          "metadata": {},
          "execution_count": 22
        },
        {
          "output_type": "display_data",
          "data": {
            "text/plain": [
              "<Figure size 432x288 with 2 Axes>"
            ],
            "image/png": "[encoded data removed]"
          },
          "metadata": {
            "needs_background": "light"
          }
        }
      ]
    },
    {
      "cell_type": "code",
      "source": [
        "sensor1_data[['GPS_Speed','minus_Gps']].plot(subplots=True)"
      ],
      "metadata": {
        "id": "WUBnhSDIOyIJ",
        "colab": {
          "base_uri": "https://localhost:8080/",
          "height": 317
        },
        "outputId": "8a699b6b-3ed4-4815-decb-fa4f5c13131b"
      },
      "execution_count": null,
      "outputs": [
        {
          "output_type": "execute_result",
          "data": {
            "text/plain": [
              "array([<matplotlib.axes._subplots.AxesSubplot object at 0x7f860b0bd370>,\n",
              "       <matplotlib.axes._subplots.AxesSubplot object at 0x7f860a094940>],\n",
              "      dtype=object)"
            ]
          },
          "metadata": {},
          "execution_count": 23
        },
        {
          "output_type": "display_data",
          "data": {
            "text/plain": [
              "<Figure size 432x288 with 2 Axes>"
            ],
            "image/png": "[encoded data removed]"
          },
          "metadata": {
            "needs_background": "light"
          }
        }
      ]
    },
    {
      "cell_type": "code",
      "source": [
        "sensor1_data[['InVehicle_Longitudinal_Accel','minus_acc']].plot(subplots=True)"
      ],
      "metadata": {
        "id": "DzDae9CAOyMA",
        "colab": {
          "base_uri": "https://localhost:8080/",
          "height": 317
        },
        "outputId": "74b29709-f485-43e9-f73e-fa13e1aaae14"
      },
      "execution_count": null,
      "outputs": [
        {
          "output_type": "execute_result",
          "data": {
            "text/plain": [
              "array([<matplotlib.axes._subplots.AxesSubplot object at 0x7f85f96be9d0>,\n",
              "       <matplotlib.axes._subplots.AxesSubplot object at 0x7f85f96ed130>],\n",
              "      dtype=object)"
            ]
          },
          "metadata": {},
          "execution_count": 24
        },
        {
          "output_type": "display_data",
          "data": {
            "text/plain": [
              "<Figure size 432x288 with 2 Axes>"
            ],
            "image/png": "[encoded data removed]"
          },
          "metadata": {
            "needs_background": "light"
          }
        }
      ]
    },
    {
      "cell_type": "code",
      "source": [
        "stationary_speed = adfuller(sensor1_data['minus_speed'].dropna())\n",
        "stationary_gps = adfuller(sensor1_data['minus_Gps'].dropna())\n",
        "stationary_acc = adfuller(sensor1_data['minus_acc'].dropna())\n",
        "print(\"stationary_speed : {}\\nstationary_gps :{}\\nstationary_acc :{}\\n\".format(stationary_speed[1],stationary_gps[1], stationary_acc[1]))"
      ],
      "metadata": {
        "id": "rSpjcqzxPDVr",
        "colab": {
          "base_uri": "https://localhost:8080/"
        },
        "outputId": "e237deae-07e4-4562-d9be-1b6b0f2a94f4"
      },
      "execution_count": null,
      "outputs": [
        {
          "output_type": "stream",
          "name": "stdout",
          "text": [
            "stationary_speed : 0.0\n",
            "stationary_gps :0.0\n",
            "stationary_acc :0.0\n",
            "\n"
          ]
        }
      ]
    },
    {
      "cell_type": "code",
      "source": [
        "sensor2_data[['InVehicle_Longitudinal_Speed','minus_speed']].plot(subplots=True)"
      ],
      "metadata": {
        "id": "IKjXGlAAPDjY",
        "colab": {
          "base_uri": "https://localhost:8080/",
          "height": 317
        },
        "outputId": "f47b1a7d-5119-4364-abd7-22cf2b2b397f"
      },
      "execution_count": null,
      "outputs": [
        {
          "output_type": "execute_result",
          "data": {
            "text/plain": [
              "array([<matplotlib.axes._subplots.AxesSubplot object at 0x7f85f966cd60>,\n",
              "       <matplotlib.axes._subplots.AxesSubplot object at 0x7f85f962ba00>],\n",
              "      dtype=object)"
            ]
          },
          "metadata": {},
          "execution_count": 26
        },
        {
          "output_type": "display_data",
          "data": {
            "text/plain": [
              "<Figure size 432x288 with 2 Axes>"
            ],
            "image/png": "[encoded data removed]"
          },
          "metadata": {
            "needs_background": "light"
          }
        }
      ]
    },
    {
      "cell_type": "code",
      "source": [
        "sensor2_data[['GPS_Speed','minus_Gps']].plot(subplots=True)"
      ],
      "metadata": {
        "id": "4Bf0acuePD0t",
        "colab": {
          "base_uri": "https://localhost:8080/",
          "height": 317
        },
        "outputId": "0266590b-807a-4402-ce07-311a1c04eac3"
      },
      "execution_count": null,
      "outputs": [
        {
          "output_type": "execute_result",
          "data": {
            "text/plain": [
              "array([<matplotlib.axes._subplots.AxesSubplot object at 0x7f85f8daa0d0>,\n",
              "       <matplotlib.axes._subplots.AxesSubplot object at 0x7f85f8d4bca0>],\n",
              "      dtype=object)"
            ]
          },
          "metadata": {},
          "execution_count": 27
        },
        {
          "output_type": "display_data",
          "data": {
            "text/plain": [
              "<Figure size 432x288 with 2 Axes>"
            ],
            "image/png": "[encoded data removed]"
          },
          "metadata": {
            "needs_background": "light"
          }
        }
      ]
    },
    {
      "cell_type": "code",
      "source": [
        "sensor2_data[['InVehicle_Longitudinal_Accel','minus_acc']].plot(subplots=True)"
      ],
      "metadata": {
        "id": "Eocj1ZaqPEB5",
        "colab": {
          "base_uri": "https://localhost:8080/",
          "height": 317
        },
        "outputId": "c95efe18-0058-4025-841b-c00768558234"
      },
      "execution_count": null,
      "outputs": [
        {
          "output_type": "execute_result",
          "data": {
            "text/plain": [
              "array([<matplotlib.axes._subplots.AxesSubplot object at 0x7f85f8cd2a30>,\n",
              "       <matplotlib.axes._subplots.AxesSubplot object at 0x7f85f8cf3100>],\n",
              "      dtype=object)"
            ]
          },
          "metadata": {},
          "execution_count": 28
        },
        {
          "output_type": "display_data",
          "data": {
            "text/plain": [
              "<Figure size 432x288 with 2 Axes>"
            ],
            "image/png": "[encoded data removed]"
          },
          "metadata": {
            "needs_background": "light"
          }
        }
      ]
    },
    {
      "cell_type": "code",
      "source": [
        "stationary_speed = adfuller(sensor2_data['minus_speed'].dropna())\n",
        "stationary_gps = adfuller(sensor2_data['minus_Gps'].dropna())\n",
        "stationary_acc = adfuller(sensor2_data['minus_acc'].dropna())\n",
        "print(\"stationary_speed : {}\\nstationary_gps :{}\\nstationary_acc :{}\\n\".format(stationary_speed[1],stationary_gps[1], stationary_acc[1]))"
      ],
      "metadata": {
        "id": "daP4qzX2PXPj",
        "colab": {
          "base_uri": "https://localhost:8080/"
        },
        "outputId": "b82bf725-015b-4efb-b678-ecc070bee0f5"
      },
      "execution_count": null,
      "outputs": [
        {
          "output_type": "stream",
          "name": "stdout",
          "text": [
            "stationary_speed : 0.0\n",
            "stationary_gps :0.0\n",
            "stationary_acc :0.0\n",
            "\n"
          ]
        }
      ]
    },
    {
      "cell_type": "code",
      "source": [
        "sensor3_data[['InVehicle_Longitudinal_Speed','minus_speed']].plot(subplots=True)"
      ],
      "metadata": {
        "id": "KaS9xVcdPXws",
        "colab": {
          "base_uri": "https://localhost:8080/",
          "height": 317
        },
        "outputId": "a85587a2-508b-4ecc-bbd8-aba73a91ec46"
      },
      "execution_count": null,
      "outputs": [
        {
          "output_type": "execute_result",
          "data": {
            "text/plain": [
              "array([<matplotlib.axes._subplots.AxesSubplot object at 0x7f85f8c040d0>,\n",
              "       <matplotlib.axes._subplots.AxesSubplot object at 0x7f85f8c2a8b0>],\n",
              "      dtype=object)"
            ]
          },
          "metadata": {},
          "execution_count": 30
        },
        {
          "output_type": "display_data",
          "data": {
            "text/plain": [
              "<Figure size 432x288 with 2 Axes>"
            ],
            "image/png": "[encoded data removed]"
          },
          "metadata": {
            "needs_background": "light"
          }
        }
      ]
    },
    {
      "cell_type": "code",
      "source": [
        "sensor3_data[['GPS_Speed','minus_Gps']].plot(subplots=True)"
      ],
      "metadata": {
        "id": "VTKwTKylPeWO",
        "colab": {
          "base_uri": "https://localhost:8080/",
          "height": 317
        },
        "outputId": "b9a432f0-5e96-4a20-cb43-a028fba3c4e7"
      },
      "execution_count": null,
      "outputs": [
        {
          "output_type": "execute_result",
          "data": {
            "text/plain": [
              "array([<matplotlib.axes._subplots.AxesSubplot object at 0x7f85f8b36910>,\n",
              "       <matplotlib.axes._subplots.AxesSubplot object at 0x7f85f8b542e0>],\n",
              "      dtype=object)"
            ]
          },
          "metadata": {},
          "execution_count": 31
        },
        {
          "output_type": "display_data",
          "data": {
            "text/plain": [
              "<Figure size 432x288 with 2 Axes>"
            ],
            "image/png": "[encoded data removed]"
          },
          "metadata": {
            "needs_background": "light"
          }
        }
      ]
    },
    {
      "cell_type": "code",
      "source": [
        "sensor3_data[['InVehicle_Longitudinal_Accel','minus_acc']].plot(subplots=True)"
      ],
      "metadata": {
        "id": "fbUQJetSPec8",
        "colab": {
          "base_uri": "https://localhost:8080/",
          "height": 317
        },
        "outputId": "fb41b771-bd67-4f9f-e330-9abbdfc21ff9"
      },
      "execution_count": null,
      "outputs": [
        {
          "output_type": "execute_result",
          "data": {
            "text/plain": [
              "array([<matplotlib.axes._subplots.AxesSubplot object at 0x7f85f8ad42e0>,\n",
              "       <matplotlib.axes._subplots.AxesSubplot object at 0x7f85f8ae4070>],\n",
              "      dtype=object)"
            ]
          },
          "metadata": {},
          "execution_count": 32
        },
        {
          "output_type": "display_data",
          "data": {
            "text/plain": [
              "<Figure size 432x288 with 2 Axes>"
            ],
            "image/png": "[encoded data removed]"
          },
          "metadata": {
            "needs_background": "light"
          }
        }
      ]
    },
    {
      "cell_type": "code",
      "source": [
        "stationary_speed = adfuller(sensor3_data['minus_speed'].dropna())\n",
        "stationary_gps = adfuller(sensor3_data['minus_Gps'].dropna())\n",
        "stationary_acc = adfuller(sensor3_data['minus_acc'].dropna())\n",
        "print(\"stationary_speed : {}\\nstationary_gps :{}\\nstationary_acc :{}\\n\".format(stationary_speed[1],stationary_gps[1], stationary_acc[1]))"
      ],
      "metadata": {
        "id": "qUUx_ynFPex9",
        "colab": {
          "base_uri": "https://localhost:8080/"
        },
        "outputId": "38ab5f1e-9036-4010-c684-a2f276174f20"
      },
      "execution_count": null,
      "outputs": [
        {
          "output_type": "stream",
          "name": "stdout",
          "text": [
            "stationary_speed : 0.0\n",
            "stationary_gps :0.0\n",
            "stationary_acc :0.0\n",
            "\n"
          ]
        }
      ]
    },
    {
      "cell_type": "code",
      "metadata": {
        "id": "VaUYxUSMvH14",
        "colab": {
          "base_uri": "https://localhost:8080/"
        },
        "outputId": "f6a39e91-56f7-46e6-dbf2-08e05d063c01"
      },
      "source": [
        "scaler  = StandardScaler()\n",
        "scaler.fit(sensor1_data[['minus_speed','minus_Gps','minus_acc']])\n",
        "sensor1_data_normal = scaler.transform(sensor1_data[['minus_speed','minus_Gps','minus_acc']]) \n",
        "sensor1_data_normal[:5]"
      ],
      "execution_count": null,
      "outputs": [
        {
          "output_type": "execute_result",
          "data": {
            "text/plain": [
              "array([[-4.61010156e-04, -2.81064370e-03, -1.41345159e-02],\n",
              "       [-2.53042661e-04, -3.94647103e-04,  1.48120445e-02],\n",
              "       [-2.15277190e-04,  7.51741280e-04,  2.67467743e-03],\n",
              "       [-1.22477298e-04,  3.65298289e-04,  3.31572173e-04],\n",
              "       [-8.34771171e-05, -8.29387080e-04, -1.21759854e-04]])"
            ]
          },
          "metadata": {},
          "execution_count": 34
        }
      ]
    },
    {
      "cell_type": "code",
      "metadata": {
        "id": "DssP_ns3oPeE",
        "colab": {
          "base_uri": "https://localhost:8080/"
        },
        "outputId": "93fd6c00-2710-4ed0-ac28-eddb45f40976"
      },
      "source": [
        "scaler  = StandardScaler()\n",
        "scaler.fit(sensor2_data[['minus_speed','minus_Gps','minus_acc']])\n",
        "sensor2_data_normal = scaler.transform(sensor2_data[['minus_speed','minus_Gps','minus_acc']]) \n",
        "sensor2_data_normal[:5]"
      ],
      "execution_count": null,
      "outputs": [
        {
          "output_type": "execute_result",
          "data": {
            "text/plain": [
              "array([[-4.63498672e-04, -2.83274977e-03, -1.49083569e-02],\n",
              "       [-2.54408575e-04, -3.97751052e-04,  1.56229790e-02],\n",
              "       [-2.16439248e-04,  7.57653819e-04,  2.82111152e-03],\n",
              "       [-1.23138426e-04,  3.68171406e-04,  3.49725191e-04],\n",
              "       [-8.39277234e-05, -8.35910313e-04, -1.28426002e-04]])"
            ]
          },
          "metadata": {},
          "execution_count": 35
        }
      ]
    },
    {
      "cell_type": "code",
      "metadata": {
        "id": "ShuycYtJoPQ2",
        "colab": {
          "base_uri": "https://localhost:8080/"
        },
        "outputId": "b4a57ffd-e4d3-463d-e0b6-356d3ad73bcd"
      },
      "source": [
        "scaler  = StandardScaler()\n",
        "scaler.fit(sensor3_data[['minus_speed','minus_Gps','minus_acc']])\n",
        "sensor3_data_normal = scaler.transform(sensor3_data[['minus_speed','minus_Gps','minus_acc']]) \n",
        "sensor3_data_normal[:5]"
      ],
      "execution_count": null,
      "outputs": [
        {
          "output_type": "execute_result",
          "data": {
            "text/plain": [
              "array([[-4.63498672e-04, -2.83274977e-03, -1.49083569e-02],\n",
              "       [-2.54408575e-04, -3.97751052e-04,  1.56229790e-02],\n",
              "       [-2.16439248e-04,  7.57653819e-04,  2.82111152e-03],\n",
              "       [-1.23138426e-04,  3.68171406e-04,  3.49725191e-04],\n",
              "       [-8.39277234e-05, -8.35910313e-04, -1.28426002e-04]])"
            ]
          },
          "metadata": {},
          "execution_count": 36
        }
      ]
    },
    {
      "cell_type": "code",
      "metadata": {
        "id": "NPEKmySy2O0W"
      },
      "source": [
        "window_size = 10\n",
        "\n",
        "# create windows with overlap\n",
        "def convertToFrames(X_data,y_data, step):\n",
        "    X, Y =[], []    \n",
        "    for i in range(len(X_data)-step):\n",
        "        y_or = 0\n",
        "        d=i+step  \n",
        "        X.append(X_data[i:d,])\n",
        "        for y in y_data.iloc[i:d].values:\n",
        "           y_or = y_or or y\n",
        "        \n",
        "        Y.append(y_or)\n",
        "    return np.array(X), np.array(Y)"
      ],
      "execution_count": null,
      "outputs": []
    },
    {
      "cell_type": "code",
      "metadata": {
        "colab": {
          "base_uri": "https://localhost:8080/"
        },
        "id": "1U7mLgOZaZsN",
        "outputId": "3d39bca3-9188-477d-875d-400f6430d2d0"
      },
      "source": [
        "X_sensor1, y_sensor1 = convertToFrames(sensor1_data_normal, sensor1_label, window_size)\n",
        "X_sensor1.shape, y_sensor1.shape\n",
        "# print(X_sensor1[0])\n",
        "# print(X_sensor1[1])"
      ],
      "execution_count": null,
      "outputs": [
        {
          "output_type": "execute_result",
          "data": {
            "text/plain": [
              "((29789, 10, 3), (29789, 1))"
            ]
          },
          "metadata": {},
          "execution_count": 38
        }
      ]
    },
    {
      "cell_type": "code",
      "metadata": {
        "colab": {
          "base_uri": "https://localhost:8080/"
        },
        "id": "LlbmzS3Hagp1",
        "outputId": "afb96817-cd1a-4de3-9b7d-dfda3ae22da1"
      },
      "source": [
        "X_sensor2, y_sensor2 = convertToFrames(sensor2_data_normal, sensor2_label, window_size)\n",
        "X_sensor2.shape, y_sensor2.shape"
      ],
      "execution_count": null,
      "outputs": [
        {
          "output_type": "execute_result",
          "data": {
            "text/plain": [
              "((29789, 10, 3), (29789, 1))"
            ]
          },
          "metadata": {},
          "execution_count": 39
        }
      ]
    },
    {
      "cell_type": "code",
      "metadata": {
        "colab": {
          "base_uri": "https://localhost:8080/"
        },
        "id": "0QyV7kwragiE",
        "outputId": "94bb1708-8f4a-4fc4-ee40-3c67f0322f34"
      },
      "source": [
        "X_sensor3, y_sensor3 = convertToFrames(sensor3_data_normal, sensor3_label, window_size)\n",
        "X_sensor3.shape, y_sensor3.shape"
      ],
      "execution_count": null,
      "outputs": [
        {
          "output_type": "execute_result",
          "data": {
            "text/plain": [
              "((29789, 10, 3), (29789, 1))"
            ]
          },
          "metadata": {},
          "execution_count": 40
        }
      ]
    },
    {
      "cell_type": "code",
      "metadata": {
        "colab": {
          "base_uri": "https://localhost:8080/"
        },
        "id": "l4fSg45cplIB",
        "outputId": "c8390343-e52c-47d3-f1c5-68d5344e81a7"
      },
      "source": [
        "y_sensor1 = to_categorical(y_sensor1, num_classes= 2, dtype='float32')\n",
        "X_train_sensor1,X_test_sensor1, y_train_sensor1, y_test_sensor1 = train_test_split(X_sensor1,y_sensor1,random_state = 1400, test_size= 0.15)\n",
        "y_train_sensor1, y_test_sensor1 = y_train_sensor1.squeeze(), y_test_sensor1.squeeze()\n",
        "X_train_sensor1.shape, X_test_sensor1.shape,y_train_sensor1.shape, y_test_sensor1.shape"
      ],
      "execution_count": null,
      "outputs": [
        {
          "output_type": "execute_result",
          "data": {
            "text/plain": [
              "((25320, 10, 3), (4469, 10, 3), (25320, 2), (4469, 2))"
            ]
          },
          "metadata": {},
          "execution_count": 41
        }
      ]
    },
    {
      "cell_type": "code",
      "metadata": {
        "colab": {
          "base_uri": "https://localhost:8080/"
        },
        "id": "M-6JhdmNplC4",
        "outputId": "22feb75e-d70d-4a2f-cd3e-21ac78ead290"
      },
      "source": [
        "y_sensor2 = to_categorical(y_sensor2, num_classes= 2, dtype='float32')\n",
        "X_train_sensor2,X_test_sensor2, y_train_sensor2, y_test_sensor2 = train_test_split(X_sensor2,y_sensor2,random_state = 1400, test_size= 0.15)\n",
        "y_train_sensor2, y_test_sensor2 = y_train_sensor2.squeeze(), y_test_sensor2.squeeze()\n",
        "X_train_sensor2.shape, X_test_sensor2.shape,y_train_sensor2.shape, y_test_sensor2.shape"
      ],
      "execution_count": null,
      "outputs": [
        {
          "output_type": "execute_result",
          "data": {
            "text/plain": [
              "((25320, 10, 3), (4469, 10, 3), (25320, 2), (4469, 2))"
            ]
          },
          "metadata": {},
          "execution_count": 42
        }
      ]
    },
    {
      "cell_type": "code",
      "metadata": {
        "colab": {
          "base_uri": "https://localhost:8080/"
        },
        "id": "CZmk_MFjpk_S",
        "outputId": "f36dec16-bb92-45a7-8898-fed8632d263a"
      },
      "source": [
        "y_sensor3 = to_categorical(y_sensor3, num_classes= 2, dtype='float32')\n",
        "X_train_sensor3,X_test_sensor3, y_train_sensor3, y_test_sensor3 = train_test_split(X_sensor3,y_sensor3,random_state = 1400, test_size= 0.15)\n",
        "y_train_sensor3, y_test_sensor3 = y_train_sensor3.squeeze(), y_test_sensor3.squeeze()\n",
        "X_train_sensor3.shape, X_test_sensor3.shape,y_train_sensor3.shape, y_test_sensor3.shape"
      ],
      "execution_count": null,
      "outputs": [
        {
          "output_type": "execute_result",
          "data": {
            "text/plain": [
              "((25320, 10, 3), (4469, 10, 3), (25320, 2), (4469, 2))"
            ]
          },
          "metadata": {},
          "execution_count": 43
        }
      ]
    },
    {
      "cell_type": "code",
      "metadata": {
        "id": "DFlQxMk8PgWx"
      },
      "source": [
        "\n",
        "def creatModel():\n",
        "  \n",
        "    model = Sequential()\n",
        "    model.add(Conv1D(kernel_size=3, filters= 40, activation= 'relu', padding='same'))\n",
        "    model.add(Dropout(0.1))\n",
        "    model.add( Conv1D(kernel_size=3, filters= 60, activation= 'relu', padding='same'))\n",
        "    model.add(Dropout(0.1))\n",
        "    model.add(Conv1D(kernel_size=3, filters= 60, activation= 'relu', padding='same'))\n",
        "    model.add(Dropout(0.1))\n",
        "    model.add(GlobalMaxPool1D())\n",
        "    model.add(RepeatVector(X_train_sensor1.shape[1]))\n",
        "    model.add(LSTM(256, return_sequences=True))\n",
        "    model.add(Dropout(rate=0.2))\n",
        "    model.add(LSTM(128, return_sequences=True))\n",
        "    model.add(Dropout(rate=0.2))\n",
        "    model.add(LSTM(64, return_sequences=False))\n",
        "    model.add(Dropout(rate=0.2))\n",
        "    model.add((Dense(32)))\n",
        "    model.add((Dense(16)))\n",
        "    model.add(Dense(2, activation='sigmoid', kernel_regularizer=l2()))\n",
        "    model.compile(optimizer='adam', loss='binary_crossentropy',metrics=['accuracy'])\n",
        "\n",
        "    return model\n"
      ],
      "execution_count": null,
      "outputs": []
    },
    {
      "cell_type": "code",
      "metadata": {
        "id": "VrTO2TLekYa-"
      },
      "source": [
        "import time\n",
        "\n",
        "class TimeHistory(Callback):\n",
        "  \n",
        "    def on_epoch_begin(self, batch, logs={}):\n",
        "        self.epoch_time_start = time.time()\n",
        "\n",
        "    def on_epoch_end(self, batch, logs={}):\n",
        "        epoch_time = time.time() - self.epoch_time_start\n",
        "        logs['epoch_time'] = epoch_time\n"
      ],
      "execution_count": null,
      "outputs": []
    },
    {
      "cell_type": "code",
      "source": [
        "model_path = '/content/drive/MyDrive/CAV/data/Instant attack/10000/Models/Models16-1/'\n",
        "\n",
        "class Model_save(Callback):\n",
        "  def on_epoch_end(self, epoch, logs={}):\n",
        "    self.model.save(model_path + \"CNN-LSTM-autoEncoder-Instant-10000-CAV-perEpoch_{}.h5\".format(sensor))\n",
        "    "
      ],
      "metadata": {
        "id": "M79Mq50tlTe6"
      },
      "execution_count": null,
      "outputs": []
    },
    {
      "cell_type": "code",
      "source": [
        "def setCallbacks(sensor):\n",
        "\n",
        "  best_model_path = model_path + 'Best_CNN-LSTM-autoEncoder-Instant-10000-CAV_{}.h5'.format(sensor)\n",
        "  checkpoint = ModelCheckpoint(best_model_path, monitor='val_loss', save_best_only=True, mode='min')\n",
        "\n",
        "  history_cb = tf.keras.callbacks.CSVLogger(model_path + 'historyLOG_Instant-10000_{}.csv'.format(sensor), separator=\",\", append=True)\n",
        "\n",
        "  model_save = Model_save()\n",
        "\n",
        "  Estop = EarlyStopping(monitor='val_accuracy', patience= 100)\n",
        "  \n",
        "  return model_save, checkpoint, history_cb, Estop"
      ],
      "metadata": {
        "id": "nWddQ3LPlY5M"
      },
      "execution_count": null,
      "outputs": []
    },
    {
      "cell_type": "code",
      "metadata": {
        "colab": {
          "base_uri": "https://localhost:8080/"
        },
        "id": "t7odu-Z4_BLe",
        "outputId": "634d74b2-f4f7-4d6c-a593-cb31c8732080"
      },
      "source": [
        "sensor = \"sensor1\"\n",
        "time_callback = TimeHistory()\n",
        "model_sensor1 = creatModel()\n",
        "model_save, checkpoint, history_cb, Estop = setCallbacks(\"sensor1\")\n",
        "history_sensor1 = model_sensor1.fit(X_train_sensor1, y_train_sensor1,\n",
        "                                    batch_size = 128, epochs = 500,\n",
        "                                    validation_split = 0.1,\n",
        "                                    verbose = 1,\n",
        "                                    callbacks = [time_callback, model_save, checkpoint, history_cb, Estop])\n",
        "                                    # class_weight= class_weights)#\n"
      ],
      "execution_count": null,
      "outputs": [
        {
          "output_type": "stream",
          "name": "stdout",
          "text": [
            "Epoch 1/500\n",
            "179/179 [==============================] - 18s 25ms/step - loss: 0.1253 - accuracy: 0.9739 - val_loss: 0.0385 - val_accuracy: 0.9957 - epoch_time: 18.1567\n",
            "Epoch 2/500\n",
            "179/179 [==============================] - 2s 14ms/step - loss: 0.0361 - accuracy: 0.9950 - val_loss: 0.0251 - val_accuracy: 0.9968 - epoch_time: 2.2403\n",
            "Epoch 3/500\n",
            "179/179 [==============================] - 2s 14ms/step - loss: 0.0225 - accuracy: 0.9971 - val_loss: 0.0158 - val_accuracy: 0.9972 - epoch_time: 2.2367\n",
            "Epoch 4/500\n",
            "179/179 [==============================] - 2s 14ms/step - loss: 0.0194 - accuracy: 0.9968 - val_loss: 0.0133 - val_accuracy: 0.9984 - epoch_time: 2.2800\n",
            "Epoch 5/500\n",
            "179/179 [==============================] - 3s 15ms/step - loss: 0.0145 - accuracy: 0.9975 - val_loss: 0.0126 - val_accuracy: 0.9984 - epoch_time: 2.4836\n",
            "Epoch 6/500\n",
            "179/179 [==============================] - 3s 17ms/step - loss: 0.0126 - accuracy: 0.9975 - val_loss: 0.0086 - val_accuracy: 0.9988 - epoch_time: 2.9391\n",
            "Epoch 7/500\n",
            "179/179 [==============================] - 2s 13ms/step - loss: 0.0112 - accuracy: 0.9980 - val_loss: 0.0111 - val_accuracy: 0.9980 - epoch_time: 2.2214\n",
            "Epoch 8/500\n",
            "179/179 [==============================] - 2s 13ms/step - loss: 0.0098 - accuracy: 0.9982 - val_loss: 0.0100 - val_accuracy: 0.9984 - epoch_time: 2.2176\n",
            "Epoch 9/500\n",
            "179/179 [==============================] - 2s 14ms/step - loss: 0.0082 - accuracy: 0.9984 - val_loss: 0.0068 - val_accuracy: 0.9988 - epoch_time: 2.2250\n",
            "Epoch 10/500\n",
            "179/179 [==============================] - 2s 13ms/step - loss: 0.0112 - accuracy: 0.9978 - val_loss: 0.0143 - val_accuracy: 0.9984 - epoch_time: 2.1709\n",
            "Epoch 11/500\n",
            "179/179 [==============================] - 3s 17ms/step - loss: 0.0091 - accuracy: 0.9984 - val_loss: 0.0070 - val_accuracy: 0.9984 - epoch_time: 2.9143\n",
            "Epoch 12/500\n",
            "179/179 [==============================] - 3s 15ms/step - loss: 0.0060 - accuracy: 0.9989 - val_loss: 0.0102 - val_accuracy: 0.9988 - epoch_time: 2.5897\n",
            "Epoch 13/500\n",
            "179/179 [==============================] - 2s 13ms/step - loss: 0.0065 - accuracy: 0.9987 - val_loss: 0.0099 - val_accuracy: 0.9984 - epoch_time: 2.2553\n",
            "Epoch 14/500\n",
            "179/179 [==============================] - 2s 14ms/step - loss: 0.0061 - accuracy: 0.9990 - val_loss: 0.0019 - val_accuracy: 0.9992 - epoch_time: 2.2806\n",
            "Epoch 15/500\n",
            "179/179 [==============================] - 2s 13ms/step - loss: 0.0067 - accuracy: 0.9988 - val_loss: 0.0049 - val_accuracy: 0.9992 - epoch_time: 2.3117\n",
            "Epoch 16/500\n",
            "179/179 [==============================] - 3s 16ms/step - loss: 0.0061 - accuracy: 0.9989 - val_loss: 0.0045 - val_accuracy: 0.9992 - epoch_time: 2.8160\n",
            "Epoch 17/500\n",
            "179/179 [==============================] - 3s 17ms/step - loss: 0.0077 - accuracy: 0.9988 - val_loss: 0.0054 - val_accuracy: 0.9992 - epoch_time: 3.0208\n",
            "Epoch 18/500\n",
            "179/179 [==============================] - 2s 14ms/step - loss: 0.0041 - accuracy: 0.9993 - val_loss: 0.0066 - val_accuracy: 0.9992 - epoch_time: 2.3780\n",
            "Epoch 19/500\n",
            "179/179 [==============================] - 2s 13ms/step - loss: 0.0049 - accuracy: 0.9988 - val_loss: 0.0103 - val_accuracy: 0.9980 - epoch_time: 2.2438\n",
            "Epoch 20/500\n",
            "179/179 [==============================] - 2s 13ms/step - loss: 0.0066 - accuracy: 0.9988 - val_loss: 0.0041 - val_accuracy: 0.9996 - epoch_time: 2.2644\n",
            "Epoch 21/500\n",
            "179/179 [==============================] - 3s 14ms/step - loss: 0.0051 - accuracy: 0.9990 - val_loss: 0.0064 - val_accuracy: 0.9988 - epoch_time: 2.4620\n",
            "Epoch 22/500\n",
            "179/179 [==============================] - 3s 18ms/step - loss: 0.0042 - accuracy: 0.9989 - val_loss: 0.0073 - val_accuracy: 0.9984 - epoch_time: 3.0827\n",
            "Epoch 23/500\n",
            "179/179 [==============================] - 2s 14ms/step - loss: 0.0044 - accuracy: 0.9990 - val_loss: 0.0055 - val_accuracy: 0.9992 - epoch_time: 2.3418\n",
            "Epoch 24/500\n",
            "179/179 [==============================] - 2s 13ms/step - loss: 0.0042 - accuracy: 0.9991 - val_loss: 0.0075 - val_accuracy: 0.9992 - epoch_time: 2.2823\n",
            "Epoch 25/500\n",
            "179/179 [==============================] - 2s 14ms/step - loss: 0.0041 - accuracy: 0.9993 - val_loss: 0.0083 - val_accuracy: 0.9988 - epoch_time: 2.3284\n",
            "Epoch 26/500\n",
            "179/179 [==============================] - 2s 14ms/step - loss: 0.0032 - accuracy: 0.9995 - val_loss: 0.0065 - val_accuracy: 0.9992 - epoch_time: 2.3421\n",
            "Epoch 27/500\n",
            "179/179 [==============================] - 3s 18ms/step - loss: 0.0039 - accuracy: 0.9993 - val_loss: 0.0048 - val_accuracy: 0.9996 - epoch_time: 3.0809\n",
            "Epoch 28/500\n",
            "179/179 [==============================] - 4s 20ms/step - loss: 0.0072 - accuracy: 0.9987 - val_loss: 0.0041 - val_accuracy: 0.9992 - epoch_time: 3.3244\n",
            "Epoch 29/500\n",
            "179/179 [==============================] - 3s 18ms/step - loss: 0.0028 - accuracy: 0.9995 - val_loss: 0.0061 - val_accuracy: 0.9988 - epoch_time: 3.1259\n",
            "Epoch 30/500\n",
            "179/179 [==============================] - 3s 18ms/step - loss: 0.0030 - accuracy: 0.9992 - val_loss: 0.0014 - val_accuracy: 0.9996 - epoch_time: 2.2768\n",
            "Epoch 31/500\n",
            "179/179 [==============================] - 3s 16ms/step - loss: 0.0031 - accuracy: 0.9994 - val_loss: 0.0047 - val_accuracy: 0.9992 - epoch_time: 2.7778\n",
            "Epoch 32/500\n",
            "179/179 [==============================] - 3s 17ms/step - loss: 0.0026 - accuracy: 0.9995 - val_loss: 0.0054 - val_accuracy: 0.9992 - epoch_time: 2.8905\n",
            "Epoch 33/500\n",
            "179/179 [==============================] - 2s 13ms/step - loss: 0.0027 - accuracy: 0.9996 - val_loss: 0.0040 - val_accuracy: 0.9992 - epoch_time: 2.2838\n",
            "Epoch 34/500\n",
            "179/179 [==============================] - 2s 13ms/step - loss: 0.0024 - accuracy: 0.9996 - val_loss: 0.0040 - val_accuracy: 0.9996 - epoch_time: 2.2013\n",
            "Epoch 35/500\n",
            "179/179 [==============================] - 2s 13ms/step - loss: 0.0021 - accuracy: 0.9996 - val_loss: 0.0042 - val_accuracy: 0.9992 - epoch_time: 2.2789\n",
            "Epoch 36/500\n",
            "179/179 [==============================] - 2s 14ms/step - loss: 0.0022 - accuracy: 0.9996 - val_loss: 0.0045 - val_accuracy: 0.9996 - epoch_time: 2.3729\n",
            "Epoch 37/500\n",
            "179/179 [==============================] - 3s 18ms/step - loss: 0.0016 - accuracy: 0.9998 - val_loss: 0.0045 - val_accuracy: 0.9996 - epoch_time: 3.0289\n",
            "Epoch 38/500\n",
            "179/179 [==============================] - 2s 13ms/step - loss: 0.0020 - accuracy: 0.9996 - val_loss: 0.0046 - val_accuracy: 0.9992 - epoch_time: 2.2915\n",
            "Epoch 39/500\n",
            "179/179 [==============================] - 2s 13ms/step - loss: 0.0032 - accuracy: 0.9993 - val_loss: 0.0049 - val_accuracy: 0.9992 - epoch_time: 2.2607\n",
            "Epoch 40/500\n",
            "179/179 [==============================] - 2s 13ms/step - loss: 0.0022 - accuracy: 0.9996 - val_loss: 0.0046 - val_accuracy: 0.9996 - epoch_time: 2.2496\n",
            "Epoch 41/500\n",
            "179/179 [==============================] - 2s 13ms/step - loss: 0.0032 - accuracy: 0.9995 - val_loss: 0.0059 - val_accuracy: 0.9992 - epoch_time: 2.2515\n",
            "Epoch 42/500\n",
            "179/179 [==============================] - 3s 16ms/step - loss: 0.0049 - accuracy: 0.9989 - val_loss: 0.0144 - val_accuracy: 0.9976 - epoch_time: 2.7558\n",
            "Epoch 43/500\n",
            "179/179 [==============================] - 3s 15ms/step - loss: 0.0065 - accuracy: 0.9987 - val_loss: 0.0051 - val_accuracy: 0.9992 - epoch_time: 2.6784\n",
            "Epoch 44/500\n",
            "179/179 [==============================] - 2s 13ms/step - loss: 0.0027 - accuracy: 0.9994 - val_loss: 0.0029 - val_accuracy: 0.9992 - epoch_time: 2.2262\n",
            "Epoch 45/500\n",
            "179/179 [==============================] - 2s 13ms/step - loss: 0.0018 - accuracy: 0.9997 - val_loss: 0.0061 - val_accuracy: 0.9992 - epoch_time: 2.2153\n",
            "Epoch 46/500\n",
            "179/179 [==============================] - 2s 14ms/step - loss: 0.0017 - accuracy: 0.9998 - val_loss: 0.0044 - val_accuracy: 0.9996 - epoch_time: 2.3225\n",
            "Epoch 47/500\n",
            "179/179 [==============================] - 3s 14ms/step - loss: 0.0022 - accuracy: 0.9994 - val_loss: 0.0048 - val_accuracy: 0.9996 - epoch_time: 2.4296\n",
            "Epoch 48/500\n",
            "179/179 [==============================] - 3s 17ms/step - loss: 0.0026 - accuracy: 0.9995 - val_loss: 0.0045 - val_accuracy: 0.9996 - epoch_time: 3.0175\n",
            "Epoch 49/500\n",
            "179/179 [==============================] - 2s 14ms/step - loss: 0.0070 - accuracy: 0.9983 - val_loss: 0.0069 - val_accuracy: 0.9988 - epoch_time: 2.3862\n",
            "Epoch 50/500\n",
            "179/179 [==============================] - 2s 13ms/step - loss: 0.0057 - accuracy: 0.9983 - val_loss: 0.0060 - val_accuracy: 0.9992 - epoch_time: 2.2585\n",
            "Epoch 51/500\n",
            "179/179 [==============================] - 2s 13ms/step - loss: 0.0050 - accuracy: 0.9988 - val_loss: 0.0041 - val_accuracy: 0.9992 - epoch_time: 2.2750\n",
            "Epoch 52/500\n",
            "179/179 [==============================] - 2s 13ms/step - loss: 0.0025 - accuracy: 0.9993 - val_loss: 0.0029 - val_accuracy: 0.9996 - epoch_time: 2.2354\n",
            "Epoch 53/500\n",
            "179/179 [==============================] - 3s 16ms/step - loss: 0.0027 - accuracy: 0.9995 - val_loss: 0.0026 - val_accuracy: 0.9996 - epoch_time: 2.8036\n",
            "Epoch 54/500\n",
            "179/179 [==============================] - 3s 16ms/step - loss: 0.0022 - accuracy: 0.9996 - val_loss: 0.0028 - val_accuracy: 0.9996 - epoch_time: 2.7661\n",
            "Epoch 55/500\n",
            "179/179 [==============================] - 2s 14ms/step - loss: 0.0018 - accuracy: 0.9998 - val_loss: 0.0033 - val_accuracy: 0.9996 - epoch_time: 2.3317\n",
            "Epoch 56/500\n",
            "179/179 [==============================] - 2s 13ms/step - loss: 0.0016 - accuracy: 0.9997 - val_loss: 0.0048 - val_accuracy: 0.9996 - epoch_time: 2.2770\n",
            "Epoch 57/500\n",
            "179/179 [==============================] - 2s 13ms/step - loss: 0.0011 - accuracy: 0.9999 - val_loss: 0.0055 - val_accuracy: 0.9996 - epoch_time: 2.2981\n",
            "Epoch 58/500\n",
            "179/179 [==============================] - 3s 14ms/step - loss: 0.0012 - accuracy: 0.9998 - val_loss: 0.0047 - val_accuracy: 0.9996 - epoch_time: 2.4767\n",
            "Epoch 59/500\n",
            "179/179 [==============================] - 3s 17ms/step - loss: 0.0043 - accuracy: 0.9991 - val_loss: 0.0073 - val_accuracy: 0.9992 - epoch_time: 3.0343\n",
            "Epoch 60/500\n",
            "179/179 [==============================] - 2s 13ms/step - loss: 0.0101 - accuracy: 0.9983 - val_loss: 0.0101 - val_accuracy: 0.9988 - epoch_time: 2.2612\n",
            "Epoch 61/500\n",
            "179/179 [==============================] - 2s 13ms/step - loss: 0.0072 - accuracy: 0.9986 - val_loss: 0.0043 - val_accuracy: 0.9992 - epoch_time: 2.2194\n",
            "Epoch 62/500\n",
            "179/179 [==============================] - 2s 13ms/step - loss: 0.0033 - accuracy: 0.9992 - val_loss: 0.0045 - val_accuracy: 0.9996 - epoch_time: 2.2832\n",
            "Epoch 63/500\n",
            "179/179 [==============================] - 2s 13ms/step - loss: 0.0021 - accuracy: 0.9995 - val_loss: 0.0042 - val_accuracy: 0.9996 - epoch_time: 2.2814\n",
            "Epoch 64/500\n",
            "179/179 [==============================] - 3s 17ms/step - loss: 0.0017 - accuracy: 0.9997 - val_loss: 0.0042 - val_accuracy: 0.9996 - epoch_time: 2.9410\n",
            "Epoch 65/500\n",
            "179/179 [==============================] - 3s 15ms/step - loss: 0.0015 - accuracy: 0.9996 - val_loss: 0.0043 - val_accuracy: 0.9996 - epoch_time: 2.6468\n",
            "Epoch 66/500\n",
            "179/179 [==============================] - 2s 13ms/step - loss: 0.0017 - accuracy: 0.9997 - val_loss: 0.0046 - val_accuracy: 0.9996 - epoch_time: 2.3024\n",
            "Epoch 67/500\n",
            "179/179 [==============================] - 2s 14ms/step - loss: 0.0022 - accuracy: 0.9996 - val_loss: 0.0045 - val_accuracy: 0.9996 - epoch_time: 2.3180\n",
            "Epoch 68/500\n",
            "179/179 [==============================] - 2s 14ms/step - loss: 0.0020 - accuracy: 0.9996 - val_loss: 0.0043 - val_accuracy: 0.9996 - epoch_time: 2.3608\n",
            "Epoch 69/500\n",
            "179/179 [==============================] - 3s 16ms/step - loss: 0.0012 - accuracy: 0.9997 - val_loss: 0.0045 - val_accuracy: 0.9996 - epoch_time: 2.8232\n",
            "Epoch 70/500\n",
            "179/179 [==============================] - 3s 18ms/step - loss: 0.0017 - accuracy: 0.9998 - val_loss: 0.0044 - val_accuracy: 0.9996 - epoch_time: 3.0374\n",
            "Epoch 71/500\n",
            "179/179 [==============================] - 2s 14ms/step - loss: 0.0023 - accuracy: 0.9997 - val_loss: 0.0041 - val_accuracy: 0.9996 - epoch_time: 2.3389\n",
            "Epoch 72/500\n",
            "179/179 [==============================] - 2s 14ms/step - loss: 0.0021 - accuracy: 0.9996 - val_loss: 0.0045 - val_accuracy: 0.9996 - epoch_time: 2.3776\n",
            "Epoch 73/500\n",
            "179/179 [==============================] - 2s 13ms/step - loss: 0.0020 - accuracy: 0.9997 - val_loss: 0.0045 - val_accuracy: 0.9996 - epoch_time: 2.2903\n",
            "Epoch 74/500\n",
            "179/179 [==============================] - 3s 15ms/step - loss: 0.0039 - accuracy: 0.9993 - val_loss: 0.0040 - val_accuracy: 0.9996 - epoch_time: 2.4976\n",
            "Epoch 75/500\n",
            "179/179 [==============================] - 3s 18ms/step - loss: 0.0073 - accuracy: 0.9987 - val_loss: 0.0057 - val_accuracy: 0.9992 - epoch_time: 3.2044\n",
            "Epoch 76/500\n",
            "179/179 [==============================] - 2s 13ms/step - loss: 0.0048 - accuracy: 0.9988 - val_loss: 0.0037 - val_accuracy: 0.9988 - epoch_time: 2.2672\n",
            "Epoch 77/500\n",
            "179/179 [==============================] - 2s 13ms/step - loss: 0.0026 - accuracy: 0.9994 - val_loss: 0.0038 - val_accuracy: 0.9996 - epoch_time: 2.2531\n",
            "Epoch 78/500\n",
            "179/179 [==============================] - 2s 13ms/step - loss: 0.0016 - accuracy: 0.9997 - val_loss: 0.0035 - val_accuracy: 0.9996 - epoch_time: 2.2503\n",
            "Epoch 79/500\n",
            "179/179 [==============================] - 2s 13ms/step - loss: 0.0025 - accuracy: 0.9995 - val_loss: 0.0034 - val_accuracy: 0.9996 - epoch_time: 2.2507\n",
            "Epoch 80/500\n",
            "179/179 [==============================] - 3s 17ms/step - loss: 0.0016 - accuracy: 0.9997 - val_loss: 0.0033 - val_accuracy: 0.9996 - epoch_time: 2.9586\n",
            "Epoch 81/500\n",
            "179/179 [==============================] - 3s 15ms/step - loss: 0.0031 - accuracy: 0.9994 - val_loss: 0.0024 - val_accuracy: 0.9996 - epoch_time: 2.6553\n",
            "Epoch 82/500\n",
            "179/179 [==============================] - 2s 13ms/step - loss: 0.0018 - accuracy: 0.9997 - val_loss: 0.0026 - val_accuracy: 0.9996 - epoch_time: 2.2968\n",
            "Epoch 83/500\n",
            "179/179 [==============================] - 2s 13ms/step - loss: 0.0017 - accuracy: 0.9996 - val_loss: 0.0035 - val_accuracy: 0.9992 - epoch_time: 2.2459\n",
            "Epoch 84/500\n",
            "179/179 [==============================] - 2s 13ms/step - loss: 0.0016 - accuracy: 0.9996 - val_loss: 0.0033 - val_accuracy: 0.9996 - epoch_time: 2.2992\n",
            "Epoch 85/500\n",
            "179/179 [==============================] - 3s 15ms/step - loss: 0.0018 - accuracy: 0.9997 - val_loss: 0.0031 - val_accuracy: 0.9996 - epoch_time: 2.5158\n",
            "Epoch 86/500\n",
            "179/179 [==============================] - 3s 17ms/step - loss: 0.0013 - accuracy: 0.9998 - val_loss: 0.0024 - val_accuracy: 0.9996 - epoch_time: 3.0057\n",
            "Epoch 87/500\n",
            "179/179 [==============================] - 2s 13ms/step - loss: 0.0017 - accuracy: 0.9997 - val_loss: 0.0020 - val_accuracy: 0.9996 - epoch_time: 2.2571\n",
            "Epoch 88/500\n",
            "179/179 [==============================] - 2s 13ms/step - loss: 0.0012 - accuracy: 0.9997 - val_loss: 0.0019 - val_accuracy: 0.9996 - epoch_time: 2.2672\n",
            "Epoch 89/500\n",
            "179/179 [==============================] - 2s 13ms/step - loss: 0.0012 - accuracy: 0.9997 - val_loss: 0.0026 - val_accuracy: 0.9996 - epoch_time: 2.2918\n",
            "Epoch 90/500\n",
            "179/179 [==============================] - 3s 14ms/step - loss: 0.0015 - accuracy: 0.9996 - val_loss: 0.0028 - val_accuracy: 0.9996 - epoch_time: 2.4331\n",
            "Epoch 91/500\n",
            "179/179 [==============================] - 3s 18ms/step - loss: 0.0011 - accuracy: 0.9997 - val_loss: 0.0031 - val_accuracy: 0.9996 - epoch_time: 3.1360\n",
            "Epoch 92/500\n",
            "179/179 [==============================] - 3s 14ms/step - loss: 8.7252e-04 - accuracy: 0.9999 - val_loss: 0.0024 - val_accuracy: 0.9996 - epoch_time: 2.4417\n",
            "Epoch 93/500\n",
            "179/179 [==============================] - 2s 13ms/step - loss: 8.3925e-04 - accuracy: 0.9999 - val_loss: 0.0021 - val_accuracy: 0.9996 - epoch_time: 2.2794\n",
            "Epoch 94/500\n",
            "179/179 [==============================] - 2s 13ms/step - loss: 0.0010 - accuracy: 0.9997 - val_loss: 0.0016 - val_accuracy: 0.9996 - epoch_time: 2.2959\n",
            "Epoch 95/500\n",
            "179/179 [==============================] - 2s 13ms/step - loss: 0.0013 - accuracy: 0.9999 - val_loss: 0.0030 - val_accuracy: 0.9996 - epoch_time: 2.2044\n",
            "Epoch 96/500\n",
            "179/179 [==============================] - 3s 16ms/step - loss: 9.0776e-04 - accuracy: 0.9997 - val_loss: 0.0049 - val_accuracy: 0.9996 - epoch_time: 2.7073\n",
            "Epoch 97/500\n",
            "179/179 [==============================] - 3s 17ms/step - loss: 0.0014 - accuracy: 0.9998 - val_loss: 0.0032 - val_accuracy: 0.9996 - epoch_time: 2.8780\n",
            "Epoch 98/500\n",
            "179/179 [==============================] - 2s 14ms/step - loss: 0.0014 - accuracy: 0.9996 - val_loss: 0.0033 - val_accuracy: 0.9996 - epoch_time: 2.3309\n",
            "Epoch 99/500\n",
            "179/179 [==============================] - 2s 13ms/step - loss: 0.0012 - accuracy: 0.9999 - val_loss: 0.0024 - val_accuracy: 0.9996 - epoch_time: 2.2300\n",
            "Epoch 100/500\n",
            "179/179 [==============================] - 2s 13ms/step - loss: 0.0013 - accuracy: 0.9997 - val_loss: 0.0041 - val_accuracy: 0.9992 - epoch_time: 2.3171\n",
            "Epoch 101/500\n",
            "179/179 [==============================] - 3s 14ms/step - loss: 8.3251e-04 - accuracy: 0.9999 - val_loss: 0.0055 - val_accuracy: 0.9996 - epoch_time: 2.4378\n",
            "Epoch 102/500\n",
            "179/179 [==============================] - 3s 18ms/step - loss: 6.7655e-04 - accuracy: 0.9999 - val_loss: 0.0045 - val_accuracy: 0.9996 - epoch_time: 3.1383\n",
            "Epoch 103/500\n",
            "179/179 [==============================] - 3s 19ms/step - loss: 0.0011 - accuracy: 0.9999 - val_loss: 2.3036e-04 - val_accuracy: 1.0000 - epoch_time: 2.3878\n",
            "Epoch 104/500\n",
            "179/179 [==============================] - 2s 13ms/step - loss: 0.0018 - accuracy: 0.9996 - val_loss: 0.0048 - val_accuracy: 0.9992 - epoch_time: 2.2400\n",
            "Epoch 105/500\n",
            "179/179 [==============================] - 2s 13ms/step - loss: 0.0022 - accuracy: 0.9996 - val_loss: 0.0034 - val_accuracy: 0.9996 - epoch_time: 2.2504\n",
            "Epoch 106/500\n",
            "179/179 [==============================] - 2s 14ms/step - loss: 0.0014 - accuracy: 0.9998 - val_loss: 0.0032 - val_accuracy: 0.9996 - epoch_time: 2.3784\n",
            "Epoch 107/500\n",
            "179/179 [==============================] - 3s 19ms/step - loss: 0.0018 - accuracy: 0.9996 - val_loss: 0.0025 - val_accuracy: 0.9996 - epoch_time: 3.2999\n",
            "Epoch 108/500\n",
            "179/179 [==============================] - 3s 18ms/step - loss: 0.0011 - accuracy: 0.9999 - val_loss: 0.0024 - val_accuracy: 0.9996 - epoch_time: 3.1203\n",
            "Epoch 109/500\n",
            "179/179 [==============================] - 3s 14ms/step - loss: 0.0011 - accuracy: 0.9997 - val_loss: 0.0049 - val_accuracy: 0.9996 - epoch_time: 2.4665\n",
            "Epoch 110/500\n",
            "179/179 [==============================] - 2s 14ms/step - loss: 0.0010 - accuracy: 0.9998 - val_loss: 0.0052 - val_accuracy: 0.9996 - epoch_time: 2.3381\n",
            "Epoch 111/500\n",
            "179/179 [==============================] - 2s 13ms/step - loss: 0.0014 - accuracy: 0.9996 - val_loss: 0.0055 - val_accuracy: 0.9996 - epoch_time: 2.3157\n",
            "Epoch 112/500\n",
            "179/179 [==============================] - 3s 16ms/step - loss: 9.0419e-04 - accuracy: 0.9998 - val_loss: 0.0056 - val_accuracy: 0.9996 - epoch_time: 2.8505\n",
            "Epoch 113/500\n",
            "179/179 [==============================] - 3s 15ms/step - loss: 0.0012 - accuracy: 0.9997 - val_loss: 0.0034 - val_accuracy: 0.9996 - epoch_time: 2.6440\n",
            "Epoch 114/500\n",
            "179/179 [==============================] - 2s 13ms/step - loss: 5.5973e-04 - accuracy: 0.9999 - val_loss: 0.0051 - val_accuracy: 0.9996 - epoch_time: 2.2882\n",
            "Epoch 115/500\n",
            "179/179 [==============================] - 2s 13ms/step - loss: 5.6057e-04 - accuracy: 0.9999 - val_loss: 0.0053 - val_accuracy: 0.9996 - epoch_time: 2.3178\n",
            "Epoch 116/500\n",
            "179/179 [==============================] - 2s 13ms/step - loss: 6.1765e-04 - accuracy: 0.9998 - val_loss: 0.0052 - val_accuracy: 0.9996 - epoch_time: 2.3136\n",
            "Epoch 117/500\n",
            "179/179 [==============================] - 3s 15ms/step - loss: 0.0021 - accuracy: 0.9997 - val_loss: 0.0029 - val_accuracy: 0.9996 - epoch_time: 2.6138\n",
            "Epoch 118/500\n",
            "179/179 [==============================] - 3s 18ms/step - loss: 7.8436e-04 - accuracy: 0.9998 - val_loss: 0.0033 - val_accuracy: 0.9996 - epoch_time: 3.1406\n",
            "Epoch 119/500\n",
            "179/179 [==============================] - 2s 13ms/step - loss: 7.2225e-04 - accuracy: 0.9999 - val_loss: 0.0033 - val_accuracy: 0.9996 - epoch_time: 2.3000\n",
            "Epoch 120/500\n",
            "179/179 [==============================] - 2s 13ms/step - loss: 6.7731e-04 - accuracy: 0.9999 - val_loss: 0.0098 - val_accuracy: 0.9992 - epoch_time: 2.2799\n",
            "Epoch 121/500\n",
            "179/179 [==============================] - 2s 13ms/step - loss: 5.6080e-04 - accuracy: 0.9999 - val_loss: 0.0024 - val_accuracy: 0.9996 - epoch_time: 2.3217\n",
            "Epoch 122/500\n",
            "179/179 [==============================] - 2s 13ms/step - loss: 0.0012 - accuracy: 0.9997 - val_loss: 0.0052 - val_accuracy: 0.9996 - epoch_time: 2.3247\n",
            "Epoch 123/500\n",
            "179/179 [==============================] - 3s 18ms/step - loss: 0.0013 - accuracy: 0.9996 - val_loss: 0.0038 - val_accuracy: 0.9996 - epoch_time: 3.1061\n",
            "Epoch 124/500\n",
            "179/179 [==============================] - 3s 15ms/step - loss: 4.5018e-04 - accuracy: 0.9999 - val_loss: 0.0039 - val_accuracy: 0.9996 - epoch_time: 2.5248\n",
            "Epoch 125/500\n",
            "179/179 [==============================] - 2s 14ms/step - loss: 6.6141e-04 - accuracy: 0.9997 - val_loss: 0.0046 - val_accuracy: 0.9996 - epoch_time: 2.3340\n",
            "Epoch 126/500\n",
            "179/179 [==============================] - 2s 14ms/step - loss: 0.0018 - accuracy: 0.9997 - val_loss: 0.0028 - val_accuracy: 0.9996 - epoch_time: 2.3533\n",
            "Epoch 127/500\n",
            "179/179 [==============================] - 2s 14ms/step - loss: 0.0020 - accuracy: 0.9994 - val_loss: 0.0023 - val_accuracy: 0.9996 - epoch_time: 2.3353\n",
            "Epoch 128/500\n",
            "179/179 [==============================] - 3s 17ms/step - loss: 6.5563e-04 - accuracy: 0.9999 - val_loss: 0.0025 - val_accuracy: 0.9996 - epoch_time: 2.8472\n",
            "Epoch 129/500\n",
            "179/179 [==============================] - 3s 16ms/step - loss: 6.0974e-04 - accuracy: 0.9998 - val_loss: 0.0014 - val_accuracy: 0.9996 - epoch_time: 2.7850\n",
            "Epoch 130/500\n",
            "179/179 [==============================] - 2s 13ms/step - loss: 5.9838e-04 - accuracy: 0.9999 - val_loss: 0.0022 - val_accuracy: 0.9996 - epoch_time: 2.2813\n",
            "Epoch 131/500\n",
            "179/179 [==============================] - 2s 14ms/step - loss: 9.9337e-04 - accuracy: 0.9998 - val_loss: 0.0056 - val_accuracy: 0.9992 - epoch_time: 2.3401\n",
            "Epoch 132/500\n",
            "179/179 [==============================] - 2s 13ms/step - loss: 0.0013 - accuracy: 0.9997 - val_loss: 0.0057 - val_accuracy: 0.9996 - epoch_time: 2.2898\n",
            "Epoch 133/500\n",
            "179/179 [==============================] - 3s 15ms/step - loss: 4.3100e-04 - accuracy: 0.9999 - val_loss: 0.0054 - val_accuracy: 0.9996 - epoch_time: 2.5158\n",
            "Epoch 134/500\n",
            "179/179 [==============================] - 3s 18ms/step - loss: 4.5926e-04 - accuracy: 0.9999 - val_loss: 0.0049 - val_accuracy: 0.9996 - epoch_time: 3.0567\n",
            "Epoch 135/500\n",
            "179/179 [==============================] - 2s 14ms/step - loss: 4.4132e-04 - accuracy: 0.9999 - val_loss: 0.0049 - val_accuracy: 0.9996 - epoch_time: 2.3350\n",
            "Epoch 136/500\n",
            "179/179 [==============================] - 2s 13ms/step - loss: 5.2023e-04 - accuracy: 0.9999 - val_loss: 0.0057 - val_accuracy: 0.9996 - epoch_time: 2.3020\n",
            "Epoch 137/500\n",
            "179/179 [==============================] - 2s 14ms/step - loss: 5.3413e-04 - accuracy: 0.9999 - val_loss: 0.0054 - val_accuracy: 0.9996 - epoch_time: 2.3467\n",
            "Epoch 138/500\n",
            "179/179 [==============================] - 2s 14ms/step - loss: 0.0016 - accuracy: 0.9998 - val_loss: 0.0062 - val_accuracy: 0.9996 - epoch_time: 2.3404\n",
            "Epoch 139/500\n",
            "179/179 [==============================] - 3s 18ms/step - loss: 7.0292e-04 - accuracy: 0.9999 - val_loss: 0.0018 - val_accuracy: 0.9996 - epoch_time: 3.0910\n",
            "Epoch 140/500\n",
            "179/179 [==============================] - 3s 15ms/step - loss: 4.7303e-04 - accuracy: 0.9999 - val_loss: 0.0014 - val_accuracy: 0.9996 - epoch_time: 2.5523\n",
            "Epoch 141/500\n",
            "179/179 [==============================] - 2s 13ms/step - loss: 0.0025 - accuracy: 0.9996 - val_loss: 9.7254e-04 - val_accuracy: 0.9996 - epoch_time: 2.3124\n",
            "Epoch 142/500\n",
            "179/179 [==============================] - 2s 14ms/step - loss: 7.6949e-04 - accuracy: 0.9998 - val_loss: 0.0019 - val_accuracy: 0.9996 - epoch_time: 2.3761\n",
            "Epoch 143/500\n",
            "179/179 [==============================] - 2s 14ms/step - loss: 0.0010 - accuracy: 0.9996 - val_loss: 7.3107e-04 - val_accuracy: 0.9996 - epoch_time: 2.3324\n",
            "Epoch 144/500\n",
            "179/179 [==============================] - 3s 17ms/step - loss: 6.7185e-04 - accuracy: 0.9999 - val_loss: 9.6890e-04 - val_accuracy: 0.9996 - epoch_time: 2.9705\n",
            "Epoch 145/500\n",
            "179/179 [==============================] - 3s 17ms/step - loss: 9.5546e-04 - accuracy: 0.9999 - val_loss: 0.0013 - val_accuracy: 0.9996 - epoch_time: 2.9432\n",
            "Epoch 146/500\n",
            "179/179 [==============================] - 2s 13ms/step - loss: 4.2427e-04 - accuracy: 0.9999 - val_loss: 8.7343e-04 - val_accuracy: 0.9996 - epoch_time: 2.2996\n",
            "Epoch 147/500\n",
            "179/179 [==============================] - 2s 13ms/step - loss: 3.7322e-04 - accuracy: 0.9999 - val_loss: 0.0017 - val_accuracy: 0.9996 - epoch_time: 2.2856\n",
            "Epoch 148/500\n",
            "179/179 [==============================] - 2s 13ms/step - loss: 6.1617e-04 - accuracy: 0.9999 - val_loss: 4.3765e-04 - val_accuracy: 0.9996 - epoch_time: 2.2959\n",
            "Epoch 149/500\n",
            "179/179 [==============================] - 3s 15ms/step - loss: 0.0018 - accuracy: 0.9997 - val_loss: 0.0034 - val_accuracy: 0.9996 - epoch_time: 2.5427\n",
            "Epoch 150/500\n",
            "179/179 [==============================] - 3s 18ms/step - loss: 0.0010 - accuracy: 0.9996 - val_loss: 0.0051 - val_accuracy: 0.9996 - epoch_time: 3.1254\n",
            "Epoch 151/500\n",
            "179/179 [==============================] - 2s 13ms/step - loss: 5.6566e-04 - accuracy: 0.9999 - val_loss: 0.0057 - val_accuracy: 0.9996 - epoch_time: 2.2832\n",
            "Epoch 152/500\n",
            "179/179 [==============================] - 2s 13ms/step - loss: 3.8759e-04 - accuracy: 1.0000 - val_loss: 0.0059 - val_accuracy: 0.9996 - epoch_time: 2.3042\n",
            "Epoch 153/500\n",
            "179/179 [==============================] - 2s 13ms/step - loss: 4.5697e-04 - accuracy: 0.9999 - val_loss: 0.0058 - val_accuracy: 0.9996 - epoch_time: 2.3312\n",
            "Epoch 154/500\n",
            "179/179 [==============================] - 2s 14ms/step - loss: 0.0016 - accuracy: 0.9998 - val_loss: 0.0045 - val_accuracy: 0.9996 - epoch_time: 2.3538\n",
            "Epoch 155/500\n",
            "179/179 [==============================] - 3s 18ms/step - loss: 3.5102e-04 - accuracy: 1.0000 - val_loss: 0.0048 - val_accuracy: 0.9996 - epoch_time: 3.0269\n",
            "Epoch 156/500\n",
            "179/179 [==============================] - 3s 15ms/step - loss: 3.9334e-04 - accuracy: 1.0000 - val_loss: 0.0051 - val_accuracy: 0.9996 - epoch_time: 2.6172\n",
            "Epoch 157/500\n",
            "179/179 [==============================] - 2s 13ms/step - loss: 3.4918e-04 - accuracy: 1.0000 - val_loss: 0.0047 - val_accuracy: 0.9996 - epoch_time: 2.3141\n",
            "Epoch 158/500\n",
            "179/179 [==============================] - 2s 13ms/step - loss: 9.1454e-04 - accuracy: 0.9998 - val_loss: 0.0053 - val_accuracy: 0.9996 - epoch_time: 2.3076\n",
            "Epoch 159/500\n",
            "179/179 [==============================] - 3s 14ms/step - loss: 0.0020 - accuracy: 0.9994 - val_loss: 0.0067 - val_accuracy: 0.9992 - epoch_time: 2.4049\n",
            "Epoch 160/500\n",
            "179/179 [==============================] - 3s 17ms/step - loss: 0.0020 - accuracy: 0.9998 - val_loss: 0.0051 - val_accuracy: 0.9996 - epoch_time: 2.9125\n",
            "Epoch 161/500\n",
            "179/179 [==============================] - 3s 17ms/step - loss: 0.0012 - accuracy: 0.9998 - val_loss: 0.0046 - val_accuracy: 0.9996 - epoch_time: 2.8713\n",
            "Epoch 162/500\n",
            "179/179 [==============================] - 2s 14ms/step - loss: 0.0015 - accuracy: 0.9998 - val_loss: 0.0047 - val_accuracy: 0.9996 - epoch_time: 2.3262\n",
            "Epoch 163/500\n",
            "179/179 [==============================] - 2s 14ms/step - loss: 0.0026 - accuracy: 0.9995 - val_loss: 0.0049 - val_accuracy: 0.9996 - epoch_time: 2.3395\n",
            "Epoch 164/500\n",
            "179/179 [==============================] - 2s 14ms/step - loss: 8.7185e-04 - accuracy: 0.9998 - val_loss: 0.0050 - val_accuracy: 0.9996 - epoch_time: 2.3636\n",
            "Epoch 165/500\n",
            "179/179 [==============================] - 3s 15ms/step - loss: 0.0025 - accuracy: 0.9996 - val_loss: 0.0023 - val_accuracy: 0.9996 - epoch_time: 2.5809\n",
            "Epoch 166/500\n",
            "179/179 [==============================] - 3s 18ms/step - loss: 9.3934e-04 - accuracy: 0.9998 - val_loss: 9.7293e-04 - val_accuracy: 0.9996 - epoch_time: 3.0475\n",
            "Epoch 167/500\n",
            "179/179 [==============================] - 2s 14ms/step - loss: 6.9401e-04 - accuracy: 0.9999 - val_loss: 0.0023 - val_accuracy: 0.9996 - epoch_time: 2.3256\n",
            "Epoch 168/500\n",
            "179/179 [==============================] - 2s 13ms/step - loss: 6.2502e-04 - accuracy: 0.9999 - val_loss: 0.0023 - val_accuracy: 0.9996 - epoch_time: 2.3223\n",
            "Epoch 169/500\n",
            "179/179 [==============================] - 2s 13ms/step - loss: 0.0010 - accuracy: 0.9999 - val_loss: 0.0026 - val_accuracy: 0.9996 - epoch_time: 2.3214\n",
            "Epoch 170/500\n",
            "179/179 [==============================] - 2s 13ms/step - loss: 0.0020 - accuracy: 0.9995 - val_loss: 0.0018 - val_accuracy: 0.9996 - epoch_time: 2.2860\n",
            "Epoch 171/500\n",
            "179/179 [==============================] - 3s 17ms/step - loss: 0.0018 - accuracy: 0.9996 - val_loss: 0.0045 - val_accuracy: 0.9996 - epoch_time: 2.9894\n",
            "Epoch 172/500\n",
            "179/179 [==============================] - 3s 16ms/step - loss: 6.3219e-04 - accuracy: 0.9998 - val_loss: 0.0021 - val_accuracy: 0.9996 - epoch_time: 2.7309\n",
            "Epoch 173/500\n",
            "179/179 [==============================] - 2s 14ms/step - loss: 7.0962e-04 - accuracy: 0.9998 - val_loss: 0.0055 - val_accuracy: 0.9992 - epoch_time: 2.3375\n",
            "Epoch 174/500\n",
            "179/179 [==============================] - 2s 14ms/step - loss: 8.0182e-04 - accuracy: 0.9998 - val_loss: 0.0046 - val_accuracy: 0.9996 - epoch_time: 2.3256\n",
            "Epoch 175/500\n",
            "179/179 [==============================] - 2s 14ms/step - loss: 6.5640e-04 - accuracy: 0.9998 - val_loss: 0.0048 - val_accuracy: 0.9996 - epoch_time: 2.3746\n",
            "Epoch 176/500\n",
            "179/179 [==============================] - 3s 16ms/step - loss: 3.2910e-04 - accuracy: 1.0000 - val_loss: 0.0032 - val_accuracy: 0.9996 - epoch_time: 2.8380\n",
            "Epoch 177/500\n",
            "179/179 [==============================] - 3s 17ms/step - loss: 4.2455e-04 - accuracy: 0.9999 - val_loss: 0.0052 - val_accuracy: 0.9996 - epoch_time: 2.9055\n",
            "Epoch 178/500\n",
            "179/179 [==============================] - 2s 14ms/step - loss: 3.5176e-04 - accuracy: 1.0000 - val_loss: 0.0021 - val_accuracy: 0.9996 - epoch_time: 2.3836\n",
            "Epoch 179/500\n",
            "179/179 [==============================] - 2s 13ms/step - loss: 0.0010 - accuracy: 0.9999 - val_loss: 0.0013 - val_accuracy: 0.9996 - epoch_time: 2.2809\n",
            "Epoch 180/500\n",
            "179/179 [==============================] - 2s 14ms/step - loss: 5.8418e-04 - accuracy: 0.9999 - val_loss: 0.0014 - val_accuracy: 0.9996 - epoch_time: 2.3842\n",
            "Epoch 181/500\n",
            "179/179 [==============================] - 3s 15ms/step - loss: 3.5229e-04 - accuracy: 1.0000 - val_loss: 0.0012 - val_accuracy: 0.9996 - epoch_time: 2.5862\n",
            "Epoch 182/500\n",
            "179/179 [==============================] - 3s 18ms/step - loss: 3.1064e-04 - accuracy: 1.0000 - val_loss: 0.0014 - val_accuracy: 0.9996 - epoch_time: 3.0762\n",
            "Epoch 183/500\n",
            "179/179 [==============================] - 2s 14ms/step - loss: 6.5456e-04 - accuracy: 0.9998 - val_loss: 0.0042 - val_accuracy: 0.9996 - epoch_time: 2.3499\n",
            "Epoch 184/500\n",
            "179/179 [==============================] - 2s 14ms/step - loss: 0.0020 - accuracy: 0.9997 - val_loss: 0.0034 - val_accuracy: 0.9996 - epoch_time: 2.3792\n",
            "Epoch 185/500\n",
            "179/179 [==============================] - 3s 14ms/step - loss: 4.0799e-04 - accuracy: 0.9999 - val_loss: 0.0024 - val_accuracy: 0.9996 - epoch_time: 2.4286\n",
            "Epoch 186/500\n",
            "179/179 [==============================] - 3s 15ms/step - loss: 9.1665e-04 - accuracy: 0.9997 - val_loss: 0.0039 - val_accuracy: 0.9992 - epoch_time: 2.4756\n",
            "Epoch 187/500\n",
            "179/179 [==============================] - 3s 19ms/step - loss: 7.8852e-04 - accuracy: 0.9998 - val_loss: 0.0040 - val_accuracy: 0.9996 - epoch_time: 3.2521\n",
            "Epoch 188/500\n",
            "179/179 [==============================] - 3s 14ms/step - loss: 6.3261e-04 - accuracy: 0.9999 - val_loss: 0.0060 - val_accuracy: 0.9996 - epoch_time: 2.4946\n",
            "Epoch 189/500\n",
            "179/179 [==============================] - 2s 14ms/step - loss: 3.9097e-04 - accuracy: 0.9999 - val_loss: 0.0050 - val_accuracy: 0.9996 - epoch_time: 2.3791\n",
            "Epoch 190/500\n",
            "179/179 [==============================] - 2s 14ms/step - loss: 5.4444e-04 - accuracy: 0.9999 - val_loss: 0.0045 - val_accuracy: 0.9996 - epoch_time: 2.3424\n",
            "Epoch 191/500\n",
            "179/179 [==============================] - 3s 14ms/step - loss: 5.3699e-04 - accuracy: 0.9999 - val_loss: 0.0037 - val_accuracy: 0.9996 - epoch_time: 2.4420\n",
            "Epoch 192/500\n",
            "179/179 [==============================] - 3s 18ms/step - loss: 3.9159e-04 - accuracy: 1.0000 - val_loss: 0.0052 - val_accuracy: 0.9996 - epoch_time: 3.0554\n",
            "Epoch 193/500\n",
            "179/179 [==============================] - 3s 15ms/step - loss: 0.0013 - accuracy: 0.9997 - val_loss: 0.0021 - val_accuracy: 0.9996 - epoch_time: 2.5833\n",
            "Epoch 194/500\n",
            "179/179 [==============================] - 2s 13ms/step - loss: 4.1254e-04 - accuracy: 1.0000 - val_loss: 0.0019 - val_accuracy: 0.9996 - epoch_time: 2.3174\n",
            "Epoch 195/500\n",
            "179/179 [==============================] - 2s 13ms/step - loss: 3.4436e-04 - accuracy: 1.0000 - val_loss: 6.9490e-04 - val_accuracy: 0.9996 - epoch_time: 2.2888\n",
            "Epoch 196/500\n",
            "179/179 [==============================] - 2s 13ms/step - loss: 7.5969e-04 - accuracy: 0.9999 - val_loss: 0.0016 - val_accuracy: 0.9996 - epoch_time: 2.3198\n",
            "Epoch 197/500\n",
            "179/179 [==============================] - 3s 16ms/step - loss: 3.4363e-04 - accuracy: 1.0000 - val_loss: 0.0015 - val_accuracy: 0.9996 - epoch_time: 2.6973\n",
            "Epoch 198/500\n",
            "179/179 [==============================] - 3s 17ms/step - loss: 3.5301e-04 - accuracy: 1.0000 - val_loss: 0.0010 - val_accuracy: 0.9996 - epoch_time: 2.9362\n",
            "Epoch 199/500\n",
            "179/179 [==============================] - 2s 13ms/step - loss: 3.1521e-04 - accuracy: 1.0000 - val_loss: 0.0011 - val_accuracy: 0.9996 - epoch_time: 2.3218\n",
            "Epoch 200/500\n",
            "179/179 [==============================] - 2s 13ms/step - loss: 2.8586e-04 - accuracy: 1.0000 - val_loss: 0.0014 - val_accuracy: 0.9996 - epoch_time: 2.2997\n",
            "Epoch 201/500\n",
            "179/179 [==============================] - 2s 14ms/step - loss: 3.3258e-04 - accuracy: 1.0000 - val_loss: 0.0016 - val_accuracy: 0.9996 - epoch_time: 2.3238\n",
            "Epoch 202/500\n",
            "179/179 [==============================] - 2s 14ms/step - loss: 3.3074e-04 - accuracy: 0.9999 - val_loss: 8.0308e-04 - val_accuracy: 0.9996 - epoch_time: 2.3397\n",
            "Epoch 203/500\n",
            "179/179 [==============================] - 3s 19ms/step - loss: 2.6250e-04 - accuracy: 1.0000 - val_loss: 0.0015 - val_accuracy: 0.9996 - epoch_time: 3.2223\n"
          ]
        }
      ]
    },
    {
      "cell_type": "code",
      "source": [
        "print(model_sensor1.summary())"
      ],
      "metadata": {
        "colab": {
          "base_uri": "https://localhost:8080/"
        },
        "id": "sgiNWkr6oVcq",
        "outputId": "d9f5bcc0-5f54-460a-9086-d1d11f28b0e4"
      },
      "execution_count": null,
      "outputs": [
        {
          "output_type": "stream",
          "name": "stdout",
          "text": [
            "Model: \"sequential\"\n",
            "_________________________________________________________________\n",
            " Layer (type)                Output Shape              Param #   \n",
            "=================================================================\n",
            " conv1d (Conv1D)             (None, 10, 40)            400       \n",
            "                                                                 \n",
            " dropout (Dropout)           (None, 10, 40)            0         \n",
            "                                                                 \n",
            " conv1d_1 (Conv1D)           (None, 10, 60)            7260      \n",
            "                                                                 \n",
            " dropout_1 (Dropout)         (None, 10, 60)            0         \n",
            "                                                                 \n",
            " conv1d_2 (Conv1D)           (None, 10, 60)            10860     \n",
            "                                                                 \n",
            " dropout_2 (Dropout)         (None, 10, 60)            0         \n",
            "                                                                 \n",
            " global_max_pooling1d (Globa  (None, 60)               0         \n",
            " lMaxPooling1D)                                                  \n",
            "                                                                 \n",
            " repeat_vector (RepeatVector  (None, 10, 60)           0         \n",
            " )                                                               \n",
            "                                                                 \n",
            " lstm (LSTM)                 (None, 10, 256)           324608    \n",
            "                                                                 \n",
            " dropout_3 (Dropout)         (None, 10, 256)           0         \n",
            "                                                                 \n",
            " lstm_1 (LSTM)               (None, 10, 128)           197120    \n",
            "                                                                 \n",
            " dropout_4 (Dropout)         (None, 10, 128)           0         \n",
            "                                                                 \n",
            " lstm_2 (LSTM)               (None, 64)                49408     \n",
            "                                                                 \n",
            " dropout_5 (Dropout)         (None, 64)                0         \n",
            "                                                                 \n",
            " dense (Dense)               (None, 32)                2080      \n",
            "                                                                 \n",
            " dense_1 (Dense)             (None, 16)                528       \n",
            "                                                                 \n",
            " dense_2 (Dense)             (None, 2)                 34        \n",
            "                                                                 \n",
            "=================================================================\n",
            "Total params: 592,298\n",
            "Trainable params: 592,298\n",
            "Non-trainable params: 0\n",
            "_________________________________________________________________\n",
            "None\n"
          ]
        }
      ]
    },
    {
      "cell_type": "code",
      "source": [
        "plot_model(model= model_sensor1, show_shapes= True, dpi=50)"
      ],
      "metadata": {
        "colab": {
          "base_uri": "https://localhost:8080/",
          "height": 1000
        },
        "id": "rWZpn8SyoZo6",
        "outputId": "e8d1b209-8b03-4348-9cbd-876a1012901f"
      },
      "execution_count": null,
      "outputs": [
        {
          "output_type": "execute_result",
          "data": {
            "image/png": "[encoded data removed]",
            "text/plain": [
              "<IPython.core.display.Image object>"
            ]
          },
          "metadata": {},
          "execution_count": 50
        }
      ]
    },
    {
      "cell_type": "code",
      "metadata": {
        "colab": {
          "base_uri": "https://localhost:8080/"
        },
        "id": "8f2f6m1IAR7A",
        "outputId": "65f62157-7ffa-47c2-d37d-c7bf11823131"
      },
      "source": [
        "sensor = \"sensor2\"\n",
        "time_callback = TimeHistory()\n",
        "model_sensor2 = creatModel()\n",
        "model_save, checkpoint, history_cb, Estop = setCallbacks(\"sensor2\")\n",
        "history_sensor2 = model_sensor2.fit(X_train_sensor2, y_train_sensor2,\n",
        "                                    batch_size = 128, epochs = 500,\n",
        "                                    validation_split = 0.1,\n",
        "                                    verbose = 1,\n",
        "                                    callbacks = [time_callback, model_save, checkpoint, history_cb, Estop])\n",
        "                                    # class_weight= class_weights)#"
      ],
      "execution_count": null,
      "outputs": [
        {
          "output_type": "stream",
          "name": "stdout",
          "text": [
            "Epoch 1/500\n",
            "179/179 [==============================] - 10s 20ms/step - loss: 0.1354 - accuracy: 0.9719 - val_loss: 0.0599 - val_accuracy: 0.9921 - epoch_time: 9.8242\n",
            "Epoch 2/500\n",
            "179/179 [==============================] - 3s 18ms/step - loss: 0.0406 - accuracy: 0.9948 - val_loss: 0.0409 - val_accuracy: 0.9945 - epoch_time: 2.9643\n",
            "Epoch 3/500\n",
            "179/179 [==============================] - 3s 15ms/step - loss: 0.0283 - accuracy: 0.9962 - val_loss: 0.0315 - val_accuracy: 0.9957 - epoch_time: 2.4330\n",
            "Epoch 4/500\n",
            "179/179 [==============================] - 3s 16ms/step - loss: 0.0188 - accuracy: 0.9969 - val_loss: 0.0229 - val_accuracy: 0.9957 - epoch_time: 2.6182\n",
            "Epoch 5/500\n",
            "179/179 [==============================] - 3s 16ms/step - loss: 0.0140 - accuracy: 0.9974 - val_loss: 0.0205 - val_accuracy: 0.9957 - epoch_time: 2.7214\n",
            "Epoch 6/500\n",
            "179/179 [==============================] - 2s 13ms/step - loss: 0.0105 - accuracy: 0.9985 - val_loss: 0.0146 - val_accuracy: 0.9972 - epoch_time: 2.1549\n",
            "Epoch 7/500\n",
            "179/179 [==============================] - 2s 13ms/step - loss: 0.0109 - accuracy: 0.9981 - val_loss: 0.0260 - val_accuracy: 0.9964 - epoch_time: 2.2395\n",
            "Epoch 8/500\n",
            "179/179 [==============================] - 2s 13ms/step - loss: 0.0095 - accuracy: 0.9984 - val_loss: 0.0070 - val_accuracy: 0.9988 - epoch_time: 2.1666\n",
            "Epoch 9/500\n",
            "179/179 [==============================] - 3s 14ms/step - loss: 0.0073 - accuracy: 0.9985 - val_loss: 0.0054 - val_accuracy: 0.9992 - epoch_time: 2.3232\n",
            "Epoch 10/500\n",
            "179/179 [==============================] - 3s 18ms/step - loss: 0.0079 - accuracy: 0.9986 - val_loss: 0.0077 - val_accuracy: 0.9980 - epoch_time: 3.1068\n",
            "Epoch 11/500\n",
            "179/179 [==============================] - 2s 13ms/step - loss: 0.0082 - accuracy: 0.9986 - val_loss: 0.0036 - val_accuracy: 0.9996 - epoch_time: 2.1812\n",
            "Epoch 12/500\n",
            "179/179 [==============================] - 2s 13ms/step - loss: 0.0071 - accuracy: 0.9986 - val_loss: 0.0051 - val_accuracy: 0.9976 - epoch_time: 2.1830\n",
            "Epoch 13/500\n",
            "179/179 [==============================] - 2s 13ms/step - loss: 0.0074 - accuracy: 0.9984 - val_loss: 0.0060 - val_accuracy: 0.9996 - epoch_time: 2.2700\n",
            "Epoch 14/500\n",
            "179/179 [==============================] - 2s 13ms/step - loss: 0.0057 - accuracy: 0.9990 - val_loss: 0.0026 - val_accuracy: 0.9996 - epoch_time: 2.1707\n",
            "Epoch 15/500\n",
            "179/179 [==============================] - 3s 16ms/step - loss: 0.0050 - accuracy: 0.9990 - val_loss: 0.0094 - val_accuracy: 0.9980 - epoch_time: 2.8354\n",
            "Epoch 16/500\n",
            "179/179 [==============================] - 3s 16ms/step - loss: 0.0043 - accuracy: 0.9991 - val_loss: 0.0017 - val_accuracy: 0.9996 - epoch_time: 2.6273\n",
            "Epoch 17/500\n",
            "179/179 [==============================] - 2s 13ms/step - loss: 0.0035 - accuracy: 0.9993 - val_loss: 0.0012 - val_accuracy: 1.0000 - epoch_time: 2.2130\n",
            "Epoch 18/500\n",
            "179/179 [==============================] - 2s 14ms/step - loss: 0.0038 - accuracy: 0.9993 - val_loss: 4.2696e-04 - val_accuracy: 1.0000 - epoch_time: 2.2480\n",
            "Epoch 19/500\n",
            "179/179 [==============================] - 2s 13ms/step - loss: 0.0050 - accuracy: 0.9991 - val_loss: 0.0015 - val_accuracy: 1.0000 - epoch_time: 2.1917\n",
            "Epoch 20/500\n",
            "179/179 [==============================] - 3s 15ms/step - loss: 0.0029 - accuracy: 0.9995 - val_loss: 4.2811e-04 - val_accuracy: 1.0000 - epoch_time: 2.5463\n",
            "Epoch 21/500\n",
            "179/179 [==============================] - 4s 22ms/step - loss: 0.0021 - accuracy: 0.9997 - val_loss: 3.0315e-04 - val_accuracy: 1.0000 - epoch_time: 2.9892\n",
            "Epoch 22/500\n",
            "179/179 [==============================] - 2s 13ms/step - loss: 0.0024 - accuracy: 0.9996 - val_loss: 0.0048 - val_accuracy: 0.9984 - epoch_time: 2.2257\n",
            "Epoch 23/500\n",
            "179/179 [==============================] - 2s 13ms/step - loss: 0.0042 - accuracy: 0.9993 - val_loss: 4.0565e-04 - val_accuracy: 1.0000 - epoch_time: 2.1873\n",
            "Epoch 24/500\n",
            "179/179 [==============================] - 2s 13ms/step - loss: 0.0033 - accuracy: 0.9995 - val_loss: 3.1780e-04 - val_accuracy: 1.0000 - epoch_time: 2.2703\n",
            "Epoch 25/500\n",
            "179/179 [==============================] - 2s 14ms/step - loss: 0.0045 - accuracy: 0.9990 - val_loss: 0.0066 - val_accuracy: 0.9980 - epoch_time: 2.3787\n",
            "Epoch 26/500\n",
            "179/179 [==============================] - 3s 17ms/step - loss: 0.0041 - accuracy: 0.9993 - val_loss: 5.0562e-04 - val_accuracy: 1.0000 - epoch_time: 3.0140\n",
            "Epoch 27/500\n",
            "179/179 [==============================] - 2s 13ms/step - loss: 0.0027 - accuracy: 0.9994 - val_loss: 3.2211e-04 - val_accuracy: 1.0000 - epoch_time: 2.2511\n",
            "Epoch 28/500\n",
            "179/179 [==============================] - 2s 13ms/step - loss: 0.0029 - accuracy: 0.9996 - val_loss: 6.3095e-04 - val_accuracy: 1.0000 - epoch_time: 2.2716\n",
            "Epoch 29/500\n",
            "179/179 [==============================] - 3s 18ms/step - loss: 0.0020 - accuracy: 0.9997 - val_loss: 2.7715e-04 - val_accuracy: 1.0000 - epoch_time: 2.2345\n",
            "Epoch 30/500\n",
            "179/179 [==============================] - 3s 15ms/step - loss: 0.0027 - accuracy: 0.9995 - val_loss: 2.4115e-04 - val_accuracy: 1.0000 - epoch_time: 2.4443\n",
            "Epoch 31/500\n",
            "179/179 [==============================] - 3s 18ms/step - loss: 0.0019 - accuracy: 0.9996 - val_loss: 2.1079e-04 - val_accuracy: 1.0000 - epoch_time: 2.9772\n",
            "Epoch 32/500\n",
            "179/179 [==============================] - 2s 13ms/step - loss: 0.0018 - accuracy: 0.9997 - val_loss: 2.3404e-04 - val_accuracy: 1.0000 - epoch_time: 2.1955\n",
            "Epoch 33/500\n",
            "179/179 [==============================] - 2s 13ms/step - loss: 0.0016 - accuracy: 0.9998 - val_loss: 2.3612e-04 - val_accuracy: 1.0000 - epoch_time: 2.2528\n",
            "Epoch 34/500\n",
            "179/179 [==============================] - 2s 13ms/step - loss: 0.0016 - accuracy: 0.9998 - val_loss: 3.0239e-04 - val_accuracy: 1.0000 - epoch_time: 2.1919\n",
            "Epoch 35/500\n",
            "179/179 [==============================] - 2s 13ms/step - loss: 0.0019 - accuracy: 0.9998 - val_loss: 7.4897e-04 - val_accuracy: 1.0000 - epoch_time: 2.2184\n",
            "Epoch 36/500\n",
            "179/179 [==============================] - 3s 16ms/step - loss: 0.0017 - accuracy: 0.9996 - val_loss: 0.0015 - val_accuracy: 0.9992 - epoch_time: 2.7458\n",
            "Epoch 37/500\n",
            "179/179 [==============================] - 3s 15ms/step - loss: 0.0043 - accuracy: 0.9992 - val_loss: 0.0015 - val_accuracy: 1.0000 - epoch_time: 2.6501\n",
            "Epoch 38/500\n",
            "179/179 [==============================] - 2s 13ms/step - loss: 0.0020 - accuracy: 0.9996 - val_loss: 0.0014 - val_accuracy: 0.9992 - epoch_time: 2.2905\n",
            "Epoch 39/500\n",
            "179/179 [==============================] - 2s 13ms/step - loss: 0.0033 - accuracy: 0.9994 - val_loss: 0.0629 - val_accuracy: 0.9846 - epoch_time: 2.2711\n",
            "Epoch 40/500\n",
            "179/179 [==============================] - 2s 13ms/step - loss: 0.0341 - accuracy: 0.9880 - val_loss: 0.0035 - val_accuracy: 0.9992 - epoch_time: 2.2432\n",
            "Epoch 41/500\n",
            "179/179 [==============================] - 3s 14ms/step - loss: 0.0043 - accuracy: 0.9993 - val_loss: 0.0026 - val_accuracy: 0.9996 - epoch_time: 2.4370\n",
            "Epoch 42/500\n",
            "179/179 [==============================] - 3s 17ms/step - loss: 0.0028 - accuracy: 0.9996 - val_loss: 5.8155e-04 - val_accuracy: 1.0000 - epoch_time: 3.0238\n",
            "Epoch 43/500\n",
            "179/179 [==============================] - 2s 13ms/step - loss: 0.0019 - accuracy: 0.9997 - val_loss: 6.9579e-04 - val_accuracy: 1.0000 - epoch_time: 2.2499\n",
            "Epoch 44/500\n",
            "179/179 [==============================] - 2s 13ms/step - loss: 0.0026 - accuracy: 0.9996 - val_loss: 6.1656e-04 - val_accuracy: 1.0000 - epoch_time: 2.2499\n",
            "Epoch 45/500\n",
            "179/179 [==============================] - 2s 13ms/step - loss: 0.0016 - accuracy: 0.9997 - val_loss: 3.6880e-04 - val_accuracy: 1.0000 - epoch_time: 2.2784\n",
            "Epoch 46/500\n",
            "179/179 [==============================] - 2s 13ms/step - loss: 0.0022 - accuracy: 0.9996 - val_loss: 3.8345e-04 - val_accuracy: 1.0000 - epoch_time: 2.2418\n",
            "Epoch 47/500\n",
            "179/179 [==============================] - 3s 17ms/step - loss: 0.0015 - accuracy: 0.9996 - val_loss: 4.2892e-04 - val_accuracy: 1.0000 - epoch_time: 2.9403\n",
            "Epoch 48/500\n",
            "179/179 [==============================] - 3s 14ms/step - loss: 0.0013 - accuracy: 0.9996 - val_loss: 3.0963e-04 - val_accuracy: 1.0000 - epoch_time: 2.4756\n",
            "Epoch 49/500\n",
            "179/179 [==============================] - 2s 13ms/step - loss: 0.0012 - accuracy: 0.9998 - val_loss: 3.2022e-04 - val_accuracy: 1.0000 - epoch_time: 2.2849\n",
            "Epoch 50/500\n",
            "179/179 [==============================] - 2s 13ms/step - loss: 0.0011 - accuracy: 0.9998 - val_loss: 2.7120e-04 - val_accuracy: 1.0000 - epoch_time: 2.2367\n",
            "Epoch 51/500\n",
            "179/179 [==============================] - 2s 13ms/step - loss: 9.3955e-04 - accuracy: 0.9998 - val_loss: 3.4306e-04 - val_accuracy: 1.0000 - epoch_time: 2.2593\n",
            "Epoch 52/500\n",
            "179/179 [==============================] - 3s 15ms/step - loss: 0.0016 - accuracy: 0.9997 - val_loss: 3.2595e-04 - val_accuracy: 1.0000 - epoch_time: 2.6087\n",
            "Epoch 53/500\n",
            "179/179 [==============================] - 3s 17ms/step - loss: 0.0019 - accuracy: 0.9995 - val_loss: 0.0013 - val_accuracy: 0.9992 - epoch_time: 2.9858\n",
            "Epoch 54/500\n",
            "179/179 [==============================] - 2s 13ms/step - loss: 0.0010 - accuracy: 0.9997 - val_loss: 3.6556e-04 - val_accuracy: 1.0000 - epoch_time: 2.1772\n",
            "Epoch 55/500\n",
            "179/179 [==============================] - 2s 13ms/step - loss: 9.0069e-04 - accuracy: 0.9997 - val_loss: 2.2210e-04 - val_accuracy: 1.0000 - epoch_time: 2.2088\n",
            "Epoch 56/500\n",
            "179/179 [==============================] - 2s 13ms/step - loss: 6.7894e-04 - accuracy: 0.9999 - val_loss: 2.8529e-04 - val_accuracy: 1.0000 - epoch_time: 2.2240\n",
            "Epoch 57/500\n",
            "179/179 [==============================] - 2s 13ms/step - loss: 0.0011 - accuracy: 0.9998 - val_loss: 5.2353e-04 - val_accuracy: 1.0000 - epoch_time: 2.2580\n",
            "Epoch 58/500\n",
            "179/179 [==============================] - 3s 17ms/step - loss: 0.0012 - accuracy: 0.9998 - val_loss: 2.7264e-04 - val_accuracy: 1.0000 - epoch_time: 2.9751\n",
            "Epoch 59/500\n",
            "179/179 [==============================] - 3s 15ms/step - loss: 5.2085e-04 - accuracy: 0.9999 - val_loss: 2.4970e-04 - val_accuracy: 1.0000 - epoch_time: 2.5615\n",
            "Epoch 60/500\n",
            "179/179 [==============================] - 2s 13ms/step - loss: 0.0011 - accuracy: 0.9998 - val_loss: 2.3650e-04 - val_accuracy: 1.0000 - epoch_time: 2.1760\n",
            "Epoch 61/500\n",
            "179/179 [==============================] - 2s 13ms/step - loss: 0.0011 - accuracy: 0.9998 - val_loss: 5.8001e-04 - val_accuracy: 1.0000 - epoch_time: 2.2333\n",
            "Epoch 62/500\n",
            "179/179 [==============================] - 2s 13ms/step - loss: 6.2575e-04 - accuracy: 0.9999 - val_loss: 2.1825e-04 - val_accuracy: 1.0000 - epoch_time: 2.2602\n",
            "Epoch 63/500\n",
            "179/179 [==============================] - 4s 20ms/step - loss: 6.1526e-04 - accuracy: 0.9999 - val_loss: 1.8536e-04 - val_accuracy: 1.0000 - epoch_time: 2.6287\n",
            "Epoch 64/500\n",
            "179/179 [==============================] - 3s 15ms/step - loss: 4.9178e-04 - accuracy: 0.9999 - val_loss: 1.0824e-04 - val_accuracy: 1.0000 - epoch_time: 2.4993\n",
            "Epoch 65/500\n",
            "179/179 [==============================] - 2s 13ms/step - loss: 0.0023 - accuracy: 0.9996 - val_loss: 6.6116e-04 - val_accuracy: 1.0000 - epoch_time: 2.2694\n",
            "Epoch 66/500\n",
            "179/179 [==============================] - 2s 13ms/step - loss: 0.0013 - accuracy: 0.9998 - val_loss: 4.2140e-04 - val_accuracy: 1.0000 - epoch_time: 2.2388\n",
            "Epoch 67/500\n",
            "179/179 [==============================] - 2s 14ms/step - loss: 0.0012 - accuracy: 0.9997 - val_loss: 1.6025e-04 - val_accuracy: 1.0000 - epoch_time: 2.3231\n",
            "Epoch 68/500\n",
            "179/179 [==============================] - 3s 16ms/step - loss: 7.0657e-04 - accuracy: 0.9998 - val_loss: 0.0010 - val_accuracy: 1.0000 - epoch_time: 2.7384\n",
            "Epoch 69/500\n",
            "179/179 [==============================] - 3s 17ms/step - loss: 0.0017 - accuracy: 0.9998 - val_loss: 0.0013 - val_accuracy: 1.0000 - epoch_time: 2.9412\n",
            "Epoch 70/500\n",
            "179/179 [==============================] - 2s 13ms/step - loss: 0.0013 - accuracy: 0.9998 - val_loss: 2.8083e-04 - val_accuracy: 1.0000 - epoch_time: 2.2802\n",
            "Epoch 71/500\n",
            "179/179 [==============================] - 2s 14ms/step - loss: 0.0063 - accuracy: 0.9993 - val_loss: 0.0031 - val_accuracy: 0.9996 - epoch_time: 2.3436\n",
            "Epoch 72/500\n",
            "179/179 [==============================] - 2s 13ms/step - loss: 0.0028 - accuracy: 0.9993 - val_loss: 1.7167e-04 - val_accuracy: 1.0000 - epoch_time: 2.2972\n",
            "Epoch 73/500\n",
            "179/179 [==============================] - 3s 14ms/step - loss: 0.0010 - accuracy: 0.9999 - val_loss: 1.6581e-04 - val_accuracy: 1.0000 - epoch_time: 2.4572\n",
            "Epoch 74/500\n",
            "179/179 [==============================] - 3s 18ms/step - loss: 6.1587e-04 - accuracy: 0.9999 - val_loss: 1.7435e-04 - val_accuracy: 1.0000 - epoch_time: 3.0457\n",
            "Epoch 75/500\n",
            "179/179 [==============================] - 2s 13ms/step - loss: 7.3766e-04 - accuracy: 0.9999 - val_loss: 1.5452e-04 - val_accuracy: 1.0000 - epoch_time: 2.3175\n",
            "Epoch 76/500\n",
            "179/179 [==============================] - 2s 13ms/step - loss: 9.0790e-04 - accuracy: 0.9999 - val_loss: 1.8378e-04 - val_accuracy: 1.0000 - epoch_time: 2.2236\n",
            "Epoch 77/500\n",
            "179/179 [==============================] - 2s 13ms/step - loss: 0.0010 - accuracy: 0.9998 - val_loss: 1.5280e-04 - val_accuracy: 1.0000 - epoch_time: 2.2459\n",
            "Epoch 78/500\n",
            "179/179 [==============================] - 2s 13ms/step - loss: 0.0011 - accuracy: 0.9999 - val_loss: 3.5364e-04 - val_accuracy: 1.0000 - epoch_time: 2.2532\n",
            "Epoch 79/500\n",
            "179/179 [==============================] - 3s 17ms/step - loss: 0.0017 - accuracy: 0.9995 - val_loss: 1.9776e-04 - val_accuracy: 1.0000 - epoch_time: 2.8499\n",
            "Epoch 80/500\n",
            "179/179 [==============================] - 3s 15ms/step - loss: 0.0013 - accuracy: 0.9997 - val_loss: 1.6862e-04 - val_accuracy: 1.0000 - epoch_time: 2.6767\n",
            "Epoch 81/500\n",
            "179/179 [==============================] - 2s 13ms/step - loss: 6.6027e-04 - accuracy: 0.9999 - val_loss: 1.8780e-04 - val_accuracy: 1.0000 - epoch_time: 2.2338\n",
            "Epoch 82/500\n",
            "179/179 [==============================] - 2s 13ms/step - loss: 9.0720e-04 - accuracy: 0.9998 - val_loss: 0.0016 - val_accuracy: 0.9996 - epoch_time: 2.2133\n",
            "Epoch 83/500\n",
            "179/179 [==============================] - 2s 14ms/step - loss: 0.0019 - accuracy: 0.9997 - val_loss: 2.9257e-04 - val_accuracy: 1.0000 - epoch_time: 2.3355\n",
            "Epoch 84/500\n",
            "179/179 [==============================] - 3s 15ms/step - loss: 5.6188e-04 - accuracy: 0.9999 - val_loss: 1.8683e-04 - val_accuracy: 1.0000 - epoch_time: 2.5092\n",
            "Epoch 85/500\n",
            "179/179 [==============================] - 3s 18ms/step - loss: 7.8488e-04 - accuracy: 0.9998 - val_loss: 8.8498e-04 - val_accuracy: 1.0000 - epoch_time: 3.0433\n",
            "Epoch 86/500\n",
            "179/179 [==============================] - 2s 14ms/step - loss: 7.5281e-04 - accuracy: 0.9999 - val_loss: 2.1438e-04 - val_accuracy: 1.0000 - epoch_time: 2.3320\n",
            "Epoch 87/500\n",
            "179/179 [==============================] - 2s 13ms/step - loss: 5.7692e-04 - accuracy: 0.9999 - val_loss: 1.2999e-04 - val_accuracy: 1.0000 - epoch_time: 2.2721\n",
            "Epoch 88/500\n",
            "179/179 [==============================] - 3s 17ms/step - loss: 4.4535e-04 - accuracy: 0.9999 - val_loss: 8.4107e-05 - val_accuracy: 1.0000 - epoch_time: 2.2458\n",
            "Epoch 89/500\n",
            "179/179 [==============================] - 3s 14ms/step - loss: 4.0750e-04 - accuracy: 0.9999 - val_loss: 1.0318e-04 - val_accuracy: 1.0000 - epoch_time: 2.4247\n",
            "Epoch 90/500\n",
            "179/179 [==============================] - 3s 18ms/step - loss: 5.7981e-04 - accuracy: 0.9999 - val_loss: 8.8556e-05 - val_accuracy: 1.0000 - epoch_time: 3.2075\n",
            "Epoch 91/500\n",
            "179/179 [==============================] - 2s 14ms/step - loss: 5.0398e-04 - accuracy: 0.9999 - val_loss: 8.8541e-05 - val_accuracy: 1.0000 - epoch_time: 2.3271\n",
            "Epoch 92/500\n",
            "179/179 [==============================] - 2s 14ms/step - loss: 0.0025 - accuracy: 0.9993 - val_loss: 0.0053 - val_accuracy: 0.9996 - epoch_time: 2.3761\n",
            "Epoch 93/500\n",
            "179/179 [==============================] - 2s 13ms/step - loss: 0.0019 - accuracy: 0.9997 - val_loss: 2.8738e-04 - val_accuracy: 1.0000 - epoch_time: 2.3252\n",
            "Epoch 94/500\n",
            "179/179 [==============================] - 2s 13ms/step - loss: 0.0025 - accuracy: 0.9994 - val_loss: 2.5737e-04 - val_accuracy: 1.0000 - epoch_time: 2.3138\n",
            "Epoch 95/500\n",
            "179/179 [==============================] - 3s 17ms/step - loss: 6.0136e-04 - accuracy: 0.9999 - val_loss: 1.0216e-04 - val_accuracy: 1.0000 - epoch_time: 3.0237\n",
            "Epoch 96/500\n",
            "179/179 [==============================] - 3s 15ms/step - loss: 6.5769e-04 - accuracy: 0.9999 - val_loss: 1.3586e-04 - val_accuracy: 1.0000 - epoch_time: 2.5934\n",
            "Epoch 97/500\n",
            "179/179 [==============================] - 2s 14ms/step - loss: 7.0971e-04 - accuracy: 0.9998 - val_loss: 3.7887e-04 - val_accuracy: 1.0000 - epoch_time: 2.3345\n",
            "Epoch 98/500\n",
            "179/179 [==============================] - 2s 13ms/step - loss: 5.8525e-04 - accuracy: 0.9999 - val_loss: 1.0569e-04 - val_accuracy: 1.0000 - epoch_time: 2.2681\n",
            "Epoch 99/500\n",
            "179/179 [==============================] - 2s 13ms/step - loss: 4.5242e-04 - accuracy: 0.9999 - val_loss: 4.0950e-04 - val_accuracy: 1.0000 - epoch_time: 2.2846\n",
            "Epoch 100/500\n",
            "179/179 [==============================] - 3s 16ms/step - loss: 5.1124e-04 - accuracy: 0.9999 - val_loss: 1.3819e-04 - val_accuracy: 1.0000 - epoch_time: 2.6878\n",
            "Epoch 101/500\n",
            "179/179 [==============================] - 4s 20ms/step - loss: 3.5307e-04 - accuracy: 0.9999 - val_loss: 5.6992e-05 - val_accuracy: 1.0000 - epoch_time: 2.7994\n",
            "Epoch 102/500\n",
            "179/179 [==============================] - 2s 13ms/step - loss: 6.2651e-04 - accuracy: 0.9999 - val_loss: 7.3608e-05 - val_accuracy: 1.0000 - epoch_time: 2.2997\n",
            "Epoch 103/500\n",
            "179/179 [==============================] - 2s 14ms/step - loss: 5.0319e-04 - accuracy: 0.9999 - val_loss: 6.8182e-05 - val_accuracy: 1.0000 - epoch_time: 2.3445\n",
            "Epoch 104/500\n",
            "179/179 [==============================] - 2s 14ms/step - loss: 4.8866e-04 - accuracy: 0.9999 - val_loss: 7.3109e-05 - val_accuracy: 1.0000 - epoch_time: 2.3492\n",
            "Epoch 105/500\n",
            "179/179 [==============================] - 3s 15ms/step - loss: 4.5536e-04 - accuracy: 0.9999 - val_loss: 7.9830e-05 - val_accuracy: 1.0000 - epoch_time: 2.6362\n",
            "Epoch 106/500\n",
            "179/179 [==============================] - 3s 17ms/step - loss: 0.0011 - accuracy: 0.9999 - val_loss: 1.6896e-04 - val_accuracy: 1.0000 - epoch_time: 2.9482\n",
            "Epoch 107/500\n",
            "179/179 [==============================] - 2s 13ms/step - loss: 6.2354e-04 - accuracy: 0.9999 - val_loss: 1.9707e-04 - val_accuracy: 1.0000 - epoch_time: 2.2919\n",
            "Epoch 108/500\n",
            "179/179 [==============================] - 3s 16ms/step - loss: 0.0012 - accuracy: 0.9998 - val_loss: 8.1025e-05 - val_accuracy: 1.0000 - epoch_time: 2.7964\n",
            "Epoch 109/500\n",
            "179/179 [==============================] - 3s 16ms/step - loss: 3.7909e-04 - accuracy: 0.9999 - val_loss: 6.2572e-05 - val_accuracy: 1.0000 - epoch_time: 2.8315\n",
            "Epoch 110/500\n",
            "179/179 [==============================] - 3s 16ms/step - loss: 3.9318e-04 - accuracy: 0.9999 - val_loss: 6.1564e-05 - val_accuracy: 1.0000 - epoch_time: 2.6573\n",
            "Epoch 111/500\n",
            "179/179 [==============================] - 3s 16ms/step - loss: 7.7177e-04 - accuracy: 0.9999 - val_loss: 7.3391e-05 - val_accuracy: 1.0000 - epoch_time: 2.8188\n",
            "Epoch 112/500\n",
            "179/179 [==============================] - 2s 14ms/step - loss: 6.0567e-04 - accuracy: 0.9999 - val_loss: 9.3613e-05 - val_accuracy: 1.0000 - epoch_time: 2.3154\n",
            "Epoch 113/500\n",
            "179/179 [==============================] - 2s 14ms/step - loss: 3.2057e-04 - accuracy: 0.9999 - val_loss: 7.0893e-05 - val_accuracy: 1.0000 - epoch_time: 2.3333\n",
            "Epoch 114/500\n",
            "179/179 [==============================] - 2s 14ms/step - loss: 4.2992e-04 - accuracy: 0.9999 - val_loss: 7.5987e-05 - val_accuracy: 1.0000 - epoch_time: 2.3359\n",
            "Epoch 115/500\n",
            "179/179 [==============================] - 3s 14ms/step - loss: 6.0924e-04 - accuracy: 0.9999 - val_loss: 1.2752e-04 - val_accuracy: 1.0000 - epoch_time: 2.4309\n",
            "Epoch 116/500\n",
            "179/179 [==============================] - 3s 18ms/step - loss: 3.9767e-04 - accuracy: 0.9999 - val_loss: 7.2667e-05 - val_accuracy: 1.0000 - epoch_time: 3.0266\n",
            "Epoch 117/500\n",
            "179/179 [==============================] - 2s 13ms/step - loss: 9.6127e-04 - accuracy: 0.9999 - val_loss: 5.9781e-05 - val_accuracy: 1.0000 - epoch_time: 2.3050\n"
          ]
        }
      ]
    },
    {
      "cell_type": "code",
      "metadata": {
        "id": "ylJKm4n7ppeJ",
        "colab": {
          "base_uri": "https://localhost:8080/"
        },
        "outputId": "8dc2afd9-4124-4164-fdf1-8c488e1d983a"
      },
      "source": [
        "sensor = \"sensor3\"\n",
        "time_callback = TimeHistory()\n",
        "model_sensor3 = creatModel()\n",
        "model_save, checkpoint, history_cb, Estop = setCallbacks(\"sensor3\")\n",
        "history_sensor3 = model_sensor3.fit(X_train_sensor3, y_train_sensor3,\n",
        "                                    batch_size = 128, epochs = 500,\n",
        "                                    validation_split = 0.1,\n",
        "                                    verbose = 1,\n",
        "                                    callbacks = [time_callback, model_save, checkpoint, history_cb, Estop])\n",
        "                                    # class_weight= class_weights)#"
      ],
      "execution_count": null,
      "outputs": [
        {
          "output_type": "stream",
          "name": "stdout",
          "text": [
            "Epoch 1/500\n",
            "179/179 [==============================] - 9s 24ms/step - loss: 0.1293 - accuracy: 0.9722 - val_loss: 0.0433 - val_accuracy: 0.9949 - epoch_time: 9.1338\n",
            "Epoch 2/500\n",
            "179/179 [==============================] - 3s 16ms/step - loss: 0.0399 - accuracy: 0.9941 - val_loss: 0.0318 - val_accuracy: 0.9953 - epoch_time: 2.7435\n",
            "Epoch 3/500\n",
            "179/179 [==============================] - 2s 13ms/step - loss: 0.0238 - accuracy: 0.9959 - val_loss: 0.0138 - val_accuracy: 0.9988 - epoch_time: 2.2084\n",
            "Epoch 4/500\n",
            "179/179 [==============================] - 2s 14ms/step - loss: 0.0171 - accuracy: 0.9970 - val_loss: 0.0131 - val_accuracy: 0.9976 - epoch_time: 2.2432\n",
            "Epoch 5/500\n",
            "179/179 [==============================] - 2s 13ms/step - loss: 0.0141 - accuracy: 0.9975 - val_loss: 0.0092 - val_accuracy: 0.9984 - epoch_time: 2.2015\n",
            "Epoch 6/500\n",
            "179/179 [==============================] - 3s 14ms/step - loss: 0.0107 - accuracy: 0.9981 - val_loss: 0.0124 - val_accuracy: 0.9984 - epoch_time: 2.3962\n",
            "Epoch 7/500\n",
            "179/179 [==============================] - 3s 19ms/step - loss: 0.0109 - accuracy: 0.9977 - val_loss: 0.0071 - val_accuracy: 0.9992 - epoch_time: 3.1334\n",
            "Epoch 8/500\n",
            "179/179 [==============================] - 2s 13ms/step - loss: 0.0101 - accuracy: 0.9979 - val_loss: 0.0080 - val_accuracy: 0.9984 - epoch_time: 2.2485\n",
            "Epoch 9/500\n",
            "179/179 [==============================] - 2s 13ms/step - loss: 0.0075 - accuracy: 0.9985 - val_loss: 0.0105 - val_accuracy: 0.9957 - epoch_time: 2.2607\n",
            "Epoch 10/500\n",
            "179/179 [==============================] - 2s 13ms/step - loss: 0.0077 - accuracy: 0.9980 - val_loss: 0.0071 - val_accuracy: 0.9992 - epoch_time: 2.2053\n",
            "Epoch 11/500\n",
            "179/179 [==============================] - 2s 13ms/step - loss: 0.0078 - accuracy: 0.9986 - val_loss: 0.0074 - val_accuracy: 0.9992 - epoch_time: 2.2824\n",
            "Epoch 12/500\n",
            "179/179 [==============================] - 3s 18ms/step - loss: 0.0057 - accuracy: 0.9987 - val_loss: 0.0055 - val_accuracy: 0.9992 - epoch_time: 2.9996\n",
            "Epoch 13/500\n",
            "179/179 [==============================] - 3s 15ms/step - loss: 0.0057 - accuracy: 0.9987 - val_loss: 0.0057 - val_accuracy: 0.9992 - epoch_time: 2.5231\n",
            "Epoch 14/500\n",
            "179/179 [==============================] - 2s 13ms/step - loss: 0.0048 - accuracy: 0.9988 - val_loss: 0.0063 - val_accuracy: 0.9992 - epoch_time: 2.2651\n",
            "Epoch 15/500\n",
            "179/179 [==============================] - 2s 13ms/step - loss: 0.0058 - accuracy: 0.9989 - val_loss: 0.0094 - val_accuracy: 0.9984 - epoch_time: 2.3071\n",
            "Epoch 16/500\n",
            "179/179 [==============================] - 2s 13ms/step - loss: 0.0075 - accuracy: 0.9983 - val_loss: 0.0068 - val_accuracy: 0.9988 - epoch_time: 2.2686\n",
            "Epoch 17/500\n",
            "179/179 [==============================] - 3s 16ms/step - loss: 0.0048 - accuracy: 0.9989 - val_loss: 0.0063 - val_accuracy: 0.9992 - epoch_time: 2.6765\n",
            "Epoch 18/500\n",
            "179/179 [==============================] - 3s 16ms/step - loss: 0.0072 - accuracy: 0.9986 - val_loss: 0.0066 - val_accuracy: 0.9992 - epoch_time: 2.8283\n",
            "Epoch 19/500\n",
            "179/179 [==============================] - 3s 18ms/step - loss: 0.0048 - accuracy: 0.9989 - val_loss: 0.0051 - val_accuracy: 0.9992 - epoch_time: 2.2310\n",
            "Epoch 20/500\n",
            "179/179 [==============================] - 2s 14ms/step - loss: 0.0048 - accuracy: 0.9991 - val_loss: 0.0058 - val_accuracy: 0.9992 - epoch_time: 2.3355\n",
            "Epoch 21/500\n",
            "179/179 [==============================] - 2s 13ms/step - loss: 0.0038 - accuracy: 0.9993 - val_loss: 0.0072 - val_accuracy: 0.9992 - epoch_time: 2.3162\n",
            "Epoch 22/500\n",
            "179/179 [==============================] - 3s 16ms/step - loss: 0.0047 - accuracy: 0.9992 - val_loss: 0.0052 - val_accuracy: 0.9992 - epoch_time: 2.8088\n",
            "Epoch 23/500\n",
            "179/179 [==============================] - 3s 16ms/step - loss: 0.0038 - accuracy: 0.9990 - val_loss: 0.0067 - val_accuracy: 0.9992 - epoch_time: 2.8063\n",
            "Epoch 24/500\n",
            "179/179 [==============================] - 2s 13ms/step - loss: 0.0049 - accuracy: 0.9993 - val_loss: 0.0056 - val_accuracy: 0.9992 - epoch_time: 2.2791\n",
            "Epoch 25/500\n",
            "179/179 [==============================] - 2s 13ms/step - loss: 0.0044 - accuracy: 0.9989 - val_loss: 0.0053 - val_accuracy: 0.9992 - epoch_time: 2.3197\n",
            "Epoch 26/500\n",
            "179/179 [==============================] - 2s 13ms/step - loss: 0.0044 - accuracy: 0.9990 - val_loss: 0.0074 - val_accuracy: 0.9988 - epoch_time: 2.2932\n",
            "Epoch 27/500\n",
            "179/179 [==============================] - 3s 14ms/step - loss: 0.0057 - accuracy: 0.9990 - val_loss: 0.0074 - val_accuracy: 0.9992 - epoch_time: 2.4181\n",
            "Epoch 28/500\n",
            "179/179 [==============================] - 3s 18ms/step - loss: 0.0038 - accuracy: 0.9993 - val_loss: 0.0054 - val_accuracy: 0.9992 - epoch_time: 3.1885\n",
            "Epoch 29/500\n",
            "179/179 [==============================] - 2s 13ms/step - loss: 0.0039 - accuracy: 0.9991 - val_loss: 0.0052 - val_accuracy: 0.9988 - epoch_time: 2.2524\n",
            "Epoch 30/500\n",
            "179/179 [==============================] - 2s 13ms/step - loss: 0.0052 - accuracy: 0.9991 - val_loss: 0.0070 - val_accuracy: 0.9992 - epoch_time: 2.2864\n",
            "Epoch 31/500\n",
            "179/179 [==============================] - 2s 13ms/step - loss: 0.0042 - accuracy: 0.9991 - val_loss: 0.0051 - val_accuracy: 0.9992 - epoch_time: 2.2664\n",
            "Epoch 32/500\n",
            "179/179 [==============================] - 2s 13ms/step - loss: 0.0041 - accuracy: 0.9990 - val_loss: 0.0054 - val_accuracy: 0.9992 - epoch_time: 2.2386\n",
            "Epoch 33/500\n",
            "179/179 [==============================] - 3s 17ms/step - loss: 0.0045 - accuracy: 0.9989 - val_loss: 0.0058 - val_accuracy: 0.9992 - epoch_time: 2.9381\n",
            "Epoch 34/500\n",
            "179/179 [==============================] - 3s 15ms/step - loss: 0.0044 - accuracy: 0.9989 - val_loss: 0.0080 - val_accuracy: 0.9992 - epoch_time: 2.5217\n",
            "Epoch 35/500\n",
            "179/179 [==============================] - 2s 13ms/step - loss: 0.0035 - accuracy: 0.9991 - val_loss: 0.0073 - val_accuracy: 0.9992 - epoch_time: 2.3149\n",
            "Epoch 36/500\n",
            "179/179 [==============================] - 3s 17ms/step - loss: 0.0055 - accuracy: 0.9990 - val_loss: 0.0032 - val_accuracy: 0.9992 - epoch_time: 2.2870\n",
            "Epoch 37/500\n",
            "179/179 [==============================] - 2s 13ms/step - loss: 0.0044 - accuracy: 0.9990 - val_loss: 0.0052 - val_accuracy: 0.9992 - epoch_time: 2.2951\n",
            "Epoch 38/500\n",
            "179/179 [==============================] - 3s 17ms/step - loss: 0.0033 - accuracy: 0.9993 - val_loss: 0.0066 - val_accuracy: 0.9992 - epoch_time: 2.8748\n",
            "Epoch 39/500\n",
            "179/179 [==============================] - 3s 15ms/step - loss: 0.0034 - accuracy: 0.9991 - val_loss: 0.0059 - val_accuracy: 0.9992 - epoch_time: 2.6633\n",
            "Epoch 40/500\n",
            "179/179 [==============================] - 2s 14ms/step - loss: 0.0031 - accuracy: 0.9994 - val_loss: 0.0072 - val_accuracy: 0.9992 - epoch_time: 2.3232\n",
            "Epoch 41/500\n",
            "179/179 [==============================] - 2s 13ms/step - loss: 0.0035 - accuracy: 0.9995 - val_loss: 0.0060 - val_accuracy: 0.9992 - epoch_time: 2.2580\n",
            "Epoch 42/500\n",
            "179/179 [==============================] - 2s 13ms/step - loss: 0.0030 - accuracy: 0.9993 - val_loss: 0.0056 - val_accuracy: 0.9992 - epoch_time: 2.3040\n",
            "Epoch 43/500\n",
            "179/179 [==============================] - 3s 15ms/step - loss: 0.0034 - accuracy: 0.9992 - val_loss: 0.0063 - val_accuracy: 0.9992 - epoch_time: 2.5571\n",
            "Epoch 44/500\n",
            "179/179 [==============================] - 3s 17ms/step - loss: 0.0038 - accuracy: 0.9989 - val_loss: 0.0068 - val_accuracy: 0.9988 - epoch_time: 2.8982\n",
            "Epoch 45/500\n",
            "179/179 [==============================] - 2s 13ms/step - loss: 0.0042 - accuracy: 0.9991 - val_loss: 0.0062 - val_accuracy: 0.9992 - epoch_time: 2.2221\n",
            "Epoch 46/500\n",
            "179/179 [==============================] - 2s 13ms/step - loss: 0.0033 - accuracy: 0.9991 - val_loss: 0.0057 - val_accuracy: 0.9992 - epoch_time: 2.2628\n",
            "Epoch 47/500\n",
            "179/179 [==============================] - 2s 13ms/step - loss: 0.0027 - accuracy: 0.9995 - val_loss: 0.0083 - val_accuracy: 0.9992 - epoch_time: 2.2473\n",
            "Epoch 48/500\n",
            "179/179 [==============================] - 2s 13ms/step - loss: 0.0038 - accuracy: 0.9994 - val_loss: 0.0055 - val_accuracy: 0.9992 - epoch_time: 2.2009\n",
            "Epoch 49/500\n",
            "179/179 [==============================] - 3s 18ms/step - loss: 0.0033 - accuracy: 0.9993 - val_loss: 0.0063 - val_accuracy: 0.9992 - epoch_time: 3.1024\n",
            "Epoch 50/500\n",
            "179/179 [==============================] - 3s 15ms/step - loss: 0.0029 - accuracy: 0.9995 - val_loss: 0.0067 - val_accuracy: 0.9992 - epoch_time: 2.5280\n",
            "Epoch 51/500\n",
            "179/179 [==============================] - 2s 13ms/step - loss: 0.0034 - accuracy: 0.9993 - val_loss: 0.0073 - val_accuracy: 0.9992 - epoch_time: 2.2496\n",
            "Epoch 52/500\n",
            "179/179 [==============================] - 2s 13ms/step - loss: 0.0042 - accuracy: 0.9989 - val_loss: 0.0053 - val_accuracy: 0.9992 - epoch_time: 2.2507\n",
            "Epoch 53/500\n",
            "179/179 [==============================] - 2s 13ms/step - loss: 0.0027 - accuracy: 0.9995 - val_loss: 0.0070 - val_accuracy: 0.9992 - epoch_time: 2.2710\n",
            "Epoch 54/500\n",
            "179/179 [==============================] - 3s 15ms/step - loss: 0.0034 - accuracy: 0.9995 - val_loss: 0.0076 - val_accuracy: 0.9988 - epoch_time: 2.5805\n",
            "Epoch 55/500\n",
            "179/179 [==============================] - 3s 16ms/step - loss: 0.0030 - accuracy: 0.9994 - val_loss: 0.0064 - val_accuracy: 0.9992 - epoch_time: 2.8458\n",
            "Epoch 56/500\n",
            "179/179 [==============================] - 2s 14ms/step - loss: 0.0030 - accuracy: 0.9995 - val_loss: 0.0063 - val_accuracy: 0.9992 - epoch_time: 2.3411\n",
            "Epoch 57/500\n",
            "179/179 [==============================] - 2s 13ms/step - loss: 0.0046 - accuracy: 0.9990 - val_loss: 0.0079 - val_accuracy: 0.9988 - epoch_time: 2.2892\n",
            "Epoch 58/500\n",
            "179/179 [==============================] - 2s 13ms/step - loss: 0.0039 - accuracy: 0.9993 - val_loss: 0.0059 - val_accuracy: 0.9992 - epoch_time: 2.2584\n",
            "Epoch 59/500\n",
            "179/179 [==============================] - 2s 14ms/step - loss: 0.0027 - accuracy: 0.9995 - val_loss: 0.0063 - val_accuracy: 0.9992 - epoch_time: 2.3134\n",
            "Epoch 60/500\n",
            "179/179 [==============================] - 3s 18ms/step - loss: 0.0024 - accuracy: 0.9995 - val_loss: 0.0058 - val_accuracy: 0.9992 - epoch_time: 3.0920\n",
            "Epoch 61/500\n",
            "179/179 [==============================] - 2s 13ms/step - loss: 0.0022 - accuracy: 0.9996 - val_loss: 0.0052 - val_accuracy: 0.9992 - epoch_time: 2.3290\n",
            "Epoch 62/500\n",
            "179/179 [==============================] - 2s 13ms/step - loss: 0.0039 - accuracy: 0.9992 - val_loss: 0.0148 - val_accuracy: 0.9953 - epoch_time: 2.3225\n",
            "Epoch 63/500\n",
            "179/179 [==============================] - 2s 13ms/step - loss: 0.0056 - accuracy: 0.9983 - val_loss: 0.0073 - val_accuracy: 0.9992 - epoch_time: 2.2609\n",
            "Epoch 64/500\n",
            "179/179 [==============================] - 2s 13ms/step - loss: 0.0041 - accuracy: 0.9991 - val_loss: 0.0051 - val_accuracy: 0.9992 - epoch_time: 2.2665\n",
            "Epoch 65/500\n",
            "179/179 [==============================] - 3s 16ms/step - loss: 0.0024 - accuracy: 0.9993 - val_loss: 0.0053 - val_accuracy: 0.9992 - epoch_time: 2.8295\n",
            "Epoch 66/500\n",
            "179/179 [==============================] - 3s 15ms/step - loss: 0.0028 - accuracy: 0.9994 - val_loss: 0.0063 - val_accuracy: 0.9992 - epoch_time: 2.6808\n",
            "Epoch 67/500\n",
            "179/179 [==============================] - 2s 13ms/step - loss: 0.0025 - accuracy: 0.9993 - val_loss: 0.0059 - val_accuracy: 0.9992 - epoch_time: 2.2212\n",
            "Epoch 68/500\n",
            "179/179 [==============================] - 2s 13ms/step - loss: 0.0034 - accuracy: 0.9992 - val_loss: 0.0051 - val_accuracy: 0.9992 - epoch_time: 2.2535\n",
            "Epoch 69/500\n",
            "179/179 [==============================] - 2s 13ms/step - loss: 0.0029 - accuracy: 0.9993 - val_loss: 0.0054 - val_accuracy: 0.9992 - epoch_time: 2.2590\n",
            "Epoch 70/500\n",
            "179/179 [==============================] - 2s 14ms/step - loss: 0.0031 - accuracy: 0.9993 - val_loss: 0.0078 - val_accuracy: 0.9992 - epoch_time: 2.3289\n",
            "Epoch 71/500\n",
            "179/179 [==============================] - 3s 18ms/step - loss: 0.0032 - accuracy: 0.9994 - val_loss: 0.0063 - val_accuracy: 0.9988 - epoch_time: 3.0879\n",
            "Epoch 72/500\n",
            "179/179 [==============================] - 2s 13ms/step - loss: 0.0022 - accuracy: 0.9994 - val_loss: 0.0068 - val_accuracy: 0.9992 - epoch_time: 2.2722\n",
            "Epoch 73/500\n",
            "179/179 [==============================] - 2s 13ms/step - loss: 0.0031 - accuracy: 0.9993 - val_loss: 0.0058 - val_accuracy: 0.9992 - epoch_time: 2.3006\n",
            "Epoch 74/500\n",
            "179/179 [==============================] - 2s 13ms/step - loss: 0.0029 - accuracy: 0.9995 - val_loss: 0.0051 - val_accuracy: 0.9992 - epoch_time: 2.2254\n",
            "Epoch 75/500\n",
            "179/179 [==============================] - 2s 13ms/step - loss: 0.0027 - accuracy: 0.9994 - val_loss: 0.0065 - val_accuracy: 0.9992 - epoch_time: 2.2619\n",
            "Epoch 76/500\n",
            "179/179 [==============================] - 3s 17ms/step - loss: 0.0027 - accuracy: 0.9995 - val_loss: 0.0073 - val_accuracy: 0.9992 - epoch_time: 2.9975\n",
            "Epoch 77/500\n",
            "179/179 [==============================] - 3s 15ms/step - loss: 0.0031 - accuracy: 0.9993 - val_loss: 0.0063 - val_accuracy: 0.9992 - epoch_time: 2.6027\n",
            "Epoch 78/500\n",
            "179/179 [==============================] - 2s 13ms/step - loss: 0.0028 - accuracy: 0.9995 - val_loss: 0.0060 - val_accuracy: 0.9992 - epoch_time: 2.2489\n",
            "Epoch 79/500\n",
            "179/179 [==============================] - 2s 13ms/step - loss: 0.0024 - accuracy: 0.9995 - val_loss: 0.0064 - val_accuracy: 0.9992 - epoch_time: 2.2299\n",
            "Epoch 80/500\n",
            "179/179 [==============================] - 2s 13ms/step - loss: 0.0026 - accuracy: 0.9996 - val_loss: 0.0068 - val_accuracy: 0.9992 - epoch_time: 2.2072\n",
            "Epoch 81/500\n",
            "179/179 [==============================] - 3s 15ms/step - loss: 0.0030 - accuracy: 0.9991 - val_loss: 0.0063 - val_accuracy: 0.9992 - epoch_time: 2.5383\n",
            "Epoch 82/500\n",
            "179/179 [==============================] - 3s 18ms/step - loss: 0.0020 - accuracy: 0.9995 - val_loss: 0.0061 - val_accuracy: 0.9992 - epoch_time: 3.1099\n",
            "Epoch 83/500\n",
            "179/179 [==============================] - 2s 13ms/step - loss: 0.0037 - accuracy: 0.9994 - val_loss: 0.0053 - val_accuracy: 0.9992 - epoch_time: 2.2906\n",
            "Epoch 84/500\n",
            "179/179 [==============================] - 2s 13ms/step - loss: 0.0031 - accuracy: 0.9992 - val_loss: 0.0055 - val_accuracy: 0.9992 - epoch_time: 2.2655\n",
            "Epoch 85/500\n",
            "179/179 [==============================] - 2s 13ms/step - loss: 0.0031 - accuracy: 0.9993 - val_loss: 0.0061 - val_accuracy: 0.9992 - epoch_time: 2.2182\n",
            "Epoch 86/500\n",
            "179/179 [==============================] - 2s 13ms/step - loss: 0.0021 - accuracy: 0.9996 - val_loss: 0.0066 - val_accuracy: 0.9992 - epoch_time: 2.3077\n",
            "Epoch 87/500\n",
            "179/179 [==============================] - 3s 18ms/step - loss: 0.0021 - accuracy: 0.9995 - val_loss: 0.0067 - val_accuracy: 0.9992 - epoch_time: 3.0432\n",
            "Epoch 88/500\n",
            "179/179 [==============================] - 3s 15ms/step - loss: 0.0021 - accuracy: 0.9996 - val_loss: 0.0062 - val_accuracy: 0.9992 - epoch_time: 2.5859\n",
            "Epoch 89/500\n",
            "179/179 [==============================] - 2s 14ms/step - loss: 0.0023 - accuracy: 0.9996 - val_loss: 0.0051 - val_accuracy: 0.9992 - epoch_time: 2.3728\n",
            "Epoch 90/500\n",
            "179/179 [==============================] - 2s 13ms/step - loss: 0.0028 - accuracy: 0.9994 - val_loss: 0.0065 - val_accuracy: 0.9992 - epoch_time: 2.2987\n",
            "Epoch 91/500\n",
            "179/179 [==============================] - 2s 13ms/step - loss: 0.0021 - accuracy: 0.9996 - val_loss: 0.0080 - val_accuracy: 0.9992 - epoch_time: 2.3176\n",
            "Epoch 92/500\n",
            "179/179 [==============================] - 3s 17ms/step - loss: 0.0023 - accuracy: 0.9995 - val_loss: 0.0063 - val_accuracy: 0.9992 - epoch_time: 2.8515\n",
            "Epoch 93/500\n",
            "179/179 [==============================] - 3s 19ms/step - loss: 0.0021 - accuracy: 0.9994 - val_loss: 0.0061 - val_accuracy: 0.9992 - epoch_time: 3.2364\n",
            "Epoch 94/500\n",
            "179/179 [==============================] - 3s 17ms/step - loss: 0.0020 - accuracy: 0.9996 - val_loss: 0.0059 - val_accuracy: 0.9992 - epoch_time: 3.0203\n",
            "Epoch 95/500\n",
            "179/179 [==============================] - 2s 13ms/step - loss: 0.0025 - accuracy: 0.9995 - val_loss: 0.0055 - val_accuracy: 0.9992 - epoch_time: 2.3109\n",
            "Epoch 96/500\n",
            "179/179 [==============================] - 2s 13ms/step - loss: 0.0056 - accuracy: 0.9991 - val_loss: 0.0060 - val_accuracy: 0.9992 - epoch_time: 2.2504\n",
            "Epoch 97/500\n",
            "179/179 [==============================] - 3s 16ms/step - loss: 0.0041 - accuracy: 0.9996 - val_loss: 0.0065 - val_accuracy: 0.9992 - epoch_time: 2.6667\n",
            "Epoch 98/500\n",
            "179/179 [==============================] - 3s 17ms/step - loss: 0.0051 - accuracy: 0.9992 - val_loss: 0.0044 - val_accuracy: 0.9992 - epoch_time: 2.9617\n",
            "Epoch 99/500\n",
            "179/179 [==============================] - 2s 13ms/step - loss: 0.0026 - accuracy: 0.9995 - val_loss: 0.0047 - val_accuracy: 0.9992 - epoch_time: 2.2446\n",
            "Epoch 100/500\n",
            "179/179 [==============================] - 2s 13ms/step - loss: 0.0031 - accuracy: 0.9995 - val_loss: 0.0055 - val_accuracy: 0.9992 - epoch_time: 2.2537\n",
            "Epoch 101/500\n",
            "179/179 [==============================] - 2s 13ms/step - loss: 0.0019 - accuracy: 0.9996 - val_loss: 0.0061 - val_accuracy: 0.9992 - epoch_time: 2.2813\n",
            "Epoch 102/500\n",
            "179/179 [==============================] - 2s 13ms/step - loss: 0.0027 - accuracy: 0.9994 - val_loss: 0.0060 - val_accuracy: 0.9992 - epoch_time: 2.2250\n",
            "Epoch 103/500\n",
            "179/179 [==============================] - 3s 18ms/step - loss: 0.0018 - accuracy: 0.9996 - val_loss: 0.0064 - val_accuracy: 0.9992 - epoch_time: 3.0436\n",
            "Epoch 104/500\n",
            "179/179 [==============================] - 3s 14ms/step - loss: 0.0032 - accuracy: 0.9994 - val_loss: 0.0061 - val_accuracy: 0.9992 - epoch_time: 2.4669\n",
            "Epoch 105/500\n",
            "179/179 [==============================] - 2s 13ms/step - loss: 0.0024 - accuracy: 0.9994 - val_loss: 0.0058 - val_accuracy: 0.9992 - epoch_time: 2.3173\n",
            "Epoch 106/500\n",
            "179/179 [==============================] - 2s 13ms/step - loss: 0.0029 - accuracy: 0.9994 - val_loss: 0.0071 - val_accuracy: 0.9988 - epoch_time: 2.3149\n",
            "Epoch 107/500\n",
            "179/179 [==============================] - 2s 13ms/step - loss: 0.0026 - accuracy: 0.9993 - val_loss: 0.0096 - val_accuracy: 0.9992 - epoch_time: 2.2162\n"
          ]
        }
      ]
    },
    {
      "cell_type": "code",
      "source": [
        "#plot history of model_sensor1\n",
        "history_sensor1 = pd.read_csv(model_path +\"historyLOG_Instant-10000_sensor1.csv\", index_col='epoch')\n",
        "history_sensor1.reset_index(drop= True, inplace= True)\n",
        "history_sensor1.head()\n",
        "print('Average Exe_time for sensor1: {} sec.'.format(round(np.mean(history_sensor1['epoch_time'].values),3)))\n"
      ],
      "metadata": {
        "colab": {
          "base_uri": "https://localhost:8080/"
        },
        "id": "3O-5mYHRoluo",
        "outputId": "a27671d3-4925-4170-944d-7220eb83a15d"
      },
      "execution_count": null,
      "outputs": [
        {
          "output_type": "stream",
          "name": "stdout",
          "text": [
            "Average Exe_time for sensor1: 2.586 sec.\n"
          ]
        }
      ]
    },
    {
      "cell_type": "code",
      "source": [
        "plt.plot( history_sensor1['loss'], 'b',label = 'loss')\n",
        "plt.plot( history_sensor1['val_loss'], 'g', label = 'val_loss')\n",
        "plt.legend()\n",
        "plt.grid()\n",
        "plt.title('loss_model_sensor1')\n",
        "plt.show()"
      ],
      "metadata": {
        "colab": {
          "base_uri": "https://localhost:8080/",
          "height": 281
        },
        "id": "qk6CGElHFQKh",
        "outputId": "4dff0b71-20d3-4b01-e0c4-9715e6ae743b"
      },
      "execution_count": null,
      "outputs": [
        {
          "output_type": "display_data",
          "data": {
            "text/plain": [
              "<Figure size 432x288 with 1 Axes>"
            ],
            "image/png": "[encoded data removed]"
          },
          "metadata": {
            "needs_background": "light"
          }
        }
      ]
    },
    {
      "cell_type": "code",
      "source": [
        "plt.plot(history_sensor1['accuracy']* 100,'b',label = 'acc')\n",
        "plt.plot(history_sensor1['val_accuracy'] * 100,'g', label = 'val_acc')\n",
        "plt.legend()\n",
        "plt.grid()\n",
        "plt.title('accuracy_model_sensor1')\n",
        "plt.show()"
      ],
      "metadata": {
        "colab": {
          "base_uri": "https://localhost:8080/",
          "height": 281
        },
        "id": "yW2YOqyrFauE",
        "outputId": "a4c0599f-eaf1-4989-ae93-994c03aac70d"
      },
      "execution_count": null,
      "outputs": [
        {
          "output_type": "display_data",
          "data": {
            "text/plain": [
              "<Figure size 432x288 with 1 Axes>"
            ],
            "image/png": "[encoded data removed]"
          },
          "metadata": {
            "needs_background": "light"
          }
        }
      ]
    },
    {
      "cell_type": "code",
      "metadata": {
        "colab": {
          "base_uri": "https://localhost:8080/"
        },
        "id": "yiUh7YCM0q5f",
        "outputId": "91f7edb5-3bb3-4c22-b939-8495d6f65de7"
      },
      "source": [
        "history_sensor2 = pd.read_csv(model_path +\"historyLOG_Instant-10000_sensor2.csv\", index_col='epoch')\n",
        "history_sensor2.reset_index(drop= True, inplace= True)\n",
        "history_sensor2.head()\n",
        "print('Average Exe_time for sensor2: {} sec.'.format(round(np.mean(history_sensor2['epoch_time'].values),3)))\n"
      ],
      "execution_count": null,
      "outputs": [
        {
          "output_type": "stream",
          "name": "stdout",
          "text": [
            "Average Exe_time for sensor2: 2.523 sec.\n"
          ]
        }
      ]
    },
    {
      "cell_type": "code",
      "source": [
        "plt.plot( history_sensor2['loss'], 'b',label = 'loss')\n",
        "plt.plot( history_sensor2['val_loss'], 'g', label = 'val_loss')\n",
        "plt.legend()\n",
        "plt.grid()\n",
        "plt.title('loss_model_sensor2')\n",
        "plt.show()"
      ],
      "metadata": {
        "colab": {
          "base_uri": "https://localhost:8080/",
          "height": 281
        },
        "id": "L7pzR8UUFR-X",
        "outputId": "216d26f8-7b7a-4241-ab9e-b303df8a5ab0"
      },
      "execution_count": null,
      "outputs": [
        {
          "output_type": "display_data",
          "data": {
            "text/plain": [
              "<Figure size 432x288 with 1 Axes>"
            ],
            "image/png": "[encoded data removed]"
          },
          "metadata": {
            "needs_background": "light"
          }
        }
      ]
    },
    {
      "cell_type": "code",
      "source": [
        "plt.plot(history_sensor2['accuracy']* 100,'b',label = 'acc')\n",
        "plt.plot(history_sensor2['val_accuracy'] * 100,'g', label = 'val_acc')\n",
        "plt.legend()\n",
        "plt.grid()\n",
        "plt.title('accuracy_model_sensor2')\n",
        "plt.show()"
      ],
      "metadata": {
        "colab": {
          "base_uri": "https://localhost:8080/",
          "height": 281
        },
        "id": "ThBgZzV2Finr",
        "outputId": "c9427c9e-a5d5-4c8d-b76b-9a42a6dc4330"
      },
      "execution_count": null,
      "outputs": [
        {
          "output_type": "display_data",
          "data": {
            "text/plain": [
              "<Figure size 432x288 with 1 Axes>"
            ],
            "image/png": "[encoded data removed]"
          },
          "metadata": {
            "needs_background": "light"
          }
        }
      ]
    },
    {
      "cell_type": "code",
      "metadata": {
        "colab": {
          "base_uri": "https://localhost:8080/"
        },
        "id": "xZQRze500qd5",
        "outputId": "dec0976f-6387-4e3e-f93b-fdcfa535579f"
      },
      "source": [
        "history_sensor3 = pd.read_csv(model_path +\"historyLOG_Instant-10000_sensor3.csv\", index_col='epoch')\n",
        "history_sensor3.reset_index(drop= True, inplace= True)\n",
        "history_sensor3.head()\n",
        "print('Average Exe_time for sensor3: {} sec.'.format(round(np.mean(history_sensor3['epoch_time'].values),3)))\n"
      ],
      "execution_count": null,
      "outputs": [
        {
          "output_type": "stream",
          "name": "stdout",
          "text": [
            "Average Exe_time for sensor3: 2.528 sec.\n"
          ]
        }
      ]
    },
    {
      "cell_type": "code",
      "metadata": {
        "id": "swXRfIlAX0pF",
        "colab": {
          "base_uri": "https://localhost:8080/",
          "height": 281
        },
        "outputId": "a0ac8f71-f781-4131-ef80-4bce5c29a906"
      },
      "source": [
        "plt.plot( history_sensor3['loss'], 'b',label = 'loss')\n",
        "plt.plot( history_sensor3['val_loss'], 'g', label = 'val_loss')\n",
        "plt.legend()\n",
        "plt.grid()\n",
        "plt.title('loss_model_sensor3')\n",
        "plt.show()"
      ],
      "execution_count": null,
      "outputs": [
        {
          "output_type": "display_data",
          "data": {
            "text/plain": [
              "<Figure size 432x288 with 1 Axes>"
            ],
            "image/png": "[encoded data removed]"
          },
          "metadata": {
            "needs_background": "light"
          }
        }
      ]
    },
    {
      "cell_type": "code",
      "source": [
        "plt.plot(history_sensor3['accuracy']* 100,'b',label = 'acc')\n",
        "plt.plot(history_sensor3['val_accuracy'] * 100,'g', label = 'val_acc')\n",
        "plt.legend()\n",
        "plt.grid()\n",
        "plt.title('accuracy_model_sensor3')\n",
        "plt.show()"
      ],
      "metadata": {
        "colab": {
          "base_uri": "https://localhost:8080/",
          "height": 281
        },
        "id": "Uzl-v65bFtOj",
        "outputId": "9972680f-0b97-4092-baef-f1a2f88673b2"
      },
      "execution_count": null,
      "outputs": [
        {
          "output_type": "display_data",
          "data": {
            "text/plain": [
              "<Figure size 432x288 with 1 Axes>"
            ],
            "image/png": "[encoded data removed]"
          },
          "metadata": {
            "needs_background": "light"
          }
        }
      ]
    },
    {
      "cell_type": "code",
      "source": [
        "#last model_sensor1 evaluation\n",
        "test_loss, test_acc = model_sensor1.evaluate( X_test_sensor1, y_test_sensor1, verbose= 1)\n",
        "print('test accuracy :{:.1%} \\n test loss :{:.3}'.format(test_acc, test_loss))"
      ],
      "metadata": {
        "colab": {
          "base_uri": "https://localhost:8080/"
        },
        "id": "r9txKKt8GPES",
        "outputId": "6c8b84a7-b434-445e-a4d3-2dd6f90ce002"
      },
      "execution_count": null,
      "outputs": [
        {
          "output_type": "stream",
          "name": "stdout",
          "text": [
            "140/140 [==============================] - 1s 6ms/step - loss: 0.0052 - accuracy: 0.9996\n",
            "test accuracy :100.0% \n",
            " test loss :0.00518\n"
          ]
        }
      ]
    },
    {
      "cell_type": "code",
      "source": [
        "#last model_sensor2 evaluation\n",
        "test_loss, test_acc = model_sensor2.evaluate( X_test_sensor2, y_test_sensor2, verbose= 1)\n",
        "print('test accuracy :{:.1%} \\n test loss :{:.3}'.format(test_acc, test_loss))"
      ],
      "metadata": {
        "colab": {
          "base_uri": "https://localhost:8080/"
        },
        "id": "adROowiPGPtE",
        "outputId": "737c7106-c3dd-49ce-ab42-485e605ca1e1"
      },
      "execution_count": null,
      "outputs": [
        {
          "output_type": "stream",
          "name": "stdout",
          "text": [
            "140/140 [==============================] - 1s 6ms/step - loss: 0.0030 - accuracy: 0.9998\n",
            "test accuracy :100.0% \n",
            " test loss :0.00299\n"
          ]
        }
      ]
    },
    {
      "cell_type": "code",
      "source": [
        "#last model_sensor3 evaluation\n",
        "test_loss, test_acc = model_sensor3.evaluate( X_test_sensor3, y_test_sensor3, verbose= 1)\n",
        "print('test accuracy :{:.1%} \\n test loss :{:.3}'.format(test_acc, test_loss))"
      ],
      "metadata": {
        "colab": {
          "base_uri": "https://localhost:8080/"
        },
        "id": "AFoZDmx4GP5u",
        "outputId": "8c4aded8-053f-424e-dde5-c79efbf0eef1"
      },
      "execution_count": null,
      "outputs": [
        {
          "output_type": "stream",
          "name": "stdout",
          "text": [
            "140/140 [==============================] - 1s 6ms/step - loss: 0.0018 - accuracy: 0.9998\n",
            "test accuracy :100.0% \n",
            " test loss :0.00184\n"
          ]
        }
      ]
    },
    {
      "cell_type": "code",
      "source": [
        "y_pred_sensor1 = model_sensor1.predict( X_test_sensor1, verbose= 1)\n",
        "y_pred_sensor2 = model_sensor2.predict( X_test_sensor2, verbose= 1)\n",
        "y_pred_sensor3 = model_sensor3.predict( X_test_sensor3, verbose= 1)"
      ],
      "metadata": {
        "colab": {
          "base_uri": "https://localhost:8080/"
        },
        "id": "STn_XkCZGP7k",
        "outputId": "d540477b-293d-4b32-ba5f-75573eac2937"
      },
      "execution_count": null,
      "outputs": [
        {
          "output_type": "stream",
          "name": "stdout",
          "text": [
            "140/140 [==============================] - 2s 5ms/step\n",
            "140/140 [==============================] - 2s 6ms/step\n",
            "140/140 [==============================] - 2s 6ms/step\n"
          ]
        }
      ]
    },
    {
      "cell_type": "code",
      "source": [
        "y_pred_sensor1 = [np.argmax(i) for i in y_pred_sensor1]\n",
        "y_pred_sensor2 = [np.argmax(i) for i in y_pred_sensor2]\n",
        "y_pred_sensor3 = [np.argmax(i) for i in y_pred_sensor3]"
      ],
      "metadata": {
        "id": "WCLRF8ySGP-y"
      },
      "execution_count": null,
      "outputs": []
    },
    {
      "cell_type": "code",
      "source": [
        "y_pred_total = []\n",
        "for i in range(len(y_pred_sensor1)):\n",
        "  y_pred_total.append( y_pred_sensor1[i] or y_pred_sensor2[i] or y_pred_sensor3[i])"
      ],
      "metadata": {
        "id": "anY5RdokHE_1"
      },
      "execution_count": null,
      "outputs": []
    },
    {
      "cell_type": "code",
      "source": [
        "assert(len(y_pred_total) == len(y_pred_sensor1))"
      ],
      "metadata": {
        "id": "afksljyBHFMW"
      },
      "execution_count": null,
      "outputs": []
    },
    {
      "cell_type": "code",
      "source": [
        "y_test_sensor1 = [np.argmax(i) for i in y_test_sensor1]\n",
        "y_test_sensor2 = [np.argmax(i) for i in y_test_sensor2]\n",
        "y_test_sensor3 = [np.argmax(i) for i in y_test_sensor3]"
      ],
      "metadata": {
        "id": "9NrwBh01HMgQ"
      },
      "execution_count": null,
      "outputs": []
    },
    {
      "cell_type": "code",
      "source": [
        "y_test_total = []\n",
        "for i in range(len(y_test_sensor1)):\n",
        "  y_test_total.append(y_test_sensor1[i] or y_test_sensor2[i] or y_test_sensor3[i])"
      ],
      "metadata": {
        "id": "lRweEKazHMsx"
      },
      "execution_count": null,
      "outputs": []
    },
    {
      "cell_type": "code",
      "source": [
        "print(\"Sensor 1 performanace:\")\n",
        "recall = recall_score(y_test_sensor1, y_pred_sensor1, average='micro')\n",
        "print('recall score : {:.2%}\\n'.format(recall ))\n",
        "\n",
        "precision = precision_score(y_test_sensor1, y_pred_sensor1, average='micro')\n",
        "print('precision score: {:.2%}\\n'.format(precision ))\n",
        "\n",
        "f1 = f1_score(y_test_sensor1, y_pred_sensor1, average='micro')\n",
        "print(\"F1 score: {:.2%}\\n\".format(f1 ))\n",
        "\n",
        "accuracy = accuracy_score(y_test_sensor1, y_pred_sensor1)\n",
        "print(\"accuracy score: {:.2%}\\n\".format(accuracy))"
      ],
      "metadata": {
        "colab": {
          "base_uri": "https://localhost:8080/"
        },
        "id": "3oCJphJZHMuN",
        "outputId": "1e8ad7a0-5ec1-4abf-bc34-ce429674e1d6"
      },
      "execution_count": null,
      "outputs": [
        {
          "output_type": "stream",
          "name": "stdout",
          "text": [
            "Sensor 1 performanace:\n",
            "recall score : 99.96%\n",
            "\n",
            "precision score: 99.96%\n",
            "\n",
            "F1 score: 99.96%\n",
            "\n",
            "accuracy score: 99.96%\n",
            "\n"
          ]
        }
      ]
    },
    {
      "cell_type": "code",
      "source": [
        "print(\"Sensor 2 performanace:\")\n",
        "recall = recall_score(y_test_sensor2, y_pred_sensor2, average='micro')\n",
        "print('recall score : {:.2%}\\n'.format(recall ))\n",
        "\n",
        "precision = precision_score(y_test_sensor2, y_pred_sensor2, average='micro')\n",
        "print('precision score: {:.2%}\\n'.format(precision ))\n",
        "\n",
        "f1 = f1_score(y_test_sensor2, y_pred_sensor2, average='micro')\n",
        "print(\"F1 score: {:.2%}\\n\".format(f1 ))\n",
        "\n",
        "accuracy = accuracy_score(y_test_sensor2, y_pred_sensor2)\n",
        "print(\"accuracy score: {:.2%}\\n\".format(accuracy))"
      ],
      "metadata": {
        "colab": {
          "base_uri": "https://localhost:8080/"
        },
        "id": "Lm9vlS19HMxS",
        "outputId": "2d96d2f6-2d13-4eae-cf5b-44a6ad076a6e"
      },
      "execution_count": null,
      "outputs": [
        {
          "output_type": "stream",
          "name": "stdout",
          "text": [
            "Sensor 2 performanace:\n",
            "recall score : 99.98%\n",
            "\n",
            "precision score: 99.98%\n",
            "\n",
            "F1 score: 99.98%\n",
            "\n",
            "accuracy score: 99.98%\n",
            "\n"
          ]
        }
      ]
    },
    {
      "cell_type": "code",
      "source": [
        "print(\"Sensor 3 performanace:\")\n",
        "recall = recall_score(y_test_sensor3, y_pred_sensor3, average='micro')\n",
        "print('recall score : {:.2%}\\n'.format(recall ))\n",
        "\n",
        "precision = precision_score(y_test_sensor3, y_pred_sensor3, average='micro')\n",
        "print('precision score: {:.2%}\\n'.format(precision ))\n",
        "\n",
        "f1 = f1_score(y_test_sensor3, y_pred_sensor3, average='micro')\n",
        "print(\"F1 score: {:.2%}\\n\".format(f1 ))\n",
        "\n",
        "accuracy = accuracy_score(y_test_sensor3, y_pred_sensor3)\n",
        "print(\"accuracy score: {:.2%}\\n\".format(accuracy))"
      ],
      "metadata": {
        "colab": {
          "base_uri": "https://localhost:8080/"
        },
        "id": "klF4enFMHaV1",
        "outputId": "c71eb77a-5344-41d5-e79f-657e12e702a8"
      },
      "execution_count": null,
      "outputs": [
        {
          "output_type": "stream",
          "name": "stdout",
          "text": [
            "Sensor 3 performanace:\n",
            "recall score : 99.98%\n",
            "\n",
            "precision score: 99.98%\n",
            "\n",
            "F1 score: 99.98%\n",
            "\n",
            "accuracy score: 99.98%\n",
            "\n"
          ]
        }
      ]
    },
    {
      "cell_type": "code",
      "source": [
        "print(\"All Sensors performanace:\\n\")\n",
        "\n",
        "recall = recall_score(y_test_total, y_pred_total, average='micro')\n",
        "print('recall score : {:.2%}\\n'.format(recall ))\n",
        "\n",
        "precision = precision_score(y_test_total, y_pred_total, average='micro')\n",
        "print('precision score: {:.2%}\\n'.format(precision ))\n",
        "\n",
        "f1 = f1_score(y_test_total, y_pred_total, average='micro')\n",
        "print(\"F1 score: {:.2%}\\n\".format(f1 ))\n",
        "\n",
        "accuracy = accuracy_score(y_test_total, y_pred_total)\n",
        "print(\"accuracy score: {:.2%}\\n\".format(accuracy))"
      ],
      "metadata": {
        "colab": {
          "base_uri": "https://localhost:8080/"
        },
        "id": "EIlCvZWhHg9S",
        "outputId": "10a216fb-cb6c-439d-d90f-eb221c5ea175"
      },
      "execution_count": null,
      "outputs": [
        {
          "output_type": "stream",
          "name": "stdout",
          "text": [
            "All Sensors performanace:\n",
            "\n",
            "recall score : 99.96%\n",
            "\n",
            "precision score: 99.96%\n",
            "\n",
            "F1 score: 99.96%\n",
            "\n",
            "accuracy score: 99.96%\n",
            "\n"
          ]
        }
      ]
    },
    {
      "cell_type": "code",
      "source": [
        "print(\"All Sensors performanace:\\n\")\n",
        "\n",
        "recall = recall_score(y_test_total, y_pred_total, average='macro')\n",
        "print('recall score : {:.2%}\\n'.format(recall ))\n",
        "\n",
        "precision = precision_score(y_test_total, y_pred_total, average='macro')\n",
        "print('precision score: {:.2%}\\n'.format(precision ))\n",
        "\n",
        "f1 = f1_score(y_test_total, y_pred_total, average='macro')\n",
        "print(\"F1 score: {:.2%}\\n\".format(f1 ))\n",
        "\n",
        "accuracy = accuracy_score(y_test_total, y_pred_total)\n",
        "print(\"accuracy score: {:.2%}\\n\".format(accuracy))"
      ],
      "metadata": {
        "colab": {
          "base_uri": "https://localhost:8080/"
        },
        "id": "j5CsF4AQHiEs",
        "outputId": "59d55acb-f79e-4593-836f-e0e58570a06f"
      },
      "execution_count": null,
      "outputs": [
        {
          "output_type": "stream",
          "name": "stdout",
          "text": [
            "All Sensors performanace:\n",
            "\n",
            "recall score : 99.95%\n",
            "\n",
            "precision score: 99.96%\n",
            "\n",
            "F1 score: 99.95%\n",
            "\n",
            "accuracy score: 99.96%\n",
            "\n"
          ]
        }
      ]
    },
    {
      "cell_type": "code",
      "source": [
        "conf = confusion_matrix(y_test_total, y_pred_total, labels=[1,0])\n",
        "conf_df = pd.DataFrame(conf, columns= [1,0], index= [1,0])\n",
        "conf_df"
      ],
      "metadata": {
        "colab": {
          "base_uri": "https://localhost:8080/",
          "height": 112
        },
        "id": "d1gGHBdzHlkV",
        "outputId": "f9f822f5-0ffc-46c7-bd28-28d7ea3b24d4"
      },
      "execution_count": null,
      "outputs": [
        {
          "output_type": "execute_result",
          "data": {
            "text/plain": [
              "      1     0\n",
              "1  1840     2\n",
              "0     0  2627"
            ],
            "text/html": [
              "\n",
              "  <div id=\"df-83b60767-4c57-4265-be1a-21cd9b0ba0ce\">\n",
              "    <div class=\"colab-df-container\">\n",
              "      <div>\n",
              "<style scoped>\n",
              "    .dataframe tbody tr th:only-of-type {\n",
              "        vertical-align: middle;\n",
              "    }\n",
              "\n",
              "    .dataframe tbody tr th {\n",
              "        vertical-align: top;\n",
              "    }\n",
              "\n",
              "    .dataframe thead th {\n",
              "        text-align: right;\n",
              "    }\n",
              "</style>\n",
              "<table border=\"1\" class=\"dataframe\">\n",
              "  <thead>\n",
              "    <tr style=\"text-align: right;\">\n",
              "      <th></th>\n",
              "      <th>1</th>\n",
              "      <th>0</th>\n",
              "    </tr>\n",
              "  </thead>\n",
              "  <tbody>\n",
              "    <tr>\n",
              "      <th>1</th>\n",
              "      <td>1840</td>\n",
              "      <td>2</td>\n",
              "    </tr>\n",
              "    <tr>\n",
              "      <th>0</th>\n",
              "      <td>0</td>\n",
              "      <td>2627</td>\n",
              "    </tr>\n",
              "  </tbody>\n",
              "</table>\n",
              "</div>\n",
              "      <button class=\"colab-df-convert\" onclick=\"convertToInteractive('df-83b60767-4c57-4265-be1a-21cd9b0ba0ce')\"\n",
              "              title=\"Convert this dataframe to an interactive table.\"\n",
              "              style=\"display:none;\">\n",
              "        \n",
              "  <svg xmlns=\"http://www.w3.org/2000/svg\" height=\"24px\"viewBox=\"0 0 24 24\"\n",
              "       width=\"24px\">\n",
              "    <path d=\"M0 0h24v24H0V0z\" fill=\"none\"/>\n",
              "    <path d=\"M18.56 5.44l.94 2.06.94-2.06 2.06-.94-2.06-.94-.94-2.06-.94 2.06-2.06.94zm-11 1L8.5 8.5l.94-2.06 2.06-.94-2.06-.94L8.5 2.5l-.94 2.06-2.06.94zm10 10l.94 2.06.94-2.06 2.06-.94-2.06-.94-.94-2.06-.94 2.06-2.06.94z\"/><path d=\"M17.41 7.96l-1.37-1.37c-.4-.4-.92-.59-1.43-.59-.52 0-1.04.2-1.43.59L10.3 9.45l-7.72 7.72c-.78.78-.78 2.05 0 2.83L4 21.41c.39.39.9.59 1.41.59.51 0 1.02-.2 1.41-.59l7.78-7.78 2.81-2.81c.8-.78.8-2.07 0-2.86zM5.41 20L4 18.59l7.72-7.72 1.47 1.35L5.41 20z\"/>\n",
              "  </svg>\n",
              "      </button>\n",
              "      \n",
              "  <style>\n",
              "    .colab-df-container {\n",
              "      display:flex;\n",
              "      flex-wrap:wrap;\n",
              "      gap: 12px;\n",
              "    }\n",
              "\n",
              "    .colab-df-convert {\n",
              "      background-color: #E8F0FE;\n",
              "      border: none;\n",
              "      border-radius: 50%;\n",
              "      cursor: pointer;\n",
              "      display: none;\n",
              "      fill: #1967D2;\n",
              "      height: 32px;\n",
              "      padding: 0 0 0 0;\n",
              "      width: 32px;\n",
              "    }\n",
              "\n",
              "    .colab-df-convert:hover {\n",
              "      background-color: #E2EBFA;\n",
              "      box-shadow: 0px 1px 2px rgba(60, 64, 67, 0.3), 0px 1px 3px 1px rgba(60, 64, 67, 0.15);\n",
              "      fill: #174EA6;\n",
              "    }\n",
              "\n",
              "    [theme=dark] .colab-df-convert {\n",
              "      background-color: #3B4455;\n",
              "      fill: #D2E3FC;\n",
              "    }\n",
              "\n",
              "    [theme=dark] .colab-df-convert:hover {\n",
              "      background-color: #434B5C;\n",
              "      box-shadow: 0px 1px 3px 1px rgba(0, 0, 0, 0.15);\n",
              "      filter: drop-shadow(0px 1px 2px rgba(0, 0, 0, 0.3));\n",
              "      fill: #FFFFFF;\n",
              "    }\n",
              "  </style>\n",
              "\n",
              "      <script>\n",
              "        const buttonEl =\n",
              "          document.querySelector('#df-83b60767-4c57-4265-be1a-21cd9b0ba0ce button.colab-df-convert');\n",
              "        buttonEl.style.display =\n",
              "          google.colab.kernel.accessAllowed ? 'block' : 'none';\n",
              "\n",
              "        async function convertToInteractive(key) {\n",
              "          const element = document.querySelector('#df-83b60767-4c57-4265-be1a-21cd9b0ba0ce');\n",
              "          const dataTable =\n",
              "            await google.colab.kernel.invokeFunction('convertToInteractive',\n",
              "                                                     [key], {});\n",
              "          if (!dataTable) return;\n",
              "\n",
              "          const docLinkHtml = 'Like what you see? Visit the ' +\n",
              "            '<a target=\"_blank\" href=https://colab.research.google.com/notebooks/data_table.ipynb>data table notebook</a>'\n",
              "            + ' to learn more about interactive tables.';\n",
              "          element.innerHTML = '';\n",
              "          dataTable['output_type'] = 'display_data';\n",
              "          await google.colab.output.renderOutput(dataTable, element);\n",
              "          const docLink = document.createElement('div');\n",
              "          docLink.innerHTML = docLinkHtml;\n",
              "          element.appendChild(docLink);\n",
              "        }\n",
              "      </script>\n",
              "    </div>\n",
              "  </div>\n",
              "  "
            ]
          },
          "metadata": {},
          "execution_count": 76
        }
      ]
    }
  ]
}