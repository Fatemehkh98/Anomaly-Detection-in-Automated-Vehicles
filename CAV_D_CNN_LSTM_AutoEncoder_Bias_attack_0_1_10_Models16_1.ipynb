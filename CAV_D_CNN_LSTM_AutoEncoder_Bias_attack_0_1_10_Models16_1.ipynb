{
  "nbformat": 4,
  "nbformat_minor": 0,
  "metadata": {
    "colab": {
      "provenance": []
    },
    "kernelspec": {
      "name": "python3",
      "display_name": "Python 3"
    },
    "language_info": {
      "name": "python"
    },
    "accelerator": "GPU"
  },
  "cells": [
    {
      "cell_type": "code",
      "metadata": {
        "id": "INNY7MoLZn0x",
        "colab": {
          "base_uri": "https://localhost:8080/"
        },
        "outputId": "0526bf6a-8d3d-47f9-b5ce-0ee870131c81"
      },
      "source": [
        "from google.colab import drive\n",
        "drive.mount('/content/drive')"
      ],
      "execution_count": null,
      "outputs": [
        {
          "output_type": "stream",
          "name": "stdout",
          "text": [
            "Mounted at /content/drive\n"
          ]
        }
      ]
    },
    {
      "cell_type": "code",
      "metadata": {
        "id": "bQ3m-WaucgZw",
        "colab": {
          "base_uri": "https://localhost:8080/"
        },
        "outputId": "1cff2699-12c6-4088-e1a6-819cc87463ed"
      },
      "source": [
        "pip install h5py==2.10.0"
      ],
      "execution_count": null,
      "outputs": [
        {
          "output_type": "stream",
          "name": "stdout",
          "text": [
            "Looking in indexes: https://pypi.org/simple, https://us-python.pkg.dev/colab-wheels/public/simple/\n",
            "Collecting h5py==2.10.0\n",
            "  Downloading h5py-2.10.0-cp38-cp38-manylinux1_x86_64.whl (2.9 MB)\n",
            "\u001b[2K     \u001b[90m━━━━━━━━━━━━━━━━━━━━━━━━━━━━━━━━━━━━━━━━\u001b[0m \u001b[32m2.9/2.9 MB\u001b[0m \u001b[31m80.3 MB/s\u001b[0m eta \u001b[36m0:00:00\u001b[0m\n",
            "\u001b[?25hRequirement already satisfied: numpy>=1.7 in /usr/local/lib/python3.8/dist-packages (from h5py==2.10.0) (1.21.6)\n",
            "Requirement already satisfied: six in /usr/local/lib/python3.8/dist-packages (from h5py==2.10.0) (1.15.0)\n",
            "Installing collected packages: h5py\n",
            "  Attempting uninstall: h5py\n",
            "    Found existing installation: h5py 3.1.0\n",
            "    Uninstalling h5py-3.1.0:\n",
            "      Successfully uninstalled h5py-3.1.0\n",
            "Successfully installed h5py-2.10.0\n"
          ]
        }
      ]
    },
    {
      "cell_type": "code",
      "metadata": {
        "colab": {
          "base_uri": "https://localhost:8080/"
        },
        "id": "8QiS7haVwwyX",
        "outputId": "0f0083b5-5405-4306-8f13-cd227089de45"
      },
      "source": [
        "import tensorflow as tf\n",
        "print(\"tensorflow version :{}\".format(tf.__version__))\n",
        "device_name = tf.test.gpu_device_name()\n",
        "if device_name != '/device:GPU:0':\n",
        "  raise SystemError('GPU device not found')\n",
        "print('Found GPU at: {}'.format(device_name))"
      ],
      "execution_count": null,
      "outputs": [
        {
          "output_type": "stream",
          "name": "stdout",
          "text": [
            "tensorflow version :2.9.2\n",
            "Found GPU at: /device:GPU:0\n"
          ]
        }
      ]
    },
    {
      "cell_type": "code",
      "metadata": {
        "colab": {
          "base_uri": "https://localhost:8080/"
        },
        "id": "GcgHainaexAf",
        "outputId": "7a51067c-b922-44bd-f6ed-5247f29373a7"
      },
      "source": [
        "from tensorflow.python.client import device_lib\n",
        "device_lib.list_local_devices()"
      ],
      "execution_count": null,
      "outputs": [
        {
          "output_type": "execute_result",
          "data": {
            "text/plain": [
              "[name: \"/device:CPU:0\"\n",
              " device_type: \"CPU\"\n",
              " memory_limit: 268435456\n",
              " locality {\n",
              " }\n",
              " incarnation: 12864892380499245193\n",
              " xla_global_id: -1, name: \"/device:GPU:0\"\n",
              " device_type: \"GPU\"\n",
              " memory_limit: 14417788928\n",
              " locality {\n",
              "   bus_id: 1\n",
              "   links {\n",
              "   }\n",
              " }\n",
              " incarnation: 569859225893099809\n",
              " physical_device_desc: \"device: 0, name: Tesla T4, pci bus id: 0000:00:04.0, compute capability: 7.5\"\n",
              " xla_global_id: 416903419]"
            ]
          },
          "metadata": {},
          "execution_count": 4
        }
      ]
    },
    {
      "cell_type": "code",
      "metadata": {
        "id": "wXNT7HPDVvnG"
      },
      "source": [
        "#### physical_device_desc: \"device: 0, name: Tesla T4, pci bus id: 0000:00:04.0, compute capability: 7.5\"]"
      ],
      "execution_count": null,
      "outputs": []
    },
    {
      "cell_type": "code",
      "metadata": {
        "id": "VtduHlsdzllv"
      },
      "source": [
        "import pandas as pd\n",
        "import numpy as np\n",
        "import matplotlib.pyplot as plt\n",
        "from sklearn.model_selection import train_test_split\n",
        "from sklearn.preprocessing import MinMaxScaler, StandardScaler\n",
        "from sklearn.utils import class_weight"
      ],
      "execution_count": null,
      "outputs": []
    },
    {
      "cell_type": "code",
      "metadata": {
        "id": "wmDBFUYG5UTm"
      },
      "source": [
        "\n",
        "from keras.layers import Conv1D, Dense, Dropout, GlobalMaxPool1D, MaxPool1D\n",
        "from keras.layers import TimeDistributed, LSTM, Bidirectional, Input, concatenate,RepeatVector\n",
        "from keras import regularizers\n",
        "# from keras.layers.normalization import BatchNormalization\n",
        "from keras.models import Sequential, load_model, Model\n",
        "from keras.callbacks import ModelCheckpoint, Callback, EarlyStopping\n",
        "from tensorflow.keras.utils import plot_model, to_categorical\n",
        "from keras.losses import binary_crossentropy\n",
        "from keras.optimizers import Adam\n",
        "from sklearn.metrics import recall_score, precision_score, f1_score, accuracy_score\n",
        "from sklearn.metrics import confusion_matrix\n",
        "from keras.regularizers import l1,l2\n",
        "from statsmodels.tsa.stattools import adfuller\n"
      ],
      "execution_count": null,
      "outputs": []
    },
    {
      "cell_type": "code",
      "metadata": {
        "id": "knBwY4MXdknx"
      },
      "source": [
        "data_path = \"/content/drive/MyDrive/CAV/data/Bias attack/0_1_dur_10/\""
      ],
      "execution_count": null,
      "outputs": []
    },
    {
      "cell_type": "code",
      "metadata": {
        "colab": {
          "base_uri": "https://localhost:8080/",
          "height": 206
        },
        "id": "uPy3-An4ynUz",
        "outputId": "8c683fe2-1bf0-4dde-ffd8-6c040aebb2bf"
      },
      "source": [
        "sensor1_data = pd.read_csv(data_path + \"Sensor1_values_bias_0_1_dur_10_dep.csv\", index_col= 'Unnamed: 0')\n",
        "sensor1_data.head()"
      ],
      "execution_count": null,
      "outputs": [
        {
          "output_type": "execute_result",
          "data": {
            "text/plain": [
              "   InVehicle_Longitudinal_Speed  GPS_Speed  InVehicle_Longitudinal_Accel\n",
              "0                     11.375000  11.307097                     -0.103000\n",
              "1                     11.366708  11.255964                     -0.353946\n",
              "2                     11.362331  11.249115                     -0.090962\n",
              "3                     11.358665  11.263280                     -0.043470\n",
              "4                     11.356745  11.270361                     -0.037579"
            ],
            "text/html": [
              "\n",
              "  <div id=\"df-d917fc37-3635-4fa8-90ec-ad4d1da46d8b\">\n",
              "    <div class=\"colab-df-container\">\n",
              "      <div>\n",
              "<style scoped>\n",
              "    .dataframe tbody tr th:only-of-type {\n",
              "        vertical-align: middle;\n",
              "    }\n",
              "\n",
              "    .dataframe tbody tr th {\n",
              "        vertical-align: top;\n",
              "    }\n",
              "\n",
              "    .dataframe thead th {\n",
              "        text-align: right;\n",
              "    }\n",
              "</style>\n",
              "<table border=\"1\" class=\"dataframe\">\n",
              "  <thead>\n",
              "    <tr style=\"text-align: right;\">\n",
              "      <th></th>\n",
              "      <th>InVehicle_Longitudinal_Speed</th>\n",
              "      <th>GPS_Speed</th>\n",
              "      <th>InVehicle_Longitudinal_Accel</th>\n",
              "    </tr>\n",
              "  </thead>\n",
              "  <tbody>\n",
              "    <tr>\n",
              "      <th>0</th>\n",
              "      <td>11.375000</td>\n",
              "      <td>11.307097</td>\n",
              "      <td>-0.103000</td>\n",
              "    </tr>\n",
              "    <tr>\n",
              "      <th>1</th>\n",
              "      <td>11.366708</td>\n",
              "      <td>11.255964</td>\n",
              "      <td>-0.353946</td>\n",
              "    </tr>\n",
              "    <tr>\n",
              "      <th>2</th>\n",
              "      <td>11.362331</td>\n",
              "      <td>11.249115</td>\n",
              "      <td>-0.090962</td>\n",
              "    </tr>\n",
              "    <tr>\n",
              "      <th>3</th>\n",
              "      <td>11.358665</td>\n",
              "      <td>11.263280</td>\n",
              "      <td>-0.043470</td>\n",
              "    </tr>\n",
              "    <tr>\n",
              "      <th>4</th>\n",
              "      <td>11.356745</td>\n",
              "      <td>11.270361</td>\n",
              "      <td>-0.037579</td>\n",
              "    </tr>\n",
              "  </tbody>\n",
              "</table>\n",
              "</div>\n",
              "      <button class=\"colab-df-convert\" onclick=\"convertToInteractive('df-d917fc37-3635-4fa8-90ec-ad4d1da46d8b')\"\n",
              "              title=\"Convert this dataframe to an interactive table.\"\n",
              "              style=\"display:none;\">\n",
              "        \n",
              "  <svg xmlns=\"http://www.w3.org/2000/svg\" height=\"24px\"viewBox=\"0 0 24 24\"\n",
              "       width=\"24px\">\n",
              "    <path d=\"M0 0h24v24H0V0z\" fill=\"none\"/>\n",
              "    <path d=\"M18.56 5.44l.94 2.06.94-2.06 2.06-.94-2.06-.94-.94-2.06-.94 2.06-2.06.94zm-11 1L8.5 8.5l.94-2.06 2.06-.94-2.06-.94L8.5 2.5l-.94 2.06-2.06.94zm10 10l.94 2.06.94-2.06 2.06-.94-2.06-.94-.94-2.06-.94 2.06-2.06.94z\"/><path d=\"M17.41 7.96l-1.37-1.37c-.4-.4-.92-.59-1.43-.59-.52 0-1.04.2-1.43.59L10.3 9.45l-7.72 7.72c-.78.78-.78 2.05 0 2.83L4 21.41c.39.39.9.59 1.41.59.51 0 1.02-.2 1.41-.59l7.78-7.78 2.81-2.81c.8-.78.8-2.07 0-2.86zM5.41 20L4 18.59l7.72-7.72 1.47 1.35L5.41 20z\"/>\n",
              "  </svg>\n",
              "      </button>\n",
              "      \n",
              "  <style>\n",
              "    .colab-df-container {\n",
              "      display:flex;\n",
              "      flex-wrap:wrap;\n",
              "      gap: 12px;\n",
              "    }\n",
              "\n",
              "    .colab-df-convert {\n",
              "      background-color: #E8F0FE;\n",
              "      border: none;\n",
              "      border-radius: 50%;\n",
              "      cursor: pointer;\n",
              "      display: none;\n",
              "      fill: #1967D2;\n",
              "      height: 32px;\n",
              "      padding: 0 0 0 0;\n",
              "      width: 32px;\n",
              "    }\n",
              "\n",
              "    .colab-df-convert:hover {\n",
              "      background-color: #E2EBFA;\n",
              "      box-shadow: 0px 1px 2px rgba(60, 64, 67, 0.3), 0px 1px 3px 1px rgba(60, 64, 67, 0.15);\n",
              "      fill: #174EA6;\n",
              "    }\n",
              "\n",
              "    [theme=dark] .colab-df-convert {\n",
              "      background-color: #3B4455;\n",
              "      fill: #D2E3FC;\n",
              "    }\n",
              "\n",
              "    [theme=dark] .colab-df-convert:hover {\n",
              "      background-color: #434B5C;\n",
              "      box-shadow: 0px 1px 3px 1px rgba(0, 0, 0, 0.15);\n",
              "      filter: drop-shadow(0px 1px 2px rgba(0, 0, 0, 0.3));\n",
              "      fill: #FFFFFF;\n",
              "    }\n",
              "  </style>\n",
              "\n",
              "      <script>\n",
              "        const buttonEl =\n",
              "          document.querySelector('#df-d917fc37-3635-4fa8-90ec-ad4d1da46d8b button.colab-df-convert');\n",
              "        buttonEl.style.display =\n",
              "          google.colab.kernel.accessAllowed ? 'block' : 'none';\n",
              "\n",
              "        async function convertToInteractive(key) {\n",
              "          const element = document.querySelector('#df-d917fc37-3635-4fa8-90ec-ad4d1da46d8b');\n",
              "          const dataTable =\n",
              "            await google.colab.kernel.invokeFunction('convertToInteractive',\n",
              "                                                     [key], {});\n",
              "          if (!dataTable) return;\n",
              "\n",
              "          const docLinkHtml = 'Like what you see? Visit the ' +\n",
              "            '<a target=\"_blank\" href=https://colab.research.google.com/notebooks/data_table.ipynb>data table notebook</a>'\n",
              "            + ' to learn more about interactive tables.';\n",
              "          element.innerHTML = '';\n",
              "          dataTable['output_type'] = 'display_data';\n",
              "          await google.colab.output.renderOutput(dataTable, element);\n",
              "          const docLink = document.createElement('div');\n",
              "          docLink.innerHTML = docLinkHtml;\n",
              "          element.appendChild(docLink);\n",
              "        }\n",
              "      </script>\n",
              "    </div>\n",
              "  </div>\n",
              "  "
            ]
          },
          "metadata": {},
          "execution_count": 9
        }
      ]
    },
    {
      "cell_type": "code",
      "metadata": {
        "colab": {
          "base_uri": "https://localhost:8080/"
        },
        "id": "NkKyrb2sQCni",
        "outputId": "c89661be-d41d-4604-9768-f4a8360a7045"
      },
      "source": [
        "len(sensor1_data)"
      ],
      "execution_count": null,
      "outputs": [
        {
          "output_type": "execute_result",
          "data": {
            "text/plain": [
              "29800"
            ]
          },
          "metadata": {},
          "execution_count": 10
        }
      ]
    },
    {
      "cell_type": "code",
      "metadata": {
        "colab": {
          "base_uri": "https://localhost:8080/",
          "height": 206
        },
        "id": "OYhwlWY8z4N6",
        "outputId": "c02b7f4d-d804-46fd-fc79-2ed0d82d503e"
      },
      "source": [
        "sensor1_label = pd.read_csv(data_path + \"Ground_truth_bias_0_1_dur_10_sensor1_dep.csv\", names=['Class'])\n",
        "sensor1_label.head()"
      ],
      "execution_count": null,
      "outputs": [
        {
          "output_type": "execute_result",
          "data": {
            "text/plain": [
              "   Class\n",
              "0    0.0\n",
              "1    0.0\n",
              "2    0.0\n",
              "3    0.0\n",
              "4    0.0"
            ],
            "text/html": [
              "\n",
              "  <div id=\"df-deaded9f-ccd1-4b61-ab2e-9d789fa0074b\">\n",
              "    <div class=\"colab-df-container\">\n",
              "      <div>\n",
              "<style scoped>\n",
              "    .dataframe tbody tr th:only-of-type {\n",
              "        vertical-align: middle;\n",
              "    }\n",
              "\n",
              "    .dataframe tbody tr th {\n",
              "        vertical-align: top;\n",
              "    }\n",
              "\n",
              "    .dataframe thead th {\n",
              "        text-align: right;\n",
              "    }\n",
              "</style>\n",
              "<table border=\"1\" class=\"dataframe\">\n",
              "  <thead>\n",
              "    <tr style=\"text-align: right;\">\n",
              "      <th></th>\n",
              "      <th>Class</th>\n",
              "    </tr>\n",
              "  </thead>\n",
              "  <tbody>\n",
              "    <tr>\n",
              "      <th>0</th>\n",
              "      <td>0.0</td>\n",
              "    </tr>\n",
              "    <tr>\n",
              "      <th>1</th>\n",
              "      <td>0.0</td>\n",
              "    </tr>\n",
              "    <tr>\n",
              "      <th>2</th>\n",
              "      <td>0.0</td>\n",
              "    </tr>\n",
              "    <tr>\n",
              "      <th>3</th>\n",
              "      <td>0.0</td>\n",
              "    </tr>\n",
              "    <tr>\n",
              "      <th>4</th>\n",
              "      <td>0.0</td>\n",
              "    </tr>\n",
              "  </tbody>\n",
              "</table>\n",
              "</div>\n",
              "      <button class=\"colab-df-convert\" onclick=\"convertToInteractive('df-deaded9f-ccd1-4b61-ab2e-9d789fa0074b')\"\n",
              "              title=\"Convert this dataframe to an interactive table.\"\n",
              "              style=\"display:none;\">\n",
              "        \n",
              "  <svg xmlns=\"http://www.w3.org/2000/svg\" height=\"24px\"viewBox=\"0 0 24 24\"\n",
              "       width=\"24px\">\n",
              "    <path d=\"M0 0h24v24H0V0z\" fill=\"none\"/>\n",
              "    <path d=\"M18.56 5.44l.94 2.06.94-2.06 2.06-.94-2.06-.94-.94-2.06-.94 2.06-2.06.94zm-11 1L8.5 8.5l.94-2.06 2.06-.94-2.06-.94L8.5 2.5l-.94 2.06-2.06.94zm10 10l.94 2.06.94-2.06 2.06-.94-2.06-.94-.94-2.06-.94 2.06-2.06.94z\"/><path d=\"M17.41 7.96l-1.37-1.37c-.4-.4-.92-.59-1.43-.59-.52 0-1.04.2-1.43.59L10.3 9.45l-7.72 7.72c-.78.78-.78 2.05 0 2.83L4 21.41c.39.39.9.59 1.41.59.51 0 1.02-.2 1.41-.59l7.78-7.78 2.81-2.81c.8-.78.8-2.07 0-2.86zM5.41 20L4 18.59l7.72-7.72 1.47 1.35L5.41 20z\"/>\n",
              "  </svg>\n",
              "      </button>\n",
              "      \n",
              "  <style>\n",
              "    .colab-df-container {\n",
              "      display:flex;\n",
              "      flex-wrap:wrap;\n",
              "      gap: 12px;\n",
              "    }\n",
              "\n",
              "    .colab-df-convert {\n",
              "      background-color: #E8F0FE;\n",
              "      border: none;\n",
              "      border-radius: 50%;\n",
              "      cursor: pointer;\n",
              "      display: none;\n",
              "      fill: #1967D2;\n",
              "      height: 32px;\n",
              "      padding: 0 0 0 0;\n",
              "      width: 32px;\n",
              "    }\n",
              "\n",
              "    .colab-df-convert:hover {\n",
              "      background-color: #E2EBFA;\n",
              "      box-shadow: 0px 1px 2px rgba(60, 64, 67, 0.3), 0px 1px 3px 1px rgba(60, 64, 67, 0.15);\n",
              "      fill: #174EA6;\n",
              "    }\n",
              "\n",
              "    [theme=dark] .colab-df-convert {\n",
              "      background-color: #3B4455;\n",
              "      fill: #D2E3FC;\n",
              "    }\n",
              "\n",
              "    [theme=dark] .colab-df-convert:hover {\n",
              "      background-color: #434B5C;\n",
              "      box-shadow: 0px 1px 3px 1px rgba(0, 0, 0, 0.15);\n",
              "      filter: drop-shadow(0px 1px 2px rgba(0, 0, 0, 0.3));\n",
              "      fill: #FFFFFF;\n",
              "    }\n",
              "  </style>\n",
              "\n",
              "      <script>\n",
              "        const buttonEl =\n",
              "          document.querySelector('#df-deaded9f-ccd1-4b61-ab2e-9d789fa0074b button.colab-df-convert');\n",
              "        buttonEl.style.display =\n",
              "          google.colab.kernel.accessAllowed ? 'block' : 'none';\n",
              "\n",
              "        async function convertToInteractive(key) {\n",
              "          const element = document.querySelector('#df-deaded9f-ccd1-4b61-ab2e-9d789fa0074b');\n",
              "          const dataTable =\n",
              "            await google.colab.kernel.invokeFunction('convertToInteractive',\n",
              "                                                     [key], {});\n",
              "          if (!dataTable) return;\n",
              "\n",
              "          const docLinkHtml = 'Like what you see? Visit the ' +\n",
              "            '<a target=\"_blank\" href=https://colab.research.google.com/notebooks/data_table.ipynb>data table notebook</a>'\n",
              "            + ' to learn more about interactive tables.';\n",
              "          element.innerHTML = '';\n",
              "          dataTable['output_type'] = 'display_data';\n",
              "          await google.colab.output.renderOutput(dataTable, element);\n",
              "          const docLink = document.createElement('div');\n",
              "          docLink.innerHTML = docLinkHtml;\n",
              "          element.appendChild(docLink);\n",
              "        }\n",
              "      </script>\n",
              "    </div>\n",
              "  </div>\n",
              "  "
            ]
          },
          "metadata": {},
          "execution_count": 11
        }
      ]
    },
    {
      "cell_type": "code",
      "metadata": {
        "colab": {
          "base_uri": "https://localhost:8080/"
        },
        "id": "2mxdhpBpQMjZ",
        "outputId": "e1f2ad99-caa4-42d9-993e-7e0225e707e8"
      },
      "source": [
        "len(sensor1_label)"
      ],
      "execution_count": null,
      "outputs": [
        {
          "output_type": "execute_result",
          "data": {
            "text/plain": [
              "29800"
            ]
          },
          "metadata": {},
          "execution_count": 12
        }
      ]
    },
    {
      "cell_type": "code",
      "metadata": {
        "id": "hV_gOXr70BKL",
        "colab": {
          "base_uri": "https://localhost:8080/",
          "height": 206
        },
        "outputId": "c41ac284-cb5a-4f7b-e76d-49c9ad4eaa99"
      },
      "source": [
        "sensor2_data = pd.read_csv(data_path + \"Sensor2_values_bias_0_1_dur_10_dep.csv\", index_col = \"Unnamed: 0\")\n",
        "sensor2_data.head()"
      ],
      "execution_count": null,
      "outputs": [
        {
          "output_type": "execute_result",
          "data": {
            "text/plain": [
              "   InVehicle_Longitudinal_Speed  GPS_Speed  InVehicle_Longitudinal_Accel\n",
              "0                     11.375000  11.307097                     -0.103000\n",
              "1                     11.366708  11.255964                     -0.353946\n",
              "2                     11.362331  11.249115                     -0.090962\n",
              "3                     11.358665  11.263280                     -0.043470\n",
              "4                     11.356745  11.270361                     -0.037579"
            ],
            "text/html": [
              "\n",
              "  <div id=\"df-292e90cc-ef85-4963-8456-2cedfc6e0b8f\">\n",
              "    <div class=\"colab-df-container\">\n",
              "      <div>\n",
              "<style scoped>\n",
              "    .dataframe tbody tr th:only-of-type {\n",
              "        vertical-align: middle;\n",
              "    }\n",
              "\n",
              "    .dataframe tbody tr th {\n",
              "        vertical-align: top;\n",
              "    }\n",
              "\n",
              "    .dataframe thead th {\n",
              "        text-align: right;\n",
              "    }\n",
              "</style>\n",
              "<table border=\"1\" class=\"dataframe\">\n",
              "  <thead>\n",
              "    <tr style=\"text-align: right;\">\n",
              "      <th></th>\n",
              "      <th>InVehicle_Longitudinal_Speed</th>\n",
              "      <th>GPS_Speed</th>\n",
              "      <th>InVehicle_Longitudinal_Accel</th>\n",
              "    </tr>\n",
              "  </thead>\n",
              "  <tbody>\n",
              "    <tr>\n",
              "      <th>0</th>\n",
              "      <td>11.375000</td>\n",
              "      <td>11.307097</td>\n",
              "      <td>-0.103000</td>\n",
              "    </tr>\n",
              "    <tr>\n",
              "      <th>1</th>\n",
              "      <td>11.366708</td>\n",
              "      <td>11.255964</td>\n",
              "      <td>-0.353946</td>\n",
              "    </tr>\n",
              "    <tr>\n",
              "      <th>2</th>\n",
              "      <td>11.362331</td>\n",
              "      <td>11.249115</td>\n",
              "      <td>-0.090962</td>\n",
              "    </tr>\n",
              "    <tr>\n",
              "      <th>3</th>\n",
              "      <td>11.358665</td>\n",
              "      <td>11.263280</td>\n",
              "      <td>-0.043470</td>\n",
              "    </tr>\n",
              "    <tr>\n",
              "      <th>4</th>\n",
              "      <td>11.356745</td>\n",
              "      <td>11.270361</td>\n",
              "      <td>-0.037579</td>\n",
              "    </tr>\n",
              "  </tbody>\n",
              "</table>\n",
              "</div>\n",
              "      <button class=\"colab-df-convert\" onclick=\"convertToInteractive('df-292e90cc-ef85-4963-8456-2cedfc6e0b8f')\"\n",
              "              title=\"Convert this dataframe to an interactive table.\"\n",
              "              style=\"display:none;\">\n",
              "        \n",
              "  <svg xmlns=\"http://www.w3.org/2000/svg\" height=\"24px\"viewBox=\"0 0 24 24\"\n",
              "       width=\"24px\">\n",
              "    <path d=\"M0 0h24v24H0V0z\" fill=\"none\"/>\n",
              "    <path d=\"M18.56 5.44l.94 2.06.94-2.06 2.06-.94-2.06-.94-.94-2.06-.94 2.06-2.06.94zm-11 1L8.5 8.5l.94-2.06 2.06-.94-2.06-.94L8.5 2.5l-.94 2.06-2.06.94zm10 10l.94 2.06.94-2.06 2.06-.94-2.06-.94-.94-2.06-.94 2.06-2.06.94z\"/><path d=\"M17.41 7.96l-1.37-1.37c-.4-.4-.92-.59-1.43-.59-.52 0-1.04.2-1.43.59L10.3 9.45l-7.72 7.72c-.78.78-.78 2.05 0 2.83L4 21.41c.39.39.9.59 1.41.59.51 0 1.02-.2 1.41-.59l7.78-7.78 2.81-2.81c.8-.78.8-2.07 0-2.86zM5.41 20L4 18.59l7.72-7.72 1.47 1.35L5.41 20z\"/>\n",
              "  </svg>\n",
              "      </button>\n",
              "      \n",
              "  <style>\n",
              "    .colab-df-container {\n",
              "      display:flex;\n",
              "      flex-wrap:wrap;\n",
              "      gap: 12px;\n",
              "    }\n",
              "\n",
              "    .colab-df-convert {\n",
              "      background-color: #E8F0FE;\n",
              "      border: none;\n",
              "      border-radius: 50%;\n",
              "      cursor: pointer;\n",
              "      display: none;\n",
              "      fill: #1967D2;\n",
              "      height: 32px;\n",
              "      padding: 0 0 0 0;\n",
              "      width: 32px;\n",
              "    }\n",
              "\n",
              "    .colab-df-convert:hover {\n",
              "      background-color: #E2EBFA;\n",
              "      box-shadow: 0px 1px 2px rgba(60, 64, 67, 0.3), 0px 1px 3px 1px rgba(60, 64, 67, 0.15);\n",
              "      fill: #174EA6;\n",
              "    }\n",
              "\n",
              "    [theme=dark] .colab-df-convert {\n",
              "      background-color: #3B4455;\n",
              "      fill: #D2E3FC;\n",
              "    }\n",
              "\n",
              "    [theme=dark] .colab-df-convert:hover {\n",
              "      background-color: #434B5C;\n",
              "      box-shadow: 0px 1px 3px 1px rgba(0, 0, 0, 0.15);\n",
              "      filter: drop-shadow(0px 1px 2px rgba(0, 0, 0, 0.3));\n",
              "      fill: #FFFFFF;\n",
              "    }\n",
              "  </style>\n",
              "\n",
              "      <script>\n",
              "        const buttonEl =\n",
              "          document.querySelector('#df-292e90cc-ef85-4963-8456-2cedfc6e0b8f button.colab-df-convert');\n",
              "        buttonEl.style.display =\n",
              "          google.colab.kernel.accessAllowed ? 'block' : 'none';\n",
              "\n",
              "        async function convertToInteractive(key) {\n",
              "          const element = document.querySelector('#df-292e90cc-ef85-4963-8456-2cedfc6e0b8f');\n",
              "          const dataTable =\n",
              "            await google.colab.kernel.invokeFunction('convertToInteractive',\n",
              "                                                     [key], {});\n",
              "          if (!dataTable) return;\n",
              "\n",
              "          const docLinkHtml = 'Like what you see? Visit the ' +\n",
              "            '<a target=\"_blank\" href=https://colab.research.google.com/notebooks/data_table.ipynb>data table notebook</a>'\n",
              "            + ' to learn more about interactive tables.';\n",
              "          element.innerHTML = '';\n",
              "          dataTable['output_type'] = 'display_data';\n",
              "          await google.colab.output.renderOutput(dataTable, element);\n",
              "          const docLink = document.createElement('div');\n",
              "          docLink.innerHTML = docLinkHtml;\n",
              "          element.appendChild(docLink);\n",
              "        }\n",
              "      </script>\n",
              "    </div>\n",
              "  </div>\n",
              "  "
            ]
          },
          "metadata": {},
          "execution_count": 13
        }
      ]
    },
    {
      "cell_type": "code",
      "metadata": {
        "id": "8PtBb1m00oRX",
        "colab": {
          "base_uri": "https://localhost:8080/",
          "height": 206
        },
        "outputId": "c04043a8-8696-4159-ab80-bec8bf4d2dc6"
      },
      "source": [
        "sensor2_label = pd.read_csv(data_path + \"Ground_truth_bias_0_1_dur_10_sensor2_dep.csv\",names=['Class'])\n",
        "sensor2_label.head()"
      ],
      "execution_count": null,
      "outputs": [
        {
          "output_type": "execute_result",
          "data": {
            "text/plain": [
              "   Class\n",
              "0    0.0\n",
              "1    0.0\n",
              "2    0.0\n",
              "3    0.0\n",
              "4    0.0"
            ],
            "text/html": [
              "\n",
              "  <div id=\"df-0e0bac25-e0aa-4361-8282-80c1313e0c13\">\n",
              "    <div class=\"colab-df-container\">\n",
              "      <div>\n",
              "<style scoped>\n",
              "    .dataframe tbody tr th:only-of-type {\n",
              "        vertical-align: middle;\n",
              "    }\n",
              "\n",
              "    .dataframe tbody tr th {\n",
              "        vertical-align: top;\n",
              "    }\n",
              "\n",
              "    .dataframe thead th {\n",
              "        text-align: right;\n",
              "    }\n",
              "</style>\n",
              "<table border=\"1\" class=\"dataframe\">\n",
              "  <thead>\n",
              "    <tr style=\"text-align: right;\">\n",
              "      <th></th>\n",
              "      <th>Class</th>\n",
              "    </tr>\n",
              "  </thead>\n",
              "  <tbody>\n",
              "    <tr>\n",
              "      <th>0</th>\n",
              "      <td>0.0</td>\n",
              "    </tr>\n",
              "    <tr>\n",
              "      <th>1</th>\n",
              "      <td>0.0</td>\n",
              "    </tr>\n",
              "    <tr>\n",
              "      <th>2</th>\n",
              "      <td>0.0</td>\n",
              "    </tr>\n",
              "    <tr>\n",
              "      <th>3</th>\n",
              "      <td>0.0</td>\n",
              "    </tr>\n",
              "    <tr>\n",
              "      <th>4</th>\n",
              "      <td>0.0</td>\n",
              "    </tr>\n",
              "  </tbody>\n",
              "</table>\n",
              "</div>\n",
              "      <button class=\"colab-df-convert\" onclick=\"convertToInteractive('df-0e0bac25-e0aa-4361-8282-80c1313e0c13')\"\n",
              "              title=\"Convert this dataframe to an interactive table.\"\n",
              "              style=\"display:none;\">\n",
              "        \n",
              "  <svg xmlns=\"http://www.w3.org/2000/svg\" height=\"24px\"viewBox=\"0 0 24 24\"\n",
              "       width=\"24px\">\n",
              "    <path d=\"M0 0h24v24H0V0z\" fill=\"none\"/>\n",
              "    <path d=\"M18.56 5.44l.94 2.06.94-2.06 2.06-.94-2.06-.94-.94-2.06-.94 2.06-2.06.94zm-11 1L8.5 8.5l.94-2.06 2.06-.94-2.06-.94L8.5 2.5l-.94 2.06-2.06.94zm10 10l.94 2.06.94-2.06 2.06-.94-2.06-.94-.94-2.06-.94 2.06-2.06.94z\"/><path d=\"M17.41 7.96l-1.37-1.37c-.4-.4-.92-.59-1.43-.59-.52 0-1.04.2-1.43.59L10.3 9.45l-7.72 7.72c-.78.78-.78 2.05 0 2.83L4 21.41c.39.39.9.59 1.41.59.51 0 1.02-.2 1.41-.59l7.78-7.78 2.81-2.81c.8-.78.8-2.07 0-2.86zM5.41 20L4 18.59l7.72-7.72 1.47 1.35L5.41 20z\"/>\n",
              "  </svg>\n",
              "      </button>\n",
              "      \n",
              "  <style>\n",
              "    .colab-df-container {\n",
              "      display:flex;\n",
              "      flex-wrap:wrap;\n",
              "      gap: 12px;\n",
              "    }\n",
              "\n",
              "    .colab-df-convert {\n",
              "      background-color: #E8F0FE;\n",
              "      border: none;\n",
              "      border-radius: 50%;\n",
              "      cursor: pointer;\n",
              "      display: none;\n",
              "      fill: #1967D2;\n",
              "      height: 32px;\n",
              "      padding: 0 0 0 0;\n",
              "      width: 32px;\n",
              "    }\n",
              "\n",
              "    .colab-df-convert:hover {\n",
              "      background-color: #E2EBFA;\n",
              "      box-shadow: 0px 1px 2px rgba(60, 64, 67, 0.3), 0px 1px 3px 1px rgba(60, 64, 67, 0.15);\n",
              "      fill: #174EA6;\n",
              "    }\n",
              "\n",
              "    [theme=dark] .colab-df-convert {\n",
              "      background-color: #3B4455;\n",
              "      fill: #D2E3FC;\n",
              "    }\n",
              "\n",
              "    [theme=dark] .colab-df-convert:hover {\n",
              "      background-color: #434B5C;\n",
              "      box-shadow: 0px 1px 3px 1px rgba(0, 0, 0, 0.15);\n",
              "      filter: drop-shadow(0px 1px 2px rgba(0, 0, 0, 0.3));\n",
              "      fill: #FFFFFF;\n",
              "    }\n",
              "  </style>\n",
              "\n",
              "      <script>\n",
              "        const buttonEl =\n",
              "          document.querySelector('#df-0e0bac25-e0aa-4361-8282-80c1313e0c13 button.colab-df-convert');\n",
              "        buttonEl.style.display =\n",
              "          google.colab.kernel.accessAllowed ? 'block' : 'none';\n",
              "\n",
              "        async function convertToInteractive(key) {\n",
              "          const element = document.querySelector('#df-0e0bac25-e0aa-4361-8282-80c1313e0c13');\n",
              "          const dataTable =\n",
              "            await google.colab.kernel.invokeFunction('convertToInteractive',\n",
              "                                                     [key], {});\n",
              "          if (!dataTable) return;\n",
              "\n",
              "          const docLinkHtml = 'Like what you see? Visit the ' +\n",
              "            '<a target=\"_blank\" href=https://colab.research.google.com/notebooks/data_table.ipynb>data table notebook</a>'\n",
              "            + ' to learn more about interactive tables.';\n",
              "          element.innerHTML = '';\n",
              "          dataTable['output_type'] = 'display_data';\n",
              "          await google.colab.output.renderOutput(dataTable, element);\n",
              "          const docLink = document.createElement('div');\n",
              "          docLink.innerHTML = docLinkHtml;\n",
              "          element.appendChild(docLink);\n",
              "        }\n",
              "      </script>\n",
              "    </div>\n",
              "  </div>\n",
              "  "
            ]
          },
          "metadata": {},
          "execution_count": 14
        }
      ]
    },
    {
      "cell_type": "code",
      "metadata": {
        "id": "mCLgKYTJ0f7t",
        "colab": {
          "base_uri": "https://localhost:8080/",
          "height": 206
        },
        "outputId": "44ccde35-11ad-4d94-a8e2-797b26bf572d"
      },
      "source": [
        "sensor3_data = pd.read_csv(data_path + \"Sensor3_values_bias_0_1_dur_10_dep.csv\", index_col = \"Unnamed: 0\")\n",
        "sensor3_data.head()"
      ],
      "execution_count": null,
      "outputs": [
        {
          "output_type": "execute_result",
          "data": {
            "text/plain": [
              "   InVehicle_Longitudinal_Speed  GPS_Speed  InVehicle_Longitudinal_Accel\n",
              "0                     11.375000  11.307097                     -0.103000\n",
              "1                     11.366708  11.255964                     -0.353946\n",
              "2                     11.362331  11.249115                     -0.090962\n",
              "3                     11.358665  11.263280                     -0.043470\n",
              "4                     11.356745  11.270361                     -0.037579"
            ],
            "text/html": [
              "\n",
              "  <div id=\"df-8f7f2e3d-f008-4124-879d-f15828bf6d20\">\n",
              "    <div class=\"colab-df-container\">\n",
              "      <div>\n",
              "<style scoped>\n",
              "    .dataframe tbody tr th:only-of-type {\n",
              "        vertical-align: middle;\n",
              "    }\n",
              "\n",
              "    .dataframe tbody tr th {\n",
              "        vertical-align: top;\n",
              "    }\n",
              "\n",
              "    .dataframe thead th {\n",
              "        text-align: right;\n",
              "    }\n",
              "</style>\n",
              "<table border=\"1\" class=\"dataframe\">\n",
              "  <thead>\n",
              "    <tr style=\"text-align: right;\">\n",
              "      <th></th>\n",
              "      <th>InVehicle_Longitudinal_Speed</th>\n",
              "      <th>GPS_Speed</th>\n",
              "      <th>InVehicle_Longitudinal_Accel</th>\n",
              "    </tr>\n",
              "  </thead>\n",
              "  <tbody>\n",
              "    <tr>\n",
              "      <th>0</th>\n",
              "      <td>11.375000</td>\n",
              "      <td>11.307097</td>\n",
              "      <td>-0.103000</td>\n",
              "    </tr>\n",
              "    <tr>\n",
              "      <th>1</th>\n",
              "      <td>11.366708</td>\n",
              "      <td>11.255964</td>\n",
              "      <td>-0.353946</td>\n",
              "    </tr>\n",
              "    <tr>\n",
              "      <th>2</th>\n",
              "      <td>11.362331</td>\n",
              "      <td>11.249115</td>\n",
              "      <td>-0.090962</td>\n",
              "    </tr>\n",
              "    <tr>\n",
              "      <th>3</th>\n",
              "      <td>11.358665</td>\n",
              "      <td>11.263280</td>\n",
              "      <td>-0.043470</td>\n",
              "    </tr>\n",
              "    <tr>\n",
              "      <th>4</th>\n",
              "      <td>11.356745</td>\n",
              "      <td>11.270361</td>\n",
              "      <td>-0.037579</td>\n",
              "    </tr>\n",
              "  </tbody>\n",
              "</table>\n",
              "</div>\n",
              "      <button class=\"colab-df-convert\" onclick=\"convertToInteractive('df-8f7f2e3d-f008-4124-879d-f15828bf6d20')\"\n",
              "              title=\"Convert this dataframe to an interactive table.\"\n",
              "              style=\"display:none;\">\n",
              "        \n",
              "  <svg xmlns=\"http://www.w3.org/2000/svg\" height=\"24px\"viewBox=\"0 0 24 24\"\n",
              "       width=\"24px\">\n",
              "    <path d=\"M0 0h24v24H0V0z\" fill=\"none\"/>\n",
              "    <path d=\"M18.56 5.44l.94 2.06.94-2.06 2.06-.94-2.06-.94-.94-2.06-.94 2.06-2.06.94zm-11 1L8.5 8.5l.94-2.06 2.06-.94-2.06-.94L8.5 2.5l-.94 2.06-2.06.94zm10 10l.94 2.06.94-2.06 2.06-.94-2.06-.94-.94-2.06-.94 2.06-2.06.94z\"/><path d=\"M17.41 7.96l-1.37-1.37c-.4-.4-.92-.59-1.43-.59-.52 0-1.04.2-1.43.59L10.3 9.45l-7.72 7.72c-.78.78-.78 2.05 0 2.83L4 21.41c.39.39.9.59 1.41.59.51 0 1.02-.2 1.41-.59l7.78-7.78 2.81-2.81c.8-.78.8-2.07 0-2.86zM5.41 20L4 18.59l7.72-7.72 1.47 1.35L5.41 20z\"/>\n",
              "  </svg>\n",
              "      </button>\n",
              "      \n",
              "  <style>\n",
              "    .colab-df-container {\n",
              "      display:flex;\n",
              "      flex-wrap:wrap;\n",
              "      gap: 12px;\n",
              "    }\n",
              "\n",
              "    .colab-df-convert {\n",
              "      background-color: #E8F0FE;\n",
              "      border: none;\n",
              "      border-radius: 50%;\n",
              "      cursor: pointer;\n",
              "      display: none;\n",
              "      fill: #1967D2;\n",
              "      height: 32px;\n",
              "      padding: 0 0 0 0;\n",
              "      width: 32px;\n",
              "    }\n",
              "\n",
              "    .colab-df-convert:hover {\n",
              "      background-color: #E2EBFA;\n",
              "      box-shadow: 0px 1px 2px rgba(60, 64, 67, 0.3), 0px 1px 3px 1px rgba(60, 64, 67, 0.15);\n",
              "      fill: #174EA6;\n",
              "    }\n",
              "\n",
              "    [theme=dark] .colab-df-convert {\n",
              "      background-color: #3B4455;\n",
              "      fill: #D2E3FC;\n",
              "    }\n",
              "\n",
              "    [theme=dark] .colab-df-convert:hover {\n",
              "      background-color: #434B5C;\n",
              "      box-shadow: 0px 1px 3px 1px rgba(0, 0, 0, 0.15);\n",
              "      filter: drop-shadow(0px 1px 2px rgba(0, 0, 0, 0.3));\n",
              "      fill: #FFFFFF;\n",
              "    }\n",
              "  </style>\n",
              "\n",
              "      <script>\n",
              "        const buttonEl =\n",
              "          document.querySelector('#df-8f7f2e3d-f008-4124-879d-f15828bf6d20 button.colab-df-convert');\n",
              "        buttonEl.style.display =\n",
              "          google.colab.kernel.accessAllowed ? 'block' : 'none';\n",
              "\n",
              "        async function convertToInteractive(key) {\n",
              "          const element = document.querySelector('#df-8f7f2e3d-f008-4124-879d-f15828bf6d20');\n",
              "          const dataTable =\n",
              "            await google.colab.kernel.invokeFunction('convertToInteractive',\n",
              "                                                     [key], {});\n",
              "          if (!dataTable) return;\n",
              "\n",
              "          const docLinkHtml = 'Like what you see? Visit the ' +\n",
              "            '<a target=\"_blank\" href=https://colab.research.google.com/notebooks/data_table.ipynb>data table notebook</a>'\n",
              "            + ' to learn more about interactive tables.';\n",
              "          element.innerHTML = '';\n",
              "          dataTable['output_type'] = 'display_data';\n",
              "          await google.colab.output.renderOutput(dataTable, element);\n",
              "          const docLink = document.createElement('div');\n",
              "          docLink.innerHTML = docLinkHtml;\n",
              "          element.appendChild(docLink);\n",
              "        }\n",
              "      </script>\n",
              "    </div>\n",
              "  </div>\n",
              "  "
            ]
          },
          "metadata": {},
          "execution_count": 15
        }
      ]
    },
    {
      "cell_type": "code",
      "metadata": {
        "id": "7bkpmS8x0lfa",
        "colab": {
          "base_uri": "https://localhost:8080/",
          "height": 206
        },
        "outputId": "5068c429-c6c8-40be-a3bb-08868754a9c5"
      },
      "source": [
        "sensor3_label = pd.read_csv(data_path + \"Ground_truth_bias_0_1_dur_10_sensor3_dep.csv\", names=['Class'])\n",
        "sensor3_label.head()"
      ],
      "execution_count": null,
      "outputs": [
        {
          "output_type": "execute_result",
          "data": {
            "text/plain": [
              "   Class\n",
              "0    0.0\n",
              "1    0.0\n",
              "2    0.0\n",
              "3    0.0\n",
              "4    0.0"
            ],
            "text/html": [
              "\n",
              "  <div id=\"df-25e7819b-8681-44c8-a241-c6e483b1ec79\">\n",
              "    <div class=\"colab-df-container\">\n",
              "      <div>\n",
              "<style scoped>\n",
              "    .dataframe tbody tr th:only-of-type {\n",
              "        vertical-align: middle;\n",
              "    }\n",
              "\n",
              "    .dataframe tbody tr th {\n",
              "        vertical-align: top;\n",
              "    }\n",
              "\n",
              "    .dataframe thead th {\n",
              "        text-align: right;\n",
              "    }\n",
              "</style>\n",
              "<table border=\"1\" class=\"dataframe\">\n",
              "  <thead>\n",
              "    <tr style=\"text-align: right;\">\n",
              "      <th></th>\n",
              "      <th>Class</th>\n",
              "    </tr>\n",
              "  </thead>\n",
              "  <tbody>\n",
              "    <tr>\n",
              "      <th>0</th>\n",
              "      <td>0.0</td>\n",
              "    </tr>\n",
              "    <tr>\n",
              "      <th>1</th>\n",
              "      <td>0.0</td>\n",
              "    </tr>\n",
              "    <tr>\n",
              "      <th>2</th>\n",
              "      <td>0.0</td>\n",
              "    </tr>\n",
              "    <tr>\n",
              "      <th>3</th>\n",
              "      <td>0.0</td>\n",
              "    </tr>\n",
              "    <tr>\n",
              "      <th>4</th>\n",
              "      <td>0.0</td>\n",
              "    </tr>\n",
              "  </tbody>\n",
              "</table>\n",
              "</div>\n",
              "      <button class=\"colab-df-convert\" onclick=\"convertToInteractive('df-25e7819b-8681-44c8-a241-c6e483b1ec79')\"\n",
              "              title=\"Convert this dataframe to an interactive table.\"\n",
              "              style=\"display:none;\">\n",
              "        \n",
              "  <svg xmlns=\"http://www.w3.org/2000/svg\" height=\"24px\"viewBox=\"0 0 24 24\"\n",
              "       width=\"24px\">\n",
              "    <path d=\"M0 0h24v24H0V0z\" fill=\"none\"/>\n",
              "    <path d=\"M18.56 5.44l.94 2.06.94-2.06 2.06-.94-2.06-.94-.94-2.06-.94 2.06-2.06.94zm-11 1L8.5 8.5l.94-2.06 2.06-.94-2.06-.94L8.5 2.5l-.94 2.06-2.06.94zm10 10l.94 2.06.94-2.06 2.06-.94-2.06-.94-.94-2.06-.94 2.06-2.06.94z\"/><path d=\"M17.41 7.96l-1.37-1.37c-.4-.4-.92-.59-1.43-.59-.52 0-1.04.2-1.43.59L10.3 9.45l-7.72 7.72c-.78.78-.78 2.05 0 2.83L4 21.41c.39.39.9.59 1.41.59.51 0 1.02-.2 1.41-.59l7.78-7.78 2.81-2.81c.8-.78.8-2.07 0-2.86zM5.41 20L4 18.59l7.72-7.72 1.47 1.35L5.41 20z\"/>\n",
              "  </svg>\n",
              "      </button>\n",
              "      \n",
              "  <style>\n",
              "    .colab-df-container {\n",
              "      display:flex;\n",
              "      flex-wrap:wrap;\n",
              "      gap: 12px;\n",
              "    }\n",
              "\n",
              "    .colab-df-convert {\n",
              "      background-color: #E8F0FE;\n",
              "      border: none;\n",
              "      border-radius: 50%;\n",
              "      cursor: pointer;\n",
              "      display: none;\n",
              "      fill: #1967D2;\n",
              "      height: 32px;\n",
              "      padding: 0 0 0 0;\n",
              "      width: 32px;\n",
              "    }\n",
              "\n",
              "    .colab-df-convert:hover {\n",
              "      background-color: #E2EBFA;\n",
              "      box-shadow: 0px 1px 2px rgba(60, 64, 67, 0.3), 0px 1px 3px 1px rgba(60, 64, 67, 0.15);\n",
              "      fill: #174EA6;\n",
              "    }\n",
              "\n",
              "    [theme=dark] .colab-df-convert {\n",
              "      background-color: #3B4455;\n",
              "      fill: #D2E3FC;\n",
              "    }\n",
              "\n",
              "    [theme=dark] .colab-df-convert:hover {\n",
              "      background-color: #434B5C;\n",
              "      box-shadow: 0px 1px 3px 1px rgba(0, 0, 0, 0.15);\n",
              "      filter: drop-shadow(0px 1px 2px rgba(0, 0, 0, 0.3));\n",
              "      fill: #FFFFFF;\n",
              "    }\n",
              "  </style>\n",
              "\n",
              "      <script>\n",
              "        const buttonEl =\n",
              "          document.querySelector('#df-25e7819b-8681-44c8-a241-c6e483b1ec79 button.colab-df-convert');\n",
              "        buttonEl.style.display =\n",
              "          google.colab.kernel.accessAllowed ? 'block' : 'none';\n",
              "\n",
              "        async function convertToInteractive(key) {\n",
              "          const element = document.querySelector('#df-25e7819b-8681-44c8-a241-c6e483b1ec79');\n",
              "          const dataTable =\n",
              "            await google.colab.kernel.invokeFunction('convertToInteractive',\n",
              "                                                     [key], {});\n",
              "          if (!dataTable) return;\n",
              "\n",
              "          const docLinkHtml = 'Like what you see? Visit the ' +\n",
              "            '<a target=\"_blank\" href=https://colab.research.google.com/notebooks/data_table.ipynb>data table notebook</a>'\n",
              "            + ' to learn more about interactive tables.';\n",
              "          element.innerHTML = '';\n",
              "          dataTable['output_type'] = 'display_data';\n",
              "          await google.colab.output.renderOutput(dataTable, element);\n",
              "          const docLink = document.createElement('div');\n",
              "          docLink.innerHTML = docLinkHtml;\n",
              "          element.appendChild(docLink);\n",
              "        }\n",
              "      </script>\n",
              "    </div>\n",
              "  </div>\n",
              "  "
            ]
          },
          "metadata": {},
          "execution_count": 16
        }
      ]
    },
    {
      "cell_type": "code",
      "source": [
        "sensor1_data['minus_speed'] = sensor1_data['InVehicle_Longitudinal_Speed']-sensor1_data['InVehicle_Longitudinal_Speed'].shift(1)\n",
        "sensor1_data['minus_acc'] = sensor1_data['InVehicle_Longitudinal_Accel']-sensor1_data['InVehicle_Longitudinal_Accel'].shift(1)\n",
        "sensor1_data['minus_Gps'] = sensor1_data['GPS_Speed']-sensor1_data['GPS_Speed'].shift(1)\n"
      ],
      "metadata": {
        "id": "jgPqNyqIOx0D"
      },
      "execution_count": null,
      "outputs": []
    },
    {
      "cell_type": "code",
      "source": [
        "sensor2_data['minus_speed'] = sensor2_data['InVehicle_Longitudinal_Speed']-sensor2_data['InVehicle_Longitudinal_Speed'].shift(1)\n",
        "sensor2_data['minus_acc'] = sensor2_data['InVehicle_Longitudinal_Accel']-sensor2_data['InVehicle_Longitudinal_Accel'].shift(1)\n",
        "sensor2_data['minus_Gps'] = sensor2_data['GPS_Speed']-sensor2_data['GPS_Speed'].shift(1)\n"
      ],
      "metadata": {
        "id": "UP2of3XAOx64"
      },
      "execution_count": null,
      "outputs": []
    },
    {
      "cell_type": "code",
      "source": [
        "sensor3_data['minus_speed'] = sensor3_data['InVehicle_Longitudinal_Speed']-sensor3_data['InVehicle_Longitudinal_Speed'].shift(1)\n",
        "sensor3_data['minus_acc'] = sensor3_data['InVehicle_Longitudinal_Accel']-sensor3_data['InVehicle_Longitudinal_Accel'].shift(1)\n",
        "sensor3_data['minus_Gps'] = sensor3_data['GPS_Speed']-sensor3_data['GPS_Speed'].shift(1)\n"
      ],
      "metadata": {
        "id": "shrymIlCOyAz"
      },
      "execution_count": null,
      "outputs": []
    },
    {
      "cell_type": "code",
      "source": [
        "sensor1_data.dropna(inplace= True)\n",
        "sensor2_data.dropna(inplace= True)\n",
        "sensor3_data.dropna(inplace= True)\n"
      ],
      "metadata": {
        "id": "_atMoIctOyCA"
      },
      "execution_count": null,
      "outputs": []
    },
    {
      "cell_type": "code",
      "source": [
        "sensor1_data[['InVehicle_Longitudinal_Speed','minus_speed']].plot(subplots=True)"
      ],
      "metadata": {
        "id": "4RluXcvrOyG4",
        "colab": {
          "base_uri": "https://localhost:8080/",
          "height": 317
        },
        "outputId": "c29e3177-2caa-4ded-e224-e39af6eadb39"
      },
      "execution_count": null,
      "outputs": [
        {
          "output_type": "execute_result",
          "data": {
            "text/plain": [
              "array([<matplotlib.axes._subplots.AxesSubplot object at 0x7f2465e3c160>,\n",
              "       <matplotlib.axes._subplots.AxesSubplot object at 0x7f2465d4c5b0>],\n",
              "      dtype=object)"
            ]
          },
          "metadata": {},
          "execution_count": 21
        },
        {
          "output_type": "display_data",
          "data": {
            "text/plain": [
              "<Figure size 432x288 with 2 Axes>"
            ],
            "image/png": "[encoded data removed]"
          },
          "metadata": {
            "needs_background": "light"
          }
        }
      ]
    },
    {
      "cell_type": "code",
      "source": [
        "sensor1_data[['GPS_Speed','minus_Gps']].plot(subplots=True)"
      ],
      "metadata": {
        "id": "WUBnhSDIOyIJ",
        "colab": {
          "base_uri": "https://localhost:8080/",
          "height": 317
        },
        "outputId": "b9649b26-251d-47d4-d313-b50d593cfd31"
      },
      "execution_count": null,
      "outputs": [
        {
          "output_type": "execute_result",
          "data": {
            "text/plain": [
              "array([<matplotlib.axes._subplots.AxesSubplot object at 0x7f2465ca7af0>,\n",
              "       <matplotlib.axes._subplots.AxesSubplot object at 0x7f246580c0d0>],\n",
              "      dtype=object)"
            ]
          },
          "metadata": {},
          "execution_count": 22
        },
        {
          "output_type": "display_data",
          "data": {
            "text/plain": [
              "<Figure size 432x288 with 2 Axes>"
            ],
            "image/png": "[encoded data removed]"
          },
          "metadata": {
            "needs_background": "light"
          }
        }
      ]
    },
    {
      "cell_type": "code",
      "source": [
        "sensor1_data[['InVehicle_Longitudinal_Accel','minus_acc']].plot(subplots=True)"
      ],
      "metadata": {
        "id": "DzDae9CAOyMA",
        "colab": {
          "base_uri": "https://localhost:8080/",
          "height": 317
        },
        "outputId": "4c746a69-e386-418c-ee5b-bf3481fddea9"
      },
      "execution_count": null,
      "outputs": [
        {
          "output_type": "execute_result",
          "data": {
            "text/plain": [
              "array([<matplotlib.axes._subplots.AxesSubplot object at 0x7f2465795e80>,\n",
              "       <matplotlib.axes._subplots.AxesSubplot object at 0x7f24657435b0>],\n",
              "      dtype=object)"
            ]
          },
          "metadata": {},
          "execution_count": 23
        },
        {
          "output_type": "display_data",
          "data": {
            "text/plain": [
              "<Figure size 432x288 with 2 Axes>"
            ],
            "image/png": "[encoded data removed]"
          },
          "metadata": {
            "needs_background": "light"
          }
        }
      ]
    },
    {
      "cell_type": "code",
      "source": [
        "stationary_speed = adfuller(sensor1_data['InVehicle_Longitudinal_Speed'])\n",
        "stationary_gps = adfuller(sensor1_data['GPS_Speed'])\n",
        "stationary_acc = adfuller(sensor1_data['InVehicle_Longitudinal_Accel'])\n",
        "print(\"stationary_speed : {}\\n stationary_gps :{}\\nstationary_acc :{}\\n\".format(stationary_speed[1],stationary_gps[1], stationary_acc[1]))"
      ],
      "metadata": {
        "id": "6d2odd7JPDMA",
        "colab": {
          "base_uri": "https://localhost:8080/"
        },
        "outputId": "d35cd42a-5aeb-41f7-81e7-d0ee0d5c0aff"
      },
      "execution_count": null,
      "outputs": [
        {
          "output_type": "stream",
          "name": "stdout",
          "text": [
            "stationary_speed : 8.921112879581485e-12\n",
            " stationary_gps :1.2540401305313028e-11\n",
            "stationary_acc :1.2701482412351809e-28\n",
            "\n"
          ]
        }
      ]
    },
    {
      "cell_type": "code",
      "source": [
        "stationary_speed = adfuller(sensor1_data['minus_speed'].dropna())\n",
        "stationary_gps = adfuller(sensor1_data['minus_Gps'].dropna())\n",
        "stationary_acc = adfuller(sensor1_data['minus_acc'].dropna())\n",
        "print(\"stationary_speed : {}\\nstationary_gps :{}\\nstationary_acc :{}\\n\".format(stationary_speed[1],stationary_gps[1], stationary_acc[1]))"
      ],
      "metadata": {
        "id": "rSpjcqzxPDVr",
        "colab": {
          "base_uri": "https://localhost:8080/"
        },
        "outputId": "69e5533e-5e91-4cc2-a25f-2dd1fb1f01ed"
      },
      "execution_count": null,
      "outputs": [
        {
          "output_type": "stream",
          "name": "stdout",
          "text": [
            "stationary_speed : 4.776412687074336e-29\n",
            "stationary_gps :3.8063712605322285e-29\n",
            "stationary_acc :0.0\n",
            "\n"
          ]
        }
      ]
    },
    {
      "cell_type": "code",
      "source": [
        "sensor2_data[['InVehicle_Longitudinal_Speed','minus_speed']].plot(subplots=True)"
      ],
      "metadata": {
        "id": "IKjXGlAAPDjY",
        "colab": {
          "base_uri": "https://localhost:8080/",
          "height": 317
        },
        "outputId": "10530478-4c6d-4d36-b193-60215bb61681"
      },
      "execution_count": null,
      "outputs": [
        {
          "output_type": "execute_result",
          "data": {
            "text/plain": [
              "array([<matplotlib.axes._subplots.AxesSubplot object at 0x7f24656bd8b0>,\n",
              "       <matplotlib.axes._subplots.AxesSubplot object at 0x7f2462e941c0>],\n",
              "      dtype=object)"
            ]
          },
          "metadata": {},
          "execution_count": 26
        },
        {
          "output_type": "display_data",
          "data": {
            "text/plain": [
              "<Figure size 432x288 with 2 Axes>"
            ],
            "image/png": "[encoded data removed]"
          },
          "metadata": {
            "needs_background": "light"
          }
        }
      ]
    },
    {
      "cell_type": "code",
      "source": [
        "sensor2_data[['GPS_Speed','minus_Gps']].plot(subplots=True)"
      ],
      "metadata": {
        "id": "4Bf0acuePD0t",
        "colab": {
          "base_uri": "https://localhost:8080/",
          "height": 317
        },
        "outputId": "c269c637-a324-42fc-c8ae-332660849e08"
      },
      "execution_count": null,
      "outputs": [
        {
          "output_type": "execute_result",
          "data": {
            "text/plain": [
              "array([<matplotlib.axes._subplots.AxesSubplot object at 0x7f2462e6edf0>,\n",
              "       <matplotlib.axes._subplots.AxesSubplot object at 0x7f2462e30880>],\n",
              "      dtype=object)"
            ]
          },
          "metadata": {},
          "execution_count": 27
        },
        {
          "output_type": "display_data",
          "data": {
            "text/plain": [
              "<Figure size 432x288 with 2 Axes>"
            ],
            "image/png": "[encoded data removed]"
          },
          "metadata": {
            "needs_background": "light"
          }
        }
      ]
    },
    {
      "cell_type": "code",
      "source": [
        "sensor2_data[['InVehicle_Longitudinal_Accel','minus_acc']].plot(subplots=True)"
      ],
      "metadata": {
        "id": "Eocj1ZaqPEB5",
        "colab": {
          "base_uri": "https://localhost:8080/",
          "height": 317
        },
        "outputId": "d0b844e0-c69d-4eef-8d09-41478b156a8b"
      },
      "execution_count": null,
      "outputs": [
        {
          "output_type": "execute_result",
          "data": {
            "text/plain": [
              "array([<matplotlib.axes._subplots.AxesSubplot object at 0x7f2462db1f40>,\n",
              "       <matplotlib.axes._subplots.AxesSubplot object at 0x7f2462d5a670>],\n",
              "      dtype=object)"
            ]
          },
          "metadata": {},
          "execution_count": 28
        },
        {
          "output_type": "display_data",
          "data": {
            "text/plain": [
              "<Figure size 432x288 with 2 Axes>"
            ],
            "image/png": "[encoded data removed]"
          },
          "metadata": {
            "needs_background": "light"
          }
        }
      ]
    },
    {
      "cell_type": "code",
      "source": [
        "stationary_speed = adfuller(sensor2_data['InVehicle_Longitudinal_Speed'])\n",
        "stationary_gps = adfuller(sensor2_data['GPS_Speed'])\n",
        "stationary_acc = adfuller(sensor2_data['InVehicle_Longitudinal_Accel'])\n",
        "print(\"stationary_speed : {}\\n stationary_gps :{}\\nstationary_acc :{}\\n\".format(stationary_speed[1],stationary_gps[1], stationary_acc[1]))"
      ],
      "metadata": {
        "id": "ChEKKpHSPEQq",
        "colab": {
          "base_uri": "https://localhost:8080/"
        },
        "outputId": "7624a98d-3abc-48ca-de8e-c658b8a907dc"
      },
      "execution_count": null,
      "outputs": [
        {
          "output_type": "stream",
          "name": "stdout",
          "text": [
            "stationary_speed : 8.921112879581485e-12\n",
            " stationary_gps :1.2540401305313028e-11\n",
            "stationary_acc :1.2701482412351809e-28\n",
            "\n"
          ]
        }
      ]
    },
    {
      "cell_type": "code",
      "source": [
        "stationary_speed = adfuller(sensor2_data['minus_speed'].dropna())\n",
        "stationary_gps = adfuller(sensor2_data['minus_Gps'].dropna())\n",
        "stationary_acc = adfuller(sensor2_data['minus_acc'].dropna())\n",
        "print(\"stationary_speed : {}\\nstationary_gps :{}\\nstationary_acc :{}\\n\".format(stationary_speed[1],stationary_gps[1], stationary_acc[1]))"
      ],
      "metadata": {
        "id": "daP4qzX2PXPj",
        "colab": {
          "base_uri": "https://localhost:8080/"
        },
        "outputId": "cb5aefd2-7ea8-4a77-dddc-979c2e184f8b"
      },
      "execution_count": null,
      "outputs": [
        {
          "output_type": "stream",
          "name": "stdout",
          "text": [
            "stationary_speed : 4.776412687074336e-29\n",
            "stationary_gps :3.8063712605322285e-29\n",
            "stationary_acc :0.0\n",
            "\n"
          ]
        }
      ]
    },
    {
      "cell_type": "code",
      "source": [
        "sensor3_data[['InVehicle_Longitudinal_Speed','minus_speed']].plot(subplots=True)"
      ],
      "metadata": {
        "id": "KaS9xVcdPXws",
        "colab": {
          "base_uri": "https://localhost:8080/",
          "height": 317
        },
        "outputId": "a3385a69-21bc-406d-f7bc-b2bcd0b4ac73"
      },
      "execution_count": null,
      "outputs": [
        {
          "output_type": "execute_result",
          "data": {
            "text/plain": [
              "array([<matplotlib.axes._subplots.AxesSubplot object at 0x7f2462ccf5e0>,\n",
              "       <matplotlib.axes._subplots.AxesSubplot object at 0x7f2462c96370>],\n",
              "      dtype=object)"
            ]
          },
          "metadata": {},
          "execution_count": 31
        },
        {
          "output_type": "display_data",
          "data": {
            "text/plain": [
              "<Figure size 432x288 with 2 Axes>"
            ],
            "image/png": "[encoded data removed]"
          },
          "metadata": {
            "needs_background": "light"
          }
        }
      ]
    },
    {
      "cell_type": "code",
      "source": [
        "sensor3_data[['GPS_Speed','minus_Gps']].plot(subplots=True)"
      ],
      "metadata": {
        "id": "VTKwTKylPeWO",
        "colab": {
          "base_uri": "https://localhost:8080/",
          "height": 317
        },
        "outputId": "3ddeeb8a-a437-407e-f91e-863633d8ebb3"
      },
      "execution_count": null,
      "outputs": [
        {
          "output_type": "execute_result",
          "data": {
            "text/plain": [
              "array([<matplotlib.axes._subplots.AxesSubplot object at 0x7f2462c1a3d0>,\n",
              "       <matplotlib.axes._subplots.AxesSubplot object at 0x7f2462c1d940>],\n",
              "      dtype=object)"
            ]
          },
          "metadata": {},
          "execution_count": 32
        },
        {
          "output_type": "display_data",
          "data": {
            "text/plain": [
              "<Figure size 432x288 with 2 Axes>"
            ],
            "image/png": "[encoded data removed]"
          },
          "metadata": {
            "needs_background": "light"
          }
        }
      ]
    },
    {
      "cell_type": "code",
      "source": [
        "sensor3_data[['InVehicle_Longitudinal_Accel','minus_acc']].plot(subplots=True)"
      ],
      "metadata": {
        "id": "fbUQJetSPec8",
        "colab": {
          "base_uri": "https://localhost:8080/",
          "height": 317
        },
        "outputId": "121ac89e-4b75-4c32-c227-49d9dafcd8e0"
      },
      "execution_count": null,
      "outputs": [
        {
          "output_type": "execute_result",
          "data": {
            "text/plain": [
              "array([<matplotlib.axes._subplots.AxesSubplot object at 0x7f2462bb5a00>,\n",
              "       <matplotlib.axes._subplots.AxesSubplot object at 0x7f2462c0edf0>],\n",
              "      dtype=object)"
            ]
          },
          "metadata": {},
          "execution_count": 33
        },
        {
          "output_type": "display_data",
          "data": {
            "text/plain": [
              "<Figure size 432x288 with 2 Axes>"
            ],
            "image/png": "[encoded data removed]"
          },
          "metadata": {
            "needs_background": "light"
          }
        }
      ]
    },
    {
      "cell_type": "code",
      "source": [
        "stationary_speed = adfuller(sensor3_data['InVehicle_Longitudinal_Speed'])\n",
        "stationary_gps = adfuller(sensor3_data['GPS_Speed'])\n",
        "stationary_acc = adfuller(sensor3_data['InVehicle_Longitudinal_Accel'])\n",
        "print(\"stationary_speed : {}\\n stationary_gps :{}\\nstationary_acc :{}\\n\".format(stationary_speed[1],stationary_gps[1], stationary_acc[1]))"
      ],
      "metadata": {
        "id": "CnEeIeIkPeg0",
        "colab": {
          "base_uri": "https://localhost:8080/"
        },
        "outputId": "83e74c7f-4cd8-465a-8e31-0261801fe7d6"
      },
      "execution_count": null,
      "outputs": [
        {
          "output_type": "stream",
          "name": "stdout",
          "text": [
            "stationary_speed : 8.921112879581485e-12\n",
            " stationary_gps :1.2540401305313028e-11\n",
            "stationary_acc :1.2701482412351809e-28\n",
            "\n"
          ]
        }
      ]
    },
    {
      "cell_type": "code",
      "source": [
        "stationary_speed = adfuller(sensor3_data['minus_speed'].dropna())\n",
        "stationary_gps = adfuller(sensor3_data['minus_Gps'].dropna())\n",
        "stationary_acc = adfuller(sensor3_data['minus_acc'].dropna())\n",
        "print(\"stationary_speed : {}\\nstationary_gps :{}\\nstationary_acc :{}\\n\".format(stationary_speed[1],stationary_gps[1], stationary_acc[1]))"
      ],
      "metadata": {
        "id": "qUUx_ynFPex9",
        "colab": {
          "base_uri": "https://localhost:8080/"
        },
        "outputId": "30624e48-03df-4b32-978d-1f57a43b0b23"
      },
      "execution_count": null,
      "outputs": [
        {
          "output_type": "stream",
          "name": "stdout",
          "text": [
            "stationary_speed : 4.776412687074336e-29\n",
            "stationary_gps :3.8063712605322285e-29\n",
            "stationary_acc :0.0\n",
            "\n"
          ]
        }
      ]
    },
    {
      "cell_type": "code",
      "metadata": {
        "id": "VaUYxUSMvH14",
        "colab": {
          "base_uri": "https://localhost:8080/"
        },
        "outputId": "740e983a-a5cc-4c5f-e940-c9fcecb35e11"
      },
      "source": [
        "scaler  = StandardScaler()\n",
        "scaler.fit(sensor1_data[['minus_speed','minus_Gps','minus_acc']])\n",
        "sensor1_data_normal = scaler.transform(sensor1_data[['minus_speed','minus_Gps','minus_acc']]) \n",
        "sensor1_data_normal[:5]"
      ],
      "execution_count": null,
      "outputs": [
        {
          "output_type": "execute_result",
          "data": {
            "text/plain": [
              "array([[-0.06209951, -0.39849527, -1.63251225],\n",
              "       [-0.03412675, -0.05595338,  1.71076563],\n",
              "       [-0.02904709,  0.10658247,  0.30892064],\n",
              "       [-0.01656499,  0.05179228,  0.03829601],\n",
              "       [-0.01131926, -0.11759115, -0.01406305]])"
            ]
          },
          "metadata": {},
          "execution_count": 36
        }
      ]
    },
    {
      "cell_type": "code",
      "metadata": {
        "id": "DssP_ns3oPeE",
        "colab": {
          "base_uri": "https://localhost:8080/"
        },
        "outputId": "25310834-8a1b-46cb-d1fb-aeead4e74f0a"
      },
      "source": [
        "scaler  = StandardScaler()\n",
        "scaler.fit(sensor2_data[['minus_speed','minus_Gps','minus_acc']])\n",
        "sensor2_data_normal = scaler.transform(sensor2_data[['minus_speed','minus_Gps','minus_acc']]) \n",
        "sensor2_data_normal[:5]"
      ],
      "execution_count": null,
      "outputs": [
        {
          "output_type": "execute_result",
          "data": {
            "text/plain": [
              "array([[-0.06209951, -0.39849527, -1.63251225],\n",
              "       [-0.03412675, -0.05595338,  1.71076563],\n",
              "       [-0.02904709,  0.10658247,  0.30892064],\n",
              "       [-0.01656499,  0.05179228,  0.03829601],\n",
              "       [-0.01131926, -0.11759115, -0.01406305]])"
            ]
          },
          "metadata": {},
          "execution_count": 37
        }
      ]
    },
    {
      "cell_type": "code",
      "metadata": {
        "id": "ShuycYtJoPQ2",
        "colab": {
          "base_uri": "https://localhost:8080/"
        },
        "outputId": "074cfbf0-736e-4f27-844e-d2bc10309c8c"
      },
      "source": [
        "scaler  = StandardScaler()\n",
        "scaler.fit(sensor3_data[['minus_speed','minus_Gps','minus_acc']])\n",
        "sensor3_data_normal = scaler.transform(sensor3_data[['minus_speed','minus_Gps','minus_acc']]) \n",
        "sensor3_data_normal[:5]"
      ],
      "execution_count": null,
      "outputs": [
        {
          "output_type": "execute_result",
          "data": {
            "text/plain": [
              "array([[-0.06209951, -0.39849527, -1.63251225],\n",
              "       [-0.03412675, -0.05595338,  1.71076563],\n",
              "       [-0.02904709,  0.10658247,  0.30892064],\n",
              "       [-0.01656499,  0.05179228,  0.03829601],\n",
              "       [-0.01131926, -0.11759115, -0.01406305]])"
            ]
          },
          "metadata": {},
          "execution_count": 38
        }
      ]
    },
    {
      "cell_type": "code",
      "metadata": {
        "id": "NPEKmySy2O0W"
      },
      "source": [
        "window_size = 10\n",
        "\n",
        "# create windows with overlap\n",
        "def convertToFrames(X_data,y_data, step):\n",
        "    X, Y =[], []    \n",
        "    for i in range(len(X_data)-step):\n",
        "        y_or = 0\n",
        "        d=i+step  \n",
        "        X.append(X_data[i:d,])\n",
        "        for y in y_data.iloc[i:d].values:\n",
        "           y_or = y_or or y\n",
        "        \n",
        "        Y.append(y_or)\n",
        "    return np.array(X), np.array(Y)"
      ],
      "execution_count": null,
      "outputs": []
    },
    {
      "cell_type": "code",
      "metadata": {
        "colab": {
          "base_uri": "https://localhost:8080/"
        },
        "id": "1U7mLgOZaZsN",
        "outputId": "b2a31595-8f36-462d-942c-b0b089e2878d"
      },
      "source": [
        "X_sensor1, y_sensor1 = convertToFrames(sensor1_data_normal, sensor1_label, window_size)\n",
        "X_sensor1.shape, y_sensor1.shape\n",
        "# print(X_sensor1[0])\n",
        "# print(X_sensor1[1])"
      ],
      "execution_count": null,
      "outputs": [
        {
          "output_type": "execute_result",
          "data": {
            "text/plain": [
              "((29789, 10, 3), (29789, 1))"
            ]
          },
          "metadata": {},
          "execution_count": 40
        }
      ]
    },
    {
      "cell_type": "code",
      "metadata": {
        "colab": {
          "base_uri": "https://localhost:8080/"
        },
        "id": "LlbmzS3Hagp1",
        "outputId": "8431ce05-3eda-44b6-b08b-b99dc40f94a0"
      },
      "source": [
        "X_sensor2, y_sensor2 = convertToFrames(sensor2_data_normal, sensor2_label, window_size)\n",
        "X_sensor2.shape, y_sensor2.shape"
      ],
      "execution_count": null,
      "outputs": [
        {
          "output_type": "execute_result",
          "data": {
            "text/plain": [
              "((29789, 10, 3), (29789, 1))"
            ]
          },
          "metadata": {},
          "execution_count": 41
        }
      ]
    },
    {
      "cell_type": "code",
      "metadata": {
        "colab": {
          "base_uri": "https://localhost:8080/"
        },
        "id": "0QyV7kwragiE",
        "outputId": "8580ffd0-08ae-4a19-fb6a-f6f81871e3e9"
      },
      "source": [
        "X_sensor3, y_sensor3 = convertToFrames(sensor3_data_normal, sensor3_label, window_size)\n",
        "X_sensor3.shape, y_sensor3.shape"
      ],
      "execution_count": null,
      "outputs": [
        {
          "output_type": "execute_result",
          "data": {
            "text/plain": [
              "((29789, 10, 3), (29789, 1))"
            ]
          },
          "metadata": {},
          "execution_count": 42
        }
      ]
    },
    {
      "cell_type": "code",
      "metadata": {
        "colab": {
          "base_uri": "https://localhost:8080/"
        },
        "id": "l4fSg45cplIB",
        "outputId": "48f7b39f-b49e-48db-8e7e-31e69dc6ca71"
      },
      "source": [
        "y_sensor1 = to_categorical(y_sensor1, num_classes= 2, dtype='float32')\n",
        "X_train_sensor1,X_test_sensor1, y_train_sensor1, y_test_sensor1 = train_test_split(X_sensor1,y_sensor1,random_state = 1400, test_size= 0.15)\n",
        "y_train_sensor1, y_test_sensor1 = y_train_sensor1.squeeze(), y_test_sensor1.squeeze()\n",
        "X_train_sensor1.shape, X_test_sensor1.shape,y_train_sensor1.shape, y_test_sensor1.shape"
      ],
      "execution_count": null,
      "outputs": [
        {
          "output_type": "execute_result",
          "data": {
            "text/plain": [
              "((25320, 10, 3), (4469, 10, 3), (25320, 2), (4469, 2))"
            ]
          },
          "metadata": {},
          "execution_count": 43
        }
      ]
    },
    {
      "cell_type": "code",
      "metadata": {
        "colab": {
          "base_uri": "https://localhost:8080/"
        },
        "id": "M-6JhdmNplC4",
        "outputId": "244861ea-1e5f-4a93-ae77-98416d84536e"
      },
      "source": [
        "y_sensor2 = to_categorical(y_sensor2, num_classes= 2, dtype='float32')\n",
        "X_train_sensor2,X_test_sensor2, y_train_sensor2, y_test_sensor2 = train_test_split(X_sensor2,y_sensor2,random_state = 1400, test_size= 0.15)\n",
        "y_train_sensor2, y_test_sensor2 = y_train_sensor2.squeeze(), y_test_sensor2.squeeze()\n",
        "X_train_sensor2.shape, X_test_sensor2.shape,y_train_sensor2.shape, y_test_sensor2.shape"
      ],
      "execution_count": null,
      "outputs": [
        {
          "output_type": "execute_result",
          "data": {
            "text/plain": [
              "((25320, 10, 3), (4469, 10, 3), (25320, 2), (4469, 2))"
            ]
          },
          "metadata": {},
          "execution_count": 44
        }
      ]
    },
    {
      "cell_type": "code",
      "metadata": {
        "colab": {
          "base_uri": "https://localhost:8080/"
        },
        "id": "CZmk_MFjpk_S",
        "outputId": "3881c47a-6be9-417a-911f-6d352068a73a"
      },
      "source": [
        "y_sensor3 = to_categorical(y_sensor3, num_classes= 2, dtype='float32')\n",
        "X_train_sensor3,X_test_sensor3, y_train_sensor3, y_test_sensor3 = train_test_split(X_sensor3,y_sensor3,random_state = 1400, test_size= 0.15)\n",
        "y_train_sensor3, y_test_sensor3 = y_train_sensor3.squeeze(), y_test_sensor3.squeeze()\n",
        "X_train_sensor3.shape, X_test_sensor3.shape,y_train_sensor3.shape, y_test_sensor3.shape"
      ],
      "execution_count": null,
      "outputs": [
        {
          "output_type": "execute_result",
          "data": {
            "text/plain": [
              "((25320, 10, 3), (4469, 10, 3), (25320, 2), (4469, 2))"
            ]
          },
          "metadata": {},
          "execution_count": 45
        }
      ]
    },
    {
      "cell_type": "code",
      "metadata": {
        "id": "DFlQxMk8PgWx"
      },
      "source": [
        "\n",
        "def creatModel():\n",
        "  \n",
        "    model = Sequential()\n",
        "    model.add(Conv1D(kernel_size=3, filters= 40, activation= 'relu', padding='same'))\n",
        "    model.add(Dropout(0.1))\n",
        "    model.add( Conv1D(kernel_size=3, filters= 60, activation= 'relu', padding='same'))\n",
        "    model.add(Dropout(0.1))\n",
        "    model.add(Conv1D(kernel_size=3, filters= 60, activation= 'relu', padding='same'))\n",
        "    model.add(Dropout(0.1))\n",
        "    model.add(GlobalMaxPool1D())\n",
        "    model.add(RepeatVector(X_train_sensor1.shape[1]))\n",
        "    model.add(LSTM(256, return_sequences=True))\n",
        "    model.add(Dropout(rate=0.2))\n",
        "    model.add(LSTM(128, return_sequences=True))\n",
        "    model.add(Dropout(rate=0.2))\n",
        "    model.add(LSTM(64, return_sequences=False))\n",
        "    model.add(Dropout(rate=0.2))\n",
        "    model.add((Dense(32)))\n",
        "    model.add((Dense(16)))\n",
        "    model.add(Dense(2, activation='sigmoid', kernel_regularizer=l2()))\n",
        "    model.compile(optimizer='adam', loss='binary_crossentropy',metrics=['accuracy'])\n",
        "\n",
        "    return model\n"
      ],
      "execution_count": null,
      "outputs": []
    },
    {
      "cell_type": "code",
      "metadata": {
        "id": "VrTO2TLekYa-"
      },
      "source": [
        "import time\n",
        "\n",
        "class TimeHistory(Callback):\n",
        "  \n",
        "    def on_epoch_begin(self, batch, logs={}):\n",
        "        self.epoch_time_start = time.time()\n",
        "\n",
        "    def on_epoch_end(self, batch, logs={}):\n",
        "        epoch_time = time.time() - self.epoch_time_start\n",
        "        logs['epoch_time'] = epoch_time\n"
      ],
      "execution_count": null,
      "outputs": []
    },
    {
      "cell_type": "code",
      "source": [
        "model_path = '/content/drive/MyDrive/CAV/data/Bias attack/0_1_dur_10/Models/Models16-1/'\n",
        "\n",
        "class Model_save(Callback):\n",
        "  def on_epoch_end(self, epoch, logs={}):\n",
        "    self.model.save(model_path + \"D-CNN-LSTM-autoEncoder-Bias-0_1_dur_10-CAV-perEpoch_{}.h5\".format(sensor))\n",
        "    "
      ],
      "metadata": {
        "id": "M79Mq50tlTe6"
      },
      "execution_count": null,
      "outputs": []
    },
    {
      "cell_type": "code",
      "source": [
        "def setCallbacks(sensor):\n",
        "\n",
        "  best_model_path = model_path + 'Best_D-CNN-LSTM-autoEncoder-Bias-0_1_dur_10-CAV_{}.h5'.format(sensor)\n",
        "  checkpoint = ModelCheckpoint(best_model_path, monitor='val_loss', save_best_only=True, mode='min')\n",
        "\n",
        "  history_cb = tf.keras.callbacks.CSVLogger(model_path + 'historyLOG_Bias-0_1_dur_10_{}.csv'.format(sensor), separator=\",\", append=True)\n",
        "\n",
        "  model_save = Model_save()\n",
        "\n",
        "  Estop = EarlyStopping(monitor='val_accuracy', patience= 100)\n",
        "  \n",
        "  return model_save, checkpoint, history_cb, Estop"
      ],
      "metadata": {
        "id": "nWddQ3LPlY5M"
      },
      "execution_count": null,
      "outputs": []
    },
    {
      "cell_type": "code",
      "metadata": {
        "colab": {
          "base_uri": "https://localhost:8080/"
        },
        "id": "t7odu-Z4_BLe",
        "outputId": "72389b8d-420f-4d50-ed13-ac98a3c9de15"
      },
      "source": [
        "sensor = \"sensor1\"\n",
        "time_callback = TimeHistory()\n",
        "model_sensor1 = creatModel()\n",
        "model_save, checkpoint, history_cb, Estop = setCallbacks(\"sensor1\")\n",
        "history_sensor1 = model_sensor1.fit(X_train_sensor1, y_train_sensor1,\n",
        "                                    batch_size = 128, epochs = 500,\n",
        "                                    validation_split = 0.1,\n",
        "                                    verbose = 1,\n",
        "                                    callbacks = [time_callback, model_save, checkpoint, history_cb, Estop])\n",
        "                                    # class_weight= class_weights)#\n"
      ],
      "execution_count": null,
      "outputs": [
        {
          "output_type": "stream",
          "name": "stdout",
          "text": [
            "Epoch 1/500\n",
            "179/179 [==============================] - 18s 20ms/step - loss: 0.2348 - accuracy: 0.9231 - val_loss: 0.0745 - val_accuracy: 0.9870 - epoch_time: 17.5226\n",
            "Epoch 2/500\n",
            "179/179 [==============================] - 3s 14ms/step - loss: 0.0853 - accuracy: 0.9812 - val_loss: 0.0536 - val_accuracy: 0.9882 - epoch_time: 2.3311\n",
            "Epoch 3/500\n",
            "179/179 [==============================] - 2s 14ms/step - loss: 0.0613 - accuracy: 0.9852 - val_loss: 0.0397 - val_accuracy: 0.9925 - epoch_time: 2.2210\n",
            "Epoch 4/500\n",
            "179/179 [==============================] - 2s 14ms/step - loss: 0.0489 - accuracy: 0.9877 - val_loss: 0.0347 - val_accuracy: 0.9913 - epoch_time: 2.2604\n",
            "Epoch 5/500\n",
            "179/179 [==============================] - 2s 14ms/step - loss: 0.0420 - accuracy: 0.9892 - val_loss: 0.0284 - val_accuracy: 0.9941 - epoch_time: 2.2387\n",
            "Epoch 6/500\n",
            "179/179 [==============================] - 2s 13ms/step - loss: 0.0372 - accuracy: 0.9894 - val_loss: 0.0272 - val_accuracy: 0.9937 - epoch_time: 2.1826\n",
            "Epoch 7/500\n",
            "179/179 [==============================] - 3s 16ms/step - loss: 0.0336 - accuracy: 0.9902 - val_loss: 0.0216 - val_accuracy: 0.9933 - epoch_time: 2.6524\n",
            "Epoch 8/500\n",
            "179/179 [==============================] - 5s 25ms/step - loss: 0.0324 - accuracy: 0.9907 - val_loss: 0.0209 - val_accuracy: 0.9929 - epoch_time: 4.3218\n",
            "Epoch 9/500\n",
            "179/179 [==============================] - 3s 16ms/step - loss: 0.0279 - accuracy: 0.9921 - val_loss: 0.0220 - val_accuracy: 0.9941 - epoch_time: 2.7824\n",
            "Epoch 10/500\n",
            "179/179 [==============================] - 3s 14ms/step - loss: 0.0283 - accuracy: 0.9913 - val_loss: 0.0246 - val_accuracy: 0.9929 - epoch_time: 2.4763\n",
            "Epoch 11/500\n",
            "179/179 [==============================] - 2s 13ms/step - loss: 0.0263 - accuracy: 0.9920 - val_loss: 0.0216 - val_accuracy: 0.9949 - epoch_time: 2.2575\n",
            "Epoch 12/500\n",
            "179/179 [==============================] - 3s 15ms/step - loss: 0.0252 - accuracy: 0.9924 - val_loss: 0.0167 - val_accuracy: 0.9953 - epoch_time: 2.2440\n",
            "Epoch 13/500\n",
            "179/179 [==============================] - 3s 14ms/step - loss: 0.0221 - accuracy: 0.9933 - val_loss: 0.0118 - val_accuracy: 0.9961 - epoch_time: 2.3192\n",
            "Epoch 14/500\n",
            "179/179 [==============================] - 2s 13ms/step - loss: 0.0232 - accuracy: 0.9930 - val_loss: 0.0181 - val_accuracy: 0.9957 - epoch_time: 2.2996\n",
            "Epoch 15/500\n",
            "179/179 [==============================] - 2s 13ms/step - loss: 0.0190 - accuracy: 0.9935 - val_loss: 0.0162 - val_accuracy: 0.9945 - epoch_time: 2.2769\n",
            "Epoch 16/500\n",
            "179/179 [==============================] - 2s 13ms/step - loss: 0.0212 - accuracy: 0.9935 - val_loss: 0.0144 - val_accuracy: 0.9961 - epoch_time: 2.3150\n",
            "Epoch 17/500\n",
            "179/179 [==============================] - 2s 13ms/step - loss: 0.0166 - accuracy: 0.9951 - val_loss: 0.0143 - val_accuracy: 0.9949 - epoch_time: 2.3005\n",
            "Epoch 18/500\n",
            "179/179 [==============================] - 2s 13ms/step - loss: 0.0177 - accuracy: 0.9944 - val_loss: 0.0120 - val_accuracy: 0.9964 - epoch_time: 2.2545\n",
            "Epoch 19/500\n",
            "179/179 [==============================] - 2s 13ms/step - loss: 0.0167 - accuracy: 0.9950 - val_loss: 0.0136 - val_accuracy: 0.9964 - epoch_time: 2.2398\n",
            "Epoch 20/500\n",
            "179/179 [==============================] - 2s 13ms/step - loss: 0.0164 - accuracy: 0.9947 - val_loss: 0.0140 - val_accuracy: 0.9949 - epoch_time: 2.2719\n",
            "Epoch 21/500\n",
            "179/179 [==============================] - 2s 13ms/step - loss: 0.0156 - accuracy: 0.9949 - val_loss: 0.0175 - val_accuracy: 0.9949 - epoch_time: 2.2941\n",
            "Epoch 22/500\n",
            "179/179 [==============================] - 2s 13ms/step - loss: 0.0150 - accuracy: 0.9953 - val_loss: 0.0163 - val_accuracy: 0.9937 - epoch_time: 2.1977\n",
            "Epoch 23/500\n",
            "179/179 [==============================] - 3s 15ms/step - loss: 0.0156 - accuracy: 0.9957 - val_loss: 0.0111 - val_accuracy: 0.9968 - epoch_time: 2.2238\n",
            "Epoch 24/500\n",
            "179/179 [==============================] - 2s 13ms/step - loss: 0.0152 - accuracy: 0.9949 - val_loss: 0.0120 - val_accuracy: 0.9968 - epoch_time: 2.2554\n",
            "Epoch 25/500\n",
            "179/179 [==============================] - 2s 13ms/step - loss: 0.0128 - accuracy: 0.9961 - val_loss: 0.0129 - val_accuracy: 0.9968 - epoch_time: 2.1939\n",
            "Epoch 26/500\n",
            "179/179 [==============================] - 2s 14ms/step - loss: 0.0125 - accuracy: 0.9964 - val_loss: 0.0075 - val_accuracy: 0.9976 - epoch_time: 2.2575\n",
            "Epoch 27/500\n",
            "179/179 [==============================] - 2s 13ms/step - loss: 0.0140 - accuracy: 0.9957 - val_loss: 0.0094 - val_accuracy: 0.9968 - epoch_time: 2.2418\n",
            "Epoch 28/500\n",
            "179/179 [==============================] - 2s 13ms/step - loss: 0.0100 - accuracy: 0.9969 - val_loss: 0.0088 - val_accuracy: 0.9972 - epoch_time: 2.2422\n",
            "Epoch 29/500\n",
            "179/179 [==============================] - 2s 13ms/step - loss: 0.0105 - accuracy: 0.9971 - val_loss: 0.0092 - val_accuracy: 0.9964 - epoch_time: 2.2517\n",
            "Epoch 30/500\n",
            "179/179 [==============================] - 2s 13ms/step - loss: 0.0110 - accuracy: 0.9969 - val_loss: 0.0091 - val_accuracy: 0.9976 - epoch_time: 2.2175\n",
            "Epoch 31/500\n",
            "179/179 [==============================] - 2s 13ms/step - loss: 0.0110 - accuracy: 0.9962 - val_loss: 0.0217 - val_accuracy: 0.9933 - epoch_time: 2.2397\n",
            "Epoch 32/500\n",
            "179/179 [==============================] - 2s 13ms/step - loss: 0.0117 - accuracy: 0.9964 - val_loss: 0.0129 - val_accuracy: 0.9961 - epoch_time: 2.2792\n",
            "Epoch 33/500\n",
            "179/179 [==============================] - 2s 13ms/step - loss: 0.0106 - accuracy: 0.9971 - val_loss: 0.0139 - val_accuracy: 0.9968 - epoch_time: 2.2455\n",
            "Epoch 34/500\n",
            "179/179 [==============================] - 2s 13ms/step - loss: 0.0120 - accuracy: 0.9960 - val_loss: 0.0096 - val_accuracy: 0.9972 - epoch_time: 2.1820\n",
            "Epoch 35/500\n",
            "179/179 [==============================] - 2s 14ms/step - loss: 0.0085 - accuracy: 0.9972 - val_loss: 0.0096 - val_accuracy: 0.9972 - epoch_time: 2.2884\n",
            "Epoch 36/500\n",
            "179/179 [==============================] - 2s 14ms/step - loss: 0.0086 - accuracy: 0.9978 - val_loss: 0.0109 - val_accuracy: 0.9968 - epoch_time: 2.3620\n",
            "Epoch 37/500\n",
            "179/179 [==============================] - 2s 14ms/step - loss: 0.0115 - accuracy: 0.9964 - val_loss: 0.0094 - val_accuracy: 0.9968 - epoch_time: 2.3862\n",
            "Epoch 38/500\n",
            "179/179 [==============================] - 2s 14ms/step - loss: 0.0088 - accuracy: 0.9975 - val_loss: 0.0099 - val_accuracy: 0.9972 - epoch_time: 2.3268\n",
            "Epoch 39/500\n",
            "179/179 [==============================] - 2s 14ms/step - loss: 0.0080 - accuracy: 0.9975 - val_loss: 0.0125 - val_accuracy: 0.9968 - epoch_time: 2.3346\n",
            "Epoch 40/500\n",
            "179/179 [==============================] - 3s 16ms/step - loss: 0.0099 - accuracy: 0.9968 - val_loss: 0.0066 - val_accuracy: 0.9988 - epoch_time: 2.3353\n",
            "Epoch 41/500\n",
            "179/179 [==============================] - 2s 13ms/step - loss: 0.0081 - accuracy: 0.9975 - val_loss: 0.0071 - val_accuracy: 0.9984 - epoch_time: 2.3108\n",
            "Epoch 42/500\n",
            "179/179 [==============================] - 2s 14ms/step - loss: 0.0064 - accuracy: 0.9982 - val_loss: 0.0092 - val_accuracy: 0.9976 - epoch_time: 2.3397\n",
            "Epoch 43/500\n",
            "179/179 [==============================] - 2s 13ms/step - loss: 0.0071 - accuracy: 0.9977 - val_loss: 0.0077 - val_accuracy: 0.9976 - epoch_time: 2.2961\n",
            "Epoch 44/500\n",
            "179/179 [==============================] - 2s 14ms/step - loss: 0.0073 - accuracy: 0.9978 - val_loss: 0.0075 - val_accuracy: 0.9972 - epoch_time: 2.3237\n",
            "Epoch 45/500\n",
            "179/179 [==============================] - 2s 14ms/step - loss: 0.0065 - accuracy: 0.9978 - val_loss: 0.0125 - val_accuracy: 0.9968 - epoch_time: 2.3276\n",
            "Epoch 46/500\n",
            "179/179 [==============================] - 2s 14ms/step - loss: 0.0097 - accuracy: 0.9972 - val_loss: 0.0165 - val_accuracy: 0.9949 - epoch_time: 2.3220\n",
            "Epoch 47/500\n",
            "179/179 [==============================] - 2s 14ms/step - loss: 0.0097 - accuracy: 0.9970 - val_loss: 0.0098 - val_accuracy: 0.9980 - epoch_time: 2.3473\n",
            "Epoch 48/500\n",
            "179/179 [==============================] - 2s 13ms/step - loss: 0.0049 - accuracy: 0.9982 - val_loss: 0.0100 - val_accuracy: 0.9968 - epoch_time: 2.3063\n",
            "Epoch 49/500\n",
            "179/179 [==============================] - 2s 14ms/step - loss: 0.0075 - accuracy: 0.9978 - val_loss: 0.0134 - val_accuracy: 0.9972 - epoch_time: 2.3585\n",
            "Epoch 50/500\n",
            "179/179 [==============================] - 2s 14ms/step - loss: 0.0070 - accuracy: 0.9981 - val_loss: 0.0091 - val_accuracy: 0.9972 - epoch_time: 2.3571\n",
            "Epoch 51/500\n",
            "179/179 [==============================] - 2s 14ms/step - loss: 0.0063 - accuracy: 0.9979 - val_loss: 0.0066 - val_accuracy: 0.9972 - epoch_time: 2.3610\n",
            "Epoch 52/500\n",
            "179/179 [==============================] - 2s 13ms/step - loss: 0.0062 - accuracy: 0.9982 - val_loss: 0.0072 - val_accuracy: 0.9980 - epoch_time: 2.2986\n",
            "Epoch 53/500\n",
            "179/179 [==============================] - 2s 13ms/step - loss: 0.0071 - accuracy: 0.9980 - val_loss: 0.0109 - val_accuracy: 0.9968 - epoch_time: 2.2758\n",
            "Epoch 54/500\n",
            "179/179 [==============================] - 2s 13ms/step - loss: 0.0043 - accuracy: 0.9987 - val_loss: 0.0106 - val_accuracy: 0.9964 - epoch_time: 2.2942\n",
            "Epoch 55/500\n",
            "179/179 [==============================] - 2s 14ms/step - loss: 0.0047 - accuracy: 0.9985 - val_loss: 0.0099 - val_accuracy: 0.9976 - epoch_time: 2.3160\n",
            "Epoch 56/500\n",
            "179/179 [==============================] - 2s 13ms/step - loss: 0.0050 - accuracy: 0.9981 - val_loss: 0.0105 - val_accuracy: 0.9961 - epoch_time: 2.2524\n",
            "Epoch 57/500\n",
            "179/179 [==============================] - 2s 13ms/step - loss: 0.0096 - accuracy: 0.9971 - val_loss: 0.0084 - val_accuracy: 0.9988 - epoch_time: 2.3019\n",
            "Epoch 58/500\n",
            "179/179 [==============================] - 2s 14ms/step - loss: 0.0060 - accuracy: 0.9979 - val_loss: 0.0090 - val_accuracy: 0.9988 - epoch_time: 2.3368\n",
            "Epoch 59/500\n",
            "179/179 [==============================] - 2s 13ms/step - loss: 0.0052 - accuracy: 0.9986 - val_loss: 0.0093 - val_accuracy: 0.9980 - epoch_time: 2.3141\n",
            "Epoch 60/500\n",
            "179/179 [==============================] - 2s 14ms/step - loss: 0.0056 - accuracy: 0.9984 - val_loss: 0.0084 - val_accuracy: 0.9976 - epoch_time: 2.3940\n",
            "Epoch 61/500\n",
            "179/179 [==============================] - 2s 14ms/step - loss: 0.0040 - accuracy: 0.9989 - val_loss: 0.0088 - val_accuracy: 0.9976 - epoch_time: 2.3286\n",
            "Epoch 62/500\n",
            "179/179 [==============================] - 3s 14ms/step - loss: 0.0059 - accuracy: 0.9982 - val_loss: 0.0163 - val_accuracy: 0.9972 - epoch_time: 2.4087\n",
            "Epoch 63/500\n",
            "179/179 [==============================] - 2s 14ms/step - loss: 0.0078 - accuracy: 0.9978 - val_loss: 0.0078 - val_accuracy: 0.9988 - epoch_time: 2.3515\n",
            "Epoch 64/500\n",
            "179/179 [==============================] - 2s 13ms/step - loss: 0.0065 - accuracy: 0.9979 - val_loss: 0.0091 - val_accuracy: 0.9984 - epoch_time: 2.2815\n",
            "Epoch 65/500\n",
            "179/179 [==============================] - 2s 14ms/step - loss: 0.0069 - accuracy: 0.9979 - val_loss: 0.0104 - val_accuracy: 0.9968 - epoch_time: 2.3189\n",
            "Epoch 66/500\n",
            "179/179 [==============================] - 2s 14ms/step - loss: 0.0051 - accuracy: 0.9984 - val_loss: 0.0075 - val_accuracy: 0.9972 - epoch_time: 2.3212\n",
            "Epoch 67/500\n",
            "179/179 [==============================] - 2s 13ms/step - loss: 0.0048 - accuracy: 0.9983 - val_loss: 0.0082 - val_accuracy: 0.9980 - epoch_time: 2.2419\n",
            "Epoch 68/500\n",
            "179/179 [==============================] - 2s 13ms/step - loss: 0.0053 - accuracy: 0.9986 - val_loss: 0.0115 - val_accuracy: 0.9976 - epoch_time: 2.2935\n",
            "Epoch 69/500\n",
            "179/179 [==============================] - 2s 13ms/step - loss: 0.0031 - accuracy: 0.9989 - val_loss: 0.0119 - val_accuracy: 0.9980 - epoch_time: 2.2750\n",
            "Epoch 70/500\n",
            "179/179 [==============================] - 2s 13ms/step - loss: 0.0038 - accuracy: 0.9988 - val_loss: 0.0093 - val_accuracy: 0.9972 - epoch_time: 2.2941\n",
            "Epoch 71/500\n",
            "179/179 [==============================] - 2s 13ms/step - loss: 0.0053 - accuracy: 0.9984 - val_loss: 0.0066 - val_accuracy: 0.9988 - epoch_time: 2.3088\n",
            "Epoch 72/500\n",
            "179/179 [==============================] - 2s 14ms/step - loss: 0.0050 - accuracy: 0.9985 - val_loss: 0.0150 - val_accuracy: 0.9964 - epoch_time: 2.3332\n",
            "Epoch 73/500\n",
            "179/179 [==============================] - 2s 13ms/step - loss: 0.0056 - accuracy: 0.9985 - val_loss: 0.0069 - val_accuracy: 0.9976 - epoch_time: 2.3048\n",
            "Epoch 74/500\n",
            "179/179 [==============================] - 2s 13ms/step - loss: 0.0045 - accuracy: 0.9987 - val_loss: 0.0092 - val_accuracy: 0.9972 - epoch_time: 2.2717\n",
            "Epoch 75/500\n",
            "179/179 [==============================] - 2s 14ms/step - loss: 0.0025 - accuracy: 0.9994 - val_loss: 0.0101 - val_accuracy: 0.9980 - epoch_time: 2.3592\n",
            "Epoch 76/500\n",
            "179/179 [==============================] - 2s 14ms/step - loss: 0.0048 - accuracy: 0.9985 - val_loss: 0.0105 - val_accuracy: 0.9984 - epoch_time: 2.3627\n",
            "Epoch 77/500\n",
            "179/179 [==============================] - 2s 14ms/step - loss: 0.0064 - accuracy: 0.9986 - val_loss: 0.0069 - val_accuracy: 0.9984 - epoch_time: 2.3659\n",
            "Epoch 78/500\n",
            "179/179 [==============================] - 2s 13ms/step - loss: 0.0048 - accuracy: 0.9984 - val_loss: 0.0080 - val_accuracy: 0.9984 - epoch_time: 2.3164\n",
            "Epoch 79/500\n",
            "179/179 [==============================] - 2s 13ms/step - loss: 0.0038 - accuracy: 0.9989 - val_loss: 0.0110 - val_accuracy: 0.9984 - epoch_time: 2.3125\n",
            "Epoch 80/500\n",
            "179/179 [==============================] - 2s 14ms/step - loss: 0.0043 - accuracy: 0.9989 - val_loss: 0.0070 - val_accuracy: 0.9988 - epoch_time: 2.3353\n",
            "Epoch 81/500\n",
            "179/179 [==============================] - 3s 16ms/step - loss: 0.0032 - accuracy: 0.9992 - val_loss: 0.0049 - val_accuracy: 0.9988 - epoch_time: 2.3214\n",
            "Epoch 82/500\n",
            "179/179 [==============================] - 2s 14ms/step - loss: 0.0056 - accuracy: 0.9983 - val_loss: 0.0106 - val_accuracy: 0.9980 - epoch_time: 2.3298\n",
            "Epoch 83/500\n",
            "179/179 [==============================] - 2s 13ms/step - loss: 0.0036 - accuracy: 0.9992 - val_loss: 0.0104 - val_accuracy: 0.9980 - epoch_time: 2.3058\n",
            "Epoch 84/500\n",
            "179/179 [==============================] - 3s 14ms/step - loss: 0.0053 - accuracy: 0.9982 - val_loss: 0.0071 - val_accuracy: 0.9980 - epoch_time: 2.4236\n",
            "Epoch 85/500\n",
            "179/179 [==============================] - 2s 14ms/step - loss: 0.0043 - accuracy: 0.9986 - val_loss: 0.0118 - val_accuracy: 0.9968 - epoch_time: 2.3817\n",
            "Epoch 86/500\n",
            "179/179 [==============================] - 2s 14ms/step - loss: 0.0048 - accuracy: 0.9985 - val_loss: 0.0079 - val_accuracy: 0.9980 - epoch_time: 2.3415\n",
            "Epoch 87/500\n",
            "179/179 [==============================] - 2s 14ms/step - loss: 0.0027 - accuracy: 0.9989 - val_loss: 0.0054 - val_accuracy: 0.9980 - epoch_time: 2.3523\n",
            "Epoch 88/500\n",
            "179/179 [==============================] - 3s 14ms/step - loss: 0.0029 - accuracy: 0.9989 - val_loss: 0.0112 - val_accuracy: 0.9984 - epoch_time: 2.3896\n",
            "Epoch 89/500\n",
            "179/179 [==============================] - 2s 13ms/step - loss: 0.0034 - accuracy: 0.9991 - val_loss: 0.0069 - val_accuracy: 0.9984 - epoch_time: 2.3204\n",
            "Epoch 90/500\n",
            "179/179 [==============================] - 2s 14ms/step - loss: 0.0036 - accuracy: 0.9986 - val_loss: 0.0085 - val_accuracy: 0.9988 - epoch_time: 2.3326\n",
            "Epoch 91/500\n",
            "179/179 [==============================] - 2s 13ms/step - loss: 0.0043 - accuracy: 0.9986 - val_loss: 0.0099 - val_accuracy: 0.9972 - epoch_time: 2.3074\n",
            "Epoch 92/500\n",
            "179/179 [==============================] - 2s 14ms/step - loss: 0.0033 - accuracy: 0.9988 - val_loss: 0.0113 - val_accuracy: 0.9980 - epoch_time: 2.3318\n",
            "Epoch 93/500\n",
            "179/179 [==============================] - 2s 13ms/step - loss: 0.0033 - accuracy: 0.9988 - val_loss: 0.0124 - val_accuracy: 0.9980 - epoch_time: 2.3133\n",
            "Epoch 94/500\n",
            "179/179 [==============================] - 2s 13ms/step - loss: 0.0034 - accuracy: 0.9992 - val_loss: 0.0096 - val_accuracy: 0.9988 - epoch_time: 2.3144\n",
            "Epoch 95/500\n",
            "179/179 [==============================] - 2s 14ms/step - loss: 0.0039 - accuracy: 0.9991 - val_loss: 0.0066 - val_accuracy: 0.9976 - epoch_time: 2.3521\n",
            "Epoch 96/500\n",
            "179/179 [==============================] - 2s 14ms/step - loss: 0.0045 - accuracy: 0.9987 - val_loss: 0.0074 - val_accuracy: 0.9984 - epoch_time: 2.3889\n",
            "Epoch 97/500\n",
            "179/179 [==============================] - 2s 14ms/step - loss: 0.0042 - accuracy: 0.9985 - val_loss: 0.0096 - val_accuracy: 0.9984 - epoch_time: 2.3589\n",
            "Epoch 98/500\n",
            "179/179 [==============================] - 2s 14ms/step - loss: 0.0020 - accuracy: 0.9993 - val_loss: 0.0120 - val_accuracy: 0.9976 - epoch_time: 2.3404\n",
            "Epoch 99/500\n",
            "179/179 [==============================] - 2s 14ms/step - loss: 0.0044 - accuracy: 0.9987 - val_loss: 0.0099 - val_accuracy: 0.9961 - epoch_time: 2.3272\n",
            "Epoch 100/500\n",
            "179/179 [==============================] - 3s 15ms/step - loss: 0.0037 - accuracy: 0.9988 - val_loss: 0.0098 - val_accuracy: 0.9988 - epoch_time: 2.6235\n",
            "Epoch 101/500\n",
            "179/179 [==============================] - 3s 18ms/step - loss: 0.0029 - accuracy: 0.9990 - val_loss: 0.0122 - val_accuracy: 0.9972 - epoch_time: 3.1685\n",
            "Epoch 102/500\n",
            "179/179 [==============================] - 3s 14ms/step - loss: 0.0033 - accuracy: 0.9990 - val_loss: 0.0143 - val_accuracy: 0.9964 - epoch_time: 2.4037\n",
            "Epoch 103/500\n",
            "179/179 [==============================] - 2s 14ms/step - loss: 0.0037 - accuracy: 0.9989 - val_loss: 0.0103 - val_accuracy: 0.9976 - epoch_time: 2.3903\n",
            "Epoch 104/500\n",
            "179/179 [==============================] - 2s 14ms/step - loss: 0.0056 - accuracy: 0.9986 - val_loss: 0.0078 - val_accuracy: 0.9976 - epoch_time: 2.3313\n",
            "Epoch 105/500\n",
            "179/179 [==============================] - 2s 14ms/step - loss: 0.0038 - accuracy: 0.9987 - val_loss: 0.0105 - val_accuracy: 0.9980 - epoch_time: 2.3341\n",
            "Epoch 106/500\n",
            "179/179 [==============================] - 2s 14ms/step - loss: 0.0016 - accuracy: 0.9994 - val_loss: 0.0087 - val_accuracy: 0.9988 - epoch_time: 2.3571\n",
            "Epoch 107/500\n",
            "179/179 [==============================] - 2s 14ms/step - loss: 0.0044 - accuracy: 0.9986 - val_loss: 0.0150 - val_accuracy: 0.9980 - epoch_time: 2.3985\n",
            "Epoch 108/500\n",
            "179/179 [==============================] - 3s 15ms/step - loss: 0.0029 - accuracy: 0.9992 - val_loss: 0.0115 - val_accuracy: 0.9980 - epoch_time: 2.5032\n",
            "Epoch 109/500\n",
            "179/179 [==============================] - 2s 14ms/step - loss: 0.0028 - accuracy: 0.9991 - val_loss: 0.0140 - val_accuracy: 0.9976 - epoch_time: 2.3463\n",
            "Epoch 110/500\n",
            "179/179 [==============================] - 2s 14ms/step - loss: 0.0030 - accuracy: 0.9990 - val_loss: 0.0098 - val_accuracy: 0.9980 - epoch_time: 2.4004\n",
            "Epoch 111/500\n",
            "179/179 [==============================] - 2s 14ms/step - loss: 0.0063 - accuracy: 0.9985 - val_loss: 0.0137 - val_accuracy: 0.9972 - epoch_time: 2.3370\n",
            "Epoch 112/500\n",
            "179/179 [==============================] - 2s 14ms/step - loss: 0.0044 - accuracy: 0.9989 - val_loss: 0.0077 - val_accuracy: 0.9984 - epoch_time: 2.3429\n",
            "Epoch 113/500\n",
            "179/179 [==============================] - 2s 13ms/step - loss: 0.0030 - accuracy: 0.9989 - val_loss: 0.0113 - val_accuracy: 0.9980 - epoch_time: 2.3177\n",
            "Epoch 114/500\n",
            "179/179 [==============================] - 2s 14ms/step - loss: 0.0067 - accuracy: 0.9982 - val_loss: 0.0104 - val_accuracy: 0.9968 - epoch_time: 2.3641\n",
            "Epoch 115/500\n",
            "179/179 [==============================] - 2s 14ms/step - loss: 0.0037 - accuracy: 0.9990 - val_loss: 0.0064 - val_accuracy: 0.9988 - epoch_time: 2.3435\n",
            "Epoch 116/500\n",
            "179/179 [==============================] - 2s 14ms/step - loss: 0.0037 - accuracy: 0.9994 - val_loss: 0.0084 - val_accuracy: 0.9980 - epoch_time: 2.3495\n",
            "Epoch 117/500\n",
            "179/179 [==============================] - 2s 14ms/step - loss: 0.0032 - accuracy: 0.9990 - val_loss: 0.0147 - val_accuracy: 0.9976 - epoch_time: 2.3685\n",
            "Epoch 118/500\n",
            "179/179 [==============================] - 2s 14ms/step - loss: 0.0033 - accuracy: 0.9991 - val_loss: 0.0122 - val_accuracy: 0.9980 - epoch_time: 2.3661\n",
            "Epoch 119/500\n",
            "179/179 [==============================] - 2s 14ms/step - loss: 0.0029 - accuracy: 0.9992 - val_loss: 0.0087 - val_accuracy: 0.9972 - epoch_time: 2.3172\n",
            "Epoch 120/500\n",
            "179/179 [==============================] - 3s 14ms/step - loss: 0.0022 - accuracy: 0.9993 - val_loss: 0.0136 - val_accuracy: 0.9976 - epoch_time: 2.4082\n",
            "Epoch 121/500\n",
            "179/179 [==============================] - 2s 13ms/step - loss: 0.0033 - accuracy: 0.9992 - val_loss: 0.0076 - val_accuracy: 0.9972 - epoch_time: 2.2958\n",
            "Epoch 122/500\n",
            "179/179 [==============================] - 2s 14ms/step - loss: 0.0033 - accuracy: 0.9992 - val_loss: 0.0175 - val_accuracy: 0.9968 - epoch_time: 2.3339\n",
            "Epoch 123/500\n",
            "179/179 [==============================] - 2s 14ms/step - loss: 0.0031 - accuracy: 0.9990 - val_loss: 0.0144 - val_accuracy: 0.9972 - epoch_time: 2.3429\n",
            "Epoch 124/500\n",
            "179/179 [==============================] - 2s 14ms/step - loss: 0.0031 - accuracy: 0.9991 - val_loss: 0.0151 - val_accuracy: 0.9972 - epoch_time: 2.3580\n",
            "Epoch 125/500\n",
            "179/179 [==============================] - 2s 14ms/step - loss: 0.0025 - accuracy: 0.9993 - val_loss: 0.0112 - val_accuracy: 0.9980 - epoch_time: 2.3964\n",
            "Epoch 126/500\n",
            "179/179 [==============================] - 3s 14ms/step - loss: 0.0040 - accuracy: 0.9989 - val_loss: 0.0084 - val_accuracy: 0.9988 - epoch_time: 2.4166\n",
            "Epoch 127/500\n",
            "179/179 [==============================] - 2s 14ms/step - loss: 0.0026 - accuracy: 0.9993 - val_loss: 0.0103 - val_accuracy: 0.9976 - epoch_time: 2.3520\n",
            "Epoch 128/500\n",
            "179/179 [==============================] - 2s 14ms/step - loss: 0.0031 - accuracy: 0.9990 - val_loss: 0.0113 - val_accuracy: 0.9980 - epoch_time: 2.3709\n",
            "Epoch 129/500\n",
            "179/179 [==============================] - 2s 14ms/step - loss: 0.0031 - accuracy: 0.9990 - val_loss: 0.0105 - val_accuracy: 0.9980 - epoch_time: 2.3423\n",
            "Epoch 130/500\n",
            "179/179 [==============================] - 2s 14ms/step - loss: 0.0030 - accuracy: 0.9990 - val_loss: 0.0094 - val_accuracy: 0.9980 - epoch_time: 2.3325\n",
            "Epoch 131/500\n",
            "179/179 [==============================] - 3s 14ms/step - loss: 0.0039 - accuracy: 0.9990 - val_loss: 0.0065 - val_accuracy: 0.9984 - epoch_time: 2.4041\n",
            "Epoch 132/500\n",
            "179/179 [==============================] - 3s 14ms/step - loss: 0.0040 - accuracy: 0.9989 - val_loss: 0.0107 - val_accuracy: 0.9984 - epoch_time: 2.3978\n",
            "Epoch 133/500\n",
            "179/179 [==============================] - 3s 14ms/step - loss: 0.0029 - accuracy: 0.9992 - val_loss: 0.0117 - val_accuracy: 0.9980 - epoch_time: 2.4334\n",
            "Epoch 134/500\n",
            "179/179 [==============================] - 2s 14ms/step - loss: 0.0023 - accuracy: 0.9993 - val_loss: 0.0079 - val_accuracy: 0.9984 - epoch_time: 2.3482\n",
            "Epoch 135/500\n",
            "179/179 [==============================] - 2s 14ms/step - loss: 0.0028 - accuracy: 0.9993 - val_loss: 0.0089 - val_accuracy: 0.9980 - epoch_time: 2.3455\n",
            "Epoch 136/500\n",
            "179/179 [==============================] - 2s 13ms/step - loss: 0.0025 - accuracy: 0.9994 - val_loss: 0.0095 - val_accuracy: 0.9980 - epoch_time: 2.2892\n",
            "Epoch 137/500\n",
            "179/179 [==============================] - 2s 14ms/step - loss: 0.0029 - accuracy: 0.9992 - val_loss: 0.0079 - val_accuracy: 0.9980 - epoch_time: 2.3308\n",
            "Epoch 138/500\n",
            "179/179 [==============================] - 2s 14ms/step - loss: 0.0016 - accuracy: 0.9995 - val_loss: 0.0146 - val_accuracy: 0.9980 - epoch_time: 2.3621\n",
            "Epoch 139/500\n",
            "179/179 [==============================] - 2s 14ms/step - loss: 0.0030 - accuracy: 0.9992 - val_loss: 0.0153 - val_accuracy: 0.9980 - epoch_time: 2.3372\n",
            "Epoch 140/500\n",
            "179/179 [==============================] - 3s 14ms/step - loss: 0.0031 - accuracy: 0.9991 - val_loss: 0.0114 - val_accuracy: 0.9980 - epoch_time: 2.4007\n"
          ]
        }
      ]
    },
    {
      "cell_type": "code",
      "source": [
        "print(model_sensor1.summary())"
      ],
      "metadata": {
        "colab": {
          "base_uri": "https://localhost:8080/"
        },
        "id": "sgiNWkr6oVcq",
        "outputId": "cb5ba09a-eb2b-4493-c03b-7688865a9580"
      },
      "execution_count": null,
      "outputs": [
        {
          "output_type": "stream",
          "name": "stdout",
          "text": [
            "Model: \"sequential\"\n",
            "_________________________________________________________________\n",
            " Layer (type)                Output Shape              Param #   \n",
            "=================================================================\n",
            " conv1d (Conv1D)             (None, 10, 40)            400       \n",
            "                                                                 \n",
            " dropout (Dropout)           (None, 10, 40)            0         \n",
            "                                                                 \n",
            " conv1d_1 (Conv1D)           (None, 10, 60)            7260      \n",
            "                                                                 \n",
            " dropout_1 (Dropout)         (None, 10, 60)            0         \n",
            "                                                                 \n",
            " conv1d_2 (Conv1D)           (None, 10, 60)            10860     \n",
            "                                                                 \n",
            " dropout_2 (Dropout)         (None, 10, 60)            0         \n",
            "                                                                 \n",
            " global_max_pooling1d (Globa  (None, 60)               0         \n",
            " lMaxPooling1D)                                                  \n",
            "                                                                 \n",
            " repeat_vector (RepeatVector  (None, 10, 60)           0         \n",
            " )                                                               \n",
            "                                                                 \n",
            " lstm (LSTM)                 (None, 10, 256)           324608    \n",
            "                                                                 \n",
            " dropout_3 (Dropout)         (None, 10, 256)           0         \n",
            "                                                                 \n",
            " lstm_1 (LSTM)               (None, 10, 128)           197120    \n",
            "                                                                 \n",
            " dropout_4 (Dropout)         (None, 10, 128)           0         \n",
            "                                                                 \n",
            " lstm_2 (LSTM)               (None, 64)                49408     \n",
            "                                                                 \n",
            " dropout_5 (Dropout)         (None, 64)                0         \n",
            "                                                                 \n",
            " dense (Dense)               (None, 32)                2080      \n",
            "                                                                 \n",
            " dense_1 (Dense)             (None, 16)                528       \n",
            "                                                                 \n",
            " dense_2 (Dense)             (None, 2)                 34        \n",
            "                                                                 \n",
            "=================================================================\n",
            "Total params: 592,298\n",
            "Trainable params: 592,298\n",
            "Non-trainable params: 0\n",
            "_________________________________________________________________\n",
            "None\n"
          ]
        }
      ]
    },
    {
      "cell_type": "code",
      "source": [
        "plot_model(model= model_sensor1, show_shapes= True, dpi=50)"
      ],
      "metadata": {
        "colab": {
          "base_uri": "https://localhost:8080/",
          "height": 1000
        },
        "id": "rWZpn8SyoZo6",
        "outputId": "e10b3c5c-a6e8-4391-afb6-d55b436093b2"
      },
      "execution_count": null,
      "outputs": [
        {
          "output_type": "execute_result",
          "data": {
            "image/png": "[encoded data removed]",
            "text/plain": [
              "<IPython.core.display.Image object>"
            ]
          },
          "metadata": {},
          "execution_count": 52
        }
      ]
    },
    {
      "cell_type": "code",
      "metadata": {
        "colab": {
          "base_uri": "https://localhost:8080/"
        },
        "id": "8f2f6m1IAR7A",
        "outputId": "a154d983-24ec-4f2a-b8d9-33699d62747f"
      },
      "source": [
        "sensor = \"sensor2\"\n",
        "time_callback = TimeHistory()\n",
        "model_sensor2 = creatModel()\n",
        "model_save, checkpoint, history_cb, Estop = setCallbacks(\"sensor2\")\n",
        "history_sensor2 = model_sensor2.fit(X_train_sensor2, y_train_sensor2,\n",
        "                                    batch_size = 128, epochs = 500,\n",
        "                                    validation_split = 0.1,\n",
        "                                    verbose = 1,\n",
        "                                    callbacks = [time_callback, model_save, checkpoint, history_cb, Estop])\n",
        "                                    # class_weight= class_weights)#"
      ],
      "execution_count": null,
      "outputs": [
        {
          "output_type": "stream",
          "name": "stdout",
          "text": [
            "Epoch 1/500\n",
            "179/179 [==============================] - 9s 20ms/step - loss: 0.2218 - accuracy: 0.9311 - val_loss: 0.1071 - val_accuracy: 0.9743 - epoch_time: 8.8864\n",
            "Epoch 2/500\n",
            "179/179 [==============================] - 2s 14ms/step - loss: 0.1083 - accuracy: 0.9747 - val_loss: 0.0979 - val_accuracy: 0.9763 - epoch_time: 2.2551\n",
            "Epoch 3/500\n",
            "179/179 [==============================] - 2s 14ms/step - loss: 0.0908 - accuracy: 0.9783 - val_loss: 0.0807 - val_accuracy: 0.9783 - epoch_time: 2.2545\n",
            "Epoch 4/500\n",
            "179/179 [==============================] - 2s 14ms/step - loss: 0.0809 - accuracy: 0.9796 - val_loss: 0.0747 - val_accuracy: 0.9783 - epoch_time: 2.2478\n",
            "Epoch 5/500\n",
            "179/179 [==============================] - 2s 13ms/step - loss: 0.0738 - accuracy: 0.9809 - val_loss: 0.0748 - val_accuracy: 0.9806 - epoch_time: 2.2457\n",
            "Epoch 6/500\n",
            "179/179 [==============================] - 2s 14ms/step - loss: 0.0692 - accuracy: 0.9820 - val_loss: 0.0660 - val_accuracy: 0.9803 - epoch_time: 2.2776\n",
            "Epoch 7/500\n",
            "179/179 [==============================] - 2s 14ms/step - loss: 0.0662 - accuracy: 0.9821 - val_loss: 0.0618 - val_accuracy: 0.9818 - epoch_time: 2.2485\n",
            "Epoch 8/500\n",
            "179/179 [==============================] - 2s 14ms/step - loss: 0.0618 - accuracy: 0.9837 - val_loss: 0.0573 - val_accuracy: 0.9822 - epoch_time: 2.2580\n",
            "Epoch 9/500\n",
            "179/179 [==============================] - 2s 13ms/step - loss: 0.0623 - accuracy: 0.9839 - val_loss: 0.0606 - val_accuracy: 0.9826 - epoch_time: 2.2345\n",
            "Epoch 10/500\n",
            "179/179 [==============================] - 2s 13ms/step - loss: 0.0571 - accuracy: 0.9845 - val_loss: 0.0542 - val_accuracy: 0.9838 - epoch_time: 2.1558\n",
            "Epoch 11/500\n",
            "179/179 [==============================] - 2s 13ms/step - loss: 0.0551 - accuracy: 0.9848 - val_loss: 0.0493 - val_accuracy: 0.9846 - epoch_time: 2.2037\n",
            "Epoch 12/500\n",
            "179/179 [==============================] - 2s 13ms/step - loss: 0.0527 - accuracy: 0.9850 - val_loss: 0.0521 - val_accuracy: 0.9846 - epoch_time: 2.2631\n",
            "Epoch 13/500\n",
            "179/179 [==============================] - 2s 13ms/step - loss: 0.0526 - accuracy: 0.9850 - val_loss: 0.0611 - val_accuracy: 0.9826 - epoch_time: 2.1885\n",
            "Epoch 14/500\n",
            "179/179 [==============================] - 2s 14ms/step - loss: 0.0577 - accuracy: 0.9849 - val_loss: 0.0532 - val_accuracy: 0.9862 - epoch_time: 2.3216\n",
            "Epoch 15/500\n",
            "179/179 [==============================] - 3s 15ms/step - loss: 0.0488 - accuracy: 0.9862 - val_loss: 0.0453 - val_accuracy: 0.9862 - epoch_time: 2.2334\n",
            "Epoch 16/500\n",
            "179/179 [==============================] - 2s 13ms/step - loss: 0.0481 - accuracy: 0.9864 - val_loss: 0.0484 - val_accuracy: 0.9850 - epoch_time: 2.2434\n",
            "Epoch 17/500\n",
            "179/179 [==============================] - 2s 13ms/step - loss: 0.0430 - accuracy: 0.9884 - val_loss: 0.0369 - val_accuracy: 0.9909 - epoch_time: 2.1918\n",
            "Epoch 18/500\n",
            "179/179 [==============================] - 2s 13ms/step - loss: 0.0436 - accuracy: 0.9878 - val_loss: 0.0546 - val_accuracy: 0.9830 - epoch_time: 2.1900\n",
            "Epoch 19/500\n",
            "179/179 [==============================] - 2s 13ms/step - loss: 0.0408 - accuracy: 0.9887 - val_loss: 0.0327 - val_accuracy: 0.9901 - epoch_time: 2.1640\n",
            "Epoch 20/500\n",
            "179/179 [==============================] - 2s 13ms/step - loss: 0.0370 - accuracy: 0.9892 - val_loss: 0.0378 - val_accuracy: 0.9885 - epoch_time: 2.2078\n",
            "Epoch 21/500\n",
            "179/179 [==============================] - 2s 13ms/step - loss: 0.0373 - accuracy: 0.9886 - val_loss: 0.0297 - val_accuracy: 0.9929 - epoch_time: 2.1789\n",
            "Epoch 22/500\n",
            "179/179 [==============================] - 2s 13ms/step - loss: 0.0340 - accuracy: 0.9902 - val_loss: 0.0311 - val_accuracy: 0.9921 - epoch_time: 2.1942\n",
            "Epoch 23/500\n",
            "179/179 [==============================] - 2s 13ms/step - loss: 0.0322 - accuracy: 0.9908 - val_loss: 0.0267 - val_accuracy: 0.9913 - epoch_time: 2.1897\n",
            "Epoch 24/500\n",
            "179/179 [==============================] - 2s 13ms/step - loss: 0.0289 - accuracy: 0.9916 - val_loss: 0.0279 - val_accuracy: 0.9925 - epoch_time: 2.1793\n",
            "Epoch 25/500\n",
            "179/179 [==============================] - 2s 14ms/step - loss: 0.0275 - accuracy: 0.9921 - val_loss: 0.0264 - val_accuracy: 0.9929 - epoch_time: 2.2072\n",
            "Epoch 26/500\n",
            "179/179 [==============================] - 2s 13ms/step - loss: 0.0280 - accuracy: 0.9919 - val_loss: 0.0286 - val_accuracy: 0.9917 - epoch_time: 2.1751\n",
            "Epoch 27/500\n",
            "179/179 [==============================] - 2s 13ms/step - loss: 0.0257 - accuracy: 0.9927 - val_loss: 0.0252 - val_accuracy: 0.9937 - epoch_time: 2.2017\n",
            "Epoch 28/500\n",
            "179/179 [==============================] - 2s 13ms/step - loss: 0.0253 - accuracy: 0.9922 - val_loss: 0.0277 - val_accuracy: 0.9913 - epoch_time: 2.2368\n",
            "Epoch 29/500\n",
            "179/179 [==============================] - 2s 13ms/step - loss: 0.0232 - accuracy: 0.9928 - val_loss: 0.0253 - val_accuracy: 0.9917 - epoch_time: 2.2203\n",
            "Epoch 30/500\n",
            "179/179 [==============================] - 2s 13ms/step - loss: 0.0207 - accuracy: 0.9939 - val_loss: 0.0375 - val_accuracy: 0.9901 - epoch_time: 2.2335\n",
            "Epoch 31/500\n",
            "179/179 [==============================] - 3s 15ms/step - loss: 0.0225 - accuracy: 0.9933 - val_loss: 0.0231 - val_accuracy: 0.9933 - epoch_time: 2.2314\n",
            "Epoch 32/500\n",
            "179/179 [==============================] - 2s 13ms/step - loss: 0.0229 - accuracy: 0.9932 - val_loss: 0.0208 - val_accuracy: 0.9941 - epoch_time: 2.1791\n",
            "Epoch 33/500\n",
            "179/179 [==============================] - 2s 13ms/step - loss: 0.0187 - accuracy: 0.9943 - val_loss: 0.0254 - val_accuracy: 0.9933 - epoch_time: 2.1968\n",
            "Epoch 34/500\n",
            "179/179 [==============================] - 2s 13ms/step - loss: 0.0211 - accuracy: 0.9938 - val_loss: 0.0251 - val_accuracy: 0.9925 - epoch_time: 2.1887\n",
            "Epoch 35/500\n",
            "179/179 [==============================] - 2s 13ms/step - loss: 0.0199 - accuracy: 0.9942 - val_loss: 0.0368 - val_accuracy: 0.9905 - epoch_time: 2.2675\n",
            "Epoch 36/500\n",
            "179/179 [==============================] - 3s 15ms/step - loss: 0.0185 - accuracy: 0.9941 - val_loss: 0.0202 - val_accuracy: 0.9941 - epoch_time: 2.2031\n",
            "Epoch 37/500\n",
            "179/179 [==============================] - 2s 13ms/step - loss: 0.0188 - accuracy: 0.9936 - val_loss: 0.0219 - val_accuracy: 0.9929 - epoch_time: 2.1976\n",
            "Epoch 38/500\n",
            "179/179 [==============================] - 2s 13ms/step - loss: 0.0173 - accuracy: 0.9947 - val_loss: 0.0183 - val_accuracy: 0.9933 - epoch_time: 2.1926\n",
            "Epoch 39/500\n",
            "179/179 [==============================] - 2s 14ms/step - loss: 0.0163 - accuracy: 0.9954 - val_loss: 0.0221 - val_accuracy: 0.9937 - epoch_time: 2.3308\n",
            "Epoch 40/500\n",
            "179/179 [==============================] - 2s 14ms/step - loss: 0.0158 - accuracy: 0.9945 - val_loss: 0.0162 - val_accuracy: 0.9957 - epoch_time: 2.2785\n",
            "Epoch 41/500\n",
            "179/179 [==============================] - 2s 13ms/step - loss: 0.0161 - accuracy: 0.9952 - val_loss: 0.0182 - val_accuracy: 0.9961 - epoch_time: 2.2168\n",
            "Epoch 42/500\n",
            "179/179 [==============================] - 2s 13ms/step - loss: 0.0135 - accuracy: 0.9959 - val_loss: 0.0173 - val_accuracy: 0.9949 - epoch_time: 2.2582\n",
            "Epoch 43/500\n",
            "179/179 [==============================] - 2s 13ms/step - loss: 0.0161 - accuracy: 0.9951 - val_loss: 0.0171 - val_accuracy: 0.9957 - epoch_time: 2.2624\n",
            "Epoch 44/500\n",
            "179/179 [==============================] - 3s 15ms/step - loss: 0.0156 - accuracy: 0.9954 - val_loss: 0.0159 - val_accuracy: 0.9972 - epoch_time: 2.2120\n",
            "Epoch 45/500\n",
            "179/179 [==============================] - 2s 13ms/step - loss: 0.0136 - accuracy: 0.9958 - val_loss: 0.0222 - val_accuracy: 0.9961 - epoch_time: 2.3066\n",
            "Epoch 46/500\n",
            "179/179 [==============================] - 2s 13ms/step - loss: 0.0141 - accuracy: 0.9956 - val_loss: 0.0204 - val_accuracy: 0.9941 - epoch_time: 2.1882\n",
            "Epoch 47/500\n",
            "179/179 [==============================] - 2s 13ms/step - loss: 0.0150 - accuracy: 0.9954 - val_loss: 0.0252 - val_accuracy: 0.9933 - epoch_time: 2.2324\n",
            "Epoch 48/500\n",
            "179/179 [==============================] - 2s 13ms/step - loss: 0.0170 - accuracy: 0.9951 - val_loss: 0.0206 - val_accuracy: 0.9937 - epoch_time: 2.2348\n",
            "Epoch 49/500\n",
            "179/179 [==============================] - 2s 13ms/step - loss: 0.0129 - accuracy: 0.9961 - val_loss: 0.0193 - val_accuracy: 0.9949 - epoch_time: 2.2781\n",
            "Epoch 50/500\n",
            "179/179 [==============================] - 2s 13ms/step - loss: 0.0128 - accuracy: 0.9960 - val_loss: 0.0249 - val_accuracy: 0.9941 - epoch_time: 2.3041\n",
            "Epoch 51/500\n",
            "179/179 [==============================] - 3s 19ms/step - loss: 0.0135 - accuracy: 0.9958 - val_loss: 0.0267 - val_accuracy: 0.9949 - epoch_time: 3.2173\n",
            "Epoch 52/500\n",
            "179/179 [==============================] - 2s 13ms/step - loss: 0.0130 - accuracy: 0.9958 - val_loss: 0.0171 - val_accuracy: 0.9957 - epoch_time: 2.2803\n",
            "Epoch 53/500\n",
            "179/179 [==============================] - 2s 13ms/step - loss: 0.0144 - accuracy: 0.9953 - val_loss: 0.0207 - val_accuracy: 0.9941 - epoch_time: 2.2589\n",
            "Epoch 54/500\n",
            "179/179 [==============================] - 2s 13ms/step - loss: 0.0124 - accuracy: 0.9960 - val_loss: 0.0181 - val_accuracy: 0.9949 - epoch_time: 2.2397\n",
            "Epoch 55/500\n",
            "179/179 [==============================] - 2s 13ms/step - loss: 0.0132 - accuracy: 0.9963 - val_loss: 0.0204 - val_accuracy: 0.9949 - epoch_time: 2.2298\n",
            "Epoch 56/500\n",
            "179/179 [==============================] - 2s 13ms/step - loss: 0.0121 - accuracy: 0.9967 - val_loss: 0.0214 - val_accuracy: 0.9953 - epoch_time: 2.1784\n",
            "Epoch 57/500\n",
            "179/179 [==============================] - 2s 13ms/step - loss: 0.0131 - accuracy: 0.9954 - val_loss: 0.0201 - val_accuracy: 0.9945 - epoch_time: 2.2905\n",
            "Epoch 58/500\n",
            "179/179 [==============================] - 2s 14ms/step - loss: 0.0119 - accuracy: 0.9965 - val_loss: 0.0220 - val_accuracy: 0.9925 - epoch_time: 2.3711\n",
            "Epoch 59/500\n",
            "179/179 [==============================] - 2s 13ms/step - loss: 0.0127 - accuracy: 0.9957 - val_loss: 0.0180 - val_accuracy: 0.9945 - epoch_time: 2.2108\n",
            "Epoch 60/500\n",
            "179/179 [==============================] - 2s 13ms/step - loss: 0.0117 - accuracy: 0.9964 - val_loss: 0.0180 - val_accuracy: 0.9941 - epoch_time: 2.2563\n",
            "Epoch 61/500\n",
            "179/179 [==============================] - 2s 13ms/step - loss: 0.0110 - accuracy: 0.9965 - val_loss: 0.0209 - val_accuracy: 0.9937 - epoch_time: 2.2952\n",
            "Epoch 62/500\n",
            "179/179 [==============================] - 3s 15ms/step - loss: 0.0118 - accuracy: 0.9958 - val_loss: 0.0123 - val_accuracy: 0.9964 - epoch_time: 2.2328\n",
            "Epoch 63/500\n",
            "179/179 [==============================] - 2s 13ms/step - loss: 0.0103 - accuracy: 0.9970 - val_loss: 0.0238 - val_accuracy: 0.9945 - epoch_time: 2.3009\n",
            "Epoch 64/500\n",
            "179/179 [==============================] - 2s 14ms/step - loss: 0.0093 - accuracy: 0.9971 - val_loss: 0.0149 - val_accuracy: 0.9968 - epoch_time: 2.3787\n",
            "Epoch 65/500\n",
            "179/179 [==============================] - 2s 13ms/step - loss: 0.0094 - accuracy: 0.9970 - val_loss: 0.0144 - val_accuracy: 0.9953 - epoch_time: 2.2286\n",
            "Epoch 66/500\n",
            "179/179 [==============================] - 2s 13ms/step - loss: 0.0156 - accuracy: 0.9950 - val_loss: 0.0158 - val_accuracy: 0.9953 - epoch_time: 2.3091\n",
            "Epoch 67/500\n",
            "179/179 [==============================] - 2s 13ms/step - loss: 0.0098 - accuracy: 0.9968 - val_loss: 0.0176 - val_accuracy: 0.9964 - epoch_time: 2.2439\n",
            "Epoch 68/500\n",
            "179/179 [==============================] - 2s 13ms/step - loss: 0.0118 - accuracy: 0.9963 - val_loss: 0.0177 - val_accuracy: 0.9964 - epoch_time: 2.1749\n",
            "Epoch 69/500\n",
            "179/179 [==============================] - 2s 13ms/step - loss: 0.0111 - accuracy: 0.9966 - val_loss: 0.0150 - val_accuracy: 0.9964 - epoch_time: 2.2382\n",
            "Epoch 70/500\n",
            "179/179 [==============================] - 2s 13ms/step - loss: 0.0103 - accuracy: 0.9968 - val_loss: 0.0249 - val_accuracy: 0.9937 - epoch_time: 2.2468\n",
            "Epoch 71/500\n",
            "179/179 [==============================] - 2s 13ms/step - loss: 0.0088 - accuracy: 0.9973 - val_loss: 0.0174 - val_accuracy: 0.9964 - epoch_time: 2.2042\n",
            "Epoch 72/500\n",
            "179/179 [==============================] - 2s 13ms/step - loss: 0.0088 - accuracy: 0.9972 - val_loss: 0.0152 - val_accuracy: 0.9961 - epoch_time: 2.2125\n",
            "Epoch 73/500\n",
            "179/179 [==============================] - 2s 13ms/step - loss: 0.0105 - accuracy: 0.9964 - val_loss: 0.0148 - val_accuracy: 0.9964 - epoch_time: 2.2237\n",
            "Epoch 74/500\n",
            "179/179 [==============================] - 2s 13ms/step - loss: 0.0096 - accuracy: 0.9969 - val_loss: 0.0150 - val_accuracy: 0.9957 - epoch_time: 2.2849\n",
            "Epoch 75/500\n",
            "179/179 [==============================] - 2s 13ms/step - loss: 0.0082 - accuracy: 0.9976 - val_loss: 0.0186 - val_accuracy: 0.9957 - epoch_time: 2.2158\n",
            "Epoch 76/500\n",
            "179/179 [==============================] - 2s 13ms/step - loss: 0.0091 - accuracy: 0.9968 - val_loss: 0.0162 - val_accuracy: 0.9953 - epoch_time: 2.2887\n",
            "Epoch 77/500\n",
            "179/179 [==============================] - 2s 13ms/step - loss: 0.0076 - accuracy: 0.9972 - val_loss: 0.0192 - val_accuracy: 0.9964 - epoch_time: 2.2177\n",
            "Epoch 78/500\n",
            "179/179 [==============================] - 2s 13ms/step - loss: 0.0095 - accuracy: 0.9967 - val_loss: 0.0129 - val_accuracy: 0.9961 - epoch_time: 2.2060\n",
            "Epoch 79/500\n",
            "179/179 [==============================] - 2s 13ms/step - loss: 0.0080 - accuracy: 0.9970 - val_loss: 0.0146 - val_accuracy: 0.9953 - epoch_time: 2.2464\n",
            "Epoch 80/500\n",
            "179/179 [==============================] - 2s 13ms/step - loss: 0.0082 - accuracy: 0.9969 - val_loss: 0.0171 - val_accuracy: 0.9964 - epoch_time: 2.2496\n",
            "Epoch 81/500\n",
            "179/179 [==============================] - 2s 13ms/step - loss: 0.0099 - accuracy: 0.9969 - val_loss: 0.0156 - val_accuracy: 0.9957 - epoch_time: 2.3003\n",
            "Epoch 82/500\n",
            "179/179 [==============================] - 2s 13ms/step - loss: 0.0102 - accuracy: 0.9974 - val_loss: 0.0150 - val_accuracy: 0.9953 - epoch_time: 2.2899\n",
            "Epoch 83/500\n",
            "179/179 [==============================] - 2s 13ms/step - loss: 0.0096 - accuracy: 0.9966 - val_loss: 0.0170 - val_accuracy: 0.9961 - epoch_time: 2.3053\n",
            "Epoch 84/500\n",
            "179/179 [==============================] - 2s 13ms/step - loss: 0.0070 - accuracy: 0.9975 - val_loss: 0.0157 - val_accuracy: 0.9964 - epoch_time: 2.2469\n",
            "Epoch 85/500\n",
            "179/179 [==============================] - 2s 13ms/step - loss: 0.0089 - accuracy: 0.9966 - val_loss: 0.0219 - val_accuracy: 0.9968 - epoch_time: 2.1985\n",
            "Epoch 86/500\n",
            "179/179 [==============================] - 2s 13ms/step - loss: 0.0073 - accuracy: 0.9976 - val_loss: 0.0229 - val_accuracy: 0.9961 - epoch_time: 2.2496\n",
            "Epoch 87/500\n",
            "179/179 [==============================] - 2s 13ms/step - loss: 0.0089 - accuracy: 0.9978 - val_loss: 0.0135 - val_accuracy: 0.9961 - epoch_time: 2.3010\n",
            "Epoch 88/500\n",
            "179/179 [==============================] - 2s 13ms/step - loss: 0.0081 - accuracy: 0.9978 - val_loss: 0.0182 - val_accuracy: 0.9953 - epoch_time: 2.2613\n",
            "Epoch 89/500\n",
            "179/179 [==============================] - 3s 14ms/step - loss: 0.0094 - accuracy: 0.9970 - val_loss: 0.0172 - val_accuracy: 0.9953 - epoch_time: 2.4632\n",
            "Epoch 90/500\n",
            "179/179 [==============================] - 2s 13ms/step - loss: 0.0118 - accuracy: 0.9971 - val_loss: 0.0201 - val_accuracy: 0.9953 - epoch_time: 2.3035\n",
            "Epoch 91/500\n",
            "179/179 [==============================] - 2s 14ms/step - loss: 0.0111 - accuracy: 0.9964 - val_loss: 0.0190 - val_accuracy: 0.9941 - epoch_time: 2.3248\n",
            "Epoch 92/500\n",
            "179/179 [==============================] - 2s 14ms/step - loss: 0.0095 - accuracy: 0.9965 - val_loss: 0.0176 - val_accuracy: 0.9957 - epoch_time: 2.3294\n",
            "Epoch 93/500\n",
            "179/179 [==============================] - 2s 13ms/step - loss: 0.0080 - accuracy: 0.9977 - val_loss: 0.0197 - val_accuracy: 0.9949 - epoch_time: 2.3125\n",
            "Epoch 94/500\n",
            "179/179 [==============================] - 2s 13ms/step - loss: 0.0064 - accuracy: 0.9978 - val_loss: 0.0227 - val_accuracy: 0.9957 - epoch_time: 2.2740\n",
            "Epoch 95/500\n",
            "179/179 [==============================] - 2s 14ms/step - loss: 0.0077 - accuracy: 0.9975 - val_loss: 0.0131 - val_accuracy: 0.9968 - epoch_time: 2.3885\n",
            "Epoch 96/500\n",
            "179/179 [==============================] - 2s 14ms/step - loss: 0.0074 - accuracy: 0.9976 - val_loss: 0.0156 - val_accuracy: 0.9961 - epoch_time: 2.3335\n",
            "Epoch 97/500\n",
            "179/179 [==============================] - 3s 14ms/step - loss: 0.0072 - accuracy: 0.9978 - val_loss: 0.0157 - val_accuracy: 0.9945 - epoch_time: 2.4076\n",
            "Epoch 98/500\n",
            "179/179 [==============================] - 2s 13ms/step - loss: 0.0076 - accuracy: 0.9980 - val_loss: 0.0143 - val_accuracy: 0.9961 - epoch_time: 2.3076\n",
            "Epoch 99/500\n",
            "179/179 [==============================] - 2s 13ms/step - loss: 0.0068 - accuracy: 0.9981 - val_loss: 0.0189 - val_accuracy: 0.9953 - epoch_time: 2.2982\n",
            "Epoch 100/500\n",
            "179/179 [==============================] - 2s 13ms/step - loss: 0.0094 - accuracy: 0.9969 - val_loss: 0.0155 - val_accuracy: 0.9949 - epoch_time: 2.2733\n",
            "Epoch 101/500\n",
            "179/179 [==============================] - 2s 13ms/step - loss: 0.0076 - accuracy: 0.9980 - val_loss: 0.0182 - val_accuracy: 0.9949 - epoch_time: 2.3176\n",
            "Epoch 102/500\n",
            "179/179 [==============================] - 2s 13ms/step - loss: 0.0064 - accuracy: 0.9980 - val_loss: 0.0182 - val_accuracy: 0.9961 - epoch_time: 2.3059\n",
            "Epoch 103/500\n",
            "179/179 [==============================] - 2s 13ms/step - loss: 0.0083 - accuracy: 0.9972 - val_loss: 0.0184 - val_accuracy: 0.9953 - epoch_time: 2.2936\n",
            "Epoch 104/500\n",
            "179/179 [==============================] - 3s 14ms/step - loss: 0.0049 - accuracy: 0.9982 - val_loss: 0.0232 - val_accuracy: 0.9953 - epoch_time: 2.4127\n",
            "Epoch 105/500\n",
            "179/179 [==============================] - 2s 14ms/step - loss: 0.0071 - accuracy: 0.9978 - val_loss: 0.0139 - val_accuracy: 0.9964 - epoch_time: 2.3422\n",
            "Epoch 106/500\n",
            "179/179 [==============================] - 2s 14ms/step - loss: 0.0083 - accuracy: 0.9974 - val_loss: 0.0159 - val_accuracy: 0.9961 - epoch_time: 2.3261\n",
            "Epoch 107/500\n",
            "179/179 [==============================] - 2s 14ms/step - loss: 0.0069 - accuracy: 0.9978 - val_loss: 0.0158 - val_accuracy: 0.9961 - epoch_time: 2.3531\n",
            "Epoch 108/500\n",
            "179/179 [==============================] - 2s 14ms/step - loss: 0.0062 - accuracy: 0.9980 - val_loss: 0.0155 - val_accuracy: 0.9957 - epoch_time: 2.3975\n",
            "Epoch 109/500\n",
            "179/179 [==============================] - 2s 13ms/step - loss: 0.0073 - accuracy: 0.9979 - val_loss: 0.0133 - val_accuracy: 0.9972 - epoch_time: 2.2691\n",
            "Epoch 110/500\n",
            "179/179 [==============================] - 2s 13ms/step - loss: 0.0065 - accuracy: 0.9976 - val_loss: 0.0214 - val_accuracy: 0.9964 - epoch_time: 2.2937\n",
            "Epoch 111/500\n",
            "179/179 [==============================] - 2s 14ms/step - loss: 0.0066 - accuracy: 0.9982 - val_loss: 0.0136 - val_accuracy: 0.9968 - epoch_time: 2.3852\n",
            "Epoch 112/500\n",
            "179/179 [==============================] - 2s 14ms/step - loss: 0.0061 - accuracy: 0.9978 - val_loss: 0.0197 - val_accuracy: 0.9953 - epoch_time: 2.3543\n",
            "Epoch 113/500\n",
            "179/179 [==============================] - 2s 13ms/step - loss: 0.0068 - accuracy: 0.9981 - val_loss: 0.0126 - val_accuracy: 0.9968 - epoch_time: 2.2999\n",
            "Epoch 114/500\n",
            "179/179 [==============================] - 3s 14ms/step - loss: 0.0070 - accuracy: 0.9981 - val_loss: 0.0142 - val_accuracy: 0.9972 - epoch_time: 2.4227\n",
            "Epoch 115/500\n",
            "179/179 [==============================] - 2s 14ms/step - loss: 0.0065 - accuracy: 0.9981 - val_loss: 0.0209 - val_accuracy: 0.9964 - epoch_time: 2.3269\n",
            "Epoch 116/500\n",
            "179/179 [==============================] - 2s 14ms/step - loss: 0.0072 - accuracy: 0.9976 - val_loss: 0.0195 - val_accuracy: 0.9968 - epoch_time: 2.3177\n",
            "Epoch 117/500\n",
            "179/179 [==============================] - 2s 13ms/step - loss: 0.0061 - accuracy: 0.9979 - val_loss: 0.0186 - val_accuracy: 0.9968 - epoch_time: 2.2935\n",
            "Epoch 118/500\n",
            "179/179 [==============================] - 2s 13ms/step - loss: 0.0048 - accuracy: 0.9981 - val_loss: 0.0223 - val_accuracy: 0.9968 - epoch_time: 2.3096\n",
            "Epoch 119/500\n",
            "179/179 [==============================] - 2s 14ms/step - loss: 0.0066 - accuracy: 0.9982 - val_loss: 0.0201 - val_accuracy: 0.9957 - epoch_time: 2.3617\n",
            "Epoch 120/500\n",
            "179/179 [==============================] - 3s 16ms/step - loss: 0.0071 - accuracy: 0.9982 - val_loss: 0.0122 - val_accuracy: 0.9972 - epoch_time: 2.3695\n",
            "Epoch 121/500\n",
            "179/179 [==============================] - 2s 13ms/step - loss: 0.0069 - accuracy: 0.9976 - val_loss: 0.0157 - val_accuracy: 0.9957 - epoch_time: 2.2591\n",
            "Epoch 122/500\n",
            "179/179 [==============================] - 2s 13ms/step - loss: 0.0066 - accuracy: 0.9976 - val_loss: 0.0165 - val_accuracy: 0.9957 - epoch_time: 2.2970\n",
            "Epoch 123/500\n",
            "179/179 [==============================] - 2s 13ms/step - loss: 0.0078 - accuracy: 0.9975 - val_loss: 0.0154 - val_accuracy: 0.9964 - epoch_time: 2.2678\n",
            "Epoch 124/500\n",
            "179/179 [==============================] - 2s 14ms/step - loss: 0.0052 - accuracy: 0.9984 - val_loss: 0.0129 - val_accuracy: 0.9964 - epoch_time: 2.3347\n",
            "Epoch 125/500\n",
            "179/179 [==============================] - 2s 14ms/step - loss: 0.0063 - accuracy: 0.9982 - val_loss: 0.0168 - val_accuracy: 0.9957 - epoch_time: 2.3583\n",
            "Epoch 126/500\n",
            "179/179 [==============================] - 3s 16ms/step - loss: 0.0061 - accuracy: 0.9981 - val_loss: 0.0121 - val_accuracy: 0.9961 - epoch_time: 2.4122\n",
            "Epoch 127/500\n",
            "179/179 [==============================] - 2s 14ms/step - loss: 0.0047 - accuracy: 0.9985 - val_loss: 0.0210 - val_accuracy: 0.9945 - epoch_time: 2.4021\n",
            "Epoch 128/500\n",
            "179/179 [==============================] - 3s 14ms/step - loss: 0.0067 - accuracy: 0.9979 - val_loss: 0.0169 - val_accuracy: 0.9949 - epoch_time: 2.4131\n",
            "Epoch 129/500\n",
            "179/179 [==============================] - 2s 14ms/step - loss: 0.0050 - accuracy: 0.9987 - val_loss: 0.0164 - val_accuracy: 0.9968 - epoch_time: 2.3583\n",
            "Epoch 130/500\n",
            "179/179 [==============================] - 2s 13ms/step - loss: 0.0050 - accuracy: 0.9986 - val_loss: 0.0160 - val_accuracy: 0.9964 - epoch_time: 2.2989\n",
            "Epoch 131/500\n",
            "179/179 [==============================] - 2s 13ms/step - loss: 0.0065 - accuracy: 0.9983 - val_loss: 0.0187 - val_accuracy: 0.9961 - epoch_time: 2.2650\n",
            "Epoch 132/500\n",
            "179/179 [==============================] - 2s 14ms/step - loss: 0.0061 - accuracy: 0.9980 - val_loss: 0.0140 - val_accuracy: 0.9972 - epoch_time: 2.3518\n",
            "Epoch 133/500\n",
            "179/179 [==============================] - 2s 14ms/step - loss: 0.0070 - accuracy: 0.9980 - val_loss: 0.0229 - val_accuracy: 0.9941 - epoch_time: 2.3205\n",
            "Epoch 134/500\n",
            "179/179 [==============================] - 2s 13ms/step - loss: 0.0058 - accuracy: 0.9982 - val_loss: 0.0156 - val_accuracy: 0.9961 - epoch_time: 2.3155\n",
            "Epoch 135/500\n",
            "179/179 [==============================] - 2s 13ms/step - loss: 0.0058 - accuracy: 0.9985 - val_loss: 0.0166 - val_accuracy: 0.9961 - epoch_time: 2.2935\n",
            "Epoch 136/500\n",
            "179/179 [==============================] - 2s 13ms/step - loss: 0.0069 - accuracy: 0.9982 - val_loss: 0.0259 - val_accuracy: 0.9961 - epoch_time: 2.2763\n",
            "Epoch 137/500\n",
            "179/179 [==============================] - 2s 14ms/step - loss: 0.0050 - accuracy: 0.9985 - val_loss: 0.0164 - val_accuracy: 0.9957 - epoch_time: 2.3296\n",
            "Epoch 138/500\n",
            "179/179 [==============================] - 2s 14ms/step - loss: 0.0048 - accuracy: 0.9985 - val_loss: 0.0148 - val_accuracy: 0.9964 - epoch_time: 2.3894\n",
            "Epoch 139/500\n",
            "179/179 [==============================] - 2s 14ms/step - loss: 0.0054 - accuracy: 0.9985 - val_loss: 0.0139 - val_accuracy: 0.9961 - epoch_time: 2.3590\n",
            "Epoch 140/500\n",
            "179/179 [==============================] - 2s 13ms/step - loss: 0.0060 - accuracy: 0.9982 - val_loss: 0.0203 - val_accuracy: 0.9961 - epoch_time: 2.2957\n",
            "Epoch 141/500\n",
            "179/179 [==============================] - 2s 13ms/step - loss: 0.0062 - accuracy: 0.9981 - val_loss: 0.0264 - val_accuracy: 0.9953 - epoch_time: 2.2627\n",
            "Epoch 142/500\n",
            "179/179 [==============================] - 2s 14ms/step - loss: 0.0059 - accuracy: 0.9978 - val_loss: 0.0195 - val_accuracy: 0.9953 - epoch_time: 2.3238\n",
            "Epoch 143/500\n",
            "179/179 [==============================] - 2s 13ms/step - loss: 0.0066 - accuracy: 0.9980 - val_loss: 0.0186 - val_accuracy: 0.9933 - epoch_time: 2.2625\n",
            "Epoch 144/500\n",
            "179/179 [==============================] - 2s 13ms/step - loss: 0.0061 - accuracy: 0.9977 - val_loss: 0.0302 - val_accuracy: 0.9949 - epoch_time: 2.2873\n"
          ]
        }
      ]
    },
    {
      "cell_type": "code",
      "metadata": {
        "id": "ylJKm4n7ppeJ",
        "colab": {
          "base_uri": "https://localhost:8080/"
        },
        "outputId": "c24d9266-a747-4985-94b8-fd1614436977"
      },
      "source": [
        "sensor = \"sensor3\"\n",
        "time_callback = TimeHistory()\n",
        "model_sensor3 = creatModel()\n",
        "model_save, checkpoint, history_cb, Estop = setCallbacks(\"sensor3\")\n",
        "history_sensor3 = model_sensor3.fit(X_train_sensor3, y_train_sensor3,\n",
        "                                    batch_size = 128, epochs = 500,\n",
        "                                    validation_split = 0.1,\n",
        "                                    verbose = 1,\n",
        "                                    callbacks = [time_callback, model_save, checkpoint, history_cb, Estop])\n",
        "                                    # class_weight= class_weights)#"
      ],
      "execution_count": null,
      "outputs": [
        {
          "output_type": "stream",
          "name": "stdout",
          "text": [
            "Epoch 1/500\n",
            "179/179 [==============================] - 10s 21ms/step - loss: 0.4568 - accuracy: 0.8225 - val_loss: 0.3832 - val_accuracy: 0.8685 - epoch_time: 9.7227\n",
            "Epoch 2/500\n",
            "179/179 [==============================] - 2s 13ms/step - loss: 0.3634 - accuracy: 0.8705 - val_loss: 0.3173 - val_accuracy: 0.8918 - epoch_time: 2.2028\n",
            "Epoch 3/500\n",
            "179/179 [==============================] - 2s 14ms/step - loss: 0.3225 - accuracy: 0.8816 - val_loss: 0.2921 - val_accuracy: 0.8977 - epoch_time: 2.2450\n",
            "Epoch 4/500\n",
            "179/179 [==============================] - 2s 13ms/step - loss: 0.3108 - accuracy: 0.8845 - val_loss: 0.2995 - val_accuracy: 0.8965 - epoch_time: 2.2143\n",
            "Epoch 5/500\n",
            "179/179 [==============================] - 2s 14ms/step - loss: 0.3003 - accuracy: 0.8867 - val_loss: 0.2808 - val_accuracy: 0.8989 - epoch_time: 2.2652\n",
            "Epoch 6/500\n",
            "179/179 [==============================] - 2s 13ms/step - loss: 0.2889 - accuracy: 0.8931 - val_loss: 0.2706 - val_accuracy: 0.9021 - epoch_time: 2.2200\n",
            "Epoch 7/500\n",
            "179/179 [==============================] - 2s 13ms/step - loss: 0.2833 - accuracy: 0.8959 - val_loss: 0.2720 - val_accuracy: 0.9005 - epoch_time: 2.2534\n",
            "Epoch 8/500\n",
            "179/179 [==============================] - 2s 13ms/step - loss: 0.2730 - accuracy: 0.8977 - val_loss: 0.2627 - val_accuracy: 0.9052 - epoch_time: 2.1960\n",
            "Epoch 9/500\n",
            "179/179 [==============================] - 2s 13ms/step - loss: 0.2693 - accuracy: 0.8996 - val_loss: 0.2699 - val_accuracy: 0.9123 - epoch_time: 2.1846\n",
            "Epoch 10/500\n",
            "179/179 [==============================] - 2s 14ms/step - loss: 0.2751 - accuracy: 0.8986 - val_loss: 0.2442 - val_accuracy: 0.9084 - epoch_time: 2.2719\n",
            "Epoch 11/500\n",
            "179/179 [==============================] - 2s 13ms/step - loss: 0.2625 - accuracy: 0.9018 - val_loss: 0.2468 - val_accuracy: 0.9103 - epoch_time: 2.2522\n",
            "Epoch 12/500\n",
            "179/179 [==============================] - 2s 13ms/step - loss: 0.2515 - accuracy: 0.9053 - val_loss: 0.2506 - val_accuracy: 0.9135 - epoch_time: 2.1998\n",
            "Epoch 13/500\n",
            "179/179 [==============================] - 2s 13ms/step - loss: 0.2506 - accuracy: 0.9051 - val_loss: 0.2305 - val_accuracy: 0.9159 - epoch_time: 2.2126\n",
            "Epoch 14/500\n",
            "179/179 [==============================] - 2s 13ms/step - loss: 0.2407 - accuracy: 0.9092 - val_loss: 0.2439 - val_accuracy: 0.9060 - epoch_time: 2.2817\n",
            "Epoch 15/500\n",
            "179/179 [==============================] - 2s 14ms/step - loss: 0.2480 - accuracy: 0.9059 - val_loss: 0.2215 - val_accuracy: 0.9167 - epoch_time: 2.2283\n",
            "Epoch 16/500\n",
            "179/179 [==============================] - 2s 14ms/step - loss: 0.2313 - accuracy: 0.9129 - val_loss: 0.2320 - val_accuracy: 0.9131 - epoch_time: 2.3612\n",
            "Epoch 17/500\n",
            "179/179 [==============================] - 2s 14ms/step - loss: 0.2489 - accuracy: 0.9052 - val_loss: 0.2187 - val_accuracy: 0.9147 - epoch_time: 2.2859\n",
            "Epoch 18/500\n",
            "179/179 [==============================] - 2s 13ms/step - loss: 0.2222 - accuracy: 0.9155 - val_loss: 0.2109 - val_accuracy: 0.9202 - epoch_time: 2.1989\n",
            "Epoch 19/500\n",
            "179/179 [==============================] - 2s 13ms/step - loss: 0.2156 - accuracy: 0.9177 - val_loss: 0.2188 - val_accuracy: 0.9194 - epoch_time: 2.2113\n",
            "Epoch 20/500\n",
            "179/179 [==============================] - 2s 13ms/step - loss: 0.2109 - accuracy: 0.9204 - val_loss: 0.2005 - val_accuracy: 0.9226 - epoch_time: 2.2135\n",
            "Epoch 21/500\n",
            "179/179 [==============================] - 2s 13ms/step - loss: 0.2066 - accuracy: 0.9215 - val_loss: 0.1918 - val_accuracy: 0.9273 - epoch_time: 2.1602\n",
            "Epoch 22/500\n",
            "179/179 [==============================] - 2s 13ms/step - loss: 0.2030 - accuracy: 0.9222 - val_loss: 0.2009 - val_accuracy: 0.9242 - epoch_time: 2.1965\n",
            "Epoch 23/500\n",
            "179/179 [==============================] - 2s 13ms/step - loss: 0.2025 - accuracy: 0.9222 - val_loss: 0.1887 - val_accuracy: 0.9317 - epoch_time: 2.1868\n",
            "Epoch 24/500\n",
            "179/179 [==============================] - 2s 13ms/step - loss: 0.1892 - accuracy: 0.9286 - val_loss: 0.1799 - val_accuracy: 0.9309 - epoch_time: 2.2102\n",
            "Epoch 25/500\n",
            "179/179 [==============================] - 2s 13ms/step - loss: 0.1894 - accuracy: 0.9266 - val_loss: 0.1872 - val_accuracy: 0.9285 - epoch_time: 2.2470\n",
            "Epoch 26/500\n",
            "179/179 [==============================] - 2s 13ms/step - loss: 0.1862 - accuracy: 0.9267 - val_loss: 0.1817 - val_accuracy: 0.9293 - epoch_time: 2.2201\n",
            "Epoch 27/500\n",
            "179/179 [==============================] - 2s 13ms/step - loss: 0.1791 - accuracy: 0.9319 - val_loss: 0.1838 - val_accuracy: 0.9348 - epoch_time: 2.2076\n",
            "Epoch 28/500\n",
            "179/179 [==============================] - 2s 14ms/step - loss: 0.1890 - accuracy: 0.9275 - val_loss: 0.1757 - val_accuracy: 0.9325 - epoch_time: 2.2418\n",
            "Epoch 29/500\n",
            "179/179 [==============================] - 2s 13ms/step - loss: 0.1892 - accuracy: 0.9299 - val_loss: 0.1723 - val_accuracy: 0.9392 - epoch_time: 2.2054\n",
            "Epoch 30/500\n",
            "179/179 [==============================] - 2s 13ms/step - loss: 0.1738 - accuracy: 0.9342 - val_loss: 0.1710 - val_accuracy: 0.9360 - epoch_time: 2.1710\n",
            "Epoch 31/500\n",
            "179/179 [==============================] - 2s 13ms/step - loss: 0.1701 - accuracy: 0.9343 - val_loss: 0.1624 - val_accuracy: 0.9333 - epoch_time: 2.1471\n",
            "Epoch 32/500\n",
            "179/179 [==============================] - 2s 13ms/step - loss: 0.1640 - accuracy: 0.9376 - val_loss: 0.1711 - val_accuracy: 0.9356 - epoch_time: 2.2608\n",
            "Epoch 33/500\n",
            "179/179 [==============================] - 2s 14ms/step - loss: 0.1786 - accuracy: 0.9313 - val_loss: 0.1644 - val_accuracy: 0.9392 - epoch_time: 2.3743\n",
            "Epoch 34/500\n",
            "179/179 [==============================] - 2s 14ms/step - loss: 0.1771 - accuracy: 0.9306 - val_loss: 0.1562 - val_accuracy: 0.9431 - epoch_time: 2.2782\n",
            "Epoch 35/500\n",
            "179/179 [==============================] - 2s 13ms/step - loss: 0.1703 - accuracy: 0.9334 - val_loss: 0.1593 - val_accuracy: 0.9412 - epoch_time: 2.2325\n",
            "Epoch 36/500\n",
            "179/179 [==============================] - 2s 13ms/step - loss: 0.1582 - accuracy: 0.9399 - val_loss: 0.1593 - val_accuracy: 0.9404 - epoch_time: 2.2411\n",
            "Epoch 37/500\n",
            "179/179 [==============================] - 3s 15ms/step - loss: 0.1567 - accuracy: 0.9402 - val_loss: 0.1486 - val_accuracy: 0.9447 - epoch_time: 2.2499\n",
            "Epoch 38/500\n",
            "179/179 [==============================] - 2s 13ms/step - loss: 0.1493 - accuracy: 0.9435 - val_loss: 0.1539 - val_accuracy: 0.9404 - epoch_time: 2.2226\n",
            "Epoch 39/500\n",
            "179/179 [==============================] - 2s 13ms/step - loss: 0.1519 - accuracy: 0.9409 - val_loss: 0.1488 - val_accuracy: 0.9459 - epoch_time: 2.2055\n",
            "Epoch 40/500\n",
            "179/179 [==============================] - 2s 14ms/step - loss: 0.1457 - accuracy: 0.9441 - val_loss: 0.1450 - val_accuracy: 0.9455 - epoch_time: 2.2267\n",
            "Epoch 41/500\n",
            "179/179 [==============================] - 2s 14ms/step - loss: 0.1451 - accuracy: 0.9444 - val_loss: 0.1486 - val_accuracy: 0.9463 - epoch_time: 2.3357\n",
            "Epoch 42/500\n",
            "179/179 [==============================] - 2s 13ms/step - loss: 0.1419 - accuracy: 0.9449 - val_loss: 0.1475 - val_accuracy: 0.9467 - epoch_time: 2.2270\n",
            "Epoch 43/500\n",
            "179/179 [==============================] - 2s 14ms/step - loss: 0.1479 - accuracy: 0.9433 - val_loss: 0.1420 - val_accuracy: 0.9475 - epoch_time: 2.2418\n",
            "Epoch 44/500\n",
            "179/179 [==============================] - 2s 13ms/step - loss: 0.1379 - accuracy: 0.9467 - val_loss: 0.1441 - val_accuracy: 0.9447 - epoch_time: 2.2237\n",
            "Epoch 45/500\n",
            "179/179 [==============================] - 2s 13ms/step - loss: 0.1361 - accuracy: 0.9472 - val_loss: 0.1398 - val_accuracy: 0.9526 - epoch_time: 2.1637\n",
            "Epoch 46/500\n",
            "179/179 [==============================] - 2s 13ms/step - loss: 0.1384 - accuracy: 0.9477 - val_loss: 0.1342 - val_accuracy: 0.9491 - epoch_time: 2.2160\n",
            "Epoch 47/500\n",
            "179/179 [==============================] - 2s 13ms/step - loss: 0.1405 - accuracy: 0.9444 - val_loss: 0.1323 - val_accuracy: 0.9487 - epoch_time: 2.1672\n",
            "Epoch 48/500\n",
            "179/179 [==============================] - 2s 13ms/step - loss: 0.1245 - accuracy: 0.9520 - val_loss: 0.1578 - val_accuracy: 0.9435 - epoch_time: 2.1901\n",
            "Epoch 49/500\n",
            "179/179 [==============================] - 2s 13ms/step - loss: 0.1305 - accuracy: 0.9493 - val_loss: 0.1409 - val_accuracy: 0.9475 - epoch_time: 2.2025\n",
            "Epoch 50/500\n",
            "179/179 [==============================] - 2s 13ms/step - loss: 0.1258 - accuracy: 0.9528 - val_loss: 0.1342 - val_accuracy: 0.9467 - epoch_time: 2.2139\n",
            "Epoch 51/500\n",
            "179/179 [==============================] - 2s 13ms/step - loss: 0.1282 - accuracy: 0.9510 - val_loss: 0.1351 - val_accuracy: 0.9479 - epoch_time: 2.2029\n",
            "Epoch 52/500\n",
            "179/179 [==============================] - 3s 15ms/step - loss: 0.1285 - accuracy: 0.9501 - val_loss: 0.1217 - val_accuracy: 0.9522 - epoch_time: 2.2139\n",
            "Epoch 53/500\n",
            "179/179 [==============================] - 2s 13ms/step - loss: 0.1231 - accuracy: 0.9528 - val_loss: 0.1405 - val_accuracy: 0.9443 - epoch_time: 2.2366\n",
            "Epoch 54/500\n",
            "179/179 [==============================] - 2s 13ms/step - loss: 0.1191 - accuracy: 0.9540 - val_loss: 0.1283 - val_accuracy: 0.9522 - epoch_time: 2.2107\n",
            "Epoch 55/500\n",
            "179/179 [==============================] - 2s 13ms/step - loss: 0.1271 - accuracy: 0.9519 - val_loss: 0.1227 - val_accuracy: 0.9589 - epoch_time: 2.2625\n",
            "Epoch 56/500\n",
            "179/179 [==============================] - 2s 14ms/step - loss: 0.1189 - accuracy: 0.9545 - val_loss: 0.1317 - val_accuracy: 0.9558 - epoch_time: 2.3505\n",
            "Epoch 57/500\n",
            "179/179 [==============================] - 2s 13ms/step - loss: 0.1127 - accuracy: 0.9568 - val_loss: 0.1310 - val_accuracy: 0.9514 - epoch_time: 2.2710\n",
            "Epoch 58/500\n",
            "179/179 [==============================] - 2s 13ms/step - loss: 0.1151 - accuracy: 0.9555 - val_loss: 0.1235 - val_accuracy: 0.9530 - epoch_time: 2.2939\n",
            "Epoch 59/500\n",
            "179/179 [==============================] - 2s 13ms/step - loss: 0.1105 - accuracy: 0.9584 - val_loss: 0.1265 - val_accuracy: 0.9585 - epoch_time: 2.2698\n",
            "Epoch 60/500\n",
            "179/179 [==============================] - 2s 13ms/step - loss: 0.1076 - accuracy: 0.9605 - val_loss: 0.1238 - val_accuracy: 0.9550 - epoch_time: 2.2842\n",
            "Epoch 61/500\n",
            "179/179 [==============================] - 3s 15ms/step - loss: 0.1077 - accuracy: 0.9592 - val_loss: 0.1211 - val_accuracy: 0.9542 - epoch_time: 2.1848\n",
            "Epoch 62/500\n",
            "179/179 [==============================] - 2s 13ms/step - loss: 0.1039 - accuracy: 0.9615 - val_loss: 0.1322 - val_accuracy: 0.9479 - epoch_time: 2.1888\n",
            "Epoch 63/500\n",
            "179/179 [==============================] - 2s 14ms/step - loss: 0.1174 - accuracy: 0.9549 - val_loss: 0.1195 - val_accuracy: 0.9585 - epoch_time: 2.2840\n",
            "Epoch 64/500\n",
            "179/179 [==============================] - 2s 13ms/step - loss: 0.1047 - accuracy: 0.9602 - val_loss: 0.1204 - val_accuracy: 0.9550 - epoch_time: 2.2368\n",
            "Epoch 65/500\n",
            "179/179 [==============================] - 2s 14ms/step - loss: 0.0979 - accuracy: 0.9632 - val_loss: 0.1138 - val_accuracy: 0.9625 - epoch_time: 2.2565\n",
            "Epoch 66/500\n",
            "179/179 [==============================] - 2s 14ms/step - loss: 0.0983 - accuracy: 0.9645 - val_loss: 0.1157 - val_accuracy: 0.9605 - epoch_time: 2.3207\n",
            "Epoch 67/500\n",
            "179/179 [==============================] - 2s 13ms/step - loss: 0.0975 - accuracy: 0.9627 - val_loss: 0.1104 - val_accuracy: 0.9629 - epoch_time: 2.2100\n",
            "Epoch 68/500\n",
            "179/179 [==============================] - 2s 13ms/step - loss: 0.0996 - accuracy: 0.9630 - val_loss: 0.1176 - val_accuracy: 0.9589 - epoch_time: 2.2238\n",
            "Epoch 69/500\n",
            "179/179 [==============================] - 2s 14ms/step - loss: 0.0960 - accuracy: 0.9648 - val_loss: 0.1010 - val_accuracy: 0.9629 - epoch_time: 2.2598\n",
            "Epoch 70/500\n",
            "179/179 [==============================] - 2s 14ms/step - loss: 0.1006 - accuracy: 0.9619 - val_loss: 0.1078 - val_accuracy: 0.9668 - epoch_time: 2.3382\n",
            "Epoch 71/500\n",
            "179/179 [==============================] - 2s 14ms/step - loss: 0.0912 - accuracy: 0.9661 - val_loss: 0.1153 - val_accuracy: 0.9577 - epoch_time: 2.3373\n",
            "Epoch 72/500\n",
            "179/179 [==============================] - 2s 14ms/step - loss: 0.0956 - accuracy: 0.9650 - val_loss: 0.1072 - val_accuracy: 0.9609 - epoch_time: 2.3405\n",
            "Epoch 73/500\n",
            "179/179 [==============================] - 2s 13ms/step - loss: 0.0943 - accuracy: 0.9651 - val_loss: 0.1227 - val_accuracy: 0.9577 - epoch_time: 2.2632\n",
            "Epoch 74/500\n",
            "179/179 [==============================] - 2s 13ms/step - loss: 0.0939 - accuracy: 0.9645 - val_loss: 0.1169 - val_accuracy: 0.9613 - epoch_time: 2.2614\n",
            "Epoch 75/500\n",
            "179/179 [==============================] - 2s 13ms/step - loss: 0.0955 - accuracy: 0.9639 - val_loss: 0.1214 - val_accuracy: 0.9593 - epoch_time: 2.2699\n",
            "Epoch 76/500\n",
            "179/179 [==============================] - 2s 13ms/step - loss: 0.0928 - accuracy: 0.9643 - val_loss: 0.1174 - val_accuracy: 0.9613 - epoch_time: 2.2724\n",
            "Epoch 77/500\n",
            "179/179 [==============================] - 2s 13ms/step - loss: 0.0910 - accuracy: 0.9660 - val_loss: 0.1043 - val_accuracy: 0.9609 - epoch_time: 2.2933\n",
            "Epoch 78/500\n",
            "179/179 [==============================] - 2s 13ms/step - loss: 0.0859 - accuracy: 0.9681 - val_loss: 0.1179 - val_accuracy: 0.9585 - epoch_time: 2.2419\n",
            "Epoch 79/500\n",
            "179/179 [==============================] - 2s 13ms/step - loss: 0.0923 - accuracy: 0.9650 - val_loss: 0.1149 - val_accuracy: 0.9617 - epoch_time: 2.3135\n",
            "Epoch 80/500\n",
            "179/179 [==============================] - 2s 13ms/step - loss: 0.0833 - accuracy: 0.9701 - val_loss: 0.1052 - val_accuracy: 0.9589 - epoch_time: 2.2755\n",
            "Epoch 81/500\n",
            "179/179 [==============================] - 2s 14ms/step - loss: 0.0843 - accuracy: 0.9690 - val_loss: 0.1070 - val_accuracy: 0.9672 - epoch_time: 2.3334\n",
            "Epoch 82/500\n",
            "179/179 [==============================] - 2s 13ms/step - loss: 0.0928 - accuracy: 0.9648 - val_loss: 0.1173 - val_accuracy: 0.9629 - epoch_time: 2.2713\n",
            "Epoch 83/500\n",
            "179/179 [==============================] - 2s 13ms/step - loss: 0.0854 - accuracy: 0.9681 - val_loss: 0.1099 - val_accuracy: 0.9613 - epoch_time: 2.2956\n",
            "Epoch 84/500\n",
            "179/179 [==============================] - 3s 15ms/step - loss: 0.0905 - accuracy: 0.9660 - val_loss: 0.0980 - val_accuracy: 0.9621 - epoch_time: 2.2098\n",
            "Epoch 85/500\n",
            "179/179 [==============================] - 2s 13ms/step - loss: 0.0798 - accuracy: 0.9701 - val_loss: 0.1071 - val_accuracy: 0.9637 - epoch_time: 2.2800\n",
            "Epoch 86/500\n",
            "179/179 [==============================] - 2s 13ms/step - loss: 0.0795 - accuracy: 0.9713 - val_loss: 0.1041 - val_accuracy: 0.9625 - epoch_time: 2.2773\n",
            "Epoch 87/500\n",
            "179/179 [==============================] - 2s 14ms/step - loss: 0.0867 - accuracy: 0.9684 - val_loss: 0.1038 - val_accuracy: 0.9645 - epoch_time: 2.3274\n",
            "Epoch 88/500\n",
            "179/179 [==============================] - 2s 13ms/step - loss: 0.0768 - accuracy: 0.9713 - val_loss: 0.1127 - val_accuracy: 0.9621 - epoch_time: 2.2969\n",
            "Epoch 89/500\n",
            "179/179 [==============================] - 3s 14ms/step - loss: 0.0778 - accuracy: 0.9709 - val_loss: 0.1006 - val_accuracy: 0.9637 - epoch_time: 2.4222\n",
            "Epoch 90/500\n",
            "179/179 [==============================] - 3s 15ms/step - loss: 0.0770 - accuracy: 0.9719 - val_loss: 0.0955 - val_accuracy: 0.9668 - epoch_time: 2.2574\n",
            "Epoch 91/500\n",
            "179/179 [==============================] - 2s 14ms/step - loss: 0.0743 - accuracy: 0.9725 - val_loss: 0.1008 - val_accuracy: 0.9688 - epoch_time: 2.3474\n",
            "Epoch 92/500\n",
            "179/179 [==============================] - 2s 13ms/step - loss: 0.0748 - accuracy: 0.9731 - val_loss: 0.1092 - val_accuracy: 0.9605 - epoch_time: 2.2014\n",
            "Epoch 93/500\n",
            "179/179 [==============================] - 3s 16ms/step - loss: 0.0735 - accuracy: 0.9733 - val_loss: 0.1147 - val_accuracy: 0.9617 - epoch_time: 2.7073\n",
            "Epoch 94/500\n",
            "179/179 [==============================] - 4s 20ms/step - loss: 0.0752 - accuracy: 0.9733 - val_loss: 0.0935 - val_accuracy: 0.9664 - epoch_time: 3.0188\n",
            "Epoch 95/500\n",
            "179/179 [==============================] - 2s 13ms/step - loss: 0.0727 - accuracy: 0.9735 - val_loss: 0.1071 - val_accuracy: 0.9633 - epoch_time: 2.2979\n",
            "Epoch 96/500\n",
            "179/179 [==============================] - 2s 14ms/step - loss: 0.0715 - accuracy: 0.9743 - val_loss: 0.0901 - val_accuracy: 0.9672 - epoch_time: 2.2310\n",
            "Epoch 97/500\n",
            "179/179 [==============================] - 2s 13ms/step - loss: 0.0763 - accuracy: 0.9718 - val_loss: 0.1110 - val_accuracy: 0.9648 - epoch_time: 2.2264\n",
            "Epoch 98/500\n",
            "179/179 [==============================] - 2s 13ms/step - loss: 0.0762 - accuracy: 0.9724 - val_loss: 0.0993 - val_accuracy: 0.9660 - epoch_time: 2.2694\n",
            "Epoch 99/500\n",
            "179/179 [==============================] - 2s 13ms/step - loss: 0.0722 - accuracy: 0.9748 - val_loss: 0.1091 - val_accuracy: 0.9637 - epoch_time: 2.3095\n",
            "Epoch 100/500\n",
            "179/179 [==============================] - 2s 13ms/step - loss: 0.0757 - accuracy: 0.9723 - val_loss: 0.1009 - val_accuracy: 0.9680 - epoch_time: 2.2837\n",
            "Epoch 101/500\n",
            "179/179 [==============================] - 2s 13ms/step - loss: 0.0691 - accuracy: 0.9738 - val_loss: 0.0994 - val_accuracy: 0.9668 - epoch_time: 2.2802\n",
            "Epoch 102/500\n",
            "179/179 [==============================] - 2s 13ms/step - loss: 0.0659 - accuracy: 0.9757 - val_loss: 0.0953 - val_accuracy: 0.9664 - epoch_time: 2.2691\n",
            "Epoch 103/500\n",
            "179/179 [==============================] - 2s 13ms/step - loss: 0.0659 - accuracy: 0.9762 - val_loss: 0.0927 - val_accuracy: 0.9676 - epoch_time: 2.2657\n",
            "Epoch 104/500\n",
            "179/179 [==============================] - 2s 13ms/step - loss: 0.0676 - accuracy: 0.9747 - val_loss: 0.0974 - val_accuracy: 0.9660 - epoch_time: 2.2201\n",
            "Epoch 105/500\n",
            "179/179 [==============================] - 2s 14ms/step - loss: 0.0656 - accuracy: 0.9768 - val_loss: 0.0952 - val_accuracy: 0.9688 - epoch_time: 2.3715\n",
            "Epoch 106/500\n",
            "179/179 [==============================] - 2s 13ms/step - loss: 0.0728 - accuracy: 0.9728 - val_loss: 0.0938 - val_accuracy: 0.9684 - epoch_time: 2.2984\n",
            "Epoch 107/500\n",
            "179/179 [==============================] - 2s 14ms/step - loss: 0.0687 - accuracy: 0.9745 - val_loss: 0.1042 - val_accuracy: 0.9664 - epoch_time: 2.3853\n",
            "Epoch 108/500\n",
            "179/179 [==============================] - 2s 13ms/step - loss: 0.0642 - accuracy: 0.9769 - val_loss: 0.1033 - val_accuracy: 0.9668 - epoch_time: 2.2937\n",
            "Epoch 109/500\n",
            "179/179 [==============================] - 2s 14ms/step - loss: 0.0633 - accuracy: 0.9758 - val_loss: 0.0933 - val_accuracy: 0.9704 - epoch_time: 2.3349\n",
            "Epoch 110/500\n",
            "179/179 [==============================] - 2s 13ms/step - loss: 0.0618 - accuracy: 0.9770 - val_loss: 0.1036 - val_accuracy: 0.9652 - epoch_time: 2.2532\n",
            "Epoch 111/500\n",
            "179/179 [==============================] - 2s 14ms/step - loss: 0.0630 - accuracy: 0.9758 - val_loss: 0.0950 - val_accuracy: 0.9648 - epoch_time: 2.3372\n",
            "Epoch 112/500\n",
            "179/179 [==============================] - 2s 14ms/step - loss: 0.0649 - accuracy: 0.9758 - val_loss: 0.0929 - val_accuracy: 0.9700 - epoch_time: 2.3672\n",
            "Epoch 113/500\n",
            "179/179 [==============================] - 2s 13ms/step - loss: 0.0638 - accuracy: 0.9767 - val_loss: 0.1074 - val_accuracy: 0.9637 - epoch_time: 2.2855\n",
            "Epoch 114/500\n",
            "179/179 [==============================] - 2s 13ms/step - loss: 0.0608 - accuracy: 0.9778 - val_loss: 0.1011 - val_accuracy: 0.9692 - epoch_time: 2.2488\n",
            "Epoch 115/500\n",
            "179/179 [==============================] - 3s 16ms/step - loss: 0.0624 - accuracy: 0.9783 - val_loss: 0.0864 - val_accuracy: 0.9747 - epoch_time: 2.3508\n",
            "Epoch 116/500\n",
            "179/179 [==============================] - 2s 13ms/step - loss: 0.0592 - accuracy: 0.9777 - val_loss: 0.0956 - val_accuracy: 0.9751 - epoch_time: 2.2934\n",
            "Epoch 117/500\n",
            "179/179 [==============================] - 2s 13ms/step - loss: 0.0585 - accuracy: 0.9790 - val_loss: 0.0967 - val_accuracy: 0.9700 - epoch_time: 2.2219\n",
            "Epoch 118/500\n",
            "179/179 [==============================] - 2s 13ms/step - loss: 0.0574 - accuracy: 0.9793 - val_loss: 0.1046 - val_accuracy: 0.9712 - epoch_time: 2.2553\n",
            "Epoch 119/500\n",
            "179/179 [==============================] - 2s 13ms/step - loss: 0.0605 - accuracy: 0.9782 - val_loss: 0.0915 - val_accuracy: 0.9720 - epoch_time: 2.2551\n",
            "Epoch 120/500\n",
            "179/179 [==============================] - 2s 13ms/step - loss: 0.0608 - accuracy: 0.9773 - val_loss: 0.1066 - val_accuracy: 0.9692 - epoch_time: 2.2396\n",
            "Epoch 121/500\n",
            "179/179 [==============================] - 2s 13ms/step - loss: 0.0609 - accuracy: 0.9784 - val_loss: 0.0891 - val_accuracy: 0.9676 - epoch_time: 2.2045\n",
            "Epoch 122/500\n",
            "179/179 [==============================] - 2s 13ms/step - loss: 0.0579 - accuracy: 0.9789 - val_loss: 0.0948 - val_accuracy: 0.9739 - epoch_time: 2.2476\n",
            "Epoch 123/500\n",
            "179/179 [==============================] - 2s 13ms/step - loss: 0.0581 - accuracy: 0.9796 - val_loss: 0.1045 - val_accuracy: 0.9621 - epoch_time: 2.2783\n",
            "Epoch 124/500\n",
            "179/179 [==============================] - 2s 14ms/step - loss: 0.0542 - accuracy: 0.9809 - val_loss: 0.0871 - val_accuracy: 0.9712 - epoch_time: 2.3324\n",
            "Epoch 125/500\n",
            "179/179 [==============================] - 2s 13ms/step - loss: 0.0562 - accuracy: 0.9806 - val_loss: 0.0885 - val_accuracy: 0.9720 - epoch_time: 2.2243\n",
            "Epoch 126/500\n",
            "179/179 [==============================] - 2s 13ms/step - loss: 0.0564 - accuracy: 0.9802 - val_loss: 0.0963 - val_accuracy: 0.9680 - epoch_time: 2.3158\n",
            "Epoch 127/500\n",
            "179/179 [==============================] - 2s 13ms/step - loss: 0.0568 - accuracy: 0.9792 - val_loss: 0.0991 - val_accuracy: 0.9676 - epoch_time: 2.2925\n",
            "Epoch 128/500\n",
            "179/179 [==============================] - 2s 13ms/step - loss: 0.0562 - accuracy: 0.9801 - val_loss: 0.1033 - val_accuracy: 0.9700 - epoch_time: 2.2469\n",
            "Epoch 129/500\n",
            "179/179 [==============================] - 2s 13ms/step - loss: 0.0603 - accuracy: 0.9788 - val_loss: 0.0928 - val_accuracy: 0.9735 - epoch_time: 2.2605\n",
            "Epoch 130/500\n",
            "179/179 [==============================] - 2s 13ms/step - loss: 0.0564 - accuracy: 0.9798 - val_loss: 0.0893 - val_accuracy: 0.9724 - epoch_time: 2.2944\n",
            "Epoch 131/500\n",
            "179/179 [==============================] - 2s 14ms/step - loss: 0.0557 - accuracy: 0.9807 - val_loss: 0.0985 - val_accuracy: 0.9676 - epoch_time: 2.3230\n",
            "Epoch 132/500\n",
            "179/179 [==============================] - 2s 13ms/step - loss: 0.0530 - accuracy: 0.9813 - val_loss: 0.1088 - val_accuracy: 0.9692 - epoch_time: 2.2885\n",
            "Epoch 133/500\n",
            "179/179 [==============================] - 2s 13ms/step - loss: 0.0505 - accuracy: 0.9812 - val_loss: 0.0957 - val_accuracy: 0.9731 - epoch_time: 2.2613\n",
            "Epoch 134/500\n",
            "179/179 [==============================] - 2s 13ms/step - loss: 0.0555 - accuracy: 0.9807 - val_loss: 0.1025 - val_accuracy: 0.9720 - epoch_time: 2.3122\n",
            "Epoch 135/500\n",
            "179/179 [==============================] - 3s 15ms/step - loss: 0.0570 - accuracy: 0.9801 - val_loss: 0.0844 - val_accuracy: 0.9720 - epoch_time: 2.2589\n",
            "Epoch 136/500\n",
            "179/179 [==============================] - 2s 13ms/step - loss: 0.0551 - accuracy: 0.9793 - val_loss: 0.0910 - val_accuracy: 0.9739 - epoch_time: 2.3175\n",
            "Epoch 137/500\n",
            "179/179 [==============================] - 2s 14ms/step - loss: 0.0529 - accuracy: 0.9813 - val_loss: 0.0950 - val_accuracy: 0.9727 - epoch_time: 2.3945\n",
            "Epoch 138/500\n",
            "179/179 [==============================] - 2s 13ms/step - loss: 0.0514 - accuracy: 0.9814 - val_loss: 0.1025 - val_accuracy: 0.9704 - epoch_time: 2.2616\n",
            "Epoch 139/500\n",
            "179/179 [==============================] - 2s 14ms/step - loss: 0.0523 - accuracy: 0.9804 - val_loss: 0.1039 - val_accuracy: 0.9727 - epoch_time: 2.3562\n",
            "Epoch 140/500\n",
            "179/179 [==============================] - 3s 14ms/step - loss: 0.0493 - accuracy: 0.9818 - val_loss: 0.0906 - val_accuracy: 0.9743 - epoch_time: 2.4729\n",
            "Epoch 141/500\n",
            "179/179 [==============================] - 3s 15ms/step - loss: 0.0503 - accuracy: 0.9810 - val_loss: 0.0842 - val_accuracy: 0.9767 - epoch_time: 2.2631\n",
            "Epoch 142/500\n",
            "179/179 [==============================] - 3s 14ms/step - loss: 0.0526 - accuracy: 0.9806 - val_loss: 0.0913 - val_accuracy: 0.9747 - epoch_time: 2.4030\n",
            "Epoch 143/500\n",
            "179/179 [==============================] - 2s 14ms/step - loss: 0.0499 - accuracy: 0.9822 - val_loss: 0.1012 - val_accuracy: 0.9704 - epoch_time: 2.3509\n",
            "Epoch 144/500\n",
            "179/179 [==============================] - 2s 14ms/step - loss: 0.0486 - accuracy: 0.9823 - val_loss: 0.0894 - val_accuracy: 0.9696 - epoch_time: 2.4045\n",
            "Epoch 145/500\n",
            "179/179 [==============================] - 2s 14ms/step - loss: 0.0485 - accuracy: 0.9823 - val_loss: 0.0877 - val_accuracy: 0.9731 - epoch_time: 2.3279\n",
            "Epoch 146/500\n",
            "179/179 [==============================] - 2s 14ms/step - loss: 0.0475 - accuracy: 0.9835 - val_loss: 0.0917 - val_accuracy: 0.9743 - epoch_time: 2.3783\n",
            "Epoch 147/500\n",
            "179/179 [==============================] - 2s 14ms/step - loss: 0.0460 - accuracy: 0.9839 - val_loss: 0.0993 - val_accuracy: 0.9727 - epoch_time: 2.3385\n",
            "Epoch 148/500\n",
            "179/179 [==============================] - 2s 14ms/step - loss: 0.0496 - accuracy: 0.9820 - val_loss: 0.0891 - val_accuracy: 0.9739 - epoch_time: 2.3695\n",
            "Epoch 149/500\n",
            "179/179 [==============================] - 3s 14ms/step - loss: 0.0460 - accuracy: 0.9847 - val_loss: 0.1010 - val_accuracy: 0.9735 - epoch_time: 2.4258\n",
            "Epoch 150/500\n",
            "179/179 [==============================] - 2s 14ms/step - loss: 0.0467 - accuracy: 0.9830 - val_loss: 0.0980 - val_accuracy: 0.9720 - epoch_time: 2.3818\n",
            "Epoch 151/500\n",
            "179/179 [==============================] - 2s 13ms/step - loss: 0.0488 - accuracy: 0.9827 - val_loss: 0.1046 - val_accuracy: 0.9704 - epoch_time: 2.2988\n",
            "Epoch 152/500\n",
            "179/179 [==============================] - 2s 14ms/step - loss: 0.0584 - accuracy: 0.9805 - val_loss: 0.1000 - val_accuracy: 0.9696 - epoch_time: 2.3547\n",
            "Epoch 153/500\n",
            "179/179 [==============================] - 2s 14ms/step - loss: 0.0488 - accuracy: 0.9825 - val_loss: 0.1151 - val_accuracy: 0.9696 - epoch_time: 2.3548\n",
            "Epoch 154/500\n",
            "179/179 [==============================] - 2s 14ms/step - loss: 0.0528 - accuracy: 0.9810 - val_loss: 0.0942 - val_accuracy: 0.9743 - epoch_time: 2.3326\n",
            "Epoch 155/500\n",
            "179/179 [==============================] - 2s 14ms/step - loss: 0.0507 - accuracy: 0.9810 - val_loss: 0.0924 - val_accuracy: 0.9724 - epoch_time: 2.3315\n",
            "Epoch 156/500\n",
            "179/179 [==============================] - 2s 14ms/step - loss: 0.0478 - accuracy: 0.9824 - val_loss: 0.0882 - val_accuracy: 0.9731 - epoch_time: 2.3244\n",
            "Epoch 157/500\n",
            "179/179 [==============================] - 2s 13ms/step - loss: 0.0424 - accuracy: 0.9852 - val_loss: 0.0927 - val_accuracy: 0.9724 - epoch_time: 2.3189\n",
            "Epoch 158/500\n",
            "179/179 [==============================] - 2s 14ms/step - loss: 0.0447 - accuracy: 0.9835 - val_loss: 0.0983 - val_accuracy: 0.9716 - epoch_time: 2.3741\n",
            "Epoch 159/500\n",
            "179/179 [==============================] - 2s 14ms/step - loss: 0.0434 - accuracy: 0.9846 - val_loss: 0.1063 - val_accuracy: 0.9735 - epoch_time: 2.3454\n",
            "Epoch 160/500\n",
            "179/179 [==============================] - 2s 14ms/step - loss: 0.0450 - accuracy: 0.9841 - val_loss: 0.1021 - val_accuracy: 0.9724 - epoch_time: 2.3348\n",
            "Epoch 161/500\n",
            "179/179 [==============================] - 3s 14ms/step - loss: 0.0456 - accuracy: 0.9842 - val_loss: 0.0999 - val_accuracy: 0.9700 - epoch_time: 2.4568\n",
            "Epoch 162/500\n",
            "179/179 [==============================] - 2s 14ms/step - loss: 0.0420 - accuracy: 0.9855 - val_loss: 0.0890 - val_accuracy: 0.9755 - epoch_time: 2.3816\n",
            "Epoch 163/500\n",
            "179/179 [==============================] - 3s 14ms/step - loss: 0.0481 - accuracy: 0.9836 - val_loss: 0.0914 - val_accuracy: 0.9684 - epoch_time: 2.4297\n",
            "Epoch 164/500\n",
            "179/179 [==============================] - 3s 14ms/step - loss: 0.0536 - accuracy: 0.9817 - val_loss: 0.1020 - val_accuracy: 0.9692 - epoch_time: 2.4778\n",
            "Epoch 165/500\n",
            "179/179 [==============================] - 2s 14ms/step - loss: 0.0467 - accuracy: 0.9838 - val_loss: 0.0965 - val_accuracy: 0.9680 - epoch_time: 2.3567\n",
            "Epoch 166/500\n",
            "179/179 [==============================] - 2s 14ms/step - loss: 0.0424 - accuracy: 0.9848 - val_loss: 0.0861 - val_accuracy: 0.9704 - epoch_time: 2.3420\n",
            "Epoch 167/500\n",
            "179/179 [==============================] - 2s 14ms/step - loss: 0.0449 - accuracy: 0.9838 - val_loss: 0.0921 - val_accuracy: 0.9712 - epoch_time: 2.3574\n",
            "Epoch 168/500\n",
            "179/179 [==============================] - 2s 14ms/step - loss: 0.0420 - accuracy: 0.9859 - val_loss: 0.0922 - val_accuracy: 0.9735 - epoch_time: 2.3761\n",
            "Epoch 169/500\n",
            "179/179 [==============================] - 3s 14ms/step - loss: 0.0450 - accuracy: 0.9838 - val_loss: 0.0966 - val_accuracy: 0.9684 - epoch_time: 2.3994\n",
            "Epoch 170/500\n",
            "179/179 [==============================] - 3s 16ms/step - loss: 0.0518 - accuracy: 0.9817 - val_loss: 0.0812 - val_accuracy: 0.9739 - epoch_time: 2.3625\n",
            "Epoch 171/500\n",
            "179/179 [==============================] - 3s 14ms/step - loss: 0.0507 - accuracy: 0.9831 - val_loss: 0.0920 - val_accuracy: 0.9704 - epoch_time: 2.4144\n",
            "Epoch 172/500\n",
            "179/179 [==============================] - 3s 14ms/step - loss: 0.0433 - accuracy: 0.9856 - val_loss: 0.0964 - val_accuracy: 0.9708 - epoch_time: 2.4214\n",
            "Epoch 173/500\n",
            "179/179 [==============================] - 3s 14ms/step - loss: 0.0402 - accuracy: 0.9859 - val_loss: 0.0947 - val_accuracy: 0.9716 - epoch_time: 2.4774\n",
            "Epoch 174/500\n",
            "179/179 [==============================] - 3s 14ms/step - loss: 0.0425 - accuracy: 0.9851 - val_loss: 0.0871 - val_accuracy: 0.9743 - epoch_time: 2.4550\n",
            "Epoch 175/500\n",
            "179/179 [==============================] - 3s 14ms/step - loss: 0.0405 - accuracy: 0.9853 - val_loss: 0.0899 - val_accuracy: 0.9704 - epoch_time: 2.4619\n",
            "Epoch 176/500\n",
            "179/179 [==============================] - 2s 14ms/step - loss: 0.0403 - accuracy: 0.9857 - val_loss: 0.0986 - val_accuracy: 0.9700 - epoch_time: 2.4053\n",
            "Epoch 177/500\n",
            "179/179 [==============================] - 3s 14ms/step - loss: 0.0420 - accuracy: 0.9846 - val_loss: 0.0907 - val_accuracy: 0.9704 - epoch_time: 2.4069\n",
            "Epoch 178/500\n",
            "179/179 [==============================] - 2s 14ms/step - loss: 0.0403 - accuracy: 0.9855 - val_loss: 0.1005 - val_accuracy: 0.9704 - epoch_time: 2.3867\n",
            "Epoch 179/500\n",
            "179/179 [==============================] - 2s 14ms/step - loss: 0.0395 - accuracy: 0.9855 - val_loss: 0.0971 - val_accuracy: 0.9704 - epoch_time: 2.3864\n",
            "Epoch 180/500\n",
            "179/179 [==============================] - 2s 14ms/step - loss: 0.0460 - accuracy: 0.9833 - val_loss: 0.0885 - val_accuracy: 0.9747 - epoch_time: 2.3613\n",
            "Epoch 181/500\n",
            "179/179 [==============================] - 2s 13ms/step - loss: 0.0437 - accuracy: 0.9840 - val_loss: 0.1044 - val_accuracy: 0.9688 - epoch_time: 2.3034\n",
            "Epoch 182/500\n",
            "179/179 [==============================] - 3s 14ms/step - loss: 0.0381 - accuracy: 0.9857 - val_loss: 0.0982 - val_accuracy: 0.9743 - epoch_time: 2.4796\n",
            "Epoch 183/500\n",
            "179/179 [==============================] - 2s 14ms/step - loss: 0.0407 - accuracy: 0.9864 - val_loss: 0.0922 - val_accuracy: 0.9692 - epoch_time: 2.3934\n",
            "Epoch 184/500\n",
            "179/179 [==============================] - 3s 14ms/step - loss: 0.0398 - accuracy: 0.9867 - val_loss: 0.0871 - val_accuracy: 0.9704 - epoch_time: 2.4233\n",
            "Epoch 185/500\n",
            "179/179 [==============================] - 3s 14ms/step - loss: 0.0404 - accuracy: 0.9858 - val_loss: 0.0924 - val_accuracy: 0.9708 - epoch_time: 2.4804\n",
            "Epoch 186/500\n",
            "179/179 [==============================] - 2s 14ms/step - loss: 0.0354 - accuracy: 0.9875 - val_loss: 0.0920 - val_accuracy: 0.9716 - epoch_time: 2.3641\n",
            "Epoch 187/500\n",
            "179/179 [==============================] - 3s 17ms/step - loss: 0.0414 - accuracy: 0.9853 - val_loss: 0.0916 - val_accuracy: 0.9704 - epoch_time: 2.8590\n",
            "Epoch 188/500\n",
            "179/179 [==============================] - 3s 18ms/step - loss: 0.0381 - accuracy: 0.9862 - val_loss: 0.0891 - val_accuracy: 0.9712 - epoch_time: 3.1590\n",
            "Epoch 189/500\n",
            "179/179 [==============================] - 3s 14ms/step - loss: 0.0360 - accuracy: 0.9880 - val_loss: 0.0974 - val_accuracy: 0.9731 - epoch_time: 2.4311\n",
            "Epoch 190/500\n",
            "179/179 [==============================] - 2s 14ms/step - loss: 0.0389 - accuracy: 0.9862 - val_loss: 0.1080 - val_accuracy: 0.9716 - epoch_time: 2.3940\n",
            "Epoch 191/500\n",
            "179/179 [==============================] - 2s 14ms/step - loss: 0.0412 - accuracy: 0.9853 - val_loss: 0.0959 - val_accuracy: 0.9700 - epoch_time: 2.3713\n",
            "Epoch 192/500\n",
            "179/179 [==============================] - 3s 14ms/step - loss: 0.0555 - accuracy: 0.9804 - val_loss: 0.0835 - val_accuracy: 0.9739 - epoch_time: 2.4565\n",
            "Epoch 193/500\n",
            "179/179 [==============================] - 3s 14ms/step - loss: 0.0458 - accuracy: 0.9846 - val_loss: 0.0923 - val_accuracy: 0.9712 - epoch_time: 2.4158\n",
            "Epoch 194/500\n",
            "179/179 [==============================] - 2s 14ms/step - loss: 0.0404 - accuracy: 0.9863 - val_loss: 0.0914 - val_accuracy: 0.9727 - epoch_time: 2.3574\n",
            "Epoch 195/500\n",
            "179/179 [==============================] - 2s 14ms/step - loss: 0.0408 - accuracy: 0.9856 - val_loss: 0.0920 - val_accuracy: 0.9731 - epoch_time: 2.3540\n",
            "Epoch 196/500\n",
            "179/179 [==============================] - 3s 16ms/step - loss: 0.0362 - accuracy: 0.9876 - val_loss: 0.0752 - val_accuracy: 0.9767 - epoch_time: 2.3739\n",
            "Epoch 197/500\n",
            "179/179 [==============================] - 3s 14ms/step - loss: 0.0485 - accuracy: 0.9828 - val_loss: 0.0827 - val_accuracy: 0.9743 - epoch_time: 2.4228\n",
            "Epoch 198/500\n",
            "179/179 [==============================] - 2s 14ms/step - loss: 0.0398 - accuracy: 0.9861 - val_loss: 0.0848 - val_accuracy: 0.9747 - epoch_time: 2.3334\n",
            "Epoch 199/500\n",
            "179/179 [==============================] - 3s 14ms/step - loss: 0.0353 - accuracy: 0.9878 - val_loss: 0.0827 - val_accuracy: 0.9739 - epoch_time: 2.4046\n",
            "Epoch 200/500\n",
            "179/179 [==============================] - 3s 14ms/step - loss: 0.0394 - accuracy: 0.9868 - val_loss: 0.0927 - val_accuracy: 0.9735 - epoch_time: 2.4146\n",
            "Epoch 201/500\n",
            "179/179 [==============================] - 3s 14ms/step - loss: 0.0406 - accuracy: 0.9867 - val_loss: 0.0883 - val_accuracy: 0.9727 - epoch_time: 2.4277\n",
            "Epoch 202/500\n",
            "179/179 [==============================] - 3s 14ms/step - loss: 0.0362 - accuracy: 0.9872 - val_loss: 0.0916 - val_accuracy: 0.9712 - epoch_time: 2.4059\n",
            "Epoch 203/500\n",
            "179/179 [==============================] - 2s 14ms/step - loss: 0.0372 - accuracy: 0.9875 - val_loss: 0.0811 - val_accuracy: 0.9767 - epoch_time: 2.3869\n",
            "Epoch 204/500\n",
            "179/179 [==============================] - 2s 14ms/step - loss: 0.0387 - accuracy: 0.9866 - val_loss: 0.0960 - val_accuracy: 0.9743 - epoch_time: 2.3925\n",
            "Epoch 205/500\n",
            "179/179 [==============================] - 2s 14ms/step - loss: 0.0366 - accuracy: 0.9875 - val_loss: 0.0789 - val_accuracy: 0.9795 - epoch_time: 2.3539\n",
            "Epoch 206/500\n",
            "179/179 [==============================] - 2s 14ms/step - loss: 0.0385 - accuracy: 0.9861 - val_loss: 0.0923 - val_accuracy: 0.9747 - epoch_time: 2.3239\n",
            "Epoch 207/500\n",
            "179/179 [==============================] - 3s 14ms/step - loss: 0.0345 - accuracy: 0.9885 - val_loss: 0.0914 - val_accuracy: 0.9735 - epoch_time: 2.4476\n",
            "Epoch 208/500\n",
            "179/179 [==============================] - 2s 14ms/step - loss: 0.0403 - accuracy: 0.9864 - val_loss: 0.0814 - val_accuracy: 0.9727 - epoch_time: 2.3567\n",
            "Epoch 209/500\n",
            "179/179 [==============================] - 3s 14ms/step - loss: 0.0359 - accuracy: 0.9878 - val_loss: 0.0875 - val_accuracy: 0.9755 - epoch_time: 2.4058\n",
            "Epoch 210/500\n",
            "179/179 [==============================] - 2s 14ms/step - loss: 0.0357 - accuracy: 0.9867 - val_loss: 0.0998 - val_accuracy: 0.9735 - epoch_time: 2.3762\n",
            "Epoch 211/500\n",
            "179/179 [==============================] - 3s 15ms/step - loss: 0.0347 - accuracy: 0.9884 - val_loss: 0.0995 - val_accuracy: 0.9720 - epoch_time: 2.5421\n",
            "Epoch 212/500\n",
            "179/179 [==============================] - 3s 16ms/step - loss: 0.0381 - accuracy: 0.9868 - val_loss: 0.0744 - val_accuracy: 0.9767 - epoch_time: 2.4315\n",
            "Epoch 213/500\n",
            "179/179 [==============================] - 2s 14ms/step - loss: 0.0355 - accuracy: 0.9871 - val_loss: 0.0948 - val_accuracy: 0.9735 - epoch_time: 2.3851\n",
            "Epoch 214/500\n",
            "179/179 [==============================] - 3s 14ms/step - loss: 0.0379 - accuracy: 0.9871 - val_loss: 0.0870 - val_accuracy: 0.9735 - epoch_time: 2.4196\n",
            "Epoch 215/500\n",
            "179/179 [==============================] - 3s 15ms/step - loss: 0.0355 - accuracy: 0.9885 - val_loss: 0.0885 - val_accuracy: 0.9739 - epoch_time: 2.5002\n",
            "Epoch 216/500\n",
            "179/179 [==============================] - 3s 15ms/step - loss: 0.0370 - accuracy: 0.9876 - val_loss: 0.0785 - val_accuracy: 0.9779 - epoch_time: 2.5045\n",
            "Epoch 217/500\n",
            "179/179 [==============================] - 3s 14ms/step - loss: 0.0349 - accuracy: 0.9875 - val_loss: 0.0940 - val_accuracy: 0.9739 - epoch_time: 2.4167\n",
            "Epoch 218/500\n",
            "179/179 [==============================] - 3s 14ms/step - loss: 0.0354 - accuracy: 0.9882 - val_loss: 0.0849 - val_accuracy: 0.9731 - epoch_time: 2.4201\n",
            "Epoch 219/500\n",
            "179/179 [==============================] - 3s 14ms/step - loss: 0.0360 - accuracy: 0.9879 - val_loss: 0.0958 - val_accuracy: 0.9739 - epoch_time: 2.4298\n",
            "Epoch 220/500\n",
            "179/179 [==============================] - 3s 14ms/step - loss: 0.0398 - accuracy: 0.9863 - val_loss: 0.0785 - val_accuracy: 0.9775 - epoch_time: 2.4044\n",
            "Epoch 221/500\n",
            "179/179 [==============================] - 3s 14ms/step - loss: 0.0358 - accuracy: 0.9871 - val_loss: 0.1041 - val_accuracy: 0.9692 - epoch_time: 2.4374\n",
            "Epoch 222/500\n",
            "179/179 [==============================] - 3s 14ms/step - loss: 0.0361 - accuracy: 0.9875 - val_loss: 0.0906 - val_accuracy: 0.9747 - epoch_time: 2.4086\n",
            "Epoch 223/500\n",
            "179/179 [==============================] - 2s 14ms/step - loss: 0.0340 - accuracy: 0.9881 - val_loss: 0.0887 - val_accuracy: 0.9751 - epoch_time: 2.3846\n",
            "Epoch 224/500\n",
            "179/179 [==============================] - 2s 14ms/step - loss: 0.0384 - accuracy: 0.9870 - val_loss: 0.0780 - val_accuracy: 0.9755 - epoch_time: 2.3778\n",
            "Epoch 225/500\n",
            "179/179 [==============================] - 3s 14ms/step - loss: 0.0326 - accuracy: 0.9883 - val_loss: 0.0949 - val_accuracy: 0.9783 - epoch_time: 2.4337\n",
            "Epoch 226/500\n",
            "179/179 [==============================] - 3s 15ms/step - loss: 0.0375 - accuracy: 0.9866 - val_loss: 0.0884 - val_accuracy: 0.9763 - epoch_time: 2.5162\n",
            "Epoch 227/500\n",
            "179/179 [==============================] - 3s 14ms/step - loss: 0.0345 - accuracy: 0.9887 - val_loss: 0.0859 - val_accuracy: 0.9739 - epoch_time: 2.4363\n",
            "Epoch 228/500\n",
            "179/179 [==============================] - 3s 14ms/step - loss: 0.0319 - accuracy: 0.9889 - val_loss: 0.1037 - val_accuracy: 0.9720 - epoch_time: 2.4611\n",
            "Epoch 229/500\n",
            "179/179 [==============================] - 3s 14ms/step - loss: 0.0353 - accuracy: 0.9884 - val_loss: 0.1027 - val_accuracy: 0.9708 - epoch_time: 2.4659\n",
            "Epoch 230/500\n",
            "179/179 [==============================] - 3s 15ms/step - loss: 0.0363 - accuracy: 0.9875 - val_loss: 0.0985 - val_accuracy: 0.9747 - epoch_time: 2.5210\n",
            "Epoch 231/500\n",
            "179/179 [==============================] - 3s 15ms/step - loss: 0.0322 - accuracy: 0.9882 - val_loss: 0.0899 - val_accuracy: 0.9755 - epoch_time: 2.6236\n",
            "Epoch 232/500\n",
            "179/179 [==============================] - 3s 15ms/step - loss: 0.0355 - accuracy: 0.9881 - val_loss: 0.0884 - val_accuracy: 0.9755 - epoch_time: 2.6205\n",
            "Epoch 233/500\n",
            "179/179 [==============================] - 3s 15ms/step - loss: 0.0327 - accuracy: 0.9893 - val_loss: 0.0953 - val_accuracy: 0.9751 - epoch_time: 2.5433\n",
            "Epoch 234/500\n",
            "179/179 [==============================] - 3s 15ms/step - loss: 0.0339 - accuracy: 0.9895 - val_loss: 0.0827 - val_accuracy: 0.9799 - epoch_time: 2.5426\n",
            "Epoch 235/500\n",
            "179/179 [==============================] - 3s 15ms/step - loss: 0.0336 - accuracy: 0.9887 - val_loss: 0.0966 - val_accuracy: 0.9712 - epoch_time: 2.5758\n",
            "Epoch 236/500\n",
            "179/179 [==============================] - 3s 14ms/step - loss: 0.0333 - accuracy: 0.9892 - val_loss: 0.0835 - val_accuracy: 0.9751 - epoch_time: 2.4646\n",
            "Epoch 237/500\n",
            "179/179 [==============================] - 3s 14ms/step - loss: 0.0369 - accuracy: 0.9875 - val_loss: 0.0956 - val_accuracy: 0.9716 - epoch_time: 2.4424\n",
            "Epoch 238/500\n",
            "179/179 [==============================] - 3s 14ms/step - loss: 0.0359 - accuracy: 0.9875 - val_loss: 0.0834 - val_accuracy: 0.9747 - epoch_time: 2.4288\n",
            "Epoch 239/500\n",
            "179/179 [==============================] - 3s 15ms/step - loss: 0.0352 - accuracy: 0.9879 - val_loss: 0.0843 - val_accuracy: 0.9751 - epoch_time: 2.5220\n",
            "Epoch 240/500\n",
            "179/179 [==============================] - 3s 14ms/step - loss: 0.0318 - accuracy: 0.9893 - val_loss: 0.0974 - val_accuracy: 0.9743 - epoch_time: 2.4844\n",
            "Epoch 241/500\n",
            "179/179 [==============================] - 2s 14ms/step - loss: 0.0343 - accuracy: 0.9893 - val_loss: 0.0851 - val_accuracy: 0.9755 - epoch_time: 2.3491\n",
            "Epoch 242/500\n",
            "179/179 [==============================] - 3s 14ms/step - loss: 0.0303 - accuracy: 0.9885 - val_loss: 0.0980 - val_accuracy: 0.9759 - epoch_time: 2.4338\n",
            "Epoch 243/500\n",
            "179/179 [==============================] - 2s 14ms/step - loss: 0.0294 - accuracy: 0.9897 - val_loss: 0.1065 - val_accuracy: 0.9727 - epoch_time: 2.3951\n",
            "Epoch 244/500\n",
            "179/179 [==============================] - 3s 14ms/step - loss: 0.0376 - accuracy: 0.9874 - val_loss: 0.0886 - val_accuracy: 0.9727 - epoch_time: 2.4661\n",
            "Epoch 245/500\n",
            "179/179 [==============================] - 3s 15ms/step - loss: 0.0314 - accuracy: 0.9891 - val_loss: 0.0947 - val_accuracy: 0.9731 - epoch_time: 2.5387\n",
            "Epoch 246/500\n",
            "179/179 [==============================] - 3s 15ms/step - loss: 0.0318 - accuracy: 0.9893 - val_loss: 0.0964 - val_accuracy: 0.9751 - epoch_time: 2.5076\n",
            "Epoch 247/500\n",
            "179/179 [==============================] - 3s 15ms/step - loss: 0.0331 - accuracy: 0.9885 - val_loss: 0.0931 - val_accuracy: 0.9731 - epoch_time: 2.5118\n",
            "Epoch 248/500\n",
            "179/179 [==============================] - 3s 14ms/step - loss: 0.0298 - accuracy: 0.9902 - val_loss: 0.1035 - val_accuracy: 0.9724 - epoch_time: 2.4386\n",
            "Epoch 249/500\n",
            "179/179 [==============================] - 3s 14ms/step - loss: 0.0316 - accuracy: 0.9892 - val_loss: 0.0948 - val_accuracy: 0.9716 - epoch_time: 2.4970\n",
            "Epoch 250/500\n",
            "179/179 [==============================] - 3s 15ms/step - loss: 0.0310 - accuracy: 0.9891 - val_loss: 0.1046 - val_accuracy: 0.9727 - epoch_time: 2.5830\n",
            "Epoch 251/500\n",
            "179/179 [==============================] - 3s 14ms/step - loss: 0.0327 - accuracy: 0.9885 - val_loss: 0.0924 - val_accuracy: 0.9751 - epoch_time: 2.4457\n",
            "Epoch 252/500\n",
            "179/179 [==============================] - 3s 15ms/step - loss: 0.0331 - accuracy: 0.9885 - val_loss: 0.0985 - val_accuracy: 0.9767 - epoch_time: 2.5809\n",
            "Epoch 253/500\n",
            "179/179 [==============================] - 3s 14ms/step - loss: 0.0337 - accuracy: 0.9887 - val_loss: 0.0808 - val_accuracy: 0.9759 - epoch_time: 2.4696\n",
            "Epoch 254/500\n",
            "179/179 [==============================] - 3s 15ms/step - loss: 0.0317 - accuracy: 0.9891 - val_loss: 0.0764 - val_accuracy: 0.9763 - epoch_time: 2.5268\n",
            "Epoch 255/500\n",
            "179/179 [==============================] - 3s 14ms/step - loss: 0.0279 - accuracy: 0.9904 - val_loss: 0.0983 - val_accuracy: 0.9763 - epoch_time: 2.4309\n",
            "Epoch 256/500\n",
            "179/179 [==============================] - 2s 14ms/step - loss: 0.0363 - accuracy: 0.9880 - val_loss: 0.0846 - val_accuracy: 0.9763 - epoch_time: 2.3938\n",
            "Epoch 257/500\n",
            "179/179 [==============================] - 3s 14ms/step - loss: 0.0326 - accuracy: 0.9887 - val_loss: 0.0809 - val_accuracy: 0.9755 - epoch_time: 2.4678\n",
            "Epoch 258/500\n",
            "179/179 [==============================] - 3s 14ms/step - loss: 0.0291 - accuracy: 0.9897 - val_loss: 0.0867 - val_accuracy: 0.9747 - epoch_time: 2.4637\n",
            "Epoch 259/500\n",
            "179/179 [==============================] - 2s 14ms/step - loss: 0.0338 - accuracy: 0.9885 - val_loss: 0.0873 - val_accuracy: 0.9716 - epoch_time: 2.3769\n",
            "Epoch 260/500\n",
            "179/179 [==============================] - 3s 14ms/step - loss: 0.0322 - accuracy: 0.9887 - val_loss: 0.0997 - val_accuracy: 0.9759 - epoch_time: 2.4601\n",
            "Epoch 261/500\n",
            "179/179 [==============================] - 2s 14ms/step - loss: 0.0287 - accuracy: 0.9902 - val_loss: 0.1074 - val_accuracy: 0.9747 - epoch_time: 2.3731\n",
            "Epoch 262/500\n",
            "179/179 [==============================] - 2s 14ms/step - loss: 0.0351 - accuracy: 0.9879 - val_loss: 0.0981 - val_accuracy: 0.9747 - epoch_time: 2.3720\n",
            "Epoch 263/500\n",
            "179/179 [==============================] - 2s 14ms/step - loss: 0.0292 - accuracy: 0.9902 - val_loss: 0.1035 - val_accuracy: 0.9747 - epoch_time: 2.3458\n",
            "Epoch 264/500\n",
            "179/179 [==============================] - 3s 14ms/step - loss: 0.0330 - accuracy: 0.9885 - val_loss: 0.0944 - val_accuracy: 0.9743 - epoch_time: 2.4575\n",
            "Epoch 265/500\n",
            "179/179 [==============================] - 3s 14ms/step - loss: 0.0343 - accuracy: 0.9882 - val_loss: 0.0903 - val_accuracy: 0.9727 - epoch_time: 2.4513\n",
            "Epoch 266/500\n",
            "179/179 [==============================] - 3s 14ms/step - loss: 0.0273 - accuracy: 0.9907 - val_loss: 0.0895 - val_accuracy: 0.9743 - epoch_time: 2.4311\n",
            "Epoch 267/500\n",
            "179/179 [==============================] - 2s 14ms/step - loss: 0.0311 - accuracy: 0.9904 - val_loss: 0.0973 - val_accuracy: 0.9743 - epoch_time: 2.3606\n",
            "Epoch 268/500\n",
            "179/179 [==============================] - 3s 14ms/step - loss: 0.0335 - accuracy: 0.9883 - val_loss: 0.0956 - val_accuracy: 0.9767 - epoch_time: 2.4135\n",
            "Epoch 269/500\n",
            "179/179 [==============================] - 3s 14ms/step - loss: 0.0310 - accuracy: 0.9901 - val_loss: 0.0896 - val_accuracy: 0.9731 - epoch_time: 2.4466\n",
            "Epoch 270/500\n",
            "179/179 [==============================] - 2s 13ms/step - loss: 0.0297 - accuracy: 0.9903 - val_loss: 0.0971 - val_accuracy: 0.9735 - epoch_time: 2.3146\n",
            "Epoch 271/500\n",
            "179/179 [==============================] - 2s 14ms/step - loss: 0.0308 - accuracy: 0.9890 - val_loss: 0.0946 - val_accuracy: 0.9743 - epoch_time: 2.3620\n",
            "Epoch 272/500\n",
            "179/179 [==============================] - 3s 14ms/step - loss: 0.0336 - accuracy: 0.9888 - val_loss: 0.0830 - val_accuracy: 0.9775 - epoch_time: 2.4263\n",
            "Epoch 273/500\n",
            "179/179 [==============================] - 2s 13ms/step - loss: 0.0318 - accuracy: 0.9894 - val_loss: 0.0918 - val_accuracy: 0.9747 - epoch_time: 2.3160\n",
            "Epoch 274/500\n",
            "179/179 [==============================] - 2s 14ms/step - loss: 0.0311 - accuracy: 0.9898 - val_loss: 0.0983 - val_accuracy: 0.9739 - epoch_time: 2.3668\n",
            "Epoch 275/500\n",
            "179/179 [==============================] - 2s 14ms/step - loss: 0.0311 - accuracy: 0.9895 - val_loss: 0.0951 - val_accuracy: 0.9767 - epoch_time: 2.3939\n",
            "Epoch 276/500\n",
            "179/179 [==============================] - 3s 14ms/step - loss: 0.0308 - accuracy: 0.9900 - val_loss: 0.1020 - val_accuracy: 0.9755 - epoch_time: 2.4827\n",
            "Epoch 277/500\n",
            "179/179 [==============================] - 3s 14ms/step - loss: 0.0306 - accuracy: 0.9896 - val_loss: 0.0896 - val_accuracy: 0.9743 - epoch_time: 2.4712\n",
            "Epoch 278/500\n",
            "179/179 [==============================] - 3s 14ms/step - loss: 0.0308 - accuracy: 0.9898 - val_loss: 0.0910 - val_accuracy: 0.9763 - epoch_time: 2.4508\n",
            "Epoch 279/500\n",
            "179/179 [==============================] - 3s 18ms/step - loss: 0.0297 - accuracy: 0.9900 - val_loss: 0.0998 - val_accuracy: 0.9755 - epoch_time: 3.1538\n",
            "Epoch 280/500\n",
            "179/179 [==============================] - 3s 17ms/step - loss: 0.0319 - accuracy: 0.9890 - val_loss: 0.1017 - val_accuracy: 0.9743 - epoch_time: 2.8889\n",
            "Epoch 281/500\n",
            "179/179 [==============================] - 3s 15ms/step - loss: 0.0281 - accuracy: 0.9907 - val_loss: 0.1081 - val_accuracy: 0.9755 - epoch_time: 2.6112\n",
            "Epoch 282/500\n",
            "179/179 [==============================] - 3s 14ms/step - loss: 0.0306 - accuracy: 0.9903 - val_loss: 0.0955 - val_accuracy: 0.9775 - epoch_time: 2.4768\n",
            "Epoch 283/500\n",
            "179/179 [==============================] - 3s 15ms/step - loss: 0.0303 - accuracy: 0.9893 - val_loss: 0.0921 - val_accuracy: 0.9787 - epoch_time: 2.5213\n",
            "Epoch 284/500\n",
            "179/179 [==============================] - 2s 14ms/step - loss: 0.0314 - accuracy: 0.9889 - val_loss: 0.0838 - val_accuracy: 0.9751 - epoch_time: 2.3636\n",
            "Epoch 285/500\n",
            "179/179 [==============================] - 2s 14ms/step - loss: 0.0290 - accuracy: 0.9905 - val_loss: 0.0782 - val_accuracy: 0.9771 - epoch_time: 2.3639\n",
            "Epoch 286/500\n",
            "179/179 [==============================] - 3s 14ms/step - loss: 0.0279 - accuracy: 0.9910 - val_loss: 0.0852 - val_accuracy: 0.9739 - epoch_time: 2.4042\n",
            "Epoch 287/500\n",
            "179/179 [==============================] - 3s 14ms/step - loss: 0.0321 - accuracy: 0.9887 - val_loss: 0.0819 - val_accuracy: 0.9743 - epoch_time: 2.4585\n",
            "Epoch 288/500\n",
            "179/179 [==============================] - 3s 14ms/step - loss: 0.0316 - accuracy: 0.9900 - val_loss: 0.0757 - val_accuracy: 0.9799 - epoch_time: 2.4716\n",
            "Epoch 289/500\n",
            "179/179 [==============================] - 3s 14ms/step - loss: 0.0290 - accuracy: 0.9900 - val_loss: 0.0880 - val_accuracy: 0.9743 - epoch_time: 2.4624\n",
            "Epoch 290/500\n",
            "179/179 [==============================] - 3s 14ms/step - loss: 0.0300 - accuracy: 0.9902 - val_loss: 0.0851 - val_accuracy: 0.9763 - epoch_time: 2.4482\n",
            "Epoch 291/500\n",
            "179/179 [==============================] - 2s 14ms/step - loss: 0.0287 - accuracy: 0.9901 - val_loss: 0.0851 - val_accuracy: 0.9783 - epoch_time: 2.3819\n",
            "Epoch 292/500\n",
            "179/179 [==============================] - 3s 14ms/step - loss: 0.0266 - accuracy: 0.9910 - val_loss: 0.0843 - val_accuracy: 0.9779 - epoch_time: 2.4635\n",
            "Epoch 293/500\n",
            "179/179 [==============================] - 3s 14ms/step - loss: 0.0282 - accuracy: 0.9902 - val_loss: 0.1030 - val_accuracy: 0.9751 - epoch_time: 2.4358\n",
            "Epoch 294/500\n",
            "179/179 [==============================] - 2s 14ms/step - loss: 0.0293 - accuracy: 0.9898 - val_loss: 0.0921 - val_accuracy: 0.9775 - epoch_time: 2.3737\n",
            "Epoch 295/500\n",
            "179/179 [==============================] - 2s 14ms/step - loss: 0.0268 - accuracy: 0.9910 - val_loss: 0.0901 - val_accuracy: 0.9759 - epoch_time: 2.3623\n",
            "Epoch 296/500\n",
            "179/179 [==============================] - 2s 14ms/step - loss: 0.0309 - accuracy: 0.9898 - val_loss: 0.1074 - val_accuracy: 0.9739 - epoch_time: 2.3862\n",
            "Epoch 297/500\n",
            "179/179 [==============================] - 3s 14ms/step - loss: 0.0316 - accuracy: 0.9889 - val_loss: 0.0980 - val_accuracy: 0.9767 - epoch_time: 2.4667\n",
            "Epoch 298/500\n",
            "179/179 [==============================] - 3s 14ms/step - loss: 0.0284 - accuracy: 0.9901 - val_loss: 0.1039 - val_accuracy: 0.9731 - epoch_time: 2.4641\n",
            "Epoch 299/500\n",
            "179/179 [==============================] - 3s 14ms/step - loss: 0.0312 - accuracy: 0.9892 - val_loss: 0.1005 - val_accuracy: 0.9751 - epoch_time: 2.4850\n",
            "Epoch 300/500\n",
            "179/179 [==============================] - 3s 14ms/step - loss: 0.0261 - accuracy: 0.9914 - val_loss: 0.1013 - val_accuracy: 0.9743 - epoch_time: 2.4337\n",
            "Epoch 301/500\n",
            "179/179 [==============================] - 3s 14ms/step - loss: 0.0320 - accuracy: 0.9889 - val_loss: 0.1022 - val_accuracy: 0.9743 - epoch_time: 2.4767\n",
            "Epoch 302/500\n",
            "179/179 [==============================] - 3s 14ms/step - loss: 0.0295 - accuracy: 0.9899 - val_loss: 0.0910 - val_accuracy: 0.9767 - epoch_time: 2.4447\n",
            "Epoch 303/500\n",
            "179/179 [==============================] - 3s 14ms/step - loss: 0.0304 - accuracy: 0.9900 - val_loss: 0.0888 - val_accuracy: 0.9743 - epoch_time: 2.4606\n",
            "Epoch 304/500\n",
            "179/179 [==============================] - 3s 15ms/step - loss: 0.0318 - accuracy: 0.9892 - val_loss: 0.0936 - val_accuracy: 0.9708 - epoch_time: 2.5070\n",
            "Epoch 305/500\n",
            "179/179 [==============================] - 3s 14ms/step - loss: 0.0316 - accuracy: 0.9888 - val_loss: 0.0939 - val_accuracy: 0.9759 - epoch_time: 2.4677\n",
            "Epoch 306/500\n",
            "179/179 [==============================] - 2s 14ms/step - loss: 0.0259 - accuracy: 0.9913 - val_loss: 0.1028 - val_accuracy: 0.9747 - epoch_time: 2.3876\n",
            "Epoch 307/500\n",
            "179/179 [==============================] - 3s 14ms/step - loss: 0.0276 - accuracy: 0.9903 - val_loss: 0.1025 - val_accuracy: 0.9771 - epoch_time: 2.4455\n",
            "Epoch 308/500\n",
            "179/179 [==============================] - 3s 14ms/step - loss: 0.0261 - accuracy: 0.9906 - val_loss: 0.1188 - val_accuracy: 0.9731 - epoch_time: 2.4452\n",
            "Epoch 309/500\n",
            "179/179 [==============================] - 3s 14ms/step - loss: 0.0273 - accuracy: 0.9913 - val_loss: 0.0963 - val_accuracy: 0.9731 - epoch_time: 2.4071\n",
            "Epoch 310/500\n",
            "179/179 [==============================] - 3s 14ms/step - loss: 0.0247 - accuracy: 0.9918 - val_loss: 0.1077 - val_accuracy: 0.9747 - epoch_time: 2.4268\n",
            "Epoch 311/500\n",
            "179/179 [==============================] - 3s 15ms/step - loss: 0.0263 - accuracy: 0.9911 - val_loss: 0.0847 - val_accuracy: 0.9763 - epoch_time: 2.5058\n",
            "Epoch 312/500\n",
            "179/179 [==============================] - 3s 14ms/step - loss: 0.0280 - accuracy: 0.9901 - val_loss: 0.0806 - val_accuracy: 0.9799 - epoch_time: 2.4300\n",
            "Epoch 313/500\n",
            "179/179 [==============================] - 3s 14ms/step - loss: 0.0264 - accuracy: 0.9919 - val_loss: 0.0953 - val_accuracy: 0.9775 - epoch_time: 2.4175\n",
            "Epoch 314/500\n",
            "179/179 [==============================] - 3s 14ms/step - loss: 0.0282 - accuracy: 0.9905 - val_loss: 0.0964 - val_accuracy: 0.9767 - epoch_time: 2.4262\n",
            "Epoch 315/500\n",
            "179/179 [==============================] - 3s 14ms/step - loss: 0.0277 - accuracy: 0.9907 - val_loss: 0.0961 - val_accuracy: 0.9763 - epoch_time: 2.4428\n",
            "Epoch 316/500\n",
            "179/179 [==============================] - 3s 14ms/step - loss: 0.0255 - accuracy: 0.9914 - val_loss: 0.0933 - val_accuracy: 0.9731 - epoch_time: 2.4803\n",
            "Epoch 317/500\n",
            "179/179 [==============================] - 3s 14ms/step - loss: 0.0253 - accuracy: 0.9915 - val_loss: 0.1012 - val_accuracy: 0.9735 - epoch_time: 2.4102\n",
            "Epoch 318/500\n",
            "179/179 [==============================] - 3s 14ms/step - loss: 0.0314 - accuracy: 0.9895 - val_loss: 0.0868 - val_accuracy: 0.9771 - epoch_time: 2.4411\n",
            "Epoch 319/500\n",
            "179/179 [==============================] - 3s 14ms/step - loss: 0.0277 - accuracy: 0.9911 - val_loss: 0.0818 - val_accuracy: 0.9775 - epoch_time: 2.4744\n",
            "Epoch 320/500\n",
            "179/179 [==============================] - 2s 14ms/step - loss: 0.0289 - accuracy: 0.9899 - val_loss: 0.0975 - val_accuracy: 0.9763 - epoch_time: 2.3832\n",
            "Epoch 321/500\n",
            "179/179 [==============================] - 3s 14ms/step - loss: 0.0253 - accuracy: 0.9916 - val_loss: 0.1033 - val_accuracy: 0.9739 - epoch_time: 2.4361\n",
            "Epoch 322/500\n",
            "179/179 [==============================] - 3s 14ms/step - loss: 0.0275 - accuracy: 0.9912 - val_loss: 0.1065 - val_accuracy: 0.9720 - epoch_time: 2.4394\n",
            "Epoch 323/500\n",
            "179/179 [==============================] - 3s 14ms/step - loss: 0.0257 - accuracy: 0.9912 - val_loss: 0.1003 - val_accuracy: 0.9747 - epoch_time: 2.4411\n",
            "Epoch 324/500\n",
            "179/179 [==============================] - 3s 14ms/step - loss: 0.0276 - accuracy: 0.9906 - val_loss: 0.0791 - val_accuracy: 0.9759 - epoch_time: 2.4826\n",
            "Epoch 325/500\n",
            "179/179 [==============================] - 3s 14ms/step - loss: 0.0303 - accuracy: 0.9901 - val_loss: 0.0816 - val_accuracy: 0.9755 - epoch_time: 2.4041\n",
            "Epoch 326/500\n",
            "179/179 [==============================] - 3s 14ms/step - loss: 0.0273 - accuracy: 0.9903 - val_loss: 0.1041 - val_accuracy: 0.9747 - epoch_time: 2.4774\n",
            "Epoch 327/500\n",
            "179/179 [==============================] - 3s 14ms/step - loss: 0.0257 - accuracy: 0.9919 - val_loss: 0.1038 - val_accuracy: 0.9751 - epoch_time: 2.4006\n",
            "Epoch 328/500\n",
            "179/179 [==============================] - 3s 15ms/step - loss: 0.0282 - accuracy: 0.9901 - val_loss: 0.1108 - val_accuracy: 0.9751 - epoch_time: 2.6004\n",
            "Epoch 329/500\n",
            "179/179 [==============================] - 3s 14ms/step - loss: 0.0275 - accuracy: 0.9906 - val_loss: 0.1004 - val_accuracy: 0.9767 - epoch_time: 2.3984\n",
            "Epoch 330/500\n",
            "179/179 [==============================] - 2s 14ms/step - loss: 0.0253 - accuracy: 0.9913 - val_loss: 0.1111 - val_accuracy: 0.9763 - epoch_time: 2.3973\n",
            "Epoch 331/500\n",
            "179/179 [==============================] - 3s 14ms/step - loss: 0.0290 - accuracy: 0.9910 - val_loss: 0.0898 - val_accuracy: 0.9767 - epoch_time: 2.4236\n",
            "Epoch 332/500\n",
            "179/179 [==============================] - 3s 14ms/step - loss: 0.0268 - accuracy: 0.9902 - val_loss: 0.0879 - val_accuracy: 0.9767 - epoch_time: 2.4520\n",
            "Epoch 333/500\n",
            "179/179 [==============================] - 3s 14ms/step - loss: 0.0251 - accuracy: 0.9914 - val_loss: 0.1070 - val_accuracy: 0.9743 - epoch_time: 2.4599\n",
            "Epoch 334/500\n",
            "179/179 [==============================] - 3s 15ms/step - loss: 0.0272 - accuracy: 0.9905 - val_loss: 0.0962 - val_accuracy: 0.9751 - epoch_time: 2.5181\n"
          ]
        }
      ]
    },
    {
      "cell_type": "code",
      "source": [
        "#plot history of model_sensor1\n",
        "history_sensor1 = pd.read_csv(model_path +\"historyLOG_Bias-0_1_dur_10_sensor1.csv\", index_col='epoch')\n",
        "history_sensor1.reset_index(drop= True, inplace= True)\n",
        "history_sensor1.head()\n",
        "print('Average Exe_time for sensor1: {} sec.'.format(round(np.mean(history_sensor1['epoch_time'].values),3)))\n"
      ],
      "metadata": {
        "colab": {
          "base_uri": "https://localhost:8080/"
        },
        "id": "3O-5mYHRoluo",
        "outputId": "12f7626f-6e8c-41d0-b7ed-5ad11b486a67"
      },
      "execution_count": null,
      "outputs": [
        {
          "output_type": "stream",
          "name": "stdout",
          "text": [
            "Average Exe_time for sensor1: 2.46 sec.\n"
          ]
        }
      ]
    },
    {
      "cell_type": "code",
      "source": [
        "plt.plot( history_sensor1['loss'], 'b',label = 'loss')\n",
        "plt.plot( history_sensor1['val_loss'], 'g', label = 'val_loss')\n",
        "plt.legend()\n",
        "plt.grid()\n",
        "plt.title('loss_model_sensor1')\n",
        "plt.show()"
      ],
      "metadata": {
        "colab": {
          "base_uri": "https://localhost:8080/",
          "height": 281
        },
        "id": "qk6CGElHFQKh",
        "outputId": "fdf4f7a2-82d3-4640-add2-965eb1f2138e"
      },
      "execution_count": null,
      "outputs": [
        {
          "output_type": "display_data",
          "data": {
            "text/plain": [
              "<Figure size 432x288 with 1 Axes>"
            ],
            "image/png": "[encoded data removed]"
          },
          "metadata": {
            "needs_background": "light"
          }
        }
      ]
    },
    {
      "cell_type": "code",
      "source": [
        "plt.plot(history_sensor1['accuracy']* 100,'b',label = 'acc')\n",
        "plt.plot(history_sensor1['val_accuracy'] * 100,'g', label = 'val_acc')\n",
        "plt.legend()\n",
        "plt.grid()\n",
        "plt.title('accuracy_model_sensor1')\n",
        "plt.show()"
      ],
      "metadata": {
        "colab": {
          "base_uri": "https://localhost:8080/",
          "height": 281
        },
        "id": "yW2YOqyrFauE",
        "outputId": "7b9df84e-226b-4ca7-9d53-951cfa4d20cb"
      },
      "execution_count": null,
      "outputs": [
        {
          "output_type": "display_data",
          "data": {
            "text/plain": [
              "<Figure size 432x288 with 1 Axes>"
            ],
            "image/png": "[encoded data removed]"
          },
          "metadata": {
            "needs_background": "light"
          }
        }
      ]
    },
    {
      "cell_type": "code",
      "metadata": {
        "colab": {
          "base_uri": "https://localhost:8080/"
        },
        "id": "yiUh7YCM0q5f",
        "outputId": "7114ead4-1f39-4515-ab53-77bb42b069e9"
      },
      "source": [
        "history_sensor2 = pd.read_csv(model_path +\"historyLOG_Bias-0_1_dur_10_sensor2.csv\", index_col='epoch')\n",
        "history_sensor2.reset_index(drop= True, inplace= True)\n",
        "history_sensor2.head()\n",
        "print('Average Exe_time for sensor2: {} sec.'.format(round(np.mean(history_sensor2['epoch_time'].values),3)))\n"
      ],
      "execution_count": null,
      "outputs": [
        {
          "output_type": "stream",
          "name": "stdout",
          "text": [
            "Average Exe_time for sensor2: 2.328 sec.\n"
          ]
        }
      ]
    },
    {
      "cell_type": "code",
      "source": [
        "plt.plot( history_sensor2['loss'], 'b',label = 'loss')\n",
        "plt.plot( history_sensor2['val_loss'], 'g', label = 'val_loss')\n",
        "plt.legend()\n",
        "plt.grid()\n",
        "plt.title('loss_model_sensor2')\n",
        "plt.show()"
      ],
      "metadata": {
        "colab": {
          "base_uri": "https://localhost:8080/",
          "height": 281
        },
        "id": "L7pzR8UUFR-X",
        "outputId": "d47f1557-d009-4b7f-cc9d-1df0bde6cbf1"
      },
      "execution_count": null,
      "outputs": [
        {
          "output_type": "display_data",
          "data": {
            "text/plain": [
              "<Figure size 432x288 with 1 Axes>"
            ],
            "image/png": "[encoded data removed]"
          },
          "metadata": {
            "needs_background": "light"
          }
        }
      ]
    },
    {
      "cell_type": "code",
      "source": [
        "plt.plot(history_sensor2['accuracy']* 100,'b',label = 'acc')\n",
        "plt.plot(history_sensor2['val_accuracy'] * 100,'g', label = 'val_acc')\n",
        "plt.legend()\n",
        "plt.grid()\n",
        "plt.title('accuracy_model_sensor2')\n",
        "plt.show()"
      ],
      "metadata": {
        "colab": {
          "base_uri": "https://localhost:8080/",
          "height": 281
        },
        "id": "ThBgZzV2Finr",
        "outputId": "e6279a24-c459-4a7c-9e27-58db086101f1"
      },
      "execution_count": null,
      "outputs": [
        {
          "output_type": "display_data",
          "data": {
            "text/plain": [
              "<Figure size 432x288 with 1 Axes>"
            ],
            "image/png": "[encoded data removed]"
          },
          "metadata": {
            "needs_background": "light"
          }
        }
      ]
    },
    {
      "cell_type": "code",
      "metadata": {
        "colab": {
          "base_uri": "https://localhost:8080/"
        },
        "id": "xZQRze500qd5",
        "outputId": "e12526ed-9a28-4769-cdba-ac5d606e54dc"
      },
      "source": [
        "history_sensor3 = pd.read_csv(model_path +\"historyLOG_Bias-0_1_dur_10_sensor3.csv\", index_col='epoch')\n",
        "history_sensor3.reset_index(drop= True, inplace= True)\n",
        "history_sensor3.head()\n",
        "print('Average Exe_time for sensor3: {} sec.'.format(round(np.mean(history_sensor3['epoch_time'].values),3)))\n"
      ],
      "execution_count": null,
      "outputs": [
        {
          "output_type": "stream",
          "name": "stdout",
          "text": [
            "Average Exe_time for sensor3: 2.391 sec.\n"
          ]
        }
      ]
    },
    {
      "cell_type": "code",
      "metadata": {
        "id": "swXRfIlAX0pF",
        "colab": {
          "base_uri": "https://localhost:8080/",
          "height": 281
        },
        "outputId": "14229b7e-c109-4d3a-8e00-758071a961f5"
      },
      "source": [
        "plt.plot( history_sensor3['loss'], 'b',label = 'loss')\n",
        "plt.plot( history_sensor3['val_loss'], 'g', label = 'val_loss')\n",
        "plt.legend()\n",
        "plt.grid()\n",
        "plt.title('loss_model_sensor3')\n",
        "plt.show()"
      ],
      "execution_count": null,
      "outputs": [
        {
          "output_type": "display_data",
          "data": {
            "text/plain": [
              "<Figure size 432x288 with 1 Axes>"
            ],
            "image/png": "[encoded data removed]"
          },
          "metadata": {
            "needs_background": "light"
          }
        }
      ]
    },
    {
      "cell_type": "code",
      "source": [
        "plt.plot(history_sensor3['accuracy']* 100,'b',label = 'acc')\n",
        "plt.plot(history_sensor3['val_accuracy'] * 100,'g', label = 'val_acc')\n",
        "plt.legend()\n",
        "plt.grid()\n",
        "plt.title('accuracy_model_sensor3')\n",
        "plt.show()"
      ],
      "metadata": {
        "colab": {
          "base_uri": "https://localhost:8080/",
          "height": 281
        },
        "id": "Uzl-v65bFtOj",
        "outputId": "b917d8f2-d61d-481f-b2bd-0b2b41a28b15"
      },
      "execution_count": null,
      "outputs": [
        {
          "output_type": "display_data",
          "data": {
            "text/plain": [
              "<Figure size 432x288 with 1 Axes>"
            ],
            "image/png": "[encoded data removed]"
          },
          "metadata": {
            "needs_background": "light"
          }
        }
      ]
    },
    {
      "cell_type": "code",
      "source": [
        "#last model_sensor1 evaluation\n",
        "test_loss, test_acc = model_sensor1.evaluate( X_test_sensor1, y_test_sensor1, verbose= 1)\n",
        "print('test accuracy :{:.1%} \\n test loss :{:.3}'.format(test_acc, test_loss))"
      ],
      "metadata": {
        "colab": {
          "base_uri": "https://localhost:8080/"
        },
        "id": "r9txKKt8GPES",
        "outputId": "cb6d03b5-28c6-4a61-8077-e99c6a4b4ad4"
      },
      "execution_count": null,
      "outputs": [
        {
          "output_type": "stream",
          "name": "stdout",
          "text": [
            "140/140 [==============================] - 1s 6ms/step - loss: 0.0108 - accuracy: 0.9975\n",
            "test accuracy :99.8% \n",
            " test loss :0.0108\n"
          ]
        }
      ]
    },
    {
      "cell_type": "code",
      "source": [
        "#last model_sensor2 evaluation\n",
        "test_loss, test_acc = model_sensor2.evaluate( X_test_sensor2, y_test_sensor2, verbose= 1)\n",
        "print('test accuracy :{:.1%} \\n test loss :{:.3}'.format(test_acc, test_loss))"
      ],
      "metadata": {
        "colab": {
          "base_uri": "https://localhost:8080/"
        },
        "id": "adROowiPGPtE",
        "outputId": "4a238f0f-0bea-4993-c32a-f7a228bb0f0b"
      },
      "execution_count": null,
      "outputs": [
        {
          "output_type": "stream",
          "name": "stdout",
          "text": [
            "140/140 [==============================] - 1s 5ms/step - loss: 0.0226 - accuracy: 0.9955\n",
            "test accuracy :99.6% \n",
            " test loss :0.0226\n"
          ]
        }
      ]
    },
    {
      "cell_type": "code",
      "source": [
        "#last model_sensor3 evaluation\n",
        "test_loss, test_acc = model_sensor3.evaluate( X_test_sensor3, y_test_sensor3, verbose= 1)\n",
        "print('test accuracy :{:.1%} \\n test loss :{:.3}'.format(test_acc, test_loss))"
      ],
      "metadata": {
        "colab": {
          "base_uri": "https://localhost:8080/"
        },
        "id": "AFoZDmx4GP5u",
        "outputId": "de47ce01-1b4a-448d-943d-40d4094d9464"
      },
      "execution_count": null,
      "outputs": [
        {
          "output_type": "stream",
          "name": "stdout",
          "text": [
            "140/140 [==============================] - 1s 6ms/step - loss: 0.0909 - accuracy: 0.9754\n",
            "test accuracy :97.5% \n",
            " test loss :0.0909\n"
          ]
        }
      ]
    },
    {
      "cell_type": "code",
      "source": [
        "y_pred_sensor1 = model_sensor1.predict( X_test_sensor1, verbose= 1)\n",
        "y_pred_sensor2 = model_sensor2.predict( X_test_sensor2, verbose= 1)\n",
        "y_pred_sensor3 = model_sensor3.predict( X_test_sensor3, verbose= 1)"
      ],
      "metadata": {
        "colab": {
          "base_uri": "https://localhost:8080/"
        },
        "id": "STn_XkCZGP7k",
        "outputId": "02f16679-84ce-41c0-a0aa-a90064c92f36"
      },
      "execution_count": null,
      "outputs": [
        {
          "output_type": "stream",
          "name": "stdout",
          "text": [
            "140/140 [==============================] - 2s 4ms/step\n",
            "140/140 [==============================] - 2s 4ms/step\n",
            "140/140 [==============================] - 2s 4ms/step\n"
          ]
        }
      ]
    },
    {
      "cell_type": "code",
      "source": [
        "y_pred_sensor1 = [np.argmax(i) for i in y_pred_sensor1]\n",
        "y_pred_sensor2 = [np.argmax(i) for i in y_pred_sensor2]\n",
        "y_pred_sensor3 = [np.argmax(i) for i in y_pred_sensor3]"
      ],
      "metadata": {
        "id": "WCLRF8ySGP-y"
      },
      "execution_count": null,
      "outputs": []
    },
    {
      "cell_type": "code",
      "source": [
        "y_pred_total = []\n",
        "for i in range(len(y_pred_sensor1)):\n",
        "  y_pred_total.append( y_pred_sensor1[i] or y_pred_sensor2[i] or y_pred_sensor3[i])"
      ],
      "metadata": {
        "id": "anY5RdokHE_1"
      },
      "execution_count": null,
      "outputs": []
    },
    {
      "cell_type": "code",
      "source": [
        "assert(len(y_pred_total) == len(y_pred_sensor1))"
      ],
      "metadata": {
        "id": "afksljyBHFMW"
      },
      "execution_count": null,
      "outputs": []
    },
    {
      "cell_type": "code",
      "source": [
        "y_test_sensor1 = [np.argmax(i) for i in y_test_sensor1]\n",
        "y_test_sensor2 = [np.argmax(i) for i in y_test_sensor2]\n",
        "y_test_sensor3 = [np.argmax(i) for i in y_test_sensor3]"
      ],
      "metadata": {
        "id": "9NrwBh01HMgQ"
      },
      "execution_count": null,
      "outputs": []
    },
    {
      "cell_type": "code",
      "source": [
        "y_test_total = []\n",
        "for i in range(len(y_test_sensor1)):\n",
        "  y_test_total.append(y_test_sensor1[i] or y_test_sensor2[i] or y_test_sensor3[i])"
      ],
      "metadata": {
        "id": "lRweEKazHMsx"
      },
      "execution_count": null,
      "outputs": []
    },
    {
      "cell_type": "code",
      "source": [
        "print(\"Sensor 1 performanace:\")\n",
        "recall = recall_score(y_test_sensor1, y_pred_sensor1, average='micro')\n",
        "print('recall score : {:.2%}\\n'.format(recall ))\n",
        "\n",
        "precision = precision_score(y_test_sensor1, y_pred_sensor1, average='micro')\n",
        "print('precision score: {:.2%}\\n'.format(precision ))\n",
        "\n",
        "f1 = f1_score(y_test_sensor1, y_pred_sensor1, average='micro')\n",
        "print(\"F1 score: {:.2%}\\n\".format(f1 ))\n",
        "\n",
        "accuracy = accuracy_score(y_test_sensor1, y_pred_sensor1)\n",
        "print(\"accuracy score: {:.2%}\\n\".format(accuracy))"
      ],
      "metadata": {
        "colab": {
          "base_uri": "https://localhost:8080/"
        },
        "id": "3oCJphJZHMuN",
        "outputId": "69a9eb20-1fd5-4046-9afb-a6c05dfab0dd"
      },
      "execution_count": null,
      "outputs": [
        {
          "output_type": "stream",
          "name": "stdout",
          "text": [
            "Sensor 1 performanace:\n",
            "recall score : 99.75%\n",
            "\n",
            "precision score: 99.75%\n",
            "\n",
            "F1 score: 99.75%\n",
            "\n",
            "accuracy score: 99.75%\n",
            "\n"
          ]
        }
      ]
    },
    {
      "cell_type": "code",
      "source": [
        "print(\"Sensor 2 performanace:\")\n",
        "recall = recall_score(y_test_sensor2, y_pred_sensor2, average='micro')\n",
        "print('recall score : {:.2%}\\n'.format(recall ))\n",
        "\n",
        "precision = precision_score(y_test_sensor2, y_pred_sensor2, average='micro')\n",
        "print('precision score: {:.2%}\\n'.format(precision ))\n",
        "\n",
        "f1 = f1_score(y_test_sensor2, y_pred_sensor2, average='micro')\n",
        "print(\"F1 score: {:.2%}\\n\".format(f1 ))\n",
        "\n",
        "accuracy = accuracy_score(y_test_sensor2, y_pred_sensor2)\n",
        "print(\"accuracy score: {:.2%}\\n\".format(accuracy))"
      ],
      "metadata": {
        "colab": {
          "base_uri": "https://localhost:8080/"
        },
        "id": "Lm9vlS19HMxS",
        "outputId": "ddcb3880-32e8-4c5c-b358-b186dd5f25be"
      },
      "execution_count": null,
      "outputs": [
        {
          "output_type": "stream",
          "name": "stdout",
          "text": [
            "Sensor 2 performanace:\n",
            "recall score : 99.55%\n",
            "\n",
            "precision score: 99.55%\n",
            "\n",
            "F1 score: 99.55%\n",
            "\n",
            "accuracy score: 99.55%\n",
            "\n"
          ]
        }
      ]
    },
    {
      "cell_type": "code",
      "source": [
        "print(\"Sensor 3 performanace:\")\n",
        "recall = recall_score(y_test_sensor3, y_pred_sensor3, average='micro')\n",
        "print('recall score : {:.2%}\\n'.format(recall ))\n",
        "\n",
        "precision = precision_score(y_test_sensor3, y_pred_sensor3, average='micro')\n",
        "print('precision score: {:.2%}\\n'.format(precision ))\n",
        "\n",
        "f1 = f1_score(y_test_sensor3, y_pred_sensor3, average='micro')\n",
        "print(\"F1 score: {:.2%}\\n\".format(f1 ))\n",
        "\n",
        "accuracy = accuracy_score(y_test_sensor3, y_pred_sensor3)\n",
        "print(\"accuracy score: {:.2%}\\n\".format(accuracy))"
      ],
      "metadata": {
        "colab": {
          "base_uri": "https://localhost:8080/"
        },
        "id": "klF4enFMHaV1",
        "outputId": "81701bd5-68c8-4d70-ccd9-82f5032709b8"
      },
      "execution_count": null,
      "outputs": [
        {
          "output_type": "stream",
          "name": "stdout",
          "text": [
            "Sensor 3 performanace:\n",
            "recall score : 97.54%\n",
            "\n",
            "precision score: 97.54%\n",
            "\n",
            "F1 score: 97.54%\n",
            "\n",
            "accuracy score: 97.54%\n",
            "\n"
          ]
        }
      ]
    },
    {
      "cell_type": "code",
      "source": [
        "print(\"All Sensors performanace:\\n\")\n",
        "\n",
        "recall = recall_score(y_test_total, y_pred_total, average='micro')\n",
        "print('recall score : {:.2%}\\n'.format(recall ))\n",
        "\n",
        "precision = precision_score(y_test_total, y_pred_total, average='micro')\n",
        "print('precision score: {:.2%}\\n'.format(precision ))\n",
        "\n",
        "f1 = f1_score(y_test_total, y_pred_total, average='micro')\n",
        "print(\"F1 score: {:.2%}\\n\".format(f1 ))\n",
        "\n",
        "accuracy = accuracy_score(y_test_total, y_pred_total)\n",
        "print(\"accuracy score: {:.2%}\\n\".format(accuracy))"
      ],
      "metadata": {
        "colab": {
          "base_uri": "https://localhost:8080/"
        },
        "id": "EIlCvZWhHg9S",
        "outputId": "bb3534dc-ac9e-440e-e362-d153540d87ae"
      },
      "execution_count": null,
      "outputs": [
        {
          "output_type": "stream",
          "name": "stdout",
          "text": [
            "All Sensors performanace:\n",
            "\n",
            "recall score : 97.90%\n",
            "\n",
            "precision score: 97.90%\n",
            "\n",
            "F1 score: 97.90%\n",
            "\n",
            "accuracy score: 97.90%\n",
            "\n"
          ]
        }
      ]
    },
    {
      "cell_type": "code",
      "source": [
        "print(\"All Sensors performanace:\\n\")\n",
        "\n",
        "recall = recall_score(y_test_total, y_pred_total, average='macro')\n",
        "print('recall score : {:.2%}\\n'.format(recall ))\n",
        "\n",
        "precision = precision_score(y_test_total, y_pred_total, average='macro')\n",
        "print('precision score: {:.2%}\\n'.format(precision ))\n",
        "\n",
        "f1 = f1_score(y_test_total, y_pred_total, average='macro')\n",
        "print(\"F1 score: {:.2%}\\n\".format(f1 ))\n",
        "\n",
        "accuracy = accuracy_score(y_test_total, y_pred_total)\n",
        "print(\"accuracy score: {:.2%}\\n\".format(accuracy))"
      ],
      "metadata": {
        "colab": {
          "base_uri": "https://localhost:8080/"
        },
        "id": "j5CsF4AQHiEs",
        "outputId": "92c0b177-6a1c-459f-c7c4-bdbafe7ad8b8"
      },
      "execution_count": null,
      "outputs": [
        {
          "output_type": "stream",
          "name": "stdout",
          "text": [
            "All Sensors performanace:\n",
            "\n",
            "recall score : 97.90%\n",
            "\n",
            "precision score: 97.57%\n",
            "\n",
            "F1 score: 97.73%\n",
            "\n",
            "accuracy score: 97.90%\n",
            "\n"
          ]
        }
      ]
    },
    {
      "cell_type": "code",
      "source": [
        "conf = confusion_matrix(y_test_total, y_pred_total, labels=[1,0])\n",
        "conf_df = pd.DataFrame(conf, columns= [1,0], index= [1,0])\n",
        "conf_df"
      ],
      "metadata": {
        "colab": {
          "base_uri": "https://localhost:8080/",
          "height": 112
        },
        "id": "d1gGHBdzHlkV",
        "outputId": "4905529b-ca37-4aa7-f7f6-ccdfd5bebf6c"
      },
      "execution_count": null,
      "outputs": [
        {
          "output_type": "execute_result",
          "data": {
            "text/plain": [
              "      1     0\n",
              "1  2797    60\n",
              "0    34  1578"
            ],
            "text/html": [
              "\n",
              "  <div id=\"df-73d124ca-4f0a-42f1-9a88-7eedd18bc3b6\">\n",
              "    <div class=\"colab-df-container\">\n",
              "      <div>\n",
              "<style scoped>\n",
              "    .dataframe tbody tr th:only-of-type {\n",
              "        vertical-align: middle;\n",
              "    }\n",
              "\n",
              "    .dataframe tbody tr th {\n",
              "        vertical-align: top;\n",
              "    }\n",
              "\n",
              "    .dataframe thead th {\n",
              "        text-align: right;\n",
              "    }\n",
              "</style>\n",
              "<table border=\"1\" class=\"dataframe\">\n",
              "  <thead>\n",
              "    <tr style=\"text-align: right;\">\n",
              "      <th></th>\n",
              "      <th>1</th>\n",
              "      <th>0</th>\n",
              "    </tr>\n",
              "  </thead>\n",
              "  <tbody>\n",
              "    <tr>\n",
              "      <th>1</th>\n",
              "      <td>2797</td>\n",
              "      <td>60</td>\n",
              "    </tr>\n",
              "    <tr>\n",
              "      <th>0</th>\n",
              "      <td>34</td>\n",
              "      <td>1578</td>\n",
              "    </tr>\n",
              "  </tbody>\n",
              "</table>\n",
              "</div>\n",
              "      <button class=\"colab-df-convert\" onclick=\"convertToInteractive('df-73d124ca-4f0a-42f1-9a88-7eedd18bc3b6')\"\n",
              "              title=\"Convert this dataframe to an interactive table.\"\n",
              "              style=\"display:none;\">\n",
              "        \n",
              "  <svg xmlns=\"http://www.w3.org/2000/svg\" height=\"24px\"viewBox=\"0 0 24 24\"\n",
              "       width=\"24px\">\n",
              "    <path d=\"M0 0h24v24H0V0z\" fill=\"none\"/>\n",
              "    <path d=\"M18.56 5.44l.94 2.06.94-2.06 2.06-.94-2.06-.94-.94-2.06-.94 2.06-2.06.94zm-11 1L8.5 8.5l.94-2.06 2.06-.94-2.06-.94L8.5 2.5l-.94 2.06-2.06.94zm10 10l.94 2.06.94-2.06 2.06-.94-2.06-.94-.94-2.06-.94 2.06-2.06.94z\"/><path d=\"M17.41 7.96l-1.37-1.37c-.4-.4-.92-.59-1.43-.59-.52 0-1.04.2-1.43.59L10.3 9.45l-7.72 7.72c-.78.78-.78 2.05 0 2.83L4 21.41c.39.39.9.59 1.41.59.51 0 1.02-.2 1.41-.59l7.78-7.78 2.81-2.81c.8-.78.8-2.07 0-2.86zM5.41 20L4 18.59l7.72-7.72 1.47 1.35L5.41 20z\"/>\n",
              "  </svg>\n",
              "      </button>\n",
              "      \n",
              "  <style>\n",
              "    .colab-df-container {\n",
              "      display:flex;\n",
              "      flex-wrap:wrap;\n",
              "      gap: 12px;\n",
              "    }\n",
              "\n",
              "    .colab-df-convert {\n",
              "      background-color: #E8F0FE;\n",
              "      border: none;\n",
              "      border-radius: 50%;\n",
              "      cursor: pointer;\n",
              "      display: none;\n",
              "      fill: #1967D2;\n",
              "      height: 32px;\n",
              "      padding: 0 0 0 0;\n",
              "      width: 32px;\n",
              "    }\n",
              "\n",
              "    .colab-df-convert:hover {\n",
              "      background-color: #E2EBFA;\n",
              "      box-shadow: 0px 1px 2px rgba(60, 64, 67, 0.3), 0px 1px 3px 1px rgba(60, 64, 67, 0.15);\n",
              "      fill: #174EA6;\n",
              "    }\n",
              "\n",
              "    [theme=dark] .colab-df-convert {\n",
              "      background-color: #3B4455;\n",
              "      fill: #D2E3FC;\n",
              "    }\n",
              "\n",
              "    [theme=dark] .colab-df-convert:hover {\n",
              "      background-color: #434B5C;\n",
              "      box-shadow: 0px 1px 3px 1px rgba(0, 0, 0, 0.15);\n",
              "      filter: drop-shadow(0px 1px 2px rgba(0, 0, 0, 0.3));\n",
              "      fill: #FFFFFF;\n",
              "    }\n",
              "  </style>\n",
              "\n",
              "      <script>\n",
              "        const buttonEl =\n",
              "          document.querySelector('#df-73d124ca-4f0a-42f1-9a88-7eedd18bc3b6 button.colab-df-convert');\n",
              "        buttonEl.style.display =\n",
              "          google.colab.kernel.accessAllowed ? 'block' : 'none';\n",
              "\n",
              "        async function convertToInteractive(key) {\n",
              "          const element = document.querySelector('#df-73d124ca-4f0a-42f1-9a88-7eedd18bc3b6');\n",
              "          const dataTable =\n",
              "            await google.colab.kernel.invokeFunction('convertToInteractive',\n",
              "                                                     [key], {});\n",
              "          if (!dataTable) return;\n",
              "\n",
              "          const docLinkHtml = 'Like what you see? Visit the ' +\n",
              "            '<a target=\"_blank\" href=https://colab.research.google.com/notebooks/data_table.ipynb>data table notebook</a>'\n",
              "            + ' to learn more about interactive tables.';\n",
              "          element.innerHTML = '';\n",
              "          dataTable['output_type'] = 'display_data';\n",
              "          await google.colab.output.renderOutput(dataTable, element);\n",
              "          const docLink = document.createElement('div');\n",
              "          docLink.innerHTML = docLinkHtml;\n",
              "          element.appendChild(docLink);\n",
              "        }\n",
              "      </script>\n",
              "    </div>\n",
              "  </div>\n",
              "  "
            ]
          },
          "metadata": {},
          "execution_count": 79
        }
      ]
    }
  ]
}