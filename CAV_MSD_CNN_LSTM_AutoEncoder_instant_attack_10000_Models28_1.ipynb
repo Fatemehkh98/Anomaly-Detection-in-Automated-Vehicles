{
  "cells": [
    {
      "cell_type": "code",
      "execution_count": null,
      "metadata": {
        "colab": {
          "base_uri": "https://localhost:8080/"
        },
        "id": "INNY7MoLZn0x",
        "outputId": "6bf2c8f5-0c9e-4544-9fd8-7a4257c7a200"
      },
      "outputs": [
        {
          "output_type": "stream",
          "name": "stdout",
          "text": [
            "Mounted at /content/drive\n"
          ]
        }
      ],
      "source": [
        "from google.colab import drive\n",
        "drive.mount('/content/drive')"
      ]
    },
    {
      "cell_type": "code",
      "execution_count": null,
      "metadata": {
        "colab": {
          "base_uri": "https://localhost:8080/"
        },
        "id": "bQ3m-WaucgZw",
        "outputId": "93898e0f-2d57-4c39-d493-00ee0c58a7ab"
      },
      "outputs": [
        {
          "output_type": "stream",
          "name": "stdout",
          "text": [
            "Looking in indexes: https://pypi.org/simple, https://us-python.pkg.dev/colab-wheels/public/simple/\n",
            "Collecting h5py==2.10.0\n",
            "  Downloading h5py-2.10.0-cp38-cp38-manylinux1_x86_64.whl (2.9 MB)\n",
            "\u001b[2K     \u001b[90m━━━━━━━━━━━━━━━━━━━━━━━━━━━━━━━━━━━━━━━━\u001b[0m \u001b[32m2.9/2.9 MB\u001b[0m \u001b[31m32.0 MB/s\u001b[0m eta \u001b[36m0:00:00\u001b[0m\n",
            "\u001b[?25hRequirement already satisfied: six in /usr/local/lib/python3.8/dist-packages (from h5py==2.10.0) (1.15.0)\n",
            "Requirement already satisfied: numpy>=1.7 in /usr/local/lib/python3.8/dist-packages (from h5py==2.10.0) (1.21.6)\n",
            "Installing collected packages: h5py\n",
            "  Attempting uninstall: h5py\n",
            "    Found existing installation: h5py 3.1.0\n",
            "    Uninstalling h5py-3.1.0:\n",
            "      Successfully uninstalled h5py-3.1.0\n",
            "Successfully installed h5py-2.10.0\n"
          ]
        }
      ],
      "source": [
        "pip install h5py==2.10.0"
      ]
    },
    {
      "cell_type": "code",
      "execution_count": null,
      "metadata": {
        "colab": {
          "base_uri": "https://localhost:8080/"
        },
        "id": "8QiS7haVwwyX",
        "outputId": "3ce9aaae-157f-4d08-99ea-686cd5abace7"
      },
      "outputs": [
        {
          "output_type": "stream",
          "name": "stdout",
          "text": [
            "tensorflow version :2.9.2\n",
            "Found GPU at: /device:GPU:0\n"
          ]
        }
      ],
      "source": [
        "import tensorflow as tf\n",
        "print(\"tensorflow version :{}\".format(tf.__version__))\n",
        "device_name = tf.test.gpu_device_name()\n",
        "if device_name != '/device:GPU:0':\n",
        "  raise SystemError('GPU device not found')\n",
        "print('Found GPU at: {}'.format(device_name))"
      ]
    },
    {
      "cell_type": "code",
      "execution_count": null,
      "metadata": {
        "colab": {
          "base_uri": "https://localhost:8080/"
        },
        "id": "GcgHainaexAf",
        "outputId": "28021dd0-5a1c-4767-fe42-05413859365b"
      },
      "outputs": [
        {
          "output_type": "execute_result",
          "data": {
            "text/plain": [
              "[name: \"/device:CPU:0\"\n",
              " device_type: \"CPU\"\n",
              " memory_limit: 268435456\n",
              " locality {\n",
              " }\n",
              " incarnation: 5422229621905869249\n",
              " xla_global_id: -1, name: \"/device:GPU:0\"\n",
              " device_type: \"GPU\"\n",
              " memory_limit: 14417788928\n",
              " locality {\n",
              "   bus_id: 1\n",
              "   links {\n",
              "   }\n",
              " }\n",
              " incarnation: 3384216752945916916\n",
              " physical_device_desc: \"device: 0, name: Tesla T4, pci bus id: 0000:00:04.0, compute capability: 7.5\"\n",
              " xla_global_id: 416903419]"
            ]
          },
          "metadata": {},
          "execution_count": 4
        }
      ],
      "source": [
        "from tensorflow.python.client import device_lib\n",
        "device_lib.list_local_devices()"
      ]
    },
    {
      "cell_type": "code",
      "execution_count": null,
      "metadata": {
        "id": "wXNT7HPDVvnG"
      },
      "outputs": [],
      "source": [
        "#### physical_device_desc: \"device: 0, name: Tesla T4, pci bus id: 0000:00:04.0, compute capability: 7.5\"]"
      ]
    },
    {
      "cell_type": "code",
      "execution_count": null,
      "metadata": {
        "id": "VtduHlsdzllv"
      },
      "outputs": [],
      "source": [
        "import pandas as pd\n",
        "import numpy as np\n",
        "import matplotlib.pyplot as plt\n",
        "from sklearn.model_selection import train_test_split\n",
        "from sklearn.preprocessing import MinMaxScaler, StandardScaler\n",
        "from sklearn.utils import class_weight"
      ]
    },
    {
      "cell_type": "code",
      "execution_count": null,
      "metadata": {
        "id": "wmDBFUYG5UTm"
      },
      "outputs": [],
      "source": [
        "\n",
        "from keras.layers import Conv1D, Dense, Dropout, GlobalMaxPool1D, MaxPool1D\n",
        "from keras.layers import TimeDistributed, LSTM, Bidirectional, Input, concatenate,RepeatVector\n",
        "from keras import regularizers\n",
        "# from keras.layers.normalization import BatchNormalization\n",
        "from keras.models import Sequential, load_model, Model\n",
        "from keras.callbacks import ModelCheckpoint, Callback, EarlyStopping\n",
        "from tensorflow.keras.utils import plot_model, to_categorical\n",
        "from keras.losses import binary_crossentropy\n",
        "from keras.optimizers import Adam\n",
        "from sklearn.metrics import recall_score, precision_score, f1_score, accuracy_score\n",
        "from sklearn.metrics import confusion_matrix\n",
        "from keras.regularizers import l1,l2\n"
      ]
    },
    {
      "cell_type": "code",
      "execution_count": null,
      "metadata": {
        "id": "knBwY4MXdknx"
      },
      "outputs": [],
      "source": [
        "data_path = '/content/drive/MyDrive/CAV/data/Instant attack/10000/'"
      ]
    },
    {
      "cell_type": "code",
      "execution_count": null,
      "metadata": {
        "colab": {
          "base_uri": "https://localhost:8080/",
          "height": 206
        },
        "id": "uPy3-An4ynUz",
        "outputId": "fb24f7e9-54f3-4500-a107-db668b02cdae"
      },
      "outputs": [
        {
          "output_type": "execute_result",
          "data": {
            "text/plain": [
              "   InVehicle_Longitudinal_Speed  GPS_Speed  InVehicle_Longitudinal_Accel\n",
              "0                     11.375000  11.307097                     -0.103000\n",
              "1                     11.366708  11.255964                     -0.353946\n",
              "2                     11.362331  11.249115                     -0.090962\n",
              "3                     11.358665  11.263280                     -0.043470\n",
              "4                     11.356745  11.270361                     -0.037579"
            ],
            "text/html": [
              "\n",
              "  <div id=\"df-d68683d1-5bc0-44e1-9104-d00b529c793a\">\n",
              "    <div class=\"colab-df-container\">\n",
              "      <div>\n",
              "<style scoped>\n",
              "    .dataframe tbody tr th:only-of-type {\n",
              "        vertical-align: middle;\n",
              "    }\n",
              "\n",
              "    .dataframe tbody tr th {\n",
              "        vertical-align: top;\n",
              "    }\n",
              "\n",
              "    .dataframe thead th {\n",
              "        text-align: right;\n",
              "    }\n",
              "</style>\n",
              "<table border=\"1\" class=\"dataframe\">\n",
              "  <thead>\n",
              "    <tr style=\"text-align: right;\">\n",
              "      <th></th>\n",
              "      <th>InVehicle_Longitudinal_Speed</th>\n",
              "      <th>GPS_Speed</th>\n",
              "      <th>InVehicle_Longitudinal_Accel</th>\n",
              "    </tr>\n",
              "  </thead>\n",
              "  <tbody>\n",
              "    <tr>\n",
              "      <th>0</th>\n",
              "      <td>11.375000</td>\n",
              "      <td>11.307097</td>\n",
              "      <td>-0.103000</td>\n",
              "    </tr>\n",
              "    <tr>\n",
              "      <th>1</th>\n",
              "      <td>11.366708</td>\n",
              "      <td>11.255964</td>\n",
              "      <td>-0.353946</td>\n",
              "    </tr>\n",
              "    <tr>\n",
              "      <th>2</th>\n",
              "      <td>11.362331</td>\n",
              "      <td>11.249115</td>\n",
              "      <td>-0.090962</td>\n",
              "    </tr>\n",
              "    <tr>\n",
              "      <th>3</th>\n",
              "      <td>11.358665</td>\n",
              "      <td>11.263280</td>\n",
              "      <td>-0.043470</td>\n",
              "    </tr>\n",
              "    <tr>\n",
              "      <th>4</th>\n",
              "      <td>11.356745</td>\n",
              "      <td>11.270361</td>\n",
              "      <td>-0.037579</td>\n",
              "    </tr>\n",
              "  </tbody>\n",
              "</table>\n",
              "</div>\n",
              "      <button class=\"colab-df-convert\" onclick=\"convertToInteractive('df-d68683d1-5bc0-44e1-9104-d00b529c793a')\"\n",
              "              title=\"Convert this dataframe to an interactive table.\"\n",
              "              style=\"display:none;\">\n",
              "        \n",
              "  <svg xmlns=\"http://www.w3.org/2000/svg\" height=\"24px\"viewBox=\"0 0 24 24\"\n",
              "       width=\"24px\">\n",
              "    <path d=\"M0 0h24v24H0V0z\" fill=\"none\"/>\n",
              "    <path d=\"M18.56 5.44l.94 2.06.94-2.06 2.06-.94-2.06-.94-.94-2.06-.94 2.06-2.06.94zm-11 1L8.5 8.5l.94-2.06 2.06-.94-2.06-.94L8.5 2.5l-.94 2.06-2.06.94zm10 10l.94 2.06.94-2.06 2.06-.94-2.06-.94-.94-2.06-.94 2.06-2.06.94z\"/><path d=\"M17.41 7.96l-1.37-1.37c-.4-.4-.92-.59-1.43-.59-.52 0-1.04.2-1.43.59L10.3 9.45l-7.72 7.72c-.78.78-.78 2.05 0 2.83L4 21.41c.39.39.9.59 1.41.59.51 0 1.02-.2 1.41-.59l7.78-7.78 2.81-2.81c.8-.78.8-2.07 0-2.86zM5.41 20L4 18.59l7.72-7.72 1.47 1.35L5.41 20z\"/>\n",
              "  </svg>\n",
              "      </button>\n",
              "      \n",
              "  <style>\n",
              "    .colab-df-container {\n",
              "      display:flex;\n",
              "      flex-wrap:wrap;\n",
              "      gap: 12px;\n",
              "    }\n",
              "\n",
              "    .colab-df-convert {\n",
              "      background-color: #E8F0FE;\n",
              "      border: none;\n",
              "      border-radius: 50%;\n",
              "      cursor: pointer;\n",
              "      display: none;\n",
              "      fill: #1967D2;\n",
              "      height: 32px;\n",
              "      padding: 0 0 0 0;\n",
              "      width: 32px;\n",
              "    }\n",
              "\n",
              "    .colab-df-convert:hover {\n",
              "      background-color: #E2EBFA;\n",
              "      box-shadow: 0px 1px 2px rgba(60, 64, 67, 0.3), 0px 1px 3px 1px rgba(60, 64, 67, 0.15);\n",
              "      fill: #174EA6;\n",
              "    }\n",
              "\n",
              "    [theme=dark] .colab-df-convert {\n",
              "      background-color: #3B4455;\n",
              "      fill: #D2E3FC;\n",
              "    }\n",
              "\n",
              "    [theme=dark] .colab-df-convert:hover {\n",
              "      background-color: #434B5C;\n",
              "      box-shadow: 0px 1px 3px 1px rgba(0, 0, 0, 0.15);\n",
              "      filter: drop-shadow(0px 1px 2px rgba(0, 0, 0, 0.3));\n",
              "      fill: #FFFFFF;\n",
              "    }\n",
              "  </style>\n",
              "\n",
              "      <script>\n",
              "        const buttonEl =\n",
              "          document.querySelector('#df-d68683d1-5bc0-44e1-9104-d00b529c793a button.colab-df-convert');\n",
              "        buttonEl.style.display =\n",
              "          google.colab.kernel.accessAllowed ? 'block' : 'none';\n",
              "\n",
              "        async function convertToInteractive(key) {\n",
              "          const element = document.querySelector('#df-d68683d1-5bc0-44e1-9104-d00b529c793a');\n",
              "          const dataTable =\n",
              "            await google.colab.kernel.invokeFunction('convertToInteractive',\n",
              "                                                     [key], {});\n",
              "          if (!dataTable) return;\n",
              "\n",
              "          const docLinkHtml = 'Like what you see? Visit the ' +\n",
              "            '<a target=\"_blank\" href=https://colab.research.google.com/notebooks/data_table.ipynb>data table notebook</a>'\n",
              "            + ' to learn more about interactive tables.';\n",
              "          element.innerHTML = '';\n",
              "          dataTable['output_type'] = 'display_data';\n",
              "          await google.colab.output.renderOutput(dataTable, element);\n",
              "          const docLink = document.createElement('div');\n",
              "          docLink.innerHTML = docLinkHtml;\n",
              "          element.appendChild(docLink);\n",
              "        }\n",
              "      </script>\n",
              "    </div>\n",
              "  </div>\n",
              "  "
            ]
          },
          "metadata": {},
          "execution_count": 9
        }
      ],
      "source": [
        "sensor1_data = pd.read_csv(data_path + \"Sensor1_values_instant_10000.csv\", index_col= 'Unnamed: 0')\n",
        "sensor1_data.head()"
      ]
    },
    {
      "cell_type": "code",
      "execution_count": null,
      "metadata": {
        "colab": {
          "base_uri": "https://localhost:8080/"
        },
        "id": "NkKyrb2sQCni",
        "outputId": "3b7f8726-3da4-4f20-e43d-bc71664342b5"
      },
      "outputs": [
        {
          "output_type": "execute_result",
          "data": {
            "text/plain": [
              "29800"
            ]
          },
          "metadata": {},
          "execution_count": 10
        }
      ],
      "source": [
        "len(sensor1_data)"
      ]
    },
    {
      "cell_type": "code",
      "execution_count": null,
      "metadata": {
        "colab": {
          "base_uri": "https://localhost:8080/",
          "height": 206
        },
        "id": "OYhwlWY8z4N6",
        "outputId": "93e3a3b5-46ea-4eb0-bbb5-587a024c80ca"
      },
      "outputs": [
        {
          "output_type": "execute_result",
          "data": {
            "text/plain": [
              "   Class\n",
              "0    0.0\n",
              "1    0.0\n",
              "2    0.0\n",
              "3    0.0\n",
              "4    0.0"
            ],
            "text/html": [
              "\n",
              "  <div id=\"df-76d1d215-ad20-4b94-b337-0cf10f2df597\">\n",
              "    <div class=\"colab-df-container\">\n",
              "      <div>\n",
              "<style scoped>\n",
              "    .dataframe tbody tr th:only-of-type {\n",
              "        vertical-align: middle;\n",
              "    }\n",
              "\n",
              "    .dataframe tbody tr th {\n",
              "        vertical-align: top;\n",
              "    }\n",
              "\n",
              "    .dataframe thead th {\n",
              "        text-align: right;\n",
              "    }\n",
              "</style>\n",
              "<table border=\"1\" class=\"dataframe\">\n",
              "  <thead>\n",
              "    <tr style=\"text-align: right;\">\n",
              "      <th></th>\n",
              "      <th>Class</th>\n",
              "    </tr>\n",
              "  </thead>\n",
              "  <tbody>\n",
              "    <tr>\n",
              "      <th>0</th>\n",
              "      <td>0.0</td>\n",
              "    </tr>\n",
              "    <tr>\n",
              "      <th>1</th>\n",
              "      <td>0.0</td>\n",
              "    </tr>\n",
              "    <tr>\n",
              "      <th>2</th>\n",
              "      <td>0.0</td>\n",
              "    </tr>\n",
              "    <tr>\n",
              "      <th>3</th>\n",
              "      <td>0.0</td>\n",
              "    </tr>\n",
              "    <tr>\n",
              "      <th>4</th>\n",
              "      <td>0.0</td>\n",
              "    </tr>\n",
              "  </tbody>\n",
              "</table>\n",
              "</div>\n",
              "      <button class=\"colab-df-convert\" onclick=\"convertToInteractive('df-76d1d215-ad20-4b94-b337-0cf10f2df597')\"\n",
              "              title=\"Convert this dataframe to an interactive table.\"\n",
              "              style=\"display:none;\">\n",
              "        \n",
              "  <svg xmlns=\"http://www.w3.org/2000/svg\" height=\"24px\"viewBox=\"0 0 24 24\"\n",
              "       width=\"24px\">\n",
              "    <path d=\"M0 0h24v24H0V0z\" fill=\"none\"/>\n",
              "    <path d=\"M18.56 5.44l.94 2.06.94-2.06 2.06-.94-2.06-.94-.94-2.06-.94 2.06-2.06.94zm-11 1L8.5 8.5l.94-2.06 2.06-.94-2.06-.94L8.5 2.5l-.94 2.06-2.06.94zm10 10l.94 2.06.94-2.06 2.06-.94-2.06-.94-.94-2.06-.94 2.06-2.06.94z\"/><path d=\"M17.41 7.96l-1.37-1.37c-.4-.4-.92-.59-1.43-.59-.52 0-1.04.2-1.43.59L10.3 9.45l-7.72 7.72c-.78.78-.78 2.05 0 2.83L4 21.41c.39.39.9.59 1.41.59.51 0 1.02-.2 1.41-.59l7.78-7.78 2.81-2.81c.8-.78.8-2.07 0-2.86zM5.41 20L4 18.59l7.72-7.72 1.47 1.35L5.41 20z\"/>\n",
              "  </svg>\n",
              "      </button>\n",
              "      \n",
              "  <style>\n",
              "    .colab-df-container {\n",
              "      display:flex;\n",
              "      flex-wrap:wrap;\n",
              "      gap: 12px;\n",
              "    }\n",
              "\n",
              "    .colab-df-convert {\n",
              "      background-color: #E8F0FE;\n",
              "      border: none;\n",
              "      border-radius: 50%;\n",
              "      cursor: pointer;\n",
              "      display: none;\n",
              "      fill: #1967D2;\n",
              "      height: 32px;\n",
              "      padding: 0 0 0 0;\n",
              "      width: 32px;\n",
              "    }\n",
              "\n",
              "    .colab-df-convert:hover {\n",
              "      background-color: #E2EBFA;\n",
              "      box-shadow: 0px 1px 2px rgba(60, 64, 67, 0.3), 0px 1px 3px 1px rgba(60, 64, 67, 0.15);\n",
              "      fill: #174EA6;\n",
              "    }\n",
              "\n",
              "    [theme=dark] .colab-df-convert {\n",
              "      background-color: #3B4455;\n",
              "      fill: #D2E3FC;\n",
              "    }\n",
              "\n",
              "    [theme=dark] .colab-df-convert:hover {\n",
              "      background-color: #434B5C;\n",
              "      box-shadow: 0px 1px 3px 1px rgba(0, 0, 0, 0.15);\n",
              "      filter: drop-shadow(0px 1px 2px rgba(0, 0, 0, 0.3));\n",
              "      fill: #FFFFFF;\n",
              "    }\n",
              "  </style>\n",
              "\n",
              "      <script>\n",
              "        const buttonEl =\n",
              "          document.querySelector('#df-76d1d215-ad20-4b94-b337-0cf10f2df597 button.colab-df-convert');\n",
              "        buttonEl.style.display =\n",
              "          google.colab.kernel.accessAllowed ? 'block' : 'none';\n",
              "\n",
              "        async function convertToInteractive(key) {\n",
              "          const element = document.querySelector('#df-76d1d215-ad20-4b94-b337-0cf10f2df597');\n",
              "          const dataTable =\n",
              "            await google.colab.kernel.invokeFunction('convertToInteractive',\n",
              "                                                     [key], {});\n",
              "          if (!dataTable) return;\n",
              "\n",
              "          const docLinkHtml = 'Like what you see? Visit the ' +\n",
              "            '<a target=\"_blank\" href=https://colab.research.google.com/notebooks/data_table.ipynb>data table notebook</a>'\n",
              "            + ' to learn more about interactive tables.';\n",
              "          element.innerHTML = '';\n",
              "          dataTable['output_type'] = 'display_data';\n",
              "          await google.colab.output.renderOutput(dataTable, element);\n",
              "          const docLink = document.createElement('div');\n",
              "          docLink.innerHTML = docLinkHtml;\n",
              "          element.appendChild(docLink);\n",
              "        }\n",
              "      </script>\n",
              "    </div>\n",
              "  </div>\n",
              "  "
            ]
          },
          "metadata": {},
          "execution_count": 11
        }
      ],
      "source": [
        "sensor1_label = pd.read_csv(data_path+\"Ground_truth_instant_10000_sensor1.csv\", names=['Class'])\n",
        "sensor1_label.head()"
      ]
    },
    {
      "cell_type": "code",
      "execution_count": null,
      "metadata": {
        "colab": {
          "base_uri": "https://localhost:8080/"
        },
        "id": "2mxdhpBpQMjZ",
        "outputId": "901e06ef-ecf7-4d96-974b-7065d658b9d6"
      },
      "outputs": [
        {
          "output_type": "execute_result",
          "data": {
            "text/plain": [
              "29800"
            ]
          },
          "metadata": {},
          "execution_count": 12
        }
      ],
      "source": [
        "len(sensor1_label)"
      ]
    },
    {
      "cell_type": "code",
      "execution_count": null,
      "metadata": {
        "colab": {
          "base_uri": "https://localhost:8080/",
          "height": 206
        },
        "id": "hV_gOXr70BKL",
        "outputId": "e99c835c-e738-42be-9186-4101f779a40b"
      },
      "outputs": [
        {
          "output_type": "execute_result",
          "data": {
            "text/plain": [
              "   InVehicle_Longitudinal_Speed  GPS_Speed  InVehicle_Longitudinal_Accel\n",
              "0                     11.375000  11.307097                     -0.103000\n",
              "1                     11.366708  11.255964                     -0.353946\n",
              "2                     11.362331  11.249115                     -0.090962\n",
              "3                     11.358665  11.263280                     -0.043470\n",
              "4                     11.356745  11.270361                     -0.037579"
            ],
            "text/html": [
              "\n",
              "  <div id=\"df-1b7c4e63-995b-495b-9066-187d87c2a9f7\">\n",
              "    <div class=\"colab-df-container\">\n",
              "      <div>\n",
              "<style scoped>\n",
              "    .dataframe tbody tr th:only-of-type {\n",
              "        vertical-align: middle;\n",
              "    }\n",
              "\n",
              "    .dataframe tbody tr th {\n",
              "        vertical-align: top;\n",
              "    }\n",
              "\n",
              "    .dataframe thead th {\n",
              "        text-align: right;\n",
              "    }\n",
              "</style>\n",
              "<table border=\"1\" class=\"dataframe\">\n",
              "  <thead>\n",
              "    <tr style=\"text-align: right;\">\n",
              "      <th></th>\n",
              "      <th>InVehicle_Longitudinal_Speed</th>\n",
              "      <th>GPS_Speed</th>\n",
              "      <th>InVehicle_Longitudinal_Accel</th>\n",
              "    </tr>\n",
              "  </thead>\n",
              "  <tbody>\n",
              "    <tr>\n",
              "      <th>0</th>\n",
              "      <td>11.375000</td>\n",
              "      <td>11.307097</td>\n",
              "      <td>-0.103000</td>\n",
              "    </tr>\n",
              "    <tr>\n",
              "      <th>1</th>\n",
              "      <td>11.366708</td>\n",
              "      <td>11.255964</td>\n",
              "      <td>-0.353946</td>\n",
              "    </tr>\n",
              "    <tr>\n",
              "      <th>2</th>\n",
              "      <td>11.362331</td>\n",
              "      <td>11.249115</td>\n",
              "      <td>-0.090962</td>\n",
              "    </tr>\n",
              "    <tr>\n",
              "      <th>3</th>\n",
              "      <td>11.358665</td>\n",
              "      <td>11.263280</td>\n",
              "      <td>-0.043470</td>\n",
              "    </tr>\n",
              "    <tr>\n",
              "      <th>4</th>\n",
              "      <td>11.356745</td>\n",
              "      <td>11.270361</td>\n",
              "      <td>-0.037579</td>\n",
              "    </tr>\n",
              "  </tbody>\n",
              "</table>\n",
              "</div>\n",
              "      <button class=\"colab-df-convert\" onclick=\"convertToInteractive('df-1b7c4e63-995b-495b-9066-187d87c2a9f7')\"\n",
              "              title=\"Convert this dataframe to an interactive table.\"\n",
              "              style=\"display:none;\">\n",
              "        \n",
              "  <svg xmlns=\"http://www.w3.org/2000/svg\" height=\"24px\"viewBox=\"0 0 24 24\"\n",
              "       width=\"24px\">\n",
              "    <path d=\"M0 0h24v24H0V0z\" fill=\"none\"/>\n",
              "    <path d=\"M18.56 5.44l.94 2.06.94-2.06 2.06-.94-2.06-.94-.94-2.06-.94 2.06-2.06.94zm-11 1L8.5 8.5l.94-2.06 2.06-.94-2.06-.94L8.5 2.5l-.94 2.06-2.06.94zm10 10l.94 2.06.94-2.06 2.06-.94-2.06-.94-.94-2.06-.94 2.06-2.06.94z\"/><path d=\"M17.41 7.96l-1.37-1.37c-.4-.4-.92-.59-1.43-.59-.52 0-1.04.2-1.43.59L10.3 9.45l-7.72 7.72c-.78.78-.78 2.05 0 2.83L4 21.41c.39.39.9.59 1.41.59.51 0 1.02-.2 1.41-.59l7.78-7.78 2.81-2.81c.8-.78.8-2.07 0-2.86zM5.41 20L4 18.59l7.72-7.72 1.47 1.35L5.41 20z\"/>\n",
              "  </svg>\n",
              "      </button>\n",
              "      \n",
              "  <style>\n",
              "    .colab-df-container {\n",
              "      display:flex;\n",
              "      flex-wrap:wrap;\n",
              "      gap: 12px;\n",
              "    }\n",
              "\n",
              "    .colab-df-convert {\n",
              "      background-color: #E8F0FE;\n",
              "      border: none;\n",
              "      border-radius: 50%;\n",
              "      cursor: pointer;\n",
              "      display: none;\n",
              "      fill: #1967D2;\n",
              "      height: 32px;\n",
              "      padding: 0 0 0 0;\n",
              "      width: 32px;\n",
              "    }\n",
              "\n",
              "    .colab-df-convert:hover {\n",
              "      background-color: #E2EBFA;\n",
              "      box-shadow: 0px 1px 2px rgba(60, 64, 67, 0.3), 0px 1px 3px 1px rgba(60, 64, 67, 0.15);\n",
              "      fill: #174EA6;\n",
              "    }\n",
              "\n",
              "    [theme=dark] .colab-df-convert {\n",
              "      background-color: #3B4455;\n",
              "      fill: #D2E3FC;\n",
              "    }\n",
              "\n",
              "    [theme=dark] .colab-df-convert:hover {\n",
              "      background-color: #434B5C;\n",
              "      box-shadow: 0px 1px 3px 1px rgba(0, 0, 0, 0.15);\n",
              "      filter: drop-shadow(0px 1px 2px rgba(0, 0, 0, 0.3));\n",
              "      fill: #FFFFFF;\n",
              "    }\n",
              "  </style>\n",
              "\n",
              "      <script>\n",
              "        const buttonEl =\n",
              "          document.querySelector('#df-1b7c4e63-995b-495b-9066-187d87c2a9f7 button.colab-df-convert');\n",
              "        buttonEl.style.display =\n",
              "          google.colab.kernel.accessAllowed ? 'block' : 'none';\n",
              "\n",
              "        async function convertToInteractive(key) {\n",
              "          const element = document.querySelector('#df-1b7c4e63-995b-495b-9066-187d87c2a9f7');\n",
              "          const dataTable =\n",
              "            await google.colab.kernel.invokeFunction('convertToInteractive',\n",
              "                                                     [key], {});\n",
              "          if (!dataTable) return;\n",
              "\n",
              "          const docLinkHtml = 'Like what you see? Visit the ' +\n",
              "            '<a target=\"_blank\" href=https://colab.research.google.com/notebooks/data_table.ipynb>data table notebook</a>'\n",
              "            + ' to learn more about interactive tables.';\n",
              "          element.innerHTML = '';\n",
              "          dataTable['output_type'] = 'display_data';\n",
              "          await google.colab.output.renderOutput(dataTable, element);\n",
              "          const docLink = document.createElement('div');\n",
              "          docLink.innerHTML = docLinkHtml;\n",
              "          element.appendChild(docLink);\n",
              "        }\n",
              "      </script>\n",
              "    </div>\n",
              "  </div>\n",
              "  "
            ]
          },
          "metadata": {},
          "execution_count": 13
        }
      ],
      "source": [
        "sensor2_data = pd.read_csv(data_path + \"Sensor2_values_instant_10000.csv\", index_col = \"Unnamed: 0\")\n",
        "sensor2_data.head()"
      ]
    },
    {
      "cell_type": "code",
      "execution_count": null,
      "metadata": {
        "colab": {
          "base_uri": "https://localhost:8080/",
          "height": 206
        },
        "id": "8PtBb1m00oRX",
        "outputId": "5de2fa12-f00c-4386-f808-915181028e66"
      },
      "outputs": [
        {
          "output_type": "execute_result",
          "data": {
            "text/plain": [
              "   Class\n",
              "0    0.0\n",
              "1    0.0\n",
              "2    0.0\n",
              "3    0.0\n",
              "4    0.0"
            ],
            "text/html": [
              "\n",
              "  <div id=\"df-8d382076-94e7-409e-bc25-f8756f89ac5c\">\n",
              "    <div class=\"colab-df-container\">\n",
              "      <div>\n",
              "<style scoped>\n",
              "    .dataframe tbody tr th:only-of-type {\n",
              "        vertical-align: middle;\n",
              "    }\n",
              "\n",
              "    .dataframe tbody tr th {\n",
              "        vertical-align: top;\n",
              "    }\n",
              "\n",
              "    .dataframe thead th {\n",
              "        text-align: right;\n",
              "    }\n",
              "</style>\n",
              "<table border=\"1\" class=\"dataframe\">\n",
              "  <thead>\n",
              "    <tr style=\"text-align: right;\">\n",
              "      <th></th>\n",
              "      <th>Class</th>\n",
              "    </tr>\n",
              "  </thead>\n",
              "  <tbody>\n",
              "    <tr>\n",
              "      <th>0</th>\n",
              "      <td>0.0</td>\n",
              "    </tr>\n",
              "    <tr>\n",
              "      <th>1</th>\n",
              "      <td>0.0</td>\n",
              "    </tr>\n",
              "    <tr>\n",
              "      <th>2</th>\n",
              "      <td>0.0</td>\n",
              "    </tr>\n",
              "    <tr>\n",
              "      <th>3</th>\n",
              "      <td>0.0</td>\n",
              "    </tr>\n",
              "    <tr>\n",
              "      <th>4</th>\n",
              "      <td>0.0</td>\n",
              "    </tr>\n",
              "  </tbody>\n",
              "</table>\n",
              "</div>\n",
              "      <button class=\"colab-df-convert\" onclick=\"convertToInteractive('df-8d382076-94e7-409e-bc25-f8756f89ac5c')\"\n",
              "              title=\"Convert this dataframe to an interactive table.\"\n",
              "              style=\"display:none;\">\n",
              "        \n",
              "  <svg xmlns=\"http://www.w3.org/2000/svg\" height=\"24px\"viewBox=\"0 0 24 24\"\n",
              "       width=\"24px\">\n",
              "    <path d=\"M0 0h24v24H0V0z\" fill=\"none\"/>\n",
              "    <path d=\"M18.56 5.44l.94 2.06.94-2.06 2.06-.94-2.06-.94-.94-2.06-.94 2.06-2.06.94zm-11 1L8.5 8.5l.94-2.06 2.06-.94-2.06-.94L8.5 2.5l-.94 2.06-2.06.94zm10 10l.94 2.06.94-2.06 2.06-.94-2.06-.94-.94-2.06-.94 2.06-2.06.94z\"/><path d=\"M17.41 7.96l-1.37-1.37c-.4-.4-.92-.59-1.43-.59-.52 0-1.04.2-1.43.59L10.3 9.45l-7.72 7.72c-.78.78-.78 2.05 0 2.83L4 21.41c.39.39.9.59 1.41.59.51 0 1.02-.2 1.41-.59l7.78-7.78 2.81-2.81c.8-.78.8-2.07 0-2.86zM5.41 20L4 18.59l7.72-7.72 1.47 1.35L5.41 20z\"/>\n",
              "  </svg>\n",
              "      </button>\n",
              "      \n",
              "  <style>\n",
              "    .colab-df-container {\n",
              "      display:flex;\n",
              "      flex-wrap:wrap;\n",
              "      gap: 12px;\n",
              "    }\n",
              "\n",
              "    .colab-df-convert {\n",
              "      background-color: #E8F0FE;\n",
              "      border: none;\n",
              "      border-radius: 50%;\n",
              "      cursor: pointer;\n",
              "      display: none;\n",
              "      fill: #1967D2;\n",
              "      height: 32px;\n",
              "      padding: 0 0 0 0;\n",
              "      width: 32px;\n",
              "    }\n",
              "\n",
              "    .colab-df-convert:hover {\n",
              "      background-color: #E2EBFA;\n",
              "      box-shadow: 0px 1px 2px rgba(60, 64, 67, 0.3), 0px 1px 3px 1px rgba(60, 64, 67, 0.15);\n",
              "      fill: #174EA6;\n",
              "    }\n",
              "\n",
              "    [theme=dark] .colab-df-convert {\n",
              "      background-color: #3B4455;\n",
              "      fill: #D2E3FC;\n",
              "    }\n",
              "\n",
              "    [theme=dark] .colab-df-convert:hover {\n",
              "      background-color: #434B5C;\n",
              "      box-shadow: 0px 1px 3px 1px rgba(0, 0, 0, 0.15);\n",
              "      filter: drop-shadow(0px 1px 2px rgba(0, 0, 0, 0.3));\n",
              "      fill: #FFFFFF;\n",
              "    }\n",
              "  </style>\n",
              "\n",
              "      <script>\n",
              "        const buttonEl =\n",
              "          document.querySelector('#df-8d382076-94e7-409e-bc25-f8756f89ac5c button.colab-df-convert');\n",
              "        buttonEl.style.display =\n",
              "          google.colab.kernel.accessAllowed ? 'block' : 'none';\n",
              "\n",
              "        async function convertToInteractive(key) {\n",
              "          const element = document.querySelector('#df-8d382076-94e7-409e-bc25-f8756f89ac5c');\n",
              "          const dataTable =\n",
              "            await google.colab.kernel.invokeFunction('convertToInteractive',\n",
              "                                                     [key], {});\n",
              "          if (!dataTable) return;\n",
              "\n",
              "          const docLinkHtml = 'Like what you see? Visit the ' +\n",
              "            '<a target=\"_blank\" href=https://colab.research.google.com/notebooks/data_table.ipynb>data table notebook</a>'\n",
              "            + ' to learn more about interactive tables.';\n",
              "          element.innerHTML = '';\n",
              "          dataTable['output_type'] = 'display_data';\n",
              "          await google.colab.output.renderOutput(dataTable, element);\n",
              "          const docLink = document.createElement('div');\n",
              "          docLink.innerHTML = docLinkHtml;\n",
              "          element.appendChild(docLink);\n",
              "        }\n",
              "      </script>\n",
              "    </div>\n",
              "  </div>\n",
              "  "
            ]
          },
          "metadata": {},
          "execution_count": 14
        }
      ],
      "source": [
        "sensor2_label = pd.read_csv(data_path + \"Ground_truth_instant_10000_sensor2.csv\",names=['Class'])\n",
        "sensor2_label.head()"
      ]
    },
    {
      "cell_type": "code",
      "execution_count": null,
      "metadata": {
        "colab": {
          "base_uri": "https://localhost:8080/",
          "height": 206
        },
        "id": "mCLgKYTJ0f7t",
        "outputId": "225e22d8-96b3-4899-a260-03cd2dd462cf"
      },
      "outputs": [
        {
          "output_type": "execute_result",
          "data": {
            "text/plain": [
              "   InVehicle_Longitudinal_Speed  GPS_Speed  InVehicle_Longitudinal_Accel\n",
              "0                     11.375000  11.307097                     -0.103000\n",
              "1                     11.366708  11.255964                     -0.353946\n",
              "2                     11.362331  11.249115                     -0.090962\n",
              "3                     11.358665  11.263280                     -0.043470\n",
              "4                     11.356745  11.270361                     -0.037579"
            ],
            "text/html": [
              "\n",
              "  <div id=\"df-c0ef6a82-ce65-4e44-ad91-a44f6d6d3a7d\">\n",
              "    <div class=\"colab-df-container\">\n",
              "      <div>\n",
              "<style scoped>\n",
              "    .dataframe tbody tr th:only-of-type {\n",
              "        vertical-align: middle;\n",
              "    }\n",
              "\n",
              "    .dataframe tbody tr th {\n",
              "        vertical-align: top;\n",
              "    }\n",
              "\n",
              "    .dataframe thead th {\n",
              "        text-align: right;\n",
              "    }\n",
              "</style>\n",
              "<table border=\"1\" class=\"dataframe\">\n",
              "  <thead>\n",
              "    <tr style=\"text-align: right;\">\n",
              "      <th></th>\n",
              "      <th>InVehicle_Longitudinal_Speed</th>\n",
              "      <th>GPS_Speed</th>\n",
              "      <th>InVehicle_Longitudinal_Accel</th>\n",
              "    </tr>\n",
              "  </thead>\n",
              "  <tbody>\n",
              "    <tr>\n",
              "      <th>0</th>\n",
              "      <td>11.375000</td>\n",
              "      <td>11.307097</td>\n",
              "      <td>-0.103000</td>\n",
              "    </tr>\n",
              "    <tr>\n",
              "      <th>1</th>\n",
              "      <td>11.366708</td>\n",
              "      <td>11.255964</td>\n",
              "      <td>-0.353946</td>\n",
              "    </tr>\n",
              "    <tr>\n",
              "      <th>2</th>\n",
              "      <td>11.362331</td>\n",
              "      <td>11.249115</td>\n",
              "      <td>-0.090962</td>\n",
              "    </tr>\n",
              "    <tr>\n",
              "      <th>3</th>\n",
              "      <td>11.358665</td>\n",
              "      <td>11.263280</td>\n",
              "      <td>-0.043470</td>\n",
              "    </tr>\n",
              "    <tr>\n",
              "      <th>4</th>\n",
              "      <td>11.356745</td>\n",
              "      <td>11.270361</td>\n",
              "      <td>-0.037579</td>\n",
              "    </tr>\n",
              "  </tbody>\n",
              "</table>\n",
              "</div>\n",
              "      <button class=\"colab-df-convert\" onclick=\"convertToInteractive('df-c0ef6a82-ce65-4e44-ad91-a44f6d6d3a7d')\"\n",
              "              title=\"Convert this dataframe to an interactive table.\"\n",
              "              style=\"display:none;\">\n",
              "        \n",
              "  <svg xmlns=\"http://www.w3.org/2000/svg\" height=\"24px\"viewBox=\"0 0 24 24\"\n",
              "       width=\"24px\">\n",
              "    <path d=\"M0 0h24v24H0V0z\" fill=\"none\"/>\n",
              "    <path d=\"M18.56 5.44l.94 2.06.94-2.06 2.06-.94-2.06-.94-.94-2.06-.94 2.06-2.06.94zm-11 1L8.5 8.5l.94-2.06 2.06-.94-2.06-.94L8.5 2.5l-.94 2.06-2.06.94zm10 10l.94 2.06.94-2.06 2.06-.94-2.06-.94-.94-2.06-.94 2.06-2.06.94z\"/><path d=\"M17.41 7.96l-1.37-1.37c-.4-.4-.92-.59-1.43-.59-.52 0-1.04.2-1.43.59L10.3 9.45l-7.72 7.72c-.78.78-.78 2.05 0 2.83L4 21.41c.39.39.9.59 1.41.59.51 0 1.02-.2 1.41-.59l7.78-7.78 2.81-2.81c.8-.78.8-2.07 0-2.86zM5.41 20L4 18.59l7.72-7.72 1.47 1.35L5.41 20z\"/>\n",
              "  </svg>\n",
              "      </button>\n",
              "      \n",
              "  <style>\n",
              "    .colab-df-container {\n",
              "      display:flex;\n",
              "      flex-wrap:wrap;\n",
              "      gap: 12px;\n",
              "    }\n",
              "\n",
              "    .colab-df-convert {\n",
              "      background-color: #E8F0FE;\n",
              "      border: none;\n",
              "      border-radius: 50%;\n",
              "      cursor: pointer;\n",
              "      display: none;\n",
              "      fill: #1967D2;\n",
              "      height: 32px;\n",
              "      padding: 0 0 0 0;\n",
              "      width: 32px;\n",
              "    }\n",
              "\n",
              "    .colab-df-convert:hover {\n",
              "      background-color: #E2EBFA;\n",
              "      box-shadow: 0px 1px 2px rgba(60, 64, 67, 0.3), 0px 1px 3px 1px rgba(60, 64, 67, 0.15);\n",
              "      fill: #174EA6;\n",
              "    }\n",
              "\n",
              "    [theme=dark] .colab-df-convert {\n",
              "      background-color: #3B4455;\n",
              "      fill: #D2E3FC;\n",
              "    }\n",
              "\n",
              "    [theme=dark] .colab-df-convert:hover {\n",
              "      background-color: #434B5C;\n",
              "      box-shadow: 0px 1px 3px 1px rgba(0, 0, 0, 0.15);\n",
              "      filter: drop-shadow(0px 1px 2px rgba(0, 0, 0, 0.3));\n",
              "      fill: #FFFFFF;\n",
              "    }\n",
              "  </style>\n",
              "\n",
              "      <script>\n",
              "        const buttonEl =\n",
              "          document.querySelector('#df-c0ef6a82-ce65-4e44-ad91-a44f6d6d3a7d button.colab-df-convert');\n",
              "        buttonEl.style.display =\n",
              "          google.colab.kernel.accessAllowed ? 'block' : 'none';\n",
              "\n",
              "        async function convertToInteractive(key) {\n",
              "          const element = document.querySelector('#df-c0ef6a82-ce65-4e44-ad91-a44f6d6d3a7d');\n",
              "          const dataTable =\n",
              "            await google.colab.kernel.invokeFunction('convertToInteractive',\n",
              "                                                     [key], {});\n",
              "          if (!dataTable) return;\n",
              "\n",
              "          const docLinkHtml = 'Like what you see? Visit the ' +\n",
              "            '<a target=\"_blank\" href=https://colab.research.google.com/notebooks/data_table.ipynb>data table notebook</a>'\n",
              "            + ' to learn more about interactive tables.';\n",
              "          element.innerHTML = '';\n",
              "          dataTable['output_type'] = 'display_data';\n",
              "          await google.colab.output.renderOutput(dataTable, element);\n",
              "          const docLink = document.createElement('div');\n",
              "          docLink.innerHTML = docLinkHtml;\n",
              "          element.appendChild(docLink);\n",
              "        }\n",
              "      </script>\n",
              "    </div>\n",
              "  </div>\n",
              "  "
            ]
          },
          "metadata": {},
          "execution_count": 15
        }
      ],
      "source": [
        "sensor3_data = pd.read_csv(data_path + \"Sensor3_values_instant_10000.csv\", index_col = \"Unnamed: 0\")\n",
        "sensor3_data.head()"
      ]
    },
    {
      "cell_type": "code",
      "execution_count": null,
      "metadata": {
        "colab": {
          "base_uri": "https://localhost:8080/",
          "height": 206
        },
        "id": "7bkpmS8x0lfa",
        "outputId": "2ae1854f-9c5a-4ab7-b1ca-80db0a261eef"
      },
      "outputs": [
        {
          "output_type": "execute_result",
          "data": {
            "text/plain": [
              "   Class\n",
              "0    0.0\n",
              "1    0.0\n",
              "2    0.0\n",
              "3    0.0\n",
              "4    0.0"
            ],
            "text/html": [
              "\n",
              "  <div id=\"df-47d2cfbd-4928-4d36-ae8e-586c78cc7751\">\n",
              "    <div class=\"colab-df-container\">\n",
              "      <div>\n",
              "<style scoped>\n",
              "    .dataframe tbody tr th:only-of-type {\n",
              "        vertical-align: middle;\n",
              "    }\n",
              "\n",
              "    .dataframe tbody tr th {\n",
              "        vertical-align: top;\n",
              "    }\n",
              "\n",
              "    .dataframe thead th {\n",
              "        text-align: right;\n",
              "    }\n",
              "</style>\n",
              "<table border=\"1\" class=\"dataframe\">\n",
              "  <thead>\n",
              "    <tr style=\"text-align: right;\">\n",
              "      <th></th>\n",
              "      <th>Class</th>\n",
              "    </tr>\n",
              "  </thead>\n",
              "  <tbody>\n",
              "    <tr>\n",
              "      <th>0</th>\n",
              "      <td>0.0</td>\n",
              "    </tr>\n",
              "    <tr>\n",
              "      <th>1</th>\n",
              "      <td>0.0</td>\n",
              "    </tr>\n",
              "    <tr>\n",
              "      <th>2</th>\n",
              "      <td>0.0</td>\n",
              "    </tr>\n",
              "    <tr>\n",
              "      <th>3</th>\n",
              "      <td>0.0</td>\n",
              "    </tr>\n",
              "    <tr>\n",
              "      <th>4</th>\n",
              "      <td>0.0</td>\n",
              "    </tr>\n",
              "  </tbody>\n",
              "</table>\n",
              "</div>\n",
              "      <button class=\"colab-df-convert\" onclick=\"convertToInteractive('df-47d2cfbd-4928-4d36-ae8e-586c78cc7751')\"\n",
              "              title=\"Convert this dataframe to an interactive table.\"\n",
              "              style=\"display:none;\">\n",
              "        \n",
              "  <svg xmlns=\"http://www.w3.org/2000/svg\" height=\"24px\"viewBox=\"0 0 24 24\"\n",
              "       width=\"24px\">\n",
              "    <path d=\"M0 0h24v24H0V0z\" fill=\"none\"/>\n",
              "    <path d=\"M18.56 5.44l.94 2.06.94-2.06 2.06-.94-2.06-.94-.94-2.06-.94 2.06-2.06.94zm-11 1L8.5 8.5l.94-2.06 2.06-.94-2.06-.94L8.5 2.5l-.94 2.06-2.06.94zm10 10l.94 2.06.94-2.06 2.06-.94-2.06-.94-.94-2.06-.94 2.06-2.06.94z\"/><path d=\"M17.41 7.96l-1.37-1.37c-.4-.4-.92-.59-1.43-.59-.52 0-1.04.2-1.43.59L10.3 9.45l-7.72 7.72c-.78.78-.78 2.05 0 2.83L4 21.41c.39.39.9.59 1.41.59.51 0 1.02-.2 1.41-.59l7.78-7.78 2.81-2.81c.8-.78.8-2.07 0-2.86zM5.41 20L4 18.59l7.72-7.72 1.47 1.35L5.41 20z\"/>\n",
              "  </svg>\n",
              "      </button>\n",
              "      \n",
              "  <style>\n",
              "    .colab-df-container {\n",
              "      display:flex;\n",
              "      flex-wrap:wrap;\n",
              "      gap: 12px;\n",
              "    }\n",
              "\n",
              "    .colab-df-convert {\n",
              "      background-color: #E8F0FE;\n",
              "      border: none;\n",
              "      border-radius: 50%;\n",
              "      cursor: pointer;\n",
              "      display: none;\n",
              "      fill: #1967D2;\n",
              "      height: 32px;\n",
              "      padding: 0 0 0 0;\n",
              "      width: 32px;\n",
              "    }\n",
              "\n",
              "    .colab-df-convert:hover {\n",
              "      background-color: #E2EBFA;\n",
              "      box-shadow: 0px 1px 2px rgba(60, 64, 67, 0.3), 0px 1px 3px 1px rgba(60, 64, 67, 0.15);\n",
              "      fill: #174EA6;\n",
              "    }\n",
              "\n",
              "    [theme=dark] .colab-df-convert {\n",
              "      background-color: #3B4455;\n",
              "      fill: #D2E3FC;\n",
              "    }\n",
              "\n",
              "    [theme=dark] .colab-df-convert:hover {\n",
              "      background-color: #434B5C;\n",
              "      box-shadow: 0px 1px 3px 1px rgba(0, 0, 0, 0.15);\n",
              "      filter: drop-shadow(0px 1px 2px rgba(0, 0, 0, 0.3));\n",
              "      fill: #FFFFFF;\n",
              "    }\n",
              "  </style>\n",
              "\n",
              "      <script>\n",
              "        const buttonEl =\n",
              "          document.querySelector('#df-47d2cfbd-4928-4d36-ae8e-586c78cc7751 button.colab-df-convert');\n",
              "        buttonEl.style.display =\n",
              "          google.colab.kernel.accessAllowed ? 'block' : 'none';\n",
              "\n",
              "        async function convertToInteractive(key) {\n",
              "          const element = document.querySelector('#df-47d2cfbd-4928-4d36-ae8e-586c78cc7751');\n",
              "          const dataTable =\n",
              "            await google.colab.kernel.invokeFunction('convertToInteractive',\n",
              "                                                     [key], {});\n",
              "          if (!dataTable) return;\n",
              "\n",
              "          const docLinkHtml = 'Like what you see? Visit the ' +\n",
              "            '<a target=\"_blank\" href=https://colab.research.google.com/notebooks/data_table.ipynb>data table notebook</a>'\n",
              "            + ' to learn more about interactive tables.';\n",
              "          element.innerHTML = '';\n",
              "          dataTable['output_type'] = 'display_data';\n",
              "          await google.colab.output.renderOutput(dataTable, element);\n",
              "          const docLink = document.createElement('div');\n",
              "          docLink.innerHTML = docLinkHtml;\n",
              "          element.appendChild(docLink);\n",
              "        }\n",
              "      </script>\n",
              "    </div>\n",
              "  </div>\n",
              "  "
            ]
          },
          "metadata": {},
          "execution_count": 16
        }
      ],
      "source": [
        "sensor3_label = pd.read_csv(data_path + \"Ground_truth_instant_10000_sensor3.csv\", names=['Class'])\n",
        "sensor3_label.head()"
      ]
    },
    {
      "cell_type": "code",
      "execution_count": null,
      "metadata": {
        "id": "XGVASJUa_PUk"
      },
      "outputs": [],
      "source": [
        "sensor1_data['std_speed_5'] = sensor1_data['InVehicle_Longitudinal_Speed'].rolling(5, min_periods= 1, center= True).std()\n",
        "sensor1_data['std_acc_5'] = sensor1_data['InVehicle_Longitudinal_Accel'].rolling(5, min_periods= 1, center= True).std()\n",
        "sensor1_data['std_GPS_5'] = sensor1_data['GPS_Speed'].rolling(5, min_periods= 1, center= True).std()"
      ]
    },
    {
      "cell_type": "code",
      "execution_count": null,
      "metadata": {
        "colab": {
          "base_uri": "https://localhost:8080/"
        },
        "id": "auzfsS2q_PdV",
        "outputId": "6b710c52-c5a4-483f-fc25-28404c2d0d8b"
      },
      "outputs": [
        {
          "output_type": "execute_result",
          "data": {
            "text/plain": [
              "Index(['InVehicle_Longitudinal_Speed', 'GPS_Speed',\n",
              "       'InVehicle_Longitudinal_Accel', 'std_speed_5', 'std_acc_5',\n",
              "       'std_GPS_5'],\n",
              "      dtype='object')"
            ]
          },
          "metadata": {},
          "execution_count": 18
        }
      ],
      "source": [
        "sensor1_data.columns"
      ]
    },
    {
      "cell_type": "code",
      "execution_count": null,
      "metadata": {
        "colab": {
          "base_uri": "https://localhost:8080/",
          "height": 282
        },
        "id": "pDW_sQwS_Pes",
        "outputId": "e1fc3cfa-4dfc-4825-9c81-8dca937161ae"
      },
      "outputs": [
        {
          "output_type": "execute_result",
          "data": {
            "text/plain": [
              "<matplotlib.axes._subplots.AxesSubplot at 0x7ff0a1148e50>"
            ]
          },
          "metadata": {},
          "execution_count": 19
        },
        {
          "output_type": "display_data",
          "data": {
            "text/plain": [
              "<Figure size 432x288 with 1 Axes>"
            ],
            "image/png": "[encoded data removed]"
          },
          "metadata": {
            "needs_background": "light"
          }
        }
      ],
      "source": [
        "sensor1_data[['InVehicle_Longitudinal_Speed','std_speed_5']].plot(color=['red', 'green'] )"
      ]
    },
    {
      "cell_type": "code",
      "execution_count": null,
      "metadata": {
        "colab": {
          "base_uri": "https://localhost:8080/",
          "height": 282
        },
        "id": "DcmrN3TZ_PiS",
        "outputId": "1051f19d-56f8-4ae4-81dc-7be33d02ce0d"
      },
      "outputs": [
        {
          "output_type": "execute_result",
          "data": {
            "text/plain": [
              "<matplotlib.axes._subplots.AxesSubplot at 0x7ff0a1045700>"
            ]
          },
          "metadata": {},
          "execution_count": 20
        },
        {
          "output_type": "display_data",
          "data": {
            "text/plain": [
              "<Figure size 432x288 with 1 Axes>"
            ],
            "image/png": "[encoded data removed]"
          },
          "metadata": {
            "needs_background": "light"
          }
        }
      ],
      "source": [
        "sensor1_data[['InVehicle_Longitudinal_Accel','std_acc_5']].plot(color=['red', 'blue'] )"
      ]
    },
    {
      "cell_type": "code",
      "execution_count": null,
      "metadata": {
        "colab": {
          "base_uri": "https://localhost:8080/",
          "height": 282
        },
        "id": "4EydhRw1_f04",
        "outputId": "a5182ffe-f6a5-4218-fc13-3c095f98d114"
      },
      "outputs": [
        {
          "output_type": "execute_result",
          "data": {
            "text/plain": [
              "<matplotlib.axes._subplots.AxesSubplot at 0x7ff0a0b73a30>"
            ]
          },
          "metadata": {},
          "execution_count": 21
        },
        {
          "output_type": "display_data",
          "data": {
            "text/plain": [
              "<Figure size 432x288 with 1 Axes>"
            ],
            "image/png": "[encoded data removed]"
          },
          "metadata": {
            "needs_background": "light"
          }
        }
      ],
      "source": [
        "sensor1_data[['GPS_Speed','std_GPS_5']].plot(color=['red', 'yellow'] )"
      ]
    },
    {
      "cell_type": "code",
      "execution_count": null,
      "metadata": {
        "id": "17RyXh0K_f6U"
      },
      "outputs": [],
      "source": [
        "sensor2_data['std_speed_5'] = sensor2_data['InVehicle_Longitudinal_Speed'].rolling(5, min_periods= 1, center= True).std()\n",
        "sensor2_data['std_acc_5'] = sensor2_data['InVehicle_Longitudinal_Accel'].rolling(5, min_periods= 1, center= True).std()\n",
        "sensor2_data['std_GPS_5'] = sensor2_data['GPS_Speed'].rolling(5, min_periods= 1, center= True).std()"
      ]
    },
    {
      "cell_type": "code",
      "execution_count": null,
      "metadata": {
        "colab": {
          "base_uri": "https://localhost:8080/"
        },
        "id": "6FnTFBPU_jyi",
        "outputId": "d22a4556-528a-4297-82e9-76362f57cea1"
      },
      "outputs": [
        {
          "output_type": "execute_result",
          "data": {
            "text/plain": [
              "Index(['InVehicle_Longitudinal_Speed', 'GPS_Speed',\n",
              "       'InVehicle_Longitudinal_Accel', 'std_speed_5', 'std_acc_5',\n",
              "       'std_GPS_5'],\n",
              "      dtype='object')"
            ]
          },
          "metadata": {},
          "execution_count": 23
        }
      ],
      "source": [
        "sensor2_data.columns"
      ]
    },
    {
      "cell_type": "code",
      "execution_count": null,
      "metadata": {
        "colab": {
          "base_uri": "https://localhost:8080/",
          "height": 282
        },
        "id": "XDU11z8y_j5r",
        "outputId": "31e25db4-3188-4e03-8479-e308cacc33f3"
      },
      "outputs": [
        {
          "output_type": "execute_result",
          "data": {
            "text/plain": [
              "<matplotlib.axes._subplots.AxesSubplot at 0x7ff0a104c460>"
            ]
          },
          "metadata": {},
          "execution_count": 24
        },
        {
          "output_type": "display_data",
          "data": {
            "text/plain": [
              "<Figure size 432x288 with 1 Axes>"
            ],
            "image/png": "[encoded data removed]"
          },
          "metadata": {
            "needs_background": "light"
          }
        }
      ],
      "source": [
        "sensor2_data[['InVehicle_Longitudinal_Speed','std_speed_5']].plot(color=['red', 'green'] )"
      ]
    },
    {
      "cell_type": "code",
      "execution_count": null,
      "metadata": {
        "colab": {
          "base_uri": "https://localhost:8080/",
          "height": 282
        },
        "id": "5var1lIv_j7B",
        "outputId": "59ebdf65-4557-483a-a973-3aaefb5464db"
      },
      "outputs": [
        {
          "output_type": "execute_result",
          "data": {
            "text/plain": [
              "<matplotlib.axes._subplots.AxesSubplot at 0x7ff0a0ace340>"
            ]
          },
          "metadata": {},
          "execution_count": 25
        },
        {
          "output_type": "display_data",
          "data": {
            "text/plain": [
              "<Figure size 432x288 with 1 Axes>"
            ],
            "image/png": "[encoded data removed]"
          },
          "metadata": {
            "needs_background": "light"
          }
        }
      ],
      "source": [
        "sensor2_data[['InVehicle_Longitudinal_Accel','std_acc_5']].plot(color=['red', 'blue'] )"
      ]
    },
    {
      "cell_type": "code",
      "execution_count": null,
      "metadata": {
        "colab": {
          "base_uri": "https://localhost:8080/",
          "height": 282
        },
        "id": "AmFTMqxb_s6x",
        "outputId": "5f1889cb-7a11-4a4a-c6a6-2911e1dbcc6c"
      },
      "outputs": [
        {
          "output_type": "execute_result",
          "data": {
            "text/plain": [
              "<matplotlib.axes._subplots.AxesSubplot at 0x7ff0a0a3a700>"
            ]
          },
          "metadata": {},
          "execution_count": 26
        },
        {
          "output_type": "display_data",
          "data": {
            "text/plain": [
              "<Figure size 432x288 with 1 Axes>"
            ],
            "image/png": "[encoded data removed]"
          },
          "metadata": {
            "needs_background": "light"
          }
        }
      ],
      "source": [
        "sensor2_data[['GPS_Speed','std_GPS_5']].plot(color=['red', 'yellow'] )"
      ]
    },
    {
      "cell_type": "code",
      "execution_count": null,
      "metadata": {
        "id": "AZMgkXl1_wNG"
      },
      "outputs": [],
      "source": [
        "sensor3_data['std_speed_5'] = sensor3_data['InVehicle_Longitudinal_Speed'].rolling(5, min_periods= 1, center= True).std()\n",
        "sensor3_data['std_acc_5'] = sensor3_data['InVehicle_Longitudinal_Accel'].rolling(5, min_periods= 1, center= True).std()\n",
        "sensor3_data['std_GPS_5'] = sensor3_data['GPS_Speed'].rolling(5, min_periods= 1, center= True).std()"
      ]
    },
    {
      "cell_type": "code",
      "execution_count": null,
      "metadata": {
        "colab": {
          "base_uri": "https://localhost:8080/"
        },
        "id": "z13oHpa3_06B",
        "outputId": "cea6dc1d-9e9c-445a-b2b5-651521749c58"
      },
      "outputs": [
        {
          "output_type": "execute_result",
          "data": {
            "text/plain": [
              "Index(['InVehicle_Longitudinal_Speed', 'GPS_Speed',\n",
              "       'InVehicle_Longitudinal_Accel', 'std_speed_5', 'std_acc_5',\n",
              "       'std_GPS_5'],\n",
              "      dtype='object')"
            ]
          },
          "metadata": {},
          "execution_count": 28
        }
      ],
      "source": [
        "sensor3_data.columns"
      ]
    },
    {
      "cell_type": "code",
      "execution_count": null,
      "metadata": {
        "colab": {
          "base_uri": "https://localhost:8080/",
          "height": 282
        },
        "id": "Xg1TA9vP_3Hf",
        "outputId": "21be9459-f9de-49c8-d2ef-45cc2f363a2d"
      },
      "outputs": [
        {
          "output_type": "execute_result",
          "data": {
            "text/plain": [
              "<matplotlib.axes._subplots.AxesSubplot at 0x7ff0a0a922e0>"
            ]
          },
          "metadata": {},
          "execution_count": 29
        },
        {
          "output_type": "display_data",
          "data": {
            "text/plain": [
              "<Figure size 432x288 with 1 Axes>"
            ],
            "image/png": "[encoded data removed]"
          },
          "metadata": {
            "needs_background": "light"
          }
        }
      ],
      "source": [
        "sensor3_data[['InVehicle_Longitudinal_Speed','std_speed_5']].plot(color=['red', 'green'] )"
      ]
    },
    {
      "cell_type": "code",
      "execution_count": null,
      "metadata": {
        "colab": {
          "base_uri": "https://localhost:8080/",
          "height": 282
        },
        "id": "r85zpGZ2_6Cp",
        "outputId": "7517641b-43c9-4a39-b4f7-bee0d7fa08c8"
      },
      "outputs": [
        {
          "output_type": "execute_result",
          "data": {
            "text/plain": [
              "<matplotlib.axes._subplots.AxesSubplot at 0x7ff0a0a08730>"
            ]
          },
          "metadata": {},
          "execution_count": 30
        },
        {
          "output_type": "display_data",
          "data": {
            "text/plain": [
              "<Figure size 432x288 with 1 Axes>"
            ],
            "image/png": "[encoded data removed]"
          },
          "metadata": {
            "needs_background": "light"
          }
        }
      ],
      "source": [
        "sensor3_data[['InVehicle_Longitudinal_Accel','std_acc_5']].plot(color=['red', 'blue'] )"
      ]
    },
    {
      "cell_type": "code",
      "execution_count": null,
      "metadata": {
        "colab": {
          "base_uri": "https://localhost:8080/",
          "height": 282
        },
        "id": "qpKVkpEy_6Ig",
        "outputId": "f73ed282-da87-425d-bff7-c89dda84c7ee"
      },
      "outputs": [
        {
          "output_type": "execute_result",
          "data": {
            "text/plain": [
              "<matplotlib.axes._subplots.AxesSubplot at 0x7ff0a08e7970>"
            ]
          },
          "metadata": {},
          "execution_count": 31
        },
        {
          "output_type": "display_data",
          "data": {
            "text/plain": [
              "<Figure size 432x288 with 1 Axes>"
            ],
            "image/png": "[encoded data removed]"
          },
          "metadata": {
            "needs_background": "light"
          }
        }
      ],
      "source": [
        "sensor3_data[['GPS_Speed','std_GPS_5']].plot(color=['red', 'yellow'] )"
      ]
    },
    {
      "cell_type": "code",
      "execution_count": null,
      "metadata": {
        "colab": {
          "base_uri": "https://localhost:8080/"
        },
        "id": "VaUYxUSMvH14",
        "outputId": "83e02825-c28b-4551-ed94-48173940c065"
      },
      "outputs": [
        {
          "output_type": "execute_result",
          "data": {
            "text/plain": [
              "array([[-0.2440782 , -0.23361998, -0.22547835],\n",
              "       [-0.24403196, -0.23405918, -0.22619107],\n",
              "       [-0.24401255, -0.23433561, -0.22693428],\n",
              "       [-0.24422462, -0.23548257, -0.22646754],\n",
              "       [-0.24429053, -0.23545152, -0.23567571]])"
            ]
          },
          "metadata": {},
          "execution_count": 32
        }
      ],
      "source": [
        "scaler  = StandardScaler()\n",
        "scaler.fit(sensor1_data[['std_speed_5','std_GPS_5','std_acc_5']])\n",
        "sensor1_data_normal = scaler.transform(sensor1_data[['std_speed_5','std_GPS_5','std_acc_5']]) \n",
        "sensor1_data_normal[:5]"
      ]
    },
    {
      "cell_type": "code",
      "execution_count": null,
      "metadata": {
        "colab": {
          "base_uri": "https://localhost:8080/"
        },
        "id": "DssP_ns3oPeE",
        "outputId": "04f6f2b2-86c7-4cd0-e867-20c693454ad5"
      },
      "outputs": [
        {
          "output_type": "execute_result",
          "data": {
            "text/plain": [
              "array([[-0.24703   , -0.23421966, -0.22739146],\n",
              "       [-0.24698337, -0.23466353, -0.22814343],\n",
              "       [-0.2469638 , -0.2349429 , -0.22892756],\n",
              "       [-0.24717764, -0.23610206, -0.22843512],\n",
              "       [-0.2472441 , -0.23607069, -0.23815034]])"
            ]
          },
          "metadata": {},
          "execution_count": 33
        }
      ],
      "source": [
        "scaler  = StandardScaler()\n",
        "scaler.fit(sensor2_data[['std_speed_5','std_GPS_5','std_acc_5']])\n",
        "sensor2_data_normal = scaler.transform(sensor2_data[['std_speed_5','std_GPS_5','std_acc_5']]) \n",
        "sensor2_data_normal[:5]"
      ]
    },
    {
      "cell_type": "code",
      "execution_count": null,
      "metadata": {
        "colab": {
          "base_uri": "https://localhost:8080/"
        },
        "id": "ShuycYtJoPQ2",
        "outputId": "42a4cfe7-4cab-4c13-847d-a0e39a7d0632"
      },
      "outputs": [
        {
          "output_type": "execute_result",
          "data": {
            "text/plain": [
              "array([[-0.24703   , -0.23421966, -0.22739146],\n",
              "       [-0.24698337, -0.23466353, -0.22814343],\n",
              "       [-0.2469638 , -0.2349429 , -0.22892756],\n",
              "       [-0.24717764, -0.23610206, -0.22843512],\n",
              "       [-0.2472441 , -0.23607069, -0.23815034]])"
            ]
          },
          "metadata": {},
          "execution_count": 34
        }
      ],
      "source": [
        "scaler  = StandardScaler()\n",
        "scaler.fit(sensor3_data[['std_speed_5','std_GPS_5','std_acc_5']])\n",
        "sensor3_data_normal = scaler.transform(sensor3_data[['std_speed_5','std_GPS_5','std_acc_5']]) \n",
        "sensor3_data_normal[:5]"
      ]
    },
    {
      "cell_type": "code",
      "execution_count": null,
      "metadata": {
        "id": "NPEKmySy2O0W"
      },
      "outputs": [],
      "source": [
        "window_size = 10\n",
        "\n",
        "# create windows with overlap\n",
        "def convertToFrames(X_data,y_data, step):\n",
        "    X, Y =[], []    \n",
        "    for i in range(len(X_data)-step):\n",
        "        y_or = 0\n",
        "        d=i+step  \n",
        "        X.append(X_data[i:d,])\n",
        "        for y in y_data.iloc[i:d].values:\n",
        "           y_or = y_or or y\n",
        "        \n",
        "        Y.append(y_or)\n",
        "    return np.array(X), np.array(Y)"
      ]
    },
    {
      "cell_type": "code",
      "execution_count": null,
      "metadata": {
        "colab": {
          "base_uri": "https://localhost:8080/"
        },
        "id": "1U7mLgOZaZsN",
        "outputId": "1bf657d0-8338-450a-c736-bf833a209369"
      },
      "outputs": [
        {
          "output_type": "execute_result",
          "data": {
            "text/plain": [
              "((29790, 10, 3), (29790, 1))"
            ]
          },
          "metadata": {},
          "execution_count": 36
        }
      ],
      "source": [
        "X_sensor1, y_sensor1 = convertToFrames(sensor1_data_normal, sensor1_label, window_size)\n",
        "X_sensor1.shape, y_sensor1.shape\n",
        "# print(X_sensor1[0])\n",
        "# print(X_sensor1[1])"
      ]
    },
    {
      "cell_type": "code",
      "execution_count": null,
      "metadata": {
        "colab": {
          "base_uri": "https://localhost:8080/"
        },
        "id": "LlbmzS3Hagp1",
        "outputId": "2276a0fa-f8de-44aa-a43a-9d0c31a62aa3"
      },
      "outputs": [
        {
          "output_type": "execute_result",
          "data": {
            "text/plain": [
              "((29790, 10, 3), (29790, 1))"
            ]
          },
          "metadata": {},
          "execution_count": 37
        }
      ],
      "source": [
        "X_sensor2, y_sensor2 = convertToFrames(sensor2_data_normal, sensor2_label, window_size)\n",
        "X_sensor2.shape, y_sensor2.shape"
      ]
    },
    {
      "cell_type": "code",
      "execution_count": null,
      "metadata": {
        "colab": {
          "base_uri": "https://localhost:8080/"
        },
        "id": "0QyV7kwragiE",
        "outputId": "676e87b7-7256-401b-d76e-70642ab18ba9"
      },
      "outputs": [
        {
          "output_type": "execute_result",
          "data": {
            "text/plain": [
              "((29790, 10, 3), (29790, 1))"
            ]
          },
          "metadata": {},
          "execution_count": 38
        }
      ],
      "source": [
        "X_sensor3, y_sensor3 = convertToFrames(sensor3_data_normal, sensor3_label, window_size)\n",
        "X_sensor3.shape, y_sensor3.shape"
      ]
    },
    {
      "cell_type": "code",
      "execution_count": null,
      "metadata": {
        "colab": {
          "base_uri": "https://localhost:8080/"
        },
        "id": "l4fSg45cplIB",
        "outputId": "da3ecf7a-9f0f-4e5e-8d54-57eb59e31602"
      },
      "outputs": [
        {
          "output_type": "execute_result",
          "data": {
            "text/plain": [
              "((25321, 10, 3), (4469, 10, 3), (25321, 2), (4469, 2))"
            ]
          },
          "metadata": {},
          "execution_count": 39
        }
      ],
      "source": [
        "y_sensor1 = to_categorical(y_sensor1, num_classes= 2, dtype='float32')\n",
        "X_train_sensor1,X_test_sensor1, y_train_sensor1, y_test_sensor1 = train_test_split(X_sensor1,y_sensor1,random_state = 1400, test_size= 0.15)\n",
        "y_train_sensor1, y_test_sensor1 = y_train_sensor1.squeeze(), y_test_sensor1.squeeze()\n",
        "X_train_sensor1.shape, X_test_sensor1.shape,y_train_sensor1.shape, y_test_sensor1.shape"
      ]
    },
    {
      "cell_type": "code",
      "execution_count": null,
      "metadata": {
        "colab": {
          "base_uri": "https://localhost:8080/"
        },
        "id": "M-6JhdmNplC4",
        "outputId": "b985ba17-b6eb-4a5a-b3d6-b8b51d07f3f3"
      },
      "outputs": [
        {
          "output_type": "execute_result",
          "data": {
            "text/plain": [
              "((25321, 10, 3), (4469, 10, 3), (25321, 2), (4469, 2))"
            ]
          },
          "metadata": {},
          "execution_count": 40
        }
      ],
      "source": [
        "y_sensor2 = to_categorical(y_sensor2, num_classes= 2, dtype='float32')\n",
        "X_train_sensor2,X_test_sensor2, y_train_sensor2, y_test_sensor2 = train_test_split(X_sensor2,y_sensor2,random_state = 1400, test_size= 0.15)\n",
        "y_train_sensor2, y_test_sensor2 = y_train_sensor2.squeeze(), y_test_sensor2.squeeze()\n",
        "X_train_sensor2.shape, X_test_sensor2.shape,y_train_sensor2.shape, y_test_sensor2.shape"
      ]
    },
    {
      "cell_type": "code",
      "execution_count": null,
      "metadata": {
        "colab": {
          "base_uri": "https://localhost:8080/"
        },
        "id": "CZmk_MFjpk_S",
        "outputId": "a7ce05e0-3467-4025-d7e6-df0e5c09553f"
      },
      "outputs": [
        {
          "output_type": "execute_result",
          "data": {
            "text/plain": [
              "((25321, 10, 3), (4469, 10, 3), (25321, 2), (4469, 2))"
            ]
          },
          "metadata": {},
          "execution_count": 41
        }
      ],
      "source": [
        "y_sensor3 = to_categorical(y_sensor3, num_classes= 2, dtype='float32')\n",
        "X_train_sensor3,X_test_sensor3, y_train_sensor3, y_test_sensor3 = train_test_split(X_sensor3,y_sensor3,random_state = 1400, test_size= 0.15)\n",
        "y_train_sensor3, y_test_sensor3 = y_train_sensor3.squeeze(), y_test_sensor3.squeeze()\n",
        "X_train_sensor3.shape, X_test_sensor3.shape,y_train_sensor3.shape, y_test_sensor3.shape"
      ]
    },
    {
      "cell_type": "code",
      "execution_count": null,
      "metadata": {
        "id": "DFlQxMk8PgWx"
      },
      "outputs": [],
      "source": [
        "\n",
        "def creatModel():\n",
        "  \n",
        "    model = Sequential()\n",
        "    model.add(Conv1D(kernel_size=3, filters= 40, activation= 'relu', padding='same'))\n",
        "    model.add(Dropout(0.1))\n",
        "    model.add( Conv1D(kernel_size=3, filters= 60, activation= 'relu', padding='same'))\n",
        "    model.add(Dropout(0.1))\n",
        "    model.add(Conv1D(kernel_size=3, filters= 60, activation= 'relu', padding='same'))\n",
        "    model.add(Dropout(0.1))\n",
        "    model.add(GlobalMaxPool1D())\n",
        "    model.add(RepeatVector(X_train_sensor1.shape[1]))\n",
        "    model.add(LSTM(256, return_sequences=True))\n",
        "    model.add(Dropout(rate=0.2))\n",
        "    model.add(LSTM(128, return_sequences=True))\n",
        "    model.add(Dropout(rate=0.2))\n",
        "    model.add(LSTM(64, return_sequences=False))\n",
        "    model.add(Dropout(rate=0.2))\n",
        "    model.add((Dense(32)))\n",
        "    model.add((Dense(16)))\n",
        "    model.add(Dense(2, activation='sigmoid', kernel_regularizer=l2()))\n",
        "    model.compile(optimizer='adam', loss='binary_crossentropy',metrics=['accuracy'])\n",
        "\n",
        "    return model\n"
      ]
    },
    {
      "cell_type": "code",
      "execution_count": null,
      "metadata": {
        "id": "VrTO2TLekYa-"
      },
      "outputs": [],
      "source": [
        "import time\n",
        "\n",
        "class TimeHistory(Callback):\n",
        "  \n",
        "    def on_epoch_begin(self, batch, logs={}):\n",
        "        self.epoch_time_start = time.time()\n",
        "\n",
        "    def on_epoch_end(self, batch, logs={}):\n",
        "        epoch_time = time.time() - self.epoch_time_start\n",
        "        logs['epoch_time'] = epoch_time\n"
      ]
    },
    {
      "cell_type": "code",
      "execution_count": null,
      "metadata": {
        "id": "M79Mq50tlTe6"
      },
      "outputs": [],
      "source": [
        "model_path = '/content/drive/MyDrive/CAV/data/Instant attack/10000/Models/Models28-1/'\n",
        "\n",
        "class Model_save(Callback):\n",
        "  def on_epoch_end(self, epoch, logs={}):\n",
        "    self.model.save(model_path + \"CNN-LSTM-autoEncoder-Instant-10000-CAV-perEpoch_{}.h5\".format(sensor))\n",
        "    "
      ]
    },
    {
      "cell_type": "code",
      "execution_count": null,
      "metadata": {
        "id": "nWddQ3LPlY5M"
      },
      "outputs": [],
      "source": [
        "def setCallbacks(sensor):\n",
        "\n",
        "  best_model_path = model_path + 'Best_CNN-LSTM-autoEncoder-Instant-10000-CAV_{}.h5'.format(sensor)\n",
        "  checkpoint = ModelCheckpoint(best_model_path, monitor='val_loss', save_best_only=True, mode='min')\n",
        "\n",
        "  history_cb = tf.keras.callbacks.CSVLogger(model_path + 'historyLOG_Instant-10000_{}.csv'.format(sensor), separator=\",\", append=True)\n",
        "\n",
        "  model_save = Model_save()\n",
        "\n",
        "  Estop = EarlyStopping(monitor='val_accuracy', patience= 100)\n",
        "  \n",
        "  return model_save, checkpoint, history_cb, Estop"
      ]
    },
    {
      "cell_type": "code",
      "execution_count": null,
      "metadata": {
        "colab": {
          "base_uri": "https://localhost:8080/"
        },
        "id": "t7odu-Z4_BLe",
        "outputId": "dc780bee-3084-4f19-b1f5-3a4838e6e182"
      },
      "outputs": [
        {
          "output_type": "stream",
          "name": "stdout",
          "text": [
            "Epoch 1/500\n",
            "179/179 [==============================] - 20s 24ms/step - loss: 0.1576 - accuracy: 0.9628 - val_loss: 0.0656 - val_accuracy: 0.9937 - epoch_time: 19.4608\n",
            "Epoch 2/500\n",
            "179/179 [==============================] - 2s 12ms/step - loss: 0.0611 - accuracy: 0.9903 - val_loss: 0.0387 - val_accuracy: 0.9953 - epoch_time: 1.9422\n",
            "Epoch 3/500\n",
            "179/179 [==============================] - 2s 12ms/step - loss: 0.0456 - accuracy: 0.9918 - val_loss: 0.0282 - val_accuracy: 0.9961 - epoch_time: 1.9273\n",
            "Epoch 4/500\n",
            "179/179 [==============================] - 2s 12ms/step - loss: 0.0452 - accuracy: 0.9912 - val_loss: 0.0276 - val_accuracy: 0.9949 - epoch_time: 1.9535\n",
            "Epoch 5/500\n",
            "179/179 [==============================] - 2s 13ms/step - loss: 0.0316 - accuracy: 0.9939 - val_loss: 0.0220 - val_accuracy: 0.9953 - epoch_time: 2.1080\n",
            "Epoch 6/500\n",
            "179/179 [==============================] - 3s 18ms/step - loss: 0.0294 - accuracy: 0.9939 - val_loss: 0.0245 - val_accuracy: 0.9949 - epoch_time: 3.0395\n",
            "Epoch 7/500\n",
            "179/179 [==============================] - 3s 16ms/step - loss: 0.0281 - accuracy: 0.9946 - val_loss: 0.0222 - val_accuracy: 0.9961 - epoch_time: 2.8327\n",
            "Epoch 8/500\n",
            "179/179 [==============================] - 2s 12ms/step - loss: 0.0269 - accuracy: 0.9949 - val_loss: 0.0264 - val_accuracy: 0.9949 - epoch_time: 2.1182\n",
            "Epoch 9/500\n",
            "179/179 [==============================] - 2s 12ms/step - loss: 0.0546 - accuracy: 0.9836 - val_loss: 0.0227 - val_accuracy: 0.9961 - epoch_time: 2.0041\n",
            "Epoch 10/500\n",
            "179/179 [==============================] - 3s 14ms/step - loss: 0.0269 - accuracy: 0.9943 - val_loss: 0.0184 - val_accuracy: 0.9961 - epoch_time: 2.0652\n",
            "Epoch 11/500\n",
            "179/179 [==============================] - 2s 12ms/step - loss: 0.0237 - accuracy: 0.9949 - val_loss: 0.0225 - val_accuracy: 0.9961 - epoch_time: 1.9692\n",
            "Epoch 12/500\n",
            "179/179 [==============================] - 3s 15ms/step - loss: 0.0324 - accuracy: 0.9939 - val_loss: 0.0224 - val_accuracy: 0.9968 - epoch_time: 2.5682\n",
            "Epoch 13/500\n",
            "179/179 [==============================] - 4s 21ms/step - loss: 0.0246 - accuracy: 0.9948 - val_loss: 0.0199 - val_accuracy: 0.9949 - epoch_time: 3.6876\n",
            "Epoch 14/500\n",
            "179/179 [==============================] - 4s 20ms/step - loss: 0.0232 - accuracy: 0.9953 - val_loss: 0.0235 - val_accuracy: 0.9961 - epoch_time: 3.3346\n",
            "Epoch 15/500\n",
            "179/179 [==============================] - 3s 19ms/step - loss: 0.0200 - accuracy: 0.9955 - val_loss: 0.0206 - val_accuracy: 0.9968 - epoch_time: 3.2607\n",
            "Epoch 16/500\n",
            "179/179 [==============================] - 5s 26ms/step - loss: 0.0192 - accuracy: 0.9960 - val_loss: 0.0184 - val_accuracy: 0.9961 - epoch_time: 4.3527\n",
            "Epoch 17/500\n",
            "179/179 [==============================] - 4s 23ms/step - loss: 0.0216 - accuracy: 0.9950 - val_loss: 0.0213 - val_accuracy: 0.9961 - epoch_time: 3.9406\n",
            "Epoch 18/500\n",
            "179/179 [==============================] - 4s 23ms/step - loss: 0.0199 - accuracy: 0.9956 - val_loss: 0.0139 - val_accuracy: 0.9972 - epoch_time: 3.3711\n",
            "Epoch 19/500\n",
            "179/179 [==============================] - 4s 20ms/step - loss: 0.0167 - accuracy: 0.9963 - val_loss: 0.0162 - val_accuracy: 0.9980 - epoch_time: 3.4238\n",
            "Epoch 20/500\n",
            "179/179 [==============================] - 3s 16ms/step - loss: 0.0187 - accuracy: 0.9958 - val_loss: 0.0123 - val_accuracy: 0.9972 - epoch_time: 2.6504\n",
            "Epoch 21/500\n",
            "179/179 [==============================] - 2s 11ms/step - loss: 0.0161 - accuracy: 0.9962 - val_loss: 0.0144 - val_accuracy: 0.9976 - epoch_time: 1.9590\n",
            "Epoch 22/500\n",
            "179/179 [==============================] - 2s 12ms/step - loss: 0.0151 - accuracy: 0.9968 - val_loss: 0.0124 - val_accuracy: 0.9972 - epoch_time: 2.0228\n",
            "Epoch 23/500\n",
            "179/179 [==============================] - 2s 12ms/step - loss: 0.0154 - accuracy: 0.9968 - val_loss: 0.0110 - val_accuracy: 0.9980 - epoch_time: 1.9879\n",
            "Epoch 24/500\n",
            "179/179 [==============================] - 2s 11ms/step - loss: 0.0175 - accuracy: 0.9963 - val_loss: 0.0115 - val_accuracy: 0.9984 - epoch_time: 1.9320\n",
            "Epoch 25/500\n",
            "179/179 [==============================] - 2s 13ms/step - loss: 0.0229 - accuracy: 0.9952 - val_loss: 0.0153 - val_accuracy: 0.9968 - epoch_time: 2.2684\n",
            "Epoch 26/500\n",
            "179/179 [==============================] - 3s 15ms/step - loss: 0.0177 - accuracy: 0.9961 - val_loss: 0.0184 - val_accuracy: 0.9972 - epoch_time: 2.6156\n",
            "Epoch 27/500\n",
            "179/179 [==============================] - 2s 12ms/step - loss: 0.0159 - accuracy: 0.9969 - val_loss: 0.0148 - val_accuracy: 0.9968 - epoch_time: 2.0479\n",
            "Epoch 28/500\n",
            "179/179 [==============================] - 2s 13ms/step - loss: 0.0126 - accuracy: 0.9976 - val_loss: 0.0100 - val_accuracy: 0.9984 - epoch_time: 1.9820\n",
            "Epoch 29/500\n",
            "179/179 [==============================] - 2s 12ms/step - loss: 0.0152 - accuracy: 0.9968 - val_loss: 0.0184 - val_accuracy: 0.9972 - epoch_time: 2.0180\n",
            "Epoch 30/500\n",
            "179/179 [==============================] - 2s 11ms/step - loss: 0.0150 - accuracy: 0.9968 - val_loss: 0.0158 - val_accuracy: 0.9980 - epoch_time: 1.9677\n",
            "Epoch 31/500\n",
            "179/179 [==============================] - 3s 15ms/step - loss: 0.0142 - accuracy: 0.9973 - val_loss: 0.0137 - val_accuracy: 0.9968 - epoch_time: 2.4934\n",
            "Epoch 32/500\n",
            "179/179 [==============================] - 3s 14ms/step - loss: 0.0125 - accuracy: 0.9975 - val_loss: 0.0123 - val_accuracy: 0.9976 - epoch_time: 2.4319\n",
            "Epoch 33/500\n",
            "179/179 [==============================] - 2s 13ms/step - loss: 0.0136 - accuracy: 0.9971 - val_loss: 0.0100 - val_accuracy: 0.9976 - epoch_time: 1.9707\n",
            "Epoch 34/500\n",
            "179/179 [==============================] - 2s 12ms/step - loss: 0.0146 - accuracy: 0.9973 - val_loss: 0.0143 - val_accuracy: 0.9968 - epoch_time: 1.9909\n",
            "Epoch 35/500\n",
            "179/179 [==============================] - 2s 12ms/step - loss: 0.0124 - accuracy: 0.9974 - val_loss: 0.0107 - val_accuracy: 0.9980 - epoch_time: 1.9919\n",
            "Epoch 36/500\n",
            "179/179 [==============================] - 2s 12ms/step - loss: 0.0118 - accuracy: 0.9978 - val_loss: 0.0104 - val_accuracy: 0.9980 - epoch_time: 2.0105\n",
            "Epoch 37/500\n",
            "179/179 [==============================] - 3s 16ms/step - loss: 0.0117 - accuracy: 0.9977 - val_loss: 0.0096 - val_accuracy: 0.9984 - epoch_time: 2.6842\n",
            "Epoch 38/500\n",
            "179/179 [==============================] - 2s 14ms/step - loss: 0.0117 - accuracy: 0.9980 - val_loss: 0.0102 - val_accuracy: 0.9980 - epoch_time: 2.3921\n",
            "Epoch 39/500\n",
            "179/179 [==============================] - 2s 12ms/step - loss: 0.0121 - accuracy: 0.9975 - val_loss: 0.0108 - val_accuracy: 0.9980 - epoch_time: 1.9828\n",
            "Epoch 40/500\n",
            "179/179 [==============================] - 2s 12ms/step - loss: 0.0115 - accuracy: 0.9974 - val_loss: 0.0117 - val_accuracy: 0.9976 - epoch_time: 2.0742\n",
            "Epoch 41/500\n",
            "179/179 [==============================] - 2s 12ms/step - loss: 0.0288 - accuracy: 0.9948 - val_loss: 0.0255 - val_accuracy: 0.9968 - epoch_time: 2.0136\n",
            "Epoch 42/500\n",
            "179/179 [==============================] - 2s 12ms/step - loss: 0.0229 - accuracy: 0.9953 - val_loss: 0.0231 - val_accuracy: 0.9949 - epoch_time: 2.0028\n",
            "Epoch 43/500\n",
            "179/179 [==============================] - 3s 16ms/step - loss: 0.0181 - accuracy: 0.9962 - val_loss: 0.0195 - val_accuracy: 0.9976 - epoch_time: 2.6698\n",
            "Epoch 44/500\n",
            "179/179 [==============================] - 2s 13ms/step - loss: 0.0174 - accuracy: 0.9965 - val_loss: 0.0107 - val_accuracy: 0.9976 - epoch_time: 2.2970\n",
            "Epoch 45/500\n",
            "179/179 [==============================] - 2s 12ms/step - loss: 0.0153 - accuracy: 0.9967 - val_loss: 0.0169 - val_accuracy: 0.9976 - epoch_time: 2.0203\n",
            "Epoch 46/500\n",
            "179/179 [==============================] - 2s 12ms/step - loss: 0.0141 - accuracy: 0.9970 - val_loss: 0.0198 - val_accuracy: 0.9972 - epoch_time: 2.0154\n",
            "Epoch 47/500\n",
            "179/179 [==============================] - 2s 12ms/step - loss: 0.0142 - accuracy: 0.9968 - val_loss: 0.0181 - val_accuracy: 0.9972 - epoch_time: 2.0469\n",
            "Epoch 48/500\n",
            "179/179 [==============================] - 2s 12ms/step - loss: 0.0127 - accuracy: 0.9973 - val_loss: 0.0141 - val_accuracy: 0.9976 - epoch_time: 1.9936\n",
            "Epoch 49/500\n",
            "179/179 [==============================] - 3s 16ms/step - loss: 0.0115 - accuracy: 0.9979 - val_loss: 0.0113 - val_accuracy: 0.9976 - epoch_time: 2.7907\n",
            "Epoch 50/500\n",
            "179/179 [==============================] - 2s 13ms/step - loss: 0.0118 - accuracy: 0.9975 - val_loss: 0.0176 - val_accuracy: 0.9972 - epoch_time: 2.2864\n",
            "Epoch 51/500\n",
            "179/179 [==============================] - 2s 14ms/step - loss: 0.0150 - accuracy: 0.9970 - val_loss: 0.0091 - val_accuracy: 0.9976 - epoch_time: 1.9989\n",
            "Epoch 52/500\n",
            "179/179 [==============================] - 2s 12ms/step - loss: 0.0113 - accuracy: 0.9978 - val_loss: 0.0095 - val_accuracy: 0.9980 - epoch_time: 2.0510\n",
            "Epoch 53/500\n",
            "179/179 [==============================] - 2s 12ms/step - loss: 0.0108 - accuracy: 0.9980 - val_loss: 0.0111 - val_accuracy: 0.9972 - epoch_time: 2.0476\n",
            "Epoch 54/500\n",
            "179/179 [==============================] - 3s 18ms/step - loss: 0.0116 - accuracy: 0.9978 - val_loss: 0.0086 - val_accuracy: 0.9980 - epoch_time: 2.7573\n",
            "Epoch 55/500\n",
            "179/179 [==============================] - 3s 19ms/step - loss: 0.0104 - accuracy: 0.9982 - val_loss: 0.0118 - val_accuracy: 0.9980 - epoch_time: 3.3787\n",
            "Epoch 56/500\n",
            "179/179 [==============================] - 2s 12ms/step - loss: 0.0108 - accuracy: 0.9979 - val_loss: 0.0088 - val_accuracy: 0.9984 - epoch_time: 2.0217\n",
            "Epoch 57/500\n",
            "179/179 [==============================] - 2s 12ms/step - loss: 0.0109 - accuracy: 0.9981 - val_loss: 0.0076 - val_accuracy: 0.9988 - epoch_time: 2.0339\n",
            "Epoch 58/500\n",
            "179/179 [==============================] - 2s 12ms/step - loss: 0.0099 - accuracy: 0.9981 - val_loss: 0.0075 - val_accuracy: 0.9992 - epoch_time: 2.0119\n",
            "Epoch 59/500\n",
            "179/179 [==============================] - 2s 12ms/step - loss: 0.0112 - accuracy: 0.9978 - val_loss: 0.0101 - val_accuracy: 0.9980 - epoch_time: 2.0483\n",
            "Epoch 60/500\n",
            "179/179 [==============================] - 3s 16ms/step - loss: 0.0097 - accuracy: 0.9982 - val_loss: 0.0161 - val_accuracy: 0.9964 - epoch_time: 2.7832\n",
            "Epoch 61/500\n",
            "179/179 [==============================] - 2s 13ms/step - loss: 0.0109 - accuracy: 0.9980 - val_loss: 0.0089 - val_accuracy: 0.9980 - epoch_time: 2.2443\n",
            "Epoch 62/500\n",
            "179/179 [==============================] - 2s 12ms/step - loss: 0.0121 - accuracy: 0.9975 - val_loss: 0.0088 - val_accuracy: 0.9980 - epoch_time: 2.0856\n",
            "Epoch 63/500\n",
            "179/179 [==============================] - 2s 12ms/step - loss: 0.0109 - accuracy: 0.9978 - val_loss: 0.0092 - val_accuracy: 0.9988 - epoch_time: 2.0755\n",
            "Epoch 64/500\n",
            "179/179 [==============================] - 2s 12ms/step - loss: 0.0108 - accuracy: 0.9978 - val_loss: 0.0100 - val_accuracy: 0.9980 - epoch_time: 2.0295\n",
            "Epoch 65/500\n",
            "179/179 [==============================] - 2s 13ms/step - loss: 0.0106 - accuracy: 0.9982 - val_loss: 0.0094 - val_accuracy: 0.9984 - epoch_time: 2.1644\n",
            "Epoch 66/500\n",
            "179/179 [==============================] - 3s 16ms/step - loss: 0.0096 - accuracy: 0.9980 - val_loss: 0.0110 - val_accuracy: 0.9980 - epoch_time: 2.7830\n",
            "Epoch 67/500\n",
            "179/179 [==============================] - 2s 13ms/step - loss: 0.0109 - accuracy: 0.9978 - val_loss: 0.0084 - val_accuracy: 0.9984 - epoch_time: 2.1531\n",
            "Epoch 68/500\n",
            "179/179 [==============================] - 2s 12ms/step - loss: 0.0102 - accuracy: 0.9979 - val_loss: 0.0077 - val_accuracy: 0.9992 - epoch_time: 2.0387\n",
            "Epoch 69/500\n",
            "179/179 [==============================] - 2s 12ms/step - loss: 0.0094 - accuracy: 0.9982 - val_loss: 0.0136 - val_accuracy: 0.9980 - epoch_time: 2.0772\n",
            "Epoch 70/500\n",
            "179/179 [==============================] - 2s 12ms/step - loss: 0.0098 - accuracy: 0.9979 - val_loss: 0.0091 - val_accuracy: 0.9984 - epoch_time: 2.0421\n",
            "Epoch 71/500\n",
            "179/179 [==============================] - 2s 14ms/step - loss: 0.0094 - accuracy: 0.9983 - val_loss: 0.0079 - val_accuracy: 0.9988 - epoch_time: 2.3129\n",
            "Epoch 72/500\n",
            "179/179 [==============================] - 3s 16ms/step - loss: 0.0092 - accuracy: 0.9984 - val_loss: 0.0101 - val_accuracy: 0.9980 - epoch_time: 2.8290\n",
            "Epoch 73/500\n",
            "179/179 [==============================] - 2s 12ms/step - loss: 0.0099 - accuracy: 0.9983 - val_loss: 0.0079 - val_accuracy: 0.9992 - epoch_time: 2.0572\n",
            "Epoch 74/500\n",
            "179/179 [==============================] - 2s 12ms/step - loss: 0.0109 - accuracy: 0.9974 - val_loss: 0.0098 - val_accuracy: 0.9980 - epoch_time: 2.0271\n",
            "Epoch 75/500\n",
            "179/179 [==============================] - 2s 12ms/step - loss: 0.0101 - accuracy: 0.9983 - val_loss: 0.0103 - val_accuracy: 0.9984 - epoch_time: 2.0520\n",
            "Epoch 76/500\n",
            "179/179 [==============================] - 2s 12ms/step - loss: 0.0090 - accuracy: 0.9984 - val_loss: 0.0114 - val_accuracy: 0.9980 - epoch_time: 2.0434\n",
            "Epoch 77/500\n",
            "179/179 [==============================] - 2s 14ms/step - loss: 0.0122 - accuracy: 0.9976 - val_loss: 0.0127 - val_accuracy: 0.9964 - epoch_time: 2.3774\n",
            "Epoch 78/500\n",
            "179/179 [==============================] - 3s 16ms/step - loss: 0.0130 - accuracy: 0.9975 - val_loss: 0.0134 - val_accuracy: 0.9976 - epoch_time: 2.6948\n",
            "Epoch 79/500\n",
            "179/179 [==============================] - 2s 12ms/step - loss: 0.0091 - accuracy: 0.9983 - val_loss: 0.0099 - val_accuracy: 0.9984 - epoch_time: 2.0452\n",
            "Epoch 80/500\n",
            "179/179 [==============================] - 2s 12ms/step - loss: 0.0159 - accuracy: 0.9969 - val_loss: 0.0169 - val_accuracy: 0.9972 - epoch_time: 2.0399\n",
            "Epoch 81/500\n",
            "179/179 [==============================] - 2s 12ms/step - loss: 0.0209 - accuracy: 0.9963 - val_loss: 0.0165 - val_accuracy: 0.9980 - epoch_time: 2.0222\n",
            "Epoch 82/500\n",
            "179/179 [==============================] - 2s 12ms/step - loss: 0.0128 - accuracy: 0.9968 - val_loss: 0.0127 - val_accuracy: 0.9972 - epoch_time: 2.0951\n",
            "Epoch 83/500\n",
            "179/179 [==============================] - 3s 15ms/step - loss: 0.0106 - accuracy: 0.9977 - val_loss: 0.0084 - val_accuracy: 0.9984 - epoch_time: 2.5165\n",
            "Epoch 84/500\n",
            "179/179 [==============================] - 3s 15ms/step - loss: 0.0091 - accuracy: 0.9981 - val_loss: 0.0125 - val_accuracy: 0.9976 - epoch_time: 2.5120\n",
            "Epoch 85/500\n",
            "179/179 [==============================] - 2s 12ms/step - loss: 0.0095 - accuracy: 0.9979 - val_loss: 0.0084 - val_accuracy: 0.9984 - epoch_time: 2.0012\n",
            "Epoch 86/500\n",
            "179/179 [==============================] - 2s 12ms/step - loss: 0.0088 - accuracy: 0.9983 - val_loss: 0.0139 - val_accuracy: 0.9980 - epoch_time: 2.0231\n",
            "Epoch 87/500\n",
            "179/179 [==============================] - 2s 12ms/step - loss: 0.0088 - accuracy: 0.9986 - val_loss: 0.0121 - val_accuracy: 0.9980 - epoch_time: 2.0222\n",
            "Epoch 88/500\n",
            "179/179 [==============================] - 2s 12ms/step - loss: 0.0109 - accuracy: 0.9978 - val_loss: 0.0113 - val_accuracy: 0.9980 - epoch_time: 2.0323\n",
            "Epoch 89/500\n",
            "179/179 [==============================] - 3s 15ms/step - loss: 0.0089 - accuracy: 0.9984 - val_loss: 0.0082 - val_accuracy: 0.9984 - epoch_time: 2.6315\n",
            "Epoch 90/500\n",
            "179/179 [==============================] - 3s 14ms/step - loss: 0.0086 - accuracy: 0.9984 - val_loss: 0.0089 - val_accuracy: 0.9988 - epoch_time: 2.4610\n",
            "Epoch 91/500\n",
            "179/179 [==============================] - 2s 12ms/step - loss: 0.0084 - accuracy: 0.9986 - val_loss: 0.0082 - val_accuracy: 0.9984 - epoch_time: 2.0932\n",
            "Epoch 92/500\n",
            "179/179 [==============================] - 2s 12ms/step - loss: 0.0094 - accuracy: 0.9982 - val_loss: 0.0169 - val_accuracy: 0.9972 - epoch_time: 2.0870\n",
            "Epoch 93/500\n",
            "179/179 [==============================] - 3s 14ms/step - loss: 0.0098 - accuracy: 0.9981 - val_loss: 0.0070 - val_accuracy: 0.9992 - epoch_time: 2.0575\n",
            "Epoch 94/500\n",
            "179/179 [==============================] - 2s 12ms/step - loss: 0.0090 - accuracy: 0.9985 - val_loss: 0.0093 - val_accuracy: 0.9988 - epoch_time: 2.0582\n",
            "Epoch 95/500\n",
            "179/179 [==============================] - 3s 17ms/step - loss: 0.0087 - accuracy: 0.9985 - val_loss: 0.0124 - val_accuracy: 0.9980 - epoch_time: 2.9226\n",
            "Epoch 96/500\n",
            "179/179 [==============================] - 2s 12ms/step - loss: 0.0117 - accuracy: 0.9978 - val_loss: 0.0108 - val_accuracy: 0.9972 - epoch_time: 2.1214\n",
            "Epoch 97/500\n",
            "179/179 [==============================] - 2s 12ms/step - loss: 0.0094 - accuracy: 0.9982 - val_loss: 0.0107 - val_accuracy: 0.9980 - epoch_time: 2.0894\n",
            "Epoch 98/500\n",
            "179/179 [==============================] - 2s 12ms/step - loss: 0.0105 - accuracy: 0.9982 - val_loss: 0.0082 - val_accuracy: 0.9992 - epoch_time: 2.0680\n",
            "Epoch 99/500\n",
            "179/179 [==============================] - 2s 12ms/step - loss: 0.0095 - accuracy: 0.9982 - val_loss: 0.0087 - val_accuracy: 0.9984 - epoch_time: 2.0728\n",
            "Epoch 100/500\n",
            "179/179 [==============================] - 2s 13ms/step - loss: 0.0084 - accuracy: 0.9985 - val_loss: 0.0079 - val_accuracy: 0.9988 - epoch_time: 2.3042\n",
            "Epoch 101/500\n",
            "179/179 [==============================] - 3s 16ms/step - loss: 0.0092 - accuracy: 0.9985 - val_loss: 0.0109 - val_accuracy: 0.9980 - epoch_time: 2.7977\n",
            "Epoch 102/500\n",
            "179/179 [==============================] - 2s 12ms/step - loss: 0.0095 - accuracy: 0.9980 - val_loss: 0.0147 - val_accuracy: 0.9980 - epoch_time: 2.0650\n",
            "Epoch 103/500\n",
            "179/179 [==============================] - 2s 12ms/step - loss: 0.0088 - accuracy: 0.9985 - val_loss: 0.0079 - val_accuracy: 0.9988 - epoch_time: 2.0715\n",
            "Epoch 104/500\n",
            "179/179 [==============================] - 2s 12ms/step - loss: 0.0089 - accuracy: 0.9982 - val_loss: 0.0086 - val_accuracy: 0.9988 - epoch_time: 2.0666\n",
            "Epoch 105/500\n",
            "179/179 [==============================] - 2s 12ms/step - loss: 0.0097 - accuracy: 0.9982 - val_loss: 0.0091 - val_accuracy: 0.9980 - epoch_time: 2.0964\n",
            "Epoch 106/500\n",
            "179/179 [==============================] - 3s 14ms/step - loss: 0.0087 - accuracy: 0.9985 - val_loss: 0.0102 - val_accuracy: 0.9980 - epoch_time: 2.4676\n",
            "Epoch 107/500\n",
            "179/179 [==============================] - 3s 15ms/step - loss: 0.0085 - accuracy: 0.9983 - val_loss: 0.0074 - val_accuracy: 0.9992 - epoch_time: 2.6638\n",
            "Epoch 108/500\n",
            "179/179 [==============================] - 2s 13ms/step - loss: 0.0086 - accuracy: 0.9985 - val_loss: 0.0100 - val_accuracy: 0.9980 - epoch_time: 2.1806\n",
            "Epoch 109/500\n",
            "179/179 [==============================] - 2s 13ms/step - loss: 0.0081 - accuracy: 0.9986 - val_loss: 0.0088 - val_accuracy: 0.9988 - epoch_time: 2.1456\n",
            "Epoch 110/500\n",
            "179/179 [==============================] - 2s 13ms/step - loss: 0.0122 - accuracy: 0.9975 - val_loss: 0.0098 - val_accuracy: 0.9984 - epoch_time: 2.1544\n",
            "Epoch 111/500\n",
            "179/179 [==============================] - 2s 13ms/step - loss: 0.0132 - accuracy: 0.9973 - val_loss: 0.0160 - val_accuracy: 0.9972 - epoch_time: 2.1825\n",
            "Epoch 112/500\n",
            "179/179 [==============================] - 3s 16ms/step - loss: 0.0098 - accuracy: 0.9981 - val_loss: 0.0082 - val_accuracy: 0.9992 - epoch_time: 2.7958\n",
            "Epoch 113/500\n",
            "179/179 [==============================] - 3s 14ms/step - loss: 0.0086 - accuracy: 0.9984 - val_loss: 0.0078 - val_accuracy: 0.9988 - epoch_time: 2.4527\n",
            "Epoch 114/500\n",
            "179/179 [==============================] - 2s 12ms/step - loss: 0.0085 - accuracy: 0.9984 - val_loss: 0.0085 - val_accuracy: 0.9988 - epoch_time: 2.1176\n",
            "Epoch 115/500\n",
            "179/179 [==============================] - 3s 14ms/step - loss: 0.0081 - accuracy: 0.9985 - val_loss: 0.0077 - val_accuracy: 0.9992 - epoch_time: 2.4199\n",
            "Epoch 116/500\n",
            "179/179 [==============================] - 3s 16ms/step - loss: 0.0091 - accuracy: 0.9984 - val_loss: 0.0076 - val_accuracy: 0.9992 - epoch_time: 2.7866\n",
            "Epoch 117/500\n",
            "179/179 [==============================] - 3s 15ms/step - loss: 0.0086 - accuracy: 0.9985 - val_loss: 0.0082 - val_accuracy: 0.9984 - epoch_time: 2.4993\n",
            "Epoch 118/500\n",
            "179/179 [==============================] - 3s 15ms/step - loss: 0.0076 - accuracy: 0.9989 - val_loss: 0.0086 - val_accuracy: 0.9988 - epoch_time: 2.5684\n",
            "Epoch 119/500\n",
            "179/179 [==============================] - 2s 12ms/step - loss: 0.0087 - accuracy: 0.9983 - val_loss: 0.0107 - val_accuracy: 0.9976 - epoch_time: 2.0805\n",
            "Epoch 120/500\n",
            "179/179 [==============================] - 2s 12ms/step - loss: 0.0083 - accuracy: 0.9986 - val_loss: 0.0076 - val_accuracy: 0.9992 - epoch_time: 2.0905\n",
            "Epoch 121/500\n",
            "179/179 [==============================] - 2s 12ms/step - loss: 0.0082 - accuracy: 0.9984 - val_loss: 0.0076 - val_accuracy: 0.9992 - epoch_time: 2.0630\n",
            "Epoch 122/500\n",
            "179/179 [==============================] - 2s 12ms/step - loss: 0.0091 - accuracy: 0.9985 - val_loss: 0.0119 - val_accuracy: 0.9980 - epoch_time: 2.0880\n",
            "Epoch 123/500\n",
            "179/179 [==============================] - 3s 15ms/step - loss: 0.0086 - accuracy: 0.9985 - val_loss: 0.0158 - val_accuracy: 0.9976 - epoch_time: 2.6657\n",
            "Epoch 124/500\n",
            "179/179 [==============================] - 3s 14ms/step - loss: 0.0081 - accuracy: 0.9987 - val_loss: 0.0071 - val_accuracy: 0.9992 - epoch_time: 2.4595\n",
            "Epoch 125/500\n",
            "179/179 [==============================] - 2s 12ms/step - loss: 0.0099 - accuracy: 0.9980 - val_loss: 0.0077 - val_accuracy: 0.9992 - epoch_time: 2.0984\n",
            "Epoch 126/500\n",
            "179/179 [==============================] - 2s 12ms/step - loss: 0.0087 - accuracy: 0.9985 - val_loss: 0.0101 - val_accuracy: 0.9980 - epoch_time: 2.1147\n",
            "Epoch 127/500\n",
            "179/179 [==============================] - 2s 12ms/step - loss: 0.0090 - accuracy: 0.9984 - val_loss: 0.0080 - val_accuracy: 0.9992 - epoch_time: 2.1170\n",
            "Epoch 128/500\n",
            "179/179 [==============================] - 2s 12ms/step - loss: 0.0085 - accuracy: 0.9983 - val_loss: 0.0123 - val_accuracy: 0.9980 - epoch_time: 2.1036\n",
            "Epoch 129/500\n",
            "179/179 [==============================] - 3s 16ms/step - loss: 0.0082 - accuracy: 0.9986 - val_loss: 0.0079 - val_accuracy: 0.9988 - epoch_time: 2.8520\n",
            "Epoch 130/500\n",
            "179/179 [==============================] - 2s 13ms/step - loss: 0.0078 - accuracy: 0.9988 - val_loss: 0.0121 - val_accuracy: 0.9980 - epoch_time: 2.2677\n",
            "Epoch 131/500\n",
            "179/179 [==============================] - 2s 12ms/step - loss: 0.0098 - accuracy: 0.9982 - val_loss: 0.0097 - val_accuracy: 0.9984 - epoch_time: 2.0864\n",
            "Epoch 132/500\n",
            "179/179 [==============================] - 2s 13ms/step - loss: 0.0090 - accuracy: 0.9982 - val_loss: 0.0104 - val_accuracy: 0.9980 - epoch_time: 2.1840\n",
            "Epoch 133/500\n",
            "179/179 [==============================] - 2s 12ms/step - loss: 0.0096 - accuracy: 0.9982 - val_loss: 0.0076 - val_accuracy: 0.9992 - epoch_time: 2.0763\n",
            "Epoch 134/500\n",
            "179/179 [==============================] - 2s 13ms/step - loss: 0.0081 - accuracy: 0.9986 - val_loss: 0.0152 - val_accuracy: 0.9980 - epoch_time: 2.2812\n",
            "Epoch 135/500\n",
            "179/179 [==============================] - 3s 16ms/step - loss: 0.0150 - accuracy: 0.9975 - val_loss: 0.0154 - val_accuracy: 0.9980 - epoch_time: 2.8484\n",
            "Epoch 136/500\n",
            "179/179 [==============================] - 2s 12ms/step - loss: 0.0101 - accuracy: 0.9980 - val_loss: 0.0081 - val_accuracy: 0.9984 - epoch_time: 2.1404\n",
            "Epoch 137/500\n",
            "179/179 [==============================] - 2s 12ms/step - loss: 0.0087 - accuracy: 0.9984 - val_loss: 0.0107 - val_accuracy: 0.9980 - epoch_time: 2.1276\n",
            "Epoch 138/500\n",
            "179/179 [==============================] - 2s 12ms/step - loss: 0.0095 - accuracy: 0.9978 - val_loss: 0.0073 - val_accuracy: 0.9988 - epoch_time: 2.1241\n",
            "Epoch 139/500\n",
            "179/179 [==============================] - 2s 12ms/step - loss: 0.0117 - accuracy: 0.9981 - val_loss: 0.0113 - val_accuracy: 0.9980 - epoch_time: 2.1057\n",
            "Epoch 140/500\n",
            "179/179 [==============================] - 3s 15ms/step - loss: 0.0084 - accuracy: 0.9986 - val_loss: 0.0089 - val_accuracy: 0.9984 - epoch_time: 2.5633\n",
            "Epoch 141/500\n",
            "179/179 [==============================] - 3s 15ms/step - loss: 0.0110 - accuracy: 0.9982 - val_loss: 0.0080 - val_accuracy: 0.9992 - epoch_time: 2.6665\n",
            "Epoch 142/500\n",
            "179/179 [==============================] - 2s 12ms/step - loss: 0.0076 - accuracy: 0.9987 - val_loss: 0.0088 - val_accuracy: 0.9988 - epoch_time: 2.0960\n",
            "Epoch 143/500\n",
            "179/179 [==============================] - 2s 12ms/step - loss: 0.0073 - accuracy: 0.9988 - val_loss: 0.0076 - val_accuracy: 0.9988 - epoch_time: 2.0902\n",
            "Epoch 144/500\n",
            "179/179 [==============================] - 2s 12ms/step - loss: 0.0082 - accuracy: 0.9986 - val_loss: 0.0075 - val_accuracy: 0.9992 - epoch_time: 2.0940\n",
            "Epoch 145/500\n",
            "179/179 [==============================] - 2s 12ms/step - loss: 0.0092 - accuracy: 0.9982 - val_loss: 0.0089 - val_accuracy: 0.9980 - epoch_time: 2.0828\n",
            "Epoch 146/500\n",
            "179/179 [==============================] - 3s 16ms/step - loss: 0.0080 - accuracy: 0.9985 - val_loss: 0.0074 - val_accuracy: 0.9988 - epoch_time: 2.6916\n",
            "Epoch 147/500\n",
            "179/179 [==============================] - 3s 14ms/step - loss: 0.0090 - accuracy: 0.9978 - val_loss: 0.0083 - val_accuracy: 0.9988 - epoch_time: 2.4896\n",
            "Epoch 148/500\n",
            "179/179 [==============================] - 2s 12ms/step - loss: 0.0093 - accuracy: 0.9982 - val_loss: 0.0082 - val_accuracy: 0.9988 - epoch_time: 2.0762\n",
            "Epoch 149/500\n",
            "179/179 [==============================] - 2s 12ms/step - loss: 0.0090 - accuracy: 0.9982 - val_loss: 0.0092 - val_accuracy: 0.9988 - epoch_time: 2.0906\n",
            "Epoch 150/500\n",
            "179/179 [==============================] - 2s 12ms/step - loss: 0.0085 - accuracy: 0.9983 - val_loss: 0.0113 - val_accuracy: 0.9980 - epoch_time: 2.1403\n",
            "Epoch 151/500\n",
            "179/179 [==============================] - 2s 12ms/step - loss: 0.0114 - accuracy: 0.9978 - val_loss: 0.0159 - val_accuracy: 0.9980 - epoch_time: 2.0723\n",
            "Epoch 152/500\n",
            "179/179 [==============================] - 3s 16ms/step - loss: 0.0117 - accuracy: 0.9979 - val_loss: 0.0073 - val_accuracy: 0.9988 - epoch_time: 2.8384\n",
            "Epoch 153/500\n",
            "179/179 [==============================] - 2s 14ms/step - loss: 0.0078 - accuracy: 0.9985 - val_loss: 0.0076 - val_accuracy: 0.9988 - epoch_time: 2.3400\n",
            "Epoch 154/500\n",
            "179/179 [==============================] - 2s 13ms/step - loss: 0.0110 - accuracy: 0.9978 - val_loss: 0.0172 - val_accuracy: 0.9961 - epoch_time: 2.1512\n",
            "Epoch 155/500\n",
            "179/179 [==============================] - 2s 12ms/step - loss: 0.0101 - accuracy: 0.9978 - val_loss: 0.0088 - val_accuracy: 0.9984 - epoch_time: 2.0896\n",
            "Epoch 156/500\n",
            "179/179 [==============================] - 2s 12ms/step - loss: 0.0082 - accuracy: 0.9983 - val_loss: 0.0084 - val_accuracy: 0.9980 - epoch_time: 2.0916\n",
            "Epoch 157/500\n",
            "179/179 [==============================] - 2s 13ms/step - loss: 0.0079 - accuracy: 0.9982 - val_loss: 0.0085 - val_accuracy: 0.9980 - epoch_time: 2.1998\n",
            "Epoch 158/500\n",
            "179/179 [==============================] - 3s 17ms/step - loss: 0.0091 - accuracy: 0.9985 - val_loss: 0.0084 - val_accuracy: 0.9988 - epoch_time: 2.8713\n"
          ]
        }
      ],
      "source": [
        "sensor = \"sensor1\"\n",
        "time_callback = TimeHistory()\n",
        "model_sensor1 = creatModel()\n",
        "model_save, checkpoint, history_cb, Estop = setCallbacks(\"sensor1\")\n",
        "history_sensor1 = model_sensor1.fit(X_train_sensor1, y_train_sensor1,\n",
        "                                    batch_size = 128, epochs = 500,\n",
        "                                    validation_split = 0.1,\n",
        "                                    verbose = 1,\n",
        "                                    callbacks = [time_callback, model_save, checkpoint, history_cb, Estop])\n",
        "                                    # class_weight= class_weights)#\n"
      ]
    },
    {
      "cell_type": "code",
      "execution_count": null,
      "metadata": {
        "colab": {
          "base_uri": "https://localhost:8080/"
        },
        "id": "sgiNWkr6oVcq",
        "outputId": "1d73e833-5eda-406f-ec0f-d5d8e0cc6983"
      },
      "outputs": [
        {
          "output_type": "stream",
          "name": "stdout",
          "text": [
            "Model: \"sequential\"\n",
            "_________________________________________________________________\n",
            " Layer (type)                Output Shape              Param #   \n",
            "=================================================================\n",
            " conv1d (Conv1D)             (None, 10, 40)            400       \n",
            "                                                                 \n",
            " dropout (Dropout)           (None, 10, 40)            0         \n",
            "                                                                 \n",
            " conv1d_1 (Conv1D)           (None, 10, 60)            7260      \n",
            "                                                                 \n",
            " dropout_1 (Dropout)         (None, 10, 60)            0         \n",
            "                                                                 \n",
            " conv1d_2 (Conv1D)           (None, 10, 60)            10860     \n",
            "                                                                 \n",
            " dropout_2 (Dropout)         (None, 10, 60)            0         \n",
            "                                                                 \n",
            " global_max_pooling1d (Globa  (None, 60)               0         \n",
            " lMaxPooling1D)                                                  \n",
            "                                                                 \n",
            " repeat_vector (RepeatVector  (None, 10, 60)           0         \n",
            " )                                                               \n",
            "                                                                 \n",
            " lstm (LSTM)                 (None, 10, 256)           324608    \n",
            "                                                                 \n",
            " dropout_3 (Dropout)         (None, 10, 256)           0         \n",
            "                                                                 \n",
            " lstm_1 (LSTM)               (None, 10, 128)           197120    \n",
            "                                                                 \n",
            " dropout_4 (Dropout)         (None, 10, 128)           0         \n",
            "                                                                 \n",
            " lstm_2 (LSTM)               (None, 64)                49408     \n",
            "                                                                 \n",
            " dropout_5 (Dropout)         (None, 64)                0         \n",
            "                                                                 \n",
            " dense (Dense)               (None, 32)                2080      \n",
            "                                                                 \n",
            " dense_1 (Dense)             (None, 16)                528       \n",
            "                                                                 \n",
            " dense_2 (Dense)             (None, 2)                 34        \n",
            "                                                                 \n",
            "=================================================================\n",
            "Total params: 592,298\n",
            "Trainable params: 592,298\n",
            "Non-trainable params: 0\n",
            "_________________________________________________________________\n",
            "None\n"
          ]
        }
      ],
      "source": [
        "print(model_sensor1.summary())"
      ]
    },
    {
      "cell_type": "code",
      "execution_count": null,
      "metadata": {
        "colab": {
          "base_uri": "https://localhost:8080/",
          "height": 1000
        },
        "id": "rWZpn8SyoZo6",
        "outputId": "cd3b887e-4375-43a7-90a5-69d616092c07"
      },
      "outputs": [
        {
          "output_type": "execute_result",
          "data": {
            "image/png": "[encoded data removed]",
            "text/plain": [
              "<IPython.core.display.Image object>"
            ]
          },
          "metadata": {},
          "execution_count": 48
        }
      ],
      "source": [
        "plot_model(model= model_sensor1, show_shapes= True, dpi=50)"
      ]
    },
    {
      "cell_type": "code",
      "execution_count": null,
      "metadata": {
        "colab": {
          "base_uri": "https://localhost:8080/"
        },
        "id": "8f2f6m1IAR7A",
        "outputId": "330d3bd3-14e9-4293-a421-7659395187dd"
      },
      "outputs": [
        {
          "output_type": "stream",
          "name": "stdout",
          "text": [
            "Epoch 1/500\n",
            "179/179 [==============================] - 9s 19ms/step - loss: 0.1666 - accuracy: 0.9508 - val_loss: 0.0788 - val_accuracy: 0.9886 - epoch_time: 8.4972\n",
            "Epoch 2/500\n",
            "179/179 [==============================] - 3s 15ms/step - loss: 0.0539 - accuracy: 0.9908 - val_loss: 0.0617 - val_accuracy: 0.9917 - epoch_time: 2.4324\n",
            "Epoch 3/500\n",
            "179/179 [==============================] - 3s 15ms/step - loss: 0.0401 - accuracy: 0.9928 - val_loss: 0.0431 - val_accuracy: 0.9929 - epoch_time: 2.5132\n",
            "Epoch 4/500\n",
            "179/179 [==============================] - 2s 12ms/step - loss: 0.0326 - accuracy: 0.9937 - val_loss: 0.0412 - val_accuracy: 0.9917 - epoch_time: 2.0260\n",
            "Epoch 5/500\n",
            "179/179 [==============================] - 2s 13ms/step - loss: 0.0277 - accuracy: 0.9946 - val_loss: 0.0287 - val_accuracy: 0.9937 - epoch_time: 2.1136\n",
            "Epoch 6/500\n",
            "179/179 [==============================] - 2s 12ms/step - loss: 0.0243 - accuracy: 0.9949 - val_loss: 0.0380 - val_accuracy: 0.9937 - epoch_time: 1.9924\n",
            "Epoch 7/500\n",
            "179/179 [==============================] - 2s 12ms/step - loss: 0.0251 - accuracy: 0.9949 - val_loss: 0.0270 - val_accuracy: 0.9933 - epoch_time: 2.0099\n",
            "Epoch 8/500\n",
            "179/179 [==============================] - 3s 15ms/step - loss: 0.0206 - accuracy: 0.9955 - val_loss: 0.0356 - val_accuracy: 0.9925 - epoch_time: 2.6612\n",
            "Epoch 9/500\n",
            "179/179 [==============================] - 2s 13ms/step - loss: 0.0190 - accuracy: 0.9961 - val_loss: 0.0372 - val_accuracy: 0.9937 - epoch_time: 2.2622\n",
            "Epoch 10/500\n",
            "179/179 [==============================] - 2s 14ms/step - loss: 0.0190 - accuracy: 0.9957 - val_loss: 0.0251 - val_accuracy: 0.9941 - epoch_time: 2.0683\n",
            "Epoch 11/500\n",
            "179/179 [==============================] - 2s 12ms/step - loss: 0.0156 - accuracy: 0.9968 - val_loss: 0.0246 - val_accuracy: 0.9937 - epoch_time: 2.0304\n",
            "Epoch 12/500\n",
            "179/179 [==============================] - 2s 12ms/step - loss: 0.0168 - accuracy: 0.9962 - val_loss: 0.0212 - val_accuracy: 0.9949 - epoch_time: 2.0406\n",
            "Epoch 13/500\n",
            "179/179 [==============================] - 2s 13ms/step - loss: 0.0132 - accuracy: 0.9971 - val_loss: 0.0177 - val_accuracy: 0.9941 - epoch_time: 2.1501\n",
            "Epoch 14/500\n",
            "179/179 [==============================] - 3s 16ms/step - loss: 0.0159 - accuracy: 0.9968 - val_loss: 0.0378 - val_accuracy: 0.9933 - epoch_time: 2.7717\n",
            "Epoch 15/500\n",
            "179/179 [==============================] - 2s 12ms/step - loss: 0.0136 - accuracy: 0.9969 - val_loss: 0.0360 - val_accuracy: 0.9941 - epoch_time: 2.0168\n",
            "Epoch 16/500\n",
            "179/179 [==============================] - 2s 12ms/step - loss: 0.0123 - accuracy: 0.9975 - val_loss: 0.0148 - val_accuracy: 0.9945 - epoch_time: 2.0455\n",
            "Epoch 17/500\n",
            "179/179 [==============================] - 2s 12ms/step - loss: 0.0111 - accuracy: 0.9976 - val_loss: 0.0148 - val_accuracy: 0.9972 - epoch_time: 1.9942\n",
            "Epoch 18/500\n",
            "179/179 [==============================] - 2s 13ms/step - loss: 0.0120 - accuracy: 0.9971 - val_loss: 0.0110 - val_accuracy: 0.9976 - epoch_time: 2.0853\n",
            "Epoch 19/500\n",
            "179/179 [==============================] - 2s 14ms/step - loss: 0.0107 - accuracy: 0.9978 - val_loss: 0.0254 - val_accuracy: 0.9949 - epoch_time: 2.3803\n",
            "Epoch 20/500\n",
            "179/179 [==============================] - 3s 15ms/step - loss: 0.0110 - accuracy: 0.9978 - val_loss: 0.0146 - val_accuracy: 0.9964 - epoch_time: 2.5842\n",
            "Epoch 21/500\n",
            "179/179 [==============================] - 2s 12ms/step - loss: 0.0106 - accuracy: 0.9977 - val_loss: 0.0172 - val_accuracy: 0.9957 - epoch_time: 2.0471\n",
            "Epoch 22/500\n",
            "179/179 [==============================] - 2s 14ms/step - loss: 0.0100 - accuracy: 0.9978 - val_loss: 0.0100 - val_accuracy: 0.9976 - epoch_time: 2.0450\n",
            "Epoch 23/500\n",
            "179/179 [==============================] - 2s 12ms/step - loss: 0.0087 - accuracy: 0.9983 - val_loss: 0.0096 - val_accuracy: 0.9988 - epoch_time: 1.9886\n",
            "Epoch 24/500\n",
            "179/179 [==============================] - 2s 12ms/step - loss: 0.0117 - accuracy: 0.9976 - val_loss: 0.0101 - val_accuracy: 0.9976 - epoch_time: 2.0307\n",
            "Epoch 25/500\n",
            "179/179 [==============================] - 3s 15ms/step - loss: 0.0130 - accuracy: 0.9974 - val_loss: 0.0153 - val_accuracy: 0.9972 - epoch_time: 2.6643\n",
            "Epoch 26/500\n",
            "179/179 [==============================] - 3s 14ms/step - loss: 0.0088 - accuracy: 0.9980 - val_loss: 0.0090 - val_accuracy: 0.9984 - epoch_time: 2.3377\n",
            "Epoch 27/500\n",
            "179/179 [==============================] - 2s 12ms/step - loss: 0.0088 - accuracy: 0.9981 - val_loss: 0.0271 - val_accuracy: 0.9945 - epoch_time: 2.0191\n",
            "Epoch 28/500\n",
            "179/179 [==============================] - 2s 12ms/step - loss: 0.0087 - accuracy: 0.9984 - val_loss: 0.0092 - val_accuracy: 0.9988 - epoch_time: 1.9793\n",
            "Epoch 29/500\n",
            "179/179 [==============================] - 2s 12ms/step - loss: 0.0112 - accuracy: 0.9980 - val_loss: 0.0154 - val_accuracy: 0.9953 - epoch_time: 2.0106\n",
            "Epoch 30/500\n",
            "179/179 [==============================] - 2s 13ms/step - loss: 0.0090 - accuracy: 0.9983 - val_loss: 0.0072 - val_accuracy: 0.9988 - epoch_time: 1.9760\n",
            "Epoch 31/500\n",
            "179/179 [==============================] - 3s 16ms/step - loss: 0.0087 - accuracy: 0.9981 - val_loss: 0.0077 - val_accuracy: 0.9988 - epoch_time: 2.8103\n",
            "Epoch 32/500\n",
            "179/179 [==============================] - 2s 12ms/step - loss: 0.0118 - accuracy: 0.9976 - val_loss: 0.0081 - val_accuracy: 0.9992 - epoch_time: 2.0946\n",
            "Epoch 33/500\n",
            "179/179 [==============================] - 2s 12ms/step - loss: 0.0091 - accuracy: 0.9982 - val_loss: 0.0133 - val_accuracy: 0.9976 - epoch_time: 2.0370\n",
            "Epoch 34/500\n",
            "179/179 [==============================] - 2s 12ms/step - loss: 0.0073 - accuracy: 0.9986 - val_loss: 0.0091 - val_accuracy: 0.9980 - epoch_time: 2.1492\n",
            "Epoch 35/500\n",
            "179/179 [==============================] - 2s 12ms/step - loss: 0.0062 - accuracy: 0.9989 - val_loss: 0.0129 - val_accuracy: 0.9976 - epoch_time: 2.0310\n",
            "Epoch 36/500\n",
            "179/179 [==============================] - 2s 13ms/step - loss: 0.0105 - accuracy: 0.9978 - val_loss: 0.0129 - val_accuracy: 0.9953 - epoch_time: 2.1937\n",
            "Epoch 37/500\n",
            "179/179 [==============================] - 3s 16ms/step - loss: 0.0084 - accuracy: 0.9985 - val_loss: 0.0115 - val_accuracy: 0.9968 - epoch_time: 2.7940\n",
            "Epoch 38/500\n",
            "179/179 [==============================] - 2s 12ms/step - loss: 0.0083 - accuracy: 0.9985 - val_loss: 0.0150 - val_accuracy: 0.9972 - epoch_time: 2.0029\n",
            "Epoch 39/500\n",
            "179/179 [==============================] - 2s 12ms/step - loss: 0.0075 - accuracy: 0.9985 - val_loss: 0.0123 - val_accuracy: 0.9968 - epoch_time: 2.0472\n",
            "Epoch 40/500\n",
            "179/179 [==============================] - 2s 12ms/step - loss: 0.0092 - accuracy: 0.9982 - val_loss: 0.0087 - val_accuracy: 0.9984 - epoch_time: 2.0167\n",
            "Epoch 41/500\n",
            "179/179 [==============================] - 2s 11ms/step - loss: 0.0080 - accuracy: 0.9982 - val_loss: 0.0084 - val_accuracy: 0.9988 - epoch_time: 1.9627\n",
            "Epoch 42/500\n",
            "179/179 [==============================] - 2s 13ms/step - loss: 0.0068 - accuracy: 0.9988 - val_loss: 0.0190 - val_accuracy: 0.9961 - epoch_time: 2.2034\n",
            "Epoch 43/500\n",
            "179/179 [==============================] - 3s 16ms/step - loss: 0.0068 - accuracy: 0.9985 - val_loss: 0.0086 - val_accuracy: 0.9984 - epoch_time: 2.7642\n",
            "Epoch 44/500\n",
            "179/179 [==============================] - 2s 12ms/step - loss: 0.0095 - accuracy: 0.9981 - val_loss: 0.0118 - val_accuracy: 0.9976 - epoch_time: 2.0723\n",
            "Epoch 45/500\n",
            "179/179 [==============================] - 2s 12ms/step - loss: 0.0089 - accuracy: 0.9981 - val_loss: 0.0129 - val_accuracy: 0.9964 - epoch_time: 2.0168\n",
            "Epoch 46/500\n",
            "179/179 [==============================] - 2s 12ms/step - loss: 0.0069 - accuracy: 0.9987 - val_loss: 0.0170 - val_accuracy: 0.9964 - epoch_time: 1.9901\n",
            "Epoch 47/500\n",
            "179/179 [==============================] - 2s 12ms/step - loss: 0.0072 - accuracy: 0.9986 - val_loss: 0.0120 - val_accuracy: 0.9968 - epoch_time: 1.9903\n",
            "Epoch 48/500\n",
            "179/179 [==============================] - 2s 13ms/step - loss: 0.0093 - accuracy: 0.9982 - val_loss: 0.0072 - val_accuracy: 0.9988 - epoch_time: 2.2329\n",
            "Epoch 49/500\n",
            "179/179 [==============================] - 3s 16ms/step - loss: 0.0065 - accuracy: 0.9987 - val_loss: 0.0085 - val_accuracy: 0.9984 - epoch_time: 2.7251\n",
            "Epoch 50/500\n",
            "179/179 [==============================] - 2s 12ms/step - loss: 0.0062 - accuracy: 0.9989 - val_loss: 0.0079 - val_accuracy: 0.9988 - epoch_time: 1.9971\n",
            "Epoch 51/500\n",
            "179/179 [==============================] - 2s 11ms/step - loss: 0.0082 - accuracy: 0.9981 - val_loss: 0.0091 - val_accuracy: 0.9984 - epoch_time: 1.9643\n",
            "Epoch 52/500\n",
            "179/179 [==============================] - 2s 11ms/step - loss: 0.0085 - accuracy: 0.9988 - val_loss: 0.0087 - val_accuracy: 0.9988 - epoch_time: 1.9547\n",
            "Epoch 53/500\n",
            "179/179 [==============================] - 2s 12ms/step - loss: 0.0073 - accuracy: 0.9986 - val_loss: 0.0084 - val_accuracy: 0.9988 - epoch_time: 1.9921\n",
            "Epoch 54/500\n",
            "179/179 [==============================] - 2s 13ms/step - loss: 0.0066 - accuracy: 0.9988 - val_loss: 0.0075 - val_accuracy: 0.9988 - epoch_time: 2.2316\n",
            "Epoch 55/500\n",
            "179/179 [==============================] - 3s 15ms/step - loss: 0.0080 - accuracy: 0.9986 - val_loss: 0.0119 - val_accuracy: 0.9957 - epoch_time: 2.6888\n",
            "Epoch 56/500\n",
            "179/179 [==============================] - 2s 12ms/step - loss: 0.0061 - accuracy: 0.9988 - val_loss: 0.0076 - val_accuracy: 0.9984 - epoch_time: 1.9988\n",
            "Epoch 57/500\n",
            "179/179 [==============================] - 2s 12ms/step - loss: 0.0058 - accuracy: 0.9988 - val_loss: 0.0081 - val_accuracy: 0.9980 - epoch_time: 1.9818\n",
            "Epoch 58/500\n",
            "179/179 [==============================] - 2s 12ms/step - loss: 0.0058 - accuracy: 0.9987 - val_loss: 0.0112 - val_accuracy: 0.9976 - epoch_time: 2.0100\n",
            "Epoch 59/500\n",
            "179/179 [==============================] - 2s 11ms/step - loss: 0.0049 - accuracy: 0.9992 - val_loss: 0.0075 - val_accuracy: 0.9988 - epoch_time: 1.9510\n",
            "Epoch 60/500\n",
            "179/179 [==============================] - 2s 13ms/step - loss: 0.0070 - accuracy: 0.9988 - val_loss: 0.0395 - val_accuracy: 0.9929 - epoch_time: 2.2530\n",
            "Epoch 61/500\n",
            "179/179 [==============================] - 3s 16ms/step - loss: 0.0213 - accuracy: 0.9956 - val_loss: 0.0128 - val_accuracy: 0.9968 - epoch_time: 2.7485\n",
            "Epoch 62/500\n",
            "179/179 [==============================] - 2s 12ms/step - loss: 0.0095 - accuracy: 0.9980 - val_loss: 0.0125 - val_accuracy: 0.9961 - epoch_time: 2.1037\n",
            "Epoch 63/500\n",
            "179/179 [==============================] - 2s 12ms/step - loss: 0.0071 - accuracy: 0.9988 - val_loss: 0.0119 - val_accuracy: 0.9980 - epoch_time: 2.0455\n",
            "Epoch 64/500\n",
            "179/179 [==============================] - 3s 14ms/step - loss: 0.0083 - accuracy: 0.9986 - val_loss: 0.0046 - val_accuracy: 0.9992 - epoch_time: 2.0380\n",
            "Epoch 65/500\n",
            "179/179 [==============================] - 2s 11ms/step - loss: 0.0062 - accuracy: 0.9986 - val_loss: 0.0056 - val_accuracy: 0.9980 - epoch_time: 1.9555\n",
            "Epoch 66/500\n",
            "179/179 [==============================] - 3s 15ms/step - loss: 0.0060 - accuracy: 0.9988 - val_loss: 0.0125 - val_accuracy: 0.9972 - epoch_time: 2.5873\n",
            "Epoch 67/500\n",
            "179/179 [==============================] - 3s 14ms/step - loss: 0.0055 - accuracy: 0.9990 - val_loss: 0.0069 - val_accuracy: 0.9992 - epoch_time: 2.4655\n",
            "Epoch 68/500\n",
            "179/179 [==============================] - 3s 14ms/step - loss: 0.0066 - accuracy: 0.9989 - val_loss: 0.0092 - val_accuracy: 0.9984 - epoch_time: 2.4800\n",
            "Epoch 69/500\n",
            "179/179 [==============================] - 3s 15ms/step - loss: 0.0057 - accuracy: 0.9990 - val_loss: 0.0073 - val_accuracy: 0.9988 - epoch_time: 2.6317\n",
            "Epoch 70/500\n",
            "179/179 [==============================] - 2s 13ms/step - loss: 0.0056 - accuracy: 0.9989 - val_loss: 0.0059 - val_accuracy: 0.9988 - epoch_time: 2.2418\n",
            "Epoch 71/500\n",
            "179/179 [==============================] - 3s 14ms/step - loss: 0.0052 - accuracy: 0.9990 - val_loss: 0.0075 - val_accuracy: 0.9984 - epoch_time: 2.3987\n",
            "Epoch 72/500\n",
            "179/179 [==============================] - 3s 16ms/step - loss: 0.0053 - accuracy: 0.9989 - val_loss: 0.0072 - val_accuracy: 0.9980 - epoch_time: 2.6865\n",
            "Epoch 73/500\n",
            "179/179 [==============================] - 2s 12ms/step - loss: 0.0061 - accuracy: 0.9987 - val_loss: 0.0261 - val_accuracy: 0.9961 - epoch_time: 2.0315\n",
            "Epoch 74/500\n",
            "179/179 [==============================] - 2s 12ms/step - loss: 0.0085 - accuracy: 0.9983 - val_loss: 0.0077 - val_accuracy: 0.9988 - epoch_time: 2.0412\n",
            "Epoch 75/500\n",
            "179/179 [==============================] - 2s 12ms/step - loss: 0.0062 - accuracy: 0.9990 - val_loss: 0.0064 - val_accuracy: 0.9992 - epoch_time: 2.0121\n",
            "Epoch 76/500\n",
            "179/179 [==============================] - 2s 12ms/step - loss: 0.0046 - accuracy: 0.9993 - val_loss: 0.0081 - val_accuracy: 0.9988 - epoch_time: 2.0721\n",
            "Epoch 77/500\n",
            "179/179 [==============================] - 3s 15ms/step - loss: 0.0065 - accuracy: 0.9984 - val_loss: 0.0102 - val_accuracy: 0.9961 - epoch_time: 2.6104\n",
            "Epoch 78/500\n",
            "179/179 [==============================] - 3s 15ms/step - loss: 0.0065 - accuracy: 0.9987 - val_loss: 0.0060 - val_accuracy: 0.9992 - epoch_time: 2.6146\n",
            "Epoch 79/500\n",
            "179/179 [==============================] - 2s 13ms/step - loss: 0.0053 - accuracy: 0.9990 - val_loss: 0.0089 - val_accuracy: 0.9984 - epoch_time: 2.2232\n",
            "Epoch 80/500\n",
            "179/179 [==============================] - 2s 13ms/step - loss: 0.0050 - accuracy: 0.9991 - val_loss: 0.0076 - val_accuracy: 0.9988 - epoch_time: 2.2264\n",
            "Epoch 81/500\n",
            "179/179 [==============================] - 2s 13ms/step - loss: 0.0050 - accuracy: 0.9990 - val_loss: 0.0061 - val_accuracy: 0.9992 - epoch_time: 2.2410\n",
            "Epoch 82/500\n",
            "179/179 [==============================] - 2s 14ms/step - loss: 0.0050 - accuracy: 0.9989 - val_loss: 0.0113 - val_accuracy: 0.9972 - epoch_time: 2.3414\n",
            "Epoch 83/500\n",
            "179/179 [==============================] - 3s 17ms/step - loss: 0.0052 - accuracy: 0.9991 - val_loss: 0.0084 - val_accuracy: 0.9980 - epoch_time: 2.9309\n",
            "Epoch 84/500\n",
            "179/179 [==============================] - 2s 13ms/step - loss: 0.0064 - accuracy: 0.9988 - val_loss: 0.0087 - val_accuracy: 0.9984 - epoch_time: 2.1639\n",
            "Epoch 85/500\n",
            "179/179 [==============================] - 2s 13ms/step - loss: 0.0058 - accuracy: 0.9986 - val_loss: 0.0154 - val_accuracy: 0.9968 - epoch_time: 2.1455\n",
            "Epoch 86/500\n",
            "179/179 [==============================] - 2s 13ms/step - loss: 0.0070 - accuracy: 0.9987 - val_loss: 0.0172 - val_accuracy: 0.9968 - epoch_time: 2.1467\n",
            "Epoch 87/500\n",
            "179/179 [==============================] - 2s 12ms/step - loss: 0.0057 - accuracy: 0.9990 - val_loss: 0.0111 - val_accuracy: 0.9980 - epoch_time: 2.0662\n",
            "Epoch 88/500\n",
            "179/179 [==============================] - 3s 14ms/step - loss: 0.0053 - accuracy: 0.9991 - val_loss: 0.0090 - val_accuracy: 0.9984 - epoch_time: 2.4349\n",
            "Epoch 89/500\n",
            "179/179 [==============================] - 3s 15ms/step - loss: 0.0052 - accuracy: 0.9990 - val_loss: 0.0065 - val_accuracy: 0.9988 - epoch_time: 2.6560\n",
            "Epoch 90/500\n",
            "179/179 [==============================] - 2s 12ms/step - loss: 0.0042 - accuracy: 0.9992 - val_loss: 0.0071 - val_accuracy: 0.9992 - epoch_time: 2.0436\n",
            "Epoch 91/500\n",
            "179/179 [==============================] - 2s 13ms/step - loss: 0.0069 - accuracy: 0.9988 - val_loss: 0.0071 - val_accuracy: 0.9988 - epoch_time: 2.1725\n",
            "Epoch 92/500\n",
            "179/179 [==============================] - 2s 12ms/step - loss: 0.0048 - accuracy: 0.9989 - val_loss: 0.0083 - val_accuracy: 0.9976 - epoch_time: 2.0919\n",
            "Epoch 93/500\n",
            "179/179 [==============================] - 2s 12ms/step - loss: 0.0070 - accuracy: 0.9986 - val_loss: 0.0069 - val_accuracy: 0.9992 - epoch_time: 2.1068\n",
            "Epoch 94/500\n",
            "179/179 [==============================] - 3s 15ms/step - loss: 0.0041 - accuracy: 0.9994 - val_loss: 0.0132 - val_accuracy: 0.9976 - epoch_time: 2.6245\n",
            "Epoch 95/500\n",
            "179/179 [==============================] - 3s 15ms/step - loss: 0.0111 - accuracy: 0.9981 - val_loss: 0.0113 - val_accuracy: 0.9980 - epoch_time: 2.5204\n",
            "Epoch 96/500\n",
            "179/179 [==============================] - 2s 13ms/step - loss: 0.0046 - accuracy: 0.9991 - val_loss: 0.0132 - val_accuracy: 0.9968 - epoch_time: 2.2031\n",
            "Epoch 97/500\n",
            "179/179 [==============================] - 2s 12ms/step - loss: 0.0063 - accuracy: 0.9989 - val_loss: 0.0065 - val_accuracy: 0.9988 - epoch_time: 2.1317\n",
            "Epoch 98/500\n",
            "179/179 [==============================] - 2s 12ms/step - loss: 0.0054 - accuracy: 0.9991 - val_loss: 0.0108 - val_accuracy: 0.9976 - epoch_time: 2.0936\n",
            "Epoch 99/500\n",
            "179/179 [==============================] - 2s 12ms/step - loss: 0.0044 - accuracy: 0.9991 - val_loss: 0.0052 - val_accuracy: 0.9988 - epoch_time: 2.0680\n",
            "Epoch 100/500\n",
            "179/179 [==============================] - 3s 17ms/step - loss: 0.0033 - accuracy: 0.9992 - val_loss: 0.0079 - val_accuracy: 0.9992 - epoch_time: 2.9395\n",
            "Epoch 101/500\n",
            "179/179 [==============================] - 2s 13ms/step - loss: 0.0044 - accuracy: 0.9990 - val_loss: 0.0053 - val_accuracy: 0.9988 - epoch_time: 2.1941\n",
            "Epoch 102/500\n",
            "179/179 [==============================] - 3s 14ms/step - loss: 0.0055 - accuracy: 0.9988 - val_loss: 0.0037 - val_accuracy: 0.9992 - epoch_time: 2.0487\n",
            "Epoch 103/500\n",
            "179/179 [==============================] - 2s 12ms/step - loss: 0.0042 - accuracy: 0.9993 - val_loss: 0.0095 - val_accuracy: 0.9980 - epoch_time: 2.0856\n",
            "Epoch 104/500\n",
            "179/179 [==============================] - 2s 13ms/step - loss: 0.0035 - accuracy: 0.9993 - val_loss: 0.0043 - val_accuracy: 0.9992 - epoch_time: 2.1672\n",
            "Epoch 105/500\n",
            "179/179 [==============================] - 3s 16ms/step - loss: 0.0028 - accuracy: 0.9994 - val_loss: 0.0030 - val_accuracy: 0.9992 - epoch_time: 2.6398\n",
            "Epoch 106/500\n",
            "179/179 [==============================] - 3s 15ms/step - loss: 0.0047 - accuracy: 0.9993 - val_loss: 0.0121 - val_accuracy: 0.9980 - epoch_time: 2.5365\n",
            "Epoch 107/500\n",
            "179/179 [==============================] - 2s 12ms/step - loss: 0.0037 - accuracy: 0.9993 - val_loss: 0.0051 - val_accuracy: 0.9992 - epoch_time: 2.0978\n",
            "Epoch 108/500\n",
            "179/179 [==============================] - 2s 13ms/step - loss: 0.0044 - accuracy: 0.9990 - val_loss: 0.0100 - val_accuracy: 0.9980 - epoch_time: 2.1534\n",
            "Epoch 109/500\n",
            "179/179 [==============================] - 2s 12ms/step - loss: 0.0058 - accuracy: 0.9989 - val_loss: 0.0133 - val_accuracy: 0.9976 - epoch_time: 2.1152\n",
            "Epoch 110/500\n",
            "179/179 [==============================] - 2s 13ms/step - loss: 0.0048 - accuracy: 0.9991 - val_loss: 0.0080 - val_accuracy: 0.9980 - epoch_time: 2.1496\n",
            "Epoch 111/500\n",
            "179/179 [==============================] - 3s 17ms/step - loss: 0.0035 - accuracy: 0.9993 - val_loss: 0.0059 - val_accuracy: 0.9988 - epoch_time: 2.8185\n",
            "Epoch 112/500\n",
            "179/179 [==============================] - 2s 13ms/step - loss: 0.0046 - accuracy: 0.9989 - val_loss: 0.0075 - val_accuracy: 0.9984 - epoch_time: 2.3048\n",
            "Epoch 113/500\n",
            "179/179 [==============================] - 3s 14ms/step - loss: 0.0042 - accuracy: 0.9992 - val_loss: 0.0024 - val_accuracy: 0.9988 - epoch_time: 2.1061\n",
            "Epoch 114/500\n",
            "179/179 [==============================] - 2s 12ms/step - loss: 0.0045 - accuracy: 0.9992 - val_loss: 0.0132 - val_accuracy: 0.9980 - epoch_time: 2.0591\n",
            "Epoch 115/500\n",
            "179/179 [==============================] - 2s 12ms/step - loss: 0.0042 - accuracy: 0.9993 - val_loss: 0.0070 - val_accuracy: 0.9988 - epoch_time: 2.0779\n",
            "Epoch 116/500\n",
            "179/179 [==============================] - 3s 14ms/step - loss: 0.0059 - accuracy: 0.9988 - val_loss: 0.0104 - val_accuracy: 0.9980 - epoch_time: 2.4028\n",
            "Epoch 117/500\n",
            "179/179 [==============================] - 3s 16ms/step - loss: 0.0037 - accuracy: 0.9991 - val_loss: 0.0160 - val_accuracy: 0.9972 - epoch_time: 2.8256\n",
            "Epoch 118/500\n",
            "179/179 [==============================] - 2s 12ms/step - loss: 0.0051 - accuracy: 0.9992 - val_loss: 0.0068 - val_accuracy: 0.9992 - epoch_time: 2.0882\n",
            "Epoch 119/500\n",
            "179/179 [==============================] - 2s 12ms/step - loss: 0.0034 - accuracy: 0.9993 - val_loss: 0.0049 - val_accuracy: 0.9992 - epoch_time: 2.0974\n",
            "Epoch 120/500\n",
            "179/179 [==============================] - 2s 12ms/step - loss: 0.0033 - accuracy: 0.9991 - val_loss: 0.0072 - val_accuracy: 0.9984 - epoch_time: 2.1210\n",
            "Epoch 121/500\n",
            "179/179 [==============================] - 2s 12ms/step - loss: 0.0035 - accuracy: 0.9992 - val_loss: 0.0091 - val_accuracy: 0.9984 - epoch_time: 2.1008\n",
            "Epoch 122/500\n",
            "179/179 [==============================] - 3s 15ms/step - loss: 0.0042 - accuracy: 0.9991 - val_loss: 0.0060 - val_accuracy: 0.9984 - epoch_time: 2.4983\n",
            "Epoch 123/500\n",
            "179/179 [==============================] - 3s 15ms/step - loss: 0.0051 - accuracy: 0.9990 - val_loss: 0.0128 - val_accuracy: 0.9964 - epoch_time: 2.6674\n",
            "Epoch 124/500\n",
            "179/179 [==============================] - 2s 12ms/step - loss: 0.0070 - accuracy: 0.9987 - val_loss: 0.0076 - val_accuracy: 0.9988 - epoch_time: 2.0786\n",
            "Epoch 125/500\n",
            "179/179 [==============================] - 2s 12ms/step - loss: 0.0061 - accuracy: 0.9987 - val_loss: 0.0106 - val_accuracy: 0.9976 - epoch_time: 2.0637\n",
            "Epoch 126/500\n",
            "179/179 [==============================] - 2s 12ms/step - loss: 0.0036 - accuracy: 0.9991 - val_loss: 0.0061 - val_accuracy: 0.9992 - epoch_time: 2.0726\n",
            "Epoch 127/500\n",
            "179/179 [==============================] - 2s 12ms/step - loss: 0.0029 - accuracy: 0.9993 - val_loss: 0.0062 - val_accuracy: 0.9976 - epoch_time: 2.0342\n",
            "Epoch 128/500\n",
            "179/179 [==============================] - 3s 16ms/step - loss: 0.0039 - accuracy: 0.9989 - val_loss: 0.0083 - val_accuracy: 0.9984 - epoch_time: 2.6702\n",
            "Epoch 129/500\n",
            "179/179 [==============================] - 2s 14ms/step - loss: 0.0059 - accuracy: 0.9988 - val_loss: 0.0086 - val_accuracy: 0.9980 - epoch_time: 2.3724\n",
            "Epoch 130/500\n",
            "179/179 [==============================] - 2s 12ms/step - loss: 0.0045 - accuracy: 0.9990 - val_loss: 0.0047 - val_accuracy: 0.9988 - epoch_time: 2.1077\n",
            "Epoch 131/500\n",
            "179/179 [==============================] - 2s 12ms/step - loss: 0.0044 - accuracy: 0.9993 - val_loss: 0.0069 - val_accuracy: 0.9992 - epoch_time: 2.0569\n",
            "Epoch 132/500\n",
            "179/179 [==============================] - 2s 12ms/step - loss: 0.0066 - accuracy: 0.9985 - val_loss: 0.0051 - val_accuracy: 0.9992 - epoch_time: 2.0520\n"
          ]
        }
      ],
      "source": [
        "sensor = \"sensor2\"\n",
        "time_callback = TimeHistory()\n",
        "model_sensor2 = creatModel()\n",
        "model_save, checkpoint, history_cb, Estop = setCallbacks(\"sensor2\")\n",
        "history_sensor2 = model_sensor2.fit(X_train_sensor2, y_train_sensor2,\n",
        "                                    batch_size = 128, epochs = 500,\n",
        "                                    validation_split = 0.1,\n",
        "                                    verbose = 1,\n",
        "                                    callbacks = [time_callback, model_save, checkpoint, history_cb, Estop])\n",
        "                                    # class_weight= class_weights)#"
      ]
    },
    {
      "cell_type": "code",
      "execution_count": null,
      "metadata": {
        "colab": {
          "base_uri": "https://localhost:8080/"
        },
        "id": "ylJKm4n7ppeJ",
        "outputId": "561f8fe4-306a-4fb4-b995-000e736823d9"
      },
      "outputs": [
        {
          "output_type": "stream",
          "name": "stdout",
          "text": [
            "Epoch 1/500\n",
            "179/179 [==============================] - 9s 18ms/step - loss: 0.1540 - accuracy: 0.9611 - val_loss: 0.0555 - val_accuracy: 0.9917 - epoch_time: 8.9846\n",
            "Epoch 2/500\n",
            "179/179 [==============================] - 2s 12ms/step - loss: 0.0471 - accuracy: 0.9923 - val_loss: 0.0373 - val_accuracy: 0.9957 - epoch_time: 1.9946\n",
            "Epoch 3/500\n",
            "179/179 [==============================] - 2s 13ms/step - loss: 0.0313 - accuracy: 0.9940 - val_loss: 0.0211 - val_accuracy: 0.9968 - epoch_time: 2.0696\n",
            "Epoch 4/500\n",
            "179/179 [==============================] - 2s 14ms/step - loss: 0.0238 - accuracy: 0.9953 - val_loss: 0.0170 - val_accuracy: 0.9976 - epoch_time: 2.2472\n",
            "Epoch 5/500\n",
            "179/179 [==============================] - 3s 17ms/step - loss: 0.0183 - accuracy: 0.9964 - val_loss: 0.0160 - val_accuracy: 0.9972 - epoch_time: 2.8955\n",
            "Epoch 6/500\n",
            "179/179 [==============================] - 2s 13ms/step - loss: 0.0155 - accuracy: 0.9968 - val_loss: 0.0137 - val_accuracy: 0.9976 - epoch_time: 2.1243\n",
            "Epoch 7/500\n",
            "179/179 [==============================] - 2s 12ms/step - loss: 0.0150 - accuracy: 0.9971 - val_loss: 0.0216 - val_accuracy: 0.9957 - epoch_time: 2.1291\n",
            "Epoch 8/500\n",
            "179/179 [==============================] - 2s 13ms/step - loss: 0.0133 - accuracy: 0.9973 - val_loss: 0.0087 - val_accuracy: 0.9984 - epoch_time: 2.1108\n",
            "Epoch 9/500\n",
            "179/179 [==============================] - 2s 12ms/step - loss: 0.0110 - accuracy: 0.9977 - val_loss: 0.0094 - val_accuracy: 0.9984 - epoch_time: 2.0218\n",
            "Epoch 10/500\n",
            "179/179 [==============================] - 3s 16ms/step - loss: 0.0122 - accuracy: 0.9972 - val_loss: 0.0081 - val_accuracy: 0.9988 - epoch_time: 2.6307\n",
            "Epoch 11/500\n",
            "179/179 [==============================] - 3s 14ms/step - loss: 0.0084 - accuracy: 0.9983 - val_loss: 0.0081 - val_accuracy: 0.9988 - epoch_time: 2.4076\n",
            "Epoch 12/500\n",
            "179/179 [==============================] - 2s 12ms/step - loss: 0.0105 - accuracy: 0.9982 - val_loss: 0.0084 - val_accuracy: 0.9988 - epoch_time: 2.0175\n",
            "Epoch 13/500\n",
            "179/179 [==============================] - 2s 12ms/step - loss: 0.0122 - accuracy: 0.9971 - val_loss: 0.0073 - val_accuracy: 0.9988 - epoch_time: 2.0497\n",
            "Epoch 14/500\n",
            "179/179 [==============================] - 2s 12ms/step - loss: 0.0088 - accuracy: 0.9984 - val_loss: 0.0131 - val_accuracy: 0.9964 - epoch_time: 2.0949\n",
            "Epoch 15/500\n",
            "179/179 [==============================] - 2s 13ms/step - loss: 0.0083 - accuracy: 0.9983 - val_loss: 0.0069 - val_accuracy: 0.9988 - epoch_time: 2.1258\n",
            "Epoch 16/500\n",
            "179/179 [==============================] - 3s 16ms/step - loss: 0.0089 - accuracy: 0.9978 - val_loss: 0.0114 - val_accuracy: 0.9984 - epoch_time: 2.8365\n",
            "Epoch 17/500\n",
            "179/179 [==============================] - 2s 13ms/step - loss: 0.0090 - accuracy: 0.9981 - val_loss: 0.0068 - val_accuracy: 0.9992 - epoch_time: 2.1840\n",
            "Epoch 18/500\n",
            "179/179 [==============================] - 2s 12ms/step - loss: 0.0130 - accuracy: 0.9973 - val_loss: 0.0148 - val_accuracy: 0.9980 - epoch_time: 2.0913\n",
            "Epoch 19/500\n",
            "179/179 [==============================] - 2s 12ms/step - loss: 0.0108 - accuracy: 0.9980 - val_loss: 0.0079 - val_accuracy: 0.9992 - epoch_time: 2.0918\n",
            "Epoch 20/500\n",
            "179/179 [==============================] - 2s 12ms/step - loss: 0.0088 - accuracy: 0.9984 - val_loss: 0.0088 - val_accuracy: 0.9984 - epoch_time: 2.1230\n",
            "Epoch 21/500\n",
            "179/179 [==============================] - 2s 14ms/step - loss: 0.0080 - accuracy: 0.9982 - val_loss: 0.0100 - val_accuracy: 0.9988 - epoch_time: 2.3574\n",
            "Epoch 22/500\n",
            "179/179 [==============================] - 3s 16ms/step - loss: 0.0064 - accuracy: 0.9989 - val_loss: 0.0098 - val_accuracy: 0.9976 - epoch_time: 2.7228\n",
            "Epoch 23/500\n",
            "179/179 [==============================] - 2s 12ms/step - loss: 0.0077 - accuracy: 0.9989 - val_loss: 0.0082 - val_accuracy: 0.9988 - epoch_time: 2.0566\n",
            "Epoch 24/500\n",
            "179/179 [==============================] - 2s 12ms/step - loss: 0.0085 - accuracy: 0.9988 - val_loss: 0.0079 - val_accuracy: 0.9992 - epoch_time: 2.0158\n",
            "Epoch 25/500\n",
            "179/179 [==============================] - 2s 12ms/step - loss: 0.0078 - accuracy: 0.9977 - val_loss: 0.0076 - val_accuracy: 0.9988 - epoch_time: 2.0493\n",
            "Epoch 26/500\n",
            "179/179 [==============================] - 2s 12ms/step - loss: 0.0062 - accuracy: 0.9989 - val_loss: 0.0073 - val_accuracy: 0.9992 - epoch_time: 1.9974\n",
            "Epoch 27/500\n",
            "179/179 [==============================] - 3s 14ms/step - loss: 0.0069 - accuracy: 0.9987 - val_loss: 0.0076 - val_accuracy: 0.9988 - epoch_time: 2.3939\n",
            "Epoch 28/500\n",
            "179/179 [==============================] - 3s 15ms/step - loss: 0.0065 - accuracy: 0.9989 - val_loss: 0.0077 - val_accuracy: 0.9988 - epoch_time: 2.6207\n",
            "Epoch 29/500\n",
            "179/179 [==============================] - 2s 12ms/step - loss: 0.0075 - accuracy: 0.9988 - val_loss: 0.0088 - val_accuracy: 0.9984 - epoch_time: 2.0394\n",
            "Epoch 30/500\n",
            "179/179 [==============================] - 2s 12ms/step - loss: 0.0060 - accuracy: 0.9988 - val_loss: 0.0110 - val_accuracy: 0.9980 - epoch_time: 2.0445\n",
            "Epoch 31/500\n",
            "179/179 [==============================] - 2s 12ms/step - loss: 0.0066 - accuracy: 0.9989 - val_loss: 0.0069 - val_accuracy: 0.9992 - epoch_time: 2.0227\n",
            "Epoch 32/500\n",
            "179/179 [==============================] - 2s 12ms/step - loss: 0.0063 - accuracy: 0.9991 - val_loss: 0.0071 - val_accuracy: 0.9988 - epoch_time: 2.0402\n",
            "Epoch 33/500\n",
            "179/179 [==============================] - 3s 15ms/step - loss: 0.0077 - accuracy: 0.9986 - val_loss: 0.0075 - val_accuracy: 0.9988 - epoch_time: 2.5671\n",
            "Epoch 34/500\n",
            "179/179 [==============================] - 3s 16ms/step - loss: 0.0067 - accuracy: 0.9985 - val_loss: 0.0057 - val_accuracy: 0.9992 - epoch_time: 2.4855\n",
            "Epoch 35/500\n",
            "179/179 [==============================] - 2s 12ms/step - loss: 0.0056 - accuracy: 0.9987 - val_loss: 0.0066 - val_accuracy: 0.9992 - epoch_time: 2.0651\n",
            "Epoch 36/500\n",
            "179/179 [==============================] - 2s 12ms/step - loss: 0.0072 - accuracy: 0.9986 - val_loss: 0.0085 - val_accuracy: 0.9984 - epoch_time: 2.0356\n",
            "Epoch 37/500\n",
            "179/179 [==============================] - 2s 13ms/step - loss: 0.0081 - accuracy: 0.9984 - val_loss: 0.0047 - val_accuracy: 0.9992 - epoch_time: 2.1009\n",
            "Epoch 38/500\n",
            "179/179 [==============================] - 2s 13ms/step - loss: 0.0059 - accuracy: 0.9990 - val_loss: 0.0077 - val_accuracy: 0.9988 - epoch_time: 2.1117\n",
            "Epoch 39/500\n",
            "179/179 [==============================] - 3s 17ms/step - loss: 0.0060 - accuracy: 0.9988 - val_loss: 0.0068 - val_accuracy: 0.9992 - epoch_time: 2.8511\n",
            "Epoch 40/500\n",
            "179/179 [==============================] - 2s 13ms/step - loss: 0.0051 - accuracy: 0.9990 - val_loss: 0.0059 - val_accuracy: 0.9992 - epoch_time: 2.2057\n",
            "Epoch 41/500\n",
            "179/179 [==============================] - 2s 12ms/step - loss: 0.0055 - accuracy: 0.9989 - val_loss: 0.0079 - val_accuracy: 0.9988 - epoch_time: 2.0722\n",
            "Epoch 42/500\n",
            "179/179 [==============================] - 2s 12ms/step - loss: 0.0048 - accuracy: 0.9993 - val_loss: 0.0080 - val_accuracy: 0.9988 - epoch_time: 2.0884\n",
            "Epoch 43/500\n",
            "179/179 [==============================] - 2s 12ms/step - loss: 0.0091 - accuracy: 0.9984 - val_loss: 0.0064 - val_accuracy: 0.9988 - epoch_time: 2.0349\n",
            "Epoch 44/500\n",
            "179/179 [==============================] - 2s 13ms/step - loss: 0.0065 - accuracy: 0.9987 - val_loss: 0.0082 - val_accuracy: 0.9988 - epoch_time: 2.2153\n",
            "Epoch 45/500\n",
            "179/179 [==============================] - 3s 16ms/step - loss: 0.0051 - accuracy: 0.9990 - val_loss: 0.0093 - val_accuracy: 0.9988 - epoch_time: 2.8585\n",
            "Epoch 46/500\n",
            "179/179 [==============================] - 3s 15ms/step - loss: 0.0057 - accuracy: 0.9991 - val_loss: 0.0072 - val_accuracy: 0.9988 - epoch_time: 2.5769\n",
            "Epoch 47/500\n",
            "179/179 [==============================] - 3s 15ms/step - loss: 0.0048 - accuracy: 0.9991 - val_loss: 0.0096 - val_accuracy: 0.9988 - epoch_time: 2.6162\n",
            "Epoch 48/500\n",
            "179/179 [==============================] - 2s 13ms/step - loss: 0.0053 - accuracy: 0.9992 - val_loss: 0.0072 - val_accuracy: 0.9988 - epoch_time: 2.2470\n",
            "Epoch 49/500\n",
            "179/179 [==============================] - 2s 13ms/step - loss: 0.0057 - accuracy: 0.9991 - val_loss: 0.0070 - val_accuracy: 0.9988 - epoch_time: 2.1848\n",
            "Epoch 50/500\n",
            "179/179 [==============================] - 3s 17ms/step - loss: 0.0064 - accuracy: 0.9987 - val_loss: 0.0144 - val_accuracy: 0.9980 - epoch_time: 2.9292\n",
            "Epoch 51/500\n",
            "179/179 [==============================] - 2s 12ms/step - loss: 0.0077 - accuracy: 0.9984 - val_loss: 0.0078 - val_accuracy: 0.9988 - epoch_time: 2.1376\n",
            "Epoch 52/500\n",
            "179/179 [==============================] - 2s 12ms/step - loss: 0.0050 - accuracy: 0.9993 - val_loss: 0.0078 - val_accuracy: 0.9988 - epoch_time: 2.1087\n",
            "Epoch 53/500\n",
            "179/179 [==============================] - 2s 12ms/step - loss: 0.0057 - accuracy: 0.9989 - val_loss: 0.0059 - val_accuracy: 0.9992 - epoch_time: 2.0378\n",
            "Epoch 54/500\n",
            "179/179 [==============================] - 2s 12ms/step - loss: 0.0052 - accuracy: 0.9991 - val_loss: 0.0069 - val_accuracy: 0.9992 - epoch_time: 2.0298\n",
            "Epoch 55/500\n",
            "179/179 [==============================] - 2s 14ms/step - loss: 0.0042 - accuracy: 0.9994 - val_loss: 0.0071 - val_accuracy: 0.9992 - epoch_time: 2.3519\n",
            "Epoch 56/500\n",
            "179/179 [==============================] - 3s 16ms/step - loss: 0.0058 - accuracy: 0.9989 - val_loss: 0.0055 - val_accuracy: 0.9992 - epoch_time: 2.8612\n",
            "Epoch 57/500\n",
            "179/179 [==============================] - 2s 12ms/step - loss: 0.0063 - accuracy: 0.9989 - val_loss: 0.0072 - val_accuracy: 0.9988 - epoch_time: 2.1214\n",
            "Epoch 58/500\n",
            "179/179 [==============================] - 2s 12ms/step - loss: 0.0046 - accuracy: 0.9992 - val_loss: 0.0116 - val_accuracy: 0.9984 - epoch_time: 2.1007\n",
            "Epoch 59/500\n",
            "179/179 [==============================] - 2s 12ms/step - loss: 0.0054 - accuracy: 0.9991 - val_loss: 0.0070 - val_accuracy: 0.9992 - epoch_time: 2.1268\n",
            "Epoch 60/500\n",
            "179/179 [==============================] - 2s 13ms/step - loss: 0.0059 - accuracy: 0.9988 - val_loss: 0.0068 - val_accuracy: 0.9992 - epoch_time: 2.1611\n",
            "Epoch 61/500\n",
            "179/179 [==============================] - 3s 15ms/step - loss: 0.0052 - accuracy: 0.9991 - val_loss: 0.0069 - val_accuracy: 0.9992 - epoch_time: 2.6379\n",
            "Epoch 62/500\n",
            "179/179 [==============================] - 3s 16ms/step - loss: 0.0076 - accuracy: 0.9984 - val_loss: 0.0079 - val_accuracy: 0.9988 - epoch_time: 2.7044\n",
            "Epoch 63/500\n",
            "179/179 [==============================] - 2s 13ms/step - loss: 0.0047 - accuracy: 0.9992 - val_loss: 0.0077 - val_accuracy: 0.9992 - epoch_time: 2.2107\n",
            "Epoch 64/500\n",
            "179/179 [==============================] - 2s 13ms/step - loss: 0.0044 - accuracy: 0.9993 - val_loss: 0.0081 - val_accuracy: 0.9992 - epoch_time: 2.2279\n",
            "Epoch 65/500\n",
            "179/179 [==============================] - 2s 13ms/step - loss: 0.0044 - accuracy: 0.9992 - val_loss: 0.0070 - val_accuracy: 0.9992 - epoch_time: 2.1765\n",
            "Epoch 66/500\n",
            "179/179 [==============================] - 2s 13ms/step - loss: 0.0047 - accuracy: 0.9992 - val_loss: 0.0066 - val_accuracy: 0.9992 - epoch_time: 2.2585\n",
            "Epoch 67/500\n",
            "179/179 [==============================] - 3s 18ms/step - loss: 0.0053 - accuracy: 0.9992 - val_loss: 0.0070 - val_accuracy: 0.9988 - epoch_time: 3.0360\n",
            "Epoch 68/500\n",
            "179/179 [==============================] - 2s 13ms/step - loss: 0.0062 - accuracy: 0.9991 - val_loss: 0.0071 - val_accuracy: 0.9992 - epoch_time: 2.2703\n",
            "Epoch 69/500\n",
            "179/179 [==============================] - 2s 13ms/step - loss: 0.0061 - accuracy: 0.9988 - val_loss: 0.0068 - val_accuracy: 0.9988 - epoch_time: 2.1846\n",
            "Epoch 70/500\n",
            "179/179 [==============================] - 2s 13ms/step - loss: 0.0047 - accuracy: 0.9992 - val_loss: 0.0074 - val_accuracy: 0.9988 - epoch_time: 2.2005\n",
            "Epoch 71/500\n",
            "179/179 [==============================] - 2s 12ms/step - loss: 0.0049 - accuracy: 0.9990 - val_loss: 0.0070 - val_accuracy: 0.9988 - epoch_time: 2.1371\n",
            "Epoch 72/500\n",
            "179/179 [==============================] - 3s 16ms/step - loss: 0.0050 - accuracy: 0.9990 - val_loss: 0.0067 - val_accuracy: 0.9992 - epoch_time: 2.7122\n",
            "Epoch 73/500\n",
            "179/179 [==============================] - 3s 16ms/step - loss: 0.0055 - accuracy: 0.9989 - val_loss: 0.0064 - val_accuracy: 0.9992 - epoch_time: 2.7636\n",
            "Epoch 74/500\n",
            "179/179 [==============================] - 2s 13ms/step - loss: 0.0049 - accuracy: 0.9990 - val_loss: 0.0067 - val_accuracy: 0.9992 - epoch_time: 2.2015\n",
            "Epoch 75/500\n",
            "179/179 [==============================] - 2s 13ms/step - loss: 0.0051 - accuracy: 0.9992 - val_loss: 0.0065 - val_accuracy: 0.9992 - epoch_time: 2.1998\n",
            "Epoch 76/500\n",
            "179/179 [==============================] - 2s 13ms/step - loss: 0.0052 - accuracy: 0.9992 - val_loss: 0.0061 - val_accuracy: 0.9992 - epoch_time: 2.2810\n",
            "Epoch 77/500\n",
            "179/179 [==============================] - 2s 13ms/step - loss: 0.0045 - accuracy: 0.9992 - val_loss: 0.0067 - val_accuracy: 0.9992 - epoch_time: 2.2661\n",
            "Epoch 78/500\n",
            "179/179 [==============================] - 3s 17ms/step - loss: 0.0045 - accuracy: 0.9993 - val_loss: 0.0071 - val_accuracy: 0.9988 - epoch_time: 2.9974\n",
            "Epoch 79/500\n",
            "179/179 [==============================] - 2s 13ms/step - loss: 0.0044 - accuracy: 0.9993 - val_loss: 0.0079 - val_accuracy: 0.9984 - epoch_time: 2.2543\n",
            "Epoch 80/500\n",
            "179/179 [==============================] - 2s 13ms/step - loss: 0.0043 - accuracy: 0.9993 - val_loss: 0.0061 - val_accuracy: 0.9992 - epoch_time: 2.1714\n",
            "Epoch 81/500\n",
            "179/179 [==============================] - 2s 12ms/step - loss: 0.0039 - accuracy: 0.9994 - val_loss: 0.0107 - val_accuracy: 0.9984 - epoch_time: 2.1043\n",
            "Epoch 82/500\n",
            "179/179 [==============================] - 2s 12ms/step - loss: 0.0044 - accuracy: 0.9994 - val_loss: 0.0081 - val_accuracy: 0.9988 - epoch_time: 2.1137\n",
            "Epoch 83/500\n",
            "179/179 [==============================] - 3s 14ms/step - loss: 0.0041 - accuracy: 0.9994 - val_loss: 0.0079 - val_accuracy: 0.9984 - epoch_time: 2.4249\n",
            "Epoch 84/500\n",
            "179/179 [==============================] - 3s 16ms/step - loss: 0.0073 - accuracy: 0.9987 - val_loss: 0.0077 - val_accuracy: 0.9988 - epoch_time: 2.8133\n",
            "Epoch 85/500\n",
            "179/179 [==============================] - 2s 12ms/step - loss: 0.0050 - accuracy: 0.9992 - val_loss: 0.0066 - val_accuracy: 0.9992 - epoch_time: 2.0970\n",
            "Epoch 86/500\n",
            "179/179 [==============================] - 2s 12ms/step - loss: 0.0047 - accuracy: 0.9993 - val_loss: 0.0075 - val_accuracy: 0.9988 - epoch_time: 2.0784\n",
            "Epoch 87/500\n",
            "179/179 [==============================] - 2s 12ms/step - loss: 0.0047 - accuracy: 0.9993 - val_loss: 0.0071 - val_accuracy: 0.9992 - epoch_time: 2.0710\n",
            "Epoch 88/500\n",
            "179/179 [==============================] - 2s 12ms/step - loss: 0.0079 - accuracy: 0.9986 - val_loss: 0.0161 - val_accuracy: 0.9980 - epoch_time: 2.1215\n",
            "Epoch 89/500\n",
            "179/179 [==============================] - 3s 16ms/step - loss: 0.0051 - accuracy: 0.9991 - val_loss: 0.0082 - val_accuracy: 0.9988 - epoch_time: 2.8107\n",
            "Epoch 90/500\n",
            "179/179 [==============================] - 3s 15ms/step - loss: 0.0042 - accuracy: 0.9994 - val_loss: 0.0077 - val_accuracy: 0.9988 - epoch_time: 2.6190\n",
            "Epoch 91/500\n",
            "179/179 [==============================] - 2s 13ms/step - loss: 0.0044 - accuracy: 0.9992 - val_loss: 0.0075 - val_accuracy: 0.9988 - epoch_time: 2.1987\n",
            "Epoch 92/500\n",
            "179/179 [==============================] - 2s 13ms/step - loss: 0.0037 - accuracy: 0.9995 - val_loss: 0.0066 - val_accuracy: 0.9992 - epoch_time: 2.1871\n",
            "Epoch 93/500\n",
            "179/179 [==============================] - 2s 13ms/step - loss: 0.0041 - accuracy: 0.9994 - val_loss: 0.0068 - val_accuracy: 0.9992 - epoch_time: 2.2034\n",
            "Epoch 94/500\n",
            "179/179 [==============================] - 2s 13ms/step - loss: 0.0063 - accuracy: 0.9990 - val_loss: 0.0093 - val_accuracy: 0.9988 - epoch_time: 2.2628\n",
            "Epoch 95/500\n",
            "179/179 [==============================] - 3s 16ms/step - loss: 0.0092 - accuracy: 0.9980 - val_loss: 0.0067 - val_accuracy: 0.9992 - epoch_time: 2.8400\n",
            "Epoch 96/500\n",
            "179/179 [==============================] - 2s 13ms/step - loss: 0.0045 - accuracy: 0.9994 - val_loss: 0.0067 - val_accuracy: 0.9992 - epoch_time: 2.1979\n",
            "Epoch 97/500\n",
            "179/179 [==============================] - 2s 12ms/step - loss: 0.0043 - accuracy: 0.9994 - val_loss: 0.0066 - val_accuracy: 0.9992 - epoch_time: 2.0765\n",
            "Epoch 98/500\n",
            "179/179 [==============================] - 2s 12ms/step - loss: 0.0040 - accuracy: 0.9995 - val_loss: 0.0067 - val_accuracy: 0.9992 - epoch_time: 2.0832\n",
            "Epoch 99/500\n",
            "179/179 [==============================] - 2s 13ms/step - loss: 0.0044 - accuracy: 0.9993 - val_loss: 0.0065 - val_accuracy: 0.9992 - epoch_time: 2.1704\n",
            "Epoch 100/500\n",
            "179/179 [==============================] - 3s 15ms/step - loss: 0.0042 - accuracy: 0.9994 - val_loss: 0.0064 - val_accuracy: 0.9992 - epoch_time: 2.4903\n",
            "Epoch 101/500\n",
            "179/179 [==============================] - 3s 16ms/step - loss: 0.0044 - accuracy: 0.9994 - val_loss: 0.0063 - val_accuracy: 0.9992 - epoch_time: 2.7530\n",
            "Epoch 102/500\n",
            "179/179 [==============================] - 2s 12ms/step - loss: 0.0045 - accuracy: 0.9993 - val_loss: 0.0073 - val_accuracy: 0.9988 - epoch_time: 2.1061\n",
            "Epoch 103/500\n",
            "179/179 [==============================] - 2s 12ms/step - loss: 0.0044 - accuracy: 0.9994 - val_loss: 0.0071 - val_accuracy: 0.9988 - epoch_time: 2.0972\n",
            "Epoch 104/500\n",
            "179/179 [==============================] - 2s 12ms/step - loss: 0.0040 - accuracy: 0.9994 - val_loss: 0.0099 - val_accuracy: 0.9988 - epoch_time: 2.0871\n",
            "Epoch 105/500\n",
            "179/179 [==============================] - 2s 12ms/step - loss: 0.0046 - accuracy: 0.9993 - val_loss: 0.0068 - val_accuracy: 0.9992 - epoch_time: 2.0572\n",
            "Epoch 106/500\n",
            "179/179 [==============================] - 3s 15ms/step - loss: 0.0053 - accuracy: 0.9992 - val_loss: 0.0069 - val_accuracy: 0.9992 - epoch_time: 2.6405\n",
            "Epoch 107/500\n",
            "179/179 [==============================] - 3s 15ms/step - loss: 0.0065 - accuracy: 0.9987 - val_loss: 0.0087 - val_accuracy: 0.9980 - epoch_time: 2.5098\n",
            "Epoch 108/500\n",
            "179/179 [==============================] - 3s 15ms/step - loss: 0.0073 - accuracy: 0.9984 - val_loss: 0.0042 - val_accuracy: 0.9992 - epoch_time: 2.1420\n",
            "Epoch 109/500\n",
            "179/179 [==============================] - 2s 13ms/step - loss: 0.0056 - accuracy: 0.9990 - val_loss: 0.0068 - val_accuracy: 0.9992 - epoch_time: 2.1542\n",
            "Epoch 110/500\n",
            "179/179 [==============================] - 2s 12ms/step - loss: 0.0042 - accuracy: 0.9993 - val_loss: 0.0073 - val_accuracy: 0.9992 - epoch_time: 2.0609\n",
            "Epoch 111/500\n",
            "179/179 [==============================] - 2s 14ms/step - loss: 0.0044 - accuracy: 0.9992 - val_loss: 0.0071 - val_accuracy: 0.9992 - epoch_time: 2.3021\n",
            "Epoch 112/500\n",
            "179/179 [==============================] - 3s 17ms/step - loss: 0.0048 - accuracy: 0.9992 - val_loss: 0.0067 - val_accuracy: 0.9992 - epoch_time: 2.9314\n",
            "Epoch 113/500\n",
            "179/179 [==============================] - 2s 12ms/step - loss: 0.0058 - accuracy: 0.9990 - val_loss: 0.0072 - val_accuracy: 0.9992 - epoch_time: 2.1297\n",
            "Epoch 114/500\n",
            "179/179 [==============================] - 2s 12ms/step - loss: 0.0046 - accuracy: 0.9993 - val_loss: 0.0066 - val_accuracy: 0.9992 - epoch_time: 2.0530\n",
            "Epoch 115/500\n",
            "179/179 [==============================] - 2s 12ms/step - loss: 0.0092 - accuracy: 0.9985 - val_loss: 0.0092 - val_accuracy: 0.9992 - epoch_time: 2.0463\n",
            "Epoch 116/500\n",
            "179/179 [==============================] - 2s 13ms/step - loss: 0.0080 - accuracy: 0.9987 - val_loss: 0.0064 - val_accuracy: 0.9992 - epoch_time: 2.1618\n",
            "Epoch 117/500\n",
            "179/179 [==============================] - 3s 15ms/step - loss: 0.0077 - accuracy: 0.9986 - val_loss: 0.0073 - val_accuracy: 0.9988 - epoch_time: 2.5184\n"
          ]
        }
      ],
      "source": [
        "sensor = \"sensor3\"\n",
        "time_callback = TimeHistory()\n",
        "model_sensor3 = creatModel()\n",
        "model_save, checkpoint, history_cb, Estop = setCallbacks(\"sensor3\")\n",
        "history_sensor3 = model_sensor3.fit(X_train_sensor3, y_train_sensor3,\n",
        "                                    batch_size = 128, epochs = 500,\n",
        "                                    validation_split = 0.1,\n",
        "                                    verbose = 1,\n",
        "                                    callbacks = [time_callback, model_save, checkpoint, history_cb, Estop])\n",
        "                                    # class_weight= class_weights)#"
      ]
    },
    {
      "cell_type": "code",
      "execution_count": null,
      "metadata": {
        "colab": {
          "base_uri": "https://localhost:8080/"
        },
        "id": "3O-5mYHRoluo",
        "outputId": "269d9044-077b-4c36-d4cd-d3c6a4e01467"
      },
      "outputs": [
        {
          "output_type": "stream",
          "name": "stdout",
          "text": [
            "Average Exe_time for sensor1: 2.416 sec.\n"
          ]
        }
      ],
      "source": [
        "#plot history of model_sensor1\n",
        "history_sensor1 = pd.read_csv(model_path +\"historyLOG_Instant-10000_sensor1.csv\", index_col='epoch')\n",
        "history_sensor1.reset_index(drop= True, inplace= True)\n",
        "history_sensor1.head()\n",
        "print('Average Exe_time for sensor1: {} sec.'.format(round(np.mean(history_sensor1['epoch_time'].values),3)))\n"
      ]
    },
    {
      "cell_type": "code",
      "execution_count": null,
      "metadata": {
        "colab": {
          "base_uri": "https://localhost:8080/",
          "height": 281
        },
        "id": "qk6CGElHFQKh",
        "outputId": "34f4f4fe-906c-4896-a841-65845d100910"
      },
      "outputs": [
        {
          "output_type": "display_data",
          "data": {
            "text/plain": [
              "<Figure size 432x288 with 1 Axes>"
            ],
            "image/png": "[encoded data removed]"
          },
          "metadata": {
            "needs_background": "light"
          }
        }
      ],
      "source": [
        "plt.plot( history_sensor1['loss'], 'b',label = 'loss')\n",
        "plt.plot( history_sensor1['val_loss'], 'g', label = 'val_loss')\n",
        "plt.legend()\n",
        "plt.grid()\n",
        "plt.title('loss_model_sensor1')\n",
        "plt.show()"
      ]
    },
    {
      "cell_type": "code",
      "execution_count": null,
      "metadata": {
        "colab": {
          "base_uri": "https://localhost:8080/",
          "height": 281
        },
        "id": "yW2YOqyrFauE",
        "outputId": "109c0a15-2160-424f-f759-a203bbc19be0"
      },
      "outputs": [
        {
          "output_type": "display_data",
          "data": {
            "text/plain": [
              "<Figure size 432x288 with 1 Axes>"
            ],
            "image/png": "[encoded data removed]"
          },
          "metadata": {
            "needs_background": "light"
          }
        }
      ],
      "source": [
        "plt.plot(history_sensor1['accuracy']* 100,'b',label = 'acc')\n",
        "plt.plot(history_sensor1['val_accuracy'] * 100,'g', label = 'val_acc')\n",
        "plt.legend()\n",
        "plt.grid()\n",
        "plt.title('accuracy_model_sensor1')\n",
        "plt.show()"
      ]
    },
    {
      "cell_type": "code",
      "execution_count": null,
      "metadata": {
        "colab": {
          "base_uri": "https://localhost:8080/"
        },
        "id": "yiUh7YCM0q5f",
        "outputId": "eeb0480b-b4cd-48f4-e360-8b3d626bea95"
      },
      "outputs": [
        {
          "output_type": "stream",
          "name": "stdout",
          "text": [
            "Average Exe_time for sensor2: 2.281 sec.\n"
          ]
        }
      ],
      "source": [
        "history_sensor2 = pd.read_csv(model_path +\"historyLOG_Instant-10000_sensor2.csv\", index_col='epoch')\n",
        "history_sensor2.reset_index(drop= True, inplace= True)\n",
        "history_sensor2.head()\n",
        "print('Average Exe_time for sensor2: {} sec.'.format(round(np.mean(history_sensor2['epoch_time'].values),3)))\n"
      ]
    },
    {
      "cell_type": "code",
      "execution_count": null,
      "metadata": {
        "colab": {
          "base_uri": "https://localhost:8080/",
          "height": 281
        },
        "id": "L7pzR8UUFR-X",
        "outputId": "99d11ddb-d7cf-4fed-f4e4-0d3d6c39d867"
      },
      "outputs": [
        {
          "output_type": "display_data",
          "data": {
            "text/plain": [
              "<Figure size 432x288 with 1 Axes>"
            ],
            "image/png": "[encoded data removed]"
          },
          "metadata": {
            "needs_background": "light"
          }
        }
      ],
      "source": [
        "plt.plot( history_sensor2['loss'], 'b',label = 'loss')\n",
        "plt.plot( history_sensor2['val_loss'], 'g', label = 'val_loss')\n",
        "plt.legend()\n",
        "plt.grid()\n",
        "plt.title('loss_model_sensor2')\n",
        "plt.show()"
      ]
    },
    {
      "cell_type": "code",
      "execution_count": null,
      "metadata": {
        "colab": {
          "base_uri": "https://localhost:8080/",
          "height": 281
        },
        "id": "ThBgZzV2Finr",
        "outputId": "58dcfa1a-9112-4ff1-9f7e-4afa81b6c71c"
      },
      "outputs": [
        {
          "output_type": "display_data",
          "data": {
            "text/plain": [
              "<Figure size 432x288 with 1 Axes>"
            ],
            "image/png": "[encoded data removed]"
          },
          "metadata": {
            "needs_background": "light"
          }
        }
      ],
      "source": [
        "plt.plot(history_sensor2['accuracy']* 100,'b',label = 'acc')\n",
        "plt.plot(history_sensor2['val_accuracy'] * 100,'g', label = 'val_acc')\n",
        "plt.legend()\n",
        "plt.grid()\n",
        "plt.title('accuracy_model_sensor2')\n",
        "plt.show()"
      ]
    },
    {
      "cell_type": "code",
      "execution_count": null,
      "metadata": {
        "colab": {
          "base_uri": "https://localhost:8080/"
        },
        "id": "xZQRze500qd5",
        "outputId": "36a1b06d-7728-472e-e91a-a001a5a2b959"
      },
      "outputs": [
        {
          "output_type": "stream",
          "name": "stdout",
          "text": [
            "Average Exe_time for sensor3: 2.346 sec.\n"
          ]
        }
      ],
      "source": [
        "history_sensor3 = pd.read_csv(model_path +\"historyLOG_Instant-10000_sensor3.csv\", index_col='epoch')\n",
        "history_sensor3.reset_index(drop= True, inplace= True)\n",
        "history_sensor3.head()\n",
        "print('Average Exe_time for sensor3: {} sec.'.format(round(np.mean(history_sensor3['epoch_time'].values),3)))\n"
      ]
    },
    {
      "cell_type": "code",
      "execution_count": null,
      "metadata": {
        "colab": {
          "base_uri": "https://localhost:8080/",
          "height": 281
        },
        "id": "swXRfIlAX0pF",
        "outputId": "b1a758f9-ca9f-46e2-c967-d1a367c29c37"
      },
      "outputs": [
        {
          "output_type": "display_data",
          "data": {
            "text/plain": [
              "<Figure size 432x288 with 1 Axes>"
            ],
            "image/png": "[encoded data removed]"
          },
          "metadata": {
            "needs_background": "light"
          }
        }
      ],
      "source": [
        "plt.plot( history_sensor3['loss'], 'b',label = 'loss')\n",
        "plt.plot( history_sensor3['val_loss'], 'g', label = 'val_loss')\n",
        "plt.legend()\n",
        "plt.grid()\n",
        "plt.title('loss_model_sensor3')\n",
        "plt.show()"
      ]
    },
    {
      "cell_type": "code",
      "execution_count": null,
      "metadata": {
        "colab": {
          "base_uri": "https://localhost:8080/",
          "height": 281
        },
        "id": "Uzl-v65bFtOj",
        "outputId": "1d9129de-2c2f-46b3-c902-8506f89b8fe3"
      },
      "outputs": [
        {
          "output_type": "display_data",
          "data": {
            "text/plain": [
              "<Figure size 432x288 with 1 Axes>"
            ],
            "image/png": "[encoded data removed]"
          },
          "metadata": {
            "needs_background": "light"
          }
        }
      ],
      "source": [
        "plt.plot(history_sensor3['accuracy']* 100,'b',label = 'acc')\n",
        "plt.plot(history_sensor3['val_accuracy'] * 100,'g', label = 'val_acc')\n",
        "plt.legend()\n",
        "plt.grid()\n",
        "plt.title('accuracy_model_sensor3')\n",
        "plt.show()"
      ]
    },
    {
      "cell_type": "code",
      "source": [
        "model_sensor1 = load_model(model_path + \"CNN-LSTM-autoEncoder-Instant-10000-CAV-perEpoch_sensor1.h5\")\n",
        "model_sensor2 = load_model(model_path + \"CNN-LSTM-autoEncoder-Instant-10000-CAV-perEpoch_sensor2.h5\")"
      ],
      "metadata": {
        "id": "o7jJcT1HrDBp"
      },
      "execution_count": null,
      "outputs": []
    },
    {
      "cell_type": "code",
      "execution_count": null,
      "metadata": {
        "id": "r9txKKt8GPES",
        "colab": {
          "base_uri": "https://localhost:8080/"
        },
        "outputId": "2d82f9c6-18bd-4114-e4c6-145f8c0904a9"
      },
      "outputs": [
        {
          "output_type": "stream",
          "name": "stdout",
          "text": [
            "140/140 [==============================] - 2s 5ms/step - loss: 0.0100 - accuracy: 0.9978\n",
            "test accuracy :99.8% \n",
            " test loss :0.01\n"
          ]
        }
      ],
      "source": [
        "#last model_sensor1 evaluation\n",
        "test_loss, test_acc = model_sensor1.evaluate( X_test_sensor1, y_test_sensor1, verbose= 1)\n",
        "print('test accuracy :{:.1%} \\n test loss :{:.3}'.format(test_acc, test_loss))"
      ]
    },
    {
      "cell_type": "code",
      "execution_count": null,
      "metadata": {
        "id": "adROowiPGPtE",
        "colab": {
          "base_uri": "https://localhost:8080/"
        },
        "outputId": "30922f5b-1b1e-4e5d-bac8-130478ee4e94"
      },
      "outputs": [
        {
          "output_type": "stream",
          "name": "stdout",
          "text": [
            "140/140 [==============================] - 2s 5ms/step - loss: 0.0054 - accuracy: 0.9984\n",
            "test accuracy :99.8% \n",
            " test loss :0.00541\n"
          ]
        }
      ],
      "source": [
        "#last model_sensor2 evaluation\n",
        "test_loss, test_acc = model_sensor2.evaluate( X_test_sensor2, y_test_sensor2, verbose= 1)\n",
        "print('test accuracy :{:.1%} \\n test loss :{:.3}'.format(test_acc, test_loss))"
      ]
    },
    {
      "cell_type": "code",
      "execution_count": null,
      "metadata": {
        "id": "AFoZDmx4GP5u",
        "colab": {
          "base_uri": "https://localhost:8080/"
        },
        "outputId": "aab782b7-a387-4c38-8654-f9290e27d417"
      },
      "outputs": [
        {
          "output_type": "stream",
          "name": "stdout",
          "text": [
            "140/140 [==============================] - 1s 5ms/step - loss: 0.0086 - accuracy: 0.9984\n",
            "test accuracy :99.8% \n",
            " test loss :0.00862\n"
          ]
        }
      ],
      "source": [
        "#last model_sensor3 evaluation\n",
        "test_loss, test_acc = model_sensor3.evaluate( X_test_sensor3, y_test_sensor3, verbose= 1)\n",
        "print('test accuracy :{:.1%} \\n test loss :{:.3}'.format(test_acc, test_loss))"
      ]
    },
    {
      "cell_type": "code",
      "execution_count": null,
      "metadata": {
        "id": "STn_XkCZGP7k",
        "colab": {
          "base_uri": "https://localhost:8080/"
        },
        "outputId": "8e573fd8-427d-41d0-b871-8298d779cd5a"
      },
      "outputs": [
        {
          "output_type": "stream",
          "name": "stdout",
          "text": [
            "140/140 [==============================] - 2s 4ms/step\n",
            "140/140 [==============================] - 2s 5ms/step\n",
            "140/140 [==============================] - 2s 4ms/step\n"
          ]
        }
      ],
      "source": [
        "y_pred_sensor1 = model_sensor1.predict( X_test_sensor1, verbose= 1)\n",
        "y_pred_sensor2 = model_sensor2.predict( X_test_sensor2, verbose= 1)\n",
        "y_pred_sensor3 = model_sensor3.predict( X_test_sensor3, verbose= 1)"
      ]
    },
    {
      "cell_type": "code",
      "execution_count": null,
      "metadata": {
        "id": "WCLRF8ySGP-y"
      },
      "outputs": [],
      "source": [
        "y_pred_sensor1 = [np.argmax(i) for i in y_pred_sensor1]\n",
        "y_pred_sensor2 = [np.argmax(i) for i in y_pred_sensor2]\n",
        "y_pred_sensor3 = [np.argmax(i) for i in y_pred_sensor3]"
      ]
    },
    {
      "cell_type": "code",
      "execution_count": null,
      "metadata": {
        "id": "anY5RdokHE_1"
      },
      "outputs": [],
      "source": [
        "y_pred_total = []\n",
        "for i in range(len(y_pred_sensor1)):\n",
        "  y_pred_total.append( y_pred_sensor1[i] or y_pred_sensor2[i] or y_pred_sensor3[i])"
      ]
    },
    {
      "cell_type": "code",
      "execution_count": null,
      "metadata": {
        "id": "afksljyBHFMW"
      },
      "outputs": [],
      "source": [
        "assert(len(y_pred_total) == len(y_pred_sensor1))"
      ]
    },
    {
      "cell_type": "code",
      "execution_count": null,
      "metadata": {
        "id": "9NrwBh01HMgQ"
      },
      "outputs": [],
      "source": [
        "y_test_sensor1 = [np.argmax(i) for i in y_test_sensor1]\n",
        "y_test_sensor2 = [np.argmax(i) for i in y_test_sensor2]\n",
        "y_test_sensor3 = [np.argmax(i) for i in y_test_sensor3]"
      ]
    },
    {
      "cell_type": "code",
      "execution_count": null,
      "metadata": {
        "id": "lRweEKazHMsx"
      },
      "outputs": [],
      "source": [
        "y_test_total = []\n",
        "for i in range(len(y_test_sensor1)):\n",
        "  y_test_total.append(y_test_sensor1[i] or y_test_sensor2[i] or y_test_sensor3[i])"
      ]
    },
    {
      "cell_type": "code",
      "execution_count": null,
      "metadata": {
        "id": "3oCJphJZHMuN",
        "colab": {
          "base_uri": "https://localhost:8080/"
        },
        "outputId": "4fba7f39-8998-4598-bcab-fe35f1e3135c"
      },
      "outputs": [
        {
          "output_type": "stream",
          "name": "stdout",
          "text": [
            "Sensor 1 performanace:\n",
            "recall score : 99.78%\n",
            "\n",
            "precision score: 99.78%\n",
            "\n",
            "F1 score: 99.78%\n",
            "\n",
            "accuracy score: 99.78%\n",
            "\n"
          ]
        }
      ],
      "source": [
        "print(\"Sensor 1 performanace:\")\n",
        "recall = recall_score(y_test_sensor1, y_pred_sensor1, average='micro')\n",
        "print('recall score : {:.2%}\\n'.format(recall ))\n",
        "\n",
        "precision = precision_score(y_test_sensor1, y_pred_sensor1, average='micro')\n",
        "print('precision score: {:.2%}\\n'.format(precision ))\n",
        "\n",
        "f1 = f1_score(y_test_sensor1, y_pred_sensor1, average='micro')\n",
        "print(\"F1 score: {:.2%}\\n\".format(f1 ))\n",
        "\n",
        "accuracy = accuracy_score(y_test_sensor1, y_pred_sensor1)\n",
        "print(\"accuracy score: {:.2%}\\n\".format(accuracy))"
      ]
    },
    {
      "cell_type": "code",
      "execution_count": null,
      "metadata": {
        "id": "Lm9vlS19HMxS",
        "colab": {
          "base_uri": "https://localhost:8080/"
        },
        "outputId": "04fc3ce6-1361-40cb-ac3f-ffdee36c1f4f"
      },
      "outputs": [
        {
          "output_type": "stream",
          "name": "stdout",
          "text": [
            "Sensor 2 performanace:\n",
            "recall score : 99.84%\n",
            "\n",
            "precision score: 99.84%\n",
            "\n",
            "F1 score: 99.84%\n",
            "\n",
            "accuracy score: 99.84%\n",
            "\n"
          ]
        }
      ],
      "source": [
        "print(\"Sensor 2 performanace:\")\n",
        "recall = recall_score(y_test_sensor2, y_pred_sensor2, average='micro')\n",
        "print('recall score : {:.2%}\\n'.format(recall ))\n",
        "\n",
        "precision = precision_score(y_test_sensor2, y_pred_sensor2, average='micro')\n",
        "print('precision score: {:.2%}\\n'.format(precision ))\n",
        "\n",
        "f1 = f1_score(y_test_sensor2, y_pred_sensor2, average='micro')\n",
        "print(\"F1 score: {:.2%}\\n\".format(f1 ))\n",
        "\n",
        "accuracy = accuracy_score(y_test_sensor2, y_pred_sensor2)\n",
        "print(\"accuracy score: {:.2%}\\n\".format(accuracy))"
      ]
    },
    {
      "cell_type": "code",
      "execution_count": null,
      "metadata": {
        "id": "klF4enFMHaV1",
        "colab": {
          "base_uri": "https://localhost:8080/"
        },
        "outputId": "aae3e44d-566a-4914-8f63-fc5004be0dea"
      },
      "outputs": [
        {
          "output_type": "stream",
          "name": "stdout",
          "text": [
            "Sensor 3 performanace:\n",
            "recall score : 99.84%\n",
            "\n",
            "precision score: 99.84%\n",
            "\n",
            "F1 score: 99.84%\n",
            "\n",
            "accuracy score: 99.84%\n",
            "\n"
          ]
        }
      ],
      "source": [
        "print(\"Sensor 3 performanace:\")\n",
        "recall = recall_score(y_test_sensor3, y_pred_sensor3, average='micro')\n",
        "print('recall score : {:.2%}\\n'.format(recall ))\n",
        "\n",
        "precision = precision_score(y_test_sensor3, y_pred_sensor3, average='micro')\n",
        "print('precision score: {:.2%}\\n'.format(precision ))\n",
        "\n",
        "f1 = f1_score(y_test_sensor3, y_pred_sensor3, average='micro')\n",
        "print(\"F1 score: {:.2%}\\n\".format(f1 ))\n",
        "\n",
        "accuracy = accuracy_score(y_test_sensor3, y_pred_sensor3)\n",
        "print(\"accuracy score: {:.2%}\\n\".format(accuracy))"
      ]
    },
    {
      "cell_type": "code",
      "execution_count": null,
      "metadata": {
        "id": "EIlCvZWhHg9S",
        "colab": {
          "base_uri": "https://localhost:8080/"
        },
        "outputId": "21e57426-fe26-46a4-b400-c5425aabab2b"
      },
      "outputs": [
        {
          "output_type": "stream",
          "name": "stdout",
          "text": [
            "All Sensors performanace:\n",
            "\n",
            "recall score : 99.71%\n",
            "\n",
            "precision score: 99.71%\n",
            "\n",
            "F1 score: 99.71%\n",
            "\n",
            "accuracy score: 99.71%\n",
            "\n"
          ]
        }
      ],
      "source": [
        "print(\"All Sensors performanace:\\n\")\n",
        "\n",
        "recall = recall_score(y_test_total, y_pred_total, average='micro')\n",
        "print('recall score : {:.2%}\\n'.format(recall ))\n",
        "\n",
        "precision = precision_score(y_test_total, y_pred_total, average='micro')\n",
        "print('precision score: {:.2%}\\n'.format(precision ))\n",
        "\n",
        "f1 = f1_score(y_test_total, y_pred_total, average='micro')\n",
        "print(\"F1 score: {:.2%}\\n\".format(f1 ))\n",
        "\n",
        "accuracy = accuracy_score(y_test_total, y_pred_total)\n",
        "print(\"accuracy score: {:.2%}\\n\".format(accuracy))"
      ]
    },
    {
      "cell_type": "code",
      "execution_count": null,
      "metadata": {
        "id": "j5CsF4AQHiEs",
        "colab": {
          "base_uri": "https://localhost:8080/"
        },
        "outputId": "a930991a-23d8-4594-942e-f996c3a1f9e0"
      },
      "outputs": [
        {
          "output_type": "stream",
          "name": "stdout",
          "text": [
            "All Sensors performanace:\n",
            "\n",
            "recall score : 99.68%\n",
            "\n",
            "precision score: 99.72%\n",
            "\n",
            "F1 score: 99.70%\n",
            "\n",
            "accuracy score: 99.71%\n",
            "\n"
          ]
        }
      ],
      "source": [
        "print(\"All Sensors performanace:\\n\")\n",
        "\n",
        "recall = recall_score(y_test_total, y_pred_total, average='macro')\n",
        "print('recall score : {:.2%}\\n'.format(recall ))\n",
        "\n",
        "precision = precision_score(y_test_total, y_pred_total, average='macro')\n",
        "print('precision score: {:.2%}\\n'.format(precision ))\n",
        "\n",
        "f1 = f1_score(y_test_total, y_pred_total, average='macro')\n",
        "print(\"F1 score: {:.2%}\\n\".format(f1 ))\n",
        "\n",
        "accuracy = accuracy_score(y_test_total, y_pred_total)\n",
        "print(\"accuracy score: {:.2%}\\n\".format(accuracy))"
      ]
    },
    {
      "cell_type": "code",
      "execution_count": null,
      "metadata": {
        "id": "d1gGHBdzHlkV",
        "colab": {
          "base_uri": "https://localhost:8080/",
          "height": 112
        },
        "outputId": "6cc54025-5e5c-4835-c2b9-544c8628f1cb"
      },
      "outputs": [
        {
          "output_type": "execute_result",
          "data": {
            "text/plain": [
              "      1     0\n",
              "1  1818     9\n",
              "0     4  2638"
            ],
            "text/html": [
              "\n",
              "  <div id=\"df-23f8b1b1-5fa0-452a-a313-bdc136ae370b\">\n",
              "    <div class=\"colab-df-container\">\n",
              "      <div>\n",
              "<style scoped>\n",
              "    .dataframe tbody tr th:only-of-type {\n",
              "        vertical-align: middle;\n",
              "    }\n",
              "\n",
              "    .dataframe tbody tr th {\n",
              "        vertical-align: top;\n",
              "    }\n",
              "\n",
              "    .dataframe thead th {\n",
              "        text-align: right;\n",
              "    }\n",
              "</style>\n",
              "<table border=\"1\" class=\"dataframe\">\n",
              "  <thead>\n",
              "    <tr style=\"text-align: right;\">\n",
              "      <th></th>\n",
              "      <th>1</th>\n",
              "      <th>0</th>\n",
              "    </tr>\n",
              "  </thead>\n",
              "  <tbody>\n",
              "    <tr>\n",
              "      <th>1</th>\n",
              "      <td>1818</td>\n",
              "      <td>9</td>\n",
              "    </tr>\n",
              "    <tr>\n",
              "      <th>0</th>\n",
              "      <td>4</td>\n",
              "      <td>2638</td>\n",
              "    </tr>\n",
              "  </tbody>\n",
              "</table>\n",
              "</div>\n",
              "      <button class=\"colab-df-convert\" onclick=\"convertToInteractive('df-23f8b1b1-5fa0-452a-a313-bdc136ae370b')\"\n",
              "              title=\"Convert this dataframe to an interactive table.\"\n",
              "              style=\"display:none;\">\n",
              "        \n",
              "  <svg xmlns=\"http://www.w3.org/2000/svg\" height=\"24px\"viewBox=\"0 0 24 24\"\n",
              "       width=\"24px\">\n",
              "    <path d=\"M0 0h24v24H0V0z\" fill=\"none\"/>\n",
              "    <path d=\"M18.56 5.44l.94 2.06.94-2.06 2.06-.94-2.06-.94-.94-2.06-.94 2.06-2.06.94zm-11 1L8.5 8.5l.94-2.06 2.06-.94-2.06-.94L8.5 2.5l-.94 2.06-2.06.94zm10 10l.94 2.06.94-2.06 2.06-.94-2.06-.94-.94-2.06-.94 2.06-2.06.94z\"/><path d=\"M17.41 7.96l-1.37-1.37c-.4-.4-.92-.59-1.43-.59-.52 0-1.04.2-1.43.59L10.3 9.45l-7.72 7.72c-.78.78-.78 2.05 0 2.83L4 21.41c.39.39.9.59 1.41.59.51 0 1.02-.2 1.41-.59l7.78-7.78 2.81-2.81c.8-.78.8-2.07 0-2.86zM5.41 20L4 18.59l7.72-7.72 1.47 1.35L5.41 20z\"/>\n",
              "  </svg>\n",
              "      </button>\n",
              "      \n",
              "  <style>\n",
              "    .colab-df-container {\n",
              "      display:flex;\n",
              "      flex-wrap:wrap;\n",
              "      gap: 12px;\n",
              "    }\n",
              "\n",
              "    .colab-df-convert {\n",
              "      background-color: #E8F0FE;\n",
              "      border: none;\n",
              "      border-radius: 50%;\n",
              "      cursor: pointer;\n",
              "      display: none;\n",
              "      fill: #1967D2;\n",
              "      height: 32px;\n",
              "      padding: 0 0 0 0;\n",
              "      width: 32px;\n",
              "    }\n",
              "\n",
              "    .colab-df-convert:hover {\n",
              "      background-color: #E2EBFA;\n",
              "      box-shadow: 0px 1px 2px rgba(60, 64, 67, 0.3), 0px 1px 3px 1px rgba(60, 64, 67, 0.15);\n",
              "      fill: #174EA6;\n",
              "    }\n",
              "\n",
              "    [theme=dark] .colab-df-convert {\n",
              "      background-color: #3B4455;\n",
              "      fill: #D2E3FC;\n",
              "    }\n",
              "\n",
              "    [theme=dark] .colab-df-convert:hover {\n",
              "      background-color: #434B5C;\n",
              "      box-shadow: 0px 1px 3px 1px rgba(0, 0, 0, 0.15);\n",
              "      filter: drop-shadow(0px 1px 2px rgba(0, 0, 0, 0.3));\n",
              "      fill: #FFFFFF;\n",
              "    }\n",
              "  </style>\n",
              "\n",
              "      <script>\n",
              "        const buttonEl =\n",
              "          document.querySelector('#df-23f8b1b1-5fa0-452a-a313-bdc136ae370b button.colab-df-convert');\n",
              "        buttonEl.style.display =\n",
              "          google.colab.kernel.accessAllowed ? 'block' : 'none';\n",
              "\n",
              "        async function convertToInteractive(key) {\n",
              "          const element = document.querySelector('#df-23f8b1b1-5fa0-452a-a313-bdc136ae370b');\n",
              "          const dataTable =\n",
              "            await google.colab.kernel.invokeFunction('convertToInteractive',\n",
              "                                                     [key], {});\n",
              "          if (!dataTable) return;\n",
              "\n",
              "          const docLinkHtml = 'Like what you see? Visit the ' +\n",
              "            '<a target=\"_blank\" href=https://colab.research.google.com/notebooks/data_table.ipynb>data table notebook</a>'\n",
              "            + ' to learn more about interactive tables.';\n",
              "          element.innerHTML = '';\n",
              "          dataTable['output_type'] = 'display_data';\n",
              "          await google.colab.output.renderOutput(dataTable, element);\n",
              "          const docLink = document.createElement('div');\n",
              "          docLink.innerHTML = docLinkHtml;\n",
              "          element.appendChild(docLink);\n",
              "        }\n",
              "      </script>\n",
              "    </div>\n",
              "  </div>\n",
              "  "
            ]
          },
          "metadata": {},
          "execution_count": 75
        }
      ],
      "source": [
        "conf = confusion_matrix(y_test_total, y_pred_total, labels=[1,0])\n",
        "conf_df = pd.DataFrame(conf, columns= [1,0], index= [1,0])\n",
        "conf_df"
      ]
    }
  ],
  "metadata": {
    "accelerator": "GPU",
    "colab": {
      "provenance": []
    },
    "kernelspec": {
      "display_name": "Python 3",
      "name": "python3"
    },
    "language_info": {
      "name": "python"
    }
  },
  "nbformat": 4,
  "nbformat_minor": 0
}