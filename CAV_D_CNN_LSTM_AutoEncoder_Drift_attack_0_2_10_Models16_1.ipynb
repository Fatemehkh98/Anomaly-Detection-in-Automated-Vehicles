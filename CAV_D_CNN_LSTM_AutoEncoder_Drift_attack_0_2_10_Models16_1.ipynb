{
  "nbformat": 4,
  "nbformat_minor": 0,
  "metadata": {
    "colab": {
      "provenance": []
    },
    "kernelspec": {
      "name": "python3",
      "display_name": "Python 3"
    },
    "language_info": {
      "name": "python"
    },
    "accelerator": "GPU"
  },
  "cells": [
    {
      "cell_type": "code",
      "metadata": {
        "id": "INNY7MoLZn0x",
        "colab": {
          "base_uri": "https://localhost:8080/"
        },
        "outputId": "b17bbe9b-38c0-4785-d6f4-76b4e47c43ad"
      },
      "source": [
        "from google.colab import drive\n",
        "drive.mount('/content/drive')"
      ],
      "execution_count": null,
      "outputs": [
        {
          "output_type": "stream",
          "name": "stdout",
          "text": [
            "Mounted at /content/drive\n"
          ]
        }
      ]
    },
    {
      "cell_type": "code",
      "metadata": {
        "id": "bQ3m-WaucgZw",
        "colab": {
          "base_uri": "https://localhost:8080/"
        },
        "outputId": "7fcddf1f-f022-4dc8-d6c6-cfdcbe6d0b22"
      },
      "source": [
        "pip install h5py==2.10.0"
      ],
      "execution_count": null,
      "outputs": [
        {
          "output_type": "stream",
          "name": "stdout",
          "text": [
            "Looking in indexes: https://pypi.org/simple, https://us-python.pkg.dev/colab-wheels/public/simple/\n",
            "Collecting h5py==2.10.0\n",
            "  Downloading h5py-2.10.0-cp38-cp38-manylinux1_x86_64.whl (2.9 MB)\n",
            "\u001b[2K     \u001b[90m━━━━━━━━━━━━━━━━━━━━━━━━━━━━━━━━━━━━━━━━\u001b[0m \u001b[32m2.9/2.9 MB\u001b[0m \u001b[31m60.4 MB/s\u001b[0m eta \u001b[36m0:00:00\u001b[0m\n",
            "\u001b[?25hRequirement already satisfied: numpy>=1.7 in /usr/local/lib/python3.8/dist-packages (from h5py==2.10.0) (1.21.6)\n",
            "Requirement already satisfied: six in /usr/local/lib/python3.8/dist-packages (from h5py==2.10.0) (1.15.0)\n",
            "Installing collected packages: h5py\n",
            "  Attempting uninstall: h5py\n",
            "    Found existing installation: h5py 3.1.0\n",
            "    Uninstalling h5py-3.1.0:\n",
            "      Successfully uninstalled h5py-3.1.0\n",
            "Successfully installed h5py-2.10.0\n"
          ]
        }
      ]
    },
    {
      "cell_type": "code",
      "metadata": {
        "colab": {
          "base_uri": "https://localhost:8080/"
        },
        "id": "8QiS7haVwwyX",
        "outputId": "2324c0b7-0eda-4fbc-fefc-e5560b66f054"
      },
      "source": [
        "import tensorflow as tf\n",
        "print(\"tensorflow version :{}\".format(tf.__version__))\n",
        "device_name = tf.test.gpu_device_name()\n",
        "if device_name != '/device:GPU:0':\n",
        "  raise SystemError('GPU device not found')\n",
        "print('Found GPU at: {}'.format(device_name))"
      ],
      "execution_count": null,
      "outputs": [
        {
          "output_type": "stream",
          "name": "stdout",
          "text": [
            "tensorflow version :2.9.2\n",
            "Found GPU at: /device:GPU:0\n"
          ]
        }
      ]
    },
    {
      "cell_type": "code",
      "metadata": {
        "colab": {
          "base_uri": "https://localhost:8080/"
        },
        "id": "GcgHainaexAf",
        "outputId": "55f62a80-f16c-4536-d07e-cf4754a9d67e"
      },
      "source": [
        "from tensorflow.python.client import device_lib\n",
        "device_lib.list_local_devices()"
      ],
      "execution_count": null,
      "outputs": [
        {
          "output_type": "execute_result",
          "data": {
            "text/plain": [
              "[name: \"/device:CPU:0\"\n",
              " device_type: \"CPU\"\n",
              " memory_limit: 268435456\n",
              " locality {\n",
              " }\n",
              " incarnation: 12317682339962949729\n",
              " xla_global_id: -1, name: \"/device:GPU:0\"\n",
              " device_type: \"GPU\"\n",
              " memory_limit: 14417788928\n",
              " locality {\n",
              "   bus_id: 1\n",
              "   links {\n",
              "   }\n",
              " }\n",
              " incarnation: 5337007461750748138\n",
              " physical_device_desc: \"device: 0, name: Tesla T4, pci bus id: 0000:00:04.0, compute capability: 7.5\"\n",
              " xla_global_id: 416903419]"
            ]
          },
          "metadata": {},
          "execution_count": 4
        }
      ]
    },
    {
      "cell_type": "code",
      "metadata": {
        "id": "wXNT7HPDVvnG"
      },
      "source": [
        "#### physical_device_desc: \"device: 0, name: Tesla T4, pci bus id: 0000:00:04.0, compute capability: 7.5\"]"
      ],
      "execution_count": null,
      "outputs": []
    },
    {
      "cell_type": "code",
      "metadata": {
        "id": "VtduHlsdzllv"
      },
      "source": [
        "import pandas as pd\n",
        "import numpy as np\n",
        "import matplotlib.pyplot as plt\n",
        "from sklearn.model_selection import train_test_split\n",
        "from sklearn.preprocessing import MinMaxScaler, StandardScaler\n",
        "from sklearn.utils import class_weight"
      ],
      "execution_count": null,
      "outputs": []
    },
    {
      "cell_type": "code",
      "metadata": {
        "id": "wmDBFUYG5UTm"
      },
      "source": [
        "\n",
        "from keras.layers import Conv1D, Dense, Dropout, GlobalMaxPool1D, MaxPool1D\n",
        "from keras.layers import TimeDistributed, LSTM, Bidirectional, Input, concatenate,RepeatVector\n",
        "from keras import regularizers\n",
        "# from keras.layers.normalization import BatchNormalization\n",
        "from keras.models import Sequential, load_model, Model\n",
        "from keras.callbacks import ModelCheckpoint, Callback, EarlyStopping\n",
        "from tensorflow.keras.utils import plot_model, to_categorical\n",
        "from keras.losses import binary_crossentropy\n",
        "from keras.optimizers import Adam\n",
        "from sklearn.metrics import recall_score, precision_score, f1_score, accuracy_score\n",
        "from sklearn.metrics import confusion_matrix\n",
        "from keras.regularizers import l1,l2\n",
        "from statsmodels.tsa.stattools import adfuller\n"
      ],
      "execution_count": null,
      "outputs": []
    },
    {
      "cell_type": "code",
      "metadata": {
        "id": "knBwY4MXdknx"
      },
      "source": [
        "data_path = '/content/drive/MyDrive/CAV/data/Drift attack/Mag_0_2_dur_10/'"
      ],
      "execution_count": null,
      "outputs": []
    },
    {
      "cell_type": "code",
      "metadata": {
        "colab": {
          "base_uri": "https://localhost:8080/",
          "height": 206
        },
        "id": "uPy3-An4ynUz",
        "outputId": "e53e38a3-ed8f-472b-8b9b-2efee8f51254"
      },
      "source": [
        "sensor1_data = pd.read_csv(data_path + \"Sensor1_values_drift_0_2_dur10.csv\",index_col = \"Unnamed: 0\")\n",
        "sensor1_data.head()"
      ],
      "execution_count": null,
      "outputs": [
        {
          "output_type": "execute_result",
          "data": {
            "text/plain": [
              "   InVehicle_Longitudinal_Speed  GPS_Speed  InVehicle_Longitudinal_Accel\n",
              "0                     11.375000  11.307097                     -0.103000\n",
              "1                     11.366708  11.255964                     -0.353946\n",
              "2                     11.362331  11.249115                     -0.090962\n",
              "3                     11.358665  11.263280                     -0.043470\n",
              "4                     11.356745  11.270361                     -0.037579"
            ],
            "text/html": [
              "\n",
              "  <div id=\"df-8efefafb-9385-4401-af88-b90346ad565d\">\n",
              "    <div class=\"colab-df-container\">\n",
              "      <div>\n",
              "<style scoped>\n",
              "    .dataframe tbody tr th:only-of-type {\n",
              "        vertical-align: middle;\n",
              "    }\n",
              "\n",
              "    .dataframe tbody tr th {\n",
              "        vertical-align: top;\n",
              "    }\n",
              "\n",
              "    .dataframe thead th {\n",
              "        text-align: right;\n",
              "    }\n",
              "</style>\n",
              "<table border=\"1\" class=\"dataframe\">\n",
              "  <thead>\n",
              "    <tr style=\"text-align: right;\">\n",
              "      <th></th>\n",
              "      <th>InVehicle_Longitudinal_Speed</th>\n",
              "      <th>GPS_Speed</th>\n",
              "      <th>InVehicle_Longitudinal_Accel</th>\n",
              "    </tr>\n",
              "  </thead>\n",
              "  <tbody>\n",
              "    <tr>\n",
              "      <th>0</th>\n",
              "      <td>11.375000</td>\n",
              "      <td>11.307097</td>\n",
              "      <td>-0.103000</td>\n",
              "    </tr>\n",
              "    <tr>\n",
              "      <th>1</th>\n",
              "      <td>11.366708</td>\n",
              "      <td>11.255964</td>\n",
              "      <td>-0.353946</td>\n",
              "    </tr>\n",
              "    <tr>\n",
              "      <th>2</th>\n",
              "      <td>11.362331</td>\n",
              "      <td>11.249115</td>\n",
              "      <td>-0.090962</td>\n",
              "    </tr>\n",
              "    <tr>\n",
              "      <th>3</th>\n",
              "      <td>11.358665</td>\n",
              "      <td>11.263280</td>\n",
              "      <td>-0.043470</td>\n",
              "    </tr>\n",
              "    <tr>\n",
              "      <th>4</th>\n",
              "      <td>11.356745</td>\n",
              "      <td>11.270361</td>\n",
              "      <td>-0.037579</td>\n",
              "    </tr>\n",
              "  </tbody>\n",
              "</table>\n",
              "</div>\n",
              "      <button class=\"colab-df-convert\" onclick=\"convertToInteractive('df-8efefafb-9385-4401-af88-b90346ad565d')\"\n",
              "              title=\"Convert this dataframe to an interactive table.\"\n",
              "              style=\"display:none;\">\n",
              "        \n",
              "  <svg xmlns=\"http://www.w3.org/2000/svg\" height=\"24px\"viewBox=\"0 0 24 24\"\n",
              "       width=\"24px\">\n",
              "    <path d=\"M0 0h24v24H0V0z\" fill=\"none\"/>\n",
              "    <path d=\"M18.56 5.44l.94 2.06.94-2.06 2.06-.94-2.06-.94-.94-2.06-.94 2.06-2.06.94zm-11 1L8.5 8.5l.94-2.06 2.06-.94-2.06-.94L8.5 2.5l-.94 2.06-2.06.94zm10 10l.94 2.06.94-2.06 2.06-.94-2.06-.94-.94-2.06-.94 2.06-2.06.94z\"/><path d=\"M17.41 7.96l-1.37-1.37c-.4-.4-.92-.59-1.43-.59-.52 0-1.04.2-1.43.59L10.3 9.45l-7.72 7.72c-.78.78-.78 2.05 0 2.83L4 21.41c.39.39.9.59 1.41.59.51 0 1.02-.2 1.41-.59l7.78-7.78 2.81-2.81c.8-.78.8-2.07 0-2.86zM5.41 20L4 18.59l7.72-7.72 1.47 1.35L5.41 20z\"/>\n",
              "  </svg>\n",
              "      </button>\n",
              "      \n",
              "  <style>\n",
              "    .colab-df-container {\n",
              "      display:flex;\n",
              "      flex-wrap:wrap;\n",
              "      gap: 12px;\n",
              "    }\n",
              "\n",
              "    .colab-df-convert {\n",
              "      background-color: #E8F0FE;\n",
              "      border: none;\n",
              "      border-radius: 50%;\n",
              "      cursor: pointer;\n",
              "      display: none;\n",
              "      fill: #1967D2;\n",
              "      height: 32px;\n",
              "      padding: 0 0 0 0;\n",
              "      width: 32px;\n",
              "    }\n",
              "\n",
              "    .colab-df-convert:hover {\n",
              "      background-color: #E2EBFA;\n",
              "      box-shadow: 0px 1px 2px rgba(60, 64, 67, 0.3), 0px 1px 3px 1px rgba(60, 64, 67, 0.15);\n",
              "      fill: #174EA6;\n",
              "    }\n",
              "\n",
              "    [theme=dark] .colab-df-convert {\n",
              "      background-color: #3B4455;\n",
              "      fill: #D2E3FC;\n",
              "    }\n",
              "\n",
              "    [theme=dark] .colab-df-convert:hover {\n",
              "      background-color: #434B5C;\n",
              "      box-shadow: 0px 1px 3px 1px rgba(0, 0, 0, 0.15);\n",
              "      filter: drop-shadow(0px 1px 2px rgba(0, 0, 0, 0.3));\n",
              "      fill: #FFFFFF;\n",
              "    }\n",
              "  </style>\n",
              "\n",
              "      <script>\n",
              "        const buttonEl =\n",
              "          document.querySelector('#df-8efefafb-9385-4401-af88-b90346ad565d button.colab-df-convert');\n",
              "        buttonEl.style.display =\n",
              "          google.colab.kernel.accessAllowed ? 'block' : 'none';\n",
              "\n",
              "        async function convertToInteractive(key) {\n",
              "          const element = document.querySelector('#df-8efefafb-9385-4401-af88-b90346ad565d');\n",
              "          const dataTable =\n",
              "            await google.colab.kernel.invokeFunction('convertToInteractive',\n",
              "                                                     [key], {});\n",
              "          if (!dataTable) return;\n",
              "\n",
              "          const docLinkHtml = 'Like what you see? Visit the ' +\n",
              "            '<a target=\"_blank\" href=https://colab.research.google.com/notebooks/data_table.ipynb>data table notebook</a>'\n",
              "            + ' to learn more about interactive tables.';\n",
              "          element.innerHTML = '';\n",
              "          dataTable['output_type'] = 'display_data';\n",
              "          await google.colab.output.renderOutput(dataTable, element);\n",
              "          const docLink = document.createElement('div');\n",
              "          docLink.innerHTML = docLinkHtml;\n",
              "          element.appendChild(docLink);\n",
              "        }\n",
              "      </script>\n",
              "    </div>\n",
              "  </div>\n",
              "  "
            ]
          },
          "metadata": {},
          "execution_count": 9
        }
      ]
    },
    {
      "cell_type": "code",
      "metadata": {
        "colab": {
          "base_uri": "https://localhost:8080/"
        },
        "id": "NkKyrb2sQCni",
        "outputId": "eeec923b-03d5-4433-80c8-81eef6a40930"
      },
      "source": [
        "len(sensor1_data)"
      ],
      "execution_count": null,
      "outputs": [
        {
          "output_type": "execute_result",
          "data": {
            "text/plain": [
              "29800"
            ]
          },
          "metadata": {},
          "execution_count": 10
        }
      ]
    },
    {
      "cell_type": "code",
      "metadata": {
        "colab": {
          "base_uri": "https://localhost:8080/",
          "height": 206
        },
        "id": "OYhwlWY8z4N6",
        "outputId": "c0e7e569-a647-4ed5-b74d-e4e0c7fbdfad"
      },
      "source": [
        "sensor1_label = pd.read_csv(data_path + \"Ground_truth_drift_0_2_dur_10_sensor1.csv\", names=['Class'] )\n",
        "sensor1_label.head()"
      ],
      "execution_count": null,
      "outputs": [
        {
          "output_type": "execute_result",
          "data": {
            "text/plain": [
              "   Class\n",
              "0    0.0\n",
              "1    0.0\n",
              "2    0.0\n",
              "3    0.0\n",
              "4    0.0"
            ],
            "text/html": [
              "\n",
              "  <div id=\"df-861f3def-2d26-41ee-ad66-42ede0baba36\">\n",
              "    <div class=\"colab-df-container\">\n",
              "      <div>\n",
              "<style scoped>\n",
              "    .dataframe tbody tr th:only-of-type {\n",
              "        vertical-align: middle;\n",
              "    }\n",
              "\n",
              "    .dataframe tbody tr th {\n",
              "        vertical-align: top;\n",
              "    }\n",
              "\n",
              "    .dataframe thead th {\n",
              "        text-align: right;\n",
              "    }\n",
              "</style>\n",
              "<table border=\"1\" class=\"dataframe\">\n",
              "  <thead>\n",
              "    <tr style=\"text-align: right;\">\n",
              "      <th></th>\n",
              "      <th>Class</th>\n",
              "    </tr>\n",
              "  </thead>\n",
              "  <tbody>\n",
              "    <tr>\n",
              "      <th>0</th>\n",
              "      <td>0.0</td>\n",
              "    </tr>\n",
              "    <tr>\n",
              "      <th>1</th>\n",
              "      <td>0.0</td>\n",
              "    </tr>\n",
              "    <tr>\n",
              "      <th>2</th>\n",
              "      <td>0.0</td>\n",
              "    </tr>\n",
              "    <tr>\n",
              "      <th>3</th>\n",
              "      <td>0.0</td>\n",
              "    </tr>\n",
              "    <tr>\n",
              "      <th>4</th>\n",
              "      <td>0.0</td>\n",
              "    </tr>\n",
              "  </tbody>\n",
              "</table>\n",
              "</div>\n",
              "      <button class=\"colab-df-convert\" onclick=\"convertToInteractive('df-861f3def-2d26-41ee-ad66-42ede0baba36')\"\n",
              "              title=\"Convert this dataframe to an interactive table.\"\n",
              "              style=\"display:none;\">\n",
              "        \n",
              "  <svg xmlns=\"http://www.w3.org/2000/svg\" height=\"24px\"viewBox=\"0 0 24 24\"\n",
              "       width=\"24px\">\n",
              "    <path d=\"M0 0h24v24H0V0z\" fill=\"none\"/>\n",
              "    <path d=\"M18.56 5.44l.94 2.06.94-2.06 2.06-.94-2.06-.94-.94-2.06-.94 2.06-2.06.94zm-11 1L8.5 8.5l.94-2.06 2.06-.94-2.06-.94L8.5 2.5l-.94 2.06-2.06.94zm10 10l.94 2.06.94-2.06 2.06-.94-2.06-.94-.94-2.06-.94 2.06-2.06.94z\"/><path d=\"M17.41 7.96l-1.37-1.37c-.4-.4-.92-.59-1.43-.59-.52 0-1.04.2-1.43.59L10.3 9.45l-7.72 7.72c-.78.78-.78 2.05 0 2.83L4 21.41c.39.39.9.59 1.41.59.51 0 1.02-.2 1.41-.59l7.78-7.78 2.81-2.81c.8-.78.8-2.07 0-2.86zM5.41 20L4 18.59l7.72-7.72 1.47 1.35L5.41 20z\"/>\n",
              "  </svg>\n",
              "      </button>\n",
              "      \n",
              "  <style>\n",
              "    .colab-df-container {\n",
              "      display:flex;\n",
              "      flex-wrap:wrap;\n",
              "      gap: 12px;\n",
              "    }\n",
              "\n",
              "    .colab-df-convert {\n",
              "      background-color: #E8F0FE;\n",
              "      border: none;\n",
              "      border-radius: 50%;\n",
              "      cursor: pointer;\n",
              "      display: none;\n",
              "      fill: #1967D2;\n",
              "      height: 32px;\n",
              "      padding: 0 0 0 0;\n",
              "      width: 32px;\n",
              "    }\n",
              "\n",
              "    .colab-df-convert:hover {\n",
              "      background-color: #E2EBFA;\n",
              "      box-shadow: 0px 1px 2px rgba(60, 64, 67, 0.3), 0px 1px 3px 1px rgba(60, 64, 67, 0.15);\n",
              "      fill: #174EA6;\n",
              "    }\n",
              "\n",
              "    [theme=dark] .colab-df-convert {\n",
              "      background-color: #3B4455;\n",
              "      fill: #D2E3FC;\n",
              "    }\n",
              "\n",
              "    [theme=dark] .colab-df-convert:hover {\n",
              "      background-color: #434B5C;\n",
              "      box-shadow: 0px 1px 3px 1px rgba(0, 0, 0, 0.15);\n",
              "      filter: drop-shadow(0px 1px 2px rgba(0, 0, 0, 0.3));\n",
              "      fill: #FFFFFF;\n",
              "    }\n",
              "  </style>\n",
              "\n",
              "      <script>\n",
              "        const buttonEl =\n",
              "          document.querySelector('#df-861f3def-2d26-41ee-ad66-42ede0baba36 button.colab-df-convert');\n",
              "        buttonEl.style.display =\n",
              "          google.colab.kernel.accessAllowed ? 'block' : 'none';\n",
              "\n",
              "        async function convertToInteractive(key) {\n",
              "          const element = document.querySelector('#df-861f3def-2d26-41ee-ad66-42ede0baba36');\n",
              "          const dataTable =\n",
              "            await google.colab.kernel.invokeFunction('convertToInteractive',\n",
              "                                                     [key], {});\n",
              "          if (!dataTable) return;\n",
              "\n",
              "          const docLinkHtml = 'Like what you see? Visit the ' +\n",
              "            '<a target=\"_blank\" href=https://colab.research.google.com/notebooks/data_table.ipynb>data table notebook</a>'\n",
              "            + ' to learn more about interactive tables.';\n",
              "          element.innerHTML = '';\n",
              "          dataTable['output_type'] = 'display_data';\n",
              "          await google.colab.output.renderOutput(dataTable, element);\n",
              "          const docLink = document.createElement('div');\n",
              "          docLink.innerHTML = docLinkHtml;\n",
              "          element.appendChild(docLink);\n",
              "        }\n",
              "      </script>\n",
              "    </div>\n",
              "  </div>\n",
              "  "
            ]
          },
          "metadata": {},
          "execution_count": 11
        }
      ]
    },
    {
      "cell_type": "code",
      "metadata": {
        "colab": {
          "base_uri": "https://localhost:8080/"
        },
        "id": "2mxdhpBpQMjZ",
        "outputId": "db89fecc-0daf-451c-9251-d670c71fa603"
      },
      "source": [
        "len(sensor1_label)"
      ],
      "execution_count": null,
      "outputs": [
        {
          "output_type": "execute_result",
          "data": {
            "text/plain": [
              "29800"
            ]
          },
          "metadata": {},
          "execution_count": 12
        }
      ]
    },
    {
      "cell_type": "code",
      "metadata": {
        "id": "hV_gOXr70BKL",
        "colab": {
          "base_uri": "https://localhost:8080/",
          "height": 206
        },
        "outputId": "3604596e-75de-4db0-9637-80ccf0215dff"
      },
      "source": [
        "sensor2_data = pd.read_csv(data_path + \"Sensor2_values_drift_0_2_dur_10.csv\", index_col = \"Unnamed: 0\")\n",
        "sensor2_data.head()"
      ],
      "execution_count": null,
      "outputs": [
        {
          "output_type": "execute_result",
          "data": {
            "text/plain": [
              "   InVehicle_Longitudinal_Speed  GPS_Speed  InVehicle_Longitudinal_Accel\n",
              "0                     11.375000  11.307097                     -0.103000\n",
              "1                     11.366708  11.255964                     -0.353946\n",
              "2                     11.362331  11.249115                     -0.090962\n",
              "3                     11.358665  11.263280                     -0.043470\n",
              "4                     11.356745  11.270361                     -0.037579"
            ],
            "text/html": [
              "\n",
              "  <div id=\"df-7c44655f-3874-4f8d-93e9-785be7e843af\">\n",
              "    <div class=\"colab-df-container\">\n",
              "      <div>\n",
              "<style scoped>\n",
              "    .dataframe tbody tr th:only-of-type {\n",
              "        vertical-align: middle;\n",
              "    }\n",
              "\n",
              "    .dataframe tbody tr th {\n",
              "        vertical-align: top;\n",
              "    }\n",
              "\n",
              "    .dataframe thead th {\n",
              "        text-align: right;\n",
              "    }\n",
              "</style>\n",
              "<table border=\"1\" class=\"dataframe\">\n",
              "  <thead>\n",
              "    <tr style=\"text-align: right;\">\n",
              "      <th></th>\n",
              "      <th>InVehicle_Longitudinal_Speed</th>\n",
              "      <th>GPS_Speed</th>\n",
              "      <th>InVehicle_Longitudinal_Accel</th>\n",
              "    </tr>\n",
              "  </thead>\n",
              "  <tbody>\n",
              "    <tr>\n",
              "      <th>0</th>\n",
              "      <td>11.375000</td>\n",
              "      <td>11.307097</td>\n",
              "      <td>-0.103000</td>\n",
              "    </tr>\n",
              "    <tr>\n",
              "      <th>1</th>\n",
              "      <td>11.366708</td>\n",
              "      <td>11.255964</td>\n",
              "      <td>-0.353946</td>\n",
              "    </tr>\n",
              "    <tr>\n",
              "      <th>2</th>\n",
              "      <td>11.362331</td>\n",
              "      <td>11.249115</td>\n",
              "      <td>-0.090962</td>\n",
              "    </tr>\n",
              "    <tr>\n",
              "      <th>3</th>\n",
              "      <td>11.358665</td>\n",
              "      <td>11.263280</td>\n",
              "      <td>-0.043470</td>\n",
              "    </tr>\n",
              "    <tr>\n",
              "      <th>4</th>\n",
              "      <td>11.356745</td>\n",
              "      <td>11.270361</td>\n",
              "      <td>-0.037579</td>\n",
              "    </tr>\n",
              "  </tbody>\n",
              "</table>\n",
              "</div>\n",
              "      <button class=\"colab-df-convert\" onclick=\"convertToInteractive('df-7c44655f-3874-4f8d-93e9-785be7e843af')\"\n",
              "              title=\"Convert this dataframe to an interactive table.\"\n",
              "              style=\"display:none;\">\n",
              "        \n",
              "  <svg xmlns=\"http://www.w3.org/2000/svg\" height=\"24px\"viewBox=\"0 0 24 24\"\n",
              "       width=\"24px\">\n",
              "    <path d=\"M0 0h24v24H0V0z\" fill=\"none\"/>\n",
              "    <path d=\"M18.56 5.44l.94 2.06.94-2.06 2.06-.94-2.06-.94-.94-2.06-.94 2.06-2.06.94zm-11 1L8.5 8.5l.94-2.06 2.06-.94-2.06-.94L8.5 2.5l-.94 2.06-2.06.94zm10 10l.94 2.06.94-2.06 2.06-.94-2.06-.94-.94-2.06-.94 2.06-2.06.94z\"/><path d=\"M17.41 7.96l-1.37-1.37c-.4-.4-.92-.59-1.43-.59-.52 0-1.04.2-1.43.59L10.3 9.45l-7.72 7.72c-.78.78-.78 2.05 0 2.83L4 21.41c.39.39.9.59 1.41.59.51 0 1.02-.2 1.41-.59l7.78-7.78 2.81-2.81c.8-.78.8-2.07 0-2.86zM5.41 20L4 18.59l7.72-7.72 1.47 1.35L5.41 20z\"/>\n",
              "  </svg>\n",
              "      </button>\n",
              "      \n",
              "  <style>\n",
              "    .colab-df-container {\n",
              "      display:flex;\n",
              "      flex-wrap:wrap;\n",
              "      gap: 12px;\n",
              "    }\n",
              "\n",
              "    .colab-df-convert {\n",
              "      background-color: #E8F0FE;\n",
              "      border: none;\n",
              "      border-radius: 50%;\n",
              "      cursor: pointer;\n",
              "      display: none;\n",
              "      fill: #1967D2;\n",
              "      height: 32px;\n",
              "      padding: 0 0 0 0;\n",
              "      width: 32px;\n",
              "    }\n",
              "\n",
              "    .colab-df-convert:hover {\n",
              "      background-color: #E2EBFA;\n",
              "      box-shadow: 0px 1px 2px rgba(60, 64, 67, 0.3), 0px 1px 3px 1px rgba(60, 64, 67, 0.15);\n",
              "      fill: #174EA6;\n",
              "    }\n",
              "\n",
              "    [theme=dark] .colab-df-convert {\n",
              "      background-color: #3B4455;\n",
              "      fill: #D2E3FC;\n",
              "    }\n",
              "\n",
              "    [theme=dark] .colab-df-convert:hover {\n",
              "      background-color: #434B5C;\n",
              "      box-shadow: 0px 1px 3px 1px rgba(0, 0, 0, 0.15);\n",
              "      filter: drop-shadow(0px 1px 2px rgba(0, 0, 0, 0.3));\n",
              "      fill: #FFFFFF;\n",
              "    }\n",
              "  </style>\n",
              "\n",
              "      <script>\n",
              "        const buttonEl =\n",
              "          document.querySelector('#df-7c44655f-3874-4f8d-93e9-785be7e843af button.colab-df-convert');\n",
              "        buttonEl.style.display =\n",
              "          google.colab.kernel.accessAllowed ? 'block' : 'none';\n",
              "\n",
              "        async function convertToInteractive(key) {\n",
              "          const element = document.querySelector('#df-7c44655f-3874-4f8d-93e9-785be7e843af');\n",
              "          const dataTable =\n",
              "            await google.colab.kernel.invokeFunction('convertToInteractive',\n",
              "                                                     [key], {});\n",
              "          if (!dataTable) return;\n",
              "\n",
              "          const docLinkHtml = 'Like what you see? Visit the ' +\n",
              "            '<a target=\"_blank\" href=https://colab.research.google.com/notebooks/data_table.ipynb>data table notebook</a>'\n",
              "            + ' to learn more about interactive tables.';\n",
              "          element.innerHTML = '';\n",
              "          dataTable['output_type'] = 'display_data';\n",
              "          await google.colab.output.renderOutput(dataTable, element);\n",
              "          const docLink = document.createElement('div');\n",
              "          docLink.innerHTML = docLinkHtml;\n",
              "          element.appendChild(docLink);\n",
              "        }\n",
              "      </script>\n",
              "    </div>\n",
              "  </div>\n",
              "  "
            ]
          },
          "metadata": {},
          "execution_count": 13
        }
      ]
    },
    {
      "cell_type": "code",
      "metadata": {
        "id": "8PtBb1m00oRX",
        "colab": {
          "base_uri": "https://localhost:8080/",
          "height": 206
        },
        "outputId": "e31d0110-53c4-4c7d-a13b-1a9a909611bc"
      },
      "source": [
        "sensor2_label = pd.read_csv(data_path + \"Ground_truth_drift_0_2_dur_10_sensor2.csv\", names=['Class'] )\n",
        "sensor2_label.head()"
      ],
      "execution_count": null,
      "outputs": [
        {
          "output_type": "execute_result",
          "data": {
            "text/plain": [
              "   Class\n",
              "0    0.0\n",
              "1    0.0\n",
              "2    0.0\n",
              "3    0.0\n",
              "4    0.0"
            ],
            "text/html": [
              "\n",
              "  <div id=\"df-6ef8c8de-f7a0-48a4-a128-50357c46c33f\">\n",
              "    <div class=\"colab-df-container\">\n",
              "      <div>\n",
              "<style scoped>\n",
              "    .dataframe tbody tr th:only-of-type {\n",
              "        vertical-align: middle;\n",
              "    }\n",
              "\n",
              "    .dataframe tbody tr th {\n",
              "        vertical-align: top;\n",
              "    }\n",
              "\n",
              "    .dataframe thead th {\n",
              "        text-align: right;\n",
              "    }\n",
              "</style>\n",
              "<table border=\"1\" class=\"dataframe\">\n",
              "  <thead>\n",
              "    <tr style=\"text-align: right;\">\n",
              "      <th></th>\n",
              "      <th>Class</th>\n",
              "    </tr>\n",
              "  </thead>\n",
              "  <tbody>\n",
              "    <tr>\n",
              "      <th>0</th>\n",
              "      <td>0.0</td>\n",
              "    </tr>\n",
              "    <tr>\n",
              "      <th>1</th>\n",
              "      <td>0.0</td>\n",
              "    </tr>\n",
              "    <tr>\n",
              "      <th>2</th>\n",
              "      <td>0.0</td>\n",
              "    </tr>\n",
              "    <tr>\n",
              "      <th>3</th>\n",
              "      <td>0.0</td>\n",
              "    </tr>\n",
              "    <tr>\n",
              "      <th>4</th>\n",
              "      <td>0.0</td>\n",
              "    </tr>\n",
              "  </tbody>\n",
              "</table>\n",
              "</div>\n",
              "      <button class=\"colab-df-convert\" onclick=\"convertToInteractive('df-6ef8c8de-f7a0-48a4-a128-50357c46c33f')\"\n",
              "              title=\"Convert this dataframe to an interactive table.\"\n",
              "              style=\"display:none;\">\n",
              "        \n",
              "  <svg xmlns=\"http://www.w3.org/2000/svg\" height=\"24px\"viewBox=\"0 0 24 24\"\n",
              "       width=\"24px\">\n",
              "    <path d=\"M0 0h24v24H0V0z\" fill=\"none\"/>\n",
              "    <path d=\"M18.56 5.44l.94 2.06.94-2.06 2.06-.94-2.06-.94-.94-2.06-.94 2.06-2.06.94zm-11 1L8.5 8.5l.94-2.06 2.06-.94-2.06-.94L8.5 2.5l-.94 2.06-2.06.94zm10 10l.94 2.06.94-2.06 2.06-.94-2.06-.94-.94-2.06-.94 2.06-2.06.94z\"/><path d=\"M17.41 7.96l-1.37-1.37c-.4-.4-.92-.59-1.43-.59-.52 0-1.04.2-1.43.59L10.3 9.45l-7.72 7.72c-.78.78-.78 2.05 0 2.83L4 21.41c.39.39.9.59 1.41.59.51 0 1.02-.2 1.41-.59l7.78-7.78 2.81-2.81c.8-.78.8-2.07 0-2.86zM5.41 20L4 18.59l7.72-7.72 1.47 1.35L5.41 20z\"/>\n",
              "  </svg>\n",
              "      </button>\n",
              "      \n",
              "  <style>\n",
              "    .colab-df-container {\n",
              "      display:flex;\n",
              "      flex-wrap:wrap;\n",
              "      gap: 12px;\n",
              "    }\n",
              "\n",
              "    .colab-df-convert {\n",
              "      background-color: #E8F0FE;\n",
              "      border: none;\n",
              "      border-radius: 50%;\n",
              "      cursor: pointer;\n",
              "      display: none;\n",
              "      fill: #1967D2;\n",
              "      height: 32px;\n",
              "      padding: 0 0 0 0;\n",
              "      width: 32px;\n",
              "    }\n",
              "\n",
              "    .colab-df-convert:hover {\n",
              "      background-color: #E2EBFA;\n",
              "      box-shadow: 0px 1px 2px rgba(60, 64, 67, 0.3), 0px 1px 3px 1px rgba(60, 64, 67, 0.15);\n",
              "      fill: #174EA6;\n",
              "    }\n",
              "\n",
              "    [theme=dark] .colab-df-convert {\n",
              "      background-color: #3B4455;\n",
              "      fill: #D2E3FC;\n",
              "    }\n",
              "\n",
              "    [theme=dark] .colab-df-convert:hover {\n",
              "      background-color: #434B5C;\n",
              "      box-shadow: 0px 1px 3px 1px rgba(0, 0, 0, 0.15);\n",
              "      filter: drop-shadow(0px 1px 2px rgba(0, 0, 0, 0.3));\n",
              "      fill: #FFFFFF;\n",
              "    }\n",
              "  </style>\n",
              "\n",
              "      <script>\n",
              "        const buttonEl =\n",
              "          document.querySelector('#df-6ef8c8de-f7a0-48a4-a128-50357c46c33f button.colab-df-convert');\n",
              "        buttonEl.style.display =\n",
              "          google.colab.kernel.accessAllowed ? 'block' : 'none';\n",
              "\n",
              "        async function convertToInteractive(key) {\n",
              "          const element = document.querySelector('#df-6ef8c8de-f7a0-48a4-a128-50357c46c33f');\n",
              "          const dataTable =\n",
              "            await google.colab.kernel.invokeFunction('convertToInteractive',\n",
              "                                                     [key], {});\n",
              "          if (!dataTable) return;\n",
              "\n",
              "          const docLinkHtml = 'Like what you see? Visit the ' +\n",
              "            '<a target=\"_blank\" href=https://colab.research.google.com/notebooks/data_table.ipynb>data table notebook</a>'\n",
              "            + ' to learn more about interactive tables.';\n",
              "          element.innerHTML = '';\n",
              "          dataTable['output_type'] = 'display_data';\n",
              "          await google.colab.output.renderOutput(dataTable, element);\n",
              "          const docLink = document.createElement('div');\n",
              "          docLink.innerHTML = docLinkHtml;\n",
              "          element.appendChild(docLink);\n",
              "        }\n",
              "      </script>\n",
              "    </div>\n",
              "  </div>\n",
              "  "
            ]
          },
          "metadata": {},
          "execution_count": 14
        }
      ]
    },
    {
      "cell_type": "code",
      "metadata": {
        "id": "mCLgKYTJ0f7t",
        "colab": {
          "base_uri": "https://localhost:8080/",
          "height": 206
        },
        "outputId": "d44e272c-e209-4af1-de89-13e8708ede4c"
      },
      "source": [
        "sensor3_data = pd.read_csv(data_path + \"Sensor3_values_drift_0_2_dur_10.csv\", index_col = \"Unnamed: 0\")\n",
        "sensor3_data.head()"
      ],
      "execution_count": null,
      "outputs": [
        {
          "output_type": "execute_result",
          "data": {
            "text/plain": [
              "   InVehicle_Longitudinal_Speed  GPS_Speed  InVehicle_Longitudinal_Accel\n",
              "0                     11.375000  11.307097                     -0.103000\n",
              "1                     11.366708  11.255964                     -0.353946\n",
              "2                     11.362331  11.249115                     -0.090962\n",
              "3                     11.358665  11.263280                     -0.043470\n",
              "4                     11.356745  11.270361                     -0.037579"
            ],
            "text/html": [
              "\n",
              "  <div id=\"df-f426f1d8-5280-4b8d-b143-160ad854767f\">\n",
              "    <div class=\"colab-df-container\">\n",
              "      <div>\n",
              "<style scoped>\n",
              "    .dataframe tbody tr th:only-of-type {\n",
              "        vertical-align: middle;\n",
              "    }\n",
              "\n",
              "    .dataframe tbody tr th {\n",
              "        vertical-align: top;\n",
              "    }\n",
              "\n",
              "    .dataframe thead th {\n",
              "        text-align: right;\n",
              "    }\n",
              "</style>\n",
              "<table border=\"1\" class=\"dataframe\">\n",
              "  <thead>\n",
              "    <tr style=\"text-align: right;\">\n",
              "      <th></th>\n",
              "      <th>InVehicle_Longitudinal_Speed</th>\n",
              "      <th>GPS_Speed</th>\n",
              "      <th>InVehicle_Longitudinal_Accel</th>\n",
              "    </tr>\n",
              "  </thead>\n",
              "  <tbody>\n",
              "    <tr>\n",
              "      <th>0</th>\n",
              "      <td>11.375000</td>\n",
              "      <td>11.307097</td>\n",
              "      <td>-0.103000</td>\n",
              "    </tr>\n",
              "    <tr>\n",
              "      <th>1</th>\n",
              "      <td>11.366708</td>\n",
              "      <td>11.255964</td>\n",
              "      <td>-0.353946</td>\n",
              "    </tr>\n",
              "    <tr>\n",
              "      <th>2</th>\n",
              "      <td>11.362331</td>\n",
              "      <td>11.249115</td>\n",
              "      <td>-0.090962</td>\n",
              "    </tr>\n",
              "    <tr>\n",
              "      <th>3</th>\n",
              "      <td>11.358665</td>\n",
              "      <td>11.263280</td>\n",
              "      <td>-0.043470</td>\n",
              "    </tr>\n",
              "    <tr>\n",
              "      <th>4</th>\n",
              "      <td>11.356745</td>\n",
              "      <td>11.270361</td>\n",
              "      <td>-0.037579</td>\n",
              "    </tr>\n",
              "  </tbody>\n",
              "</table>\n",
              "</div>\n",
              "      <button class=\"colab-df-convert\" onclick=\"convertToInteractive('df-f426f1d8-5280-4b8d-b143-160ad854767f')\"\n",
              "              title=\"Convert this dataframe to an interactive table.\"\n",
              "              style=\"display:none;\">\n",
              "        \n",
              "  <svg xmlns=\"http://www.w3.org/2000/svg\" height=\"24px\"viewBox=\"0 0 24 24\"\n",
              "       width=\"24px\">\n",
              "    <path d=\"M0 0h24v24H0V0z\" fill=\"none\"/>\n",
              "    <path d=\"M18.56 5.44l.94 2.06.94-2.06 2.06-.94-2.06-.94-.94-2.06-.94 2.06-2.06.94zm-11 1L8.5 8.5l.94-2.06 2.06-.94-2.06-.94L8.5 2.5l-.94 2.06-2.06.94zm10 10l.94 2.06.94-2.06 2.06-.94-2.06-.94-.94-2.06-.94 2.06-2.06.94z\"/><path d=\"M17.41 7.96l-1.37-1.37c-.4-.4-.92-.59-1.43-.59-.52 0-1.04.2-1.43.59L10.3 9.45l-7.72 7.72c-.78.78-.78 2.05 0 2.83L4 21.41c.39.39.9.59 1.41.59.51 0 1.02-.2 1.41-.59l7.78-7.78 2.81-2.81c.8-.78.8-2.07 0-2.86zM5.41 20L4 18.59l7.72-7.72 1.47 1.35L5.41 20z\"/>\n",
              "  </svg>\n",
              "      </button>\n",
              "      \n",
              "  <style>\n",
              "    .colab-df-container {\n",
              "      display:flex;\n",
              "      flex-wrap:wrap;\n",
              "      gap: 12px;\n",
              "    }\n",
              "\n",
              "    .colab-df-convert {\n",
              "      background-color: #E8F0FE;\n",
              "      border: none;\n",
              "      border-radius: 50%;\n",
              "      cursor: pointer;\n",
              "      display: none;\n",
              "      fill: #1967D2;\n",
              "      height: 32px;\n",
              "      padding: 0 0 0 0;\n",
              "      width: 32px;\n",
              "    }\n",
              "\n",
              "    .colab-df-convert:hover {\n",
              "      background-color: #E2EBFA;\n",
              "      box-shadow: 0px 1px 2px rgba(60, 64, 67, 0.3), 0px 1px 3px 1px rgba(60, 64, 67, 0.15);\n",
              "      fill: #174EA6;\n",
              "    }\n",
              "\n",
              "    [theme=dark] .colab-df-convert {\n",
              "      background-color: #3B4455;\n",
              "      fill: #D2E3FC;\n",
              "    }\n",
              "\n",
              "    [theme=dark] .colab-df-convert:hover {\n",
              "      background-color: #434B5C;\n",
              "      box-shadow: 0px 1px 3px 1px rgba(0, 0, 0, 0.15);\n",
              "      filter: drop-shadow(0px 1px 2px rgba(0, 0, 0, 0.3));\n",
              "      fill: #FFFFFF;\n",
              "    }\n",
              "  </style>\n",
              "\n",
              "      <script>\n",
              "        const buttonEl =\n",
              "          document.querySelector('#df-f426f1d8-5280-4b8d-b143-160ad854767f button.colab-df-convert');\n",
              "        buttonEl.style.display =\n",
              "          google.colab.kernel.accessAllowed ? 'block' : 'none';\n",
              "\n",
              "        async function convertToInteractive(key) {\n",
              "          const element = document.querySelector('#df-f426f1d8-5280-4b8d-b143-160ad854767f');\n",
              "          const dataTable =\n",
              "            await google.colab.kernel.invokeFunction('convertToInteractive',\n",
              "                                                     [key], {});\n",
              "          if (!dataTable) return;\n",
              "\n",
              "          const docLinkHtml = 'Like what you see? Visit the ' +\n",
              "            '<a target=\"_blank\" href=https://colab.research.google.com/notebooks/data_table.ipynb>data table notebook</a>'\n",
              "            + ' to learn more about interactive tables.';\n",
              "          element.innerHTML = '';\n",
              "          dataTable['output_type'] = 'display_data';\n",
              "          await google.colab.output.renderOutput(dataTable, element);\n",
              "          const docLink = document.createElement('div');\n",
              "          docLink.innerHTML = docLinkHtml;\n",
              "          element.appendChild(docLink);\n",
              "        }\n",
              "      </script>\n",
              "    </div>\n",
              "  </div>\n",
              "  "
            ]
          },
          "metadata": {},
          "execution_count": 15
        }
      ]
    },
    {
      "cell_type": "code",
      "metadata": {
        "id": "7bkpmS8x0lfa",
        "colab": {
          "base_uri": "https://localhost:8080/",
          "height": 206
        },
        "outputId": "e435aa4f-f963-4589-e1c8-30d3dcbf833b"
      },
      "source": [
        "sensor3_label = pd.read_csv(data_path + \"Ground_truth_drift_0_2_dur_10_sensor3.csv\", names=['Class'] )\n",
        "sensor3_label.head()"
      ],
      "execution_count": null,
      "outputs": [
        {
          "output_type": "execute_result",
          "data": {
            "text/plain": [
              "   Class\n",
              "0    0.0\n",
              "1    0.0\n",
              "2    0.0\n",
              "3    0.0\n",
              "4    0.0"
            ],
            "text/html": [
              "\n",
              "  <div id=\"df-1199a93c-e55f-43ce-ae92-6013f2eac98b\">\n",
              "    <div class=\"colab-df-container\">\n",
              "      <div>\n",
              "<style scoped>\n",
              "    .dataframe tbody tr th:only-of-type {\n",
              "        vertical-align: middle;\n",
              "    }\n",
              "\n",
              "    .dataframe tbody tr th {\n",
              "        vertical-align: top;\n",
              "    }\n",
              "\n",
              "    .dataframe thead th {\n",
              "        text-align: right;\n",
              "    }\n",
              "</style>\n",
              "<table border=\"1\" class=\"dataframe\">\n",
              "  <thead>\n",
              "    <tr style=\"text-align: right;\">\n",
              "      <th></th>\n",
              "      <th>Class</th>\n",
              "    </tr>\n",
              "  </thead>\n",
              "  <tbody>\n",
              "    <tr>\n",
              "      <th>0</th>\n",
              "      <td>0.0</td>\n",
              "    </tr>\n",
              "    <tr>\n",
              "      <th>1</th>\n",
              "      <td>0.0</td>\n",
              "    </tr>\n",
              "    <tr>\n",
              "      <th>2</th>\n",
              "      <td>0.0</td>\n",
              "    </tr>\n",
              "    <tr>\n",
              "      <th>3</th>\n",
              "      <td>0.0</td>\n",
              "    </tr>\n",
              "    <tr>\n",
              "      <th>4</th>\n",
              "      <td>0.0</td>\n",
              "    </tr>\n",
              "  </tbody>\n",
              "</table>\n",
              "</div>\n",
              "      <button class=\"colab-df-convert\" onclick=\"convertToInteractive('df-1199a93c-e55f-43ce-ae92-6013f2eac98b')\"\n",
              "              title=\"Convert this dataframe to an interactive table.\"\n",
              "              style=\"display:none;\">\n",
              "        \n",
              "  <svg xmlns=\"http://www.w3.org/2000/svg\" height=\"24px\"viewBox=\"0 0 24 24\"\n",
              "       width=\"24px\">\n",
              "    <path d=\"M0 0h24v24H0V0z\" fill=\"none\"/>\n",
              "    <path d=\"M18.56 5.44l.94 2.06.94-2.06 2.06-.94-2.06-.94-.94-2.06-.94 2.06-2.06.94zm-11 1L8.5 8.5l.94-2.06 2.06-.94-2.06-.94L8.5 2.5l-.94 2.06-2.06.94zm10 10l.94 2.06.94-2.06 2.06-.94-2.06-.94-.94-2.06-.94 2.06-2.06.94z\"/><path d=\"M17.41 7.96l-1.37-1.37c-.4-.4-.92-.59-1.43-.59-.52 0-1.04.2-1.43.59L10.3 9.45l-7.72 7.72c-.78.78-.78 2.05 0 2.83L4 21.41c.39.39.9.59 1.41.59.51 0 1.02-.2 1.41-.59l7.78-7.78 2.81-2.81c.8-.78.8-2.07 0-2.86zM5.41 20L4 18.59l7.72-7.72 1.47 1.35L5.41 20z\"/>\n",
              "  </svg>\n",
              "      </button>\n",
              "      \n",
              "  <style>\n",
              "    .colab-df-container {\n",
              "      display:flex;\n",
              "      flex-wrap:wrap;\n",
              "      gap: 12px;\n",
              "    }\n",
              "\n",
              "    .colab-df-convert {\n",
              "      background-color: #E8F0FE;\n",
              "      border: none;\n",
              "      border-radius: 50%;\n",
              "      cursor: pointer;\n",
              "      display: none;\n",
              "      fill: #1967D2;\n",
              "      height: 32px;\n",
              "      padding: 0 0 0 0;\n",
              "      width: 32px;\n",
              "    }\n",
              "\n",
              "    .colab-df-convert:hover {\n",
              "      background-color: #E2EBFA;\n",
              "      box-shadow: 0px 1px 2px rgba(60, 64, 67, 0.3), 0px 1px 3px 1px rgba(60, 64, 67, 0.15);\n",
              "      fill: #174EA6;\n",
              "    }\n",
              "\n",
              "    [theme=dark] .colab-df-convert {\n",
              "      background-color: #3B4455;\n",
              "      fill: #D2E3FC;\n",
              "    }\n",
              "\n",
              "    [theme=dark] .colab-df-convert:hover {\n",
              "      background-color: #434B5C;\n",
              "      box-shadow: 0px 1px 3px 1px rgba(0, 0, 0, 0.15);\n",
              "      filter: drop-shadow(0px 1px 2px rgba(0, 0, 0, 0.3));\n",
              "      fill: #FFFFFF;\n",
              "    }\n",
              "  </style>\n",
              "\n",
              "      <script>\n",
              "        const buttonEl =\n",
              "          document.querySelector('#df-1199a93c-e55f-43ce-ae92-6013f2eac98b button.colab-df-convert');\n",
              "        buttonEl.style.display =\n",
              "          google.colab.kernel.accessAllowed ? 'block' : 'none';\n",
              "\n",
              "        async function convertToInteractive(key) {\n",
              "          const element = document.querySelector('#df-1199a93c-e55f-43ce-ae92-6013f2eac98b');\n",
              "          const dataTable =\n",
              "            await google.colab.kernel.invokeFunction('convertToInteractive',\n",
              "                                                     [key], {});\n",
              "          if (!dataTable) return;\n",
              "\n",
              "          const docLinkHtml = 'Like what you see? Visit the ' +\n",
              "            '<a target=\"_blank\" href=https://colab.research.google.com/notebooks/data_table.ipynb>data table notebook</a>'\n",
              "            + ' to learn more about interactive tables.';\n",
              "          element.innerHTML = '';\n",
              "          dataTable['output_type'] = 'display_data';\n",
              "          await google.colab.output.renderOutput(dataTable, element);\n",
              "          const docLink = document.createElement('div');\n",
              "          docLink.innerHTML = docLinkHtml;\n",
              "          element.appendChild(docLink);\n",
              "        }\n",
              "      </script>\n",
              "    </div>\n",
              "  </div>\n",
              "  "
            ]
          },
          "metadata": {},
          "execution_count": 16
        }
      ]
    },
    {
      "cell_type": "code",
      "source": [
        "sensor1_data['minus_speed'] = sensor1_data['InVehicle_Longitudinal_Speed']-sensor1_data['InVehicle_Longitudinal_Speed'].shift(1)\n",
        "sensor1_data['minus_acc'] = sensor1_data['InVehicle_Longitudinal_Accel']-sensor1_data['InVehicle_Longitudinal_Accel'].shift(1)\n",
        "sensor1_data['minus_Gps'] = sensor1_data['GPS_Speed']-sensor1_data['GPS_Speed'].shift(1)\n"
      ],
      "metadata": {
        "id": "jgPqNyqIOx0D"
      },
      "execution_count": null,
      "outputs": []
    },
    {
      "cell_type": "code",
      "source": [
        "sensor2_data['minus_speed'] = sensor2_data['InVehicle_Longitudinal_Speed']-sensor2_data['InVehicle_Longitudinal_Speed'].shift(1)\n",
        "sensor2_data['minus_acc'] = sensor2_data['InVehicle_Longitudinal_Accel']-sensor2_data['InVehicle_Longitudinal_Accel'].shift(1)\n",
        "sensor2_data['minus_Gps'] = sensor2_data['GPS_Speed']-sensor2_data['GPS_Speed'].shift(1)\n"
      ],
      "metadata": {
        "id": "UP2of3XAOx64"
      },
      "execution_count": null,
      "outputs": []
    },
    {
      "cell_type": "code",
      "source": [
        "sensor3_data['minus_speed'] = sensor3_data['InVehicle_Longitudinal_Speed']-sensor3_data['InVehicle_Longitudinal_Speed'].shift(1)\n",
        "sensor3_data['minus_acc'] = sensor3_data['InVehicle_Longitudinal_Accel']-sensor3_data['InVehicle_Longitudinal_Accel'].shift(1)\n",
        "sensor3_data['minus_Gps'] = sensor3_data['GPS_Speed']-sensor3_data['GPS_Speed'].shift(1)\n"
      ],
      "metadata": {
        "id": "shrymIlCOyAz"
      },
      "execution_count": null,
      "outputs": []
    },
    {
      "cell_type": "code",
      "source": [
        "sensor1_data.dropna(inplace= True)\n",
        "sensor2_data.dropna(inplace= True)\n",
        "sensor3_data.dropna(inplace= True)\n"
      ],
      "metadata": {
        "id": "_atMoIctOyCA"
      },
      "execution_count": null,
      "outputs": []
    },
    {
      "cell_type": "code",
      "source": [
        "sensor1_data[['InVehicle_Longitudinal_Speed','minus_speed']].plot(subplots=True)"
      ],
      "metadata": {
        "id": "4RluXcvrOyG4",
        "colab": {
          "base_uri": "https://localhost:8080/",
          "height": 318
        },
        "outputId": "2a8b7f5b-8a3a-46d2-d5c5-56e64c1ab27a"
      },
      "execution_count": null,
      "outputs": [
        {
          "output_type": "execute_result",
          "data": {
            "text/plain": [
              "array([<matplotlib.axes._subplots.AxesSubplot object at 0x7f59bcf11c10>,\n",
              "       <matplotlib.axes._subplots.AxesSubplot object at 0x7f59bcef1100>],\n",
              "      dtype=object)"
            ]
          },
          "metadata": {},
          "execution_count": 21
        },
        {
          "output_type": "display_data",
          "data": {
            "text/plain": [
              "<Figure size 432x288 with 2 Axes>"
            ],
            "image/png": "[encoded data removed]"
          },
          "metadata": {
            "needs_background": "light"
          }
        }
      ]
    },
    {
      "cell_type": "code",
      "source": [
        "sensor1_data[['GPS_Speed','minus_Gps']].plot(subplots=True)"
      ],
      "metadata": {
        "id": "WUBnhSDIOyIJ",
        "colab": {
          "base_uri": "https://localhost:8080/",
          "height": 317
        },
        "outputId": "eefb0c3e-2d0c-4764-e9cd-fd53fc83ab90"
      },
      "execution_count": null,
      "outputs": [
        {
          "output_type": "execute_result",
          "data": {
            "text/plain": [
              "array([<matplotlib.axes._subplots.AxesSubplot object at 0x7f59bcdc4c10>,\n",
              "       <matplotlib.axes._subplots.AxesSubplot object at 0x7f59bc92ff10>],\n",
              "      dtype=object)"
            ]
          },
          "metadata": {},
          "execution_count": 22
        },
        {
          "output_type": "display_data",
          "data": {
            "text/plain": [
              "<Figure size 432x288 with 2 Axes>"
            ],
            "image/png": "[encoded data removed]"
          },
          "metadata": {
            "needs_background": "light"
          }
        }
      ]
    },
    {
      "cell_type": "code",
      "source": [
        "sensor1_data[['InVehicle_Longitudinal_Accel','minus_acc']].plot(subplots=True)"
      ],
      "metadata": {
        "id": "DzDae9CAOyMA",
        "colab": {
          "base_uri": "https://localhost:8080/",
          "height": 317
        },
        "outputId": "892276a4-4e37-4310-da79-86d92b1bf25c"
      },
      "execution_count": null,
      "outputs": [
        {
          "output_type": "execute_result",
          "data": {
            "text/plain": [
              "array([<matplotlib.axes._subplots.AxesSubplot object at 0x7f59bc8bfaf0>,\n",
              "       <matplotlib.axes._subplots.AxesSubplot object at 0x7f59bc86e730>],\n",
              "      dtype=object)"
            ]
          },
          "metadata": {},
          "execution_count": 23
        },
        {
          "output_type": "display_data",
          "data": {
            "text/plain": [
              "<Figure size 432x288 with 2 Axes>"
            ],
            "image/png": "[encoded data removed]"
          },
          "metadata": {
            "needs_background": "light"
          }
        }
      ]
    },
    {
      "cell_type": "code",
      "source": [
        "stationary_speed = adfuller(sensor1_data['minus_speed'].dropna())\n",
        "stationary_gps = adfuller(sensor1_data['minus_Gps'].dropna())\n",
        "stationary_acc = adfuller(sensor1_data['minus_acc'].dropna())\n",
        "print(\"stationary_speed : {}\\nstationary_gps :{}\\nstationary_acc :{}\\n\".format(stationary_speed[1],stationary_gps[1], stationary_acc[1]))"
      ],
      "metadata": {
        "id": "rSpjcqzxPDVr",
        "colab": {
          "base_uri": "https://localhost:8080/"
        },
        "outputId": "21844ac2-a144-4e07-e97b-a95d2e0e2c9e"
      },
      "execution_count": null,
      "outputs": [
        {
          "output_type": "stream",
          "name": "stdout",
          "text": [
            "stationary_speed : 1.461256203157704e-29\n",
            "stationary_gps :2.4043813940100196e-28\n",
            "stationary_acc :0.0\n",
            "\n"
          ]
        }
      ]
    },
    {
      "cell_type": "code",
      "source": [
        "sensor2_data[['InVehicle_Longitudinal_Speed','minus_speed']].plot(subplots=True)"
      ],
      "metadata": {
        "id": "IKjXGlAAPDjY",
        "colab": {
          "base_uri": "https://localhost:8080/",
          "height": 318
        },
        "outputId": "0e6bb843-512d-426d-a01a-005672c74512"
      },
      "execution_count": null,
      "outputs": [
        {
          "output_type": "execute_result",
          "data": {
            "text/plain": [
              "array([<matplotlib.axes._subplots.AxesSubplot object at 0x7f59bc7fa670>,\n",
              "       <matplotlib.axes._subplots.AxesSubplot object at 0x7f59b9faddc0>],\n",
              "      dtype=object)"
            ]
          },
          "metadata": {},
          "execution_count": 25
        },
        {
          "output_type": "display_data",
          "data": {
            "text/plain": [
              "<Figure size 432x288 with 2 Axes>"
            ],
            "image/png": "[encoded data removed]"
          },
          "metadata": {
            "needs_background": "light"
          }
        }
      ]
    },
    {
      "cell_type": "code",
      "source": [
        "sensor2_data[['GPS_Speed','minus_Gps']].plot(subplots=True)"
      ],
      "metadata": {
        "id": "4Bf0acuePD0t",
        "colab": {
          "base_uri": "https://localhost:8080/",
          "height": 317
        },
        "outputId": "3698aa3f-d1ef-4a6f-a084-97af9ad50667"
      },
      "execution_count": null,
      "outputs": [
        {
          "output_type": "execute_result",
          "data": {
            "text/plain": [
              "array([<matplotlib.axes._subplots.AxesSubplot object at 0x7f59b9f33d60>,\n",
              "       <matplotlib.axes._subplots.AxesSubplot object at 0x7f59b9fabe20>],\n",
              "      dtype=object)"
            ]
          },
          "metadata": {},
          "execution_count": 26
        },
        {
          "output_type": "display_data",
          "data": {
            "text/plain": [
              "<Figure size 432x288 with 2 Axes>"
            ],
            "image/png": "[encoded data removed]"
          },
          "metadata": {
            "needs_background": "light"
          }
        }
      ]
    },
    {
      "cell_type": "code",
      "source": [
        "sensor2_data[['InVehicle_Longitudinal_Accel','minus_acc']].plot(subplots=True)"
      ],
      "metadata": {
        "id": "Eocj1ZaqPEB5",
        "colab": {
          "base_uri": "https://localhost:8080/",
          "height": 317
        },
        "outputId": "24f49fb3-c026-417f-ccc4-ca94d3120be4"
      },
      "execution_count": null,
      "outputs": [
        {
          "output_type": "execute_result",
          "data": {
            "text/plain": [
              "array([<matplotlib.axes._subplots.AxesSubplot object at 0x7f59b9ecfbb0>,\n",
              "       <matplotlib.axes._subplots.AxesSubplot object at 0x7f59b9e7ddf0>],\n",
              "      dtype=object)"
            ]
          },
          "metadata": {},
          "execution_count": 27
        },
        {
          "output_type": "display_data",
          "data": {
            "text/plain": [
              "<Figure size 432x288 with 2 Axes>"
            ],
            "image/png": "[encoded data removed]"
          },
          "metadata": {
            "needs_background": "light"
          }
        }
      ]
    },
    {
      "cell_type": "code",
      "source": [
        "stationary_speed = adfuller(sensor2_data['minus_speed'].dropna())\n",
        "stationary_gps = adfuller(sensor2_data['minus_Gps'].dropna())\n",
        "stationary_acc = adfuller(sensor2_data['minus_acc'].dropna())\n",
        "print(\"stationary_speed : {}\\nstationary_gps :{}\\nstationary_acc :{}\\n\".format(stationary_speed[1],stationary_gps[1], stationary_acc[1]))"
      ],
      "metadata": {
        "id": "daP4qzX2PXPj",
        "colab": {
          "base_uri": "https://localhost:8080/"
        },
        "outputId": "9c7d71c0-154f-4d55-9364-6c8ce85c6c00"
      },
      "execution_count": null,
      "outputs": [
        {
          "output_type": "stream",
          "name": "stdout",
          "text": [
            "stationary_speed : 1.461256203157704e-29\n",
            "stationary_gps :2.4043813940100196e-28\n",
            "stationary_acc :0.0\n",
            "\n"
          ]
        }
      ]
    },
    {
      "cell_type": "code",
      "source": [
        "sensor3_data[['InVehicle_Longitudinal_Speed','minus_speed']].plot(subplots=True)"
      ],
      "metadata": {
        "id": "KaS9xVcdPXws",
        "colab": {
          "base_uri": "https://localhost:8080/",
          "height": 318
        },
        "outputId": "e9c783b5-5619-40a7-f1b4-5cfc7ccd8f3f"
      },
      "execution_count": null,
      "outputs": [
        {
          "output_type": "execute_result",
          "data": {
            "text/plain": [
              "array([<matplotlib.axes._subplots.AxesSubplot object at 0x7f59b9e01790>,\n",
              "       <matplotlib.axes._subplots.AxesSubplot object at 0x7f59b9db1670>],\n",
              "      dtype=object)"
            ]
          },
          "metadata": {},
          "execution_count": 29
        },
        {
          "output_type": "display_data",
          "data": {
            "text/plain": [
              "<Figure size 432x288 with 2 Axes>"
            ],
            "image/png": "[encoded data removed]"
          },
          "metadata": {
            "needs_background": "light"
          }
        }
      ]
    },
    {
      "cell_type": "code",
      "source": [
        "sensor3_data[['GPS_Speed','minus_Gps']].plot(subplots=True)"
      ],
      "metadata": {
        "id": "VTKwTKylPeWO",
        "colab": {
          "base_uri": "https://localhost:8080/",
          "height": 317
        },
        "outputId": "652fb9fc-7dd6-4d39-91ed-ec662eb9ce86"
      },
      "execution_count": null,
      "outputs": [
        {
          "output_type": "execute_result",
          "data": {
            "text/plain": [
              "array([<matplotlib.axes._subplots.AxesSubplot object at 0x7f59b9d2de80>,\n",
              "       <matplotlib.axes._subplots.AxesSubplot object at 0x7f59b9d3e700>],\n",
              "      dtype=object)"
            ]
          },
          "metadata": {},
          "execution_count": 30
        },
        {
          "output_type": "display_data",
          "data": {
            "text/plain": [
              "<Figure size 432x288 with 2 Axes>"
            ],
            "image/png": "[encoded data removed]"
          },
          "metadata": {
            "needs_background": "light"
          }
        }
      ]
    },
    {
      "cell_type": "code",
      "source": [
        "sensor3_data[['InVehicle_Longitudinal_Accel','minus_acc']].plot(subplots=True)"
      ],
      "metadata": {
        "id": "fbUQJetSPec8",
        "colab": {
          "base_uri": "https://localhost:8080/",
          "height": 317
        },
        "outputId": "3304db68-9528-4b6b-d2fe-2637a498cbb8"
      },
      "execution_count": null,
      "outputs": [
        {
          "output_type": "execute_result",
          "data": {
            "text/plain": [
              "array([<matplotlib.axes._subplots.AxesSubplot object at 0x7f59b9cd67f0>,\n",
              "       <matplotlib.axes._subplots.AxesSubplot object at 0x7f59b9ce3190>],\n",
              "      dtype=object)"
            ]
          },
          "metadata": {},
          "execution_count": 31
        },
        {
          "output_type": "display_data",
          "data": {
            "text/plain": [
              "<Figure size 432x288 with 2 Axes>"
            ],
            "image/png": "[encoded data removed]"
          },
          "metadata": {
            "needs_background": "light"
          }
        }
      ]
    },
    {
      "cell_type": "code",
      "source": [
        "stationary_speed = adfuller(sensor3_data['minus_speed'].dropna())\n",
        "stationary_gps = adfuller(sensor3_data['minus_Gps'].dropna())\n",
        "stationary_acc = adfuller(sensor3_data['minus_acc'].dropna())\n",
        "print(\"stationary_speed : {}\\nstationary_gps :{}\\nstationary_acc :{}\\n\".format(stationary_speed[1],stationary_gps[1], stationary_acc[1]))"
      ],
      "metadata": {
        "id": "qUUx_ynFPex9",
        "colab": {
          "base_uri": "https://localhost:8080/"
        },
        "outputId": "a1bb823e-6cda-4f3c-edb3-7a5d182b06ed"
      },
      "execution_count": null,
      "outputs": [
        {
          "output_type": "stream",
          "name": "stdout",
          "text": [
            "stationary_speed : 1.461256203157704e-29\n",
            "stationary_gps :2.4043813940100196e-28\n",
            "stationary_acc :0.0\n",
            "\n"
          ]
        }
      ]
    },
    {
      "cell_type": "code",
      "metadata": {
        "id": "VaUYxUSMvH14",
        "colab": {
          "base_uri": "https://localhost:8080/"
        },
        "outputId": "476da586-ddbb-4ae2-9100-f71c5f40da2f"
      },
      "source": [
        "scaler  = StandardScaler()\n",
        "scaler.fit(sensor1_data[['minus_speed','minus_Gps','minus_acc']])\n",
        "sensor1_data_normal = scaler.transform(sensor1_data[['minus_speed','minus_Gps','minus_acc']]) \n",
        "sensor1_data_normal[:5]"
      ],
      "execution_count": null,
      "outputs": [
        {
          "output_type": "execute_result",
          "data": {
            "text/plain": [
              "array([[-0.02776381, -0.17110973, -0.8254864 ],\n",
              "       [-0.01532429, -0.0240258 ,  0.86505554],\n",
              "       [-0.01306536,  0.0457654 ,  0.15620697],\n",
              "       [-0.00751456,  0.02223907,  0.01936453],\n",
              "       [-0.00518177, -0.05049242, -0.00711104]])"
            ]
          },
          "metadata": {},
          "execution_count": 33
        }
      ]
    },
    {
      "cell_type": "code",
      "metadata": {
        "id": "DssP_ns3oPeE",
        "colab": {
          "base_uri": "https://localhost:8080/"
        },
        "outputId": "3b686f86-fae3-4416-a6c4-82b274d973f7"
      },
      "source": [
        "scaler  = StandardScaler()\n",
        "scaler.fit(sensor2_data[['minus_speed','minus_Gps','minus_acc']])\n",
        "sensor2_data_normal = scaler.transform(sensor2_data[['minus_speed','minus_Gps','minus_acc']]) \n",
        "sensor2_data_normal[:5]"
      ],
      "execution_count": null,
      "outputs": [
        {
          "output_type": "execute_result",
          "data": {
            "text/plain": [
              "array([[-0.02776381, -0.17110973, -0.8254864 ],\n",
              "       [-0.01532429, -0.0240258 ,  0.86505554],\n",
              "       [-0.01306536,  0.0457654 ,  0.15620697],\n",
              "       [-0.00751456,  0.02223907,  0.01936453],\n",
              "       [-0.00518177, -0.05049242, -0.00711104]])"
            ]
          },
          "metadata": {},
          "execution_count": 34
        }
      ]
    },
    {
      "cell_type": "code",
      "metadata": {
        "id": "ShuycYtJoPQ2",
        "colab": {
          "base_uri": "https://localhost:8080/"
        },
        "outputId": "3042f484-841a-4e91-8cc4-7e306ad70f11"
      },
      "source": [
        "scaler  = StandardScaler()\n",
        "scaler.fit(sensor3_data[['minus_speed','minus_Gps','minus_acc']])\n",
        "sensor3_data_normal = scaler.transform(sensor3_data[['minus_speed','minus_Gps','minus_acc']]) \n",
        "sensor3_data_normal[:5]"
      ],
      "execution_count": null,
      "outputs": [
        {
          "output_type": "execute_result",
          "data": {
            "text/plain": [
              "array([[-0.02776381, -0.17110973, -0.8254864 ],\n",
              "       [-0.01532429, -0.0240258 ,  0.86505554],\n",
              "       [-0.01306536,  0.0457654 ,  0.15620697],\n",
              "       [-0.00751456,  0.02223907,  0.01936453],\n",
              "       [-0.00518177, -0.05049242, -0.00711104]])"
            ]
          },
          "metadata": {},
          "execution_count": 35
        }
      ]
    },
    {
      "cell_type": "code",
      "metadata": {
        "id": "NPEKmySy2O0W"
      },
      "source": [
        "window_size = 10\n",
        "\n",
        "# create windows with overlap\n",
        "def convertToFrames(X_data,y_data, step):\n",
        "    X, Y =[], []    \n",
        "    for i in range(len(X_data)-step):\n",
        "        y_or = 0\n",
        "        d=i+step  \n",
        "        X.append(X_data[i:d,])\n",
        "        for y in y_data.iloc[i:d].values:\n",
        "           y_or = y_or or y\n",
        "        \n",
        "        Y.append(y_or)\n",
        "    return np.array(X), np.array(Y)"
      ],
      "execution_count": null,
      "outputs": []
    },
    {
      "cell_type": "code",
      "metadata": {
        "colab": {
          "base_uri": "https://localhost:8080/"
        },
        "id": "1U7mLgOZaZsN",
        "outputId": "731b34c7-d9a6-496e-ad72-f0a6f6622942"
      },
      "source": [
        "X_sensor1, y_sensor1 = convertToFrames(sensor1_data_normal, sensor1_label, window_size)\n",
        "X_sensor1.shape, y_sensor1.shape\n",
        "# print(X_sensor1[0])\n",
        "# print(X_sensor1[1])"
      ],
      "execution_count": null,
      "outputs": [
        {
          "output_type": "execute_result",
          "data": {
            "text/plain": [
              "((29789, 10, 3), (29789, 1))"
            ]
          },
          "metadata": {},
          "execution_count": 37
        }
      ]
    },
    {
      "cell_type": "code",
      "metadata": {
        "colab": {
          "base_uri": "https://localhost:8080/"
        },
        "id": "LlbmzS3Hagp1",
        "outputId": "767e29f2-6a79-477a-84cc-adfdfaae833b"
      },
      "source": [
        "X_sensor2, y_sensor2 = convertToFrames(sensor2_data_normal, sensor2_label, window_size)\n",
        "X_sensor2.shape, y_sensor2.shape"
      ],
      "execution_count": null,
      "outputs": [
        {
          "output_type": "execute_result",
          "data": {
            "text/plain": [
              "((29789, 10, 3), (29789, 1))"
            ]
          },
          "metadata": {},
          "execution_count": 38
        }
      ]
    },
    {
      "cell_type": "code",
      "metadata": {
        "colab": {
          "base_uri": "https://localhost:8080/"
        },
        "id": "0QyV7kwragiE",
        "outputId": "050dea70-5a5f-4b03-b72f-d50c29df139e"
      },
      "source": [
        "X_sensor3, y_sensor3 = convertToFrames(sensor3_data_normal, sensor3_label, window_size)\n",
        "X_sensor3.shape, y_sensor3.shape"
      ],
      "execution_count": null,
      "outputs": [
        {
          "output_type": "execute_result",
          "data": {
            "text/plain": [
              "((29789, 10, 3), (29789, 1))"
            ]
          },
          "metadata": {},
          "execution_count": 39
        }
      ]
    },
    {
      "cell_type": "code",
      "metadata": {
        "colab": {
          "base_uri": "https://localhost:8080/"
        },
        "id": "l4fSg45cplIB",
        "outputId": "3792971e-b99f-42d9-9cf2-23f60e5b23a2"
      },
      "source": [
        "y_sensor1 = to_categorical(y_sensor1, num_classes= 2, dtype='float32')\n",
        "X_train_sensor1,X_test_sensor1, y_train_sensor1, y_test_sensor1 = train_test_split(X_sensor1,y_sensor1,random_state = 1400, test_size= 0.15)\n",
        "y_train_sensor1, y_test_sensor1 = y_train_sensor1.squeeze(), y_test_sensor1.squeeze()\n",
        "X_train_sensor1.shape, X_test_sensor1.shape,y_train_sensor1.shape, y_test_sensor1.shape"
      ],
      "execution_count": null,
      "outputs": [
        {
          "output_type": "execute_result",
          "data": {
            "text/plain": [
              "((25320, 10, 3), (4469, 10, 3), (25320, 2), (4469, 2))"
            ]
          },
          "metadata": {},
          "execution_count": 40
        }
      ]
    },
    {
      "cell_type": "code",
      "metadata": {
        "colab": {
          "base_uri": "https://localhost:8080/"
        },
        "id": "M-6JhdmNplC4",
        "outputId": "5006ef7d-ee4f-478a-e8b3-dc814149e10e"
      },
      "source": [
        "y_sensor2 = to_categorical(y_sensor2, num_classes= 2, dtype='float32')\n",
        "X_train_sensor2,X_test_sensor2, y_train_sensor2, y_test_sensor2 = train_test_split(X_sensor2,y_sensor2,random_state = 1400, test_size= 0.15)\n",
        "y_train_sensor2, y_test_sensor2 = y_train_sensor2.squeeze(), y_test_sensor2.squeeze()\n",
        "X_train_sensor2.shape, X_test_sensor2.shape,y_train_sensor2.shape, y_test_sensor2.shape"
      ],
      "execution_count": null,
      "outputs": [
        {
          "output_type": "execute_result",
          "data": {
            "text/plain": [
              "((25320, 10, 3), (4469, 10, 3), (25320, 2), (4469, 2))"
            ]
          },
          "metadata": {},
          "execution_count": 41
        }
      ]
    },
    {
      "cell_type": "code",
      "metadata": {
        "colab": {
          "base_uri": "https://localhost:8080/"
        },
        "id": "CZmk_MFjpk_S",
        "outputId": "dfc9d17a-e748-4d32-ee9d-62ca43aac8cf"
      },
      "source": [
        "y_sensor3 = to_categorical(y_sensor3, num_classes= 2, dtype='float32')\n",
        "X_train_sensor3,X_test_sensor3, y_train_sensor3, y_test_sensor3 = train_test_split(X_sensor3,y_sensor3,random_state = 1400, test_size= 0.15)\n",
        "y_train_sensor3, y_test_sensor3 = y_train_sensor3.squeeze(), y_test_sensor3.squeeze()\n",
        "X_train_sensor3.shape, X_test_sensor3.shape,y_train_sensor3.shape, y_test_sensor3.shape"
      ],
      "execution_count": null,
      "outputs": [
        {
          "output_type": "execute_result",
          "data": {
            "text/plain": [
              "((25320, 10, 3), (4469, 10, 3), (25320, 2), (4469, 2))"
            ]
          },
          "metadata": {},
          "execution_count": 42
        }
      ]
    },
    {
      "cell_type": "code",
      "metadata": {
        "id": "DFlQxMk8PgWx"
      },
      "source": [
        "\n",
        "def creatModel():\n",
        "  \n",
        "    model = Sequential()\n",
        "    model.add(Conv1D(kernel_size=3, filters= 40, activation= 'relu', padding='same'))\n",
        "    model.add(Dropout(0.1))\n",
        "    model.add( Conv1D(kernel_size=3, filters= 60, activation= 'relu', padding='same'))\n",
        "    model.add(Dropout(0.1))\n",
        "    model.add(Conv1D(kernel_size=3, filters= 60, activation= 'relu', padding='same'))\n",
        "    model.add(Dropout(0.1))\n",
        "    model.add(GlobalMaxPool1D())\n",
        "    model.add(RepeatVector(X_train_sensor1.shape[1]))\n",
        "    model.add(LSTM(256, return_sequences=True))\n",
        "    model.add(Dropout(rate=0.2))\n",
        "    model.add(LSTM(128, return_sequences=True))\n",
        "    model.add(Dropout(rate=0.2))\n",
        "    model.add(LSTM(64, return_sequences=False))\n",
        "    model.add(Dropout(rate=0.2))\n",
        "    model.add((Dense(32)))\n",
        "    model.add((Dense(16)))\n",
        "    model.add(Dense(2, activation='sigmoid', kernel_regularizer=l2()))\n",
        "    model.compile(optimizer='adam', loss='binary_crossentropy',metrics=['accuracy'])\n",
        "\n",
        "    return model\n"
      ],
      "execution_count": null,
      "outputs": []
    },
    {
      "cell_type": "code",
      "metadata": {
        "id": "VrTO2TLekYa-"
      },
      "source": [
        "import time\n",
        "\n",
        "class TimeHistory(Callback):\n",
        "  \n",
        "    def on_epoch_begin(self, batch, logs={}):\n",
        "        self.epoch_time_start = time.time()\n",
        "\n",
        "    def on_epoch_end(self, batch, logs={}):\n",
        "        epoch_time = time.time() - self.epoch_time_start\n",
        "        logs['epoch_time'] = epoch_time\n"
      ],
      "execution_count": null,
      "outputs": []
    },
    {
      "cell_type": "code",
      "source": [
        "model_path = '/content/drive/MyDrive/CAV/data/Drift attack/Mag_0_2_dur_10/Models/Models16-1/'\n",
        "\n",
        "class Model_save(Callback):\n",
        "  def on_epoch_end(self, epoch, logs={}):\n",
        "    self.model.save(model_path + \"D-CNN-LSTM-autoEncoder-Drift-0_2_dur_10-CAV-perEpoch_{}.h5\".format(sensor))\n",
        "    "
      ],
      "metadata": {
        "id": "M79Mq50tlTe6"
      },
      "execution_count": null,
      "outputs": []
    },
    {
      "cell_type": "code",
      "source": [
        "def setCallbacks(sensor):\n",
        "\n",
        "  best_model_path = model_path + 'Best_D-CNN-LSTM-autoEncoder-Drift-0_2_dur_10-CAV_{}.h5'.format(sensor)\n",
        "  checkpoint = ModelCheckpoint(best_model_path, monitor='val_loss', save_best_only=True, mode='min')\n",
        "\n",
        "  history_cb = tf.keras.callbacks.CSVLogger(model_path + 'historyLOG_Drift-0_2_dur_10_{}.csv'.format(sensor), separator=\",\", append=True)\n",
        "\n",
        "  model_save = Model_save()\n",
        "\n",
        "  Estop = EarlyStopping(monitor='val_accuracy', patience= 100)\n",
        "  \n",
        "  return model_save, checkpoint, history_cb, Estop"
      ],
      "metadata": {
        "id": "nWddQ3LPlY5M"
      },
      "execution_count": null,
      "outputs": []
    },
    {
      "cell_type": "code",
      "metadata": {
        "colab": {
          "base_uri": "https://localhost:8080/"
        },
        "id": "t7odu-Z4_BLe",
        "outputId": "a512acdf-c6b9-4108-f4d5-69ee387db2cf"
      },
      "source": [
        "sensor = \"sensor1\"\n",
        "time_callback = TimeHistory()\n",
        "model_sensor1 = creatModel()\n",
        "model_save, checkpoint, history_cb, Estop = setCallbacks(\"sensor1\")\n",
        "history_sensor1 = model_sensor1.fit(X_train_sensor1, y_train_sensor1,\n",
        "                                    batch_size = 128, epochs = 500,\n",
        "                                    validation_split = 0.1,\n",
        "                                    verbose = 1,\n",
        "                                    callbacks = [time_callback, model_save, checkpoint, history_cb, Estop])\n",
        "                                    # class_weight= class_weights)#\n"
      ],
      "execution_count": null,
      "outputs": [
        {
          "output_type": "stream",
          "name": "stdout",
          "text": [
            "Epoch 1/500\n",
            "179/179 [==============================] - 18s 20ms/step - loss: 0.1831 - accuracy: 0.9354 - val_loss: 0.0788 - val_accuracy: 0.9767 - epoch_time: 17.6213\n",
            "Epoch 2/500\n",
            "179/179 [==============================] - 2s 14ms/step - loss: 0.0405 - accuracy: 0.9903 - val_loss: 0.0434 - val_accuracy: 0.9826 - epoch_time: 2.2853\n",
            "Epoch 3/500\n",
            "179/179 [==============================] - 2s 14ms/step - loss: 0.0269 - accuracy: 0.9928 - val_loss: 0.0153 - val_accuracy: 0.9964 - epoch_time: 2.2439\n",
            "Epoch 4/500\n",
            "179/179 [==============================] - 2s 14ms/step - loss: 0.0232 - accuracy: 0.9934 - val_loss: 0.0130 - val_accuracy: 0.9953 - epoch_time: 2.2465\n",
            "Epoch 5/500\n",
            "179/179 [==============================] - 2s 13ms/step - loss: 0.0188 - accuracy: 0.9942 - val_loss: 0.0165 - val_accuracy: 0.9957 - epoch_time: 2.2086\n",
            "Epoch 6/500\n",
            "179/179 [==============================] - 2s 14ms/step - loss: 0.0159 - accuracy: 0.9950 - val_loss: 0.0112 - val_accuracy: 0.9961 - epoch_time: 2.2478\n",
            "Epoch 7/500\n",
            "179/179 [==============================] - 2s 14ms/step - loss: 0.0128 - accuracy: 0.9960 - val_loss: 0.0109 - val_accuracy: 0.9968 - epoch_time: 2.2589\n",
            "Epoch 8/500\n",
            "179/179 [==============================] - 2s 14ms/step - loss: 0.0138 - accuracy: 0.9956 - val_loss: 0.0073 - val_accuracy: 0.9984 - epoch_time: 2.2674\n",
            "Epoch 9/500\n",
            "179/179 [==============================] - 2s 13ms/step - loss: 0.0109 - accuracy: 0.9965 - val_loss: 0.0093 - val_accuracy: 0.9957 - epoch_time: 2.1827\n",
            "Epoch 10/500\n",
            "179/179 [==============================] - 2s 13ms/step - loss: 0.0104 - accuracy: 0.9963 - val_loss: 0.0089 - val_accuracy: 0.9961 - epoch_time: 2.2908\n",
            "Epoch 11/500\n",
            "179/179 [==============================] - 2s 13ms/step - loss: 0.0095 - accuracy: 0.9974 - val_loss: 0.0112 - val_accuracy: 0.9957 - epoch_time: 2.3095\n",
            "Epoch 12/500\n",
            "179/179 [==============================] - 3s 14ms/step - loss: 0.0108 - accuracy: 0.9960 - val_loss: 0.0063 - val_accuracy: 0.9984 - epoch_time: 2.3522\n",
            "Epoch 13/500\n",
            "179/179 [==============================] - 2s 13ms/step - loss: 0.0098 - accuracy: 0.9965 - val_loss: 0.0136 - val_accuracy: 0.9957 - epoch_time: 2.2308\n",
            "Epoch 14/500\n",
            "179/179 [==============================] - 2s 13ms/step - loss: 0.0115 - accuracy: 0.9962 - val_loss: 0.0075 - val_accuracy: 0.9980 - epoch_time: 2.3170\n",
            "Epoch 15/500\n",
            "179/179 [==============================] - 2s 14ms/step - loss: 0.0090 - accuracy: 0.9975 - val_loss: 0.0049 - val_accuracy: 0.9976 - epoch_time: 2.2496\n",
            "Epoch 16/500\n",
            "179/179 [==============================] - 2s 14ms/step - loss: 0.0084 - accuracy: 0.9972 - val_loss: 0.0034 - val_accuracy: 0.9984 - epoch_time: 2.2673\n",
            "Epoch 17/500\n",
            "179/179 [==============================] - 2s 13ms/step - loss: 0.0078 - accuracy: 0.9970 - val_loss: 0.0043 - val_accuracy: 0.9988 - epoch_time: 2.2404\n",
            "Epoch 18/500\n",
            "179/179 [==============================] - 2s 13ms/step - loss: 0.0065 - accuracy: 0.9977 - val_loss: 0.0038 - val_accuracy: 0.9996 - epoch_time: 2.2465\n",
            "Epoch 19/500\n",
            "179/179 [==============================] - 2s 13ms/step - loss: 0.0071 - accuracy: 0.9976 - val_loss: 0.0056 - val_accuracy: 0.9984 - epoch_time: 2.2970\n",
            "Epoch 20/500\n",
            "179/179 [==============================] - 2s 13ms/step - loss: 0.0081 - accuracy: 0.9976 - val_loss: 0.0040 - val_accuracy: 0.9988 - epoch_time: 2.2204\n",
            "Epoch 21/500\n",
            "179/179 [==============================] - 2s 13ms/step - loss: 0.0061 - accuracy: 0.9977 - val_loss: 0.0077 - val_accuracy: 0.9957 - epoch_time: 2.2843\n",
            "Epoch 22/500\n",
            "179/179 [==============================] - 2s 13ms/step - loss: 0.0057 - accuracy: 0.9980 - val_loss: 0.0067 - val_accuracy: 0.9972 - epoch_time: 2.2499\n",
            "Epoch 23/500\n",
            "179/179 [==============================] - 2s 13ms/step - loss: 0.0062 - accuracy: 0.9974 - val_loss: 0.0042 - val_accuracy: 0.9984 - epoch_time: 2.2170\n",
            "Epoch 24/500\n",
            "179/179 [==============================] - 2s 13ms/step - loss: 0.0055 - accuracy: 0.9982 - val_loss: 0.0054 - val_accuracy: 0.9988 - epoch_time: 2.2754\n",
            "Epoch 25/500\n",
            "179/179 [==============================] - 3s 16ms/step - loss: 0.0080 - accuracy: 0.9973 - val_loss: 0.0111 - val_accuracy: 0.9972 - epoch_time: 2.8445\n",
            "Epoch 26/500\n",
            "179/179 [==============================] - 3s 19ms/step - loss: 0.0063 - accuracy: 0.9979 - val_loss: 0.0066 - val_accuracy: 0.9992 - epoch_time: 3.3171\n",
            "Epoch 27/500\n",
            "179/179 [==============================] - 3s 16ms/step - loss: 0.0051 - accuracy: 0.9982 - val_loss: 0.0027 - val_accuracy: 0.9992 - epoch_time: 2.2738\n",
            "Epoch 28/500\n",
            "179/179 [==============================] - 2s 13ms/step - loss: 0.0041 - accuracy: 0.9986 - val_loss: 0.0027 - val_accuracy: 0.9988 - epoch_time: 2.2860\n",
            "Epoch 29/500\n",
            "179/179 [==============================] - 2s 13ms/step - loss: 0.0048 - accuracy: 0.9980 - val_loss: 0.0051 - val_accuracy: 0.9980 - epoch_time: 2.2021\n",
            "Epoch 30/500\n",
            "179/179 [==============================] - 2s 13ms/step - loss: 0.0056 - accuracy: 0.9982 - val_loss: 0.0059 - val_accuracy: 0.9968 - epoch_time: 2.3205\n",
            "Epoch 31/500\n",
            "179/179 [==============================] - 3s 16ms/step - loss: 0.0045 - accuracy: 0.9981 - val_loss: 0.0017 - val_accuracy: 0.9992 - epoch_time: 2.2520\n",
            "Epoch 32/500\n",
            "179/179 [==============================] - 2s 14ms/step - loss: 0.0041 - accuracy: 0.9987 - val_loss: 0.0015 - val_accuracy: 0.9996 - epoch_time: 2.2941\n",
            "Epoch 33/500\n",
            "179/179 [==============================] - 2s 13ms/step - loss: 0.0073 - accuracy: 0.9975 - val_loss: 0.0030 - val_accuracy: 0.9988 - epoch_time: 2.2438\n",
            "Epoch 34/500\n",
            "179/179 [==============================] - 2s 13ms/step - loss: 0.0044 - accuracy: 0.9982 - val_loss: 0.0021 - val_accuracy: 0.9992 - epoch_time: 2.2386\n",
            "Epoch 35/500\n",
            "179/179 [==============================] - 2s 13ms/step - loss: 0.0035 - accuracy: 0.9988 - val_loss: 0.0017 - val_accuracy: 0.9992 - epoch_time: 2.2154\n",
            "Epoch 36/500\n",
            "179/179 [==============================] - 2s 13ms/step - loss: 0.0036 - accuracy: 0.9985 - val_loss: 0.0108 - val_accuracy: 0.9984 - epoch_time: 2.2691\n",
            "Epoch 37/500\n",
            "179/179 [==============================] - 2s 13ms/step - loss: 0.0049 - accuracy: 0.9979 - val_loss: 0.0022 - val_accuracy: 0.9988 - epoch_time: 2.2068\n",
            "Epoch 38/500\n",
            "179/179 [==============================] - 2s 13ms/step - loss: 0.0029 - accuracy: 0.9988 - val_loss: 0.0019 - val_accuracy: 0.9996 - epoch_time: 2.1863\n",
            "Epoch 39/500\n",
            "179/179 [==============================] - 3s 16ms/step - loss: 0.0035 - accuracy: 0.9989 - val_loss: 0.0011 - val_accuracy: 1.0000 - epoch_time: 2.2227\n",
            "Epoch 40/500\n",
            "179/179 [==============================] - 2s 14ms/step - loss: 0.0037 - accuracy: 0.9987 - val_loss: 0.0014 - val_accuracy: 0.9992 - epoch_time: 2.3230\n",
            "Epoch 41/500\n",
            "179/179 [==============================] - 2s 13ms/step - loss: 0.0017 - accuracy: 0.9993 - val_loss: 0.0012 - val_accuracy: 1.0000 - epoch_time: 2.2488\n",
            "Epoch 42/500\n",
            "179/179 [==============================] - 2s 13ms/step - loss: 0.0028 - accuracy: 0.9992 - val_loss: 0.0063 - val_accuracy: 0.9984 - epoch_time: 2.3144\n",
            "Epoch 43/500\n",
            "179/179 [==============================] - 2s 14ms/step - loss: 0.0054 - accuracy: 0.9981 - val_loss: 0.0041 - val_accuracy: 0.9984 - epoch_time: 2.3699\n",
            "Epoch 44/500\n",
            "179/179 [==============================] - 2s 13ms/step - loss: 0.0048 - accuracy: 0.9986 - val_loss: 0.0027 - val_accuracy: 0.9988 - epoch_time: 2.2723\n",
            "Epoch 45/500\n",
            "179/179 [==============================] - 2s 14ms/step - loss: 0.0037 - accuracy: 0.9986 - val_loss: 0.0029 - val_accuracy: 0.9980 - epoch_time: 2.3423\n",
            "Epoch 46/500\n",
            "179/179 [==============================] - 2s 13ms/step - loss: 0.0034 - accuracy: 0.9991 - val_loss: 0.0016 - val_accuracy: 0.9996 - epoch_time: 2.2917\n",
            "Epoch 47/500\n",
            "179/179 [==============================] - 2s 13ms/step - loss: 0.0033 - accuracy: 0.9989 - val_loss: 0.0029 - val_accuracy: 0.9984 - epoch_time: 2.2717\n",
            "Epoch 48/500\n",
            "179/179 [==============================] - 3s 16ms/step - loss: 0.0020 - accuracy: 0.9991 - val_loss: 4.4901e-04 - val_accuracy: 1.0000 - epoch_time: 2.2721\n",
            "Epoch 49/500\n",
            "179/179 [==============================] - 2s 13ms/step - loss: 0.0044 - accuracy: 0.9986 - val_loss: 0.0106 - val_accuracy: 0.9988 - epoch_time: 2.2688\n",
            "Epoch 50/500\n",
            "179/179 [==============================] - 2s 13ms/step - loss: 0.0026 - accuracy: 0.9991 - val_loss: 0.0011 - val_accuracy: 1.0000 - epoch_time: 2.2703\n",
            "Epoch 51/500\n",
            "179/179 [==============================] - 3s 14ms/step - loss: 0.0023 - accuracy: 0.9994 - val_loss: 0.0024 - val_accuracy: 0.9988 - epoch_time: 2.4338\n",
            "Epoch 52/500\n",
            "179/179 [==============================] - 2s 13ms/step - loss: 0.0028 - accuracy: 0.9989 - val_loss: 0.0016 - val_accuracy: 0.9996 - epoch_time: 2.3020\n",
            "Epoch 53/500\n",
            "179/179 [==============================] - 2s 14ms/step - loss: 0.0024 - accuracy: 0.9990 - val_loss: 6.2981e-04 - val_accuracy: 1.0000 - epoch_time: 2.3481\n",
            "Epoch 54/500\n",
            "179/179 [==============================] - 2s 13ms/step - loss: 0.0023 - accuracy: 0.9993 - val_loss: 4.8024e-04 - val_accuracy: 1.0000 - epoch_time: 2.3128\n",
            "Epoch 55/500\n",
            "179/179 [==============================] - 3s 14ms/step - loss: 0.0018 - accuracy: 0.9992 - val_loss: 0.0010 - val_accuracy: 0.9996 - epoch_time: 2.4040\n",
            "Epoch 56/500\n",
            "179/179 [==============================] - 2s 14ms/step - loss: 0.0022 - accuracy: 0.9993 - val_loss: 0.0096 - val_accuracy: 0.9980 - epoch_time: 2.3996\n",
            "Epoch 57/500\n",
            "179/179 [==============================] - 2s 13ms/step - loss: 0.0035 - accuracy: 0.9987 - val_loss: 0.0026 - val_accuracy: 1.0000 - epoch_time: 2.2992\n",
            "Epoch 58/500\n",
            "179/179 [==============================] - 2s 13ms/step - loss: 0.0027 - accuracy: 0.9993 - val_loss: 6.5841e-04 - val_accuracy: 0.9996 - epoch_time: 2.3044\n",
            "Epoch 59/500\n",
            "179/179 [==============================] - 2s 14ms/step - loss: 0.0022 - accuracy: 0.9990 - val_loss: 6.5152e-04 - val_accuracy: 0.9996 - epoch_time: 2.3168\n",
            "Epoch 60/500\n",
            "179/179 [==============================] - 3s 16ms/step - loss: 0.0014 - accuracy: 0.9994 - val_loss: 1.7911e-04 - val_accuracy: 1.0000 - epoch_time: 2.3118\n",
            "Epoch 61/500\n",
            "179/179 [==============================] - 2s 13ms/step - loss: 0.0028 - accuracy: 0.9991 - val_loss: 0.0014 - val_accuracy: 1.0000 - epoch_time: 2.3009\n",
            "Epoch 62/500\n",
            "179/179 [==============================] - 2s 13ms/step - loss: 0.0018 - accuracy: 0.9995 - val_loss: 7.6838e-04 - val_accuracy: 1.0000 - epoch_time: 2.2423\n",
            "Epoch 63/500\n",
            "179/179 [==============================] - 2s 13ms/step - loss: 0.0026 - accuracy: 0.9989 - val_loss: 0.0072 - val_accuracy: 0.9980 - epoch_time: 2.2504\n",
            "Epoch 64/500\n",
            "179/179 [==============================] - 2s 14ms/step - loss: 0.0046 - accuracy: 0.9983 - val_loss: 0.0011 - val_accuracy: 0.9996 - epoch_time: 2.3406\n",
            "Epoch 65/500\n",
            "179/179 [==============================] - 2s 14ms/step - loss: 0.0018 - accuracy: 0.9994 - val_loss: 0.0019 - val_accuracy: 0.9988 - epoch_time: 2.3293\n",
            "Epoch 66/500\n",
            "179/179 [==============================] - 2s 13ms/step - loss: 0.0040 - accuracy: 0.9987 - val_loss: 0.0026 - val_accuracy: 1.0000 - epoch_time: 2.2914\n",
            "Epoch 67/500\n",
            "179/179 [==============================] - 2s 13ms/step - loss: 0.0022 - accuracy: 0.9993 - val_loss: 4.4041e-04 - val_accuracy: 1.0000 - epoch_time: 2.2177\n",
            "Epoch 68/500\n",
            "179/179 [==============================] - 2s 13ms/step - loss: 0.0013 - accuracy: 0.9992 - val_loss: 4.4833e-04 - val_accuracy: 1.0000 - epoch_time: 2.2657\n",
            "Epoch 69/500\n",
            "179/179 [==============================] - 3s 14ms/step - loss: 0.0021 - accuracy: 0.9995 - val_loss: 4.3946e-04 - val_accuracy: 1.0000 - epoch_time: 2.4185\n",
            "Epoch 70/500\n",
            "179/179 [==============================] - 3s 18ms/step - loss: 0.0013 - accuracy: 0.9996 - val_loss: 0.0039 - val_accuracy: 0.9976 - epoch_time: 3.1959\n",
            "Epoch 71/500\n",
            "179/179 [==============================] - 3s 15ms/step - loss: 0.0032 - accuracy: 0.9990 - val_loss: 0.0015 - val_accuracy: 0.9996 - epoch_time: 2.5643\n",
            "Epoch 72/500\n",
            "179/179 [==============================] - 2s 13ms/step - loss: 9.5550e-04 - accuracy: 0.9998 - val_loss: 1.9331e-04 - val_accuracy: 1.0000 - epoch_time: 2.2421\n",
            "Epoch 73/500\n",
            "179/179 [==============================] - 2s 14ms/step - loss: 0.0014 - accuracy: 0.9995 - val_loss: 3.8876e-04 - val_accuracy: 1.0000 - epoch_time: 2.3492\n",
            "Epoch 74/500\n",
            "179/179 [==============================] - 2s 13ms/step - loss: 0.0029 - accuracy: 0.9993 - val_loss: 0.0026 - val_accuracy: 0.9988 - epoch_time: 2.2468\n",
            "Epoch 75/500\n",
            "179/179 [==============================] - 2s 13ms/step - loss: 0.0017 - accuracy: 0.9992 - val_loss: 2.1719e-04 - val_accuracy: 1.0000 - epoch_time: 2.2616\n",
            "Epoch 76/500\n",
            "179/179 [==============================] - 2s 13ms/step - loss: 0.0018 - accuracy: 0.9995 - val_loss: 9.1683e-04 - val_accuracy: 0.9996 - epoch_time: 2.2515\n",
            "Epoch 77/500\n",
            "179/179 [==============================] - 2s 13ms/step - loss: 0.0018 - accuracy: 0.9994 - val_loss: 6.4454e-04 - val_accuracy: 1.0000 - epoch_time: 2.2404\n",
            "Epoch 78/500\n",
            "179/179 [==============================] - 2s 13ms/step - loss: 0.0012 - accuracy: 0.9996 - val_loss: 0.0019 - val_accuracy: 0.9988 - epoch_time: 2.2585\n",
            "Epoch 79/500\n",
            "179/179 [==============================] - 2s 13ms/step - loss: 0.0022 - accuracy: 0.9994 - val_loss: 6.6533e-04 - val_accuracy: 0.9996 - epoch_time: 2.2948\n",
            "Epoch 80/500\n",
            "179/179 [==============================] - 2s 13ms/step - loss: 0.0010 - accuracy: 0.9995 - val_loss: 3.2345e-04 - val_accuracy: 1.0000 - epoch_time: 2.2539\n",
            "Epoch 81/500\n",
            "179/179 [==============================] - 2s 14ms/step - loss: 0.0028 - accuracy: 0.9992 - val_loss: 0.0019 - val_accuracy: 0.9992 - epoch_time: 2.3378\n",
            "Epoch 82/500\n",
            "179/179 [==============================] - 2s 13ms/step - loss: 0.0013 - accuracy: 0.9996 - val_loss: 2.1268e-04 - val_accuracy: 1.0000 - epoch_time: 2.2112\n",
            "Epoch 83/500\n",
            "179/179 [==============================] - 2s 13ms/step - loss: 9.0700e-04 - accuracy: 0.9997 - val_loss: 2.1868e-04 - val_accuracy: 1.0000 - epoch_time: 2.2443\n",
            "Epoch 84/500\n",
            "179/179 [==============================] - 2s 14ms/step - loss: 0.0015 - accuracy: 0.9995 - val_loss: 3.9458e-04 - val_accuracy: 1.0000 - epoch_time: 2.3342\n",
            "Epoch 85/500\n",
            "179/179 [==============================] - 2s 14ms/step - loss: 0.0020 - accuracy: 0.9994 - val_loss: 3.8301e-04 - val_accuracy: 1.0000 - epoch_time: 2.3940\n",
            "Epoch 86/500\n",
            "179/179 [==============================] - 2s 14ms/step - loss: 0.0013 - accuracy: 0.9996 - val_loss: 4.7620e-04 - val_accuracy: 1.0000 - epoch_time: 2.3173\n",
            "Epoch 87/500\n",
            "179/179 [==============================] - 2s 13ms/step - loss: 0.0029 - accuracy: 0.9994 - val_loss: 2.7424e-04 - val_accuracy: 1.0000 - epoch_time: 2.2658\n",
            "Epoch 88/500\n",
            "179/179 [==============================] - 2s 13ms/step - loss: 7.0811e-04 - accuracy: 0.9999 - val_loss: 1.8472e-04 - val_accuracy: 1.0000 - epoch_time: 2.2829\n",
            "Epoch 89/500\n",
            "179/179 [==============================] - 2s 14ms/step - loss: 0.0030 - accuracy: 0.9990 - val_loss: 5.1569e-04 - val_accuracy: 1.0000 - epoch_time: 2.3085\n",
            "Epoch 90/500\n",
            "179/179 [==============================] - 2s 13ms/step - loss: 0.0015 - accuracy: 0.9998 - val_loss: 0.0034 - val_accuracy: 0.9996 - epoch_time: 2.3085\n",
            "Epoch 91/500\n",
            "179/179 [==============================] - 2s 14ms/step - loss: 0.0023 - accuracy: 0.9993 - val_loss: 5.7371e-04 - val_accuracy: 1.0000 - epoch_time: 2.3492\n",
            "Epoch 92/500\n",
            "179/179 [==============================] - 2s 14ms/step - loss: 8.1999e-04 - accuracy: 0.9997 - val_loss: 2.5780e-04 - val_accuracy: 1.0000 - epoch_time: 2.3659\n",
            "Epoch 93/500\n",
            "179/179 [==============================] - 3s 15ms/step - loss: 3.9260e-04 - accuracy: 0.9999 - val_loss: 4.3668e-04 - val_accuracy: 1.0000 - epoch_time: 2.5328\n",
            "Epoch 94/500\n",
            "179/179 [==============================] - 3s 16ms/step - loss: 0.0023 - accuracy: 0.9995 - val_loss: 1.5547e-04 - val_accuracy: 1.0000 - epoch_time: 2.3230\n",
            "Epoch 95/500\n",
            "179/179 [==============================] - 2s 14ms/step - loss: 9.8306e-04 - accuracy: 0.9997 - val_loss: 8.3663e-04 - val_accuracy: 0.9996 - epoch_time: 2.3177\n",
            "Epoch 96/500\n",
            "179/179 [==============================] - 2s 13ms/step - loss: 0.0027 - accuracy: 0.9992 - val_loss: 4.8934e-04 - val_accuracy: 1.0000 - epoch_time: 2.3147\n",
            "Epoch 97/500\n",
            "179/179 [==============================] - 3s 17ms/step - loss: 3.4277e-04 - accuracy: 1.0000 - val_loss: 7.6403e-05 - val_accuracy: 1.0000 - epoch_time: 2.3085\n",
            "Epoch 98/500\n",
            "179/179 [==============================] - 2s 13ms/step - loss: 0.0013 - accuracy: 0.9995 - val_loss: 1.7875e-04 - val_accuracy: 1.0000 - epoch_time: 2.3077\n",
            "Epoch 99/500\n",
            "179/179 [==============================] - 3s 15ms/step - loss: 0.0028 - accuracy: 0.9993 - val_loss: 3.1107e-04 - val_accuracy: 1.0000 - epoch_time: 2.5094\n",
            "Epoch 100/500\n",
            "179/179 [==============================] - 2s 13ms/step - loss: 0.0022 - accuracy: 0.9994 - val_loss: 7.6678e-04 - val_accuracy: 0.9996 - epoch_time: 2.2698\n",
            "Epoch 101/500\n",
            "179/179 [==============================] - 3s 14ms/step - loss: 0.0015 - accuracy: 0.9996 - val_loss: 4.2172e-04 - val_accuracy: 1.0000 - epoch_time: 2.3981\n",
            "Epoch 102/500\n",
            "179/179 [==============================] - 2s 14ms/step - loss: 0.0032 - accuracy: 0.9993 - val_loss: 4.6990e-04 - val_accuracy: 1.0000 - epoch_time: 2.3248\n",
            "Epoch 103/500\n",
            "179/179 [==============================] - 2s 13ms/step - loss: 0.0012 - accuracy: 0.9996 - val_loss: 2.5678e-04 - val_accuracy: 1.0000 - epoch_time: 2.2659\n",
            "Epoch 104/500\n",
            "179/179 [==============================] - 2s 14ms/step - loss: 0.0013 - accuracy: 0.9997 - val_loss: 1.2787e-04 - val_accuracy: 1.0000 - epoch_time: 2.3896\n",
            "Epoch 105/500\n",
            "179/179 [==============================] - 3s 14ms/step - loss: 0.0011 - accuracy: 0.9996 - val_loss: 9.6258e-05 - val_accuracy: 1.0000 - epoch_time: 2.4628\n",
            "Epoch 106/500\n",
            "179/179 [==============================] - 2s 14ms/step - loss: 8.7630e-04 - accuracy: 0.9997 - val_loss: 1.3483e-04 - val_accuracy: 1.0000 - epoch_time: 2.3669\n",
            "Epoch 107/500\n",
            "179/179 [==============================] - 3s 17ms/step - loss: 3.6387e-04 - accuracy: 0.9998 - val_loss: 7.3163e-05 - val_accuracy: 1.0000 - epoch_time: 2.3793\n",
            "Epoch 108/500\n",
            "179/179 [==============================] - 3s 14ms/step - loss: 0.0014 - accuracy: 0.9995 - val_loss: 7.9022e-04 - val_accuracy: 0.9996 - epoch_time: 2.4438\n",
            "Epoch 109/500\n",
            "179/179 [==============================] - 3s 14ms/step - loss: 0.0014 - accuracy: 0.9995 - val_loss: 6.5887e-04 - val_accuracy: 0.9996 - epoch_time: 2.4470\n",
            "Epoch 110/500\n",
            "179/179 [==============================] - 3s 14ms/step - loss: 0.0017 - accuracy: 0.9995 - val_loss: 2.6341e-04 - val_accuracy: 1.0000 - epoch_time: 2.4667\n",
            "Epoch 111/500\n",
            "179/179 [==============================] - 2s 14ms/step - loss: 0.0027 - accuracy: 0.9992 - val_loss: 0.0093 - val_accuracy: 0.9968 - epoch_time: 2.3736\n",
            "Epoch 112/500\n",
            "179/179 [==============================] - 3s 14ms/step - loss: 0.0024 - accuracy: 0.9992 - val_loss: 5.6218e-04 - val_accuracy: 1.0000 - epoch_time: 2.4654\n",
            "Epoch 113/500\n",
            "179/179 [==============================] - 3s 14ms/step - loss: 6.6549e-04 - accuracy: 0.9999 - val_loss: 0.0018 - val_accuracy: 0.9996 - epoch_time: 2.4452\n",
            "Epoch 114/500\n",
            "179/179 [==============================] - 3s 14ms/step - loss: 7.3323e-04 - accuracy: 0.9997 - val_loss: 3.1967e-04 - val_accuracy: 1.0000 - epoch_time: 2.4058\n",
            "Epoch 115/500\n",
            "179/179 [==============================] - 2s 14ms/step - loss: 0.0012 - accuracy: 0.9995 - val_loss: 1.2212e-04 - val_accuracy: 1.0000 - epoch_time: 2.3788\n",
            "Epoch 116/500\n",
            "179/179 [==============================] - 3s 14ms/step - loss: 4.7488e-04 - accuracy: 0.9998 - val_loss: 0.0018 - val_accuracy: 0.9996 - epoch_time: 2.4520\n",
            "Epoch 117/500\n",
            "179/179 [==============================] - 3s 14ms/step - loss: 9.5884e-04 - accuracy: 0.9997 - val_loss: 1.3345e-04 - val_accuracy: 1.0000 - epoch_time: 2.4059\n",
            "Epoch 118/500\n",
            "179/179 [==============================] - 2s 14ms/step - loss: 3.6692e-04 - accuracy: 0.9998 - val_loss: 7.6632e-05 - val_accuracy: 1.0000 - epoch_time: 2.3970\n",
            "Epoch 119/500\n",
            "179/179 [==============================] - 2s 14ms/step - loss: 0.0017 - accuracy: 0.9996 - val_loss: 7.4154e-04 - val_accuracy: 1.0000 - epoch_time: 2.3525\n",
            "Epoch 120/500\n",
            "179/179 [==============================] - 2s 14ms/step - loss: 0.0011 - accuracy: 0.9996 - val_loss: 2.4036e-04 - val_accuracy: 1.0000 - epoch_time: 2.3870\n",
            "Epoch 121/500\n",
            "179/179 [==============================] - 3s 14ms/step - loss: 0.0018 - accuracy: 0.9994 - val_loss: 4.8091e-04 - val_accuracy: 1.0000 - epoch_time: 2.4548\n",
            "Epoch 122/500\n",
            "179/179 [==============================] - 3s 14ms/step - loss: 0.0011 - accuracy: 0.9997 - val_loss: 0.0063 - val_accuracy: 0.9988 - epoch_time: 2.4242\n",
            "Epoch 123/500\n",
            "179/179 [==============================] - 2s 14ms/step - loss: 0.0015 - accuracy: 0.9994 - val_loss: 1.5522e-04 - val_accuracy: 1.0000 - epoch_time: 2.3765\n",
            "Epoch 124/500\n",
            "179/179 [==============================] - 3s 14ms/step - loss: 0.0012 - accuracy: 0.9996 - val_loss: 3.0537e-04 - val_accuracy: 1.0000 - epoch_time: 2.4153\n",
            "Epoch 125/500\n",
            "179/179 [==============================] - 2s 14ms/step - loss: 0.0019 - accuracy: 0.9996 - val_loss: 2.5622e-04 - val_accuracy: 1.0000 - epoch_time: 2.4054\n",
            "Epoch 126/500\n",
            "179/179 [==============================] - 2s 14ms/step - loss: 7.2823e-04 - accuracy: 0.9998 - val_loss: 8.2955e-05 - val_accuracy: 1.0000 - epoch_time: 2.3739\n",
            "Epoch 127/500\n",
            "179/179 [==============================] - 2s 14ms/step - loss: 0.0013 - accuracy: 0.9995 - val_loss: 5.6658e-04 - val_accuracy: 1.0000 - epoch_time: 2.4026\n",
            "Epoch 128/500\n",
            "179/179 [==============================] - 3s 15ms/step - loss: 3.0525e-04 - accuracy: 0.9999 - val_loss: 8.6733e-04 - val_accuracy: 0.9996 - epoch_time: 2.5356\n",
            "Epoch 129/500\n",
            "179/179 [==============================] - 3s 14ms/step - loss: 0.0022 - accuracy: 0.9994 - val_loss: 6.5769e-04 - val_accuracy: 0.9996 - epoch_time: 2.4204\n",
            "Epoch 130/500\n",
            "179/179 [==============================] - 3s 17ms/step - loss: 0.0014 - accuracy: 0.9998 - val_loss: 6.3771e-05 - val_accuracy: 1.0000 - epoch_time: 2.4083\n",
            "Epoch 131/500\n",
            "179/179 [==============================] - 2s 14ms/step - loss: 0.0012 - accuracy: 0.9996 - val_loss: 1.1284e-04 - val_accuracy: 1.0000 - epoch_time: 2.3698\n",
            "Epoch 132/500\n",
            "179/179 [==============================] - 3s 14ms/step - loss: 0.0011 - accuracy: 0.9996 - val_loss: 0.0021 - val_accuracy: 0.9992 - epoch_time: 2.4483\n",
            "Epoch 133/500\n",
            "179/179 [==============================] - 3s 15ms/step - loss: 0.0024 - accuracy: 0.9996 - val_loss: 8.1270e-04 - val_accuracy: 1.0000 - epoch_time: 2.5781\n",
            "Epoch 134/500\n",
            "179/179 [==============================] - 3s 14ms/step - loss: 0.0036 - accuracy: 0.9993 - val_loss: 0.0014 - val_accuracy: 0.9992 - epoch_time: 2.4190\n",
            "Epoch 135/500\n",
            "179/179 [==============================] - 2s 14ms/step - loss: 0.0015 - accuracy: 0.9996 - val_loss: 3.5507e-04 - val_accuracy: 1.0000 - epoch_time: 2.3688\n",
            "Epoch 136/500\n",
            "179/179 [==============================] - 3s 14ms/step - loss: 0.0017 - accuracy: 0.9993 - val_loss: 0.0014 - val_accuracy: 0.9996 - epoch_time: 2.4543\n",
            "Epoch 137/500\n",
            "179/179 [==============================] - 2s 14ms/step - loss: 9.7601e-04 - accuracy: 0.9997 - val_loss: 3.6086e-04 - val_accuracy: 1.0000 - epoch_time: 2.4028\n",
            "Epoch 138/500\n",
            "179/179 [==============================] - 2s 14ms/step - loss: 8.8499e-04 - accuracy: 0.9999 - val_loss: 1.9279e-04 - val_accuracy: 1.0000 - epoch_time: 2.3970\n",
            "Epoch 139/500\n",
            "179/179 [==============================] - 2s 14ms/step - loss: 8.0553e-04 - accuracy: 0.9998 - val_loss: 0.0013 - val_accuracy: 0.9992 - epoch_time: 2.3695\n"
          ]
        }
      ]
    },
    {
      "cell_type": "code",
      "source": [
        "print(model_sensor1.summary())"
      ],
      "metadata": {
        "colab": {
          "base_uri": "https://localhost:8080/"
        },
        "id": "sgiNWkr6oVcq",
        "outputId": "fd220f42-1a6c-4a35-d966-5bfec47716d1"
      },
      "execution_count": null,
      "outputs": [
        {
          "output_type": "stream",
          "name": "stdout",
          "text": [
            "Model: \"sequential\"\n",
            "_________________________________________________________________\n",
            " Layer (type)                Output Shape              Param #   \n",
            "=================================================================\n",
            " conv1d (Conv1D)             (None, 10, 40)            400       \n",
            "                                                                 \n",
            " dropout (Dropout)           (None, 10, 40)            0         \n",
            "                                                                 \n",
            " conv1d_1 (Conv1D)           (None, 10, 60)            7260      \n",
            "                                                                 \n",
            " dropout_1 (Dropout)         (None, 10, 60)            0         \n",
            "                                                                 \n",
            " conv1d_2 (Conv1D)           (None, 10, 60)            10860     \n",
            "                                                                 \n",
            " dropout_2 (Dropout)         (None, 10, 60)            0         \n",
            "                                                                 \n",
            " global_max_pooling1d (Globa  (None, 60)               0         \n",
            " lMaxPooling1D)                                                  \n",
            "                                                                 \n",
            " repeat_vector (RepeatVector  (None, 10, 60)           0         \n",
            " )                                                               \n",
            "                                                                 \n",
            " lstm (LSTM)                 (None, 10, 256)           324608    \n",
            "                                                                 \n",
            " dropout_3 (Dropout)         (None, 10, 256)           0         \n",
            "                                                                 \n",
            " lstm_1 (LSTM)               (None, 10, 128)           197120    \n",
            "                                                                 \n",
            " dropout_4 (Dropout)         (None, 10, 128)           0         \n",
            "                                                                 \n",
            " lstm_2 (LSTM)               (None, 64)                49408     \n",
            "                                                                 \n",
            " dropout_5 (Dropout)         (None, 64)                0         \n",
            "                                                                 \n",
            " dense (Dense)               (None, 32)                2080      \n",
            "                                                                 \n",
            " dense_1 (Dense)             (None, 16)                528       \n",
            "                                                                 \n",
            " dense_2 (Dense)             (None, 2)                 34        \n",
            "                                                                 \n",
            "=================================================================\n",
            "Total params: 592,298\n",
            "Trainable params: 592,298\n",
            "Non-trainable params: 0\n",
            "_________________________________________________________________\n",
            "None\n"
          ]
        }
      ]
    },
    {
      "cell_type": "code",
      "source": [
        "plot_model(model= model_sensor1, show_shapes= True, dpi=50)"
      ],
      "metadata": {
        "colab": {
          "base_uri": "https://localhost:8080/",
          "height": 1000
        },
        "id": "rWZpn8SyoZo6",
        "outputId": "1b7c0a12-c788-47cf-82b5-91ebe184b1f8"
      },
      "execution_count": null,
      "outputs": [
        {
          "output_type": "execute_result",
          "data": {
            "image/png": "[encoded data removed]",
            "text/plain": [
              "<IPython.core.display.Image object>"
            ]
          },
          "metadata": {},
          "execution_count": 49
        }
      ]
    },
    {
      "cell_type": "code",
      "metadata": {
        "colab": {
          "base_uri": "https://localhost:8080/"
        },
        "id": "8f2f6m1IAR7A",
        "outputId": "b48e3435-68f9-4b95-bcfc-4b95a6db3953"
      },
      "source": [
        "sensor = \"sensor2\"\n",
        "time_callback = TimeHistory()\n",
        "model_sensor2 = creatModel()\n",
        "model_save, checkpoint, history_cb, Estop = setCallbacks(\"sensor2\")\n",
        "history_sensor2 = model_sensor2.fit(X_train_sensor2, y_train_sensor2,\n",
        "                                    batch_size = 128, epochs = 500,\n",
        "                                    validation_split = 0.1,\n",
        "                                    verbose = 1,\n",
        "                                    callbacks = [time_callback, model_save, checkpoint, history_cb, Estop])\n",
        "                                    # class_weight= class_weights)#"
      ],
      "execution_count": null,
      "outputs": [
        {
          "output_type": "stream",
          "name": "stdout",
          "text": [
            "Epoch 1/500\n",
            "179/179 [==============================] - 9s 20ms/step - loss: 0.1781 - accuracy: 0.9472 - val_loss: 0.0557 - val_accuracy: 0.9917 - epoch_time: 8.9327\n",
            "Epoch 2/500\n",
            "179/179 [==============================] - 3s 14ms/step - loss: 0.0448 - accuracy: 0.9912 - val_loss: 0.0249 - val_accuracy: 0.9957 - epoch_time: 2.3542\n",
            "Epoch 3/500\n",
            "179/179 [==============================] - 3s 15ms/step - loss: 0.0351 - accuracy: 0.9909 - val_loss: 0.0205 - val_accuracy: 0.9957 - epoch_time: 2.4221\n",
            "Epoch 4/500\n",
            "179/179 [==============================] - 3s 14ms/step - loss: 0.0238 - accuracy: 0.9932 - val_loss: 0.0190 - val_accuracy: 0.9953 - epoch_time: 2.4050\n",
            "Epoch 5/500\n",
            "179/179 [==============================] - 3s 14ms/step - loss: 0.0218 - accuracy: 0.9926 - val_loss: 0.0128 - val_accuracy: 0.9964 - epoch_time: 2.3150\n",
            "Epoch 6/500\n",
            "179/179 [==============================] - 3s 14ms/step - loss: 0.0163 - accuracy: 0.9944 - val_loss: 0.0103 - val_accuracy: 0.9988 - epoch_time: 2.3724\n",
            "Epoch 7/500\n",
            "179/179 [==============================] - 2s 14ms/step - loss: 0.0153 - accuracy: 0.9954 - val_loss: 0.0131 - val_accuracy: 0.9964 - epoch_time: 2.3329\n",
            "Epoch 8/500\n",
            "179/179 [==============================] - 2s 14ms/step - loss: 0.0143 - accuracy: 0.9948 - val_loss: 0.0138 - val_accuracy: 0.9980 - epoch_time: 2.3952\n",
            "Epoch 9/500\n",
            "179/179 [==============================] - 3s 15ms/step - loss: 0.0118 - accuracy: 0.9961 - val_loss: 0.0076 - val_accuracy: 0.9980 - epoch_time: 2.5535\n",
            "Epoch 10/500\n",
            "179/179 [==============================] - 2s 14ms/step - loss: 0.0149 - accuracy: 0.9950 - val_loss: 0.0095 - val_accuracy: 0.9968 - epoch_time: 2.3645\n",
            "Epoch 11/500\n",
            "179/179 [==============================] - 3s 14ms/step - loss: 0.0096 - accuracy: 0.9964 - val_loss: 0.0072 - val_accuracy: 0.9972 - epoch_time: 2.3430\n",
            "Epoch 12/500\n",
            "179/179 [==============================] - 3s 14ms/step - loss: 0.0106 - accuracy: 0.9965 - val_loss: 0.0053 - val_accuracy: 0.9984 - epoch_time: 2.3506\n",
            "Epoch 13/500\n",
            "179/179 [==============================] - 2s 14ms/step - loss: 0.0078 - accuracy: 0.9975 - val_loss: 0.0092 - val_accuracy: 0.9976 - epoch_time: 2.3644\n",
            "Epoch 14/500\n",
            "179/179 [==============================] - 2s 13ms/step - loss: 0.0116 - accuracy: 0.9961 - val_loss: 0.0128 - val_accuracy: 0.9961 - epoch_time: 2.2877\n",
            "Epoch 15/500\n",
            "179/179 [==============================] - 2s 14ms/step - loss: 0.0104 - accuracy: 0.9963 - val_loss: 0.0146 - val_accuracy: 0.9964 - epoch_time: 2.3481\n",
            "Epoch 16/500\n",
            "179/179 [==============================] - 2s 14ms/step - loss: 0.0078 - accuracy: 0.9972 - val_loss: 0.0058 - val_accuracy: 0.9972 - epoch_time: 2.3324\n",
            "Epoch 17/500\n",
            "179/179 [==============================] - 3s 18ms/step - loss: 0.0076 - accuracy: 0.9973 - val_loss: 0.0040 - val_accuracy: 0.9976 - epoch_time: 2.4518\n",
            "Epoch 18/500\n",
            "179/179 [==============================] - 2s 13ms/step - loss: 0.0083 - accuracy: 0.9971 - val_loss: 0.0054 - val_accuracy: 0.9988 - epoch_time: 2.2503\n",
            "Epoch 19/500\n",
            "179/179 [==============================] - 2s 13ms/step - loss: 0.0077 - accuracy: 0.9973 - val_loss: 0.0036 - val_accuracy: 0.9980 - epoch_time: 2.1226\n",
            "Epoch 20/500\n",
            "179/179 [==============================] - 2s 13ms/step - loss: 0.0058 - accuracy: 0.9979 - val_loss: 0.0039 - val_accuracy: 0.9988 - epoch_time: 2.1721\n",
            "Epoch 21/500\n",
            "179/179 [==============================] - 2s 13ms/step - loss: 0.0066 - accuracy: 0.9981 - val_loss: 0.0078 - val_accuracy: 0.9972 - epoch_time: 2.2565\n",
            "Epoch 22/500\n",
            "179/179 [==============================] - 2s 13ms/step - loss: 0.0053 - accuracy: 0.9980 - val_loss: 0.0056 - val_accuracy: 0.9992 - epoch_time: 2.2521\n",
            "Epoch 23/500\n",
            "179/179 [==============================] - 2s 14ms/step - loss: 0.0066 - accuracy: 0.9978 - val_loss: 0.0072 - val_accuracy: 0.9976 - epoch_time: 2.3580\n",
            "Epoch 24/500\n",
            "179/179 [==============================] - 2s 13ms/step - loss: 0.0063 - accuracy: 0.9979 - val_loss: 0.0061 - val_accuracy: 0.9980 - epoch_time: 2.2210\n",
            "Epoch 25/500\n",
            "179/179 [==============================] - 2s 13ms/step - loss: 0.0056 - accuracy: 0.9980 - val_loss: 0.0054 - val_accuracy: 0.9984 - epoch_time: 2.2388\n",
            "Epoch 26/500\n",
            "179/179 [==============================] - 2s 13ms/step - loss: 0.0051 - accuracy: 0.9985 - val_loss: 0.0045 - val_accuracy: 0.9980 - epoch_time: 2.2354\n",
            "Epoch 27/500\n",
            "179/179 [==============================] - 2s 13ms/step - loss: 0.0051 - accuracy: 0.9982 - val_loss: 0.0065 - val_accuracy: 0.9976 - epoch_time: 2.3014\n",
            "Epoch 28/500\n",
            "179/179 [==============================] - 3s 16ms/step - loss: 0.0067 - accuracy: 0.9976 - val_loss: 0.0029 - val_accuracy: 0.9992 - epoch_time: 2.2573\n",
            "Epoch 29/500\n",
            "179/179 [==============================] - 2s 13ms/step - loss: 0.0075 - accuracy: 0.9973 - val_loss: 0.0021 - val_accuracy: 0.9992 - epoch_time: 2.1846\n",
            "Epoch 30/500\n",
            "179/179 [==============================] - 2s 13ms/step - loss: 0.0048 - accuracy: 0.9979 - val_loss: 0.0030 - val_accuracy: 0.9988 - epoch_time: 2.2405\n",
            "Epoch 31/500\n",
            "179/179 [==============================] - 2s 13ms/step - loss: 0.0046 - accuracy: 0.9982 - val_loss: 0.0048 - val_accuracy: 0.9988 - epoch_time: 2.2382\n",
            "Epoch 32/500\n",
            "179/179 [==============================] - 2s 13ms/step - loss: 0.0064 - accuracy: 0.9983 - val_loss: 0.0040 - val_accuracy: 0.9976 - epoch_time: 2.3018\n",
            "Epoch 33/500\n",
            "179/179 [==============================] - 2s 13ms/step - loss: 0.0039 - accuracy: 0.9983 - val_loss: 0.0051 - val_accuracy: 0.9976 - epoch_time: 2.2306\n",
            "Epoch 34/500\n",
            "179/179 [==============================] - 2s 13ms/step - loss: 0.0047 - accuracy: 0.9983 - val_loss: 0.0048 - val_accuracy: 0.9980 - epoch_time: 2.2398\n",
            "Epoch 35/500\n",
            "179/179 [==============================] - 2s 13ms/step - loss: 0.0047 - accuracy: 0.9985 - val_loss: 0.0041 - val_accuracy: 0.9988 - epoch_time: 2.3213\n",
            "Epoch 36/500\n",
            "179/179 [==============================] - 2s 13ms/step - loss: 0.0045 - accuracy: 0.9983 - val_loss: 0.0028 - val_accuracy: 0.9988 - epoch_time: 2.2390\n",
            "Epoch 37/500\n",
            "179/179 [==============================] - 2s 13ms/step - loss: 0.0031 - accuracy: 0.9986 - val_loss: 0.0076 - val_accuracy: 0.9984 - epoch_time: 2.3196\n",
            "Epoch 38/500\n",
            "179/179 [==============================] - 2s 13ms/step - loss: 0.0047 - accuracy: 0.9983 - val_loss: 0.0028 - val_accuracy: 0.9996 - epoch_time: 2.3108\n",
            "Epoch 39/500\n",
            "179/179 [==============================] - 2s 13ms/step - loss: 0.0040 - accuracy: 0.9989 - val_loss: 0.0053 - val_accuracy: 0.9992 - epoch_time: 2.3077\n",
            "Epoch 40/500\n",
            "179/179 [==============================] - 2s 13ms/step - loss: 0.0058 - accuracy: 0.9982 - val_loss: 0.0049 - val_accuracy: 0.9984 - epoch_time: 2.2390\n",
            "Epoch 41/500\n",
            "179/179 [==============================] - 2s 13ms/step - loss: 0.0044 - accuracy: 0.9987 - val_loss: 0.0038 - val_accuracy: 0.9988 - epoch_time: 2.3203\n",
            "Epoch 42/500\n",
            "179/179 [==============================] - 2s 13ms/step - loss: 0.0031 - accuracy: 0.9989 - val_loss: 0.0030 - val_accuracy: 0.9992 - epoch_time: 2.3138\n",
            "Epoch 43/500\n",
            "179/179 [==============================] - 2s 13ms/step - loss: 0.0022 - accuracy: 0.9993 - val_loss: 0.0039 - val_accuracy: 0.9992 - epoch_time: 2.2845\n",
            "Epoch 44/500\n",
            "179/179 [==============================] - 2s 14ms/step - loss: 0.0028 - accuracy: 0.9990 - val_loss: 0.0039 - val_accuracy: 0.9992 - epoch_time: 2.3756\n",
            "Epoch 45/500\n",
            "179/179 [==============================] - 2s 14ms/step - loss: 0.0025 - accuracy: 0.9988 - val_loss: 0.0065 - val_accuracy: 0.9968 - epoch_time: 2.3900\n",
            "Epoch 46/500\n",
            "179/179 [==============================] - 2s 13ms/step - loss: 0.0029 - accuracy: 0.9990 - val_loss: 0.0049 - val_accuracy: 0.9992 - epoch_time: 2.2719\n",
            "Epoch 47/500\n",
            "179/179 [==============================] - 3s 16ms/step - loss: 0.0043 - accuracy: 0.9987 - val_loss: 0.0014 - val_accuracy: 0.9996 - epoch_time: 2.3016\n",
            "Epoch 48/500\n",
            "179/179 [==============================] - 2s 13ms/step - loss: 0.0027 - accuracy: 0.9992 - val_loss: 0.0037 - val_accuracy: 0.9992 - epoch_time: 2.3064\n",
            "Epoch 49/500\n",
            "179/179 [==============================] - 2s 13ms/step - loss: 0.0032 - accuracy: 0.9989 - val_loss: 0.0032 - val_accuracy: 0.9992 - epoch_time: 2.2928\n",
            "Epoch 50/500\n",
            "179/179 [==============================] - 2s 14ms/step - loss: 0.0018 - accuracy: 0.9992 - val_loss: 0.0138 - val_accuracy: 0.9976 - epoch_time: 2.3480\n",
            "Epoch 51/500\n",
            "179/179 [==============================] - 3s 14ms/step - loss: 0.0041 - accuracy: 0.9990 - val_loss: 0.0042 - val_accuracy: 0.9992 - epoch_time: 2.4784\n",
            "Epoch 52/500\n",
            "179/179 [==============================] - 2s 13ms/step - loss: 0.0031 - accuracy: 0.9990 - val_loss: 0.0036 - val_accuracy: 0.9996 - epoch_time: 2.2973\n",
            "Epoch 53/500\n",
            "179/179 [==============================] - 2s 13ms/step - loss: 0.0025 - accuracy: 0.9993 - val_loss: 0.0041 - val_accuracy: 0.9984 - epoch_time: 2.2766\n",
            "Epoch 54/500\n",
            "179/179 [==============================] - 2s 13ms/step - loss: 0.0023 - accuracy: 0.9993 - val_loss: 0.0035 - val_accuracy: 0.9988 - epoch_time: 2.2751\n",
            "Epoch 55/500\n",
            "179/179 [==============================] - 2s 14ms/step - loss: 0.0030 - accuracy: 0.9989 - val_loss: 0.0015 - val_accuracy: 0.9992 - epoch_time: 2.3234\n",
            "Epoch 56/500\n",
            "179/179 [==============================] - 2s 13ms/step - loss: 0.0043 - accuracy: 0.9985 - val_loss: 0.0032 - val_accuracy: 0.9992 - epoch_time: 2.2339\n",
            "Epoch 57/500\n",
            "179/179 [==============================] - 2s 13ms/step - loss: 0.0024 - accuracy: 0.9992 - val_loss: 0.0039 - val_accuracy: 0.9992 - epoch_time: 2.2447\n",
            "Epoch 58/500\n",
            "179/179 [==============================] - 2s 13ms/step - loss: 0.0057 - accuracy: 0.9986 - val_loss: 0.0022 - val_accuracy: 0.9992 - epoch_time: 2.2095\n",
            "Epoch 59/500\n",
            "179/179 [==============================] - 2s 13ms/step - loss: 0.0035 - accuracy: 0.9989 - val_loss: 0.0027 - val_accuracy: 0.9992 - epoch_time: 2.2307\n",
            "Epoch 60/500\n",
            "179/179 [==============================] - 2s 13ms/step - loss: 0.0012 - accuracy: 0.9996 - val_loss: 0.0028 - val_accuracy: 0.9992 - epoch_time: 2.2889\n",
            "Epoch 61/500\n",
            "179/179 [==============================] - 2s 14ms/step - loss: 0.0012 - accuracy: 0.9996 - val_loss: 0.0021 - val_accuracy: 0.9992 - epoch_time: 2.3427\n",
            "Epoch 62/500\n",
            "179/179 [==============================] - 2s 13ms/step - loss: 0.0011 - accuracy: 0.9996 - val_loss: 0.0024 - val_accuracy: 0.9992 - epoch_time: 2.3220\n",
            "Epoch 63/500\n",
            "179/179 [==============================] - 2s 13ms/step - loss: 0.0011 - accuracy: 0.9997 - val_loss: 0.0026 - val_accuracy: 0.9992 - epoch_time: 2.3161\n",
            "Epoch 64/500\n",
            "179/179 [==============================] - 2s 13ms/step - loss: 0.0022 - accuracy: 0.9993 - val_loss: 0.0036 - val_accuracy: 0.9988 - epoch_time: 2.2976\n",
            "Epoch 65/500\n",
            "179/179 [==============================] - 2s 13ms/step - loss: 0.0023 - accuracy: 0.9992 - val_loss: 0.0038 - val_accuracy: 0.9992 - epoch_time: 2.2916\n",
            "Epoch 66/500\n",
            "179/179 [==============================] - 2s 14ms/step - loss: 0.0018 - accuracy: 0.9993 - val_loss: 0.0047 - val_accuracy: 0.9992 - epoch_time: 2.3370\n",
            "Epoch 67/500\n",
            "179/179 [==============================] - 2s 14ms/step - loss: 0.0014 - accuracy: 0.9995 - val_loss: 0.0032 - val_accuracy: 0.9992 - epoch_time: 2.3555\n",
            "Epoch 68/500\n",
            "179/179 [==============================] - 2s 13ms/step - loss: 0.0038 - accuracy: 0.9988 - val_loss: 0.0038 - val_accuracy: 0.9988 - epoch_time: 2.3109\n",
            "Epoch 69/500\n",
            "179/179 [==============================] - 2s 13ms/step - loss: 0.0023 - accuracy: 0.9994 - val_loss: 0.0043 - val_accuracy: 0.9992 - epoch_time: 2.2792\n",
            "Epoch 70/500\n",
            "179/179 [==============================] - 2s 13ms/step - loss: 0.0015 - accuracy: 0.9996 - val_loss: 0.0030 - val_accuracy: 0.9992 - epoch_time: 2.2132\n",
            "Epoch 71/500\n",
            "179/179 [==============================] - 2s 13ms/step - loss: 0.0024 - accuracy: 0.9992 - val_loss: 0.0040 - val_accuracy: 0.9992 - epoch_time: 2.2591\n",
            "Epoch 72/500\n",
            "179/179 [==============================] - 2s 14ms/step - loss: 0.0014 - accuracy: 0.9996 - val_loss: 0.0028 - val_accuracy: 0.9992 - epoch_time: 2.3175\n",
            "Epoch 73/500\n",
            "179/179 [==============================] - 2s 14ms/step - loss: 0.0024 - accuracy: 0.9993 - val_loss: 0.0037 - val_accuracy: 0.9992 - epoch_time: 2.3495\n",
            "Epoch 74/500\n",
            "179/179 [==============================] - 2s 13ms/step - loss: 0.0011 - accuracy: 0.9996 - val_loss: 0.0038 - val_accuracy: 0.9992 - epoch_time: 2.2849\n",
            "Epoch 75/500\n",
            "179/179 [==============================] - 2s 13ms/step - loss: 0.0011 - accuracy: 0.9996 - val_loss: 0.0027 - val_accuracy: 0.9996 - epoch_time: 2.2783\n",
            "Epoch 76/500\n",
            "179/179 [==============================] - 2s 13ms/step - loss: 6.7882e-04 - accuracy: 0.9998 - val_loss: 0.0041 - val_accuracy: 0.9992 - epoch_time: 2.3097\n",
            "Epoch 77/500\n",
            "179/179 [==============================] - 2s 14ms/step - loss: 0.0063 - accuracy: 0.9984 - val_loss: 0.0037 - val_accuracy: 0.9992 - epoch_time: 2.3284\n",
            "Epoch 78/500\n",
            "179/179 [==============================] - 2s 13ms/step - loss: 0.0026 - accuracy: 0.9992 - val_loss: 0.0060 - val_accuracy: 0.9984 - epoch_time: 2.2789\n",
            "Epoch 79/500\n",
            "179/179 [==============================] - 2s 13ms/step - loss: 0.0015 - accuracy: 0.9994 - val_loss: 0.0034 - val_accuracy: 0.9988 - epoch_time: 2.2868\n",
            "Epoch 80/500\n",
            "179/179 [==============================] - 2s 13ms/step - loss: 0.0012 - accuracy: 0.9995 - val_loss: 0.0021 - val_accuracy: 0.9992 - epoch_time: 2.2836\n",
            "Epoch 81/500\n",
            "179/179 [==============================] - 2s 14ms/step - loss: 5.1699e-04 - accuracy: 0.9999 - val_loss: 0.0028 - val_accuracy: 0.9992 - epoch_time: 2.3749\n",
            "Epoch 82/500\n",
            "179/179 [==============================] - 3s 14ms/step - loss: 0.0015 - accuracy: 0.9995 - val_loss: 0.0015 - val_accuracy: 0.9992 - epoch_time: 2.4527\n",
            "Epoch 83/500\n",
            "179/179 [==============================] - 2s 14ms/step - loss: 0.0013 - accuracy: 0.9997 - val_loss: 0.0029 - val_accuracy: 0.9992 - epoch_time: 2.3812\n",
            "Epoch 84/500\n",
            "179/179 [==============================] - 2s 13ms/step - loss: 0.0020 - accuracy: 0.9993 - val_loss: 0.0033 - val_accuracy: 0.9992 - epoch_time: 2.3091\n",
            "Epoch 85/500\n",
            "179/179 [==============================] - 2s 14ms/step - loss: 0.0027 - accuracy: 0.9992 - val_loss: 0.0142 - val_accuracy: 0.9968 - epoch_time: 2.3318\n",
            "Epoch 86/500\n",
            "179/179 [==============================] - 2s 13ms/step - loss: 7.6266e-04 - accuracy: 0.9997 - val_loss: 0.0032 - val_accuracy: 0.9988 - epoch_time: 2.2774\n",
            "Epoch 87/500\n",
            "179/179 [==============================] - 2s 14ms/step - loss: 0.0016 - accuracy: 0.9995 - val_loss: 0.0036 - val_accuracy: 0.9992 - epoch_time: 2.3526\n",
            "Epoch 88/500\n",
            "179/179 [==============================] - 2s 13ms/step - loss: 0.0037 - accuracy: 0.9988 - val_loss: 0.0031 - val_accuracy: 0.9988 - epoch_time: 2.2982\n",
            "Epoch 89/500\n",
            "179/179 [==============================] - 2s 13ms/step - loss: 0.0010 - accuracy: 0.9997 - val_loss: 0.0043 - val_accuracy: 0.9972 - epoch_time: 2.2844\n",
            "Epoch 90/500\n",
            "179/179 [==============================] - 2s 13ms/step - loss: 0.0018 - accuracy: 0.9995 - val_loss: 0.0022 - val_accuracy: 0.9996 - epoch_time: 2.3134\n",
            "Epoch 91/500\n",
            "179/179 [==============================] - 2s 13ms/step - loss: 0.0015 - accuracy: 0.9997 - val_loss: 0.0040 - val_accuracy: 0.9996 - epoch_time: 2.2810\n",
            "Epoch 92/500\n",
            "179/179 [==============================] - 2s 14ms/step - loss: 0.0029 - accuracy: 0.9995 - val_loss: 0.0034 - val_accuracy: 0.9988 - epoch_time: 2.3669\n",
            "Epoch 93/500\n",
            "179/179 [==============================] - 2s 14ms/step - loss: 0.0026 - accuracy: 0.9993 - val_loss: 0.0019 - val_accuracy: 0.9996 - epoch_time: 2.3493\n",
            "Epoch 94/500\n",
            "179/179 [==============================] - 2s 14ms/step - loss: 9.3219e-04 - accuracy: 0.9997 - val_loss: 0.0049 - val_accuracy: 0.9984 - epoch_time: 2.3445\n",
            "Epoch 95/500\n",
            "179/179 [==============================] - 2s 13ms/step - loss: 0.0016 - accuracy: 0.9994 - val_loss: 0.0041 - val_accuracy: 0.9980 - epoch_time: 2.2462\n",
            "Epoch 96/500\n",
            "179/179 [==============================] - 2s 13ms/step - loss: 0.0025 - accuracy: 0.9996 - val_loss: 0.0041 - val_accuracy: 0.9984 - epoch_time: 2.3182\n",
            "Epoch 97/500\n",
            "179/179 [==============================] - 3s 14ms/step - loss: 0.0024 - accuracy: 0.9991 - val_loss: 0.0026 - val_accuracy: 0.9988 - epoch_time: 2.4427\n",
            "Epoch 98/500\n",
            "179/179 [==============================] - 2s 14ms/step - loss: 0.0014 - accuracy: 0.9997 - val_loss: 0.0023 - val_accuracy: 0.9992 - epoch_time: 2.3675\n",
            "Epoch 99/500\n",
            "179/179 [==============================] - 2s 14ms/step - loss: 0.0012 - accuracy: 0.9995 - val_loss: 0.0053 - val_accuracy: 0.9980 - epoch_time: 2.3500\n",
            "Epoch 100/500\n",
            "179/179 [==============================] - 2s 14ms/step - loss: 0.0022 - accuracy: 0.9992 - val_loss: 0.0049 - val_accuracy: 0.9988 - epoch_time: 2.3953\n",
            "Epoch 101/500\n",
            "179/179 [==============================] - 2s 13ms/step - loss: 0.0018 - accuracy: 0.9994 - val_loss: 0.0022 - val_accuracy: 0.9996 - epoch_time: 2.2512\n",
            "Epoch 102/500\n",
            "179/179 [==============================] - 2s 14ms/step - loss: 5.4963e-04 - accuracy: 0.9997 - val_loss: 0.0052 - val_accuracy: 0.9984 - epoch_time: 2.3540\n",
            "Epoch 103/500\n",
            "179/179 [==============================] - 2s 13ms/step - loss: 0.0021 - accuracy: 0.9996 - val_loss: 0.0037 - val_accuracy: 0.9988 - epoch_time: 2.2702\n",
            "Epoch 104/500\n",
            "179/179 [==============================] - 2s 13ms/step - loss: 0.0011 - accuracy: 0.9997 - val_loss: 0.0043 - val_accuracy: 0.9988 - epoch_time: 2.2626\n",
            "Epoch 105/500\n",
            "179/179 [==============================] - 2s 14ms/step - loss: 4.1824e-04 - accuracy: 0.9999 - val_loss: 0.0047 - val_accuracy: 0.9984 - epoch_time: 2.3591\n",
            "Epoch 106/500\n",
            "179/179 [==============================] - 2s 13ms/step - loss: 0.0027 - accuracy: 0.9993 - val_loss: 0.0022 - val_accuracy: 0.9996 - epoch_time: 2.3008\n",
            "Epoch 107/500\n",
            "179/179 [==============================] - 2s 14ms/step - loss: 9.6533e-04 - accuracy: 0.9999 - val_loss: 0.0035 - val_accuracy: 0.9988 - epoch_time: 2.3362\n",
            "Epoch 108/500\n",
            "179/179 [==============================] - 2s 14ms/step - loss: 0.0012 - accuracy: 0.9998 - val_loss: 0.0057 - val_accuracy: 0.9976 - epoch_time: 2.3553\n",
            "Epoch 109/500\n",
            "179/179 [==============================] - 3s 15ms/step - loss: 5.8750e-04 - accuracy: 0.9999 - val_loss: 0.0051 - val_accuracy: 0.9988 - epoch_time: 2.5076\n",
            "Epoch 110/500\n",
            "179/179 [==============================] - 2s 14ms/step - loss: 4.4816e-04 - accuracy: 0.9999 - val_loss: 0.0026 - val_accuracy: 0.9988 - epoch_time: 2.3554\n",
            "Epoch 111/500\n",
            "179/179 [==============================] - 2s 14ms/step - loss: 0.0028 - accuracy: 0.9993 - val_loss: 0.0031 - val_accuracy: 0.9992 - epoch_time: 2.3236\n",
            "Epoch 112/500\n",
            "179/179 [==============================] - 2s 14ms/step - loss: 0.0017 - accuracy: 0.9995 - val_loss: 0.0032 - val_accuracy: 0.9992 - epoch_time: 2.3580\n",
            "Epoch 113/500\n",
            "179/179 [==============================] - 2s 13ms/step - loss: 0.0014 - accuracy: 0.9996 - val_loss: 0.0061 - val_accuracy: 0.9980 - epoch_time: 2.2432\n",
            "Epoch 114/500\n",
            "179/179 [==============================] - 2s 14ms/step - loss: 9.4133e-04 - accuracy: 0.9996 - val_loss: 0.0033 - val_accuracy: 0.9984 - epoch_time: 2.3270\n",
            "Epoch 115/500\n",
            "179/179 [==============================] - 2s 13ms/step - loss: 0.0012 - accuracy: 0.9996 - val_loss: 0.0034 - val_accuracy: 0.9992 - epoch_time: 2.1955\n",
            "Epoch 116/500\n",
            "179/179 [==============================] - 2s 14ms/step - loss: 8.7300e-04 - accuracy: 0.9998 - val_loss: 0.0054 - val_accuracy: 0.9988 - epoch_time: 2.3281\n",
            "Epoch 117/500\n",
            "179/179 [==============================] - 2s 14ms/step - loss: 7.5226e-04 - accuracy: 0.9998 - val_loss: 0.0024 - val_accuracy: 0.9992 - epoch_time: 2.3316\n",
            "Epoch 118/500\n",
            "179/179 [==============================] - 2s 13ms/step - loss: 3.7811e-04 - accuracy: 1.0000 - val_loss: 0.0040 - val_accuracy: 0.9992 - epoch_time: 2.3050\n",
            "Epoch 119/500\n",
            "179/179 [==============================] - 2s 14ms/step - loss: 0.0040 - accuracy: 0.9991 - val_loss: 0.0020 - val_accuracy: 0.9992 - epoch_time: 2.3557\n",
            "Epoch 120/500\n",
            "179/179 [==============================] - 2s 14ms/step - loss: 0.0029 - accuracy: 0.9991 - val_loss: 0.0039 - val_accuracy: 0.9992 - epoch_time: 2.3605\n",
            "Epoch 121/500\n",
            "179/179 [==============================] - 2s 13ms/step - loss: 0.0018 - accuracy: 0.9996 - val_loss: 0.0045 - val_accuracy: 0.9988 - epoch_time: 2.2682\n",
            "Epoch 122/500\n",
            "179/179 [==============================] - 2s 14ms/step - loss: 1.7819e-04 - accuracy: 1.0000 - val_loss: 0.0061 - val_accuracy: 0.9984 - epoch_time: 2.3246\n",
            "Epoch 123/500\n",
            "179/179 [==============================] - 2s 13ms/step - loss: 0.0013 - accuracy: 0.9997 - val_loss: 0.0041 - val_accuracy: 0.9988 - epoch_time: 2.2818\n",
            "Epoch 124/500\n",
            "179/179 [==============================] - 2s 13ms/step - loss: 0.0013 - accuracy: 0.9996 - val_loss: 0.0025 - val_accuracy: 0.9988 - epoch_time: 2.2545\n",
            "Epoch 125/500\n",
            "179/179 [==============================] - 2s 13ms/step - loss: 8.2498e-04 - accuracy: 0.9998 - val_loss: 0.0031 - val_accuracy: 0.9992 - epoch_time: 2.2777\n",
            "Epoch 126/500\n",
            "179/179 [==============================] - 2s 13ms/step - loss: 2.7570e-04 - accuracy: 1.0000 - val_loss: 0.0046 - val_accuracy: 0.9988 - epoch_time: 2.3230\n",
            "Epoch 127/500\n",
            "179/179 [==============================] - 2s 13ms/step - loss: 6.7453e-04 - accuracy: 0.9997 - val_loss: 0.0048 - val_accuracy: 0.9988 - epoch_time: 2.2936\n",
            "Epoch 128/500\n",
            "179/179 [==============================] - 2s 13ms/step - loss: 0.0014 - accuracy: 0.9997 - val_loss: 0.0029 - val_accuracy: 0.9992 - epoch_time: 2.3007\n",
            "Epoch 129/500\n",
            "179/179 [==============================] - 2s 14ms/step - loss: 9.3814e-04 - accuracy: 0.9997 - val_loss: 0.0046 - val_accuracy: 0.9992 - epoch_time: 2.3269\n",
            "Epoch 130/500\n",
            "179/179 [==============================] - 3s 15ms/step - loss: 4.4087e-04 - accuracy: 0.9999 - val_loss: 0.0055 - val_accuracy: 0.9992 - epoch_time: 2.5147\n",
            "Epoch 131/500\n",
            "179/179 [==============================] - 2s 14ms/step - loss: 0.0018 - accuracy: 0.9995 - val_loss: 0.0044 - val_accuracy: 0.9992 - epoch_time: 2.3081\n",
            "Epoch 132/500\n",
            "179/179 [==============================] - 2s 14ms/step - loss: 6.3358e-04 - accuracy: 0.9999 - val_loss: 0.0064 - val_accuracy: 0.9992 - epoch_time: 2.3552\n",
            "Epoch 133/500\n",
            "179/179 [==============================] - 2s 13ms/step - loss: 0.0010 - accuracy: 0.9997 - val_loss: 0.0057 - val_accuracy: 0.9992 - epoch_time: 2.2833\n",
            "Epoch 134/500\n",
            "179/179 [==============================] - 2s 14ms/step - loss: 0.0014 - accuracy: 0.9996 - val_loss: 0.0017 - val_accuracy: 0.9996 - epoch_time: 2.3136\n",
            "Epoch 135/500\n",
            "179/179 [==============================] - 2s 13ms/step - loss: 0.0016 - accuracy: 0.9994 - val_loss: 0.0048 - val_accuracy: 0.9992 - epoch_time: 2.3061\n",
            "Epoch 136/500\n",
            "179/179 [==============================] - 2s 13ms/step - loss: 7.5079e-04 - accuracy: 0.9999 - val_loss: 0.0082 - val_accuracy: 0.9992 - epoch_time: 2.2810\n",
            "Epoch 137/500\n",
            "179/179 [==============================] - 2s 13ms/step - loss: 8.0736e-04 - accuracy: 0.9998 - val_loss: 0.0042 - val_accuracy: 0.9992 - epoch_time: 2.3106\n",
            "Epoch 138/500\n",
            "179/179 [==============================] - 2s 14ms/step - loss: 0.0026 - accuracy: 0.9993 - val_loss: 0.0033 - val_accuracy: 0.9992 - epoch_time: 2.3344\n"
          ]
        }
      ]
    },
    {
      "cell_type": "code",
      "metadata": {
        "id": "ylJKm4n7ppeJ",
        "colab": {
          "base_uri": "https://localhost:8080/"
        },
        "outputId": "ca3c7317-87e6-4572-f7d0-28dad52f2f5d"
      },
      "source": [
        "sensor = \"sensor3\"\n",
        "time_callback = TimeHistory()\n",
        "model_sensor3 = creatModel()\n",
        "model_save, checkpoint, history_cb, Estop = setCallbacks(\"sensor3\")\n",
        "history_sensor3 = model_sensor3.fit(X_train_sensor3, y_train_sensor3,\n",
        "                                    batch_size = 128, epochs = 500,\n",
        "                                    validation_split = 0.1,\n",
        "                                    verbose = 1,\n",
        "                                    callbacks = [time_callback, model_save, checkpoint, history_cb, Estop])\n",
        "                                    # class_weight= class_weights)#"
      ],
      "execution_count": null,
      "outputs": [
        {
          "output_type": "stream",
          "name": "stdout",
          "text": [
            "Epoch 1/500\n",
            "179/179 [==============================] - 9s 22ms/step - loss: 0.2376 - accuracy: 0.9288 - val_loss: 0.1067 - val_accuracy: 0.9712 - epoch_time: 8.7556\n",
            "Epoch 2/500\n",
            "179/179 [==============================] - 2s 14ms/step - loss: 0.1022 - accuracy: 0.9695 - val_loss: 0.0620 - val_accuracy: 0.9799 - epoch_time: 2.2500\n",
            "Epoch 3/500\n",
            "179/179 [==============================] - 2s 13ms/step - loss: 0.0717 - accuracy: 0.9751 - val_loss: 0.0491 - val_accuracy: 0.9826 - epoch_time: 2.2057\n",
            "Epoch 4/500\n",
            "179/179 [==============================] - 2s 14ms/step - loss: 0.0569 - accuracy: 0.9788 - val_loss: 0.0420 - val_accuracy: 0.9826 - epoch_time: 2.2525\n",
            "Epoch 5/500\n",
            "179/179 [==============================] - 2s 14ms/step - loss: 0.0491 - accuracy: 0.9810 - val_loss: 0.0383 - val_accuracy: 0.9858 - epoch_time: 2.2267\n",
            "Epoch 6/500\n",
            "179/179 [==============================] - 3s 15ms/step - loss: 0.0480 - accuracy: 0.9811 - val_loss: 0.0353 - val_accuracy: 0.9858 - epoch_time: 2.4576\n",
            "Epoch 7/500\n",
            "179/179 [==============================] - 2s 13ms/step - loss: 0.0404 - accuracy: 0.9841 - val_loss: 0.0324 - val_accuracy: 0.9850 - epoch_time: 2.2304\n",
            "Epoch 8/500\n",
            "179/179 [==============================] - 2s 13ms/step - loss: 0.0368 - accuracy: 0.9848 - val_loss: 0.0319 - val_accuracy: 0.9874 - epoch_time: 2.1947\n",
            "Epoch 9/500\n",
            "179/179 [==============================] - 2s 14ms/step - loss: 0.0341 - accuracy: 0.9864 - val_loss: 0.0224 - val_accuracy: 0.9897 - epoch_time: 2.2323\n",
            "Epoch 10/500\n",
            "179/179 [==============================] - 2s 14ms/step - loss: 0.0336 - accuracy: 0.9865 - val_loss: 0.0204 - val_accuracy: 0.9905 - epoch_time: 2.2393\n",
            "Epoch 11/500\n",
            "179/179 [==============================] - 2s 13ms/step - loss: 0.0277 - accuracy: 0.9885 - val_loss: 0.0216 - val_accuracy: 0.9913 - epoch_time: 2.2585\n",
            "Epoch 12/500\n",
            "179/179 [==============================] - 2s 13ms/step - loss: 0.0276 - accuracy: 0.9892 - val_loss: 0.0238 - val_accuracy: 0.9909 - epoch_time: 2.2117\n",
            "Epoch 13/500\n",
            "179/179 [==============================] - 2s 13ms/step - loss: 0.0281 - accuracy: 0.9885 - val_loss: 0.0240 - val_accuracy: 0.9925 - epoch_time: 2.2074\n",
            "Epoch 14/500\n",
            "179/179 [==============================] - 2s 13ms/step - loss: 0.0267 - accuracy: 0.9893 - val_loss: 0.0224 - val_accuracy: 0.9905 - epoch_time: 2.3094\n",
            "Epoch 15/500\n",
            "179/179 [==============================] - 3s 17ms/step - loss: 0.0250 - accuracy: 0.9897 - val_loss: 0.0177 - val_accuracy: 0.9921 - epoch_time: 2.3117\n",
            "Epoch 16/500\n",
            "179/179 [==============================] - 2s 14ms/step - loss: 0.0216 - accuracy: 0.9907 - val_loss: 0.0169 - val_accuracy: 0.9933 - epoch_time: 2.2615\n",
            "Epoch 17/500\n",
            "179/179 [==============================] - 2s 13ms/step - loss: 0.0220 - accuracy: 0.9912 - val_loss: 0.0188 - val_accuracy: 0.9929 - epoch_time: 2.2374\n",
            "Epoch 18/500\n",
            "179/179 [==============================] - 2s 14ms/step - loss: 0.0205 - accuracy: 0.9916 - val_loss: 0.0164 - val_accuracy: 0.9933 - epoch_time: 2.2618\n",
            "Epoch 19/500\n",
            "179/179 [==============================] - 2s 13ms/step - loss: 0.0211 - accuracy: 0.9918 - val_loss: 0.0130 - val_accuracy: 0.9949 - epoch_time: 2.1994\n",
            "Epoch 20/500\n",
            "179/179 [==============================] - 2s 13ms/step - loss: 0.0196 - accuracy: 0.9921 - val_loss: 0.0186 - val_accuracy: 0.9945 - epoch_time: 2.2232\n",
            "Epoch 21/500\n",
            "179/179 [==============================] - 2s 13ms/step - loss: 0.0169 - accuracy: 0.9934 - val_loss: 0.0171 - val_accuracy: 0.9949 - epoch_time: 2.2667\n",
            "Epoch 22/500\n",
            "179/179 [==============================] - 2s 13ms/step - loss: 0.0206 - accuracy: 0.9918 - val_loss: 0.0204 - val_accuracy: 0.9929 - epoch_time: 2.2927\n",
            "Epoch 23/500\n",
            "179/179 [==============================] - 2s 13ms/step - loss: 0.0190 - accuracy: 0.9926 - val_loss: 0.0197 - val_accuracy: 0.9945 - epoch_time: 2.2616\n",
            "Epoch 24/500\n",
            "179/179 [==============================] - 2s 13ms/step - loss: 0.0182 - accuracy: 0.9926 - val_loss: 0.0202 - val_accuracy: 0.9937 - epoch_time: 2.1801\n",
            "Epoch 25/500\n",
            "179/179 [==============================] - 2s 13ms/step - loss: 0.0158 - accuracy: 0.9934 - val_loss: 0.0227 - val_accuracy: 0.9941 - epoch_time: 2.2173\n",
            "Epoch 26/500\n",
            "179/179 [==============================] - 2s 13ms/step - loss: 0.0155 - accuracy: 0.9941 - val_loss: 0.0151 - val_accuracy: 0.9933 - epoch_time: 2.2991\n",
            "Epoch 27/500\n",
            "179/179 [==============================] - 3s 17ms/step - loss: 0.0149 - accuracy: 0.9940 - val_loss: 0.0107 - val_accuracy: 0.9961 - epoch_time: 2.2495\n",
            "Epoch 28/500\n",
            "179/179 [==============================] - 2s 13ms/step - loss: 0.0140 - accuracy: 0.9949 - val_loss: 0.0147 - val_accuracy: 0.9945 - epoch_time: 2.2804\n",
            "Epoch 29/500\n",
            "179/179 [==============================] - 2s 13ms/step - loss: 0.0168 - accuracy: 0.9939 - val_loss: 0.0171 - val_accuracy: 0.9949 - epoch_time: 2.2819\n",
            "Epoch 30/500\n",
            "179/179 [==============================] - 2s 13ms/step - loss: 0.0155 - accuracy: 0.9944 - val_loss: 0.0157 - val_accuracy: 0.9933 - epoch_time: 2.3075\n",
            "Epoch 31/500\n",
            "179/179 [==============================] - 2s 13ms/step - loss: 0.0143 - accuracy: 0.9940 - val_loss: 0.0152 - val_accuracy: 0.9941 - epoch_time: 2.2569\n",
            "Epoch 32/500\n",
            "179/179 [==============================] - 3s 16ms/step - loss: 0.0153 - accuracy: 0.9947 - val_loss: 0.0105 - val_accuracy: 0.9961 - epoch_time: 2.2646\n",
            "Epoch 33/500\n",
            "179/179 [==============================] - 2s 13ms/step - loss: 0.0125 - accuracy: 0.9953 - val_loss: 0.0113 - val_accuracy: 0.9957 - epoch_time: 2.2271\n",
            "Epoch 34/500\n",
            "179/179 [==============================] - 2s 13ms/step - loss: 0.0118 - accuracy: 0.9957 - val_loss: 0.0151 - val_accuracy: 0.9929 - epoch_time: 2.2622\n",
            "Epoch 35/500\n",
            "179/179 [==============================] - 2s 13ms/step - loss: 0.0140 - accuracy: 0.9952 - val_loss: 0.0128 - val_accuracy: 0.9949 - epoch_time: 2.2548\n",
            "Epoch 36/500\n",
            "179/179 [==============================] - 2s 13ms/step - loss: 0.0130 - accuracy: 0.9950 - val_loss: 0.0146 - val_accuracy: 0.9957 - epoch_time: 2.3010\n",
            "Epoch 37/500\n",
            "179/179 [==============================] - 2s 13ms/step - loss: 0.0130 - accuracy: 0.9948 - val_loss: 0.0115 - val_accuracy: 0.9968 - epoch_time: 2.2645\n",
            "Epoch 38/500\n",
            "179/179 [==============================] - 2s 13ms/step - loss: 0.0119 - accuracy: 0.9953 - val_loss: 0.0146 - val_accuracy: 0.9941 - epoch_time: 2.3097\n",
            "Epoch 39/500\n",
            "179/179 [==============================] - 2s 13ms/step - loss: 0.0125 - accuracy: 0.9952 - val_loss: 0.0115 - val_accuracy: 0.9961 - epoch_time: 2.2120\n",
            "Epoch 40/500\n",
            "179/179 [==============================] - 2s 13ms/step - loss: 0.0108 - accuracy: 0.9954 - val_loss: 0.0151 - val_accuracy: 0.9953 - epoch_time: 2.2540\n",
            "Epoch 41/500\n",
            "179/179 [==============================] - 2s 13ms/step - loss: 0.0116 - accuracy: 0.9956 - val_loss: 0.0148 - val_accuracy: 0.9945 - epoch_time: 2.2641\n",
            "Epoch 42/500\n",
            "179/179 [==============================] - 3s 16ms/step - loss: 0.0104 - accuracy: 0.9957 - val_loss: 0.0104 - val_accuracy: 0.9957 - epoch_time: 2.3042\n",
            "Epoch 43/500\n",
            "179/179 [==============================] - 2s 13ms/step - loss: 0.0101 - accuracy: 0.9962 - val_loss: 0.0153 - val_accuracy: 0.9957 - epoch_time: 2.2473\n",
            "Epoch 44/500\n",
            "179/179 [==============================] - 2s 13ms/step - loss: 0.0105 - accuracy: 0.9956 - val_loss: 0.0161 - val_accuracy: 0.9953 - epoch_time: 2.1749\n",
            "Epoch 45/500\n",
            "179/179 [==============================] - 2s 14ms/step - loss: 0.0117 - accuracy: 0.9954 - val_loss: 0.0112 - val_accuracy: 0.9968 - epoch_time: 2.3445\n",
            "Epoch 46/500\n",
            "179/179 [==============================] - 2s 13ms/step - loss: 0.0106 - accuracy: 0.9963 - val_loss: 0.0124 - val_accuracy: 0.9945 - epoch_time: 2.2983\n",
            "Epoch 47/500\n",
            "179/179 [==============================] - 2s 13ms/step - loss: 0.0100 - accuracy: 0.9964 - val_loss: 0.0129 - val_accuracy: 0.9941 - epoch_time: 2.3054\n",
            "Epoch 48/500\n",
            "179/179 [==============================] - 3s 16ms/step - loss: 0.0118 - accuracy: 0.9952 - val_loss: 0.0098 - val_accuracy: 0.9961 - epoch_time: 2.2491\n",
            "Epoch 49/500\n",
            "179/179 [==============================] - 2s 13ms/step - loss: 0.0110 - accuracy: 0.9960 - val_loss: 0.0120 - val_accuracy: 0.9968 - epoch_time: 2.2596\n",
            "Epoch 50/500\n",
            "179/179 [==============================] - 2s 13ms/step - loss: 0.0101 - accuracy: 0.9965 - val_loss: 0.0133 - val_accuracy: 0.9937 - epoch_time: 2.3143\n",
            "Epoch 51/500\n",
            "179/179 [==============================] - 2s 13ms/step - loss: 0.0094 - accuracy: 0.9965 - val_loss: 0.0107 - val_accuracy: 0.9964 - epoch_time: 2.2885\n",
            "Epoch 52/500\n",
            "179/179 [==============================] - 2s 13ms/step - loss: 0.0108 - accuracy: 0.9961 - val_loss: 0.0123 - val_accuracy: 0.9972 - epoch_time: 2.3260\n",
            "Epoch 53/500\n",
            "179/179 [==============================] - 2s 13ms/step - loss: 0.0089 - accuracy: 0.9967 - val_loss: 0.0122 - val_accuracy: 0.9961 - epoch_time: 2.3045\n",
            "Epoch 54/500\n",
            "179/179 [==============================] - 2s 13ms/step - loss: 0.0097 - accuracy: 0.9961 - val_loss: 0.0133 - val_accuracy: 0.9957 - epoch_time: 2.2528\n",
            "Epoch 55/500\n",
            "179/179 [==============================] - 2s 14ms/step - loss: 0.0068 - accuracy: 0.9975 - val_loss: 0.0100 - val_accuracy: 0.9976 - epoch_time: 2.3878\n",
            "Epoch 56/500\n",
            "179/179 [==============================] - 2s 13ms/step - loss: 0.0095 - accuracy: 0.9964 - val_loss: 0.0106 - val_accuracy: 0.9953 - epoch_time: 2.2490\n",
            "Epoch 57/500\n",
            "179/179 [==============================] - 2s 13ms/step - loss: 0.0080 - accuracy: 0.9970 - val_loss: 0.0106 - val_accuracy: 0.9957 - epoch_time: 2.2788\n",
            "Epoch 58/500\n",
            "179/179 [==============================] - 3s 14ms/step - loss: 0.0079 - accuracy: 0.9969 - val_loss: 0.0108 - val_accuracy: 0.9953 - epoch_time: 2.4515\n",
            "Epoch 59/500\n",
            "179/179 [==============================] - 2s 14ms/step - loss: 0.0084 - accuracy: 0.9971 - val_loss: 0.0202 - val_accuracy: 0.9941 - epoch_time: 2.3317\n",
            "Epoch 60/500\n",
            "179/179 [==============================] - 2s 13ms/step - loss: 0.0081 - accuracy: 0.9971 - val_loss: 0.0127 - val_accuracy: 0.9957 - epoch_time: 2.3219\n",
            "Epoch 61/500\n",
            "179/179 [==============================] - 2s 13ms/step - loss: 0.0081 - accuracy: 0.9969 - val_loss: 0.0115 - val_accuracy: 0.9964 - epoch_time: 2.2499\n",
            "Epoch 62/500\n",
            "179/179 [==============================] - 2s 13ms/step - loss: 0.0101 - accuracy: 0.9964 - val_loss: 0.0153 - val_accuracy: 0.9964 - epoch_time: 2.2849\n",
            "Epoch 63/500\n",
            "179/179 [==============================] - 3s 17ms/step - loss: 0.0066 - accuracy: 0.9976 - val_loss: 0.0091 - val_accuracy: 0.9968 - epoch_time: 2.4485\n",
            "Epoch 64/500\n",
            "179/179 [==============================] - 2s 14ms/step - loss: 0.0088 - accuracy: 0.9967 - val_loss: 0.0136 - val_accuracy: 0.9968 - epoch_time: 2.3622\n",
            "Epoch 65/500\n",
            "179/179 [==============================] - 2s 13ms/step - loss: 0.0071 - accuracy: 0.9974 - val_loss: 0.0093 - val_accuracy: 0.9961 - epoch_time: 2.3095\n",
            "Epoch 66/500\n",
            "179/179 [==============================] - 2s 13ms/step - loss: 0.0073 - accuracy: 0.9972 - val_loss: 0.0101 - val_accuracy: 0.9968 - epoch_time: 2.2490\n",
            "Epoch 67/500\n",
            "179/179 [==============================] - 2s 14ms/step - loss: 0.0098 - accuracy: 0.9968 - val_loss: 0.0192 - val_accuracy: 0.9949 - epoch_time: 2.3585\n",
            "Epoch 68/500\n",
            "179/179 [==============================] - 2s 13ms/step - loss: 0.0067 - accuracy: 0.9978 - val_loss: 0.0154 - val_accuracy: 0.9945 - epoch_time: 2.2728\n",
            "Epoch 69/500\n",
            "179/179 [==============================] - 3s 14ms/step - loss: 0.0074 - accuracy: 0.9972 - val_loss: 0.0157 - val_accuracy: 0.9941 - epoch_time: 2.4861\n",
            "Epoch 70/500\n",
            "179/179 [==============================] - 2s 13ms/step - loss: 0.0068 - accuracy: 0.9980 - val_loss: 0.0113 - val_accuracy: 0.9968 - epoch_time: 2.2091\n",
            "Epoch 71/500\n",
            "179/179 [==============================] - 2s 13ms/step - loss: 0.0068 - accuracy: 0.9973 - val_loss: 0.0123 - val_accuracy: 0.9964 - epoch_time: 2.2695\n",
            "Epoch 72/500\n",
            "179/179 [==============================] - 2s 13ms/step - loss: 0.0060 - accuracy: 0.9975 - val_loss: 0.0145 - val_accuracy: 0.9968 - epoch_time: 2.2493\n",
            "Epoch 73/500\n",
            "179/179 [==============================] - 2s 13ms/step - loss: 0.0087 - accuracy: 0.9968 - val_loss: 0.0135 - val_accuracy: 0.9949 - epoch_time: 2.3123\n",
            "Epoch 74/500\n",
            "179/179 [==============================] - 2s 13ms/step - loss: 0.0070 - accuracy: 0.9975 - val_loss: 0.0103 - val_accuracy: 0.9957 - epoch_time: 2.2417\n",
            "Epoch 75/500\n",
            "179/179 [==============================] - 2s 14ms/step - loss: 0.0073 - accuracy: 0.9977 - val_loss: 0.0177 - val_accuracy: 0.9949 - epoch_time: 2.3927\n",
            "Epoch 76/500\n",
            "179/179 [==============================] - 2s 13ms/step - loss: 0.0073 - accuracy: 0.9970 - val_loss: 0.0131 - val_accuracy: 0.9964 - epoch_time: 2.2350\n",
            "Epoch 77/500\n",
            "179/179 [==============================] - 2s 14ms/step - loss: 0.0055 - accuracy: 0.9981 - val_loss: 0.0106 - val_accuracy: 0.9964 - epoch_time: 2.3249\n",
            "Epoch 78/500\n",
            "179/179 [==============================] - 2s 13ms/step - loss: 0.0064 - accuracy: 0.9978 - val_loss: 0.0112 - val_accuracy: 0.9957 - epoch_time: 2.2794\n",
            "Epoch 79/500\n",
            "179/179 [==============================] - 2s 14ms/step - loss: 0.0074 - accuracy: 0.9975 - val_loss: 0.0150 - val_accuracy: 0.9949 - epoch_time: 2.3366\n",
            "Epoch 80/500\n",
            "179/179 [==============================] - 2s 13ms/step - loss: 0.0074 - accuracy: 0.9974 - val_loss: 0.0146 - val_accuracy: 0.9961 - epoch_time: 2.3069\n",
            "Epoch 81/500\n",
            "179/179 [==============================] - 2s 13ms/step - loss: 0.0063 - accuracy: 0.9977 - val_loss: 0.0109 - val_accuracy: 0.9964 - epoch_time: 2.2162\n",
            "Epoch 82/500\n",
            "179/179 [==============================] - 2s 13ms/step - loss: 0.0075 - accuracy: 0.9976 - val_loss: 0.0123 - val_accuracy: 0.9953 - epoch_time: 2.2805\n",
            "Epoch 83/500\n",
            "179/179 [==============================] - 2s 13ms/step - loss: 0.0049 - accuracy: 0.9982 - val_loss: 0.0179 - val_accuracy: 0.9964 - epoch_time: 2.2622\n",
            "Epoch 84/500\n",
            "179/179 [==============================] - 2s 13ms/step - loss: 0.0068 - accuracy: 0.9976 - val_loss: 0.0145 - val_accuracy: 0.9957 - epoch_time: 2.3069\n",
            "Epoch 85/500\n",
            "179/179 [==============================] - 2s 13ms/step - loss: 0.0070 - accuracy: 0.9976 - val_loss: 0.0092 - val_accuracy: 0.9972 - epoch_time: 2.2476\n",
            "Epoch 86/500\n",
            "179/179 [==============================] - 2s 13ms/step - loss: 0.0055 - accuracy: 0.9982 - val_loss: 0.0127 - val_accuracy: 0.9961 - epoch_time: 2.2694\n",
            "Epoch 87/500\n",
            "179/179 [==============================] - 2s 13ms/step - loss: 0.0052 - accuracy: 0.9982 - val_loss: 0.0108 - val_accuracy: 0.9953 - epoch_time: 2.3051\n",
            "Epoch 88/500\n",
            "179/179 [==============================] - 2s 13ms/step - loss: 0.0069 - accuracy: 0.9982 - val_loss: 0.0137 - val_accuracy: 0.9964 - epoch_time: 2.2974\n",
            "Epoch 89/500\n",
            "179/179 [==============================] - 2s 14ms/step - loss: 0.0085 - accuracy: 0.9975 - val_loss: 0.0130 - val_accuracy: 0.9961 - epoch_time: 2.3603\n",
            "Epoch 90/500\n",
            "179/179 [==============================] - 2s 13ms/step - loss: 0.0059 - accuracy: 0.9982 - val_loss: 0.0196 - val_accuracy: 0.9949 - epoch_time: 2.2997\n",
            "Epoch 91/500\n",
            "179/179 [==============================] - 2s 13ms/step - loss: 0.0058 - accuracy: 0.9981 - val_loss: 0.0144 - val_accuracy: 0.9964 - epoch_time: 2.2568\n",
            "Epoch 92/500\n",
            "179/179 [==============================] - 2s 13ms/step - loss: 0.0051 - accuracy: 0.9984 - val_loss: 0.0145 - val_accuracy: 0.9961 - epoch_time: 2.3193\n",
            "Epoch 93/500\n",
            "179/179 [==============================] - 2s 14ms/step - loss: 0.0059 - accuracy: 0.9977 - val_loss: 0.0159 - val_accuracy: 0.9961 - epoch_time: 2.3472\n",
            "Epoch 94/500\n",
            "179/179 [==============================] - 2s 14ms/step - loss: 0.0067 - accuracy: 0.9978 - val_loss: 0.0140 - val_accuracy: 0.9953 - epoch_time: 2.3940\n",
            "Epoch 95/500\n",
            "179/179 [==============================] - 2s 14ms/step - loss: 0.0054 - accuracy: 0.9981 - val_loss: 0.0129 - val_accuracy: 0.9961 - epoch_time: 2.3370\n",
            "Epoch 96/500\n",
            "179/179 [==============================] - 2s 14ms/step - loss: 0.0053 - accuracy: 0.9983 - val_loss: 0.0179 - val_accuracy: 0.9953 - epoch_time: 2.3654\n",
            "Epoch 97/500\n",
            "179/179 [==============================] - 2s 13ms/step - loss: 0.0054 - accuracy: 0.9981 - val_loss: 0.0197 - val_accuracy: 0.9953 - epoch_time: 2.2730\n",
            "Epoch 98/500\n",
            "179/179 [==============================] - 2s 14ms/step - loss: 0.0047 - accuracy: 0.9983 - val_loss: 0.0185 - val_accuracy: 0.9953 - epoch_time: 2.3350\n",
            "Epoch 99/500\n",
            "179/179 [==============================] - 2s 13ms/step - loss: 0.0062 - accuracy: 0.9978 - val_loss: 0.0122 - val_accuracy: 0.9968 - epoch_time: 2.2653\n",
            "Epoch 100/500\n",
            "179/179 [==============================] - 2s 14ms/step - loss: 0.0053 - accuracy: 0.9986 - val_loss: 0.0118 - val_accuracy: 0.9957 - epoch_time: 2.3370\n",
            "Epoch 101/500\n",
            "179/179 [==============================] - 2s 13ms/step - loss: 0.0056 - accuracy: 0.9980 - val_loss: 0.0170 - val_accuracy: 0.9964 - epoch_time: 2.2852\n",
            "Epoch 102/500\n",
            "179/179 [==============================] - 2s 13ms/step - loss: 0.0051 - accuracy: 0.9983 - val_loss: 0.0134 - val_accuracy: 0.9961 - epoch_time: 2.2955\n",
            "Epoch 103/500\n",
            "179/179 [==============================] - 2s 13ms/step - loss: 0.0051 - accuracy: 0.9982 - val_loss: 0.0156 - val_accuracy: 0.9949 - epoch_time: 2.3149\n",
            "Epoch 104/500\n",
            "179/179 [==============================] - 2s 14ms/step - loss: 0.0066 - accuracy: 0.9977 - val_loss: 0.0112 - val_accuracy: 0.9964 - epoch_time: 2.3927\n",
            "Epoch 105/500\n",
            "179/179 [==============================] - 2s 13ms/step - loss: 0.0046 - accuracy: 0.9984 - val_loss: 0.0164 - val_accuracy: 0.9941 - epoch_time: 2.2564\n",
            "Epoch 106/500\n",
            "179/179 [==============================] - 2s 13ms/step - loss: 0.0060 - accuracy: 0.9980 - val_loss: 0.0130 - val_accuracy: 0.9964 - epoch_time: 2.2559\n",
            "Epoch 107/500\n",
            "179/179 [==============================] - 2s 13ms/step - loss: 0.0051 - accuracy: 0.9978 - val_loss: 0.0147 - val_accuracy: 0.9953 - epoch_time: 2.2317\n",
            "Epoch 108/500\n",
            "179/179 [==============================] - 2s 13ms/step - loss: 0.0035 - accuracy: 0.9986 - val_loss: 0.0217 - val_accuracy: 0.9957 - epoch_time: 2.3027\n",
            "Epoch 109/500\n",
            "179/179 [==============================] - 2s 13ms/step - loss: 0.0055 - accuracy: 0.9983 - val_loss: 0.0163 - val_accuracy: 0.9964 - epoch_time: 2.3041\n",
            "Epoch 110/500\n",
            "179/179 [==============================] - 2s 13ms/step - loss: 0.0061 - accuracy: 0.9982 - val_loss: 0.0149 - val_accuracy: 0.9961 - epoch_time: 2.3161\n",
            "Epoch 111/500\n",
            "179/179 [==============================] - 2s 13ms/step - loss: 0.0048 - accuracy: 0.9983 - val_loss: 0.0157 - val_accuracy: 0.9949 - epoch_time: 2.2631\n",
            "Epoch 112/500\n",
            "179/179 [==============================] - 2s 14ms/step - loss: 0.0039 - accuracy: 0.9986 - val_loss: 0.0167 - val_accuracy: 0.9957 - epoch_time: 2.3288\n",
            "Epoch 113/500\n",
            "179/179 [==============================] - 2s 13ms/step - loss: 0.0058 - accuracy: 0.9980 - val_loss: 0.0132 - val_accuracy: 0.9964 - epoch_time: 2.3211\n",
            "Epoch 114/500\n",
            "179/179 [==============================] - 2s 14ms/step - loss: 0.0048 - accuracy: 0.9980 - val_loss: 0.0155 - val_accuracy: 0.9945 - epoch_time: 2.3239\n",
            "Epoch 115/500\n",
            "179/179 [==============================] - 2s 13ms/step - loss: 0.0048 - accuracy: 0.9984 - val_loss: 0.0106 - val_accuracy: 0.9964 - epoch_time: 2.2928\n",
            "Epoch 116/500\n",
            "179/179 [==============================] - 2s 13ms/step - loss: 0.0035 - accuracy: 0.9986 - val_loss: 0.0152 - val_accuracy: 0.9961 - epoch_time: 2.2445\n",
            "Epoch 117/500\n",
            "179/179 [==============================] - 2s 13ms/step - loss: 0.0042 - accuracy: 0.9983 - val_loss: 0.0116 - val_accuracy: 0.9964 - epoch_time: 2.3088\n",
            "Epoch 118/500\n",
            "179/179 [==============================] - 2s 13ms/step - loss: 0.0073 - accuracy: 0.9977 - val_loss: 0.0151 - val_accuracy: 0.9949 - epoch_time: 2.2475\n",
            "Epoch 119/500\n",
            "179/179 [==============================] - 2s 13ms/step - loss: 0.0046 - accuracy: 0.9984 - val_loss: 0.0223 - val_accuracy: 0.9945 - epoch_time: 2.2812\n",
            "Epoch 120/500\n",
            "179/179 [==============================] - 3s 16ms/step - loss: 0.0054 - accuracy: 0.9980 - val_loss: 0.0088 - val_accuracy: 0.9968 - epoch_time: 2.3254\n",
            "Epoch 121/500\n",
            "179/179 [==============================] - 2s 13ms/step - loss: 0.0058 - accuracy: 0.9983 - val_loss: 0.0153 - val_accuracy: 0.9957 - epoch_time: 2.2490\n",
            "Epoch 122/500\n",
            "179/179 [==============================] - 2s 13ms/step - loss: 0.0060 - accuracy: 0.9978 - val_loss: 0.0096 - val_accuracy: 0.9968 - epoch_time: 2.2776\n",
            "Epoch 123/500\n",
            "179/179 [==============================] - 2s 14ms/step - loss: 0.0040 - accuracy: 0.9987 - val_loss: 0.0116 - val_accuracy: 0.9961 - epoch_time: 2.3925\n",
            "Epoch 124/500\n",
            "179/179 [==============================] - 2s 13ms/step - loss: 0.0042 - accuracy: 0.9986 - val_loss: 0.0100 - val_accuracy: 0.9964 - epoch_time: 2.2971\n",
            "Epoch 125/500\n",
            "179/179 [==============================] - 2s 14ms/step - loss: 0.0050 - accuracy: 0.9982 - val_loss: 0.0119 - val_accuracy: 0.9968 - epoch_time: 2.3293\n",
            "Epoch 126/500\n",
            "179/179 [==============================] - 2s 14ms/step - loss: 0.0076 - accuracy: 0.9978 - val_loss: 0.0107 - val_accuracy: 0.9968 - epoch_time: 2.3294\n",
            "Epoch 127/500\n",
            "179/179 [==============================] - 2s 13ms/step - loss: 0.0049 - accuracy: 0.9984 - val_loss: 0.0164 - val_accuracy: 0.9964 - epoch_time: 2.2651\n",
            "Epoch 128/500\n",
            "179/179 [==============================] - 2s 13ms/step - loss: 0.0034 - accuracy: 0.9987 - val_loss: 0.0098 - val_accuracy: 0.9968 - epoch_time: 2.2589\n",
            "Epoch 129/500\n",
            "179/179 [==============================] - 3s 14ms/step - loss: 0.0039 - accuracy: 0.9986 - val_loss: 0.0151 - val_accuracy: 0.9957 - epoch_time: 2.4082\n",
            "Epoch 130/500\n",
            "179/179 [==============================] - 2s 14ms/step - loss: 0.0059 - accuracy: 0.9984 - val_loss: 0.0139 - val_accuracy: 0.9961 - epoch_time: 2.4020\n",
            "Epoch 131/500\n",
            "179/179 [==============================] - 2s 13ms/step - loss: 0.0044 - accuracy: 0.9986 - val_loss: 0.0158 - val_accuracy: 0.9964 - epoch_time: 2.2745\n",
            "Epoch 132/500\n",
            "179/179 [==============================] - 2s 13ms/step - loss: 0.0043 - accuracy: 0.9986 - val_loss: 0.0206 - val_accuracy: 0.9949 - epoch_time: 2.3085\n",
            "Epoch 133/500\n",
            "179/179 [==============================] - 3s 14ms/step - loss: 0.0042 - accuracy: 0.9987 - val_loss: 0.0122 - val_accuracy: 0.9953 - epoch_time: 2.4356\n",
            "Epoch 134/500\n",
            "179/179 [==============================] - 2s 14ms/step - loss: 0.0036 - accuracy: 0.9989 - val_loss: 0.0129 - val_accuracy: 0.9961 - epoch_time: 2.3322\n",
            "Epoch 135/500\n",
            "179/179 [==============================] - 2s 13ms/step - loss: 0.0052 - accuracy: 0.9982 - val_loss: 0.0123 - val_accuracy: 0.9968 - epoch_time: 2.3122\n",
            "Epoch 136/500\n",
            "179/179 [==============================] - 3s 16ms/step - loss: 0.0045 - accuracy: 0.9982 - val_loss: 0.0079 - val_accuracy: 0.9976 - epoch_time: 2.3200\n",
            "Epoch 137/500\n",
            "179/179 [==============================] - 2s 14ms/step - loss: 0.0050 - accuracy: 0.9982 - val_loss: 0.0126 - val_accuracy: 0.9961 - epoch_time: 2.3447\n",
            "Epoch 138/500\n",
            "179/179 [==============================] - 2s 14ms/step - loss: 0.0049 - accuracy: 0.9983 - val_loss: 0.0099 - val_accuracy: 0.9972 - epoch_time: 2.3864\n",
            "Epoch 139/500\n",
            "179/179 [==============================] - 3s 14ms/step - loss: 0.0028 - accuracy: 0.9989 - val_loss: 0.0071 - val_accuracy: 0.9972 - epoch_time: 2.3253\n",
            "Epoch 140/500\n",
            "179/179 [==============================] - 2s 13ms/step - loss: 0.0031 - accuracy: 0.9988 - val_loss: 0.0075 - val_accuracy: 0.9964 - epoch_time: 2.2628\n",
            "Epoch 141/500\n",
            "179/179 [==============================] - 2s 14ms/step - loss: 0.0044 - accuracy: 0.9989 - val_loss: 0.0071 - val_accuracy: 0.9980 - epoch_time: 2.3544\n",
            "Epoch 142/500\n",
            "179/179 [==============================] - 2s 14ms/step - loss: 0.0023 - accuracy: 0.9993 - val_loss: 0.0126 - val_accuracy: 0.9961 - epoch_time: 2.3413\n",
            "Epoch 143/500\n",
            "179/179 [==============================] - 3s 14ms/step - loss: 0.0053 - accuracy: 0.9982 - val_loss: 0.0067 - val_accuracy: 0.9976 - epoch_time: 2.3464\n",
            "Epoch 144/500\n",
            "179/179 [==============================] - 3s 14ms/step - loss: 0.0041 - accuracy: 0.9991 - val_loss: 0.0097 - val_accuracy: 0.9972 - epoch_time: 2.4580\n",
            "Epoch 145/500\n",
            "179/179 [==============================] - 2s 13ms/step - loss: 0.0044 - accuracy: 0.9985 - val_loss: 0.0086 - val_accuracy: 0.9968 - epoch_time: 2.2962\n",
            "Epoch 146/500\n",
            "179/179 [==============================] - 2s 13ms/step - loss: 0.0037 - accuracy: 0.9990 - val_loss: 0.0092 - val_accuracy: 0.9957 - epoch_time: 2.2444\n",
            "Epoch 147/500\n",
            "179/179 [==============================] - 3s 16ms/step - loss: 0.0039 - accuracy: 0.9986 - val_loss: 0.0051 - val_accuracy: 0.9976 - epoch_time: 2.2388\n",
            "Epoch 148/500\n",
            "179/179 [==============================] - 2s 14ms/step - loss: 0.0035 - accuracy: 0.9989 - val_loss: 0.0124 - val_accuracy: 0.9953 - epoch_time: 2.3396\n",
            "Epoch 149/500\n",
            "179/179 [==============================] - 2s 14ms/step - loss: 0.0055 - accuracy: 0.9980 - val_loss: 0.0103 - val_accuracy: 0.9961 - epoch_time: 2.3436\n",
            "Epoch 150/500\n",
            "179/179 [==============================] - 2s 13ms/step - loss: 0.0039 - accuracy: 0.9989 - val_loss: 0.0096 - val_accuracy: 0.9964 - epoch_time: 2.3055\n",
            "Epoch 151/500\n",
            "179/179 [==============================] - 2s 14ms/step - loss: 0.0055 - accuracy: 0.9982 - val_loss: 0.0214 - val_accuracy: 0.9941 - epoch_time: 2.3384\n",
            "Epoch 152/500\n",
            "179/179 [==============================] - 2s 14ms/step - loss: 0.0040 - accuracy: 0.9985 - val_loss: 0.0114 - val_accuracy: 0.9964 - epoch_time: 2.3395\n",
            "Epoch 153/500\n",
            "179/179 [==============================] - 3s 14ms/step - loss: 0.0048 - accuracy: 0.9985 - val_loss: 0.0090 - val_accuracy: 0.9961 - epoch_time: 2.4364\n",
            "Epoch 154/500\n",
            "179/179 [==============================] - 2s 13ms/step - loss: 0.0038 - accuracy: 0.9989 - val_loss: 0.0099 - val_accuracy: 0.9976 - epoch_time: 2.2589\n",
            "Epoch 155/500\n",
            "179/179 [==============================] - 2s 13ms/step - loss: 0.0045 - accuracy: 0.9984 - val_loss: 0.0124 - val_accuracy: 0.9964 - epoch_time: 2.2286\n",
            "Epoch 156/500\n",
            "179/179 [==============================] - 2s 14ms/step - loss: 0.0036 - accuracy: 0.9986 - val_loss: 0.0080 - val_accuracy: 0.9972 - epoch_time: 2.3459\n",
            "Epoch 157/500\n",
            "179/179 [==============================] - 2s 13ms/step - loss: 0.0036 - accuracy: 0.9988 - val_loss: 0.0105 - val_accuracy: 0.9964 - epoch_time: 2.3117\n",
            "Epoch 158/500\n",
            "179/179 [==============================] - 2s 14ms/step - loss: 0.0028 - accuracy: 0.9991 - val_loss: 0.0171 - val_accuracy: 0.9961 - epoch_time: 2.3438\n",
            "Epoch 159/500\n",
            "179/179 [==============================] - 2s 13ms/step - loss: 0.0032 - accuracy: 0.9988 - val_loss: 0.0081 - val_accuracy: 0.9972 - epoch_time: 2.3004\n",
            "Epoch 160/500\n",
            "179/179 [==============================] - 2s 13ms/step - loss: 0.0028 - accuracy: 0.9988 - val_loss: 0.0127 - val_accuracy: 0.9972 - epoch_time: 2.3069\n",
            "Epoch 161/500\n",
            "179/179 [==============================] - 2s 14ms/step - loss: 0.0029 - accuracy: 0.9989 - val_loss: 0.0100 - val_accuracy: 0.9972 - epoch_time: 2.3722\n",
            "Epoch 162/500\n",
            "179/179 [==============================] - 2s 14ms/step - loss: 0.0026 - accuracy: 0.9991 - val_loss: 0.0189 - val_accuracy: 0.9972 - epoch_time: 2.3350\n",
            "Epoch 163/500\n",
            "179/179 [==============================] - 2s 13ms/step - loss: 0.0040 - accuracy: 0.9987 - val_loss: 0.0131 - val_accuracy: 0.9961 - epoch_time: 2.3026\n",
            "Epoch 164/500\n",
            "179/179 [==============================] - 2s 13ms/step - loss: 0.0022 - accuracy: 0.9992 - val_loss: 0.0152 - val_accuracy: 0.9964 - epoch_time: 2.2845\n",
            "Epoch 165/500\n",
            "179/179 [==============================] - 2s 14ms/step - loss: 0.0047 - accuracy: 0.9988 - val_loss: 0.0112 - val_accuracy: 0.9968 - epoch_time: 2.3826\n",
            "Epoch 166/500\n",
            "179/179 [==============================] - 2s 13ms/step - loss: 0.0050 - accuracy: 0.9983 - val_loss: 0.0171 - val_accuracy: 0.9961 - epoch_time: 2.2728\n",
            "Epoch 167/500\n",
            "179/179 [==============================] - 2s 13ms/step - loss: 0.0045 - accuracy: 0.9984 - val_loss: 0.0074 - val_accuracy: 0.9976 - epoch_time: 2.2485\n",
            "Epoch 168/500\n",
            "179/179 [==============================] - 2s 13ms/step - loss: 0.0030 - accuracy: 0.9990 - val_loss: 0.0093 - val_accuracy: 0.9972 - epoch_time: 2.2986\n",
            "Epoch 169/500\n",
            "179/179 [==============================] - 2s 14ms/step - loss: 0.0039 - accuracy: 0.9988 - val_loss: 0.0117 - val_accuracy: 0.9961 - epoch_time: 2.3241\n",
            "Epoch 170/500\n",
            "179/179 [==============================] - 2s 13ms/step - loss: 0.0068 - accuracy: 0.9982 - val_loss: 0.0105 - val_accuracy: 0.9961 - epoch_time: 2.3136\n",
            "Epoch 171/500\n",
            "179/179 [==============================] - 2s 14ms/step - loss: 0.0030 - accuracy: 0.9992 - val_loss: 0.0142 - val_accuracy: 0.9961 - epoch_time: 2.3605\n",
            "Epoch 172/500\n",
            "179/179 [==============================] - 3s 14ms/step - loss: 0.0041 - accuracy: 0.9985 - val_loss: 0.0081 - val_accuracy: 0.9968 - epoch_time: 2.4229\n",
            "Epoch 173/500\n",
            "179/179 [==============================] - 3s 15ms/step - loss: 0.0028 - accuracy: 0.9989 - val_loss: 0.0173 - val_accuracy: 0.9957 - epoch_time: 2.5547\n",
            "Epoch 174/500\n",
            "179/179 [==============================] - 3s 14ms/step - loss: 0.0044 - accuracy: 0.9986 - val_loss: 0.0110 - val_accuracy: 0.9968 - epoch_time: 2.4125\n",
            "Epoch 175/500\n",
            "179/179 [==============================] - 3s 14ms/step - loss: 0.0022 - accuracy: 0.9993 - val_loss: 0.0136 - val_accuracy: 0.9972 - epoch_time: 2.3974\n",
            "Epoch 176/500\n",
            "179/179 [==============================] - 2s 13ms/step - loss: 0.0026 - accuracy: 0.9993 - val_loss: 0.0179 - val_accuracy: 0.9961 - epoch_time: 2.3016\n",
            "Epoch 177/500\n",
            "179/179 [==============================] - 2s 14ms/step - loss: 0.0037 - accuracy: 0.9989 - val_loss: 0.0154 - val_accuracy: 0.9953 - epoch_time: 2.3546\n",
            "Epoch 178/500\n",
            "179/179 [==============================] - 2s 14ms/step - loss: 0.0037 - accuracy: 0.9989 - val_loss: 0.0161 - val_accuracy: 0.9968 - epoch_time: 2.3534\n",
            "Epoch 179/500\n",
            "179/179 [==============================] - 2s 14ms/step - loss: 0.0031 - accuracy: 0.9989 - val_loss: 0.0121 - val_accuracy: 0.9957 - epoch_time: 2.3639\n",
            "Epoch 180/500\n",
            "179/179 [==============================] - 2s 14ms/step - loss: 0.0023 - accuracy: 0.9994 - val_loss: 0.0167 - val_accuracy: 0.9957 - epoch_time: 2.3735\n",
            "Epoch 181/500\n",
            "179/179 [==============================] - 2s 14ms/step - loss: 0.0028 - accuracy: 0.9991 - val_loss: 0.0155 - val_accuracy: 0.9964 - epoch_time: 2.3922\n",
            "Epoch 182/500\n",
            "179/179 [==============================] - 2s 14ms/step - loss: 0.0037 - accuracy: 0.9989 - val_loss: 0.0154 - val_accuracy: 0.9949 - epoch_time: 2.3539\n",
            "Epoch 183/500\n",
            "179/179 [==============================] - 2s 13ms/step - loss: 0.0027 - accuracy: 0.9992 - val_loss: 0.0113 - val_accuracy: 0.9968 - epoch_time: 2.3083\n",
            "Epoch 184/500\n",
            "179/179 [==============================] - 3s 14ms/step - loss: 0.0022 - accuracy: 0.9992 - val_loss: 0.0108 - val_accuracy: 0.9972 - epoch_time: 2.4500\n",
            "Epoch 185/500\n",
            "179/179 [==============================] - 2s 14ms/step - loss: 0.0028 - accuracy: 0.9993 - val_loss: 0.0171 - val_accuracy: 0.9957 - epoch_time: 2.3350\n",
            "Epoch 186/500\n",
            "179/179 [==============================] - 2s 14ms/step - loss: 0.0037 - accuracy: 0.9989 - val_loss: 0.0105 - val_accuracy: 0.9961 - epoch_time: 2.3942\n",
            "Epoch 187/500\n",
            "179/179 [==============================] - 3s 14ms/step - loss: 0.0033 - accuracy: 0.9987 - val_loss: 0.0145 - val_accuracy: 0.9961 - epoch_time: 2.4044\n",
            "Epoch 188/500\n",
            "179/179 [==============================] - 2s 14ms/step - loss: 0.0093 - accuracy: 0.9964 - val_loss: 0.0123 - val_accuracy: 0.9961 - epoch_time: 2.3302\n",
            "Epoch 189/500\n",
            "179/179 [==============================] - 2s 14ms/step - loss: 0.0051 - accuracy: 0.9984 - val_loss: 0.0114 - val_accuracy: 0.9957 - epoch_time: 2.3330\n",
            "Epoch 190/500\n",
            "179/179 [==============================] - 3s 14ms/step - loss: 0.0030 - accuracy: 0.9992 - val_loss: 0.0197 - val_accuracy: 0.9961 - epoch_time: 2.4335\n",
            "Epoch 191/500\n",
            "179/179 [==============================] - 2s 14ms/step - loss: 0.0043 - accuracy: 0.9986 - val_loss: 0.0108 - val_accuracy: 0.9964 - epoch_time: 2.3452\n",
            "Epoch 192/500\n",
            "179/179 [==============================] - 2s 14ms/step - loss: 0.0018 - accuracy: 0.9994 - val_loss: 0.0138 - val_accuracy: 0.9957 - epoch_time: 2.3352\n",
            "Epoch 193/500\n",
            "179/179 [==============================] - 2s 14ms/step - loss: 0.0023 - accuracy: 0.9992 - val_loss: 0.0134 - val_accuracy: 0.9968 - epoch_time: 2.3515\n",
            "Epoch 194/500\n",
            "179/179 [==============================] - 2s 13ms/step - loss: 0.0028 - accuracy: 0.9991 - val_loss: 0.0153 - val_accuracy: 0.9972 - epoch_time: 2.2969\n",
            "Epoch 195/500\n",
            "179/179 [==============================] - 2s 13ms/step - loss: 0.0015 - accuracy: 0.9995 - val_loss: 0.0161 - val_accuracy: 0.9972 - epoch_time: 2.2907\n",
            "Epoch 196/500\n",
            "179/179 [==============================] - 2s 14ms/step - loss: 0.0051 - accuracy: 0.9982 - val_loss: 0.0114 - val_accuracy: 0.9957 - epoch_time: 2.3665\n",
            "Epoch 197/500\n",
            "179/179 [==============================] - 2s 14ms/step - loss: 0.0019 - accuracy: 0.9994 - val_loss: 0.0146 - val_accuracy: 0.9964 - epoch_time: 2.3132\n",
            "Epoch 198/500\n",
            "179/179 [==============================] - 3s 14ms/step - loss: 0.0027 - accuracy: 0.9993 - val_loss: 0.0104 - val_accuracy: 0.9968 - epoch_time: 2.4327\n",
            "Epoch 199/500\n",
            "179/179 [==============================] - 2s 14ms/step - loss: 0.0032 - accuracy: 0.9988 - val_loss: 0.0139 - val_accuracy: 0.9968 - epoch_time: 2.3386\n",
            "Epoch 200/500\n",
            "179/179 [==============================] - 2s 14ms/step - loss: 0.0027 - accuracy: 0.9992 - val_loss: 0.0173 - val_accuracy: 0.9957 - epoch_time: 2.3418\n",
            "Epoch 201/500\n",
            "179/179 [==============================] - 2s 14ms/step - loss: 0.0041 - accuracy: 0.9987 - val_loss: 0.0130 - val_accuracy: 0.9949 - epoch_time: 2.4020\n",
            "Epoch 202/500\n",
            "179/179 [==============================] - 2s 14ms/step - loss: 0.0024 - accuracy: 0.9994 - val_loss: 0.0110 - val_accuracy: 0.9964 - epoch_time: 2.3945\n",
            "Epoch 203/500\n",
            "179/179 [==============================] - 2s 14ms/step - loss: 0.0025 - accuracy: 0.9992 - val_loss: 0.0151 - val_accuracy: 0.9945 - epoch_time: 2.3284\n",
            "Epoch 204/500\n",
            "179/179 [==============================] - 2s 14ms/step - loss: 0.0032 - accuracy: 0.9991 - val_loss: 0.0130 - val_accuracy: 0.9961 - epoch_time: 2.3293\n",
            "Epoch 205/500\n",
            "179/179 [==============================] - 2s 14ms/step - loss: 0.0029 - accuracy: 0.9991 - val_loss: 0.0124 - val_accuracy: 0.9953 - epoch_time: 2.3265\n",
            "Epoch 206/500\n",
            "179/179 [==============================] - 2s 14ms/step - loss: 0.0019 - accuracy: 0.9994 - val_loss: 0.0218 - val_accuracy: 0.9941 - epoch_time: 2.3901\n",
            "Epoch 207/500\n",
            "179/179 [==============================] - 2s 14ms/step - loss: 0.0034 - accuracy: 0.9986 - val_loss: 0.0173 - val_accuracy: 0.9957 - epoch_time: 2.3321\n",
            "Epoch 208/500\n",
            "179/179 [==============================] - 2s 13ms/step - loss: 0.0024 - accuracy: 0.9993 - val_loss: 0.0157 - val_accuracy: 0.9957 - epoch_time: 2.3111\n",
            "Epoch 209/500\n",
            "179/179 [==============================] - 2s 14ms/step - loss: 0.0028 - accuracy: 0.9988 - val_loss: 0.0123 - val_accuracy: 0.9961 - epoch_time: 2.3519\n",
            "Epoch 210/500\n",
            "179/179 [==============================] - 3s 14ms/step - loss: 0.0039 - accuracy: 0.9990 - val_loss: 0.0145 - val_accuracy: 0.9953 - epoch_time: 2.4770\n",
            "Epoch 211/500\n",
            "179/179 [==============================] - 2s 14ms/step - loss: 0.0023 - accuracy: 0.9990 - val_loss: 0.0084 - val_accuracy: 0.9976 - epoch_time: 2.3761\n",
            "Epoch 212/500\n",
            "179/179 [==============================] - 2s 14ms/step - loss: 0.0031 - accuracy: 0.9987 - val_loss: 0.0146 - val_accuracy: 0.9964 - epoch_time: 2.4031\n",
            "Epoch 213/500\n",
            "179/179 [==============================] - 2s 14ms/step - loss: 0.0023 - accuracy: 0.9995 - val_loss: 0.0173 - val_accuracy: 0.9957 - epoch_time: 2.3685\n",
            "Epoch 214/500\n",
            "179/179 [==============================] - 2s 14ms/step - loss: 0.0024 - accuracy: 0.9992 - val_loss: 0.0212 - val_accuracy: 0.9953 - epoch_time: 2.3960\n",
            "Epoch 215/500\n",
            "179/179 [==============================] - 2s 13ms/step - loss: 0.0022 - accuracy: 0.9993 - val_loss: 0.0143 - val_accuracy: 0.9957 - epoch_time: 2.3021\n",
            "Epoch 216/500\n",
            "179/179 [==============================] - 2s 13ms/step - loss: 0.0016 - accuracy: 0.9996 - val_loss: 0.0429 - val_accuracy: 0.9901 - epoch_time: 2.2417\n",
            "Epoch 217/500\n",
            "179/179 [==============================] - 2s 14ms/step - loss: 0.0040 - accuracy: 0.9988 - val_loss: 0.0246 - val_accuracy: 0.9949 - epoch_time: 2.3336\n",
            "Epoch 218/500\n",
            "179/179 [==============================] - 2s 14ms/step - loss: 0.0026 - accuracy: 0.9991 - val_loss: 0.0189 - val_accuracy: 0.9945 - epoch_time: 2.4043\n",
            "Epoch 219/500\n",
            "179/179 [==============================] - 3s 14ms/step - loss: 0.0026 - accuracy: 0.9991 - val_loss: 0.0139 - val_accuracy: 0.9961 - epoch_time: 2.4722\n",
            "Epoch 220/500\n",
            "179/179 [==============================] - 3s 14ms/step - loss: 0.0029 - accuracy: 0.9993 - val_loss: 0.0072 - val_accuracy: 0.9980 - epoch_time: 2.4605\n",
            "Epoch 221/500\n",
            "179/179 [==============================] - 2s 13ms/step - loss: 0.0020 - accuracy: 0.9993 - val_loss: 0.0112 - val_accuracy: 0.9976 - epoch_time: 2.3155\n",
            "Epoch 222/500\n",
            "179/179 [==============================] - 2s 14ms/step - loss: 0.0023 - accuracy: 0.9993 - val_loss: 0.0186 - val_accuracy: 0.9953 - epoch_time: 2.3325\n",
            "Epoch 223/500\n",
            "179/179 [==============================] - 3s 14ms/step - loss: 0.0032 - accuracy: 0.9990 - val_loss: 0.0194 - val_accuracy: 0.9949 - epoch_time: 2.4207\n",
            "Epoch 224/500\n",
            "179/179 [==============================] - 2s 14ms/step - loss: 0.0036 - accuracy: 0.9987 - val_loss: 0.0134 - val_accuracy: 0.9957 - epoch_time: 2.3374\n",
            "Epoch 225/500\n",
            "179/179 [==============================] - 3s 14ms/step - loss: 0.0026 - accuracy: 0.9991 - val_loss: 0.0196 - val_accuracy: 0.9945 - epoch_time: 2.4487\n",
            "Epoch 226/500\n",
            "179/179 [==============================] - 3s 14ms/step - loss: 0.0021 - accuracy: 0.9992 - val_loss: 0.0127 - val_accuracy: 0.9968 - epoch_time: 2.4591\n",
            "Epoch 227/500\n",
            "179/179 [==============================] - 3s 15ms/step - loss: 0.0024 - accuracy: 0.9994 - val_loss: 0.0132 - val_accuracy: 0.9972 - epoch_time: 2.5086\n",
            "Epoch 228/500\n",
            "179/179 [==============================] - 3s 14ms/step - loss: 0.0023 - accuracy: 0.9990 - val_loss: 0.0128 - val_accuracy: 0.9972 - epoch_time: 2.4919\n",
            "Epoch 229/500\n",
            "179/179 [==============================] - 2s 14ms/step - loss: 0.0031 - accuracy: 0.9992 - val_loss: 0.0198 - val_accuracy: 0.9957 - epoch_time: 2.3560\n",
            "Epoch 230/500\n",
            "179/179 [==============================] - 2s 14ms/step - loss: 0.0034 - accuracy: 0.9990 - val_loss: 0.0118 - val_accuracy: 0.9961 - epoch_time: 2.4059\n",
            "Epoch 231/500\n",
            "179/179 [==============================] - 2s 14ms/step - loss: 0.0032 - accuracy: 0.9991 - val_loss: 0.0071 - val_accuracy: 0.9976 - epoch_time: 2.3566\n",
            "Epoch 232/500\n",
            "179/179 [==============================] - 2s 14ms/step - loss: 0.0023 - accuracy: 0.9995 - val_loss: 0.0082 - val_accuracy: 0.9964 - epoch_time: 2.3375\n",
            "Epoch 233/500\n",
            "179/179 [==============================] - 3s 14ms/step - loss: 0.0028 - accuracy: 0.9990 - val_loss: 0.0117 - val_accuracy: 0.9968 - epoch_time: 2.4539\n",
            "Epoch 234/500\n",
            "179/179 [==============================] - 3s 14ms/step - loss: 0.0028 - accuracy: 0.9992 - val_loss: 0.0169 - val_accuracy: 0.9957 - epoch_time: 2.4311\n",
            "Epoch 235/500\n",
            "179/179 [==============================] - 3s 14ms/step - loss: 0.0030 - accuracy: 0.9992 - val_loss: 0.0165 - val_accuracy: 0.9949 - epoch_time: 2.4279\n",
            "Epoch 236/500\n",
            "179/179 [==============================] - 3s 14ms/step - loss: 0.0025 - accuracy: 0.9992 - val_loss: 0.0192 - val_accuracy: 0.9953 - epoch_time: 2.4958\n",
            "Epoch 237/500\n",
            "179/179 [==============================] - 3s 14ms/step - loss: 0.0023 - accuracy: 0.9992 - val_loss: 0.0104 - val_accuracy: 0.9964 - epoch_time: 2.4565\n",
            "Epoch 238/500\n",
            "179/179 [==============================] - 2s 14ms/step - loss: 0.0015 - accuracy: 0.9996 - val_loss: 0.0229 - val_accuracy: 0.9953 - epoch_time: 2.3846\n",
            "Epoch 239/500\n",
            "179/179 [==============================] - 3s 14ms/step - loss: 0.0026 - accuracy: 0.9993 - val_loss: 0.0116 - val_accuracy: 0.9968 - epoch_time: 2.4898\n",
            "Epoch 240/500\n",
            "179/179 [==============================] - 3s 14ms/step - loss: 0.0021 - accuracy: 0.9994 - val_loss: 0.0103 - val_accuracy: 0.9968 - epoch_time: 2.4820\n",
            "Epoch 241/500\n",
            "179/179 [==============================] - 3s 14ms/step - loss: 0.0025 - accuracy: 0.9990 - val_loss: 0.0125 - val_accuracy: 0.9968 - epoch_time: 2.4674\n"
          ]
        }
      ]
    },
    {
      "cell_type": "code",
      "source": [
        "#plot history of model_sensor1\n",
        "history_sensor1 = pd.read_csv(model_path +\"historyLOG_Drift-0_2_dur_10_sensor1.csv\", index_col='epoch')\n",
        "history_sensor1.reset_index(drop= True, inplace= True)\n",
        "history_sensor1.head()\n",
        "print('Average Exe_time for sensor1: {} sec.'.format(round(np.mean(history_sensor1['epoch_time'].values),3)))\n"
      ],
      "metadata": {
        "colab": {
          "base_uri": "https://localhost:8080/"
        },
        "id": "3O-5mYHRoluo",
        "outputId": "6324aa9c-ca8c-429e-99c0-ab14e7117cec"
      },
      "execution_count": null,
      "outputs": [
        {
          "output_type": "stream",
          "name": "stdout",
          "text": [
            "Average Exe_time for sensor1: 2.454 sec.\n"
          ]
        }
      ]
    },
    {
      "cell_type": "code",
      "source": [
        "plt.plot( history_sensor1['loss'], 'b',label = 'loss')\n",
        "plt.plot( history_sensor1['val_loss'], 'g', label = 'val_loss')\n",
        "plt.legend()\n",
        "plt.grid()\n",
        "plt.title('loss_model_sensor1')\n",
        "plt.show()"
      ],
      "metadata": {
        "colab": {
          "base_uri": "https://localhost:8080/",
          "height": 281
        },
        "id": "qk6CGElHFQKh",
        "outputId": "6d148d96-414e-4d19-a24e-dc1a2cc8e3d2"
      },
      "execution_count": null,
      "outputs": [
        {
          "output_type": "display_data",
          "data": {
            "text/plain": [
              "<Figure size 432x288 with 1 Axes>"
            ],
            "image/png": "[encoded data removed]"
          },
          "metadata": {
            "needs_background": "light"
          }
        }
      ]
    },
    {
      "cell_type": "code",
      "source": [
        "plt.plot(history_sensor1['accuracy']* 100,'b',label = 'acc')\n",
        "plt.plot(history_sensor1['val_accuracy'] * 100,'g', label = 'val_acc')\n",
        "plt.legend()\n",
        "plt.grid()\n",
        "plt.title('accuracy_model_sensor1')\n",
        "plt.show()"
      ],
      "metadata": {
        "colab": {
          "base_uri": "https://localhost:8080/",
          "height": 281
        },
        "id": "yW2YOqyrFauE",
        "outputId": "a5bb021e-f2ba-4e7c-88f5-91fd1f030ee8"
      },
      "execution_count": null,
      "outputs": [
        {
          "output_type": "display_data",
          "data": {
            "text/plain": [
              "<Figure size 432x288 with 1 Axes>"
            ],
            "image/png": "[encoded data removed]"
          },
          "metadata": {
            "needs_background": "light"
          }
        }
      ]
    },
    {
      "cell_type": "code",
      "metadata": {
        "colab": {
          "base_uri": "https://localhost:8080/"
        },
        "id": "yiUh7YCM0q5f",
        "outputId": "a54613c6-6276-4297-d70c-f413edaf6967"
      },
      "source": [
        "history_sensor2 = pd.read_csv(model_path +\"historyLOG_Drift-0_2_dur_10_sensor2.csv\", index_col='epoch')\n",
        "history_sensor2.reset_index(drop= True, inplace= True)\n",
        "history_sensor2.head()\n",
        "print('Average Exe_time for sensor2: {} sec.'.format(round(np.mean(history_sensor2['epoch_time'].values),3)))\n"
      ],
      "execution_count": null,
      "outputs": [
        {
          "output_type": "stream",
          "name": "stdout",
          "text": [
            "Average Exe_time for sensor2: 2.361 sec.\n"
          ]
        }
      ]
    },
    {
      "cell_type": "code",
      "source": [
        "plt.plot( history_sensor2['loss'], 'b',label = 'loss')\n",
        "plt.plot( history_sensor2['val_loss'], 'g', label = 'val_loss')\n",
        "plt.legend()\n",
        "plt.grid()\n",
        "plt.title('loss_model_sensor2')\n",
        "plt.show()"
      ],
      "metadata": {
        "colab": {
          "base_uri": "https://localhost:8080/",
          "height": 281
        },
        "id": "L7pzR8UUFR-X",
        "outputId": "cc40ce1a-fe1b-43ec-f18e-b12e63fd3eda"
      },
      "execution_count": null,
      "outputs": [
        {
          "output_type": "display_data",
          "data": {
            "text/plain": [
              "<Figure size 432x288 with 1 Axes>"
            ],
            "image/png": "[encoded data removed]"
          },
          "metadata": {
            "needs_background": "light"
          }
        }
      ]
    },
    {
      "cell_type": "code",
      "source": [
        "plt.plot(history_sensor2['accuracy']* 100,'b',label = 'acc')\n",
        "plt.plot(history_sensor2['val_accuracy'] * 100,'g', label = 'val_acc')\n",
        "plt.legend()\n",
        "plt.grid()\n",
        "plt.title('accuracy_model_sensor2')\n",
        "plt.show()"
      ],
      "metadata": {
        "colab": {
          "base_uri": "https://localhost:8080/",
          "height": 281
        },
        "id": "ThBgZzV2Finr",
        "outputId": "f62d60d0-c62e-4428-ce73-0e98f4da7ee2"
      },
      "execution_count": null,
      "outputs": [
        {
          "output_type": "display_data",
          "data": {
            "text/plain": [
              "<Figure size 432x288 with 1 Axes>"
            ],
            "image/png": "[encoded data removed]"
          },
          "metadata": {
            "needs_background": "light"
          }
        }
      ]
    },
    {
      "cell_type": "code",
      "metadata": {
        "colab": {
          "base_uri": "https://localhost:8080/"
        },
        "id": "xZQRze500qd5",
        "outputId": "4908ed64-fe4d-4c81-817a-3e7bd8c322c5"
      },
      "source": [
        "history_sensor3 = pd.read_csv(model_path +\"historyLOG_Drift-0_2_dur_10_sensor3.csv\", index_col='epoch')\n",
        "history_sensor3.reset_index(drop= True, inplace= True)\n",
        "history_sensor3.head()\n",
        "print('Average Exe_time for sensor3: {} sec.'.format(round(np.mean(history_sensor3['epoch_time'].values),3)))\n"
      ],
      "execution_count": null,
      "outputs": [
        {
          "output_type": "stream",
          "name": "stdout",
          "text": [
            "Average Exe_time for sensor3: 2.35 sec.\n"
          ]
        }
      ]
    },
    {
      "cell_type": "code",
      "metadata": {
        "id": "swXRfIlAX0pF",
        "colab": {
          "base_uri": "https://localhost:8080/",
          "height": 281
        },
        "outputId": "0a6970da-396d-4e98-8c6a-97faf1482224"
      },
      "source": [
        "plt.plot( history_sensor3['loss'], 'b',label = 'loss')\n",
        "plt.plot( history_sensor3['val_loss'], 'g', label = 'val_loss')\n",
        "plt.legend()\n",
        "plt.grid()\n",
        "plt.title('loss_model_sensor3')\n",
        "plt.show()"
      ],
      "execution_count": null,
      "outputs": [
        {
          "output_type": "display_data",
          "data": {
            "text/plain": [
              "<Figure size 432x288 with 1 Axes>"
            ],
            "image/png": "[encoded data removed]"
          },
          "metadata": {
            "needs_background": "light"
          }
        }
      ]
    },
    {
      "cell_type": "code",
      "source": [
        "plt.plot(history_sensor3['accuracy']* 100,'b',label = 'acc')\n",
        "plt.plot(history_sensor3['val_accuracy'] * 100,'g', label = 'val_acc')\n",
        "plt.legend()\n",
        "plt.grid()\n",
        "plt.title('accuracy_model_sensor3')\n",
        "plt.show()"
      ],
      "metadata": {
        "colab": {
          "base_uri": "https://localhost:8080/",
          "height": 281
        },
        "id": "Uzl-v65bFtOj",
        "outputId": "c4dcf8fb-da88-4b28-c9a0-c6d67389fe6b"
      },
      "execution_count": null,
      "outputs": [
        {
          "output_type": "display_data",
          "data": {
            "text/plain": [
              "<Figure size 432x288 with 1 Axes>"
            ],
            "image/png": "[encoded data removed]"
          },
          "metadata": {
            "needs_background": "light"
          }
        }
      ]
    },
    {
      "cell_type": "code",
      "source": [
        "#last model_sensor1 evaluation\n",
        "test_loss, test_acc = model_sensor1.evaluate( X_test_sensor1, y_test_sensor1, verbose= 1)\n",
        "print('test accuracy :{:.1%} \\n test loss :{:.3}'.format(test_acc, test_loss))"
      ],
      "metadata": {
        "colab": {
          "base_uri": "https://localhost:8080/"
        },
        "id": "r9txKKt8GPES",
        "outputId": "db470164-de14-485c-fb79-4726d2230213"
      },
      "execution_count": null,
      "outputs": [
        {
          "output_type": "stream",
          "name": "stdout",
          "text": [
            "140/140 [==============================] - 1s 6ms/step - loss: 3.0558e-04 - accuracy: 0.9998\n",
            "test accuracy :100.0% \n",
            " test loss :0.000306\n"
          ]
        }
      ]
    },
    {
      "cell_type": "code",
      "source": [
        "#last model_sensor2 evaluation\n",
        "test_loss, test_acc = model_sensor2.evaluate( X_test_sensor2, y_test_sensor2, verbose= 1)\n",
        "print('test accuracy :{:.1%} \\n test loss :{:.3}'.format(test_acc, test_loss))"
      ],
      "metadata": {
        "colab": {
          "base_uri": "https://localhost:8080/"
        },
        "id": "adROowiPGPtE",
        "outputId": "df93469a-6825-422e-a9b7-905b20b16ea9"
      },
      "execution_count": null,
      "outputs": [
        {
          "output_type": "stream",
          "name": "stdout",
          "text": [
            "140/140 [==============================] - 1s 6ms/step - loss: 0.0046 - accuracy: 0.9991\n",
            "test accuracy :99.9% \n",
            " test loss :0.00458\n"
          ]
        }
      ]
    },
    {
      "cell_type": "code",
      "source": [
        "#last model_sensor3 evaluation\n",
        "test_loss, test_acc = model_sensor3.evaluate( X_test_sensor3, y_test_sensor3, verbose= 1)\n",
        "print('test accuracy :{:.1%} \\n test loss :{:.3}'.format(test_acc, test_loss))"
      ],
      "metadata": {
        "colab": {
          "base_uri": "https://localhost:8080/"
        },
        "id": "AFoZDmx4GP5u",
        "outputId": "733b8959-22f0-46ca-c19e-49cbf8e20958"
      },
      "execution_count": null,
      "outputs": [
        {
          "output_type": "stream",
          "name": "stdout",
          "text": [
            "140/140 [==============================] - 1s 5ms/step - loss: 0.0219 - accuracy: 0.9951\n",
            "test accuracy :99.5% \n",
            " test loss :0.0219\n"
          ]
        }
      ]
    },
    {
      "cell_type": "code",
      "source": [
        "y_pred_sensor1 = model_sensor1.predict( X_test_sensor1, verbose= 1)\n",
        "y_pred_sensor2 = model_sensor2.predict( X_test_sensor2, verbose= 1)\n",
        "y_pred_sensor3 = model_sensor3.predict( X_test_sensor3, verbose= 1)"
      ],
      "metadata": {
        "colab": {
          "base_uri": "https://localhost:8080/"
        },
        "id": "STn_XkCZGP7k",
        "outputId": "43777e42-a084-4d55-ddfd-4478d20cc131"
      },
      "execution_count": null,
      "outputs": [
        {
          "output_type": "stream",
          "name": "stdout",
          "text": [
            "140/140 [==============================] - 2s 4ms/step\n",
            "140/140 [==============================] - 2s 4ms/step\n",
            "140/140 [==============================] - 2s 5ms/step\n"
          ]
        }
      ]
    },
    {
      "cell_type": "code",
      "source": [
        "y_pred_sensor1 = [np.argmax(i) for i in y_pred_sensor1]\n",
        "y_pred_sensor2 = [np.argmax(i) for i in y_pred_sensor2]\n",
        "y_pred_sensor3 = [np.argmax(i) for i in y_pred_sensor3]"
      ],
      "metadata": {
        "id": "WCLRF8ySGP-y"
      },
      "execution_count": null,
      "outputs": []
    },
    {
      "cell_type": "code",
      "source": [
        "y_pred_total = []\n",
        "for i in range(len(y_pred_sensor1)):\n",
        "  y_pred_total.append( y_pred_sensor1[i] or y_pred_sensor2[i] or y_pred_sensor3[i])"
      ],
      "metadata": {
        "id": "anY5RdokHE_1"
      },
      "execution_count": null,
      "outputs": []
    },
    {
      "cell_type": "code",
      "source": [
        "assert(len(y_pred_total) == len(y_pred_sensor1))"
      ],
      "metadata": {
        "id": "afksljyBHFMW"
      },
      "execution_count": null,
      "outputs": []
    },
    {
      "cell_type": "code",
      "source": [
        "y_test_sensor1 = [np.argmax(i) for i in y_test_sensor1]\n",
        "y_test_sensor2 = [np.argmax(i) for i in y_test_sensor2]\n",
        "y_test_sensor3 = [np.argmax(i) for i in y_test_sensor3]"
      ],
      "metadata": {
        "id": "9NrwBh01HMgQ"
      },
      "execution_count": null,
      "outputs": []
    },
    {
      "cell_type": "code",
      "source": [
        "y_test_total = []\n",
        "for i in range(len(y_test_sensor1)):\n",
        "  y_test_total.append(y_test_sensor1[i] or y_test_sensor2[i] or y_test_sensor3[i])"
      ],
      "metadata": {
        "id": "lRweEKazHMsx"
      },
      "execution_count": null,
      "outputs": []
    },
    {
      "cell_type": "code",
      "source": [
        "print(\"Sensor 1 performanace:\")\n",
        "recall = recall_score(y_test_sensor1, y_pred_sensor1, average='micro')\n",
        "print('recall score : {:.2%}\\n'.format(recall ))\n",
        "\n",
        "precision = precision_score(y_test_sensor1, y_pred_sensor1, average='micro')\n",
        "print('precision score: {:.2%}\\n'.format(precision ))\n",
        "\n",
        "f1 = f1_score(y_test_sensor1, y_pred_sensor1, average='micro')\n",
        "print(\"F1 score: {:.2%}\\n\".format(f1 ))\n",
        "\n",
        "accuracy = accuracy_score(y_test_sensor1, y_pred_sensor1)\n",
        "print(\"accuracy score: {:.2%}\\n\".format(accuracy))"
      ],
      "metadata": {
        "colab": {
          "base_uri": "https://localhost:8080/"
        },
        "id": "3oCJphJZHMuN",
        "outputId": "f38ef274-3a68-40a9-8b60-9a911726f40d"
      },
      "execution_count": null,
      "outputs": [
        {
          "output_type": "stream",
          "name": "stdout",
          "text": [
            "Sensor 1 performanace:\n",
            "recall score : 99.98%\n",
            "\n",
            "precision score: 99.98%\n",
            "\n",
            "F1 score: 99.98%\n",
            "\n",
            "accuracy score: 99.98%\n",
            "\n"
          ]
        }
      ]
    },
    {
      "cell_type": "code",
      "source": [
        "print(\"Sensor 2 performanace:\")\n",
        "recall = recall_score(y_test_sensor2, y_pred_sensor2, average='micro')\n",
        "print('recall score : {:.2%}\\n'.format(recall ))\n",
        "\n",
        "precision = precision_score(y_test_sensor2, y_pred_sensor2, average='micro')\n",
        "print('precision score: {:.2%}\\n'.format(precision ))\n",
        "\n",
        "f1 = f1_score(y_test_sensor2, y_pred_sensor2, average='micro')\n",
        "print(\"F1 score: {:.2%}\\n\".format(f1 ))\n",
        "\n",
        "accuracy = accuracy_score(y_test_sensor2, y_pred_sensor2)\n",
        "print(\"accuracy score: {:.2%}\\n\".format(accuracy))"
      ],
      "metadata": {
        "colab": {
          "base_uri": "https://localhost:8080/"
        },
        "id": "Lm9vlS19HMxS",
        "outputId": "2198ce13-374c-4568-82f0-9b38a468bd05"
      },
      "execution_count": null,
      "outputs": [
        {
          "output_type": "stream",
          "name": "stdout",
          "text": [
            "Sensor 2 performanace:\n",
            "recall score : 99.91%\n",
            "\n",
            "precision score: 99.91%\n",
            "\n",
            "F1 score: 99.91%\n",
            "\n",
            "accuracy score: 99.91%\n",
            "\n"
          ]
        }
      ]
    },
    {
      "cell_type": "code",
      "source": [
        "print(\"Sensor 3 performanace:\")\n",
        "recall = recall_score(y_test_sensor3, y_pred_sensor3, average='micro')\n",
        "print('recall score : {:.2%}\\n'.format(recall ))\n",
        "\n",
        "precision = precision_score(y_test_sensor3, y_pred_sensor3, average='micro')\n",
        "print('precision score: {:.2%}\\n'.format(precision ))\n",
        "\n",
        "f1 = f1_score(y_test_sensor3, y_pred_sensor3, average='micro')\n",
        "print(\"F1 score: {:.2%}\\n\".format(f1 ))\n",
        "\n",
        "accuracy = accuracy_score(y_test_sensor3, y_pred_sensor3)\n",
        "print(\"accuracy score: {:.2%}\\n\".format(accuracy))"
      ],
      "metadata": {
        "colab": {
          "base_uri": "https://localhost:8080/"
        },
        "id": "klF4enFMHaV1",
        "outputId": "359bea2a-4910-49b9-dd75-7faee59b5454"
      },
      "execution_count": null,
      "outputs": [
        {
          "output_type": "stream",
          "name": "stdout",
          "text": [
            "Sensor 3 performanace:\n",
            "recall score : 99.51%\n",
            "\n",
            "precision score: 99.51%\n",
            "\n",
            "F1 score: 99.51%\n",
            "\n",
            "accuracy score: 99.51%\n",
            "\n"
          ]
        }
      ]
    },
    {
      "cell_type": "code",
      "source": [
        "print(\"All Sensors performanace:\\n\")\n",
        "\n",
        "recall = recall_score(y_test_total, y_pred_total, average='micro')\n",
        "print('recall score : {:.2%}\\n'.format(recall ))\n",
        "\n",
        "precision = precision_score(y_test_total, y_pred_total, average='micro')\n",
        "print('precision score: {:.2%}\\n'.format(precision ))\n",
        "\n",
        "f1 = f1_score(y_test_total, y_pred_total, average='micro')\n",
        "print(\"F1 score: {:.2%}\\n\".format(f1 ))\n",
        "\n",
        "accuracy = accuracy_score(y_test_total, y_pred_total)\n",
        "print(\"accuracy score: {:.2%}\\n\".format(accuracy))"
      ],
      "metadata": {
        "colab": {
          "base_uri": "https://localhost:8080/"
        },
        "id": "EIlCvZWhHg9S",
        "outputId": "de37cba3-a2e2-4693-bf21-c1319d87266b"
      },
      "execution_count": null,
      "outputs": [
        {
          "output_type": "stream",
          "name": "stdout",
          "text": [
            "All Sensors performanace:\n",
            "\n",
            "recall score : 99.78%\n",
            "\n",
            "precision score: 99.78%\n",
            "\n",
            "F1 score: 99.78%\n",
            "\n",
            "accuracy score: 99.78%\n",
            "\n"
          ]
        }
      ]
    },
    {
      "cell_type": "code",
      "source": [
        "print(\"All Sensors performanace:\\n\")\n",
        "\n",
        "recall = recall_score(y_test_total, y_pred_total, average='macro')\n",
        "print('recall score : {:.2%}\\n'.format(recall ))\n",
        "\n",
        "precision = precision_score(y_test_total, y_pred_total, average='macro')\n",
        "print('precision score: {:.2%}\\n'.format(precision ))\n",
        "\n",
        "f1 = f1_score(y_test_total, y_pred_total, average='macro')\n",
        "print(\"F1 score: {:.2%}\\n\".format(f1 ))\n",
        "\n",
        "accuracy = accuracy_score(y_test_total, y_pred_total)\n",
        "print(\"accuracy score: {:.2%}\\n\".format(accuracy))"
      ],
      "metadata": {
        "colab": {
          "base_uri": "https://localhost:8080/"
        },
        "id": "j5CsF4AQHiEs",
        "outputId": "4fd097e3-bd92-45bc-a9de-de0198197777"
      },
      "execution_count": null,
      "outputs": [
        {
          "output_type": "stream",
          "name": "stdout",
          "text": [
            "All Sensors performanace:\n",
            "\n",
            "recall score : 99.72%\n",
            "\n",
            "precision score: 99.80%\n",
            "\n",
            "F1 score: 99.76%\n",
            "\n",
            "accuracy score: 99.78%\n",
            "\n"
          ]
        }
      ]
    },
    {
      "cell_type": "code",
      "source": [
        "conf = confusion_matrix(y_test_total, y_pred_total, labels=[1,0])\n",
        "conf_df = pd.DataFrame(conf, columns= [1,0], index= [1,0])\n",
        "conf_df"
      ],
      "metadata": {
        "colab": {
          "base_uri": "https://localhost:8080/",
          "height": 112
        },
        "id": "d1gGHBdzHlkV",
        "outputId": "75164059-17bb-43af-b6cc-5214796e3cef"
      },
      "execution_count": null,
      "outputs": [
        {
          "output_type": "execute_result",
          "data": {
            "text/plain": [
              "      1     0\n",
              "1  2855     2\n",
              "0     8  1604"
            ],
            "text/html": [
              "\n",
              "  <div id=\"df-6d0a54d6-c7b3-46e3-ae29-f46ec1aeff14\">\n",
              "    <div class=\"colab-df-container\">\n",
              "      <div>\n",
              "<style scoped>\n",
              "    .dataframe tbody tr th:only-of-type {\n",
              "        vertical-align: middle;\n",
              "    }\n",
              "\n",
              "    .dataframe tbody tr th {\n",
              "        vertical-align: top;\n",
              "    }\n",
              "\n",
              "    .dataframe thead th {\n",
              "        text-align: right;\n",
              "    }\n",
              "</style>\n",
              "<table border=\"1\" class=\"dataframe\">\n",
              "  <thead>\n",
              "    <tr style=\"text-align: right;\">\n",
              "      <th></th>\n",
              "      <th>1</th>\n",
              "      <th>0</th>\n",
              "    </tr>\n",
              "  </thead>\n",
              "  <tbody>\n",
              "    <tr>\n",
              "      <th>1</th>\n",
              "      <td>2855</td>\n",
              "      <td>2</td>\n",
              "    </tr>\n",
              "    <tr>\n",
              "      <th>0</th>\n",
              "      <td>8</td>\n",
              "      <td>1604</td>\n",
              "    </tr>\n",
              "  </tbody>\n",
              "</table>\n",
              "</div>\n",
              "      <button class=\"colab-df-convert\" onclick=\"convertToInteractive('df-6d0a54d6-c7b3-46e3-ae29-f46ec1aeff14')\"\n",
              "              title=\"Convert this dataframe to an interactive table.\"\n",
              "              style=\"display:none;\">\n",
              "        \n",
              "  <svg xmlns=\"http://www.w3.org/2000/svg\" height=\"24px\"viewBox=\"0 0 24 24\"\n",
              "       width=\"24px\">\n",
              "    <path d=\"M0 0h24v24H0V0z\" fill=\"none\"/>\n",
              "    <path d=\"M18.56 5.44l.94 2.06.94-2.06 2.06-.94-2.06-.94-.94-2.06-.94 2.06-2.06.94zm-11 1L8.5 8.5l.94-2.06 2.06-.94-2.06-.94L8.5 2.5l-.94 2.06-2.06.94zm10 10l.94 2.06.94-2.06 2.06-.94-2.06-.94-.94-2.06-.94 2.06-2.06.94z\"/><path d=\"M17.41 7.96l-1.37-1.37c-.4-.4-.92-.59-1.43-.59-.52 0-1.04.2-1.43.59L10.3 9.45l-7.72 7.72c-.78.78-.78 2.05 0 2.83L4 21.41c.39.39.9.59 1.41.59.51 0 1.02-.2 1.41-.59l7.78-7.78 2.81-2.81c.8-.78.8-2.07 0-2.86zM5.41 20L4 18.59l7.72-7.72 1.47 1.35L5.41 20z\"/>\n",
              "  </svg>\n",
              "      </button>\n",
              "      \n",
              "  <style>\n",
              "    .colab-df-container {\n",
              "      display:flex;\n",
              "      flex-wrap:wrap;\n",
              "      gap: 12px;\n",
              "    }\n",
              "\n",
              "    .colab-df-convert {\n",
              "      background-color: #E8F0FE;\n",
              "      border: none;\n",
              "      border-radius: 50%;\n",
              "      cursor: pointer;\n",
              "      display: none;\n",
              "      fill: #1967D2;\n",
              "      height: 32px;\n",
              "      padding: 0 0 0 0;\n",
              "      width: 32px;\n",
              "    }\n",
              "\n",
              "    .colab-df-convert:hover {\n",
              "      background-color: #E2EBFA;\n",
              "      box-shadow: 0px 1px 2px rgba(60, 64, 67, 0.3), 0px 1px 3px 1px rgba(60, 64, 67, 0.15);\n",
              "      fill: #174EA6;\n",
              "    }\n",
              "\n",
              "    [theme=dark] .colab-df-convert {\n",
              "      background-color: #3B4455;\n",
              "      fill: #D2E3FC;\n",
              "    }\n",
              "\n",
              "    [theme=dark] .colab-df-convert:hover {\n",
              "      background-color: #434B5C;\n",
              "      box-shadow: 0px 1px 3px 1px rgba(0, 0, 0, 0.15);\n",
              "      filter: drop-shadow(0px 1px 2px rgba(0, 0, 0, 0.3));\n",
              "      fill: #FFFFFF;\n",
              "    }\n",
              "  </style>\n",
              "\n",
              "      <script>\n",
              "        const buttonEl =\n",
              "          document.querySelector('#df-6d0a54d6-c7b3-46e3-ae29-f46ec1aeff14 button.colab-df-convert');\n",
              "        buttonEl.style.display =\n",
              "          google.colab.kernel.accessAllowed ? 'block' : 'none';\n",
              "\n",
              "        async function convertToInteractive(key) {\n",
              "          const element = document.querySelector('#df-6d0a54d6-c7b3-46e3-ae29-f46ec1aeff14');\n",
              "          const dataTable =\n",
              "            await google.colab.kernel.invokeFunction('convertToInteractive',\n",
              "                                                     [key], {});\n",
              "          if (!dataTable) return;\n",
              "\n",
              "          const docLinkHtml = 'Like what you see? Visit the ' +\n",
              "            '<a target=\"_blank\" href=https://colab.research.google.com/notebooks/data_table.ipynb>data table notebook</a>'\n",
              "            + ' to learn more about interactive tables.';\n",
              "          element.innerHTML = '';\n",
              "          dataTable['output_type'] = 'display_data';\n",
              "          await google.colab.output.renderOutput(dataTable, element);\n",
              "          const docLink = document.createElement('div');\n",
              "          docLink.innerHTML = docLinkHtml;\n",
              "          element.appendChild(docLink);\n",
              "        }\n",
              "      </script>\n",
              "    </div>\n",
              "  </div>\n",
              "  "
            ]
          },
          "metadata": {},
          "execution_count": 75
        }
      ]
    }
  ]
}